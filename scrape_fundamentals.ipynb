{
 "cells": [
  {
   "cell_type": "markdown",
   "id": "8c508d9c",
   "metadata": {},
   "source": [
    "## Extract Fundamental Data from Yahoo Finance"
   ]
  },
  {
   "cell_type": "markdown",
   "id": "c32963f4",
   "metadata": {},
   "source": [
    "### Import Libraries"
   ]
  },
  {
   "cell_type": "code",
   "execution_count": 1,
   "id": "637fa693",
   "metadata": {
    "execution": {
     "iopub.execute_input": "2025-05-29T14:19:30.844327Z",
     "iopub.status.busy": "2025-05-29T14:19:30.843862Z",
     "iopub.status.idle": "2025-05-29T14:19:31.309916Z",
     "shell.execute_reply": "2025-05-29T14:19:31.309174Z"
    }
   },
   "outputs": [],
   "source": [
    "from py.fetch_fundamentals import fetch_fundamental_data\n",
    "\n",
    "import nest_asyncio\n",
    "nest_asyncio.apply()\n",
    "\n",
    "from datetime import datetime, timedelta\n",
    "import pandas as pd\n",
    "from pandas.tseries.offsets import BDay\n",
    "import warnings\n",
    "warnings.filterwarnings(\"ignore\")\n",
    "\n",
    "# Time Range\n",
    "end_date = datetime.today()"
   ]
  },
  {
   "cell_type": "markdown",
   "id": "a32027f8",
   "metadata": {},
   "source": [
    "### Stocks"
   ]
  },
  {
   "cell_type": "code",
   "execution_count": 2,
   "id": "b81532ff",
   "metadata": {
    "execution": {
     "iopub.execute_input": "2025-05-29T14:19:31.313931Z",
     "iopub.status.busy": "2025-05-29T14:19:31.313322Z",
     "iopub.status.idle": "2025-05-29T14:20:32.333799Z",
     "shell.execute_reply": "2025-05-29T14:20:32.332598Z"
    }
   },
   "outputs": [
    {
     "name": "stdout",
     "output_type": "stream",
     "text": [
      "All tickers already have data for 2025-05-29. Skipping download.\n",
      "Using existing data from data/fundamentals_stock.csv\n"
     ]
    }
   ],
   "source": [
    "tickers_file = 'data/tickers_sp_500.txt'\n",
    "with open(tickers_file, 'r') as f:\n",
    "    tickers = [line.strip() for line in f if line.strip()]\n",
    "\n",
    "# Replace '.' with '-' for Yahoo Finance compatibility\n",
    "tickers = [t.replace('.', '-') for t in tickers]\n",
    "tickers = list(dict.fromkeys(tickers))  # Remove duplicates\n",
    "\n",
    "data_output = 'data/fundamentals_stock.csv'\n",
    "\n",
    "# Get fundamental data\n",
    "fundamentals_df = fetch_fundamental_data(\n",
    "    tickers, \n",
    "    date=end_date, \n",
    "    data_file=data_output\n",
    ")"
   ]
  },
  {
   "cell_type": "markdown",
   "id": "58fc1ac6",
   "metadata": {},
   "source": [
    "### Benchmark"
   ]
  },
  {
   "cell_type": "code",
   "execution_count": 3,
   "id": "b569516d",
   "metadata": {
    "execution": {
     "iopub.execute_input": "2025-05-29T14:20:32.336536Z",
     "iopub.status.busy": "2025-05-29T14:20:32.335999Z",
     "iopub.status.idle": "2025-05-29T14:21:39.249959Z",
     "shell.execute_reply": "2025-05-29T14:21:39.248803Z"
    }
   },
   "outputs": [
    {
     "name": "stdout",
     "output_type": "stream",
     "text": [
      "Found 71 tickers with empty sector data that will be updated:\n",
      "- AGZ (empty sector data)\n",
      "- ATMP (empty sector data)\n",
      "- BAB (empty sector data)\n",
      "- BIV (empty sector data)\n",
      "- BSJP (empty sector data)\n",
      "- CMBS (empty sector data)\n",
      "- CORP (empty sector data)\n",
      "- FCAL (empty sector data)\n",
      "- FLMI (empty sector data)\n",
      "- FLOT (empty sector data)\n",
      "- FLRN (empty sector data)\n",
      "- FLTR (empty sector data)\n",
      "- FMB (empty sector data)\n",
      "- FMHI (empty sector data)\n",
      "- FPEI (empty sector data)\n",
      "- FSMB (empty sector data)\n",
      "- FTGC (empty sector data)\n",
      "- FTSD (empty sector data)\n",
      "- GLD (empty sector data)\n",
      "- GOVI (empty sector data)\n",
      "- HMOP (empty sector data)\n",
      "- HTAB (empty sector data)\n",
      "- HYHG (empty sector data)\n",
      "- HYUP (empty sector data)\n",
      "- IAU (empty sector data)\n",
      "- IBD (empty sector data)\n",
      "- IEF (empty sector data)\n",
      "- IEI (empty sector data)\n",
      "- IGBH (empty sector data)\n",
      "- IGEB (empty sector data)\n",
      "- IGHG (empty sector data)\n",
      "- IGIB (empty sector data)\n",
      "- IGSB (empty sector data)\n",
      "- JMBS (empty sector data)\n",
      "- JMST (empty sector data)\n",
      "- KORP (empty sector data)\n",
      "- LGOV (empty sector data)\n",
      "- LKOR (empty sector data)\n",
      "- LMBS (empty sector data)\n",
      "- LQDH (empty sector data)\n",
      "- MBSD (empty sector data)\n",
      "- MEAR (empty sector data)\n",
      "- MMIT (empty sector data)\n",
      "- PULS (empty sector data)\n",
      "- SCHO (empty sector data)\n",
      "- SCHP (empty sector data)\n",
      "- SCHR (empty sector data)\n",
      "- SDCI (empty sector data)\n",
      "- SHYL (empty sector data)\n",
      "- SKOR (empty sector data)\n",
      "- SLQD (empty sector data)\n",
      "- SMMU (empty sector data)\n",
      "- SPIB (empty sector data)\n",
      "- SPLB (empty sector data)\n",
      "- SPSB (empty sector data)\n",
      "- SPTI (empty sector data)\n",
      "- SPTS (empty sector data)\n",
      "- STIP (empty sector data)\n",
      "- TAXF (empty sector data)\n",
      "- TDTF (empty sector data)\n",
      "- TLH (empty sector data)\n",
      "- USCI (empty sector data)\n",
      "- USTB (empty sector data)\n",
      "- VCIT (empty sector data)\n",
      "- VCLT (empty sector data)\n",
      "- VCSH (empty sector data)\n",
      "- VGIT (empty sector data)\n",
      "- VGSH (empty sector data)\n",
      "- VRIG (empty sector data)\n",
      "- VTIP (empty sector data)\n",
      "- WINC (empty sector data)\n",
      "Found 11 outdated or missing tickers:\n",
      "- EMMF (last date: 2025-05-26)\n",
      "- FXU (last date: 2025-05-26)\n",
      "- GII (last date: 2025-05-26)\n",
      "- ITA (last date: 2025-05-26)\n",
      "- KBWP (last date: 2025-05-26)\n",
      "- MFLX (last date: 2025-05-26)\n",
      "- RSPU (last date: 2025-05-26)\n",
      "- VOO (last date: 2025-05-26)\n",
      "- WTMF (last date: 2025-05-26)\n",
      "- XLB (last date: 2025-05-26)\n",
      "- YYY (last date: 2025-05-26)\n",
      "Will update the 82 ticker(s)\n",
      "Fetching data for 82 ticker(s)\n",
      "Processing batch 1/1 (82 tickers)\n"
     ]
    },
    {
     "name": "stderr",
     "output_type": "stream",
     "text": [
      "100%|██████████| 82/82 [00:09<00:00,  8.77it/s]\n"
     ]
    },
    {
     "name": "stdout",
     "output_type": "stream",
     "text": [
      "Updated data for 82 ticker(s)\n"
     ]
    }
   ],
   "source": [
    "tickers_file = 'data/tickers_benchmark.txt'\n",
    "with open(tickers_file, 'r') as f:\n",
    "    tickers = [line.strip() for line in f if line.strip()]\n",
    "\n",
    "# Replace '.' with '-' for Yahoo Finance compatibility\n",
    "tickers = [t.replace('.', '-') for t in tickers]\n",
    "tickers = list(dict.fromkeys(tickers))  # Remove duplicates\n",
    "\n",
    "data_output = 'data/fundamentals_benchmark.csv'\n",
    "\n",
    "# Get fundamental data with Sectors\n",
    "fundamentals_df = fetch_fundamental_data(\n",
    "    tickers, \n",
    "    date=end_date, \n",
    "    data_file=data_output,\n",
    "    fetch_sectors=True\n",
    ")"
   ]
  },
  {
   "cell_type": "markdown",
   "id": "2c2c2018",
   "metadata": {},
   "source": [
    "### Sectors"
   ]
  },
  {
   "cell_type": "code",
   "execution_count": 4,
   "id": "0714d878",
   "metadata": {
    "execution": {
     "iopub.execute_input": "2025-05-29T14:21:39.252619Z",
     "iopub.status.busy": "2025-05-29T14:21:39.252156Z",
     "iopub.status.idle": "2025-05-29T14:21:39.255816Z",
     "shell.execute_reply": "2025-05-29T14:21:39.255114Z"
    }
   },
   "outputs": [],
   "source": [
    "sectors = [\n",
    "    'XLE',\n",
    "    'CLF',\n",
    "    'XLF',\n",
    "    'GDX'\n",
    "]"
   ]
  }
 ],
 "metadata": {
  "kernelspec": {
   "display_name": ".venv",
   "language": "python",
   "name": "python3"
  },
  "language_info": {
   "codemirror_mode": {
    "name": "ipython",
    "version": 3
   },
   "file_extension": ".py",
   "mimetype": "text/x-python",
   "name": "python",
   "nbconvert_exporter": "python",
   "pygments_lexer": "ipython3",
   "version": "3.13.3"
  }
 },
 "nbformat": 4,
 "nbformat_minor": 5
}
