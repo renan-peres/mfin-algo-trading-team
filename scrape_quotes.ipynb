{
 "cells": [
  {
   "cell_type": "markdown",
   "id": "8c508d9c",
   "metadata": {},
   "source": [
    "## Extract Historical Stock Data from Yahoo Finance (openBB)"
   ]
  },
  {
   "cell_type": "markdown",
   "id": "c32963f4",
   "metadata": {},
   "source": [
    "### Import Libraries"
   ]
  },
  {
   "cell_type": "code",
   "execution_count": 1,
   "id": "637fa693",
   "metadata": {
    "execution": {
     "iopub.execute_input": "2025-05-29T21:09:46.905440Z",
     "iopub.status.busy": "2025-05-29T21:09:46.905308Z",
     "iopub.status.idle": "2025-05-29T21:09:50.899087Z",
     "shell.execute_reply": "2025-05-29T21:09:50.898576Z"
    }
   },
   "outputs": [],
   "source": [
    "import sys\n",
    "import os\n",
    "from py.fetch_price_history import fetch_price_history_openbb      \n",
    "\n",
    "import pandas as pd\n",
    "import logging\n",
    "from dotenv import load_dotenv\n",
    "\n",
    "load_dotenv()\n",
    "\n",
    "from openbb import obb\n",
    "import polars as pl\n",
    "obb.user.credentials.fmp_api_key = os.getenv(\"FMP_API_KEY\")"
   ]
  },
  {
   "cell_type": "markdown",
   "id": "ec799a43",
   "metadata": {},
   "source": [
    "### Define Variables"
   ]
  },
  {
   "cell_type": "code",
   "execution_count": 2,
   "id": "52bd232c",
   "metadata": {
    "execution": {
     "iopub.execute_input": "2025-05-29T21:09:50.901760Z",
     "iopub.status.busy": "2025-05-29T21:09:50.901612Z",
     "iopub.status.idle": "2025-05-29T21:09:50.905616Z",
     "shell.execute_reply": "2025-05-29T21:09:50.905103Z"
    }
   },
   "outputs": [
    {
     "name": "stdout",
     "output_type": "stream",
     "text": [
      "Date Range: 2015-05-31 to 2025-05-28\n",
      "Time span: 3650 days (10.00 years)\n"
     ]
    }
   ],
   "source": [
    "from pandas.tseries.offsets import BDay\n",
    "from datetime import datetime, timedelta\n",
    "\n",
    "# Time Range adjustment\n",
    "end_date = (datetime.today() - BDay(1)).to_pydatetime()  # Last business day\n",
    "start_date = end_date - timedelta(days=10*365)  # 10 years of data\n",
    "\n",
    "# Convert datetime objects to Unix timestamps (seconds since Jan 1, 1970)\n",
    "start_timestamp = int(start_date.timestamp())\n",
    "end_timestamp = int(end_date.timestamp())\n",
    "\n",
    "# Print the date range\n",
    "days_difference = (end_date - start_date).days\n",
    "print(f\"Date Range: {start_date.strftime('%Y-%m-%d')} to {end_date.strftime('%Y-%m-%d')}\")\n",
    "print(f\"Time span: {days_difference} days ({days_difference/365:.2f} years)\")"
   ]
  },
  {
   "cell_type": "markdown",
   "id": "a32027f8",
   "metadata": {},
   "source": [
    "### Stocks"
   ]
  },
  {
   "cell_type": "code",
   "execution_count": 3,
   "id": "b81532ff",
   "metadata": {
    "execution": {
     "iopub.execute_input": "2025-05-29T21:09:50.907663Z",
     "iopub.status.busy": "2025-05-29T21:09:50.907494Z",
     "iopub.status.idle": "2025-05-29T21:09:53.063903Z",
     "shell.execute_reply": "2025-05-29T21:09:53.061708Z"
    }
   },
   "outputs": [
    {
     "name": "stdout",
     "output_type": "stream",
     "text": [
      "📂 Reading existing data from: data/daily_stock_quotes.csv\n",
      "🗓 Existing data: 2015-05-19 to 2025-05-28\n",
      "✅ Found 500 tickers, ❌ Missing 3 tickers\n",
      "⏳ Fetching data using provider: fmp...\n",
      "Will fetch 3 missing tickers from 2015-05-19 to 2025-05-28\n",
      "Using FMP batch processing for 503 tickers\n",
      "Fetching history for 3 missing tickers...\n",
      "Processing attempt 1/2\n",
      "Fetching batch of 3 tickers...\n",
      "Retrieved data for 3 of 3 missing tickers\n",
      "⚠️ Column 'GEV' missing 211 values (41.9%) in recent data\n",
      "⚠️ Column 'SOLV' missing 210 values (41.7%) in recent data\n",
      "⚠️ Column 'VLTO' missing 86 values (17.1%) in recent data\n",
      "🔄 Fetching missing recent data for 3 tickers...\n",
      "Processing attempt 1/2\n",
      "Fetching batch of 3 tickers...\n",
      "✅ Updated missing recent data for 3 tickers\n",
      "⚠️ Removing 3 columns with < 20.0% data or < 5 values:\n",
      "   GEV (293 values, 11.62%), SOLV (294 values, 11.66%), VLTO (418 values, 16.57%)\n",
      "💾 Saved updated data to data/daily_stock_quotes.csv\n"
     ]
    }
   ],
   "source": [
    "tickers_file = 'data/tickers_sp_500.txt'\n",
    "with open(tickers_file, 'r') as f:\n",
    "    tickers = [line.strip() for line in f if line.strip()]\n",
    "\n",
    "# Replace '.' with '-' for Yahoo Finance compatibility\n",
    "tickers = [t.replace('.', '-') for t in tickers]\n",
    "tickers = list(dict.fromkeys(tickers))  # Remove duplicates\n",
    "\n",
    "###########################################################\n",
    "# DAILY DATA\n",
    "###########################################################\n",
    "\n",
    "daily_output = 'data/daily_stock_quotes.csv'\n",
    "\n",
    "df_daily, df_daily_failed = fetch_price_history_openbb(\n",
    "    tickers, \n",
    "    start_date, \n",
    "    end_date,\n",
    "    data_file=daily_output,\n",
    "    interval='1d',                 # options: ['1d', '1w', '1M']\n",
    "    provider='fmp',                # options: ['fmp', 'yfinance']\n",
    "    row_threshold_pct=0.05,        # Filter out rows with fewer than 5% of columns containing values\n",
    "    column_threshold=0.2,          # Filter out columns with less than 20% of values\n",
    "    validate_recent_data=True,     # Enable recent data validation\n",
    "    recent_data_percentage=0.2     # Check the last 20% of rows\n",
    ")\n",
    "\n",
    "###########################################################\n",
    "# MONTHLY DATA\n",
    "###########################################################\n",
    "\n",
    "monthly_output = 'data/monthly_stock_quotes.csv'\n",
    "\n",
    "df = (df_daily.set_index(pd.to_datetime(df_daily.pop('Date')))\n",
    "      if 'Date' in df_daily.columns else df_daily.copy())\n",
    "df.index = pd.to_datetime(df.index)              \n",
    "(df.resample('MS').last()\n",
    "   .reset_index()\n",
    "   .to_csv(monthly_output, index=False))"
   ]
  },
  {
   "cell_type": "markdown",
   "id": "ba3f7ba3",
   "metadata": {},
   "source": [
    "### Bonds"
   ]
  },
  {
   "cell_type": "code",
   "execution_count": 4,
   "id": "e4ef97ee",
   "metadata": {
    "execution": {
     "iopub.execute_input": "2025-05-29T21:09:53.067149Z",
     "iopub.status.busy": "2025-05-29T21:09:53.066455Z",
     "iopub.status.idle": "2025-05-29T21:09:57.129543Z",
     "shell.execute_reply": "2025-05-29T21:09:57.129032Z"
    }
   },
   "outputs": [
    {
     "name": "stdout",
     "output_type": "stream",
     "text": [
      "📂 Reading existing data from: data/daily_bond_quotes.csv\n",
      "🗓 Existing data: 2015-05-19 to 2025-05-28\n",
      "✅ Found 101 tickers, ❌ Missing 46 tickers\n",
      "⏳ Fetching data using provider: fmp...\n",
      "Will fetch 46 missing tickers from 2015-05-19 to 2025-05-28\n",
      "Using FMP batch processing for 147 tickers\n",
      "Fetching history for 46 missing tickers...\n",
      "Processing attempt 1/2\n",
      "Fetching batch of 46 tickers...\n",
      "Retrieved data for 27 of 46 missing tickers\n",
      "⚠️ Column 'AGIH' missing 1 values (0.2%) in recent data\n",
      "⚠️ Column 'BMOPX' missing 504 values (100.0%) in recent data\n",
      "⚠️ Column 'CSHP' missing 287 values (56.9%) in recent data\n",
      "⚠️ Column 'ELQD' missing 1 values (0.2%) in recent data\n",
      "⚠️ Column 'IBCA' missing 459 values (91.1%) in recent data\n",
      "⚠️ Column 'IBDY' missing 20 values (4.0%) in recent data\n",
      "⚠️ Column 'IBDZ' missing 252 values (50.0%) in recent data\n",
      "⚠️ Column 'IBGA' missing 264 values (52.4%) in recent data\n",
      "⚠️ Column 'IBGB' missing 460 values (91.3%) in recent data\n",
      "⚠️ Column 'IBGL' missing 460 values (91.3%) in recent data\n",
      "⚠️ Column 'IBHJ' missing 20 values (4.0%) in recent data\n",
      "⚠️ Column 'IBIB' missing 78 values (15.5%) in recent data\n",
      "⚠️ Column 'IBIC' missing 78 values (15.5%) in recent data\n",
      "⚠️ Column 'IBID' missing 78 values (15.5%) in recent data\n",
      "⚠️ Column 'IBIE' missing 78 values (15.5%) in recent data\n",
      "⚠️ Column 'IBIF' missing 82 values (16.3%) in recent data\n",
      "⚠️ Column 'IBIG' missing 82 values (16.3%) in recent data\n",
      "⚠️ Column 'IBIH' missing 82 values (16.3%) in recent data\n",
      "⚠️ Column 'IBII' missing 82 values (16.3%) in recent data\n",
      "⚠️ Column 'IBIJ' missing 82 values (16.3%) in recent data\n",
      "⚠️ Column 'IBIK' missing 252 values (50.0%) in recent data\n",
      "⚠️ Column 'IBIL' missing 460 values (91.3%) in recent data\n",
      "⚠️ Column 'IBTO' missing 24 values (4.8%) in recent data\n",
      "⚠️ Column 'IBTP' missing 264 values (52.4%) in recent data\n",
      "⚠️ Column 'IBTQ' missing 460 values (91.3%) in recent data\n",
      "⚠️ Column 'LDRC' missing 369 values (73.2%) in recent data\n",
      "⚠️ Column 'LDRH' missing 369 values (73.2%) in recent data\n",
      "⚠️ Column 'LDRI' missing 368 values (73.0%) in recent data\n",
      "⚠️ Column 'LDRT' missing 368 values (73.0%) in recent data\n",
      "🔄 Fetching missing recent data for 29 tickers...\n",
      "Processing attempt 1/2\n",
      "Fetching batch of 29 tickers...\n",
      "✅ Updated missing recent data for 28 tickers\n",
      "⚠️ Removing 27 columns with < 20.0% data or < 5 values:\n",
      "   BMOPX (1 values, 0.04%), CSHP (217 values, 8.60%), IBCA (45 values, 1.78%), IBDY (484 values, 19.19%), IBDZ (252 values, 9.99%), IBGA (240 values, 9.52%), IBGB (44 values, 1.74%), IBGL (44 values, 1.74%), IBHJ (484 values, 19.19%), IBIB (426 values, 16.89%), ... and 17 more\n",
      "   Found 1 columns with fewer than 5 values!\n",
      "     - BMOPX: 1 values (0.040%)\n",
      "💾 Saved updated data to data/daily_bond_quotes.csv\n"
     ]
    },
    {
     "data": {
      "application/vnd.microsoft.datawrangler.viewer.v0+json": {
       "columns": [
        {
         "name": "index",
         "rawType": "int64",
         "type": "integer"
        },
        {
         "name": "Date",
         "rawType": "datetime64[ns]",
         "type": "datetime"
        },
        {
         "name": "AGG",
         "rawType": "float64",
         "type": "float"
        },
        {
         "name": "AGIH",
         "rawType": "float64",
         "type": "float"
        },
        {
         "name": "AGRH",
         "rawType": "float64",
         "type": "float"
        },
        {
         "name": "AGZ",
         "rawType": "float64",
         "type": "float"
        },
        {
         "name": "BEMB",
         "rawType": "float64",
         "type": "float"
        },
        {
         "name": "BGRN",
         "rawType": "float64",
         "type": "float"
        },
        {
         "name": "BMOIX",
         "rawType": "float64",
         "type": "float"
        },
        {
         "name": "BYLD",
         "rawType": "float64",
         "type": "float"
        },
        {
         "name": "CEMB",
         "rawType": "float64",
         "type": "float"
        },
        {
         "name": "CMF",
         "rawType": "float64",
         "type": "float"
        },
        {
         "name": "EAGG",
         "rawType": "float64",
         "type": "float"
        },
        {
         "name": "ELQD",
         "rawType": "float64",
         "type": "float"
        },
        {
         "name": "EMB",
         "rawType": "float64",
         "type": "float"
        },
        {
         "name": "EMHY",
         "rawType": "float64",
         "type": "float"
        },
        {
         "name": "EUSB",
         "rawType": "float64",
         "type": "float"
        },
        {
         "name": "FALN",
         "rawType": "float64",
         "type": "float"
        },
        {
         "name": "FIBR",
         "rawType": "float64",
         "type": "float"
        },
        {
         "name": "FLOT",
         "rawType": "float64",
         "type": "float"
        },
        {
         "name": "GBF",
         "rawType": "float64",
         "type": "float"
        },
        {
         "name": "GHYG",
         "rawType": "float64",
         "type": "float"
        },
        {
         "name": "GNMA",
         "rawType": "float64",
         "type": "float"
        },
        {
         "name": "GOVT",
         "rawType": "float64",
         "type": "float"
        },
        {
         "name": "GOVZ",
         "rawType": "float64",
         "type": "float"
        },
        {
         "name": "GVI",
         "rawType": "float64",
         "type": "float"
        },
        {
         "name": "HYBB",
         "rawType": "float64",
         "type": "float"
        },
        {
         "name": "HYDB",
         "rawType": "float64",
         "type": "float"
        },
        {
         "name": "HYG",
         "rawType": "float64",
         "type": "float"
        },
        {
         "name": "HYGH",
         "rawType": "float64",
         "type": "float"
        },
        {
         "name": "HYGI",
         "rawType": "float64",
         "type": "float"
        },
        {
         "name": "HYGW",
         "rawType": "float64",
         "type": "float"
        },
        {
         "name": "HYXF",
         "rawType": "float64",
         "type": "float"
        },
        {
         "name": "HYXU",
         "rawType": "float64",
         "type": "float"
        },
        {
         "name": "IAGG",
         "rawType": "float64",
         "type": "float"
        },
        {
         "name": "IBDQ",
         "rawType": "float64",
         "type": "float"
        },
        {
         "name": "IBDR",
         "rawType": "float64",
         "type": "float"
        },
        {
         "name": "IBDS",
         "rawType": "float64",
         "type": "float"
        },
        {
         "name": "IBDT",
         "rawType": "float64",
         "type": "float"
        },
        {
         "name": "IBDU",
         "rawType": "float64",
         "type": "float"
        },
        {
         "name": "IBDV",
         "rawType": "float64",
         "type": "float"
        },
        {
         "name": "IBDW",
         "rawType": "float64",
         "type": "float"
        },
        {
         "name": "IBDX",
         "rawType": "float64",
         "type": "float"
        },
        {
         "name": "IBHE",
         "rawType": "float64",
         "type": "float"
        },
        {
         "name": "IBHF",
         "rawType": "float64",
         "type": "float"
        },
        {
         "name": "IBHG",
         "rawType": "float64",
         "type": "float"
        },
        {
         "name": "IBHH",
         "rawType": "float64",
         "type": "float"
        },
        {
         "name": "IBHI",
         "rawType": "float64",
         "type": "float"
        },
        {
         "name": "IBMN",
         "rawType": "float64",
         "type": "float"
        },
        {
         "name": "IBMO",
         "rawType": "float64",
         "type": "float"
        },
        {
         "name": "IBMP",
         "rawType": "float64",
         "type": "float"
        },
        {
         "name": "IBMQ",
         "rawType": "float64",
         "type": "float"
        },
        {
         "name": "IBMR",
         "rawType": "float64",
         "type": "float"
        },
        {
         "name": "IBTF",
         "rawType": "float64",
         "type": "float"
        },
        {
         "name": "IBTG",
         "rawType": "float64",
         "type": "float"
        },
        {
         "name": "IBTH",
         "rawType": "float64",
         "type": "float"
        },
        {
         "name": "IBTI",
         "rawType": "float64",
         "type": "float"
        },
        {
         "name": "IBTJ",
         "rawType": "float64",
         "type": "float"
        },
        {
         "name": "IBTK",
         "rawType": "float64",
         "type": "float"
        },
        {
         "name": "IBTL",
         "rawType": "float64",
         "type": "float"
        },
        {
         "name": "IBTM",
         "rawType": "float64",
         "type": "float"
        },
        {
         "name": "ICSH",
         "rawType": "float64",
         "type": "float"
        },
        {
         "name": "ICVT",
         "rawType": "float64",
         "type": "float"
        },
        {
         "name": "IEF",
         "rawType": "float64",
         "type": "float"
        },
        {
         "name": "IEI",
         "rawType": "float64",
         "type": "float"
        },
        {
         "name": "IGBH",
         "rawType": "float64",
         "type": "float"
        },
        {
         "name": "IGEB",
         "rawType": "float64",
         "type": "float"
        },
        {
         "name": "IGIB",
         "rawType": "float64",
         "type": "float"
        },
        {
         "name": "IGLB",
         "rawType": "float64",
         "type": "float"
        },
        {
         "name": "IGOV",
         "rawType": "float64",
         "type": "float"
        },
        {
         "name": "IGSB",
         "rawType": "float64",
         "type": "float"
        },
        {
         "name": "ILTB",
         "rawType": "float64",
         "type": "float"
        },
        {
         "name": "IMTB",
         "rawType": "float64",
         "type": "float"
        },
        {
         "name": "ISHG",
         "rawType": "float64",
         "type": "float"
        },
        {
         "name": "ISTB",
         "rawType": "float64",
         "type": "float"
        },
        {
         "name": "IUSB",
         "rawType": "float64",
         "type": "float"
        },
        {
         "name": "LEMB",
         "rawType": "float64",
         "type": "float"
        },
        {
         "name": "LQD",
         "rawType": "float64",
         "type": "float"
        },
        {
         "name": "LQDB",
         "rawType": "float64",
         "type": "float"
        },
        {
         "name": "LQDH",
         "rawType": "float64",
         "type": "float"
        },
        {
         "name": "LQDI",
         "rawType": "float64",
         "type": "float"
        },
        {
         "name": "LQDW",
         "rawType": "float64",
         "type": "float"
        },
        {
         "name": "MEAR",
         "rawType": "float64",
         "type": "float"
        },
        {
         "name": "MUB",
         "rawType": "float64",
         "type": "float"
        },
        {
         "name": "NEAR",
         "rawType": "float64",
         "type": "float"
        },
        {
         "name": "NYF",
         "rawType": "float64",
         "type": "float"
        },
        {
         "name": "QLTA",
         "rawType": "float64",
         "type": "float"
        },
        {
         "name": "SGOV",
         "rawType": "float64",
         "type": "float"
        },
        {
         "name": "SHV",
         "rawType": "float64",
         "type": "float"
        },
        {
         "name": "SHY",
         "rawType": "float64",
         "type": "float"
        },
        {
         "name": "SHYG",
         "rawType": "float64",
         "type": "float"
        },
        {
         "name": "SLQD",
         "rawType": "float64",
         "type": "float"
        },
        {
         "name": "STIP",
         "rawType": "float64",
         "type": "float"
        },
        {
         "name": "SUB",
         "rawType": "float64",
         "type": "float"
        },
        {
         "name": "SUSB",
         "rawType": "float64",
         "type": "float"
        },
        {
         "name": "SUSC",
         "rawType": "float64",
         "type": "float"
        },
        {
         "name": "TFLO",
         "rawType": "float64",
         "type": "float"
        },
        {
         "name": "TIP",
         "rawType": "float64",
         "type": "float"
        },
        {
         "name": "TLH",
         "rawType": "float64",
         "type": "float"
        },
        {
         "name": "TLT",
         "rawType": "float64",
         "type": "float"
        },
        {
         "name": "TLTW",
         "rawType": "float64",
         "type": "float"
        },
        {
         "name": "USHY",
         "rawType": "float64",
         "type": "float"
        },
        {
         "name": "USIG",
         "rawType": "float64",
         "type": "float"
        }
       ],
       "ref": "7d7c6dea-9df3-48c0-ac05-baef1e5208a4",
       "rows": [
        [
         "0",
         "2015-05-01 00:00:00",
         "85.03",
         null,
         null,
         "92.41",
         null,
         null,
         "7.83",
         "17.45",
         "32.96",
         "47.09",
         null,
         null,
         "70.09",
         "26.24",
         null,
         null,
         "71.94",
         "39.72",
         "89.82",
         "30.77",
         "39.96",
         "20.83",
         null,
         "89.83",
         null,
         null,
         "53.94",
         "53.11",
         null,
         null,
         null,
         "37.64",
         null,
         "18.2",
         null,
         null,
         null,
         null,
         null,
         null,
         null,
         null,
         null,
         null,
         null,
         null,
         null,
         null,
         null,
         null,
         null,
         null,
         null,
         null,
         null,
         null,
         null,
         null,
         null,
         "40.19",
         null,
         "86.95",
         "104.03",
         null,
         null,
         "40.26",
         "39.31",
         "43.99",
         "41.44",
         "41.49",
         null,
         "74.04",
         "39.57",
         "38.52",
         "37.17",
         "84.57",
         null,
         "64.55",
         null,
         null,
         "43.09",
         "86.01",
         "39.87",
         "43.9",
         "38.54",
         null,
         "92.26",
         "71.9",
         "28.04",
         "39.8",
         "78.71",
         "93.31",
         null,
         null,
         "41.86",
         "87.28",
         "105.66",
         "94.83",
         null,
         null,
         "39.68"
        ],
        [
         "1",
         "2015-06-01 00:00:00",
         "84.11",
         null,
         null,
         "92.06",
         null,
         null,
         "7.75",
         "17.23",
         "32.12",
         "46.77",
         null,
         null,
         "68.82",
         "25.72",
         null,
         null,
         "71.29",
         "39.7",
         "88.57",
         "30.38",
         "39.71",
         "20.65",
         null,
         "89.36",
         null,
         null,
         "52.93",
         "51.66",
         null,
         null,
         null,
         "37.51",
         null,
         "17.79",
         null,
         null,
         null,
         null,
         null,
         null,
         null,
         null,
         null,
         null,
         null,
         null,
         null,
         null,
         null,
         null,
         null,
         null,
         null,
         null,
         null,
         null,
         null,
         null,
         null,
         "40.13",
         "35.21",
         "85.53",
         "103.55",
         null,
         null,
         "39.93",
         "37.96",
         "43.76",
         "41.41",
         "40.11",
         null,
         "74.86",
         "39.51",
         "38.12",
         "36.75",
         "82.98",
         null,
         "64.12",
         null,
         null,
         "42.98",
         "85.71",
         "39.89",
         "43.65",
         "37.85",
         null,
         "92.26",
         "71.92",
         "27.76",
         "39.71",
         "78.68",
         "93.44",
         null,
         null,
         "41.83",
         "86.39",
         "103.55",
         "90.97",
         null,
         null,
         "39.09"
        ],
        [
         "2",
         "2015-07-01 00:00:00",
         "84.84",
         null,
         null,
         "92.44",
         null,
         null,
         "7.8",
         "17.36",
         "32.32",
         "47.39",
         null,
         null,
         "68.92",
         "25.66",
         null,
         null,
         "71.31",
         "39.71",
         "89.45",
         "29.97",
         "40.1",
         "20.86",
         null,
         "89.7",
         null,
         null,
         "52.67",
         "51.99",
         null,
         null,
         null,
         "37.47",
         null,
         "18.02",
         null,
         null,
         null,
         null,
         null,
         null,
         null,
         null,
         null,
         null,
         null,
         null,
         null,
         null,
         null,
         null,
         null,
         null,
         null,
         null,
         null,
         null,
         null,
         null,
         null,
         "40.08",
         "34.69",
         "86.83",
         "104.24",
         null,
         null,
         "40.07",
         "38.66",
         "43.77",
         "41.39",
         "41.37",
         null,
         "73.56",
         "39.59",
         "38.34",
         "35.63",
         "83.67",
         null,
         "63.42",
         null,
         null,
         "43.07",
         "86.68",
         "39.91",
         "44.11",
         "38.32",
         null,
         "92.25",
         "71.95",
         "27.49",
         "39.82",
         "78.51",
         "93.75",
         null,
         null,
         "41.74",
         "86.85",
         "106.14",
         "95.1",
         null,
         null,
         "39.42"
        ],
        [
         "3",
         "2015-08-01 00:00:00",
         "84.55",
         null,
         null,
         "92.57",
         null,
         null,
         "7.79",
         "17.27",
         "31.66",
         "47.34",
         null,
         null,
         "68.14",
         "25.1",
         null,
         null,
         "71.33",
         "39.69",
         "89.25",
         "29.31",
         "39.97",
         "20.85",
         null,
         "89.56",
         null,
         null,
         "51.86",
         "50.75",
         null,
         null,
         null,
         "37.78",
         null,
         "17.91",
         null,
         null,
         null,
         null,
         null,
         null,
         null,
         null,
         null,
         null,
         null,
         null,
         null,
         null,
         null,
         null,
         null,
         null,
         null,
         null,
         null,
         null,
         null,
         null,
         null,
         "40.34",
         "33.3",
         "86.9",
         "104.2",
         null,
         null,
         "39.89",
         "37.89",
         "44.04",
         "41.39",
         "40.63",
         null,
         "74.57",
         "39.54",
         "38.21",
         "34.47",
         "82.98",
         null,
         "63.29",
         null,
         null,
         "43.27",
         "86.58",
         "39.88",
         "44.0",
         "38.21",
         null,
         "92.26",
         "71.91",
         "27.09",
         "39.73",
         "78.23",
         "93.52",
         null,
         null,
         "41.72",
         "86.03",
         "105.57",
         "94.44",
         null,
         null,
         "39.02"
        ],
        [
         "4",
         "2015-09-01 00:00:00",
         "85.24",
         null,
         null,
         "93.05",
         null,
         null,
         "7.84",
         "17.21",
         "30.8",
         "47.83",
         null,
         null,
         "67.41",
         "24.62",
         null,
         null,
         "71.26",
         "39.61",
         "89.74",
         "28.93",
         "40.13",
         "21.04",
         null,
         "90.17",
         null,
         null,
         "50.31",
         "48.96",
         null,
         null,
         null,
         "36.85",
         null,
         "18.0",
         null,
         null,
         null,
         null,
         null,
         null,
         null,
         null,
         null,
         null,
         null,
         null,
         null,
         null,
         null,
         null,
         null,
         null,
         null,
         null,
         null,
         null,
         null,
         null,
         null,
         "40.34",
         "32.47",
         "88.27",
         "105.33",
         "15.77",
         null,
         "40.08",
         "38.3",
         "44.38",
         "41.45",
         "41.0",
         null,
         "74.51",
         "39.66",
         "38.22",
         "33.39",
         "83.97",
         null,
         "62.81",
         null,
         null,
         "43.42",
         "87.33",
         "39.94",
         "44.41",
         "38.49",
         null,
         "92.28",
         "72.12",
         "26.46",
         "39.76",
         "78.17",
         "93.84",
         null,
         null,
         "41.78",
         "85.58",
         "107.51",
         "96.3",
         null,
         null,
         "39.37"
        ]
       ],
       "shape": {
        "columns": 102,
        "rows": 5
       }
      },
      "text/html": [
       "<div>\n",
       "<style scoped>\n",
       "    .dataframe tbody tr th:only-of-type {\n",
       "        vertical-align: middle;\n",
       "    }\n",
       "\n",
       "    .dataframe tbody tr th {\n",
       "        vertical-align: top;\n",
       "    }\n",
       "\n",
       "    .dataframe thead th {\n",
       "        text-align: right;\n",
       "    }\n",
       "</style>\n",
       "<table border=\"1\" class=\"dataframe\">\n",
       "  <thead>\n",
       "    <tr style=\"text-align: right;\">\n",
       "      <th></th>\n",
       "      <th>Date</th>\n",
       "      <th>AGG</th>\n",
       "      <th>AGIH</th>\n",
       "      <th>AGRH</th>\n",
       "      <th>AGZ</th>\n",
       "      <th>BEMB</th>\n",
       "      <th>BGRN</th>\n",
       "      <th>BMOIX</th>\n",
       "      <th>BYLD</th>\n",
       "      <th>CEMB</th>\n",
       "      <th>...</th>\n",
       "      <th>SUB</th>\n",
       "      <th>SUSB</th>\n",
       "      <th>SUSC</th>\n",
       "      <th>TFLO</th>\n",
       "      <th>TIP</th>\n",
       "      <th>TLH</th>\n",
       "      <th>TLT</th>\n",
       "      <th>TLTW</th>\n",
       "      <th>USHY</th>\n",
       "      <th>USIG</th>\n",
       "    </tr>\n",
       "  </thead>\n",
       "  <tbody>\n",
       "    <tr>\n",
       "      <th>0</th>\n",
       "      <td>2015-05-01</td>\n",
       "      <td>85.03</td>\n",
       "      <td>NaN</td>\n",
       "      <td>NaN</td>\n",
       "      <td>92.41</td>\n",
       "      <td>NaN</td>\n",
       "      <td>NaN</td>\n",
       "      <td>7.83</td>\n",
       "      <td>17.45</td>\n",
       "      <td>32.96</td>\n",
       "      <td>...</td>\n",
       "      <td>93.31</td>\n",
       "      <td>NaN</td>\n",
       "      <td>NaN</td>\n",
       "      <td>41.86</td>\n",
       "      <td>87.28</td>\n",
       "      <td>105.66</td>\n",
       "      <td>94.83</td>\n",
       "      <td>NaN</td>\n",
       "      <td>NaN</td>\n",
       "      <td>39.68</td>\n",
       "    </tr>\n",
       "    <tr>\n",
       "      <th>1</th>\n",
       "      <td>2015-06-01</td>\n",
       "      <td>84.11</td>\n",
       "      <td>NaN</td>\n",
       "      <td>NaN</td>\n",
       "      <td>92.06</td>\n",
       "      <td>NaN</td>\n",
       "      <td>NaN</td>\n",
       "      <td>7.75</td>\n",
       "      <td>17.23</td>\n",
       "      <td>32.12</td>\n",
       "      <td>...</td>\n",
       "      <td>93.44</td>\n",
       "      <td>NaN</td>\n",
       "      <td>NaN</td>\n",
       "      <td>41.83</td>\n",
       "      <td>86.39</td>\n",
       "      <td>103.55</td>\n",
       "      <td>90.97</td>\n",
       "      <td>NaN</td>\n",
       "      <td>NaN</td>\n",
       "      <td>39.09</td>\n",
       "    </tr>\n",
       "    <tr>\n",
       "      <th>2</th>\n",
       "      <td>2015-07-01</td>\n",
       "      <td>84.84</td>\n",
       "      <td>NaN</td>\n",
       "      <td>NaN</td>\n",
       "      <td>92.44</td>\n",
       "      <td>NaN</td>\n",
       "      <td>NaN</td>\n",
       "      <td>7.80</td>\n",
       "      <td>17.36</td>\n",
       "      <td>32.32</td>\n",
       "      <td>...</td>\n",
       "      <td>93.75</td>\n",
       "      <td>NaN</td>\n",
       "      <td>NaN</td>\n",
       "      <td>41.74</td>\n",
       "      <td>86.85</td>\n",
       "      <td>106.14</td>\n",
       "      <td>95.10</td>\n",
       "      <td>NaN</td>\n",
       "      <td>NaN</td>\n",
       "      <td>39.42</td>\n",
       "    </tr>\n",
       "    <tr>\n",
       "      <th>3</th>\n",
       "      <td>2015-08-01</td>\n",
       "      <td>84.55</td>\n",
       "      <td>NaN</td>\n",
       "      <td>NaN</td>\n",
       "      <td>92.57</td>\n",
       "      <td>NaN</td>\n",
       "      <td>NaN</td>\n",
       "      <td>7.79</td>\n",
       "      <td>17.27</td>\n",
       "      <td>31.66</td>\n",
       "      <td>...</td>\n",
       "      <td>93.52</td>\n",
       "      <td>NaN</td>\n",
       "      <td>NaN</td>\n",
       "      <td>41.72</td>\n",
       "      <td>86.03</td>\n",
       "      <td>105.57</td>\n",
       "      <td>94.44</td>\n",
       "      <td>NaN</td>\n",
       "      <td>NaN</td>\n",
       "      <td>39.02</td>\n",
       "    </tr>\n",
       "    <tr>\n",
       "      <th>4</th>\n",
       "      <td>2015-09-01</td>\n",
       "      <td>85.24</td>\n",
       "      <td>NaN</td>\n",
       "      <td>NaN</td>\n",
       "      <td>93.05</td>\n",
       "      <td>NaN</td>\n",
       "      <td>NaN</td>\n",
       "      <td>7.84</td>\n",
       "      <td>17.21</td>\n",
       "      <td>30.80</td>\n",
       "      <td>...</td>\n",
       "      <td>93.84</td>\n",
       "      <td>NaN</td>\n",
       "      <td>NaN</td>\n",
       "      <td>41.78</td>\n",
       "      <td>85.58</td>\n",
       "      <td>107.51</td>\n",
       "      <td>96.30</td>\n",
       "      <td>NaN</td>\n",
       "      <td>NaN</td>\n",
       "      <td>39.37</td>\n",
       "    </tr>\n",
       "  </tbody>\n",
       "</table>\n",
       "<p>5 rows × 102 columns</p>\n",
       "</div>"
      ],
      "text/plain": [
       "        Date    AGG  AGIH  AGRH    AGZ  BEMB  BGRN  BMOIX   BYLD   CEMB  ...  \\\n",
       "0 2015-05-01  85.03   NaN   NaN  92.41   NaN   NaN   7.83  17.45  32.96  ...   \n",
       "1 2015-06-01  84.11   NaN   NaN  92.06   NaN   NaN   7.75  17.23  32.12  ...   \n",
       "2 2015-07-01  84.84   NaN   NaN  92.44   NaN   NaN   7.80  17.36  32.32  ...   \n",
       "3 2015-08-01  84.55   NaN   NaN  92.57   NaN   NaN   7.79  17.27  31.66  ...   \n",
       "4 2015-09-01  85.24   NaN   NaN  93.05   NaN   NaN   7.84  17.21  30.80  ...   \n",
       "\n",
       "     SUB  SUSB  SUSC   TFLO    TIP     TLH    TLT  TLTW  USHY   USIG  \n",
       "0  93.31   NaN   NaN  41.86  87.28  105.66  94.83   NaN   NaN  39.68  \n",
       "1  93.44   NaN   NaN  41.83  86.39  103.55  90.97   NaN   NaN  39.09  \n",
       "2  93.75   NaN   NaN  41.74  86.85  106.14  95.10   NaN   NaN  39.42  \n",
       "3  93.52   NaN   NaN  41.72  86.03  105.57  94.44   NaN   NaN  39.02  \n",
       "4  93.84   NaN   NaN  41.78  85.58  107.51  96.30   NaN   NaN  39.37  \n",
       "\n",
       "[5 rows x 102 columns]"
      ]
     },
     "metadata": {},
     "output_type": "display_data"
    }
   ],
   "source": [
    "tickers_file = 'data/tickers_bond.txt'\n",
    "with open(tickers_file, 'r') as f:\n",
    "    tickers = [line.strip() for line in f if line.strip()]\n",
    "\n",
    "# Replace '.' with '-' for Yahoo Finance compatibility\n",
    "tickers = [t.replace('.', '-') for t in tickers]\n",
    "tickers = list(dict.fromkeys(tickers))  # Remove duplicates\n",
    "\n",
    "###########################################################\n",
    "# DAILY DATA\n",
    "###########################################################\n",
    "\n",
    "daily_output = 'data/daily_bond_quotes.csv'\n",
    "\n",
    "bonds_daily_df, failed_daily = fetch_price_history_openbb(\n",
    "    tickers, \n",
    "    start_date, \n",
    "    end_date,\n",
    "    data_file=daily_output,\n",
    "    interval='1d',                 # options: ['1d', '1w', '1M']\n",
    "    provider='fmp',                # options: ['fmp', 'yfinance']\n",
    "    row_threshold_pct=0.05,        # Filter out rows with fewer than 5% of columns containing values\n",
    "    column_threshold=0.2,          # Filter out columns with less than 20% of values\n",
    "    validate_recent_data=True,     # Enable recent data validation\n",
    "    recent_data_percentage=0.2     # Check the last 20% of rows\n",
    ")\n",
    "\n",
    "###########################################################\n",
    "# MONTHLY DATA\n",
    "###########################################################\n",
    "\n",
    "monthly_output = 'data/monthly_bond_quotes.csv'\n",
    "\n",
    "bonds_monthly_prices = (bonds_daily_df.set_index(pd.to_datetime(bonds_daily_df.pop('Date')))\n",
    "      if 'Date' in bonds_daily_df.columns else bonds_daily_df.copy())\n",
    "bonds_monthly_prices.index = pd.to_datetime(bonds_monthly_prices.index)              \n",
    "bonds_monthly_prices = (bonds_monthly_prices.resample('MS').last()\n",
    "   .reset_index()\n",
    "   .rename(columns={'index': 'Date'}))\n",
    "\n",
    "# Save to CSV\n",
    "bonds_monthly_prices.to_csv(monthly_output, index=False)\n",
    "\n",
    "display(bonds_monthly_prices.head())"
   ]
  },
  {
   "cell_type": "markdown",
   "id": "58fc1ac6",
   "metadata": {},
   "source": [
    "### Benchmarks"
   ]
  },
  {
   "cell_type": "code",
   "execution_count": 5,
   "id": "62310d56",
   "metadata": {
    "execution": {
     "iopub.execute_input": "2025-05-29T21:09:57.131377Z",
     "iopub.status.busy": "2025-05-29T21:09:57.131224Z",
     "iopub.status.idle": "2025-05-29T21:09:58.581296Z",
     "shell.execute_reply": "2025-05-29T21:09:58.580488Z"
    }
   },
   "outputs": [
    {
     "name": "stdout",
     "output_type": "stream",
     "text": [
      "📂 Reading existing data from: data/daily_benchmark_quotes.csv\n"
     ]
    },
    {
     "name": "stdout",
     "output_type": "stream",
     "text": [
      "🗓 Existing data: 2015-05-19 to 2025-05-28\n",
      "✅ Found 506 tickers, ❌ Missing 0 tickers\n",
      "✅ Data is already up-to-date and complete\n",
      "⚠️ Column 'ESGG' missing 1 values (0.2%) in recent data\n",
      "⚠️ Column 'JDIV' missing 337 values (66.9%) in recent data\n",
      "🔄 Fetching missing recent data for 2 tickers...\n",
      "Processing attempt 1/2\n",
      "Fetching batch of 2 tickers...\n",
      "💾 Saved updated data with fixed recent values to data/daily_benchmark_quotes.csv\n",
      "✅ Updated missing recent data for 2 tickers\n"
     ]
    }
   ],
   "source": [
    "tickers_file = 'data/tickers_benchmark.txt'\n",
    "with open(tickers_file, 'r') as f:\n",
    "    tickers = [line.strip() for line in f if line.strip()]\n",
    "\n",
    "# Replace '.' with '-' for Yahoo Finance compatibility\n",
    "tickers = [t.replace('.', '-') for t in tickers]\n",
    "tickers = list(dict.fromkeys(tickers))  # Remove duplicates\n",
    "\n",
    "###########################################################\n",
    "# DAILY DATA\n",
    "###########################################################\n",
    "\n",
    "daily_output = 'data/daily_benchmark_quotes.csv'\n",
    "\n",
    "df_daily, df_daily_failed = fetch_price_history_openbb(\n",
    "    tickers, \n",
    "    start_date, \n",
    "    end_date,\n",
    "    data_file=daily_output,\n",
    "    interval='1d',                 # options: ['1d', '1w', '1M']\n",
    "    provider='fmp',                # options: ['fmp', 'yfinance']\n",
    "    row_threshold_pct=0.05,        # Filter out rows with fewer than 5% of columns containing values\n",
    "    column_threshold=0.2,          # Filter out columns with less than 20% of values\n",
    "    validate_recent_data=True,     # Enable recent data validation\n",
    "    recent_data_percentage=0.2     # Check the last 20% of rows\n",
    ")\n",
    "\n",
    "###########################################################\n",
    "# MONTHLY DATA\n",
    "###########################################################\n",
    "\n",
    "monthly_output = 'data/monthly_benchmark_quotes.csv'\n",
    "\n",
    "df = (df_daily.set_index(pd.to_datetime(df_daily.pop('Date')))\n",
    "      if 'Date' in df_daily.columns else df_daily.copy())\n",
    "df.index = pd.to_datetime(df.index)              \n",
    "(df.resample('MS').last()\n",
    "   .reset_index()\n",
    "   .to_csv(monthly_output, index=False))"
   ]
  },
  {
   "cell_type": "markdown",
   "id": "f96ad311",
   "metadata": {},
   "source": [
    "### Treasury Rates"
   ]
  },
  {
   "cell_type": "code",
   "execution_count": 6,
   "id": "d217effb",
   "metadata": {
    "execution": {
     "iopub.execute_input": "2025-05-29T21:09:58.583588Z",
     "iopub.status.busy": "2025-05-29T21:09:58.583231Z",
     "iopub.status.idle": "2025-05-29T21:09:58.599338Z",
     "shell.execute_reply": "2025-05-29T21:09:58.598783Z"
    }
   },
   "outputs": [
    {
     "name": "stdout",
     "output_type": "stream",
     "text": [
      "📂 Reading existing data from: data/daily_treasury_rates.csv\n",
      "🗓 Existing data: 2015-05-19 to 2025-05-28\n",
      "✅ Found 4 tickers, ❌ Missing 0 tickers\n",
      "✅ Data is already up-to-date and complete\n"
     ]
    }
   ],
   "source": [
    "tickers_file = 'data/tickers_treasury.txt'\n",
    "with open(tickers_file, 'r') as f:\n",
    "    tickers = [line.strip() for line in f if line.strip()]\n",
    "\n",
    "# Replace '.' with '-' for Yahoo Finance compatibility\n",
    "tickers = [t.replace('.', '-') for t in tickers]\n",
    "tickers = list(dict.fromkeys(tickers))  # Remove duplicates\n",
    "\n",
    "###########################################################\n",
    "# DAILY DATA\n",
    "###########################################################\n",
    "\n",
    "daily_output = 'data/daily_treasury_rates.csv'\n",
    "\n",
    "df_daily, df_daily_failed = fetch_price_history_openbb(\n",
    "    tickers, \n",
    "    start_date, \n",
    "    end_date,\n",
    "    data_file=daily_output,\n",
    "    interval='1d',                 # options: ['1d', '1w', '1M']\n",
    "    provider='fmp',                # options: ['fmp', 'yfinance']\n",
    "    row_threshold_pct=0.05,        # Filter out rows with fewer than 5% of columns containing values\n",
    "    column_threshold=0.2,          # Filter out columns with less than 20% of values\n",
    "    validate_recent_data=True,     # Enable recent data validation\n",
    "    recent_data_percentage=0.2     # Check the last 20% of rows\n",
    ")\n",
    "\n",
    "###########################################################\n",
    "# MONTHLY DATA\n",
    "###########################################################\n",
    "\n",
    "monthly_output = 'data/monthly_treasury_rates.csv'\n",
    "\n",
    "df = (df_daily.set_index(pd.to_datetime(df_daily.pop('Date')))\n",
    "      if 'Date' in df_daily.columns else df_daily.copy())\n",
    "df.index = pd.to_datetime(df.index)              \n",
    "(df.resample('MS').last()\n",
    "   .reset_index()\n",
    "   .to_csv(monthly_output, index=False))"
   ]
  },
  {
   "cell_type": "markdown",
   "id": "2c2c2018",
   "metadata": {},
   "source": [
    "### Sectors"
   ]
  },
  {
   "cell_type": "code",
   "execution_count": 7,
   "id": "0714d878",
   "metadata": {
    "execution": {
     "iopub.execute_input": "2025-05-29T21:09:58.601576Z",
     "iopub.status.busy": "2025-05-29T21:09:58.601160Z",
     "iopub.status.idle": "2025-05-29T21:09:58.604807Z",
     "shell.execute_reply": "2025-05-29T21:09:58.604120Z"
    }
   },
   "outputs": [],
   "source": [
    "sectors = [\n",
    "    'XLE',\n",
    "    'CLF',\n",
    "    'XLF',\n",
    "    'GDX'\n",
    "]"
   ]
  }
 ],
 "metadata": {
  "kernelspec": {
   "display_name": ".venv",
   "language": "python",
   "name": "python3"
  },
  "language_info": {
   "codemirror_mode": {
    "name": "ipython",
    "version": 3
   },
   "file_extension": ".py",
   "mimetype": "text/x-python",
   "name": "python",
   "nbconvert_exporter": "python",
   "pygments_lexer": "ipython3",
   "version": "3.13.3"
  }
 },
 "nbformat": 4,
 "nbformat_minor": 5
}
