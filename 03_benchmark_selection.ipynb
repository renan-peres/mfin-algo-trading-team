{
 "cells": [
  {
   "cell_type": "markdown",
   "id": "bcc3381f",
   "metadata": {},
   "source": [
    "<a href=\"https://colab.research.google.com/github/renan-peres/mfin-portfolio-management/blob/main/03_benchmark_selection.ipynb\" target=\"_parent\"><img src=\"https://colab.research.google.com/assets/colab-badge.svg\" alt=\"Open In Colab\"/></a>"
   ]
  },
  {
   "cell_type": "markdown",
   "id": "e4cd6428",
   "metadata": {},
   "source": [
    "# Benchmark Selection with Regression Analysis\n",
    "This model aims to select an ETF that best fits with the portfolio to be used as a benchmark. The methodology uses a regression analysis to identify the relationship between the ETF and the portfolio and check the ETF with the highest R² and lowest p-value will be selected as the benchmark. \n",
    "\n",
    "The model will use the following steps:\n",
    "1. Select an ETF that invests in the same sectors as the portfolio holdings.\n",
    "2. Use regression analysis to identify the relationship between the ETF and the portfolio.\n",
    "3. Select the ETF with the highest R² and lowest p-value as the benchmark.\n",
    "4. Use the selected ETF as a benchmark to evaluate the performance of the portfolio."
   ]
  },
  {
   "cell_type": "markdown",
   "id": "dc371546",
   "metadata": {},
   "source": [
    "### Step 1: Import Libraries"
   ]
  },
  {
   "cell_type": "code",
   "execution_count": 7,
   "id": "d09ef8c1",
   "metadata": {
    "execution": {
     "iopub.execute_input": "2025-06-02T13:28:29.114690Z",
     "iopub.status.busy": "2025-06-02T13:28:29.114145Z",
     "iopub.status.idle": "2025-06-02T13:28:30.793724Z",
     "shell.execute_reply": "2025-06-02T13:28:30.792289Z"
    }
   },
   "outputs": [],
   "source": [
    "# UDFs\n",
    "from py.utils import load_and_filter_data, export_to_excel\n",
    "from py.benchmark_regression import find_best_benchmark_and_run_regressions\n",
    "\n",
    "# System libraries\n",
    "import glob\n",
    "import os\n",
    "import sys\n",
    "from io import StringIO\n",
    "from typing import Dict, List\n",
    "\n",
    "# Data manipulation libraries\n",
    "import pandas as pd\n",
    "import numpy as np\n",
    "from datetime import datetime, timedelta\n",
    "from pandas.tseries.offsets import BDay\n",
    "\n",
    "# Data Visualization libraries\n",
    "import matplotlib.pyplot as plt\n",
    "import seaborn as sns\n",
    "\n",
    "# Excel libraries\n",
    "from openpyxl import load_workbook\n",
    "from openpyxl.styles import Alignment, Font\n",
    "import ast"
   ]
  },
  {
   "cell_type": "markdown",
   "id": "e2e1bc31",
   "metadata": {},
   "source": [
    "### Step 2: Define Parameters"
   ]
  },
  {
   "cell_type": "markdown",
   "id": "766d204e",
   "metadata": {},
   "source": [
    "#### Dates"
   ]
  },
  {
   "cell_type": "code",
   "execution_count": 8,
   "id": "d59ab3b0",
   "metadata": {
    "execution": {
     "iopub.execute_input": "2025-06-02T13:28:30.798269Z",
     "iopub.status.busy": "2025-06-02T13:28:30.797519Z",
     "iopub.status.idle": "2025-06-02T13:28:30.805224Z",
     "shell.execute_reply": "2025-06-02T13:28:30.803735Z"
    }
   },
   "outputs": [
    {
     "name": "stdout",
     "output_type": "stream",
     "text": [
      "Date Range: 2020-05-31 to 2025-05-30\n",
      "Time span: 1825 days (5.00 years)\n"
     ]
    }
   ],
   "source": [
    "# Define the date range\n",
    "end_date = (datetime.today() - BDay(1)).to_pydatetime()  # Subtract 1 business day\n",
    "start_date = end_date - timedelta(days=5*365)            # 5 years ago from the end date\n",
    "\n",
    "# Convert datetime objects to Unix timestamps (seconds since Jan 1, 1970)\n",
    "start_timestamp = int(start_date.timestamp())\n",
    "end_timestamp = int(end_date.timestamp())\n",
    "\n",
    "# Print the date range\n",
    "days_difference = (end_date - start_date).days\n",
    "print(f\"Date Range: {start_date.strftime('%Y-%m-%d')} to {end_date.strftime('%Y-%m-%d')}\")\n",
    "print(f\"Time span: {days_difference} days ({days_difference/365:.2f} years)\")"
   ]
  },
  {
   "cell_type": "markdown",
   "id": "c216556a",
   "metadata": {},
   "source": [
    "#### Risk-free rate (T-bill, %)"
   ]
  },
  {
   "cell_type": "code",
   "execution_count": 9,
   "id": "3f485596",
   "metadata": {
    "execution": {
     "iopub.execute_input": "2025-06-02T13:28:30.808605Z",
     "iopub.status.busy": "2025-06-02T13:28:30.808221Z",
     "iopub.status.idle": "2025-06-02T13:28:30.832293Z",
     "shell.execute_reply": "2025-06-02T13:28:30.831288Z"
    }
   },
   "outputs": [
    {
     "name": "stdout",
     "output_type": "stream",
     "text": [
      "Found 1 of 1 tickers in data/daily_treasury_rates.csv\n",
      "Missing tickers: []\n",
      "Risk-Free Rate: 0.042300000000000004 -- 13 WEEK TREASURY BILL (^IRX)\n"
     ]
    },
    {
     "data": {
      "application/vnd.microsoft.datawrangler.viewer.v0+json": {
       "columns": [
        {
         "name": "Date",
         "rawType": "datetime64[ns]",
         "type": "datetime"
        },
        {
         "name": "^IRX",
         "rawType": "float64",
         "type": "float"
        }
       ],
       "ref": "f0a446fe-e4ba-4b7f-b7e4-f171f925daf8",
       "rows": [
        [
         "2020-06-01 00:00:00",
         "0.128"
        ],
        [
         "2020-06-02 00:00:00",
         "0.145"
        ],
        [
         "2020-06-03 00:00:00",
         "0.148"
        ],
        [
         "2020-06-04 00:00:00",
         "0.14"
        ],
        [
         "2020-06-05 00:00:00",
         "0.145"
        ]
       ],
       "shape": {
        "columns": 1,
        "rows": 5
       }
      },
      "text/html": [
       "<div>\n",
       "<style scoped>\n",
       "    .dataframe tbody tr th:only-of-type {\n",
       "        vertical-align: middle;\n",
       "    }\n",
       "\n",
       "    .dataframe tbody tr th {\n",
       "        vertical-align: top;\n",
       "    }\n",
       "\n",
       "    .dataframe thead th {\n",
       "        text-align: right;\n",
       "    }\n",
       "</style>\n",
       "<table border=\"1\" class=\"dataframe\">\n",
       "  <thead>\n",
       "    <tr style=\"text-align: right;\">\n",
       "      <th></th>\n",
       "      <th>^IRX</th>\n",
       "    </tr>\n",
       "    <tr>\n",
       "      <th>Date</th>\n",
       "      <th></th>\n",
       "    </tr>\n",
       "  </thead>\n",
       "  <tbody>\n",
       "    <tr>\n",
       "      <th>2020-06-01</th>\n",
       "      <td>0.128</td>\n",
       "    </tr>\n",
       "    <tr>\n",
       "      <th>2020-06-02</th>\n",
       "      <td>0.145</td>\n",
       "    </tr>\n",
       "    <tr>\n",
       "      <th>2020-06-03</th>\n",
       "      <td>0.148</td>\n",
       "    </tr>\n",
       "    <tr>\n",
       "      <th>2020-06-04</th>\n",
       "      <td>0.140</td>\n",
       "    </tr>\n",
       "    <tr>\n",
       "      <th>2020-06-05</th>\n",
       "      <td>0.145</td>\n",
       "    </tr>\n",
       "  </tbody>\n",
       "</table>\n",
       "</div>"
      ],
      "text/plain": [
       "             ^IRX\n",
       "Date             \n",
       "2020-06-01  0.128\n",
       "2020-06-02  0.145\n",
       "2020-06-03  0.148\n",
       "2020-06-04  0.140\n",
       "2020-06-05  0.145"
      ]
     },
     "execution_count": 9,
     "metadata": {},
     "output_type": "execute_result"
    }
   ],
   "source": [
    "# Load and process data\n",
    "daily_risk_free_df = load_and_filter_data('data/daily_treasury_rates.csv', ['^IRX'], start_date, end_date)\n",
    "# risk_free_rate = .0433 \n",
    "risk_free_rate = daily_risk_free_df.iloc[-1, 0] / 100\n",
    "risk_free_rate_monthly = risk_free_rate / 12\n",
    "\n",
    "# Display result\n",
    "print(\"Risk-Free Rate:\", risk_free_rate, \"-- 13 WEEK TREASURY BILL (^IRX)\")\n",
    "daily_risk_free_df.head()"
   ]
  },
  {
   "cell_type": "markdown",
   "id": "119e2261",
   "metadata": {},
   "source": [
    "#### Report File"
   ]
  },
  {
   "cell_type": "code",
   "execution_count": 10,
   "id": "b19e2a7b",
   "metadata": {
    "execution": {
     "iopub.execute_input": "2025-06-02T13:28:30.835903Z",
     "iopub.status.busy": "2025-06-02T13:28:30.835544Z",
     "iopub.status.idle": "2025-06-02T13:28:30.841061Z",
     "shell.execute_reply": "2025-06-02T13:28:30.840100Z"
    }
   },
   "outputs": [
    {
     "name": "stdout",
     "output_type": "stream",
     "text": [
      "Using most recent portfolio file: portfolios/portfolio-2025-05-30.xlsx\n"
     ]
    }
   ],
   "source": [
    "# Get the most recent portfolio file\n",
    "portfolio_files = glob.glob('portfolios/portfolio-*.xlsx')\n",
    "if portfolio_files:\n",
    "    # Sort files by modification time (most recent first)\n",
    "    output_file = max(portfolio_files, key=os.path.getmtime)\n",
    "    print(f\"Using most recent portfolio file: {output_file}\")\n",
    "else:\n",
    "    # Fallback to current date if no files found\n",
    "    output_file = f'portfolios/portfolio-{datetime.date(end_date)}.xlsx'\n",
    "    print(f\"No portfolio files found. Using: {output_file}\")"
   ]
  },
  {
   "cell_type": "markdown",
   "id": "955d4081",
   "metadata": {},
   "source": [
    "### Step 3: Read ETF Data"
   ]
  },
  {
   "cell_type": "code",
   "execution_count": 11,
   "id": "4339ebf2",
   "metadata": {
    "execution": {
     "iopub.execute_input": "2025-06-02T13:28:30.844553Z",
     "iopub.status.busy": "2025-06-02T13:28:30.844341Z",
     "iopub.status.idle": "2025-06-02T13:28:30.887886Z",
     "shell.execute_reply": "2025-06-02T13:28:30.886516Z"
    }
   },
   "outputs": [
    {
     "data": {
      "application/vnd.microsoft.datawrangler.viewer.v0+json": {
       "columns": [
        {
         "name": "index",
         "rawType": "int64",
         "type": "integer"
        },
        {
         "name": "Symbol",
         "rawType": "object",
         "type": "string"
        },
        {
         "name": "Name",
         "rawType": "object",
         "type": "string"
        },
        {
         "name": "Sectors",
         "rawType": "object",
         "type": "unknown"
        }
       ],
       "ref": "9592de71-24d0-41e7-b084-88dec0303f45",
       "rows": [
        [
         "0",
         "AADR",
         "AdvisorShares Dorsey Wright ADR ETF",
         "{'realestate': 0.0, 'consumer_cyclical': 0.1182, 'basic_materials': 0.0425, 'consumer_defensive': 0.0, 'technology': 0.16479999, 'communication_services': 0.089499995, 'financial_services': 0.33900002, 'utilities': 0.033299997, 'industrials': 0.1005, 'energy': 0.0334, 'healthcare': 0.0788}"
        ],
        [
         "1",
         "ABFL",
         "Abacus FCF Leaders ETF",
         "{'realestate': 0.0, 'consumer_cyclical': 0.1188, 'basic_materials': 0.0, 'consumer_defensive': 0.0765, 'technology': 0.5052, 'communication_services': 0.0709, 'financial_services': 0.042600002, 'utilities': 0.0, 'industrials': 0.041100003, 'energy': 0.0, 'healthcare': 0.1449}"
        ],
        [
         "2",
         "ACWI",
         "iShares MSCI ACWI ETF",
         "{'realestate': 0.0216, 'consumer_cyclical': 0.1039, 'basic_materials': 0.0346, 'consumer_defensive': 0.0641, 'technology': 0.2491, 'communication_services': 0.084, 'financial_services': 0.1752, 'utilities': 0.0269, 'industrials': 0.1021, 'energy': 0.0375, 'healthcare': 0.1012}"
        ],
        [
         "3",
         "ADME",
         "Aptus Drawdown Managed Equity ETF",
         "{'realestate': 0.0222, 'consumer_cyclical': 0.1022, 'basic_materials': 0.0222, 'consumer_defensive': 0.0608, 'technology': 0.3147, 'communication_services': 0.091800004, 'financial_services': 0.1384, 'utilities': 0.0254, 'industrials': 0.0746, 'energy': 0.0357, 'healthcare': 0.111899994}"
        ],
        [
         "4",
         "AGNG",
         "Global X Aging Population ETF",
         "{'realestate': 0.0791, 'consumer_cyclical': 0.0, 'basic_materials': 0.0, 'consumer_defensive': 0.0, 'technology': 0.0, 'communication_services': 0.0, 'financial_services': 0.0, 'utilities': 0.0, 'industrials': 0.0, 'energy': 0.0, 'healthcare': 0.9209}"
        ]
       ],
       "shape": {
        "columns": 3,
        "rows": 5
       }
      },
      "text/html": [
       "<div>\n",
       "<style scoped>\n",
       "    .dataframe tbody tr th:only-of-type {\n",
       "        vertical-align: middle;\n",
       "    }\n",
       "\n",
       "    .dataframe tbody tr th {\n",
       "        vertical-align: top;\n",
       "    }\n",
       "\n",
       "    .dataframe thead th {\n",
       "        text-align: right;\n",
       "    }\n",
       "</style>\n",
       "<table border=\"1\" class=\"dataframe\">\n",
       "  <thead>\n",
       "    <tr style=\"text-align: right;\">\n",
       "      <th></th>\n",
       "      <th>Symbol</th>\n",
       "      <th>Name</th>\n",
       "      <th>Sectors</th>\n",
       "    </tr>\n",
       "  </thead>\n",
       "  <tbody>\n",
       "    <tr>\n",
       "      <th>0</th>\n",
       "      <td>AADR</td>\n",
       "      <td>AdvisorShares Dorsey Wright ADR ETF</td>\n",
       "      <td>{'realestate': 0.0, 'consumer_cyclical': 0.118...</td>\n",
       "    </tr>\n",
       "    <tr>\n",
       "      <th>1</th>\n",
       "      <td>ABFL</td>\n",
       "      <td>Abacus FCF Leaders ETF</td>\n",
       "      <td>{'realestate': 0.0, 'consumer_cyclical': 0.118...</td>\n",
       "    </tr>\n",
       "    <tr>\n",
       "      <th>2</th>\n",
       "      <td>ACWI</td>\n",
       "      <td>iShares MSCI ACWI ETF</td>\n",
       "      <td>{'realestate': 0.0216, 'consumer_cyclical': 0....</td>\n",
       "    </tr>\n",
       "    <tr>\n",
       "      <th>3</th>\n",
       "      <td>ADME</td>\n",
       "      <td>Aptus Drawdown Managed Equity ETF</td>\n",
       "      <td>{'realestate': 0.0222, 'consumer_cyclical': 0....</td>\n",
       "    </tr>\n",
       "    <tr>\n",
       "      <th>4</th>\n",
       "      <td>AGNG</td>\n",
       "      <td>Global X Aging Population ETF</td>\n",
       "      <td>{'realestate': 0.0791, 'consumer_cyclical': 0....</td>\n",
       "    </tr>\n",
       "  </tbody>\n",
       "</table>\n",
       "</div>"
      ],
      "text/plain": [
       "  Symbol                                 Name  \\\n",
       "0   AADR  AdvisorShares Dorsey Wright ADR ETF   \n",
       "1   ABFL               Abacus FCF Leaders ETF   \n",
       "2   ACWI                iShares MSCI ACWI ETF   \n",
       "3   ADME    Aptus Drawdown Managed Equity ETF   \n",
       "4   AGNG        Global X Aging Population ETF   \n",
       "\n",
       "                                             Sectors  \n",
       "0  {'realestate': 0.0, 'consumer_cyclical': 0.118...  \n",
       "1  {'realestate': 0.0, 'consumer_cyclical': 0.118...  \n",
       "2  {'realestate': 0.0216, 'consumer_cyclical': 0....  \n",
       "3  {'realestate': 0.0222, 'consumer_cyclical': 0....  \n",
       "4  {'realestate': 0.0791, 'consumer_cyclical': 0....  "
      ]
     },
     "execution_count": 11,
     "metadata": {},
     "output_type": "execute_result"
    }
   ],
   "source": [
    "# Load Data\n",
    "sectors_df = pd.read_csv(\"data/fundamentals_benchmark.csv\") \n",
    "sectors_df = sectors_df[[\"Ticker\", \"Name\", \"Sector Weightings\"]]\n",
    "sectors_df = sectors_df.rename(columns={\"Name\": \"Name\", \"Ticker\": \"Symbol\", \"Sector Weightings\": \"Sectors\"})\n",
    "\n",
    "# Convert string representations of dictionaries to actual dictionaries\n",
    "sectors_df['Sectors'] = sectors_df['Sectors'].apply(lambda x: ast.literal_eval(x) if isinstance(x, str) and x.strip() else {})\n",
    "\n",
    "# Display\n",
    "sectors_df.head()"
   ]
  },
  {
   "cell_type": "markdown",
   "id": "30db5c6d",
   "metadata": {},
   "source": [
    "### Step 4: Read Portfolio Data (Excel)"
   ]
  },
  {
   "cell_type": "code",
   "execution_count": 12,
   "id": "7cc2ecd6",
   "metadata": {
    "execution": {
     "iopub.execute_input": "2025-06-02T13:28:30.891757Z",
     "iopub.status.busy": "2025-06-02T13:28:30.890808Z",
     "iopub.status.idle": "2025-06-02T13:28:30.943911Z",
     "shell.execute_reply": "2025-06-02T13:28:30.942866Z"
    }
   },
   "outputs": [
    {
     "name": "stdout",
     "output_type": "stream",
     "text": [
      "['PH', 'TMUS', 'MMC', 'MS', 'SO']\n"
     ]
    },
    {
     "data": {
      "application/vnd.microsoft.datawrangler.viewer.v0+json": {
       "columns": [
        {
         "name": "index",
         "rawType": "int64",
         "type": "integer"
        },
        {
         "name": "Ticker",
         "rawType": "object",
         "type": "string"
        },
        {
         "name": "Date",
         "rawType": "object",
         "type": "string"
        },
        {
         "name": "Name",
         "rawType": "object",
         "type": "string"
        },
        {
         "name": "Sector",
         "rawType": "object",
         "type": "string"
        },
        {
         "name": "Industry",
         "rawType": "object",
         "type": "string"
        },
        {
         "name": "Country",
         "rawType": "object",
         "type": "string"
        },
        {
         "name": "Website",
         "rawType": "object",
         "type": "string"
        },
        {
         "name": "Market Cap",
         "rawType": "int64",
         "type": "integer"
        },
        {
         "name": "Enterprise Value",
         "rawType": "int64",
         "type": "integer"
        },
        {
         "name": "Float Shares",
         "rawType": "int64",
         "type": "integer"
        },
        {
         "name": "Shares Outstanding",
         "rawType": "int64",
         "type": "integer"
        },
        {
         "name": "P/E (trailing)",
         "rawType": "float64",
         "type": "float"
        },
        {
         "name": "P/E (forward)",
         "rawType": "float64",
         "type": "float"
        },
        {
         "name": "P/S",
         "rawType": "float64",
         "type": "float"
        },
        {
         "name": "P/B",
         "rawType": "float64",
         "type": "float"
        },
        {
         "name": "EV/EBITDA",
         "rawType": "float64",
         "type": "float"
        },
        {
         "name": "EV/Revenue",
         "rawType": "float64",
         "type": "float"
        },
        {
         "name": "Gross Margin (%)",
         "rawType": "float64",
         "type": "float"
        },
        {
         "name": "EBITDA Margin (%)",
         "rawType": "float64",
         "type": "float"
        },
        {
         "name": "Operating Margin (%)",
         "rawType": "float64",
         "type": "float"
        },
        {
         "name": "Profit Margin (%)",
         "rawType": "float64",
         "type": "float"
        },
        {
         "name": "ROE",
         "rawType": "float64",
         "type": "float"
        },
        {
         "name": "ROA",
         "rawType": "float64",
         "type": "float"
        },
        {
         "name": "Revenue (TTM)",
         "rawType": "int64",
         "type": "integer"
        },
        {
         "name": "Revenue Growth (%)",
         "rawType": "float64",
         "type": "float"
        },
        {
         "name": "EPS (trailing)",
         "rawType": "float64",
         "type": "float"
        },
        {
         "name": "EPS (forward)",
         "rawType": "float64",
         "type": "float"
        },
        {
         "name": "Earnings Growth (%)",
         "rawType": "float64",
         "type": "float"
        },
        {
         "name": "Earnings Quarterly Growth (%)",
         "rawType": "float64",
         "type": "float"
        },
        {
         "name": "Total Cash",
         "rawType": "int64",
         "type": "integer"
        },
        {
         "name": "Total Debt",
         "rawType": "int64",
         "type": "integer"
        },
        {
         "name": "Debt to Equity",
         "rawType": "float64",
         "type": "float"
        },
        {
         "name": "Current Ratio",
         "rawType": "float64",
         "type": "float"
        },
        {
         "name": "Quick Ratio",
         "rawType": "float64",
         "type": "float"
        },
        {
         "name": "Book Value",
         "rawType": "float64",
         "type": "float"
        },
        {
         "name": "Free Cash Flow",
         "rawType": "float64",
         "type": "float"
        },
        {
         "name": "Operating Cash Flow",
         "rawType": "int64",
         "type": "integer"
        },
        {
         "name": "Dividend Yield (%)",
         "rawType": "float64",
         "type": "float"
        },
        {
         "name": "Dividend Rate (%)",
         "rawType": "float64",
         "type": "float"
        },
        {
         "name": "5Y Avg Dividend Yield (%)",
         "rawType": "float64",
         "type": "float"
        },
        {
         "name": "Payout Ratio (%)",
         "rawType": "float64",
         "type": "float"
        },
        {
         "name": "Price",
         "rawType": "float64",
         "type": "float"
        },
        {
         "name": "Target Price",
         "rawType": "float64",
         "type": "float"
        },
        {
         "name": "Target High",
         "rawType": "int64",
         "type": "integer"
        },
        {
         "name": "Target Low",
         "rawType": "float64",
         "type": "float"
        },
        {
         "name": "Analyst Rating",
         "rawType": "object",
         "type": "string"
        },
        {
         "name": "Analyst Rating Value",
         "rawType": "float64",
         "type": "float"
        },
        {
         "name": "Beta",
         "rawType": "float64",
         "type": "float"
        },
        {
         "name": "52W High",
         "rawType": "float64",
         "type": "float"
        },
        {
         "name": "52W Low",
         "rawType": "float64",
         "type": "float"
        },
        {
         "name": "50 Day Avg",
         "rawType": "float64",
         "type": "float"
        },
        {
         "name": "200 Day Avg",
         "rawType": "float64",
         "type": "float"
        },
        {
         "name": "Short Ratio",
         "rawType": "float64",
         "type": "float"
        },
        {
         "name": "Short % of Float",
         "rawType": "float64",
         "type": "float"
        },
        {
         "name": "Weight",
         "rawType": "float64",
         "type": "float"
        },
        {
         "name": "Expected Return",
         "rawType": "float64",
         "type": "float"
        },
        {
         "name": "Standard Deviation",
         "rawType": "float64",
         "type": "float"
        },
        {
         "name": "Sharpe Ratio",
         "rawType": "float64",
         "type": "float"
        }
       ],
       "ref": "29dbe5dd-8615-426c-85a3-2cb1bdfe4634",
       "rows": [
        [
         "0",
         "PH",
         "2025-06-02",
         "Parker-Hannifin Corporation",
         "Industrials",
         "Specialty Industrial Machinery",
         "United States",
         "https://investors.parker.com",
         "84934041600",
         "93907066880",
         "127309059",
         "127778000",
         "25.58",
         "22.58",
         "4.29",
         "6.34",
         "18.65",
         "4.74",
         "0.3665",
         "0.2544",
         "0.2166",
         "0.1714",
         "0.27",
         "0.09",
         "19793741824",
         "-0.022",
         "25.99",
         "29.44",
         "0.326",
         "0.322",
         "408735008",
         "9372912640",
         "69.95",
         "1.21",
         "0.64",
         "104.8",
         "2980823296.0",
         "3546012928",
         "0.0108",
         "0.072",
         "0.0136",
         "0.2509",
         "664.7",
         "712.97",
         "849",
         "500.0",
         "buy",
         "1.7",
         "1.34",
         "718.44",
         "488.45",
         "616.15",
         "638.43",
         "2.02",
         "0.01",
         "0.2559030225623474",
         "0.2554906349701063",
         "0.3015696006226802",
         "0.8472028826598232"
        ],
        [
         "1",
         "TMUS",
         "2025-06-02",
         "T-Mobile US, Inc.",
         "Communication Services",
         "Telecom Services",
         "United States",
         "https://www.t-mobile.com",
         "275005997056",
         "384693796864",
         "452736028",
         "1135449984",
         "23.63",
         "22.7",
         "3.33",
         "4.51",
         "12.17",
         "4.65",
         "0.6385",
         "0.3822",
         "0.2298",
         "0.1441",
         "0.19",
         "0.06",
         "82691997696",
         "0.066",
         "10.25",
         "10.67",
         "0.29",
         "0.244",
         "12003000320",
         "121691996160",
         "199.15",
         "1.16",
         "0.9",
         "53.73",
         "9022624768.0",
         "24056000512",
         "0.0145",
         "0.0352",
         "0.0",
         "0.2988",
         "242.2",
         "269.22",
         "305",
         "202.99",
         "buy",
         "2.07",
         "0.63",
         "276.49",
         "171.18",
         "251.2",
         "232.97",
         "3.11",
         "0.03",
         "0.2384388046445317",
         "0.1654490134069311",
         "0.242121531425207",
         "0.683330443323416"
        ],
        [
         "2",
         "MMC",
         "2025-06-02",
         "Marsh & McLennan Companies, Inc.",
         "Financial Services",
         "Insurance Brokers",
         "United States",
         "https://www.marshmclennan.com",
         "115130826752",
         "136148770816",
         "491821141",
         "492728000",
         "28.67",
         "24.78",
         "4.6",
         "8.18",
         "18.35",
         "5.44",
         "0.4432",
         "0.2962",
         "0.3044",
         "0.1613",
         "0.31",
         "0.08",
         "25045999616",
         "0.091",
         "8.15",
         "9.43",
         "-0.011",
         "-0.014",
         "1604000000",
         "22418999296",
         "157.13",
         "1.14",
         "0.5",
         "28.55",
         "4121999872.0",
         "4461000192",
         "0.014",
         "0.0326",
         "0.0138",
         "0.4871",
         "233.66",
         "233.22",
         "276",
         "189.21",
         "hold",
         "2.7",
         "0.83",
         "248.0",
         "205.17",
         "229.54",
         "225.3",
         "2.62",
         "0.01",
         "0.2342411208344718",
         "0.1647479645291372",
         "0.1932647491276115",
         "0.8524470462037294"
        ],
        [
         "3",
         "MS",
         "2025-06-02",
         "Morgan Stanley",
         "Financial Services",
         "Capital Markets",
         "United States",
         "https://www.morganstanley.com",
         "205401079808",
         "116566982656",
         "1222507242",
         "1604320000",
         "15.01",
         "16.15",
         "3.21",
         "2.12",
         null,
         "1.82",
         "0.8655",
         "0.0",
         "0.3746",
         "0.2235",
         "0.14",
         "0.01",
         "63958999040",
         "0.163",
         "8.53",
         "7.93",
         "0.287",
         "0.265",
         "548954996736",
         "449335984128",
         "416.64",
         "2.07",
         "1.66",
         "60.41",
         null,
         "-26973999104",
         "0.0289",
         "0.037",
         "0.0298",
         "0.425",
         "128.03",
         "124.13",
         "156",
         "101.0",
         "none",
         null,
         "1.29",
         "142.03",
         "90.94",
         "118.37",
         "119.95",
         "2.69",
         "0.01",
         "0.1613660140557548",
         "0.2342749281602685",
         "0.3003450400324182",
         "0.7800193009179766"
        ],
        [
         "4",
         "SO",
         "2025-06-02",
         "The Southern Company",
         "Utilities",
         "Utilities - Regulated Electric",
         "United States",
         "https://www.southerncompany.com",
         "99017097216",
         "170091954176",
         "1095713937",
         "1100189952",
         "21.58",
         "20.83",
         "3.55",
         "2.92",
         "12.72",
         "6.11",
         "0.4969",
         "0.4802",
         "0.2782",
         "0.1654",
         "0.12",
         "0.03",
         "27853000704",
         "0.17",
         "4.17",
         "4.32",
         "0.175",
         "0.182",
         "2327000064",
         "70119997440",
         "188.38",
         "0.86",
         "0.48",
         "30.79",
         "407249984.0",
         "9726999552",
         "0.0329",
         "0.0296",
         "0.0388",
         "0.6906",
         "90.0",
         "91.86",
         "104",
         "72.0",
         "hold",
         "2.7",
         "0.37",
         "94.45",
         "76.96",
         "89.88",
         "87.92",
         "5.08",
         "0.02",
         "0.1100510379028942",
         "0.1136168169576792",
         "0.1948028385822788",
         "0.5832400481663975"
        ]
       ],
       "shape": {
        "columns": 58,
        "rows": 5
       }
      },
      "text/html": [
       "<div>\n",
       "<style scoped>\n",
       "    .dataframe tbody tr th:only-of-type {\n",
       "        vertical-align: middle;\n",
       "    }\n",
       "\n",
       "    .dataframe tbody tr th {\n",
       "        vertical-align: top;\n",
       "    }\n",
       "\n",
       "    .dataframe thead th {\n",
       "        text-align: right;\n",
       "    }\n",
       "</style>\n",
       "<table border=\"1\" class=\"dataframe\">\n",
       "  <thead>\n",
       "    <tr style=\"text-align: right;\">\n",
       "      <th></th>\n",
       "      <th>Ticker</th>\n",
       "      <th>Date</th>\n",
       "      <th>Name</th>\n",
       "      <th>Sector</th>\n",
       "      <th>Industry</th>\n",
       "      <th>Country</th>\n",
       "      <th>Website</th>\n",
       "      <th>Market Cap</th>\n",
       "      <th>Enterprise Value</th>\n",
       "      <th>Float Shares</th>\n",
       "      <th>...</th>\n",
       "      <th>52W High</th>\n",
       "      <th>52W Low</th>\n",
       "      <th>50 Day Avg</th>\n",
       "      <th>200 Day Avg</th>\n",
       "      <th>Short Ratio</th>\n",
       "      <th>Short % of Float</th>\n",
       "      <th>Weight</th>\n",
       "      <th>Expected Return</th>\n",
       "      <th>Standard Deviation</th>\n",
       "      <th>Sharpe Ratio</th>\n",
       "    </tr>\n",
       "  </thead>\n",
       "  <tbody>\n",
       "    <tr>\n",
       "      <th>0</th>\n",
       "      <td>PH</td>\n",
       "      <td>2025-06-02</td>\n",
       "      <td>Parker-Hannifin Corporation</td>\n",
       "      <td>Industrials</td>\n",
       "      <td>Specialty Industrial Machinery</td>\n",
       "      <td>United States</td>\n",
       "      <td>https://investors.parker.com</td>\n",
       "      <td>84934041600</td>\n",
       "      <td>93907066880</td>\n",
       "      <td>127309059</td>\n",
       "      <td>...</td>\n",
       "      <td>718.44</td>\n",
       "      <td>488.45</td>\n",
       "      <td>616.15</td>\n",
       "      <td>638.43</td>\n",
       "      <td>2.02</td>\n",
       "      <td>0.01</td>\n",
       "      <td>0.255903</td>\n",
       "      <td>0.255491</td>\n",
       "      <td>0.301570</td>\n",
       "      <td>0.847203</td>\n",
       "    </tr>\n",
       "    <tr>\n",
       "      <th>1</th>\n",
       "      <td>TMUS</td>\n",
       "      <td>2025-06-02</td>\n",
       "      <td>T-Mobile US, Inc.</td>\n",
       "      <td>Communication Services</td>\n",
       "      <td>Telecom Services</td>\n",
       "      <td>United States</td>\n",
       "      <td>https://www.t-mobile.com</td>\n",
       "      <td>275005997056</td>\n",
       "      <td>384693796864</td>\n",
       "      <td>452736028</td>\n",
       "      <td>...</td>\n",
       "      <td>276.49</td>\n",
       "      <td>171.18</td>\n",
       "      <td>251.20</td>\n",
       "      <td>232.97</td>\n",
       "      <td>3.11</td>\n",
       "      <td>0.03</td>\n",
       "      <td>0.238439</td>\n",
       "      <td>0.165449</td>\n",
       "      <td>0.242122</td>\n",
       "      <td>0.683330</td>\n",
       "    </tr>\n",
       "    <tr>\n",
       "      <th>2</th>\n",
       "      <td>MMC</td>\n",
       "      <td>2025-06-02</td>\n",
       "      <td>Marsh &amp; McLennan Companies, Inc.</td>\n",
       "      <td>Financial Services</td>\n",
       "      <td>Insurance Brokers</td>\n",
       "      <td>United States</td>\n",
       "      <td>https://www.marshmclennan.com</td>\n",
       "      <td>115130826752</td>\n",
       "      <td>136148770816</td>\n",
       "      <td>491821141</td>\n",
       "      <td>...</td>\n",
       "      <td>248.00</td>\n",
       "      <td>205.17</td>\n",
       "      <td>229.54</td>\n",
       "      <td>225.30</td>\n",
       "      <td>2.62</td>\n",
       "      <td>0.01</td>\n",
       "      <td>0.234241</td>\n",
       "      <td>0.164748</td>\n",
       "      <td>0.193265</td>\n",
       "      <td>0.852447</td>\n",
       "    </tr>\n",
       "    <tr>\n",
       "      <th>3</th>\n",
       "      <td>MS</td>\n",
       "      <td>2025-06-02</td>\n",
       "      <td>Morgan Stanley</td>\n",
       "      <td>Financial Services</td>\n",
       "      <td>Capital Markets</td>\n",
       "      <td>United States</td>\n",
       "      <td>https://www.morganstanley.com</td>\n",
       "      <td>205401079808</td>\n",
       "      <td>116566982656</td>\n",
       "      <td>1222507242</td>\n",
       "      <td>...</td>\n",
       "      <td>142.03</td>\n",
       "      <td>90.94</td>\n",
       "      <td>118.37</td>\n",
       "      <td>119.95</td>\n",
       "      <td>2.69</td>\n",
       "      <td>0.01</td>\n",
       "      <td>0.161366</td>\n",
       "      <td>0.234275</td>\n",
       "      <td>0.300345</td>\n",
       "      <td>0.780019</td>\n",
       "    </tr>\n",
       "    <tr>\n",
       "      <th>4</th>\n",
       "      <td>SO</td>\n",
       "      <td>2025-06-02</td>\n",
       "      <td>The Southern Company</td>\n",
       "      <td>Utilities</td>\n",
       "      <td>Utilities - Regulated Electric</td>\n",
       "      <td>United States</td>\n",
       "      <td>https://www.southerncompany.com</td>\n",
       "      <td>99017097216</td>\n",
       "      <td>170091954176</td>\n",
       "      <td>1095713937</td>\n",
       "      <td>...</td>\n",
       "      <td>94.45</td>\n",
       "      <td>76.96</td>\n",
       "      <td>89.88</td>\n",
       "      <td>87.92</td>\n",
       "      <td>5.08</td>\n",
       "      <td>0.02</td>\n",
       "      <td>0.110051</td>\n",
       "      <td>0.113617</td>\n",
       "      <td>0.194803</td>\n",
       "      <td>0.583240</td>\n",
       "    </tr>\n",
       "  </tbody>\n",
       "</table>\n",
       "<p>5 rows × 58 columns</p>\n",
       "</div>"
      ],
      "text/plain": [
       "  Ticker        Date                              Name  \\\n",
       "0     PH  2025-06-02       Parker-Hannifin Corporation   \n",
       "1   TMUS  2025-06-02                 T-Mobile US, Inc.   \n",
       "2    MMC  2025-06-02  Marsh & McLennan Companies, Inc.   \n",
       "3     MS  2025-06-02                    Morgan Stanley   \n",
       "4     SO  2025-06-02              The Southern Company   \n",
       "\n",
       "                   Sector                        Industry        Country  \\\n",
       "0             Industrials  Specialty Industrial Machinery  United States   \n",
       "1  Communication Services                Telecom Services  United States   \n",
       "2      Financial Services               Insurance Brokers  United States   \n",
       "3      Financial Services                 Capital Markets  United States   \n",
       "4               Utilities  Utilities - Regulated Electric  United States   \n",
       "\n",
       "                           Website    Market Cap  Enterprise Value  \\\n",
       "0     https://investors.parker.com   84934041600       93907066880   \n",
       "1         https://www.t-mobile.com  275005997056      384693796864   \n",
       "2    https://www.marshmclennan.com  115130826752      136148770816   \n",
       "3    https://www.morganstanley.com  205401079808      116566982656   \n",
       "4  https://www.southerncompany.com   99017097216      170091954176   \n",
       "\n",
       "   Float Shares  ...  52W High  52W Low  50 Day Avg  200 Day Avg  Short Ratio  \\\n",
       "0     127309059  ...    718.44   488.45      616.15       638.43         2.02   \n",
       "1     452736028  ...    276.49   171.18      251.20       232.97         3.11   \n",
       "2     491821141  ...    248.00   205.17      229.54       225.30         2.62   \n",
       "3    1222507242  ...    142.03    90.94      118.37       119.95         2.69   \n",
       "4    1095713937  ...     94.45    76.96       89.88        87.92         5.08   \n",
       "\n",
       "   Short % of Float    Weight  Expected Return  Standard Deviation  \\\n",
       "0              0.01  0.255903         0.255491            0.301570   \n",
       "1              0.03  0.238439         0.165449            0.242122   \n",
       "2              0.01  0.234241         0.164748            0.193265   \n",
       "3              0.01  0.161366         0.234275            0.300345   \n",
       "4              0.02  0.110051         0.113617            0.194803   \n",
       "\n",
       "   Sharpe Ratio  \n",
       "0      0.847203  \n",
       "1      0.683330  \n",
       "2      0.852447  \n",
       "3      0.780019  \n",
       "4      0.583240  \n",
       "\n",
       "[5 rows x 58 columns]"
      ]
     },
     "metadata": {},
     "output_type": "display_data"
    }
   ],
   "source": [
    "portfolio_df = pd.read_excel(output_file, sheet_name=\"long_term\")   \n",
    "portfolio_tickers = portfolio_df[\"Ticker\"].tolist()\n",
    "# portfolio_df[\"Weight\"] = portfolio_df['Weight'].str.rstrip('%').astype(float) / 100\n",
    "portfolio_df[\"P/E (trailing)\"] = pd.to_numeric(portfolio_df[\"P/E (trailing)\"], errors=\"coerce\")\n",
    "\n",
    "print(portfolio_tickers)\n",
    "display(portfolio_df)"
   ]
  },
  {
   "cell_type": "markdown",
   "id": "bdc9579a",
   "metadata": {},
   "source": [
    "### Step 5: Benchmark Sector Screening"
   ]
  },
  {
   "cell_type": "markdown",
   "id": "8afc63ee",
   "metadata": {},
   "source": [
    "#### Filter Sectors by Portfolio"
   ]
  },
  {
   "cell_type": "code",
   "execution_count": 13,
   "id": "fcc09a94",
   "metadata": {
    "execution": {
     "iopub.execute_input": "2025-06-02T13:28:30.946684Z",
     "iopub.status.busy": "2025-06-02T13:28:30.946200Z",
     "iopub.status.idle": "2025-06-02T13:28:30.961848Z",
     "shell.execute_reply": "2025-06-02T13:28:30.961075Z"
    }
   },
   "outputs": [
    {
     "name": "stdout",
     "output_type": "stream",
     "text": [
      "Number of benchmarks left: 289\n"
     ]
    },
    {
     "data": {
      "application/vnd.microsoft.datawrangler.viewer.v0+json": {
       "columns": [
        {
         "name": "index",
         "rawType": "int64",
         "type": "integer"
        },
        {
         "name": "Symbol",
         "rawType": "object",
         "type": "string"
        },
        {
         "name": "Name",
         "rawType": "object",
         "type": "string"
        },
        {
         "name": "Sectors",
         "rawType": "object",
         "type": "unknown"
        }
       ],
       "ref": "e0b260e8-5664-4886-bdf3-72704f374ea7",
       "rows": [
        [
         "0",
         "AADR",
         "AdvisorShares Dorsey Wright ADR ETF",
         "{'realestate': 0.0, 'consumer_cyclical': 0.1182, 'basic_materials': 0.0425, 'consumer_defensive': 0.0, 'technology': 0.16479999, 'communication_services': 0.089499995, 'financial_services': 0.33900002, 'utilities': 0.033299997, 'industrials': 0.1005, 'energy': 0.0334, 'healthcare': 0.0788}"
        ],
        [
         "1",
         "ACWI",
         "iShares MSCI ACWI ETF",
         "{'realestate': 0.0216, 'consumer_cyclical': 0.1039, 'basic_materials': 0.0346, 'consumer_defensive': 0.0641, 'technology': 0.2491, 'communication_services': 0.084, 'financial_services': 0.1752, 'utilities': 0.0269, 'industrials': 0.1021, 'energy': 0.0375, 'healthcare': 0.1012}"
        ],
        [
         "2",
         "ADME",
         "Aptus Drawdown Managed Equity ETF",
         "{'realestate': 0.0222, 'consumer_cyclical': 0.1022, 'basic_materials': 0.0222, 'consumer_defensive': 0.0608, 'technology': 0.3147, 'communication_services': 0.091800004, 'financial_services': 0.1384, 'utilities': 0.0254, 'industrials': 0.0746, 'energy': 0.0357, 'healthcare': 0.111899994}"
        ],
        [
         "3",
         "AOA",
         "iShares Core 80/20 Aggressive Allocation ETF",
         "{'realestate': 0.0279, 'consumer_cyclical': 0.106000006, 'basic_materials': 0.039300002, 'consumer_defensive': 0.0616, 'technology': 0.2305, 'communication_services': 0.0776, 'financial_services': 0.1762, 'utilities': 0.0278, 'industrials': 0.1101, 'energy': 0.0417, 'healthcare': 0.1012}"
        ],
        [
         "4",
         "AOK",
         "iShares Core 30/70 Conservative Allocation ETF",
         "{'realestate': 0.027999999, 'consumer_cyclical': 0.1066, 'basic_materials': 0.038399998, 'consumer_defensive': 0.0633, 'technology': 0.2353, 'communication_services': 0.078600004, 'financial_services': 0.1749, 'utilities': 0.0277, 'industrials': 0.1105, 'energy': 0.038, 'healthcare': 0.0988}"
        ]
       ],
       "shape": {
        "columns": 3,
        "rows": 5
       }
      },
      "text/html": [
       "<div>\n",
       "<style scoped>\n",
       "    .dataframe tbody tr th:only-of-type {\n",
       "        vertical-align: middle;\n",
       "    }\n",
       "\n",
       "    .dataframe tbody tr th {\n",
       "        vertical-align: top;\n",
       "    }\n",
       "\n",
       "    .dataframe thead th {\n",
       "        text-align: right;\n",
       "    }\n",
       "</style>\n",
       "<table border=\"1\" class=\"dataframe\">\n",
       "  <thead>\n",
       "    <tr style=\"text-align: right;\">\n",
       "      <th></th>\n",
       "      <th>Symbol</th>\n",
       "      <th>Name</th>\n",
       "      <th>Sectors</th>\n",
       "    </tr>\n",
       "  </thead>\n",
       "  <tbody>\n",
       "    <tr>\n",
       "      <th>0</th>\n",
       "      <td>AADR</td>\n",
       "      <td>AdvisorShares Dorsey Wright ADR ETF</td>\n",
       "      <td>{'realestate': 0.0, 'consumer_cyclical': 0.118...</td>\n",
       "    </tr>\n",
       "    <tr>\n",
       "      <th>1</th>\n",
       "      <td>ACWI</td>\n",
       "      <td>iShares MSCI ACWI ETF</td>\n",
       "      <td>{'realestate': 0.0216, 'consumer_cyclical': 0....</td>\n",
       "    </tr>\n",
       "    <tr>\n",
       "      <th>2</th>\n",
       "      <td>ADME</td>\n",
       "      <td>Aptus Drawdown Managed Equity ETF</td>\n",
       "      <td>{'realestate': 0.0222, 'consumer_cyclical': 0....</td>\n",
       "    </tr>\n",
       "    <tr>\n",
       "      <th>3</th>\n",
       "      <td>AOA</td>\n",
       "      <td>iShares Core 80/20 Aggressive Allocation ETF</td>\n",
       "      <td>{'realestate': 0.0279, 'consumer_cyclical': 0....</td>\n",
       "    </tr>\n",
       "    <tr>\n",
       "      <th>4</th>\n",
       "      <td>AOK</td>\n",
       "      <td>iShares Core 30/70 Conservative Allocation ETF</td>\n",
       "      <td>{'realestate': 0.027999999, 'consumer_cyclical...</td>\n",
       "    </tr>\n",
       "  </tbody>\n",
       "</table>\n",
       "</div>"
      ],
      "text/plain": [
       "  Symbol                                            Name  \\\n",
       "0   AADR             AdvisorShares Dorsey Wright ADR ETF   \n",
       "1   ACWI                           iShares MSCI ACWI ETF   \n",
       "2   ADME               Aptus Drawdown Managed Equity ETF   \n",
       "3    AOA    iShares Core 80/20 Aggressive Allocation ETF   \n",
       "4    AOK  iShares Core 30/70 Conservative Allocation ETF   \n",
       "\n",
       "                                             Sectors  \n",
       "0  {'realestate': 0.0, 'consumer_cyclical': 0.118...  \n",
       "1  {'realestate': 0.0216, 'consumer_cyclical': 0....  \n",
       "2  {'realestate': 0.0222, 'consumer_cyclical': 0....  \n",
       "3  {'realestate': 0.0279, 'consumer_cyclical': 0....  \n",
       "4  {'realestate': 0.027999999, 'consumer_cyclical...  "
      ]
     },
     "metadata": {},
     "output_type": "display_data"
    }
   ],
   "source": [
    "# Sort portfolio sectors by weight (descending)\n",
    "portfolio_sector_weights = (\n",
    "    portfolio_df.groupby('Sector')['Weight'].sum()\n",
    "    .sort_values(ascending=False)\n",
    ")\n",
    "ordered_portfolio_sectors = [sector.strip() for sector in portfolio_sector_weights.index]\n",
    "normalized_ordered_portfolio_sectors = [sector.strip().lower().replace(\" \", \"_\") for sector in ordered_portfolio_sectors]\n",
    "\n",
    "# Filter directly with lambda expression instead of using a separate function\n",
    "filtered_sectors_df = sectors_df[\n",
    "    sectors_df['Sectors'].apply(\n",
    "        lambda sector_dict: isinstance(sector_dict, dict) and all(\n",
    "            sector in sector_dict and sector_dict[sector] > 0 \n",
    "            for sector in normalized_ordered_portfolio_sectors\n",
    "        )\n",
    "    )\n",
    "].reset_index(drop=True)\n",
    "\n",
    "# Display Outputs\n",
    "tickers = filtered_sectors_df[\"Symbol\"].tolist()\n",
    "print(\"Number of benchmarks left:\", len(tickers))\n",
    "display(filtered_sectors_df.head())"
   ]
  },
  {
   "cell_type": "markdown",
   "id": "c178af0c",
   "metadata": {},
   "source": [
    "#### Import ETF Fundamental Data"
   ]
  },
  {
   "cell_type": "code",
   "execution_count": 14,
   "id": "b483eba0",
   "metadata": {
    "execution": {
     "iopub.execute_input": "2025-06-02T13:28:30.966081Z",
     "iopub.status.busy": "2025-06-02T13:28:30.964923Z",
     "iopub.status.idle": "2025-06-02T13:28:31.003315Z",
     "shell.execute_reply": "2025-06-02T13:28:31.001732Z"
    }
   },
   "outputs": [
    {
     "data": {
      "application/vnd.microsoft.datawrangler.viewer.v0+json": {
       "columns": [
        {
         "name": "index",
         "rawType": "int64",
         "type": "integer"
        },
        {
         "name": "Symbol",
         "rawType": "object",
         "type": "string"
        },
        {
         "name": "Name_x",
         "rawType": "object",
         "type": "string"
        },
        {
         "name": "Sectors",
         "rawType": "object",
         "type": "unknown"
        },
        {
         "name": "Date",
         "rawType": "object",
         "type": "string"
        },
        {
         "name": "Name_y",
         "rawType": "object",
         "type": "string"
        },
        {
         "name": "Sector",
         "rawType": "object",
         "type": "string"
        },
        {
         "name": "Industry",
         "rawType": "object",
         "type": "string"
        },
        {
         "name": "Country",
         "rawType": "object",
         "type": "string"
        },
        {
         "name": "Website",
         "rawType": "object",
         "type": "string"
        },
        {
         "name": "Market Cap",
         "rawType": "float64",
         "type": "float"
        },
        {
         "name": "Shares Outstanding",
         "rawType": "float64",
         "type": "float"
        },
        {
         "name": "P/E (trailing)",
         "rawType": "float64",
         "type": "float"
        },
        {
         "name": "P/E (forward)",
         "rawType": "float64",
         "type": "float"
        },
        {
         "name": "P/B",
         "rawType": "float64",
         "type": "float"
        },
        {
         "name": "Book Value",
         "rawType": "float64",
         "type": "float"
        },
        {
         "name": "Dividend Yield (%)",
         "rawType": "float64",
         "type": "float"
        },
        {
         "name": "Dividend Rate (%)",
         "rawType": "float64",
         "type": "float"
        },
        {
         "name": "5Y Avg Dividend Yield (%)",
         "rawType": "float64",
         "type": "float"
        },
        {
         "name": "Payout Ratio (%)",
         "rawType": "float64",
         "type": "float"
        },
        {
         "name": "Price",
         "rawType": "float64",
         "type": "float"
        },
        {
         "name": "Analyst Rating",
         "rawType": "object",
         "type": "string"
        },
        {
         "name": "52W High",
         "rawType": "float64",
         "type": "float"
        },
        {
         "name": "52W Low",
         "rawType": "float64",
         "type": "float"
        },
        {
         "name": "50 Day Avg",
         "rawType": "float64",
         "type": "float"
        },
        {
         "name": "200 Day Avg",
         "rawType": "float64",
         "type": "float"
        },
        {
         "name": "Sector Weightings",
         "rawType": "object",
         "type": "string"
        }
       ],
       "ref": "d15679a8-25d0-48a1-9eea-af203e6e8f03",
       "rows": [
        [
         "0",
         "AADR",
         "AdvisorShares Dorsey Wright ADR ETF",
         "{'realestate': 0.0, 'consumer_cyclical': 0.1182, 'basic_materials': 0.0425, 'consumer_defensive': 0.0, 'technology': 0.16479999, 'communication_services': 0.089499995, 'financial_services': 0.33900002, 'utilities': 0.033299997, 'industrials': 0.1005, 'energy': 0.0334, 'healthcare': 0.0788}",
         "2025-06-02",
         "AdvisorShares Dorsey Wright ADR ETF",
         "Unknown",
         "Unknown",
         "Unknown",
         "Unknown",
         "0.0",
         null,
         "14.95",
         null,
         null,
         null,
         "0.0123",
         "0.0",
         "0.0",
         "0.0",
         "77.58",
         "Unknown",
         "81.17",
         "54.57",
         "74.66",
         "70.09",
         "{\"realestate\": 0.0, \"consumer_cyclical\": 0.1182, \"basic_materials\": 0.0425, \"consumer_defensive\": 0.0, \"technology\": 0.16479999, \"communication_services\": 0.089499995, \"financial_services\": 0.33900002, \"utilities\": 0.033299997, \"industrials\": 0.1005, \"energy\": 0.0334, \"healthcare\": 0.0788}"
        ],
        [
         "1",
         "ACWI",
         "iShares MSCI ACWI ETF",
         "{'realestate': 0.0216, 'consumer_cyclical': 0.1039, 'basic_materials': 0.0346, 'consumer_defensive': 0.0641, 'technology': 0.2491, 'communication_services': 0.084, 'financial_services': 0.1752, 'utilities': 0.0269, 'industrials': 0.1021, 'energy': 0.0375, 'healthcare': 0.1012}",
         "2025-06-02",
         "iShares MSCI ACWI ETF",
         "Unknown",
         "Unknown",
         "Unknown",
         "Unknown",
         "0.0",
         null,
         "21.39",
         null,
         null,
         null,
         "0.0171",
         "0.0",
         "0.0",
         "0.0",
         "123.65",
         "Unknown",
         "124.54",
         "101.25",
         "117.25",
         "118.68",
         "{\"realestate\": 0.0216, \"consumer_cyclical\": 0.1039, \"basic_materials\": 0.0346, \"consumer_defensive\": 0.0641, \"technology\": 0.2491, \"communication_services\": 0.084, \"financial_services\": 0.1752, \"utilities\": 0.0269, \"industrials\": 0.1021, \"energy\": 0.0375, \"healthcare\": 0.1012}"
        ],
        [
         "2",
         "ADME",
         "Aptus Drawdown Managed Equity ETF",
         "{'realestate': 0.0222, 'consumer_cyclical': 0.1022, 'basic_materials': 0.0222, 'consumer_defensive': 0.0608, 'technology': 0.3147, 'communication_services': 0.091800004, 'financial_services': 0.1384, 'utilities': 0.0254, 'industrials': 0.0746, 'energy': 0.0357, 'healthcare': 0.111899994}",
         "2025-05-02",
         "Aptus Drawdown Managed Equity ETF",
         "Unknown",
         "Unknown",
         "Unknown",
         "Unknown",
         "0.0",
         null,
         "25.43",
         null,
         null,
         null,
         "0.0047",
         "0.0",
         "0.0",
         "0.0",
         "44.46",
         "Unknown",
         "48.56",
         "39.85",
         "44.34",
         "45.9",
         "{\"realestate\": 0.0222, \"consumer_cyclical\": 0.1022, \"basic_materials\": 0.0222, \"consumer_defensive\": 0.0608, \"technology\": 0.3147, \"communication_services\": 0.091800004, \"financial_services\": 0.1384, \"utilities\": 0.0254, \"industrials\": 0.0746, \"energy\": 0.0357, \"healthcare\": 0.111899994}"
        ],
        [
         "3",
         "AOA",
         "iShares Core 80/20 Aggressive Allocation ETF",
         "{'realestate': 0.0279, 'consumer_cyclical': 0.106000006, 'basic_materials': 0.039300002, 'consumer_defensive': 0.0616, 'technology': 0.2305, 'communication_services': 0.0776, 'financial_services': 0.1762, 'utilities': 0.0278, 'industrials': 0.1101, 'energy': 0.0417, 'healthcare': 0.1012}",
         "2025-05-02",
         "iShares Core 80/20 Aggressive Allocation ETF",
         "Unknown",
         "Unknown",
         "Unknown",
         "Unknown",
         "0.0",
         null,
         "20.15",
         null,
         null,
         null,
         "0.023",
         "0.0",
         "0.0",
         "0.0",
         "77.74",
         "Unknown",
         "80.2",
         "68.45",
         "76.13",
         "77.15",
         "{\"realestate\": 0.0279, \"consumer_cyclical\": 0.106000006, \"basic_materials\": 0.039300002, \"consumer_defensive\": 0.0616, \"technology\": 0.2305, \"communication_services\": 0.0776, \"financial_services\": 0.1762, \"utilities\": 0.0278, \"industrials\": 0.1101, \"energy\": 0.0417, \"healthcare\": 0.1012}"
        ],
        [
         "4",
         "AOK",
         "iShares Core 30/70 Conservative Allocation ETF",
         "{'realestate': 0.027999999, 'consumer_cyclical': 0.1066, 'basic_materials': 0.038399998, 'consumer_defensive': 0.0633, 'technology': 0.2353, 'communication_services': 0.078600004, 'financial_services': 0.1749, 'utilities': 0.0277, 'industrials': 0.1105, 'energy': 0.038, 'healthcare': 0.0988}",
         "2025-06-02",
         "iShares Core 30/70 Conservative Allocation ETF",
         "Unknown",
         "Unknown",
         "Unknown",
         "Unknown",
         "0.0",
         null,
         "19.91",
         null,
         null,
         null,
         "0.033",
         "0.0",
         "0.0",
         "0.0",
         "38.21",
         "Unknown",
         "38.77",
         "35.79",
         "37.53",
         "37.84",
         "{\"realestate\": 0.027999999, \"consumer_cyclical\": 0.1066, \"basic_materials\": 0.038399998, \"consumer_defensive\": 0.0633, \"technology\": 0.2353, \"communication_services\": 0.078600004, \"financial_services\": 0.1749, \"utilities\": 0.0277, \"industrials\": 0.1105, \"energy\": 0.038, \"healthcare\": 0.0988}"
        ]
       ],
       "shape": {
        "columns": 26,
        "rows": 5
       }
      },
      "text/html": [
       "<div>\n",
       "<style scoped>\n",
       "    .dataframe tbody tr th:only-of-type {\n",
       "        vertical-align: middle;\n",
       "    }\n",
       "\n",
       "    .dataframe tbody tr th {\n",
       "        vertical-align: top;\n",
       "    }\n",
       "\n",
       "    .dataframe thead th {\n",
       "        text-align: right;\n",
       "    }\n",
       "</style>\n",
       "<table border=\"1\" class=\"dataframe\">\n",
       "  <thead>\n",
       "    <tr style=\"text-align: right;\">\n",
       "      <th></th>\n",
       "      <th>Symbol</th>\n",
       "      <th>Name_x</th>\n",
       "      <th>Sectors</th>\n",
       "      <th>Date</th>\n",
       "      <th>Name_y</th>\n",
       "      <th>Sector</th>\n",
       "      <th>Industry</th>\n",
       "      <th>Country</th>\n",
       "      <th>Website</th>\n",
       "      <th>Market Cap</th>\n",
       "      <th>...</th>\n",
       "      <th>Dividend Rate (%)</th>\n",
       "      <th>5Y Avg Dividend Yield (%)</th>\n",
       "      <th>Payout Ratio (%)</th>\n",
       "      <th>Price</th>\n",
       "      <th>Analyst Rating</th>\n",
       "      <th>52W High</th>\n",
       "      <th>52W Low</th>\n",
       "      <th>50 Day Avg</th>\n",
       "      <th>200 Day Avg</th>\n",
       "      <th>Sector Weightings</th>\n",
       "    </tr>\n",
       "  </thead>\n",
       "  <tbody>\n",
       "    <tr>\n",
       "      <th>0</th>\n",
       "      <td>AADR</td>\n",
       "      <td>AdvisorShares Dorsey Wright ADR ETF</td>\n",
       "      <td>{'realestate': 0.0, 'consumer_cyclical': 0.118...</td>\n",
       "      <td>2025-06-02</td>\n",
       "      <td>AdvisorShares Dorsey Wright ADR ETF</td>\n",
       "      <td>Unknown</td>\n",
       "      <td>Unknown</td>\n",
       "      <td>Unknown</td>\n",
       "      <td>Unknown</td>\n",
       "      <td>0.0</td>\n",
       "      <td>...</td>\n",
       "      <td>0.0</td>\n",
       "      <td>0.0</td>\n",
       "      <td>0.0</td>\n",
       "      <td>77.58</td>\n",
       "      <td>Unknown</td>\n",
       "      <td>81.17</td>\n",
       "      <td>54.57</td>\n",
       "      <td>74.66</td>\n",
       "      <td>70.09</td>\n",
       "      <td>{\"realestate\": 0.0, \"consumer_cyclical\": 0.118...</td>\n",
       "    </tr>\n",
       "    <tr>\n",
       "      <th>1</th>\n",
       "      <td>ACWI</td>\n",
       "      <td>iShares MSCI ACWI ETF</td>\n",
       "      <td>{'realestate': 0.0216, 'consumer_cyclical': 0....</td>\n",
       "      <td>2025-06-02</td>\n",
       "      <td>iShares MSCI ACWI ETF</td>\n",
       "      <td>Unknown</td>\n",
       "      <td>Unknown</td>\n",
       "      <td>Unknown</td>\n",
       "      <td>Unknown</td>\n",
       "      <td>0.0</td>\n",
       "      <td>...</td>\n",
       "      <td>0.0</td>\n",
       "      <td>0.0</td>\n",
       "      <td>0.0</td>\n",
       "      <td>123.65</td>\n",
       "      <td>Unknown</td>\n",
       "      <td>124.54</td>\n",
       "      <td>101.25</td>\n",
       "      <td>117.25</td>\n",
       "      <td>118.68</td>\n",
       "      <td>{\"realestate\": 0.0216, \"consumer_cyclical\": 0....</td>\n",
       "    </tr>\n",
       "    <tr>\n",
       "      <th>2</th>\n",
       "      <td>ADME</td>\n",
       "      <td>Aptus Drawdown Managed Equity ETF</td>\n",
       "      <td>{'realestate': 0.0222, 'consumer_cyclical': 0....</td>\n",
       "      <td>2025-05-02</td>\n",
       "      <td>Aptus Drawdown Managed Equity ETF</td>\n",
       "      <td>Unknown</td>\n",
       "      <td>Unknown</td>\n",
       "      <td>Unknown</td>\n",
       "      <td>Unknown</td>\n",
       "      <td>0.0</td>\n",
       "      <td>...</td>\n",
       "      <td>0.0</td>\n",
       "      <td>0.0</td>\n",
       "      <td>0.0</td>\n",
       "      <td>44.46</td>\n",
       "      <td>Unknown</td>\n",
       "      <td>48.56</td>\n",
       "      <td>39.85</td>\n",
       "      <td>44.34</td>\n",
       "      <td>45.90</td>\n",
       "      <td>{\"realestate\": 0.0222, \"consumer_cyclical\": 0....</td>\n",
       "    </tr>\n",
       "    <tr>\n",
       "      <th>3</th>\n",
       "      <td>AOA</td>\n",
       "      <td>iShares Core 80/20 Aggressive Allocation ETF</td>\n",
       "      <td>{'realestate': 0.0279, 'consumer_cyclical': 0....</td>\n",
       "      <td>2025-05-02</td>\n",
       "      <td>iShares Core 80/20 Aggressive Allocation ETF</td>\n",
       "      <td>Unknown</td>\n",
       "      <td>Unknown</td>\n",
       "      <td>Unknown</td>\n",
       "      <td>Unknown</td>\n",
       "      <td>0.0</td>\n",
       "      <td>...</td>\n",
       "      <td>0.0</td>\n",
       "      <td>0.0</td>\n",
       "      <td>0.0</td>\n",
       "      <td>77.74</td>\n",
       "      <td>Unknown</td>\n",
       "      <td>80.20</td>\n",
       "      <td>68.45</td>\n",
       "      <td>76.13</td>\n",
       "      <td>77.15</td>\n",
       "      <td>{\"realestate\": 0.0279, \"consumer_cyclical\": 0....</td>\n",
       "    </tr>\n",
       "    <tr>\n",
       "      <th>4</th>\n",
       "      <td>AOK</td>\n",
       "      <td>iShares Core 30/70 Conservative Allocation ETF</td>\n",
       "      <td>{'realestate': 0.027999999, 'consumer_cyclical...</td>\n",
       "      <td>2025-06-02</td>\n",
       "      <td>iShares Core 30/70 Conservative Allocation ETF</td>\n",
       "      <td>Unknown</td>\n",
       "      <td>Unknown</td>\n",
       "      <td>Unknown</td>\n",
       "      <td>Unknown</td>\n",
       "      <td>0.0</td>\n",
       "      <td>...</td>\n",
       "      <td>0.0</td>\n",
       "      <td>0.0</td>\n",
       "      <td>0.0</td>\n",
       "      <td>38.21</td>\n",
       "      <td>Unknown</td>\n",
       "      <td>38.77</td>\n",
       "      <td>35.79</td>\n",
       "      <td>37.53</td>\n",
       "      <td>37.84</td>\n",
       "      <td>{\"realestate\": 0.027999999, \"consumer_cyclical...</td>\n",
       "    </tr>\n",
       "  </tbody>\n",
       "</table>\n",
       "<p>5 rows × 26 columns</p>\n",
       "</div>"
      ],
      "text/plain": [
       "  Symbol                                          Name_x  \\\n",
       "0   AADR             AdvisorShares Dorsey Wright ADR ETF   \n",
       "1   ACWI                           iShares MSCI ACWI ETF   \n",
       "2   ADME               Aptus Drawdown Managed Equity ETF   \n",
       "3    AOA    iShares Core 80/20 Aggressive Allocation ETF   \n",
       "4    AOK  iShares Core 30/70 Conservative Allocation ETF   \n",
       "\n",
       "                                             Sectors        Date  \\\n",
       "0  {'realestate': 0.0, 'consumer_cyclical': 0.118...  2025-06-02   \n",
       "1  {'realestate': 0.0216, 'consumer_cyclical': 0....  2025-06-02   \n",
       "2  {'realestate': 0.0222, 'consumer_cyclical': 0....  2025-05-02   \n",
       "3  {'realestate': 0.0279, 'consumer_cyclical': 0....  2025-05-02   \n",
       "4  {'realestate': 0.027999999, 'consumer_cyclical...  2025-06-02   \n",
       "\n",
       "                                           Name_y   Sector Industry  Country  \\\n",
       "0             AdvisorShares Dorsey Wright ADR ETF  Unknown  Unknown  Unknown   \n",
       "1                           iShares MSCI ACWI ETF  Unknown  Unknown  Unknown   \n",
       "2               Aptus Drawdown Managed Equity ETF  Unknown  Unknown  Unknown   \n",
       "3    iShares Core 80/20 Aggressive Allocation ETF  Unknown  Unknown  Unknown   \n",
       "4  iShares Core 30/70 Conservative Allocation ETF  Unknown  Unknown  Unknown   \n",
       "\n",
       "   Website  Market Cap  ...  Dividend Rate (%)  5Y Avg Dividend Yield (%)  \\\n",
       "0  Unknown         0.0  ...                0.0                        0.0   \n",
       "1  Unknown         0.0  ...                0.0                        0.0   \n",
       "2  Unknown         0.0  ...                0.0                        0.0   \n",
       "3  Unknown         0.0  ...                0.0                        0.0   \n",
       "4  Unknown         0.0  ...                0.0                        0.0   \n",
       "\n",
       "   Payout Ratio (%)   Price  Analyst Rating  52W High  52W Low  50 Day Avg  \\\n",
       "0               0.0   77.58         Unknown     81.17    54.57       74.66   \n",
       "1               0.0  123.65         Unknown    124.54   101.25      117.25   \n",
       "2               0.0   44.46         Unknown     48.56    39.85       44.34   \n",
       "3               0.0   77.74         Unknown     80.20    68.45       76.13   \n",
       "4               0.0   38.21         Unknown     38.77    35.79       37.53   \n",
       "\n",
       "   200 Day Avg                                  Sector Weightings  \n",
       "0        70.09  {\"realestate\": 0.0, \"consumer_cyclical\": 0.118...  \n",
       "1       118.68  {\"realestate\": 0.0216, \"consumer_cyclical\": 0....  \n",
       "2        45.90  {\"realestate\": 0.0222, \"consumer_cyclical\": 0....  \n",
       "3        77.15  {\"realestate\": 0.0279, \"consumer_cyclical\": 0....  \n",
       "4        37.84  {\"realestate\": 0.027999999, \"consumer_cyclical...  \n",
       "\n",
       "[5 rows x 26 columns]"
      ]
     },
     "metadata": {},
     "output_type": "display_data"
    }
   ],
   "source": [
    "# fundamentals_df = fetch_fundamentals(tickers) # Download fundamentals data for the tickers\n",
    "fundamentals_df = pd.read_csv(\"data/fundamentals_benchmark.csv\",index_col=\"Ticker\").query(\"Ticker in @tickers\") # Import the fundamentals data from a CSV file\n",
    "\n",
    "# Set the index name\n",
    "fundamentals_df.index.name = \"Symbol\"\n",
    "\n",
    "# Move the index into a column\n",
    "fundamentals_df = fundamentals_df.reset_index()\n",
    "\n",
    "# Perform the merge\n",
    "merged_df = pd.merge(filtered_sectors_df, fundamentals_df, on='Symbol', how='inner').dropna(how='all', axis=1)\n",
    "\n",
    "# Display the merged DataFrame\n",
    "display(merged_df.head())"
   ]
  },
  {
   "cell_type": "markdown",
   "id": "f0672a0d",
   "metadata": {},
   "source": [
    "#### Filter for the P/E (Trailling) Similar to Portfolio Weighted Average P/E"
   ]
  },
  {
   "cell_type": "code",
   "execution_count": 15,
   "id": "8e97edd6",
   "metadata": {
    "execution": {
     "iopub.execute_input": "2025-06-02T13:28:31.006793Z",
     "iopub.status.busy": "2025-06-02T13:28:31.006305Z",
     "iopub.status.idle": "2025-06-02T13:28:31.031205Z",
     "shell.execute_reply": "2025-06-02T13:28:31.030070Z"
    }
   },
   "outputs": [
    {
     "name": "stdout",
     "output_type": "stream",
     "text": [
      "Portfolio Weighted Average P/E (trailing): 23.693006474140773\n",
      "Lower Bound: 18.95440517931262\n",
      "Upper Bound: 28.431607768968927\n",
      "Number of benchmarks after filtering by P/E (trailing): 118\n"
     ]
    },
    {
     "data": {
      "application/vnd.microsoft.datawrangler.viewer.v0+json": {
       "columns": [
        {
         "name": "index",
         "rawType": "int64",
         "type": "integer"
        },
        {
         "name": "Symbol",
         "rawType": "object",
         "type": "string"
        },
        {
         "name": "Name_x",
         "rawType": "object",
         "type": "string"
        },
        {
         "name": "Sectors",
         "rawType": "object",
         "type": "unknown"
        },
        {
         "name": "Date",
         "rawType": "object",
         "type": "string"
        },
        {
         "name": "Name_y",
         "rawType": "object",
         "type": "string"
        },
        {
         "name": "Sector",
         "rawType": "object",
         "type": "string"
        },
        {
         "name": "Industry",
         "rawType": "object",
         "type": "string"
        },
        {
         "name": "Country",
         "rawType": "object",
         "type": "string"
        },
        {
         "name": "Website",
         "rawType": "object",
         "type": "string"
        },
        {
         "name": "Market Cap",
         "rawType": "float64",
         "type": "float"
        },
        {
         "name": "Shares Outstanding",
         "rawType": "float64",
         "type": "float"
        },
        {
         "name": "P/E (trailing)",
         "rawType": "float64",
         "type": "float"
        },
        {
         "name": "P/E (forward)",
         "rawType": "float64",
         "type": "float"
        },
        {
         "name": "P/B",
         "rawType": "float64",
         "type": "float"
        },
        {
         "name": "Book Value",
         "rawType": "float64",
         "type": "float"
        },
        {
         "name": "Dividend Yield (%)",
         "rawType": "float64",
         "type": "float"
        },
        {
         "name": "Dividend Rate (%)",
         "rawType": "float64",
         "type": "float"
        },
        {
         "name": "5Y Avg Dividend Yield (%)",
         "rawType": "float64",
         "type": "float"
        },
        {
         "name": "Payout Ratio (%)",
         "rawType": "float64",
         "type": "float"
        },
        {
         "name": "Price",
         "rawType": "float64",
         "type": "float"
        },
        {
         "name": "Analyst Rating",
         "rawType": "object",
         "type": "string"
        },
        {
         "name": "52W High",
         "rawType": "float64",
         "type": "float"
        },
        {
         "name": "52W Low",
         "rawType": "float64",
         "type": "float"
        },
        {
         "name": "50 Day Avg",
         "rawType": "float64",
         "type": "float"
        },
        {
         "name": "200 Day Avg",
         "rawType": "float64",
         "type": "float"
        },
        {
         "name": "Sector Weightings",
         "rawType": "object",
         "type": "string"
        }
       ],
       "ref": "64ec6f29-eccb-432c-963d-509e737b4d5f",
       "rows": [
        [
         "1",
         "ACWI",
         "iShares MSCI ACWI ETF",
         "{'realestate': 0.0216, 'consumer_cyclical': 0.1039, 'basic_materials': 0.0346, 'consumer_defensive': 0.0641, 'technology': 0.2491, 'communication_services': 0.084, 'financial_services': 0.1752, 'utilities': 0.0269, 'industrials': 0.1021, 'energy': 0.0375, 'healthcare': 0.1012}",
         "2025-06-02",
         "iShares MSCI ACWI ETF",
         "Unknown",
         "Unknown",
         "Unknown",
         "Unknown",
         "0.0",
         null,
         "21.39",
         null,
         null,
         null,
         "0.0171",
         "0.0",
         "0.0",
         "0.0",
         "123.65",
         "Unknown",
         "124.54",
         "101.25",
         "117.25",
         "118.68",
         "{\"realestate\": 0.0216, \"consumer_cyclical\": 0.1039, \"basic_materials\": 0.0346, \"consumer_defensive\": 0.0641, \"technology\": 0.2491, \"communication_services\": 0.084, \"financial_services\": 0.1752, \"utilities\": 0.0269, \"industrials\": 0.1021, \"energy\": 0.0375, \"healthcare\": 0.1012}"
        ],
        [
         "2",
         "ADME",
         "Aptus Drawdown Managed Equity ETF",
         "{'realestate': 0.0222, 'consumer_cyclical': 0.1022, 'basic_materials': 0.0222, 'consumer_defensive': 0.0608, 'technology': 0.3147, 'communication_services': 0.091800004, 'financial_services': 0.1384, 'utilities': 0.0254, 'industrials': 0.0746, 'energy': 0.0357, 'healthcare': 0.111899994}",
         "2025-05-02",
         "Aptus Drawdown Managed Equity ETF",
         "Unknown",
         "Unknown",
         "Unknown",
         "Unknown",
         "0.0",
         null,
         "25.43",
         null,
         null,
         null,
         "0.0047",
         "0.0",
         "0.0",
         "0.0",
         "44.46",
         "Unknown",
         "48.56",
         "39.85",
         "44.34",
         "45.9",
         "{\"realestate\": 0.0222, \"consumer_cyclical\": 0.1022, \"basic_materials\": 0.0222, \"consumer_defensive\": 0.0608, \"technology\": 0.3147, \"communication_services\": 0.091800004, \"financial_services\": 0.1384, \"utilities\": 0.0254, \"industrials\": 0.0746, \"energy\": 0.0357, \"healthcare\": 0.111899994}"
        ],
        [
         "3",
         "AOA",
         "iShares Core 80/20 Aggressive Allocation ETF",
         "{'realestate': 0.0279, 'consumer_cyclical': 0.106000006, 'basic_materials': 0.039300002, 'consumer_defensive': 0.0616, 'technology': 0.2305, 'communication_services': 0.0776, 'financial_services': 0.1762, 'utilities': 0.0278, 'industrials': 0.1101, 'energy': 0.0417, 'healthcare': 0.1012}",
         "2025-05-02",
         "iShares Core 80/20 Aggressive Allocation ETF",
         "Unknown",
         "Unknown",
         "Unknown",
         "Unknown",
         "0.0",
         null,
         "20.15",
         null,
         null,
         null,
         "0.023",
         "0.0",
         "0.0",
         "0.0",
         "77.74",
         "Unknown",
         "80.2",
         "68.45",
         "76.13",
         "77.15",
         "{\"realestate\": 0.0279, \"consumer_cyclical\": 0.106000006, \"basic_materials\": 0.039300002, \"consumer_defensive\": 0.0616, \"technology\": 0.2305, \"communication_services\": 0.0776, \"financial_services\": 0.1762, \"utilities\": 0.0278, \"industrials\": 0.1101, \"energy\": 0.0417, \"healthcare\": 0.1012}"
        ],
        [
         "4",
         "AOK",
         "iShares Core 30/70 Conservative Allocation ETF",
         "{'realestate': 0.027999999, 'consumer_cyclical': 0.1066, 'basic_materials': 0.038399998, 'consumer_defensive': 0.0633, 'technology': 0.2353, 'communication_services': 0.078600004, 'financial_services': 0.1749, 'utilities': 0.0277, 'industrials': 0.1105, 'energy': 0.038, 'healthcare': 0.0988}",
         "2025-06-02",
         "iShares Core 30/70 Conservative Allocation ETF",
         "Unknown",
         "Unknown",
         "Unknown",
         "Unknown",
         "0.0",
         null,
         "19.91",
         null,
         null,
         null,
         "0.033",
         "0.0",
         "0.0",
         "0.0",
         "38.21",
         "Unknown",
         "38.77",
         "35.79",
         "37.53",
         "37.84",
         "{\"realestate\": 0.027999999, \"consumer_cyclical\": 0.1066, \"basic_materials\": 0.038399998, \"consumer_defensive\": 0.0633, \"technology\": 0.2353, \"communication_services\": 0.078600004, \"financial_services\": 0.1749, \"utilities\": 0.0277, \"industrials\": 0.1105, \"energy\": 0.038, \"healthcare\": 0.0988}"
        ],
        [
         "5",
         "AOM",
         "iShares Core 40/60 Moderate Allocation ETF",
         "{'realestate': 0.027999999, 'consumer_cyclical': 0.1066, 'basic_materials': 0.038399998, 'consumer_defensive': 0.0633, 'technology': 0.2353, 'communication_services': 0.078600004, 'financial_services': 0.1749, 'utilities': 0.0277, 'industrials': 0.1105, 'energy': 0.038, 'healthcare': 0.0988}",
         "2025-06-02",
         "iShares Core 40/60 Moderate Allocation ETF",
         "Unknown",
         "Unknown",
         "Unknown",
         "Unknown",
         "0.0",
         null,
         "20.07",
         null,
         null,
         null,
         "0.0313",
         "0.0",
         "0.0",
         "0.0",
         "44.78",
         "Unknown",
         "45.31",
         "41.2",
         "43.73",
         "44.12",
         "{\"realestate\": 0.027999999, \"consumer_cyclical\": 0.1066, \"basic_materials\": 0.038399998, \"consumer_defensive\": 0.0633, \"technology\": 0.2353, \"communication_services\": 0.078600004, \"financial_services\": 0.1749, \"utilities\": 0.0277, \"industrials\": 0.1105, \"energy\": 0.038, \"healthcare\": 0.0988}"
        ]
       ],
       "shape": {
        "columns": 26,
        "rows": 5
       }
      },
      "text/html": [
       "<div>\n",
       "<style scoped>\n",
       "    .dataframe tbody tr th:only-of-type {\n",
       "        vertical-align: middle;\n",
       "    }\n",
       "\n",
       "    .dataframe tbody tr th {\n",
       "        vertical-align: top;\n",
       "    }\n",
       "\n",
       "    .dataframe thead th {\n",
       "        text-align: right;\n",
       "    }\n",
       "</style>\n",
       "<table border=\"1\" class=\"dataframe\">\n",
       "  <thead>\n",
       "    <tr style=\"text-align: right;\">\n",
       "      <th></th>\n",
       "      <th>Symbol</th>\n",
       "      <th>Name_x</th>\n",
       "      <th>Sectors</th>\n",
       "      <th>Date</th>\n",
       "      <th>Name_y</th>\n",
       "      <th>Sector</th>\n",
       "      <th>Industry</th>\n",
       "      <th>Country</th>\n",
       "      <th>Website</th>\n",
       "      <th>Market Cap</th>\n",
       "      <th>...</th>\n",
       "      <th>Dividend Rate (%)</th>\n",
       "      <th>5Y Avg Dividend Yield (%)</th>\n",
       "      <th>Payout Ratio (%)</th>\n",
       "      <th>Price</th>\n",
       "      <th>Analyst Rating</th>\n",
       "      <th>52W High</th>\n",
       "      <th>52W Low</th>\n",
       "      <th>50 Day Avg</th>\n",
       "      <th>200 Day Avg</th>\n",
       "      <th>Sector Weightings</th>\n",
       "    </tr>\n",
       "  </thead>\n",
       "  <tbody>\n",
       "    <tr>\n",
       "      <th>1</th>\n",
       "      <td>ACWI</td>\n",
       "      <td>iShares MSCI ACWI ETF</td>\n",
       "      <td>{'realestate': 0.0216, 'consumer_cyclical': 0....</td>\n",
       "      <td>2025-06-02</td>\n",
       "      <td>iShares MSCI ACWI ETF</td>\n",
       "      <td>Unknown</td>\n",
       "      <td>Unknown</td>\n",
       "      <td>Unknown</td>\n",
       "      <td>Unknown</td>\n",
       "      <td>0.0</td>\n",
       "      <td>...</td>\n",
       "      <td>0.0</td>\n",
       "      <td>0.0</td>\n",
       "      <td>0.0</td>\n",
       "      <td>123.65</td>\n",
       "      <td>Unknown</td>\n",
       "      <td>124.54</td>\n",
       "      <td>101.25</td>\n",
       "      <td>117.25</td>\n",
       "      <td>118.68</td>\n",
       "      <td>{\"realestate\": 0.0216, \"consumer_cyclical\": 0....</td>\n",
       "    </tr>\n",
       "    <tr>\n",
       "      <th>2</th>\n",
       "      <td>ADME</td>\n",
       "      <td>Aptus Drawdown Managed Equity ETF</td>\n",
       "      <td>{'realestate': 0.0222, 'consumer_cyclical': 0....</td>\n",
       "      <td>2025-05-02</td>\n",
       "      <td>Aptus Drawdown Managed Equity ETF</td>\n",
       "      <td>Unknown</td>\n",
       "      <td>Unknown</td>\n",
       "      <td>Unknown</td>\n",
       "      <td>Unknown</td>\n",
       "      <td>0.0</td>\n",
       "      <td>...</td>\n",
       "      <td>0.0</td>\n",
       "      <td>0.0</td>\n",
       "      <td>0.0</td>\n",
       "      <td>44.46</td>\n",
       "      <td>Unknown</td>\n",
       "      <td>48.56</td>\n",
       "      <td>39.85</td>\n",
       "      <td>44.34</td>\n",
       "      <td>45.90</td>\n",
       "      <td>{\"realestate\": 0.0222, \"consumer_cyclical\": 0....</td>\n",
       "    </tr>\n",
       "    <tr>\n",
       "      <th>3</th>\n",
       "      <td>AOA</td>\n",
       "      <td>iShares Core 80/20 Aggressive Allocation ETF</td>\n",
       "      <td>{'realestate': 0.0279, 'consumer_cyclical': 0....</td>\n",
       "      <td>2025-05-02</td>\n",
       "      <td>iShares Core 80/20 Aggressive Allocation ETF</td>\n",
       "      <td>Unknown</td>\n",
       "      <td>Unknown</td>\n",
       "      <td>Unknown</td>\n",
       "      <td>Unknown</td>\n",
       "      <td>0.0</td>\n",
       "      <td>...</td>\n",
       "      <td>0.0</td>\n",
       "      <td>0.0</td>\n",
       "      <td>0.0</td>\n",
       "      <td>77.74</td>\n",
       "      <td>Unknown</td>\n",
       "      <td>80.20</td>\n",
       "      <td>68.45</td>\n",
       "      <td>76.13</td>\n",
       "      <td>77.15</td>\n",
       "      <td>{\"realestate\": 0.0279, \"consumer_cyclical\": 0....</td>\n",
       "    </tr>\n",
       "    <tr>\n",
       "      <th>4</th>\n",
       "      <td>AOK</td>\n",
       "      <td>iShares Core 30/70 Conservative Allocation ETF</td>\n",
       "      <td>{'realestate': 0.027999999, 'consumer_cyclical...</td>\n",
       "      <td>2025-06-02</td>\n",
       "      <td>iShares Core 30/70 Conservative Allocation ETF</td>\n",
       "      <td>Unknown</td>\n",
       "      <td>Unknown</td>\n",
       "      <td>Unknown</td>\n",
       "      <td>Unknown</td>\n",
       "      <td>0.0</td>\n",
       "      <td>...</td>\n",
       "      <td>0.0</td>\n",
       "      <td>0.0</td>\n",
       "      <td>0.0</td>\n",
       "      <td>38.21</td>\n",
       "      <td>Unknown</td>\n",
       "      <td>38.77</td>\n",
       "      <td>35.79</td>\n",
       "      <td>37.53</td>\n",
       "      <td>37.84</td>\n",
       "      <td>{\"realestate\": 0.027999999, \"consumer_cyclical...</td>\n",
       "    </tr>\n",
       "    <tr>\n",
       "      <th>5</th>\n",
       "      <td>AOM</td>\n",
       "      <td>iShares Core 40/60 Moderate Allocation ETF</td>\n",
       "      <td>{'realestate': 0.027999999, 'consumer_cyclical...</td>\n",
       "      <td>2025-06-02</td>\n",
       "      <td>iShares Core 40/60 Moderate Allocation ETF</td>\n",
       "      <td>Unknown</td>\n",
       "      <td>Unknown</td>\n",
       "      <td>Unknown</td>\n",
       "      <td>Unknown</td>\n",
       "      <td>0.0</td>\n",
       "      <td>...</td>\n",
       "      <td>0.0</td>\n",
       "      <td>0.0</td>\n",
       "      <td>0.0</td>\n",
       "      <td>44.78</td>\n",
       "      <td>Unknown</td>\n",
       "      <td>45.31</td>\n",
       "      <td>41.20</td>\n",
       "      <td>43.73</td>\n",
       "      <td>44.12</td>\n",
       "      <td>{\"realestate\": 0.027999999, \"consumer_cyclical...</td>\n",
       "    </tr>\n",
       "  </tbody>\n",
       "</table>\n",
       "<p>5 rows × 26 columns</p>\n",
       "</div>"
      ],
      "text/plain": [
       "  Symbol                                          Name_x  \\\n",
       "1   ACWI                           iShares MSCI ACWI ETF   \n",
       "2   ADME               Aptus Drawdown Managed Equity ETF   \n",
       "3    AOA    iShares Core 80/20 Aggressive Allocation ETF   \n",
       "4    AOK  iShares Core 30/70 Conservative Allocation ETF   \n",
       "5    AOM      iShares Core 40/60 Moderate Allocation ETF   \n",
       "\n",
       "                                             Sectors        Date  \\\n",
       "1  {'realestate': 0.0216, 'consumer_cyclical': 0....  2025-06-02   \n",
       "2  {'realestate': 0.0222, 'consumer_cyclical': 0....  2025-05-02   \n",
       "3  {'realestate': 0.0279, 'consumer_cyclical': 0....  2025-05-02   \n",
       "4  {'realestate': 0.027999999, 'consumer_cyclical...  2025-06-02   \n",
       "5  {'realestate': 0.027999999, 'consumer_cyclical...  2025-06-02   \n",
       "\n",
       "                                           Name_y   Sector Industry  Country  \\\n",
       "1                           iShares MSCI ACWI ETF  Unknown  Unknown  Unknown   \n",
       "2               Aptus Drawdown Managed Equity ETF  Unknown  Unknown  Unknown   \n",
       "3    iShares Core 80/20 Aggressive Allocation ETF  Unknown  Unknown  Unknown   \n",
       "4  iShares Core 30/70 Conservative Allocation ETF  Unknown  Unknown  Unknown   \n",
       "5      iShares Core 40/60 Moderate Allocation ETF  Unknown  Unknown  Unknown   \n",
       "\n",
       "   Website  Market Cap  ...  Dividend Rate (%)  5Y Avg Dividend Yield (%)  \\\n",
       "1  Unknown         0.0  ...                0.0                        0.0   \n",
       "2  Unknown         0.0  ...                0.0                        0.0   \n",
       "3  Unknown         0.0  ...                0.0                        0.0   \n",
       "4  Unknown         0.0  ...                0.0                        0.0   \n",
       "5  Unknown         0.0  ...                0.0                        0.0   \n",
       "\n",
       "   Payout Ratio (%)   Price  Analyst Rating  52W High  52W Low  50 Day Avg  \\\n",
       "1               0.0  123.65         Unknown    124.54   101.25      117.25   \n",
       "2               0.0   44.46         Unknown     48.56    39.85       44.34   \n",
       "3               0.0   77.74         Unknown     80.20    68.45       76.13   \n",
       "4               0.0   38.21         Unknown     38.77    35.79       37.53   \n",
       "5               0.0   44.78         Unknown     45.31    41.20       43.73   \n",
       "\n",
       "   200 Day Avg                                  Sector Weightings  \n",
       "1       118.68  {\"realestate\": 0.0216, \"consumer_cyclical\": 0....  \n",
       "2        45.90  {\"realestate\": 0.0222, \"consumer_cyclical\": 0....  \n",
       "3        77.15  {\"realestate\": 0.0279, \"consumer_cyclical\": 0....  \n",
       "4        37.84  {\"realestate\": 0.027999999, \"consumer_cyclical...  \n",
       "5        44.12  {\"realestate\": 0.027999999, \"consumer_cyclical...  \n",
       "\n",
       "[5 rows x 26 columns]"
      ]
     },
     "metadata": {},
     "output_type": "display_data"
    }
   ],
   "source": [
    "# Step 1: Calculate the weighted average of P/E (trailing) in portfolio_df\n",
    "weighted_average_pe = (portfolio_df[\"Weight\"] * portfolio_df[\"P/E (trailing)\"]).sum()\n",
    "\n",
    "# Step 2: Calculate the 20% threshold range\n",
    "lower_bound = weighted_average_pe * 0.8  # 20% below the weighted average\n",
    "upper_bound = weighted_average_pe * 1.2  # 2% above the weighted average\n",
    "\n",
    "# Step 3: Filter merged_df based on the P/E (trailing) column\n",
    "filtered_merged_df = merged_df[\n",
    "    (merged_df[\"P/E (trailing)\"] >= lower_bound) & \n",
    "    (merged_df[\"P/E (trailing)\"] <= upper_bound)\n",
    "]\n",
    "\n",
    "filtered_sectors_df = filtered_merged_df.copy().dropna(how='all')\n",
    "tickers = filtered_sectors_df[\"Symbol\"].tolist()\n",
    "\n",
    "# Display the filtered DataFrame\n",
    "print(\"Portfolio Weighted Average P/E (trailing):\", weighted_average_pe)\n",
    "print(\"Lower Bound:\", lower_bound)\n",
    "print(\"Upper Bound:\", upper_bound)\n",
    "print(\"Number of benchmarks after filtering by P/E (trailing):\", len(filtered_merged_df))\n",
    "display(filtered_sectors_df.head())"
   ]
  },
  {
   "cell_type": "markdown",
   "id": "b050f311",
   "metadata": {},
   "source": [
    "### Step 6: Import Quotes"
   ]
  },
  {
   "cell_type": "markdown",
   "id": "bedd1a61",
   "metadata": {},
   "source": [
    "#### Benchmark Tickers"
   ]
  },
  {
   "cell_type": "code",
   "execution_count": 16,
   "id": "c6cc3457",
   "metadata": {
    "execution": {
     "iopub.execute_input": "2025-06-02T13:28:31.035256Z",
     "iopub.status.busy": "2025-06-02T13:28:31.034942Z",
     "iopub.status.idle": "2025-06-02T13:28:31.195787Z",
     "shell.execute_reply": "2025-06-02T13:28:31.194847Z"
    }
   },
   "outputs": [
    {
     "name": "stdout",
     "output_type": "stream",
     "text": [
      "Found 109 of 118 tickers in data/daily_benchmark_quotes.csv\n",
      "Missing tickers: ['AOA', 'CZA', 'IJK', 'ILCB', 'IVOG', 'IYY', 'MDYG', 'UPGD', 'VIS']\n",
      "Found 109 of 118 tickers in data/monthly_benchmark_quotes.csv\n",
      "Missing tickers: ['AOA', 'CZA', 'IJK', 'ILCB', 'IVOG', 'IYY', 'MDYG', 'UPGD', 'VIS']\n"
     ]
    },
    {
     "data": {
      "application/vnd.microsoft.datawrangler.viewer.v0+json": {
       "columns": [
        {
         "name": "Date",
         "rawType": "datetime64[ns]",
         "type": "datetime"
        },
        {
         "name": "ACWI",
         "rawType": "float64",
         "type": "float"
        },
        {
         "name": "ADME",
         "rawType": "float64",
         "type": "float"
        },
        {
         "name": "AOK",
         "rawType": "float64",
         "type": "float"
        },
        {
         "name": "AOM",
         "rawType": "float64",
         "type": "float"
        },
        {
         "name": "AOR",
         "rawType": "float64",
         "type": "float"
        },
        {
         "name": "BAPR",
         "rawType": "float64",
         "type": "float"
        },
        {
         "name": "BBUS",
         "rawType": "float64",
         "type": "float"
        },
        {
         "name": "BJAN",
         "rawType": "float64",
         "type": "float"
        },
        {
         "name": "BJUL",
         "rawType": "float64",
         "type": "float"
        },
        {
         "name": "BOCT",
         "rawType": "float64",
         "type": "float"
        },
        {
         "name": "CEFS",
         "rawType": "float64",
         "type": "float"
        },
        {
         "name": "CRBN",
         "rawType": "float64",
         "type": "float"
        },
        {
         "name": "DEUS",
         "rawType": "float64",
         "type": "float"
        },
        {
         "name": "DGRO",
         "rawType": "float64",
         "type": "float"
        },
        {
         "name": "DGRW",
         "rawType": "float64",
         "type": "float"
        },
        {
         "name": "DIVO",
         "rawType": "float64",
         "type": "float"
        },
        {
         "name": "DLN",
         "rawType": "float64",
         "type": "float"
        },
        {
         "name": "DSI",
         "rawType": "float64",
         "type": "float"
        },
        {
         "name": "DTD",
         "rawType": "float64",
         "type": "float"
        },
        {
         "name": "DWAT",
         "rawType": "float64",
         "type": "float"
        },
        {
         "name": "DYNF",
         "rawType": "float64",
         "type": "float"
        },
        {
         "name": "EPS",
         "rawType": "float64",
         "type": "float"
        },
        {
         "name": "EQL",
         "rawType": "float64",
         "type": "float"
        },
        {
         "name": "EQWL",
         "rawType": "float64",
         "type": "float"
        },
        {
         "name": "ESGG",
         "rawType": "float64",
         "type": "float"
        },
        {
         "name": "ETHO",
         "rawType": "float64",
         "type": "float"
        },
        {
         "name": "EUSA",
         "rawType": "float64",
         "type": "float"
        },
        {
         "name": "EWC",
         "rawType": "float64",
         "type": "float"
        },
        {
         "name": "EWL",
         "rawType": "float64",
         "type": "float"
        },
        {
         "name": "FAD",
         "rawType": "float64",
         "type": "float"
        },
        {
         "name": "FCEF",
         "rawType": "float64",
         "type": "float"
        },
        {
         "name": "FIDU",
         "rawType": "float64",
         "type": "float"
        },
        {
         "name": "FNY",
         "rawType": "float64",
         "type": "float"
        },
        {
         "name": "FTLS",
         "rawType": "float64",
         "type": "float"
        },
        {
         "name": "FV",
         "rawType": "float64",
         "type": "float"
        },
        {
         "name": "FVAL",
         "rawType": "float64",
         "type": "float"
        },
        {
         "name": "FYC",
         "rawType": "float64",
         "type": "float"
        },
        {
         "name": "GVIP",
         "rawType": "float64",
         "type": "float"
        },
        {
         "name": "HTUS",
         "rawType": "float64",
         "type": "float"
        },
        {
         "name": "IDHQ",
         "rawType": "float64",
         "type": "float"
        },
        {
         "name": "IDMO",
         "rawType": "float64",
         "type": "float"
        },
        {
         "name": "IGF",
         "rawType": "float64",
         "type": "float"
        },
        {
         "name": "IHDG",
         "rawType": "float64",
         "type": "float"
        },
        {
         "name": "ILCV",
         "rawType": "float64",
         "type": "float"
        },
        {
         "name": "IMTM",
         "rawType": "float64",
         "type": "float"
        },
        {
         "name": "IOO",
         "rawType": "float64",
         "type": "float"
        },
        {
         "name": "IQLT",
         "rawType": "float64",
         "type": "float"
        },
        {
         "name": "ITOT",
         "rawType": "float64",
         "type": "float"
        },
        {
         "name": "IUS",
         "rawType": "float64",
         "type": "float"
        },
        {
         "name": "IUSV",
         "rawType": "float64",
         "type": "float"
        },
        {
         "name": "IVE",
         "rawType": "float64",
         "type": "float"
        },
        {
         "name": "IVV",
         "rawType": "float64",
         "type": "float"
        },
        {
         "name": "IWB",
         "rawType": "float64",
         "type": "float"
        },
        {
         "name": "IWL",
         "rawType": "float64",
         "type": "float"
        },
        {
         "name": "IWR",
         "rawType": "float64",
         "type": "float"
        },
        {
         "name": "JDIV",
         "rawType": "float64",
         "type": "float"
        },
        {
         "name": "JMOM",
         "rawType": "float64",
         "type": "float"
        },
        {
         "name": "JQUA",
         "rawType": "float64",
         "type": "float"
        },
        {
         "name": "JSMD",
         "rawType": "float64",
         "type": "float"
        },
        {
         "name": "LRGF",
         "rawType": "float64",
         "type": "float"
        },
        {
         "name": "MAGA",
         "rawType": "float64",
         "type": "float"
        },
        {
         "name": "MFUS",
         "rawType": "float64",
         "type": "float"
        },
        {
         "name": "MGC",
         "rawType": "float64",
         "type": "float"
        },
        {
         "name": "MGV",
         "rawType": "float64",
         "type": "float"
        },
        {
         "name": "MMTM",
         "rawType": "float64",
         "type": "float"
        },
        {
         "name": "NACP",
         "rawType": "float64",
         "type": "float"
        },
        {
         "name": "OEF",
         "rawType": "float64",
         "type": "float"
        },
        {
         "name": "PBUS",
         "rawType": "float64",
         "type": "float"
        },
        {
         "name": "PCEF",
         "rawType": "float64",
         "type": "float"
        },
        {
         "name": "PFM",
         "rawType": "float64",
         "type": "float"
        },
        {
         "name": "PJUL",
         "rawType": "float64",
         "type": "float"
        },
        {
         "name": "POCT",
         "rawType": "float64",
         "type": "float"
        },
        {
         "name": "QARP",
         "rawType": "float64",
         "type": "float"
        },
        {
         "name": "QDEF",
         "rawType": "float64",
         "type": "float"
        },
        {
         "name": "QDF",
         "rawType": "float64",
         "type": "float"
        },
        {
         "name": "QLC",
         "rawType": "float64",
         "type": "float"
        },
        {
         "name": "QMOM",
         "rawType": "float64",
         "type": "float"
        },
        {
         "name": "QUAL",
         "rawType": "float64",
         "type": "float"
        },
        {
         "name": "QUS",
         "rawType": "float64",
         "type": "float"
        },
        {
         "name": "QWLD",
         "rawType": "float64",
         "type": "float"
        },
        {
         "name": "SCHX",
         "rawType": "float64",
         "type": "float"
        },
        {
         "name": "SIZE",
         "rawType": "float64",
         "type": "float"
        },
        {
         "name": "SMIN",
         "rawType": "float64",
         "type": "float"
        },
        {
         "name": "SPGM",
         "rawType": "float64",
         "type": "float"
        },
        {
         "name": "SPHB",
         "rawType": "float64",
         "type": "float"
        },
        {
         "name": "SPLG",
         "rawType": "float64",
         "type": "float"
        },
        {
         "name": "SPTM",
         "rawType": "float64",
         "type": "float"
        },
        {
         "name": "SPXV",
         "rawType": "float64",
         "type": "float"
        },
        {
         "name": "SPY",
         "rawType": "float64",
         "type": "float"
        },
        {
         "name": "SPYV",
         "rawType": "float64",
         "type": "float"
        },
        {
         "name": "SSPY",
         "rawType": "float64",
         "type": "float"
        },
        {
         "name": "SUSA",
         "rawType": "float64",
         "type": "float"
        },
        {
         "name": "TOK",
         "rawType": "float64",
         "type": "float"
        },
        {
         "name": "URTH",
         "rawType": "float64",
         "type": "float"
        },
        {
         "name": "USMF",
         "rawType": "float64",
         "type": "float"
        },
        {
         "name": "VO",
         "rawType": "float64",
         "type": "float"
        },
        {
         "name": "VONE",
         "rawType": "float64",
         "type": "float"
        },
        {
         "name": "VOO",
         "rawType": "float64",
         "type": "float"
        },
        {
         "name": "VOOV",
         "rawType": "float64",
         "type": "float"
        },
        {
         "name": "VT",
         "rawType": "float64",
         "type": "float"
        },
        {
         "name": "VUSE",
         "rawType": "float64",
         "type": "float"
        },
        {
         "name": "VV",
         "rawType": "float64",
         "type": "float"
        },
        {
         "name": "WOMN",
         "rawType": "float64",
         "type": "float"
        },
        {
         "name": "WTMF",
         "rawType": "float64",
         "type": "float"
        },
        {
         "name": "XLG",
         "rawType": "float64",
         "type": "float"
        },
        {
         "name": "XRLV",
         "rawType": "float64",
         "type": "float"
        },
        {
         "name": "XSMO",
         "rawType": "float64",
         "type": "float"
        },
        {
         "name": "YLDE",
         "rawType": "float64",
         "type": "float"
        },
        {
         "name": "YYY",
         "rawType": "float64",
         "type": "float"
        }
       ],
       "ref": "669ba3d0-189c-49ef-919d-8ad9323998db",
       "rows": [
        [
         "2020-06-01 00:00:00",
         "68.12",
         "31.24",
         "32.27",
         "35.37",
         "41.53",
         "27.603001",
         "52.47",
         "28.362",
         "26.99",
         "25.889999",
         "11.05",
         "111.29",
         "29.74",
         "33.65",
         "41.66",
         "22.42",
         "41.47",
         "55.73",
         "40.13",
         "7.52",
         "23.71",
         "30.53",
         "66.27",
         "51.24",
         "94.88",
         "39.34",
         "53.22",
         "23.44",
         "35.92",
         "76.44",
         "13.66",
         "33.59",
         "47.16",
         "39.2",
         "31.42",
         "31.06",
         "41.52",
         "65.04",
         "19.34",
         "21.76",
         "24.65",
         "33.65",
         "28.48",
         "43.33",
         "27.42",
         "49.27",
         "26.35",
         "64.81",
         "23.31",
         "47.23",
         "98.29",
         "288.58",
         "161.06",
         "69.55",
         "50.21",
         "20.82",
         "29.49",
         "28.4",
         "46.61",
         "29.04",
         "22.28",
         "25.33",
         "102.37",
         "65.1",
         "126.73",
         "20.52",
         "134.02",
         "29.18",
         "13.44",
         "25.82",
         "26.75",
         "25.18",
         "26.31",
         "37.73",
         "38.12",
         "32.49",
         "34.19",
         "90.09",
         "82.09",
         "72.77",
         "11.51",
         "81.6",
         "26.9",
         "36.26",
         "38.29",
         "33.77",
         "35.2",
         "30.17",
         "287.97",
         "26.15",
         "41.54",
         "62.9",
         "62.71",
         "85.78",
         "27.86",
         "152.44",
         "132.74",
         "263.93",
         "94.53",
         "67.88",
         "25.91",
         "133.47",
         "18.59",
         "26.94",
         "22.62",
         "32.49",
         "34.74",
         "27.88",
         "8.45"
        ],
        [
         "2020-07-01 00:00:00",
         "71.77",
         "32.74",
         "33.06",
         "36.44",
         "42.99",
         "28.2216",
         "55.55",
         "29.5439",
         "27.92",
         "26.8389",
         "11.61",
         "116.85",
         "31.44",
         "35.09",
         "43.57",
         "23.04",
         "43.04",
         "58.44",
         "41.52",
         "8.08",
         "24.62",
         "31.85",
         "69.33",
         "52.83",
         "98.94",
         "41.46",
         "55.8",
         "24.74",
         "37.37",
         "81.37",
         "14.18",
         "35.09",
         "50.53",
         "41.14",
         "33.09",
         "32.17",
         "43.44",
         "69.84",
         "21.17",
         "22.33",
         "25.8",
         "34.4",
         "28.29",
         "44.16",
         "28.8",
         "51.48",
         "27.13",
         "68.54",
         "23.98",
         "48.97",
         "101.96",
         "305.47",
         "170.62",
         "73.57",
         "53.18",
         "21.55",
         "31.61",
         "29.68",
         "50.05",
         "30.44",
         "23.3",
         "26.61",
         "108.18",
         "67.18",
         "135.3",
         "21.74",
         "141.63",
         "30.8",
         "13.98",
         "26.91",
         "27.379999",
         "25.780001",
         "27.27",
         "39.44",
         "39.96",
         "34.02",
         "38.59",
         "94.55",
         "85.6",
         "75.19",
         "12.19",
         "85.8",
         "28.81",
         "37.86",
         "39.14",
         "35.74",
         "37.19",
         "31.87",
         "304.92",
         "27.17",
         "43.28",
         "66.77",
         "66.09",
         "89.98",
         "29.22",
         "162.1",
         "140.51",
         "279.46",
         "98.06",
         "71.48",
         "26.96",
         "141.45",
         "19.82",
         "27.31",
         "24.04",
         "34.72",
         "37.94",
         "29.4",
         "8.77"
        ],
        [
         "2020-08-01 00:00:00",
         "76.1",
         "34.35",
         "33.54",
         "37.19",
         "44.48",
         "28.7749",
         "59.81",
         "30.68",
         "28.8268",
         "27.805",
         "11.94",
         "124.77",
         "32.46",
         "36.79",
         "46.48",
         "24.65",
         "44.99",
         "63.08",
         "43.47",
         "8.41",
         "26.16",
         "33.93",
         "72.94",
         "56.45",
         "106.34",
         "43.33",
         "58.46",
         "26.0",
         "38.48",
         "85.97",
         "14.72",
         "37.98",
         "52.81",
         "42.46",
         "35.27",
         "34.33",
         "46.93",
         "78.65",
         "22.12",
         "23.29",
         "26.9",
         "34.93",
         "29.05",
         "45.75",
         "29.77",
         "55.48",
         "28.4",
         "73.38",
         "25.92",
         "50.65",
         "105.56",
         "326.86",
         "183.08",
         "79.95",
         "55.04",
         "22.5",
         "33.73",
         "31.41",
         "51.58",
         "31.92",
         "24.45",
         "28.18",
         "117.27",
         "70.15",
         "147.08",
         "23.77",
         "154.26",
         "33.35",
         "14.32",
         "28.35",
         "27.9455",
         "26.16",
         "29.33",
         "41.22",
         "42.0",
         "36.19",
         "40.1",
         "101.04",
         "90.23",
         "79.21",
         "13.08",
         "89.64",
         "31.82",
         "40.63",
         "41.85",
         "38.24",
         "39.73",
         "34.42",
         "326.21",
         "28.1",
         "45.29",
         "71.95",
         "70.41",
         "95.85",
         "30.3",
         "167.26",
         "150.76",
         "298.94",
         "101.52",
         "75.77",
         "28.39",
         "152.24",
         "22.21",
         "27.18",
         "26.36",
         "36.08",
         "39.01",
         "30.9",
         "9.03"
        ],
        [
         "2020-09-01 00:00:00",
         "73.85",
         "32.83",
         "33.14",
         "36.65",
         "43.65",
         "28.5677",
         "57.46",
         "30.16",
         "28.34",
         "27.8875",
         "11.78",
         "120.66",
         "31.7",
         "35.84",
         "45.58",
         "24.43",
         "43.6",
         "60.63",
         "42.12",
         "8.25",
         "25.47",
         "32.76",
         "70.56",
         "54.73",
         "101.81",
         "42.38",
         "57.04",
         "24.83",
         "37.87",
         "84.48",
         "14.47",
         "37.68",
         "52.88",
         "40.71",
         "33.32",
         "33.02",
         "46.27",
         "76.76",
         "21.99",
         "23.39",
         "26.68",
         "33.91",
         "29.82",
         "44.66",
         "29.7",
         "52.56",
         "28.07",
         "70.77",
         "24.89",
         "49.45",
         "102.87",
         "314.57",
         "176.3",
         "76.57",
         "53.96",
         "21.84",
         "33.16",
         "30.4",
         "50.59",
         "31.15",
         "23.68",
         "27.48",
         "112.53",
         "68.6",
         "140.58",
         "22.84",
         "147.15",
         "31.96",
         "13.96",
         "27.84",
         "27.673",
         "26.41",
         "28.09",
         "40.12",
         "40.53",
         "34.74",
         "40.34",
         "97.85",
         "87.96",
         "77.03",
         "12.6",
         "87.75",
         "33.0",
         "39.4",
         "39.94",
         "36.8",
         "38.24",
         "33.03",
         "313.99",
         "27.42",
         "44.0",
         "69.42",
         "67.77",
         "92.65",
         "29.29",
         "164.57",
         "145.26",
         "287.71",
         "99.1",
         "73.55",
         "27.22",
         "146.61",
         "21.47",
         "26.95",
         "24.99",
         "35.29",
         "38.57",
         "30.42",
         "8.88"
        ],
        [
         "2020-10-01 00:00:00",
         "72.21",
         "32.25",
         "32.89",
         "36.23",
         "42.95",
         "28.3235",
         "56.0",
         "29.83",
         "27.83",
         "27.24",
         "11.78",
         "117.66",
         "31.49",
         "35.09",
         "43.98",
         "23.59",
         "42.33",
         "59.24",
         "41.05",
         "8.15",
         "24.83",
         "32.02",
         "68.94",
         "53.17",
         "98.34",
         "42.28",
         "56.67",
         "23.98",
         "35.9",
         "83.58",
         "14.08",
         "37.15",
         "52.81",
         "39.94",
         "33.04",
         "32.32",
         "46.13",
         "74.5",
         "21.89",
         "22.29",
         "25.63",
         "33.5",
         "28.72",
         "43.24",
         "28.61",
         "50.92",
         "27.07",
         "69.42",
         "24.23",
         "48.65",
         "100.99",
         "306.67",
         "172.25",
         "74.1",
         "54.31",
         "21.87",
         "32.2",
         "29.55",
         "51.12",
         "30.81",
         "23.52",
         "26.92",
         "109.07",
         "66.85",
         "135.59",
         "22.23",
         "142.48",
         "31.05",
         "13.71",
         "27.24",
         "27.32",
         "26.120001",
         "27.18",
         "38.69",
         "39.38",
         "33.47",
         "38.64",
         "95.32",
         "85.43",
         "74.45",
         "12.3",
         "87.61",
         "32.16",
         "38.26",
         "40.64",
         "35.89",
         "37.37",
         "32.04",
         "306.16",
         "26.93",
         "43.54",
         "68.22",
         "65.56",
         "89.87",
         "28.69",
         "164.46",
         "142.01",
         "280.39",
         "97.28",
         "72.04",
         "27.13",
         "142.95",
         "20.92",
         "26.79",
         "24.1",
         "34.02",
         "38.28",
         "29.5",
         "8.73"
        ]
       ],
       "shape": {
        "columns": 109,
        "rows": 5
       }
      },
      "text/html": [
       "<div>\n",
       "<style scoped>\n",
       "    .dataframe tbody tr th:only-of-type {\n",
       "        vertical-align: middle;\n",
       "    }\n",
       "\n",
       "    .dataframe tbody tr th {\n",
       "        vertical-align: top;\n",
       "    }\n",
       "\n",
       "    .dataframe thead th {\n",
       "        text-align: right;\n",
       "    }\n",
       "</style>\n",
       "<table border=\"1\" class=\"dataframe\">\n",
       "  <thead>\n",
       "    <tr style=\"text-align: right;\">\n",
       "      <th></th>\n",
       "      <th>ACWI</th>\n",
       "      <th>ADME</th>\n",
       "      <th>AOK</th>\n",
       "      <th>AOM</th>\n",
       "      <th>AOR</th>\n",
       "      <th>BAPR</th>\n",
       "      <th>BBUS</th>\n",
       "      <th>BJAN</th>\n",
       "      <th>BJUL</th>\n",
       "      <th>BOCT</th>\n",
       "      <th>...</th>\n",
       "      <th>VT</th>\n",
       "      <th>VUSE</th>\n",
       "      <th>VV</th>\n",
       "      <th>WOMN</th>\n",
       "      <th>WTMF</th>\n",
       "      <th>XLG</th>\n",
       "      <th>XRLV</th>\n",
       "      <th>XSMO</th>\n",
       "      <th>YLDE</th>\n",
       "      <th>YYY</th>\n",
       "    </tr>\n",
       "    <tr>\n",
       "      <th>Date</th>\n",
       "      <th></th>\n",
       "      <th></th>\n",
       "      <th></th>\n",
       "      <th></th>\n",
       "      <th></th>\n",
       "      <th></th>\n",
       "      <th></th>\n",
       "      <th></th>\n",
       "      <th></th>\n",
       "      <th></th>\n",
       "      <th></th>\n",
       "      <th></th>\n",
       "      <th></th>\n",
       "      <th></th>\n",
       "      <th></th>\n",
       "      <th></th>\n",
       "      <th></th>\n",
       "      <th></th>\n",
       "      <th></th>\n",
       "      <th></th>\n",
       "      <th></th>\n",
       "    </tr>\n",
       "  </thead>\n",
       "  <tbody>\n",
       "    <tr>\n",
       "      <th>2020-06-01</th>\n",
       "      <td>68.12</td>\n",
       "      <td>31.24</td>\n",
       "      <td>32.27</td>\n",
       "      <td>35.37</td>\n",
       "      <td>41.53</td>\n",
       "      <td>27.603001</td>\n",
       "      <td>52.47</td>\n",
       "      <td>28.3620</td>\n",
       "      <td>26.9900</td>\n",
       "      <td>25.889999</td>\n",
       "      <td>...</td>\n",
       "      <td>67.88</td>\n",
       "      <td>25.91</td>\n",
       "      <td>133.47</td>\n",
       "      <td>18.59</td>\n",
       "      <td>26.94</td>\n",
       "      <td>22.62</td>\n",
       "      <td>32.49</td>\n",
       "      <td>34.74</td>\n",
       "      <td>27.88</td>\n",
       "      <td>8.45</td>\n",
       "    </tr>\n",
       "    <tr>\n",
       "      <th>2020-07-01</th>\n",
       "      <td>71.77</td>\n",
       "      <td>32.74</td>\n",
       "      <td>33.06</td>\n",
       "      <td>36.44</td>\n",
       "      <td>42.99</td>\n",
       "      <td>28.221600</td>\n",
       "      <td>55.55</td>\n",
       "      <td>29.5439</td>\n",
       "      <td>27.9200</td>\n",
       "      <td>26.838900</td>\n",
       "      <td>...</td>\n",
       "      <td>71.48</td>\n",
       "      <td>26.96</td>\n",
       "      <td>141.45</td>\n",
       "      <td>19.82</td>\n",
       "      <td>27.31</td>\n",
       "      <td>24.04</td>\n",
       "      <td>34.72</td>\n",
       "      <td>37.94</td>\n",
       "      <td>29.40</td>\n",
       "      <td>8.77</td>\n",
       "    </tr>\n",
       "    <tr>\n",
       "      <th>2020-08-01</th>\n",
       "      <td>76.10</td>\n",
       "      <td>34.35</td>\n",
       "      <td>33.54</td>\n",
       "      <td>37.19</td>\n",
       "      <td>44.48</td>\n",
       "      <td>28.774900</td>\n",
       "      <td>59.81</td>\n",
       "      <td>30.6800</td>\n",
       "      <td>28.8268</td>\n",
       "      <td>27.805000</td>\n",
       "      <td>...</td>\n",
       "      <td>75.77</td>\n",
       "      <td>28.39</td>\n",
       "      <td>152.24</td>\n",
       "      <td>22.21</td>\n",
       "      <td>27.18</td>\n",
       "      <td>26.36</td>\n",
       "      <td>36.08</td>\n",
       "      <td>39.01</td>\n",
       "      <td>30.90</td>\n",
       "      <td>9.03</td>\n",
       "    </tr>\n",
       "    <tr>\n",
       "      <th>2020-09-01</th>\n",
       "      <td>73.85</td>\n",
       "      <td>32.83</td>\n",
       "      <td>33.14</td>\n",
       "      <td>36.65</td>\n",
       "      <td>43.65</td>\n",
       "      <td>28.567700</td>\n",
       "      <td>57.46</td>\n",
       "      <td>30.1600</td>\n",
       "      <td>28.3400</td>\n",
       "      <td>27.887500</td>\n",
       "      <td>...</td>\n",
       "      <td>73.55</td>\n",
       "      <td>27.22</td>\n",
       "      <td>146.61</td>\n",
       "      <td>21.47</td>\n",
       "      <td>26.95</td>\n",
       "      <td>24.99</td>\n",
       "      <td>35.29</td>\n",
       "      <td>38.57</td>\n",
       "      <td>30.42</td>\n",
       "      <td>8.88</td>\n",
       "    </tr>\n",
       "    <tr>\n",
       "      <th>2020-10-01</th>\n",
       "      <td>72.21</td>\n",
       "      <td>32.25</td>\n",
       "      <td>32.89</td>\n",
       "      <td>36.23</td>\n",
       "      <td>42.95</td>\n",
       "      <td>28.323500</td>\n",
       "      <td>56.00</td>\n",
       "      <td>29.8300</td>\n",
       "      <td>27.8300</td>\n",
       "      <td>27.240000</td>\n",
       "      <td>...</td>\n",
       "      <td>72.04</td>\n",
       "      <td>27.13</td>\n",
       "      <td>142.95</td>\n",
       "      <td>20.92</td>\n",
       "      <td>26.79</td>\n",
       "      <td>24.10</td>\n",
       "      <td>34.02</td>\n",
       "      <td>38.28</td>\n",
       "      <td>29.50</td>\n",
       "      <td>8.73</td>\n",
       "    </tr>\n",
       "  </tbody>\n",
       "</table>\n",
       "<p>5 rows × 109 columns</p>\n",
       "</div>"
      ],
      "text/plain": [
       "             ACWI   ADME    AOK    AOM    AOR       BAPR   BBUS     BJAN  \\\n",
       "Date                                                                       \n",
       "2020-06-01  68.12  31.24  32.27  35.37  41.53  27.603001  52.47  28.3620   \n",
       "2020-07-01  71.77  32.74  33.06  36.44  42.99  28.221600  55.55  29.5439   \n",
       "2020-08-01  76.10  34.35  33.54  37.19  44.48  28.774900  59.81  30.6800   \n",
       "2020-09-01  73.85  32.83  33.14  36.65  43.65  28.567700  57.46  30.1600   \n",
       "2020-10-01  72.21  32.25  32.89  36.23  42.95  28.323500  56.00  29.8300   \n",
       "\n",
       "               BJUL       BOCT  ...     VT   VUSE      VV   WOMN   WTMF  \\\n",
       "Date                            ...                                       \n",
       "2020-06-01  26.9900  25.889999  ...  67.88  25.91  133.47  18.59  26.94   \n",
       "2020-07-01  27.9200  26.838900  ...  71.48  26.96  141.45  19.82  27.31   \n",
       "2020-08-01  28.8268  27.805000  ...  75.77  28.39  152.24  22.21  27.18   \n",
       "2020-09-01  28.3400  27.887500  ...  73.55  27.22  146.61  21.47  26.95   \n",
       "2020-10-01  27.8300  27.240000  ...  72.04  27.13  142.95  20.92  26.79   \n",
       "\n",
       "              XLG   XRLV   XSMO   YLDE   YYY  \n",
       "Date                                          \n",
       "2020-06-01  22.62  32.49  34.74  27.88  8.45  \n",
       "2020-07-01  24.04  34.72  37.94  29.40  8.77  \n",
       "2020-08-01  26.36  36.08  39.01  30.90  9.03  \n",
       "2020-09-01  24.99  35.29  38.57  30.42  8.88  \n",
       "2020-10-01  24.10  34.02  38.28  29.50  8.73  \n",
       "\n",
       "[5 rows x 109 columns]"
      ]
     },
     "execution_count": 16,
     "metadata": {},
     "output_type": "execute_result"
    }
   ],
   "source": [
    "# Load and filter historical benchmark price data\n",
    "benchmark_prices_daily_df = load_and_filter_data('data/daily_benchmark_quotes.csv', tickers, start_date, end_date)\n",
    "benchmark_prices_monthly_df = load_and_filter_data('data/monthly_benchmark_quotes.csv', tickers, start_date, end_date)\n",
    "\n",
    "# Display the first few rows\n",
    "benchmark_prices_monthly_df.head()"
   ]
  },
  {
   "cell_type": "markdown",
   "id": "0b6317cc",
   "metadata": {},
   "source": [
    "#### Portfolio Tickers"
   ]
  },
  {
   "cell_type": "code",
   "execution_count": 17,
   "id": "63739423",
   "metadata": {
    "execution": {
     "iopub.execute_input": "2025-06-02T13:28:31.198685Z",
     "iopub.status.busy": "2025-06-02T13:28:31.198402Z",
     "iopub.status.idle": "2025-06-02T13:28:31.232652Z",
     "shell.execute_reply": "2025-06-02T13:28:31.231755Z"
    }
   },
   "outputs": [
    {
     "name": "stdout",
     "output_type": "stream",
     "text": [
      "Found 5 of 5 tickers in data/monthly_stock_quotes.csv\n",
      "Missing tickers: []\n"
     ]
    },
    {
     "data": {
      "application/vnd.microsoft.datawrangler.viewer.v0+json": {
       "columns": [
        {
         "name": "Date",
         "rawType": "datetime64[ns]",
         "type": "datetime"
        },
        {
         "name": "MMC",
         "rawType": "float64",
         "type": "float"
        },
        {
         "name": "MS",
         "rawType": "float64",
         "type": "float"
        },
        {
         "name": "PH",
         "rawType": "float64",
         "type": "float"
        },
        {
         "name": "SO",
         "rawType": "float64",
         "type": "float"
        },
        {
         "name": "TMUS",
         "rawType": "float64",
         "type": "float"
        }
       ],
       "ref": "a9dae23b-8432-4758-b17c-f2e67dc615b0",
       "rows": [
        [
         "2020-06-01 00:00:00",
         "100.13",
         "38.7",
         "170.8",
         "43.03",
         "101.85"
        ],
        [
         "2020-07-01 00:00:00",
         "109.18",
         "39.44",
         "166.75",
         "45.32",
         "105.01"
        ],
        [
         "2020-08-01 00:00:00",
         "107.59",
         "42.16",
         "192.8",
         "43.81",
         "114.1"
        ],
        [
         "2020-09-01 00:00:00",
         "107.4",
         "39.01",
         "189.37",
         "45.52",
         "111.83"
        ],
        [
         "2020-10-01 00:00:00",
         "97.27",
         "39.14",
         "195.0",
         "48.24",
         "107.15"
        ]
       ],
       "shape": {
        "columns": 5,
        "rows": 5
       }
      },
      "text/html": [
       "<div>\n",
       "<style scoped>\n",
       "    .dataframe tbody tr th:only-of-type {\n",
       "        vertical-align: middle;\n",
       "    }\n",
       "\n",
       "    .dataframe tbody tr th {\n",
       "        vertical-align: top;\n",
       "    }\n",
       "\n",
       "    .dataframe thead th {\n",
       "        text-align: right;\n",
       "    }\n",
       "</style>\n",
       "<table border=\"1\" class=\"dataframe\">\n",
       "  <thead>\n",
       "    <tr style=\"text-align: right;\">\n",
       "      <th></th>\n",
       "      <th>MMC</th>\n",
       "      <th>MS</th>\n",
       "      <th>PH</th>\n",
       "      <th>SO</th>\n",
       "      <th>TMUS</th>\n",
       "    </tr>\n",
       "    <tr>\n",
       "      <th>Date</th>\n",
       "      <th></th>\n",
       "      <th></th>\n",
       "      <th></th>\n",
       "      <th></th>\n",
       "      <th></th>\n",
       "    </tr>\n",
       "  </thead>\n",
       "  <tbody>\n",
       "    <tr>\n",
       "      <th>2020-06-01</th>\n",
       "      <td>100.13</td>\n",
       "      <td>38.70</td>\n",
       "      <td>170.80</td>\n",
       "      <td>43.03</td>\n",
       "      <td>101.85</td>\n",
       "    </tr>\n",
       "    <tr>\n",
       "      <th>2020-07-01</th>\n",
       "      <td>109.18</td>\n",
       "      <td>39.44</td>\n",
       "      <td>166.75</td>\n",
       "      <td>45.32</td>\n",
       "      <td>105.01</td>\n",
       "    </tr>\n",
       "    <tr>\n",
       "      <th>2020-08-01</th>\n",
       "      <td>107.59</td>\n",
       "      <td>42.16</td>\n",
       "      <td>192.80</td>\n",
       "      <td>43.81</td>\n",
       "      <td>114.10</td>\n",
       "    </tr>\n",
       "    <tr>\n",
       "      <th>2020-09-01</th>\n",
       "      <td>107.40</td>\n",
       "      <td>39.01</td>\n",
       "      <td>189.37</td>\n",
       "      <td>45.52</td>\n",
       "      <td>111.83</td>\n",
       "    </tr>\n",
       "    <tr>\n",
       "      <th>2020-10-01</th>\n",
       "      <td>97.27</td>\n",
       "      <td>39.14</td>\n",
       "      <td>195.00</td>\n",
       "      <td>48.24</td>\n",
       "      <td>107.15</td>\n",
       "    </tr>\n",
       "  </tbody>\n",
       "</table>\n",
       "</div>"
      ],
      "text/plain": [
       "               MMC     MS      PH     SO    TMUS\n",
       "Date                                            \n",
       "2020-06-01  100.13  38.70  170.80  43.03  101.85\n",
       "2020-07-01  109.18  39.44  166.75  45.32  105.01\n",
       "2020-08-01  107.59  42.16  192.80  43.81  114.10\n",
       "2020-09-01  107.40  39.01  189.37  45.52  111.83\n",
       "2020-10-01   97.27  39.14  195.00  48.24  107.15"
      ]
     },
     "execution_count": 17,
     "metadata": {},
     "output_type": "execute_result"
    }
   ],
   "source": [
    "# Load and filter historical benchmark price data\n",
    "stock_prices_monthly_df = load_and_filter_data('data/monthly_stock_quotes.csv', portfolio_tickers, start_date, end_date)\n",
    "\n",
    "# Display the first few rows\n",
    "stock_prices_monthly_df.head()"
   ]
  },
  {
   "cell_type": "markdown",
   "id": "ff74a589",
   "metadata": {},
   "source": [
    "### Step 7: Prepare Data (Drop Invalid Tickers)"
   ]
  },
  {
   "cell_type": "markdown",
   "id": "bc19d94e",
   "metadata": {},
   "source": [
    "#### Daily Quotes"
   ]
  },
  {
   "cell_type": "code",
   "execution_count": 18,
   "id": "4fd1c0fd",
   "metadata": {
    "execution": {
     "iopub.execute_input": "2025-06-02T13:28:31.236531Z",
     "iopub.status.busy": "2025-06-02T13:28:31.236211Z",
     "iopub.status.idle": "2025-06-02T13:28:31.261664Z",
     "shell.execute_reply": "2025-06-02T13:28:31.260652Z"
    }
   },
   "outputs": [
    {
     "name": "stdout",
     "output_type": "stream",
     "text": [
      "Dropping 0 columns with missing values in first/last 50 records: []\n"
     ]
    },
    {
     "data": {
      "application/vnd.microsoft.datawrangler.viewer.v0+json": {
       "columns": [
        {
         "name": "Date",
         "rawType": "datetime64[ns]",
         "type": "datetime"
        },
        {
         "name": "ACWI",
         "rawType": "float64",
         "type": "float"
        },
        {
         "name": "ADME",
         "rawType": "float64",
         "type": "float"
        },
        {
         "name": "AOK",
         "rawType": "float64",
         "type": "float"
        },
        {
         "name": "AOM",
         "rawType": "float64",
         "type": "float"
        },
        {
         "name": "AOR",
         "rawType": "float64",
         "type": "float"
        },
        {
         "name": "BAPR",
         "rawType": "float64",
         "type": "float"
        },
        {
         "name": "BBUS",
         "rawType": "float64",
         "type": "float"
        },
        {
         "name": "BJAN",
         "rawType": "float64",
         "type": "float"
        },
        {
         "name": "BJUL",
         "rawType": "float64",
         "type": "float"
        },
        {
         "name": "BOCT",
         "rawType": "float64",
         "type": "float"
        },
        {
         "name": "CEFS",
         "rawType": "float64",
         "type": "float"
        },
        {
         "name": "CRBN",
         "rawType": "float64",
         "type": "float"
        },
        {
         "name": "DEUS",
         "rawType": "float64",
         "type": "float"
        },
        {
         "name": "DGRO",
         "rawType": "float64",
         "type": "float"
        },
        {
         "name": "DGRW",
         "rawType": "float64",
         "type": "float"
        },
        {
         "name": "DIVO",
         "rawType": "float64",
         "type": "float"
        },
        {
         "name": "DLN",
         "rawType": "float64",
         "type": "float"
        },
        {
         "name": "DSI",
         "rawType": "float64",
         "type": "float"
        },
        {
         "name": "DTD",
         "rawType": "float64",
         "type": "float"
        },
        {
         "name": "DWAT",
         "rawType": "float64",
         "type": "float"
        },
        {
         "name": "DYNF",
         "rawType": "float64",
         "type": "float"
        },
        {
         "name": "EPS",
         "rawType": "float64",
         "type": "float"
        },
        {
         "name": "EQL",
         "rawType": "float64",
         "type": "float"
        },
        {
         "name": "EQWL",
         "rawType": "float64",
         "type": "float"
        },
        {
         "name": "ESGG",
         "rawType": "float64",
         "type": "float"
        },
        {
         "name": "ETHO",
         "rawType": "float64",
         "type": "float"
        },
        {
         "name": "EUSA",
         "rawType": "float64",
         "type": "float"
        },
        {
         "name": "EWC",
         "rawType": "float64",
         "type": "float"
        },
        {
         "name": "EWL",
         "rawType": "float64",
         "type": "float"
        },
        {
         "name": "FAD",
         "rawType": "float64",
         "type": "float"
        },
        {
         "name": "FCEF",
         "rawType": "float64",
         "type": "float"
        },
        {
         "name": "FIDU",
         "rawType": "float64",
         "type": "float"
        },
        {
         "name": "FNY",
         "rawType": "float64",
         "type": "float"
        },
        {
         "name": "FTLS",
         "rawType": "float64",
         "type": "float"
        },
        {
         "name": "FV",
         "rawType": "float64",
         "type": "float"
        },
        {
         "name": "FVAL",
         "rawType": "float64",
         "type": "float"
        },
        {
         "name": "FYC",
         "rawType": "float64",
         "type": "float"
        },
        {
         "name": "GVIP",
         "rawType": "float64",
         "type": "float"
        },
        {
         "name": "HTUS",
         "rawType": "float64",
         "type": "float"
        },
        {
         "name": "IDHQ",
         "rawType": "float64",
         "type": "float"
        },
        {
         "name": "IDMO",
         "rawType": "float64",
         "type": "float"
        },
        {
         "name": "IGF",
         "rawType": "float64",
         "type": "float"
        },
        {
         "name": "IHDG",
         "rawType": "float64",
         "type": "float"
        },
        {
         "name": "ILCV",
         "rawType": "float64",
         "type": "float"
        },
        {
         "name": "IMTM",
         "rawType": "float64",
         "type": "float"
        },
        {
         "name": "IOO",
         "rawType": "float64",
         "type": "float"
        },
        {
         "name": "IQLT",
         "rawType": "float64",
         "type": "float"
        },
        {
         "name": "ITOT",
         "rawType": "float64",
         "type": "float"
        },
        {
         "name": "IUS",
         "rawType": "float64",
         "type": "float"
        },
        {
         "name": "IUSV",
         "rawType": "float64",
         "type": "float"
        },
        {
         "name": "IVE",
         "rawType": "float64",
         "type": "float"
        },
        {
         "name": "IVV",
         "rawType": "float64",
         "type": "float"
        },
        {
         "name": "IWB",
         "rawType": "float64",
         "type": "float"
        },
        {
         "name": "IWL",
         "rawType": "float64",
         "type": "float"
        },
        {
         "name": "IWR",
         "rawType": "float64",
         "type": "float"
        },
        {
         "name": "JDIV",
         "rawType": "float64",
         "type": "float"
        },
        {
         "name": "JMOM",
         "rawType": "float64",
         "type": "float"
        },
        {
         "name": "JQUA",
         "rawType": "float64",
         "type": "float"
        },
        {
         "name": "JSMD",
         "rawType": "float64",
         "type": "float"
        },
        {
         "name": "LRGF",
         "rawType": "float64",
         "type": "float"
        },
        {
         "name": "MAGA",
         "rawType": "float64",
         "type": "float"
        },
        {
         "name": "MFUS",
         "rawType": "float64",
         "type": "float"
        },
        {
         "name": "MGC",
         "rawType": "float64",
         "type": "float"
        },
        {
         "name": "MGV",
         "rawType": "float64",
         "type": "float"
        },
        {
         "name": "MMTM",
         "rawType": "float64",
         "type": "float"
        },
        {
         "name": "NACP",
         "rawType": "float64",
         "type": "float"
        },
        {
         "name": "OEF",
         "rawType": "float64",
         "type": "float"
        },
        {
         "name": "PBUS",
         "rawType": "float64",
         "type": "float"
        },
        {
         "name": "PCEF",
         "rawType": "float64",
         "type": "float"
        },
        {
         "name": "PFM",
         "rawType": "float64",
         "type": "float"
        },
        {
         "name": "PJUL",
         "rawType": "float64",
         "type": "float"
        },
        {
         "name": "POCT",
         "rawType": "float64",
         "type": "float"
        },
        {
         "name": "QARP",
         "rawType": "float64",
         "type": "float"
        },
        {
         "name": "QDEF",
         "rawType": "float64",
         "type": "float"
        },
        {
         "name": "QDF",
         "rawType": "float64",
         "type": "float"
        },
        {
         "name": "QLC",
         "rawType": "float64",
         "type": "float"
        },
        {
         "name": "QMOM",
         "rawType": "float64",
         "type": "float"
        },
        {
         "name": "QUAL",
         "rawType": "float64",
         "type": "float"
        },
        {
         "name": "QUS",
         "rawType": "float64",
         "type": "float"
        },
        {
         "name": "QWLD",
         "rawType": "float64",
         "type": "float"
        },
        {
         "name": "SCHX",
         "rawType": "float64",
         "type": "float"
        },
        {
         "name": "SIZE",
         "rawType": "float64",
         "type": "float"
        },
        {
         "name": "SMIN",
         "rawType": "float64",
         "type": "float"
        },
        {
         "name": "SPGM",
         "rawType": "float64",
         "type": "float"
        },
        {
         "name": "SPHB",
         "rawType": "float64",
         "type": "float"
        },
        {
         "name": "SPLG",
         "rawType": "float64",
         "type": "float"
        },
        {
         "name": "SPTM",
         "rawType": "float64",
         "type": "float"
        },
        {
         "name": "SPXV",
         "rawType": "float64",
         "type": "float"
        },
        {
         "name": "SPY",
         "rawType": "float64",
         "type": "float"
        },
        {
         "name": "SPYV",
         "rawType": "float64",
         "type": "float"
        },
        {
         "name": "SSPY",
         "rawType": "float64",
         "type": "float"
        },
        {
         "name": "SUSA",
         "rawType": "float64",
         "type": "float"
        },
        {
         "name": "TOK",
         "rawType": "float64",
         "type": "float"
        },
        {
         "name": "URTH",
         "rawType": "float64",
         "type": "float"
        },
        {
         "name": "USMF",
         "rawType": "float64",
         "type": "float"
        },
        {
         "name": "VO",
         "rawType": "float64",
         "type": "float"
        },
        {
         "name": "VONE",
         "rawType": "float64",
         "type": "float"
        },
        {
         "name": "VOO",
         "rawType": "float64",
         "type": "float"
        },
        {
         "name": "VOOV",
         "rawType": "float64",
         "type": "float"
        },
        {
         "name": "VT",
         "rawType": "float64",
         "type": "float"
        },
        {
         "name": "VUSE",
         "rawType": "float64",
         "type": "float"
        },
        {
         "name": "VV",
         "rawType": "float64",
         "type": "float"
        },
        {
         "name": "WOMN",
         "rawType": "float64",
         "type": "float"
        },
        {
         "name": "WTMF",
         "rawType": "float64",
         "type": "float"
        },
        {
         "name": "XLG",
         "rawType": "float64",
         "type": "float"
        },
        {
         "name": "XRLV",
         "rawType": "float64",
         "type": "float"
        },
        {
         "name": "XSMO",
         "rawType": "float64",
         "type": "float"
        },
        {
         "name": "YLDE",
         "rawType": "float64",
         "type": "float"
        },
        {
         "name": "YYY",
         "rawType": "float64",
         "type": "float"
        }
       ],
       "ref": "f5e008ff-75ed-4886-bbb3-2ddbeb0702b1",
       "rows": [
        [
         "2020-06-01 00:00:00",
         "67.02",
         "31.07",
         "31.83",
         "34.96",
         "40.98",
         "27.4465",
         "51.65",
         "28.139999",
         "26.84",
         "25.57",
         "11.02",
         "109.3",
         "29.72",
         "33.56",
         "40.85",
         "22.51",
         "41.35",
         "54.79",
         "39.96",
         "7.45",
         "23.69",
         "30.26",
         "66.27",
         "50.69",
         "92.58",
         "38.34",
         "52.82",
         "23.0",
         "35.2",
         "74.67",
         "13.61",
         "33.05",
         "46.67",
         "39.24",
         "31.81",
         "30.64",
         "39.95",
         "64.06",
         "19.39",
         "21.61",
         "23.7",
         "34.61",
         "28.43",
         "43.79",
         "26.65",
         "47.65",
         "25.93",
         "63.76",
         "23.11",
         "47.78",
         "99.59",
         "284.59",
         "158.48",
         "68.24",
         "49.92",
         "20.75",
         "29.14",
         "28.19",
         "45.1",
         "29.08",
         "22.36",
         "25.32",
         "100.43",
         "66.02",
         "123.42",
         "20.07",
         "130.83",
         "28.49",
         "13.39",
         "25.84",
         "26.5649",
         "24.93",
         "26.01",
         "37.75",
         "37.69",
         "32.02",
         "33.51",
         "90.22",
         "82.17",
         "72.37",
         "11.32",
         "81.14",
         "24.8",
         "35.29",
         "37.23",
         "33.29",
         "34.68",
         "29.52",
         "284.09",
         "26.51",
         "41.47",
         "61.5",
         "61.69",
         "84.48",
         "27.47",
         "151.07",
         "130.66",
         "260.29",
         "95.75",
         "66.71",
         "25.83",
         "131.35",
         "18.29",
         "26.86",
         "21.92",
         "32.52",
         "33.75",
         "27.79",
         "8.48"
        ],
        [
         "2020-06-02 00:00:00",
         "67.75",
         "31.06",
         "32.02",
         "35.18",
         "41.24",
         "27.5208",
         "52.05",
         "28.195",
         "26.959999",
         "25.69",
         "11.08",
         "110.54",
         "30.05",
         "33.93",
         "41.19",
         "22.52",
         "41.76",
         "55.29",
         "40.41",
         "7.45",
         "23.89",
         "30.56",
         "66.83",
         "51.14",
         "93.57",
         "38.59",
         "53.33",
         "23.41",
         "35.34",
         "75.13",
         "13.72",
         "33.49",
         "46.91",
         "39.29",
         "31.96",
         "30.94",
         "40.26",
         "64.45",
         "19.37",
         "21.7",
         "23.8",
         "35.25",
         "28.48",
         "44.21",
         "26.68",
         "48.02",
         "26.13",
         "64.29",
         "23.34",
         "48.24",
         "100.56",
         "286.96",
         "159.79",
         "68.77",
         "50.42",
         "20.98",
         "29.29",
         "28.43",
         "45.39",
         "29.23",
         "22.68",
         "25.51",
         "101.14",
         "66.58",
         "123.86",
         "20.06",
         "131.75",
         "28.51",
         "13.51",
         "26.07",
         "26.59",
         "25.1",
         "26.24",
         "38.08",
         "38.14",
         "32.27",
         "33.26",
         "90.92",
         "82.77",
         "72.9",
         "11.41",
         "81.95",
         "25.23",
         "35.7",
         "38.08",
         "33.57",
         "34.98",
         "29.72",
         "286.44",
         "26.78",
         "41.84",
         "62.01",
         "62.11",
         "85.23",
         "27.75",
         "152.82",
         "131.67",
         "262.43",
         "96.7",
         "67.45",
         "26.21",
         "132.45",
         "18.44",
         "26.91",
         "22.08",
         "32.76",
         "34.04",
         "27.87",
         "8.57"
        ],
        [
         "2020-06-03 00:00:00",
         "68.86",
         "31.18",
         "32.19",
         "35.43",
         "41.7",
         "27.709",
         "52.81",
         "28.5037",
         "27.309999",
         "25.95",
         "11.21",
         "112.39",
         "30.8",
         "34.62",
         "41.79",
         "22.8",
         "42.44",
         "55.91",
         "41.2",
         "7.45",
         "24.31",
         "31.1",
         "68.14",
         "52.29",
         "94.99",
         "39.5",
         "54.68",
         "23.7",
         "35.94",
         "76.04",
         "13.89",
         "34.71",
         "47.34",
         "39.41",
         "32.09",
         "31.42",
         "41.29",
         "64.96",
         "19.5",
         "22.16",
         "24.23",
         "36.14",
         "28.79",
         "45.12",
         "26.9",
         "48.82",
         "26.69",
         "65.3",
         "23.71",
         "49.28",
         "102.56",
         "290.82",
         "162.06",
         "69.48",
         "51.57",
         "21.63",
         "29.67",
         "28.82",
         "46.2",
         "29.58",
         "23.48",
         "26.01",
         "102.47",
         "67.78",
         "124.95",
         "20.67",
         "133.12",
         "29.22",
         "13.66",
         "26.46",
         "26.85",
         "25.17",
         "26.63",
         "38.67",
         "38.83",
         "32.73",
         "32.98",
         "92.28",
         "83.92",
         "74.06",
         "11.58",
         "84.0",
         "25.71",
         "36.36",
         "40.21",
         "34.01",
         "35.53",
         "30.27",
         "290.26",
         "27.31",
         "42.98",
         "62.82",
         "63.12",
         "86.59",
         "28.09",
         "156.02",
         "133.55",
         "265.89",
         "98.67",
         "68.65",
         "26.83",
         "134.3",
         "18.66",
         "26.7",
         "22.26",
         "33.21",
         "35.12",
         "28.51",
         "8.66"
        ],
        [
         "2020-06-04 00:00:00",
         "68.49",
         "30.79",
         "32.1",
         "35.25",
         "41.51",
         "27.6788",
         "52.52",
         "28.4765",
         "27.1364",
         "25.8864",
         "11.18",
         "111.91",
         "30.8",
         "34.75",
         "41.71",
         "22.46",
         "42.49",
         "55.69",
         "41.28",
         "7.52",
         "24.26",
         "31.18",
         "67.81",
         "52.43",
         "94.5",
         "39.32",
         "54.66",
         "23.58",
         "35.72",
         "74.86",
         "13.86",
         "34.97",
         "46.43",
         "39.27",
         "31.64",
         "31.59",
         "41.26",
         "64.29",
         "19.45",
         "22.03",
         "24.08",
         "35.66",
         "28.6",
         "45.48",
         "26.8",
         "48.55",
         "26.56",
         "65.05",
         "23.59",
         "49.47",
         "102.97",
         "289.85",
         "161.61",
         "69.32",
         "51.42",
         "21.74",
         "29.25",
         "28.68",
         "45.77",
         "29.52",
         "23.57",
         "25.98",
         "102.04",
         "68.14",
         "123.91",
         "20.72",
         "132.76",
         "28.95",
         "13.62",
         "26.32",
         "26.7486",
         "25.16",
         "26.54",
         "38.59",
         "38.87",
         "32.61",
         "32.32",
         "91.75",
         "83.69",
         "73.69",
         "11.54",
         "84.09",
         "25.24",
         "36.24",
         "41.28",
         "33.91",
         "35.41",
         "30.13",
         "289.49",
         "27.43",
         "43.05",
         "62.5",
         "62.51",
         "86.26",
         "27.99",
         "155.2",
         "133.1",
         "265.22",
         "99.02",
         "68.32",
         "26.97",
         "133.73",
         "18.56",
         "26.67",
         "22.15",
         "33.13",
         "35.21",
         "28.43",
         "8.63"
        ],
        [
         "2020-06-05 00:00:00",
         "70.05",
         "31.31",
         "32.38",
         "35.64",
         "42.17",
         "28.0298",
         "53.92",
         "29.19",
         "27.719999",
         "26.2656",
         "11.49",
         "114.51",
         "31.66",
         "35.73",
         "42.71",
         "23.22",
         "43.66",
         "57.02",
         "42.45",
         "7.49",
         "24.93",
         "32.03",
         "69.9",
         "54.24",
         "96.82",
         "40.7",
         "56.34",
         "24.16",
         "35.67",
         "76.24",
         "14.14",
         "36.27",
         "47.12",
         "39.78",
         "32.24",
         "32.58",
         "42.5",
         "66.02",
         "19.55",
         "22.32",
         "24.23",
         "36.3",
         "28.86",
         "46.81",
         "26.81",
         "49.61",
         "26.92",
         "66.8",
         "24.35",
         "51.05",
         "106.07",
         "297.4",
         "165.75",
         "70.98",
         "52.82",
         "22.45",
         "29.91",
         "29.31",
         "47.38",
         "30.19",
         "24.57",
         "26.66",
         "104.68",
         "70.06",
         "126.44",
         "20.98",
         "136.01",
         "29.62",
         "13.74",
         "26.98",
         "27.142",
         "25.41",
         "27.32",
         "39.5",
         "39.89",
         "33.41",
         "32.87",
         "94.05",
         "85.98",
         "75.34",
         "11.84",
         "86.67",
         "26.24",
         "37.12",
         "43.84",
         "34.78",
         "36.38",
         "30.98",
         "296.91",
         "28.23",
         "44.46",
         "64.01",
         "64.38",
         "88.23",
         "28.65",
         "159.43",
         "136.4",
         "272.0",
         "102.08",
         "69.96",
         "27.93",
         "137.14",
         "18.94",
         "26.52",
         "22.7",
         "33.82",
         "36.48",
         "29.12",
         "8.72"
        ]
       ],
       "shape": {
        "columns": 109,
        "rows": 5
       }
      },
      "text/html": [
       "<div>\n",
       "<style scoped>\n",
       "    .dataframe tbody tr th:only-of-type {\n",
       "        vertical-align: middle;\n",
       "    }\n",
       "\n",
       "    .dataframe tbody tr th {\n",
       "        vertical-align: top;\n",
       "    }\n",
       "\n",
       "    .dataframe thead th {\n",
       "        text-align: right;\n",
       "    }\n",
       "</style>\n",
       "<table border=\"1\" class=\"dataframe\">\n",
       "  <thead>\n",
       "    <tr style=\"text-align: right;\">\n",
       "      <th></th>\n",
       "      <th>ACWI</th>\n",
       "      <th>ADME</th>\n",
       "      <th>AOK</th>\n",
       "      <th>AOM</th>\n",
       "      <th>AOR</th>\n",
       "      <th>BAPR</th>\n",
       "      <th>BBUS</th>\n",
       "      <th>BJAN</th>\n",
       "      <th>BJUL</th>\n",
       "      <th>BOCT</th>\n",
       "      <th>...</th>\n",
       "      <th>VT</th>\n",
       "      <th>VUSE</th>\n",
       "      <th>VV</th>\n",
       "      <th>WOMN</th>\n",
       "      <th>WTMF</th>\n",
       "      <th>XLG</th>\n",
       "      <th>XRLV</th>\n",
       "      <th>XSMO</th>\n",
       "      <th>YLDE</th>\n",
       "      <th>YYY</th>\n",
       "    </tr>\n",
       "    <tr>\n",
       "      <th>Date</th>\n",
       "      <th></th>\n",
       "      <th></th>\n",
       "      <th></th>\n",
       "      <th></th>\n",
       "      <th></th>\n",
       "      <th></th>\n",
       "      <th></th>\n",
       "      <th></th>\n",
       "      <th></th>\n",
       "      <th></th>\n",
       "      <th></th>\n",
       "      <th></th>\n",
       "      <th></th>\n",
       "      <th></th>\n",
       "      <th></th>\n",
       "      <th></th>\n",
       "      <th></th>\n",
       "      <th></th>\n",
       "      <th></th>\n",
       "      <th></th>\n",
       "      <th></th>\n",
       "    </tr>\n",
       "  </thead>\n",
       "  <tbody>\n",
       "    <tr>\n",
       "      <th>2020-06-01</th>\n",
       "      <td>67.02</td>\n",
       "      <td>31.07</td>\n",
       "      <td>31.83</td>\n",
       "      <td>34.96</td>\n",
       "      <td>40.98</td>\n",
       "      <td>27.4465</td>\n",
       "      <td>51.65</td>\n",
       "      <td>28.139999</td>\n",
       "      <td>26.840000</td>\n",
       "      <td>25.5700</td>\n",
       "      <td>...</td>\n",
       "      <td>66.71</td>\n",
       "      <td>25.83</td>\n",
       "      <td>131.35</td>\n",
       "      <td>18.29</td>\n",
       "      <td>26.86</td>\n",
       "      <td>21.92</td>\n",
       "      <td>32.52</td>\n",
       "      <td>33.75</td>\n",
       "      <td>27.79</td>\n",
       "      <td>8.48</td>\n",
       "    </tr>\n",
       "    <tr>\n",
       "      <th>2020-06-02</th>\n",
       "      <td>67.75</td>\n",
       "      <td>31.06</td>\n",
       "      <td>32.02</td>\n",
       "      <td>35.18</td>\n",
       "      <td>41.24</td>\n",
       "      <td>27.5208</td>\n",
       "      <td>52.05</td>\n",
       "      <td>28.195000</td>\n",
       "      <td>26.959999</td>\n",
       "      <td>25.6900</td>\n",
       "      <td>...</td>\n",
       "      <td>67.45</td>\n",
       "      <td>26.21</td>\n",
       "      <td>132.45</td>\n",
       "      <td>18.44</td>\n",
       "      <td>26.91</td>\n",
       "      <td>22.08</td>\n",
       "      <td>32.76</td>\n",
       "      <td>34.04</td>\n",
       "      <td>27.87</td>\n",
       "      <td>8.57</td>\n",
       "    </tr>\n",
       "    <tr>\n",
       "      <th>2020-06-03</th>\n",
       "      <td>68.86</td>\n",
       "      <td>31.18</td>\n",
       "      <td>32.19</td>\n",
       "      <td>35.43</td>\n",
       "      <td>41.70</td>\n",
       "      <td>27.7090</td>\n",
       "      <td>52.81</td>\n",
       "      <td>28.503700</td>\n",
       "      <td>27.309999</td>\n",
       "      <td>25.9500</td>\n",
       "      <td>...</td>\n",
       "      <td>68.65</td>\n",
       "      <td>26.83</td>\n",
       "      <td>134.30</td>\n",
       "      <td>18.66</td>\n",
       "      <td>26.70</td>\n",
       "      <td>22.26</td>\n",
       "      <td>33.21</td>\n",
       "      <td>35.12</td>\n",
       "      <td>28.51</td>\n",
       "      <td>8.66</td>\n",
       "    </tr>\n",
       "    <tr>\n",
       "      <th>2020-06-04</th>\n",
       "      <td>68.49</td>\n",
       "      <td>30.79</td>\n",
       "      <td>32.10</td>\n",
       "      <td>35.25</td>\n",
       "      <td>41.51</td>\n",
       "      <td>27.6788</td>\n",
       "      <td>52.52</td>\n",
       "      <td>28.476500</td>\n",
       "      <td>27.136400</td>\n",
       "      <td>25.8864</td>\n",
       "      <td>...</td>\n",
       "      <td>68.32</td>\n",
       "      <td>26.97</td>\n",
       "      <td>133.73</td>\n",
       "      <td>18.56</td>\n",
       "      <td>26.67</td>\n",
       "      <td>22.15</td>\n",
       "      <td>33.13</td>\n",
       "      <td>35.21</td>\n",
       "      <td>28.43</td>\n",
       "      <td>8.63</td>\n",
       "    </tr>\n",
       "    <tr>\n",
       "      <th>2020-06-05</th>\n",
       "      <td>70.05</td>\n",
       "      <td>31.31</td>\n",
       "      <td>32.38</td>\n",
       "      <td>35.64</td>\n",
       "      <td>42.17</td>\n",
       "      <td>28.0298</td>\n",
       "      <td>53.92</td>\n",
       "      <td>29.190000</td>\n",
       "      <td>27.719999</td>\n",
       "      <td>26.2656</td>\n",
       "      <td>...</td>\n",
       "      <td>69.96</td>\n",
       "      <td>27.93</td>\n",
       "      <td>137.14</td>\n",
       "      <td>18.94</td>\n",
       "      <td>26.52</td>\n",
       "      <td>22.70</td>\n",
       "      <td>33.82</td>\n",
       "      <td>36.48</td>\n",
       "      <td>29.12</td>\n",
       "      <td>8.72</td>\n",
       "    </tr>\n",
       "  </tbody>\n",
       "</table>\n",
       "<p>5 rows × 109 columns</p>\n",
       "</div>"
      ],
      "text/plain": [
       "             ACWI   ADME    AOK    AOM    AOR     BAPR   BBUS       BJAN  \\\n",
       "Date                                                                       \n",
       "2020-06-01  67.02  31.07  31.83  34.96  40.98  27.4465  51.65  28.139999   \n",
       "2020-06-02  67.75  31.06  32.02  35.18  41.24  27.5208  52.05  28.195000   \n",
       "2020-06-03  68.86  31.18  32.19  35.43  41.70  27.7090  52.81  28.503700   \n",
       "2020-06-04  68.49  30.79  32.10  35.25  41.51  27.6788  52.52  28.476500   \n",
       "2020-06-05  70.05  31.31  32.38  35.64  42.17  28.0298  53.92  29.190000   \n",
       "\n",
       "                 BJUL     BOCT  ...     VT   VUSE      VV   WOMN   WTMF  \\\n",
       "Date                            ...                                       \n",
       "2020-06-01  26.840000  25.5700  ...  66.71  25.83  131.35  18.29  26.86   \n",
       "2020-06-02  26.959999  25.6900  ...  67.45  26.21  132.45  18.44  26.91   \n",
       "2020-06-03  27.309999  25.9500  ...  68.65  26.83  134.30  18.66  26.70   \n",
       "2020-06-04  27.136400  25.8864  ...  68.32  26.97  133.73  18.56  26.67   \n",
       "2020-06-05  27.719999  26.2656  ...  69.96  27.93  137.14  18.94  26.52   \n",
       "\n",
       "              XLG   XRLV   XSMO   YLDE   YYY  \n",
       "Date                                          \n",
       "2020-06-01  21.92  32.52  33.75  27.79  8.48  \n",
       "2020-06-02  22.08  32.76  34.04  27.87  8.57  \n",
       "2020-06-03  22.26  33.21  35.12  28.51  8.66  \n",
       "2020-06-04  22.15  33.13  35.21  28.43  8.63  \n",
       "2020-06-05  22.70  33.82  36.48  29.12  8.72  \n",
       "\n",
       "[5 rows x 109 columns]"
      ]
     },
     "execution_count": 18,
     "metadata": {},
     "output_type": "execute_result"
    }
   ],
   "source": [
    "# Identify columns with null values in first or last 50 rows\n",
    "first_50_nulls = benchmark_prices_daily_df.head(50).isnull().any()\n",
    "last_50_nulls = benchmark_prices_daily_df.tail(50).isnull().any()\n",
    "\n",
    "# Columns to drop are those with nulls in first 50 OR last 50 rows\n",
    "columns_to_drop = first_50_nulls | last_50_nulls\n",
    "bad_columns = columns_to_drop[columns_to_drop].index.tolist()\n",
    "\n",
    "print(f\"Dropping {len(bad_columns)} columns with missing values in first/last 50 records: {bad_columns}\")\n",
    "\n",
    "# Drop those columns\n",
    "benchmark_prices_daily_df = benchmark_prices_daily_df.loc[:, ~columns_to_drop]\n",
    "\n",
    "# Display the first few rows of the cleaned dataframe\n",
    "benchmark_prices_daily_df.head()"
   ]
  },
  {
   "cell_type": "markdown",
   "id": "66c53499",
   "metadata": {},
   "source": [
    "#### Monthly Quotes"
   ]
  },
  {
   "cell_type": "code",
   "execution_count": 19,
   "id": "f67e5873",
   "metadata": {
    "execution": {
     "iopub.execute_input": "2025-06-02T13:28:31.265319Z",
     "iopub.status.busy": "2025-06-02T13:28:31.264968Z",
     "iopub.status.idle": "2025-06-02T13:28:31.289915Z",
     "shell.execute_reply": "2025-06-02T13:28:31.289100Z"
    }
   },
   "outputs": [
    {
     "data": {
      "application/vnd.microsoft.datawrangler.viewer.v0+json": {
       "columns": [
        {
         "name": "Date",
         "rawType": "datetime64[ns]",
         "type": "datetime"
        },
        {
         "name": "ACWI",
         "rawType": "float64",
         "type": "float"
        },
        {
         "name": "ADME",
         "rawType": "float64",
         "type": "float"
        },
        {
         "name": "AOK",
         "rawType": "float64",
         "type": "float"
        },
        {
         "name": "AOM",
         "rawType": "float64",
         "type": "float"
        },
        {
         "name": "AOR",
         "rawType": "float64",
         "type": "float"
        },
        {
         "name": "BAPR",
         "rawType": "float64",
         "type": "float"
        },
        {
         "name": "BBUS",
         "rawType": "float64",
         "type": "float"
        },
        {
         "name": "BJAN",
         "rawType": "float64",
         "type": "float"
        },
        {
         "name": "BJUL",
         "rawType": "float64",
         "type": "float"
        },
        {
         "name": "BOCT",
         "rawType": "float64",
         "type": "float"
        },
        {
         "name": "CEFS",
         "rawType": "float64",
         "type": "float"
        },
        {
         "name": "CRBN",
         "rawType": "float64",
         "type": "float"
        },
        {
         "name": "DEUS",
         "rawType": "float64",
         "type": "float"
        },
        {
         "name": "DGRO",
         "rawType": "float64",
         "type": "float"
        },
        {
         "name": "DGRW",
         "rawType": "float64",
         "type": "float"
        },
        {
         "name": "DIVO",
         "rawType": "float64",
         "type": "float"
        },
        {
         "name": "DLN",
         "rawType": "float64",
         "type": "float"
        },
        {
         "name": "DSI",
         "rawType": "float64",
         "type": "float"
        },
        {
         "name": "DTD",
         "rawType": "float64",
         "type": "float"
        },
        {
         "name": "DWAT",
         "rawType": "float64",
         "type": "float"
        },
        {
         "name": "DYNF",
         "rawType": "float64",
         "type": "float"
        },
        {
         "name": "EPS",
         "rawType": "float64",
         "type": "float"
        },
        {
         "name": "EQL",
         "rawType": "float64",
         "type": "float"
        },
        {
         "name": "EQWL",
         "rawType": "float64",
         "type": "float"
        },
        {
         "name": "ESGG",
         "rawType": "float64",
         "type": "float"
        },
        {
         "name": "ETHO",
         "rawType": "float64",
         "type": "float"
        },
        {
         "name": "EUSA",
         "rawType": "float64",
         "type": "float"
        },
        {
         "name": "EWC",
         "rawType": "float64",
         "type": "float"
        },
        {
         "name": "EWL",
         "rawType": "float64",
         "type": "float"
        },
        {
         "name": "FAD",
         "rawType": "float64",
         "type": "float"
        },
        {
         "name": "FCEF",
         "rawType": "float64",
         "type": "float"
        },
        {
         "name": "FIDU",
         "rawType": "float64",
         "type": "float"
        },
        {
         "name": "FNY",
         "rawType": "float64",
         "type": "float"
        },
        {
         "name": "FTLS",
         "rawType": "float64",
         "type": "float"
        },
        {
         "name": "FV",
         "rawType": "float64",
         "type": "float"
        },
        {
         "name": "FVAL",
         "rawType": "float64",
         "type": "float"
        },
        {
         "name": "FYC",
         "rawType": "float64",
         "type": "float"
        },
        {
         "name": "GVIP",
         "rawType": "float64",
         "type": "float"
        },
        {
         "name": "HTUS",
         "rawType": "float64",
         "type": "float"
        },
        {
         "name": "IDHQ",
         "rawType": "float64",
         "type": "float"
        },
        {
         "name": "IDMO",
         "rawType": "float64",
         "type": "float"
        },
        {
         "name": "IGF",
         "rawType": "float64",
         "type": "float"
        },
        {
         "name": "IHDG",
         "rawType": "float64",
         "type": "float"
        },
        {
         "name": "ILCV",
         "rawType": "float64",
         "type": "float"
        },
        {
         "name": "IMTM",
         "rawType": "float64",
         "type": "float"
        },
        {
         "name": "IOO",
         "rawType": "float64",
         "type": "float"
        },
        {
         "name": "IQLT",
         "rawType": "float64",
         "type": "float"
        },
        {
         "name": "ITOT",
         "rawType": "float64",
         "type": "float"
        },
        {
         "name": "IUS",
         "rawType": "float64",
         "type": "float"
        },
        {
         "name": "IUSV",
         "rawType": "float64",
         "type": "float"
        },
        {
         "name": "IVE",
         "rawType": "float64",
         "type": "float"
        },
        {
         "name": "IVV",
         "rawType": "float64",
         "type": "float"
        },
        {
         "name": "IWB",
         "rawType": "float64",
         "type": "float"
        },
        {
         "name": "IWL",
         "rawType": "float64",
         "type": "float"
        },
        {
         "name": "IWR",
         "rawType": "float64",
         "type": "float"
        },
        {
         "name": "JDIV",
         "rawType": "float64",
         "type": "float"
        },
        {
         "name": "JMOM",
         "rawType": "float64",
         "type": "float"
        },
        {
         "name": "JQUA",
         "rawType": "float64",
         "type": "float"
        },
        {
         "name": "JSMD",
         "rawType": "float64",
         "type": "float"
        },
        {
         "name": "LRGF",
         "rawType": "float64",
         "type": "float"
        },
        {
         "name": "MAGA",
         "rawType": "float64",
         "type": "float"
        },
        {
         "name": "MFUS",
         "rawType": "float64",
         "type": "float"
        },
        {
         "name": "MGC",
         "rawType": "float64",
         "type": "float"
        },
        {
         "name": "MGV",
         "rawType": "float64",
         "type": "float"
        },
        {
         "name": "MMTM",
         "rawType": "float64",
         "type": "float"
        },
        {
         "name": "NACP",
         "rawType": "float64",
         "type": "float"
        },
        {
         "name": "OEF",
         "rawType": "float64",
         "type": "float"
        },
        {
         "name": "PBUS",
         "rawType": "float64",
         "type": "float"
        },
        {
         "name": "PCEF",
         "rawType": "float64",
         "type": "float"
        },
        {
         "name": "PFM",
         "rawType": "float64",
         "type": "float"
        },
        {
         "name": "PJUL",
         "rawType": "float64",
         "type": "float"
        },
        {
         "name": "POCT",
         "rawType": "float64",
         "type": "float"
        },
        {
         "name": "QARP",
         "rawType": "float64",
         "type": "float"
        },
        {
         "name": "QDEF",
         "rawType": "float64",
         "type": "float"
        },
        {
         "name": "QDF",
         "rawType": "float64",
         "type": "float"
        },
        {
         "name": "QLC",
         "rawType": "float64",
         "type": "float"
        },
        {
         "name": "QMOM",
         "rawType": "float64",
         "type": "float"
        },
        {
         "name": "QUAL",
         "rawType": "float64",
         "type": "float"
        },
        {
         "name": "QUS",
         "rawType": "float64",
         "type": "float"
        },
        {
         "name": "QWLD",
         "rawType": "float64",
         "type": "float"
        },
        {
         "name": "SCHX",
         "rawType": "float64",
         "type": "float"
        },
        {
         "name": "SIZE",
         "rawType": "float64",
         "type": "float"
        },
        {
         "name": "SMIN",
         "rawType": "float64",
         "type": "float"
        },
        {
         "name": "SPGM",
         "rawType": "float64",
         "type": "float"
        },
        {
         "name": "SPHB",
         "rawType": "float64",
         "type": "float"
        },
        {
         "name": "SPLG",
         "rawType": "float64",
         "type": "float"
        },
        {
         "name": "SPTM",
         "rawType": "float64",
         "type": "float"
        },
        {
         "name": "SPXV",
         "rawType": "float64",
         "type": "float"
        },
        {
         "name": "SPY",
         "rawType": "float64",
         "type": "float"
        },
        {
         "name": "SPYV",
         "rawType": "float64",
         "type": "float"
        },
        {
         "name": "SSPY",
         "rawType": "float64",
         "type": "float"
        },
        {
         "name": "SUSA",
         "rawType": "float64",
         "type": "float"
        },
        {
         "name": "TOK",
         "rawType": "float64",
         "type": "float"
        },
        {
         "name": "URTH",
         "rawType": "float64",
         "type": "float"
        },
        {
         "name": "USMF",
         "rawType": "float64",
         "type": "float"
        },
        {
         "name": "VO",
         "rawType": "float64",
         "type": "float"
        },
        {
         "name": "VONE",
         "rawType": "float64",
         "type": "float"
        },
        {
         "name": "VOO",
         "rawType": "float64",
         "type": "float"
        },
        {
         "name": "VOOV",
         "rawType": "float64",
         "type": "float"
        },
        {
         "name": "VT",
         "rawType": "float64",
         "type": "float"
        },
        {
         "name": "VUSE",
         "rawType": "float64",
         "type": "float"
        },
        {
         "name": "VV",
         "rawType": "float64",
         "type": "float"
        },
        {
         "name": "WOMN",
         "rawType": "float64",
         "type": "float"
        },
        {
         "name": "WTMF",
         "rawType": "float64",
         "type": "float"
        },
        {
         "name": "XLG",
         "rawType": "float64",
         "type": "float"
        },
        {
         "name": "XRLV",
         "rawType": "float64",
         "type": "float"
        },
        {
         "name": "XSMO",
         "rawType": "float64",
         "type": "float"
        },
        {
         "name": "YLDE",
         "rawType": "float64",
         "type": "float"
        },
        {
         "name": "YYY",
         "rawType": "float64",
         "type": "float"
        }
       ],
       "ref": "105dd9e6-3c51-4717-b7e2-488b3bf301b2",
       "rows": [
        [
         "2020-06-01 00:00:00",
         "68.12",
         "31.24",
         "32.27",
         "35.37",
         "41.53",
         "27.603001",
         "52.47",
         "28.362",
         "26.99",
         "25.889999",
         "11.05",
         "111.29",
         "29.74",
         "33.65",
         "41.66",
         "22.42",
         "41.47",
         "55.73",
         "40.13",
         "7.52",
         "23.71",
         "30.53",
         "66.27",
         "51.24",
         "94.88",
         "39.34",
         "53.22",
         "23.44",
         "35.92",
         "76.44",
         "13.66",
         "33.59",
         "47.16",
         "39.2",
         "31.42",
         "31.06",
         "41.52",
         "65.04",
         "19.34",
         "21.76",
         "24.65",
         "33.65",
         "28.48",
         "43.33",
         "27.42",
         "49.27",
         "26.35",
         "64.81",
         "23.31",
         "47.23",
         "98.29",
         "288.58",
         "161.06",
         "69.55",
         "50.21",
         "20.82",
         "29.49",
         "28.4",
         "46.61",
         "29.04",
         "22.28",
         "25.33",
         "102.37",
         "65.1",
         "126.73",
         "20.52",
         "134.02",
         "29.18",
         "13.44",
         "25.82",
         "26.75",
         "25.18",
         "26.31",
         "37.73",
         "38.12",
         "32.49",
         "34.19",
         "90.09",
         "82.09",
         "72.77",
         "11.51",
         "81.6",
         "26.9",
         "36.26",
         "38.29",
         "33.77",
         "35.2",
         "30.17",
         "287.97",
         "26.15",
         "41.54",
         "62.9",
         "62.71",
         "85.78",
         "27.86",
         "152.44",
         "132.74",
         "263.93",
         "94.53",
         "67.88",
         "25.91",
         "133.47",
         "18.59",
         "26.94",
         "22.62",
         "32.49",
         "34.74",
         "27.88",
         "8.45"
        ],
        [
         "2020-07-01 00:00:00",
         "71.77",
         "32.74",
         "33.06",
         "36.44",
         "42.99",
         "28.2216",
         "55.55",
         "29.5439",
         "27.92",
         "26.8389",
         "11.61",
         "116.85",
         "31.44",
         "35.09",
         "43.57",
         "23.04",
         "43.04",
         "58.44",
         "41.52",
         "8.08",
         "24.62",
         "31.85",
         "69.33",
         "52.83",
         "98.94",
         "41.46",
         "55.8",
         "24.74",
         "37.37",
         "81.37",
         "14.18",
         "35.09",
         "50.53",
         "41.14",
         "33.09",
         "32.17",
         "43.44",
         "69.84",
         "21.17",
         "22.33",
         "25.8",
         "34.4",
         "28.29",
         "44.16",
         "28.8",
         "51.48",
         "27.13",
         "68.54",
         "23.98",
         "48.97",
         "101.96",
         "305.47",
         "170.62",
         "73.57",
         "53.18",
         "21.55",
         "31.61",
         "29.68",
         "50.05",
         "30.44",
         "23.3",
         "26.61",
         "108.18",
         "67.18",
         "135.3",
         "21.74",
         "141.63",
         "30.8",
         "13.98",
         "26.91",
         "27.379999",
         "25.780001",
         "27.27",
         "39.44",
         "39.96",
         "34.02",
         "38.59",
         "94.55",
         "85.6",
         "75.19",
         "12.19",
         "85.8",
         "28.81",
         "37.86",
         "39.14",
         "35.74",
         "37.19",
         "31.87",
         "304.92",
         "27.17",
         "43.28",
         "66.77",
         "66.09",
         "89.98",
         "29.22",
         "162.1",
         "140.51",
         "279.46",
         "98.06",
         "71.48",
         "26.96",
         "141.45",
         "19.82",
         "27.31",
         "24.04",
         "34.72",
         "37.94",
         "29.4",
         "8.77"
        ],
        [
         "2020-08-01 00:00:00",
         "76.1",
         "34.35",
         "33.54",
         "37.19",
         "44.48",
         "28.7749",
         "59.81",
         "30.68",
         "28.8268",
         "27.805",
         "11.94",
         "124.77",
         "32.46",
         "36.79",
         "46.48",
         "24.65",
         "44.99",
         "63.08",
         "43.47",
         "8.41",
         "26.16",
         "33.93",
         "72.94",
         "56.45",
         "106.34",
         "43.33",
         "58.46",
         "26.0",
         "38.48",
         "85.97",
         "14.72",
         "37.98",
         "52.81",
         "42.46",
         "35.27",
         "34.33",
         "46.93",
         "78.65",
         "22.12",
         "23.29",
         "26.9",
         "34.93",
         "29.05",
         "45.75",
         "29.77",
         "55.48",
         "28.4",
         "73.38",
         "25.92",
         "50.65",
         "105.56",
         "326.86",
         "183.08",
         "79.95",
         "55.04",
         "22.5",
         "33.73",
         "31.41",
         "51.58",
         "31.92",
         "24.45",
         "28.18",
         "117.27",
         "70.15",
         "147.08",
         "23.77",
         "154.26",
         "33.35",
         "14.32",
         "28.35",
         "27.9455",
         "26.16",
         "29.33",
         "41.22",
         "42.0",
         "36.19",
         "40.1",
         "101.04",
         "90.23",
         "79.21",
         "13.08",
         "89.64",
         "31.82",
         "40.63",
         "41.85",
         "38.24",
         "39.73",
         "34.42",
         "326.21",
         "28.1",
         "45.29",
         "71.95",
         "70.41",
         "95.85",
         "30.3",
         "167.26",
         "150.76",
         "298.94",
         "101.52",
         "75.77",
         "28.39",
         "152.24",
         "22.21",
         "27.18",
         "26.36",
         "36.08",
         "39.01",
         "30.9",
         "9.03"
        ],
        [
         "2020-09-01 00:00:00",
         "73.85",
         "32.83",
         "33.14",
         "36.65",
         "43.65",
         "28.5677",
         "57.46",
         "30.16",
         "28.34",
         "27.8875",
         "11.78",
         "120.66",
         "31.7",
         "35.84",
         "45.58",
         "24.43",
         "43.6",
         "60.63",
         "42.12",
         "8.25",
         "25.47",
         "32.76",
         "70.56",
         "54.73",
         "101.81",
         "42.38",
         "57.04",
         "24.83",
         "37.87",
         "84.48",
         "14.47",
         "37.68",
         "52.88",
         "40.71",
         "33.32",
         "33.02",
         "46.27",
         "76.76",
         "21.99",
         "23.39",
         "26.68",
         "33.91",
         "29.82",
         "44.66",
         "29.7",
         "52.56",
         "28.07",
         "70.77",
         "24.89",
         "49.45",
         "102.87",
         "314.57",
         "176.3",
         "76.57",
         "53.96",
         "21.84",
         "33.16",
         "30.4",
         "50.59",
         "31.15",
         "23.68",
         "27.48",
         "112.53",
         "68.6",
         "140.58",
         "22.84",
         "147.15",
         "31.96",
         "13.96",
         "27.84",
         "27.673",
         "26.41",
         "28.09",
         "40.12",
         "40.53",
         "34.74",
         "40.34",
         "97.85",
         "87.96",
         "77.03",
         "12.6",
         "87.75",
         "33.0",
         "39.4",
         "39.94",
         "36.8",
         "38.24",
         "33.03",
         "313.99",
         "27.42",
         "44.0",
         "69.42",
         "67.77",
         "92.65",
         "29.29",
         "164.57",
         "145.26",
         "287.71",
         "99.1",
         "73.55",
         "27.22",
         "146.61",
         "21.47",
         "26.95",
         "24.99",
         "35.29",
         "38.57",
         "30.42",
         "8.88"
        ],
        [
         "2020-10-01 00:00:00",
         "72.21",
         "32.25",
         "32.89",
         "36.23",
         "42.95",
         "28.3235",
         "56.0",
         "29.83",
         "27.83",
         "27.24",
         "11.78",
         "117.66",
         "31.49",
         "35.09",
         "43.98",
         "23.59",
         "42.33",
         "59.24",
         "41.05",
         "8.15",
         "24.83",
         "32.02",
         "68.94",
         "53.17",
         "98.34",
         "42.28",
         "56.67",
         "23.98",
         "35.9",
         "83.58",
         "14.08",
         "37.15",
         "52.81",
         "39.94",
         "33.04",
         "32.32",
         "46.13",
         "74.5",
         "21.89",
         "22.29",
         "25.63",
         "33.5",
         "28.72",
         "43.24",
         "28.61",
         "50.92",
         "27.07",
         "69.42",
         "24.23",
         "48.65",
         "100.99",
         "306.67",
         "172.25",
         "74.1",
         "54.31",
         "21.87",
         "32.2",
         "29.55",
         "51.12",
         "30.81",
         "23.52",
         "26.92",
         "109.07",
         "66.85",
         "135.59",
         "22.23",
         "142.48",
         "31.05",
         "13.71",
         "27.24",
         "27.32",
         "26.120001",
         "27.18",
         "38.69",
         "39.38",
         "33.47",
         "38.64",
         "95.32",
         "85.43",
         "74.45",
         "12.3",
         "87.61",
         "32.16",
         "38.26",
         "40.64",
         "35.89",
         "37.37",
         "32.04",
         "306.16",
         "26.93",
         "43.54",
         "68.22",
         "65.56",
         "89.87",
         "28.69",
         "164.46",
         "142.01",
         "280.39",
         "97.28",
         "72.04",
         "27.13",
         "142.95",
         "20.92",
         "26.79",
         "24.1",
         "34.02",
         "38.28",
         "29.5",
         "8.73"
        ]
       ],
       "shape": {
        "columns": 109,
        "rows": 5
       }
      },
      "text/html": [
       "<div>\n",
       "<style scoped>\n",
       "    .dataframe tbody tr th:only-of-type {\n",
       "        vertical-align: middle;\n",
       "    }\n",
       "\n",
       "    .dataframe tbody tr th {\n",
       "        vertical-align: top;\n",
       "    }\n",
       "\n",
       "    .dataframe thead th {\n",
       "        text-align: right;\n",
       "    }\n",
       "</style>\n",
       "<table border=\"1\" class=\"dataframe\">\n",
       "  <thead>\n",
       "    <tr style=\"text-align: right;\">\n",
       "      <th></th>\n",
       "      <th>ACWI</th>\n",
       "      <th>ADME</th>\n",
       "      <th>AOK</th>\n",
       "      <th>AOM</th>\n",
       "      <th>AOR</th>\n",
       "      <th>BAPR</th>\n",
       "      <th>BBUS</th>\n",
       "      <th>BJAN</th>\n",
       "      <th>BJUL</th>\n",
       "      <th>BOCT</th>\n",
       "      <th>...</th>\n",
       "      <th>VT</th>\n",
       "      <th>VUSE</th>\n",
       "      <th>VV</th>\n",
       "      <th>WOMN</th>\n",
       "      <th>WTMF</th>\n",
       "      <th>XLG</th>\n",
       "      <th>XRLV</th>\n",
       "      <th>XSMO</th>\n",
       "      <th>YLDE</th>\n",
       "      <th>YYY</th>\n",
       "    </tr>\n",
       "    <tr>\n",
       "      <th>Date</th>\n",
       "      <th></th>\n",
       "      <th></th>\n",
       "      <th></th>\n",
       "      <th></th>\n",
       "      <th></th>\n",
       "      <th></th>\n",
       "      <th></th>\n",
       "      <th></th>\n",
       "      <th></th>\n",
       "      <th></th>\n",
       "      <th></th>\n",
       "      <th></th>\n",
       "      <th></th>\n",
       "      <th></th>\n",
       "      <th></th>\n",
       "      <th></th>\n",
       "      <th></th>\n",
       "      <th></th>\n",
       "      <th></th>\n",
       "      <th></th>\n",
       "      <th></th>\n",
       "    </tr>\n",
       "  </thead>\n",
       "  <tbody>\n",
       "    <tr>\n",
       "      <th>2020-06-01</th>\n",
       "      <td>68.12</td>\n",
       "      <td>31.24</td>\n",
       "      <td>32.27</td>\n",
       "      <td>35.37</td>\n",
       "      <td>41.53</td>\n",
       "      <td>27.603001</td>\n",
       "      <td>52.47</td>\n",
       "      <td>28.3620</td>\n",
       "      <td>26.9900</td>\n",
       "      <td>25.889999</td>\n",
       "      <td>...</td>\n",
       "      <td>67.88</td>\n",
       "      <td>25.91</td>\n",
       "      <td>133.47</td>\n",
       "      <td>18.59</td>\n",
       "      <td>26.94</td>\n",
       "      <td>22.62</td>\n",
       "      <td>32.49</td>\n",
       "      <td>34.74</td>\n",
       "      <td>27.88</td>\n",
       "      <td>8.45</td>\n",
       "    </tr>\n",
       "    <tr>\n",
       "      <th>2020-07-01</th>\n",
       "      <td>71.77</td>\n",
       "      <td>32.74</td>\n",
       "      <td>33.06</td>\n",
       "      <td>36.44</td>\n",
       "      <td>42.99</td>\n",
       "      <td>28.221600</td>\n",
       "      <td>55.55</td>\n",
       "      <td>29.5439</td>\n",
       "      <td>27.9200</td>\n",
       "      <td>26.838900</td>\n",
       "      <td>...</td>\n",
       "      <td>71.48</td>\n",
       "      <td>26.96</td>\n",
       "      <td>141.45</td>\n",
       "      <td>19.82</td>\n",
       "      <td>27.31</td>\n",
       "      <td>24.04</td>\n",
       "      <td>34.72</td>\n",
       "      <td>37.94</td>\n",
       "      <td>29.40</td>\n",
       "      <td>8.77</td>\n",
       "    </tr>\n",
       "    <tr>\n",
       "      <th>2020-08-01</th>\n",
       "      <td>76.10</td>\n",
       "      <td>34.35</td>\n",
       "      <td>33.54</td>\n",
       "      <td>37.19</td>\n",
       "      <td>44.48</td>\n",
       "      <td>28.774900</td>\n",
       "      <td>59.81</td>\n",
       "      <td>30.6800</td>\n",
       "      <td>28.8268</td>\n",
       "      <td>27.805000</td>\n",
       "      <td>...</td>\n",
       "      <td>75.77</td>\n",
       "      <td>28.39</td>\n",
       "      <td>152.24</td>\n",
       "      <td>22.21</td>\n",
       "      <td>27.18</td>\n",
       "      <td>26.36</td>\n",
       "      <td>36.08</td>\n",
       "      <td>39.01</td>\n",
       "      <td>30.90</td>\n",
       "      <td>9.03</td>\n",
       "    </tr>\n",
       "    <tr>\n",
       "      <th>2020-09-01</th>\n",
       "      <td>73.85</td>\n",
       "      <td>32.83</td>\n",
       "      <td>33.14</td>\n",
       "      <td>36.65</td>\n",
       "      <td>43.65</td>\n",
       "      <td>28.567700</td>\n",
       "      <td>57.46</td>\n",
       "      <td>30.1600</td>\n",
       "      <td>28.3400</td>\n",
       "      <td>27.887500</td>\n",
       "      <td>...</td>\n",
       "      <td>73.55</td>\n",
       "      <td>27.22</td>\n",
       "      <td>146.61</td>\n",
       "      <td>21.47</td>\n",
       "      <td>26.95</td>\n",
       "      <td>24.99</td>\n",
       "      <td>35.29</td>\n",
       "      <td>38.57</td>\n",
       "      <td>30.42</td>\n",
       "      <td>8.88</td>\n",
       "    </tr>\n",
       "    <tr>\n",
       "      <th>2020-10-01</th>\n",
       "      <td>72.21</td>\n",
       "      <td>32.25</td>\n",
       "      <td>32.89</td>\n",
       "      <td>36.23</td>\n",
       "      <td>42.95</td>\n",
       "      <td>28.323500</td>\n",
       "      <td>56.00</td>\n",
       "      <td>29.8300</td>\n",
       "      <td>27.8300</td>\n",
       "      <td>27.240000</td>\n",
       "      <td>...</td>\n",
       "      <td>72.04</td>\n",
       "      <td>27.13</td>\n",
       "      <td>142.95</td>\n",
       "      <td>20.92</td>\n",
       "      <td>26.79</td>\n",
       "      <td>24.10</td>\n",
       "      <td>34.02</td>\n",
       "      <td>38.28</td>\n",
       "      <td>29.50</td>\n",
       "      <td>8.73</td>\n",
       "    </tr>\n",
       "  </tbody>\n",
       "</table>\n",
       "<p>5 rows × 109 columns</p>\n",
       "</div>"
      ],
      "text/plain": [
       "             ACWI   ADME    AOK    AOM    AOR       BAPR   BBUS     BJAN  \\\n",
       "Date                                                                       \n",
       "2020-06-01  68.12  31.24  32.27  35.37  41.53  27.603001  52.47  28.3620   \n",
       "2020-07-01  71.77  32.74  33.06  36.44  42.99  28.221600  55.55  29.5439   \n",
       "2020-08-01  76.10  34.35  33.54  37.19  44.48  28.774900  59.81  30.6800   \n",
       "2020-09-01  73.85  32.83  33.14  36.65  43.65  28.567700  57.46  30.1600   \n",
       "2020-10-01  72.21  32.25  32.89  36.23  42.95  28.323500  56.00  29.8300   \n",
       "\n",
       "               BJUL       BOCT  ...     VT   VUSE      VV   WOMN   WTMF  \\\n",
       "Date                            ...                                       \n",
       "2020-06-01  26.9900  25.889999  ...  67.88  25.91  133.47  18.59  26.94   \n",
       "2020-07-01  27.9200  26.838900  ...  71.48  26.96  141.45  19.82  27.31   \n",
       "2020-08-01  28.8268  27.805000  ...  75.77  28.39  152.24  22.21  27.18   \n",
       "2020-09-01  28.3400  27.887500  ...  73.55  27.22  146.61  21.47  26.95   \n",
       "2020-10-01  27.8300  27.240000  ...  72.04  27.13  142.95  20.92  26.79   \n",
       "\n",
       "              XLG   XRLV   XSMO   YLDE   YYY  \n",
       "Date                                          \n",
       "2020-06-01  22.62  32.49  34.74  27.88  8.45  \n",
       "2020-07-01  24.04  34.72  37.94  29.40  8.77  \n",
       "2020-08-01  26.36  36.08  39.01  30.90  9.03  \n",
       "2020-09-01  24.99  35.29  38.57  30.42  8.88  \n",
       "2020-10-01  24.10  34.02  38.28  29.50  8.73  \n",
       "\n",
       "[5 rows x 109 columns]"
      ]
     },
     "metadata": {},
     "output_type": "display_data"
    }
   ],
   "source": [
    "benchmark_prices_monthly_df = (benchmark_prices_daily_df.set_index(pd.to_datetime(benchmark_prices_daily_df.pop('Date')))\n",
    "      if 'Date' in benchmark_prices_daily_df.columns else benchmark_prices_daily_df.copy())\n",
    "benchmark_prices_monthly_df.index = pd.to_datetime(benchmark_prices_monthly_df.index)              \n",
    "benchmark_prices_monthly_df = (benchmark_prices_monthly_df.resample('MS').last()\n",
    "   .reset_index()\n",
    "   .rename(columns={'index': 'Date'}))\n",
    "\n",
    "benchmark_prices_monthly_df.set_index('Date', inplace=True)\n",
    "display(benchmark_prices_monthly_df.head())"
   ]
  },
  {
   "cell_type": "markdown",
   "id": "49ab8af5",
   "metadata": {},
   "source": [
    "### Step 8: Calculate Returns (Lognormal)"
   ]
  },
  {
   "cell_type": "markdown",
   "id": "9ea4ce34",
   "metadata": {},
   "source": [
    "#### Benchmark"
   ]
  },
  {
   "cell_type": "code",
   "execution_count": 20,
   "id": "8374cc5a",
   "metadata": {
    "execution": {
     "iopub.execute_input": "2025-06-02T13:28:31.293059Z",
     "iopub.status.busy": "2025-06-02T13:28:31.292687Z",
     "iopub.status.idle": "2025-06-02T13:28:31.311861Z",
     "shell.execute_reply": "2025-06-02T13:28:31.310945Z"
    }
   },
   "outputs": [
    {
     "data": {
      "application/vnd.microsoft.datawrangler.viewer.v0+json": {
       "columns": [
        {
         "name": "Date",
         "rawType": "datetime64[ns]",
         "type": "datetime"
        },
        {
         "name": "ACWI",
         "rawType": "float64",
         "type": "float"
        },
        {
         "name": "ADME",
         "rawType": "float64",
         "type": "float"
        },
        {
         "name": "AOK",
         "rawType": "float64",
         "type": "float"
        },
        {
         "name": "AOM",
         "rawType": "float64",
         "type": "float"
        },
        {
         "name": "AOR",
         "rawType": "float64",
         "type": "float"
        },
        {
         "name": "BAPR",
         "rawType": "float64",
         "type": "float"
        },
        {
         "name": "BBUS",
         "rawType": "float64",
         "type": "float"
        },
        {
         "name": "BJAN",
         "rawType": "float64",
         "type": "float"
        },
        {
         "name": "BJUL",
         "rawType": "float64",
         "type": "float"
        },
        {
         "name": "BOCT",
         "rawType": "float64",
         "type": "float"
        },
        {
         "name": "CEFS",
         "rawType": "float64",
         "type": "float"
        },
        {
         "name": "CRBN",
         "rawType": "float64",
         "type": "float"
        },
        {
         "name": "DEUS",
         "rawType": "float64",
         "type": "float"
        },
        {
         "name": "DGRO",
         "rawType": "float64",
         "type": "float"
        },
        {
         "name": "DGRW",
         "rawType": "float64",
         "type": "float"
        },
        {
         "name": "DIVO",
         "rawType": "float64",
         "type": "float"
        },
        {
         "name": "DLN",
         "rawType": "float64",
         "type": "float"
        },
        {
         "name": "DSI",
         "rawType": "float64",
         "type": "float"
        },
        {
         "name": "DTD",
         "rawType": "float64",
         "type": "float"
        },
        {
         "name": "DWAT",
         "rawType": "float64",
         "type": "float"
        },
        {
         "name": "DYNF",
         "rawType": "float64",
         "type": "float"
        },
        {
         "name": "EPS",
         "rawType": "float64",
         "type": "float"
        },
        {
         "name": "EQL",
         "rawType": "float64",
         "type": "float"
        },
        {
         "name": "EQWL",
         "rawType": "float64",
         "type": "float"
        },
        {
         "name": "ESGG",
         "rawType": "float64",
         "type": "float"
        },
        {
         "name": "ETHO",
         "rawType": "float64",
         "type": "float"
        },
        {
         "name": "EUSA",
         "rawType": "float64",
         "type": "float"
        },
        {
         "name": "EWC",
         "rawType": "float64",
         "type": "float"
        },
        {
         "name": "EWL",
         "rawType": "float64",
         "type": "float"
        },
        {
         "name": "FAD",
         "rawType": "float64",
         "type": "float"
        },
        {
         "name": "FCEF",
         "rawType": "float64",
         "type": "float"
        },
        {
         "name": "FIDU",
         "rawType": "float64",
         "type": "float"
        },
        {
         "name": "FNY",
         "rawType": "float64",
         "type": "float"
        },
        {
         "name": "FTLS",
         "rawType": "float64",
         "type": "float"
        },
        {
         "name": "FV",
         "rawType": "float64",
         "type": "float"
        },
        {
         "name": "FVAL",
         "rawType": "float64",
         "type": "float"
        },
        {
         "name": "FYC",
         "rawType": "float64",
         "type": "float"
        },
        {
         "name": "GVIP",
         "rawType": "float64",
         "type": "float"
        },
        {
         "name": "HTUS",
         "rawType": "float64",
         "type": "float"
        },
        {
         "name": "IDHQ",
         "rawType": "float64",
         "type": "float"
        },
        {
         "name": "IDMO",
         "rawType": "float64",
         "type": "float"
        },
        {
         "name": "IGF",
         "rawType": "float64",
         "type": "float"
        },
        {
         "name": "IHDG",
         "rawType": "float64",
         "type": "float"
        },
        {
         "name": "ILCV",
         "rawType": "float64",
         "type": "float"
        },
        {
         "name": "IMTM",
         "rawType": "float64",
         "type": "float"
        },
        {
         "name": "IOO",
         "rawType": "float64",
         "type": "float"
        },
        {
         "name": "IQLT",
         "rawType": "float64",
         "type": "float"
        },
        {
         "name": "ITOT",
         "rawType": "float64",
         "type": "float"
        },
        {
         "name": "IUS",
         "rawType": "float64",
         "type": "float"
        },
        {
         "name": "IUSV",
         "rawType": "float64",
         "type": "float"
        },
        {
         "name": "IVE",
         "rawType": "float64",
         "type": "float"
        },
        {
         "name": "IVV",
         "rawType": "float64",
         "type": "float"
        },
        {
         "name": "IWB",
         "rawType": "float64",
         "type": "float"
        },
        {
         "name": "IWL",
         "rawType": "float64",
         "type": "float"
        },
        {
         "name": "IWR",
         "rawType": "float64",
         "type": "float"
        },
        {
         "name": "JDIV",
         "rawType": "float64",
         "type": "float"
        },
        {
         "name": "JMOM",
         "rawType": "float64",
         "type": "float"
        },
        {
         "name": "JQUA",
         "rawType": "float64",
         "type": "float"
        },
        {
         "name": "JSMD",
         "rawType": "float64",
         "type": "float"
        },
        {
         "name": "LRGF",
         "rawType": "float64",
         "type": "float"
        },
        {
         "name": "MAGA",
         "rawType": "float64",
         "type": "float"
        },
        {
         "name": "MFUS",
         "rawType": "float64",
         "type": "float"
        },
        {
         "name": "MGC",
         "rawType": "float64",
         "type": "float"
        },
        {
         "name": "MGV",
         "rawType": "float64",
         "type": "float"
        },
        {
         "name": "MMTM",
         "rawType": "float64",
         "type": "float"
        },
        {
         "name": "NACP",
         "rawType": "float64",
         "type": "float"
        },
        {
         "name": "OEF",
         "rawType": "float64",
         "type": "float"
        },
        {
         "name": "PBUS",
         "rawType": "float64",
         "type": "float"
        },
        {
         "name": "PCEF",
         "rawType": "float64",
         "type": "float"
        },
        {
         "name": "PFM",
         "rawType": "float64",
         "type": "float"
        },
        {
         "name": "PJUL",
         "rawType": "float64",
         "type": "float"
        },
        {
         "name": "POCT",
         "rawType": "float64",
         "type": "float"
        },
        {
         "name": "QARP",
         "rawType": "float64",
         "type": "float"
        },
        {
         "name": "QDEF",
         "rawType": "float64",
         "type": "float"
        },
        {
         "name": "QDF",
         "rawType": "float64",
         "type": "float"
        },
        {
         "name": "QLC",
         "rawType": "float64",
         "type": "float"
        },
        {
         "name": "QMOM",
         "rawType": "float64",
         "type": "float"
        },
        {
         "name": "QUAL",
         "rawType": "float64",
         "type": "float"
        },
        {
         "name": "QUS",
         "rawType": "float64",
         "type": "float"
        },
        {
         "name": "QWLD",
         "rawType": "float64",
         "type": "float"
        },
        {
         "name": "SCHX",
         "rawType": "float64",
         "type": "float"
        },
        {
         "name": "SIZE",
         "rawType": "float64",
         "type": "float"
        },
        {
         "name": "SMIN",
         "rawType": "float64",
         "type": "float"
        },
        {
         "name": "SPGM",
         "rawType": "float64",
         "type": "float"
        },
        {
         "name": "SPHB",
         "rawType": "float64",
         "type": "float"
        },
        {
         "name": "SPLG",
         "rawType": "float64",
         "type": "float"
        },
        {
         "name": "SPTM",
         "rawType": "float64",
         "type": "float"
        },
        {
         "name": "SPXV",
         "rawType": "float64",
         "type": "float"
        },
        {
         "name": "SPY",
         "rawType": "float64",
         "type": "float"
        },
        {
         "name": "SPYV",
         "rawType": "float64",
         "type": "float"
        },
        {
         "name": "SSPY",
         "rawType": "float64",
         "type": "float"
        },
        {
         "name": "SUSA",
         "rawType": "float64",
         "type": "float"
        },
        {
         "name": "TOK",
         "rawType": "float64",
         "type": "float"
        },
        {
         "name": "URTH",
         "rawType": "float64",
         "type": "float"
        },
        {
         "name": "USMF",
         "rawType": "float64",
         "type": "float"
        },
        {
         "name": "VO",
         "rawType": "float64",
         "type": "float"
        },
        {
         "name": "VONE",
         "rawType": "float64",
         "type": "float"
        },
        {
         "name": "VOO",
         "rawType": "float64",
         "type": "float"
        },
        {
         "name": "VOOV",
         "rawType": "float64",
         "type": "float"
        },
        {
         "name": "VT",
         "rawType": "float64",
         "type": "float"
        },
        {
         "name": "VUSE",
         "rawType": "float64",
         "type": "float"
        },
        {
         "name": "VV",
         "rawType": "float64",
         "type": "float"
        },
        {
         "name": "WOMN",
         "rawType": "float64",
         "type": "float"
        },
        {
         "name": "WTMF",
         "rawType": "float64",
         "type": "float"
        },
        {
         "name": "XLG",
         "rawType": "float64",
         "type": "float"
        },
        {
         "name": "XRLV",
         "rawType": "float64",
         "type": "float"
        },
        {
         "name": "XSMO",
         "rawType": "float64",
         "type": "float"
        },
        {
         "name": "YLDE",
         "rawType": "float64",
         "type": "float"
        },
        {
         "name": "YYY",
         "rawType": "float64",
         "type": "float"
        }
       ],
       "ref": "927b99c5-2f1a-4b33-9b2f-ae891e0ff8ca",
       "rows": [
        [
         "2020-07-01 00:00:00",
         "0.052195705647492936",
         "0.04689824697150364",
         "0.02418608632900761",
         "0.02980306917436842",
         "0.034551472865528066",
         "0.022163143498899224",
         "0.057041938387018536",
         "0.04082707172335952",
         "0.03387685086425865",
         "0.03599557251857879",
         "0.04943636774603814",
         "0.04875165399953304",
         "0.055588026528996796",
         "0.041903133504387",
         "0.04482740429652493",
         "0.027278418183676607",
         "0.0371596415952391",
         "0.047481985301053756",
         "0.03405105457880782",
         "0.07182573457125561",
         "0.03766222067899341",
         "0.042327575271385934",
         "0.045140406854263494",
         "0.030558734147690836",
         "0.04190067055014726",
         "0.05248729404672042",
         "0.047339603837722156",
         "0.053977402255529765",
         "0.03957400006339362",
         "0.06250053533649363",
         "0.03736066696133749",
         "0.0436877859709224",
         "0.06902114363464719",
         "0.04830413742839425",
         "0.051786489106045705",
         "0.03511352353039413",
         "0.045205436768046774",
         "0.07120444629179151",
         "0.09040959512162564",
         "0.025857643864324563",
         "0.04559759143887266",
         "0.022043508288615777",
         "-0.006693701230299265",
         "0.018974166217021825",
         "0.049102713007731835",
         "0.043878006172054056",
         "0.02917185168346899",
         "0.05595760400683813",
         "0.02833769655170248",
         "0.03617858180620038",
         "0.03665828692937666",
         "0.05687923024796916",
         "0.0576618951131499",
         "0.05619141557472111",
         "0.05746817576825953",
         "0.03446175336293388",
         "0.06942230340034158",
         "0.044084273132019285",
         "0.07120739537658004",
         "0.04708334303688984",
         "0.04476394551257155",
         "0.04929762097601408",
         "0.055202805511601574",
         "0.03145103496962331",
         "0.06543569608276956",
         "0.05775386139049452",
         "0.05522898068128031",
         "0.054031146884889296",
         "0.03939240171066068",
         "0.04134857932031795",
         "0.023278309995277077",
         "0.023549007684598954",
         "0.0358381018052959",
         "0.04432499575821565",
         "0.047139874994351474",
         "0.04601623728670676",
         "0.12105997189831755",
         "0.04831962444111793",
         "0.04186907678752158",
         "0.032714461030940514",
         "0.05739972075938883",
         "0.050189744523855315",
         "0.06859626248864371",
         "0.043179940454471794",
         "0.02195619647872699",
         "0.05669767533380557",
         "0.054993825332927154",
         "0.054817075258275234",
         "0.05719313907651776",
         "0.0382642329273246",
         "0.041033816090259786",
         "0.059707714163382594",
         "0.052496524927431974",
         "0.04780154432429185",
         "0.04766143797089371",
         "0.06144235273597086",
         "0.05688633290046983",
         "0.05717525318001509",
         "0.03666229178579433",
         "0.051676249925201784",
         "0.039725291470087784",
         "0.05806956426151596",
         "0.06406772716848924",
         "0.013640764503395547",
         "0.06088463897903236",
         "0.0663835401111403",
         "0.08811420369390913",
         "0.05308508845231273",
         "0.03717036501500929"
        ],
        [
         "2020-08-01 00:00:00",
         "0.05858170342565966",
         "0.04800444672536938",
         "0.014414664002184528",
         "0.020372835545221065",
         "0.034072119434136704",
         "0.019415837167806343",
         "0.07388935497082669",
         "0.03773368373654172",
         "0.03196223210487536",
         "0.03536353298245453",
         "0.02802731225465587",
         "0.06558098143806315",
         "0.03192759452543927",
         "0.047309879521559114",
         "0.06465327241430491",
         "0.06754506466100851",
         "0.04431032699955195",
         "0.07640317521233883",
         "0.045895806143067354",
         "0.0400296014518526",
         "0.06067240583269038",
         "0.06326219677796634",
         "0.0507594724261352",
         "0.06627607941944669",
         "0.07212790227662985",
         "0.04411612874418441",
         "0.046568890295834636",
         "0.0496751710571403",
         "0.029270382300113237",
         "0.05499174347778679",
         "0.03737459219674889",
         "0.07914351578901584",
         "0.04413334741502459",
         "0.03158157205029884",
         "0.06380162231443985",
         "0.06498526621866561",
         "0.07727645418064638",
         "0.11880071797294006",
         "0.04389709150736022",
         "0.042093018044183236",
         "0.04175179468022154",
         "0.015289494439387897",
         "0.026510097984444425",
         "0.035372389752690615",
         "0.033125787885784706",
         "0.07482921271870503",
         "0.04574901849631989",
         "0.06823390248067299",
         "0.07779472188470576",
         "0.03373136498046635",
         "0.034698932127208704",
         "0.06768037054783306",
         "0.07048435430489261",
         "0.08316410533579031",
         "0.03437780781021438",
         "0.04313949266061753",
         "0.0649141228460325",
         "0.05665289525137557",
         "0.030111494691969175",
         "0.04747523958812283",
         "0.04817685534922615",
         "0.05732542148093636",
         "0.08068246202969216",
         "0.04326022236432321",
         "0.08348212125632898",
         "0.08927039967903924",
         "0.085421467279548",
         "0.07954308238210402",
         "0.024029424726835256",
         "0.05212906543494661",
         "0.02044340151272727",
         "0.014632490288197929",
         "0.07282368613186252",
         "0.044143045727878395",
         "0.049790664503015614",
         "0.06183425060793515",
         "0.03838315876299598",
         "0.06638768293776919",
         "0.05267668285871303",
         "0.052084310086252694",
         "0.07046840253587261",
         "0.04378264243880973",
         "0.09937247381320377",
         "0.07061156421845866",
         "0.06694683496755419",
         "0.06761157845191856",
         "0.06606666188952884",
         "0.07697266235414842",
         "0.06749189863619338",
         "0.033656152901443755",
         "0.04539562302989642",
         "0.07471755546359957",
         "0.06331784904868037",
         "0.06319704607862728",
         "0.03629430619277003",
         "0.03133605921174923",
         "0.07041050778068593",
         "0.06738371470536672",
         "0.03467628718304502",
         "0.05828474565205459",
         "0.05168268444077347",
         "0.07351192524031791",
         "0.11385110900449408",
         "-0.004771526762615986",
         "0.09212859996729957",
         "0.03842280540227348",
         "0.027812059011697008",
         "0.049761509559063805",
         "0.029215561044802316"
        ],
        [
         "2020-09-01 00:00:00",
         "-0.03001225589025134",
         "-0.04525928715485712",
         "-0.011997744396645943",
         "-0.014626479604318177",
         "-0.018836367656715692",
         "-0.007226770386127551",
         "-0.040083817505322236",
         "-0.017094433359300068",
         "-0.017031275736512898",
         "0.002962699119123658",
         "-0.013490929741015402",
         "-0.033495369410314314",
         "-0.023691881203210263",
         "-0.0261614810099531",
         "-0.019553088726117544",
         "-0.008965015219049986",
         "-0.03138309249809226",
         "-0.039613942011198264",
         "-0.03154835773492601",
         "-0.019208273638267055",
         "-0.026730237597632406",
         "-0.03509131981127017",
         "-0.0331737736819982",
         "-0.030943285439844318",
         "-0.04353317695708803",
         "-0.02216868291166494",
         "-0.02458998357705943",
         "-0.046043938501406846",
         "-0.015979383883802305",
         "-0.017483578228401287",
         "-0.01712957265733772",
         "-0.007930255675977443",
         "0.00132462882458911",
         "-0.04208869376022256",
         "-0.05687492694931882",
         "-0.038906168977618574",
         "-0.014163326887417999",
         "-0.02432395836478766",
         "-0.005894372087464314",
         "0.004284496699837986",
         "-0.00821206556037039",
         "-0.02963610268119342",
         "0.026160826038672053",
         "-0.02411354530951855",
         "-0.0023541292190311217",
         "-0.0540672212702757",
         "-0.011687754793369162",
         "-0.03621623683944267",
         "-0.040548755104573404",
         "-0.023977172625971155",
         "-0.025813456492184653",
         "-0.038325317773979045",
         "-0.03773612638161683",
         "-0.043196084154931244",
         "-0.01981716228553307",
         "-0.029772158333670144",
         "-0.017043318806464706",
         "-0.03268370513837916",
         "-0.019380072149353847",
         "-0.024418527348146",
         "-0.0319994059050761",
         "-0.025154039116385554",
         "-0.04125911571106739",
         "-0.022343271816630622",
         "-0.045199934685311985",
         "-0.03991089658429311",
         "-0.04718701582637124",
         "-0.04257265146355884",
         "-0.025461064198273143",
         "-0.01815319470754219",
         "-0.009798976256073648",
         "0.00951119972004283",
         "-0.04319724187320729",
         "-0.02704861236857823",
         "-0.03562717764315104",
         "-0.04089107676269201",
         "0.0059671982135422385",
         "-0.03208078420015053",
         "-0.025479800319848967",
         "-0.027907597111313825",
         "-0.03738753207162033",
         "-0.021309786586751096",
         "0.03641253855683941",
         "-0.030740893695747378",
         "-0.046713468947815286",
         "-0.038384243008315444",
         "-0.03822448164330687",
         "-0.04122155138069511",
         "-0.03818020748890173",
         "-0.02449690220553174",
         "-0.02889662364986137",
         "-0.03579642289973667",
         "-0.03821567938302024",
         "-0.03395551676028456",
         "-0.03390155167568146",
         "-0.016213476346088232",
         "-0.03716392822091252",
         "-0.03828985597530751",
         "-0.02412638207018992",
         "-0.02973698889583549",
         "-0.04208497326155983",
         "-0.0376822230377209",
         "-0.03388602601564648",
         "-0.008498111367991461",
         "-0.05337196478744545",
         "-0.022139057507244167",
         "-0.011343251298428683",
         "-0.015655897072552907",
         "-0.01675081042481524"
        ],
        [
         "2020-10-01 00:00:00",
         "-0.022457468514298574",
         "-0.017824688271719725",
         "-0.007572351797451246",
         "-0.011525923425674699",
         "-0.016166633855346776",
         "-0.00858486021703163",
         "-0.025737362815994272",
         "-0.01100194461309822",
         "-0.018159658724734996",
         "-0.02349207847733936",
         "0.0",
         "-0.025177563576305816",
         "-0.006646645770301633",
         "-0.02114839851160599",
         "-0.035734038690923106",
         "-0.03498899185006548",
         "-0.029561095822156432",
         "-0.023192830684041283",
         "-0.025731851367337483",
         "-0.012195273093818243",
         "-0.025448689471290392",
         "-0.022847551416299853",
         "-0.02322685060981666",
         "-0.02891767763957954",
         "-0.03467746913531104",
         "-0.002362391838116156",
         "-0.006507805924512611",
         "-0.03483244992070697",
         "-0.053421946419470207",
         "-0.010710562938182091",
         "-0.02732218991349617",
         "-0.014165678544394218",
         "-0.0013246288245890674",
         "-0.019095434527218375",
         "-0.008438868645864708",
         "-0.02142720483908736",
         "-0.0030303053491790963",
         "-0.029884545753985425",
         "-0.004557893031898107",
         "-0.048170433198310186",
         "-0.0401506806714433",
         "-0.012164517306526432",
         "-0.03758556515656898",
         "-0.032312253641004166",
         "-0.03739073874663502",
         "-0.03169960048714933",
         "-0.03627528674758126",
         "-0.019260171654053027",
         "-0.02687458155106625",
         "-0.01631024943670713",
         "-0.01844455310447321",
         "-0.025434376009812427",
         "-0.02324017951005664",
         "-0.03278982282299084",
         "0.006465340707198691",
         "0.0013726838119721742",
         "-0.0293778777167314",
         "-0.02835886456006871",
         "0.01042188176543443",
         "-0.010974932624885627",
         "-0.006779686985378804",
         "-0.020588962577621432",
         "-0.031229974821254176",
         "-0.025841231183887328",
         "-0.036141095273541535",
         "-0.02707065681170419",
         "-0.032250835698075714",
         "-0.028886312518586175",
         "-0.018070603760003412",
         "-0.021787354184907296",
         "-0.012838173891357066",
         "-0.011041383615972079",
         "-0.03293223239315468",
         "-0.03629379438131316",
         "-0.028784367429237616",
         "-0.03724224558972378",
         "-0.04305552318174856",
         "-0.026196041611543926",
         "-0.029184838523033056",
         "-0.034067197234856475",
         "-0.024097551579060416",
         "-0.001596715667702704",
         "-0.02578411715571467",
         "-0.029360852291781304",
         "0.017374475282557308",
         "-0.02503914001536927",
         "-0.023013844685808103",
         "-0.030431117202539926",
         "-0.02525329714991785",
         "-0.018031767310660893",
         "-0.010509578111859822",
         "-0.017437233443140528",
         "-0.03315386527239252",
         "-0.03046477106108679",
         "-0.020697530846368665",
         "-0.0006686320645419869",
         "-0.022627762521100495",
         "-0.025771537195966424",
         "-0.018536023118085363",
         "-0.020743926739691023",
         "-0.00331187055247965",
         "-0.025281081181852457",
         "-0.025950972693967376",
         "-0.0059546137984887604",
         "-0.036263904350251584",
         "-0.03665105071946286",
         "-0.007547205635382854",
         "-0.030710023485372738",
         "-0.017036187152567852"
        ],
        [
         "2020-11-01 00:00:00",
         "0.11116003481281304",
         "0.05460563199276078",
         "0.041685106273863265",
         "0.05032677722566958",
         "0.07251015549608487",
         "0.040003257766187586",
         "0.11029475084405736",
         "0.06677785113751619",
         "0.06368476117198661",
         "0.07596796512433522",
         "0.07755823434587465",
         "0.11991497114743874",
         "0.10167000497894162",
         "0.11457978526828838",
         "0.09865321517184031",
         "0.09148770753485445",
         "0.1084740194466966",
         "0.10365413151017831",
         "0.11014806262259551",
         "0.04908226290087933",
         "0.11693244802815571",
         "0.1152118935568586",
         "0.1101791744575067",
         "0.13327275470441075",
         "0.1164036471172433",
         "0.12855212922491516",
         "0.13375194356165532",
         "0.13441715535014356",
         "0.0884495252739671",
         "0.12912471253157531",
         "0.13344261027439555",
         "0.15388146458804983",
         "0.12797727329337924",
         "0.025461763571110595",
         "0.13432556870862022",
         "0.1114373115066543",
         "0.16637016427152757",
         "0.13067496793178793",
         "0.07139595101720665",
         "0.11393735729965425",
         "0.09803763132951931",
         "0.12049907853037685",
         "0.0796140750051651",
         "0.13277949114602602",
         "0.0898617904840888",
         "0.10486942887292369",
         "0.12028370312057667",
         "0.11332354062570327",
         "0.14318338253717516",
         "0.1228631782553527",
         "0.12144006963080164",
         "0.10343803758301875",
         "0.11057765193511329",
         "0.10459098887879778",
         "0.1290331670261342",
         "0.13815033848081718",
         "0.10514310072056368",
         "0.10098547688401188",
         "0.11360111633648672",
         "0.09675494719750359",
         "0.14683535825088545",
         "0.11530349062205358",
         "0.10561719858248754",
         "0.12022333667565838",
         "0.08811704179102428",
         "0.10657435355721959",
         "0.09704416636690184",
         "0.11200505837649484",
         "0.10119429978621775",
         "0.08982191223004721",
         "0.042600827271340416",
         "0.05002902123014964",
         "0.11688327689460662",
         "0.08873299228961531",
         "0.09858290161730413",
         "0.10565924605586575",
         "0.16737255600343756",
         "0.10695387420701112",
         "0.10649530405969654",
         "0.10702467751923778",
         "0.10925535991936738",
         "0.13377391543355485",
         "0.11640010084878341",
         "0.12050917637782706",
         "0.23040061954677393",
         "0.10290556826631035",
         "0.10771257746809582",
         "0.10984482810515497",
         "0.10327773673386154",
         "0.1208727001051943",
         "0.1288984907937449",
         "0.10073240822335823",
         "0.11268566505150703",
         "0.12090612869659088",
         "0.09343891583831383",
         "0.12538845396462064",
         "0.11067696876344214",
         "0.10386862264034788",
         "0.12042938478485081",
         "0.11661015981588871",
         "0.1474408408901656",
         "0.10540248749473011",
         "0.1184201812657046",
         "0.027610809743991403",
         "0.08811726596050705",
         "0.08504982281026281",
         "0.12437913664179734",
         "0.09838710530880394",
         "0.10122827837291586"
        ]
       ],
       "shape": {
        "columns": 109,
        "rows": 5
       }
      },
      "text/html": [
       "<div>\n",
       "<style scoped>\n",
       "    .dataframe tbody tr th:only-of-type {\n",
       "        vertical-align: middle;\n",
       "    }\n",
       "\n",
       "    .dataframe tbody tr th {\n",
       "        vertical-align: top;\n",
       "    }\n",
       "\n",
       "    .dataframe thead th {\n",
       "        text-align: right;\n",
       "    }\n",
       "</style>\n",
       "<table border=\"1\" class=\"dataframe\">\n",
       "  <thead>\n",
       "    <tr style=\"text-align: right;\">\n",
       "      <th></th>\n",
       "      <th>ACWI</th>\n",
       "      <th>ADME</th>\n",
       "      <th>AOK</th>\n",
       "      <th>AOM</th>\n",
       "      <th>AOR</th>\n",
       "      <th>BAPR</th>\n",
       "      <th>BBUS</th>\n",
       "      <th>BJAN</th>\n",
       "      <th>BJUL</th>\n",
       "      <th>BOCT</th>\n",
       "      <th>...</th>\n",
       "      <th>VT</th>\n",
       "      <th>VUSE</th>\n",
       "      <th>VV</th>\n",
       "      <th>WOMN</th>\n",
       "      <th>WTMF</th>\n",
       "      <th>XLG</th>\n",
       "      <th>XRLV</th>\n",
       "      <th>XSMO</th>\n",
       "      <th>YLDE</th>\n",
       "      <th>YYY</th>\n",
       "    </tr>\n",
       "    <tr>\n",
       "      <th>Date</th>\n",
       "      <th></th>\n",
       "      <th></th>\n",
       "      <th></th>\n",
       "      <th></th>\n",
       "      <th></th>\n",
       "      <th></th>\n",
       "      <th></th>\n",
       "      <th></th>\n",
       "      <th></th>\n",
       "      <th></th>\n",
       "      <th></th>\n",
       "      <th></th>\n",
       "      <th></th>\n",
       "      <th></th>\n",
       "      <th></th>\n",
       "      <th></th>\n",
       "      <th></th>\n",
       "      <th></th>\n",
       "      <th></th>\n",
       "      <th></th>\n",
       "      <th></th>\n",
       "    </tr>\n",
       "  </thead>\n",
       "  <tbody>\n",
       "    <tr>\n",
       "      <th>2020-07-01</th>\n",
       "      <td>0.052196</td>\n",
       "      <td>0.046898</td>\n",
       "      <td>0.024186</td>\n",
       "      <td>0.029803</td>\n",
       "      <td>0.034551</td>\n",
       "      <td>0.022163</td>\n",
       "      <td>0.057042</td>\n",
       "      <td>0.040827</td>\n",
       "      <td>0.033877</td>\n",
       "      <td>0.035996</td>\n",
       "      <td>...</td>\n",
       "      <td>0.051676</td>\n",
       "      <td>0.039725</td>\n",
       "      <td>0.058070</td>\n",
       "      <td>0.064068</td>\n",
       "      <td>0.013641</td>\n",
       "      <td>0.060885</td>\n",
       "      <td>0.066384</td>\n",
       "      <td>0.088114</td>\n",
       "      <td>0.053085</td>\n",
       "      <td>0.037170</td>\n",
       "    </tr>\n",
       "    <tr>\n",
       "      <th>2020-08-01</th>\n",
       "      <td>0.058582</td>\n",
       "      <td>0.048004</td>\n",
       "      <td>0.014415</td>\n",
       "      <td>0.020373</td>\n",
       "      <td>0.034072</td>\n",
       "      <td>0.019416</td>\n",
       "      <td>0.073889</td>\n",
       "      <td>0.037734</td>\n",
       "      <td>0.031962</td>\n",
       "      <td>0.035364</td>\n",
       "      <td>...</td>\n",
       "      <td>0.058285</td>\n",
       "      <td>0.051683</td>\n",
       "      <td>0.073512</td>\n",
       "      <td>0.113851</td>\n",
       "      <td>-0.004772</td>\n",
       "      <td>0.092129</td>\n",
       "      <td>0.038423</td>\n",
       "      <td>0.027812</td>\n",
       "      <td>0.049762</td>\n",
       "      <td>0.029216</td>\n",
       "    </tr>\n",
       "    <tr>\n",
       "      <th>2020-09-01</th>\n",
       "      <td>-0.030012</td>\n",
       "      <td>-0.045259</td>\n",
       "      <td>-0.011998</td>\n",
       "      <td>-0.014626</td>\n",
       "      <td>-0.018836</td>\n",
       "      <td>-0.007227</td>\n",
       "      <td>-0.040084</td>\n",
       "      <td>-0.017094</td>\n",
       "      <td>-0.017031</td>\n",
       "      <td>0.002963</td>\n",
       "      <td>...</td>\n",
       "      <td>-0.029737</td>\n",
       "      <td>-0.042085</td>\n",
       "      <td>-0.037682</td>\n",
       "      <td>-0.033886</td>\n",
       "      <td>-0.008498</td>\n",
       "      <td>-0.053372</td>\n",
       "      <td>-0.022139</td>\n",
       "      <td>-0.011343</td>\n",
       "      <td>-0.015656</td>\n",
       "      <td>-0.016751</td>\n",
       "    </tr>\n",
       "    <tr>\n",
       "      <th>2020-10-01</th>\n",
       "      <td>-0.022457</td>\n",
       "      <td>-0.017825</td>\n",
       "      <td>-0.007572</td>\n",
       "      <td>-0.011526</td>\n",
       "      <td>-0.016167</td>\n",
       "      <td>-0.008585</td>\n",
       "      <td>-0.025737</td>\n",
       "      <td>-0.011002</td>\n",
       "      <td>-0.018160</td>\n",
       "      <td>-0.023492</td>\n",
       "      <td>...</td>\n",
       "      <td>-0.020744</td>\n",
       "      <td>-0.003312</td>\n",
       "      <td>-0.025281</td>\n",
       "      <td>-0.025951</td>\n",
       "      <td>-0.005955</td>\n",
       "      <td>-0.036264</td>\n",
       "      <td>-0.036651</td>\n",
       "      <td>-0.007547</td>\n",
       "      <td>-0.030710</td>\n",
       "      <td>-0.017036</td>\n",
       "    </tr>\n",
       "    <tr>\n",
       "      <th>2020-11-01</th>\n",
       "      <td>0.111160</td>\n",
       "      <td>0.054606</td>\n",
       "      <td>0.041685</td>\n",
       "      <td>0.050327</td>\n",
       "      <td>0.072510</td>\n",
       "      <td>0.040003</td>\n",
       "      <td>0.110295</td>\n",
       "      <td>0.066778</td>\n",
       "      <td>0.063685</td>\n",
       "      <td>0.075968</td>\n",
       "      <td>...</td>\n",
       "      <td>0.116610</td>\n",
       "      <td>0.147441</td>\n",
       "      <td>0.105402</td>\n",
       "      <td>0.118420</td>\n",
       "      <td>0.027611</td>\n",
       "      <td>0.088117</td>\n",
       "      <td>0.085050</td>\n",
       "      <td>0.124379</td>\n",
       "      <td>0.098387</td>\n",
       "      <td>0.101228</td>\n",
       "    </tr>\n",
       "  </tbody>\n",
       "</table>\n",
       "<p>5 rows × 109 columns</p>\n",
       "</div>"
      ],
      "text/plain": [
       "                ACWI      ADME       AOK       AOM       AOR      BAPR  \\\n",
       "Date                                                                     \n",
       "2020-07-01  0.052196  0.046898  0.024186  0.029803  0.034551  0.022163   \n",
       "2020-08-01  0.058582  0.048004  0.014415  0.020373  0.034072  0.019416   \n",
       "2020-09-01 -0.030012 -0.045259 -0.011998 -0.014626 -0.018836 -0.007227   \n",
       "2020-10-01 -0.022457 -0.017825 -0.007572 -0.011526 -0.016167 -0.008585   \n",
       "2020-11-01  0.111160  0.054606  0.041685  0.050327  0.072510  0.040003   \n",
       "\n",
       "                BBUS      BJAN      BJUL      BOCT  ...        VT      VUSE  \\\n",
       "Date                                                ...                       \n",
       "2020-07-01  0.057042  0.040827  0.033877  0.035996  ...  0.051676  0.039725   \n",
       "2020-08-01  0.073889  0.037734  0.031962  0.035364  ...  0.058285  0.051683   \n",
       "2020-09-01 -0.040084 -0.017094 -0.017031  0.002963  ... -0.029737 -0.042085   \n",
       "2020-10-01 -0.025737 -0.011002 -0.018160 -0.023492  ... -0.020744 -0.003312   \n",
       "2020-11-01  0.110295  0.066778  0.063685  0.075968  ...  0.116610  0.147441   \n",
       "\n",
       "                  VV      WOMN      WTMF       XLG      XRLV      XSMO  \\\n",
       "Date                                                                     \n",
       "2020-07-01  0.058070  0.064068  0.013641  0.060885  0.066384  0.088114   \n",
       "2020-08-01  0.073512  0.113851 -0.004772  0.092129  0.038423  0.027812   \n",
       "2020-09-01 -0.037682 -0.033886 -0.008498 -0.053372 -0.022139 -0.011343   \n",
       "2020-10-01 -0.025281 -0.025951 -0.005955 -0.036264 -0.036651 -0.007547   \n",
       "2020-11-01  0.105402  0.118420  0.027611  0.088117  0.085050  0.124379   \n",
       "\n",
       "                YLDE       YYY  \n",
       "Date                            \n",
       "2020-07-01  0.053085  0.037170  \n",
       "2020-08-01  0.049762  0.029216  \n",
       "2020-09-01 -0.015656 -0.016751  \n",
       "2020-10-01 -0.030710 -0.017036  \n",
       "2020-11-01  0.098387  0.101228  \n",
       "\n",
       "[5 rows x 109 columns]"
      ]
     },
     "execution_count": 20,
     "metadata": {},
     "output_type": "execute_result"
    }
   ],
   "source": [
    "benchmark_log_returns_df = np.log(benchmark_prices_monthly_df / benchmark_prices_monthly_df.shift(1))\n",
    "benchmark_log_returns_df = benchmark_log_returns_df.dropna().sort_index(axis=0, ascending=True).sort_index(axis=1, ascending=True)\n",
    "benchmark_log_returns_df.head()"
   ]
  },
  {
   "cell_type": "markdown",
   "id": "3798f32a",
   "metadata": {},
   "source": [
    "#### Stocks"
   ]
  },
  {
   "cell_type": "code",
   "execution_count": 21,
   "id": "16169afe",
   "metadata": {
    "execution": {
     "iopub.execute_input": "2025-06-02T13:28:31.314257Z",
     "iopub.status.busy": "2025-06-02T13:28:31.313851Z",
     "iopub.status.idle": "2025-06-02T13:28:31.329427Z",
     "shell.execute_reply": "2025-06-02T13:28:31.328391Z"
    }
   },
   "outputs": [
    {
     "data": {
      "application/vnd.microsoft.datawrangler.viewer.v0+json": {
       "columns": [
        {
         "name": "Date",
         "rawType": "datetime64[ns]",
         "type": "datetime"
        },
        {
         "name": "MMC",
         "rawType": "float64",
         "type": "float"
        },
        {
         "name": "MS",
         "rawType": "float64",
         "type": "float"
        },
        {
         "name": "PH",
         "rawType": "float64",
         "type": "float"
        },
        {
         "name": "SO",
         "rawType": "float64",
         "type": "float"
        },
        {
         "name": "TMUS",
         "rawType": "float64",
         "type": "float"
        }
       ],
       "ref": "acdf16cc-1a8b-4dbe-ae2d-6656c1878940",
       "rows": [
        [
         "2020-07-01 00:00:00",
         "0.08652855463390026",
         "0.01894092969869833",
         "-0.023997596558736446",
         "0.051850889309297314",
         "0.03055444104508728"
        ],
        [
         "2020-08-01 00:00:00",
         "-0.014670189747793742",
         "0.06669137449867214",
         "0.14515769738071216",
         "-0.03388633433399843",
         "0.08301967315012795"
        ],
        [
         "2020-09-01 00:00:00",
         "-0.0017675245310534433",
         "-0.07765388071454174",
         "-0.017950608901631568",
         "0.038289687992268374",
         "-0.020095395827932926"
        ],
        [
         "2020-10-01 00:00:00",
         "-0.09906956519341541",
         "0.0033269384493650146",
         "0.029296785288933078",
         "0.05803676260085454",
         "-0.042750139120510906"
        ],
        [
         "2020-11-01 00:00:00",
         "0.10260149562400173",
         "0.25006457014751593",
         "0.2530109939970709",
         "0.050920090427256745",
         "0.1933047285359963"
        ]
       ],
       "shape": {
        "columns": 5,
        "rows": 5
       }
      },
      "text/html": [
       "<div>\n",
       "<style scoped>\n",
       "    .dataframe tbody tr th:only-of-type {\n",
       "        vertical-align: middle;\n",
       "    }\n",
       "\n",
       "    .dataframe tbody tr th {\n",
       "        vertical-align: top;\n",
       "    }\n",
       "\n",
       "    .dataframe thead th {\n",
       "        text-align: right;\n",
       "    }\n",
       "</style>\n",
       "<table border=\"1\" class=\"dataframe\">\n",
       "  <thead>\n",
       "    <tr style=\"text-align: right;\">\n",
       "      <th></th>\n",
       "      <th>MMC</th>\n",
       "      <th>MS</th>\n",
       "      <th>PH</th>\n",
       "      <th>SO</th>\n",
       "      <th>TMUS</th>\n",
       "    </tr>\n",
       "    <tr>\n",
       "      <th>Date</th>\n",
       "      <th></th>\n",
       "      <th></th>\n",
       "      <th></th>\n",
       "      <th></th>\n",
       "      <th></th>\n",
       "    </tr>\n",
       "  </thead>\n",
       "  <tbody>\n",
       "    <tr>\n",
       "      <th>2020-07-01</th>\n",
       "      <td>0.086529</td>\n",
       "      <td>0.018941</td>\n",
       "      <td>-0.023998</td>\n",
       "      <td>0.051851</td>\n",
       "      <td>0.030554</td>\n",
       "    </tr>\n",
       "    <tr>\n",
       "      <th>2020-08-01</th>\n",
       "      <td>-0.014670</td>\n",
       "      <td>0.066691</td>\n",
       "      <td>0.145158</td>\n",
       "      <td>-0.033886</td>\n",
       "      <td>0.083020</td>\n",
       "    </tr>\n",
       "    <tr>\n",
       "      <th>2020-09-01</th>\n",
       "      <td>-0.001768</td>\n",
       "      <td>-0.077654</td>\n",
       "      <td>-0.017951</td>\n",
       "      <td>0.038290</td>\n",
       "      <td>-0.020095</td>\n",
       "    </tr>\n",
       "    <tr>\n",
       "      <th>2020-10-01</th>\n",
       "      <td>-0.099070</td>\n",
       "      <td>0.003327</td>\n",
       "      <td>0.029297</td>\n",
       "      <td>0.058037</td>\n",
       "      <td>-0.042750</td>\n",
       "    </tr>\n",
       "    <tr>\n",
       "      <th>2020-11-01</th>\n",
       "      <td>0.102601</td>\n",
       "      <td>0.250065</td>\n",
       "      <td>0.253011</td>\n",
       "      <td>0.050920</td>\n",
       "      <td>0.193305</td>\n",
       "    </tr>\n",
       "  </tbody>\n",
       "</table>\n",
       "</div>"
      ],
      "text/plain": [
       "                 MMC        MS        PH        SO      TMUS\n",
       "Date                                                        \n",
       "2020-07-01  0.086529  0.018941 -0.023998  0.051851  0.030554\n",
       "2020-08-01 -0.014670  0.066691  0.145158 -0.033886  0.083020\n",
       "2020-09-01 -0.001768 -0.077654 -0.017951  0.038290 -0.020095\n",
       "2020-10-01 -0.099070  0.003327  0.029297  0.058037 -0.042750\n",
       "2020-11-01  0.102601  0.250065  0.253011  0.050920  0.193305"
      ]
     },
     "execution_count": 21,
     "metadata": {},
     "output_type": "execute_result"
    }
   ],
   "source": [
    "stock_log_returns_df = np.log(stock_prices_monthly_df / stock_prices_monthly_df.shift(1))\n",
    "stock_log_returns_df = stock_log_returns_df.dropna().sort_index(axis=0, ascending=True).sort_index(axis=1, ascending=True)\n",
    "stock_log_returns_df.head()"
   ]
  },
  {
   "cell_type": "markdown",
   "id": "4936e919",
   "metadata": {},
   "source": [
    "### Step 9: Calculate Excess Return (Expected Return - Risk-free Rate)"
   ]
  },
  {
   "cell_type": "markdown",
   "id": "8b0c3a9a",
   "metadata": {},
   "source": [
    "#### Benchmark"
   ]
  },
  {
   "cell_type": "code",
   "execution_count": 22,
   "id": "37b6707b",
   "metadata": {
    "execution": {
     "iopub.execute_input": "2025-06-02T13:28:31.332071Z",
     "iopub.status.busy": "2025-06-02T13:28:31.331679Z",
     "iopub.status.idle": "2025-06-02T13:28:31.346683Z",
     "shell.execute_reply": "2025-06-02T13:28:31.345862Z"
    }
   },
   "outputs": [
    {
     "data": {
      "application/vnd.microsoft.datawrangler.viewer.v0+json": {
       "columns": [
        {
         "name": "Date",
         "rawType": "datetime64[ns]",
         "type": "datetime"
        },
        {
         "name": "ACWI",
         "rawType": "float64",
         "type": "float"
        },
        {
         "name": "ADME",
         "rawType": "float64",
         "type": "float"
        },
        {
         "name": "AOK",
         "rawType": "float64",
         "type": "float"
        },
        {
         "name": "AOM",
         "rawType": "float64",
         "type": "float"
        },
        {
         "name": "AOR",
         "rawType": "float64",
         "type": "float"
        },
        {
         "name": "BAPR",
         "rawType": "float64",
         "type": "float"
        },
        {
         "name": "BBUS",
         "rawType": "float64",
         "type": "float"
        },
        {
         "name": "BJAN",
         "rawType": "float64",
         "type": "float"
        },
        {
         "name": "BJUL",
         "rawType": "float64",
         "type": "float"
        },
        {
         "name": "BOCT",
         "rawType": "float64",
         "type": "float"
        },
        {
         "name": "CEFS",
         "rawType": "float64",
         "type": "float"
        },
        {
         "name": "CRBN",
         "rawType": "float64",
         "type": "float"
        },
        {
         "name": "DEUS",
         "rawType": "float64",
         "type": "float"
        },
        {
         "name": "DGRO",
         "rawType": "float64",
         "type": "float"
        },
        {
         "name": "DGRW",
         "rawType": "float64",
         "type": "float"
        },
        {
         "name": "DIVO",
         "rawType": "float64",
         "type": "float"
        },
        {
         "name": "DLN",
         "rawType": "float64",
         "type": "float"
        },
        {
         "name": "DSI",
         "rawType": "float64",
         "type": "float"
        },
        {
         "name": "DTD",
         "rawType": "float64",
         "type": "float"
        },
        {
         "name": "DWAT",
         "rawType": "float64",
         "type": "float"
        },
        {
         "name": "DYNF",
         "rawType": "float64",
         "type": "float"
        },
        {
         "name": "EPS",
         "rawType": "float64",
         "type": "float"
        },
        {
         "name": "EQL",
         "rawType": "float64",
         "type": "float"
        },
        {
         "name": "EQWL",
         "rawType": "float64",
         "type": "float"
        },
        {
         "name": "ESGG",
         "rawType": "float64",
         "type": "float"
        },
        {
         "name": "ETHO",
         "rawType": "float64",
         "type": "float"
        },
        {
         "name": "EUSA",
         "rawType": "float64",
         "type": "float"
        },
        {
         "name": "EWC",
         "rawType": "float64",
         "type": "float"
        },
        {
         "name": "EWL",
         "rawType": "float64",
         "type": "float"
        },
        {
         "name": "FAD",
         "rawType": "float64",
         "type": "float"
        },
        {
         "name": "FCEF",
         "rawType": "float64",
         "type": "float"
        },
        {
         "name": "FIDU",
         "rawType": "float64",
         "type": "float"
        },
        {
         "name": "FNY",
         "rawType": "float64",
         "type": "float"
        },
        {
         "name": "FTLS",
         "rawType": "float64",
         "type": "float"
        },
        {
         "name": "FV",
         "rawType": "float64",
         "type": "float"
        },
        {
         "name": "FVAL",
         "rawType": "float64",
         "type": "float"
        },
        {
         "name": "FYC",
         "rawType": "float64",
         "type": "float"
        },
        {
         "name": "GVIP",
         "rawType": "float64",
         "type": "float"
        },
        {
         "name": "HTUS",
         "rawType": "float64",
         "type": "float"
        },
        {
         "name": "IDHQ",
         "rawType": "float64",
         "type": "float"
        },
        {
         "name": "IDMO",
         "rawType": "float64",
         "type": "float"
        },
        {
         "name": "IGF",
         "rawType": "float64",
         "type": "float"
        },
        {
         "name": "IHDG",
         "rawType": "float64",
         "type": "float"
        },
        {
         "name": "ILCV",
         "rawType": "float64",
         "type": "float"
        },
        {
         "name": "IMTM",
         "rawType": "float64",
         "type": "float"
        },
        {
         "name": "IOO",
         "rawType": "float64",
         "type": "float"
        },
        {
         "name": "IQLT",
         "rawType": "float64",
         "type": "float"
        },
        {
         "name": "ITOT",
         "rawType": "float64",
         "type": "float"
        },
        {
         "name": "IUS",
         "rawType": "float64",
         "type": "float"
        },
        {
         "name": "IUSV",
         "rawType": "float64",
         "type": "float"
        },
        {
         "name": "IVE",
         "rawType": "float64",
         "type": "float"
        },
        {
         "name": "IVV",
         "rawType": "float64",
         "type": "float"
        },
        {
         "name": "IWB",
         "rawType": "float64",
         "type": "float"
        },
        {
         "name": "IWL",
         "rawType": "float64",
         "type": "float"
        },
        {
         "name": "IWR",
         "rawType": "float64",
         "type": "float"
        },
        {
         "name": "JDIV",
         "rawType": "float64",
         "type": "float"
        },
        {
         "name": "JMOM",
         "rawType": "float64",
         "type": "float"
        },
        {
         "name": "JQUA",
         "rawType": "float64",
         "type": "float"
        },
        {
         "name": "JSMD",
         "rawType": "float64",
         "type": "float"
        },
        {
         "name": "LRGF",
         "rawType": "float64",
         "type": "float"
        },
        {
         "name": "MAGA",
         "rawType": "float64",
         "type": "float"
        },
        {
         "name": "MFUS",
         "rawType": "float64",
         "type": "float"
        },
        {
         "name": "MGC",
         "rawType": "float64",
         "type": "float"
        },
        {
         "name": "MGV",
         "rawType": "float64",
         "type": "float"
        },
        {
         "name": "MMTM",
         "rawType": "float64",
         "type": "float"
        },
        {
         "name": "NACP",
         "rawType": "float64",
         "type": "float"
        },
        {
         "name": "OEF",
         "rawType": "float64",
         "type": "float"
        },
        {
         "name": "PBUS",
         "rawType": "float64",
         "type": "float"
        },
        {
         "name": "PCEF",
         "rawType": "float64",
         "type": "float"
        },
        {
         "name": "PFM",
         "rawType": "float64",
         "type": "float"
        },
        {
         "name": "PJUL",
         "rawType": "float64",
         "type": "float"
        },
        {
         "name": "POCT",
         "rawType": "float64",
         "type": "float"
        },
        {
         "name": "QARP",
         "rawType": "float64",
         "type": "float"
        },
        {
         "name": "QDEF",
         "rawType": "float64",
         "type": "float"
        },
        {
         "name": "QDF",
         "rawType": "float64",
         "type": "float"
        },
        {
         "name": "QLC",
         "rawType": "float64",
         "type": "float"
        },
        {
         "name": "QMOM",
         "rawType": "float64",
         "type": "float"
        },
        {
         "name": "QUAL",
         "rawType": "float64",
         "type": "float"
        },
        {
         "name": "QUS",
         "rawType": "float64",
         "type": "float"
        },
        {
         "name": "QWLD",
         "rawType": "float64",
         "type": "float"
        },
        {
         "name": "SCHX",
         "rawType": "float64",
         "type": "float"
        },
        {
         "name": "SIZE",
         "rawType": "float64",
         "type": "float"
        },
        {
         "name": "SMIN",
         "rawType": "float64",
         "type": "float"
        },
        {
         "name": "SPGM",
         "rawType": "float64",
         "type": "float"
        },
        {
         "name": "SPHB",
         "rawType": "float64",
         "type": "float"
        },
        {
         "name": "SPLG",
         "rawType": "float64",
         "type": "float"
        },
        {
         "name": "SPTM",
         "rawType": "float64",
         "type": "float"
        },
        {
         "name": "SPXV",
         "rawType": "float64",
         "type": "float"
        },
        {
         "name": "SPY",
         "rawType": "float64",
         "type": "float"
        },
        {
         "name": "SPYV",
         "rawType": "float64",
         "type": "float"
        },
        {
         "name": "SSPY",
         "rawType": "float64",
         "type": "float"
        },
        {
         "name": "SUSA",
         "rawType": "float64",
         "type": "float"
        },
        {
         "name": "TOK",
         "rawType": "float64",
         "type": "float"
        },
        {
         "name": "URTH",
         "rawType": "float64",
         "type": "float"
        },
        {
         "name": "USMF",
         "rawType": "float64",
         "type": "float"
        },
        {
         "name": "VO",
         "rawType": "float64",
         "type": "float"
        },
        {
         "name": "VONE",
         "rawType": "float64",
         "type": "float"
        },
        {
         "name": "VOO",
         "rawType": "float64",
         "type": "float"
        },
        {
         "name": "VOOV",
         "rawType": "float64",
         "type": "float"
        },
        {
         "name": "VT",
         "rawType": "float64",
         "type": "float"
        },
        {
         "name": "VUSE",
         "rawType": "float64",
         "type": "float"
        },
        {
         "name": "VV",
         "rawType": "float64",
         "type": "float"
        },
        {
         "name": "WOMN",
         "rawType": "float64",
         "type": "float"
        },
        {
         "name": "WTMF",
         "rawType": "float64",
         "type": "float"
        },
        {
         "name": "XLG",
         "rawType": "float64",
         "type": "float"
        },
        {
         "name": "XRLV",
         "rawType": "float64",
         "type": "float"
        },
        {
         "name": "XSMO",
         "rawType": "float64",
         "type": "float"
        },
        {
         "name": "YLDE",
         "rawType": "float64",
         "type": "float"
        },
        {
         "name": "YYY",
         "rawType": "float64",
         "type": "float"
        }
       ],
       "ref": "6e4f843b-0340-4555-8502-334cc19755c8",
       "rows": [
        [
         "2020-07-01 00:00:00",
         "0.048670705647492936",
         "0.04337324697150364",
         "0.020661086329007608",
         "0.02627806917436842",
         "0.031026472865528065",
         "0.018638143498899223",
         "0.053516938387018535",
         "0.03730207172335952",
         "0.03035185086425865",
         "0.03247057251857879",
         "0.04591136774603814",
         "0.04522665399953304",
         "0.052063026528996796",
         "0.038378133504387",
         "0.04130240429652493",
         "0.023753418183676607",
         "0.0336346415952391",
         "0.043956985301053755",
         "0.030526054578807818",
         "0.06830073457125561",
         "0.03413722067899341",
         "0.03880257527138593",
         "0.041615406854263494",
         "0.027033734147690835",
         "0.03837567055014726",
         "0.04896229404672042",
         "0.043814603837722156",
         "0.050452402255529764",
         "0.03604900006339362",
         "0.058975535336493634",
         "0.03383566696133749",
         "0.0401627859709224",
         "0.06549614363464719",
         "0.04477913742839425",
         "0.048261489106045705",
         "0.03158852353039413",
         "0.04168043676804677",
         "0.06767944629179151",
         "0.08688459512162564",
         "0.022332643864324563",
         "0.04207259143887266",
         "0.018518508288615777",
         "-0.010218701230299266",
         "0.015449166217021824",
         "0.045577713007731835",
         "0.040353006172054055",
         "0.025646851683468988",
         "0.05243260400683813",
         "0.02481269655170248",
         "0.03265358180620038",
         "0.03313328692937666",
         "0.05335423024796916",
         "0.0541368951131499",
         "0.05266641557472111",
         "0.05394317576825953",
         "0.03093675336293388",
         "0.06589730340034158",
         "0.040559273132019284",
         "0.06768239537658004",
         "0.04355834303688984",
         "0.04123894551257155",
         "0.04577262097601408",
         "0.051677805511601574",
         "0.027926034969623308",
         "0.061910696082769556",
         "0.05422886139049452",
         "0.05170398068128031",
         "0.050506146884889296",
         "0.035867401710660676",
         "0.03782357932031795",
         "0.019753309995277076",
         "0.020024007684598954",
         "0.032313101805295896",
         "0.04079999575821565",
         "0.043614874994351474",
         "0.04249123728670676",
         "0.11753497189831755",
         "0.04479462444111793",
         "0.03834407678752158",
         "0.029189461030940514",
         "0.05387472075938883",
         "0.046664744523855314",
         "0.06507126248864371",
         "0.03965494045447179",
         "0.01843119647872699",
         "0.05317267533380557",
         "0.051468825332927154",
         "0.051292075258275234",
         "0.05366813907651776",
         "0.0347392329273246",
         "0.037508816090259786",
         "0.056182714163382594",
         "0.048971524927431974",
         "0.04427654432429185",
         "0.044136437970893706",
         "0.05791735273597086",
         "0.05336133290046983",
         "0.05365025318001509",
         "0.03313729178579433",
         "0.04815124992520178",
         "0.036200291470087784",
         "0.05454456426151596",
         "0.06054272716848924",
         "0.010115764503395547",
         "0.05735963897903236",
         "0.0628585401111403",
         "0.08458920369390913",
         "0.04956008845231273",
         "0.03364536501500929"
        ],
        [
         "2020-08-01 00:00:00",
         "0.05505670342565966",
         "0.04447944672536938",
         "0.010889664002184527",
         "0.016847835545221065",
         "0.030547119434136703",
         "0.015890837167806343",
         "0.07036435497082669",
         "0.03420868373654172",
         "0.028437232104875358",
         "0.03183853298245453",
         "0.02450231225465587",
         "0.06205598143806315",
         "0.02840259452543927",
         "0.043784879521559114",
         "0.06112827241430491",
         "0.06402006466100851",
         "0.04078532699955195",
         "0.07287817521233883",
         "0.042370806143067354",
         "0.0365046014518526",
         "0.05714740583269038",
         "0.05973719677796634",
         "0.0472344724261352",
         "0.06275107941944669",
         "0.06860290227662985",
         "0.04059112874418441",
         "0.043043890295834636",
         "0.046150171057140296",
         "0.025745382300113237",
         "0.05146674347778679",
         "0.03384959219674889",
         "0.07561851578901584",
         "0.04060834741502459",
         "0.028056572050298836",
         "0.06027662231443985",
         "0.06146026621866561",
         "0.07375145418064638",
         "0.11527571797294006",
         "0.04037209150736022",
         "0.038568018044183236",
         "0.03822679468022154",
         "0.011764494439387896",
         "0.022985097984444425",
         "0.031847389752690615",
         "0.029600787885784706",
         "0.07130421271870503",
         "0.04222401849631989",
         "0.06470890248067299",
         "0.07426972188470576",
         "0.030206364980466346",
         "0.031173932127208703",
         "0.06415537054783306",
         "0.06695935430489261",
         "0.07963910533579031",
         "0.030852807810214378",
         "0.03961449266061753",
         "0.0613891228460325",
         "0.05312789525137557",
         "0.026586494691969175",
         "0.04395023958812283",
         "0.04465185534922615",
         "0.05380042148093636",
         "0.07715746202969216",
         "0.03973522236432321",
         "0.07995712125632898",
         "0.08574539967903924",
         "0.081896467279548",
         "0.07601808238210402",
         "0.020504424726835255",
         "0.04860406543494661",
         "0.01691840151272727",
         "0.011107490288197928",
         "0.06929868613186252",
         "0.040618045727878395",
         "0.04626566450301561",
         "0.05830925060793515",
         "0.03485815876299598",
         "0.06286268293776918",
         "0.049151682858713026",
         "0.048559310086252694",
         "0.06694340253587261",
         "0.04025764243880973",
         "0.09584747381320377",
         "0.06708656421845866",
         "0.06342183496755419",
         "0.06408657845191856",
         "0.06254166188952884",
         "0.07344766235414842",
         "0.06396689863619338",
         "0.030131152901443754",
         "0.04187062302989642",
         "0.07119255546359957",
         "0.059792849048680374",
         "0.05967204607862728",
         "0.03276930619277003",
         "0.02781105921174923",
         "0.06688550778068593",
         "0.06385871470536672",
         "0.031151287183045016",
         "0.05475974565205459",
         "0.04815768444077347",
         "0.06998692524031791",
         "0.11032610900449408",
         "-0.008296526762615986",
         "0.08860359996729956",
         "0.03489780540227348",
         "0.024287059011697008",
         "0.046236509559063804",
         "0.025690561044802315"
        ],
        [
         "2020-09-01 00:00:00",
         "-0.03353725589025134",
         "-0.04878428715485712",
         "-0.015522744396645943",
         "-0.018151479604318177",
         "-0.022361367656715692",
         "-0.01075177038612755",
         "-0.04360881750532224",
         "-0.02061943335930007",
         "-0.020556275736512898",
         "-0.0005623008808763423",
         "-0.0170159297410154",
         "-0.037020369410314315",
         "-0.027216881203210263",
         "-0.0296864810099531",
         "-0.023078088726117545",
         "-0.012490015219049987",
         "-0.034908092498092264",
         "-0.043138942011198264",
         "-0.03507335773492601",
         "-0.022733273638267056",
         "-0.030255237597632406",
         "-0.03861631981127017",
         "-0.0366987736819982",
         "-0.034468285439844315",
         "-0.04705817695708803",
         "-0.02569368291166494",
         "-0.02811498357705943",
         "-0.049568938501406846",
         "-0.019504383883802306",
         "-0.021008578228401287",
         "-0.020654572657337722",
         "-0.011455255675977443",
         "-0.0022003711754108903",
         "-0.04561369376022256",
         "-0.06039992694931882",
         "-0.042431168977618575",
         "-0.017688326887417997",
         "-0.027848958364787662",
         "-0.009419372087464314",
         "0.0007594966998379854",
         "-0.01173706556037039",
         "-0.03316110268119342",
         "0.022635826038672053",
         "-0.02763854530951855",
         "-0.005879129219031122",
         "-0.057592221270275704",
         "-0.015212754793369162",
         "-0.03974123683944267",
         "-0.044073755104573405",
         "-0.027502172625971155",
         "-0.029338456492184653",
         "-0.041850317773979046",
         "-0.04126112638161683",
         "-0.046721084154931244",
         "-0.02334216228553307",
         "-0.03329715833367014",
         "-0.020568318806464706",
         "-0.03620870513837916",
         "-0.022905072149353847",
         "-0.027943527348146",
         "-0.0355244059050761",
         "-0.028679039116385554",
         "-0.04478411571106739",
         "-0.025868271816630622",
         "-0.048724934685311985",
         "-0.04343589658429311",
         "-0.05071201582637124",
         "-0.04609765146355884",
         "-0.028986064198273143",
         "-0.02167819470754219",
         "-0.013323976256073648",
         "0.00598619972004283",
         "-0.04672224187320729",
         "-0.03057361236857823",
         "-0.03915217764315104",
         "-0.04441607676269201",
         "0.002442198213542238",
         "-0.03560578420015053",
         "-0.029004800319848967",
         "-0.031432597111313826",
         "-0.04091253207162033",
         "-0.024834786586751097",
         "0.03288753855683941",
         "-0.03426589369574738",
         "-0.050238468947815286",
         "-0.041909243008315444",
         "-0.04174948164330687",
         "-0.04474655138069511",
         "-0.04170520748890173",
         "-0.02802190220553174",
         "-0.03242162364986137",
         "-0.03932142289973667",
         "-0.04174067938302024",
         "-0.03748051676028456",
         "-0.03742655167568146",
         "-0.019738476346088232",
         "-0.040688928220912524",
         "-0.04181485597530751",
         "-0.027651382070189922",
         "-0.033261988895835495",
         "-0.04560997326155983",
         "-0.0412072230377209",
         "-0.03741102601564648",
         "-0.012023111367991461",
         "-0.05689696478744545",
         "-0.025664057507244167",
         "-0.014868251298428684",
         "-0.019180897072552907",
         "-0.02027581042481524"
        ],
        [
         "2020-10-01 00:00:00",
         "-0.025982468514298574",
         "-0.021349688271719725",
         "-0.011097351797451246",
         "-0.0150509234256747",
         "-0.019691633855346776",
         "-0.01210986021703163",
         "-0.029262362815994272",
         "-0.01452694461309822",
         "-0.021684658724734997",
         "-0.02701707847733936",
         "-0.0035250000000000004",
         "-0.028702563576305816",
         "-0.010171645770301633",
         "-0.02467339851160599",
         "-0.039259038690923106",
         "-0.03851399185006548",
         "-0.033086095822156436",
         "-0.026717830684041283",
         "-0.029256851367337484",
         "-0.015720273093818245",
         "-0.028973689471290393",
         "-0.026372551416299853",
         "-0.02675185060981666",
         "-0.032442677639579545",
         "-0.03820246913531104",
         "-0.005887391838116157",
         "-0.010032805924512611",
         "-0.03835744992070697",
         "-0.05694694641947021",
         "-0.014235562938182091",
         "-0.03084718991349617",
         "-0.01769067854439422",
         "-0.004849628824589068",
         "-0.022620434527218375",
         "-0.011963868645864708",
         "-0.02495220483908736",
         "-0.006555305349179096",
         "-0.03340954575398543",
         "-0.008082893031898106",
         "-0.05169543319831019",
         "-0.0436756806714433",
         "-0.015689517306526433",
         "-0.04111056515656898",
         "-0.035837253641004166",
         "-0.04091573874663502",
         "-0.03522460048714933",
         "-0.03980028674758126",
         "-0.022785171654053027",
         "-0.03039958155106625",
         "-0.01983524943670713",
         "-0.02196955310447321",
         "-0.028959376009812427",
         "-0.02676517951005664",
         "-0.03631482282299084",
         "0.0029403407071986907",
         "-0.0021523161880278264",
         "-0.0329028777167314",
         "-0.03188386456006871",
         "0.00689688176543443",
         "-0.014499932624885628",
         "-0.010304686985378803",
         "-0.024113962577621433",
         "-0.03475497482125418",
         "-0.02936623118388733",
         "-0.039666095273541535",
         "-0.03059565681170419",
         "-0.035775835698075714",
         "-0.03241131251858617",
         "-0.021595603760003412",
         "-0.025312354184907297",
         "-0.016363173891357066",
         "-0.01456638361597208",
         "-0.03645723239315468",
         "-0.03981879438131316",
         "-0.032309367429237616",
         "-0.04076724558972378",
         "-0.04658052318174856",
         "-0.029721041611543927",
         "-0.03270983852303305",
         "-0.037592197234856475",
         "-0.027622551579060416",
         "-0.0051217156677027045",
         "-0.02930911715571467",
         "-0.0328858522917813",
         "0.013849475282557307",
         "-0.02856414001536927",
         "-0.026538844685808104",
         "-0.03395611720253992",
         "-0.02877829714991785",
         "-0.021556767310660894",
         "-0.014034578111859822",
         "-0.020962233443140528",
         "-0.03667886527239252",
         "-0.03398977106108679",
         "-0.024222530846368665",
         "-0.004193632064541987",
         "-0.026152762521100496",
         "-0.029296537195966425",
         "-0.022061023118085363",
         "-0.024268926739691023",
         "-0.006836870552479651",
         "-0.028806081181852457",
         "-0.029475972693967376",
         "-0.00947961379848876",
         "-0.039788904350251585",
         "-0.04017605071946286",
         "-0.011072205635382856",
         "-0.03423502348537274",
         "-0.020561187152567852"
        ],
        [
         "2020-11-01 00:00:00",
         "0.10763503481281304",
         "0.05108063199276078",
         "0.038160106273863265",
         "0.04680177722566958",
         "0.06898515549608487",
         "0.036478257766187586",
         "0.10676975084405736",
         "0.06325285113751619",
         "0.06015976117198661",
         "0.07244296512433522",
         "0.07403323434587465",
         "0.11638997114743874",
         "0.09814500497894162",
         "0.11105478526828838",
         "0.09512821517184031",
         "0.08796270753485445",
         "0.1049490194466966",
         "0.10012913151017831",
         "0.10662306262259551",
         "0.04555726290087933",
         "0.11340744802815571",
         "0.1116868935568586",
         "0.1066541744575067",
         "0.12974775470441074",
         "0.1128786471172433",
         "0.12502712922491516",
         "0.13022694356165532",
         "0.13089215535014356",
         "0.0849245252739671",
         "0.1255997125315753",
         "0.12991761027439555",
         "0.15035646458804983",
         "0.12445227329337924",
         "0.021936763571110594",
         "0.13080056870862022",
         "0.1079123115066543",
         "0.16284516427152756",
         "0.12714996793178793",
         "0.06787095101720665",
         "0.11041235729965425",
         "0.09451263132951931",
         "0.11697407853037685",
         "0.0760890750051651",
         "0.12925449114602602",
         "0.0863367904840888",
         "0.10134442887292369",
         "0.11675870312057667",
         "0.10979854062570327",
         "0.13965838253717516",
         "0.1193381782553527",
         "0.11791506963080164",
         "0.09991303758301875",
         "0.10705265193511329",
         "0.10106598887879778",
         "0.1255081670261342",
         "0.13462533848081717",
         "0.10161810072056368",
         "0.09746047688401188",
         "0.11007611633648672",
         "0.09322994719750359",
         "0.14331035825088545",
         "0.11177849062205358",
         "0.10209219858248754",
         "0.11669833667565838",
         "0.08459204179102428",
         "0.10304935355721959",
         "0.09351916636690184",
         "0.10848005837649484",
         "0.09766929978621774",
         "0.0862969122300472",
         "0.039075827271340416",
         "0.04650402123014964",
         "0.11335827689460662",
         "0.08520799228961531",
         "0.09505790161730412",
         "0.10213424605586575",
         "0.16384755600343756",
         "0.10342887420701112",
         "0.10297030405969654",
         "0.10349967751923778",
         "0.10573035991936738",
         "0.13024891543355485",
         "0.11287510084878341",
         "0.11698417637782706",
         "0.22687561954677393",
         "0.09938056826631035",
         "0.10418757746809582",
         "0.10631982810515497",
         "0.09975273673386154",
         "0.1173477001051943",
         "0.1253734907937449",
         "0.09720740822335823",
         "0.10916066505150702",
         "0.11738112869659088",
         "0.08991391583831383",
         "0.12186345396462064",
         "0.10715196876344214",
         "0.10034362264034788",
         "0.11690438478485081",
         "0.11308515981588871",
         "0.1439158408901656",
         "0.1018774874947301",
         "0.1148951812657046",
         "0.024085809743991403",
         "0.08459226596050705",
         "0.08152482281026281",
         "0.12085413664179734",
         "0.09486210530880394",
         "0.09770327837291586"
        ]
       ],
       "shape": {
        "columns": 109,
        "rows": 5
       }
      },
      "text/html": [
       "<div>\n",
       "<style scoped>\n",
       "    .dataframe tbody tr th:only-of-type {\n",
       "        vertical-align: middle;\n",
       "    }\n",
       "\n",
       "    .dataframe tbody tr th {\n",
       "        vertical-align: top;\n",
       "    }\n",
       "\n",
       "    .dataframe thead th {\n",
       "        text-align: right;\n",
       "    }\n",
       "</style>\n",
       "<table border=\"1\" class=\"dataframe\">\n",
       "  <thead>\n",
       "    <tr style=\"text-align: right;\">\n",
       "      <th></th>\n",
       "      <th>ACWI</th>\n",
       "      <th>ADME</th>\n",
       "      <th>AOK</th>\n",
       "      <th>AOM</th>\n",
       "      <th>AOR</th>\n",
       "      <th>BAPR</th>\n",
       "      <th>BBUS</th>\n",
       "      <th>BJAN</th>\n",
       "      <th>BJUL</th>\n",
       "      <th>BOCT</th>\n",
       "      <th>...</th>\n",
       "      <th>VT</th>\n",
       "      <th>VUSE</th>\n",
       "      <th>VV</th>\n",
       "      <th>WOMN</th>\n",
       "      <th>WTMF</th>\n",
       "      <th>XLG</th>\n",
       "      <th>XRLV</th>\n",
       "      <th>XSMO</th>\n",
       "      <th>YLDE</th>\n",
       "      <th>YYY</th>\n",
       "    </tr>\n",
       "    <tr>\n",
       "      <th>Date</th>\n",
       "      <th></th>\n",
       "      <th></th>\n",
       "      <th></th>\n",
       "      <th></th>\n",
       "      <th></th>\n",
       "      <th></th>\n",
       "      <th></th>\n",
       "      <th></th>\n",
       "      <th></th>\n",
       "      <th></th>\n",
       "      <th></th>\n",
       "      <th></th>\n",
       "      <th></th>\n",
       "      <th></th>\n",
       "      <th></th>\n",
       "      <th></th>\n",
       "      <th></th>\n",
       "      <th></th>\n",
       "      <th></th>\n",
       "      <th></th>\n",
       "      <th></th>\n",
       "    </tr>\n",
       "  </thead>\n",
       "  <tbody>\n",
       "    <tr>\n",
       "      <th>2020-07-01</th>\n",
       "      <td>0.048671</td>\n",
       "      <td>0.043373</td>\n",
       "      <td>0.020661</td>\n",
       "      <td>0.026278</td>\n",
       "      <td>0.031026</td>\n",
       "      <td>0.018638</td>\n",
       "      <td>0.053517</td>\n",
       "      <td>0.037302</td>\n",
       "      <td>0.030352</td>\n",
       "      <td>0.032471</td>\n",
       "      <td>...</td>\n",
       "      <td>0.048151</td>\n",
       "      <td>0.036200</td>\n",
       "      <td>0.054545</td>\n",
       "      <td>0.060543</td>\n",
       "      <td>0.010116</td>\n",
       "      <td>0.057360</td>\n",
       "      <td>0.062859</td>\n",
       "      <td>0.084589</td>\n",
       "      <td>0.049560</td>\n",
       "      <td>0.033645</td>\n",
       "    </tr>\n",
       "    <tr>\n",
       "      <th>2020-08-01</th>\n",
       "      <td>0.055057</td>\n",
       "      <td>0.044479</td>\n",
       "      <td>0.010890</td>\n",
       "      <td>0.016848</td>\n",
       "      <td>0.030547</td>\n",
       "      <td>0.015891</td>\n",
       "      <td>0.070364</td>\n",
       "      <td>0.034209</td>\n",
       "      <td>0.028437</td>\n",
       "      <td>0.031839</td>\n",
       "      <td>...</td>\n",
       "      <td>0.054760</td>\n",
       "      <td>0.048158</td>\n",
       "      <td>0.069987</td>\n",
       "      <td>0.110326</td>\n",
       "      <td>-0.008297</td>\n",
       "      <td>0.088604</td>\n",
       "      <td>0.034898</td>\n",
       "      <td>0.024287</td>\n",
       "      <td>0.046237</td>\n",
       "      <td>0.025691</td>\n",
       "    </tr>\n",
       "    <tr>\n",
       "      <th>2020-09-01</th>\n",
       "      <td>-0.033537</td>\n",
       "      <td>-0.048784</td>\n",
       "      <td>-0.015523</td>\n",
       "      <td>-0.018151</td>\n",
       "      <td>-0.022361</td>\n",
       "      <td>-0.010752</td>\n",
       "      <td>-0.043609</td>\n",
       "      <td>-0.020619</td>\n",
       "      <td>-0.020556</td>\n",
       "      <td>-0.000562</td>\n",
       "      <td>...</td>\n",
       "      <td>-0.033262</td>\n",
       "      <td>-0.045610</td>\n",
       "      <td>-0.041207</td>\n",
       "      <td>-0.037411</td>\n",
       "      <td>-0.012023</td>\n",
       "      <td>-0.056897</td>\n",
       "      <td>-0.025664</td>\n",
       "      <td>-0.014868</td>\n",
       "      <td>-0.019181</td>\n",
       "      <td>-0.020276</td>\n",
       "    </tr>\n",
       "    <tr>\n",
       "      <th>2020-10-01</th>\n",
       "      <td>-0.025982</td>\n",
       "      <td>-0.021350</td>\n",
       "      <td>-0.011097</td>\n",
       "      <td>-0.015051</td>\n",
       "      <td>-0.019692</td>\n",
       "      <td>-0.012110</td>\n",
       "      <td>-0.029262</td>\n",
       "      <td>-0.014527</td>\n",
       "      <td>-0.021685</td>\n",
       "      <td>-0.027017</td>\n",
       "      <td>...</td>\n",
       "      <td>-0.024269</td>\n",
       "      <td>-0.006837</td>\n",
       "      <td>-0.028806</td>\n",
       "      <td>-0.029476</td>\n",
       "      <td>-0.009480</td>\n",
       "      <td>-0.039789</td>\n",
       "      <td>-0.040176</td>\n",
       "      <td>-0.011072</td>\n",
       "      <td>-0.034235</td>\n",
       "      <td>-0.020561</td>\n",
       "    </tr>\n",
       "    <tr>\n",
       "      <th>2020-11-01</th>\n",
       "      <td>0.107635</td>\n",
       "      <td>0.051081</td>\n",
       "      <td>0.038160</td>\n",
       "      <td>0.046802</td>\n",
       "      <td>0.068985</td>\n",
       "      <td>0.036478</td>\n",
       "      <td>0.106770</td>\n",
       "      <td>0.063253</td>\n",
       "      <td>0.060160</td>\n",
       "      <td>0.072443</td>\n",
       "      <td>...</td>\n",
       "      <td>0.113085</td>\n",
       "      <td>0.143916</td>\n",
       "      <td>0.101877</td>\n",
       "      <td>0.114895</td>\n",
       "      <td>0.024086</td>\n",
       "      <td>0.084592</td>\n",
       "      <td>0.081525</td>\n",
       "      <td>0.120854</td>\n",
       "      <td>0.094862</td>\n",
       "      <td>0.097703</td>\n",
       "    </tr>\n",
       "  </tbody>\n",
       "</table>\n",
       "<p>5 rows × 109 columns</p>\n",
       "</div>"
      ],
      "text/plain": [
       "                ACWI      ADME       AOK       AOM       AOR      BAPR  \\\n",
       "Date                                                                     \n",
       "2020-07-01  0.048671  0.043373  0.020661  0.026278  0.031026  0.018638   \n",
       "2020-08-01  0.055057  0.044479  0.010890  0.016848  0.030547  0.015891   \n",
       "2020-09-01 -0.033537 -0.048784 -0.015523 -0.018151 -0.022361 -0.010752   \n",
       "2020-10-01 -0.025982 -0.021350 -0.011097 -0.015051 -0.019692 -0.012110   \n",
       "2020-11-01  0.107635  0.051081  0.038160  0.046802  0.068985  0.036478   \n",
       "\n",
       "                BBUS      BJAN      BJUL      BOCT  ...        VT      VUSE  \\\n",
       "Date                                                ...                       \n",
       "2020-07-01  0.053517  0.037302  0.030352  0.032471  ...  0.048151  0.036200   \n",
       "2020-08-01  0.070364  0.034209  0.028437  0.031839  ...  0.054760  0.048158   \n",
       "2020-09-01 -0.043609 -0.020619 -0.020556 -0.000562  ... -0.033262 -0.045610   \n",
       "2020-10-01 -0.029262 -0.014527 -0.021685 -0.027017  ... -0.024269 -0.006837   \n",
       "2020-11-01  0.106770  0.063253  0.060160  0.072443  ...  0.113085  0.143916   \n",
       "\n",
       "                  VV      WOMN      WTMF       XLG      XRLV      XSMO  \\\n",
       "Date                                                                     \n",
       "2020-07-01  0.054545  0.060543  0.010116  0.057360  0.062859  0.084589   \n",
       "2020-08-01  0.069987  0.110326 -0.008297  0.088604  0.034898  0.024287   \n",
       "2020-09-01 -0.041207 -0.037411 -0.012023 -0.056897 -0.025664 -0.014868   \n",
       "2020-10-01 -0.028806 -0.029476 -0.009480 -0.039789 -0.040176 -0.011072   \n",
       "2020-11-01  0.101877  0.114895  0.024086  0.084592  0.081525  0.120854   \n",
       "\n",
       "                YLDE       YYY  \n",
       "Date                            \n",
       "2020-07-01  0.049560  0.033645  \n",
       "2020-08-01  0.046237  0.025691  \n",
       "2020-09-01 -0.019181 -0.020276  \n",
       "2020-10-01 -0.034235 -0.020561  \n",
       "2020-11-01  0.094862  0.097703  \n",
       "\n",
       "[5 rows x 109 columns]"
      ]
     },
     "execution_count": 22,
     "metadata": {},
     "output_type": "execute_result"
    }
   ],
   "source": [
    "benchmark_excess_returns_df = benchmark_log_returns_df - risk_free_rate_monthly\n",
    "benchmark_excess_returns_df.head()"
   ]
  },
  {
   "cell_type": "markdown",
   "id": "b7d95382",
   "metadata": {},
   "source": [
    "#### Stocks"
   ]
  },
  {
   "cell_type": "code",
   "execution_count": 23,
   "id": "8ffb2f5a",
   "metadata": {
    "execution": {
     "iopub.execute_input": "2025-06-02T13:28:31.350103Z",
     "iopub.status.busy": "2025-06-02T13:28:31.349138Z",
     "iopub.status.idle": "2025-06-02T13:28:31.364165Z",
     "shell.execute_reply": "2025-06-02T13:28:31.363050Z"
    }
   },
   "outputs": [
    {
     "data": {
      "application/vnd.microsoft.datawrangler.viewer.v0+json": {
       "columns": [
        {
         "name": "Date",
         "rawType": "datetime64[ns]",
         "type": "datetime"
        },
        {
         "name": "MMC",
         "rawType": "float64",
         "type": "float"
        },
        {
         "name": "MS",
         "rawType": "float64",
         "type": "float"
        },
        {
         "name": "PH",
         "rawType": "float64",
         "type": "float"
        },
        {
         "name": "SO",
         "rawType": "float64",
         "type": "float"
        },
        {
         "name": "TMUS",
         "rawType": "float64",
         "type": "float"
        }
       ],
       "ref": "7e55caab-78f8-434f-98b7-053c949f1cf4",
       "rows": [
        [
         "2020-07-01 00:00:00",
         "0.08300355463390026",
         "0.01541592969869833",
         "-0.027522596558736446",
         "0.048325889309297314",
         "0.02702944104508728"
        ],
        [
         "2020-08-01 00:00:00",
         "-0.018195189747793744",
         "0.06316637449867214",
         "0.14163269738071216",
         "-0.03741133433399843",
         "0.07949467315012795"
        ],
        [
         "2020-09-01 00:00:00",
         "-0.005292524531053444",
         "-0.08117888071454174",
         "-0.021475608901631568",
         "0.034764687992268374",
         "-0.023620395827932926"
        ],
        [
         "2020-10-01 00:00:00",
         "-0.10259456519341541",
         "-0.00019806155063498577",
         "0.025771785288933077",
         "0.05451176260085454",
         "-0.04627513912051091"
        ],
        [
         "2020-11-01 00:00:00",
         "0.09907649562400173",
         "0.24653957014751593",
         "0.2494859939970709",
         "0.047395090427256745",
         "0.1897797285359963"
        ]
       ],
       "shape": {
        "columns": 5,
        "rows": 5
       }
      },
      "text/html": [
       "<div>\n",
       "<style scoped>\n",
       "    .dataframe tbody tr th:only-of-type {\n",
       "        vertical-align: middle;\n",
       "    }\n",
       "\n",
       "    .dataframe tbody tr th {\n",
       "        vertical-align: top;\n",
       "    }\n",
       "\n",
       "    .dataframe thead th {\n",
       "        text-align: right;\n",
       "    }\n",
       "</style>\n",
       "<table border=\"1\" class=\"dataframe\">\n",
       "  <thead>\n",
       "    <tr style=\"text-align: right;\">\n",
       "      <th></th>\n",
       "      <th>MMC</th>\n",
       "      <th>MS</th>\n",
       "      <th>PH</th>\n",
       "      <th>SO</th>\n",
       "      <th>TMUS</th>\n",
       "    </tr>\n",
       "    <tr>\n",
       "      <th>Date</th>\n",
       "      <th></th>\n",
       "      <th></th>\n",
       "      <th></th>\n",
       "      <th></th>\n",
       "      <th></th>\n",
       "    </tr>\n",
       "  </thead>\n",
       "  <tbody>\n",
       "    <tr>\n",
       "      <th>2020-07-01</th>\n",
       "      <td>0.083004</td>\n",
       "      <td>0.015416</td>\n",
       "      <td>-0.027523</td>\n",
       "      <td>0.048326</td>\n",
       "      <td>0.027029</td>\n",
       "    </tr>\n",
       "    <tr>\n",
       "      <th>2020-08-01</th>\n",
       "      <td>-0.018195</td>\n",
       "      <td>0.063166</td>\n",
       "      <td>0.141633</td>\n",
       "      <td>-0.037411</td>\n",
       "      <td>0.079495</td>\n",
       "    </tr>\n",
       "    <tr>\n",
       "      <th>2020-09-01</th>\n",
       "      <td>-0.005293</td>\n",
       "      <td>-0.081179</td>\n",
       "      <td>-0.021476</td>\n",
       "      <td>0.034765</td>\n",
       "      <td>-0.023620</td>\n",
       "    </tr>\n",
       "    <tr>\n",
       "      <th>2020-10-01</th>\n",
       "      <td>-0.102595</td>\n",
       "      <td>-0.000198</td>\n",
       "      <td>0.025772</td>\n",
       "      <td>0.054512</td>\n",
       "      <td>-0.046275</td>\n",
       "    </tr>\n",
       "    <tr>\n",
       "      <th>2020-11-01</th>\n",
       "      <td>0.099076</td>\n",
       "      <td>0.246540</td>\n",
       "      <td>0.249486</td>\n",
       "      <td>0.047395</td>\n",
       "      <td>0.189780</td>\n",
       "    </tr>\n",
       "  </tbody>\n",
       "</table>\n",
       "</div>"
      ],
      "text/plain": [
       "                 MMC        MS        PH        SO      TMUS\n",
       "Date                                                        \n",
       "2020-07-01  0.083004  0.015416 -0.027523  0.048326  0.027029\n",
       "2020-08-01 -0.018195  0.063166  0.141633 -0.037411  0.079495\n",
       "2020-09-01 -0.005293 -0.081179 -0.021476  0.034765 -0.023620\n",
       "2020-10-01 -0.102595 -0.000198  0.025772  0.054512 -0.046275\n",
       "2020-11-01  0.099076  0.246540  0.249486  0.047395  0.189780"
      ]
     },
     "execution_count": 23,
     "metadata": {},
     "output_type": "execute_result"
    }
   ],
   "source": [
    "stock_excess_returns_df = stock_log_returns_df - risk_free_rate_monthly\n",
    "stock_excess_returns_df.head()"
   ]
  },
  {
   "cell_type": "markdown",
   "id": "b2439f61",
   "metadata": {},
   "source": [
    "### Step 10: Find the Best Benchmark (By Regression Coefficients)"
   ]
  },
  {
   "cell_type": "code",
   "execution_count": 24,
   "id": "f10cacac",
   "metadata": {
    "execution": {
     "iopub.execute_input": "2025-06-02T13:28:31.369701Z",
     "iopub.status.busy": "2025-06-02T13:28:31.368584Z",
     "iopub.status.idle": "2025-06-02T13:28:33.805998Z",
     "shell.execute_reply": "2025-06-02T13:28:33.797796Z"
    }
   },
   "outputs": [
    {
     "name": "stdout",
     "output_type": "stream",
     "text": [
      "Best benchmark: FCEF\n"
     ]
    },
    {
     "data": {
      "application/vnd.microsoft.datawrangler.viewer.v0+json": {
       "columns": [
        {
         "name": "index",
         "rawType": "int64",
         "type": "integer"
        },
        {
         "name": "Equity",
         "rawType": "object",
         "type": "string"
        },
        {
         "name": "Benchmark",
         "rawType": "object",
         "type": "string"
        },
        {
         "name": "intercept (alpha)",
         "rawType": "float64",
         "type": "float"
        },
        {
         "name": "slope (beta)",
         "rawType": "float64",
         "type": "float"
        },
        {
         "name": "correlation",
         "rawType": "float64",
         "type": "float"
        },
        {
         "name": "r_squared",
         "rawType": "float64",
         "type": "float"
        },
        {
         "name": "p_value_slope",
         "rawType": "float64",
         "type": "float"
        },
        {
         "name": "p_value_intercept",
         "rawType": "float64",
         "type": "float"
        }
       ],
       "ref": "c1be955e-f17e-4abc-ac06-d30423280f6a",
       "rows": [
        [
         "0",
         "MMC",
         "FCEF",
         "0.008130738477917948",
         "0.9755884826098464",
         null,
         "0.5404647138236964",
         "4.91206571806665e-07",
         "0.2725769781632926"
        ],
        [
         "1",
         "MS",
         "FCEF",
         "0.020216306877105114",
         "1.3940584896895525",
         null,
         "0.532911446996367",
         "6.469240181686844e-07",
         "0.06456127917669272"
        ],
        [
         "2",
         "PH",
         "FCEF",
         "0.0067507890606829215",
         "1.313498617356361",
         null,
         "0.5831855753406107",
         "9.485634584471408e-08",
         "0.458275884129852"
        ],
        [
         "3",
         "SO",
         "FCEF",
         "0.007087422111998552",
         "0.6091452398108609",
         null,
         "0.26899430532203117",
         "0.0014130820028155746",
         "0.3898845122056098"
        ],
        [
         "4",
         "TMUS",
         "FCEF",
         "0.008285960064283289",
         "0.7683694345707193",
         null,
         "0.23943677030639599",
         "0.0028528163619715025",
         "0.4603841833289264"
        ]
       ],
       "shape": {
        "columns": 8,
        "rows": 5
       }
      },
      "text/html": [
       "<div>\n",
       "<style scoped>\n",
       "    .dataframe tbody tr th:only-of-type {\n",
       "        vertical-align: middle;\n",
       "    }\n",
       "\n",
       "    .dataframe tbody tr th {\n",
       "        vertical-align: top;\n",
       "    }\n",
       "\n",
       "    .dataframe thead th {\n",
       "        text-align: right;\n",
       "    }\n",
       "</style>\n",
       "<table border=\"1\" class=\"dataframe\">\n",
       "  <thead>\n",
       "    <tr style=\"text-align: right;\">\n",
       "      <th></th>\n",
       "      <th>Equity</th>\n",
       "      <th>Benchmark</th>\n",
       "      <th>intercept (alpha)</th>\n",
       "      <th>slope (beta)</th>\n",
       "      <th>correlation</th>\n",
       "      <th>r_squared</th>\n",
       "      <th>p_value_slope</th>\n",
       "      <th>p_value_intercept</th>\n",
       "    </tr>\n",
       "  </thead>\n",
       "  <tbody>\n",
       "    <tr>\n",
       "      <th>0</th>\n",
       "      <td>MMC</td>\n",
       "      <td>FCEF</td>\n",
       "      <td>0.008131</td>\n",
       "      <td>0.975588</td>\n",
       "      <td>NaN</td>\n",
       "      <td>0.540465</td>\n",
       "      <td>4.912066e-07</td>\n",
       "      <td>0.272577</td>\n",
       "    </tr>\n",
       "    <tr>\n",
       "      <th>1</th>\n",
       "      <td>MS</td>\n",
       "      <td>FCEF</td>\n",
       "      <td>0.020216</td>\n",
       "      <td>1.394058</td>\n",
       "      <td>NaN</td>\n",
       "      <td>0.532911</td>\n",
       "      <td>6.469240e-07</td>\n",
       "      <td>0.064561</td>\n",
       "    </tr>\n",
       "    <tr>\n",
       "      <th>2</th>\n",
       "      <td>PH</td>\n",
       "      <td>FCEF</td>\n",
       "      <td>0.006751</td>\n",
       "      <td>1.313499</td>\n",
       "      <td>NaN</td>\n",
       "      <td>0.583186</td>\n",
       "      <td>9.485635e-08</td>\n",
       "      <td>0.458276</td>\n",
       "    </tr>\n",
       "    <tr>\n",
       "      <th>3</th>\n",
       "      <td>SO</td>\n",
       "      <td>FCEF</td>\n",
       "      <td>0.007087</td>\n",
       "      <td>0.609145</td>\n",
       "      <td>NaN</td>\n",
       "      <td>0.268994</td>\n",
       "      <td>1.413082e-03</td>\n",
       "      <td>0.389885</td>\n",
       "    </tr>\n",
       "    <tr>\n",
       "      <th>4</th>\n",
       "      <td>TMUS</td>\n",
       "      <td>FCEF</td>\n",
       "      <td>0.008286</td>\n",
       "      <td>0.768369</td>\n",
       "      <td>NaN</td>\n",
       "      <td>0.239437</td>\n",
       "      <td>2.852816e-03</td>\n",
       "      <td>0.460384</td>\n",
       "    </tr>\n",
       "  </tbody>\n",
       "</table>\n",
       "</div>"
      ],
      "text/plain": [
       "  Equity Benchmark  intercept (alpha)  slope (beta)  correlation  r_squared  \\\n",
       "0    MMC      FCEF           0.008131      0.975588          NaN   0.540465   \n",
       "1     MS      FCEF           0.020216      1.394058          NaN   0.532911   \n",
       "2     PH      FCEF           0.006751      1.313499          NaN   0.583186   \n",
       "3     SO      FCEF           0.007087      0.609145          NaN   0.268994   \n",
       "4   TMUS      FCEF           0.008286      0.768369          NaN   0.239437   \n",
       "\n",
       "   p_value_slope  p_value_intercept  \n",
       "0   4.912066e-07           0.272577  \n",
       "1   6.469240e-07           0.064561  \n",
       "2   9.485635e-08           0.458276  \n",
       "3   1.413082e-03           0.389885  \n",
       "4   2.852816e-03           0.460384  "
      ]
     },
     "metadata": {},
     "output_type": "display_data"
    }
   ],
   "source": [
    "# Call the function with your data\n",
    "best_benchmark, benchmark_stats_df, best_benchmarks_df = find_best_benchmark_and_run_regressions(\n",
    "    benchmark_excess_returns_df, \n",
    "    stock_excess_returns_df\n",
    ")\n",
    "\n",
    "# Display the results\n",
    "print(f\"Best benchmark: {best_benchmark}\")\n",
    "display(best_benchmarks_df)"
   ]
  },
  {
   "cell_type": "code",
   "execution_count": 25,
   "id": "a538dcf3",
   "metadata": {
    "execution": {
     "iopub.execute_input": "2025-06-02T13:28:33.811381Z",
     "iopub.status.busy": "2025-06-02T13:28:33.810059Z",
     "iopub.status.idle": "2025-06-02T13:28:33.826248Z",
     "shell.execute_reply": "2025-06-02T13:28:33.825115Z"
    }
   },
   "outputs": [
    {
     "data": {
      "application/vnd.microsoft.datawrangler.viewer.v0+json": {
       "columns": [
        {
         "name": "index",
         "rawType": "int64",
         "type": "integer"
        },
        {
         "name": "benchmark",
         "rawType": "object",
         "type": "string"
        },
        {
         "name": "avg_slope",
         "rawType": "float64",
         "type": "float"
        },
        {
         "name": "slope_std",
         "rawType": "float64",
         "type": "float"
        },
        {
         "name": "avg_p_value_intercept",
         "rawType": "float64",
         "type": "float"
        },
        {
         "name": "avg_p_value_slope",
         "rawType": "float64",
         "type": "float"
        },
        {
         "name": "avg_r_squared",
         "rawType": "float64",
         "type": "float"
        },
        {
         "name": "beta_quality",
         "rawType": "float64",
         "type": "float"
        },
        {
         "name": "score",
         "rawType": "float64",
         "type": "float"
        }
       ],
       "ref": "9e2b8f13-78f8-4a02-89f0-18eea57615be",
       "rows": [
        [
         "24",
         "FCEF",
         "1.012132052807468",
         "0.3032634588733145",
         "0.3291365674008747",
         "0.0008534262703445794",
         "0.4329985623578203",
         "0.987867947192532",
         "0.7716362159623343"
        ],
        [
         "32",
         "IDHQ",
         "0.8555832587587091",
         "0.22387198744585113",
         "0.17869652612225392",
         "0.001954870985052571",
         "0.3572996737001313",
         "0.8555832587587091",
         "0.7698620907891484"
        ],
        [
         "97",
         "YYY",
         "1.1522004436028486",
         "0.3857632448955777",
         "0.16123564796482973",
         "0.001522398275094849",
         "0.41173795498605176",
         "0.8477995563971514",
         "0.763680690743341"
        ],
        [
         "65",
         "QDF",
         "1.0268148722670372",
         "0.3114637953158731",
         "0.3552500865648677",
         "0.0009781330792725312",
         "0.43628504628432296",
         "0.9731851277329628",
         "0.763149741437516"
        ],
        [
         "0",
         "ACWI",
         "1.0003093399462912",
         "0.3624458334570116",
         "0.3325523842071856",
         "0.0026944970525086555",
         "0.41659266355776603",
         "0.9996906600537088",
         "0.7630021151626795"
        ],
        [
         "6",
         "CRBN",
         "0.9861487778923147",
         "0.36543544439729575",
         "0.3247122650970649",
         "0.002873509453193434",
         "0.41884397772179555",
         "0.9861487778923147",
         "0.7619548167033892"
        ],
        [
         "39",
         "IQLT",
         "0.8968497228242714",
         "0.2555503929618748",
         "0.24853557503744908",
         "0.002208928790250828",
         "0.36562090605122277",
         "0.8968497228242714",
         "0.7616379153875174"
        ],
        [
         "89",
         "VT",
         "0.9978211024431186",
         "0.3632187694758647",
         "0.3411738318759888",
         "0.002526208364998685",
         "0.4198970368943911",
         "0.9978211024431186",
         "0.7615152148165599"
        ],
        [
         "7",
         "DEUS",
         "1.0293547321300467",
         "0.27831081018783854",
         "0.4484605792279391",
         "0.0004069770551508975",
         "0.467256815681884",
         "0.9706452678699533",
         "0.7542633778594013"
        ],
        [
         "64",
         "QDEF",
         "1.089119298762678",
         "0.26583410886583003",
         "0.3675748870718515",
         "0.0005333783515652632",
         "0.4381149662293045",
         "0.9108807012373219",
         "0.7541760669526539"
        ]
       ],
       "shape": {
        "columns": 8,
        "rows": 10
       }
      },
      "text/html": [
       "<div>\n",
       "<style scoped>\n",
       "    .dataframe tbody tr th:only-of-type {\n",
       "        vertical-align: middle;\n",
       "    }\n",
       "\n",
       "    .dataframe tbody tr th {\n",
       "        vertical-align: top;\n",
       "    }\n",
       "\n",
       "    .dataframe thead th {\n",
       "        text-align: right;\n",
       "    }\n",
       "</style>\n",
       "<table border=\"1\" class=\"dataframe\">\n",
       "  <thead>\n",
       "    <tr style=\"text-align: right;\">\n",
       "      <th></th>\n",
       "      <th>benchmark</th>\n",
       "      <th>avg_slope</th>\n",
       "      <th>slope_std</th>\n",
       "      <th>avg_p_value_intercept</th>\n",
       "      <th>avg_p_value_slope</th>\n",
       "      <th>avg_r_squared</th>\n",
       "      <th>beta_quality</th>\n",
       "      <th>score</th>\n",
       "    </tr>\n",
       "  </thead>\n",
       "  <tbody>\n",
       "    <tr>\n",
       "      <th>24</th>\n",
       "      <td>FCEF</td>\n",
       "      <td>1.012132</td>\n",
       "      <td>0.303263</td>\n",
       "      <td>0.329137</td>\n",
       "      <td>0.000853</td>\n",
       "      <td>0.432999</td>\n",
       "      <td>0.987868</td>\n",
       "      <td>0.771636</td>\n",
       "    </tr>\n",
       "    <tr>\n",
       "      <th>32</th>\n",
       "      <td>IDHQ</td>\n",
       "      <td>0.855583</td>\n",
       "      <td>0.223872</td>\n",
       "      <td>0.178697</td>\n",
       "      <td>0.001955</td>\n",
       "      <td>0.357300</td>\n",
       "      <td>0.855583</td>\n",
       "      <td>0.769862</td>\n",
       "    </tr>\n",
       "    <tr>\n",
       "      <th>97</th>\n",
       "      <td>YYY</td>\n",
       "      <td>1.152200</td>\n",
       "      <td>0.385763</td>\n",
       "      <td>0.161236</td>\n",
       "      <td>0.001522</td>\n",
       "      <td>0.411738</td>\n",
       "      <td>0.847800</td>\n",
       "      <td>0.763681</td>\n",
       "    </tr>\n",
       "    <tr>\n",
       "      <th>65</th>\n",
       "      <td>QDF</td>\n",
       "      <td>1.026815</td>\n",
       "      <td>0.311464</td>\n",
       "      <td>0.355250</td>\n",
       "      <td>0.000978</td>\n",
       "      <td>0.436285</td>\n",
       "      <td>0.973185</td>\n",
       "      <td>0.763150</td>\n",
       "    </tr>\n",
       "    <tr>\n",
       "      <th>0</th>\n",
       "      <td>ACWI</td>\n",
       "      <td>1.000309</td>\n",
       "      <td>0.362446</td>\n",
       "      <td>0.332552</td>\n",
       "      <td>0.002694</td>\n",
       "      <td>0.416593</td>\n",
       "      <td>0.999691</td>\n",
       "      <td>0.763002</td>\n",
       "    </tr>\n",
       "    <tr>\n",
       "      <th>6</th>\n",
       "      <td>CRBN</td>\n",
       "      <td>0.986149</td>\n",
       "      <td>0.365435</td>\n",
       "      <td>0.324712</td>\n",
       "      <td>0.002874</td>\n",
       "      <td>0.418844</td>\n",
       "      <td>0.986149</td>\n",
       "      <td>0.761955</td>\n",
       "    </tr>\n",
       "    <tr>\n",
       "      <th>39</th>\n",
       "      <td>IQLT</td>\n",
       "      <td>0.896850</td>\n",
       "      <td>0.255550</td>\n",
       "      <td>0.248536</td>\n",
       "      <td>0.002209</td>\n",
       "      <td>0.365621</td>\n",
       "      <td>0.896850</td>\n",
       "      <td>0.761638</td>\n",
       "    </tr>\n",
       "    <tr>\n",
       "      <th>89</th>\n",
       "      <td>VT</td>\n",
       "      <td>0.997821</td>\n",
       "      <td>0.363219</td>\n",
       "      <td>0.341174</td>\n",
       "      <td>0.002526</td>\n",
       "      <td>0.419897</td>\n",
       "      <td>0.997821</td>\n",
       "      <td>0.761515</td>\n",
       "    </tr>\n",
       "    <tr>\n",
       "      <th>7</th>\n",
       "      <td>DEUS</td>\n",
       "      <td>1.029355</td>\n",
       "      <td>0.278311</td>\n",
       "      <td>0.448461</td>\n",
       "      <td>0.000407</td>\n",
       "      <td>0.467257</td>\n",
       "      <td>0.970645</td>\n",
       "      <td>0.754263</td>\n",
       "    </tr>\n",
       "    <tr>\n",
       "      <th>64</th>\n",
       "      <td>QDEF</td>\n",
       "      <td>1.089119</td>\n",
       "      <td>0.265834</td>\n",
       "      <td>0.367575</td>\n",
       "      <td>0.000533</td>\n",
       "      <td>0.438115</td>\n",
       "      <td>0.910881</td>\n",
       "      <td>0.754176</td>\n",
       "    </tr>\n",
       "  </tbody>\n",
       "</table>\n",
       "</div>"
      ],
      "text/plain": [
       "   benchmark  avg_slope  slope_std  avg_p_value_intercept  avg_p_value_slope  \\\n",
       "24      FCEF   1.012132   0.303263               0.329137           0.000853   \n",
       "32      IDHQ   0.855583   0.223872               0.178697           0.001955   \n",
       "97       YYY   1.152200   0.385763               0.161236           0.001522   \n",
       "65       QDF   1.026815   0.311464               0.355250           0.000978   \n",
       "0       ACWI   1.000309   0.362446               0.332552           0.002694   \n",
       "6       CRBN   0.986149   0.365435               0.324712           0.002874   \n",
       "39      IQLT   0.896850   0.255550               0.248536           0.002209   \n",
       "89        VT   0.997821   0.363219               0.341174           0.002526   \n",
       "7       DEUS   1.029355   0.278311               0.448461           0.000407   \n",
       "64      QDEF   1.089119   0.265834               0.367575           0.000533   \n",
       "\n",
       "    avg_r_squared  beta_quality     score  \n",
       "24       0.432999      0.987868  0.771636  \n",
       "32       0.357300      0.855583  0.769862  \n",
       "97       0.411738      0.847800  0.763681  \n",
       "65       0.436285      0.973185  0.763150  \n",
       "0        0.416593      0.999691  0.763002  \n",
       "6        0.418844      0.986149  0.761955  \n",
       "39       0.365621      0.896850  0.761638  \n",
       "89       0.419897      0.997821  0.761515  \n",
       "7        0.467257      0.970645  0.754263  \n",
       "64       0.438115      0.910881  0.754176  "
      ]
     },
     "metadata": {},
     "output_type": "display_data"
    }
   ],
   "source": [
    "# Display the benchmark statistics\n",
    "display(benchmark_stats_df.sort_values(by=\"score\", ascending=False).head(10))"
   ]
  },
  {
   "cell_type": "markdown",
   "id": "e85de62f",
   "metadata": {},
   "source": [
    "### Step 11: Display Bechmark Sector Exposure        "
   ]
  },
  {
   "cell_type": "code",
   "execution_count": 26,
   "id": "3f997d32",
   "metadata": {
    "execution": {
     "iopub.execute_input": "2025-06-02T13:28:33.829835Z",
     "iopub.status.busy": "2025-06-02T13:28:33.829185Z",
     "iopub.status.idle": "2025-06-02T13:28:33.841969Z",
     "shell.execute_reply": "2025-06-02T13:28:33.840465Z"
    }
   },
   "outputs": [
    {
     "data": {
      "application/vnd.microsoft.datawrangler.viewer.v0+json": {
       "columns": [
        {
         "name": "index",
         "rawType": "int64",
         "type": "integer"
        },
        {
         "name": "Symbol",
         "rawType": "object",
         "type": "string"
        },
        {
         "name": "Name",
         "rawType": "object",
         "type": "string"
        },
        {
         "name": "Sectors",
         "rawType": "object",
         "type": "unknown"
        }
       ],
       "ref": "403c7c1a-37f7-4001-b8e3-065c936d3e64",
       "rows": [
        [
         "76",
         "FCEF",
         "First Trust Income Opportunity ETF",
         "{'realestate': 0.060100004, 'consumer_cyclical': 0.0417, 'basic_materials': 0.0305, 'consumer_defensive': 0.0252, 'technology': 0.12020001, 'communication_services': 0.0535, 'financial_services': 0.0825, 'utilities': 0.14109999, 'industrials': 0.105399996, 'energy': 0.1519, 'healthcare': 0.1879}"
        ]
       ],
       "shape": {
        "columns": 3,
        "rows": 1
       }
      },
      "text/html": [
       "<div>\n",
       "<style scoped>\n",
       "    .dataframe tbody tr th:only-of-type {\n",
       "        vertical-align: middle;\n",
       "    }\n",
       "\n",
       "    .dataframe tbody tr th {\n",
       "        vertical-align: top;\n",
       "    }\n",
       "\n",
       "    .dataframe thead th {\n",
       "        text-align: right;\n",
       "    }\n",
       "</style>\n",
       "<table border=\"1\" class=\"dataframe\">\n",
       "  <thead>\n",
       "    <tr style=\"text-align: right;\">\n",
       "      <th></th>\n",
       "      <th>Symbol</th>\n",
       "      <th>Name</th>\n",
       "      <th>Sectors</th>\n",
       "    </tr>\n",
       "  </thead>\n",
       "  <tbody>\n",
       "    <tr>\n",
       "      <th>76</th>\n",
       "      <td>FCEF</td>\n",
       "      <td>First Trust Income Opportunity ETF</td>\n",
       "      <td>{'realestate': 0.060100004, 'consumer_cyclical...</td>\n",
       "    </tr>\n",
       "  </tbody>\n",
       "</table>\n",
       "</div>"
      ],
      "text/plain": [
       "   Symbol                                Name  \\\n",
       "76   FCEF  First Trust Income Opportunity ETF   \n",
       "\n",
       "                                              Sectors  \n",
       "76  {'realestate': 0.060100004, 'consumer_cyclical...  "
      ]
     },
     "metadata": {},
     "output_type": "display_data"
    }
   ],
   "source": [
    "best_benchmark = filtered_sectors_df[filtered_sectors_df[\"Symbol\"] == best_benchmarks_df['Benchmark'].unique()[0]]\n",
    "best_benchmark = best_benchmark[[\"Symbol\", \"Name_x\", \"Sectors\"]] \n",
    "best_benchmark = best_benchmark.rename(columns={\"Name_x\": \"Name\"})\n",
    "display(best_benchmark)"
   ]
  },
  {
   "cell_type": "code",
   "execution_count": 27,
   "id": "4c4eeadd",
   "metadata": {
    "execution": {
     "iopub.execute_input": "2025-06-02T13:28:33.845495Z",
     "iopub.status.busy": "2025-06-02T13:28:33.844774Z",
     "iopub.status.idle": "2025-06-02T13:28:34.034453Z",
     "shell.execute_reply": "2025-06-02T13:28:34.033001Z"
    }
   },
   "outputs": [
    {
     "data": {
      "image/png": "[encoded data removed]",
      "text/plain": [
       "<Figure size 1200x800 with 1 Axes>"
      ]
     },
     "metadata": {},
     "output_type": "display_data"
    }
   ],
   "source": [
    "# Get the sector dictionary from the first row\n",
    "sector_dict = best_benchmark[\"Sectors\"].iloc[0]\n",
    "\n",
    "# Create a pandas Series from the dictionary for easier plotting\n",
    "sectors_series = pd.Series(sector_dict)\n",
    "\n",
    "# Sort by weight for better visualization\n",
    "sectors_series = sectors_series.sort_values(ascending=False)\n",
    "\n",
    "# Create the plot - swap x and y for horizontal bars\n",
    "plt.figure(figsize=(12, 8))\n",
    "ax = sns.barplot(x=sectors_series.values, y=sectors_series.index)\n",
    "\n",
    "# Titles and labels\n",
    "plt.title(f'Sector Weights for {best_benchmark[\"Symbol\"].iloc[0]} - {best_benchmark[\"Name\"].iloc[0]}', fontsize=14)\n",
    "plt.yticks(fontsize=12)\n",
    "plt.xticks([])\n",
    "# plt.xlabel('Weight (%)', fontsize=12)\n",
    "# plt.ylabel('Sector', fontsize=12)\n",
    "plt.xlabel(None)\n",
    "plt.ylabel(None)\n",
    "\n",
    "# Add percentage labels at the center end of each bar\n",
    "for i, v in enumerate(sectors_series.values):\n",
    "    ax.text(v - 0.002, i, f'{v:.1%}', va='center', ha='right', fontsize=12, color='white', fontweight='bold')\n",
    "\n",
    "# Show plot\n",
    "plt.tight_layout()\n",
    "plt.show()"
   ]
  },
  {
   "cell_type": "markdown",
   "id": "76b26b74",
   "metadata": {},
   "source": [
    "### Step 12: Export Data to Excel"
   ]
  },
  {
   "cell_type": "code",
   "execution_count": 28,
   "id": "abf0469a",
   "metadata": {
    "execution": {
     "iopub.execute_input": "2025-06-02T13:28:34.039007Z",
     "iopub.status.busy": "2025-06-02T13:28:34.038022Z",
     "iopub.status.idle": "2025-06-02T13:28:34.050755Z",
     "shell.execute_reply": "2025-06-02T13:28:34.049152Z"
    }
   },
   "outputs": [
    {
     "name": "stdout",
     "output_type": "stream",
     "text": [
      "FCEF\n"
     ]
    },
    {
     "data": {
      "application/vnd.microsoft.datawrangler.viewer.v0+json": {
       "columns": [
        {
         "name": "Equity",
         "rawType": "object",
         "type": "string"
        },
        {
         "name": "Benchmark",
         "rawType": "object",
         "type": "string"
        },
        {
         "name": "intercept (alpha)",
         "rawType": "float64",
         "type": "float"
        },
        {
         "name": "slope (beta)",
         "rawType": "float64",
         "type": "float"
        },
        {
         "name": "correlation",
         "rawType": "float64",
         "type": "float"
        },
        {
         "name": "r_squared",
         "rawType": "float64",
         "type": "float"
        },
        {
         "name": "p_value_slope",
         "rawType": "float64",
         "type": "float"
        },
        {
         "name": "p_value_intercept",
         "rawType": "float64",
         "type": "float"
        }
       ],
       "ref": "14269e88-3d9c-496b-9ac5-887789d1caca",
       "rows": [
        [
         "MMC",
         "FCEF",
         "0.008130738477917948",
         "0.9755884826098464",
         null,
         "0.5404647138236964",
         "4.91206571806665e-07",
         "0.2725769781632926"
        ],
        [
         "MS",
         "FCEF",
         "0.020216306877105114",
         "1.3940584896895525",
         null,
         "0.532911446996367",
         "6.469240181686844e-07",
         "0.06456127917669272"
        ],
        [
         "PH",
         "FCEF",
         "0.0067507890606829215",
         "1.313498617356361",
         null,
         "0.5831855753406107",
         "9.485634584471408e-08",
         "0.458275884129852"
        ],
        [
         "SO",
         "FCEF",
         "0.007087422111998552",
         "0.6091452398108609",
         null,
         "0.26899430532203117",
         "0.0014130820028155746",
         "0.3898845122056098"
        ],
        [
         "TMUS",
         "FCEF",
         "0.008285960064283289",
         "0.7683694345707193",
         null,
         "0.23943677030639599",
         "0.0028528163619715025",
         "0.4603841833289264"
        ]
       ],
       "shape": {
        "columns": 7,
        "rows": 5
       }
      },
      "text/html": [
       "<div>\n",
       "<style scoped>\n",
       "    .dataframe tbody tr th:only-of-type {\n",
       "        vertical-align: middle;\n",
       "    }\n",
       "\n",
       "    .dataframe tbody tr th {\n",
       "        vertical-align: top;\n",
       "    }\n",
       "\n",
       "    .dataframe thead th {\n",
       "        text-align: right;\n",
       "    }\n",
       "</style>\n",
       "<table border=\"1\" class=\"dataframe\">\n",
       "  <thead>\n",
       "    <tr style=\"text-align: right;\">\n",
       "      <th></th>\n",
       "      <th>Benchmark</th>\n",
       "      <th>intercept (alpha)</th>\n",
       "      <th>slope (beta)</th>\n",
       "      <th>correlation</th>\n",
       "      <th>r_squared</th>\n",
       "      <th>p_value_slope</th>\n",
       "      <th>p_value_intercept</th>\n",
       "    </tr>\n",
       "    <tr>\n",
       "      <th>Equity</th>\n",
       "      <th></th>\n",
       "      <th></th>\n",
       "      <th></th>\n",
       "      <th></th>\n",
       "      <th></th>\n",
       "      <th></th>\n",
       "      <th></th>\n",
       "    </tr>\n",
       "  </thead>\n",
       "  <tbody>\n",
       "    <tr>\n",
       "      <th>MMC</th>\n",
       "      <td>FCEF</td>\n",
       "      <td>0.008131</td>\n",
       "      <td>0.975588</td>\n",
       "      <td>NaN</td>\n",
       "      <td>0.540465</td>\n",
       "      <td>4.912066e-07</td>\n",
       "      <td>0.272577</td>\n",
       "    </tr>\n",
       "    <tr>\n",
       "      <th>MS</th>\n",
       "      <td>FCEF</td>\n",
       "      <td>0.020216</td>\n",
       "      <td>1.394058</td>\n",
       "      <td>NaN</td>\n",
       "      <td>0.532911</td>\n",
       "      <td>6.469240e-07</td>\n",
       "      <td>0.064561</td>\n",
       "    </tr>\n",
       "    <tr>\n",
       "      <th>PH</th>\n",
       "      <td>FCEF</td>\n",
       "      <td>0.006751</td>\n",
       "      <td>1.313499</td>\n",
       "      <td>NaN</td>\n",
       "      <td>0.583186</td>\n",
       "      <td>9.485635e-08</td>\n",
       "      <td>0.458276</td>\n",
       "    </tr>\n",
       "    <tr>\n",
       "      <th>SO</th>\n",
       "      <td>FCEF</td>\n",
       "      <td>0.007087</td>\n",
       "      <td>0.609145</td>\n",
       "      <td>NaN</td>\n",
       "      <td>0.268994</td>\n",
       "      <td>1.413082e-03</td>\n",
       "      <td>0.389885</td>\n",
       "    </tr>\n",
       "    <tr>\n",
       "      <th>TMUS</th>\n",
       "      <td>FCEF</td>\n",
       "      <td>0.008286</td>\n",
       "      <td>0.768369</td>\n",
       "      <td>NaN</td>\n",
       "      <td>0.239437</td>\n",
       "      <td>2.852816e-03</td>\n",
       "      <td>0.460384</td>\n",
       "    </tr>\n",
       "  </tbody>\n",
       "</table>\n",
       "</div>"
      ],
      "text/plain": [
       "       Benchmark  intercept (alpha)  slope (beta)  correlation  r_squared  \\\n",
       "Equity                                                                      \n",
       "MMC         FCEF           0.008131      0.975588          NaN   0.540465   \n",
       "MS          FCEF           0.020216      1.394058          NaN   0.532911   \n",
       "PH          FCEF           0.006751      1.313499          NaN   0.583186   \n",
       "SO          FCEF           0.007087      0.609145          NaN   0.268994   \n",
       "TMUS        FCEF           0.008286      0.768369          NaN   0.239437   \n",
       "\n",
       "        p_value_slope  p_value_intercept  \n",
       "Equity                                    \n",
       "MMC      4.912066e-07           0.272577  \n",
       "MS       6.469240e-07           0.064561  \n",
       "PH       9.485635e-08           0.458276  \n",
       "SO       1.413082e-03           0.389885  \n",
       "TMUS     2.852816e-03           0.460384  "
      ]
     },
     "execution_count": 28,
     "metadata": {},
     "output_type": "execute_result"
    }
   ],
   "source": [
    "# Set Index\n",
    "first_column = best_benchmarks_df.columns[0] # Get the name of the first column\n",
    "best_benchmarks_df.set_index(first_column, drop=True, inplace=True)\n",
    "best_benchmark = best_benchmarks_df['Benchmark'].unique()[0]\n",
    "\n",
    "# Display the best benchmark DataFrame\n",
    "print(best_benchmark)\n",
    "best_benchmarks_df"
   ]
  },
  {
   "cell_type": "code",
   "execution_count": 29,
   "id": "5875bf44",
   "metadata": {
    "execution": {
     "iopub.execute_input": "2025-06-02T13:28:34.054929Z",
     "iopub.status.busy": "2025-06-02T13:28:34.053526Z",
     "iopub.status.idle": "2025-06-02T13:28:35.789149Z",
     "shell.execute_reply": "2025-06-02T13:28:35.787254Z"
    }
   },
   "outputs": [
    {
     "name": "stdout",
     "output_type": "stream",
     "text": [
      "Updated sheet 'benchmark'\n",
      "Successfully merged data into 'daily_quotes' sheet\n",
      "Successfully merged data into 'monthly_quotes' sheet\n",
      "Successfully exported all data to portfolios/portfolio-2025-05-30.xlsx\n"
     ]
    }
   ],
   "source": [
    "export_to_excel(output_file, {\n",
    "    'benchmark': best_benchmarks_df,\n",
    "    'daily_quotes': benchmark_prices_daily_df[[best_benchmark]],  \n",
    "    'monthly_quotes': benchmark_prices_monthly_df[[best_benchmark]]   \n",
    "})"
   ]
  }
 ],
 "metadata": {
  "kernelspec": {
   "display_name": ".venv",
   "language": "python",
   "name": "python3"
  },
  "language_info": {
   "codemirror_mode": {
    "name": "ipython",
    "version": 3
   },
   "file_extension": ".py",
   "mimetype": "text/x-python",
   "name": "python",
   "nbconvert_exporter": "python",
   "pygments_lexer": "ipython3",
   "version": "3.13.3"
  },
  "widgets": {
   "application/vnd.jupyter.widget-state+json": {
    "state": {
     "045ae3d33e4e4f28bf306e11146680bf": {
      "model_module": "@jupyter-widgets/base",
      "model_module_version": "2.0.0",
      "model_name": "LayoutModel",
      "state": {
       "_model_module": "@jupyter-widgets/base",
       "_model_module_version": "2.0.0",
       "_model_name": "LayoutModel",
       "_view_count": null,
       "_view_module": "@jupyter-widgets/base",
       "_view_module_version": "2.0.0",
       "_view_name": "LayoutView",
       "align_content": null,
       "align_items": null,
       "align_self": null,
       "border_bottom": null,
       "border_left": null,
       "border_right": null,
       "border_top": null,
       "bottom": null,
       "display": null,
       "flex": null,
       "flex_flow": null,
       "grid_area": null,
       "grid_auto_columns": null,
       "grid_auto_flow": null,
       "grid_auto_rows": null,
       "grid_column": null,
       "grid_gap": null,
       "grid_row": null,
       "grid_template_areas": null,
       "grid_template_columns": null,
       "grid_template_rows": null,
       "height": null,
       "justify_content": null,
       "justify_items": null,
       "left": null,
       "margin": null,
       "max_height": null,
       "max_width": null,
       "min_height": null,
       "min_width": null,
       "object_fit": null,
       "object_position": null,
       "order": null,
       "overflow": null,
       "padding": null,
       "right": null,
       "top": null,
       "visibility": null,
       "width": null
      }
     },
     "0e994225a7124f8dacbce576f288c778": {
      "model_module": "@jupyter-widgets/base",
      "model_module_version": "2.0.0",
      "model_name": "LayoutModel",
      "state": {
       "_model_module": "@jupyter-widgets/base",
       "_model_module_version": "2.0.0",
       "_model_name": "LayoutModel",
       "_view_count": null,
       "_view_module": "@jupyter-widgets/base",
       "_view_module_version": "2.0.0",
       "_view_name": "LayoutView",
       "align_content": null,
       "align_items": null,
       "align_self": null,
       "border_bottom": null,
       "border_left": null,
       "border_right": null,
       "border_top": null,
       "bottom": null,
       "display": null,
       "flex": null,
       "flex_flow": null,
       "grid_area": null,
       "grid_auto_columns": null,
       "grid_auto_flow": null,
       "grid_auto_rows": null,
       "grid_column": null,
       "grid_gap": null,
       "grid_row": null,
       "grid_template_areas": null,
       "grid_template_columns": null,
       "grid_template_rows": null,
       "height": null,
       "justify_content": null,
       "justify_items": null,
       "left": null,
       "margin": null,
       "max_height": null,
       "max_width": null,
       "min_height": null,
       "min_width": null,
       "object_fit": null,
       "object_position": null,
       "order": null,
       "overflow": null,
       "padding": null,
       "right": null,
       "top": null,
       "visibility": null,
       "width": null
      }
     },
     "294e0b5895ac4cb5a3e52c40b52715c0": {
      "model_module": "@jupyter-widgets/controls",
      "model_module_version": "2.0.0",
      "model_name": "HBoxModel",
      "state": {
       "_dom_classes": [],
       "_model_module": "@jupyter-widgets/controls",
       "_model_module_version": "2.0.0",
       "_model_name": "HBoxModel",
       "_view_count": null,
       "_view_module": "@jupyter-widgets/controls",
       "_view_module_version": "2.0.0",
       "_view_name": "HBoxView",
       "box_style": "",
       "children": [
        "IPY_MODEL_e2d34e0235144456b14f793c3fac79ca",
        "IPY_MODEL_779190ba5571443db3c0d62d2a37f2a1",
        "IPY_MODEL_dbc34e958a6e419c9a50589872524dc3"
       ],
       "layout": "IPY_MODEL_aaa07405a0404e80af127cfe3778ac1c",
       "tabbable": null,
       "tooltip": null
      }
     },
     "434e195470de46f3af439d9f686ec13c": {
      "model_module": "@jupyter-widgets/controls",
      "model_module_version": "2.0.0",
      "model_name": "HTMLStyleModel",
      "state": {
       "_model_module": "@jupyter-widgets/controls",
       "_model_module_version": "2.0.0",
       "_model_name": "HTMLStyleModel",
       "_view_count": null,
       "_view_module": "@jupyter-widgets/base",
       "_view_module_version": "2.0.0",
       "_view_name": "StyleView",
       "background": null,
       "description_width": "",
       "font_size": null,
       "text_color": null
      }
     },
     "6cedd3aff77641849dcbf7657691054e": {
      "model_module": "@jupyter-widgets/base",
      "model_module_version": "2.0.0",
      "model_name": "LayoutModel",
      "state": {
       "_model_module": "@jupyter-widgets/base",
       "_model_module_version": "2.0.0",
       "_model_name": "LayoutModel",
       "_view_count": null,
       "_view_module": "@jupyter-widgets/base",
       "_view_module_version": "2.0.0",
       "_view_name": "LayoutView",
       "align_content": null,
       "align_items": null,
       "align_self": null,
       "border_bottom": null,
       "border_left": null,
       "border_right": null,
       "border_top": null,
       "bottom": null,
       "display": null,
       "flex": null,
       "flex_flow": null,
       "grid_area": null,
       "grid_auto_columns": null,
       "grid_auto_flow": null,
       "grid_auto_rows": null,
       "grid_column": null,
       "grid_gap": null,
       "grid_row": null,
       "grid_template_areas": null,
       "grid_template_columns": null,
       "grid_template_rows": null,
       "height": null,
       "justify_content": null,
       "justify_items": null,
       "left": null,
       "margin": null,
       "max_height": null,
       "max_width": null,
       "min_height": null,
       "min_width": null,
       "object_fit": null,
       "object_position": null,
       "order": null,
       "overflow": null,
       "padding": null,
       "right": null,
       "top": null,
       "visibility": null,
       "width": null
      }
     },
     "779190ba5571443db3c0d62d2a37f2a1": {
      "model_module": "@jupyter-widgets/controls",
      "model_module_version": "2.0.0",
      "model_name": "FloatProgressModel",
      "state": {
       "_dom_classes": [],
       "_model_module": "@jupyter-widgets/controls",
       "_model_module_version": "2.0.0",
       "_model_name": "FloatProgressModel",
       "_view_count": null,
       "_view_module": "@jupyter-widgets/controls",
       "_view_module_version": "2.0.0",
       "_view_name": "ProgressView",
       "bar_style": "success",
       "description": "",
       "description_allow_html": false,
       "layout": "IPY_MODEL_0e994225a7124f8dacbce576f288c778",
       "max": 513,
       "min": 0,
       "orientation": "horizontal",
       "style": "IPY_MODEL_7e34651eb7364339b0dac58478f22353",
       "tabbable": null,
       "tooltip": null,
       "value": 513
      }
     },
     "7e34651eb7364339b0dac58478f22353": {
      "model_module": "@jupyter-widgets/controls",
      "model_module_version": "2.0.0",
      "model_name": "ProgressStyleModel",
      "state": {
       "_model_module": "@jupyter-widgets/controls",
       "_model_module_version": "2.0.0",
       "_model_name": "ProgressStyleModel",
       "_view_count": null,
       "_view_module": "@jupyter-widgets/base",
       "_view_module_version": "2.0.0",
       "_view_name": "StyleView",
       "bar_color": null,
       "description_width": ""
      }
     },
     "aaa07405a0404e80af127cfe3778ac1c": {
      "model_module": "@jupyter-widgets/base",
      "model_module_version": "2.0.0",
      "model_name": "LayoutModel",
      "state": {
       "_model_module": "@jupyter-widgets/base",
       "_model_module_version": "2.0.0",
       "_model_name": "LayoutModel",
       "_view_count": null,
       "_view_module": "@jupyter-widgets/base",
       "_view_module_version": "2.0.0",
       "_view_name": "LayoutView",
       "align_content": null,
       "align_items": null,
       "align_self": null,
       "border_bottom": null,
       "border_left": null,
       "border_right": null,
       "border_top": null,
       "bottom": null,
       "display": null,
       "flex": null,
       "flex_flow": null,
       "grid_area": null,
       "grid_auto_columns": null,
       "grid_auto_flow": null,
       "grid_auto_rows": null,
       "grid_column": null,
       "grid_gap": null,
       "grid_row": null,
       "grid_template_areas": null,
       "grid_template_columns": null,
       "grid_template_rows": null,
       "height": null,
       "justify_content": null,
       "justify_items": null,
       "left": null,
       "margin": null,
       "max_height": null,
       "max_width": null,
       "min_height": null,
       "min_width": null,
       "object_fit": null,
       "object_position": null,
       "order": null,
       "overflow": null,
       "padding": null,
       "right": null,
       "top": null,
       "visibility": null,
       "width": null
      }
     },
     "ae061c1387cd4fb6b8a1d923d00e3685": {
      "model_module": "@jupyter-widgets/controls",
      "model_module_version": "2.0.0",
      "model_name": "HTMLStyleModel",
      "state": {
       "_model_module": "@jupyter-widgets/controls",
       "_model_module_version": "2.0.0",
       "_model_name": "HTMLStyleModel",
       "_view_count": null,
       "_view_module": "@jupyter-widgets/base",
       "_view_module_version": "2.0.0",
       "_view_name": "StyleView",
       "background": null,
       "description_width": "",
       "font_size": null,
       "text_color": null
      }
     },
     "dbc34e958a6e419c9a50589872524dc3": {
      "model_module": "@jupyter-widgets/controls",
      "model_module_version": "2.0.0",
      "model_name": "HTMLModel",
      "state": {
       "_dom_classes": [],
       "_model_module": "@jupyter-widgets/controls",
       "_model_module_version": "2.0.0",
       "_model_name": "HTMLModel",
       "_view_count": null,
       "_view_module": "@jupyter-widgets/controls",
       "_view_module_version": "2.0.0",
       "_view_name": "HTMLView",
       "description": "",
       "description_allow_html": false,
       "layout": "IPY_MODEL_045ae3d33e4e4f28bf306e11146680bf",
       "placeholder": "​",
       "style": "IPY_MODEL_434e195470de46f3af439d9f686ec13c",
       "tabbable": null,
       "tooltip": null,
       "value": " 513/513 [00:13&lt;00:00, 21.56it/s]"
      }
     },
     "e2d34e0235144456b14f793c3fac79ca": {
      "model_module": "@jupyter-widgets/controls",
      "model_module_version": "2.0.0",
      "model_name": "HTMLModel",
      "state": {
       "_dom_classes": [],
       "_model_module": "@jupyter-widgets/controls",
       "_model_module_version": "2.0.0",
       "_model_name": "HTMLModel",
       "_view_count": null,
       "_view_module": "@jupyter-widgets/controls",
       "_view_module_version": "2.0.0",
       "_view_name": "HTMLView",
       "description": "",
       "description_allow_html": false,
       "layout": "IPY_MODEL_6cedd3aff77641849dcbf7657691054e",
       "placeholder": "​",
       "style": "IPY_MODEL_ae061c1387cd4fb6b8a1d923d00e3685",
       "tabbable": null,
       "tooltip": null,
       "value": "100%"
      }
     }
    },
    "version_major": 2,
    "version_minor": 0
   }
  }
 },
 "nbformat": 4,
 "nbformat_minor": 5
}
