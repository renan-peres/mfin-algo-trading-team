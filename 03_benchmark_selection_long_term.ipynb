{
 "cells": [
  {
   "cell_type": "markdown",
   "id": "bcc3381f",
   "metadata": {},
   "source": [
    "<a href=\"https://colab.research.google.com/github/renan-peres/mfin-portfolio-management/blob/main/03_benchmark_selection.ipynb\" target=\"_parent\"><img src=\"https://colab.research.google.com/assets/colab-badge.svg\" alt=\"Open In Colab\"/></a>"
   ]
  },
  {
   "cell_type": "markdown",
   "id": "e4cd6428",
   "metadata": {},
   "source": [
    "# Benchmark Selection with Regression Analysis\n",
    "This model aims to select an ETF that best fits with the portfolio to be used as a benchmark. The methodology uses a regression analysis to identify the relationship between the ETF and the portfolio and check the ETF with the highest R² and lowest p-value will be selected as the benchmark. \n",
    "\n",
    "The model will use the following steps:\n",
    "1. Select an ETF that invests in the same sectors as the portfolio holdings.\n",
    "2. Use regression analysis to identify the relationship between the ETF and the portfolio.\n",
    "3. Select the ETF with the highest R² and lowest p-value as the benchmark.\n",
    "4. Use the selected ETF as a benchmark to evaluate the performance of the portfolio."
   ]
  },
  {
   "cell_type": "markdown",
   "id": "dc371546",
   "metadata": {},
   "source": [
    "### Step 1: Import Libraries"
   ]
  },
  {
   "cell_type": "code",
   "execution_count": 1,
   "id": "d09ef8c1",
   "metadata": {
    "execution": {
     "iopub.execute_input": "2025-06-02T13:28:29.114690Z",
     "iopub.status.busy": "2025-06-02T13:28:29.114145Z",
     "iopub.status.idle": "2025-06-02T13:28:30.793724Z",
     "shell.execute_reply": "2025-06-02T13:28:30.792289Z"
    }
   },
   "outputs": [],
   "source": [
    "# UDFs\n",
    "from py.utils import load_and_filter_data, export_to_excel\n",
    "from py.regression_benchmark import find_best_benchmark_and_run_regressions\n",
    "\n",
    "# System libraries\n",
    "import glob\n",
    "import os\n",
    "import sys\n",
    "from io import StringIO\n",
    "from typing import Dict, List\n",
    "\n",
    "# Data manipulation libraries\n",
    "import pandas as pd\n",
    "import numpy as np\n",
    "from datetime import datetime, timedelta\n",
    "from pandas.tseries.offsets import BDay\n",
    "\n",
    "# Data Visualization libraries\n",
    "import matplotlib.pyplot as plt\n",
    "import seaborn as sns\n",
    "\n",
    "# Excel libraries\n",
    "from openpyxl import load_workbook\n",
    "from openpyxl.styles import Alignment, Font\n",
    "import ast"
   ]
  },
  {
   "cell_type": "markdown",
   "id": "e2e1bc31",
   "metadata": {},
   "source": [
    "### Step 2: Define Parameters"
   ]
  },
  {
   "cell_type": "markdown",
   "id": "766d204e",
   "metadata": {},
   "source": [
    "#### Dates"
   ]
  },
  {
   "cell_type": "code",
   "execution_count": 2,
   "id": "d59ab3b0",
   "metadata": {
    "execution": {
     "iopub.execute_input": "2025-06-02T13:28:30.798269Z",
     "iopub.status.busy": "2025-06-02T13:28:30.797519Z",
     "iopub.status.idle": "2025-06-02T13:28:30.805224Z",
     "shell.execute_reply": "2025-06-02T13:28:30.803735Z"
    }
   },
   "outputs": [
    {
     "name": "stdout",
     "output_type": "stream",
     "text": [
      "Date Range: 2015-06-09 to 2025-06-06\n",
      "Time span: 3650 days (10.00 years)\n"
     ]
    }
   ],
   "source": [
    "# Define the date range\n",
    "end_date = (datetime.today() - BDay(1)).to_pydatetime()  # Subtract 1 business day\n",
    "start_date = end_date - timedelta(days=10*365)            # 10 years ago from the end date\n",
    "\n",
    "# Convert datetime objects to Unix timestamps (seconds since Jan 1, 1970)\n",
    "start_timestamp = int(start_date.timestamp())\n",
    "end_timestamp = int(end_date.timestamp())\n",
    "\n",
    "# Print the date range\n",
    "days_difference = (end_date - start_date).days\n",
    "print(f\"Date Range: {start_date.strftime('%Y-%m-%d')} to {end_date.strftime('%Y-%m-%d')}\")\n",
    "print(f\"Time span: {days_difference} days ({days_difference/365:.2f} years)\")"
   ]
  },
  {
   "cell_type": "markdown",
   "id": "c216556a",
   "metadata": {},
   "source": [
    "#### Risk-free rate (T-bill, %)"
   ]
  },
  {
   "cell_type": "code",
   "execution_count": 3,
   "id": "3f485596",
   "metadata": {
    "execution": {
     "iopub.execute_input": "2025-06-02T13:28:30.808605Z",
     "iopub.status.busy": "2025-06-02T13:28:30.808221Z",
     "iopub.status.idle": "2025-06-02T13:28:30.832293Z",
     "shell.execute_reply": "2025-06-02T13:28:30.831288Z"
    }
   },
   "outputs": [
    {
     "name": "stdout",
     "output_type": "stream",
     "text": [
      "Found 1 of 1 tickers in data/daily_treasury_rates.csv\n",
      "Missing tickers: []\n",
      "Risk-Free Rate: 0.0424 -- 13 WEEK TREASURY BILL (^IRX)\n"
     ]
    },
    {
     "data": {
      "application/vnd.microsoft.datawrangler.viewer.v0+json": {
       "columns": [
        {
         "name": "Date",
         "rawType": "datetime64[ns]",
         "type": "datetime"
        },
        {
         "name": "^IRX",
         "rawType": "float64",
         "type": "float"
        }
       ],
       "ref": "5f7ef607-ffd2-49e9-9d4e-d18e33ed3f4c",
       "rows": [
        [
         "2015-06-10 00:00:00",
         "0.013"
        ],
        [
         "2015-06-11 00:00:00",
         "0.008"
        ],
        [
         "2015-06-12 00:00:00",
         "0.005"
        ],
        [
         "2015-06-15 00:00:00",
         "0.003"
        ],
        [
         "2015-06-16 00:00:00",
         "0.008"
        ]
       ],
       "shape": {
        "columns": 1,
        "rows": 5
       }
      },
      "text/html": [
       "<div>\n",
       "<style scoped>\n",
       "    .dataframe tbody tr th:only-of-type {\n",
       "        vertical-align: middle;\n",
       "    }\n",
       "\n",
       "    .dataframe tbody tr th {\n",
       "        vertical-align: top;\n",
       "    }\n",
       "\n",
       "    .dataframe thead th {\n",
       "        text-align: right;\n",
       "    }\n",
       "</style>\n",
       "<table border=\"1\" class=\"dataframe\">\n",
       "  <thead>\n",
       "    <tr style=\"text-align: right;\">\n",
       "      <th></th>\n",
       "      <th>^IRX</th>\n",
       "    </tr>\n",
       "    <tr>\n",
       "      <th>Date</th>\n",
       "      <th></th>\n",
       "    </tr>\n",
       "  </thead>\n",
       "  <tbody>\n",
       "    <tr>\n",
       "      <th>2015-06-10</th>\n",
       "      <td>0.013</td>\n",
       "    </tr>\n",
       "    <tr>\n",
       "      <th>2015-06-11</th>\n",
       "      <td>0.008</td>\n",
       "    </tr>\n",
       "    <tr>\n",
       "      <th>2015-06-12</th>\n",
       "      <td>0.005</td>\n",
       "    </tr>\n",
       "    <tr>\n",
       "      <th>2015-06-15</th>\n",
       "      <td>0.003</td>\n",
       "    </tr>\n",
       "    <tr>\n",
       "      <th>2015-06-16</th>\n",
       "      <td>0.008</td>\n",
       "    </tr>\n",
       "  </tbody>\n",
       "</table>\n",
       "</div>"
      ],
      "text/plain": [
       "             ^IRX\n",
       "Date             \n",
       "2015-06-10  0.013\n",
       "2015-06-11  0.008\n",
       "2015-06-12  0.005\n",
       "2015-06-15  0.003\n",
       "2015-06-16  0.008"
      ]
     },
     "execution_count": 3,
     "metadata": {},
     "output_type": "execute_result"
    }
   ],
   "source": [
    "# Load and process data\n",
    "daily_risk_free_df = load_and_filter_data('data/daily_treasury_rates.csv', ['^IRX'], start_date, end_date)\n",
    "# risk_free_rate = .0433 \n",
    "risk_free_rate = daily_risk_free_df.iloc[-1, 0] / 100\n",
    "risk_free_rate_monthly = risk_free_rate / 12\n",
    "\n",
    "# Display result\n",
    "print(\"Risk-Free Rate:\", risk_free_rate, \"-- 13 WEEK TREASURY BILL (^IRX)\")\n",
    "daily_risk_free_df.head()"
   ]
  },
  {
   "cell_type": "markdown",
   "id": "119e2261",
   "metadata": {},
   "source": [
    "#### Report File"
   ]
  },
  {
   "cell_type": "code",
   "execution_count": 4,
   "id": "b19e2a7b",
   "metadata": {
    "execution": {
     "iopub.execute_input": "2025-06-02T13:28:30.835903Z",
     "iopub.status.busy": "2025-06-02T13:28:30.835544Z",
     "iopub.status.idle": "2025-06-02T13:28:30.841061Z",
     "shell.execute_reply": "2025-06-02T13:28:30.840100Z"
    }
   },
   "outputs": [
    {
     "name": "stdout",
     "output_type": "stream",
     "text": [
      "Using most recent portfolio file: portfolios/portfolio-2025-06-06.xlsx\n"
     ]
    }
   ],
   "source": [
    "# Get the most recent portfolio file\n",
    "portfolio_files = glob.glob('portfolios/portfolio-*.xlsx')\n",
    "if portfolio_files:\n",
    "    # Sort files by modification time (most recent first)\n",
    "    output_file = max(portfolio_files, key=os.path.getmtime)\n",
    "    print(f\"Using most recent portfolio file: {output_file}\")\n",
    "else:\n",
    "    # Fallback to current date if no files found\n",
    "    output_file = f'portfolios/portfolio-{datetime.date(end_date)}.xlsx'\n",
    "    print(f\"No portfolio files found. Using: {output_file}\")"
   ]
  },
  {
   "cell_type": "markdown",
   "id": "955d4081",
   "metadata": {},
   "source": [
    "### Step 3: Read ETF Data"
   ]
  },
  {
   "cell_type": "code",
   "execution_count": 5,
   "id": "4339ebf2",
   "metadata": {
    "execution": {
     "iopub.execute_input": "2025-06-02T13:28:30.844553Z",
     "iopub.status.busy": "2025-06-02T13:28:30.844341Z",
     "iopub.status.idle": "2025-06-02T13:28:30.887886Z",
     "shell.execute_reply": "2025-06-02T13:28:30.886516Z"
    }
   },
   "outputs": [
    {
     "data": {
      "application/vnd.microsoft.datawrangler.viewer.v0+json": {
       "columns": [
        {
         "name": "index",
         "rawType": "int64",
         "type": "integer"
        },
        {
         "name": "Symbol",
         "rawType": "object",
         "type": "string"
        },
        {
         "name": "Name",
         "rawType": "object",
         "type": "string"
        },
        {
         "name": "Sectors",
         "rawType": "object",
         "type": "unknown"
        }
       ],
       "ref": "f1f44196-2978-4a01-93e3-b1604d46832f",
       "rows": [
        [
         "0",
         "AADR",
         "AdvisorShares Dorsey Wright ADR ETF",
         "{'realestate': 0.0, 'consumer_cyclical': 0.1182, 'basic_materials': 0.0425, 'consumer_defensive': 0.0, 'technology': 0.16479999, 'communication_services': 0.089499995, 'financial_services': 0.33900002, 'utilities': 0.033299997, 'industrials': 0.1005, 'energy': 0.0334, 'healthcare': 0.0788}"
        ],
        [
         "1",
         "ABFL",
         "Abacus FCF Leaders ETF",
         "{'realestate': 0.0, 'consumer_cyclical': 0.1188, 'basic_materials': 0.0, 'consumer_defensive': 0.0765, 'technology': 0.5052, 'communication_services': 0.0709, 'financial_services': 0.042600002, 'utilities': 0.0, 'industrials': 0.041100003, 'energy': 0.0, 'healthcare': 0.1449}"
        ],
        [
         "2",
         "ACWI",
         "iShares MSCI ACWI ETF",
         "{'realestate': 0.0216, 'consumer_cyclical': 0.1039, 'basic_materials': 0.0346, 'consumer_defensive': 0.0641, 'technology': 0.2491, 'communication_services': 0.084, 'financial_services': 0.1752, 'utilities': 0.0269, 'industrials': 0.1021, 'energy': 0.0375, 'healthcare': 0.1012}"
        ],
        [
         "3",
         "ADME",
         "Aptus Drawdown Managed Equity ETF",
         "{'realestate': 0.0222, 'consumer_cyclical': 0.1022, 'basic_materials': 0.0222, 'consumer_defensive': 0.0608, 'technology': 0.3147, 'communication_services': 0.091800004, 'financial_services': 0.1384, 'utilities': 0.0254, 'industrials': 0.0746, 'energy': 0.0357, 'healthcare': 0.111899994}"
        ],
        [
         "4",
         "AGNG",
         "Global X Aging Population ETF",
         "{'realestate': 0.0791, 'consumer_cyclical': 0.0, 'basic_materials': 0.0, 'consumer_defensive': 0.0, 'technology': 0.0, 'communication_services': 0.0, 'financial_services': 0.0, 'utilities': 0.0, 'industrials': 0.0, 'energy': 0.0, 'healthcare': 0.9209}"
        ]
       ],
       "shape": {
        "columns": 3,
        "rows": 5
       }
      },
      "text/html": [
       "<div>\n",
       "<style scoped>\n",
       "    .dataframe tbody tr th:only-of-type {\n",
       "        vertical-align: middle;\n",
       "    }\n",
       "\n",
       "    .dataframe tbody tr th {\n",
       "        vertical-align: top;\n",
       "    }\n",
       "\n",
       "    .dataframe thead th {\n",
       "        text-align: right;\n",
       "    }\n",
       "</style>\n",
       "<table border=\"1\" class=\"dataframe\">\n",
       "  <thead>\n",
       "    <tr style=\"text-align: right;\">\n",
       "      <th></th>\n",
       "      <th>Symbol</th>\n",
       "      <th>Name</th>\n",
       "      <th>Sectors</th>\n",
       "    </tr>\n",
       "  </thead>\n",
       "  <tbody>\n",
       "    <tr>\n",
       "      <th>0</th>\n",
       "      <td>AADR</td>\n",
       "      <td>AdvisorShares Dorsey Wright ADR ETF</td>\n",
       "      <td>{'realestate': 0.0, 'consumer_cyclical': 0.118...</td>\n",
       "    </tr>\n",
       "    <tr>\n",
       "      <th>1</th>\n",
       "      <td>ABFL</td>\n",
       "      <td>Abacus FCF Leaders ETF</td>\n",
       "      <td>{'realestate': 0.0, 'consumer_cyclical': 0.118...</td>\n",
       "    </tr>\n",
       "    <tr>\n",
       "      <th>2</th>\n",
       "      <td>ACWI</td>\n",
       "      <td>iShares MSCI ACWI ETF</td>\n",
       "      <td>{'realestate': 0.0216, 'consumer_cyclical': 0....</td>\n",
       "    </tr>\n",
       "    <tr>\n",
       "      <th>3</th>\n",
       "      <td>ADME</td>\n",
       "      <td>Aptus Drawdown Managed Equity ETF</td>\n",
       "      <td>{'realestate': 0.0222, 'consumer_cyclical': 0....</td>\n",
       "    </tr>\n",
       "    <tr>\n",
       "      <th>4</th>\n",
       "      <td>AGNG</td>\n",
       "      <td>Global X Aging Population ETF</td>\n",
       "      <td>{'realestate': 0.0791, 'consumer_cyclical': 0....</td>\n",
       "    </tr>\n",
       "  </tbody>\n",
       "</table>\n",
       "</div>"
      ],
      "text/plain": [
       "  Symbol                                 Name  \\\n",
       "0   AADR  AdvisorShares Dorsey Wright ADR ETF   \n",
       "1   ABFL               Abacus FCF Leaders ETF   \n",
       "2   ACWI                iShares MSCI ACWI ETF   \n",
       "3   ADME    Aptus Drawdown Managed Equity ETF   \n",
       "4   AGNG        Global X Aging Population ETF   \n",
       "\n",
       "                                             Sectors  \n",
       "0  {'realestate': 0.0, 'consumer_cyclical': 0.118...  \n",
       "1  {'realestate': 0.0, 'consumer_cyclical': 0.118...  \n",
       "2  {'realestate': 0.0216, 'consumer_cyclical': 0....  \n",
       "3  {'realestate': 0.0222, 'consumer_cyclical': 0....  \n",
       "4  {'realestate': 0.0791, 'consumer_cyclical': 0....  "
      ]
     },
     "execution_count": 5,
     "metadata": {},
     "output_type": "execute_result"
    }
   ],
   "source": [
    "# Load Data\n",
    "sectors_df = pd.read_csv(\"data/fundamentals_benchmark.csv\") \n",
    "sectors_df = sectors_df[[\"Ticker\", \"Name\", \"Sector Weightings\"]]\n",
    "sectors_df = sectors_df.rename(columns={\"Name\": \"Name\", \"Ticker\": \"Symbol\", \"Sector Weightings\": \"Sectors\"})\n",
    "\n",
    "# Convert string representations of dictionaries to actual dictionaries\n",
    "sectors_df['Sectors'] = sectors_df['Sectors'].apply(lambda x: ast.literal_eval(x) if isinstance(x, str) and x.strip() else {})\n",
    "\n",
    "# Display\n",
    "sectors_df.head()"
   ]
  },
  {
   "cell_type": "markdown",
   "id": "30db5c6d",
   "metadata": {},
   "source": [
    "### Step 4: Read Portfolio Data (Excel)"
   ]
  },
  {
   "cell_type": "code",
   "execution_count": 6,
   "id": "7cc2ecd6",
   "metadata": {
    "execution": {
     "iopub.execute_input": "2025-06-02T13:28:30.891757Z",
     "iopub.status.busy": "2025-06-02T13:28:30.890808Z",
     "iopub.status.idle": "2025-06-02T13:28:30.943911Z",
     "shell.execute_reply": "2025-06-02T13:28:30.942866Z"
    }
   },
   "outputs": [
    {
     "name": "stdout",
     "output_type": "stream",
     "text": [
      "['MMC', 'AMAT', 'TMUS', 'MRK', 'APO']\n"
     ]
    },
    {
     "data": {
      "application/vnd.microsoft.datawrangler.viewer.v0+json": {
       "columns": [
        {
         "name": "index",
         "rawType": "int64",
         "type": "integer"
        },
        {
         "name": "Ticker",
         "rawType": "object",
         "type": "string"
        },
        {
         "name": "Date",
         "rawType": "object",
         "type": "string"
        },
        {
         "name": "Name",
         "rawType": "object",
         "type": "string"
        },
        {
         "name": "Sector",
         "rawType": "object",
         "type": "string"
        },
        {
         "name": "Industry",
         "rawType": "object",
         "type": "string"
        },
        {
         "name": "Country",
         "rawType": "object",
         "type": "string"
        },
        {
         "name": "Website",
         "rawType": "object",
         "type": "string"
        },
        {
         "name": "Market Cap",
         "rawType": "int64",
         "type": "integer"
        },
        {
         "name": "Enterprise Value",
         "rawType": "int64",
         "type": "integer"
        },
        {
         "name": "Float Shares",
         "rawType": "int64",
         "type": "integer"
        },
        {
         "name": "Shares Outstanding",
         "rawType": "int64",
         "type": "integer"
        },
        {
         "name": "P/E (trailing)",
         "rawType": "float64",
         "type": "float"
        },
        {
         "name": "P/E (forward)",
         "rawType": "float64",
         "type": "float"
        },
        {
         "name": "P/S",
         "rawType": "float64",
         "type": "float"
        },
        {
         "name": "P/B",
         "rawType": "float64",
         "type": "float"
        },
        {
         "name": "EV/EBITDA",
         "rawType": "float64",
         "type": "float"
        },
        {
         "name": "EV/Revenue",
         "rawType": "float64",
         "type": "float"
        },
        {
         "name": "Gross Margin (%)",
         "rawType": "float64",
         "type": "float"
        },
        {
         "name": "EBITDA Margin (%)",
         "rawType": "float64",
         "type": "float"
        },
        {
         "name": "Operating Margin (%)",
         "rawType": "float64",
         "type": "float"
        },
        {
         "name": "Profit Margin (%)",
         "rawType": "float64",
         "type": "float"
        },
        {
         "name": "ROE",
         "rawType": "float64",
         "type": "float"
        },
        {
         "name": "ROA",
         "rawType": "float64",
         "type": "float"
        },
        {
         "name": "Revenue (TTM)",
         "rawType": "int64",
         "type": "integer"
        },
        {
         "name": "Revenue Growth (%)",
         "rawType": "float64",
         "type": "float"
        },
        {
         "name": "EPS (trailing)",
         "rawType": "float64",
         "type": "float"
        },
        {
         "name": "EPS (forward)",
         "rawType": "float64",
         "type": "float"
        },
        {
         "name": "Earnings Growth (%)",
         "rawType": "float64",
         "type": "float"
        },
        {
         "name": "Earnings Quarterly Growth (%)",
         "rawType": "float64",
         "type": "float"
        },
        {
         "name": "Total Cash",
         "rawType": "int64",
         "type": "integer"
        },
        {
         "name": "Total Debt",
         "rawType": "int64",
         "type": "integer"
        },
        {
         "name": "Debt to Equity",
         "rawType": "float64",
         "type": "float"
        },
        {
         "name": "Current Ratio",
         "rawType": "float64",
         "type": "float"
        },
        {
         "name": "Quick Ratio",
         "rawType": "float64",
         "type": "float"
        },
        {
         "name": "Book Value",
         "rawType": "float64",
         "type": "float"
        },
        {
         "name": "Free Cash Flow",
         "rawType": "float64",
         "type": "float"
        },
        {
         "name": "Operating Cash Flow",
         "rawType": "int64",
         "type": "integer"
        },
        {
         "name": "Dividend Yield (%)",
         "rawType": "float64",
         "type": "float"
        },
        {
         "name": "Dividend Rate (%)",
         "rawType": "float64",
         "type": "float"
        },
        {
         "name": "5Y Avg Dividend Yield (%)",
         "rawType": "float64",
         "type": "float"
        },
        {
         "name": "Payout Ratio (%)",
         "rawType": "float64",
         "type": "float"
        },
        {
         "name": "Price",
         "rawType": "float64",
         "type": "float"
        },
        {
         "name": "Target Price",
         "rawType": "float64",
         "type": "float"
        },
        {
         "name": "Target High",
         "rawType": "int64",
         "type": "integer"
        },
        {
         "name": "Target Low",
         "rawType": "float64",
         "type": "float"
        },
        {
         "name": "Analyst Rating",
         "rawType": "object",
         "type": "string"
        },
        {
         "name": "Analyst Rating Value",
         "rawType": "float64",
         "type": "float"
        },
        {
         "name": "Beta",
         "rawType": "float64",
         "type": "float"
        },
        {
         "name": "52W High",
         "rawType": "float64",
         "type": "float"
        },
        {
         "name": "52W Low",
         "rawType": "float64",
         "type": "float"
        },
        {
         "name": "50 Day Avg",
         "rawType": "float64",
         "type": "float"
        },
        {
         "name": "200 Day Avg",
         "rawType": "float64",
         "type": "float"
        },
        {
         "name": "Short Ratio",
         "rawType": "float64",
         "type": "float"
        },
        {
         "name": "Short % of Float",
         "rawType": "float64",
         "type": "float"
        },
        {
         "name": "Strategy",
         "rawType": "object",
         "type": "string"
        },
        {
         "name": "Weight",
         "rawType": "float64",
         "type": "float"
        },
        {
         "name": "Expected Return",
         "rawType": "float64",
         "type": "float"
        },
        {
         "name": "Standard Deviation",
         "rawType": "float64",
         "type": "float"
        },
        {
         "name": "Sharpe Ratio",
         "rawType": "float64",
         "type": "float"
        }
       ],
       "ref": "43bd6195-1df4-41de-83f4-9f7deffc5537",
       "rows": [
        [
         "0",
         "MMC",
         "2025-06-02",
         "Marsh & McLennan Companies, Inc.",
         "Financial Services",
         "Insurance Brokers",
         "United States",
         "https://www.marshmclennan.com",
         "115130826752",
         "136148770816",
         "491821141",
         "492728000",
         "28.67",
         "24.78",
         "4.6",
         "8.18",
         "18.35",
         "5.44",
         "0.4432",
         "0.2962",
         "0.3044",
         "0.1613",
         "0.31",
         "0.08",
         "25045999616",
         "0.091",
         "8.15",
         "9.43",
         "-0.011",
         "-0.014",
         "1604000000",
         "22418999296",
         "157.13",
         "1.14",
         "0.5",
         "28.55",
         "4121999872.0",
         "4461000192",
         "0.014",
         "0.0326",
         "0.0138",
         "0.4871",
         "233.66",
         "233.22",
         "276",
         "189.21",
         "hold",
         "2.7",
         "0.83",
         "248.0",
         "205.17",
         "229.54",
         "225.3",
         "2.62",
         "0.01",
         "Markowitz",
         "0.3180873008417999",
         "0.1404486710166235",
         "0.2129288822167514",
         "0.6596036646341547"
        ],
        [
         "1",
         "AMAT",
         "2025-06-02",
         "Applied Materials, Inc.",
         "Technology",
         "Semiconductor Equipment & Materials",
         "United States",
         "https://www.appliedmaterials.com",
         "125791559680",
         "125714595840",
         "799392549",
         "802497984",
         "19.09",
         "16.18",
         "4.48",
         "6.63",
         "14.38",
         "4.48",
         "0.4814",
         "0.3113",
         "0.3055",
         "0.2406",
         "0.36",
         "0.16",
         "28088999936",
         "0.068",
         "8.21",
         "9.69",
         "0.277",
         "0.241",
         "6746999808",
         "6670000128",
         "35.18",
         "2.46",
         "1.62",
         "23.63",
         "3740875008.0",
         "7456000000",
         "0.0117",
         "0.0184",
         "0.0087",
         "0.1946",
         "156.75",
         "198.04",
         "250",
         "152.0",
         "buy",
         "1.79",
         "1.66",
         "255.89",
         "123.74",
         "151.52",
         "173.39",
         "2.58",
         "0.02",
         "Markowitz",
         "0.2289105824374544",
         "0.181314130069788",
         "0.4125107802889521",
         "0.4395379193309388"
        ],
        [
         "2",
         "TMUS",
         "2025-06-02",
         "T-Mobile US, Inc.",
         "Communication Services",
         "Telecom Services",
         "United States",
         "https://www.t-mobile.com",
         "275005997056",
         "384693796864",
         "452736028",
         "1135449984",
         "23.63",
         "22.7",
         "3.33",
         "4.51",
         "12.17",
         "4.65",
         "0.6385",
         "0.3822",
         "0.2298",
         "0.1441",
         "0.19",
         "0.06",
         "82691997696",
         "0.066",
         "10.25",
         "10.67",
         "0.29",
         "0.244",
         "12003000320",
         "121691996160",
         "199.15",
         "1.16",
         "0.9",
         "53.73",
         "9022624768.0",
         "24056000512",
         "0.0145",
         "0.0352",
         "0.0",
         "0.2988",
         "242.2",
         "269.22",
         "305",
         "202.99",
         "buy",
         "2.07",
         "0.63",
         "276.49",
         "171.18",
         "251.2",
         "232.97",
         "3.11",
         "0.03",
         "Markowitz",
         "0.2236721160100146",
         "0.1302604720692437",
         "0.2758334271589185",
         "0.4722432426371426"
        ],
        [
         "3",
         "MRK",
         "2025-06-02",
         "Merck & Co., Inc.",
         "Healthcare",
         "Drug Manufacturers - General",
         "United States",
         "https://www.merck.com",
         "192947535872",
         "218628636672",
         "2507088934",
         "2511030016",
         "11.17",
         "8.17",
         "3.02",
         "4.0",
         "7.59",
         "3.42",
         "0.7707",
         "0.4505",
         "0.4006",
         "0.2727",
         "0.39",
         "0.14",
         "63921999872",
         "-0.016",
         "6.88",
         "9.4",
         "0.075",
         "0.067",
         "9228000256",
         "34844000256",
         "71.99",
         "1.41",
         "0.83",
         "19.21",
         "17124249600.0",
         "20878000128",
         "0.0422",
         "0.0324",
         "0.0297",
         "0.4593",
         "76.84",
         "101.79",
         "138",
         "82.0",
         "buy",
         "1.96",
         "0.44",
         "134.63",
         "73.31",
         "81.27",
         "97.4",
         "2.49",
         "0.02",
         "Markowitz",
         "0.1453300807748326",
         "0.09504320465261173",
         "0.2207470069293311",
         "0.4305526311531754"
        ],
        [
         "4",
         "APO",
         "2025-06-02",
         "Apollo Global Management, Inc.",
         "Financial Services",
         "Asset Management",
         "United States",
         "https://www.apollo.com/institutional/homepage",
         "74688552960",
         "94705582080",
         "446479870",
         "571494016",
         "22.85",
         "15.41",
         "3.06",
         "4.5",
         null,
         "3.88",
         "0.4424",
         "0.0",
         "0.2954",
         "0.1473",
         "0.19",
         "0.02",
         "24387000320",
         "-0.215",
         "5.72",
         "8.48",
         "-0.703",
         "-0.69",
         "25016999936",
         "29268000768",
         "90.49",
         "1.79",
         "1.68",
         "29.06",
         null,
         "4195000064",
         "0.0156",
         "0.0204",
         "0.0276",
         "0.3229",
         "130.69",
         "156.88",
         "179",
         "135.0",
         "buy",
         "1.68",
         "1.57",
         "189.49",
         "95.11",
         "133.28",
         "143.86",
         "7.75",
         "0.05",
         "Markowitz",
         "0.08399991993589846",
         "0.1350803189828564",
         "0.3791834341104514",
         "0.3562400327423302"
        ]
       ],
       "shape": {
        "columns": 59,
        "rows": 5
       }
      },
      "text/html": [
       "<div>\n",
       "<style scoped>\n",
       "    .dataframe tbody tr th:only-of-type {\n",
       "        vertical-align: middle;\n",
       "    }\n",
       "\n",
       "    .dataframe tbody tr th {\n",
       "        vertical-align: top;\n",
       "    }\n",
       "\n",
       "    .dataframe thead th {\n",
       "        text-align: right;\n",
       "    }\n",
       "</style>\n",
       "<table border=\"1\" class=\"dataframe\">\n",
       "  <thead>\n",
       "    <tr style=\"text-align: right;\">\n",
       "      <th></th>\n",
       "      <th>Ticker</th>\n",
       "      <th>Date</th>\n",
       "      <th>Name</th>\n",
       "      <th>Sector</th>\n",
       "      <th>Industry</th>\n",
       "      <th>Country</th>\n",
       "      <th>Website</th>\n",
       "      <th>Market Cap</th>\n",
       "      <th>Enterprise Value</th>\n",
       "      <th>Float Shares</th>\n",
       "      <th>...</th>\n",
       "      <th>52W Low</th>\n",
       "      <th>50 Day Avg</th>\n",
       "      <th>200 Day Avg</th>\n",
       "      <th>Short Ratio</th>\n",
       "      <th>Short % of Float</th>\n",
       "      <th>Strategy</th>\n",
       "      <th>Weight</th>\n",
       "      <th>Expected Return</th>\n",
       "      <th>Standard Deviation</th>\n",
       "      <th>Sharpe Ratio</th>\n",
       "    </tr>\n",
       "  </thead>\n",
       "  <tbody>\n",
       "    <tr>\n",
       "      <th>0</th>\n",
       "      <td>MMC</td>\n",
       "      <td>2025-06-02</td>\n",
       "      <td>Marsh &amp; McLennan Companies, Inc.</td>\n",
       "      <td>Financial Services</td>\n",
       "      <td>Insurance Brokers</td>\n",
       "      <td>United States</td>\n",
       "      <td>https://www.marshmclennan.com</td>\n",
       "      <td>115130826752</td>\n",
       "      <td>136148770816</td>\n",
       "      <td>491821141</td>\n",
       "      <td>...</td>\n",
       "      <td>205.17</td>\n",
       "      <td>229.54</td>\n",
       "      <td>225.30</td>\n",
       "      <td>2.62</td>\n",
       "      <td>0.01</td>\n",
       "      <td>Markowitz</td>\n",
       "      <td>0.318087</td>\n",
       "      <td>0.140449</td>\n",
       "      <td>0.212929</td>\n",
       "      <td>0.659604</td>\n",
       "    </tr>\n",
       "    <tr>\n",
       "      <th>1</th>\n",
       "      <td>AMAT</td>\n",
       "      <td>2025-06-02</td>\n",
       "      <td>Applied Materials, Inc.</td>\n",
       "      <td>Technology</td>\n",
       "      <td>Semiconductor Equipment &amp; Materials</td>\n",
       "      <td>United States</td>\n",
       "      <td>https://www.appliedmaterials.com</td>\n",
       "      <td>125791559680</td>\n",
       "      <td>125714595840</td>\n",
       "      <td>799392549</td>\n",
       "      <td>...</td>\n",
       "      <td>123.74</td>\n",
       "      <td>151.52</td>\n",
       "      <td>173.39</td>\n",
       "      <td>2.58</td>\n",
       "      <td>0.02</td>\n",
       "      <td>Markowitz</td>\n",
       "      <td>0.228911</td>\n",
       "      <td>0.181314</td>\n",
       "      <td>0.412511</td>\n",
       "      <td>0.439538</td>\n",
       "    </tr>\n",
       "    <tr>\n",
       "      <th>2</th>\n",
       "      <td>TMUS</td>\n",
       "      <td>2025-06-02</td>\n",
       "      <td>T-Mobile US, Inc.</td>\n",
       "      <td>Communication Services</td>\n",
       "      <td>Telecom Services</td>\n",
       "      <td>United States</td>\n",
       "      <td>https://www.t-mobile.com</td>\n",
       "      <td>275005997056</td>\n",
       "      <td>384693796864</td>\n",
       "      <td>452736028</td>\n",
       "      <td>...</td>\n",
       "      <td>171.18</td>\n",
       "      <td>251.20</td>\n",
       "      <td>232.97</td>\n",
       "      <td>3.11</td>\n",
       "      <td>0.03</td>\n",
       "      <td>Markowitz</td>\n",
       "      <td>0.223672</td>\n",
       "      <td>0.130260</td>\n",
       "      <td>0.275833</td>\n",
       "      <td>0.472243</td>\n",
       "    </tr>\n",
       "    <tr>\n",
       "      <th>3</th>\n",
       "      <td>MRK</td>\n",
       "      <td>2025-06-02</td>\n",
       "      <td>Merck &amp; Co., Inc.</td>\n",
       "      <td>Healthcare</td>\n",
       "      <td>Drug Manufacturers - General</td>\n",
       "      <td>United States</td>\n",
       "      <td>https://www.merck.com</td>\n",
       "      <td>192947535872</td>\n",
       "      <td>218628636672</td>\n",
       "      <td>2507088934</td>\n",
       "      <td>...</td>\n",
       "      <td>73.31</td>\n",
       "      <td>81.27</td>\n",
       "      <td>97.40</td>\n",
       "      <td>2.49</td>\n",
       "      <td>0.02</td>\n",
       "      <td>Markowitz</td>\n",
       "      <td>0.145330</td>\n",
       "      <td>0.095043</td>\n",
       "      <td>0.220747</td>\n",
       "      <td>0.430553</td>\n",
       "    </tr>\n",
       "    <tr>\n",
       "      <th>4</th>\n",
       "      <td>APO</td>\n",
       "      <td>2025-06-02</td>\n",
       "      <td>Apollo Global Management, Inc.</td>\n",
       "      <td>Financial Services</td>\n",
       "      <td>Asset Management</td>\n",
       "      <td>United States</td>\n",
       "      <td>https://www.apollo.com/institutional/homepage</td>\n",
       "      <td>74688552960</td>\n",
       "      <td>94705582080</td>\n",
       "      <td>446479870</td>\n",
       "      <td>...</td>\n",
       "      <td>95.11</td>\n",
       "      <td>133.28</td>\n",
       "      <td>143.86</td>\n",
       "      <td>7.75</td>\n",
       "      <td>0.05</td>\n",
       "      <td>Markowitz</td>\n",
       "      <td>0.084000</td>\n",
       "      <td>0.135080</td>\n",
       "      <td>0.379183</td>\n",
       "      <td>0.356240</td>\n",
       "    </tr>\n",
       "  </tbody>\n",
       "</table>\n",
       "<p>5 rows × 59 columns</p>\n",
       "</div>"
      ],
      "text/plain": [
       "  Ticker        Date                              Name  \\\n",
       "0    MMC  2025-06-02  Marsh & McLennan Companies, Inc.   \n",
       "1   AMAT  2025-06-02           Applied Materials, Inc.   \n",
       "2   TMUS  2025-06-02                 T-Mobile US, Inc.   \n",
       "3    MRK  2025-06-02                 Merck & Co., Inc.   \n",
       "4    APO  2025-06-02    Apollo Global Management, Inc.   \n",
       "\n",
       "                   Sector                             Industry        Country  \\\n",
       "0      Financial Services                    Insurance Brokers  United States   \n",
       "1              Technology  Semiconductor Equipment & Materials  United States   \n",
       "2  Communication Services                     Telecom Services  United States   \n",
       "3              Healthcare         Drug Manufacturers - General  United States   \n",
       "4      Financial Services                     Asset Management  United States   \n",
       "\n",
       "                                         Website    Market Cap  \\\n",
       "0                  https://www.marshmclennan.com  115130826752   \n",
       "1               https://www.appliedmaterials.com  125791559680   \n",
       "2                       https://www.t-mobile.com  275005997056   \n",
       "3                          https://www.merck.com  192947535872   \n",
       "4  https://www.apollo.com/institutional/homepage   74688552960   \n",
       "\n",
       "   Enterprise Value  Float Shares  ...  52W Low  50 Day Avg  200 Day Avg  \\\n",
       "0      136148770816     491821141  ...   205.17      229.54       225.30   \n",
       "1      125714595840     799392549  ...   123.74      151.52       173.39   \n",
       "2      384693796864     452736028  ...   171.18      251.20       232.97   \n",
       "3      218628636672    2507088934  ...    73.31       81.27        97.40   \n",
       "4       94705582080     446479870  ...    95.11      133.28       143.86   \n",
       "\n",
       "   Short Ratio  Short % of Float   Strategy    Weight  Expected Return  \\\n",
       "0         2.62              0.01  Markowitz  0.318087         0.140449   \n",
       "1         2.58              0.02  Markowitz  0.228911         0.181314   \n",
       "2         3.11              0.03  Markowitz  0.223672         0.130260   \n",
       "3         2.49              0.02  Markowitz  0.145330         0.095043   \n",
       "4         7.75              0.05  Markowitz  0.084000         0.135080   \n",
       "\n",
       "   Standard Deviation  Sharpe Ratio  \n",
       "0            0.212929      0.659604  \n",
       "1            0.412511      0.439538  \n",
       "2            0.275833      0.472243  \n",
       "3            0.220747      0.430553  \n",
       "4            0.379183      0.356240  \n",
       "\n",
       "[5 rows x 59 columns]"
      ]
     },
     "metadata": {},
     "output_type": "display_data"
    }
   ],
   "source": [
    "portfolio_df = pd.read_excel(output_file, sheet_name=\"long_term\")   \n",
    "portfolio_tickers = portfolio_df[\"Ticker\"].tolist()\n",
    "# portfolio_df[\"Weight\"] = portfolio_df['Weight'].str.rstrip('%').astype(float) / 100\n",
    "portfolio_df[\"P/E (trailing)\"] = pd.to_numeric(portfolio_df[\"P/E (trailing)\"], errors=\"coerce\")\n",
    "\n",
    "print(portfolio_tickers)\n",
    "display(portfolio_df)"
   ]
  },
  {
   "cell_type": "markdown",
   "id": "bdc9579a",
   "metadata": {},
   "source": [
    "### Step 5: Benchmark Sector Screening"
   ]
  },
  {
   "cell_type": "markdown",
   "id": "8afc63ee",
   "metadata": {},
   "source": [
    "#### Filter Sectors by Portfolio"
   ]
  },
  {
   "cell_type": "code",
   "execution_count": 7,
   "id": "fcc09a94",
   "metadata": {
    "execution": {
     "iopub.execute_input": "2025-06-02T13:28:30.946684Z",
     "iopub.status.busy": "2025-06-02T13:28:30.946200Z",
     "iopub.status.idle": "2025-06-02T13:28:30.961848Z",
     "shell.execute_reply": "2025-06-02T13:28:30.961075Z"
    }
   },
   "outputs": [
    {
     "name": "stdout",
     "output_type": "stream",
     "text": [
      "Number of benchmarks left: 311\n"
     ]
    },
    {
     "data": {
      "application/vnd.microsoft.datawrangler.viewer.v0+json": {
       "columns": [
        {
         "name": "index",
         "rawType": "int64",
         "type": "integer"
        },
        {
         "name": "Symbol",
         "rawType": "object",
         "type": "string"
        },
        {
         "name": "Name",
         "rawType": "object",
         "type": "string"
        },
        {
         "name": "Sectors",
         "rawType": "object",
         "type": "unknown"
        }
       ],
       "ref": "54ce5350-aed1-44dd-8651-e7e150a702e1",
       "rows": [
        [
         "0",
         "AADR",
         "AdvisorShares Dorsey Wright ADR ETF",
         "{'realestate': 0.0, 'consumer_cyclical': 0.1182, 'basic_materials': 0.0425, 'consumer_defensive': 0.0, 'technology': 0.16479999, 'communication_services': 0.089499995, 'financial_services': 0.33900002, 'utilities': 0.033299997, 'industrials': 0.1005, 'energy': 0.0334, 'healthcare': 0.0788}"
        ],
        [
         "1",
         "ABFL",
         "Abacus FCF Leaders ETF",
         "{'realestate': 0.0, 'consumer_cyclical': 0.1188, 'basic_materials': 0.0, 'consumer_defensive': 0.0765, 'technology': 0.5052, 'communication_services': 0.0709, 'financial_services': 0.042600002, 'utilities': 0.0, 'industrials': 0.041100003, 'energy': 0.0, 'healthcare': 0.1449}"
        ],
        [
         "2",
         "ACWI",
         "iShares MSCI ACWI ETF",
         "{'realestate': 0.0216, 'consumer_cyclical': 0.1039, 'basic_materials': 0.0346, 'consumer_defensive': 0.0641, 'technology': 0.2491, 'communication_services': 0.084, 'financial_services': 0.1752, 'utilities': 0.0269, 'industrials': 0.1021, 'energy': 0.0375, 'healthcare': 0.1012}"
        ],
        [
         "3",
         "ADME",
         "Aptus Drawdown Managed Equity ETF",
         "{'realestate': 0.0222, 'consumer_cyclical': 0.1022, 'basic_materials': 0.0222, 'consumer_defensive': 0.0608, 'technology': 0.3147, 'communication_services': 0.091800004, 'financial_services': 0.1384, 'utilities': 0.0254, 'industrials': 0.0746, 'energy': 0.0357, 'healthcare': 0.111899994}"
        ],
        [
         "4",
         "AIA",
         "iShares Asia 50 ETF",
         "{'realestate': 0.0047999998, 'consumer_cyclical': 0.17790002, 'basic_materials': 0.0047999998, 'consumer_defensive': 0.0, 'technology': 0.39720002, 'communication_services': 0.16860001, 'financial_services': 0.2172, 'utilities': 0.0, 'industrials': 0.0095, 'energy': 0.0095999995, 'healthcare': 0.0104}"
        ]
       ],
       "shape": {
        "columns": 3,
        "rows": 5
       }
      },
      "text/html": [
       "<div>\n",
       "<style scoped>\n",
       "    .dataframe tbody tr th:only-of-type {\n",
       "        vertical-align: middle;\n",
       "    }\n",
       "\n",
       "    .dataframe tbody tr th {\n",
       "        vertical-align: top;\n",
       "    }\n",
       "\n",
       "    .dataframe thead th {\n",
       "        text-align: right;\n",
       "    }\n",
       "</style>\n",
       "<table border=\"1\" class=\"dataframe\">\n",
       "  <thead>\n",
       "    <tr style=\"text-align: right;\">\n",
       "      <th></th>\n",
       "      <th>Symbol</th>\n",
       "      <th>Name</th>\n",
       "      <th>Sectors</th>\n",
       "    </tr>\n",
       "  </thead>\n",
       "  <tbody>\n",
       "    <tr>\n",
       "      <th>0</th>\n",
       "      <td>AADR</td>\n",
       "      <td>AdvisorShares Dorsey Wright ADR ETF</td>\n",
       "      <td>{'realestate': 0.0, 'consumer_cyclical': 0.118...</td>\n",
       "    </tr>\n",
       "    <tr>\n",
       "      <th>1</th>\n",
       "      <td>ABFL</td>\n",
       "      <td>Abacus FCF Leaders ETF</td>\n",
       "      <td>{'realestate': 0.0, 'consumer_cyclical': 0.118...</td>\n",
       "    </tr>\n",
       "    <tr>\n",
       "      <th>2</th>\n",
       "      <td>ACWI</td>\n",
       "      <td>iShares MSCI ACWI ETF</td>\n",
       "      <td>{'realestate': 0.0216, 'consumer_cyclical': 0....</td>\n",
       "    </tr>\n",
       "    <tr>\n",
       "      <th>3</th>\n",
       "      <td>ADME</td>\n",
       "      <td>Aptus Drawdown Managed Equity ETF</td>\n",
       "      <td>{'realestate': 0.0222, 'consumer_cyclical': 0....</td>\n",
       "    </tr>\n",
       "    <tr>\n",
       "      <th>4</th>\n",
       "      <td>AIA</td>\n",
       "      <td>iShares Asia 50 ETF</td>\n",
       "      <td>{'realestate': 0.0047999998, 'consumer_cyclica...</td>\n",
       "    </tr>\n",
       "  </tbody>\n",
       "</table>\n",
       "</div>"
      ],
      "text/plain": [
       "  Symbol                                 Name  \\\n",
       "0   AADR  AdvisorShares Dorsey Wright ADR ETF   \n",
       "1   ABFL               Abacus FCF Leaders ETF   \n",
       "2   ACWI                iShares MSCI ACWI ETF   \n",
       "3   ADME    Aptus Drawdown Managed Equity ETF   \n",
       "4    AIA                  iShares Asia 50 ETF   \n",
       "\n",
       "                                             Sectors  \n",
       "0  {'realestate': 0.0, 'consumer_cyclical': 0.118...  \n",
       "1  {'realestate': 0.0, 'consumer_cyclical': 0.118...  \n",
       "2  {'realestate': 0.0216, 'consumer_cyclical': 0....  \n",
       "3  {'realestate': 0.0222, 'consumer_cyclical': 0....  \n",
       "4  {'realestate': 0.0047999998, 'consumer_cyclica...  "
      ]
     },
     "metadata": {},
     "output_type": "display_data"
    }
   ],
   "source": [
    "# Sort portfolio sectors by weight (descending)\n",
    "portfolio_sector_weights = (\n",
    "    portfolio_df.groupby('Sector')['Weight'].sum()\n",
    "    .sort_values(ascending=False)\n",
    ")\n",
    "ordered_portfolio_sectors = [sector.strip() for sector in portfolio_sector_weights.index]\n",
    "normalized_ordered_portfolio_sectors = [sector.strip().lower().replace(\" \", \"_\") for sector in ordered_portfolio_sectors]\n",
    "\n",
    "# Filter directly with lambda expression instead of using a separate function\n",
    "filtered_sectors_df = sectors_df[\n",
    "    sectors_df['Sectors'].apply(\n",
    "        lambda sector_dict: isinstance(sector_dict, dict) and all(\n",
    "            sector in sector_dict and sector_dict[sector] > 0 \n",
    "            for sector in normalized_ordered_portfolio_sectors\n",
    "        )\n",
    "    )\n",
    "].reset_index(drop=True)\n",
    "\n",
    "# Display Outputs\n",
    "tickers = filtered_sectors_df[\"Symbol\"].tolist()\n",
    "print(\"Number of benchmarks left:\", len(tickers))\n",
    "display(filtered_sectors_df.head())"
   ]
  },
  {
   "cell_type": "markdown",
   "id": "c178af0c",
   "metadata": {},
   "source": [
    "#### Import ETF Fundamental Data"
   ]
  },
  {
   "cell_type": "code",
   "execution_count": 8,
   "id": "b483eba0",
   "metadata": {
    "execution": {
     "iopub.execute_input": "2025-06-02T13:28:30.966081Z",
     "iopub.status.busy": "2025-06-02T13:28:30.964923Z",
     "iopub.status.idle": "2025-06-02T13:28:31.003315Z",
     "shell.execute_reply": "2025-06-02T13:28:31.001732Z"
    }
   },
   "outputs": [
    {
     "data": {
      "application/vnd.microsoft.datawrangler.viewer.v0+json": {
       "columns": [
        {
         "name": "index",
         "rawType": "int64",
         "type": "integer"
        },
        {
         "name": "Symbol",
         "rawType": "object",
         "type": "string"
        },
        {
         "name": "Name_x",
         "rawType": "object",
         "type": "string"
        },
        {
         "name": "Sectors",
         "rawType": "object",
         "type": "unknown"
        },
        {
         "name": "Date",
         "rawType": "object",
         "type": "string"
        },
        {
         "name": "Name_y",
         "rawType": "object",
         "type": "string"
        },
        {
         "name": "Sector",
         "rawType": "object",
         "type": "string"
        },
        {
         "name": "Industry",
         "rawType": "object",
         "type": "string"
        },
        {
         "name": "Country",
         "rawType": "object",
         "type": "string"
        },
        {
         "name": "Website",
         "rawType": "object",
         "type": "string"
        },
        {
         "name": "Market Cap",
         "rawType": "float64",
         "type": "float"
        },
        {
         "name": "Shares Outstanding",
         "rawType": "float64",
         "type": "float"
        },
        {
         "name": "P/E (trailing)",
         "rawType": "float64",
         "type": "float"
        },
        {
         "name": "P/E (forward)",
         "rawType": "float64",
         "type": "float"
        },
        {
         "name": "P/B",
         "rawType": "float64",
         "type": "float"
        },
        {
         "name": "Book Value",
         "rawType": "float64",
         "type": "float"
        },
        {
         "name": "Dividend Yield (%)",
         "rawType": "float64",
         "type": "float"
        },
        {
         "name": "Dividend Rate (%)",
         "rawType": "float64",
         "type": "float"
        },
        {
         "name": "5Y Avg Dividend Yield (%)",
         "rawType": "float64",
         "type": "float"
        },
        {
         "name": "Payout Ratio (%)",
         "rawType": "float64",
         "type": "float"
        },
        {
         "name": "Price",
         "rawType": "float64",
         "type": "float"
        },
        {
         "name": "Analyst Rating",
         "rawType": "object",
         "type": "string"
        },
        {
         "name": "52W High",
         "rawType": "float64",
         "type": "float"
        },
        {
         "name": "52W Low",
         "rawType": "float64",
         "type": "float"
        },
        {
         "name": "50 Day Avg",
         "rawType": "float64",
         "type": "float"
        },
        {
         "name": "200 Day Avg",
         "rawType": "float64",
         "type": "float"
        },
        {
         "name": "Sector Weightings",
         "rawType": "object",
         "type": "string"
        }
       ],
       "ref": "6248e9f4-3565-47d1-897b-c0a4fd54d969",
       "rows": [
        [
         "0",
         "AADR",
         "AdvisorShares Dorsey Wright ADR ETF",
         "{'realestate': 0.0, 'consumer_cyclical': 0.1182, 'basic_materials': 0.0425, 'consumer_defensive': 0.0, 'technology': 0.16479999, 'communication_services': 0.089499995, 'financial_services': 0.33900002, 'utilities': 0.033299997, 'industrials': 0.1005, 'energy': 0.0334, 'healthcare': 0.0788}",
         "2025-06-02",
         "AdvisorShares Dorsey Wright ADR ETF",
         "Unknown",
         "Unknown",
         "Unknown",
         "Unknown",
         "0.0",
         null,
         "14.95",
         null,
         null,
         null,
         "0.0123",
         "0.0",
         "0.0",
         "0.0",
         "77.58",
         "Unknown",
         "81.17",
         "54.57",
         "74.66",
         "70.09",
         "{\"realestate\": 0.0, \"consumer_cyclical\": 0.1182, \"basic_materials\": 0.0425, \"consumer_defensive\": 0.0, \"technology\": 0.16479999, \"communication_services\": 0.089499995, \"financial_services\": 0.33900002, \"utilities\": 0.033299997, \"industrials\": 0.1005, \"energy\": 0.0334, \"healthcare\": 0.0788}"
        ],
        [
         "1",
         "ABFL",
         "Abacus FCF Leaders ETF",
         "{'realestate': 0.0, 'consumer_cyclical': 0.1188, 'basic_materials': 0.0, 'consumer_defensive': 0.0765, 'technology': 0.5052, 'communication_services': 0.0709, 'financial_services': 0.042600002, 'utilities': 0.0, 'industrials': 0.041100003, 'energy': 0.0, 'healthcare': 0.1449}",
         "2025-06-02",
         "Abacus FCF Leaders ETF",
         "Unknown",
         "Unknown",
         "Unknown",
         "Unknown",
         "0.0",
         null,
         "33.43",
         null,
         null,
         null,
         "0.0082",
         "0.0",
         "0.0",
         "0.0",
         "69.15",
         "Unknown",
         "71.28",
         "55.4",
         "64.73",
         "66.17",
         "{\"realestate\": 0.0, \"consumer_cyclical\": 0.1188, \"basic_materials\": 0.0, \"consumer_defensive\": 0.0765, \"technology\": 0.5052, \"communication_services\": 0.0709, \"financial_services\": 0.042600002, \"utilities\": 0.0, \"industrials\": 0.041100003, \"energy\": 0.0, \"healthcare\": 0.1449}"
        ],
        [
         "2",
         "ACWI",
         "iShares MSCI ACWI ETF",
         "{'realestate': 0.0216, 'consumer_cyclical': 0.1039, 'basic_materials': 0.0346, 'consumer_defensive': 0.0641, 'technology': 0.2491, 'communication_services': 0.084, 'financial_services': 0.1752, 'utilities': 0.0269, 'industrials': 0.1021, 'energy': 0.0375, 'healthcare': 0.1012}",
         "2025-06-02",
         "iShares MSCI ACWI ETF",
         "Unknown",
         "Unknown",
         "Unknown",
         "Unknown",
         "0.0",
         null,
         "21.39",
         null,
         null,
         null,
         "0.0171",
         "0.0",
         "0.0",
         "0.0",
         "123.65",
         "Unknown",
         "124.54",
         "101.25",
         "117.25",
         "118.68",
         "{\"realestate\": 0.0216, \"consumer_cyclical\": 0.1039, \"basic_materials\": 0.0346, \"consumer_defensive\": 0.0641, \"technology\": 0.2491, \"communication_services\": 0.084, \"financial_services\": 0.1752, \"utilities\": 0.0269, \"industrials\": 0.1021, \"energy\": 0.0375, \"healthcare\": 0.1012}"
        ],
        [
         "3",
         "ADME",
         "Aptus Drawdown Managed Equity ETF",
         "{'realestate': 0.0222, 'consumer_cyclical': 0.1022, 'basic_materials': 0.0222, 'consumer_defensive': 0.0608, 'technology': 0.3147, 'communication_services': 0.091800004, 'financial_services': 0.1384, 'utilities': 0.0254, 'industrials': 0.0746, 'energy': 0.0357, 'healthcare': 0.111899994}",
         "2025-05-02",
         "Aptus Drawdown Managed Equity ETF",
         "Unknown",
         "Unknown",
         "Unknown",
         "Unknown",
         "0.0",
         null,
         "25.43",
         null,
         null,
         null,
         "0.0047",
         "0.0",
         "0.0",
         "0.0",
         "44.46",
         "Unknown",
         "48.56",
         "39.85",
         "44.34",
         "45.9",
         "{\"realestate\": 0.0222, \"consumer_cyclical\": 0.1022, \"basic_materials\": 0.0222, \"consumer_defensive\": 0.0608, \"technology\": 0.3147, \"communication_services\": 0.091800004, \"financial_services\": 0.1384, \"utilities\": 0.0254, \"industrials\": 0.0746, \"energy\": 0.0357, \"healthcare\": 0.111899994}"
        ],
        [
         "4",
         "AIA",
         "iShares Asia 50 ETF",
         "{'realestate': 0.0047999998, 'consumer_cyclical': 0.17790002, 'basic_materials': 0.0047999998, 'consumer_defensive': 0.0, 'technology': 0.39720002, 'communication_services': 0.16860001, 'financial_services': 0.2172, 'utilities': 0.0, 'industrials': 0.0095, 'energy': 0.0095999995, 'healthcare': 0.0104}",
         "2025-06-02",
         "iShares Asia 50 ETF",
         "Unknown",
         "Unknown",
         "Unknown",
         "Unknown",
         "0.0",
         null,
         "13.54",
         null,
         null,
         null,
         "0.0268",
         "0.0",
         "0.0",
         "0.0",
         "74.67",
         "Unknown",
         "77.87",
         "59.33",
         "71.89",
         "71.02",
         "{\"realestate\": 0.0047999998, \"consumer_cyclical\": 0.17790002, \"basic_materials\": 0.0047999998, \"consumer_defensive\": 0.0, \"technology\": 0.39720002, \"communication_services\": 0.16860001, \"financial_services\": 0.2172, \"utilities\": 0.0, \"industrials\": 0.0095, \"energy\": 0.0095999995, \"healthcare\": 0.0104}"
        ]
       ],
       "shape": {
        "columns": 26,
        "rows": 5
       }
      },
      "text/html": [
       "<div>\n",
       "<style scoped>\n",
       "    .dataframe tbody tr th:only-of-type {\n",
       "        vertical-align: middle;\n",
       "    }\n",
       "\n",
       "    .dataframe tbody tr th {\n",
       "        vertical-align: top;\n",
       "    }\n",
       "\n",
       "    .dataframe thead th {\n",
       "        text-align: right;\n",
       "    }\n",
       "</style>\n",
       "<table border=\"1\" class=\"dataframe\">\n",
       "  <thead>\n",
       "    <tr style=\"text-align: right;\">\n",
       "      <th></th>\n",
       "      <th>Symbol</th>\n",
       "      <th>Name_x</th>\n",
       "      <th>Sectors</th>\n",
       "      <th>Date</th>\n",
       "      <th>Name_y</th>\n",
       "      <th>Sector</th>\n",
       "      <th>Industry</th>\n",
       "      <th>Country</th>\n",
       "      <th>Website</th>\n",
       "      <th>Market Cap</th>\n",
       "      <th>...</th>\n",
       "      <th>Dividend Rate (%)</th>\n",
       "      <th>5Y Avg Dividend Yield (%)</th>\n",
       "      <th>Payout Ratio (%)</th>\n",
       "      <th>Price</th>\n",
       "      <th>Analyst Rating</th>\n",
       "      <th>52W High</th>\n",
       "      <th>52W Low</th>\n",
       "      <th>50 Day Avg</th>\n",
       "      <th>200 Day Avg</th>\n",
       "      <th>Sector Weightings</th>\n",
       "    </tr>\n",
       "  </thead>\n",
       "  <tbody>\n",
       "    <tr>\n",
       "      <th>0</th>\n",
       "      <td>AADR</td>\n",
       "      <td>AdvisorShares Dorsey Wright ADR ETF</td>\n",
       "      <td>{'realestate': 0.0, 'consumer_cyclical': 0.118...</td>\n",
       "      <td>2025-06-02</td>\n",
       "      <td>AdvisorShares Dorsey Wright ADR ETF</td>\n",
       "      <td>Unknown</td>\n",
       "      <td>Unknown</td>\n",
       "      <td>Unknown</td>\n",
       "      <td>Unknown</td>\n",
       "      <td>0.0</td>\n",
       "      <td>...</td>\n",
       "      <td>0.0</td>\n",
       "      <td>0.0</td>\n",
       "      <td>0.0</td>\n",
       "      <td>77.58</td>\n",
       "      <td>Unknown</td>\n",
       "      <td>81.17</td>\n",
       "      <td>54.57</td>\n",
       "      <td>74.66</td>\n",
       "      <td>70.09</td>\n",
       "      <td>{\"realestate\": 0.0, \"consumer_cyclical\": 0.118...</td>\n",
       "    </tr>\n",
       "    <tr>\n",
       "      <th>1</th>\n",
       "      <td>ABFL</td>\n",
       "      <td>Abacus FCF Leaders ETF</td>\n",
       "      <td>{'realestate': 0.0, 'consumer_cyclical': 0.118...</td>\n",
       "      <td>2025-06-02</td>\n",
       "      <td>Abacus FCF Leaders ETF</td>\n",
       "      <td>Unknown</td>\n",
       "      <td>Unknown</td>\n",
       "      <td>Unknown</td>\n",
       "      <td>Unknown</td>\n",
       "      <td>0.0</td>\n",
       "      <td>...</td>\n",
       "      <td>0.0</td>\n",
       "      <td>0.0</td>\n",
       "      <td>0.0</td>\n",
       "      <td>69.15</td>\n",
       "      <td>Unknown</td>\n",
       "      <td>71.28</td>\n",
       "      <td>55.40</td>\n",
       "      <td>64.73</td>\n",
       "      <td>66.17</td>\n",
       "      <td>{\"realestate\": 0.0, \"consumer_cyclical\": 0.118...</td>\n",
       "    </tr>\n",
       "    <tr>\n",
       "      <th>2</th>\n",
       "      <td>ACWI</td>\n",
       "      <td>iShares MSCI ACWI ETF</td>\n",
       "      <td>{'realestate': 0.0216, 'consumer_cyclical': 0....</td>\n",
       "      <td>2025-06-02</td>\n",
       "      <td>iShares MSCI ACWI ETF</td>\n",
       "      <td>Unknown</td>\n",
       "      <td>Unknown</td>\n",
       "      <td>Unknown</td>\n",
       "      <td>Unknown</td>\n",
       "      <td>0.0</td>\n",
       "      <td>...</td>\n",
       "      <td>0.0</td>\n",
       "      <td>0.0</td>\n",
       "      <td>0.0</td>\n",
       "      <td>123.65</td>\n",
       "      <td>Unknown</td>\n",
       "      <td>124.54</td>\n",
       "      <td>101.25</td>\n",
       "      <td>117.25</td>\n",
       "      <td>118.68</td>\n",
       "      <td>{\"realestate\": 0.0216, \"consumer_cyclical\": 0....</td>\n",
       "    </tr>\n",
       "    <tr>\n",
       "      <th>3</th>\n",
       "      <td>ADME</td>\n",
       "      <td>Aptus Drawdown Managed Equity ETF</td>\n",
       "      <td>{'realestate': 0.0222, 'consumer_cyclical': 0....</td>\n",
       "      <td>2025-05-02</td>\n",
       "      <td>Aptus Drawdown Managed Equity ETF</td>\n",
       "      <td>Unknown</td>\n",
       "      <td>Unknown</td>\n",
       "      <td>Unknown</td>\n",
       "      <td>Unknown</td>\n",
       "      <td>0.0</td>\n",
       "      <td>...</td>\n",
       "      <td>0.0</td>\n",
       "      <td>0.0</td>\n",
       "      <td>0.0</td>\n",
       "      <td>44.46</td>\n",
       "      <td>Unknown</td>\n",
       "      <td>48.56</td>\n",
       "      <td>39.85</td>\n",
       "      <td>44.34</td>\n",
       "      <td>45.90</td>\n",
       "      <td>{\"realestate\": 0.0222, \"consumer_cyclical\": 0....</td>\n",
       "    </tr>\n",
       "    <tr>\n",
       "      <th>4</th>\n",
       "      <td>AIA</td>\n",
       "      <td>iShares Asia 50 ETF</td>\n",
       "      <td>{'realestate': 0.0047999998, 'consumer_cyclica...</td>\n",
       "      <td>2025-06-02</td>\n",
       "      <td>iShares Asia 50 ETF</td>\n",
       "      <td>Unknown</td>\n",
       "      <td>Unknown</td>\n",
       "      <td>Unknown</td>\n",
       "      <td>Unknown</td>\n",
       "      <td>0.0</td>\n",
       "      <td>...</td>\n",
       "      <td>0.0</td>\n",
       "      <td>0.0</td>\n",
       "      <td>0.0</td>\n",
       "      <td>74.67</td>\n",
       "      <td>Unknown</td>\n",
       "      <td>77.87</td>\n",
       "      <td>59.33</td>\n",
       "      <td>71.89</td>\n",
       "      <td>71.02</td>\n",
       "      <td>{\"realestate\": 0.0047999998, \"consumer_cyclica...</td>\n",
       "    </tr>\n",
       "  </tbody>\n",
       "</table>\n",
       "<p>5 rows × 26 columns</p>\n",
       "</div>"
      ],
      "text/plain": [
       "  Symbol                               Name_x  \\\n",
       "0   AADR  AdvisorShares Dorsey Wright ADR ETF   \n",
       "1   ABFL               Abacus FCF Leaders ETF   \n",
       "2   ACWI                iShares MSCI ACWI ETF   \n",
       "3   ADME    Aptus Drawdown Managed Equity ETF   \n",
       "4    AIA                  iShares Asia 50 ETF   \n",
       "\n",
       "                                             Sectors        Date  \\\n",
       "0  {'realestate': 0.0, 'consumer_cyclical': 0.118...  2025-06-02   \n",
       "1  {'realestate': 0.0, 'consumer_cyclical': 0.118...  2025-06-02   \n",
       "2  {'realestate': 0.0216, 'consumer_cyclical': 0....  2025-06-02   \n",
       "3  {'realestate': 0.0222, 'consumer_cyclical': 0....  2025-05-02   \n",
       "4  {'realestate': 0.0047999998, 'consumer_cyclica...  2025-06-02   \n",
       "\n",
       "                                Name_y   Sector Industry  Country  Website  \\\n",
       "0  AdvisorShares Dorsey Wright ADR ETF  Unknown  Unknown  Unknown  Unknown   \n",
       "1               Abacus FCF Leaders ETF  Unknown  Unknown  Unknown  Unknown   \n",
       "2                iShares MSCI ACWI ETF  Unknown  Unknown  Unknown  Unknown   \n",
       "3    Aptus Drawdown Managed Equity ETF  Unknown  Unknown  Unknown  Unknown   \n",
       "4                  iShares Asia 50 ETF  Unknown  Unknown  Unknown  Unknown   \n",
       "\n",
       "   Market Cap  ...  Dividend Rate (%)  5Y Avg Dividend Yield (%)  \\\n",
       "0         0.0  ...                0.0                        0.0   \n",
       "1         0.0  ...                0.0                        0.0   \n",
       "2         0.0  ...                0.0                        0.0   \n",
       "3         0.0  ...                0.0                        0.0   \n",
       "4         0.0  ...                0.0                        0.0   \n",
       "\n",
       "   Payout Ratio (%)   Price  Analyst Rating  52W High  52W Low  50 Day Avg  \\\n",
       "0               0.0   77.58         Unknown     81.17    54.57       74.66   \n",
       "1               0.0   69.15         Unknown     71.28    55.40       64.73   \n",
       "2               0.0  123.65         Unknown    124.54   101.25      117.25   \n",
       "3               0.0   44.46         Unknown     48.56    39.85       44.34   \n",
       "4               0.0   74.67         Unknown     77.87    59.33       71.89   \n",
       "\n",
       "   200 Day Avg                                  Sector Weightings  \n",
       "0        70.09  {\"realestate\": 0.0, \"consumer_cyclical\": 0.118...  \n",
       "1        66.17  {\"realestate\": 0.0, \"consumer_cyclical\": 0.118...  \n",
       "2       118.68  {\"realestate\": 0.0216, \"consumer_cyclical\": 0....  \n",
       "3        45.90  {\"realestate\": 0.0222, \"consumer_cyclical\": 0....  \n",
       "4        71.02  {\"realestate\": 0.0047999998, \"consumer_cyclica...  \n",
       "\n",
       "[5 rows x 26 columns]"
      ]
     },
     "metadata": {},
     "output_type": "display_data"
    }
   ],
   "source": [
    "# fundamentals_df = fetch_fundamentals(tickers) # Download fundamentals data for the tickers\n",
    "fundamentals_df = pd.read_csv(\"data/fundamentals_benchmark.csv\",index_col=\"Ticker\").query(\"Ticker in @tickers\") # Import the fundamentals data from a CSV file\n",
    "\n",
    "# Set the index name\n",
    "fundamentals_df.index.name = \"Symbol\"\n",
    "\n",
    "# Move the index into a column\n",
    "fundamentals_df = fundamentals_df.reset_index()\n",
    "\n",
    "# Perform the merge\n",
    "merged_df = pd.merge(filtered_sectors_df, fundamentals_df, on='Symbol', how='inner').dropna(how='all', axis=1)\n",
    "\n",
    "# Display the merged DataFrame\n",
    "display(merged_df.head())"
   ]
  },
  {
   "cell_type": "markdown",
   "id": "f0672a0d",
   "metadata": {},
   "source": [
    "#### Filter for the P/E (Trailling) Similar to Portfolio Weighted Average P/E"
   ]
  },
  {
   "cell_type": "code",
   "execution_count": 9,
   "id": "8e97edd6",
   "metadata": {
    "execution": {
     "iopub.execute_input": "2025-06-02T13:28:31.006793Z",
     "iopub.status.busy": "2025-06-02T13:28:31.006305Z",
     "iopub.status.idle": "2025-06-02T13:28:31.031205Z",
     "shell.execute_reply": "2025-06-02T13:28:31.030070Z"
    }
   },
   "outputs": [
    {
     "name": "stdout",
     "output_type": "stream",
     "text": [
      "Portfolio Weighted Average P/E (trailing): 22.31757320797221\n",
      "Lower Bound: 17.85405856637777\n",
      "Upper Bound: 26.78108784956665\n",
      "Number of benchmarks after filtering by P/E (trailing): 139\n"
     ]
    },
    {
     "data": {
      "application/vnd.microsoft.datawrangler.viewer.v0+json": {
       "columns": [
        {
         "name": "index",
         "rawType": "int64",
         "type": "integer"
        },
        {
         "name": "Symbol",
         "rawType": "object",
         "type": "string"
        },
        {
         "name": "Name_x",
         "rawType": "object",
         "type": "string"
        },
        {
         "name": "Sectors",
         "rawType": "object",
         "type": "unknown"
        },
        {
         "name": "Date",
         "rawType": "object",
         "type": "string"
        },
        {
         "name": "Name_y",
         "rawType": "object",
         "type": "string"
        },
        {
         "name": "Sector",
         "rawType": "object",
         "type": "string"
        },
        {
         "name": "Industry",
         "rawType": "object",
         "type": "string"
        },
        {
         "name": "Country",
         "rawType": "object",
         "type": "string"
        },
        {
         "name": "Website",
         "rawType": "object",
         "type": "string"
        },
        {
         "name": "Market Cap",
         "rawType": "float64",
         "type": "float"
        },
        {
         "name": "Shares Outstanding",
         "rawType": "float64",
         "type": "float"
        },
        {
         "name": "P/E (trailing)",
         "rawType": "float64",
         "type": "float"
        },
        {
         "name": "P/E (forward)",
         "rawType": "float64",
         "type": "float"
        },
        {
         "name": "P/B",
         "rawType": "float64",
         "type": "float"
        },
        {
         "name": "Book Value",
         "rawType": "float64",
         "type": "float"
        },
        {
         "name": "Dividend Yield (%)",
         "rawType": "float64",
         "type": "float"
        },
        {
         "name": "Dividend Rate (%)",
         "rawType": "float64",
         "type": "float"
        },
        {
         "name": "5Y Avg Dividend Yield (%)",
         "rawType": "float64",
         "type": "float"
        },
        {
         "name": "Payout Ratio (%)",
         "rawType": "float64",
         "type": "float"
        },
        {
         "name": "Price",
         "rawType": "float64",
         "type": "float"
        },
        {
         "name": "Analyst Rating",
         "rawType": "object",
         "type": "string"
        },
        {
         "name": "52W High",
         "rawType": "float64",
         "type": "float"
        },
        {
         "name": "52W Low",
         "rawType": "float64",
         "type": "float"
        },
        {
         "name": "50 Day Avg",
         "rawType": "float64",
         "type": "float"
        },
        {
         "name": "200 Day Avg",
         "rawType": "float64",
         "type": "float"
        },
        {
         "name": "Sector Weightings",
         "rawType": "object",
         "type": "string"
        }
       ],
       "ref": "786a8f94-7379-499e-91b5-f762cb01e95a",
       "rows": [
        [
         "2",
         "ACWI",
         "iShares MSCI ACWI ETF",
         "{'realestate': 0.0216, 'consumer_cyclical': 0.1039, 'basic_materials': 0.0346, 'consumer_defensive': 0.0641, 'technology': 0.2491, 'communication_services': 0.084, 'financial_services': 0.1752, 'utilities': 0.0269, 'industrials': 0.1021, 'energy': 0.0375, 'healthcare': 0.1012}",
         "2025-06-02",
         "iShares MSCI ACWI ETF",
         "Unknown",
         "Unknown",
         "Unknown",
         "Unknown",
         "0.0",
         null,
         "21.39",
         null,
         null,
         null,
         "0.0171",
         "0.0",
         "0.0",
         "0.0",
         "123.65",
         "Unknown",
         "124.54",
         "101.25",
         "117.25",
         "118.68",
         "{\"realestate\": 0.0216, \"consumer_cyclical\": 0.1039, \"basic_materials\": 0.0346, \"consumer_defensive\": 0.0641, \"technology\": 0.2491, \"communication_services\": 0.084, \"financial_services\": 0.1752, \"utilities\": 0.0269, \"industrials\": 0.1021, \"energy\": 0.0375, \"healthcare\": 0.1012}"
        ],
        [
         "3",
         "ADME",
         "Aptus Drawdown Managed Equity ETF",
         "{'realestate': 0.0222, 'consumer_cyclical': 0.1022, 'basic_materials': 0.0222, 'consumer_defensive': 0.0608, 'technology': 0.3147, 'communication_services': 0.091800004, 'financial_services': 0.1384, 'utilities': 0.0254, 'industrials': 0.0746, 'energy': 0.0357, 'healthcare': 0.111899994}",
         "2025-05-02",
         "Aptus Drawdown Managed Equity ETF",
         "Unknown",
         "Unknown",
         "Unknown",
         "Unknown",
         "0.0",
         null,
         "25.43",
         null,
         null,
         null,
         "0.0047",
         "0.0",
         "0.0",
         "0.0",
         "44.46",
         "Unknown",
         "48.56",
         "39.85",
         "44.34",
         "45.9",
         "{\"realestate\": 0.0222, \"consumer_cyclical\": 0.1022, \"basic_materials\": 0.0222, \"consumer_defensive\": 0.0608, \"technology\": 0.3147, \"communication_services\": 0.091800004, \"financial_services\": 0.1384, \"utilities\": 0.0254, \"industrials\": 0.0746, \"energy\": 0.0357, \"healthcare\": 0.111899994}"
        ],
        [
         "6",
         "AOA",
         "iShares Core 80/20 Aggressive Allocation ETF",
         "{'realestate': 0.0279, 'consumer_cyclical': 0.106000006, 'basic_materials': 0.039300002, 'consumer_defensive': 0.0616, 'technology': 0.2305, 'communication_services': 0.0776, 'financial_services': 0.1762, 'utilities': 0.0278, 'industrials': 0.1101, 'energy': 0.0417, 'healthcare': 0.1012}",
         "2025-05-02",
         "iShares Core 80/20 Aggressive Allocation ETF",
         "Unknown",
         "Unknown",
         "Unknown",
         "Unknown",
         "0.0",
         null,
         "20.15",
         null,
         null,
         null,
         "0.023",
         "0.0",
         "0.0",
         "0.0",
         "77.74",
         "Unknown",
         "80.2",
         "68.45",
         "76.13",
         "77.15",
         "{\"realestate\": 0.0279, \"consumer_cyclical\": 0.106000006, \"basic_materials\": 0.039300002, \"consumer_defensive\": 0.0616, \"technology\": 0.2305, \"communication_services\": 0.0776, \"financial_services\": 0.1762, \"utilities\": 0.0278, \"industrials\": 0.1101, \"energy\": 0.0417, \"healthcare\": 0.1012}"
        ],
        [
         "7",
         "AOK",
         "iShares Core 30/70 Conservative Allocation ETF",
         "{'realestate': 0.027999999, 'consumer_cyclical': 0.1066, 'basic_materials': 0.038399998, 'consumer_defensive': 0.0633, 'technology': 0.2353, 'communication_services': 0.078600004, 'financial_services': 0.1749, 'utilities': 0.0277, 'industrials': 0.1105, 'energy': 0.038, 'healthcare': 0.0988}",
         "2025-06-02",
         "iShares Core 30/70 Conservative Allocation ETF",
         "Unknown",
         "Unknown",
         "Unknown",
         "Unknown",
         "0.0",
         null,
         "19.91",
         null,
         null,
         null,
         "0.033",
         "0.0",
         "0.0",
         "0.0",
         "38.21",
         "Unknown",
         "38.77",
         "35.79",
         "37.53",
         "37.84",
         "{\"realestate\": 0.027999999, \"consumer_cyclical\": 0.1066, \"basic_materials\": 0.038399998, \"consumer_defensive\": 0.0633, \"technology\": 0.2353, \"communication_services\": 0.078600004, \"financial_services\": 0.1749, \"utilities\": 0.0277, \"industrials\": 0.1105, \"energy\": 0.038, \"healthcare\": 0.0988}"
        ],
        [
         "8",
         "AOM",
         "iShares Core 40/60 Moderate Allocation ETF",
         "{'realestate': 0.027999999, 'consumer_cyclical': 0.1066, 'basic_materials': 0.038399998, 'consumer_defensive': 0.0633, 'technology': 0.2353, 'communication_services': 0.078600004, 'financial_services': 0.1749, 'utilities': 0.0277, 'industrials': 0.1105, 'energy': 0.038, 'healthcare': 0.0988}",
         "2025-06-02",
         "iShares Core 40/60 Moderate Allocation ETF",
         "Unknown",
         "Unknown",
         "Unknown",
         "Unknown",
         "0.0",
         null,
         "20.07",
         null,
         null,
         null,
         "0.0313",
         "0.0",
         "0.0",
         "0.0",
         "44.78",
         "Unknown",
         "45.31",
         "41.2",
         "43.73",
         "44.12",
         "{\"realestate\": 0.027999999, \"consumer_cyclical\": 0.1066, \"basic_materials\": 0.038399998, \"consumer_defensive\": 0.0633, \"technology\": 0.2353, \"communication_services\": 0.078600004, \"financial_services\": 0.1749, \"utilities\": 0.0277, \"industrials\": 0.1105, \"energy\": 0.038, \"healthcare\": 0.0988}"
        ]
       ],
       "shape": {
        "columns": 26,
        "rows": 5
       }
      },
      "text/html": [
       "<div>\n",
       "<style scoped>\n",
       "    .dataframe tbody tr th:only-of-type {\n",
       "        vertical-align: middle;\n",
       "    }\n",
       "\n",
       "    .dataframe tbody tr th {\n",
       "        vertical-align: top;\n",
       "    }\n",
       "\n",
       "    .dataframe thead th {\n",
       "        text-align: right;\n",
       "    }\n",
       "</style>\n",
       "<table border=\"1\" class=\"dataframe\">\n",
       "  <thead>\n",
       "    <tr style=\"text-align: right;\">\n",
       "      <th></th>\n",
       "      <th>Symbol</th>\n",
       "      <th>Name_x</th>\n",
       "      <th>Sectors</th>\n",
       "      <th>Date</th>\n",
       "      <th>Name_y</th>\n",
       "      <th>Sector</th>\n",
       "      <th>Industry</th>\n",
       "      <th>Country</th>\n",
       "      <th>Website</th>\n",
       "      <th>Market Cap</th>\n",
       "      <th>...</th>\n",
       "      <th>Dividend Rate (%)</th>\n",
       "      <th>5Y Avg Dividend Yield (%)</th>\n",
       "      <th>Payout Ratio (%)</th>\n",
       "      <th>Price</th>\n",
       "      <th>Analyst Rating</th>\n",
       "      <th>52W High</th>\n",
       "      <th>52W Low</th>\n",
       "      <th>50 Day Avg</th>\n",
       "      <th>200 Day Avg</th>\n",
       "      <th>Sector Weightings</th>\n",
       "    </tr>\n",
       "  </thead>\n",
       "  <tbody>\n",
       "    <tr>\n",
       "      <th>2</th>\n",
       "      <td>ACWI</td>\n",
       "      <td>iShares MSCI ACWI ETF</td>\n",
       "      <td>{'realestate': 0.0216, 'consumer_cyclical': 0....</td>\n",
       "      <td>2025-06-02</td>\n",
       "      <td>iShares MSCI ACWI ETF</td>\n",
       "      <td>Unknown</td>\n",
       "      <td>Unknown</td>\n",
       "      <td>Unknown</td>\n",
       "      <td>Unknown</td>\n",
       "      <td>0.0</td>\n",
       "      <td>...</td>\n",
       "      <td>0.0</td>\n",
       "      <td>0.0</td>\n",
       "      <td>0.0</td>\n",
       "      <td>123.65</td>\n",
       "      <td>Unknown</td>\n",
       "      <td>124.54</td>\n",
       "      <td>101.25</td>\n",
       "      <td>117.25</td>\n",
       "      <td>118.68</td>\n",
       "      <td>{\"realestate\": 0.0216, \"consumer_cyclical\": 0....</td>\n",
       "    </tr>\n",
       "    <tr>\n",
       "      <th>3</th>\n",
       "      <td>ADME</td>\n",
       "      <td>Aptus Drawdown Managed Equity ETF</td>\n",
       "      <td>{'realestate': 0.0222, 'consumer_cyclical': 0....</td>\n",
       "      <td>2025-05-02</td>\n",
       "      <td>Aptus Drawdown Managed Equity ETF</td>\n",
       "      <td>Unknown</td>\n",
       "      <td>Unknown</td>\n",
       "      <td>Unknown</td>\n",
       "      <td>Unknown</td>\n",
       "      <td>0.0</td>\n",
       "      <td>...</td>\n",
       "      <td>0.0</td>\n",
       "      <td>0.0</td>\n",
       "      <td>0.0</td>\n",
       "      <td>44.46</td>\n",
       "      <td>Unknown</td>\n",
       "      <td>48.56</td>\n",
       "      <td>39.85</td>\n",
       "      <td>44.34</td>\n",
       "      <td>45.90</td>\n",
       "      <td>{\"realestate\": 0.0222, \"consumer_cyclical\": 0....</td>\n",
       "    </tr>\n",
       "    <tr>\n",
       "      <th>6</th>\n",
       "      <td>AOA</td>\n",
       "      <td>iShares Core 80/20 Aggressive Allocation ETF</td>\n",
       "      <td>{'realestate': 0.0279, 'consumer_cyclical': 0....</td>\n",
       "      <td>2025-05-02</td>\n",
       "      <td>iShares Core 80/20 Aggressive Allocation ETF</td>\n",
       "      <td>Unknown</td>\n",
       "      <td>Unknown</td>\n",
       "      <td>Unknown</td>\n",
       "      <td>Unknown</td>\n",
       "      <td>0.0</td>\n",
       "      <td>...</td>\n",
       "      <td>0.0</td>\n",
       "      <td>0.0</td>\n",
       "      <td>0.0</td>\n",
       "      <td>77.74</td>\n",
       "      <td>Unknown</td>\n",
       "      <td>80.20</td>\n",
       "      <td>68.45</td>\n",
       "      <td>76.13</td>\n",
       "      <td>77.15</td>\n",
       "      <td>{\"realestate\": 0.0279, \"consumer_cyclical\": 0....</td>\n",
       "    </tr>\n",
       "    <tr>\n",
       "      <th>7</th>\n",
       "      <td>AOK</td>\n",
       "      <td>iShares Core 30/70 Conservative Allocation ETF</td>\n",
       "      <td>{'realestate': 0.027999999, 'consumer_cyclical...</td>\n",
       "      <td>2025-06-02</td>\n",
       "      <td>iShares Core 30/70 Conservative Allocation ETF</td>\n",
       "      <td>Unknown</td>\n",
       "      <td>Unknown</td>\n",
       "      <td>Unknown</td>\n",
       "      <td>Unknown</td>\n",
       "      <td>0.0</td>\n",
       "      <td>...</td>\n",
       "      <td>0.0</td>\n",
       "      <td>0.0</td>\n",
       "      <td>0.0</td>\n",
       "      <td>38.21</td>\n",
       "      <td>Unknown</td>\n",
       "      <td>38.77</td>\n",
       "      <td>35.79</td>\n",
       "      <td>37.53</td>\n",
       "      <td>37.84</td>\n",
       "      <td>{\"realestate\": 0.027999999, \"consumer_cyclical...</td>\n",
       "    </tr>\n",
       "    <tr>\n",
       "      <th>8</th>\n",
       "      <td>AOM</td>\n",
       "      <td>iShares Core 40/60 Moderate Allocation ETF</td>\n",
       "      <td>{'realestate': 0.027999999, 'consumer_cyclical...</td>\n",
       "      <td>2025-06-02</td>\n",
       "      <td>iShares Core 40/60 Moderate Allocation ETF</td>\n",
       "      <td>Unknown</td>\n",
       "      <td>Unknown</td>\n",
       "      <td>Unknown</td>\n",
       "      <td>Unknown</td>\n",
       "      <td>0.0</td>\n",
       "      <td>...</td>\n",
       "      <td>0.0</td>\n",
       "      <td>0.0</td>\n",
       "      <td>0.0</td>\n",
       "      <td>44.78</td>\n",
       "      <td>Unknown</td>\n",
       "      <td>45.31</td>\n",
       "      <td>41.20</td>\n",
       "      <td>43.73</td>\n",
       "      <td>44.12</td>\n",
       "      <td>{\"realestate\": 0.027999999, \"consumer_cyclical...</td>\n",
       "    </tr>\n",
       "  </tbody>\n",
       "</table>\n",
       "<p>5 rows × 26 columns</p>\n",
       "</div>"
      ],
      "text/plain": [
       "  Symbol                                          Name_x  \\\n",
       "2   ACWI                           iShares MSCI ACWI ETF   \n",
       "3   ADME               Aptus Drawdown Managed Equity ETF   \n",
       "6    AOA    iShares Core 80/20 Aggressive Allocation ETF   \n",
       "7    AOK  iShares Core 30/70 Conservative Allocation ETF   \n",
       "8    AOM      iShares Core 40/60 Moderate Allocation ETF   \n",
       "\n",
       "                                             Sectors        Date  \\\n",
       "2  {'realestate': 0.0216, 'consumer_cyclical': 0....  2025-06-02   \n",
       "3  {'realestate': 0.0222, 'consumer_cyclical': 0....  2025-05-02   \n",
       "6  {'realestate': 0.0279, 'consumer_cyclical': 0....  2025-05-02   \n",
       "7  {'realestate': 0.027999999, 'consumer_cyclical...  2025-06-02   \n",
       "8  {'realestate': 0.027999999, 'consumer_cyclical...  2025-06-02   \n",
       "\n",
       "                                           Name_y   Sector Industry  Country  \\\n",
       "2                           iShares MSCI ACWI ETF  Unknown  Unknown  Unknown   \n",
       "3               Aptus Drawdown Managed Equity ETF  Unknown  Unknown  Unknown   \n",
       "6    iShares Core 80/20 Aggressive Allocation ETF  Unknown  Unknown  Unknown   \n",
       "7  iShares Core 30/70 Conservative Allocation ETF  Unknown  Unknown  Unknown   \n",
       "8      iShares Core 40/60 Moderate Allocation ETF  Unknown  Unknown  Unknown   \n",
       "\n",
       "   Website  Market Cap  ...  Dividend Rate (%)  5Y Avg Dividend Yield (%)  \\\n",
       "2  Unknown         0.0  ...                0.0                        0.0   \n",
       "3  Unknown         0.0  ...                0.0                        0.0   \n",
       "6  Unknown         0.0  ...                0.0                        0.0   \n",
       "7  Unknown         0.0  ...                0.0                        0.0   \n",
       "8  Unknown         0.0  ...                0.0                        0.0   \n",
       "\n",
       "   Payout Ratio (%)   Price  Analyst Rating  52W High  52W Low  50 Day Avg  \\\n",
       "2               0.0  123.65         Unknown    124.54   101.25      117.25   \n",
       "3               0.0   44.46         Unknown     48.56    39.85       44.34   \n",
       "6               0.0   77.74         Unknown     80.20    68.45       76.13   \n",
       "7               0.0   38.21         Unknown     38.77    35.79       37.53   \n",
       "8               0.0   44.78         Unknown     45.31    41.20       43.73   \n",
       "\n",
       "   200 Day Avg                                  Sector Weightings  \n",
       "2       118.68  {\"realestate\": 0.0216, \"consumer_cyclical\": 0....  \n",
       "3        45.90  {\"realestate\": 0.0222, \"consumer_cyclical\": 0....  \n",
       "6        77.15  {\"realestate\": 0.0279, \"consumer_cyclical\": 0....  \n",
       "7        37.84  {\"realestate\": 0.027999999, \"consumer_cyclical...  \n",
       "8        44.12  {\"realestate\": 0.027999999, \"consumer_cyclical...  \n",
       "\n",
       "[5 rows x 26 columns]"
      ]
     },
     "metadata": {},
     "output_type": "display_data"
    }
   ],
   "source": [
    "# Step 1: Calculate the weighted average of P/E (trailing) in portfolio_df\n",
    "weighted_average_pe = (portfolio_df[\"Weight\"] * portfolio_df[\"P/E (trailing)\"]).sum()\n",
    "\n",
    "# Step 2: Calculate the 20% threshold range\n",
    "lower_bound = weighted_average_pe * 0.8  # 20% below the weighted average\n",
    "upper_bound = weighted_average_pe * 1.2  # 2% above the weighted average\n",
    "\n",
    "# Step 3: Filter merged_df based on the P/E (trailing) column\n",
    "filtered_merged_df = merged_df[\n",
    "    (merged_df[\"P/E (trailing)\"] >= lower_bound) & \n",
    "    (merged_df[\"P/E (trailing)\"] <= upper_bound)\n",
    "]\n",
    "\n",
    "filtered_sectors_df = filtered_merged_df.copy().dropna(how='all')\n",
    "tickers = filtered_sectors_df[\"Symbol\"].tolist()\n",
    "\n",
    "# Display the filtered DataFrame\n",
    "print(\"Portfolio Weighted Average P/E (trailing):\", weighted_average_pe)\n",
    "print(\"Lower Bound:\", lower_bound)\n",
    "print(\"Upper Bound:\", upper_bound)\n",
    "print(\"Number of benchmarks after filtering by P/E (trailing):\", len(filtered_merged_df))\n",
    "display(filtered_sectors_df.head())"
   ]
  },
  {
   "cell_type": "markdown",
   "id": "b050f311",
   "metadata": {},
   "source": [
    "### Step 6: Import Quotes"
   ]
  },
  {
   "cell_type": "markdown",
   "id": "bedd1a61",
   "metadata": {},
   "source": [
    "#### Benchmark Tickers"
   ]
  },
  {
   "cell_type": "code",
   "execution_count": 10,
   "id": "c6cc3457",
   "metadata": {
    "execution": {
     "iopub.execute_input": "2025-06-02T13:28:31.035256Z",
     "iopub.status.busy": "2025-06-02T13:28:31.034942Z",
     "iopub.status.idle": "2025-06-02T13:28:31.195787Z",
     "shell.execute_reply": "2025-06-02T13:28:31.194847Z"
    }
   },
   "outputs": [
    {
     "name": "stdout",
     "output_type": "stream",
     "text": [
      "Found 127 of 139 tickers in data/daily_benchmark_quotes.csv\n",
      "Missing tickers: ['AOA', 'CZA', 'EMQQ', 'FNDA', 'IJK', 'ILCB', 'IVOG', 'IYY', 'MDYG', 'MOAT', 'UPGD', 'VIS']\n",
      "Found 127 of 139 tickers in data/monthly_benchmark_quotes.csv\n",
      "Missing tickers: ['AOA', 'CZA', 'EMQQ', 'FNDA', 'IJK', 'ILCB', 'IVOG', 'IYY', 'MDYG', 'MOAT', 'UPGD', 'VIS']\n"
     ]
    },
    {
     "data": {
      "application/vnd.microsoft.datawrangler.viewer.v0+json": {
       "columns": [
        {
         "name": "Date",
         "rawType": "datetime64[ns]",
         "type": "datetime"
        },
        {
         "name": "ACWI",
         "rawType": "float64",
         "type": "float"
        },
        {
         "name": "ADME",
         "rawType": "float64",
         "type": "float"
        },
        {
         "name": "AOK",
         "rawType": "float64",
         "type": "float"
        },
        {
         "name": "AOM",
         "rawType": "float64",
         "type": "float"
        },
        {
         "name": "AOR",
         "rawType": "float64",
         "type": "float"
        },
        {
         "name": "BAPR",
         "rawType": "float64",
         "type": "float"
        },
        {
         "name": "BBUS",
         "rawType": "float64",
         "type": "float"
        },
        {
         "name": "BJAN",
         "rawType": "float64",
         "type": "float"
        },
        {
         "name": "BJUL",
         "rawType": "float64",
         "type": "float"
        },
        {
         "name": "BOCT",
         "rawType": "float64",
         "type": "float"
        },
        {
         "name": "CEFS",
         "rawType": "float64",
         "type": "float"
        },
        {
         "name": "CRBN",
         "rawType": "float64",
         "type": "float"
        },
        {
         "name": "DBEU",
         "rawType": "float64",
         "type": "float"
        },
        {
         "name": "DDIV",
         "rawType": "float64",
         "type": "float"
        },
        {
         "name": "DEUS",
         "rawType": "float64",
         "type": "float"
        },
        {
         "name": "DGRO",
         "rawType": "float64",
         "type": "float"
        },
        {
         "name": "DGRW",
         "rawType": "float64",
         "type": "float"
        },
        {
         "name": "DIA",
         "rawType": "float64",
         "type": "float"
        },
        {
         "name": "DIVB",
         "rawType": "float64",
         "type": "float"
        },
        {
         "name": "DIVO",
         "rawType": "float64",
         "type": "float"
        },
        {
         "name": "DLN",
         "rawType": "float64",
         "type": "float"
        },
        {
         "name": "DTD",
         "rawType": "float64",
         "type": "float"
        },
        {
         "name": "DWAT",
         "rawType": "float64",
         "type": "float"
        },
        {
         "name": "DYNF",
         "rawType": "float64",
         "type": "float"
        },
        {
         "name": "EPI",
         "rawType": "float64",
         "type": "float"
        },
        {
         "name": "EPS",
         "rawType": "float64",
         "type": "float"
        },
        {
         "name": "EQIN",
         "rawType": "float64",
         "type": "float"
        },
        {
         "name": "EQL",
         "rawType": "float64",
         "type": "float"
        },
        {
         "name": "EQWL",
         "rawType": "float64",
         "type": "float"
        },
        {
         "name": "ESGG",
         "rawType": "float64",
         "type": "float"
        },
        {
         "name": "ETHO",
         "rawType": "float64",
         "type": "float"
        },
        {
         "name": "EUSA",
         "rawType": "float64",
         "type": "float"
        },
        {
         "name": "EWD",
         "rawType": "float64",
         "type": "float"
        },
        {
         "name": "EWL",
         "rawType": "float64",
         "type": "float"
        },
        {
         "name": "FAD",
         "rawType": "float64",
         "type": "float"
        },
        {
         "name": "FCEF",
         "rawType": "float64",
         "type": "float"
        },
        {
         "name": "FDIS",
         "rawType": "float64",
         "type": "float"
        },
        {
         "name": "FIDU",
         "rawType": "float64",
         "type": "float"
        },
        {
         "name": "FNDB",
         "rawType": "float64",
         "type": "float"
        },
        {
         "name": "FNDX",
         "rawType": "float64",
         "type": "float"
        },
        {
         "name": "FNY",
         "rawType": "float64",
         "type": "float"
        },
        {
         "name": "FTLS",
         "rawType": "float64",
         "type": "float"
        },
        {
         "name": "FV",
         "rawType": "float64",
         "type": "float"
        },
        {
         "name": "FVAL",
         "rawType": "float64",
         "type": "float"
        },
        {
         "name": "FYC",
         "rawType": "float64",
         "type": "float"
        },
        {
         "name": "GLOF",
         "rawType": "float64",
         "type": "float"
        },
        {
         "name": "GVIP",
         "rawType": "float64",
         "type": "float"
        },
        {
         "name": "HTUS",
         "rawType": "float64",
         "type": "float"
        },
        {
         "name": "IDHQ",
         "rawType": "float64",
         "type": "float"
        },
        {
         "name": "IDMO",
         "rawType": "float64",
         "type": "float"
        },
        {
         "name": "IGF",
         "rawType": "float64",
         "type": "float"
        },
        {
         "name": "IHDG",
         "rawType": "float64",
         "type": "float"
        },
        {
         "name": "ILCV",
         "rawType": "float64",
         "type": "float"
        },
        {
         "name": "IMTM",
         "rawType": "float64",
         "type": "float"
        },
        {
         "name": "IOO",
         "rawType": "float64",
         "type": "float"
        },
        {
         "name": "IQLT",
         "rawType": "float64",
         "type": "float"
        },
        {
         "name": "ITOT",
         "rawType": "float64",
         "type": "float"
        },
        {
         "name": "IUS",
         "rawType": "float64",
         "type": "float"
        },
        {
         "name": "IUSV",
         "rawType": "float64",
         "type": "float"
        },
        {
         "name": "IVE",
         "rawType": "float64",
         "type": "float"
        },
        {
         "name": "IVV",
         "rawType": "float64",
         "type": "float"
        },
        {
         "name": "IWB",
         "rawType": "float64",
         "type": "float"
        },
        {
         "name": "IWL",
         "rawType": "float64",
         "type": "float"
        },
        {
         "name": "IWR",
         "rawType": "float64",
         "type": "float"
        },
        {
         "name": "JDIV",
         "rawType": "float64",
         "type": "float"
        },
        {
         "name": "JPME",
         "rawType": "float64",
         "type": "float"
        },
        {
         "name": "JQUA",
         "rawType": "float64",
         "type": "float"
        },
        {
         "name": "JSMD",
         "rawType": "float64",
         "type": "float"
        },
        {
         "name": "LRGF",
         "rawType": "float64",
         "type": "float"
        },
        {
         "name": "MAGA",
         "rawType": "float64",
         "type": "float"
        },
        {
         "name": "MFUS",
         "rawType": "float64",
         "type": "float"
        },
        {
         "name": "MGC",
         "rawType": "float64",
         "type": "float"
        },
        {
         "name": "MGV",
         "rawType": "float64",
         "type": "float"
        },
        {
         "name": "MMTM",
         "rawType": "float64",
         "type": "float"
        },
        {
         "name": "NACP",
         "rawType": "float64",
         "type": "float"
        },
        {
         "name": "OEF",
         "rawType": "float64",
         "type": "float"
        },
        {
         "name": "ONEO",
         "rawType": "float64",
         "type": "float"
        },
        {
         "name": "PBUS",
         "rawType": "float64",
         "type": "float"
        },
        {
         "name": "PCEF",
         "rawType": "float64",
         "type": "float"
        },
        {
         "name": "PFM",
         "rawType": "float64",
         "type": "float"
        },
        {
         "name": "PJUL",
         "rawType": "float64",
         "type": "float"
        },
        {
         "name": "POCT",
         "rawType": "float64",
         "type": "float"
        },
        {
         "name": "PRF",
         "rawType": "float64",
         "type": "float"
        },
        {
         "name": "QARP",
         "rawType": "float64",
         "type": "float"
        },
        {
         "name": "QDEF",
         "rawType": "float64",
         "type": "float"
        },
        {
         "name": "QDF",
         "rawType": "float64",
         "type": "float"
        },
        {
         "name": "QLC",
         "rawType": "float64",
         "type": "float"
        },
        {
         "name": "QMOM",
         "rawType": "float64",
         "type": "float"
        },
        {
         "name": "QUAL",
         "rawType": "float64",
         "type": "float"
        },
        {
         "name": "QUS",
         "rawType": "float64",
         "type": "float"
        },
        {
         "name": "QWLD",
         "rawType": "float64",
         "type": "float"
        },
        {
         "name": "ROUS",
         "rawType": "float64",
         "type": "float"
        },
        {
         "name": "RWL",
         "rawType": "float64",
         "type": "float"
        },
        {
         "name": "SCHX",
         "rawType": "float64",
         "type": "float"
        },
        {
         "name": "SIZE",
         "rawType": "float64",
         "type": "float"
        },
        {
         "name": "SMIN",
         "rawType": "float64",
         "type": "float"
        },
        {
         "name": "SPGM",
         "rawType": "float64",
         "type": "float"
        },
        {
         "name": "SPHB",
         "rawType": "float64",
         "type": "float"
        },
        {
         "name": "SPLG",
         "rawType": "float64",
         "type": "float"
        },
        {
         "name": "SPTM",
         "rawType": "float64",
         "type": "float"
        },
        {
         "name": "SPXV",
         "rawType": "float64",
         "type": "float"
        },
        {
         "name": "SPY",
         "rawType": "float64",
         "type": "float"
        },
        {
         "name": "SPYV",
         "rawType": "float64",
         "type": "float"
        },
        {
         "name": "SSPY",
         "rawType": "float64",
         "type": "float"
        },
        {
         "name": "SUSA",
         "rawType": "float64",
         "type": "float"
        },
        {
         "name": "TOK",
         "rawType": "float64",
         "type": "float"
        },
        {
         "name": "ULVM",
         "rawType": "float64",
         "type": "float"
        },
        {
         "name": "URTH",
         "rawType": "float64",
         "type": "float"
        },
        {
         "name": "USMC",
         "rawType": "float64",
         "type": "float"
        },
        {
         "name": "USMF",
         "rawType": "float64",
         "type": "float"
        },
        {
         "name": "VB",
         "rawType": "float64",
         "type": "float"
        },
        {
         "name": "VCR",
         "rawType": "float64",
         "type": "float"
        },
        {
         "name": "VFMO",
         "rawType": "float64",
         "type": "float"
        },
        {
         "name": "VO",
         "rawType": "float64",
         "type": "float"
        },
        {
         "name": "VONE",
         "rawType": "float64",
         "type": "float"
        },
        {
         "name": "VOO",
         "rawType": "float64",
         "type": "float"
        },
        {
         "name": "VOOV",
         "rawType": "float64",
         "type": "float"
        },
        {
         "name": "VT",
         "rawType": "float64",
         "type": "float"
        },
        {
         "name": "VTV",
         "rawType": "float64",
         "type": "float"
        },
        {
         "name": "VUSE",
         "rawType": "float64",
         "type": "float"
        },
        {
         "name": "VV",
         "rawType": "float64",
         "type": "float"
        },
        {
         "name": "VYM",
         "rawType": "float64",
         "type": "float"
        },
        {
         "name": "WOMN",
         "rawType": "float64",
         "type": "float"
        },
        {
         "name": "XRLV",
         "rawType": "float64",
         "type": "float"
        },
        {
         "name": "XSMO",
         "rawType": "float64",
         "type": "float"
        },
        {
         "name": "YLDE",
         "rawType": "float64",
         "type": "float"
        },
        {
         "name": "YYY",
         "rawType": "float64",
         "type": "float"
        }
       ],
       "ref": "be19784c-e4f1-406c-ad0a-35057c7cd1e6",
       "rows": [
        [
         "2015-07-01 00:00:00",
         "49.65",
         null,
         "25.55",
         "27.74",
         "31.89",
         null,
         null,
         null,
         null,
         null,
         null,
         "81.26",
         "20.81",
         "16.32",
         null,
         "20.92",
         "25.63",
         "144.59",
         null,
         null,
         "28.5",
         "28.67",
         "7.09",
         null,
         "19.21",
         "20.04",
         null,
         "45.84",
         "33.49",
         null,
         null,
         "38.4",
         "23.74",
         "28.19",
         "50.14",
         null,
         "29.02",
         "23.92",
         "8.09",
         "8.09",
         "30.49",
         "30.06",
         "23.99",
         null,
         "31.15",
         "19.73",
         null,
         "16.46",
         "16.52",
         "21.9",
         "30.71",
         "20.52",
         "32.72",
         "21.75",
         "31.67",
         "21.5",
         "40.76",
         null,
         "35.87",
         "74.44",
         "177.83",
         "100.52",
         "40.97",
         "36.92",
         null,
         null,
         null,
         null,
         "21.28",
         null,
         null,
         "60.66",
         "47.01",
         "78.71",
         null,
         "79.49",
         null,
         null,
         "10.44",
         "17.16",
         null,
         null,
         "14.91",
         null,
         "26.9",
         "27.85",
         null,
         null,
         "55.68",
         "49.83",
         "50.69",
         "20.82",
         "34.59",
         "7.09",
         "56.88",
         "30.06",
         "26.62",
         "28.21",
         "20.93",
         "22.24",
         null,
         "177.97",
         "19.76",
         "29.87",
         "37.46",
         "44.97",
         null,
         "62.02",
         null,
         null,
         "104.19",
         "113.86",
         null,
         "110.11",
         "82.8",
         "162.46",
         "71.48",
         "50.01",
         "65.47",
         "23.3",
         "81.86",
         "50.12",
         null,
         "21.44",
         "24.66",
         null,
         "7.33"
        ],
        [
         "2015-08-01 00:00:00",
         "46.27",
         null,
         "24.9",
         "26.93",
         "30.54",
         null,
         null,
         null,
         null,
         null,
         null,
         "76.17",
         "19.28",
         "15.27",
         null,
         "19.71",
         "24.06",
         "135.62",
         null,
         null,
         "26.81",
         "26.97",
         "6.66",
         null,
         "17.07",
         "18.8",
         null,
         "43.29",
         "31.18",
         null,
         null,
         "36.19",
         "22.47",
         "26.31",
         "47.27",
         null,
         "27.2",
         "22.68",
         "7.62",
         "7.62",
         "28.26",
         "29.0",
         "22.22",
         null,
         "29.18",
         "18.84",
         null,
         "16.24",
         "15.81",
         "20.11",
         "29.09",
         "18.99",
         "30.86",
         "20.4",
         "29.5",
         "19.83",
         "38.28",
         null,
         "33.81",
         "69.94",
         "166.9",
         "94.47",
         "38.36",
         "34.98",
         null,
         null,
         null,
         null,
         "20.05",
         null,
         null,
         "56.83",
         "44.15",
         "73.76",
         null,
         "74.2",
         null,
         null,
         "10.07",
         "16.29",
         null,
         null,
         "14.05",
         null,
         "25.47",
         "26.42",
         null,
         null,
         "52.67",
         "48.29",
         "47.78",
         "18.96",
         "32.54",
         "6.66",
         "53.7",
         "27.29",
         "25.23",
         "26.78",
         "19.7",
         "20.93",
         null,
         "167.12",
         "18.56",
         "28.25",
         "35.12",
         "41.85",
         null,
         "57.94",
         null,
         null,
         "98.12",
         "106.6",
         null,
         "104.44",
         "77.75",
         "152.49",
         "67.19",
         "46.69",
         "61.64",
         "22.28",
         "76.92",
         "47.28",
         null,
         "20.31",
         "23.29",
         null,
         "6.98"
        ],
        [
         "2015-09-01 00:00:00",
         "44.68",
         null,
         "24.73",
         "26.62",
         "29.97",
         null,
         null,
         null,
         null,
         null,
         null,
         "72.79",
         "18.59",
         "15.32",
         null,
         "19.38",
         "23.57",
         "133.78",
         null,
         null,
         "26.36",
         "26.5",
         "6.39",
         null,
         "17.4",
         "18.26",
         null,
         "42.08",
         "30.19",
         null,
         null,
         "34.58",
         "21.51",
         "25.29",
         "45.48",
         null,
         "26.75",
         "21.91",
         "7.41",
         "7.43",
         "27.39",
         "28.92",
         "20.87",
         null,
         "28.23",
         "18.21",
         null,
         "16.21",
         "15.26",
         "17.88",
         "28.39",
         "18.7",
         "30.15",
         "19.29",
         "28.69",
         "19.16",
         "37.28",
         null,
         "32.72",
         "67.97",
         "162.73",
         "91.82",
         "37.39",
         "33.71",
         null,
         null,
         null,
         null,
         "19.58",
         null,
         null,
         "55.42",
         "43.19",
         "71.37",
         null,
         "72.54",
         null,
         null,
         "9.85",
         "16.0",
         null,
         null,
         "13.64",
         null,
         "25.07",
         "25.75",
         "21.41",
         null,
         "51.99",
         "46.58",
         "47.35",
         "18.89",
         "31.69",
         "6.48",
         "52.63",
         "27.95",
         "24.8",
         "25.05",
         "18.99",
         "20.19",
         "16.9",
         "162.86",
         "17.96",
         "27.43",
         "34.38",
         "40.14",
         null,
         "55.88",
         null,
         null,
         "93.67",
         "104.91",
         null,
         "100.59",
         "75.62",
         "148.73",
         "65.24",
         "44.96",
         "60.08",
         "21.21",
         "74.82",
         "46.54",
         null,
         "19.89",
         "21.7",
         null,
         "6.74"
        ],
        [
         "2015-10-01 00:00:00",
         "48.1",
         null,
         "25.37",
         "27.42",
         "31.24",
         null,
         null,
         null,
         null,
         null,
         null,
         "78.9",
         "19.83",
         "15.94",
         null,
         "20.93",
         "25.67",
         "145.26",
         null,
         null,
         "28.5",
         "28.63",
         "6.67",
         null,
         "17.56",
         "19.92",
         null,
         "45.46",
         "32.85",
         null,
         null,
         "37.29",
         "22.34",
         "26.27",
         "48.3",
         null,
         "28.86",
         "23.85",
         "8.0",
         "8.02",
         "28.66",
         "30.15",
         "21.98",
         null,
         "29.94",
         "19.51",
         null,
         "16.17",
         "16.06",
         "20.14",
         "29.61",
         "20.08",
         "32.5",
         "20.21",
         "31.31",
         "20.7",
         "40.35",
         null,
         "35.17",
         "72.98",
         "176.53",
         "99.26",
         "40.72",
         "35.78",
         null,
         null,
         null,
         null,
         "20.82",
         null,
         null,
         "60.31",
         "46.56",
         "77.74",
         null,
         "79.43",
         null,
         null,
         "10.33",
         "17.16",
         null,
         null,
         "14.68",
         null,
         "26.92",
         "27.84",
         "23.03",
         null,
         "56.48",
         "51.12",
         "50.45",
         "20.26",
         "33.89",
         "7.01",
         "56.2",
         "28.55",
         "26.16",
         "27.65",
         "20.78",
         "21.94",
         "18.55",
         "176.71",
         "19.37",
         "29.38",
         "37.21",
         "43.23",
         null,
         "59.78",
         null,
         null,
         "98.98",
         "113.06",
         null,
         "106.6",
         "81.74",
         "161.3",
         "70.08",
         "48.23",
         "64.67",
         "22.56",
         "81.02",
         "50.46",
         null,
         "21.35",
         "22.79",
         null,
         "7.23"
        ],
        [
         "2015-11-01 00:00:00",
         "47.85",
         null,
         "25.28",
         "27.35",
         "31.24",
         null,
         null,
         null,
         null,
         null,
         null,
         "78.48",
         "20.23",
         "15.92",
         "21.9410237083",
         "20.93",
         "25.73",
         "146.34",
         null,
         null,
         "28.48",
         "28.64",
         "6.55",
         null,
         "17.34",
         "19.98",
         null,
         "45.54",
         "33.16",
         null,
         "23.13",
         "37.27",
         "22.43",
         "25.54",
         "48.71",
         null,
         "28.69",
         "24.18",
         "8.02",
         "8.02",
         "28.96",
         "30.61",
         "22.45",
         null,
         "30.89",
         "19.5",
         null,
         "16.28",
         "16.27",
         "19.68",
         "28.39",
         "20.55",
         "32.64",
         "20.18",
         "31.19",
         "20.51",
         "40.52",
         null,
         "35.39",
         "73.4",
         "177.22",
         "99.67",
         "40.97",
         "35.9",
         null,
         null,
         null,
         null,
         "20.93",
         null,
         null,
         "60.55",
         "46.82",
         "78.59",
         null,
         "79.7",
         null,
         null,
         "10.2",
         "17.16",
         null,
         null,
         "14.72",
         null,
         "26.71",
         "27.76",
         "23.07",
         null,
         "56.73",
         "50.68",
         "50.03",
         "20.44",
         "34.0",
         "7.04",
         "56.53",
         "28.44",
         "26.01",
         "27.77",
         "20.79",
         "22.03",
         "18.66",
         "177.36",
         "19.48",
         "29.58",
         "37.32",
         "42.93",
         null,
         "59.94",
         null,
         null,
         "100.76",
         "112.53",
         null,
         "106.92",
         "82.06",
         "161.99",
         "70.49",
         "48.19",
         "65.02",
         "23.0",
         "81.3",
         "50.57",
         null,
         "21.78",
         "23.9",
         null,
         "7.01"
        ]
       ],
       "shape": {
        "columns": 127,
        "rows": 5
       }
      },
      "text/html": [
       "<div>\n",
       "<style scoped>\n",
       "    .dataframe tbody tr th:only-of-type {\n",
       "        vertical-align: middle;\n",
       "    }\n",
       "\n",
       "    .dataframe tbody tr th {\n",
       "        vertical-align: top;\n",
       "    }\n",
       "\n",
       "    .dataframe thead th {\n",
       "        text-align: right;\n",
       "    }\n",
       "</style>\n",
       "<table border=\"1\" class=\"dataframe\">\n",
       "  <thead>\n",
       "    <tr style=\"text-align: right;\">\n",
       "      <th></th>\n",
       "      <th>ACWI</th>\n",
       "      <th>ADME</th>\n",
       "      <th>AOK</th>\n",
       "      <th>AOM</th>\n",
       "      <th>AOR</th>\n",
       "      <th>BAPR</th>\n",
       "      <th>BBUS</th>\n",
       "      <th>BJAN</th>\n",
       "      <th>BJUL</th>\n",
       "      <th>BOCT</th>\n",
       "      <th>...</th>\n",
       "      <th>VT</th>\n",
       "      <th>VTV</th>\n",
       "      <th>VUSE</th>\n",
       "      <th>VV</th>\n",
       "      <th>VYM</th>\n",
       "      <th>WOMN</th>\n",
       "      <th>XRLV</th>\n",
       "      <th>XSMO</th>\n",
       "      <th>YLDE</th>\n",
       "      <th>YYY</th>\n",
       "    </tr>\n",
       "    <tr>\n",
       "      <th>Date</th>\n",
       "      <th></th>\n",
       "      <th></th>\n",
       "      <th></th>\n",
       "      <th></th>\n",
       "      <th></th>\n",
       "      <th></th>\n",
       "      <th></th>\n",
       "      <th></th>\n",
       "      <th></th>\n",
       "      <th></th>\n",
       "      <th></th>\n",
       "      <th></th>\n",
       "      <th></th>\n",
       "      <th></th>\n",
       "      <th></th>\n",
       "      <th></th>\n",
       "      <th></th>\n",
       "      <th></th>\n",
       "      <th></th>\n",
       "      <th></th>\n",
       "      <th></th>\n",
       "    </tr>\n",
       "  </thead>\n",
       "  <tbody>\n",
       "    <tr>\n",
       "      <th>2015-07-01</th>\n",
       "      <td>49.65</td>\n",
       "      <td>NaN</td>\n",
       "      <td>25.55</td>\n",
       "      <td>27.74</td>\n",
       "      <td>31.89</td>\n",
       "      <td>NaN</td>\n",
       "      <td>NaN</td>\n",
       "      <td>NaN</td>\n",
       "      <td>NaN</td>\n",
       "      <td>NaN</td>\n",
       "      <td>...</td>\n",
       "      <td>50.01</td>\n",
       "      <td>65.47</td>\n",
       "      <td>23.30</td>\n",
       "      <td>81.86</td>\n",
       "      <td>50.12</td>\n",
       "      <td>NaN</td>\n",
       "      <td>21.44</td>\n",
       "      <td>24.66</td>\n",
       "      <td>NaN</td>\n",
       "      <td>7.33</td>\n",
       "    </tr>\n",
       "    <tr>\n",
       "      <th>2015-08-01</th>\n",
       "      <td>46.27</td>\n",
       "      <td>NaN</td>\n",
       "      <td>24.90</td>\n",
       "      <td>26.93</td>\n",
       "      <td>30.54</td>\n",
       "      <td>NaN</td>\n",
       "      <td>NaN</td>\n",
       "      <td>NaN</td>\n",
       "      <td>NaN</td>\n",
       "      <td>NaN</td>\n",
       "      <td>...</td>\n",
       "      <td>46.69</td>\n",
       "      <td>61.64</td>\n",
       "      <td>22.28</td>\n",
       "      <td>76.92</td>\n",
       "      <td>47.28</td>\n",
       "      <td>NaN</td>\n",
       "      <td>20.31</td>\n",
       "      <td>23.29</td>\n",
       "      <td>NaN</td>\n",
       "      <td>6.98</td>\n",
       "    </tr>\n",
       "    <tr>\n",
       "      <th>2015-09-01</th>\n",
       "      <td>44.68</td>\n",
       "      <td>NaN</td>\n",
       "      <td>24.73</td>\n",
       "      <td>26.62</td>\n",
       "      <td>29.97</td>\n",
       "      <td>NaN</td>\n",
       "      <td>NaN</td>\n",
       "      <td>NaN</td>\n",
       "      <td>NaN</td>\n",
       "      <td>NaN</td>\n",
       "      <td>...</td>\n",
       "      <td>44.96</td>\n",
       "      <td>60.08</td>\n",
       "      <td>21.21</td>\n",
       "      <td>74.82</td>\n",
       "      <td>46.54</td>\n",
       "      <td>NaN</td>\n",
       "      <td>19.89</td>\n",
       "      <td>21.70</td>\n",
       "      <td>NaN</td>\n",
       "      <td>6.74</td>\n",
       "    </tr>\n",
       "    <tr>\n",
       "      <th>2015-10-01</th>\n",
       "      <td>48.10</td>\n",
       "      <td>NaN</td>\n",
       "      <td>25.37</td>\n",
       "      <td>27.42</td>\n",
       "      <td>31.24</td>\n",
       "      <td>NaN</td>\n",
       "      <td>NaN</td>\n",
       "      <td>NaN</td>\n",
       "      <td>NaN</td>\n",
       "      <td>NaN</td>\n",
       "      <td>...</td>\n",
       "      <td>48.23</td>\n",
       "      <td>64.67</td>\n",
       "      <td>22.56</td>\n",
       "      <td>81.02</td>\n",
       "      <td>50.46</td>\n",
       "      <td>NaN</td>\n",
       "      <td>21.35</td>\n",
       "      <td>22.79</td>\n",
       "      <td>NaN</td>\n",
       "      <td>7.23</td>\n",
       "    </tr>\n",
       "    <tr>\n",
       "      <th>2015-11-01</th>\n",
       "      <td>47.85</td>\n",
       "      <td>NaN</td>\n",
       "      <td>25.28</td>\n",
       "      <td>27.35</td>\n",
       "      <td>31.24</td>\n",
       "      <td>NaN</td>\n",
       "      <td>NaN</td>\n",
       "      <td>NaN</td>\n",
       "      <td>NaN</td>\n",
       "      <td>NaN</td>\n",
       "      <td>...</td>\n",
       "      <td>48.19</td>\n",
       "      <td>65.02</td>\n",
       "      <td>23.00</td>\n",
       "      <td>81.30</td>\n",
       "      <td>50.57</td>\n",
       "      <td>NaN</td>\n",
       "      <td>21.78</td>\n",
       "      <td>23.90</td>\n",
       "      <td>NaN</td>\n",
       "      <td>7.01</td>\n",
       "    </tr>\n",
       "  </tbody>\n",
       "</table>\n",
       "<p>5 rows × 127 columns</p>\n",
       "</div>"
      ],
      "text/plain": [
       "             ACWI  ADME    AOK    AOM    AOR  BAPR  BBUS  BJAN  BJUL  BOCT  \\\n",
       "Date                                                                         \n",
       "2015-07-01  49.65   NaN  25.55  27.74  31.89   NaN   NaN   NaN   NaN   NaN   \n",
       "2015-08-01  46.27   NaN  24.90  26.93  30.54   NaN   NaN   NaN   NaN   NaN   \n",
       "2015-09-01  44.68   NaN  24.73  26.62  29.97   NaN   NaN   NaN   NaN   NaN   \n",
       "2015-10-01  48.10   NaN  25.37  27.42  31.24   NaN   NaN   NaN   NaN   NaN   \n",
       "2015-11-01  47.85   NaN  25.28  27.35  31.24   NaN   NaN   NaN   NaN   NaN   \n",
       "\n",
       "            ...     VT    VTV   VUSE     VV    VYM  WOMN   XRLV   XSMO  YLDE  \\\n",
       "Date        ...                                                                \n",
       "2015-07-01  ...  50.01  65.47  23.30  81.86  50.12   NaN  21.44  24.66   NaN   \n",
       "2015-08-01  ...  46.69  61.64  22.28  76.92  47.28   NaN  20.31  23.29   NaN   \n",
       "2015-09-01  ...  44.96  60.08  21.21  74.82  46.54   NaN  19.89  21.70   NaN   \n",
       "2015-10-01  ...  48.23  64.67  22.56  81.02  50.46   NaN  21.35  22.79   NaN   \n",
       "2015-11-01  ...  48.19  65.02  23.00  81.30  50.57   NaN  21.78  23.90   NaN   \n",
       "\n",
       "             YYY  \n",
       "Date              \n",
       "2015-07-01  7.33  \n",
       "2015-08-01  6.98  \n",
       "2015-09-01  6.74  \n",
       "2015-10-01  7.23  \n",
       "2015-11-01  7.01  \n",
       "\n",
       "[5 rows x 127 columns]"
      ]
     },
     "execution_count": 10,
     "metadata": {},
     "output_type": "execute_result"
    }
   ],
   "source": [
    "# Load and filter historical benchmark price data\n",
    "benchmark_prices_daily_df = load_and_filter_data('data/daily_benchmark_quotes.csv', tickers, start_date, end_date)\n",
    "benchmark_prices_monthly_df = load_and_filter_data('data/monthly_benchmark_quotes.csv', tickers, start_date, end_date)\n",
    "\n",
    "# Display the first few rows\n",
    "benchmark_prices_monthly_df.head()"
   ]
  },
  {
   "cell_type": "markdown",
   "id": "0b6317cc",
   "metadata": {},
   "source": [
    "#### Portfolio Tickers"
   ]
  },
  {
   "cell_type": "code",
   "execution_count": 11,
   "id": "63739423",
   "metadata": {
    "execution": {
     "iopub.execute_input": "2025-06-02T13:28:31.198685Z",
     "iopub.status.busy": "2025-06-02T13:28:31.198402Z",
     "iopub.status.idle": "2025-06-02T13:28:31.232652Z",
     "shell.execute_reply": "2025-06-02T13:28:31.231755Z"
    }
   },
   "outputs": [
    {
     "name": "stdout",
     "output_type": "stream",
     "text": [
      "Found 5 of 5 tickers in data/monthly_stock_quotes.csv\n",
      "Missing tickers: []\n"
     ]
    },
    {
     "data": {
      "application/vnd.microsoft.datawrangler.viewer.v0+json": {
       "columns": [
        {
         "name": "Date",
         "rawType": "datetime64[ns]",
         "type": "datetime"
        },
        {
         "name": "AMAT",
         "rawType": "float64",
         "type": "float"
        },
        {
         "name": "APO",
         "rawType": "float64",
         "type": "float"
        },
        {
         "name": "MMC",
         "rawType": "float64",
         "type": "float"
        },
        {
         "name": "MRK",
         "rawType": "float64",
         "type": "float"
        },
        {
         "name": "TMUS",
         "rawType": "float64",
         "type": "float"
        }
       ],
       "ref": "6fdc3e95-abb8-46d3-9217-78c8fef5f0a0",
       "rows": [
        [
         "2015-07-01 00:00:00",
         "15.39",
         "12.95",
         "49.23",
         "41.74",
         "39.76"
        ],
        [
         "2015-08-01 00:00:00",
         "14.35",
         "11.94",
         "45.65",
         "38.12",
         "38.74"
        ],
        [
         "2015-09-01 00:00:00",
         "13.1",
         "11.04",
         "44.37",
         "35.26",
         "38.93"
        ],
        [
         "2015-10-01 00:00:00",
         "14.96",
         "11.74",
         "47.64",
         "39.02",
         "37.05"
        ],
        [
         "2015-11-01 00:00:00",
         "16.84",
         "10.72",
         "47.26",
         "37.85",
         "34.72"
        ]
       ],
       "shape": {
        "columns": 5,
        "rows": 5
       }
      },
      "text/html": [
       "<div>\n",
       "<style scoped>\n",
       "    .dataframe tbody tr th:only-of-type {\n",
       "        vertical-align: middle;\n",
       "    }\n",
       "\n",
       "    .dataframe tbody tr th {\n",
       "        vertical-align: top;\n",
       "    }\n",
       "\n",
       "    .dataframe thead th {\n",
       "        text-align: right;\n",
       "    }\n",
       "</style>\n",
       "<table border=\"1\" class=\"dataframe\">\n",
       "  <thead>\n",
       "    <tr style=\"text-align: right;\">\n",
       "      <th></th>\n",
       "      <th>AMAT</th>\n",
       "      <th>APO</th>\n",
       "      <th>MMC</th>\n",
       "      <th>MRK</th>\n",
       "      <th>TMUS</th>\n",
       "    </tr>\n",
       "    <tr>\n",
       "      <th>Date</th>\n",
       "      <th></th>\n",
       "      <th></th>\n",
       "      <th></th>\n",
       "      <th></th>\n",
       "      <th></th>\n",
       "    </tr>\n",
       "  </thead>\n",
       "  <tbody>\n",
       "    <tr>\n",
       "      <th>2015-07-01</th>\n",
       "      <td>15.39</td>\n",
       "      <td>12.95</td>\n",
       "      <td>49.23</td>\n",
       "      <td>41.74</td>\n",
       "      <td>39.76</td>\n",
       "    </tr>\n",
       "    <tr>\n",
       "      <th>2015-08-01</th>\n",
       "      <td>14.35</td>\n",
       "      <td>11.94</td>\n",
       "      <td>45.65</td>\n",
       "      <td>38.12</td>\n",
       "      <td>38.74</td>\n",
       "    </tr>\n",
       "    <tr>\n",
       "      <th>2015-09-01</th>\n",
       "      <td>13.10</td>\n",
       "      <td>11.04</td>\n",
       "      <td>44.37</td>\n",
       "      <td>35.26</td>\n",
       "      <td>38.93</td>\n",
       "    </tr>\n",
       "    <tr>\n",
       "      <th>2015-10-01</th>\n",
       "      <td>14.96</td>\n",
       "      <td>11.74</td>\n",
       "      <td>47.64</td>\n",
       "      <td>39.02</td>\n",
       "      <td>37.05</td>\n",
       "    </tr>\n",
       "    <tr>\n",
       "      <th>2015-11-01</th>\n",
       "      <td>16.84</td>\n",
       "      <td>10.72</td>\n",
       "      <td>47.26</td>\n",
       "      <td>37.85</td>\n",
       "      <td>34.72</td>\n",
       "    </tr>\n",
       "  </tbody>\n",
       "</table>\n",
       "</div>"
      ],
      "text/plain": [
       "             AMAT    APO    MMC    MRK   TMUS\n",
       "Date                                         \n",
       "2015-07-01  15.39  12.95  49.23  41.74  39.76\n",
       "2015-08-01  14.35  11.94  45.65  38.12  38.74\n",
       "2015-09-01  13.10  11.04  44.37  35.26  38.93\n",
       "2015-10-01  14.96  11.74  47.64  39.02  37.05\n",
       "2015-11-01  16.84  10.72  47.26  37.85  34.72"
      ]
     },
     "execution_count": 11,
     "metadata": {},
     "output_type": "execute_result"
    }
   ],
   "source": [
    "# Load and filter historical benchmark price data\n",
    "stock_prices_monthly_df = load_and_filter_data('data/monthly_stock_quotes.csv', portfolio_tickers, start_date, end_date)\n",
    "\n",
    "# Display the first few rows\n",
    "stock_prices_monthly_df.head()"
   ]
  },
  {
   "cell_type": "markdown",
   "id": "ff74a589",
   "metadata": {},
   "source": [
    "### Step 7: Prepare Data (Drop Invalid Tickers)"
   ]
  },
  {
   "cell_type": "markdown",
   "id": "bc19d94e",
   "metadata": {},
   "source": [
    "#### Daily Quotes"
   ]
  },
  {
   "cell_type": "code",
   "execution_count": 12,
   "id": "4fd1c0fd",
   "metadata": {
    "execution": {
     "iopub.execute_input": "2025-06-02T13:28:31.236531Z",
     "iopub.status.busy": "2025-06-02T13:28:31.236211Z",
     "iopub.status.idle": "2025-06-02T13:28:31.261664Z",
     "shell.execute_reply": "2025-06-02T13:28:31.260652Z"
    }
   },
   "outputs": [
    {
     "name": "stdout",
     "output_type": "stream",
     "text": [
      "Dropping 40 columns with missing values in first/last 50 records: ['ADME', 'BAPR', 'BBUS', 'BJAN', 'BJUL', 'BOCT', 'CEFS', 'DEUS', 'DIVB', 'DIVO', 'DYNF', 'EQIN', 'ESGG', 'ETHO', 'FCEF', 'FVAL', 'GVIP', 'HTUS', 'IUS', 'JDIV', 'JPME', 'JQUA', 'JSMD', 'MAGA', 'MFUS', 'NACP', 'ONEO', 'PBUS', 'PJUL', 'POCT', 'QARP', 'QLC', 'QMOM', 'SPXV', 'ULVM', 'USMC', 'USMF', 'VFMO', 'WOMN', 'YLDE']\n"
     ]
    },
    {
     "data": {
      "application/vnd.microsoft.datawrangler.viewer.v0+json": {
       "columns": [
        {
         "name": "Date",
         "rawType": "datetime64[ns]",
         "type": "datetime"
        },
        {
         "name": "ACWI",
         "rawType": "float64",
         "type": "float"
        },
        {
         "name": "AOK",
         "rawType": "float64",
         "type": "float"
        },
        {
         "name": "AOM",
         "rawType": "float64",
         "type": "float"
        },
        {
         "name": "AOR",
         "rawType": "float64",
         "type": "float"
        },
        {
         "name": "CRBN",
         "rawType": "float64",
         "type": "float"
        },
        {
         "name": "DBEU",
         "rawType": "float64",
         "type": "float"
        },
        {
         "name": "DDIV",
         "rawType": "float64",
         "type": "float"
        },
        {
         "name": "DGRO",
         "rawType": "float64",
         "type": "float"
        },
        {
         "name": "DGRW",
         "rawType": "float64",
         "type": "float"
        },
        {
         "name": "DIA",
         "rawType": "float64",
         "type": "float"
        },
        {
         "name": "DLN",
         "rawType": "float64",
         "type": "float"
        },
        {
         "name": "DTD",
         "rawType": "float64",
         "type": "float"
        },
        {
         "name": "DWAT",
         "rawType": "float64",
         "type": "float"
        },
        {
         "name": "EPI",
         "rawType": "float64",
         "type": "float"
        },
        {
         "name": "EPS",
         "rawType": "float64",
         "type": "float"
        },
        {
         "name": "EQL",
         "rawType": "float64",
         "type": "float"
        },
        {
         "name": "EQWL",
         "rawType": "float64",
         "type": "float"
        },
        {
         "name": "EUSA",
         "rawType": "float64",
         "type": "float"
        },
        {
         "name": "EWD",
         "rawType": "float64",
         "type": "float"
        },
        {
         "name": "EWL",
         "rawType": "float64",
         "type": "float"
        },
        {
         "name": "FAD",
         "rawType": "float64",
         "type": "float"
        },
        {
         "name": "FDIS",
         "rawType": "float64",
         "type": "float"
        },
        {
         "name": "FIDU",
         "rawType": "float64",
         "type": "float"
        },
        {
         "name": "FNDB",
         "rawType": "float64",
         "type": "float"
        },
        {
         "name": "FNDX",
         "rawType": "float64",
         "type": "float"
        },
        {
         "name": "FNY",
         "rawType": "float64",
         "type": "float"
        },
        {
         "name": "FTLS",
         "rawType": "float64",
         "type": "float"
        },
        {
         "name": "FV",
         "rawType": "float64",
         "type": "float"
        },
        {
         "name": "FYC",
         "rawType": "float64",
         "type": "float"
        },
        {
         "name": "GLOF",
         "rawType": "float64",
         "type": "float"
        },
        {
         "name": "IDHQ",
         "rawType": "float64",
         "type": "float"
        },
        {
         "name": "IDMO",
         "rawType": "float64",
         "type": "float"
        },
        {
         "name": "IGF",
         "rawType": "float64",
         "type": "float"
        },
        {
         "name": "IHDG",
         "rawType": "float64",
         "type": "float"
        },
        {
         "name": "ILCV",
         "rawType": "float64",
         "type": "float"
        },
        {
         "name": "IMTM",
         "rawType": "float64",
         "type": "float"
        },
        {
         "name": "IOO",
         "rawType": "float64",
         "type": "float"
        },
        {
         "name": "IQLT",
         "rawType": "float64",
         "type": "float"
        },
        {
         "name": "ITOT",
         "rawType": "float64",
         "type": "float"
        },
        {
         "name": "IUSV",
         "rawType": "float64",
         "type": "float"
        },
        {
         "name": "IVE",
         "rawType": "float64",
         "type": "float"
        },
        {
         "name": "IVV",
         "rawType": "float64",
         "type": "float"
        },
        {
         "name": "IWB",
         "rawType": "float64",
         "type": "float"
        },
        {
         "name": "IWL",
         "rawType": "float64",
         "type": "float"
        },
        {
         "name": "IWR",
         "rawType": "float64",
         "type": "float"
        },
        {
         "name": "LRGF",
         "rawType": "float64",
         "type": "float"
        },
        {
         "name": "MGC",
         "rawType": "float64",
         "type": "float"
        },
        {
         "name": "MGV",
         "rawType": "float64",
         "type": "float"
        },
        {
         "name": "MMTM",
         "rawType": "float64",
         "type": "float"
        },
        {
         "name": "OEF",
         "rawType": "float64",
         "type": "float"
        },
        {
         "name": "PCEF",
         "rawType": "float64",
         "type": "float"
        },
        {
         "name": "PFM",
         "rawType": "float64",
         "type": "float"
        },
        {
         "name": "PRF",
         "rawType": "float64",
         "type": "float"
        },
        {
         "name": "QDEF",
         "rawType": "float64",
         "type": "float"
        },
        {
         "name": "QDF",
         "rawType": "float64",
         "type": "float"
        },
        {
         "name": "QUAL",
         "rawType": "float64",
         "type": "float"
        },
        {
         "name": "QUS",
         "rawType": "float64",
         "type": "float"
        },
        {
         "name": "QWLD",
         "rawType": "float64",
         "type": "float"
        },
        {
         "name": "ROUS",
         "rawType": "float64",
         "type": "float"
        },
        {
         "name": "RWL",
         "rawType": "float64",
         "type": "float"
        },
        {
         "name": "SCHX",
         "rawType": "float64",
         "type": "float"
        },
        {
         "name": "SIZE",
         "rawType": "float64",
         "type": "float"
        },
        {
         "name": "SMIN",
         "rawType": "float64",
         "type": "float"
        },
        {
         "name": "SPGM",
         "rawType": "float64",
         "type": "float"
        },
        {
         "name": "SPHB",
         "rawType": "float64",
         "type": "float"
        },
        {
         "name": "SPLG",
         "rawType": "float64",
         "type": "float"
        },
        {
         "name": "SPTM",
         "rawType": "float64",
         "type": "float"
        },
        {
         "name": "SPY",
         "rawType": "float64",
         "type": "float"
        },
        {
         "name": "SPYV",
         "rawType": "float64",
         "type": "float"
        },
        {
         "name": "SSPY",
         "rawType": "float64",
         "type": "float"
        },
        {
         "name": "SUSA",
         "rawType": "float64",
         "type": "float"
        },
        {
         "name": "TOK",
         "rawType": "float64",
         "type": "float"
        },
        {
         "name": "URTH",
         "rawType": "float64",
         "type": "float"
        },
        {
         "name": "VB",
         "rawType": "float64",
         "type": "float"
        },
        {
         "name": "VCR",
         "rawType": "float64",
         "type": "float"
        },
        {
         "name": "VO",
         "rawType": "float64",
         "type": "float"
        },
        {
         "name": "VONE",
         "rawType": "float64",
         "type": "float"
        },
        {
         "name": "VOO",
         "rawType": "float64",
         "type": "float"
        },
        {
         "name": "VOOV",
         "rawType": "float64",
         "type": "float"
        },
        {
         "name": "VT",
         "rawType": "float64",
         "type": "float"
        },
        {
         "name": "VTV",
         "rawType": "float64",
         "type": "float"
        },
        {
         "name": "VUSE",
         "rawType": "float64",
         "type": "float"
        },
        {
         "name": "VV",
         "rawType": "float64",
         "type": "float"
        },
        {
         "name": "VYM",
         "rawType": "float64",
         "type": "float"
        },
        {
         "name": "XRLV",
         "rawType": "float64",
         "type": "float"
        },
        {
         "name": "XSMO",
         "rawType": "float64",
         "type": "float"
        },
        {
         "name": "YYY",
         "rawType": "float64",
         "type": "float"
        }
       ],
       "ref": "3643a561-20a3-48bb-9f9e-69646b742e43",
       "rows": [
        [
         "2015-06-10 00:00:00",
         "50.4",
         "25.42",
         "27.68",
         "31.92",
         "82.29",
         "20.66",
         "16.32",
         "20.95",
         "25.89",
         "146.83",
         "28.78",
         "28.9",
         "7.04",
         "18.46",
         "20.19",
         "46.19",
         "33.32",
         "38.41",
         "24.66",
         "28.39",
         "49.17",
         "27.96",
         "24.7",
         "8.22",
         "8.22",
         "30.01",
         "30.23",
         "23.17",
         "30.76",
         "20.19",
         "16.38",
         "23.98",
         "31.28",
         "20.16",
         "33.3",
         "21.63",
         "32.22",
         "21.73",
         "40.74",
         "36.57",
         "75.83",
         "177.31",
         "100.44",
         "40.72",
         "37.39",
         "21.26",
         "60.49",
         "47.5",
         "76.36",
         "78.79",
         "10.64",
         "17.26",
         "15.18",
         "27.03",
         "28.04",
         "55.11",
         "50.92",
         "51.3",
         "20.57",
         "34.94",
         "7.08",
         "56.42",
         "27.54",
         "27.11",
         "30.48",
         "20.91",
         "22.26",
         "177.49",
         "20.13",
         "30.29",
         "37.78",
         "44.72",
         "62.39",
         "106.13",
         "109.64",
         "110.57",
         "82.78",
         "162.02",
         "72.8",
         "50.82",
         "66.23",
         "24.15",
         "81.71",
         "50.67",
         "20.99",
         "24.5",
         "7.64"
        ],
        [
         "2015-06-11 00:00:00",
         "50.55",
         "25.56",
         "27.74",
         "32.03",
         "82.16",
         "20.77",
         "16.37",
         "21.02",
         "25.94",
         "147.3",
         "28.82",
         "28.93",
         "7.05",
         "17.9",
         "20.27",
         "46.24",
         "33.35",
         "38.5",
         "24.84",
         "28.41",
         "49.26",
         "28.03",
         "24.78",
         "8.25",
         "8.23",
         "30.15",
         "30.19",
         "23.27",
         "30.73",
         "20.33",
         "16.6",
         "23.72",
         "31.32",
         "20.28",
         "33.4",
         "21.71",
         "32.25",
         "21.73",
         "40.85",
         "36.7",
         "76.02",
         "177.91",
         "100.76",
         "40.83",
         "37.53",
         "21.4",
         "60.58",
         "47.59",
         "76.36",
         "79.02",
         "10.67",
         "17.3",
         "15.22",
         "27.06",
         "28.09",
         "55.33",
         "50.92",
         "51.3",
         "20.57",
         "34.99",
         "7.1",
         "56.58",
         "26.98",
         "27.33",
         "30.43",
         "20.99",
         "22.31",
         "178.06",
         "20.15",
         "30.29",
         "37.85",
         "44.78",
         "62.46",
         "106.51",
         "109.98",
         "111.0",
         "82.95",
         "162.53",
         "72.9",
         "50.91",
         "66.44",
         "24.14",
         "81.9",
         "50.81",
         "21.05",
         "24.57",
         "7.65"
        ],
        [
         "2015-06-12 00:00:00",
         "50.2",
         "25.4",
         "27.66",
         "31.91",
         "81.68",
         "20.54",
         "16.25",
         "20.86",
         "25.79",
         "146.07",
         "28.63",
         "28.78",
         "7.01",
         "17.91",
         "20.11",
         "45.96",
         "33.51",
         "38.23",
         "24.74",
         "28.17",
         "49.19",
         "27.94",
         "24.65",
         "8.19",
         "8.17",
         "30.16",
         "30.1",
         "23.08",
         "30.75",
         "20.33",
         "16.77",
         "23.47",
         "31.07",
         "20.13",
         "33.12",
         "21.55",
         "31.97",
         "21.66",
         "40.59",
         "36.41",
         "75.49",
         "176.56",
         "100.05",
         "40.49",
         "37.32",
         "21.26",
         "60.21",
         "47.23",
         "76.36",
         "78.39",
         "10.64",
         "17.18",
         "15.11",
         "26.91",
         "27.91",
         "54.89",
         "50.92",
         "50.28",
         "20.57",
         "34.75",
         "7.05",
         "56.32",
         "26.71",
         "27.33",
         "30.24",
         "20.81",
         "22.17",
         "176.7",
         "20.0",
         "30.29",
         "37.64",
         "44.49",
         "62.03",
         "106.05",
         "109.68",
         "110.41",
         "82.44",
         "161.34",
         "72.49",
         "50.58",
         "65.94",
         "24.09",
         "81.36",
         "50.38",
         "20.97",
         "24.49",
         "7.63"
        ],
        [
         "2015-06-15 00:00:00",
         "49.93",
         "25.36",
         "27.6",
         "31.74",
         "81.1",
         "20.26",
         "16.2",
         "20.74",
         "25.62",
         "145.23",
         "28.48",
         "28.59",
         "7.01",
         "18.0",
         "20.0",
         "45.65",
         "33.03",
         "38.08",
         "24.39",
         "27.87",
         "49.02",
         "27.79",
         "24.5",
         "8.15",
         "8.13",
         "30.0",
         "30.05",
         "22.97",
         "30.73",
         "20.19",
         "16.37",
         "23.23",
         "30.98",
         "19.9",
         "32.93",
         "21.45",
         "31.76",
         "21.66",
         "40.38",
         "36.25",
         "75.12",
         "175.82",
         "99.61",
         "40.32",
         "37.14",
         "21.2",
         "59.9",
         "47.03",
         "76.36",
         "78.05",
         "10.62",
         "17.08",
         "15.04",
         "26.78",
         "27.7",
         "54.6",
         "50.92",
         "50.28",
         "20.57",
         "34.59",
         "7.01",
         "55.99",
         "26.83",
         "26.79",
         "30.06",
         "20.72",
         "22.08",
         "175.94",
         "19.93",
         "30.29",
         "37.38",
         "44.13",
         "61.69",
         "105.72",
         "109.19",
         "109.78",
         "82.05",
         "160.59",
         "72.02",
         "50.3",
         "65.61",
         "23.95",
         "81.0",
         "50.13",
         "20.84",
         "24.4",
         "7.61"
        ],
        [
         "2015-06-16 00:00:00",
         "50.06",
         "25.49",
         "27.69",
         "31.87",
         "81.19",
         "20.33",
         "16.32",
         "20.87",
         "25.78",
         "146.13",
         "28.67",
         "28.8",
         "7.02",
         "18.1",
         "20.12",
         "45.93",
         "33.19",
         "38.24",
         "24.53",
         "27.86",
         "49.36",
         "27.95",
         "24.49",
         "8.2",
         "8.18",
         "30.23",
         "30.14",
         "23.15",
         "30.96",
         "20.19",
         "16.53",
         "23.28",
         "31.05",
         "19.99",
         "33.17",
         "21.45",
         "31.8",
         "21.66",
         "40.62",
         "36.49",
         "75.54",
         "176.8",
         "100.17",
         "40.55",
         "37.33",
         "21.28",
         "60.23",
         "47.31",
         "76.93",
         "78.47",
         "10.64",
         "17.19",
         "15.12",
         "26.91",
         "27.87",
         "54.96",
         "50.92",
         "50.25",
         "20.57",
         "34.8",
         "7.05",
         "56.29",
         "27.23",
         "26.89",
         "30.23",
         "20.82",
         "22.21",
         "176.9",
         "20.02",
         "30.29",
         "37.63",
         "44.43",
         "61.84",
         "106.3",
         "109.66",
         "110.39",
         "82.5",
         "161.53",
         "72.5",
         "50.43",
         "66.0",
         "24.11",
         "81.45",
         "50.43",
         "20.97",
         "24.58",
         "7.63"
        ]
       ],
       "shape": {
        "columns": 87,
        "rows": 5
       }
      },
      "text/html": [
       "<div>\n",
       "<style scoped>\n",
       "    .dataframe tbody tr th:only-of-type {\n",
       "        vertical-align: middle;\n",
       "    }\n",
       "\n",
       "    .dataframe tbody tr th {\n",
       "        vertical-align: top;\n",
       "    }\n",
       "\n",
       "    .dataframe thead th {\n",
       "        text-align: right;\n",
       "    }\n",
       "</style>\n",
       "<table border=\"1\" class=\"dataframe\">\n",
       "  <thead>\n",
       "    <tr style=\"text-align: right;\">\n",
       "      <th></th>\n",
       "      <th>ACWI</th>\n",
       "      <th>AOK</th>\n",
       "      <th>AOM</th>\n",
       "      <th>AOR</th>\n",
       "      <th>CRBN</th>\n",
       "      <th>DBEU</th>\n",
       "      <th>DDIV</th>\n",
       "      <th>DGRO</th>\n",
       "      <th>DGRW</th>\n",
       "      <th>DIA</th>\n",
       "      <th>...</th>\n",
       "      <th>VOO</th>\n",
       "      <th>VOOV</th>\n",
       "      <th>VT</th>\n",
       "      <th>VTV</th>\n",
       "      <th>VUSE</th>\n",
       "      <th>VV</th>\n",
       "      <th>VYM</th>\n",
       "      <th>XRLV</th>\n",
       "      <th>XSMO</th>\n",
       "      <th>YYY</th>\n",
       "    </tr>\n",
       "    <tr>\n",
       "      <th>Date</th>\n",
       "      <th></th>\n",
       "      <th></th>\n",
       "      <th></th>\n",
       "      <th></th>\n",
       "      <th></th>\n",
       "      <th></th>\n",
       "      <th></th>\n",
       "      <th></th>\n",
       "      <th></th>\n",
       "      <th></th>\n",
       "      <th></th>\n",
       "      <th></th>\n",
       "      <th></th>\n",
       "      <th></th>\n",
       "      <th></th>\n",
       "      <th></th>\n",
       "      <th></th>\n",
       "      <th></th>\n",
       "      <th></th>\n",
       "      <th></th>\n",
       "      <th></th>\n",
       "    </tr>\n",
       "  </thead>\n",
       "  <tbody>\n",
       "    <tr>\n",
       "      <th>2015-06-10</th>\n",
       "      <td>50.40</td>\n",
       "      <td>25.42</td>\n",
       "      <td>27.68</td>\n",
       "      <td>31.92</td>\n",
       "      <td>82.29</td>\n",
       "      <td>20.66</td>\n",
       "      <td>16.32</td>\n",
       "      <td>20.95</td>\n",
       "      <td>25.89</td>\n",
       "      <td>146.83</td>\n",
       "      <td>...</td>\n",
       "      <td>162.02</td>\n",
       "      <td>72.80</td>\n",
       "      <td>50.82</td>\n",
       "      <td>66.23</td>\n",
       "      <td>24.15</td>\n",
       "      <td>81.71</td>\n",
       "      <td>50.67</td>\n",
       "      <td>20.99</td>\n",
       "      <td>24.50</td>\n",
       "      <td>7.64</td>\n",
       "    </tr>\n",
       "    <tr>\n",
       "      <th>2015-06-11</th>\n",
       "      <td>50.55</td>\n",
       "      <td>25.56</td>\n",
       "      <td>27.74</td>\n",
       "      <td>32.03</td>\n",
       "      <td>82.16</td>\n",
       "      <td>20.77</td>\n",
       "      <td>16.37</td>\n",
       "      <td>21.02</td>\n",
       "      <td>25.94</td>\n",
       "      <td>147.30</td>\n",
       "      <td>...</td>\n",
       "      <td>162.53</td>\n",
       "      <td>72.90</td>\n",
       "      <td>50.91</td>\n",
       "      <td>66.44</td>\n",
       "      <td>24.14</td>\n",
       "      <td>81.90</td>\n",
       "      <td>50.81</td>\n",
       "      <td>21.05</td>\n",
       "      <td>24.57</td>\n",
       "      <td>7.65</td>\n",
       "    </tr>\n",
       "    <tr>\n",
       "      <th>2015-06-12</th>\n",
       "      <td>50.20</td>\n",
       "      <td>25.40</td>\n",
       "      <td>27.66</td>\n",
       "      <td>31.91</td>\n",
       "      <td>81.68</td>\n",
       "      <td>20.54</td>\n",
       "      <td>16.25</td>\n",
       "      <td>20.86</td>\n",
       "      <td>25.79</td>\n",
       "      <td>146.07</td>\n",
       "      <td>...</td>\n",
       "      <td>161.34</td>\n",
       "      <td>72.49</td>\n",
       "      <td>50.58</td>\n",
       "      <td>65.94</td>\n",
       "      <td>24.09</td>\n",
       "      <td>81.36</td>\n",
       "      <td>50.38</td>\n",
       "      <td>20.97</td>\n",
       "      <td>24.49</td>\n",
       "      <td>7.63</td>\n",
       "    </tr>\n",
       "    <tr>\n",
       "      <th>2015-06-15</th>\n",
       "      <td>49.93</td>\n",
       "      <td>25.36</td>\n",
       "      <td>27.60</td>\n",
       "      <td>31.74</td>\n",
       "      <td>81.10</td>\n",
       "      <td>20.26</td>\n",
       "      <td>16.20</td>\n",
       "      <td>20.74</td>\n",
       "      <td>25.62</td>\n",
       "      <td>145.23</td>\n",
       "      <td>...</td>\n",
       "      <td>160.59</td>\n",
       "      <td>72.02</td>\n",
       "      <td>50.30</td>\n",
       "      <td>65.61</td>\n",
       "      <td>23.95</td>\n",
       "      <td>81.00</td>\n",
       "      <td>50.13</td>\n",
       "      <td>20.84</td>\n",
       "      <td>24.40</td>\n",
       "      <td>7.61</td>\n",
       "    </tr>\n",
       "    <tr>\n",
       "      <th>2015-06-16</th>\n",
       "      <td>50.06</td>\n",
       "      <td>25.49</td>\n",
       "      <td>27.69</td>\n",
       "      <td>31.87</td>\n",
       "      <td>81.19</td>\n",
       "      <td>20.33</td>\n",
       "      <td>16.32</td>\n",
       "      <td>20.87</td>\n",
       "      <td>25.78</td>\n",
       "      <td>146.13</td>\n",
       "      <td>...</td>\n",
       "      <td>161.53</td>\n",
       "      <td>72.50</td>\n",
       "      <td>50.43</td>\n",
       "      <td>66.00</td>\n",
       "      <td>24.11</td>\n",
       "      <td>81.45</td>\n",
       "      <td>50.43</td>\n",
       "      <td>20.97</td>\n",
       "      <td>24.58</td>\n",
       "      <td>7.63</td>\n",
       "    </tr>\n",
       "  </tbody>\n",
       "</table>\n",
       "<p>5 rows × 87 columns</p>\n",
       "</div>"
      ],
      "text/plain": [
       "             ACWI    AOK    AOM    AOR   CRBN   DBEU   DDIV   DGRO   DGRW  \\\n",
       "Date                                                                        \n",
       "2015-06-10  50.40  25.42  27.68  31.92  82.29  20.66  16.32  20.95  25.89   \n",
       "2015-06-11  50.55  25.56  27.74  32.03  82.16  20.77  16.37  21.02  25.94   \n",
       "2015-06-12  50.20  25.40  27.66  31.91  81.68  20.54  16.25  20.86  25.79   \n",
       "2015-06-15  49.93  25.36  27.60  31.74  81.10  20.26  16.20  20.74  25.62   \n",
       "2015-06-16  50.06  25.49  27.69  31.87  81.19  20.33  16.32  20.87  25.78   \n",
       "\n",
       "               DIA  ...     VOO   VOOV     VT    VTV   VUSE     VV    VYM  \\\n",
       "Date                ...                                                     \n",
       "2015-06-10  146.83  ...  162.02  72.80  50.82  66.23  24.15  81.71  50.67   \n",
       "2015-06-11  147.30  ...  162.53  72.90  50.91  66.44  24.14  81.90  50.81   \n",
       "2015-06-12  146.07  ...  161.34  72.49  50.58  65.94  24.09  81.36  50.38   \n",
       "2015-06-15  145.23  ...  160.59  72.02  50.30  65.61  23.95  81.00  50.13   \n",
       "2015-06-16  146.13  ...  161.53  72.50  50.43  66.00  24.11  81.45  50.43   \n",
       "\n",
       "             XRLV   XSMO   YYY  \n",
       "Date                            \n",
       "2015-06-10  20.99  24.50  7.64  \n",
       "2015-06-11  21.05  24.57  7.65  \n",
       "2015-06-12  20.97  24.49  7.63  \n",
       "2015-06-15  20.84  24.40  7.61  \n",
       "2015-06-16  20.97  24.58  7.63  \n",
       "\n",
       "[5 rows x 87 columns]"
      ]
     },
     "execution_count": 12,
     "metadata": {},
     "output_type": "execute_result"
    }
   ],
   "source": [
    "# Identify columns with null values in first or last 50 rows\n",
    "first_50_nulls = benchmark_prices_daily_df.head(50).isnull().any()\n",
    "last_50_nulls = benchmark_prices_daily_df.tail(50).isnull().any()\n",
    "\n",
    "# Columns to drop are those with nulls in first 50 OR last 50 rows\n",
    "columns_to_drop = first_50_nulls | last_50_nulls\n",
    "bad_columns = columns_to_drop[columns_to_drop].index.tolist()\n",
    "\n",
    "print(f\"Dropping {len(bad_columns)} columns with missing values in first/last 50 records: {bad_columns}\")\n",
    "\n",
    "# Drop those columns\n",
    "benchmark_prices_daily_df = benchmark_prices_daily_df.loc[:, ~columns_to_drop]\n",
    "\n",
    "# Display the first few rows of the cleaned dataframe\n",
    "benchmark_prices_daily_df.head()"
   ]
  },
  {
   "cell_type": "markdown",
   "id": "66c53499",
   "metadata": {},
   "source": [
    "#### Monthly Quotes"
   ]
  },
  {
   "cell_type": "code",
   "execution_count": 13,
   "id": "f67e5873",
   "metadata": {
    "execution": {
     "iopub.execute_input": "2025-06-02T13:28:31.265319Z",
     "iopub.status.busy": "2025-06-02T13:28:31.264968Z",
     "iopub.status.idle": "2025-06-02T13:28:31.289915Z",
     "shell.execute_reply": "2025-06-02T13:28:31.289100Z"
    }
   },
   "outputs": [
    {
     "data": {
      "application/vnd.microsoft.datawrangler.viewer.v0+json": {
       "columns": [
        {
         "name": "Date",
         "rawType": "datetime64[ns]",
         "type": "datetime"
        },
        {
         "name": "ACWI",
         "rawType": "float64",
         "type": "float"
        },
        {
         "name": "AOK",
         "rawType": "float64",
         "type": "float"
        },
        {
         "name": "AOM",
         "rawType": "float64",
         "type": "float"
        },
        {
         "name": "AOR",
         "rawType": "float64",
         "type": "float"
        },
        {
         "name": "CRBN",
         "rawType": "float64",
         "type": "float"
        },
        {
         "name": "DBEU",
         "rawType": "float64",
         "type": "float"
        },
        {
         "name": "DDIV",
         "rawType": "float64",
         "type": "float"
        },
        {
         "name": "DGRO",
         "rawType": "float64",
         "type": "float"
        },
        {
         "name": "DGRW",
         "rawType": "float64",
         "type": "float"
        },
        {
         "name": "DIA",
         "rawType": "float64",
         "type": "float"
        },
        {
         "name": "DLN",
         "rawType": "float64",
         "type": "float"
        },
        {
         "name": "DTD",
         "rawType": "float64",
         "type": "float"
        },
        {
         "name": "DWAT",
         "rawType": "float64",
         "type": "float"
        },
        {
         "name": "EPI",
         "rawType": "float64",
         "type": "float"
        },
        {
         "name": "EPS",
         "rawType": "float64",
         "type": "float"
        },
        {
         "name": "EQL",
         "rawType": "float64",
         "type": "float"
        },
        {
         "name": "EQWL",
         "rawType": "float64",
         "type": "float"
        },
        {
         "name": "EUSA",
         "rawType": "float64",
         "type": "float"
        },
        {
         "name": "EWD",
         "rawType": "float64",
         "type": "float"
        },
        {
         "name": "EWL",
         "rawType": "float64",
         "type": "float"
        },
        {
         "name": "FAD",
         "rawType": "float64",
         "type": "float"
        },
        {
         "name": "FDIS",
         "rawType": "float64",
         "type": "float"
        },
        {
         "name": "FIDU",
         "rawType": "float64",
         "type": "float"
        },
        {
         "name": "FNDB",
         "rawType": "float64",
         "type": "float"
        },
        {
         "name": "FNDX",
         "rawType": "float64",
         "type": "float"
        },
        {
         "name": "FNY",
         "rawType": "float64",
         "type": "float"
        },
        {
         "name": "FTLS",
         "rawType": "float64",
         "type": "float"
        },
        {
         "name": "FV",
         "rawType": "float64",
         "type": "float"
        },
        {
         "name": "FYC",
         "rawType": "float64",
         "type": "float"
        },
        {
         "name": "GLOF",
         "rawType": "float64",
         "type": "float"
        },
        {
         "name": "IDHQ",
         "rawType": "float64",
         "type": "float"
        },
        {
         "name": "IDMO",
         "rawType": "float64",
         "type": "float"
        },
        {
         "name": "IGF",
         "rawType": "float64",
         "type": "float"
        },
        {
         "name": "IHDG",
         "rawType": "float64",
         "type": "float"
        },
        {
         "name": "ILCV",
         "rawType": "float64",
         "type": "float"
        },
        {
         "name": "IMTM",
         "rawType": "float64",
         "type": "float"
        },
        {
         "name": "IOO",
         "rawType": "float64",
         "type": "float"
        },
        {
         "name": "IQLT",
         "rawType": "float64",
         "type": "float"
        },
        {
         "name": "ITOT",
         "rawType": "float64",
         "type": "float"
        },
        {
         "name": "IUSV",
         "rawType": "float64",
         "type": "float"
        },
        {
         "name": "IVE",
         "rawType": "float64",
         "type": "float"
        },
        {
         "name": "IVV",
         "rawType": "float64",
         "type": "float"
        },
        {
         "name": "IWB",
         "rawType": "float64",
         "type": "float"
        },
        {
         "name": "IWL",
         "rawType": "float64",
         "type": "float"
        },
        {
         "name": "IWR",
         "rawType": "float64",
         "type": "float"
        },
        {
         "name": "LRGF",
         "rawType": "float64",
         "type": "float"
        },
        {
         "name": "MGC",
         "rawType": "float64",
         "type": "float"
        },
        {
         "name": "MGV",
         "rawType": "float64",
         "type": "float"
        },
        {
         "name": "MMTM",
         "rawType": "float64",
         "type": "float"
        },
        {
         "name": "OEF",
         "rawType": "float64",
         "type": "float"
        },
        {
         "name": "PCEF",
         "rawType": "float64",
         "type": "float"
        },
        {
         "name": "PFM",
         "rawType": "float64",
         "type": "float"
        },
        {
         "name": "PRF",
         "rawType": "float64",
         "type": "float"
        },
        {
         "name": "QDEF",
         "rawType": "float64",
         "type": "float"
        },
        {
         "name": "QDF",
         "rawType": "float64",
         "type": "float"
        },
        {
         "name": "QUAL",
         "rawType": "float64",
         "type": "float"
        },
        {
         "name": "QUS",
         "rawType": "float64",
         "type": "float"
        },
        {
         "name": "QWLD",
         "rawType": "float64",
         "type": "float"
        },
        {
         "name": "ROUS",
         "rawType": "float64",
         "type": "float"
        },
        {
         "name": "RWL",
         "rawType": "float64",
         "type": "float"
        },
        {
         "name": "SCHX",
         "rawType": "float64",
         "type": "float"
        },
        {
         "name": "SIZE",
         "rawType": "float64",
         "type": "float"
        },
        {
         "name": "SMIN",
         "rawType": "float64",
         "type": "float"
        },
        {
         "name": "SPGM",
         "rawType": "float64",
         "type": "float"
        },
        {
         "name": "SPHB",
         "rawType": "float64",
         "type": "float"
        },
        {
         "name": "SPLG",
         "rawType": "float64",
         "type": "float"
        },
        {
         "name": "SPTM",
         "rawType": "float64",
         "type": "float"
        },
        {
         "name": "SPY",
         "rawType": "float64",
         "type": "float"
        },
        {
         "name": "SPYV",
         "rawType": "float64",
         "type": "float"
        },
        {
         "name": "SSPY",
         "rawType": "float64",
         "type": "float"
        },
        {
         "name": "SUSA",
         "rawType": "float64",
         "type": "float"
        },
        {
         "name": "TOK",
         "rawType": "float64",
         "type": "float"
        },
        {
         "name": "URTH",
         "rawType": "float64",
         "type": "float"
        },
        {
         "name": "VB",
         "rawType": "float64",
         "type": "float"
        },
        {
         "name": "VCR",
         "rawType": "float64",
         "type": "float"
        },
        {
         "name": "VO",
         "rawType": "float64",
         "type": "float"
        },
        {
         "name": "VONE",
         "rawType": "float64",
         "type": "float"
        },
        {
         "name": "VOO",
         "rawType": "float64",
         "type": "float"
        },
        {
         "name": "VOOV",
         "rawType": "float64",
         "type": "float"
        },
        {
         "name": "VT",
         "rawType": "float64",
         "type": "float"
        },
        {
         "name": "VTV",
         "rawType": "float64",
         "type": "float"
        },
        {
         "name": "VUSE",
         "rawType": "float64",
         "type": "float"
        },
        {
         "name": "VV",
         "rawType": "float64",
         "type": "float"
        },
        {
         "name": "VYM",
         "rawType": "float64",
         "type": "float"
        },
        {
         "name": "XRLV",
         "rawType": "float64",
         "type": "float"
        },
        {
         "name": "XSMO",
         "rawType": "float64",
         "type": "float"
        },
        {
         "name": "YYY",
         "rawType": "float64",
         "type": "float"
        }
       ],
       "ref": "0a8ecd1f-f105-4da7-8e78-fb8d8a67eb32",
       "rows": [
        [
         "2015-06-01 00:00:00",
         "49.25",
         "25.34",
         "27.53",
         "31.58",
         "80.51",
         "19.98",
         "16.14",
         "20.52",
         "25.4",
         "143.75",
         "28.2",
         "28.37",
         "6.95",
         "18.82",
         "19.8",
         "45.3",
         "32.73",
         "37.81",
         "23.54",
         "27.08",
         "49.02",
         "27.91",
         "24.02",
         "8.05",
         "8.06",
         "29.94",
         "29.65",
         "23.27",
         "30.77",
         "20.09",
         "16.31",
         "22.5",
         "30.57",
         "19.57",
         "32.51",
         "21.88",
         "31.21",
         "21.15",
         "39.99",
         "35.8",
         "74.11",
         "174.01",
         "98.59",
         "39.98",
         "36.65",
         "21.02",
         "59.35",
         "46.5",
         "76.85",
         "77.28",
         "10.48",
         "16.95",
         "14.84",
         "26.5",
         "27.41",
         "54.13",
         "50.06",
         "50.93",
         "20.35",
         "34.29",
         "6.95",
         "55.5",
         "28.11",
         "26.99",
         "29.42",
         "20.53",
         "21.91",
         "174.04",
         "19.67",
         "29.6",
         "37.0",
         "43.94",
         "60.43",
         "104.49",
         "109.55",
         "108.84",
         "81.17",
         "159.0",
         "71.17",
         "49.75",
         "64.81",
         "23.66",
         "80.17",
         "49.59",
         "20.77",
         "24.24",
         "7.49"
        ],
        [
         "2015-07-01 00:00:00",
         "49.65",
         "25.55",
         "27.74",
         "31.89",
         "81.26",
         "20.81",
         "16.32",
         "20.92",
         "25.63",
         "144.59",
         "28.5",
         "28.67",
         "7.09",
         "19.21",
         "20.04",
         "45.84",
         "33.49",
         "38.4",
         "23.74",
         "28.19",
         "50.14",
         "29.02",
         "23.92",
         "8.09",
         "8.09",
         "30.49",
         "30.06",
         "23.99",
         "31.15",
         "19.73",
         "16.52",
         "21.9",
         "30.71",
         "20.52",
         "32.72",
         "21.75",
         "31.67",
         "21.5",
         "40.76",
         "35.87",
         "74.44",
         "177.83",
         "100.52",
         "40.97",
         "36.92",
         "21.28",
         "60.66",
         "47.01",
         "78.71",
         "79.49",
         "10.44",
         "17.16",
         "14.91",
         "26.9",
         "27.85",
         "55.68",
         "49.83",
         "50.69",
         "20.82",
         "34.59",
         "7.09",
         "56.88",
         "30.06",
         "26.62",
         "28.21",
         "20.93",
         "22.24",
         "177.97",
         "19.76",
         "29.87",
         "37.46",
         "44.97",
         "62.02",
         "104.19",
         "113.86",
         "110.11",
         "82.8",
         "162.46",
         "71.48",
         "50.01",
         "65.47",
         "23.3",
         "81.86",
         "50.12",
         "21.44",
         "24.66",
         "7.33"
        ],
        [
         "2015-08-01 00:00:00",
         "46.27",
         "24.9",
         "26.93",
         "30.54",
         "76.17",
         "19.28",
         "15.27",
         "19.71",
         "24.06",
         "135.62",
         "26.81",
         "26.97",
         "6.66",
         "17.07",
         "18.8",
         "43.29",
         "31.18",
         "36.19",
         "22.47",
         "26.31",
         "47.27",
         "27.2",
         "22.68",
         "7.62",
         "7.62",
         "28.26",
         "29.0",
         "22.22",
         "29.18",
         "18.84",
         "15.81",
         "20.11",
         "29.09",
         "18.99",
         "30.86",
         "20.4",
         "29.5",
         "19.83",
         "38.28",
         "33.81",
         "69.94",
         "166.9",
         "94.47",
         "38.36",
         "34.98",
         "20.05",
         "56.83",
         "44.15",
         "73.76",
         "74.2",
         "10.07",
         "16.29",
         "14.05",
         "25.47",
         "26.42",
         "52.67",
         "48.29",
         "47.78",
         "18.96",
         "32.54",
         "6.66",
         "53.7",
         "27.29",
         "25.23",
         "26.78",
         "19.7",
         "20.93",
         "167.12",
         "18.56",
         "28.25",
         "35.12",
         "41.85",
         "57.94",
         "98.12",
         "106.6",
         "104.44",
         "77.75",
         "152.49",
         "67.19",
         "46.69",
         "61.64",
         "22.28",
         "76.92",
         "47.28",
         "20.31",
         "23.29",
         "6.98"
        ],
        [
         "2015-09-01 00:00:00",
         "44.68",
         "24.73",
         "26.62",
         "29.97",
         "72.79",
         "18.59",
         "15.32",
         "19.38",
         "23.57",
         "133.78",
         "26.36",
         "26.5",
         "6.39",
         "17.4",
         "18.26",
         "42.08",
         "30.19",
         "34.58",
         "21.51",
         "25.29",
         "45.48",
         "26.75",
         "21.91",
         "7.41",
         "7.43",
         "27.39",
         "28.92",
         "20.87",
         "28.23",
         "18.21",
         "15.26",
         "17.88",
         "28.39",
         "18.7",
         "30.15",
         "19.29",
         "28.69",
         "19.16",
         "37.28",
         "32.72",
         "67.97",
         "162.73",
         "91.82",
         "37.39",
         "33.71",
         "19.58",
         "55.42",
         "43.19",
         "71.37",
         "72.54",
         "9.85",
         "16.0",
         "13.64",
         "25.07",
         "25.75",
         "51.99",
         "46.58",
         "47.35",
         "18.89",
         "31.69",
         "6.48",
         "52.63",
         "27.95",
         "24.8",
         "25.05",
         "18.99",
         "20.19",
         "162.86",
         "17.96",
         "27.43",
         "34.38",
         "40.14",
         "55.88",
         "93.67",
         "104.91",
         "100.59",
         "75.62",
         "148.73",
         "65.24",
         "44.96",
         "60.08",
         "21.21",
         "74.82",
         "46.54",
         "19.89",
         "21.7",
         "6.74"
        ],
        [
         "2015-10-01 00:00:00",
         "48.1",
         "25.37",
         "27.42",
         "31.24",
         "78.9",
         "19.83",
         "15.94",
         "20.93",
         "25.67",
         "145.26",
         "28.5",
         "28.63",
         "6.67",
         "17.56",
         "19.92",
         "45.46",
         "32.85",
         "37.29",
         "22.34",
         "26.27",
         "48.3",
         "28.86",
         "23.85",
         "8.0",
         "8.02",
         "28.66",
         "30.15",
         "21.98",
         "29.94",
         "19.51",
         "16.06",
         "20.14",
         "29.61",
         "20.08",
         "32.5",
         "20.21",
         "31.31",
         "20.7",
         "40.35",
         "35.17",
         "72.98",
         "176.53",
         "99.26",
         "40.72",
         "35.78",
         "20.82",
         "60.31",
         "46.56",
         "77.74",
         "79.43",
         "10.33",
         "17.16",
         "14.68",
         "26.92",
         "27.84",
         "56.48",
         "51.12",
         "50.45",
         "20.26",
         "33.89",
         "7.01",
         "56.2",
         "28.55",
         "26.16",
         "27.65",
         "20.78",
         "21.94",
         "176.71",
         "19.37",
         "29.38",
         "37.21",
         "43.23",
         "59.78",
         "98.98",
         "113.06",
         "106.6",
         "81.74",
         "161.3",
         "70.08",
         "48.23",
         "64.67",
         "22.56",
         "81.02",
         "50.46",
         "21.35",
         "22.79",
         "7.23"
        ]
       ],
       "shape": {
        "columns": 87,
        "rows": 5
       }
      },
      "text/html": [
       "<div>\n",
       "<style scoped>\n",
       "    .dataframe tbody tr th:only-of-type {\n",
       "        vertical-align: middle;\n",
       "    }\n",
       "\n",
       "    .dataframe tbody tr th {\n",
       "        vertical-align: top;\n",
       "    }\n",
       "\n",
       "    .dataframe thead th {\n",
       "        text-align: right;\n",
       "    }\n",
       "</style>\n",
       "<table border=\"1\" class=\"dataframe\">\n",
       "  <thead>\n",
       "    <tr style=\"text-align: right;\">\n",
       "      <th></th>\n",
       "      <th>ACWI</th>\n",
       "      <th>AOK</th>\n",
       "      <th>AOM</th>\n",
       "      <th>AOR</th>\n",
       "      <th>CRBN</th>\n",
       "      <th>DBEU</th>\n",
       "      <th>DDIV</th>\n",
       "      <th>DGRO</th>\n",
       "      <th>DGRW</th>\n",
       "      <th>DIA</th>\n",
       "      <th>...</th>\n",
       "      <th>VOO</th>\n",
       "      <th>VOOV</th>\n",
       "      <th>VT</th>\n",
       "      <th>VTV</th>\n",
       "      <th>VUSE</th>\n",
       "      <th>VV</th>\n",
       "      <th>VYM</th>\n",
       "      <th>XRLV</th>\n",
       "      <th>XSMO</th>\n",
       "      <th>YYY</th>\n",
       "    </tr>\n",
       "    <tr>\n",
       "      <th>Date</th>\n",
       "      <th></th>\n",
       "      <th></th>\n",
       "      <th></th>\n",
       "      <th></th>\n",
       "      <th></th>\n",
       "      <th></th>\n",
       "      <th></th>\n",
       "      <th></th>\n",
       "      <th></th>\n",
       "      <th></th>\n",
       "      <th></th>\n",
       "      <th></th>\n",
       "      <th></th>\n",
       "      <th></th>\n",
       "      <th></th>\n",
       "      <th></th>\n",
       "      <th></th>\n",
       "      <th></th>\n",
       "      <th></th>\n",
       "      <th></th>\n",
       "      <th></th>\n",
       "    </tr>\n",
       "  </thead>\n",
       "  <tbody>\n",
       "    <tr>\n",
       "      <th>2015-06-01</th>\n",
       "      <td>49.25</td>\n",
       "      <td>25.34</td>\n",
       "      <td>27.53</td>\n",
       "      <td>31.58</td>\n",
       "      <td>80.51</td>\n",
       "      <td>19.98</td>\n",
       "      <td>16.14</td>\n",
       "      <td>20.52</td>\n",
       "      <td>25.40</td>\n",
       "      <td>143.75</td>\n",
       "      <td>...</td>\n",
       "      <td>159.00</td>\n",
       "      <td>71.17</td>\n",
       "      <td>49.75</td>\n",
       "      <td>64.81</td>\n",
       "      <td>23.66</td>\n",
       "      <td>80.17</td>\n",
       "      <td>49.59</td>\n",
       "      <td>20.77</td>\n",
       "      <td>24.24</td>\n",
       "      <td>7.49</td>\n",
       "    </tr>\n",
       "    <tr>\n",
       "      <th>2015-07-01</th>\n",
       "      <td>49.65</td>\n",
       "      <td>25.55</td>\n",
       "      <td>27.74</td>\n",
       "      <td>31.89</td>\n",
       "      <td>81.26</td>\n",
       "      <td>20.81</td>\n",
       "      <td>16.32</td>\n",
       "      <td>20.92</td>\n",
       "      <td>25.63</td>\n",
       "      <td>144.59</td>\n",
       "      <td>...</td>\n",
       "      <td>162.46</td>\n",
       "      <td>71.48</td>\n",
       "      <td>50.01</td>\n",
       "      <td>65.47</td>\n",
       "      <td>23.30</td>\n",
       "      <td>81.86</td>\n",
       "      <td>50.12</td>\n",
       "      <td>21.44</td>\n",
       "      <td>24.66</td>\n",
       "      <td>7.33</td>\n",
       "    </tr>\n",
       "    <tr>\n",
       "      <th>2015-08-01</th>\n",
       "      <td>46.27</td>\n",
       "      <td>24.90</td>\n",
       "      <td>26.93</td>\n",
       "      <td>30.54</td>\n",
       "      <td>76.17</td>\n",
       "      <td>19.28</td>\n",
       "      <td>15.27</td>\n",
       "      <td>19.71</td>\n",
       "      <td>24.06</td>\n",
       "      <td>135.62</td>\n",
       "      <td>...</td>\n",
       "      <td>152.49</td>\n",
       "      <td>67.19</td>\n",
       "      <td>46.69</td>\n",
       "      <td>61.64</td>\n",
       "      <td>22.28</td>\n",
       "      <td>76.92</td>\n",
       "      <td>47.28</td>\n",
       "      <td>20.31</td>\n",
       "      <td>23.29</td>\n",
       "      <td>6.98</td>\n",
       "    </tr>\n",
       "    <tr>\n",
       "      <th>2015-09-01</th>\n",
       "      <td>44.68</td>\n",
       "      <td>24.73</td>\n",
       "      <td>26.62</td>\n",
       "      <td>29.97</td>\n",
       "      <td>72.79</td>\n",
       "      <td>18.59</td>\n",
       "      <td>15.32</td>\n",
       "      <td>19.38</td>\n",
       "      <td>23.57</td>\n",
       "      <td>133.78</td>\n",
       "      <td>...</td>\n",
       "      <td>148.73</td>\n",
       "      <td>65.24</td>\n",
       "      <td>44.96</td>\n",
       "      <td>60.08</td>\n",
       "      <td>21.21</td>\n",
       "      <td>74.82</td>\n",
       "      <td>46.54</td>\n",
       "      <td>19.89</td>\n",
       "      <td>21.70</td>\n",
       "      <td>6.74</td>\n",
       "    </tr>\n",
       "    <tr>\n",
       "      <th>2015-10-01</th>\n",
       "      <td>48.10</td>\n",
       "      <td>25.37</td>\n",
       "      <td>27.42</td>\n",
       "      <td>31.24</td>\n",
       "      <td>78.90</td>\n",
       "      <td>19.83</td>\n",
       "      <td>15.94</td>\n",
       "      <td>20.93</td>\n",
       "      <td>25.67</td>\n",
       "      <td>145.26</td>\n",
       "      <td>...</td>\n",
       "      <td>161.30</td>\n",
       "      <td>70.08</td>\n",
       "      <td>48.23</td>\n",
       "      <td>64.67</td>\n",
       "      <td>22.56</td>\n",
       "      <td>81.02</td>\n",
       "      <td>50.46</td>\n",
       "      <td>21.35</td>\n",
       "      <td>22.79</td>\n",
       "      <td>7.23</td>\n",
       "    </tr>\n",
       "  </tbody>\n",
       "</table>\n",
       "<p>5 rows × 87 columns</p>\n",
       "</div>"
      ],
      "text/plain": [
       "             ACWI    AOK    AOM    AOR   CRBN   DBEU   DDIV   DGRO   DGRW  \\\n",
       "Date                                                                        \n",
       "2015-06-01  49.25  25.34  27.53  31.58  80.51  19.98  16.14  20.52  25.40   \n",
       "2015-07-01  49.65  25.55  27.74  31.89  81.26  20.81  16.32  20.92  25.63   \n",
       "2015-08-01  46.27  24.90  26.93  30.54  76.17  19.28  15.27  19.71  24.06   \n",
       "2015-09-01  44.68  24.73  26.62  29.97  72.79  18.59  15.32  19.38  23.57   \n",
       "2015-10-01  48.10  25.37  27.42  31.24  78.90  19.83  15.94  20.93  25.67   \n",
       "\n",
       "               DIA  ...     VOO   VOOV     VT    VTV   VUSE     VV    VYM  \\\n",
       "Date                ...                                                     \n",
       "2015-06-01  143.75  ...  159.00  71.17  49.75  64.81  23.66  80.17  49.59   \n",
       "2015-07-01  144.59  ...  162.46  71.48  50.01  65.47  23.30  81.86  50.12   \n",
       "2015-08-01  135.62  ...  152.49  67.19  46.69  61.64  22.28  76.92  47.28   \n",
       "2015-09-01  133.78  ...  148.73  65.24  44.96  60.08  21.21  74.82  46.54   \n",
       "2015-10-01  145.26  ...  161.30  70.08  48.23  64.67  22.56  81.02  50.46   \n",
       "\n",
       "             XRLV   XSMO   YYY  \n",
       "Date                            \n",
       "2015-06-01  20.77  24.24  7.49  \n",
       "2015-07-01  21.44  24.66  7.33  \n",
       "2015-08-01  20.31  23.29  6.98  \n",
       "2015-09-01  19.89  21.70  6.74  \n",
       "2015-10-01  21.35  22.79  7.23  \n",
       "\n",
       "[5 rows x 87 columns]"
      ]
     },
     "metadata": {},
     "output_type": "display_data"
    }
   ],
   "source": [
    "benchmark_prices_monthly_df = (benchmark_prices_daily_df.set_index(pd.to_datetime(benchmark_prices_daily_df.pop('Date')))\n",
    "      if 'Date' in benchmark_prices_daily_df.columns else benchmark_prices_daily_df.copy())\n",
    "benchmark_prices_monthly_df.index = pd.to_datetime(benchmark_prices_monthly_df.index)              \n",
    "benchmark_prices_monthly_df = (benchmark_prices_monthly_df.resample('MS').last()\n",
    "   .reset_index()\n",
    "   .rename(columns={'index': 'Date'}))\n",
    "\n",
    "benchmark_prices_monthly_df.set_index('Date', inplace=True)\n",
    "display(benchmark_prices_monthly_df.head())"
   ]
  },
  {
   "cell_type": "markdown",
   "id": "49ab8af5",
   "metadata": {},
   "source": [
    "### Step 8: Calculate Returns (Lognormal)"
   ]
  },
  {
   "cell_type": "markdown",
   "id": "9ea4ce34",
   "metadata": {},
   "source": [
    "#### Benchmark"
   ]
  },
  {
   "cell_type": "code",
   "execution_count": 14,
   "id": "8374cc5a",
   "metadata": {
    "execution": {
     "iopub.execute_input": "2025-06-02T13:28:31.293059Z",
     "iopub.status.busy": "2025-06-02T13:28:31.292687Z",
     "iopub.status.idle": "2025-06-02T13:28:31.311861Z",
     "shell.execute_reply": "2025-06-02T13:28:31.310945Z"
    }
   },
   "outputs": [
    {
     "data": {
      "application/vnd.microsoft.datawrangler.viewer.v0+json": {
       "columns": [
        {
         "name": "Date",
         "rawType": "datetime64[ns]",
         "type": "datetime"
        },
        {
         "name": "ACWI",
         "rawType": "float64",
         "type": "float"
        },
        {
         "name": "AOK",
         "rawType": "float64",
         "type": "float"
        },
        {
         "name": "AOM",
         "rawType": "float64",
         "type": "float"
        },
        {
         "name": "AOR",
         "rawType": "float64",
         "type": "float"
        },
        {
         "name": "CRBN",
         "rawType": "float64",
         "type": "float"
        },
        {
         "name": "DBEU",
         "rawType": "float64",
         "type": "float"
        },
        {
         "name": "DDIV",
         "rawType": "float64",
         "type": "float"
        },
        {
         "name": "DGRO",
         "rawType": "float64",
         "type": "float"
        },
        {
         "name": "DGRW",
         "rawType": "float64",
         "type": "float"
        },
        {
         "name": "DIA",
         "rawType": "float64",
         "type": "float"
        },
        {
         "name": "DLN",
         "rawType": "float64",
         "type": "float"
        },
        {
         "name": "DTD",
         "rawType": "float64",
         "type": "float"
        },
        {
         "name": "DWAT",
         "rawType": "float64",
         "type": "float"
        },
        {
         "name": "EPI",
         "rawType": "float64",
         "type": "float"
        },
        {
         "name": "EPS",
         "rawType": "float64",
         "type": "float"
        },
        {
         "name": "EQL",
         "rawType": "float64",
         "type": "float"
        },
        {
         "name": "EQWL",
         "rawType": "float64",
         "type": "float"
        },
        {
         "name": "EUSA",
         "rawType": "float64",
         "type": "float"
        },
        {
         "name": "EWD",
         "rawType": "float64",
         "type": "float"
        },
        {
         "name": "EWL",
         "rawType": "float64",
         "type": "float"
        },
        {
         "name": "FAD",
         "rawType": "float64",
         "type": "float"
        },
        {
         "name": "FDIS",
         "rawType": "float64",
         "type": "float"
        },
        {
         "name": "FIDU",
         "rawType": "float64",
         "type": "float"
        },
        {
         "name": "FNDB",
         "rawType": "float64",
         "type": "float"
        },
        {
         "name": "FNDX",
         "rawType": "float64",
         "type": "float"
        },
        {
         "name": "FNY",
         "rawType": "float64",
         "type": "float"
        },
        {
         "name": "FTLS",
         "rawType": "float64",
         "type": "float"
        },
        {
         "name": "FV",
         "rawType": "float64",
         "type": "float"
        },
        {
         "name": "FYC",
         "rawType": "float64",
         "type": "float"
        },
        {
         "name": "GLOF",
         "rawType": "float64",
         "type": "float"
        },
        {
         "name": "IDHQ",
         "rawType": "float64",
         "type": "float"
        },
        {
         "name": "IDMO",
         "rawType": "float64",
         "type": "float"
        },
        {
         "name": "IGF",
         "rawType": "float64",
         "type": "float"
        },
        {
         "name": "IHDG",
         "rawType": "float64",
         "type": "float"
        },
        {
         "name": "ILCV",
         "rawType": "float64",
         "type": "float"
        },
        {
         "name": "IMTM",
         "rawType": "float64",
         "type": "float"
        },
        {
         "name": "IOO",
         "rawType": "float64",
         "type": "float"
        },
        {
         "name": "IQLT",
         "rawType": "float64",
         "type": "float"
        },
        {
         "name": "ITOT",
         "rawType": "float64",
         "type": "float"
        },
        {
         "name": "IUSV",
         "rawType": "float64",
         "type": "float"
        },
        {
         "name": "IVE",
         "rawType": "float64",
         "type": "float"
        },
        {
         "name": "IVV",
         "rawType": "float64",
         "type": "float"
        },
        {
         "name": "IWB",
         "rawType": "float64",
         "type": "float"
        },
        {
         "name": "IWL",
         "rawType": "float64",
         "type": "float"
        },
        {
         "name": "IWR",
         "rawType": "float64",
         "type": "float"
        },
        {
         "name": "LRGF",
         "rawType": "float64",
         "type": "float"
        },
        {
         "name": "MGC",
         "rawType": "float64",
         "type": "float"
        },
        {
         "name": "MGV",
         "rawType": "float64",
         "type": "float"
        },
        {
         "name": "MMTM",
         "rawType": "float64",
         "type": "float"
        },
        {
         "name": "OEF",
         "rawType": "float64",
         "type": "float"
        },
        {
         "name": "PCEF",
         "rawType": "float64",
         "type": "float"
        },
        {
         "name": "PFM",
         "rawType": "float64",
         "type": "float"
        },
        {
         "name": "PRF",
         "rawType": "float64",
         "type": "float"
        },
        {
         "name": "QDEF",
         "rawType": "float64",
         "type": "float"
        },
        {
         "name": "QDF",
         "rawType": "float64",
         "type": "float"
        },
        {
         "name": "QUAL",
         "rawType": "float64",
         "type": "float"
        },
        {
         "name": "QUS",
         "rawType": "float64",
         "type": "float"
        },
        {
         "name": "QWLD",
         "rawType": "float64",
         "type": "float"
        },
        {
         "name": "ROUS",
         "rawType": "float64",
         "type": "float"
        },
        {
         "name": "RWL",
         "rawType": "float64",
         "type": "float"
        },
        {
         "name": "SCHX",
         "rawType": "float64",
         "type": "float"
        },
        {
         "name": "SIZE",
         "rawType": "float64",
         "type": "float"
        },
        {
         "name": "SMIN",
         "rawType": "float64",
         "type": "float"
        },
        {
         "name": "SPGM",
         "rawType": "float64",
         "type": "float"
        },
        {
         "name": "SPHB",
         "rawType": "float64",
         "type": "float"
        },
        {
         "name": "SPLG",
         "rawType": "float64",
         "type": "float"
        },
        {
         "name": "SPTM",
         "rawType": "float64",
         "type": "float"
        },
        {
         "name": "SPY",
         "rawType": "float64",
         "type": "float"
        },
        {
         "name": "SPYV",
         "rawType": "float64",
         "type": "float"
        },
        {
         "name": "SSPY",
         "rawType": "float64",
         "type": "float"
        },
        {
         "name": "SUSA",
         "rawType": "float64",
         "type": "float"
        },
        {
         "name": "TOK",
         "rawType": "float64",
         "type": "float"
        },
        {
         "name": "URTH",
         "rawType": "float64",
         "type": "float"
        },
        {
         "name": "VB",
         "rawType": "float64",
         "type": "float"
        },
        {
         "name": "VCR",
         "rawType": "float64",
         "type": "float"
        },
        {
         "name": "VO",
         "rawType": "float64",
         "type": "float"
        },
        {
         "name": "VONE",
         "rawType": "float64",
         "type": "float"
        },
        {
         "name": "VOO",
         "rawType": "float64",
         "type": "float"
        },
        {
         "name": "VOOV",
         "rawType": "float64",
         "type": "float"
        },
        {
         "name": "VT",
         "rawType": "float64",
         "type": "float"
        },
        {
         "name": "VTV",
         "rawType": "float64",
         "type": "float"
        },
        {
         "name": "VUSE",
         "rawType": "float64",
         "type": "float"
        },
        {
         "name": "VV",
         "rawType": "float64",
         "type": "float"
        },
        {
         "name": "VYM",
         "rawType": "float64",
         "type": "float"
        },
        {
         "name": "XRLV",
         "rawType": "float64",
         "type": "float"
        },
        {
         "name": "XSMO",
         "rawType": "float64",
         "type": "float"
        },
        {
         "name": "YYY",
         "rawType": "float64",
         "type": "float"
        }
       ],
       "ref": "0c1f31bc-63ec-432a-b131-69324b82b8b2",
       "rows": [
        [
         "2015-07-01 00:00:00",
         "0.008089022873083603",
         "0.008253141756720482",
         "0.007599095732169452",
         "0.009768472194470383",
         "0.009272490247691358",
         "0.04070186718513549",
         "0.011090686694158138",
         "0.01930561889415347",
         "0.009014366351488915",
         "0.005826471362575159",
         "0.010582109330537008",
         "0.0105190310745186",
         "0.019943680967335328",
         "0.020510842623231752",
         "0.012048338516174355",
         "0.011850039917496023",
         "0.022954798293024208",
         "0.015483841690839677",
         "0.008460287349391181",
         "0.04017185708194708",
         "0.02259071463018076",
         "0.039000199907811006",
         "-0.004171887569406381",
         "0.004956639639928196",
         "0.003715174551863378",
         "0.01820338200868104",
         "0.013733258881093996",
         "0.030472099537402757",
         "0.012274055899511698",
         "-0.018081858792319064",
         "0.012793351459909542",
         "-0.027028672387919374",
         "0.0045691985499878825",
         "0.0474022388945839",
         "0.006438777418732465",
         "-0.005959220019087257",
         "0.014631304267860471",
         "0.01641302964133027",
         "0.019071785495797067",
         "0.001953398137536515",
         "0.004442955810782461",
         "0.021715268928082274",
         "0.019386876088441356",
         "0.024460762486525664",
         "0.007339981301990974",
         "0.012293299024638656",
         "0.021832381204757903",
         "0.01090803244272854",
         "0.02391474216975392",
         "0.028196037680758734",
         "-0.0038240964384035057",
         "0.012313260233357106",
         "0.004705891037412714",
         "0.014981553615616894",
         "0.015925056058598633",
         "0.02823245521727765",
         "-0.004605073710314999",
         "-0.0047234884122552764",
         "0.022833151298218873",
         "0.0087108564742486",
         "0.019943680967335328",
         "0.024560764742596577",
         "0.06706999940638798",
         "-0.01380361406294765",
         "-0.04199819015938662",
         "0.019296305427066073",
         "0.014949315775006307",
         "0.022329838909414968",
         "0.004565059918754055",
         "0.009080270898003787",
         "0.012355784371718104",
         "0.023170533826151966",
         "0.02597124329883582",
         "-0.0028752176219271953",
         "0.038588557481460346",
         "0.011600952210454181",
         "0.01988234061812963",
         "0.021527615402576417",
         "0.004346308980047529",
         "0.005212521826210598",
         "0.01013211001337529",
         "-0.015332497978585852",
         "0.020861091009396635",
         "0.010630929526824873",
         "0.031748698314580485",
         "0.01717833653508455",
         "-0.02159328163056802"
        ],
        [
         "2015-08-01 00:00:00",
         "-0.07050458757227324",
         "-0.025769513179051566",
         "-0.02963450806317796",
         "-0.04325518123147992",
         "-0.06468620617488394",
         "-0.0763653512231434",
         "-0.06650123030541988",
         "-0.05957951803209336",
         "-0.06321282982944695",
         "-0.0640452937843389",
         "-0.061129135026737016",
         "-0.06112614274364",
         "-0.06256585599173826",
         "-0.118108439974116",
         "-0.06387340638076049",
         "-0.05723541095259498",
         "-0.07147002317648281",
         "-0.05927462201803017",
         "-0.054980302984284135",
         "-0.0690182100738199",
         "-0.058943247925002336",
         "-0.06476827415409014",
         "-0.05323145022287974",
         "-0.05985236137184533",
         "-0.05985236137184533",
         "-0.07595138374378195",
         "-0.03589955433835433",
         "-0.07664429264011931",
         "-0.06533070213882253",
         "-0.04615805088630698",
         "-0.043929116871451304",
         "-0.08526943303789443",
         "-0.054193861945620814",
         "-0.07748749547837427",
         "-0.05852566479953146",
         "-0.0640788566845224",
         "-0.07097959720477433",
         "-0.08085699260191265",
         "-0.06277364176977042",
         "-0.05914467482439644",
         "-0.062355700138820275",
         "-0.06343320708777994",
         "-0.06207438889434838",
         "-0.06582484154354223",
         "-0.05397694004419558",
         "-0.05953851072086543",
         "-0.06522014695140489",
         "-0.06276741798607006",
         "-0.0649536329060202",
         "-0.06886707741168639",
         "-0.0360838757240217",
         "-0.05202967144586249",
         "-0.059409732996892284",
         "-0.054624997616427765",
         "-0.05271166727911374",
         "-0.055574982530866235",
         "-0.0313927124078626",
         "-0.05912151058659449",
         "-0.09358256635994709",
         "-0.06109452115818569",
         "-0.06256585599173826",
         "-0.05753078398016647",
         "-0.09667504960458131",
         "-0.053629050313999255",
         "-0.05202118475087847",
         "-0.060564900713965544",
         "-0.060708932924473165",
         "-0.06290287951358384",
         "-0.06265096496166737",
         "-0.05576117463556856",
         "-0.06450292824902662",
         "-0.07190380384713163",
         "-0.06804892133109859",
         "-0.06002493603380369",
         "-0.06588611179119175",
         "-0.05286712229457164",
         "-0.06292951033187043",
         "-0.06333279749588697",
         "-0.06189326335916877",
         "-0.06869297644796674",
         "-0.060281012001084974",
         "-0.04476394551257153",
         "-0.06224455034367791",
         "-0.05833275693002474",
         "-0.05414496061030809",
         "-0.05715841383994864",
         "-0.04892659912427896"
        ],
        [
         "2015-09-01 00:00:00",
         "-0.03496782871790831",
         "-0.006850721937337045",
         "-0.011578093856541906",
         "-0.01884041846191453",
         "-0.04538910125453019",
         "-0.036444487449047006",
         "0.003269045081904135",
         "-0.01688451470200872",
         "-0.020575993598493006",
         "-0.013660197565434058",
         "-0.01692724261356143",
         "-0.01758040415946202",
         "-0.04138521616285436",
         "0.019147669414134066",
         "-0.029143994669081012",
         "-0.02834909302443482",
         "-0.032266119910882934",
         "-0.04550735732050662",
         "-0.04366314291759896",
         "-0.039540034370327604",
         "-0.038603175922809874",
         "-0.01668249995993602",
         "-0.034540325252176096",
         "-0.027945930390559336",
         "-0.025250510968887214",
         "-0.03126939398139458",
         "-0.0027624326959100726",
         "-0.06268006312237448",
         "-0.033098300829241575",
         "-0.03401137540870035",
         "-0.0354076253650697",
         "-0.11753443403919267",
         "-0.024357502022230464",
         "-0.015389000963653568",
         "-0.023275923761820413",
         "-0.055948073932533024",
         "-0.02784163335250073",
         "-0.03437116998899",
         "-0.026470576767363068",
         "-0.03277010498524836",
         "-0.028571300276682962",
         "-0.025302444995266474",
         "-0.028452184959967028",
         "-0.025611961026215116",
         "-0.036981940344486555",
         "-0.023720516650214032",
         "-0.02512381587419767",
         "-0.021983940077359303",
         "-0.032938966265362364",
         "-0.022626016318578437",
         "-0.022089251546473444",
         "-0.01796270037417248",
         "-0.029615743364438795",
         "-0.015829376821163543",
         "-0.02568667198443417",
         "-0.01299464109967358",
         "-0.036053235429255606",
         "-0.009040322265576245",
         "-0.003698815313457544",
         "-0.026468928088062327",
         "-0.027398974188114388",
         "-0.02012670214913142",
         "0.023896864880861034",
         "-0.01719010948202988",
         "-0.06678151273215265",
         "-0.03670611091974834",
         "-0.03599610413316214",
         "-0.025821181209325045",
         "-0.03286166448400088",
         "-0.02945615264293809",
         "-0.02129576881221255",
         "-0.04171845356729227",
         "-0.036201457952443186",
         "-0.04641325216924938",
         "-0.015980671988350015",
         "-0.0375598946846812",
         "-0.027777752596556706",
         "-0.024966438522414376",
         "-0.029451649179245573",
         "-0.037756803397409895",
         "-0.025634002996035788",
         "-0.04921664648249216",
         "-0.02768069180057896",
         "-0.01577521522369718",
         "-0.020896282726412377",
         "-0.07071182334983574",
         "-0.03498899185006548"
        ],
        [
         "2015-10-01 00:00:00",
         "0.07375620291071552",
         "0.02555029207786558",
         "0.029609861167202677",
         "0.04150244364291342",
         "0.08060264472166201",
         "0.06457214079835186",
         "0.03967250904962366",
         "0.07694192999528816",
         "0.08534827793500932",
         "0.08232858048776005",
         "0.0780563776402984",
         "0.07731038611784717",
         "0.04288559153808888",
         "0.009153381986487201",
         "0.0870113769896297",
         "0.07726024999494271",
         "0.08444100121187216",
         "0.075449713935585",
         "0.03786085036141583",
         "0.03801854301557467",
         "0.060158891776191756",
         "0.07592208000370931",
         "0.08484106372697509",
         "0.07661110237184039",
         "0.07641256314875523",
         "0.04532443912503895",
         "0.041651525882630366",
         "0.05182022788636584",
         "0.05881013672608436",
         "0.06895626089550323",
         "0.05109668266230453",
         "0.11902511754504827",
         "0.042075171628620095",
         "0.07120077096298745",
         "0.07505516616249734",
         "0.046590704497891974",
         "0.08738890534504075",
         "0.07730892772860894",
         "0.07913440489856736",
         "0.07220693475134486",
         "0.07111899964975471",
         "0.08139844792866871",
         "0.0779125313382189",
         "0.08531608325324501",
         "0.059594548834603675",
         "0.061405426084458536",
         "0.08455738802806298",
         "0.07513281645057272",
         "0.08549231244110092",
         "0.09073799679028445",
         "0.04758082794754967",
         "0.069992371820035",
         "0.07347937077105343",
         "0.07119759260632501",
         "0.07803920835647365",
         "0.08283520078936205",
         "0.09300454561308448",
         "0.06341592716753071",
         "0.07001581730711919",
         "0.06711881191613067",
         "0.07861719068231522",
         "0.06563045753395781",
         "0.02123973650091119",
         "0.053387873418061546",
         "0.09875190043746987",
         "0.09007846084688703",
         "0.08312402252233798",
         "0.08161903478097901",
         "0.07557841454485091",
         "0.06867686579621934",
         "0.07910254240382793",
         "0.07416135531134817",
         "0.0674646224670308",
         "0.05513984230270089",
         "0.07481581150375066",
         "0.05803066258549726",
         "0.0778226796733444",
         "0.08113340352665674",
         "0.07156466887532298",
         "0.07020802849544489",
         "0.07362040800262208",
         "0.06170565805326695",
         "0.0796108088545444",
         "0.08086878533876604",
         "0.0708346468087527",
         "0.04900958271117902",
         "0.07017911124645777"
        ],
        [
         "2015-11-01 00:00:00",
         "-0.005211059212752199",
         "-0.003553804332533826",
         "-0.0025561452661781183",
         "0.0",
         "-0.005337412594720939",
         "0.019970708647949677",
         "-0.0012554929458319796",
         "0.0",
         "0.002334631410603746",
         "0.007407441277861818",
         "-0.0007020007308297824",
         "0.00034922298242112915",
         "-0.018154810280371827",
         "-0.01260761685457474",
         "0.0030075210639553224",
         "0.0017582422111963444",
         "0.009392585336474607",
         "-0.0005364806995623168",
         "0.004020554891062275",
         "-0.028181753093055335",
         "0.008452787159924346",
         "-0.005907923352451383",
         "0.013741627852296387",
         "0.002496880198587146",
         "0.0",
         "0.010413145117489914",
         "0.015141829784126795",
         "0.021157665212788036",
         "0.03123712793900805",
         "-0.0005126890653188346",
         "0.012991212712330868",
         "-0.023104995666308914",
         "-0.042075171628620095",
         "0.02313664611871525",
         "0.004298440760214497",
         "-0.0014855164900667802",
         "-0.003840004718602354",
         "-0.009221128187034031",
         "0.004204284664524966",
         "0.00623584787148098",
         "0.005738504612168435",
         "0.003901065017964641",
         "0.00412205882007012",
         "0.006120719316512413",
         "0.003348217413660027",
         "0.005269473271085447",
         "0.0039715425362058555",
         "0.005568658639582304",
         "0.010874539454006592",
         "0.0033934551511286583",
         "-0.012664562841321884",
         "0.0",
         "0.0027210901143608075",
         "-0.007831477654657639",
         "-0.002877699827615058",
         "0.004416578153489211",
         "-0.008644454616340964",
         "-0.008359921299504285",
         "0.008845266514966268",
         "0.003240538997201381",
         "0.0042704691234522855",
         "0.00585471378755392",
         "-0.0038603311669790493",
         "-0.005750447128437714",
         "0.004330573350364429",
         "0.0004811161988401639",
         "0.004093705967167559",
         "0.0036715944880918497",
         "0.005662820795484431",
         "0.006784286536922488",
         "0.0029518336206120375",
         "-0.00696381644307107",
         "0.002672905032725354",
         "0.01782364196066944",
         "-0.004698798485239133",
         "0.0029973795389742594",
         "0.003907208877908784",
         "0.004268619800883272",
         "0.00583340915764814",
         "-0.0008297034286391127",
         "0.005397499417257827",
         "0.019315789299291702",
         "0.003449978779220406",
         "0.0021775718789799003",
         "0.019940377830180912",
         "0.047556615679872086",
         "-0.03090133512417471"
        ]
       ],
       "shape": {
        "columns": 87,
        "rows": 5
       }
      },
      "text/html": [
       "<div>\n",
       "<style scoped>\n",
       "    .dataframe tbody tr th:only-of-type {\n",
       "        vertical-align: middle;\n",
       "    }\n",
       "\n",
       "    .dataframe tbody tr th {\n",
       "        vertical-align: top;\n",
       "    }\n",
       "\n",
       "    .dataframe thead th {\n",
       "        text-align: right;\n",
       "    }\n",
       "</style>\n",
       "<table border=\"1\" class=\"dataframe\">\n",
       "  <thead>\n",
       "    <tr style=\"text-align: right;\">\n",
       "      <th></th>\n",
       "      <th>ACWI</th>\n",
       "      <th>AOK</th>\n",
       "      <th>AOM</th>\n",
       "      <th>AOR</th>\n",
       "      <th>CRBN</th>\n",
       "      <th>DBEU</th>\n",
       "      <th>DDIV</th>\n",
       "      <th>DGRO</th>\n",
       "      <th>DGRW</th>\n",
       "      <th>DIA</th>\n",
       "      <th>...</th>\n",
       "      <th>VOO</th>\n",
       "      <th>VOOV</th>\n",
       "      <th>VT</th>\n",
       "      <th>VTV</th>\n",
       "      <th>VUSE</th>\n",
       "      <th>VV</th>\n",
       "      <th>VYM</th>\n",
       "      <th>XRLV</th>\n",
       "      <th>XSMO</th>\n",
       "      <th>YYY</th>\n",
       "    </tr>\n",
       "    <tr>\n",
       "      <th>Date</th>\n",
       "      <th></th>\n",
       "      <th></th>\n",
       "      <th></th>\n",
       "      <th></th>\n",
       "      <th></th>\n",
       "      <th></th>\n",
       "      <th></th>\n",
       "      <th></th>\n",
       "      <th></th>\n",
       "      <th></th>\n",
       "      <th></th>\n",
       "      <th></th>\n",
       "      <th></th>\n",
       "      <th></th>\n",
       "      <th></th>\n",
       "      <th></th>\n",
       "      <th></th>\n",
       "      <th></th>\n",
       "      <th></th>\n",
       "      <th></th>\n",
       "      <th></th>\n",
       "    </tr>\n",
       "  </thead>\n",
       "  <tbody>\n",
       "    <tr>\n",
       "      <th>2015-07-01</th>\n",
       "      <td>0.008089</td>\n",
       "      <td>0.008253</td>\n",
       "      <td>0.007599</td>\n",
       "      <td>0.009768</td>\n",
       "      <td>0.009272</td>\n",
       "      <td>0.040702</td>\n",
       "      <td>0.011091</td>\n",
       "      <td>0.019306</td>\n",
       "      <td>0.009014</td>\n",
       "      <td>0.005826</td>\n",
       "      <td>...</td>\n",
       "      <td>0.021528</td>\n",
       "      <td>0.004346</td>\n",
       "      <td>0.005213</td>\n",
       "      <td>0.010132</td>\n",
       "      <td>-0.015332</td>\n",
       "      <td>0.020861</td>\n",
       "      <td>0.010631</td>\n",
       "      <td>0.031749</td>\n",
       "      <td>0.017178</td>\n",
       "      <td>-0.021593</td>\n",
       "    </tr>\n",
       "    <tr>\n",
       "      <th>2015-08-01</th>\n",
       "      <td>-0.070505</td>\n",
       "      <td>-0.025770</td>\n",
       "      <td>-0.029635</td>\n",
       "      <td>-0.043255</td>\n",
       "      <td>-0.064686</td>\n",
       "      <td>-0.076365</td>\n",
       "      <td>-0.066501</td>\n",
       "      <td>-0.059580</td>\n",
       "      <td>-0.063213</td>\n",
       "      <td>-0.064045</td>\n",
       "      <td>...</td>\n",
       "      <td>-0.063333</td>\n",
       "      <td>-0.061893</td>\n",
       "      <td>-0.068693</td>\n",
       "      <td>-0.060281</td>\n",
       "      <td>-0.044764</td>\n",
       "      <td>-0.062245</td>\n",
       "      <td>-0.058333</td>\n",
       "      <td>-0.054145</td>\n",
       "      <td>-0.057158</td>\n",
       "      <td>-0.048927</td>\n",
       "    </tr>\n",
       "    <tr>\n",
       "      <th>2015-09-01</th>\n",
       "      <td>-0.034968</td>\n",
       "      <td>-0.006851</td>\n",
       "      <td>-0.011578</td>\n",
       "      <td>-0.018840</td>\n",
       "      <td>-0.045389</td>\n",
       "      <td>-0.036444</td>\n",
       "      <td>0.003269</td>\n",
       "      <td>-0.016885</td>\n",
       "      <td>-0.020576</td>\n",
       "      <td>-0.013660</td>\n",
       "      <td>...</td>\n",
       "      <td>-0.024966</td>\n",
       "      <td>-0.029452</td>\n",
       "      <td>-0.037757</td>\n",
       "      <td>-0.025634</td>\n",
       "      <td>-0.049217</td>\n",
       "      <td>-0.027681</td>\n",
       "      <td>-0.015775</td>\n",
       "      <td>-0.020896</td>\n",
       "      <td>-0.070712</td>\n",
       "      <td>-0.034989</td>\n",
       "    </tr>\n",
       "    <tr>\n",
       "      <th>2015-10-01</th>\n",
       "      <td>0.073756</td>\n",
       "      <td>0.025550</td>\n",
       "      <td>0.029610</td>\n",
       "      <td>0.041502</td>\n",
       "      <td>0.080603</td>\n",
       "      <td>0.064572</td>\n",
       "      <td>0.039673</td>\n",
       "      <td>0.076942</td>\n",
       "      <td>0.085348</td>\n",
       "      <td>0.082329</td>\n",
       "      <td>...</td>\n",
       "      <td>0.081133</td>\n",
       "      <td>0.071565</td>\n",
       "      <td>0.070208</td>\n",
       "      <td>0.073620</td>\n",
       "      <td>0.061706</td>\n",
       "      <td>0.079611</td>\n",
       "      <td>0.080869</td>\n",
       "      <td>0.070835</td>\n",
       "      <td>0.049010</td>\n",
       "      <td>0.070179</td>\n",
       "    </tr>\n",
       "    <tr>\n",
       "      <th>2015-11-01</th>\n",
       "      <td>-0.005211</td>\n",
       "      <td>-0.003554</td>\n",
       "      <td>-0.002556</td>\n",
       "      <td>0.000000</td>\n",
       "      <td>-0.005337</td>\n",
       "      <td>0.019971</td>\n",
       "      <td>-0.001255</td>\n",
       "      <td>0.000000</td>\n",
       "      <td>0.002335</td>\n",
       "      <td>0.007407</td>\n",
       "      <td>...</td>\n",
       "      <td>0.004269</td>\n",
       "      <td>0.005833</td>\n",
       "      <td>-0.000830</td>\n",
       "      <td>0.005397</td>\n",
       "      <td>0.019316</td>\n",
       "      <td>0.003450</td>\n",
       "      <td>0.002178</td>\n",
       "      <td>0.019940</td>\n",
       "      <td>0.047557</td>\n",
       "      <td>-0.030901</td>\n",
       "    </tr>\n",
       "  </tbody>\n",
       "</table>\n",
       "<p>5 rows × 87 columns</p>\n",
       "</div>"
      ],
      "text/plain": [
       "                ACWI       AOK       AOM       AOR      CRBN      DBEU  \\\n",
       "Date                                                                     \n",
       "2015-07-01  0.008089  0.008253  0.007599  0.009768  0.009272  0.040702   \n",
       "2015-08-01 -0.070505 -0.025770 -0.029635 -0.043255 -0.064686 -0.076365   \n",
       "2015-09-01 -0.034968 -0.006851 -0.011578 -0.018840 -0.045389 -0.036444   \n",
       "2015-10-01  0.073756  0.025550  0.029610  0.041502  0.080603  0.064572   \n",
       "2015-11-01 -0.005211 -0.003554 -0.002556  0.000000 -0.005337  0.019971   \n",
       "\n",
       "                DDIV      DGRO      DGRW       DIA  ...       VOO      VOOV  \\\n",
       "Date                                                ...                       \n",
       "2015-07-01  0.011091  0.019306  0.009014  0.005826  ...  0.021528  0.004346   \n",
       "2015-08-01 -0.066501 -0.059580 -0.063213 -0.064045  ... -0.063333 -0.061893   \n",
       "2015-09-01  0.003269 -0.016885 -0.020576 -0.013660  ... -0.024966 -0.029452   \n",
       "2015-10-01  0.039673  0.076942  0.085348  0.082329  ...  0.081133  0.071565   \n",
       "2015-11-01 -0.001255  0.000000  0.002335  0.007407  ...  0.004269  0.005833   \n",
       "\n",
       "                  VT       VTV      VUSE        VV       VYM      XRLV  \\\n",
       "Date                                                                     \n",
       "2015-07-01  0.005213  0.010132 -0.015332  0.020861  0.010631  0.031749   \n",
       "2015-08-01 -0.068693 -0.060281 -0.044764 -0.062245 -0.058333 -0.054145   \n",
       "2015-09-01 -0.037757 -0.025634 -0.049217 -0.027681 -0.015775 -0.020896   \n",
       "2015-10-01  0.070208  0.073620  0.061706  0.079611  0.080869  0.070835   \n",
       "2015-11-01 -0.000830  0.005397  0.019316  0.003450  0.002178  0.019940   \n",
       "\n",
       "                XSMO       YYY  \n",
       "Date                            \n",
       "2015-07-01  0.017178 -0.021593  \n",
       "2015-08-01 -0.057158 -0.048927  \n",
       "2015-09-01 -0.070712 -0.034989  \n",
       "2015-10-01  0.049010  0.070179  \n",
       "2015-11-01  0.047557 -0.030901  \n",
       "\n",
       "[5 rows x 87 columns]"
      ]
     },
     "execution_count": 14,
     "metadata": {},
     "output_type": "execute_result"
    }
   ],
   "source": [
    "benchmark_log_returns_df = np.log(benchmark_prices_monthly_df / benchmark_prices_monthly_df.shift(1))\n",
    "benchmark_log_returns_df = benchmark_log_returns_df.dropna().sort_index(axis=0, ascending=True).sort_index(axis=1, ascending=True)\n",
    "benchmark_log_returns_df.head()"
   ]
  },
  {
   "cell_type": "markdown",
   "id": "3798f32a",
   "metadata": {},
   "source": [
    "#### Stocks"
   ]
  },
  {
   "cell_type": "code",
   "execution_count": 15,
   "id": "16169afe",
   "metadata": {
    "execution": {
     "iopub.execute_input": "2025-06-02T13:28:31.314257Z",
     "iopub.status.busy": "2025-06-02T13:28:31.313851Z",
     "iopub.status.idle": "2025-06-02T13:28:31.329427Z",
     "shell.execute_reply": "2025-06-02T13:28:31.328391Z"
    }
   },
   "outputs": [
    {
     "data": {
      "application/vnd.microsoft.datawrangler.viewer.v0+json": {
       "columns": [
        {
         "name": "Date",
         "rawType": "datetime64[ns]",
         "type": "datetime"
        },
        {
         "name": "AMAT",
         "rawType": "float64",
         "type": "float"
        },
        {
         "name": "APO",
         "rawType": "float64",
         "type": "float"
        },
        {
         "name": "MMC",
         "rawType": "float64",
         "type": "float"
        },
        {
         "name": "MRK",
         "rawType": "float64",
         "type": "float"
        },
        {
         "name": "TMUS",
         "rawType": "float64",
         "type": "float"
        }
       ],
       "ref": "c1919282-06ab-44d7-aa61-25b4edef42d5",
       "rows": [
        [
         "2015-08-01 00:00:00",
         "-0.06996800564515786",
         "-0.08120168018109065",
         "-0.07549958672913168",
         "-0.0907208228630535",
         "-0.025988723809523384"
        ],
        [
         "2015-09-01 00:00:00",
         "-0.0911377119985242",
         "-0.07836906711550677",
         "-0.02844004165015933",
         "-0.07798990181627724",
         "0.004892503643514565"
        ],
        [
         "2015-10-01 00:00:00",
         "0.1327677423392253",
         "0.061476773551001306",
         "0.07110917909628138",
         "0.10132515822524113",
         "-0.04949680988026849"
        ],
        [
         "2015-11-01 00:00:00",
         "0.11837703626784934",
         "-0.0908906587572944",
         "-0.00800847272833768",
         "-0.030443355311507457",
         "-0.06495246194994637"
        ],
        [
         "2015-12-01 00:00:00",
         "-0.00535875054310519",
         "-0.07353408404614899",
         "0.002746964220735252",
         "0.00500725779373175",
         "0.0970890742199574"
        ]
       ],
       "shape": {
        "columns": 5,
        "rows": 5
       }
      },
      "text/html": [
       "<div>\n",
       "<style scoped>\n",
       "    .dataframe tbody tr th:only-of-type {\n",
       "        vertical-align: middle;\n",
       "    }\n",
       "\n",
       "    .dataframe tbody tr th {\n",
       "        vertical-align: top;\n",
       "    }\n",
       "\n",
       "    .dataframe thead th {\n",
       "        text-align: right;\n",
       "    }\n",
       "</style>\n",
       "<table border=\"1\" class=\"dataframe\">\n",
       "  <thead>\n",
       "    <tr style=\"text-align: right;\">\n",
       "      <th></th>\n",
       "      <th>AMAT</th>\n",
       "      <th>APO</th>\n",
       "      <th>MMC</th>\n",
       "      <th>MRK</th>\n",
       "      <th>TMUS</th>\n",
       "    </tr>\n",
       "    <tr>\n",
       "      <th>Date</th>\n",
       "      <th></th>\n",
       "      <th></th>\n",
       "      <th></th>\n",
       "      <th></th>\n",
       "      <th></th>\n",
       "    </tr>\n",
       "  </thead>\n",
       "  <tbody>\n",
       "    <tr>\n",
       "      <th>2015-08-01</th>\n",
       "      <td>-0.069968</td>\n",
       "      <td>-0.081202</td>\n",
       "      <td>-0.075500</td>\n",
       "      <td>-0.090721</td>\n",
       "      <td>-0.025989</td>\n",
       "    </tr>\n",
       "    <tr>\n",
       "      <th>2015-09-01</th>\n",
       "      <td>-0.091138</td>\n",
       "      <td>-0.078369</td>\n",
       "      <td>-0.028440</td>\n",
       "      <td>-0.077990</td>\n",
       "      <td>0.004893</td>\n",
       "    </tr>\n",
       "    <tr>\n",
       "      <th>2015-10-01</th>\n",
       "      <td>0.132768</td>\n",
       "      <td>0.061477</td>\n",
       "      <td>0.071109</td>\n",
       "      <td>0.101325</td>\n",
       "      <td>-0.049497</td>\n",
       "    </tr>\n",
       "    <tr>\n",
       "      <th>2015-11-01</th>\n",
       "      <td>0.118377</td>\n",
       "      <td>-0.090891</td>\n",
       "      <td>-0.008008</td>\n",
       "      <td>-0.030443</td>\n",
       "      <td>-0.064952</td>\n",
       "    </tr>\n",
       "    <tr>\n",
       "      <th>2015-12-01</th>\n",
       "      <td>-0.005359</td>\n",
       "      <td>-0.073534</td>\n",
       "      <td>0.002747</td>\n",
       "      <td>0.005007</td>\n",
       "      <td>0.097089</td>\n",
       "    </tr>\n",
       "  </tbody>\n",
       "</table>\n",
       "</div>"
      ],
      "text/plain": [
       "                AMAT       APO       MMC       MRK      TMUS\n",
       "Date                                                        \n",
       "2015-08-01 -0.069968 -0.081202 -0.075500 -0.090721 -0.025989\n",
       "2015-09-01 -0.091138 -0.078369 -0.028440 -0.077990  0.004893\n",
       "2015-10-01  0.132768  0.061477  0.071109  0.101325 -0.049497\n",
       "2015-11-01  0.118377 -0.090891 -0.008008 -0.030443 -0.064952\n",
       "2015-12-01 -0.005359 -0.073534  0.002747  0.005007  0.097089"
      ]
     },
     "execution_count": 15,
     "metadata": {},
     "output_type": "execute_result"
    }
   ],
   "source": [
    "stock_log_returns_df = np.log(stock_prices_monthly_df / stock_prices_monthly_df.shift(1))\n",
    "stock_log_returns_df = stock_log_returns_df.dropna().sort_index(axis=0, ascending=True).sort_index(axis=1, ascending=True)\n",
    "stock_log_returns_df.head()"
   ]
  },
  {
   "cell_type": "markdown",
   "id": "4936e919",
   "metadata": {},
   "source": [
    "### Step 9: Calculate Excess Return (Expected Return - Risk-free Rate)"
   ]
  },
  {
   "cell_type": "markdown",
   "id": "8b0c3a9a",
   "metadata": {},
   "source": [
    "#### Benchmark"
   ]
  },
  {
   "cell_type": "code",
   "execution_count": 16,
   "id": "37b6707b",
   "metadata": {
    "execution": {
     "iopub.execute_input": "2025-06-02T13:28:31.332071Z",
     "iopub.status.busy": "2025-06-02T13:28:31.331679Z",
     "iopub.status.idle": "2025-06-02T13:28:31.346683Z",
     "shell.execute_reply": "2025-06-02T13:28:31.345862Z"
    }
   },
   "outputs": [
    {
     "data": {
      "application/vnd.microsoft.datawrangler.viewer.v0+json": {
       "columns": [
        {
         "name": "Date",
         "rawType": "datetime64[ns]",
         "type": "datetime"
        },
        {
         "name": "ACWI",
         "rawType": "float64",
         "type": "float"
        },
        {
         "name": "AOK",
         "rawType": "float64",
         "type": "float"
        },
        {
         "name": "AOM",
         "rawType": "float64",
         "type": "float"
        },
        {
         "name": "AOR",
         "rawType": "float64",
         "type": "float"
        },
        {
         "name": "CRBN",
         "rawType": "float64",
         "type": "float"
        },
        {
         "name": "DBEU",
         "rawType": "float64",
         "type": "float"
        },
        {
         "name": "DDIV",
         "rawType": "float64",
         "type": "float"
        },
        {
         "name": "DGRO",
         "rawType": "float64",
         "type": "float"
        },
        {
         "name": "DGRW",
         "rawType": "float64",
         "type": "float"
        },
        {
         "name": "DIA",
         "rawType": "float64",
         "type": "float"
        },
        {
         "name": "DLN",
         "rawType": "float64",
         "type": "float"
        },
        {
         "name": "DTD",
         "rawType": "float64",
         "type": "float"
        },
        {
         "name": "DWAT",
         "rawType": "float64",
         "type": "float"
        },
        {
         "name": "EPI",
         "rawType": "float64",
         "type": "float"
        },
        {
         "name": "EPS",
         "rawType": "float64",
         "type": "float"
        },
        {
         "name": "EQL",
         "rawType": "float64",
         "type": "float"
        },
        {
         "name": "EQWL",
         "rawType": "float64",
         "type": "float"
        },
        {
         "name": "EUSA",
         "rawType": "float64",
         "type": "float"
        },
        {
         "name": "EWD",
         "rawType": "float64",
         "type": "float"
        },
        {
         "name": "EWL",
         "rawType": "float64",
         "type": "float"
        },
        {
         "name": "FAD",
         "rawType": "float64",
         "type": "float"
        },
        {
         "name": "FDIS",
         "rawType": "float64",
         "type": "float"
        },
        {
         "name": "FIDU",
         "rawType": "float64",
         "type": "float"
        },
        {
         "name": "FNDB",
         "rawType": "float64",
         "type": "float"
        },
        {
         "name": "FNDX",
         "rawType": "float64",
         "type": "float"
        },
        {
         "name": "FNY",
         "rawType": "float64",
         "type": "float"
        },
        {
         "name": "FTLS",
         "rawType": "float64",
         "type": "float"
        },
        {
         "name": "FV",
         "rawType": "float64",
         "type": "float"
        },
        {
         "name": "FYC",
         "rawType": "float64",
         "type": "float"
        },
        {
         "name": "GLOF",
         "rawType": "float64",
         "type": "float"
        },
        {
         "name": "IDHQ",
         "rawType": "float64",
         "type": "float"
        },
        {
         "name": "IDMO",
         "rawType": "float64",
         "type": "float"
        },
        {
         "name": "IGF",
         "rawType": "float64",
         "type": "float"
        },
        {
         "name": "IHDG",
         "rawType": "float64",
         "type": "float"
        },
        {
         "name": "ILCV",
         "rawType": "float64",
         "type": "float"
        },
        {
         "name": "IMTM",
         "rawType": "float64",
         "type": "float"
        },
        {
         "name": "IOO",
         "rawType": "float64",
         "type": "float"
        },
        {
         "name": "IQLT",
         "rawType": "float64",
         "type": "float"
        },
        {
         "name": "ITOT",
         "rawType": "float64",
         "type": "float"
        },
        {
         "name": "IUSV",
         "rawType": "float64",
         "type": "float"
        },
        {
         "name": "IVE",
         "rawType": "float64",
         "type": "float"
        },
        {
         "name": "IVV",
         "rawType": "float64",
         "type": "float"
        },
        {
         "name": "IWB",
         "rawType": "float64",
         "type": "float"
        },
        {
         "name": "IWL",
         "rawType": "float64",
         "type": "float"
        },
        {
         "name": "IWR",
         "rawType": "float64",
         "type": "float"
        },
        {
         "name": "LRGF",
         "rawType": "float64",
         "type": "float"
        },
        {
         "name": "MGC",
         "rawType": "float64",
         "type": "float"
        },
        {
         "name": "MGV",
         "rawType": "float64",
         "type": "float"
        },
        {
         "name": "MMTM",
         "rawType": "float64",
         "type": "float"
        },
        {
         "name": "OEF",
         "rawType": "float64",
         "type": "float"
        },
        {
         "name": "PCEF",
         "rawType": "float64",
         "type": "float"
        },
        {
         "name": "PFM",
         "rawType": "float64",
         "type": "float"
        },
        {
         "name": "PRF",
         "rawType": "float64",
         "type": "float"
        },
        {
         "name": "QDEF",
         "rawType": "float64",
         "type": "float"
        },
        {
         "name": "QDF",
         "rawType": "float64",
         "type": "float"
        },
        {
         "name": "QUAL",
         "rawType": "float64",
         "type": "float"
        },
        {
         "name": "QUS",
         "rawType": "float64",
         "type": "float"
        },
        {
         "name": "QWLD",
         "rawType": "float64",
         "type": "float"
        },
        {
         "name": "ROUS",
         "rawType": "float64",
         "type": "float"
        },
        {
         "name": "RWL",
         "rawType": "float64",
         "type": "float"
        },
        {
         "name": "SCHX",
         "rawType": "float64",
         "type": "float"
        },
        {
         "name": "SIZE",
         "rawType": "float64",
         "type": "float"
        },
        {
         "name": "SMIN",
         "rawType": "float64",
         "type": "float"
        },
        {
         "name": "SPGM",
         "rawType": "float64",
         "type": "float"
        },
        {
         "name": "SPHB",
         "rawType": "float64",
         "type": "float"
        },
        {
         "name": "SPLG",
         "rawType": "float64",
         "type": "float"
        },
        {
         "name": "SPTM",
         "rawType": "float64",
         "type": "float"
        },
        {
         "name": "SPY",
         "rawType": "float64",
         "type": "float"
        },
        {
         "name": "SPYV",
         "rawType": "float64",
         "type": "float"
        },
        {
         "name": "SSPY",
         "rawType": "float64",
         "type": "float"
        },
        {
         "name": "SUSA",
         "rawType": "float64",
         "type": "float"
        },
        {
         "name": "TOK",
         "rawType": "float64",
         "type": "float"
        },
        {
         "name": "URTH",
         "rawType": "float64",
         "type": "float"
        },
        {
         "name": "VB",
         "rawType": "float64",
         "type": "float"
        },
        {
         "name": "VCR",
         "rawType": "float64",
         "type": "float"
        },
        {
         "name": "VO",
         "rawType": "float64",
         "type": "float"
        },
        {
         "name": "VONE",
         "rawType": "float64",
         "type": "float"
        },
        {
         "name": "VOO",
         "rawType": "float64",
         "type": "float"
        },
        {
         "name": "VOOV",
         "rawType": "float64",
         "type": "float"
        },
        {
         "name": "VT",
         "rawType": "float64",
         "type": "float"
        },
        {
         "name": "VTV",
         "rawType": "float64",
         "type": "float"
        },
        {
         "name": "VUSE",
         "rawType": "float64",
         "type": "float"
        },
        {
         "name": "VV",
         "rawType": "float64",
         "type": "float"
        },
        {
         "name": "VYM",
         "rawType": "float64",
         "type": "float"
        },
        {
         "name": "XRLV",
         "rawType": "float64",
         "type": "float"
        },
        {
         "name": "XSMO",
         "rawType": "float64",
         "type": "float"
        },
        {
         "name": "YYY",
         "rawType": "float64",
         "type": "float"
        }
       ],
       "ref": "f1baff5d-a6da-4803-a61a-918e2da053d2",
       "rows": [
        [
         "2015-07-01 00:00:00",
         "0.0045556895397502704",
         "0.004719808423387149",
         "0.004065762398836119",
         "0.00623513886113705",
         "0.0057391569143580255",
         "0.03716853385180216",
         "0.007557353360824805",
         "0.015772285560820137",
         "0.005481033018155583",
         "0.0022931380292418257",
         "0.007048775997203676",
         "0.006985697741185267",
         "0.016410347634001995",
         "0.01697750928989842",
         "0.008515005182841023",
         "0.00831670658416269",
         "0.019421464959690875",
         "0.011950508357506344",
         "0.0049269540160578485",
         "0.03663852374861375",
         "0.019057381296847427",
         "0.03546686657447767",
         "-0.007705220902739715",
         "0.0014233063065948628",
         "0.00018184121853004461",
         "0.014670048675347706",
         "0.010199925547760664",
         "0.026938766204069424",
         "0.008740722566178366",
         "-0.021615192125652397",
         "0.00926001812657621",
         "-0.030562005721252707",
         "0.0010358652166545493",
         "0.04386890556125057",
         "0.002905444085399132",
         "-0.00949255335242059",
         "0.011097970934527138",
         "0.012879696307996936",
         "0.015538452162463735",
         "-0.0015799351957968182",
         "0.0009096224774491281",
         "0.01818193559474894",
         "0.015853542755108023",
         "0.02092742915319233",
         "0.0038066479686576405",
         "0.008759965691305324",
         "0.01829904787142457",
         "0.007374699109395207",
         "0.020381408836420586",
         "0.0246627043474254",
         "-0.007357429771736839",
         "0.008779926900023773",
         "0.0011725577040793806",
         "0.011448220282283561",
         "0.0123917227252653",
         "0.024699121883944318",
         "-0.008138407043648332",
         "-0.00825682174558861",
         "0.01929981796488554",
         "0.005177523140915267",
         "0.016410347634001995",
         "0.021027431409263244",
         "0.06353666607305465",
         "-0.017336947396280982",
         "-0.04553152349271995",
         "0.01576297209373274",
         "0.011415982441672974",
         "0.018796505576081635",
         "0.001031726585420722",
         "0.0055469375646704545",
         "0.008822451038384771",
         "0.019637200492818634",
         "0.022437909965502486",
         "-0.0064085509552605285",
         "0.035055224148127014",
         "0.008067618877120849",
         "0.016349007284796296",
         "0.017994282069243084",
         "0.0008129756467141962",
         "0.0016791884928772645",
         "0.006598776680041957",
         "-0.018865831311919184",
         "0.017327757676063302",
         "0.00709759619349154",
         "0.028215364981247153",
         "0.013645003201751216",
         "-0.025126614963901353"
        ],
        [
         "2015-08-01 00:00:00",
         "-0.07403792090560657",
         "-0.0293028465123849",
         "-0.03316784139651129",
         "-0.046788514564813255",
         "-0.06821953950821727",
         "-0.07989868455647674",
         "-0.07003456363875321",
         "-0.0631128513654267",
         "-0.06674616316278029",
         "-0.06757862711767224",
         "-0.06466246836007035",
         "-0.06465947607697334",
         "-0.0660991893250716",
         "-0.12164177330744934",
         "-0.06740673971409382",
         "-0.060768744285928315",
         "-0.07500335650981614",
         "-0.0628079553513635",
         "-0.05851363631761747",
         "-0.07255154340715324",
         "-0.06247658125833567",
         "-0.06830160748742348",
         "-0.056764783556213075",
         "-0.06338569470517867",
         "-0.06338569470517867",
         "-0.07948471707711528",
         "-0.039432887671687664",
         "-0.08017762597345264",
         "-0.06886403547215586",
         "-0.04969138421964031",
         "-0.04746245020478464",
         "-0.08880276637122776",
         "-0.057727195278954146",
         "-0.08102082881170761",
         "-0.06205899813286479",
         "-0.06761219001785573",
         "-0.07451293053810766",
         "-0.08439032593524598",
         "-0.06630697510310375",
         "-0.06267800815772978",
         "-0.06588903347215361",
         "-0.06696654042111327",
         "-0.06560772222768171",
         "-0.06935817487687557",
         "-0.05751027337752891",
         "-0.06307184405419877",
         "-0.06875348028473822",
         "-0.0663007513194034",
         "-0.06848696623935353",
         "-0.07240041074501972",
         "-0.03961720905735503",
         "-0.055563004779195825",
         "-0.06294306633022562",
         "-0.0581583309497611",
         "-0.056245000612447076",
         "-0.05910831586419957",
         "-0.034926045741195934",
         "-0.06265484391992783",
         "-0.09711589969328042",
         "-0.06462785449151903",
         "-0.0660991893250716",
         "-0.061064117313499804",
         "-0.10020838293791465",
         "-0.05716238364733259",
         "-0.0555545180842118",
         "-0.06409823404729888",
         "-0.0642422662578065",
         "-0.06643621284691717",
         "-0.0661842982950007",
         "-0.05929450796890189",
         "-0.06803626158235995",
         "-0.07543713718046496",
         "-0.07158225466443192",
         "-0.06355826936713703",
         "-0.06941944512452508",
         "-0.05640045562790497",
         "-0.06646284366520376",
         "-0.0668661308292203",
         "-0.0654265966925021",
         "-0.07222630978130007",
         "-0.06381434533441831",
         "-0.048297278845904866",
         "-0.06577788367701125",
         "-0.06186609026335807",
         "-0.05767829394364142",
         "-0.06069174717328197",
         "-0.052459932457612296"
        ],
        [
         "2015-09-01 00:00:00",
         "-0.03850116205124164",
         "-0.010384055270670378",
         "-0.015111427189875239",
         "-0.02237375179524786",
         "-0.04892243458786352",
         "-0.03997782078238034",
         "-0.0002642882514291983",
         "-0.02041784803534205",
         "-0.02410932693182634",
         "-0.017193530898767392",
         "-0.020460575946894762",
         "-0.021113737492795354",
         "-0.04491854949618769",
         "0.015614336080800734",
         "-0.032677328002414345",
         "-0.031882426357768154",
         "-0.03579945324421627",
         "-0.04904069065383995",
         "-0.04719647625093229",
         "-0.043073367703660936",
         "-0.042136509256143206",
         "-0.020215833293269352",
         "-0.03807365858550943",
         "-0.03147926372389267",
         "-0.028783844302220547",
         "-0.034802727314727916",
         "-0.006295766029243406",
         "-0.06621339645570781",
         "-0.03663163416257491",
         "-0.03754470874203368",
         "-0.038940958698403035",
         "-0.121067767372526",
         "-0.027890835355563796",
         "-0.018922334296986903",
         "-0.026809257095153746",
         "-0.05948140726586636",
         "-0.03137496668583407",
         "-0.037904503322323334",
         "-0.0300039101006964",
         "-0.036303438318581696",
         "-0.032104633610016295",
         "-0.028835778328599806",
         "-0.03198551829330036",
         "-0.02914529435954845",
         "-0.04051527367781989",
         "-0.027253849983547365",
         "-0.028657149207531003",
         "-0.025517273410692636",
         "-0.0364722995986957",
         "-0.02615934965191177",
         "-0.025622584879806776",
         "-0.021496033707505812",
         "-0.03314907669777213",
         "-0.019362710154496875",
         "-0.029220005317767504",
         "-0.016527974433006912",
         "-0.03958656876258894",
         "-0.012573655598909578",
         "-0.007232148646790877",
         "-0.03000226142139566",
         "-0.03093230752144772",
         "-0.02366003548246475",
         "0.0203635315475277",
         "-0.020723442815363213",
         "-0.07031484606548598",
         "-0.04023944425308167",
         "-0.039529437466495475",
         "-0.029354514542658378",
         "-0.03639499781733421",
         "-0.032989485976271424",
         "-0.024829102145545883",
         "-0.045251786900625604",
         "-0.03973479128577652",
         "-0.04994658550258271",
         "-0.019514005321683348",
         "-0.04109322801801453",
         "-0.03131108592989004",
         "-0.02849977185574771",
         "-0.032984982512578906",
         "-0.04129013673074323",
         "-0.02916733632936912",
         "-0.05274997981582549",
         "-0.031214025133912294",
         "-0.019308548557030514",
         "-0.02442961605974571",
         "-0.07424515668316907",
         "-0.03852232518339881"
        ],
        [
         "2015-10-01 00:00:00",
         "0.07022286957738219",
         "0.022016958744532248",
         "0.026076527833869344",
         "0.037969110309580084",
         "0.07706931138832868",
         "0.061038807465018524",
         "0.03613917571629033",
         "0.07340859666195483",
         "0.08181494460167599",
         "0.07879524715442672",
         "0.07452304430696506",
         "0.07377705278451384",
         "0.03935225820475555",
         "0.0056200486531538685",
         "0.08347804365629637",
         "0.07372691666160938",
         "0.08090766787853883",
         "0.07191638060225167",
         "0.034327517028082496",
         "0.034485209682241336",
         "0.05662555844285842",
         "0.07238874667037598",
         "0.08130773039364175",
         "0.07307776903850706",
         "0.0728792298154219",
         "0.04179110579170562",
         "0.038118192549297034",
         "0.048286894553032506",
         "0.055276803392751026",
         "0.0654229275621699",
         "0.047563349328971195",
         "0.11549178421171494",
         "0.03854183829528676",
         "0.06766743762965412",
         "0.07152183282916401",
         "0.04305737116455864",
         "0.08385557201170742",
         "0.0737755943952756",
         "0.07560107156523403",
         "0.06867360141801153",
         "0.06758566631642138",
         "0.07786511459533538",
         "0.07437919800488557",
         "0.08178274991991168",
         "0.05606121550127034",
         "0.057872092751125204",
         "0.08102405469472965",
         "0.07159948311723939",
         "0.08195897910776759",
         "0.08720466345695112",
         "0.04404749461421634",
         "0.06645903848670166",
         "0.0699460374377201",
         "0.06766425927299168",
         "0.07450587502314032",
         "0.07930186745602871",
         "0.08947121227975115",
         "0.059882593834197376",
         "0.06648248397378585",
         "0.06358547858279734",
         "0.07508385734898189",
         "0.06209712420062448",
         "0.017706403167577857",
         "0.04985454008472821",
         "0.09521856710413654",
         "0.0865451275135537",
         "0.07959068918900465",
         "0.07808570144764568",
         "0.07204508121151758",
         "0.06514353246288601",
         "0.0755692090704946",
         "0.07062802197801483",
         "0.06393128913369747",
         "0.051606508969367554",
         "0.07128247817041733",
         "0.054497329252163926",
         "0.07428934634001107",
         "0.0776000701933234",
         "0.06803133554198965",
         "0.06667469516211155",
         "0.07008707466928875",
         "0.05817232471993362",
         "0.07607747552121107",
         "0.07733545200543271",
         "0.06730131347541937",
         "0.04547624937784569",
         "0.06664577791312444"
        ],
        [
         "2015-11-01 00:00:00",
         "-0.008744392546085533",
         "-0.007087137665867159",
         "-0.0060894785995114515",
         "-0.003533333333333333",
         "-0.008870745928054272",
         "0.016437375314616344",
         "-0.004788826279165313",
         "-0.003533333333333333",
         "-0.0011987019227295871",
         "0.0038741079445284844",
         "-0.004235334064163115",
         "-0.0031841103509122042",
         "-0.02168814361370516",
         "-0.016140950187908072",
         "-0.0005258122693780109",
         "-0.0017750911221369888",
         "0.005859252003141274",
         "-0.00406981403289565",
         "0.00048722155772894194",
         "-0.03171508642638867",
         "0.004919453826591013",
         "-0.009441256685784716",
         "0.010208294518963055",
         "-0.0010364531347461874",
         "-0.003533333333333333",
         "0.006879811784156581",
         "0.011608496450793463",
         "0.017624331879454704",
         "0.027703794605674716",
         "-0.0040460223986521675",
         "0.009457879378997535",
         "-0.026638328999642247",
         "-0.04560850496195343",
         "0.019603312785381917",
         "0.0007651074268811638",
         "-0.005018849823400113",
         "-0.007373338051935687",
         "-0.012754461520367364",
         "0.0006709513311916331",
         "0.002702514538147647",
         "0.002205171278835102",
         "0.00036773168463130786",
         "0.0005887254867367867",
         "0.0025873859831790796",
         "-0.00018511591967330628",
         "0.0017361399377521136",
         "0.00043820920287252233",
         "0.002035325306248971",
         "0.007341206120673259",
         "-0.00013987818220467492",
         "-0.016197896174655217",
         "-0.003533333333333333",
         "-0.0008122432189725257",
         "-0.011364810987990972",
         "-0.006411033160948392",
         "0.0008832448201558777",
         "-0.012177787949674296",
         "-0.011893254632837618",
         "0.005311933181632936",
         "-0.000292794336131952",
         "0.0007371357901189523",
         "0.0023213804542205865",
         "-0.007393664500312383",
         "-0.009283780461771047",
         "0.000797240017031096",
         "-0.0030522171344931695",
         "0.0005603726338342259",
         "0.00013826115475851653",
         "0.0021294874621510976",
         "0.0032509532035891547",
         "-0.0005814997127212957",
         "-0.010497149776404403",
         "-0.0008604283006079794",
         "0.014290308627336108",
         "-0.008232131818572467",
         "-0.0005359537943590738",
         "0.0003738755445754512",
         "0.0007352864675499392",
         "0.0023000758243148065",
         "-0.004363036761972446",
         "0.001864166083924494",
         "0.01578245596595837",
         "-8.335455411292731e-05",
         "-0.001355761454353433",
         "0.01640704449684758",
         "0.04402328234653875",
         "-0.03443466845750805"
        ]
       ],
       "shape": {
        "columns": 87,
        "rows": 5
       }
      },
      "text/html": [
       "<div>\n",
       "<style scoped>\n",
       "    .dataframe tbody tr th:only-of-type {\n",
       "        vertical-align: middle;\n",
       "    }\n",
       "\n",
       "    .dataframe tbody tr th {\n",
       "        vertical-align: top;\n",
       "    }\n",
       "\n",
       "    .dataframe thead th {\n",
       "        text-align: right;\n",
       "    }\n",
       "</style>\n",
       "<table border=\"1\" class=\"dataframe\">\n",
       "  <thead>\n",
       "    <tr style=\"text-align: right;\">\n",
       "      <th></th>\n",
       "      <th>ACWI</th>\n",
       "      <th>AOK</th>\n",
       "      <th>AOM</th>\n",
       "      <th>AOR</th>\n",
       "      <th>CRBN</th>\n",
       "      <th>DBEU</th>\n",
       "      <th>DDIV</th>\n",
       "      <th>DGRO</th>\n",
       "      <th>DGRW</th>\n",
       "      <th>DIA</th>\n",
       "      <th>...</th>\n",
       "      <th>VOO</th>\n",
       "      <th>VOOV</th>\n",
       "      <th>VT</th>\n",
       "      <th>VTV</th>\n",
       "      <th>VUSE</th>\n",
       "      <th>VV</th>\n",
       "      <th>VYM</th>\n",
       "      <th>XRLV</th>\n",
       "      <th>XSMO</th>\n",
       "      <th>YYY</th>\n",
       "    </tr>\n",
       "    <tr>\n",
       "      <th>Date</th>\n",
       "      <th></th>\n",
       "      <th></th>\n",
       "      <th></th>\n",
       "      <th></th>\n",
       "      <th></th>\n",
       "      <th></th>\n",
       "      <th></th>\n",
       "      <th></th>\n",
       "      <th></th>\n",
       "      <th></th>\n",
       "      <th></th>\n",
       "      <th></th>\n",
       "      <th></th>\n",
       "      <th></th>\n",
       "      <th></th>\n",
       "      <th></th>\n",
       "      <th></th>\n",
       "      <th></th>\n",
       "      <th></th>\n",
       "      <th></th>\n",
       "      <th></th>\n",
       "    </tr>\n",
       "  </thead>\n",
       "  <tbody>\n",
       "    <tr>\n",
       "      <th>2015-07-01</th>\n",
       "      <td>0.004556</td>\n",
       "      <td>0.004720</td>\n",
       "      <td>0.004066</td>\n",
       "      <td>0.006235</td>\n",
       "      <td>0.005739</td>\n",
       "      <td>0.037169</td>\n",
       "      <td>0.007557</td>\n",
       "      <td>0.015772</td>\n",
       "      <td>0.005481</td>\n",
       "      <td>0.002293</td>\n",
       "      <td>...</td>\n",
       "      <td>0.017994</td>\n",
       "      <td>0.000813</td>\n",
       "      <td>0.001679</td>\n",
       "      <td>0.006599</td>\n",
       "      <td>-0.018866</td>\n",
       "      <td>0.017328</td>\n",
       "      <td>0.007098</td>\n",
       "      <td>0.028215</td>\n",
       "      <td>0.013645</td>\n",
       "      <td>-0.025127</td>\n",
       "    </tr>\n",
       "    <tr>\n",
       "      <th>2015-08-01</th>\n",
       "      <td>-0.074038</td>\n",
       "      <td>-0.029303</td>\n",
       "      <td>-0.033168</td>\n",
       "      <td>-0.046789</td>\n",
       "      <td>-0.068220</td>\n",
       "      <td>-0.079899</td>\n",
       "      <td>-0.070035</td>\n",
       "      <td>-0.063113</td>\n",
       "      <td>-0.066746</td>\n",
       "      <td>-0.067579</td>\n",
       "      <td>...</td>\n",
       "      <td>-0.066866</td>\n",
       "      <td>-0.065427</td>\n",
       "      <td>-0.072226</td>\n",
       "      <td>-0.063814</td>\n",
       "      <td>-0.048297</td>\n",
       "      <td>-0.065778</td>\n",
       "      <td>-0.061866</td>\n",
       "      <td>-0.057678</td>\n",
       "      <td>-0.060692</td>\n",
       "      <td>-0.052460</td>\n",
       "    </tr>\n",
       "    <tr>\n",
       "      <th>2015-09-01</th>\n",
       "      <td>-0.038501</td>\n",
       "      <td>-0.010384</td>\n",
       "      <td>-0.015111</td>\n",
       "      <td>-0.022374</td>\n",
       "      <td>-0.048922</td>\n",
       "      <td>-0.039978</td>\n",
       "      <td>-0.000264</td>\n",
       "      <td>-0.020418</td>\n",
       "      <td>-0.024109</td>\n",
       "      <td>-0.017194</td>\n",
       "      <td>...</td>\n",
       "      <td>-0.028500</td>\n",
       "      <td>-0.032985</td>\n",
       "      <td>-0.041290</td>\n",
       "      <td>-0.029167</td>\n",
       "      <td>-0.052750</td>\n",
       "      <td>-0.031214</td>\n",
       "      <td>-0.019309</td>\n",
       "      <td>-0.024430</td>\n",
       "      <td>-0.074245</td>\n",
       "      <td>-0.038522</td>\n",
       "    </tr>\n",
       "    <tr>\n",
       "      <th>2015-10-01</th>\n",
       "      <td>0.070223</td>\n",
       "      <td>0.022017</td>\n",
       "      <td>0.026077</td>\n",
       "      <td>0.037969</td>\n",
       "      <td>0.077069</td>\n",
       "      <td>0.061039</td>\n",
       "      <td>0.036139</td>\n",
       "      <td>0.073409</td>\n",
       "      <td>0.081815</td>\n",
       "      <td>0.078795</td>\n",
       "      <td>...</td>\n",
       "      <td>0.077600</td>\n",
       "      <td>0.068031</td>\n",
       "      <td>0.066675</td>\n",
       "      <td>0.070087</td>\n",
       "      <td>0.058172</td>\n",
       "      <td>0.076077</td>\n",
       "      <td>0.077335</td>\n",
       "      <td>0.067301</td>\n",
       "      <td>0.045476</td>\n",
       "      <td>0.066646</td>\n",
       "    </tr>\n",
       "    <tr>\n",
       "      <th>2015-11-01</th>\n",
       "      <td>-0.008744</td>\n",
       "      <td>-0.007087</td>\n",
       "      <td>-0.006089</td>\n",
       "      <td>-0.003533</td>\n",
       "      <td>-0.008871</td>\n",
       "      <td>0.016437</td>\n",
       "      <td>-0.004789</td>\n",
       "      <td>-0.003533</td>\n",
       "      <td>-0.001199</td>\n",
       "      <td>0.003874</td>\n",
       "      <td>...</td>\n",
       "      <td>0.000735</td>\n",
       "      <td>0.002300</td>\n",
       "      <td>-0.004363</td>\n",
       "      <td>0.001864</td>\n",
       "      <td>0.015782</td>\n",
       "      <td>-0.000083</td>\n",
       "      <td>-0.001356</td>\n",
       "      <td>0.016407</td>\n",
       "      <td>0.044023</td>\n",
       "      <td>-0.034435</td>\n",
       "    </tr>\n",
       "  </tbody>\n",
       "</table>\n",
       "<p>5 rows × 87 columns</p>\n",
       "</div>"
      ],
      "text/plain": [
       "                ACWI       AOK       AOM       AOR      CRBN      DBEU  \\\n",
       "Date                                                                     \n",
       "2015-07-01  0.004556  0.004720  0.004066  0.006235  0.005739  0.037169   \n",
       "2015-08-01 -0.074038 -0.029303 -0.033168 -0.046789 -0.068220 -0.079899   \n",
       "2015-09-01 -0.038501 -0.010384 -0.015111 -0.022374 -0.048922 -0.039978   \n",
       "2015-10-01  0.070223  0.022017  0.026077  0.037969  0.077069  0.061039   \n",
       "2015-11-01 -0.008744 -0.007087 -0.006089 -0.003533 -0.008871  0.016437   \n",
       "\n",
       "                DDIV      DGRO      DGRW       DIA  ...       VOO      VOOV  \\\n",
       "Date                                                ...                       \n",
       "2015-07-01  0.007557  0.015772  0.005481  0.002293  ...  0.017994  0.000813   \n",
       "2015-08-01 -0.070035 -0.063113 -0.066746 -0.067579  ... -0.066866 -0.065427   \n",
       "2015-09-01 -0.000264 -0.020418 -0.024109 -0.017194  ... -0.028500 -0.032985   \n",
       "2015-10-01  0.036139  0.073409  0.081815  0.078795  ...  0.077600  0.068031   \n",
       "2015-11-01 -0.004789 -0.003533 -0.001199  0.003874  ...  0.000735  0.002300   \n",
       "\n",
       "                  VT       VTV      VUSE        VV       VYM      XRLV  \\\n",
       "Date                                                                     \n",
       "2015-07-01  0.001679  0.006599 -0.018866  0.017328  0.007098  0.028215   \n",
       "2015-08-01 -0.072226 -0.063814 -0.048297 -0.065778 -0.061866 -0.057678   \n",
       "2015-09-01 -0.041290 -0.029167 -0.052750 -0.031214 -0.019309 -0.024430   \n",
       "2015-10-01  0.066675  0.070087  0.058172  0.076077  0.077335  0.067301   \n",
       "2015-11-01 -0.004363  0.001864  0.015782 -0.000083 -0.001356  0.016407   \n",
       "\n",
       "                XSMO       YYY  \n",
       "Date                            \n",
       "2015-07-01  0.013645 -0.025127  \n",
       "2015-08-01 -0.060692 -0.052460  \n",
       "2015-09-01 -0.074245 -0.038522  \n",
       "2015-10-01  0.045476  0.066646  \n",
       "2015-11-01  0.044023 -0.034435  \n",
       "\n",
       "[5 rows x 87 columns]"
      ]
     },
     "execution_count": 16,
     "metadata": {},
     "output_type": "execute_result"
    }
   ],
   "source": [
    "benchmark_excess_returns_df = benchmark_log_returns_df - risk_free_rate_monthly\n",
    "benchmark_excess_returns_df.head()"
   ]
  },
  {
   "cell_type": "markdown",
   "id": "b7d95382",
   "metadata": {},
   "source": [
    "#### Stocks"
   ]
  },
  {
   "cell_type": "code",
   "execution_count": 17,
   "id": "8ffb2f5a",
   "metadata": {
    "execution": {
     "iopub.execute_input": "2025-06-02T13:28:31.350103Z",
     "iopub.status.busy": "2025-06-02T13:28:31.349138Z",
     "iopub.status.idle": "2025-06-02T13:28:31.364165Z",
     "shell.execute_reply": "2025-06-02T13:28:31.363050Z"
    }
   },
   "outputs": [
    {
     "data": {
      "application/vnd.microsoft.datawrangler.viewer.v0+json": {
       "columns": [
        {
         "name": "Date",
         "rawType": "datetime64[ns]",
         "type": "datetime"
        },
        {
         "name": "AMAT",
         "rawType": "float64",
         "type": "float"
        },
        {
         "name": "APO",
         "rawType": "float64",
         "type": "float"
        },
        {
         "name": "MMC",
         "rawType": "float64",
         "type": "float"
        },
        {
         "name": "MRK",
         "rawType": "float64",
         "type": "float"
        },
        {
         "name": "TMUS",
         "rawType": "float64",
         "type": "float"
        }
       ],
       "ref": "75be4879-aedb-476f-b6f2-6f99e44276ee",
       "rows": [
        [
         "2015-08-01 00:00:00",
         "-0.07350133897849119",
         "-0.08473501351442399",
         "-0.07903292006246501",
         "-0.09425415619638683",
         "-0.029522057142856717"
        ],
        [
         "2015-09-01 00:00:00",
         "-0.09467104533185754",
         "-0.0819024004488401",
         "-0.03197337498349266",
         "-0.08152323514961057",
         "0.0013591703101812317"
        ],
        [
         "2015-10-01 00:00:00",
         "0.12923440900589198",
         "0.05794344021766797",
         "0.06757584576294805",
         "0.0977918248919078",
         "-0.053030143213601826"
        ],
        [
         "2015-11-01 00:00:00",
         "0.11484370293451601",
         "-0.09442399209062774",
         "-0.011541806061671012",
         "-0.03397668864484079",
         "-0.06848579528327971"
        ],
        [
         "2015-12-01 00:00:00",
         "-0.008892083876438523",
         "-0.07706741737948232",
         "-0.0007863691125980813",
         "0.0014739244603984166",
         "0.09355574088662406"
        ]
       ],
       "shape": {
        "columns": 5,
        "rows": 5
       }
      },
      "text/html": [
       "<div>\n",
       "<style scoped>\n",
       "    .dataframe tbody tr th:only-of-type {\n",
       "        vertical-align: middle;\n",
       "    }\n",
       "\n",
       "    .dataframe tbody tr th {\n",
       "        vertical-align: top;\n",
       "    }\n",
       "\n",
       "    .dataframe thead th {\n",
       "        text-align: right;\n",
       "    }\n",
       "</style>\n",
       "<table border=\"1\" class=\"dataframe\">\n",
       "  <thead>\n",
       "    <tr style=\"text-align: right;\">\n",
       "      <th></th>\n",
       "      <th>AMAT</th>\n",
       "      <th>APO</th>\n",
       "      <th>MMC</th>\n",
       "      <th>MRK</th>\n",
       "      <th>TMUS</th>\n",
       "    </tr>\n",
       "    <tr>\n",
       "      <th>Date</th>\n",
       "      <th></th>\n",
       "      <th></th>\n",
       "      <th></th>\n",
       "      <th></th>\n",
       "      <th></th>\n",
       "    </tr>\n",
       "  </thead>\n",
       "  <tbody>\n",
       "    <tr>\n",
       "      <th>2015-08-01</th>\n",
       "      <td>-0.073501</td>\n",
       "      <td>-0.084735</td>\n",
       "      <td>-0.079033</td>\n",
       "      <td>-0.094254</td>\n",
       "      <td>-0.029522</td>\n",
       "    </tr>\n",
       "    <tr>\n",
       "      <th>2015-09-01</th>\n",
       "      <td>-0.094671</td>\n",
       "      <td>-0.081902</td>\n",
       "      <td>-0.031973</td>\n",
       "      <td>-0.081523</td>\n",
       "      <td>0.001359</td>\n",
       "    </tr>\n",
       "    <tr>\n",
       "      <th>2015-10-01</th>\n",
       "      <td>0.129234</td>\n",
       "      <td>0.057943</td>\n",
       "      <td>0.067576</td>\n",
       "      <td>0.097792</td>\n",
       "      <td>-0.053030</td>\n",
       "    </tr>\n",
       "    <tr>\n",
       "      <th>2015-11-01</th>\n",
       "      <td>0.114844</td>\n",
       "      <td>-0.094424</td>\n",
       "      <td>-0.011542</td>\n",
       "      <td>-0.033977</td>\n",
       "      <td>-0.068486</td>\n",
       "    </tr>\n",
       "    <tr>\n",
       "      <th>2015-12-01</th>\n",
       "      <td>-0.008892</td>\n",
       "      <td>-0.077067</td>\n",
       "      <td>-0.000786</td>\n",
       "      <td>0.001474</td>\n",
       "      <td>0.093556</td>\n",
       "    </tr>\n",
       "  </tbody>\n",
       "</table>\n",
       "</div>"
      ],
      "text/plain": [
       "                AMAT       APO       MMC       MRK      TMUS\n",
       "Date                                                        \n",
       "2015-08-01 -0.073501 -0.084735 -0.079033 -0.094254 -0.029522\n",
       "2015-09-01 -0.094671 -0.081902 -0.031973 -0.081523  0.001359\n",
       "2015-10-01  0.129234  0.057943  0.067576  0.097792 -0.053030\n",
       "2015-11-01  0.114844 -0.094424 -0.011542 -0.033977 -0.068486\n",
       "2015-12-01 -0.008892 -0.077067 -0.000786  0.001474  0.093556"
      ]
     },
     "execution_count": 17,
     "metadata": {},
     "output_type": "execute_result"
    }
   ],
   "source": [
    "stock_excess_returns_df = stock_log_returns_df - risk_free_rate_monthly\n",
    "stock_excess_returns_df.head()"
   ]
  },
  {
   "cell_type": "markdown",
   "id": "b2439f61",
   "metadata": {},
   "source": [
    "### Step 10: Find the Best Benchmark (By Regression Coefficients)"
   ]
  },
  {
   "cell_type": "code",
   "execution_count": 18,
   "id": "f10cacac",
   "metadata": {
    "execution": {
     "iopub.execute_input": "2025-06-02T13:28:31.369701Z",
     "iopub.status.busy": "2025-06-02T13:28:31.368584Z",
     "iopub.status.idle": "2025-06-02T13:28:33.805998Z",
     "shell.execute_reply": "2025-06-02T13:28:33.797796Z"
    }
   },
   "outputs": [
    {
     "name": "stdout",
     "output_type": "stream",
     "text": [
      "Best benchmark: YYY\n"
     ]
    },
    {
     "data": {
      "application/vnd.microsoft.datawrangler.viewer.v0+json": {
       "columns": [
        {
         "name": "index",
         "rawType": "int64",
         "type": "integer"
        },
        {
         "name": "Equity",
         "rawType": "object",
         "type": "string"
        },
        {
         "name": "Benchmark",
         "rawType": "object",
         "type": "string"
        },
        {
         "name": "intercept (alpha)",
         "rawType": "float64",
         "type": "float"
        },
        {
         "name": "slope (beta)",
         "rawType": "float64",
         "type": "float"
        },
        {
         "name": "correlation",
         "rawType": "float64",
         "type": "float"
        },
        {
         "name": "r_squared",
         "rawType": "float64",
         "type": "float"
        },
        {
         "name": "p_value_slope",
         "rawType": "float64",
         "type": "float"
        },
        {
         "name": "p_value_intercept",
         "rawType": "float64",
         "type": "float"
        }
       ],
       "ref": "d98ab213-25df-4ff5-bcce-a12a8c126abe",
       "rows": [
        [
         "0",
         "AMAT",
         "YYY",
         "0.015835459749519273",
         "1.53464044455876",
         "0.6567537737910686",
         "0.43132551938881014",
         "5.062416854170298e-16",
         "0.02375571000424277"
        ],
        [
         "1",
         "APO",
         "YYY",
         "0.015440164787394095",
         "1.6085158734967153",
         "0.6912185243373471",
         "0.4777830483870992",
         "3.2936876042527576e-18",
         "0.020942488424093204"
        ],
        [
         "2",
         "MMC",
         "YYY",
         "0.00927666912332557",
         "0.8603071504505325",
         "0.6916650457628825",
         "0.47840053553017037",
         "3.0715134629628747e-18",
         "0.009616308135244096"
        ],
        [
         "3",
         "MRK",
         "YYY",
         "0.0016617788363540767",
         "0.3313943911233932",
         "0.24718874439156271",
         "0.06110227535387758",
         "0.006723420618105539",
         "0.7449198853304669"
        ],
        [
         "4",
         "TMUS",
         "YYY",
         "0.011506531723307586",
         "0.510930351811078",
         "0.3721799423280087",
         "0.1385179094712804",
         "3.074246451616132e-05",
         "0.02309438224218916"
        ]
       ],
       "shape": {
        "columns": 8,
        "rows": 5
       }
      },
      "text/html": [
       "<div>\n",
       "<style scoped>\n",
       "    .dataframe tbody tr th:only-of-type {\n",
       "        vertical-align: middle;\n",
       "    }\n",
       "\n",
       "    .dataframe tbody tr th {\n",
       "        vertical-align: top;\n",
       "    }\n",
       "\n",
       "    .dataframe thead th {\n",
       "        text-align: right;\n",
       "    }\n",
       "</style>\n",
       "<table border=\"1\" class=\"dataframe\">\n",
       "  <thead>\n",
       "    <tr style=\"text-align: right;\">\n",
       "      <th></th>\n",
       "      <th>Equity</th>\n",
       "      <th>Benchmark</th>\n",
       "      <th>intercept (alpha)</th>\n",
       "      <th>slope (beta)</th>\n",
       "      <th>correlation</th>\n",
       "      <th>r_squared</th>\n",
       "      <th>p_value_slope</th>\n",
       "      <th>p_value_intercept</th>\n",
       "    </tr>\n",
       "  </thead>\n",
       "  <tbody>\n",
       "    <tr>\n",
       "      <th>0</th>\n",
       "      <td>AMAT</td>\n",
       "      <td>YYY</td>\n",
       "      <td>0.015835</td>\n",
       "      <td>1.534640</td>\n",
       "      <td>0.656754</td>\n",
       "      <td>0.431326</td>\n",
       "      <td>5.062417e-16</td>\n",
       "      <td>0.023756</td>\n",
       "    </tr>\n",
       "    <tr>\n",
       "      <th>1</th>\n",
       "      <td>APO</td>\n",
       "      <td>YYY</td>\n",
       "      <td>0.015440</td>\n",
       "      <td>1.608516</td>\n",
       "      <td>0.691219</td>\n",
       "      <td>0.477783</td>\n",
       "      <td>3.293688e-18</td>\n",
       "      <td>0.020942</td>\n",
       "    </tr>\n",
       "    <tr>\n",
       "      <th>2</th>\n",
       "      <td>MMC</td>\n",
       "      <td>YYY</td>\n",
       "      <td>0.009277</td>\n",
       "      <td>0.860307</td>\n",
       "      <td>0.691665</td>\n",
       "      <td>0.478401</td>\n",
       "      <td>3.071513e-18</td>\n",
       "      <td>0.009616</td>\n",
       "    </tr>\n",
       "    <tr>\n",
       "      <th>3</th>\n",
       "      <td>MRK</td>\n",
       "      <td>YYY</td>\n",
       "      <td>0.001662</td>\n",
       "      <td>0.331394</td>\n",
       "      <td>0.247189</td>\n",
       "      <td>0.061102</td>\n",
       "      <td>6.723421e-03</td>\n",
       "      <td>0.744920</td>\n",
       "    </tr>\n",
       "    <tr>\n",
       "      <th>4</th>\n",
       "      <td>TMUS</td>\n",
       "      <td>YYY</td>\n",
       "      <td>0.011507</td>\n",
       "      <td>0.510930</td>\n",
       "      <td>0.372180</td>\n",
       "      <td>0.138518</td>\n",
       "      <td>3.074246e-05</td>\n",
       "      <td>0.023094</td>\n",
       "    </tr>\n",
       "  </tbody>\n",
       "</table>\n",
       "</div>"
      ],
      "text/plain": [
       "  Equity Benchmark  intercept (alpha)  slope (beta)  correlation  r_squared  \\\n",
       "0   AMAT       YYY           0.015835      1.534640     0.656754   0.431326   \n",
       "1    APO       YYY           0.015440      1.608516     0.691219   0.477783   \n",
       "2    MMC       YYY           0.009277      0.860307     0.691665   0.478401   \n",
       "3    MRK       YYY           0.001662      0.331394     0.247189   0.061102   \n",
       "4   TMUS       YYY           0.011507      0.510930     0.372180   0.138518   \n",
       "\n",
       "   p_value_slope  p_value_intercept  \n",
       "0   5.062417e-16           0.023756  \n",
       "1   3.293688e-18           0.020942  \n",
       "2   3.071513e-18           0.009616  \n",
       "3   6.723421e-03           0.744920  \n",
       "4   3.074246e-05           0.023094  "
      ]
     },
     "metadata": {},
     "output_type": "display_data"
    }
   ],
   "source": [
    "# Call the function with your data\n",
    "best_benchmark, benchmark_stats_df, best_benchmarks_df = find_best_benchmark_and_run_regressions(\n",
    "    benchmark_excess_returns_df, \n",
    "    stock_excess_returns_df\n",
    ")\n",
    "\n",
    "# Display the results\n",
    "print(f\"Best benchmark: {best_benchmark}\")\n",
    "display(best_benchmarks_df)"
   ]
  },
  {
   "cell_type": "code",
   "execution_count": 19,
   "id": "a538dcf3",
   "metadata": {
    "execution": {
     "iopub.execute_input": "2025-06-02T13:28:33.811381Z",
     "iopub.status.busy": "2025-06-02T13:28:33.810059Z",
     "iopub.status.idle": "2025-06-02T13:28:33.826248Z",
     "shell.execute_reply": "2025-06-02T13:28:33.825115Z"
    }
   },
   "outputs": [
    {
     "data": {
      "application/vnd.microsoft.datawrangler.viewer.v0+json": {
       "columns": [
        {
         "name": "index",
         "rawType": "int64",
         "type": "integer"
        },
        {
         "name": "benchmark",
         "rawType": "object",
         "type": "string"
        },
        {
         "name": "avg_slope",
         "rawType": "float64",
         "type": "float"
        },
        {
         "name": "slope_std",
         "rawType": "float64",
         "type": "float"
        },
        {
         "name": "avg_p_value_intercept",
         "rawType": "float64",
         "type": "float"
        },
        {
         "name": "avg_p_value_slope",
         "rawType": "float64",
         "type": "float"
        },
        {
         "name": "avg_r_squared",
         "rawType": "float64",
         "type": "float"
        },
        {
         "name": "beta_quality",
         "rawType": "float64",
         "type": "float"
        },
        {
         "name": "score",
         "rawType": "float64",
         "type": "float"
        }
       ],
       "ref": "9668af20-0c53-472c-874c-dff343662382",
       "rows": [
        [
         "82",
         "YYY",
         "0.969157642288096",
         "0.5209822245193128",
         "0.16446575482724723",
         "0.0013508326165244426",
         "0.31742585762624753",
         "0.969157642288096",
         "0.755647358410373"
        ],
        [
         "80",
         "XRLV",
         "1.0043946322651789",
         "0.382132917515016",
         "0.28859163127205056",
         "4.226089812371726e-06",
         "0.33068941475167823",
         "0.9956053677348211",
         "0.7522436680346648"
        ],
        [
         "30",
         "ILCV",
         "0.9985202569012849",
         "0.45146909928910994",
         "0.2800493673258568",
         "5.794800865826649e-06",
         "0.34845854920262487",
         "0.9985202569012849",
         "0.7511761568719667"
        ],
        [
         "76",
         "VTV",
         "0.9863423588449569",
         "0.4311345559127046",
         "0.2897371047087348",
         "3.675312698743356e-06",
         "0.34272754412988776",
         "0.9863423588449569",
         "0.7476150879801406"
        ],
        [
         "8",
         "DTD",
         "1.00096204753283",
         "0.4451020664946901",
         "0.30289310700129846",
         "8.515788047874835e-06",
         "0.34655421643456225",
         "0.99903795246717",
         "0.7469366380441332"
        ],
        [
         "43",
         "MGV",
         "1.0173226965480955",
         "0.42796532139193866",
         "0.29698967775800267",
         "1.8272622338257283e-06",
         "0.34167651119335557",
         "0.9826773034519045",
         "0.7455318856405931"
        ],
        [
         "79",
         "VYM",
         "1.0089520114109418",
         "0.4451502326918177",
         "0.29367622645174185",
         "5.912297983829816e-06",
         "0.328036559217063",
         "0.9910479885890582",
         "0.7434743978731884"
        ],
        [
         "75",
         "VT",
         "1.005643132863384",
         "0.5376459447713973",
         "0.28549161826262076",
         "0.0001745634179547941",
         "0.35417958253287773",
         "0.9943568671366161",
         "0.7426430078197089"
        ],
        [
         "36",
         "IVE",
         "0.9522457721526084",
         "0.43577596944240077",
         "0.2845076476658732",
         "1.1715698094138108e-05",
         "0.3480110353622835",
         "0.9522457721526084",
         "0.7424449866687036"
        ],
        [
         "31",
         "IMTM",
         "0.9854669287163169",
         "0.49404447700808296",
         "0.2386625034265415",
         "8.674601130167475e-05",
         "0.29578519401347514",
         "0.9854669287163169",
         "0.742365398013925"
        ]
       ],
       "shape": {
        "columns": 8,
        "rows": 10
       }
      },
      "text/html": [
       "<div>\n",
       "<style scoped>\n",
       "    .dataframe tbody tr th:only-of-type {\n",
       "        vertical-align: middle;\n",
       "    }\n",
       "\n",
       "    .dataframe tbody tr th {\n",
       "        vertical-align: top;\n",
       "    }\n",
       "\n",
       "    .dataframe thead th {\n",
       "        text-align: right;\n",
       "    }\n",
       "</style>\n",
       "<table border=\"1\" class=\"dataframe\">\n",
       "  <thead>\n",
       "    <tr style=\"text-align: right;\">\n",
       "      <th></th>\n",
       "      <th>benchmark</th>\n",
       "      <th>avg_slope</th>\n",
       "      <th>slope_std</th>\n",
       "      <th>avg_p_value_intercept</th>\n",
       "      <th>avg_p_value_slope</th>\n",
       "      <th>avg_r_squared</th>\n",
       "      <th>beta_quality</th>\n",
       "      <th>score</th>\n",
       "    </tr>\n",
       "  </thead>\n",
       "  <tbody>\n",
       "    <tr>\n",
       "      <th>82</th>\n",
       "      <td>YYY</td>\n",
       "      <td>0.969158</td>\n",
       "      <td>0.520982</td>\n",
       "      <td>0.164466</td>\n",
       "      <td>0.001351</td>\n",
       "      <td>0.317426</td>\n",
       "      <td>0.969158</td>\n",
       "      <td>0.755647</td>\n",
       "    </tr>\n",
       "    <tr>\n",
       "      <th>80</th>\n",
       "      <td>XRLV</td>\n",
       "      <td>1.004395</td>\n",
       "      <td>0.382133</td>\n",
       "      <td>0.288592</td>\n",
       "      <td>0.000004</td>\n",
       "      <td>0.330689</td>\n",
       "      <td>0.995605</td>\n",
       "      <td>0.752244</td>\n",
       "    </tr>\n",
       "    <tr>\n",
       "      <th>30</th>\n",
       "      <td>ILCV</td>\n",
       "      <td>0.998520</td>\n",
       "      <td>0.451469</td>\n",
       "      <td>0.280049</td>\n",
       "      <td>0.000006</td>\n",
       "      <td>0.348459</td>\n",
       "      <td>0.998520</td>\n",
       "      <td>0.751176</td>\n",
       "    </tr>\n",
       "    <tr>\n",
       "      <th>76</th>\n",
       "      <td>VTV</td>\n",
       "      <td>0.986342</td>\n",
       "      <td>0.431135</td>\n",
       "      <td>0.289737</td>\n",
       "      <td>0.000004</td>\n",
       "      <td>0.342728</td>\n",
       "      <td>0.986342</td>\n",
       "      <td>0.747615</td>\n",
       "    </tr>\n",
       "    <tr>\n",
       "      <th>8</th>\n",
       "      <td>DTD</td>\n",
       "      <td>1.000962</td>\n",
       "      <td>0.445102</td>\n",
       "      <td>0.302893</td>\n",
       "      <td>0.000009</td>\n",
       "      <td>0.346554</td>\n",
       "      <td>0.999038</td>\n",
       "      <td>0.746937</td>\n",
       "    </tr>\n",
       "    <tr>\n",
       "      <th>43</th>\n",
       "      <td>MGV</td>\n",
       "      <td>1.017323</td>\n",
       "      <td>0.427965</td>\n",
       "      <td>0.296990</td>\n",
       "      <td>0.000002</td>\n",
       "      <td>0.341677</td>\n",
       "      <td>0.982677</td>\n",
       "      <td>0.745532</td>\n",
       "    </tr>\n",
       "    <tr>\n",
       "      <th>79</th>\n",
       "      <td>VYM</td>\n",
       "      <td>1.008952</td>\n",
       "      <td>0.445150</td>\n",
       "      <td>0.293676</td>\n",
       "      <td>0.000006</td>\n",
       "      <td>0.328037</td>\n",
       "      <td>0.991048</td>\n",
       "      <td>0.743474</td>\n",
       "    </tr>\n",
       "    <tr>\n",
       "      <th>75</th>\n",
       "      <td>VT</td>\n",
       "      <td>1.005643</td>\n",
       "      <td>0.537646</td>\n",
       "      <td>0.285492</td>\n",
       "      <td>0.000175</td>\n",
       "      <td>0.354180</td>\n",
       "      <td>0.994357</td>\n",
       "      <td>0.742643</td>\n",
       "    </tr>\n",
       "    <tr>\n",
       "      <th>36</th>\n",
       "      <td>IVE</td>\n",
       "      <td>0.952246</td>\n",
       "      <td>0.435776</td>\n",
       "      <td>0.284508</td>\n",
       "      <td>0.000012</td>\n",
       "      <td>0.348011</td>\n",
       "      <td>0.952246</td>\n",
       "      <td>0.742445</td>\n",
       "    </tr>\n",
       "    <tr>\n",
       "      <th>31</th>\n",
       "      <td>IMTM</td>\n",
       "      <td>0.985467</td>\n",
       "      <td>0.494044</td>\n",
       "      <td>0.238663</td>\n",
       "      <td>0.000087</td>\n",
       "      <td>0.295785</td>\n",
       "      <td>0.985467</td>\n",
       "      <td>0.742365</td>\n",
       "    </tr>\n",
       "  </tbody>\n",
       "</table>\n",
       "</div>"
      ],
      "text/plain": [
       "   benchmark  avg_slope  slope_std  avg_p_value_intercept  avg_p_value_slope  \\\n",
       "82       YYY   0.969158   0.520982               0.164466           0.001351   \n",
       "80      XRLV   1.004395   0.382133               0.288592           0.000004   \n",
       "30      ILCV   0.998520   0.451469               0.280049           0.000006   \n",
       "76       VTV   0.986342   0.431135               0.289737           0.000004   \n",
       "8        DTD   1.000962   0.445102               0.302893           0.000009   \n",
       "43       MGV   1.017323   0.427965               0.296990           0.000002   \n",
       "79       VYM   1.008952   0.445150               0.293676           0.000006   \n",
       "75        VT   1.005643   0.537646               0.285492           0.000175   \n",
       "36       IVE   0.952246   0.435776               0.284508           0.000012   \n",
       "31      IMTM   0.985467   0.494044               0.238663           0.000087   \n",
       "\n",
       "    avg_r_squared  beta_quality     score  \n",
       "82       0.317426      0.969158  0.755647  \n",
       "80       0.330689      0.995605  0.752244  \n",
       "30       0.348459      0.998520  0.751176  \n",
       "76       0.342728      0.986342  0.747615  \n",
       "8        0.346554      0.999038  0.746937  \n",
       "43       0.341677      0.982677  0.745532  \n",
       "79       0.328037      0.991048  0.743474  \n",
       "75       0.354180      0.994357  0.742643  \n",
       "36       0.348011      0.952246  0.742445  \n",
       "31       0.295785      0.985467  0.742365  "
      ]
     },
     "metadata": {},
     "output_type": "display_data"
    }
   ],
   "source": [
    "# Display the benchmark statistics\n",
    "display(benchmark_stats_df.sort_values(by=\"score\", ascending=False).head(10))"
   ]
  },
  {
   "cell_type": "markdown",
   "id": "9320378e",
   "metadata": {},
   "source": [
    "### Step 11: Plot Results"
   ]
  },
  {
   "cell_type": "code",
   "execution_count": 20,
   "id": "4c4eeadd",
   "metadata": {
    "execution": {
     "iopub.execute_input": "2025-06-02T13:28:33.845495Z",
     "iopub.status.busy": "2025-06-02T13:28:33.844774Z",
     "iopub.status.idle": "2025-06-02T13:28:34.034453Z",
     "shell.execute_reply": "2025-06-02T13:28:34.033001Z"
    }
   },
   "outputs": [
    {
     "name": "stdout",
     "output_type": "stream",
     "text": [
      "📈 BENCHMARK REGRESSION ANALYSIS: YYY\n",
      "======================================================================\n",
      "🔍 AMAT: β=1.5346, R²=0.4313, p=0.0000, Weight=22.9%\n",
      "🔍 APO: β=1.6085, R²=0.4778, p=0.0000, Weight=8.4%\n",
      "🔍 MMC: β=0.8603, R²=0.4784, p=0.0000, Weight=31.8%\n",
      "🔍 MRK: β=0.3314, R²=0.0611, p=0.0067, Weight=14.5%\n",
      "🔍 TMUS: β=0.5109, R²=0.1385, p=0.0000, Weight=22.4%\n"
     ]
    },
    {
     "data": {
      "image/png": "[encoded data removed]",
      "text/plain": [
       "<Figure size 1200x1500 with 6 Axes>"
      ]
     },
     "metadata": {},
     "output_type": "display_data"
    },
    {
     "name": "stdout",
     "output_type": "stream",
     "text": [
      "\n",
      "📊 BENCHMARK REGRESSION SUMMARY: YYY\n"
     ]
    },
    {
     "data": {
      "application/vnd.microsoft.datawrangler.viewer.v0+json": {
       "columns": [
        {
         "name": "index",
         "rawType": "int64",
         "type": "integer"
        },
        {
         "name": "Ticker",
         "rawType": "object",
         "type": "string"
        },
        {
         "name": "Beta",
         "rawType": "float64",
         "type": "float"
        },
        {
         "name": "Alpha",
         "rawType": "float64",
         "type": "float"
        },
        {
         "name": "R_Squared",
         "rawType": "float64",
         "type": "float"
        },
        {
         "name": "Correlation",
         "rawType": "float64",
         "type": "float"
        },
        {
         "name": "P_Value",
         "rawType": "float64",
         "type": "float"
        },
        {
         "name": "Portfolio_Weight",
         "rawType": "float64",
         "type": "float"
        },
        {
         "name": "N_Observations",
         "rawType": "int64",
         "type": "integer"
        },
        {
         "name": "Significance",
         "rawType": "object",
         "type": "string"
        }
       ],
       "ref": "a2826c05-a698-47b4-a9be-4b925a1b6348",
       "rows": [
        [
         "0",
         "AMAT",
         "1.5346",
         "0.0158",
         "0.4313",
         "0.6568",
         "0.0",
         "0.2289",
         "119",
         "***"
        ],
        [
         "1",
         "APO",
         "1.6085",
         "0.0154",
         "0.4778",
         "0.6912",
         "0.0",
         "0.084",
         "119",
         "***"
        ],
        [
         "2",
         "MMC",
         "0.8603",
         "0.0093",
         "0.4784",
         "0.6917",
         "0.0",
         "0.3181",
         "119",
         "***"
        ],
        [
         "3",
         "MRK",
         "0.3314",
         "0.0017",
         "0.0611",
         "0.2472",
         "0.0067",
         "0.1453",
         "119",
         "**"
        ],
        [
         "4",
         "TMUS",
         "0.5109",
         "0.0115",
         "0.1385",
         "0.3722",
         "0.0",
         "0.2237",
         "119",
         "***"
        ]
       ],
       "shape": {
        "columns": 9,
        "rows": 5
       }
      },
      "text/html": [
       "<div>\n",
       "<style scoped>\n",
       "    .dataframe tbody tr th:only-of-type {\n",
       "        vertical-align: middle;\n",
       "    }\n",
       "\n",
       "    .dataframe tbody tr th {\n",
       "        vertical-align: top;\n",
       "    }\n",
       "\n",
       "    .dataframe thead th {\n",
       "        text-align: right;\n",
       "    }\n",
       "</style>\n",
       "<table border=\"1\" class=\"dataframe\">\n",
       "  <thead>\n",
       "    <tr style=\"text-align: right;\">\n",
       "      <th></th>\n",
       "      <th>Ticker</th>\n",
       "      <th>Beta</th>\n",
       "      <th>Alpha</th>\n",
       "      <th>R_Squared</th>\n",
       "      <th>Correlation</th>\n",
       "      <th>P_Value</th>\n",
       "      <th>Portfolio_Weight</th>\n",
       "      <th>N_Observations</th>\n",
       "      <th>Significance</th>\n",
       "    </tr>\n",
       "  </thead>\n",
       "  <tbody>\n",
       "    <tr>\n",
       "      <th>0</th>\n",
       "      <td>AMAT</td>\n",
       "      <td>1.5346</td>\n",
       "      <td>0.0158</td>\n",
       "      <td>0.4313</td>\n",
       "      <td>0.6568</td>\n",
       "      <td>0.0000</td>\n",
       "      <td>0.2289</td>\n",
       "      <td>119</td>\n",
       "      <td>***</td>\n",
       "    </tr>\n",
       "    <tr>\n",
       "      <th>1</th>\n",
       "      <td>APO</td>\n",
       "      <td>1.6085</td>\n",
       "      <td>0.0154</td>\n",
       "      <td>0.4778</td>\n",
       "      <td>0.6912</td>\n",
       "      <td>0.0000</td>\n",
       "      <td>0.0840</td>\n",
       "      <td>119</td>\n",
       "      <td>***</td>\n",
       "    </tr>\n",
       "    <tr>\n",
       "      <th>2</th>\n",
       "      <td>MMC</td>\n",
       "      <td>0.8603</td>\n",
       "      <td>0.0093</td>\n",
       "      <td>0.4784</td>\n",
       "      <td>0.6917</td>\n",
       "      <td>0.0000</td>\n",
       "      <td>0.3181</td>\n",
       "      <td>119</td>\n",
       "      <td>***</td>\n",
       "    </tr>\n",
       "    <tr>\n",
       "      <th>3</th>\n",
       "      <td>MRK</td>\n",
       "      <td>0.3314</td>\n",
       "      <td>0.0017</td>\n",
       "      <td>0.0611</td>\n",
       "      <td>0.2472</td>\n",
       "      <td>0.0067</td>\n",
       "      <td>0.1453</td>\n",
       "      <td>119</td>\n",
       "      <td>**</td>\n",
       "    </tr>\n",
       "    <tr>\n",
       "      <th>4</th>\n",
       "      <td>TMUS</td>\n",
       "      <td>0.5109</td>\n",
       "      <td>0.0115</td>\n",
       "      <td>0.1385</td>\n",
       "      <td>0.3722</td>\n",
       "      <td>0.0000</td>\n",
       "      <td>0.2237</td>\n",
       "      <td>119</td>\n",
       "      <td>***</td>\n",
       "    </tr>\n",
       "  </tbody>\n",
       "</table>\n",
       "</div>"
      ],
      "text/plain": [
       "  Ticker    Beta   Alpha  R_Squared  Correlation  P_Value  Portfolio_Weight  \\\n",
       "0   AMAT  1.5346  0.0158     0.4313       0.6568   0.0000            0.2289   \n",
       "1    APO  1.6085  0.0154     0.4778       0.6912   0.0000            0.0840   \n",
       "2    MMC  0.8603  0.0093     0.4784       0.6917   0.0000            0.3181   \n",
       "3    MRK  0.3314  0.0017     0.0611       0.2472   0.0067            0.1453   \n",
       "4   TMUS  0.5109  0.0115     0.1385       0.3722   0.0000            0.2237   \n",
       "\n",
       "   N_Observations Significance  \n",
       "0             119          ***  \n",
       "1             119          ***  \n",
       "2             119          ***  \n",
       "3             119           **  \n",
       "4             119          ***  "
      ]
     },
     "metadata": {},
     "output_type": "display_data"
    },
    {
     "name": "stdout",
     "output_type": "stream",
     "text": [
      "\n",
      "📈 PORTFOLIO STATISTICS: Weighted β=0.9225, Weighted R²=0.3309\n",
      "  • Significant relationships (p<0.05): 5/5\n",
      "Portfolio sectors: {'Communication Services', 'Healthcare', 'Financial Services', 'Technology'}\n",
      "Benchmark sectors: {'Communication Services', 'Realestate', 'Industrials', 'Healthcare', 'Technology', 'Basic Materials', 'Consumer Cyclical', 'Utilities', 'Consumer Defensive', 'Financial Services', 'Energy'}\n"
     ]
    },
    {
     "data": {
      "image/png": "[encoded data removed]",
      "text/plain": [
       "<Figure size 1600x1200 with 4 Axes>"
      ]
     },
     "metadata": {},
     "output_type": "display_data"
    }
   ],
   "source": [
    "from py.regression_benchmark import analyze_benchmark_regression, plot_benchmark_analysis\n",
    "\n",
    "# Execute analysis\n",
    "benchmark_regression_results = analyze_benchmark_regression(benchmark_excess_returns_df, stock_excess_returns_df, best_benchmark, portfolio_df)\n",
    "\n",
    "# Get the benchmark sector data\n",
    "best_benchmark_sectors = filtered_sectors_df[filtered_sectors_df[\"Symbol\"] == best_benchmarks_df['Benchmark'].unique()[0]]\n",
    "best_benchmark_sectors = best_benchmark_sectors[[\"Symbol\", \"Name_x\", \"Sectors\"]] \n",
    "best_benchmark_sectors = best_benchmark_sectors.rename(columns={\"Name_x\": \"Name\"})\n",
    "\n",
    "# Create the analysis with sector weights\n",
    "benchmark_regression_summary = plot_benchmark_analysis(\n",
    "    regression_results=benchmark_regression_results, \n",
    "    best_benchmark=best_benchmark, \n",
    "    cols=2, \n",
    "    benchmark_sectors_df=best_benchmark_sectors,\n",
    "    portfolio_df=portfolio_df \n",
    ")"
   ]
  },
  {
   "cell_type": "markdown",
   "id": "76b26b74",
   "metadata": {},
   "source": [
    "### Step 12: Export Data to Excel"
   ]
  },
  {
   "cell_type": "code",
   "execution_count": 21,
   "id": "abf0469a",
   "metadata": {
    "execution": {
     "iopub.execute_input": "2025-06-02T13:28:34.039007Z",
     "iopub.status.busy": "2025-06-02T13:28:34.038022Z",
     "iopub.status.idle": "2025-06-02T13:28:34.050755Z",
     "shell.execute_reply": "2025-06-02T13:28:34.049152Z"
    }
   },
   "outputs": [
    {
     "name": "stdout",
     "output_type": "stream",
     "text": [
      "YYY\n"
     ]
    },
    {
     "data": {
      "application/vnd.microsoft.datawrangler.viewer.v0+json": {
       "columns": [
        {
         "name": "Equity",
         "rawType": "object",
         "type": "string"
        },
        {
         "name": "Benchmark",
         "rawType": "object",
         "type": "string"
        },
        {
         "name": "intercept (alpha)",
         "rawType": "float64",
         "type": "float"
        },
        {
         "name": "slope (beta)",
         "rawType": "float64",
         "type": "float"
        },
        {
         "name": "correlation",
         "rawType": "float64",
         "type": "float"
        },
        {
         "name": "r_squared",
         "rawType": "float64",
         "type": "float"
        },
        {
         "name": "p_value_slope",
         "rawType": "float64",
         "type": "float"
        },
        {
         "name": "p_value_intercept",
         "rawType": "float64",
         "type": "float"
        }
       ],
       "ref": "30158f42-9fd2-478f-ae2b-bf132c4d0ce7",
       "rows": [
        [
         "AMAT",
         "YYY",
         "0.015835459749519273",
         "1.53464044455876",
         "0.6567537737910686",
         "0.43132551938881014",
         "5.062416854170298e-16",
         "0.02375571000424277"
        ],
        [
         "APO",
         "YYY",
         "0.015440164787394095",
         "1.6085158734967153",
         "0.6912185243373471",
         "0.4777830483870992",
         "3.2936876042527576e-18",
         "0.020942488424093204"
        ],
        [
         "MMC",
         "YYY",
         "0.00927666912332557",
         "0.8603071504505325",
         "0.6916650457628825",
         "0.47840053553017037",
         "3.0715134629628747e-18",
         "0.009616308135244096"
        ],
        [
         "MRK",
         "YYY",
         "0.0016617788363540767",
         "0.3313943911233932",
         "0.24718874439156271",
         "0.06110227535387758",
         "0.006723420618105539",
         "0.7449198853304669"
        ],
        [
         "TMUS",
         "YYY",
         "0.011506531723307586",
         "0.510930351811078",
         "0.3721799423280087",
         "0.1385179094712804",
         "3.074246451616132e-05",
         "0.02309438224218916"
        ]
       ],
       "shape": {
        "columns": 7,
        "rows": 5
       }
      },
      "text/html": [
       "<div>\n",
       "<style scoped>\n",
       "    .dataframe tbody tr th:only-of-type {\n",
       "        vertical-align: middle;\n",
       "    }\n",
       "\n",
       "    .dataframe tbody tr th {\n",
       "        vertical-align: top;\n",
       "    }\n",
       "\n",
       "    .dataframe thead th {\n",
       "        text-align: right;\n",
       "    }\n",
       "</style>\n",
       "<table border=\"1\" class=\"dataframe\">\n",
       "  <thead>\n",
       "    <tr style=\"text-align: right;\">\n",
       "      <th></th>\n",
       "      <th>Benchmark</th>\n",
       "      <th>intercept (alpha)</th>\n",
       "      <th>slope (beta)</th>\n",
       "      <th>correlation</th>\n",
       "      <th>r_squared</th>\n",
       "      <th>p_value_slope</th>\n",
       "      <th>p_value_intercept</th>\n",
       "    </tr>\n",
       "    <tr>\n",
       "      <th>Equity</th>\n",
       "      <th></th>\n",
       "      <th></th>\n",
       "      <th></th>\n",
       "      <th></th>\n",
       "      <th></th>\n",
       "      <th></th>\n",
       "      <th></th>\n",
       "    </tr>\n",
       "  </thead>\n",
       "  <tbody>\n",
       "    <tr>\n",
       "      <th>AMAT</th>\n",
       "      <td>YYY</td>\n",
       "      <td>0.015835</td>\n",
       "      <td>1.534640</td>\n",
       "      <td>0.656754</td>\n",
       "      <td>0.431326</td>\n",
       "      <td>5.062417e-16</td>\n",
       "      <td>0.023756</td>\n",
       "    </tr>\n",
       "    <tr>\n",
       "      <th>APO</th>\n",
       "      <td>YYY</td>\n",
       "      <td>0.015440</td>\n",
       "      <td>1.608516</td>\n",
       "      <td>0.691219</td>\n",
       "      <td>0.477783</td>\n",
       "      <td>3.293688e-18</td>\n",
       "      <td>0.020942</td>\n",
       "    </tr>\n",
       "    <tr>\n",
       "      <th>MMC</th>\n",
       "      <td>YYY</td>\n",
       "      <td>0.009277</td>\n",
       "      <td>0.860307</td>\n",
       "      <td>0.691665</td>\n",
       "      <td>0.478401</td>\n",
       "      <td>3.071513e-18</td>\n",
       "      <td>0.009616</td>\n",
       "    </tr>\n",
       "    <tr>\n",
       "      <th>MRK</th>\n",
       "      <td>YYY</td>\n",
       "      <td>0.001662</td>\n",
       "      <td>0.331394</td>\n",
       "      <td>0.247189</td>\n",
       "      <td>0.061102</td>\n",
       "      <td>6.723421e-03</td>\n",
       "      <td>0.744920</td>\n",
       "    </tr>\n",
       "    <tr>\n",
       "      <th>TMUS</th>\n",
       "      <td>YYY</td>\n",
       "      <td>0.011507</td>\n",
       "      <td>0.510930</td>\n",
       "      <td>0.372180</td>\n",
       "      <td>0.138518</td>\n",
       "      <td>3.074246e-05</td>\n",
       "      <td>0.023094</td>\n",
       "    </tr>\n",
       "  </tbody>\n",
       "</table>\n",
       "</div>"
      ],
      "text/plain": [
       "       Benchmark  intercept (alpha)  slope (beta)  correlation  r_squared  \\\n",
       "Equity                                                                      \n",
       "AMAT         YYY           0.015835      1.534640     0.656754   0.431326   \n",
       "APO          YYY           0.015440      1.608516     0.691219   0.477783   \n",
       "MMC          YYY           0.009277      0.860307     0.691665   0.478401   \n",
       "MRK          YYY           0.001662      0.331394     0.247189   0.061102   \n",
       "TMUS         YYY           0.011507      0.510930     0.372180   0.138518   \n",
       "\n",
       "        p_value_slope  p_value_intercept  \n",
       "Equity                                    \n",
       "AMAT     5.062417e-16           0.023756  \n",
       "APO      3.293688e-18           0.020942  \n",
       "MMC      3.071513e-18           0.009616  \n",
       "MRK      6.723421e-03           0.744920  \n",
       "TMUS     3.074246e-05           0.023094  "
      ]
     },
     "execution_count": 21,
     "metadata": {},
     "output_type": "execute_result"
    }
   ],
   "source": [
    "# Set Index\n",
    "first_column = best_benchmarks_df.columns[0] # Get the name of the first column\n",
    "best_benchmarks_df.set_index(first_column, drop=True, inplace=True)\n",
    "best_benchmark = best_benchmarks_df['Benchmark'].unique()[0]\n",
    "\n",
    "# Display the best benchmark DataFrame\n",
    "print(best_benchmark)\n",
    "best_benchmarks_df"
   ]
  },
  {
   "cell_type": "code",
   "execution_count": 22,
   "id": "5875bf44",
   "metadata": {
    "execution": {
     "iopub.execute_input": "2025-06-02T13:28:34.054929Z",
     "iopub.status.busy": "2025-06-02T13:28:34.053526Z",
     "iopub.status.idle": "2025-06-02T13:28:35.789149Z",
     "shell.execute_reply": "2025-06-02T13:28:35.787254Z"
    }
   },
   "outputs": [
    {
     "name": "stdout",
     "output_type": "stream",
     "text": [
      "Updated sheet 'benchmark_long_term'\n",
      "Successfully merged data into 'daily_quotes' sheet\n",
      "Successfully merged data into 'monthly_quotes' sheet\n",
      "Successfully exported all data to portfolios/portfolio-2025-06-06.xlsx\n"
     ]
    }
   ],
   "source": [
    "export_to_excel(output_file, {\n",
    "    'benchmark_long_term': best_benchmarks_df,\n",
    "    'daily_quotes': benchmark_prices_daily_df[[best_benchmark]],  \n",
    "    'monthly_quotes': benchmark_prices_monthly_df[[best_benchmark]]   \n",
    "})"
   ]
  }
 ],
 "metadata": {
  "kernelspec": {
   "display_name": ".venv",
   "language": "python",
   "name": "python3"
  },
  "language_info": {
   "codemirror_mode": {
    "name": "ipython",
    "version": 3
   },
   "file_extension": ".py",
   "mimetype": "text/x-python",
   "name": "python",
   "nbconvert_exporter": "python",
   "pygments_lexer": "ipython3",
   "version": "3.13.3"
  },
  "widgets": {
   "application/vnd.jupyter.widget-state+json": {
    "state": {
     "045ae3d33e4e4f28bf306e11146680bf": {
      "model_module": "@jupyter-widgets/base",
      "model_module_version": "2.0.0",
      "model_name": "LayoutModel",
      "state": {
       "_model_module": "@jupyter-widgets/base",
       "_model_module_version": "2.0.0",
       "_model_name": "LayoutModel",
       "_view_count": null,
       "_view_module": "@jupyter-widgets/base",
       "_view_module_version": "2.0.0",
       "_view_name": "LayoutView",
       "align_content": null,
       "align_items": null,
       "align_self": null,
       "border_bottom": null,
       "border_left": null,
       "border_right": null,
       "border_top": null,
       "bottom": null,
       "display": null,
       "flex": null,
       "flex_flow": null,
       "grid_area": null,
       "grid_auto_columns": null,
       "grid_auto_flow": null,
       "grid_auto_rows": null,
       "grid_column": null,
       "grid_gap": null,
       "grid_row": null,
       "grid_template_areas": null,
       "grid_template_columns": null,
       "grid_template_rows": null,
       "height": null,
       "justify_content": null,
       "justify_items": null,
       "left": null,
       "margin": null,
       "max_height": null,
       "max_width": null,
       "min_height": null,
       "min_width": null,
       "object_fit": null,
       "object_position": null,
       "order": null,
       "overflow": null,
       "padding": null,
       "right": null,
       "top": null,
       "visibility": null,
       "width": null
      }
     },
     "0e994225a7124f8dacbce576f288c778": {
      "model_module": "@jupyter-widgets/base",
      "model_module_version": "2.0.0",
      "model_name": "LayoutModel",
      "state": {
       "_model_module": "@jupyter-widgets/base",
       "_model_module_version": "2.0.0",
       "_model_name": "LayoutModel",
       "_view_count": null,
       "_view_module": "@jupyter-widgets/base",
       "_view_module_version": "2.0.0",
       "_view_name": "LayoutView",
       "align_content": null,
       "align_items": null,
       "align_self": null,
       "border_bottom": null,
       "border_left": null,
       "border_right": null,
       "border_top": null,
       "bottom": null,
       "display": null,
       "flex": null,
       "flex_flow": null,
       "grid_area": null,
       "grid_auto_columns": null,
       "grid_auto_flow": null,
       "grid_auto_rows": null,
       "grid_column": null,
       "grid_gap": null,
       "grid_row": null,
       "grid_template_areas": null,
       "grid_template_columns": null,
       "grid_template_rows": null,
       "height": null,
       "justify_content": null,
       "justify_items": null,
       "left": null,
       "margin": null,
       "max_height": null,
       "max_width": null,
       "min_height": null,
       "min_width": null,
       "object_fit": null,
       "object_position": null,
       "order": null,
       "overflow": null,
       "padding": null,
       "right": null,
       "top": null,
       "visibility": null,
       "width": null
      }
     },
     "294e0b5895ac4cb5a3e52c40b52715c0": {
      "model_module": "@jupyter-widgets/controls",
      "model_module_version": "2.0.0",
      "model_name": "HBoxModel",
      "state": {
       "_dom_classes": [],
       "_model_module": "@jupyter-widgets/controls",
       "_model_module_version": "2.0.0",
       "_model_name": "HBoxModel",
       "_view_count": null,
       "_view_module": "@jupyter-widgets/controls",
       "_view_module_version": "2.0.0",
       "_view_name": "HBoxView",
       "box_style": "",
       "children": [
        "IPY_MODEL_e2d34e0235144456b14f793c3fac79ca",
        "IPY_MODEL_779190ba5571443db3c0d62d2a37f2a1",
        "IPY_MODEL_dbc34e958a6e419c9a50589872524dc3"
       ],
       "layout": "IPY_MODEL_aaa07405a0404e80af127cfe3778ac1c",
       "tabbable": null,
       "tooltip": null
      }
     },
     "434e195470de46f3af439d9f686ec13c": {
      "model_module": "@jupyter-widgets/controls",
      "model_module_version": "2.0.0",
      "model_name": "HTMLStyleModel",
      "state": {
       "_model_module": "@jupyter-widgets/controls",
       "_model_module_version": "2.0.0",
       "_model_name": "HTMLStyleModel",
       "_view_count": null,
       "_view_module": "@jupyter-widgets/base",
       "_view_module_version": "2.0.0",
       "_view_name": "StyleView",
       "background": null,
       "description_width": "",
       "font_size": null,
       "text_color": null
      }
     },
     "6cedd3aff77641849dcbf7657691054e": {
      "model_module": "@jupyter-widgets/base",
      "model_module_version": "2.0.0",
      "model_name": "LayoutModel",
      "state": {
       "_model_module": "@jupyter-widgets/base",
       "_model_module_version": "2.0.0",
       "_model_name": "LayoutModel",
       "_view_count": null,
       "_view_module": "@jupyter-widgets/base",
       "_view_module_version": "2.0.0",
       "_view_name": "LayoutView",
       "align_content": null,
       "align_items": null,
       "align_self": null,
       "border_bottom": null,
       "border_left": null,
       "border_right": null,
       "border_top": null,
       "bottom": null,
       "display": null,
       "flex": null,
       "flex_flow": null,
       "grid_area": null,
       "grid_auto_columns": null,
       "grid_auto_flow": null,
       "grid_auto_rows": null,
       "grid_column": null,
       "grid_gap": null,
       "grid_row": null,
       "grid_template_areas": null,
       "grid_template_columns": null,
       "grid_template_rows": null,
       "height": null,
       "justify_content": null,
       "justify_items": null,
       "left": null,
       "margin": null,
       "max_height": null,
       "max_width": null,
       "min_height": null,
       "min_width": null,
       "object_fit": null,
       "object_position": null,
       "order": null,
       "overflow": null,
       "padding": null,
       "right": null,
       "top": null,
       "visibility": null,
       "width": null
      }
     },
     "779190ba5571443db3c0d62d2a37f2a1": {
      "model_module": "@jupyter-widgets/controls",
      "model_module_version": "2.0.0",
      "model_name": "FloatProgressModel",
      "state": {
       "_dom_classes": [],
       "_model_module": "@jupyter-widgets/controls",
       "_model_module_version": "2.0.0",
       "_model_name": "FloatProgressModel",
       "_view_count": null,
       "_view_module": "@jupyter-widgets/controls",
       "_view_module_version": "2.0.0",
       "_view_name": "ProgressView",
       "bar_style": "success",
       "description": "",
       "description_allow_html": false,
       "layout": "IPY_MODEL_0e994225a7124f8dacbce576f288c778",
       "max": 513,
       "min": 0,
       "orientation": "horizontal",
       "style": "IPY_MODEL_7e34651eb7364339b0dac58478f22353",
       "tabbable": null,
       "tooltip": null,
       "value": 513
      }
     },
     "7e34651eb7364339b0dac58478f22353": {
      "model_module": "@jupyter-widgets/controls",
      "model_module_version": "2.0.0",
      "model_name": "ProgressStyleModel",
      "state": {
       "_model_module": "@jupyter-widgets/controls",
       "_model_module_version": "2.0.0",
       "_model_name": "ProgressStyleModel",
       "_view_count": null,
       "_view_module": "@jupyter-widgets/base",
       "_view_module_version": "2.0.0",
       "_view_name": "StyleView",
       "bar_color": null,
       "description_width": ""
      }
     },
     "aaa07405a0404e80af127cfe3778ac1c": {
      "model_module": "@jupyter-widgets/base",
      "model_module_version": "2.0.0",
      "model_name": "LayoutModel",
      "state": {
       "_model_module": "@jupyter-widgets/base",
       "_model_module_version": "2.0.0",
       "_model_name": "LayoutModel",
       "_view_count": null,
       "_view_module": "@jupyter-widgets/base",
       "_view_module_version": "2.0.0",
       "_view_name": "LayoutView",
       "align_content": null,
       "align_items": null,
       "align_self": null,
       "border_bottom": null,
       "border_left": null,
       "border_right": null,
       "border_top": null,
       "bottom": null,
       "display": null,
       "flex": null,
       "flex_flow": null,
       "grid_area": null,
       "grid_auto_columns": null,
       "grid_auto_flow": null,
       "grid_auto_rows": null,
       "grid_column": null,
       "grid_gap": null,
       "grid_row": null,
       "grid_template_areas": null,
       "grid_template_columns": null,
       "grid_template_rows": null,
       "height": null,
       "justify_content": null,
       "justify_items": null,
       "left": null,
       "margin": null,
       "max_height": null,
       "max_width": null,
       "min_height": null,
       "min_width": null,
       "object_fit": null,
       "object_position": null,
       "order": null,
       "overflow": null,
       "padding": null,
       "right": null,
       "top": null,
       "visibility": null,
       "width": null
      }
     },
     "ae061c1387cd4fb6b8a1d923d00e3685": {
      "model_module": "@jupyter-widgets/controls",
      "model_module_version": "2.0.0",
      "model_name": "HTMLStyleModel",
      "state": {
       "_model_module": "@jupyter-widgets/controls",
       "_model_module_version": "2.0.0",
       "_model_name": "HTMLStyleModel",
       "_view_count": null,
       "_view_module": "@jupyter-widgets/base",
       "_view_module_version": "2.0.0",
       "_view_name": "StyleView",
       "background": null,
       "description_width": "",
       "font_size": null,
       "text_color": null
      }
     },
     "dbc34e958a6e419c9a50589872524dc3": {
      "model_module": "@jupyter-widgets/controls",
      "model_module_version": "2.0.0",
      "model_name": "HTMLModel",
      "state": {
       "_dom_classes": [],
       "_model_module": "@jupyter-widgets/controls",
       "_model_module_version": "2.0.0",
       "_model_name": "HTMLModel",
       "_view_count": null,
       "_view_module": "@jupyter-widgets/controls",
       "_view_module_version": "2.0.0",
       "_view_name": "HTMLView",
       "description": "",
       "description_allow_html": false,
       "layout": "IPY_MODEL_045ae3d33e4e4f28bf306e11146680bf",
       "placeholder": "​",
       "style": "IPY_MODEL_434e195470de46f3af439d9f686ec13c",
       "tabbable": null,
       "tooltip": null,
       "value": " 513/513 [00:13&lt;00:00, 21.56it/s]"
      }
     },
     "e2d34e0235144456b14f793c3fac79ca": {
      "model_module": "@jupyter-widgets/controls",
      "model_module_version": "2.0.0",
      "model_name": "HTMLModel",
      "state": {
       "_dom_classes": [],
       "_model_module": "@jupyter-widgets/controls",
       "_model_module_version": "2.0.0",
       "_model_name": "HTMLModel",
       "_view_count": null,
       "_view_module": "@jupyter-widgets/controls",
       "_view_module_version": "2.0.0",
       "_view_name": "HTMLView",
       "description": "",
       "description_allow_html": false,
       "layout": "IPY_MODEL_6cedd3aff77641849dcbf7657691054e",
       "placeholder": "​",
       "style": "IPY_MODEL_ae061c1387cd4fb6b8a1d923d00e3685",
       "tabbable": null,
       "tooltip": null,
       "value": "100%"
      }
     }
    },
    "version_major": 2,
    "version_minor": 0
   }
  }
 },
 "nbformat": 4,
 "nbformat_minor": 5
}
