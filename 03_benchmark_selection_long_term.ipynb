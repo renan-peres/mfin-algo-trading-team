{
 "cells": [
  {
   "cell_type": "markdown",
   "id": "bcc3381f",
   "metadata": {},
   "source": [
    "<a href=\"https://colab.research.google.com/github/renan-peres/mfin-portfolio-management/blob/main/03_benchmark_selection.ipynb\" target=\"_parent\"><img src=\"https://colab.research.google.com/assets/colab-badge.svg\" alt=\"Open In Colab\"/></a>"
   ]
  },
  {
   "cell_type": "markdown",
   "id": "e4cd6428",
   "metadata": {},
   "source": [
    "# Benchmark Selection with Regression Analysis\n",
    "This model aims to select an ETF that best fits with the portfolio to be used as a benchmark. The methodology uses a regression analysis to identify the relationship between the ETF and the portfolio and check the ETF with the highest R² and lowest p-value will be selected as the benchmark. \n",
    "\n",
    "The model will use the following steps:\n",
    "1. Select an ETF that invests in the same sectors as the portfolio holdings.\n",
    "2. Use regression analysis to identify the relationship between the ETF and the portfolio.\n",
    "3. Select the ETF with the highest R² and lowest p-value as the benchmark.\n",
    "4. Use the selected ETF as a benchmark to evaluate the performance of the portfolio."
   ]
  },
  {
   "cell_type": "markdown",
   "id": "dc371546",
   "metadata": {},
   "source": [
    "### Step 1: Import Libraries"
   ]
  },
  {
   "cell_type": "code",
   "execution_count": 1,
   "id": "d09ef8c1",
   "metadata": {
    "execution": {
     "iopub.execute_input": "2025-06-02T13:28:29.114690Z",
     "iopub.status.busy": "2025-06-02T13:28:29.114145Z",
     "iopub.status.idle": "2025-06-02T13:28:30.793724Z",
     "shell.execute_reply": "2025-06-02T13:28:30.792289Z"
    }
   },
   "outputs": [],
   "source": [
    "# UDFs\n",
    "from py.utils import load_and_filter_data, export_to_excel\n",
    "from py.regression_benchmark import find_best_benchmark_and_run_regressions\n",
    "\n",
    "# System libraries\n",
    "import glob\n",
    "import os\n",
    "import sys\n",
    "from io import StringIO\n",
    "from typing import Dict, List\n",
    "\n",
    "# Data manipulation libraries\n",
    "import pandas as pd\n",
    "import numpy as np\n",
    "from datetime import datetime, timedelta\n",
    "from pandas.tseries.offsets import BDay\n",
    "\n",
    "# Data Visualization libraries\n",
    "import matplotlib.pyplot as plt\n",
    "import seaborn as sns\n",
    "\n",
    "# Excel libraries\n",
    "from openpyxl import load_workbook\n",
    "from openpyxl.styles import Alignment, Font\n",
    "import ast"
   ]
  },
  {
   "cell_type": "markdown",
   "id": "e2e1bc31",
   "metadata": {},
   "source": [
    "### Step 2: Define Parameters"
   ]
  },
  {
   "cell_type": "markdown",
   "id": "766d204e",
   "metadata": {},
   "source": [
    "#### Dates"
   ]
  },
  {
   "cell_type": "code",
   "execution_count": 2,
   "id": "d59ab3b0",
   "metadata": {
    "execution": {
     "iopub.execute_input": "2025-06-02T13:28:30.798269Z",
     "iopub.status.busy": "2025-06-02T13:28:30.797519Z",
     "iopub.status.idle": "2025-06-02T13:28:30.805224Z",
     "shell.execute_reply": "2025-06-02T13:28:30.803735Z"
    }
   },
   "outputs": [
    {
     "name": "stdout",
     "output_type": "stream",
     "text": [
      "Date Range: 2015-06-06 to 2025-06-03\n",
      "Time span: 3650 days (10.00 years)\n"
     ]
    }
   ],
   "source": [
    "# Define the date range\n",
    "end_date = (datetime.today() - BDay(1)).to_pydatetime()  # Subtract 1 business day\n",
    "start_date = end_date - timedelta(days=10*365)            # 10 years ago from the end date\n",
    "\n",
    "# Convert datetime objects to Unix timestamps (seconds since Jan 1, 1970)\n",
    "start_timestamp = int(start_date.timestamp())\n",
    "end_timestamp = int(end_date.timestamp())\n",
    "\n",
    "# Print the date range\n",
    "days_difference = (end_date - start_date).days\n",
    "print(f\"Date Range: {start_date.strftime('%Y-%m-%d')} to {end_date.strftime('%Y-%m-%d')}\")\n",
    "print(f\"Time span: {days_difference} days ({days_difference/365:.2f} years)\")"
   ]
  },
  {
   "cell_type": "markdown",
   "id": "c216556a",
   "metadata": {},
   "source": [
    "#### Risk-free rate (T-bill, %)"
   ]
  },
  {
   "cell_type": "code",
   "execution_count": 3,
   "id": "3f485596",
   "metadata": {
    "execution": {
     "iopub.execute_input": "2025-06-02T13:28:30.808605Z",
     "iopub.status.busy": "2025-06-02T13:28:30.808221Z",
     "iopub.status.idle": "2025-06-02T13:28:30.832293Z",
     "shell.execute_reply": "2025-06-02T13:28:30.831288Z"
    }
   },
   "outputs": [
    {
     "name": "stdout",
     "output_type": "stream",
     "text": [
      "Found 1 of 1 tickers in data/daily_treasury_rates.csv\n",
      "Missing tickers: []\n",
      "Risk-Free Rate: 0.042300000000000004 -- 13 WEEK TREASURY BILL (^IRX)\n"
     ]
    },
    {
     "data": {
      "application/vnd.microsoft.datawrangler.viewer.v0+json": {
       "columns": [
        {
         "name": "Date",
         "rawType": "datetime64[ns]",
         "type": "datetime"
        },
        {
         "name": "^IRX",
         "rawType": "float64",
         "type": "float"
        }
       ],
       "ref": "f75ed7a6-b633-42fe-93db-53ec698494cd",
       "rows": [
        [
         "2015-06-08 00:00:00",
         "0.01"
        ],
        [
         "2015-06-09 00:00:00",
         "0.013"
        ],
        [
         "2015-06-10 00:00:00",
         "0.013"
        ],
        [
         "2015-06-11 00:00:00",
         "0.008"
        ],
        [
         "2015-06-12 00:00:00",
         "0.005"
        ]
       ],
       "shape": {
        "columns": 1,
        "rows": 5
       }
      },
      "text/html": [
       "<div>\n",
       "<style scoped>\n",
       "    .dataframe tbody tr th:only-of-type {\n",
       "        vertical-align: middle;\n",
       "    }\n",
       "\n",
       "    .dataframe tbody tr th {\n",
       "        vertical-align: top;\n",
       "    }\n",
       "\n",
       "    .dataframe thead th {\n",
       "        text-align: right;\n",
       "    }\n",
       "</style>\n",
       "<table border=\"1\" class=\"dataframe\">\n",
       "  <thead>\n",
       "    <tr style=\"text-align: right;\">\n",
       "      <th></th>\n",
       "      <th>^IRX</th>\n",
       "    </tr>\n",
       "    <tr>\n",
       "      <th>Date</th>\n",
       "      <th></th>\n",
       "    </tr>\n",
       "  </thead>\n",
       "  <tbody>\n",
       "    <tr>\n",
       "      <th>2015-06-08</th>\n",
       "      <td>0.010</td>\n",
       "    </tr>\n",
       "    <tr>\n",
       "      <th>2015-06-09</th>\n",
       "      <td>0.013</td>\n",
       "    </tr>\n",
       "    <tr>\n",
       "      <th>2015-06-10</th>\n",
       "      <td>0.013</td>\n",
       "    </tr>\n",
       "    <tr>\n",
       "      <th>2015-06-11</th>\n",
       "      <td>0.008</td>\n",
       "    </tr>\n",
       "    <tr>\n",
       "      <th>2015-06-12</th>\n",
       "      <td>0.005</td>\n",
       "    </tr>\n",
       "  </tbody>\n",
       "</table>\n",
       "</div>"
      ],
      "text/plain": [
       "             ^IRX\n",
       "Date             \n",
       "2015-06-08  0.010\n",
       "2015-06-09  0.013\n",
       "2015-06-10  0.013\n",
       "2015-06-11  0.008\n",
       "2015-06-12  0.005"
      ]
     },
     "execution_count": 3,
     "metadata": {},
     "output_type": "execute_result"
    }
   ],
   "source": [
    "# Load and process data\n",
    "daily_risk_free_df = load_and_filter_data('data/daily_treasury_rates.csv', ['^IRX'], start_date, end_date)\n",
    "# risk_free_rate = .0433 \n",
    "risk_free_rate = daily_risk_free_df.iloc[-1, 0] / 100\n",
    "risk_free_rate_monthly = risk_free_rate / 12\n",
    "\n",
    "# Display result\n",
    "print(\"Risk-Free Rate:\", risk_free_rate, \"-- 13 WEEK TREASURY BILL (^IRX)\")\n",
    "daily_risk_free_df.head()"
   ]
  },
  {
   "cell_type": "markdown",
   "id": "119e2261",
   "metadata": {},
   "source": [
    "#### Report File"
   ]
  },
  {
   "cell_type": "code",
   "execution_count": 4,
   "id": "b19e2a7b",
   "metadata": {
    "execution": {
     "iopub.execute_input": "2025-06-02T13:28:30.835903Z",
     "iopub.status.busy": "2025-06-02T13:28:30.835544Z",
     "iopub.status.idle": "2025-06-02T13:28:30.841061Z",
     "shell.execute_reply": "2025-06-02T13:28:30.840100Z"
    }
   },
   "outputs": [
    {
     "name": "stdout",
     "output_type": "stream",
     "text": [
      "Using most recent portfolio file: portfolios/portfolio-2025-06-02.xlsx\n"
     ]
    }
   ],
   "source": [
    "# Get the most recent portfolio file\n",
    "portfolio_files = glob.glob('portfolios/portfolio-*.xlsx')\n",
    "if portfolio_files:\n",
    "    # Sort files by modification time (most recent first)\n",
    "    output_file = max(portfolio_files, key=os.path.getmtime)\n",
    "    print(f\"Using most recent portfolio file: {output_file}\")\n",
    "else:\n",
    "    # Fallback to current date if no files found\n",
    "    output_file = f'portfolios/portfolio-{datetime.date(end_date)}.xlsx'\n",
    "    print(f\"No portfolio files found. Using: {output_file}\")"
   ]
  },
  {
   "cell_type": "markdown",
   "id": "955d4081",
   "metadata": {},
   "source": [
    "### Step 3: Read ETF Data"
   ]
  },
  {
   "cell_type": "code",
   "execution_count": 5,
   "id": "4339ebf2",
   "metadata": {
    "execution": {
     "iopub.execute_input": "2025-06-02T13:28:30.844553Z",
     "iopub.status.busy": "2025-06-02T13:28:30.844341Z",
     "iopub.status.idle": "2025-06-02T13:28:30.887886Z",
     "shell.execute_reply": "2025-06-02T13:28:30.886516Z"
    }
   },
   "outputs": [
    {
     "data": {
      "application/vnd.microsoft.datawrangler.viewer.v0+json": {
       "columns": [
        {
         "name": "index",
         "rawType": "int64",
         "type": "integer"
        },
        {
         "name": "Symbol",
         "rawType": "object",
         "type": "string"
        },
        {
         "name": "Name",
         "rawType": "object",
         "type": "string"
        },
        {
         "name": "Sectors",
         "rawType": "object",
         "type": "unknown"
        }
       ],
       "ref": "270ca5d7-552d-430c-9b70-e159c45edaf5",
       "rows": [
        [
         "0",
         "AADR",
         "AdvisorShares Dorsey Wright ADR ETF",
         "{'realestate': 0.0, 'consumer_cyclical': 0.1182, 'basic_materials': 0.0425, 'consumer_defensive': 0.0, 'technology': 0.16479999, 'communication_services': 0.089499995, 'financial_services': 0.33900002, 'utilities': 0.033299997, 'industrials': 0.1005, 'energy': 0.0334, 'healthcare': 0.0788}"
        ],
        [
         "1",
         "ABFL",
         "Abacus FCF Leaders ETF",
         "{'realestate': 0.0, 'consumer_cyclical': 0.1188, 'basic_materials': 0.0, 'consumer_defensive': 0.0765, 'technology': 0.5052, 'communication_services': 0.0709, 'financial_services': 0.042600002, 'utilities': 0.0, 'industrials': 0.041100003, 'energy': 0.0, 'healthcare': 0.1449}"
        ],
        [
         "2",
         "ACWI",
         "iShares MSCI ACWI ETF",
         "{'realestate': 0.0216, 'consumer_cyclical': 0.1039, 'basic_materials': 0.0346, 'consumer_defensive': 0.0641, 'technology': 0.2491, 'communication_services': 0.084, 'financial_services': 0.1752, 'utilities': 0.0269, 'industrials': 0.1021, 'energy': 0.0375, 'healthcare': 0.1012}"
        ],
        [
         "3",
         "ADME",
         "Aptus Drawdown Managed Equity ETF",
         "{'realestate': 0.0222, 'consumer_cyclical': 0.1022, 'basic_materials': 0.0222, 'consumer_defensive': 0.0608, 'technology': 0.3147, 'communication_services': 0.091800004, 'financial_services': 0.1384, 'utilities': 0.0254, 'industrials': 0.0746, 'energy': 0.0357, 'healthcare': 0.111899994}"
        ],
        [
         "4",
         "AGNG",
         "Global X Aging Population ETF",
         "{'realestate': 0.0791, 'consumer_cyclical': 0.0, 'basic_materials': 0.0, 'consumer_defensive': 0.0, 'technology': 0.0, 'communication_services': 0.0, 'financial_services': 0.0, 'utilities': 0.0, 'industrials': 0.0, 'energy': 0.0, 'healthcare': 0.9209}"
        ]
       ],
       "shape": {
        "columns": 3,
        "rows": 5
       }
      },
      "text/html": [
       "<div>\n",
       "<style scoped>\n",
       "    .dataframe tbody tr th:only-of-type {\n",
       "        vertical-align: middle;\n",
       "    }\n",
       "\n",
       "    .dataframe tbody tr th {\n",
       "        vertical-align: top;\n",
       "    }\n",
       "\n",
       "    .dataframe thead th {\n",
       "        text-align: right;\n",
       "    }\n",
       "</style>\n",
       "<table border=\"1\" class=\"dataframe\">\n",
       "  <thead>\n",
       "    <tr style=\"text-align: right;\">\n",
       "      <th></th>\n",
       "      <th>Symbol</th>\n",
       "      <th>Name</th>\n",
       "      <th>Sectors</th>\n",
       "    </tr>\n",
       "  </thead>\n",
       "  <tbody>\n",
       "    <tr>\n",
       "      <th>0</th>\n",
       "      <td>AADR</td>\n",
       "      <td>AdvisorShares Dorsey Wright ADR ETF</td>\n",
       "      <td>{'realestate': 0.0, 'consumer_cyclical': 0.118...</td>\n",
       "    </tr>\n",
       "    <tr>\n",
       "      <th>1</th>\n",
       "      <td>ABFL</td>\n",
       "      <td>Abacus FCF Leaders ETF</td>\n",
       "      <td>{'realestate': 0.0, 'consumer_cyclical': 0.118...</td>\n",
       "    </tr>\n",
       "    <tr>\n",
       "      <th>2</th>\n",
       "      <td>ACWI</td>\n",
       "      <td>iShares MSCI ACWI ETF</td>\n",
       "      <td>{'realestate': 0.0216, 'consumer_cyclical': 0....</td>\n",
       "    </tr>\n",
       "    <tr>\n",
       "      <th>3</th>\n",
       "      <td>ADME</td>\n",
       "      <td>Aptus Drawdown Managed Equity ETF</td>\n",
       "      <td>{'realestate': 0.0222, 'consumer_cyclical': 0....</td>\n",
       "    </tr>\n",
       "    <tr>\n",
       "      <th>4</th>\n",
       "      <td>AGNG</td>\n",
       "      <td>Global X Aging Population ETF</td>\n",
       "      <td>{'realestate': 0.0791, 'consumer_cyclical': 0....</td>\n",
       "    </tr>\n",
       "  </tbody>\n",
       "</table>\n",
       "</div>"
      ],
      "text/plain": [
       "  Symbol                                 Name  \\\n",
       "0   AADR  AdvisorShares Dorsey Wright ADR ETF   \n",
       "1   ABFL               Abacus FCF Leaders ETF   \n",
       "2   ACWI                iShares MSCI ACWI ETF   \n",
       "3   ADME    Aptus Drawdown Managed Equity ETF   \n",
       "4   AGNG        Global X Aging Population ETF   \n",
       "\n",
       "                                             Sectors  \n",
       "0  {'realestate': 0.0, 'consumer_cyclical': 0.118...  \n",
       "1  {'realestate': 0.0, 'consumer_cyclical': 0.118...  \n",
       "2  {'realestate': 0.0216, 'consumer_cyclical': 0....  \n",
       "3  {'realestate': 0.0222, 'consumer_cyclical': 0....  \n",
       "4  {'realestate': 0.0791, 'consumer_cyclical': 0....  "
      ]
     },
     "execution_count": 5,
     "metadata": {},
     "output_type": "execute_result"
    }
   ],
   "source": [
    "# Load Data\n",
    "sectors_df = pd.read_csv(\"data/fundamentals_benchmark.csv\") \n",
    "sectors_df = sectors_df[[\"Ticker\", \"Name\", \"Sector Weightings\"]]\n",
    "sectors_df = sectors_df.rename(columns={\"Name\": \"Name\", \"Ticker\": \"Symbol\", \"Sector Weightings\": \"Sectors\"})\n",
    "\n",
    "# Convert string representations of dictionaries to actual dictionaries\n",
    "sectors_df['Sectors'] = sectors_df['Sectors'].apply(lambda x: ast.literal_eval(x) if isinstance(x, str) and x.strip() else {})\n",
    "\n",
    "# Display\n",
    "sectors_df.head()"
   ]
  },
  {
   "cell_type": "markdown",
   "id": "30db5c6d",
   "metadata": {},
   "source": [
    "### Step 4: Read Portfolio Data (Excel)"
   ]
  },
  {
   "cell_type": "code",
   "execution_count": 6,
   "id": "7cc2ecd6",
   "metadata": {
    "execution": {
     "iopub.execute_input": "2025-06-02T13:28:30.891757Z",
     "iopub.status.busy": "2025-06-02T13:28:30.890808Z",
     "iopub.status.idle": "2025-06-02T13:28:30.943911Z",
     "shell.execute_reply": "2025-06-02T13:28:30.942866Z"
    }
   },
   "outputs": [
    {
     "name": "stdout",
     "output_type": "stream",
     "text": [
      "['MMC', 'TMUS', 'APO', 'SO', 'AMAT']\n"
     ]
    },
    {
     "data": {
      "application/vnd.microsoft.datawrangler.viewer.v0+json": {
       "columns": [
        {
         "name": "index",
         "rawType": "int64",
         "type": "integer"
        },
        {
         "name": "Ticker",
         "rawType": "object",
         "type": "string"
        },
        {
         "name": "Date",
         "rawType": "object",
         "type": "string"
        },
        {
         "name": "Name",
         "rawType": "object",
         "type": "string"
        },
        {
         "name": "Sector",
         "rawType": "object",
         "type": "string"
        },
        {
         "name": "Industry",
         "rawType": "object",
         "type": "string"
        },
        {
         "name": "Country",
         "rawType": "object",
         "type": "string"
        },
        {
         "name": "Website",
         "rawType": "object",
         "type": "string"
        },
        {
         "name": "Market Cap",
         "rawType": "int64",
         "type": "integer"
        },
        {
         "name": "Enterprise Value",
         "rawType": "int64",
         "type": "integer"
        },
        {
         "name": "Float Shares",
         "rawType": "int64",
         "type": "integer"
        },
        {
         "name": "Shares Outstanding",
         "rawType": "int64",
         "type": "integer"
        },
        {
         "name": "P/E (trailing)",
         "rawType": "float64",
         "type": "float"
        },
        {
         "name": "P/E (forward)",
         "rawType": "float64",
         "type": "float"
        },
        {
         "name": "P/S",
         "rawType": "float64",
         "type": "float"
        },
        {
         "name": "P/B",
         "rawType": "float64",
         "type": "float"
        },
        {
         "name": "EV/EBITDA",
         "rawType": "float64",
         "type": "float"
        },
        {
         "name": "EV/Revenue",
         "rawType": "float64",
         "type": "float"
        },
        {
         "name": "Gross Margin (%)",
         "rawType": "float64",
         "type": "float"
        },
        {
         "name": "EBITDA Margin (%)",
         "rawType": "float64",
         "type": "float"
        },
        {
         "name": "Operating Margin (%)",
         "rawType": "float64",
         "type": "float"
        },
        {
         "name": "Profit Margin (%)",
         "rawType": "float64",
         "type": "float"
        },
        {
         "name": "ROE",
         "rawType": "float64",
         "type": "float"
        },
        {
         "name": "ROA",
         "rawType": "float64",
         "type": "float"
        },
        {
         "name": "Revenue (TTM)",
         "rawType": "int64",
         "type": "integer"
        },
        {
         "name": "Revenue Growth (%)",
         "rawType": "float64",
         "type": "float"
        },
        {
         "name": "EPS (trailing)",
         "rawType": "float64",
         "type": "float"
        },
        {
         "name": "EPS (forward)",
         "rawType": "float64",
         "type": "float"
        },
        {
         "name": "Earnings Growth (%)",
         "rawType": "float64",
         "type": "float"
        },
        {
         "name": "Earnings Quarterly Growth (%)",
         "rawType": "float64",
         "type": "float"
        },
        {
         "name": "Total Cash",
         "rawType": "int64",
         "type": "integer"
        },
        {
         "name": "Total Debt",
         "rawType": "int64",
         "type": "integer"
        },
        {
         "name": "Debt to Equity",
         "rawType": "float64",
         "type": "float"
        },
        {
         "name": "Current Ratio",
         "rawType": "float64",
         "type": "float"
        },
        {
         "name": "Quick Ratio",
         "rawType": "float64",
         "type": "float"
        },
        {
         "name": "Book Value",
         "rawType": "float64",
         "type": "float"
        },
        {
         "name": "Free Cash Flow",
         "rawType": "float64",
         "type": "float"
        },
        {
         "name": "Operating Cash Flow",
         "rawType": "int64",
         "type": "integer"
        },
        {
         "name": "Dividend Yield (%)",
         "rawType": "float64",
         "type": "float"
        },
        {
         "name": "Dividend Rate (%)",
         "rawType": "float64",
         "type": "float"
        },
        {
         "name": "5Y Avg Dividend Yield (%)",
         "rawType": "float64",
         "type": "float"
        },
        {
         "name": "Payout Ratio (%)",
         "rawType": "float64",
         "type": "float"
        },
        {
         "name": "Price",
         "rawType": "float64",
         "type": "float"
        },
        {
         "name": "Target Price",
         "rawType": "float64",
         "type": "float"
        },
        {
         "name": "Target High",
         "rawType": "int64",
         "type": "integer"
        },
        {
         "name": "Target Low",
         "rawType": "float64",
         "type": "float"
        },
        {
         "name": "Analyst Rating",
         "rawType": "object",
         "type": "string"
        },
        {
         "name": "Analyst Rating Value",
         "rawType": "float64",
         "type": "float"
        },
        {
         "name": "Beta",
         "rawType": "float64",
         "type": "float"
        },
        {
         "name": "52W High",
         "rawType": "float64",
         "type": "float"
        },
        {
         "name": "52W Low",
         "rawType": "float64",
         "type": "float"
        },
        {
         "name": "50 Day Avg",
         "rawType": "float64",
         "type": "float"
        },
        {
         "name": "200 Day Avg",
         "rawType": "float64",
         "type": "float"
        },
        {
         "name": "Short Ratio",
         "rawType": "float64",
         "type": "float"
        },
        {
         "name": "Short % of Float",
         "rawType": "float64",
         "type": "float"
        },
        {
         "name": "Weight",
         "rawType": "float64",
         "type": "float"
        },
        {
         "name": "Expected Return",
         "rawType": "float64",
         "type": "float"
        },
        {
         "name": "Standard Deviation",
         "rawType": "float64",
         "type": "float"
        },
        {
         "name": "Sharpe Ratio",
         "rawType": "float64",
         "type": "float"
        }
       ],
       "ref": "302ef15d-9f8b-423c-906b-1d4dbed2651b",
       "rows": [
        [
         "0",
         "MMC",
         "2025-06-02",
         "Marsh & McLennan Companies, Inc.",
         "Financial Services",
         "Insurance Brokers",
         "United States",
         "https://www.marshmclennan.com",
         "115130826752",
         "136148770816",
         "491821141",
         "492728000",
         "28.67",
         "24.78",
         "4.6",
         "8.18",
         "18.35",
         "5.44",
         "0.4432",
         "0.2962",
         "0.3044",
         "0.1613",
         "0.31",
         "0.08",
         "25045999616",
         "0.091",
         "8.15",
         "9.43",
         "-0.011",
         "-0.014",
         "1604000000",
         "22418999296",
         "157.13",
         "1.14",
         "0.5",
         "28.55",
         "4121999872.0",
         "4461000192",
         "0.014",
         "0.0326",
         "0.0138",
         "0.4871",
         "233.66",
         "233.22",
         "276",
         "189.21",
         "hold",
         "2.7",
         "0.83",
         "248.0",
         "205.17",
         "229.54",
         "225.3",
         "2.62",
         "0.01",
         "0.3370543775723063",
         "0.1461677109494677",
         "0.2036852696153913",
         "0.717615521365236"
        ],
        [
         "1",
         "TMUS",
         "2025-06-02",
         "T-Mobile US, Inc.",
         "Communication Services",
         "Telecom Services",
         "United States",
         "https://www.t-mobile.com",
         "275005997056",
         "384693796864",
         "452736028",
         "1135449984",
         "23.63",
         "22.7",
         "3.33",
         "4.51",
         "12.17",
         "4.65",
         "0.6385",
         "0.3822",
         "0.2298",
         "0.1441",
         "0.19",
         "0.06",
         "82691997696",
         "0.066",
         "10.25",
         "10.67",
         "0.29",
         "0.244",
         "12003000320",
         "121691996160",
         "199.15",
         "1.16",
         "0.9",
         "53.73",
         "9022624768.0",
         "24056000512",
         "0.0145",
         "0.0352",
         "0.0",
         "0.2988",
         "242.2",
         "269.22",
         "305",
         "202.99",
         "buy",
         "2.07",
         "0.63",
         "276.49",
         "171.18",
         "251.2",
         "232.97",
         "3.11",
         "0.03",
         "0.3370543775723063",
         "0.1606537566497703",
         "0.2655605999247345",
         "0.6049608138229202"
        ],
        [
         "2",
         "APO",
         "2025-06-02",
         "Apollo Global Management, Inc.",
         "Financial Services",
         "Asset Management",
         "United States",
         "https://www.apollo.com/institutional/homepage",
         "74688552960",
         "94705582080",
         "446479870",
         "571494016",
         "22.85",
         "15.41",
         "3.06",
         "4.5",
         null,
         "3.88",
         "0.4424",
         "0.0",
         "0.2954",
         "0.1473",
         "0.19",
         "0.02",
         "24387000320",
         "-0.215",
         "5.72",
         "8.48",
         "-0.703",
         "-0.69",
         "25016999936",
         "29268000768",
         "90.49",
         "1.79",
         "1.68",
         "29.06",
         null,
         "4195000064",
         "0.0156",
         "0.0204",
         "0.0276",
         "0.3229",
         "130.69",
         "156.88",
         "179",
         "135.0",
         "buy",
         "1.68",
         "1.57",
         "189.49",
         "95.11",
         "133.28",
         "143.86",
         "7.75",
         "0.05",
         "0.1614737411442642",
         "0.1660236124208994",
         "0.3758449392916214",
         "0.4417343299441906"
        ],
        [
         "3",
         "SO",
         "2025-06-02",
         "The Southern Company",
         "Utilities",
         "Utilities - Regulated Electric",
         "United States",
         "https://www.southerncompany.com",
         "99017097216",
         "170091954176",
         "1095713937",
         "1100189952",
         "21.58",
         "20.83",
         "3.55",
         "2.92",
         "12.72",
         "6.11",
         "0.4969",
         "0.4802",
         "0.2782",
         "0.1654",
         "0.12",
         "0.03",
         "27853000704",
         "0.17",
         "4.17",
         "4.32",
         "0.175",
         "0.182",
         "2327000064",
         "70119997440",
         "188.38",
         "0.86",
         "0.48",
         "30.79",
         "407249984.0",
         "9726999552",
         "0.0329",
         "0.0296",
         "0.0388",
         "0.6906",
         "90.0",
         "91.86",
         "104",
         "72.0",
         "hold",
         "2.7",
         "0.37",
         "94.45",
         "76.96",
         "89.88",
         "87.92",
         "5.08",
         "0.02",
         "0.09037429489503457",
         "0.09761495698739964",
         "0.2192720601432195",
         "0.445177360597796"
        ],
        [
         "4",
         "AMAT",
         "2025-06-02",
         "Applied Materials, Inc.",
         "Technology",
         "Semiconductor Equipment & Materials",
         "United States",
         "https://www.appliedmaterials.com",
         "125791559680",
         "125714595840",
         "799392549",
         "802497984",
         "19.09",
         "16.18",
         "4.48",
         "6.63",
         "14.38",
         "4.48",
         "0.4814",
         "0.3113",
         "0.3055",
         "0.2406",
         "0.36",
         "0.16",
         "28088999936",
         "0.068",
         "8.21",
         "9.69",
         "0.277",
         "0.241",
         "6746999808",
         "6670000128",
         "35.18",
         "2.46",
         "1.62",
         "23.63",
         "3740875008.0",
         "7456000000",
         "0.0117",
         "0.0184",
         "0.0087",
         "0.1946",
         "156.75",
         "198.04",
         "250",
         "152.0",
         "buy",
         "1.79",
         "1.66",
         "255.89",
         "123.74",
         "151.52",
         "173.39",
         "2.58",
         "0.02",
         "0.07404320881608878",
         "0.1425970655537145",
         "0.4132610189484351",
         "0.3450532690369889"
        ]
       ],
       "shape": {
        "columns": 58,
        "rows": 5
       }
      },
      "text/html": [
       "<div>\n",
       "<style scoped>\n",
       "    .dataframe tbody tr th:only-of-type {\n",
       "        vertical-align: middle;\n",
       "    }\n",
       "\n",
       "    .dataframe tbody tr th {\n",
       "        vertical-align: top;\n",
       "    }\n",
       "\n",
       "    .dataframe thead th {\n",
       "        text-align: right;\n",
       "    }\n",
       "</style>\n",
       "<table border=\"1\" class=\"dataframe\">\n",
       "  <thead>\n",
       "    <tr style=\"text-align: right;\">\n",
       "      <th></th>\n",
       "      <th>Ticker</th>\n",
       "      <th>Date</th>\n",
       "      <th>Name</th>\n",
       "      <th>Sector</th>\n",
       "      <th>Industry</th>\n",
       "      <th>Country</th>\n",
       "      <th>Website</th>\n",
       "      <th>Market Cap</th>\n",
       "      <th>Enterprise Value</th>\n",
       "      <th>Float Shares</th>\n",
       "      <th>...</th>\n",
       "      <th>52W High</th>\n",
       "      <th>52W Low</th>\n",
       "      <th>50 Day Avg</th>\n",
       "      <th>200 Day Avg</th>\n",
       "      <th>Short Ratio</th>\n",
       "      <th>Short % of Float</th>\n",
       "      <th>Weight</th>\n",
       "      <th>Expected Return</th>\n",
       "      <th>Standard Deviation</th>\n",
       "      <th>Sharpe Ratio</th>\n",
       "    </tr>\n",
       "  </thead>\n",
       "  <tbody>\n",
       "    <tr>\n",
       "      <th>0</th>\n",
       "      <td>MMC</td>\n",
       "      <td>2025-06-02</td>\n",
       "      <td>Marsh &amp; McLennan Companies, Inc.</td>\n",
       "      <td>Financial Services</td>\n",
       "      <td>Insurance Brokers</td>\n",
       "      <td>United States</td>\n",
       "      <td>https://www.marshmclennan.com</td>\n",
       "      <td>115130826752</td>\n",
       "      <td>136148770816</td>\n",
       "      <td>491821141</td>\n",
       "      <td>...</td>\n",
       "      <td>248.00</td>\n",
       "      <td>205.17</td>\n",
       "      <td>229.54</td>\n",
       "      <td>225.30</td>\n",
       "      <td>2.62</td>\n",
       "      <td>0.01</td>\n",
       "      <td>0.337054</td>\n",
       "      <td>0.146168</td>\n",
       "      <td>0.203685</td>\n",
       "      <td>0.717616</td>\n",
       "    </tr>\n",
       "    <tr>\n",
       "      <th>1</th>\n",
       "      <td>TMUS</td>\n",
       "      <td>2025-06-02</td>\n",
       "      <td>T-Mobile US, Inc.</td>\n",
       "      <td>Communication Services</td>\n",
       "      <td>Telecom Services</td>\n",
       "      <td>United States</td>\n",
       "      <td>https://www.t-mobile.com</td>\n",
       "      <td>275005997056</td>\n",
       "      <td>384693796864</td>\n",
       "      <td>452736028</td>\n",
       "      <td>...</td>\n",
       "      <td>276.49</td>\n",
       "      <td>171.18</td>\n",
       "      <td>251.20</td>\n",
       "      <td>232.97</td>\n",
       "      <td>3.11</td>\n",
       "      <td>0.03</td>\n",
       "      <td>0.337054</td>\n",
       "      <td>0.160654</td>\n",
       "      <td>0.265561</td>\n",
       "      <td>0.604961</td>\n",
       "    </tr>\n",
       "    <tr>\n",
       "      <th>2</th>\n",
       "      <td>APO</td>\n",
       "      <td>2025-06-02</td>\n",
       "      <td>Apollo Global Management, Inc.</td>\n",
       "      <td>Financial Services</td>\n",
       "      <td>Asset Management</td>\n",
       "      <td>United States</td>\n",
       "      <td>https://www.apollo.com/institutional/homepage</td>\n",
       "      <td>74688552960</td>\n",
       "      <td>94705582080</td>\n",
       "      <td>446479870</td>\n",
       "      <td>...</td>\n",
       "      <td>189.49</td>\n",
       "      <td>95.11</td>\n",
       "      <td>133.28</td>\n",
       "      <td>143.86</td>\n",
       "      <td>7.75</td>\n",
       "      <td>0.05</td>\n",
       "      <td>0.161474</td>\n",
       "      <td>0.166024</td>\n",
       "      <td>0.375845</td>\n",
       "      <td>0.441734</td>\n",
       "    </tr>\n",
       "    <tr>\n",
       "      <th>3</th>\n",
       "      <td>SO</td>\n",
       "      <td>2025-06-02</td>\n",
       "      <td>The Southern Company</td>\n",
       "      <td>Utilities</td>\n",
       "      <td>Utilities - Regulated Electric</td>\n",
       "      <td>United States</td>\n",
       "      <td>https://www.southerncompany.com</td>\n",
       "      <td>99017097216</td>\n",
       "      <td>170091954176</td>\n",
       "      <td>1095713937</td>\n",
       "      <td>...</td>\n",
       "      <td>94.45</td>\n",
       "      <td>76.96</td>\n",
       "      <td>89.88</td>\n",
       "      <td>87.92</td>\n",
       "      <td>5.08</td>\n",
       "      <td>0.02</td>\n",
       "      <td>0.090374</td>\n",
       "      <td>0.097615</td>\n",
       "      <td>0.219272</td>\n",
       "      <td>0.445177</td>\n",
       "    </tr>\n",
       "    <tr>\n",
       "      <th>4</th>\n",
       "      <td>AMAT</td>\n",
       "      <td>2025-06-02</td>\n",
       "      <td>Applied Materials, Inc.</td>\n",
       "      <td>Technology</td>\n",
       "      <td>Semiconductor Equipment &amp; Materials</td>\n",
       "      <td>United States</td>\n",
       "      <td>https://www.appliedmaterials.com</td>\n",
       "      <td>125791559680</td>\n",
       "      <td>125714595840</td>\n",
       "      <td>799392549</td>\n",
       "      <td>...</td>\n",
       "      <td>255.89</td>\n",
       "      <td>123.74</td>\n",
       "      <td>151.52</td>\n",
       "      <td>173.39</td>\n",
       "      <td>2.58</td>\n",
       "      <td>0.02</td>\n",
       "      <td>0.074043</td>\n",
       "      <td>0.142597</td>\n",
       "      <td>0.413261</td>\n",
       "      <td>0.345053</td>\n",
       "    </tr>\n",
       "  </tbody>\n",
       "</table>\n",
       "<p>5 rows × 58 columns</p>\n",
       "</div>"
      ],
      "text/plain": [
       "  Ticker        Date                              Name  \\\n",
       "0    MMC  2025-06-02  Marsh & McLennan Companies, Inc.   \n",
       "1   TMUS  2025-06-02                 T-Mobile US, Inc.   \n",
       "2    APO  2025-06-02    Apollo Global Management, Inc.   \n",
       "3     SO  2025-06-02              The Southern Company   \n",
       "4   AMAT  2025-06-02           Applied Materials, Inc.   \n",
       "\n",
       "                   Sector                             Industry        Country  \\\n",
       "0      Financial Services                    Insurance Brokers  United States   \n",
       "1  Communication Services                     Telecom Services  United States   \n",
       "2      Financial Services                     Asset Management  United States   \n",
       "3               Utilities       Utilities - Regulated Electric  United States   \n",
       "4              Technology  Semiconductor Equipment & Materials  United States   \n",
       "\n",
       "                                         Website    Market Cap  \\\n",
       "0                  https://www.marshmclennan.com  115130826752   \n",
       "1                       https://www.t-mobile.com  275005997056   \n",
       "2  https://www.apollo.com/institutional/homepage   74688552960   \n",
       "3                https://www.southerncompany.com   99017097216   \n",
       "4               https://www.appliedmaterials.com  125791559680   \n",
       "\n",
       "   Enterprise Value  Float Shares  ...  52W High  52W Low  50 Day Avg  \\\n",
       "0      136148770816     491821141  ...    248.00   205.17      229.54   \n",
       "1      384693796864     452736028  ...    276.49   171.18      251.20   \n",
       "2       94705582080     446479870  ...    189.49    95.11      133.28   \n",
       "3      170091954176    1095713937  ...     94.45    76.96       89.88   \n",
       "4      125714595840     799392549  ...    255.89   123.74      151.52   \n",
       "\n",
       "   200 Day Avg  Short Ratio  Short % of Float    Weight  Expected Return  \\\n",
       "0       225.30         2.62              0.01  0.337054         0.146168   \n",
       "1       232.97         3.11              0.03  0.337054         0.160654   \n",
       "2       143.86         7.75              0.05  0.161474         0.166024   \n",
       "3        87.92         5.08              0.02  0.090374         0.097615   \n",
       "4       173.39         2.58              0.02  0.074043         0.142597   \n",
       "\n",
       "   Standard Deviation  Sharpe Ratio  \n",
       "0            0.203685      0.717616  \n",
       "1            0.265561      0.604961  \n",
       "2            0.375845      0.441734  \n",
       "3            0.219272      0.445177  \n",
       "4            0.413261      0.345053  \n",
       "\n",
       "[5 rows x 58 columns]"
      ]
     },
     "metadata": {},
     "output_type": "display_data"
    }
   ],
   "source": [
    "portfolio_df = pd.read_excel(output_file, sheet_name=\"long_term\")   \n",
    "portfolio_tickers = portfolio_df[\"Ticker\"].tolist()\n",
    "# portfolio_df[\"Weight\"] = portfolio_df['Weight'].str.rstrip('%').astype(float) / 100\n",
    "portfolio_df[\"P/E (trailing)\"] = pd.to_numeric(portfolio_df[\"P/E (trailing)\"], errors=\"coerce\")\n",
    "\n",
    "print(portfolio_tickers)\n",
    "display(portfolio_df)"
   ]
  },
  {
   "cell_type": "markdown",
   "id": "bdc9579a",
   "metadata": {},
   "source": [
    "### Step 5: Benchmark Sector Screening"
   ]
  },
  {
   "cell_type": "markdown",
   "id": "8afc63ee",
   "metadata": {},
   "source": [
    "#### Filter Sectors by Portfolio"
   ]
  },
  {
   "cell_type": "code",
   "execution_count": 7,
   "id": "fcc09a94",
   "metadata": {
    "execution": {
     "iopub.execute_input": "2025-06-02T13:28:30.946684Z",
     "iopub.status.busy": "2025-06-02T13:28:30.946200Z",
     "iopub.status.idle": "2025-06-02T13:28:30.961848Z",
     "shell.execute_reply": "2025-06-02T13:28:30.961075Z"
    }
   },
   "outputs": [
    {
     "name": "stdout",
     "output_type": "stream",
     "text": [
      "Number of benchmarks left: 281\n"
     ]
    },
    {
     "data": {
      "application/vnd.microsoft.datawrangler.viewer.v0+json": {
       "columns": [
        {
         "name": "index",
         "rawType": "int64",
         "type": "integer"
        },
        {
         "name": "Symbol",
         "rawType": "object",
         "type": "string"
        },
        {
         "name": "Name",
         "rawType": "object",
         "type": "string"
        },
        {
         "name": "Sectors",
         "rawType": "object",
         "type": "unknown"
        }
       ],
       "ref": "3b6965c6-19bc-41fa-958b-421290825f5e",
       "rows": [
        [
         "0",
         "AADR",
         "AdvisorShares Dorsey Wright ADR ETF",
         "{'realestate': 0.0, 'consumer_cyclical': 0.1182, 'basic_materials': 0.0425, 'consumer_defensive': 0.0, 'technology': 0.16479999, 'communication_services': 0.089499995, 'financial_services': 0.33900002, 'utilities': 0.033299997, 'industrials': 0.1005, 'energy': 0.0334, 'healthcare': 0.0788}"
        ],
        [
         "1",
         "ACWI",
         "iShares MSCI ACWI ETF",
         "{'realestate': 0.0216, 'consumer_cyclical': 0.1039, 'basic_materials': 0.0346, 'consumer_defensive': 0.0641, 'technology': 0.2491, 'communication_services': 0.084, 'financial_services': 0.1752, 'utilities': 0.0269, 'industrials': 0.1021, 'energy': 0.0375, 'healthcare': 0.1012}"
        ],
        [
         "2",
         "ADME",
         "Aptus Drawdown Managed Equity ETF",
         "{'realestate': 0.0222, 'consumer_cyclical': 0.1022, 'basic_materials': 0.0222, 'consumer_defensive': 0.0608, 'technology': 0.3147, 'communication_services': 0.091800004, 'financial_services': 0.1384, 'utilities': 0.0254, 'industrials': 0.0746, 'energy': 0.0357, 'healthcare': 0.111899994}"
        ],
        [
         "3",
         "AOA",
         "iShares Core 80/20 Aggressive Allocation ETF",
         "{'realestate': 0.0279, 'consumer_cyclical': 0.106000006, 'basic_materials': 0.039300002, 'consumer_defensive': 0.0616, 'technology': 0.2305, 'communication_services': 0.0776, 'financial_services': 0.1762, 'utilities': 0.0278, 'industrials': 0.1101, 'energy': 0.0417, 'healthcare': 0.1012}"
        ],
        [
         "4",
         "AOK",
         "iShares Core 30/70 Conservative Allocation ETF",
         "{'realestate': 0.027999999, 'consumer_cyclical': 0.1066, 'basic_materials': 0.038399998, 'consumer_defensive': 0.0633, 'technology': 0.2353, 'communication_services': 0.078600004, 'financial_services': 0.1749, 'utilities': 0.0277, 'industrials': 0.1105, 'energy': 0.038, 'healthcare': 0.0988}"
        ]
       ],
       "shape": {
        "columns": 3,
        "rows": 5
       }
      },
      "text/html": [
       "<div>\n",
       "<style scoped>\n",
       "    .dataframe tbody tr th:only-of-type {\n",
       "        vertical-align: middle;\n",
       "    }\n",
       "\n",
       "    .dataframe tbody tr th {\n",
       "        vertical-align: top;\n",
       "    }\n",
       "\n",
       "    .dataframe thead th {\n",
       "        text-align: right;\n",
       "    }\n",
       "</style>\n",
       "<table border=\"1\" class=\"dataframe\">\n",
       "  <thead>\n",
       "    <tr style=\"text-align: right;\">\n",
       "      <th></th>\n",
       "      <th>Symbol</th>\n",
       "      <th>Name</th>\n",
       "      <th>Sectors</th>\n",
       "    </tr>\n",
       "  </thead>\n",
       "  <tbody>\n",
       "    <tr>\n",
       "      <th>0</th>\n",
       "      <td>AADR</td>\n",
       "      <td>AdvisorShares Dorsey Wright ADR ETF</td>\n",
       "      <td>{'realestate': 0.0, 'consumer_cyclical': 0.118...</td>\n",
       "    </tr>\n",
       "    <tr>\n",
       "      <th>1</th>\n",
       "      <td>ACWI</td>\n",
       "      <td>iShares MSCI ACWI ETF</td>\n",
       "      <td>{'realestate': 0.0216, 'consumer_cyclical': 0....</td>\n",
       "    </tr>\n",
       "    <tr>\n",
       "      <th>2</th>\n",
       "      <td>ADME</td>\n",
       "      <td>Aptus Drawdown Managed Equity ETF</td>\n",
       "      <td>{'realestate': 0.0222, 'consumer_cyclical': 0....</td>\n",
       "    </tr>\n",
       "    <tr>\n",
       "      <th>3</th>\n",
       "      <td>AOA</td>\n",
       "      <td>iShares Core 80/20 Aggressive Allocation ETF</td>\n",
       "      <td>{'realestate': 0.0279, 'consumer_cyclical': 0....</td>\n",
       "    </tr>\n",
       "    <tr>\n",
       "      <th>4</th>\n",
       "      <td>AOK</td>\n",
       "      <td>iShares Core 30/70 Conservative Allocation ETF</td>\n",
       "      <td>{'realestate': 0.027999999, 'consumer_cyclical...</td>\n",
       "    </tr>\n",
       "  </tbody>\n",
       "</table>\n",
       "</div>"
      ],
      "text/plain": [
       "  Symbol                                            Name  \\\n",
       "0   AADR             AdvisorShares Dorsey Wright ADR ETF   \n",
       "1   ACWI                           iShares MSCI ACWI ETF   \n",
       "2   ADME               Aptus Drawdown Managed Equity ETF   \n",
       "3    AOA    iShares Core 80/20 Aggressive Allocation ETF   \n",
       "4    AOK  iShares Core 30/70 Conservative Allocation ETF   \n",
       "\n",
       "                                             Sectors  \n",
       "0  {'realestate': 0.0, 'consumer_cyclical': 0.118...  \n",
       "1  {'realestate': 0.0216, 'consumer_cyclical': 0....  \n",
       "2  {'realestate': 0.0222, 'consumer_cyclical': 0....  \n",
       "3  {'realestate': 0.0279, 'consumer_cyclical': 0....  \n",
       "4  {'realestate': 0.027999999, 'consumer_cyclical...  "
      ]
     },
     "metadata": {},
     "output_type": "display_data"
    }
   ],
   "source": [
    "# Sort portfolio sectors by weight (descending)\n",
    "portfolio_sector_weights = (\n",
    "    portfolio_df.groupby('Sector')['Weight'].sum()\n",
    "    .sort_values(ascending=False)\n",
    ")\n",
    "ordered_portfolio_sectors = [sector.strip() for sector in portfolio_sector_weights.index]\n",
    "normalized_ordered_portfolio_sectors = [sector.strip().lower().replace(\" \", \"_\") for sector in ordered_portfolio_sectors]\n",
    "\n",
    "# Filter directly with lambda expression instead of using a separate function\n",
    "filtered_sectors_df = sectors_df[\n",
    "    sectors_df['Sectors'].apply(\n",
    "        lambda sector_dict: isinstance(sector_dict, dict) and all(\n",
    "            sector in sector_dict and sector_dict[sector] > 0 \n",
    "            for sector in normalized_ordered_portfolio_sectors\n",
    "        )\n",
    "    )\n",
    "].reset_index(drop=True)\n",
    "\n",
    "# Display Outputs\n",
    "tickers = filtered_sectors_df[\"Symbol\"].tolist()\n",
    "print(\"Number of benchmarks left:\", len(tickers))\n",
    "display(filtered_sectors_df.head())"
   ]
  },
  {
   "cell_type": "markdown",
   "id": "c178af0c",
   "metadata": {},
   "source": [
    "#### Import ETF Fundamental Data"
   ]
  },
  {
   "cell_type": "code",
   "execution_count": 8,
   "id": "b483eba0",
   "metadata": {
    "execution": {
     "iopub.execute_input": "2025-06-02T13:28:30.966081Z",
     "iopub.status.busy": "2025-06-02T13:28:30.964923Z",
     "iopub.status.idle": "2025-06-02T13:28:31.003315Z",
     "shell.execute_reply": "2025-06-02T13:28:31.001732Z"
    }
   },
   "outputs": [
    {
     "data": {
      "application/vnd.microsoft.datawrangler.viewer.v0+json": {
       "columns": [
        {
         "name": "index",
         "rawType": "int64",
         "type": "integer"
        },
        {
         "name": "Symbol",
         "rawType": "object",
         "type": "string"
        },
        {
         "name": "Name_x",
         "rawType": "object",
         "type": "string"
        },
        {
         "name": "Sectors",
         "rawType": "object",
         "type": "unknown"
        },
        {
         "name": "Date",
         "rawType": "object",
         "type": "string"
        },
        {
         "name": "Name_y",
         "rawType": "object",
         "type": "string"
        },
        {
         "name": "Sector",
         "rawType": "object",
         "type": "string"
        },
        {
         "name": "Industry",
         "rawType": "object",
         "type": "string"
        },
        {
         "name": "Country",
         "rawType": "object",
         "type": "string"
        },
        {
         "name": "Website",
         "rawType": "object",
         "type": "string"
        },
        {
         "name": "Market Cap",
         "rawType": "float64",
         "type": "float"
        },
        {
         "name": "Shares Outstanding",
         "rawType": "float64",
         "type": "float"
        },
        {
         "name": "P/E (trailing)",
         "rawType": "float64",
         "type": "float"
        },
        {
         "name": "P/E (forward)",
         "rawType": "float64",
         "type": "float"
        },
        {
         "name": "P/B",
         "rawType": "float64",
         "type": "float"
        },
        {
         "name": "Book Value",
         "rawType": "float64",
         "type": "float"
        },
        {
         "name": "Dividend Yield (%)",
         "rawType": "float64",
         "type": "float"
        },
        {
         "name": "Dividend Rate (%)",
         "rawType": "float64",
         "type": "float"
        },
        {
         "name": "5Y Avg Dividend Yield (%)",
         "rawType": "float64",
         "type": "float"
        },
        {
         "name": "Payout Ratio (%)",
         "rawType": "float64",
         "type": "float"
        },
        {
         "name": "Price",
         "rawType": "float64",
         "type": "float"
        },
        {
         "name": "Analyst Rating",
         "rawType": "object",
         "type": "string"
        },
        {
         "name": "52W High",
         "rawType": "float64",
         "type": "float"
        },
        {
         "name": "52W Low",
         "rawType": "float64",
         "type": "float"
        },
        {
         "name": "50 Day Avg",
         "rawType": "float64",
         "type": "float"
        },
        {
         "name": "200 Day Avg",
         "rawType": "float64",
         "type": "float"
        },
        {
         "name": "Sector Weightings",
         "rawType": "object",
         "type": "string"
        }
       ],
       "ref": "764eb949-a2b8-485d-87ef-f60924df94d0",
       "rows": [
        [
         "0",
         "AADR",
         "AdvisorShares Dorsey Wright ADR ETF",
         "{'realestate': 0.0, 'consumer_cyclical': 0.1182, 'basic_materials': 0.0425, 'consumer_defensive': 0.0, 'technology': 0.16479999, 'communication_services': 0.089499995, 'financial_services': 0.33900002, 'utilities': 0.033299997, 'industrials': 0.1005, 'energy': 0.0334, 'healthcare': 0.0788}",
         "2025-06-02",
         "AdvisorShares Dorsey Wright ADR ETF",
         "Unknown",
         "Unknown",
         "Unknown",
         "Unknown",
         "0.0",
         null,
         "14.95",
         null,
         null,
         null,
         "0.0123",
         "0.0",
         "0.0",
         "0.0",
         "77.58",
         "Unknown",
         "81.17",
         "54.57",
         "74.66",
         "70.09",
         "{\"realestate\": 0.0, \"consumer_cyclical\": 0.1182, \"basic_materials\": 0.0425, \"consumer_defensive\": 0.0, \"technology\": 0.16479999, \"communication_services\": 0.089499995, \"financial_services\": 0.33900002, \"utilities\": 0.033299997, \"industrials\": 0.1005, \"energy\": 0.0334, \"healthcare\": 0.0788}"
        ],
        [
         "1",
         "ACWI",
         "iShares MSCI ACWI ETF",
         "{'realestate': 0.0216, 'consumer_cyclical': 0.1039, 'basic_materials': 0.0346, 'consumer_defensive': 0.0641, 'technology': 0.2491, 'communication_services': 0.084, 'financial_services': 0.1752, 'utilities': 0.0269, 'industrials': 0.1021, 'energy': 0.0375, 'healthcare': 0.1012}",
         "2025-06-02",
         "iShares MSCI ACWI ETF",
         "Unknown",
         "Unknown",
         "Unknown",
         "Unknown",
         "0.0",
         null,
         "21.39",
         null,
         null,
         null,
         "0.0171",
         "0.0",
         "0.0",
         "0.0",
         "123.65",
         "Unknown",
         "124.54",
         "101.25",
         "117.25",
         "118.68",
         "{\"realestate\": 0.0216, \"consumer_cyclical\": 0.1039, \"basic_materials\": 0.0346, \"consumer_defensive\": 0.0641, \"technology\": 0.2491, \"communication_services\": 0.084, \"financial_services\": 0.1752, \"utilities\": 0.0269, \"industrials\": 0.1021, \"energy\": 0.0375, \"healthcare\": 0.1012}"
        ],
        [
         "2",
         "ADME",
         "Aptus Drawdown Managed Equity ETF",
         "{'realestate': 0.0222, 'consumer_cyclical': 0.1022, 'basic_materials': 0.0222, 'consumer_defensive': 0.0608, 'technology': 0.3147, 'communication_services': 0.091800004, 'financial_services': 0.1384, 'utilities': 0.0254, 'industrials': 0.0746, 'energy': 0.0357, 'healthcare': 0.111899994}",
         "2025-05-02",
         "Aptus Drawdown Managed Equity ETF",
         "Unknown",
         "Unknown",
         "Unknown",
         "Unknown",
         "0.0",
         null,
         "25.43",
         null,
         null,
         null,
         "0.0047",
         "0.0",
         "0.0",
         "0.0",
         "44.46",
         "Unknown",
         "48.56",
         "39.85",
         "44.34",
         "45.9",
         "{\"realestate\": 0.0222, \"consumer_cyclical\": 0.1022, \"basic_materials\": 0.0222, \"consumer_defensive\": 0.0608, \"technology\": 0.3147, \"communication_services\": 0.091800004, \"financial_services\": 0.1384, \"utilities\": 0.0254, \"industrials\": 0.0746, \"energy\": 0.0357, \"healthcare\": 0.111899994}"
        ],
        [
         "3",
         "AOA",
         "iShares Core 80/20 Aggressive Allocation ETF",
         "{'realestate': 0.0279, 'consumer_cyclical': 0.106000006, 'basic_materials': 0.039300002, 'consumer_defensive': 0.0616, 'technology': 0.2305, 'communication_services': 0.0776, 'financial_services': 0.1762, 'utilities': 0.0278, 'industrials': 0.1101, 'energy': 0.0417, 'healthcare': 0.1012}",
         "2025-05-02",
         "iShares Core 80/20 Aggressive Allocation ETF",
         "Unknown",
         "Unknown",
         "Unknown",
         "Unknown",
         "0.0",
         null,
         "20.15",
         null,
         null,
         null,
         "0.023",
         "0.0",
         "0.0",
         "0.0",
         "77.74",
         "Unknown",
         "80.2",
         "68.45",
         "76.13",
         "77.15",
         "{\"realestate\": 0.0279, \"consumer_cyclical\": 0.106000006, \"basic_materials\": 0.039300002, \"consumer_defensive\": 0.0616, \"technology\": 0.2305, \"communication_services\": 0.0776, \"financial_services\": 0.1762, \"utilities\": 0.0278, \"industrials\": 0.1101, \"energy\": 0.0417, \"healthcare\": 0.1012}"
        ],
        [
         "4",
         "AOK",
         "iShares Core 30/70 Conservative Allocation ETF",
         "{'realestate': 0.027999999, 'consumer_cyclical': 0.1066, 'basic_materials': 0.038399998, 'consumer_defensive': 0.0633, 'technology': 0.2353, 'communication_services': 0.078600004, 'financial_services': 0.1749, 'utilities': 0.0277, 'industrials': 0.1105, 'energy': 0.038, 'healthcare': 0.0988}",
         "2025-06-02",
         "iShares Core 30/70 Conservative Allocation ETF",
         "Unknown",
         "Unknown",
         "Unknown",
         "Unknown",
         "0.0",
         null,
         "19.91",
         null,
         null,
         null,
         "0.033",
         "0.0",
         "0.0",
         "0.0",
         "38.21",
         "Unknown",
         "38.77",
         "35.79",
         "37.53",
         "37.84",
         "{\"realestate\": 0.027999999, \"consumer_cyclical\": 0.1066, \"basic_materials\": 0.038399998, \"consumer_defensive\": 0.0633, \"technology\": 0.2353, \"communication_services\": 0.078600004, \"financial_services\": 0.1749, \"utilities\": 0.0277, \"industrials\": 0.1105, \"energy\": 0.038, \"healthcare\": 0.0988}"
        ]
       ],
       "shape": {
        "columns": 26,
        "rows": 5
       }
      },
      "text/html": [
       "<div>\n",
       "<style scoped>\n",
       "    .dataframe tbody tr th:only-of-type {\n",
       "        vertical-align: middle;\n",
       "    }\n",
       "\n",
       "    .dataframe tbody tr th {\n",
       "        vertical-align: top;\n",
       "    }\n",
       "\n",
       "    .dataframe thead th {\n",
       "        text-align: right;\n",
       "    }\n",
       "</style>\n",
       "<table border=\"1\" class=\"dataframe\">\n",
       "  <thead>\n",
       "    <tr style=\"text-align: right;\">\n",
       "      <th></th>\n",
       "      <th>Symbol</th>\n",
       "      <th>Name_x</th>\n",
       "      <th>Sectors</th>\n",
       "      <th>Date</th>\n",
       "      <th>Name_y</th>\n",
       "      <th>Sector</th>\n",
       "      <th>Industry</th>\n",
       "      <th>Country</th>\n",
       "      <th>Website</th>\n",
       "      <th>Market Cap</th>\n",
       "      <th>...</th>\n",
       "      <th>Dividend Rate (%)</th>\n",
       "      <th>5Y Avg Dividend Yield (%)</th>\n",
       "      <th>Payout Ratio (%)</th>\n",
       "      <th>Price</th>\n",
       "      <th>Analyst Rating</th>\n",
       "      <th>52W High</th>\n",
       "      <th>52W Low</th>\n",
       "      <th>50 Day Avg</th>\n",
       "      <th>200 Day Avg</th>\n",
       "      <th>Sector Weightings</th>\n",
       "    </tr>\n",
       "  </thead>\n",
       "  <tbody>\n",
       "    <tr>\n",
       "      <th>0</th>\n",
       "      <td>AADR</td>\n",
       "      <td>AdvisorShares Dorsey Wright ADR ETF</td>\n",
       "      <td>{'realestate': 0.0, 'consumer_cyclical': 0.118...</td>\n",
       "      <td>2025-06-02</td>\n",
       "      <td>AdvisorShares Dorsey Wright ADR ETF</td>\n",
       "      <td>Unknown</td>\n",
       "      <td>Unknown</td>\n",
       "      <td>Unknown</td>\n",
       "      <td>Unknown</td>\n",
       "      <td>0.0</td>\n",
       "      <td>...</td>\n",
       "      <td>0.0</td>\n",
       "      <td>0.0</td>\n",
       "      <td>0.0</td>\n",
       "      <td>77.58</td>\n",
       "      <td>Unknown</td>\n",
       "      <td>81.17</td>\n",
       "      <td>54.57</td>\n",
       "      <td>74.66</td>\n",
       "      <td>70.09</td>\n",
       "      <td>{\"realestate\": 0.0, \"consumer_cyclical\": 0.118...</td>\n",
       "    </tr>\n",
       "    <tr>\n",
       "      <th>1</th>\n",
       "      <td>ACWI</td>\n",
       "      <td>iShares MSCI ACWI ETF</td>\n",
       "      <td>{'realestate': 0.0216, 'consumer_cyclical': 0....</td>\n",
       "      <td>2025-06-02</td>\n",
       "      <td>iShares MSCI ACWI ETF</td>\n",
       "      <td>Unknown</td>\n",
       "      <td>Unknown</td>\n",
       "      <td>Unknown</td>\n",
       "      <td>Unknown</td>\n",
       "      <td>0.0</td>\n",
       "      <td>...</td>\n",
       "      <td>0.0</td>\n",
       "      <td>0.0</td>\n",
       "      <td>0.0</td>\n",
       "      <td>123.65</td>\n",
       "      <td>Unknown</td>\n",
       "      <td>124.54</td>\n",
       "      <td>101.25</td>\n",
       "      <td>117.25</td>\n",
       "      <td>118.68</td>\n",
       "      <td>{\"realestate\": 0.0216, \"consumer_cyclical\": 0....</td>\n",
       "    </tr>\n",
       "    <tr>\n",
       "      <th>2</th>\n",
       "      <td>ADME</td>\n",
       "      <td>Aptus Drawdown Managed Equity ETF</td>\n",
       "      <td>{'realestate': 0.0222, 'consumer_cyclical': 0....</td>\n",
       "      <td>2025-05-02</td>\n",
       "      <td>Aptus Drawdown Managed Equity ETF</td>\n",
       "      <td>Unknown</td>\n",
       "      <td>Unknown</td>\n",
       "      <td>Unknown</td>\n",
       "      <td>Unknown</td>\n",
       "      <td>0.0</td>\n",
       "      <td>...</td>\n",
       "      <td>0.0</td>\n",
       "      <td>0.0</td>\n",
       "      <td>0.0</td>\n",
       "      <td>44.46</td>\n",
       "      <td>Unknown</td>\n",
       "      <td>48.56</td>\n",
       "      <td>39.85</td>\n",
       "      <td>44.34</td>\n",
       "      <td>45.90</td>\n",
       "      <td>{\"realestate\": 0.0222, \"consumer_cyclical\": 0....</td>\n",
       "    </tr>\n",
       "    <tr>\n",
       "      <th>3</th>\n",
       "      <td>AOA</td>\n",
       "      <td>iShares Core 80/20 Aggressive Allocation ETF</td>\n",
       "      <td>{'realestate': 0.0279, 'consumer_cyclical': 0....</td>\n",
       "      <td>2025-05-02</td>\n",
       "      <td>iShares Core 80/20 Aggressive Allocation ETF</td>\n",
       "      <td>Unknown</td>\n",
       "      <td>Unknown</td>\n",
       "      <td>Unknown</td>\n",
       "      <td>Unknown</td>\n",
       "      <td>0.0</td>\n",
       "      <td>...</td>\n",
       "      <td>0.0</td>\n",
       "      <td>0.0</td>\n",
       "      <td>0.0</td>\n",
       "      <td>77.74</td>\n",
       "      <td>Unknown</td>\n",
       "      <td>80.20</td>\n",
       "      <td>68.45</td>\n",
       "      <td>76.13</td>\n",
       "      <td>77.15</td>\n",
       "      <td>{\"realestate\": 0.0279, \"consumer_cyclical\": 0....</td>\n",
       "    </tr>\n",
       "    <tr>\n",
       "      <th>4</th>\n",
       "      <td>AOK</td>\n",
       "      <td>iShares Core 30/70 Conservative Allocation ETF</td>\n",
       "      <td>{'realestate': 0.027999999, 'consumer_cyclical...</td>\n",
       "      <td>2025-06-02</td>\n",
       "      <td>iShares Core 30/70 Conservative Allocation ETF</td>\n",
       "      <td>Unknown</td>\n",
       "      <td>Unknown</td>\n",
       "      <td>Unknown</td>\n",
       "      <td>Unknown</td>\n",
       "      <td>0.0</td>\n",
       "      <td>...</td>\n",
       "      <td>0.0</td>\n",
       "      <td>0.0</td>\n",
       "      <td>0.0</td>\n",
       "      <td>38.21</td>\n",
       "      <td>Unknown</td>\n",
       "      <td>38.77</td>\n",
       "      <td>35.79</td>\n",
       "      <td>37.53</td>\n",
       "      <td>37.84</td>\n",
       "      <td>{\"realestate\": 0.027999999, \"consumer_cyclical...</td>\n",
       "    </tr>\n",
       "  </tbody>\n",
       "</table>\n",
       "<p>5 rows × 26 columns</p>\n",
       "</div>"
      ],
      "text/plain": [
       "  Symbol                                          Name_x  \\\n",
       "0   AADR             AdvisorShares Dorsey Wright ADR ETF   \n",
       "1   ACWI                           iShares MSCI ACWI ETF   \n",
       "2   ADME               Aptus Drawdown Managed Equity ETF   \n",
       "3    AOA    iShares Core 80/20 Aggressive Allocation ETF   \n",
       "4    AOK  iShares Core 30/70 Conservative Allocation ETF   \n",
       "\n",
       "                                             Sectors        Date  \\\n",
       "0  {'realestate': 0.0, 'consumer_cyclical': 0.118...  2025-06-02   \n",
       "1  {'realestate': 0.0216, 'consumer_cyclical': 0....  2025-06-02   \n",
       "2  {'realestate': 0.0222, 'consumer_cyclical': 0....  2025-05-02   \n",
       "3  {'realestate': 0.0279, 'consumer_cyclical': 0....  2025-05-02   \n",
       "4  {'realestate': 0.027999999, 'consumer_cyclical...  2025-06-02   \n",
       "\n",
       "                                           Name_y   Sector Industry  Country  \\\n",
       "0             AdvisorShares Dorsey Wright ADR ETF  Unknown  Unknown  Unknown   \n",
       "1                           iShares MSCI ACWI ETF  Unknown  Unknown  Unknown   \n",
       "2               Aptus Drawdown Managed Equity ETF  Unknown  Unknown  Unknown   \n",
       "3    iShares Core 80/20 Aggressive Allocation ETF  Unknown  Unknown  Unknown   \n",
       "4  iShares Core 30/70 Conservative Allocation ETF  Unknown  Unknown  Unknown   \n",
       "\n",
       "   Website  Market Cap  ...  Dividend Rate (%)  5Y Avg Dividend Yield (%)  \\\n",
       "0  Unknown         0.0  ...                0.0                        0.0   \n",
       "1  Unknown         0.0  ...                0.0                        0.0   \n",
       "2  Unknown         0.0  ...                0.0                        0.0   \n",
       "3  Unknown         0.0  ...                0.0                        0.0   \n",
       "4  Unknown         0.0  ...                0.0                        0.0   \n",
       "\n",
       "   Payout Ratio (%)   Price  Analyst Rating  52W High  52W Low  50 Day Avg  \\\n",
       "0               0.0   77.58         Unknown     81.17    54.57       74.66   \n",
       "1               0.0  123.65         Unknown    124.54   101.25      117.25   \n",
       "2               0.0   44.46         Unknown     48.56    39.85       44.34   \n",
       "3               0.0   77.74         Unknown     80.20    68.45       76.13   \n",
       "4               0.0   38.21         Unknown     38.77    35.79       37.53   \n",
       "\n",
       "   200 Day Avg                                  Sector Weightings  \n",
       "0        70.09  {\"realestate\": 0.0, \"consumer_cyclical\": 0.118...  \n",
       "1       118.68  {\"realestate\": 0.0216, \"consumer_cyclical\": 0....  \n",
       "2        45.90  {\"realestate\": 0.0222, \"consumer_cyclical\": 0....  \n",
       "3        77.15  {\"realestate\": 0.0279, \"consumer_cyclical\": 0....  \n",
       "4        37.84  {\"realestate\": 0.027999999, \"consumer_cyclical...  \n",
       "\n",
       "[5 rows x 26 columns]"
      ]
     },
     "metadata": {},
     "output_type": "display_data"
    }
   ],
   "source": [
    "# fundamentals_df = fetch_fundamentals(tickers) # Download fundamentals data for the tickers\n",
    "fundamentals_df = pd.read_csv(\"data/fundamentals_benchmark.csv\",index_col=\"Ticker\").query(\"Ticker in @tickers\") # Import the fundamentals data from a CSV file\n",
    "\n",
    "# Set the index name\n",
    "fundamentals_df.index.name = \"Symbol\"\n",
    "\n",
    "# Move the index into a column\n",
    "fundamentals_df = fundamentals_df.reset_index()\n",
    "\n",
    "# Perform the merge\n",
    "merged_df = pd.merge(filtered_sectors_df, fundamentals_df, on='Symbol', how='inner').dropna(how='all', axis=1)\n",
    "\n",
    "# Display the merged DataFrame\n",
    "display(merged_df.head())"
   ]
  },
  {
   "cell_type": "markdown",
   "id": "f0672a0d",
   "metadata": {},
   "source": [
    "#### Filter for the P/E (Trailling) Similar to Portfolio Weighted Average P/E"
   ]
  },
  {
   "cell_type": "code",
   "execution_count": 9,
   "id": "8e97edd6",
   "metadata": {
    "execution": {
     "iopub.execute_input": "2025-06-02T13:28:31.006793Z",
     "iopub.status.busy": "2025-06-02T13:28:31.006305Z",
     "iopub.status.idle": "2025-06-02T13:28:31.031205Z",
     "shell.execute_reply": "2025-06-02T13:28:31.030070Z"
    }
   },
   "outputs": [
    {
     "name": "stdout",
     "output_type": "stream",
     "text": [
      "Portfolio Weighted Average P/E (trailing): 24.681381072312035\n",
      "Lower Bound: 19.74510485784963\n",
      "Upper Bound: 29.617657286774442\n",
      "Number of benchmarks after filtering by P/E (trailing): 111\n"
     ]
    },
    {
     "data": {
      "application/vnd.microsoft.datawrangler.viewer.v0+json": {
       "columns": [
        {
         "name": "index",
         "rawType": "int64",
         "type": "integer"
        },
        {
         "name": "Symbol",
         "rawType": "object",
         "type": "string"
        },
        {
         "name": "Name_x",
         "rawType": "object",
         "type": "string"
        },
        {
         "name": "Sectors",
         "rawType": "object",
         "type": "unknown"
        },
        {
         "name": "Date",
         "rawType": "object",
         "type": "string"
        },
        {
         "name": "Name_y",
         "rawType": "object",
         "type": "string"
        },
        {
         "name": "Sector",
         "rawType": "object",
         "type": "string"
        },
        {
         "name": "Industry",
         "rawType": "object",
         "type": "string"
        },
        {
         "name": "Country",
         "rawType": "object",
         "type": "string"
        },
        {
         "name": "Website",
         "rawType": "object",
         "type": "string"
        },
        {
         "name": "Market Cap",
         "rawType": "float64",
         "type": "float"
        },
        {
         "name": "Shares Outstanding",
         "rawType": "float64",
         "type": "float"
        },
        {
         "name": "P/E (trailing)",
         "rawType": "float64",
         "type": "float"
        },
        {
         "name": "P/E (forward)",
         "rawType": "float64",
         "type": "float"
        },
        {
         "name": "P/B",
         "rawType": "float64",
         "type": "float"
        },
        {
         "name": "Book Value",
         "rawType": "float64",
         "type": "float"
        },
        {
         "name": "Dividend Yield (%)",
         "rawType": "float64",
         "type": "float"
        },
        {
         "name": "Dividend Rate (%)",
         "rawType": "float64",
         "type": "float"
        },
        {
         "name": "5Y Avg Dividend Yield (%)",
         "rawType": "float64",
         "type": "float"
        },
        {
         "name": "Payout Ratio (%)",
         "rawType": "float64",
         "type": "float"
        },
        {
         "name": "Price",
         "rawType": "float64",
         "type": "float"
        },
        {
         "name": "Analyst Rating",
         "rawType": "object",
         "type": "string"
        },
        {
         "name": "52W High",
         "rawType": "float64",
         "type": "float"
        },
        {
         "name": "52W Low",
         "rawType": "float64",
         "type": "float"
        },
        {
         "name": "50 Day Avg",
         "rawType": "float64",
         "type": "float"
        },
        {
         "name": "200 Day Avg",
         "rawType": "float64",
         "type": "float"
        },
        {
         "name": "Sector Weightings",
         "rawType": "object",
         "type": "string"
        }
       ],
       "ref": "1c37edb7-1010-4bdf-af58-ffdd5e88fab4",
       "rows": [
        [
         "1",
         "ACWI",
         "iShares MSCI ACWI ETF",
         "{'realestate': 0.0216, 'consumer_cyclical': 0.1039, 'basic_materials': 0.0346, 'consumer_defensive': 0.0641, 'technology': 0.2491, 'communication_services': 0.084, 'financial_services': 0.1752, 'utilities': 0.0269, 'industrials': 0.1021, 'energy': 0.0375, 'healthcare': 0.1012}",
         "2025-06-02",
         "iShares MSCI ACWI ETF",
         "Unknown",
         "Unknown",
         "Unknown",
         "Unknown",
         "0.0",
         null,
         "21.39",
         null,
         null,
         null,
         "0.0171",
         "0.0",
         "0.0",
         "0.0",
         "123.65",
         "Unknown",
         "124.54",
         "101.25",
         "117.25",
         "118.68",
         "{\"realestate\": 0.0216, \"consumer_cyclical\": 0.1039, \"basic_materials\": 0.0346, \"consumer_defensive\": 0.0641, \"technology\": 0.2491, \"communication_services\": 0.084, \"financial_services\": 0.1752, \"utilities\": 0.0269, \"industrials\": 0.1021, \"energy\": 0.0375, \"healthcare\": 0.1012}"
        ],
        [
         "2",
         "ADME",
         "Aptus Drawdown Managed Equity ETF",
         "{'realestate': 0.0222, 'consumer_cyclical': 0.1022, 'basic_materials': 0.0222, 'consumer_defensive': 0.0608, 'technology': 0.3147, 'communication_services': 0.091800004, 'financial_services': 0.1384, 'utilities': 0.0254, 'industrials': 0.0746, 'energy': 0.0357, 'healthcare': 0.111899994}",
         "2025-05-02",
         "Aptus Drawdown Managed Equity ETF",
         "Unknown",
         "Unknown",
         "Unknown",
         "Unknown",
         "0.0",
         null,
         "25.43",
         null,
         null,
         null,
         "0.0047",
         "0.0",
         "0.0",
         "0.0",
         "44.46",
         "Unknown",
         "48.56",
         "39.85",
         "44.34",
         "45.9",
         "{\"realestate\": 0.0222, \"consumer_cyclical\": 0.1022, \"basic_materials\": 0.0222, \"consumer_defensive\": 0.0608, \"technology\": 0.3147, \"communication_services\": 0.091800004, \"financial_services\": 0.1384, \"utilities\": 0.0254, \"industrials\": 0.0746, \"energy\": 0.0357, \"healthcare\": 0.111899994}"
        ],
        [
         "3",
         "AOA",
         "iShares Core 80/20 Aggressive Allocation ETF",
         "{'realestate': 0.0279, 'consumer_cyclical': 0.106000006, 'basic_materials': 0.039300002, 'consumer_defensive': 0.0616, 'technology': 0.2305, 'communication_services': 0.0776, 'financial_services': 0.1762, 'utilities': 0.0278, 'industrials': 0.1101, 'energy': 0.0417, 'healthcare': 0.1012}",
         "2025-05-02",
         "iShares Core 80/20 Aggressive Allocation ETF",
         "Unknown",
         "Unknown",
         "Unknown",
         "Unknown",
         "0.0",
         null,
         "20.15",
         null,
         null,
         null,
         "0.023",
         "0.0",
         "0.0",
         "0.0",
         "77.74",
         "Unknown",
         "80.2",
         "68.45",
         "76.13",
         "77.15",
         "{\"realestate\": 0.0279, \"consumer_cyclical\": 0.106000006, \"basic_materials\": 0.039300002, \"consumer_defensive\": 0.0616, \"technology\": 0.2305, \"communication_services\": 0.0776, \"financial_services\": 0.1762, \"utilities\": 0.0278, \"industrials\": 0.1101, \"energy\": 0.0417, \"healthcare\": 0.1012}"
        ],
        [
         "4",
         "AOK",
         "iShares Core 30/70 Conservative Allocation ETF",
         "{'realestate': 0.027999999, 'consumer_cyclical': 0.1066, 'basic_materials': 0.038399998, 'consumer_defensive': 0.0633, 'technology': 0.2353, 'communication_services': 0.078600004, 'financial_services': 0.1749, 'utilities': 0.0277, 'industrials': 0.1105, 'energy': 0.038, 'healthcare': 0.0988}",
         "2025-06-02",
         "iShares Core 30/70 Conservative Allocation ETF",
         "Unknown",
         "Unknown",
         "Unknown",
         "Unknown",
         "0.0",
         null,
         "19.91",
         null,
         null,
         null,
         "0.033",
         "0.0",
         "0.0",
         "0.0",
         "38.21",
         "Unknown",
         "38.77",
         "35.79",
         "37.53",
         "37.84",
         "{\"realestate\": 0.027999999, \"consumer_cyclical\": 0.1066, \"basic_materials\": 0.038399998, \"consumer_defensive\": 0.0633, \"technology\": 0.2353, \"communication_services\": 0.078600004, \"financial_services\": 0.1749, \"utilities\": 0.0277, \"industrials\": 0.1105, \"energy\": 0.038, \"healthcare\": 0.0988}"
        ],
        [
         "5",
         "AOM",
         "iShares Core 40/60 Moderate Allocation ETF",
         "{'realestate': 0.027999999, 'consumer_cyclical': 0.1066, 'basic_materials': 0.038399998, 'consumer_defensive': 0.0633, 'technology': 0.2353, 'communication_services': 0.078600004, 'financial_services': 0.1749, 'utilities': 0.0277, 'industrials': 0.1105, 'energy': 0.038, 'healthcare': 0.0988}",
         "2025-06-02",
         "iShares Core 40/60 Moderate Allocation ETF",
         "Unknown",
         "Unknown",
         "Unknown",
         "Unknown",
         "0.0",
         null,
         "20.07",
         null,
         null,
         null,
         "0.0313",
         "0.0",
         "0.0",
         "0.0",
         "44.78",
         "Unknown",
         "45.31",
         "41.2",
         "43.73",
         "44.12",
         "{\"realestate\": 0.027999999, \"consumer_cyclical\": 0.1066, \"basic_materials\": 0.038399998, \"consumer_defensive\": 0.0633, \"technology\": 0.2353, \"communication_services\": 0.078600004, \"financial_services\": 0.1749, \"utilities\": 0.0277, \"industrials\": 0.1105, \"energy\": 0.038, \"healthcare\": 0.0988}"
        ]
       ],
       "shape": {
        "columns": 26,
        "rows": 5
       }
      },
      "text/html": [
       "<div>\n",
       "<style scoped>\n",
       "    .dataframe tbody tr th:only-of-type {\n",
       "        vertical-align: middle;\n",
       "    }\n",
       "\n",
       "    .dataframe tbody tr th {\n",
       "        vertical-align: top;\n",
       "    }\n",
       "\n",
       "    .dataframe thead th {\n",
       "        text-align: right;\n",
       "    }\n",
       "</style>\n",
       "<table border=\"1\" class=\"dataframe\">\n",
       "  <thead>\n",
       "    <tr style=\"text-align: right;\">\n",
       "      <th></th>\n",
       "      <th>Symbol</th>\n",
       "      <th>Name_x</th>\n",
       "      <th>Sectors</th>\n",
       "      <th>Date</th>\n",
       "      <th>Name_y</th>\n",
       "      <th>Sector</th>\n",
       "      <th>Industry</th>\n",
       "      <th>Country</th>\n",
       "      <th>Website</th>\n",
       "      <th>Market Cap</th>\n",
       "      <th>...</th>\n",
       "      <th>Dividend Rate (%)</th>\n",
       "      <th>5Y Avg Dividend Yield (%)</th>\n",
       "      <th>Payout Ratio (%)</th>\n",
       "      <th>Price</th>\n",
       "      <th>Analyst Rating</th>\n",
       "      <th>52W High</th>\n",
       "      <th>52W Low</th>\n",
       "      <th>50 Day Avg</th>\n",
       "      <th>200 Day Avg</th>\n",
       "      <th>Sector Weightings</th>\n",
       "    </tr>\n",
       "  </thead>\n",
       "  <tbody>\n",
       "    <tr>\n",
       "      <th>1</th>\n",
       "      <td>ACWI</td>\n",
       "      <td>iShares MSCI ACWI ETF</td>\n",
       "      <td>{'realestate': 0.0216, 'consumer_cyclical': 0....</td>\n",
       "      <td>2025-06-02</td>\n",
       "      <td>iShares MSCI ACWI ETF</td>\n",
       "      <td>Unknown</td>\n",
       "      <td>Unknown</td>\n",
       "      <td>Unknown</td>\n",
       "      <td>Unknown</td>\n",
       "      <td>0.0</td>\n",
       "      <td>...</td>\n",
       "      <td>0.0</td>\n",
       "      <td>0.0</td>\n",
       "      <td>0.0</td>\n",
       "      <td>123.65</td>\n",
       "      <td>Unknown</td>\n",
       "      <td>124.54</td>\n",
       "      <td>101.25</td>\n",
       "      <td>117.25</td>\n",
       "      <td>118.68</td>\n",
       "      <td>{\"realestate\": 0.0216, \"consumer_cyclical\": 0....</td>\n",
       "    </tr>\n",
       "    <tr>\n",
       "      <th>2</th>\n",
       "      <td>ADME</td>\n",
       "      <td>Aptus Drawdown Managed Equity ETF</td>\n",
       "      <td>{'realestate': 0.0222, 'consumer_cyclical': 0....</td>\n",
       "      <td>2025-05-02</td>\n",
       "      <td>Aptus Drawdown Managed Equity ETF</td>\n",
       "      <td>Unknown</td>\n",
       "      <td>Unknown</td>\n",
       "      <td>Unknown</td>\n",
       "      <td>Unknown</td>\n",
       "      <td>0.0</td>\n",
       "      <td>...</td>\n",
       "      <td>0.0</td>\n",
       "      <td>0.0</td>\n",
       "      <td>0.0</td>\n",
       "      <td>44.46</td>\n",
       "      <td>Unknown</td>\n",
       "      <td>48.56</td>\n",
       "      <td>39.85</td>\n",
       "      <td>44.34</td>\n",
       "      <td>45.90</td>\n",
       "      <td>{\"realestate\": 0.0222, \"consumer_cyclical\": 0....</td>\n",
       "    </tr>\n",
       "    <tr>\n",
       "      <th>3</th>\n",
       "      <td>AOA</td>\n",
       "      <td>iShares Core 80/20 Aggressive Allocation ETF</td>\n",
       "      <td>{'realestate': 0.0279, 'consumer_cyclical': 0....</td>\n",
       "      <td>2025-05-02</td>\n",
       "      <td>iShares Core 80/20 Aggressive Allocation ETF</td>\n",
       "      <td>Unknown</td>\n",
       "      <td>Unknown</td>\n",
       "      <td>Unknown</td>\n",
       "      <td>Unknown</td>\n",
       "      <td>0.0</td>\n",
       "      <td>...</td>\n",
       "      <td>0.0</td>\n",
       "      <td>0.0</td>\n",
       "      <td>0.0</td>\n",
       "      <td>77.74</td>\n",
       "      <td>Unknown</td>\n",
       "      <td>80.20</td>\n",
       "      <td>68.45</td>\n",
       "      <td>76.13</td>\n",
       "      <td>77.15</td>\n",
       "      <td>{\"realestate\": 0.0279, \"consumer_cyclical\": 0....</td>\n",
       "    </tr>\n",
       "    <tr>\n",
       "      <th>4</th>\n",
       "      <td>AOK</td>\n",
       "      <td>iShares Core 30/70 Conservative Allocation ETF</td>\n",
       "      <td>{'realestate': 0.027999999, 'consumer_cyclical...</td>\n",
       "      <td>2025-06-02</td>\n",
       "      <td>iShares Core 30/70 Conservative Allocation ETF</td>\n",
       "      <td>Unknown</td>\n",
       "      <td>Unknown</td>\n",
       "      <td>Unknown</td>\n",
       "      <td>Unknown</td>\n",
       "      <td>0.0</td>\n",
       "      <td>...</td>\n",
       "      <td>0.0</td>\n",
       "      <td>0.0</td>\n",
       "      <td>0.0</td>\n",
       "      <td>38.21</td>\n",
       "      <td>Unknown</td>\n",
       "      <td>38.77</td>\n",
       "      <td>35.79</td>\n",
       "      <td>37.53</td>\n",
       "      <td>37.84</td>\n",
       "      <td>{\"realestate\": 0.027999999, \"consumer_cyclical...</td>\n",
       "    </tr>\n",
       "    <tr>\n",
       "      <th>5</th>\n",
       "      <td>AOM</td>\n",
       "      <td>iShares Core 40/60 Moderate Allocation ETF</td>\n",
       "      <td>{'realestate': 0.027999999, 'consumer_cyclical...</td>\n",
       "      <td>2025-06-02</td>\n",
       "      <td>iShares Core 40/60 Moderate Allocation ETF</td>\n",
       "      <td>Unknown</td>\n",
       "      <td>Unknown</td>\n",
       "      <td>Unknown</td>\n",
       "      <td>Unknown</td>\n",
       "      <td>0.0</td>\n",
       "      <td>...</td>\n",
       "      <td>0.0</td>\n",
       "      <td>0.0</td>\n",
       "      <td>0.0</td>\n",
       "      <td>44.78</td>\n",
       "      <td>Unknown</td>\n",
       "      <td>45.31</td>\n",
       "      <td>41.20</td>\n",
       "      <td>43.73</td>\n",
       "      <td>44.12</td>\n",
       "      <td>{\"realestate\": 0.027999999, \"consumer_cyclical...</td>\n",
       "    </tr>\n",
       "  </tbody>\n",
       "</table>\n",
       "<p>5 rows × 26 columns</p>\n",
       "</div>"
      ],
      "text/plain": [
       "  Symbol                                          Name_x  \\\n",
       "1   ACWI                           iShares MSCI ACWI ETF   \n",
       "2   ADME               Aptus Drawdown Managed Equity ETF   \n",
       "3    AOA    iShares Core 80/20 Aggressive Allocation ETF   \n",
       "4    AOK  iShares Core 30/70 Conservative Allocation ETF   \n",
       "5    AOM      iShares Core 40/60 Moderate Allocation ETF   \n",
       "\n",
       "                                             Sectors        Date  \\\n",
       "1  {'realestate': 0.0216, 'consumer_cyclical': 0....  2025-06-02   \n",
       "2  {'realestate': 0.0222, 'consumer_cyclical': 0....  2025-05-02   \n",
       "3  {'realestate': 0.0279, 'consumer_cyclical': 0....  2025-05-02   \n",
       "4  {'realestate': 0.027999999, 'consumer_cyclical...  2025-06-02   \n",
       "5  {'realestate': 0.027999999, 'consumer_cyclical...  2025-06-02   \n",
       "\n",
       "                                           Name_y   Sector Industry  Country  \\\n",
       "1                           iShares MSCI ACWI ETF  Unknown  Unknown  Unknown   \n",
       "2               Aptus Drawdown Managed Equity ETF  Unknown  Unknown  Unknown   \n",
       "3    iShares Core 80/20 Aggressive Allocation ETF  Unknown  Unknown  Unknown   \n",
       "4  iShares Core 30/70 Conservative Allocation ETF  Unknown  Unknown  Unknown   \n",
       "5      iShares Core 40/60 Moderate Allocation ETF  Unknown  Unknown  Unknown   \n",
       "\n",
       "   Website  Market Cap  ...  Dividend Rate (%)  5Y Avg Dividend Yield (%)  \\\n",
       "1  Unknown         0.0  ...                0.0                        0.0   \n",
       "2  Unknown         0.0  ...                0.0                        0.0   \n",
       "3  Unknown         0.0  ...                0.0                        0.0   \n",
       "4  Unknown         0.0  ...                0.0                        0.0   \n",
       "5  Unknown         0.0  ...                0.0                        0.0   \n",
       "\n",
       "   Payout Ratio (%)   Price  Analyst Rating  52W High  52W Low  50 Day Avg  \\\n",
       "1               0.0  123.65         Unknown    124.54   101.25      117.25   \n",
       "2               0.0   44.46         Unknown     48.56    39.85       44.34   \n",
       "3               0.0   77.74         Unknown     80.20    68.45       76.13   \n",
       "4               0.0   38.21         Unknown     38.77    35.79       37.53   \n",
       "5               0.0   44.78         Unknown     45.31    41.20       43.73   \n",
       "\n",
       "   200 Day Avg                                  Sector Weightings  \n",
       "1       118.68  {\"realestate\": 0.0216, \"consumer_cyclical\": 0....  \n",
       "2        45.90  {\"realestate\": 0.0222, \"consumer_cyclical\": 0....  \n",
       "3        77.15  {\"realestate\": 0.0279, \"consumer_cyclical\": 0....  \n",
       "4        37.84  {\"realestate\": 0.027999999, \"consumer_cyclical...  \n",
       "5        44.12  {\"realestate\": 0.027999999, \"consumer_cyclical...  \n",
       "\n",
       "[5 rows x 26 columns]"
      ]
     },
     "metadata": {},
     "output_type": "display_data"
    }
   ],
   "source": [
    "# Step 1: Calculate the weighted average of P/E (trailing) in portfolio_df\n",
    "weighted_average_pe = (portfolio_df[\"Weight\"] * portfolio_df[\"P/E (trailing)\"]).sum()\n",
    "\n",
    "# Step 2: Calculate the 20% threshold range\n",
    "lower_bound = weighted_average_pe * 0.8  # 20% below the weighted average\n",
    "upper_bound = weighted_average_pe * 1.2  # 2% above the weighted average\n",
    "\n",
    "# Step 3: Filter merged_df based on the P/E (trailing) column\n",
    "filtered_merged_df = merged_df[\n",
    "    (merged_df[\"P/E (trailing)\"] >= lower_bound) & \n",
    "    (merged_df[\"P/E (trailing)\"] <= upper_bound)\n",
    "]\n",
    "\n",
    "filtered_sectors_df = filtered_merged_df.copy().dropna(how='all')\n",
    "tickers = filtered_sectors_df[\"Symbol\"].tolist()\n",
    "\n",
    "# Display the filtered DataFrame\n",
    "print(\"Portfolio Weighted Average P/E (trailing):\", weighted_average_pe)\n",
    "print(\"Lower Bound:\", lower_bound)\n",
    "print(\"Upper Bound:\", upper_bound)\n",
    "print(\"Number of benchmarks after filtering by P/E (trailing):\", len(filtered_merged_df))\n",
    "display(filtered_sectors_df.head())"
   ]
  },
  {
   "cell_type": "markdown",
   "id": "b050f311",
   "metadata": {},
   "source": [
    "### Step 6: Import Quotes"
   ]
  },
  {
   "cell_type": "markdown",
   "id": "bedd1a61",
   "metadata": {},
   "source": [
    "#### Benchmark Tickers"
   ]
  },
  {
   "cell_type": "code",
   "execution_count": 10,
   "id": "c6cc3457",
   "metadata": {
    "execution": {
     "iopub.execute_input": "2025-06-02T13:28:31.035256Z",
     "iopub.status.busy": "2025-06-02T13:28:31.034942Z",
     "iopub.status.idle": "2025-06-02T13:28:31.195787Z",
     "shell.execute_reply": "2025-06-02T13:28:31.194847Z"
    }
   },
   "outputs": [
    {
     "name": "stdout",
     "output_type": "stream",
     "text": [
      "Found 102 of 111 tickers in data/daily_benchmark_quotes.csv\n",
      "Missing tickers: ['AOA', 'IJK', 'ILCB', 'IVOG', 'IYY', 'MDYG', 'PTNQ', 'UPGD', 'VIS']\n",
      "Found 102 of 111 tickers in data/monthly_benchmark_quotes.csv\n",
      "Missing tickers: ['AOA', 'IJK', 'ILCB', 'IVOG', 'IYY', 'MDYG', 'PTNQ', 'UPGD', 'VIS']\n"
     ]
    },
    {
     "data": {
      "application/vnd.microsoft.datawrangler.viewer.v0+json": {
       "columns": [
        {
         "name": "Date",
         "rawType": "datetime64[ns]",
         "type": "datetime"
        },
        {
         "name": "ACWI",
         "rawType": "float64",
         "type": "float"
        },
        {
         "name": "ADME",
         "rawType": "float64",
         "type": "float"
        },
        {
         "name": "AOK",
         "rawType": "float64",
         "type": "float"
        },
        {
         "name": "AOM",
         "rawType": "float64",
         "type": "float"
        },
        {
         "name": "AOR",
         "rawType": "float64",
         "type": "float"
        },
        {
         "name": "BAPR",
         "rawType": "float64",
         "type": "float"
        },
        {
         "name": "BBUS",
         "rawType": "float64",
         "type": "float"
        },
        {
         "name": "BJAN",
         "rawType": "float64",
         "type": "float"
        },
        {
         "name": "BJUL",
         "rawType": "float64",
         "type": "float"
        },
        {
         "name": "BOCT",
         "rawType": "float64",
         "type": "float"
        },
        {
         "name": "CEFS",
         "rawType": "float64",
         "type": "float"
        },
        {
         "name": "CRBN",
         "rawType": "float64",
         "type": "float"
        },
        {
         "name": "DGRO",
         "rawType": "float64",
         "type": "float"
        },
        {
         "name": "DGRW",
         "rawType": "float64",
         "type": "float"
        },
        {
         "name": "DIVO",
         "rawType": "float64",
         "type": "float"
        },
        {
         "name": "DLN",
         "rawType": "float64",
         "type": "float"
        },
        {
         "name": "DSI",
         "rawType": "float64",
         "type": "float"
        },
        {
         "name": "DTD",
         "rawType": "float64",
         "type": "float"
        },
        {
         "name": "DWAT",
         "rawType": "float64",
         "type": "float"
        },
        {
         "name": "DYNF",
         "rawType": "float64",
         "type": "float"
        },
        {
         "name": "EPS",
         "rawType": "float64",
         "type": "float"
        },
        {
         "name": "EQL",
         "rawType": "float64",
         "type": "float"
        },
        {
         "name": "EQWL",
         "rawType": "float64",
         "type": "float"
        },
        {
         "name": "ESGG",
         "rawType": "float64",
         "type": "float"
        },
        {
         "name": "ETHO",
         "rawType": "float64",
         "type": "float"
        },
        {
         "name": "EUSA",
         "rawType": "float64",
         "type": "float"
        },
        {
         "name": "EWC",
         "rawType": "float64",
         "type": "float"
        },
        {
         "name": "EWL",
         "rawType": "float64",
         "type": "float"
        },
        {
         "name": "FAD",
         "rawType": "float64",
         "type": "float"
        },
        {
         "name": "FCEF",
         "rawType": "float64",
         "type": "float"
        },
        {
         "name": "FIDU",
         "rawType": "float64",
         "type": "float"
        },
        {
         "name": "FNY",
         "rawType": "float64",
         "type": "float"
        },
        {
         "name": "FTLS",
         "rawType": "float64",
         "type": "float"
        },
        {
         "name": "FYC",
         "rawType": "float64",
         "type": "float"
        },
        {
         "name": "GVIP",
         "rawType": "float64",
         "type": "float"
        },
        {
         "name": "HTUS",
         "rawType": "float64",
         "type": "float"
        },
        {
         "name": "IGF",
         "rawType": "float64",
         "type": "float"
        },
        {
         "name": "IHDG",
         "rawType": "float64",
         "type": "float"
        },
        {
         "name": "IMCG",
         "rawType": "float64",
         "type": "float"
        },
        {
         "name": "IMTM",
         "rawType": "float64",
         "type": "float"
        },
        {
         "name": "IOO",
         "rawType": "float64",
         "type": "float"
        },
        {
         "name": "IQLT",
         "rawType": "float64",
         "type": "float"
        },
        {
         "name": "ITOT",
         "rawType": "float64",
         "type": "float"
        },
        {
         "name": "IUSV",
         "rawType": "float64",
         "type": "float"
        },
        {
         "name": "IVE",
         "rawType": "float64",
         "type": "float"
        },
        {
         "name": "IVV",
         "rawType": "float64",
         "type": "float"
        },
        {
         "name": "IWB",
         "rawType": "float64",
         "type": "float"
        },
        {
         "name": "IWL",
         "rawType": "float64",
         "type": "float"
        },
        {
         "name": "IWR",
         "rawType": "float64",
         "type": "float"
        },
        {
         "name": "JDIV",
         "rawType": "float64",
         "type": "float"
        },
        {
         "name": "JMOM",
         "rawType": "float64",
         "type": "float"
        },
        {
         "name": "JQUA",
         "rawType": "float64",
         "type": "float"
        },
        {
         "name": "JSMD",
         "rawType": "float64",
         "type": "float"
        },
        {
         "name": "LRGF",
         "rawType": "float64",
         "type": "float"
        },
        {
         "name": "MAGA",
         "rawType": "float64",
         "type": "float"
        },
        {
         "name": "MFUS",
         "rawType": "float64",
         "type": "float"
        },
        {
         "name": "MGC",
         "rawType": "float64",
         "type": "float"
        },
        {
         "name": "MMTM",
         "rawType": "float64",
         "type": "float"
        },
        {
         "name": "NACP",
         "rawType": "float64",
         "type": "float"
        },
        {
         "name": "OEF",
         "rawType": "float64",
         "type": "float"
        },
        {
         "name": "PBUS",
         "rawType": "float64",
         "type": "float"
        },
        {
         "name": "PCEF",
         "rawType": "float64",
         "type": "float"
        },
        {
         "name": "PFM",
         "rawType": "float64",
         "type": "float"
        },
        {
         "name": "PJUL",
         "rawType": "float64",
         "type": "float"
        },
        {
         "name": "POCT",
         "rawType": "float64",
         "type": "float"
        },
        {
         "name": "QARP",
         "rawType": "float64",
         "type": "float"
        },
        {
         "name": "QDEF",
         "rawType": "float64",
         "type": "float"
        },
        {
         "name": "QDF",
         "rawType": "float64",
         "type": "float"
        },
        {
         "name": "QLC",
         "rawType": "float64",
         "type": "float"
        },
        {
         "name": "QMOM",
         "rawType": "float64",
         "type": "float"
        },
        {
         "name": "QUAL",
         "rawType": "float64",
         "type": "float"
        },
        {
         "name": "QUS",
         "rawType": "float64",
         "type": "float"
        },
        {
         "name": "QWLD",
         "rawType": "float64",
         "type": "float"
        },
        {
         "name": "SCHX",
         "rawType": "float64",
         "type": "float"
        },
        {
         "name": "SIZE",
         "rawType": "float64",
         "type": "float"
        },
        {
         "name": "SMIN",
         "rawType": "float64",
         "type": "float"
        },
        {
         "name": "SPGM",
         "rawType": "float64",
         "type": "float"
        },
        {
         "name": "SPHB",
         "rawType": "float64",
         "type": "float"
        },
        {
         "name": "SPLG",
         "rawType": "float64",
         "type": "float"
        },
        {
         "name": "SPMO",
         "rawType": "float64",
         "type": "float"
        },
        {
         "name": "SPTM",
         "rawType": "float64",
         "type": "float"
        },
        {
         "name": "SPXV",
         "rawType": "float64",
         "type": "float"
        },
        {
         "name": "SPY",
         "rawType": "float64",
         "type": "float"
        },
        {
         "name": "SPYV",
         "rawType": "float64",
         "type": "float"
        },
        {
         "name": "SSPY",
         "rawType": "float64",
         "type": "float"
        },
        {
         "name": "SUSA",
         "rawType": "float64",
         "type": "float"
        },
        {
         "name": "TOK",
         "rawType": "float64",
         "type": "float"
        },
        {
         "name": "URTH",
         "rawType": "float64",
         "type": "float"
        },
        {
         "name": "VO",
         "rawType": "float64",
         "type": "float"
        },
        {
         "name": "VONE",
         "rawType": "float64",
         "type": "float"
        },
        {
         "name": "VOO",
         "rawType": "float64",
         "type": "float"
        },
        {
         "name": "VOOV",
         "rawType": "float64",
         "type": "float"
        },
        {
         "name": "VT",
         "rawType": "float64",
         "type": "float"
        },
        {
         "name": "VUSE",
         "rawType": "float64",
         "type": "float"
        },
        {
         "name": "VV",
         "rawType": "float64",
         "type": "float"
        },
        {
         "name": "WOMN",
         "rawType": "float64",
         "type": "float"
        },
        {
         "name": "WTMF",
         "rawType": "float64",
         "type": "float"
        },
        {
         "name": "XLG",
         "rawType": "float64",
         "type": "float"
        },
        {
         "name": "XRLV",
         "rawType": "float64",
         "type": "float"
        },
        {
         "name": "XSMO",
         "rawType": "float64",
         "type": "float"
        },
        {
         "name": "YLDE",
         "rawType": "float64",
         "type": "float"
        },
        {
         "name": "YYY",
         "rawType": "float64",
         "type": "float"
        }
       ],
       "ref": "d224bdf4-91bc-41a4-8834-fd2a0b127069",
       "rows": [
        [
         "2015-07-01 00:00:00",
         "49.65",
         null,
         "25.55",
         "27.74",
         "31.89",
         null,
         null,
         null,
         null,
         null,
         null,
         "81.26",
         "20.92",
         "25.63",
         null,
         "28.5",
         "34.01",
         "28.67",
         "7.09",
         null,
         "20.04",
         "45.84",
         "33.49",
         null,
         null,
         "38.4",
         "20.75",
         "28.19",
         "50.14",
         null,
         "23.92",
         "30.49",
         "30.06",
         "31.15",
         null,
         "16.46",
         "30.71",
         "20.52",
         "26.53",
         "21.75",
         "31.67",
         "21.5",
         "40.76",
         "35.87",
         "74.44",
         "177.83",
         "100.52",
         "40.97",
         "36.92",
         null,
         null,
         null,
         null,
         "21.28",
         null,
         null,
         "60.66",
         "78.71",
         null,
         "79.49",
         null,
         "10.44",
         "17.16",
         null,
         null,
         null,
         "26.9",
         "27.85",
         null,
         null,
         "55.68",
         "49.83",
         "50.69",
         "7.09",
         "56.88",
         "30.06",
         "26.62",
         "28.21",
         "20.93",
         null,
         "22.24",
         null,
         "177.97",
         "19.76",
         "29.87",
         "37.46",
         "44.97",
         "62.02",
         "110.11",
         "82.8",
         "162.46",
         "71.48",
         "50.01",
         "23.3",
         "81.86",
         null,
         "30.1",
         "12.63",
         "21.44",
         "24.66",
         null,
         "7.33"
        ],
        [
         "2015-08-01 00:00:00",
         "46.27",
         null,
         "24.9",
         "26.93",
         "30.54",
         null,
         null,
         null,
         null,
         null,
         null,
         "76.17",
         "19.71",
         "24.06",
         null,
         "26.81",
         "31.94",
         "26.97",
         "6.66",
         null,
         "18.8",
         "43.29",
         "31.18",
         null,
         null,
         "36.19",
         "19.71",
         "26.31",
         "47.27",
         null,
         "22.68",
         "28.26",
         "29.0",
         "29.18",
         null,
         "16.24",
         "29.09",
         "18.99",
         "24.86",
         "20.4",
         "29.5",
         "19.83",
         "38.28",
         "33.81",
         "69.94",
         "166.9",
         "94.47",
         "38.36",
         "34.98",
         null,
         null,
         null,
         null,
         "20.05",
         null,
         null,
         "56.83",
         "73.76",
         null,
         "74.2",
         null,
         "10.07",
         "16.29",
         null,
         null,
         null,
         "25.47",
         "26.42",
         null,
         null,
         "52.67",
         "48.29",
         "47.78",
         "6.66",
         "53.7",
         "27.29",
         "25.23",
         "26.78",
         "19.7",
         null,
         "20.93",
         null,
         "167.12",
         "18.56",
         "28.25",
         "35.12",
         "41.85",
         "57.94",
         "104.44",
         "77.75",
         "152.49",
         "67.19",
         "46.69",
         "22.28",
         "76.92",
         null,
         "30.07",
         "11.78",
         "20.31",
         "23.29",
         null,
         "6.98"
        ],
        [
         "2015-09-01 00:00:00",
         "44.68",
         null,
         "24.73",
         "26.62",
         "29.97",
         null,
         null,
         null,
         null,
         null,
         null,
         "72.79",
         "19.38",
         "23.57",
         null,
         "26.36",
         "31.16",
         "26.5",
         "6.39",
         null,
         "18.26",
         "42.08",
         "30.19",
         null,
         null,
         "34.58",
         "18.68",
         "25.29",
         "45.48",
         null,
         "21.91",
         "27.39",
         "28.92",
         "28.23",
         null,
         "16.21",
         "28.39",
         "18.7",
         "23.72",
         "19.29",
         "28.69",
         "19.16",
         "37.28",
         "32.72",
         "67.97",
         "162.73",
         "91.82",
         "37.39",
         "33.71",
         null,
         null,
         null,
         null,
         "19.58",
         null,
         null,
         "55.42",
         "71.37",
         null,
         "72.54",
         null,
         "9.85",
         "16.0",
         null,
         null,
         null,
         "25.07",
         "25.75",
         "21.41",
         null,
         "51.99",
         "46.58",
         "47.35",
         "6.48",
         "52.63",
         "27.95",
         "24.8",
         "25.05",
         "18.99",
         null,
         "20.19",
         "16.9",
         "162.86",
         "17.96",
         "27.43",
         "34.38",
         "40.14",
         "55.88",
         "100.59",
         "75.62",
         "148.73",
         "65.24",
         "44.96",
         "21.21",
         "74.82",
         null,
         "30.3",
         "11.54",
         "19.89",
         "21.7",
         null,
         "6.74"
        ],
        [
         "2015-10-01 00:00:00",
         "48.1",
         null,
         "25.37",
         "27.42",
         "31.24",
         null,
         null,
         null,
         null,
         null,
         null,
         "78.9",
         "20.93",
         "25.67",
         null,
         "28.5",
         "33.89",
         "28.63",
         "6.67",
         null,
         "19.92",
         "45.46",
         "32.85",
         null,
         null,
         "37.29",
         "19.33",
         "26.27",
         "48.3",
         null,
         "23.85",
         "28.66",
         "30.15",
         "29.94",
         null,
         "16.17",
         "29.61",
         "20.08",
         "24.99",
         "20.21",
         "31.31",
         "20.7",
         "40.35",
         "35.17",
         "72.98",
         "176.53",
         "99.26",
         "40.72",
         "35.78",
         null,
         null,
         null,
         null,
         "20.82",
         null,
         null,
         "60.31",
         "77.74",
         null,
         "79.43",
         null,
         "10.33",
         "17.16",
         null,
         null,
         null,
         "26.92",
         "27.84",
         "23.03",
         null,
         "56.48",
         "51.12",
         "50.45",
         "7.01",
         "56.2",
         "28.55",
         "26.16",
         "27.65",
         "20.78",
         "23.2",
         "21.94",
         "18.55",
         "176.71",
         "19.37",
         "29.38",
         "37.21",
         "43.23",
         "59.78",
         "106.6",
         "81.74",
         "161.3",
         "70.08",
         "48.23",
         "22.56",
         "81.02",
         null,
         "30.22",
         "12.68",
         "21.35",
         "22.79",
         null,
         "7.23"
        ],
        [
         "2015-11-01 00:00:00",
         "47.85",
         null,
         "25.28",
         "27.35",
         "31.24",
         null,
         null,
         null,
         null,
         null,
         null,
         "78.48",
         "20.93",
         "25.73",
         null,
         "28.48",
         "33.95",
         "28.64",
         "6.55",
         null,
         "19.98",
         "45.54",
         "33.16",
         null,
         "23.13",
         "37.27",
         "18.9",
         "25.54",
         "48.71",
         null,
         "24.18",
         "28.96",
         "30.61",
         "30.89",
         null,
         "16.28",
         "28.39",
         "20.55",
         "25.07",
         "20.18",
         "31.19",
         "20.51",
         "40.52",
         "35.39",
         "73.4",
         "177.22",
         "99.67",
         "40.97",
         "35.9",
         null,
         null,
         null,
         null,
         "20.93",
         null,
         null,
         "60.55",
         "78.59",
         null,
         "79.7",
         null,
         "10.2",
         "17.16",
         null,
         null,
         null,
         "26.71",
         "27.76",
         "23.07",
         null,
         "56.73",
         "50.68",
         "50.03",
         "7.04",
         "56.53",
         "28.44",
         "26.01",
         "27.77",
         "20.79",
         "23.59",
         "22.03",
         "18.66",
         "177.36",
         "19.48",
         "29.58",
         "37.32",
         "42.93",
         "59.94",
         "106.92",
         "82.06",
         "161.99",
         "70.49",
         "48.19",
         "23.0",
         "81.3",
         null,
         "30.84",
         "12.74",
         "21.78",
         "23.9",
         null,
         "7.01"
        ]
       ],
       "shape": {
        "columns": 102,
        "rows": 5
       }
      },
      "text/html": [
       "<div>\n",
       "<style scoped>\n",
       "    .dataframe tbody tr th:only-of-type {\n",
       "        vertical-align: middle;\n",
       "    }\n",
       "\n",
       "    .dataframe tbody tr th {\n",
       "        vertical-align: top;\n",
       "    }\n",
       "\n",
       "    .dataframe thead th {\n",
       "        text-align: right;\n",
       "    }\n",
       "</style>\n",
       "<table border=\"1\" class=\"dataframe\">\n",
       "  <thead>\n",
       "    <tr style=\"text-align: right;\">\n",
       "      <th></th>\n",
       "      <th>ACWI</th>\n",
       "      <th>ADME</th>\n",
       "      <th>AOK</th>\n",
       "      <th>AOM</th>\n",
       "      <th>AOR</th>\n",
       "      <th>BAPR</th>\n",
       "      <th>BBUS</th>\n",
       "      <th>BJAN</th>\n",
       "      <th>BJUL</th>\n",
       "      <th>BOCT</th>\n",
       "      <th>...</th>\n",
       "      <th>VT</th>\n",
       "      <th>VUSE</th>\n",
       "      <th>VV</th>\n",
       "      <th>WOMN</th>\n",
       "      <th>WTMF</th>\n",
       "      <th>XLG</th>\n",
       "      <th>XRLV</th>\n",
       "      <th>XSMO</th>\n",
       "      <th>YLDE</th>\n",
       "      <th>YYY</th>\n",
       "    </tr>\n",
       "    <tr>\n",
       "      <th>Date</th>\n",
       "      <th></th>\n",
       "      <th></th>\n",
       "      <th></th>\n",
       "      <th></th>\n",
       "      <th></th>\n",
       "      <th></th>\n",
       "      <th></th>\n",
       "      <th></th>\n",
       "      <th></th>\n",
       "      <th></th>\n",
       "      <th></th>\n",
       "      <th></th>\n",
       "      <th></th>\n",
       "      <th></th>\n",
       "      <th></th>\n",
       "      <th></th>\n",
       "      <th></th>\n",
       "      <th></th>\n",
       "      <th></th>\n",
       "      <th></th>\n",
       "      <th></th>\n",
       "    </tr>\n",
       "  </thead>\n",
       "  <tbody>\n",
       "    <tr>\n",
       "      <th>2015-07-01</th>\n",
       "      <td>49.65</td>\n",
       "      <td>NaN</td>\n",
       "      <td>25.55</td>\n",
       "      <td>27.74</td>\n",
       "      <td>31.89</td>\n",
       "      <td>NaN</td>\n",
       "      <td>NaN</td>\n",
       "      <td>NaN</td>\n",
       "      <td>NaN</td>\n",
       "      <td>NaN</td>\n",
       "      <td>...</td>\n",
       "      <td>50.01</td>\n",
       "      <td>23.30</td>\n",
       "      <td>81.86</td>\n",
       "      <td>NaN</td>\n",
       "      <td>30.10</td>\n",
       "      <td>12.63</td>\n",
       "      <td>21.44</td>\n",
       "      <td>24.66</td>\n",
       "      <td>NaN</td>\n",
       "      <td>7.33</td>\n",
       "    </tr>\n",
       "    <tr>\n",
       "      <th>2015-08-01</th>\n",
       "      <td>46.27</td>\n",
       "      <td>NaN</td>\n",
       "      <td>24.90</td>\n",
       "      <td>26.93</td>\n",
       "      <td>30.54</td>\n",
       "      <td>NaN</td>\n",
       "      <td>NaN</td>\n",
       "      <td>NaN</td>\n",
       "      <td>NaN</td>\n",
       "      <td>NaN</td>\n",
       "      <td>...</td>\n",
       "      <td>46.69</td>\n",
       "      <td>22.28</td>\n",
       "      <td>76.92</td>\n",
       "      <td>NaN</td>\n",
       "      <td>30.07</td>\n",
       "      <td>11.78</td>\n",
       "      <td>20.31</td>\n",
       "      <td>23.29</td>\n",
       "      <td>NaN</td>\n",
       "      <td>6.98</td>\n",
       "    </tr>\n",
       "    <tr>\n",
       "      <th>2015-09-01</th>\n",
       "      <td>44.68</td>\n",
       "      <td>NaN</td>\n",
       "      <td>24.73</td>\n",
       "      <td>26.62</td>\n",
       "      <td>29.97</td>\n",
       "      <td>NaN</td>\n",
       "      <td>NaN</td>\n",
       "      <td>NaN</td>\n",
       "      <td>NaN</td>\n",
       "      <td>NaN</td>\n",
       "      <td>...</td>\n",
       "      <td>44.96</td>\n",
       "      <td>21.21</td>\n",
       "      <td>74.82</td>\n",
       "      <td>NaN</td>\n",
       "      <td>30.30</td>\n",
       "      <td>11.54</td>\n",
       "      <td>19.89</td>\n",
       "      <td>21.70</td>\n",
       "      <td>NaN</td>\n",
       "      <td>6.74</td>\n",
       "    </tr>\n",
       "    <tr>\n",
       "      <th>2015-10-01</th>\n",
       "      <td>48.10</td>\n",
       "      <td>NaN</td>\n",
       "      <td>25.37</td>\n",
       "      <td>27.42</td>\n",
       "      <td>31.24</td>\n",
       "      <td>NaN</td>\n",
       "      <td>NaN</td>\n",
       "      <td>NaN</td>\n",
       "      <td>NaN</td>\n",
       "      <td>NaN</td>\n",
       "      <td>...</td>\n",
       "      <td>48.23</td>\n",
       "      <td>22.56</td>\n",
       "      <td>81.02</td>\n",
       "      <td>NaN</td>\n",
       "      <td>30.22</td>\n",
       "      <td>12.68</td>\n",
       "      <td>21.35</td>\n",
       "      <td>22.79</td>\n",
       "      <td>NaN</td>\n",
       "      <td>7.23</td>\n",
       "    </tr>\n",
       "    <tr>\n",
       "      <th>2015-11-01</th>\n",
       "      <td>47.85</td>\n",
       "      <td>NaN</td>\n",
       "      <td>25.28</td>\n",
       "      <td>27.35</td>\n",
       "      <td>31.24</td>\n",
       "      <td>NaN</td>\n",
       "      <td>NaN</td>\n",
       "      <td>NaN</td>\n",
       "      <td>NaN</td>\n",
       "      <td>NaN</td>\n",
       "      <td>...</td>\n",
       "      <td>48.19</td>\n",
       "      <td>23.00</td>\n",
       "      <td>81.30</td>\n",
       "      <td>NaN</td>\n",
       "      <td>30.84</td>\n",
       "      <td>12.74</td>\n",
       "      <td>21.78</td>\n",
       "      <td>23.90</td>\n",
       "      <td>NaN</td>\n",
       "      <td>7.01</td>\n",
       "    </tr>\n",
       "  </tbody>\n",
       "</table>\n",
       "<p>5 rows × 102 columns</p>\n",
       "</div>"
      ],
      "text/plain": [
       "             ACWI  ADME    AOK    AOM    AOR  BAPR  BBUS  BJAN  BJUL  BOCT  \\\n",
       "Date                                                                         \n",
       "2015-07-01  49.65   NaN  25.55  27.74  31.89   NaN   NaN   NaN   NaN   NaN   \n",
       "2015-08-01  46.27   NaN  24.90  26.93  30.54   NaN   NaN   NaN   NaN   NaN   \n",
       "2015-09-01  44.68   NaN  24.73  26.62  29.97   NaN   NaN   NaN   NaN   NaN   \n",
       "2015-10-01  48.10   NaN  25.37  27.42  31.24   NaN   NaN   NaN   NaN   NaN   \n",
       "2015-11-01  47.85   NaN  25.28  27.35  31.24   NaN   NaN   NaN   NaN   NaN   \n",
       "\n",
       "            ...     VT   VUSE     VV  WOMN   WTMF    XLG   XRLV   XSMO  YLDE  \\\n",
       "Date        ...                                                                \n",
       "2015-07-01  ...  50.01  23.30  81.86   NaN  30.10  12.63  21.44  24.66   NaN   \n",
       "2015-08-01  ...  46.69  22.28  76.92   NaN  30.07  11.78  20.31  23.29   NaN   \n",
       "2015-09-01  ...  44.96  21.21  74.82   NaN  30.30  11.54  19.89  21.70   NaN   \n",
       "2015-10-01  ...  48.23  22.56  81.02   NaN  30.22  12.68  21.35  22.79   NaN   \n",
       "2015-11-01  ...  48.19  23.00  81.30   NaN  30.84  12.74  21.78  23.90   NaN   \n",
       "\n",
       "             YYY  \n",
       "Date              \n",
       "2015-07-01  7.33  \n",
       "2015-08-01  6.98  \n",
       "2015-09-01  6.74  \n",
       "2015-10-01  7.23  \n",
       "2015-11-01  7.01  \n",
       "\n",
       "[5 rows x 102 columns]"
      ]
     },
     "execution_count": 10,
     "metadata": {},
     "output_type": "execute_result"
    }
   ],
   "source": [
    "# Load and filter historical benchmark price data\n",
    "benchmark_prices_daily_df = load_and_filter_data('data/daily_benchmark_quotes.csv', tickers, start_date, end_date)\n",
    "benchmark_prices_monthly_df = load_and_filter_data('data/monthly_benchmark_quotes.csv', tickers, start_date, end_date)\n",
    "\n",
    "# Display the first few rows\n",
    "benchmark_prices_monthly_df.head()"
   ]
  },
  {
   "cell_type": "markdown",
   "id": "0b6317cc",
   "metadata": {},
   "source": [
    "#### Portfolio Tickers"
   ]
  },
  {
   "cell_type": "code",
   "execution_count": 11,
   "id": "63739423",
   "metadata": {
    "execution": {
     "iopub.execute_input": "2025-06-02T13:28:31.198685Z",
     "iopub.status.busy": "2025-06-02T13:28:31.198402Z",
     "iopub.status.idle": "2025-06-02T13:28:31.232652Z",
     "shell.execute_reply": "2025-06-02T13:28:31.231755Z"
    }
   },
   "outputs": [
    {
     "name": "stdout",
     "output_type": "stream",
     "text": [
      "Found 5 of 5 tickers in data/monthly_stock_quotes.csv\n",
      "Missing tickers: []\n"
     ]
    },
    {
     "data": {
      "application/vnd.microsoft.datawrangler.viewer.v0+json": {
       "columns": [
        {
         "name": "Date",
         "rawType": "datetime64[ns]",
         "type": "datetime"
        },
        {
         "name": "AMAT",
         "rawType": "float64",
         "type": "float"
        },
        {
         "name": "APO",
         "rawType": "float64",
         "type": "float"
        },
        {
         "name": "MMC",
         "rawType": "float64",
         "type": "float"
        },
        {
         "name": "SO",
         "rawType": "float64",
         "type": "float"
        },
        {
         "name": "TMUS",
         "rawType": "float64",
         "type": "float"
        }
       ],
       "ref": "ebb3dfc8-daea-4e47-9a4d-5cda9ab842cb",
       "rows": [
        [
         "2015-07-01 00:00:00",
         "15.39",
         "12.95",
         "49.23",
         "29.41",
         "39.76"
        ],
        [
         "2015-08-01 00:00:00",
         "14.35",
         "11.94",
         "45.65",
         "28.88",
         "38.74"
        ],
        [
         "2015-09-01 00:00:00",
         "13.1",
         "11.04",
         "44.37",
         "29.74",
         "38.93"
        ],
        [
         "2015-10-01 00:00:00",
         "14.96",
         "11.74",
         "47.64",
         "30.01",
         "37.05"
        ],
        [
         "2015-11-01 00:00:00",
         "16.84",
         "10.72",
         "47.26",
         "30.0",
         "34.72"
        ]
       ],
       "shape": {
        "columns": 5,
        "rows": 5
       }
      },
      "text/html": [
       "<div>\n",
       "<style scoped>\n",
       "    .dataframe tbody tr th:only-of-type {\n",
       "        vertical-align: middle;\n",
       "    }\n",
       "\n",
       "    .dataframe tbody tr th {\n",
       "        vertical-align: top;\n",
       "    }\n",
       "\n",
       "    .dataframe thead th {\n",
       "        text-align: right;\n",
       "    }\n",
       "</style>\n",
       "<table border=\"1\" class=\"dataframe\">\n",
       "  <thead>\n",
       "    <tr style=\"text-align: right;\">\n",
       "      <th></th>\n",
       "      <th>AMAT</th>\n",
       "      <th>APO</th>\n",
       "      <th>MMC</th>\n",
       "      <th>SO</th>\n",
       "      <th>TMUS</th>\n",
       "    </tr>\n",
       "    <tr>\n",
       "      <th>Date</th>\n",
       "      <th></th>\n",
       "      <th></th>\n",
       "      <th></th>\n",
       "      <th></th>\n",
       "      <th></th>\n",
       "    </tr>\n",
       "  </thead>\n",
       "  <tbody>\n",
       "    <tr>\n",
       "      <th>2015-07-01</th>\n",
       "      <td>15.39</td>\n",
       "      <td>12.95</td>\n",
       "      <td>49.23</td>\n",
       "      <td>29.41</td>\n",
       "      <td>39.76</td>\n",
       "    </tr>\n",
       "    <tr>\n",
       "      <th>2015-08-01</th>\n",
       "      <td>14.35</td>\n",
       "      <td>11.94</td>\n",
       "      <td>45.65</td>\n",
       "      <td>28.88</td>\n",
       "      <td>38.74</td>\n",
       "    </tr>\n",
       "    <tr>\n",
       "      <th>2015-09-01</th>\n",
       "      <td>13.10</td>\n",
       "      <td>11.04</td>\n",
       "      <td>44.37</td>\n",
       "      <td>29.74</td>\n",
       "      <td>38.93</td>\n",
       "    </tr>\n",
       "    <tr>\n",
       "      <th>2015-10-01</th>\n",
       "      <td>14.96</td>\n",
       "      <td>11.74</td>\n",
       "      <td>47.64</td>\n",
       "      <td>30.01</td>\n",
       "      <td>37.05</td>\n",
       "    </tr>\n",
       "    <tr>\n",
       "      <th>2015-11-01</th>\n",
       "      <td>16.84</td>\n",
       "      <td>10.72</td>\n",
       "      <td>47.26</td>\n",
       "      <td>30.00</td>\n",
       "      <td>34.72</td>\n",
       "    </tr>\n",
       "  </tbody>\n",
       "</table>\n",
       "</div>"
      ],
      "text/plain": [
       "             AMAT    APO    MMC     SO   TMUS\n",
       "Date                                         \n",
       "2015-07-01  15.39  12.95  49.23  29.41  39.76\n",
       "2015-08-01  14.35  11.94  45.65  28.88  38.74\n",
       "2015-09-01  13.10  11.04  44.37  29.74  38.93\n",
       "2015-10-01  14.96  11.74  47.64  30.01  37.05\n",
       "2015-11-01  16.84  10.72  47.26  30.00  34.72"
      ]
     },
     "execution_count": 11,
     "metadata": {},
     "output_type": "execute_result"
    }
   ],
   "source": [
    "# Load and filter historical benchmark price data\n",
    "stock_prices_monthly_df = load_and_filter_data('data/monthly_stock_quotes.csv', portfolio_tickers, start_date, end_date)\n",
    "\n",
    "# Display the first few rows\n",
    "stock_prices_monthly_df.head()"
   ]
  },
  {
   "cell_type": "markdown",
   "id": "ff74a589",
   "metadata": {},
   "source": [
    "### Step 7: Prepare Data (Drop Invalid Tickers)"
   ]
  },
  {
   "cell_type": "markdown",
   "id": "bc19d94e",
   "metadata": {},
   "source": [
    "#### Daily Quotes"
   ]
  },
  {
   "cell_type": "code",
   "execution_count": 12,
   "id": "4fd1c0fd",
   "metadata": {
    "execution": {
     "iopub.execute_input": "2025-06-02T13:28:31.236531Z",
     "iopub.status.busy": "2025-06-02T13:28:31.236211Z",
     "iopub.status.idle": "2025-06-02T13:28:31.261664Z",
     "shell.execute_reply": "2025-06-02T13:28:31.260652Z"
    }
   },
   "outputs": [
    {
     "name": "stdout",
     "output_type": "stream",
     "text": [
      "Dropping 31 columns with missing values in first/last 50 records: ['ADME', 'BAPR', 'BBUS', 'BJAN', 'BJUL', 'BOCT', 'CEFS', 'DIVO', 'DYNF', 'ESGG', 'ETHO', 'FCEF', 'GVIP', 'HTUS', 'JDIV', 'JMOM', 'JQUA', 'JSMD', 'MAGA', 'MFUS', 'NACP', 'PBUS', 'PJUL', 'POCT', 'QARP', 'QLC', 'QMOM', 'SPMO', 'SPXV', 'WOMN', 'YLDE']\n"
     ]
    },
    {
     "data": {
      "application/vnd.microsoft.datawrangler.viewer.v0+json": {
       "columns": [
        {
         "name": "Date",
         "rawType": "datetime64[ns]",
         "type": "datetime"
        },
        {
         "name": "ACWI",
         "rawType": "float64",
         "type": "float"
        },
        {
         "name": "AOK",
         "rawType": "float64",
         "type": "float"
        },
        {
         "name": "AOM",
         "rawType": "float64",
         "type": "float"
        },
        {
         "name": "AOR",
         "rawType": "float64",
         "type": "float"
        },
        {
         "name": "CRBN",
         "rawType": "float64",
         "type": "float"
        },
        {
         "name": "DGRO",
         "rawType": "float64",
         "type": "float"
        },
        {
         "name": "DGRW",
         "rawType": "float64",
         "type": "float"
        },
        {
         "name": "DLN",
         "rawType": "float64",
         "type": "float"
        },
        {
         "name": "DSI",
         "rawType": "float64",
         "type": "float"
        },
        {
         "name": "DTD",
         "rawType": "float64",
         "type": "float"
        },
        {
         "name": "DWAT",
         "rawType": "float64",
         "type": "float"
        },
        {
         "name": "EPS",
         "rawType": "float64",
         "type": "float"
        },
        {
         "name": "EQL",
         "rawType": "float64",
         "type": "float"
        },
        {
         "name": "EQWL",
         "rawType": "float64",
         "type": "float"
        },
        {
         "name": "EUSA",
         "rawType": "float64",
         "type": "float"
        },
        {
         "name": "EWC",
         "rawType": "float64",
         "type": "float"
        },
        {
         "name": "EWL",
         "rawType": "float64",
         "type": "float"
        },
        {
         "name": "FAD",
         "rawType": "float64",
         "type": "float"
        },
        {
         "name": "FIDU",
         "rawType": "float64",
         "type": "float"
        },
        {
         "name": "FNY",
         "rawType": "float64",
         "type": "float"
        },
        {
         "name": "FTLS",
         "rawType": "float64",
         "type": "float"
        },
        {
         "name": "FYC",
         "rawType": "float64",
         "type": "float"
        },
        {
         "name": "IGF",
         "rawType": "float64",
         "type": "float"
        },
        {
         "name": "IHDG",
         "rawType": "float64",
         "type": "float"
        },
        {
         "name": "IMCG",
         "rawType": "float64",
         "type": "float"
        },
        {
         "name": "IMTM",
         "rawType": "float64",
         "type": "float"
        },
        {
         "name": "IOO",
         "rawType": "float64",
         "type": "float"
        },
        {
         "name": "IQLT",
         "rawType": "float64",
         "type": "float"
        },
        {
         "name": "ITOT",
         "rawType": "float64",
         "type": "float"
        },
        {
         "name": "IUSV",
         "rawType": "float64",
         "type": "float"
        },
        {
         "name": "IVE",
         "rawType": "float64",
         "type": "float"
        },
        {
         "name": "IVV",
         "rawType": "float64",
         "type": "float"
        },
        {
         "name": "IWB",
         "rawType": "float64",
         "type": "float"
        },
        {
         "name": "IWL",
         "rawType": "float64",
         "type": "float"
        },
        {
         "name": "IWR",
         "rawType": "float64",
         "type": "float"
        },
        {
         "name": "LRGF",
         "rawType": "float64",
         "type": "float"
        },
        {
         "name": "MGC",
         "rawType": "float64",
         "type": "float"
        },
        {
         "name": "MMTM",
         "rawType": "float64",
         "type": "float"
        },
        {
         "name": "OEF",
         "rawType": "float64",
         "type": "float"
        },
        {
         "name": "PCEF",
         "rawType": "float64",
         "type": "float"
        },
        {
         "name": "PFM",
         "rawType": "float64",
         "type": "float"
        },
        {
         "name": "QDEF",
         "rawType": "float64",
         "type": "float"
        },
        {
         "name": "QDF",
         "rawType": "float64",
         "type": "float"
        },
        {
         "name": "QUAL",
         "rawType": "float64",
         "type": "float"
        },
        {
         "name": "QUS",
         "rawType": "float64",
         "type": "float"
        },
        {
         "name": "QWLD",
         "rawType": "float64",
         "type": "float"
        },
        {
         "name": "SCHX",
         "rawType": "float64",
         "type": "float"
        },
        {
         "name": "SIZE",
         "rawType": "float64",
         "type": "float"
        },
        {
         "name": "SMIN",
         "rawType": "float64",
         "type": "float"
        },
        {
         "name": "SPGM",
         "rawType": "float64",
         "type": "float"
        },
        {
         "name": "SPHB",
         "rawType": "float64",
         "type": "float"
        },
        {
         "name": "SPLG",
         "rawType": "float64",
         "type": "float"
        },
        {
         "name": "SPTM",
         "rawType": "float64",
         "type": "float"
        },
        {
         "name": "SPY",
         "rawType": "float64",
         "type": "float"
        },
        {
         "name": "SPYV",
         "rawType": "float64",
         "type": "float"
        },
        {
         "name": "SSPY",
         "rawType": "float64",
         "type": "float"
        },
        {
         "name": "SUSA",
         "rawType": "float64",
         "type": "float"
        },
        {
         "name": "TOK",
         "rawType": "float64",
         "type": "float"
        },
        {
         "name": "URTH",
         "rawType": "float64",
         "type": "float"
        },
        {
         "name": "VO",
         "rawType": "float64",
         "type": "float"
        },
        {
         "name": "VONE",
         "rawType": "float64",
         "type": "float"
        },
        {
         "name": "VOO",
         "rawType": "float64",
         "type": "float"
        },
        {
         "name": "VOOV",
         "rawType": "float64",
         "type": "float"
        },
        {
         "name": "VT",
         "rawType": "float64",
         "type": "float"
        },
        {
         "name": "VUSE",
         "rawType": "float64",
         "type": "float"
        },
        {
         "name": "VV",
         "rawType": "float64",
         "type": "float"
        },
        {
         "name": "WTMF",
         "rawType": "float64",
         "type": "float"
        },
        {
         "name": "XLG",
         "rawType": "float64",
         "type": "float"
        },
        {
         "name": "XRLV",
         "rawType": "float64",
         "type": "float"
        },
        {
         "name": "XSMO",
         "rawType": "float64",
         "type": "float"
        },
        {
         "name": "YYY",
         "rawType": "float64",
         "type": "float"
        }
       ],
       "ref": "fe579e68-e895-4fa0-8842-93980939c994",
       "rows": [
        [
         "2015-06-08 00:00:00",
         "49.79",
         "25.42",
         "27.62",
         "31.77",
         "81.11",
         "20.71",
         "25.59",
         "28.46",
         "33.57",
         "28.64",
         "7.01",
         "19.97",
         "45.65",
         "32.95",
         "37.97",
         "22.04",
         "28.17",
         "48.74",
         "24.47",
         "29.85",
         "29.89",
         "30.49",
         "31.01",
         "19.96",
         "26.13",
         "21.38",
         "31.78",
         "21.35",
         "40.23",
         "36.17",
         "74.86",
         "175.29",
         "99.26",
         "40.3",
         "37.06",
         "21.09",
         "59.7",
         "76.4",
         "77.75",
         "10.67",
         "17.09",
         "26.76",
         "27.74",
         "54.38",
         "50.92",
         "51.3",
         "7.0",
         "56.07",
         "27.08",
         "26.84",
         "30.06",
         "20.69",
         "22.07",
         "175.41",
         "19.87",
         "30.29",
         "37.34",
         "44.16",
         "61.39",
         "109.59",
         "81.88",
         "160.16",
         "71.99",
         "50.13",
         "23.86",
         "80.77",
         "31.84",
         "12.32",
         "20.74",
         "24.34",
         "7.64"
        ],
        [
         "2015-06-09 00:00:00",
         "49.66",
         "25.35",
         "27.53",
         "31.67",
         "80.87",
         "20.73",
         "25.59",
         "28.46",
         "33.54",
         "28.59",
         "6.95",
         "19.94",
         "45.65",
         "33.0",
         "37.93",
         "22.26",
         "27.95",
         "48.58",
         "24.45",
         "29.7",
         "29.91",
         "30.34",
         "30.95",
         "19.87",
         "26.05",
         "21.22",
         "31.69",
         "21.35",
         "40.25",
         "36.15",
         "74.93",
         "175.23",
         "99.29",
         "40.21",
         "37.02",
         "21.03",
         "59.76",
         "76.15",
         "77.82",
         "10.62",
         "17.09",
         "26.65",
         "27.73",
         "54.37",
         "50.92",
         "51.3",
         "7.0",
         "55.81",
         "27.23",
         "26.7",
         "30.05",
         "20.69",
         "22.02",
         "175.38",
         "19.88",
         "30.29",
         "37.32",
         "44.02",
         "61.46",
         "109.46",
         "81.82",
         "160.12",
         "71.93",
         "50.01",
         "23.85",
         "80.76",
         "31.91",
         "12.32",
         "20.76",
         "24.24",
         "7.62"
        ],
        [
         "2015-06-10 00:00:00",
         "50.4",
         "25.42",
         "27.68",
         "31.92",
         "82.29",
         "20.95",
         "25.89",
         "28.78",
         "33.97",
         "28.9",
         "7.04",
         "20.19",
         "46.19",
         "33.32",
         "38.41",
         "22.51",
         "28.39",
         "49.17",
         "24.7",
         "30.01",
         "30.23",
         "30.76",
         "31.28",
         "20.16",
         "26.36",
         "21.63",
         "32.22",
         "21.73",
         "40.74",
         "36.57",
         "75.83",
         "177.31",
         "100.44",
         "40.72",
         "37.39",
         "21.26",
         "60.49",
         "76.36",
         "78.79",
         "10.64",
         "17.26",
         "27.03",
         "28.04",
         "55.11",
         "50.92",
         "51.3",
         "7.08",
         "56.42",
         "27.54",
         "27.11",
         "30.48",
         "20.91",
         "22.26",
         "177.49",
         "20.13",
         "30.29",
         "37.78",
         "44.72",
         "62.39",
         "110.57",
         "82.78",
         "162.02",
         "72.8",
         "50.82",
         "24.15",
         "81.71",
         "32.01",
         "12.48",
         "20.99",
         "24.5",
         "7.64"
        ],
        [
         "2015-06-11 00:00:00",
         "50.55",
         "25.56",
         "27.74",
         "32.03",
         "82.16",
         "21.02",
         "25.94",
         "28.82",
         "34.04",
         "28.93",
         "7.05",
         "20.27",
         "46.24",
         "33.35",
         "38.5",
         "22.46",
         "28.41",
         "49.26",
         "24.78",
         "30.15",
         "30.19",
         "30.73",
         "31.32",
         "20.28",
         "26.42",
         "21.71",
         "32.25",
         "21.73",
         "40.85",
         "36.7",
         "76.02",
         "177.91",
         "100.76",
         "40.83",
         "37.53",
         "21.4",
         "60.58",
         "76.36",
         "79.02",
         "10.67",
         "17.3",
         "27.06",
         "28.09",
         "55.33",
         "50.92",
         "51.3",
         "7.1",
         "56.58",
         "26.98",
         "27.33",
         "30.43",
         "20.99",
         "22.31",
         "178.06",
         "20.15",
         "30.29",
         "37.85",
         "44.78",
         "62.46",
         "111.0",
         "82.95",
         "162.53",
         "72.9",
         "50.91",
         "24.14",
         "81.9",
         "32.0",
         "12.49",
         "21.05",
         "24.57",
         "7.65"
        ],
        [
         "2015-06-12 00:00:00",
         "50.2",
         "25.4",
         "27.66",
         "31.91",
         "81.68",
         "20.86",
         "25.79",
         "28.63",
         "33.84",
         "28.78",
         "7.01",
         "20.11",
         "45.96",
         "33.51",
         "38.23",
         "22.21",
         "28.17",
         "49.19",
         "24.65",
         "30.16",
         "30.1",
         "30.75",
         "31.07",
         "20.13",
         "26.32",
         "21.55",
         "31.97",
         "21.66",
         "40.59",
         "36.41",
         "75.49",
         "176.56",
         "100.05",
         "40.49",
         "37.32",
         "21.26",
         "60.21",
         "76.36",
         "78.39",
         "10.64",
         "17.18",
         "26.91",
         "27.91",
         "54.89",
         "50.92",
         "50.28",
         "7.05",
         "56.32",
         "26.71",
         "27.33",
         "30.24",
         "20.81",
         "22.17",
         "176.7",
         "20.0",
         "30.29",
         "37.64",
         "44.49",
         "62.03",
         "110.41",
         "82.44",
         "161.34",
         "72.49",
         "50.58",
         "24.09",
         "81.36",
         "31.99",
         "12.41",
         "20.97",
         "24.49",
         "7.63"
        ]
       ],
       "shape": {
        "columns": 71,
        "rows": 5
       }
      },
      "text/html": [
       "<div>\n",
       "<style scoped>\n",
       "    .dataframe tbody tr th:only-of-type {\n",
       "        vertical-align: middle;\n",
       "    }\n",
       "\n",
       "    .dataframe tbody tr th {\n",
       "        vertical-align: top;\n",
       "    }\n",
       "\n",
       "    .dataframe thead th {\n",
       "        text-align: right;\n",
       "    }\n",
       "</style>\n",
       "<table border=\"1\" class=\"dataframe\">\n",
       "  <thead>\n",
       "    <tr style=\"text-align: right;\">\n",
       "      <th></th>\n",
       "      <th>ACWI</th>\n",
       "      <th>AOK</th>\n",
       "      <th>AOM</th>\n",
       "      <th>AOR</th>\n",
       "      <th>CRBN</th>\n",
       "      <th>DGRO</th>\n",
       "      <th>DGRW</th>\n",
       "      <th>DLN</th>\n",
       "      <th>DSI</th>\n",
       "      <th>DTD</th>\n",
       "      <th>...</th>\n",
       "      <th>VOO</th>\n",
       "      <th>VOOV</th>\n",
       "      <th>VT</th>\n",
       "      <th>VUSE</th>\n",
       "      <th>VV</th>\n",
       "      <th>WTMF</th>\n",
       "      <th>XLG</th>\n",
       "      <th>XRLV</th>\n",
       "      <th>XSMO</th>\n",
       "      <th>YYY</th>\n",
       "    </tr>\n",
       "    <tr>\n",
       "      <th>Date</th>\n",
       "      <th></th>\n",
       "      <th></th>\n",
       "      <th></th>\n",
       "      <th></th>\n",
       "      <th></th>\n",
       "      <th></th>\n",
       "      <th></th>\n",
       "      <th></th>\n",
       "      <th></th>\n",
       "      <th></th>\n",
       "      <th></th>\n",
       "      <th></th>\n",
       "      <th></th>\n",
       "      <th></th>\n",
       "      <th></th>\n",
       "      <th></th>\n",
       "      <th></th>\n",
       "      <th></th>\n",
       "      <th></th>\n",
       "      <th></th>\n",
       "      <th></th>\n",
       "    </tr>\n",
       "  </thead>\n",
       "  <tbody>\n",
       "    <tr>\n",
       "      <th>2015-06-08</th>\n",
       "      <td>49.79</td>\n",
       "      <td>25.42</td>\n",
       "      <td>27.62</td>\n",
       "      <td>31.77</td>\n",
       "      <td>81.11</td>\n",
       "      <td>20.71</td>\n",
       "      <td>25.59</td>\n",
       "      <td>28.46</td>\n",
       "      <td>33.57</td>\n",
       "      <td>28.64</td>\n",
       "      <td>...</td>\n",
       "      <td>160.16</td>\n",
       "      <td>71.99</td>\n",
       "      <td>50.13</td>\n",
       "      <td>23.86</td>\n",
       "      <td>80.77</td>\n",
       "      <td>31.84</td>\n",
       "      <td>12.32</td>\n",
       "      <td>20.74</td>\n",
       "      <td>24.34</td>\n",
       "      <td>7.64</td>\n",
       "    </tr>\n",
       "    <tr>\n",
       "      <th>2015-06-09</th>\n",
       "      <td>49.66</td>\n",
       "      <td>25.35</td>\n",
       "      <td>27.53</td>\n",
       "      <td>31.67</td>\n",
       "      <td>80.87</td>\n",
       "      <td>20.73</td>\n",
       "      <td>25.59</td>\n",
       "      <td>28.46</td>\n",
       "      <td>33.54</td>\n",
       "      <td>28.59</td>\n",
       "      <td>...</td>\n",
       "      <td>160.12</td>\n",
       "      <td>71.93</td>\n",
       "      <td>50.01</td>\n",
       "      <td>23.85</td>\n",
       "      <td>80.76</td>\n",
       "      <td>31.91</td>\n",
       "      <td>12.32</td>\n",
       "      <td>20.76</td>\n",
       "      <td>24.24</td>\n",
       "      <td>7.62</td>\n",
       "    </tr>\n",
       "    <tr>\n",
       "      <th>2015-06-10</th>\n",
       "      <td>50.40</td>\n",
       "      <td>25.42</td>\n",
       "      <td>27.68</td>\n",
       "      <td>31.92</td>\n",
       "      <td>82.29</td>\n",
       "      <td>20.95</td>\n",
       "      <td>25.89</td>\n",
       "      <td>28.78</td>\n",
       "      <td>33.97</td>\n",
       "      <td>28.90</td>\n",
       "      <td>...</td>\n",
       "      <td>162.02</td>\n",
       "      <td>72.80</td>\n",
       "      <td>50.82</td>\n",
       "      <td>24.15</td>\n",
       "      <td>81.71</td>\n",
       "      <td>32.01</td>\n",
       "      <td>12.48</td>\n",
       "      <td>20.99</td>\n",
       "      <td>24.50</td>\n",
       "      <td>7.64</td>\n",
       "    </tr>\n",
       "    <tr>\n",
       "      <th>2015-06-11</th>\n",
       "      <td>50.55</td>\n",
       "      <td>25.56</td>\n",
       "      <td>27.74</td>\n",
       "      <td>32.03</td>\n",
       "      <td>82.16</td>\n",
       "      <td>21.02</td>\n",
       "      <td>25.94</td>\n",
       "      <td>28.82</td>\n",
       "      <td>34.04</td>\n",
       "      <td>28.93</td>\n",
       "      <td>...</td>\n",
       "      <td>162.53</td>\n",
       "      <td>72.90</td>\n",
       "      <td>50.91</td>\n",
       "      <td>24.14</td>\n",
       "      <td>81.90</td>\n",
       "      <td>32.00</td>\n",
       "      <td>12.49</td>\n",
       "      <td>21.05</td>\n",
       "      <td>24.57</td>\n",
       "      <td>7.65</td>\n",
       "    </tr>\n",
       "    <tr>\n",
       "      <th>2015-06-12</th>\n",
       "      <td>50.20</td>\n",
       "      <td>25.40</td>\n",
       "      <td>27.66</td>\n",
       "      <td>31.91</td>\n",
       "      <td>81.68</td>\n",
       "      <td>20.86</td>\n",
       "      <td>25.79</td>\n",
       "      <td>28.63</td>\n",
       "      <td>33.84</td>\n",
       "      <td>28.78</td>\n",
       "      <td>...</td>\n",
       "      <td>161.34</td>\n",
       "      <td>72.49</td>\n",
       "      <td>50.58</td>\n",
       "      <td>24.09</td>\n",
       "      <td>81.36</td>\n",
       "      <td>31.99</td>\n",
       "      <td>12.41</td>\n",
       "      <td>20.97</td>\n",
       "      <td>24.49</td>\n",
       "      <td>7.63</td>\n",
       "    </tr>\n",
       "  </tbody>\n",
       "</table>\n",
       "<p>5 rows × 71 columns</p>\n",
       "</div>"
      ],
      "text/plain": [
       "             ACWI    AOK    AOM    AOR   CRBN   DGRO   DGRW    DLN    DSI  \\\n",
       "Date                                                                        \n",
       "2015-06-08  49.79  25.42  27.62  31.77  81.11  20.71  25.59  28.46  33.57   \n",
       "2015-06-09  49.66  25.35  27.53  31.67  80.87  20.73  25.59  28.46  33.54   \n",
       "2015-06-10  50.40  25.42  27.68  31.92  82.29  20.95  25.89  28.78  33.97   \n",
       "2015-06-11  50.55  25.56  27.74  32.03  82.16  21.02  25.94  28.82  34.04   \n",
       "2015-06-12  50.20  25.40  27.66  31.91  81.68  20.86  25.79  28.63  33.84   \n",
       "\n",
       "              DTD  ...     VOO   VOOV     VT   VUSE     VV   WTMF    XLG  \\\n",
       "Date               ...                                                     \n",
       "2015-06-08  28.64  ...  160.16  71.99  50.13  23.86  80.77  31.84  12.32   \n",
       "2015-06-09  28.59  ...  160.12  71.93  50.01  23.85  80.76  31.91  12.32   \n",
       "2015-06-10  28.90  ...  162.02  72.80  50.82  24.15  81.71  32.01  12.48   \n",
       "2015-06-11  28.93  ...  162.53  72.90  50.91  24.14  81.90  32.00  12.49   \n",
       "2015-06-12  28.78  ...  161.34  72.49  50.58  24.09  81.36  31.99  12.41   \n",
       "\n",
       "             XRLV   XSMO   YYY  \n",
       "Date                            \n",
       "2015-06-08  20.74  24.34  7.64  \n",
       "2015-06-09  20.76  24.24  7.62  \n",
       "2015-06-10  20.99  24.50  7.64  \n",
       "2015-06-11  21.05  24.57  7.65  \n",
       "2015-06-12  20.97  24.49  7.63  \n",
       "\n",
       "[5 rows x 71 columns]"
      ]
     },
     "execution_count": 12,
     "metadata": {},
     "output_type": "execute_result"
    }
   ],
   "source": [
    "# Identify columns with null values in first or last 50 rows\n",
    "first_50_nulls = benchmark_prices_daily_df.head(50).isnull().any()\n",
    "last_50_nulls = benchmark_prices_daily_df.tail(50).isnull().any()\n",
    "\n",
    "# Columns to drop are those with nulls in first 50 OR last 50 rows\n",
    "columns_to_drop = first_50_nulls | last_50_nulls\n",
    "bad_columns = columns_to_drop[columns_to_drop].index.tolist()\n",
    "\n",
    "print(f\"Dropping {len(bad_columns)} columns with missing values in first/last 50 records: {bad_columns}\")\n",
    "\n",
    "# Drop those columns\n",
    "benchmark_prices_daily_df = benchmark_prices_daily_df.loc[:, ~columns_to_drop]\n",
    "\n",
    "# Display the first few rows of the cleaned dataframe\n",
    "benchmark_prices_daily_df.head()"
   ]
  },
  {
   "cell_type": "markdown",
   "id": "66c53499",
   "metadata": {},
   "source": [
    "#### Monthly Quotes"
   ]
  },
  {
   "cell_type": "code",
   "execution_count": 13,
   "id": "f67e5873",
   "metadata": {
    "execution": {
     "iopub.execute_input": "2025-06-02T13:28:31.265319Z",
     "iopub.status.busy": "2025-06-02T13:28:31.264968Z",
     "iopub.status.idle": "2025-06-02T13:28:31.289915Z",
     "shell.execute_reply": "2025-06-02T13:28:31.289100Z"
    }
   },
   "outputs": [
    {
     "data": {
      "application/vnd.microsoft.datawrangler.viewer.v0+json": {
       "columns": [
        {
         "name": "Date",
         "rawType": "datetime64[ns]",
         "type": "datetime"
        },
        {
         "name": "ACWI",
         "rawType": "float64",
         "type": "float"
        },
        {
         "name": "AOK",
         "rawType": "float64",
         "type": "float"
        },
        {
         "name": "AOM",
         "rawType": "float64",
         "type": "float"
        },
        {
         "name": "AOR",
         "rawType": "float64",
         "type": "float"
        },
        {
         "name": "CRBN",
         "rawType": "float64",
         "type": "float"
        },
        {
         "name": "DGRO",
         "rawType": "float64",
         "type": "float"
        },
        {
         "name": "DGRW",
         "rawType": "float64",
         "type": "float"
        },
        {
         "name": "DLN",
         "rawType": "float64",
         "type": "float"
        },
        {
         "name": "DSI",
         "rawType": "float64",
         "type": "float"
        },
        {
         "name": "DTD",
         "rawType": "float64",
         "type": "float"
        },
        {
         "name": "DWAT",
         "rawType": "float64",
         "type": "float"
        },
        {
         "name": "EPS",
         "rawType": "float64",
         "type": "float"
        },
        {
         "name": "EQL",
         "rawType": "float64",
         "type": "float"
        },
        {
         "name": "EQWL",
         "rawType": "float64",
         "type": "float"
        },
        {
         "name": "EUSA",
         "rawType": "float64",
         "type": "float"
        },
        {
         "name": "EWC",
         "rawType": "float64",
         "type": "float"
        },
        {
         "name": "EWL",
         "rawType": "float64",
         "type": "float"
        },
        {
         "name": "FAD",
         "rawType": "float64",
         "type": "float"
        },
        {
         "name": "FIDU",
         "rawType": "float64",
         "type": "float"
        },
        {
         "name": "FNY",
         "rawType": "float64",
         "type": "float"
        },
        {
         "name": "FTLS",
         "rawType": "float64",
         "type": "float"
        },
        {
         "name": "FYC",
         "rawType": "float64",
         "type": "float"
        },
        {
         "name": "IGF",
         "rawType": "float64",
         "type": "float"
        },
        {
         "name": "IHDG",
         "rawType": "float64",
         "type": "float"
        },
        {
         "name": "IMCG",
         "rawType": "float64",
         "type": "float"
        },
        {
         "name": "IMTM",
         "rawType": "float64",
         "type": "float"
        },
        {
         "name": "IOO",
         "rawType": "float64",
         "type": "float"
        },
        {
         "name": "IQLT",
         "rawType": "float64",
         "type": "float"
        },
        {
         "name": "ITOT",
         "rawType": "float64",
         "type": "float"
        },
        {
         "name": "IUSV",
         "rawType": "float64",
         "type": "float"
        },
        {
         "name": "IVE",
         "rawType": "float64",
         "type": "float"
        },
        {
         "name": "IVV",
         "rawType": "float64",
         "type": "float"
        },
        {
         "name": "IWB",
         "rawType": "float64",
         "type": "float"
        },
        {
         "name": "IWL",
         "rawType": "float64",
         "type": "float"
        },
        {
         "name": "IWR",
         "rawType": "float64",
         "type": "float"
        },
        {
         "name": "LRGF",
         "rawType": "float64",
         "type": "float"
        },
        {
         "name": "MGC",
         "rawType": "float64",
         "type": "float"
        },
        {
         "name": "MMTM",
         "rawType": "float64",
         "type": "float"
        },
        {
         "name": "OEF",
         "rawType": "float64",
         "type": "float"
        },
        {
         "name": "PCEF",
         "rawType": "float64",
         "type": "float"
        },
        {
         "name": "PFM",
         "rawType": "float64",
         "type": "float"
        },
        {
         "name": "QDEF",
         "rawType": "float64",
         "type": "float"
        },
        {
         "name": "QDF",
         "rawType": "float64",
         "type": "float"
        },
        {
         "name": "QUAL",
         "rawType": "float64",
         "type": "float"
        },
        {
         "name": "QUS",
         "rawType": "float64",
         "type": "float"
        },
        {
         "name": "QWLD",
         "rawType": "float64",
         "type": "float"
        },
        {
         "name": "SCHX",
         "rawType": "float64",
         "type": "float"
        },
        {
         "name": "SIZE",
         "rawType": "float64",
         "type": "float"
        },
        {
         "name": "SMIN",
         "rawType": "float64",
         "type": "float"
        },
        {
         "name": "SPGM",
         "rawType": "float64",
         "type": "float"
        },
        {
         "name": "SPHB",
         "rawType": "float64",
         "type": "float"
        },
        {
         "name": "SPLG",
         "rawType": "float64",
         "type": "float"
        },
        {
         "name": "SPTM",
         "rawType": "float64",
         "type": "float"
        },
        {
         "name": "SPY",
         "rawType": "float64",
         "type": "float"
        },
        {
         "name": "SPYV",
         "rawType": "float64",
         "type": "float"
        },
        {
         "name": "SSPY",
         "rawType": "float64",
         "type": "float"
        },
        {
         "name": "SUSA",
         "rawType": "float64",
         "type": "float"
        },
        {
         "name": "TOK",
         "rawType": "float64",
         "type": "float"
        },
        {
         "name": "URTH",
         "rawType": "float64",
         "type": "float"
        },
        {
         "name": "VO",
         "rawType": "float64",
         "type": "float"
        },
        {
         "name": "VONE",
         "rawType": "float64",
         "type": "float"
        },
        {
         "name": "VOO",
         "rawType": "float64",
         "type": "float"
        },
        {
         "name": "VOOV",
         "rawType": "float64",
         "type": "float"
        },
        {
         "name": "VT",
         "rawType": "float64",
         "type": "float"
        },
        {
         "name": "VUSE",
         "rawType": "float64",
         "type": "float"
        },
        {
         "name": "VV",
         "rawType": "float64",
         "type": "float"
        },
        {
         "name": "WTMF",
         "rawType": "float64",
         "type": "float"
        },
        {
         "name": "XLG",
         "rawType": "float64",
         "type": "float"
        },
        {
         "name": "XRLV",
         "rawType": "float64",
         "type": "float"
        },
        {
         "name": "XSMO",
         "rawType": "float64",
         "type": "float"
        },
        {
         "name": "YYY",
         "rawType": "float64",
         "type": "float"
        }
       ],
       "ref": "af003275-1944-42f9-9f11-8d1dc5b3c507",
       "rows": [
        [
         "2015-06-01 00:00:00",
         "49.25",
         "25.34",
         "27.53",
         "31.58",
         "80.51",
         "20.52",
         "25.4",
         "28.2",
         "33.28",
         "28.37",
         "6.95",
         "19.8",
         "45.3",
         "32.73",
         "37.81",
         "21.66",
         "27.08",
         "49.02",
         "24.02",
         "29.94",
         "29.65",
         "30.77",
         "30.57",
         "19.57",
         "26.03",
         "21.88",
         "31.21",
         "21.15",
         "39.99",
         "35.8",
         "74.11",
         "174.01",
         "98.59",
         "39.98",
         "36.65",
         "21.02",
         "59.35",
         "76.85",
         "77.28",
         "10.48",
         "16.95",
         "26.5",
         "27.41",
         "54.13",
         "50.06",
         "50.93",
         "6.95",
         "55.5",
         "28.11",
         "26.99",
         "29.42",
         "20.53",
         "21.91",
         "174.04",
         "19.67",
         "29.6",
         "37.0",
         "43.94",
         "60.43",
         "108.84",
         "81.17",
         "159.0",
         "71.17",
         "49.75",
         "23.66",
         "80.17",
         "31.22",
         "12.23",
         "20.77",
         "24.24",
         "7.49"
        ],
        [
         "2015-07-01 00:00:00",
         "49.65",
         "25.55",
         "27.74",
         "31.89",
         "81.26",
         "20.92",
         "25.63",
         "28.5",
         "34.01",
         "28.67",
         "7.09",
         "20.04",
         "45.84",
         "33.49",
         "38.4",
         "20.75",
         "28.19",
         "50.14",
         "23.92",
         "30.49",
         "30.06",
         "31.15",
         "30.71",
         "20.52",
         "26.53",
         "21.75",
         "31.67",
         "21.5",
         "40.76",
         "35.87",
         "74.44",
         "177.83",
         "100.52",
         "40.97",
         "36.92",
         "21.28",
         "60.66",
         "78.71",
         "79.49",
         "10.44",
         "17.16",
         "26.9",
         "27.85",
         "55.68",
         "49.83",
         "50.69",
         "7.09",
         "56.88",
         "30.06",
         "26.62",
         "28.21",
         "20.93",
         "22.24",
         "177.97",
         "19.76",
         "29.87",
         "37.46",
         "44.97",
         "62.02",
         "110.11",
         "82.8",
         "162.46",
         "71.48",
         "50.01",
         "23.3",
         "81.86",
         "30.1",
         "12.63",
         "21.44",
         "24.66",
         "7.33"
        ],
        [
         "2015-08-01 00:00:00",
         "46.27",
         "24.9",
         "26.93",
         "30.54",
         "76.17",
         "19.71",
         "24.06",
         "26.81",
         "31.94",
         "26.97",
         "6.66",
         "18.8",
         "43.29",
         "31.18",
         "36.19",
         "19.71",
         "26.31",
         "47.27",
         "22.68",
         "28.26",
         "29.0",
         "29.18",
         "29.09",
         "18.99",
         "24.86",
         "20.4",
         "29.5",
         "19.83",
         "38.28",
         "33.81",
         "69.94",
         "166.9",
         "94.47",
         "38.36",
         "34.98",
         "20.05",
         "56.83",
         "73.76",
         "74.2",
         "10.07",
         "16.29",
         "25.47",
         "26.42",
         "52.67",
         "48.29",
         "47.78",
         "6.66",
         "53.7",
         "27.29",
         "25.23",
         "26.78",
         "19.7",
         "20.93",
         "167.12",
         "18.56",
         "28.25",
         "35.12",
         "41.85",
         "57.94",
         "104.44",
         "77.75",
         "152.49",
         "67.19",
         "46.69",
         "22.28",
         "76.92",
         "30.07",
         "11.78",
         "20.31",
         "23.29",
         "6.98"
        ],
        [
         "2015-09-01 00:00:00",
         "44.68",
         "24.73",
         "26.62",
         "29.97",
         "72.79",
         "19.38",
         "23.57",
         "26.36",
         "31.16",
         "26.5",
         "6.39",
         "18.26",
         "42.08",
         "30.19",
         "34.58",
         "18.68",
         "25.29",
         "45.48",
         "21.91",
         "27.39",
         "28.92",
         "28.23",
         "28.39",
         "18.7",
         "23.72",
         "19.29",
         "28.69",
         "19.16",
         "37.28",
         "32.72",
         "67.97",
         "162.73",
         "91.82",
         "37.39",
         "33.71",
         "19.58",
         "55.42",
         "71.37",
         "72.54",
         "9.85",
         "16.0",
         "25.07",
         "25.75",
         "51.99",
         "46.58",
         "47.35",
         "6.48",
         "52.63",
         "27.95",
         "24.8",
         "25.05",
         "18.99",
         "20.19",
         "162.86",
         "17.96",
         "27.43",
         "34.38",
         "40.14",
         "55.88",
         "100.59",
         "75.62",
         "148.73",
         "65.24",
         "44.96",
         "21.21",
         "74.82",
         "30.3",
         "11.54",
         "19.89",
         "21.7",
         "6.74"
        ],
        [
         "2015-10-01 00:00:00",
         "48.1",
         "25.37",
         "27.42",
         "31.24",
         "78.9",
         "20.93",
         "25.67",
         "28.5",
         "33.89",
         "28.63",
         "6.67",
         "19.92",
         "45.46",
         "32.85",
         "37.29",
         "19.33",
         "26.27",
         "48.3",
         "23.85",
         "28.66",
         "30.15",
         "29.94",
         "29.61",
         "20.08",
         "24.99",
         "20.21",
         "31.31",
         "20.7",
         "40.35",
         "35.17",
         "72.98",
         "176.53",
         "99.26",
         "40.72",
         "35.78",
         "20.82",
         "60.31",
         "77.74",
         "79.43",
         "10.33",
         "17.16",
         "26.92",
         "27.84",
         "56.48",
         "51.12",
         "50.45",
         "7.01",
         "56.2",
         "28.55",
         "26.16",
         "27.65",
         "20.78",
         "21.94",
         "176.71",
         "19.37",
         "29.38",
         "37.21",
         "43.23",
         "59.78",
         "106.6",
         "81.74",
         "161.3",
         "70.08",
         "48.23",
         "22.56",
         "81.02",
         "30.22",
         "12.68",
         "21.35",
         "22.79",
         "7.23"
        ]
       ],
       "shape": {
        "columns": 71,
        "rows": 5
       }
      },
      "text/html": [
       "<div>\n",
       "<style scoped>\n",
       "    .dataframe tbody tr th:only-of-type {\n",
       "        vertical-align: middle;\n",
       "    }\n",
       "\n",
       "    .dataframe tbody tr th {\n",
       "        vertical-align: top;\n",
       "    }\n",
       "\n",
       "    .dataframe thead th {\n",
       "        text-align: right;\n",
       "    }\n",
       "</style>\n",
       "<table border=\"1\" class=\"dataframe\">\n",
       "  <thead>\n",
       "    <tr style=\"text-align: right;\">\n",
       "      <th></th>\n",
       "      <th>ACWI</th>\n",
       "      <th>AOK</th>\n",
       "      <th>AOM</th>\n",
       "      <th>AOR</th>\n",
       "      <th>CRBN</th>\n",
       "      <th>DGRO</th>\n",
       "      <th>DGRW</th>\n",
       "      <th>DLN</th>\n",
       "      <th>DSI</th>\n",
       "      <th>DTD</th>\n",
       "      <th>...</th>\n",
       "      <th>VOO</th>\n",
       "      <th>VOOV</th>\n",
       "      <th>VT</th>\n",
       "      <th>VUSE</th>\n",
       "      <th>VV</th>\n",
       "      <th>WTMF</th>\n",
       "      <th>XLG</th>\n",
       "      <th>XRLV</th>\n",
       "      <th>XSMO</th>\n",
       "      <th>YYY</th>\n",
       "    </tr>\n",
       "    <tr>\n",
       "      <th>Date</th>\n",
       "      <th></th>\n",
       "      <th></th>\n",
       "      <th></th>\n",
       "      <th></th>\n",
       "      <th></th>\n",
       "      <th></th>\n",
       "      <th></th>\n",
       "      <th></th>\n",
       "      <th></th>\n",
       "      <th></th>\n",
       "      <th></th>\n",
       "      <th></th>\n",
       "      <th></th>\n",
       "      <th></th>\n",
       "      <th></th>\n",
       "      <th></th>\n",
       "      <th></th>\n",
       "      <th></th>\n",
       "      <th></th>\n",
       "      <th></th>\n",
       "      <th></th>\n",
       "    </tr>\n",
       "  </thead>\n",
       "  <tbody>\n",
       "    <tr>\n",
       "      <th>2015-06-01</th>\n",
       "      <td>49.25</td>\n",
       "      <td>25.34</td>\n",
       "      <td>27.53</td>\n",
       "      <td>31.58</td>\n",
       "      <td>80.51</td>\n",
       "      <td>20.52</td>\n",
       "      <td>25.40</td>\n",
       "      <td>28.20</td>\n",
       "      <td>33.28</td>\n",
       "      <td>28.37</td>\n",
       "      <td>...</td>\n",
       "      <td>159.00</td>\n",
       "      <td>71.17</td>\n",
       "      <td>49.75</td>\n",
       "      <td>23.66</td>\n",
       "      <td>80.17</td>\n",
       "      <td>31.22</td>\n",
       "      <td>12.23</td>\n",
       "      <td>20.77</td>\n",
       "      <td>24.24</td>\n",
       "      <td>7.49</td>\n",
       "    </tr>\n",
       "    <tr>\n",
       "      <th>2015-07-01</th>\n",
       "      <td>49.65</td>\n",
       "      <td>25.55</td>\n",
       "      <td>27.74</td>\n",
       "      <td>31.89</td>\n",
       "      <td>81.26</td>\n",
       "      <td>20.92</td>\n",
       "      <td>25.63</td>\n",
       "      <td>28.50</td>\n",
       "      <td>34.01</td>\n",
       "      <td>28.67</td>\n",
       "      <td>...</td>\n",
       "      <td>162.46</td>\n",
       "      <td>71.48</td>\n",
       "      <td>50.01</td>\n",
       "      <td>23.30</td>\n",
       "      <td>81.86</td>\n",
       "      <td>30.10</td>\n",
       "      <td>12.63</td>\n",
       "      <td>21.44</td>\n",
       "      <td>24.66</td>\n",
       "      <td>7.33</td>\n",
       "    </tr>\n",
       "    <tr>\n",
       "      <th>2015-08-01</th>\n",
       "      <td>46.27</td>\n",
       "      <td>24.90</td>\n",
       "      <td>26.93</td>\n",
       "      <td>30.54</td>\n",
       "      <td>76.17</td>\n",
       "      <td>19.71</td>\n",
       "      <td>24.06</td>\n",
       "      <td>26.81</td>\n",
       "      <td>31.94</td>\n",
       "      <td>26.97</td>\n",
       "      <td>...</td>\n",
       "      <td>152.49</td>\n",
       "      <td>67.19</td>\n",
       "      <td>46.69</td>\n",
       "      <td>22.28</td>\n",
       "      <td>76.92</td>\n",
       "      <td>30.07</td>\n",
       "      <td>11.78</td>\n",
       "      <td>20.31</td>\n",
       "      <td>23.29</td>\n",
       "      <td>6.98</td>\n",
       "    </tr>\n",
       "    <tr>\n",
       "      <th>2015-09-01</th>\n",
       "      <td>44.68</td>\n",
       "      <td>24.73</td>\n",
       "      <td>26.62</td>\n",
       "      <td>29.97</td>\n",
       "      <td>72.79</td>\n",
       "      <td>19.38</td>\n",
       "      <td>23.57</td>\n",
       "      <td>26.36</td>\n",
       "      <td>31.16</td>\n",
       "      <td>26.50</td>\n",
       "      <td>...</td>\n",
       "      <td>148.73</td>\n",
       "      <td>65.24</td>\n",
       "      <td>44.96</td>\n",
       "      <td>21.21</td>\n",
       "      <td>74.82</td>\n",
       "      <td>30.30</td>\n",
       "      <td>11.54</td>\n",
       "      <td>19.89</td>\n",
       "      <td>21.70</td>\n",
       "      <td>6.74</td>\n",
       "    </tr>\n",
       "    <tr>\n",
       "      <th>2015-10-01</th>\n",
       "      <td>48.10</td>\n",
       "      <td>25.37</td>\n",
       "      <td>27.42</td>\n",
       "      <td>31.24</td>\n",
       "      <td>78.90</td>\n",
       "      <td>20.93</td>\n",
       "      <td>25.67</td>\n",
       "      <td>28.50</td>\n",
       "      <td>33.89</td>\n",
       "      <td>28.63</td>\n",
       "      <td>...</td>\n",
       "      <td>161.30</td>\n",
       "      <td>70.08</td>\n",
       "      <td>48.23</td>\n",
       "      <td>22.56</td>\n",
       "      <td>81.02</td>\n",
       "      <td>30.22</td>\n",
       "      <td>12.68</td>\n",
       "      <td>21.35</td>\n",
       "      <td>22.79</td>\n",
       "      <td>7.23</td>\n",
       "    </tr>\n",
       "  </tbody>\n",
       "</table>\n",
       "<p>5 rows × 71 columns</p>\n",
       "</div>"
      ],
      "text/plain": [
       "             ACWI    AOK    AOM    AOR   CRBN   DGRO   DGRW    DLN    DSI  \\\n",
       "Date                                                                        \n",
       "2015-06-01  49.25  25.34  27.53  31.58  80.51  20.52  25.40  28.20  33.28   \n",
       "2015-07-01  49.65  25.55  27.74  31.89  81.26  20.92  25.63  28.50  34.01   \n",
       "2015-08-01  46.27  24.90  26.93  30.54  76.17  19.71  24.06  26.81  31.94   \n",
       "2015-09-01  44.68  24.73  26.62  29.97  72.79  19.38  23.57  26.36  31.16   \n",
       "2015-10-01  48.10  25.37  27.42  31.24  78.90  20.93  25.67  28.50  33.89   \n",
       "\n",
       "              DTD  ...     VOO   VOOV     VT   VUSE     VV   WTMF    XLG  \\\n",
       "Date               ...                                                     \n",
       "2015-06-01  28.37  ...  159.00  71.17  49.75  23.66  80.17  31.22  12.23   \n",
       "2015-07-01  28.67  ...  162.46  71.48  50.01  23.30  81.86  30.10  12.63   \n",
       "2015-08-01  26.97  ...  152.49  67.19  46.69  22.28  76.92  30.07  11.78   \n",
       "2015-09-01  26.50  ...  148.73  65.24  44.96  21.21  74.82  30.30  11.54   \n",
       "2015-10-01  28.63  ...  161.30  70.08  48.23  22.56  81.02  30.22  12.68   \n",
       "\n",
       "             XRLV   XSMO   YYY  \n",
       "Date                            \n",
       "2015-06-01  20.77  24.24  7.49  \n",
       "2015-07-01  21.44  24.66  7.33  \n",
       "2015-08-01  20.31  23.29  6.98  \n",
       "2015-09-01  19.89  21.70  6.74  \n",
       "2015-10-01  21.35  22.79  7.23  \n",
       "\n",
       "[5 rows x 71 columns]"
      ]
     },
     "metadata": {},
     "output_type": "display_data"
    }
   ],
   "source": [
    "benchmark_prices_monthly_df = (benchmark_prices_daily_df.set_index(pd.to_datetime(benchmark_prices_daily_df.pop('Date')))\n",
    "      if 'Date' in benchmark_prices_daily_df.columns else benchmark_prices_daily_df.copy())\n",
    "benchmark_prices_monthly_df.index = pd.to_datetime(benchmark_prices_monthly_df.index)              \n",
    "benchmark_prices_monthly_df = (benchmark_prices_monthly_df.resample('MS').last()\n",
    "   .reset_index()\n",
    "   .rename(columns={'index': 'Date'}))\n",
    "\n",
    "benchmark_prices_monthly_df.set_index('Date', inplace=True)\n",
    "display(benchmark_prices_monthly_df.head())"
   ]
  },
  {
   "cell_type": "markdown",
   "id": "49ab8af5",
   "metadata": {},
   "source": [
    "### Step 8: Calculate Returns (Lognormal)"
   ]
  },
  {
   "cell_type": "markdown",
   "id": "9ea4ce34",
   "metadata": {},
   "source": [
    "#### Benchmark"
   ]
  },
  {
   "cell_type": "code",
   "execution_count": 14,
   "id": "8374cc5a",
   "metadata": {
    "execution": {
     "iopub.execute_input": "2025-06-02T13:28:31.293059Z",
     "iopub.status.busy": "2025-06-02T13:28:31.292687Z",
     "iopub.status.idle": "2025-06-02T13:28:31.311861Z",
     "shell.execute_reply": "2025-06-02T13:28:31.310945Z"
    }
   },
   "outputs": [
    {
     "data": {
      "application/vnd.microsoft.datawrangler.viewer.v0+json": {
       "columns": [
        {
         "name": "Date",
         "rawType": "datetime64[ns]",
         "type": "datetime"
        },
        {
         "name": "ACWI",
         "rawType": "float64",
         "type": "float"
        },
        {
         "name": "AOK",
         "rawType": "float64",
         "type": "float"
        },
        {
         "name": "AOM",
         "rawType": "float64",
         "type": "float"
        },
        {
         "name": "AOR",
         "rawType": "float64",
         "type": "float"
        },
        {
         "name": "CRBN",
         "rawType": "float64",
         "type": "float"
        },
        {
         "name": "DGRO",
         "rawType": "float64",
         "type": "float"
        },
        {
         "name": "DGRW",
         "rawType": "float64",
         "type": "float"
        },
        {
         "name": "DLN",
         "rawType": "float64",
         "type": "float"
        },
        {
         "name": "DSI",
         "rawType": "float64",
         "type": "float"
        },
        {
         "name": "DTD",
         "rawType": "float64",
         "type": "float"
        },
        {
         "name": "DWAT",
         "rawType": "float64",
         "type": "float"
        },
        {
         "name": "EPS",
         "rawType": "float64",
         "type": "float"
        },
        {
         "name": "EQL",
         "rawType": "float64",
         "type": "float"
        },
        {
         "name": "EQWL",
         "rawType": "float64",
         "type": "float"
        },
        {
         "name": "EUSA",
         "rawType": "float64",
         "type": "float"
        },
        {
         "name": "EWC",
         "rawType": "float64",
         "type": "float"
        },
        {
         "name": "EWL",
         "rawType": "float64",
         "type": "float"
        },
        {
         "name": "FAD",
         "rawType": "float64",
         "type": "float"
        },
        {
         "name": "FIDU",
         "rawType": "float64",
         "type": "float"
        },
        {
         "name": "FNY",
         "rawType": "float64",
         "type": "float"
        },
        {
         "name": "FTLS",
         "rawType": "float64",
         "type": "float"
        },
        {
         "name": "FYC",
         "rawType": "float64",
         "type": "float"
        },
        {
         "name": "IGF",
         "rawType": "float64",
         "type": "float"
        },
        {
         "name": "IHDG",
         "rawType": "float64",
         "type": "float"
        },
        {
         "name": "IMCG",
         "rawType": "float64",
         "type": "float"
        },
        {
         "name": "IMTM",
         "rawType": "float64",
         "type": "float"
        },
        {
         "name": "IOO",
         "rawType": "float64",
         "type": "float"
        },
        {
         "name": "IQLT",
         "rawType": "float64",
         "type": "float"
        },
        {
         "name": "ITOT",
         "rawType": "float64",
         "type": "float"
        },
        {
         "name": "IUSV",
         "rawType": "float64",
         "type": "float"
        },
        {
         "name": "IVE",
         "rawType": "float64",
         "type": "float"
        },
        {
         "name": "IVV",
         "rawType": "float64",
         "type": "float"
        },
        {
         "name": "IWB",
         "rawType": "float64",
         "type": "float"
        },
        {
         "name": "IWL",
         "rawType": "float64",
         "type": "float"
        },
        {
         "name": "IWR",
         "rawType": "float64",
         "type": "float"
        },
        {
         "name": "LRGF",
         "rawType": "float64",
         "type": "float"
        },
        {
         "name": "MGC",
         "rawType": "float64",
         "type": "float"
        },
        {
         "name": "MMTM",
         "rawType": "float64",
         "type": "float"
        },
        {
         "name": "OEF",
         "rawType": "float64",
         "type": "float"
        },
        {
         "name": "PCEF",
         "rawType": "float64",
         "type": "float"
        },
        {
         "name": "PFM",
         "rawType": "float64",
         "type": "float"
        },
        {
         "name": "QDEF",
         "rawType": "float64",
         "type": "float"
        },
        {
         "name": "QDF",
         "rawType": "float64",
         "type": "float"
        },
        {
         "name": "QUAL",
         "rawType": "float64",
         "type": "float"
        },
        {
         "name": "QUS",
         "rawType": "float64",
         "type": "float"
        },
        {
         "name": "QWLD",
         "rawType": "float64",
         "type": "float"
        },
        {
         "name": "SCHX",
         "rawType": "float64",
         "type": "float"
        },
        {
         "name": "SIZE",
         "rawType": "float64",
         "type": "float"
        },
        {
         "name": "SMIN",
         "rawType": "float64",
         "type": "float"
        },
        {
         "name": "SPGM",
         "rawType": "float64",
         "type": "float"
        },
        {
         "name": "SPHB",
         "rawType": "float64",
         "type": "float"
        },
        {
         "name": "SPLG",
         "rawType": "float64",
         "type": "float"
        },
        {
         "name": "SPTM",
         "rawType": "float64",
         "type": "float"
        },
        {
         "name": "SPY",
         "rawType": "float64",
         "type": "float"
        },
        {
         "name": "SPYV",
         "rawType": "float64",
         "type": "float"
        },
        {
         "name": "SSPY",
         "rawType": "float64",
         "type": "float"
        },
        {
         "name": "SUSA",
         "rawType": "float64",
         "type": "float"
        },
        {
         "name": "TOK",
         "rawType": "float64",
         "type": "float"
        },
        {
         "name": "URTH",
         "rawType": "float64",
         "type": "float"
        },
        {
         "name": "VO",
         "rawType": "float64",
         "type": "float"
        },
        {
         "name": "VONE",
         "rawType": "float64",
         "type": "float"
        },
        {
         "name": "VOO",
         "rawType": "float64",
         "type": "float"
        },
        {
         "name": "VOOV",
         "rawType": "float64",
         "type": "float"
        },
        {
         "name": "VT",
         "rawType": "float64",
         "type": "float"
        },
        {
         "name": "VUSE",
         "rawType": "float64",
         "type": "float"
        },
        {
         "name": "VV",
         "rawType": "float64",
         "type": "float"
        },
        {
         "name": "WTMF",
         "rawType": "float64",
         "type": "float"
        },
        {
         "name": "XLG",
         "rawType": "float64",
         "type": "float"
        },
        {
         "name": "XRLV",
         "rawType": "float64",
         "type": "float"
        },
        {
         "name": "XSMO",
         "rawType": "float64",
         "type": "float"
        },
        {
         "name": "YYY",
         "rawType": "float64",
         "type": "float"
        }
       ],
       "ref": "c8afbbf3-4335-42b7-a30b-170eb2323ff5",
       "rows": [
        [
         "2015-07-01 00:00:00",
         "0.008089022873083603",
         "0.008253141756720482",
         "0.007599095732169452",
         "0.009768472194470383",
         "0.009272490247691358",
         "0.01930561889415347",
         "0.009014366351488915",
         "0.010582109330537008",
         "0.021697983066096126",
         "0.0105190310745186",
         "0.019943680967335328",
         "0.012048338516174355",
         "0.011850039917496023",
         "0.022954798293024208",
         "0.015483841690839677",
         "-0.04292099489613729",
         "0.04017185708194708",
         "0.02259071463018076",
         "-0.004171887569406381",
         "0.01820338200868104",
         "0.013733258881093996",
         "0.012274055899511698",
         "0.0045691985499878825",
         "0.0474022388945839",
         "0.019026449143174376",
         "-0.005959220019087257",
         "0.014631304267860471",
         "0.01641302964133027",
         "0.019071785495797067",
         "0.001953398137536515",
         "0.004442955810782461",
         "0.021715268928082274",
         "0.019386876088441356",
         "0.024460762486525664",
         "0.007339981301990974",
         "0.012293299024638656",
         "0.021832381204757903",
         "0.02391474216975392",
         "0.028196037680758734",
         "-0.0038240964384035057",
         "0.012313260233357106",
         "0.014981553615616894",
         "0.015925056058598633",
         "0.02823245521727765",
         "-0.004605073710314999",
         "-0.0047234884122552764",
         "0.019943680967335328",
         "0.024560764742596577",
         "0.06706999940638798",
         "-0.01380361406294765",
         "-0.04199819015938662",
         "0.019296305427066073",
         "0.014949315775006307",
         "0.022329838909414968",
         "0.004565059918754055",
         "0.009080270898003787",
         "0.012355784371718104",
         "0.023170533826151966",
         "0.02597124329883582",
         "0.011600952210454181",
         "0.01988234061812963",
         "0.021527615402576417",
         "0.004346308980047529",
         "0.005212521826210598",
         "-0.015332497978585852",
         "0.020861091009396635",
         "-0.036533743332455834",
         "0.03218298666331887",
         "0.031748698314580485",
         "0.01717833653508455",
         "-0.02159328163056802"
        ],
        [
         "2015-08-01 00:00:00",
         "-0.07050458757227324",
         "-0.025769513179051566",
         "-0.02963450806317796",
         "-0.04325518123147992",
         "-0.06468620617488394",
         "-0.05957951803209336",
         "-0.06321282982944695",
         "-0.061129135026737016",
         "-0.06279545623223766",
         "-0.06112614274364",
         "-0.06256585599173826",
         "-0.06387340638076049",
         "-0.05723541095259498",
         "-0.07147002317648281",
         "-0.05927462201803017",
         "-0.05142012551207841",
         "-0.0690182100738199",
         "-0.058943247925002336",
         "-0.05323145022287974",
         "-0.07595138374378195",
         "-0.03589955433835433",
         "-0.06533070213882253",
         "-0.054193861945620814",
         "-0.07748749547837427",
         "-0.06501608206708331",
         "-0.0640788566845224",
         "-0.07097959720477433",
         "-0.08085699260191265",
         "-0.06277364176977042",
         "-0.05914467482439644",
         "-0.062355700138820275",
         "-0.06343320708777994",
         "-0.06207438889434838",
         "-0.06582484154354223",
         "-0.05397694004419558",
         "-0.05953851072086543",
         "-0.06522014695140489",
         "-0.0649536329060202",
         "-0.06886707741168639",
         "-0.0360838757240217",
         "-0.05202967144586249",
         "-0.054624997616427765",
         "-0.05271166727911374",
         "-0.055574982530866235",
         "-0.0313927124078626",
         "-0.05912151058659449",
         "-0.06256585599173826",
         "-0.05753078398016647",
         "-0.09667504960458131",
         "-0.053629050313999255",
         "-0.05202118475087847",
         "-0.060564900713965544",
         "-0.060708932924473165",
         "-0.06290287951358384",
         "-0.06265096496166737",
         "-0.05576117463556856",
         "-0.06450292824902662",
         "-0.07190380384713163",
         "-0.06804892133109859",
         "-0.05286712229457164",
         "-0.06292951033187043",
         "-0.06333279749588697",
         "-0.06189326335916877",
         "-0.06869297644796674",
         "-0.04476394551257153",
         "-0.06224455034367791",
         "-0.000997174754392429",
         "-0.06967175813895925",
         "-0.05414496061030809",
         "-0.05715841383994864",
         "-0.04892659912427896"
        ],
        [
         "2015-09-01 00:00:00",
         "-0.03496782871790831",
         "-0.006850721937337045",
         "-0.011578093856541906",
         "-0.01884041846191453",
         "-0.04538910125453019",
         "-0.01688451470200872",
         "-0.020575993598493006",
         "-0.01692724261356143",
         "-0.02472392178431891",
         "-0.01758040415946202",
         "-0.04138521616285436",
         "-0.029143994669081012",
         "-0.02834909302443482",
         "-0.032266119910882934",
         "-0.04550735732050662",
         "-0.053672688363932325",
         "-0.039540034370327604",
         "-0.038603175922809874",
         "-0.034540325252176096",
         "-0.03126939398139458",
         "-0.0027624326959100726",
         "-0.033098300829241575",
         "-0.024357502022230464",
         "-0.015389000963653568",
         "-0.04694151195304042",
         "-0.055948073932533024",
         "-0.02784163335250073",
         "-0.03437116998899",
         "-0.026470576767363068",
         "-0.03277010498524836",
         "-0.028571300276682962",
         "-0.025302444995266474",
         "-0.028452184959967028",
         "-0.025611961026215116",
         "-0.036981940344486555",
         "-0.023720516650214032",
         "-0.02512381587419767",
         "-0.032938966265362364",
         "-0.022626016318578437",
         "-0.022089251546473444",
         "-0.01796270037417248",
         "-0.015829376821163543",
         "-0.02568667198443417",
         "-0.01299464109967358",
         "-0.036053235429255606",
         "-0.009040322265576245",
         "-0.027398974188114388",
         "-0.02012670214913142",
         "0.023896864880861034",
         "-0.01719010948202988",
         "-0.06678151273215265",
         "-0.03670611091974834",
         "-0.03599610413316214",
         "-0.025821181209325045",
         "-0.03286166448400088",
         "-0.02945615264293809",
         "-0.02129576881221255",
         "-0.04171845356729227",
         "-0.036201457952443186",
         "-0.0375598946846812",
         "-0.027777752596556706",
         "-0.024966438522414376",
         "-0.029451649179245573",
         "-0.037756803397409895",
         "-0.04921664648249216",
         "-0.02768069180057896",
         "0.007619715514885781",
         "-0.020583917143487115",
         "-0.020896282726412377",
         "-0.07071182334983574",
         "-0.03498899185006548"
        ],
        [
         "2015-10-01 00:00:00",
         "0.07375620291071552",
         "0.02555029207786558",
         "0.029609861167202677",
         "0.04150244364291342",
         "0.08060264472166201",
         "0.07694192999528816",
         "0.08534827793500932",
         "0.0780563776402984",
         "0.08398476461641242",
         "0.07731038611784717",
         "0.04288559153808888",
         "0.0870113769896297",
         "0.07726024999494271",
         "0.08444100121187216",
         "0.075449713935585",
         "0.0342048604195429",
         "0.03801854301557467",
         "0.060158891776191756",
         "0.08484106372697509",
         "0.04532443912503895",
         "0.041651525882630366",
         "0.05881013672608436",
         "0.042075171628620095",
         "0.07120077096298745",
         "0.05215717071733632",
         "0.046590704497891974",
         "0.08738890534504075",
         "0.07730892772860894",
         "0.07913440489856736",
         "0.07220693475134486",
         "0.07111899964975471",
         "0.08139844792866871",
         "0.0779125313382189",
         "0.08531608325324501",
         "0.059594548834603675",
         "0.061405426084458536",
         "0.08455738802806298",
         "0.08549231244110092",
         "0.09073799679028445",
         "0.04758082794754967",
         "0.069992371820035",
         "0.07119759260632501",
         "0.07803920835647365",
         "0.08283520078936205",
         "0.09300454561308448",
         "0.06341592716753071",
         "0.07861719068231522",
         "0.06563045753395781",
         "0.02123973650091119",
         "0.053387873418061546",
         "0.09875190043746987",
         "0.09007846084688703",
         "0.08312402252233798",
         "0.08161903478097901",
         "0.07557841454485091",
         "0.06867686579621934",
         "0.07910254240382793",
         "0.07416135531134817",
         "0.0674646224670308",
         "0.05803066258549726",
         "0.0778226796733444",
         "0.08113340352665674",
         "0.07156466887532298",
         "0.07020802849544489",
         "0.06170565805326695",
         "0.0796108088545444",
         "-0.0026437556707300243",
         "0.09420668792912641",
         "0.0708346468087527",
         "0.04900958271117902",
         "0.07017911124645777"
        ],
        [
         "2015-11-01 00:00:00",
         "-0.005211059212752199",
         "-0.003553804332533826",
         "-0.0025561452661781183",
         "0.0",
         "-0.005337412594720939",
         "0.0",
         "0.002334631410603746",
         "-0.0007020007308297824",
         "0.0017688683857451637",
         "0.00034922298242112915",
         "-0.018154810280371827",
         "0.0030075210639553224",
         "0.0017582422111963444",
         "0.009392585336474607",
         "-0.0005364806995623168",
         "-0.022496371154642845",
         "-0.028181753093055335",
         "0.008452787159924346",
         "0.013741627852296387",
         "0.010413145117489914",
         "0.015141829784126795",
         "0.03123712793900805",
         "-0.042075171628620095",
         "0.02313664611871525",
         "0.003196167323341156",
         "-0.0014855164900667802",
         "-0.003840004718602354",
         "-0.009221128187034031",
         "0.004204284664524966",
         "0.00623584787148098",
         "0.005738504612168435",
         "0.003901065017964641",
         "0.00412205882007012",
         "0.006120719316512413",
         "0.003348217413660027",
         "0.005269473271085447",
         "0.0039715425362058555",
         "0.010874539454006592",
         "0.0033934551511286583",
         "-0.012664562841321884",
         "0.0",
         "-0.007831477654657639",
         "-0.002877699827615058",
         "0.004416578153489211",
         "-0.008644454616340964",
         "-0.008359921299504285",
         "0.0042704691234522855",
         "0.00585471378755392",
         "-0.0038603311669790493",
         "-0.005750447128437714",
         "0.004330573350364429",
         "0.0004811161988401639",
         "0.004093705967167559",
         "0.0036715944880918497",
         "0.005662820795484431",
         "0.006784286536922488",
         "0.0029518336206120375",
         "-0.00696381644307107",
         "0.002672905032725354",
         "0.0029973795389742594",
         "0.003907208877908784",
         "0.004268619800883272",
         "0.00583340915764814",
         "-0.0008297034286391127",
         "0.019315789299291702",
         "0.003449978779220406",
         "0.020308591850535275",
         "0.004720701134937394",
         "0.019940377830180912",
         "0.047556615679872086",
         "-0.03090133512417471"
        ]
       ],
       "shape": {
        "columns": 71,
        "rows": 5
       }
      },
      "text/html": [
       "<div>\n",
       "<style scoped>\n",
       "    .dataframe tbody tr th:only-of-type {\n",
       "        vertical-align: middle;\n",
       "    }\n",
       "\n",
       "    .dataframe tbody tr th {\n",
       "        vertical-align: top;\n",
       "    }\n",
       "\n",
       "    .dataframe thead th {\n",
       "        text-align: right;\n",
       "    }\n",
       "</style>\n",
       "<table border=\"1\" class=\"dataframe\">\n",
       "  <thead>\n",
       "    <tr style=\"text-align: right;\">\n",
       "      <th></th>\n",
       "      <th>ACWI</th>\n",
       "      <th>AOK</th>\n",
       "      <th>AOM</th>\n",
       "      <th>AOR</th>\n",
       "      <th>CRBN</th>\n",
       "      <th>DGRO</th>\n",
       "      <th>DGRW</th>\n",
       "      <th>DLN</th>\n",
       "      <th>DSI</th>\n",
       "      <th>DTD</th>\n",
       "      <th>...</th>\n",
       "      <th>VOO</th>\n",
       "      <th>VOOV</th>\n",
       "      <th>VT</th>\n",
       "      <th>VUSE</th>\n",
       "      <th>VV</th>\n",
       "      <th>WTMF</th>\n",
       "      <th>XLG</th>\n",
       "      <th>XRLV</th>\n",
       "      <th>XSMO</th>\n",
       "      <th>YYY</th>\n",
       "    </tr>\n",
       "    <tr>\n",
       "      <th>Date</th>\n",
       "      <th></th>\n",
       "      <th></th>\n",
       "      <th></th>\n",
       "      <th></th>\n",
       "      <th></th>\n",
       "      <th></th>\n",
       "      <th></th>\n",
       "      <th></th>\n",
       "      <th></th>\n",
       "      <th></th>\n",
       "      <th></th>\n",
       "      <th></th>\n",
       "      <th></th>\n",
       "      <th></th>\n",
       "      <th></th>\n",
       "      <th></th>\n",
       "      <th></th>\n",
       "      <th></th>\n",
       "      <th></th>\n",
       "      <th></th>\n",
       "      <th></th>\n",
       "    </tr>\n",
       "  </thead>\n",
       "  <tbody>\n",
       "    <tr>\n",
       "      <th>2015-07-01</th>\n",
       "      <td>0.008089</td>\n",
       "      <td>0.008253</td>\n",
       "      <td>0.007599</td>\n",
       "      <td>0.009768</td>\n",
       "      <td>0.009272</td>\n",
       "      <td>0.019306</td>\n",
       "      <td>0.009014</td>\n",
       "      <td>0.010582</td>\n",
       "      <td>0.021698</td>\n",
       "      <td>0.010519</td>\n",
       "      <td>...</td>\n",
       "      <td>0.021528</td>\n",
       "      <td>0.004346</td>\n",
       "      <td>0.005213</td>\n",
       "      <td>-0.015332</td>\n",
       "      <td>0.020861</td>\n",
       "      <td>-0.036534</td>\n",
       "      <td>0.032183</td>\n",
       "      <td>0.031749</td>\n",
       "      <td>0.017178</td>\n",
       "      <td>-0.021593</td>\n",
       "    </tr>\n",
       "    <tr>\n",
       "      <th>2015-08-01</th>\n",
       "      <td>-0.070505</td>\n",
       "      <td>-0.025770</td>\n",
       "      <td>-0.029635</td>\n",
       "      <td>-0.043255</td>\n",
       "      <td>-0.064686</td>\n",
       "      <td>-0.059580</td>\n",
       "      <td>-0.063213</td>\n",
       "      <td>-0.061129</td>\n",
       "      <td>-0.062795</td>\n",
       "      <td>-0.061126</td>\n",
       "      <td>...</td>\n",
       "      <td>-0.063333</td>\n",
       "      <td>-0.061893</td>\n",
       "      <td>-0.068693</td>\n",
       "      <td>-0.044764</td>\n",
       "      <td>-0.062245</td>\n",
       "      <td>-0.000997</td>\n",
       "      <td>-0.069672</td>\n",
       "      <td>-0.054145</td>\n",
       "      <td>-0.057158</td>\n",
       "      <td>-0.048927</td>\n",
       "    </tr>\n",
       "    <tr>\n",
       "      <th>2015-09-01</th>\n",
       "      <td>-0.034968</td>\n",
       "      <td>-0.006851</td>\n",
       "      <td>-0.011578</td>\n",
       "      <td>-0.018840</td>\n",
       "      <td>-0.045389</td>\n",
       "      <td>-0.016885</td>\n",
       "      <td>-0.020576</td>\n",
       "      <td>-0.016927</td>\n",
       "      <td>-0.024724</td>\n",
       "      <td>-0.017580</td>\n",
       "      <td>...</td>\n",
       "      <td>-0.024966</td>\n",
       "      <td>-0.029452</td>\n",
       "      <td>-0.037757</td>\n",
       "      <td>-0.049217</td>\n",
       "      <td>-0.027681</td>\n",
       "      <td>0.007620</td>\n",
       "      <td>-0.020584</td>\n",
       "      <td>-0.020896</td>\n",
       "      <td>-0.070712</td>\n",
       "      <td>-0.034989</td>\n",
       "    </tr>\n",
       "    <tr>\n",
       "      <th>2015-10-01</th>\n",
       "      <td>0.073756</td>\n",
       "      <td>0.025550</td>\n",
       "      <td>0.029610</td>\n",
       "      <td>0.041502</td>\n",
       "      <td>0.080603</td>\n",
       "      <td>0.076942</td>\n",
       "      <td>0.085348</td>\n",
       "      <td>0.078056</td>\n",
       "      <td>0.083985</td>\n",
       "      <td>0.077310</td>\n",
       "      <td>...</td>\n",
       "      <td>0.081133</td>\n",
       "      <td>0.071565</td>\n",
       "      <td>0.070208</td>\n",
       "      <td>0.061706</td>\n",
       "      <td>0.079611</td>\n",
       "      <td>-0.002644</td>\n",
       "      <td>0.094207</td>\n",
       "      <td>0.070835</td>\n",
       "      <td>0.049010</td>\n",
       "      <td>0.070179</td>\n",
       "    </tr>\n",
       "    <tr>\n",
       "      <th>2015-11-01</th>\n",
       "      <td>-0.005211</td>\n",
       "      <td>-0.003554</td>\n",
       "      <td>-0.002556</td>\n",
       "      <td>0.000000</td>\n",
       "      <td>-0.005337</td>\n",
       "      <td>0.000000</td>\n",
       "      <td>0.002335</td>\n",
       "      <td>-0.000702</td>\n",
       "      <td>0.001769</td>\n",
       "      <td>0.000349</td>\n",
       "      <td>...</td>\n",
       "      <td>0.004269</td>\n",
       "      <td>0.005833</td>\n",
       "      <td>-0.000830</td>\n",
       "      <td>0.019316</td>\n",
       "      <td>0.003450</td>\n",
       "      <td>0.020309</td>\n",
       "      <td>0.004721</td>\n",
       "      <td>0.019940</td>\n",
       "      <td>0.047557</td>\n",
       "      <td>-0.030901</td>\n",
       "    </tr>\n",
       "  </tbody>\n",
       "</table>\n",
       "<p>5 rows × 71 columns</p>\n",
       "</div>"
      ],
      "text/plain": [
       "                ACWI       AOK       AOM       AOR      CRBN      DGRO  \\\n",
       "Date                                                                     \n",
       "2015-07-01  0.008089  0.008253  0.007599  0.009768  0.009272  0.019306   \n",
       "2015-08-01 -0.070505 -0.025770 -0.029635 -0.043255 -0.064686 -0.059580   \n",
       "2015-09-01 -0.034968 -0.006851 -0.011578 -0.018840 -0.045389 -0.016885   \n",
       "2015-10-01  0.073756  0.025550  0.029610  0.041502  0.080603  0.076942   \n",
       "2015-11-01 -0.005211 -0.003554 -0.002556  0.000000 -0.005337  0.000000   \n",
       "\n",
       "                DGRW       DLN       DSI       DTD  ...       VOO      VOOV  \\\n",
       "Date                                                ...                       \n",
       "2015-07-01  0.009014  0.010582  0.021698  0.010519  ...  0.021528  0.004346   \n",
       "2015-08-01 -0.063213 -0.061129 -0.062795 -0.061126  ... -0.063333 -0.061893   \n",
       "2015-09-01 -0.020576 -0.016927 -0.024724 -0.017580  ... -0.024966 -0.029452   \n",
       "2015-10-01  0.085348  0.078056  0.083985  0.077310  ...  0.081133  0.071565   \n",
       "2015-11-01  0.002335 -0.000702  0.001769  0.000349  ...  0.004269  0.005833   \n",
       "\n",
       "                  VT      VUSE        VV      WTMF       XLG      XRLV  \\\n",
       "Date                                                                     \n",
       "2015-07-01  0.005213 -0.015332  0.020861 -0.036534  0.032183  0.031749   \n",
       "2015-08-01 -0.068693 -0.044764 -0.062245 -0.000997 -0.069672 -0.054145   \n",
       "2015-09-01 -0.037757 -0.049217 -0.027681  0.007620 -0.020584 -0.020896   \n",
       "2015-10-01  0.070208  0.061706  0.079611 -0.002644  0.094207  0.070835   \n",
       "2015-11-01 -0.000830  0.019316  0.003450  0.020309  0.004721  0.019940   \n",
       "\n",
       "                XSMO       YYY  \n",
       "Date                            \n",
       "2015-07-01  0.017178 -0.021593  \n",
       "2015-08-01 -0.057158 -0.048927  \n",
       "2015-09-01 -0.070712 -0.034989  \n",
       "2015-10-01  0.049010  0.070179  \n",
       "2015-11-01  0.047557 -0.030901  \n",
       "\n",
       "[5 rows x 71 columns]"
      ]
     },
     "execution_count": 14,
     "metadata": {},
     "output_type": "execute_result"
    }
   ],
   "source": [
    "benchmark_log_returns_df = np.log(benchmark_prices_monthly_df / benchmark_prices_monthly_df.shift(1))\n",
    "benchmark_log_returns_df = benchmark_log_returns_df.dropna().sort_index(axis=0, ascending=True).sort_index(axis=1, ascending=True)\n",
    "benchmark_log_returns_df.head()"
   ]
  },
  {
   "cell_type": "markdown",
   "id": "3798f32a",
   "metadata": {},
   "source": [
    "#### Stocks"
   ]
  },
  {
   "cell_type": "code",
   "execution_count": 15,
   "id": "16169afe",
   "metadata": {
    "execution": {
     "iopub.execute_input": "2025-06-02T13:28:31.314257Z",
     "iopub.status.busy": "2025-06-02T13:28:31.313851Z",
     "iopub.status.idle": "2025-06-02T13:28:31.329427Z",
     "shell.execute_reply": "2025-06-02T13:28:31.328391Z"
    }
   },
   "outputs": [
    {
     "data": {
      "application/vnd.microsoft.datawrangler.viewer.v0+json": {
       "columns": [
        {
         "name": "Date",
         "rawType": "datetime64[ns]",
         "type": "datetime"
        },
        {
         "name": "AMAT",
         "rawType": "float64",
         "type": "float"
        },
        {
         "name": "APO",
         "rawType": "float64",
         "type": "float"
        },
        {
         "name": "MMC",
         "rawType": "float64",
         "type": "float"
        },
        {
         "name": "SO",
         "rawType": "float64",
         "type": "float"
        },
        {
         "name": "TMUS",
         "rawType": "float64",
         "type": "float"
        }
       ],
       "ref": "5bc07c52-fa6e-4210-bd48-a763829a2c24",
       "rows": [
        [
         "2015-08-01 00:00:00",
         "-0.06996800564515786",
         "-0.08120168018109065",
         "-0.07549958672913168",
         "-0.01818543854127818",
         "-0.025988723809523384"
        ],
        [
         "2015-09-01 00:00:00",
         "-0.0911377119985242",
         "-0.07836906711550677",
         "-0.02844004165015933",
         "0.029343627007383525",
         "0.004892503643514565"
        ],
        [
         "2015-10-01 00:00:00",
         "0.1327677423392253",
         "0.061476773551001306",
         "0.07110917909628138",
         "0.009037718420266865",
         "-0.04949680988026849"
        ],
        [
         "2015-11-01 00:00:00",
         "0.11837703626784934",
         "-0.0908906587572944",
         "-0.00800847272833768",
         "-0.0003332777901203771",
         "-0.06495246194994637"
        ],
        [
         "2015-12-01 00:00:00",
         "-0.00535875054310519",
         "-0.07353408404614899",
         "0.002746964220735252",
         "0.049107574107027874",
         "0.0970890742199574"
        ]
       ],
       "shape": {
        "columns": 5,
        "rows": 5
       }
      },
      "text/html": [
       "<div>\n",
       "<style scoped>\n",
       "    .dataframe tbody tr th:only-of-type {\n",
       "        vertical-align: middle;\n",
       "    }\n",
       "\n",
       "    .dataframe tbody tr th {\n",
       "        vertical-align: top;\n",
       "    }\n",
       "\n",
       "    .dataframe thead th {\n",
       "        text-align: right;\n",
       "    }\n",
       "</style>\n",
       "<table border=\"1\" class=\"dataframe\">\n",
       "  <thead>\n",
       "    <tr style=\"text-align: right;\">\n",
       "      <th></th>\n",
       "      <th>AMAT</th>\n",
       "      <th>APO</th>\n",
       "      <th>MMC</th>\n",
       "      <th>SO</th>\n",
       "      <th>TMUS</th>\n",
       "    </tr>\n",
       "    <tr>\n",
       "      <th>Date</th>\n",
       "      <th></th>\n",
       "      <th></th>\n",
       "      <th></th>\n",
       "      <th></th>\n",
       "      <th></th>\n",
       "    </tr>\n",
       "  </thead>\n",
       "  <tbody>\n",
       "    <tr>\n",
       "      <th>2015-08-01</th>\n",
       "      <td>-0.069968</td>\n",
       "      <td>-0.081202</td>\n",
       "      <td>-0.075500</td>\n",
       "      <td>-0.018185</td>\n",
       "      <td>-0.025989</td>\n",
       "    </tr>\n",
       "    <tr>\n",
       "      <th>2015-09-01</th>\n",
       "      <td>-0.091138</td>\n",
       "      <td>-0.078369</td>\n",
       "      <td>-0.028440</td>\n",
       "      <td>0.029344</td>\n",
       "      <td>0.004893</td>\n",
       "    </tr>\n",
       "    <tr>\n",
       "      <th>2015-10-01</th>\n",
       "      <td>0.132768</td>\n",
       "      <td>0.061477</td>\n",
       "      <td>0.071109</td>\n",
       "      <td>0.009038</td>\n",
       "      <td>-0.049497</td>\n",
       "    </tr>\n",
       "    <tr>\n",
       "      <th>2015-11-01</th>\n",
       "      <td>0.118377</td>\n",
       "      <td>-0.090891</td>\n",
       "      <td>-0.008008</td>\n",
       "      <td>-0.000333</td>\n",
       "      <td>-0.064952</td>\n",
       "    </tr>\n",
       "    <tr>\n",
       "      <th>2015-12-01</th>\n",
       "      <td>-0.005359</td>\n",
       "      <td>-0.073534</td>\n",
       "      <td>0.002747</td>\n",
       "      <td>0.049108</td>\n",
       "      <td>0.097089</td>\n",
       "    </tr>\n",
       "  </tbody>\n",
       "</table>\n",
       "</div>"
      ],
      "text/plain": [
       "                AMAT       APO       MMC        SO      TMUS\n",
       "Date                                                        \n",
       "2015-08-01 -0.069968 -0.081202 -0.075500 -0.018185 -0.025989\n",
       "2015-09-01 -0.091138 -0.078369 -0.028440  0.029344  0.004893\n",
       "2015-10-01  0.132768  0.061477  0.071109  0.009038 -0.049497\n",
       "2015-11-01  0.118377 -0.090891 -0.008008 -0.000333 -0.064952\n",
       "2015-12-01 -0.005359 -0.073534  0.002747  0.049108  0.097089"
      ]
     },
     "execution_count": 15,
     "metadata": {},
     "output_type": "execute_result"
    }
   ],
   "source": [
    "stock_log_returns_df = np.log(stock_prices_monthly_df / stock_prices_monthly_df.shift(1))\n",
    "stock_log_returns_df = stock_log_returns_df.dropna().sort_index(axis=0, ascending=True).sort_index(axis=1, ascending=True)\n",
    "stock_log_returns_df.head()"
   ]
  },
  {
   "cell_type": "markdown",
   "id": "4936e919",
   "metadata": {},
   "source": [
    "### Step 9: Calculate Excess Return (Expected Return - Risk-free Rate)"
   ]
  },
  {
   "cell_type": "markdown",
   "id": "8b0c3a9a",
   "metadata": {},
   "source": [
    "#### Benchmark"
   ]
  },
  {
   "cell_type": "code",
   "execution_count": 16,
   "id": "37b6707b",
   "metadata": {
    "execution": {
     "iopub.execute_input": "2025-06-02T13:28:31.332071Z",
     "iopub.status.busy": "2025-06-02T13:28:31.331679Z",
     "iopub.status.idle": "2025-06-02T13:28:31.346683Z",
     "shell.execute_reply": "2025-06-02T13:28:31.345862Z"
    }
   },
   "outputs": [
    {
     "data": {
      "application/vnd.microsoft.datawrangler.viewer.v0+json": {
       "columns": [
        {
         "name": "Date",
         "rawType": "datetime64[ns]",
         "type": "datetime"
        },
        {
         "name": "ACWI",
         "rawType": "float64",
         "type": "float"
        },
        {
         "name": "AOK",
         "rawType": "float64",
         "type": "float"
        },
        {
         "name": "AOM",
         "rawType": "float64",
         "type": "float"
        },
        {
         "name": "AOR",
         "rawType": "float64",
         "type": "float"
        },
        {
         "name": "CRBN",
         "rawType": "float64",
         "type": "float"
        },
        {
         "name": "DGRO",
         "rawType": "float64",
         "type": "float"
        },
        {
         "name": "DGRW",
         "rawType": "float64",
         "type": "float"
        },
        {
         "name": "DLN",
         "rawType": "float64",
         "type": "float"
        },
        {
         "name": "DSI",
         "rawType": "float64",
         "type": "float"
        },
        {
         "name": "DTD",
         "rawType": "float64",
         "type": "float"
        },
        {
         "name": "DWAT",
         "rawType": "float64",
         "type": "float"
        },
        {
         "name": "EPS",
         "rawType": "float64",
         "type": "float"
        },
        {
         "name": "EQL",
         "rawType": "float64",
         "type": "float"
        },
        {
         "name": "EQWL",
         "rawType": "float64",
         "type": "float"
        },
        {
         "name": "EUSA",
         "rawType": "float64",
         "type": "float"
        },
        {
         "name": "EWC",
         "rawType": "float64",
         "type": "float"
        },
        {
         "name": "EWL",
         "rawType": "float64",
         "type": "float"
        },
        {
         "name": "FAD",
         "rawType": "float64",
         "type": "float"
        },
        {
         "name": "FIDU",
         "rawType": "float64",
         "type": "float"
        },
        {
         "name": "FNY",
         "rawType": "float64",
         "type": "float"
        },
        {
         "name": "FTLS",
         "rawType": "float64",
         "type": "float"
        },
        {
         "name": "FYC",
         "rawType": "float64",
         "type": "float"
        },
        {
         "name": "IGF",
         "rawType": "float64",
         "type": "float"
        },
        {
         "name": "IHDG",
         "rawType": "float64",
         "type": "float"
        },
        {
         "name": "IMCG",
         "rawType": "float64",
         "type": "float"
        },
        {
         "name": "IMTM",
         "rawType": "float64",
         "type": "float"
        },
        {
         "name": "IOO",
         "rawType": "float64",
         "type": "float"
        },
        {
         "name": "IQLT",
         "rawType": "float64",
         "type": "float"
        },
        {
         "name": "ITOT",
         "rawType": "float64",
         "type": "float"
        },
        {
         "name": "IUSV",
         "rawType": "float64",
         "type": "float"
        },
        {
         "name": "IVE",
         "rawType": "float64",
         "type": "float"
        },
        {
         "name": "IVV",
         "rawType": "float64",
         "type": "float"
        },
        {
         "name": "IWB",
         "rawType": "float64",
         "type": "float"
        },
        {
         "name": "IWL",
         "rawType": "float64",
         "type": "float"
        },
        {
         "name": "IWR",
         "rawType": "float64",
         "type": "float"
        },
        {
         "name": "LRGF",
         "rawType": "float64",
         "type": "float"
        },
        {
         "name": "MGC",
         "rawType": "float64",
         "type": "float"
        },
        {
         "name": "MMTM",
         "rawType": "float64",
         "type": "float"
        },
        {
         "name": "OEF",
         "rawType": "float64",
         "type": "float"
        },
        {
         "name": "PCEF",
         "rawType": "float64",
         "type": "float"
        },
        {
         "name": "PFM",
         "rawType": "float64",
         "type": "float"
        },
        {
         "name": "QDEF",
         "rawType": "float64",
         "type": "float"
        },
        {
         "name": "QDF",
         "rawType": "float64",
         "type": "float"
        },
        {
         "name": "QUAL",
         "rawType": "float64",
         "type": "float"
        },
        {
         "name": "QUS",
         "rawType": "float64",
         "type": "float"
        },
        {
         "name": "QWLD",
         "rawType": "float64",
         "type": "float"
        },
        {
         "name": "SCHX",
         "rawType": "float64",
         "type": "float"
        },
        {
         "name": "SIZE",
         "rawType": "float64",
         "type": "float"
        },
        {
         "name": "SMIN",
         "rawType": "float64",
         "type": "float"
        },
        {
         "name": "SPGM",
         "rawType": "float64",
         "type": "float"
        },
        {
         "name": "SPHB",
         "rawType": "float64",
         "type": "float"
        },
        {
         "name": "SPLG",
         "rawType": "float64",
         "type": "float"
        },
        {
         "name": "SPTM",
         "rawType": "float64",
         "type": "float"
        },
        {
         "name": "SPY",
         "rawType": "float64",
         "type": "float"
        },
        {
         "name": "SPYV",
         "rawType": "float64",
         "type": "float"
        },
        {
         "name": "SSPY",
         "rawType": "float64",
         "type": "float"
        },
        {
         "name": "SUSA",
         "rawType": "float64",
         "type": "float"
        },
        {
         "name": "TOK",
         "rawType": "float64",
         "type": "float"
        },
        {
         "name": "URTH",
         "rawType": "float64",
         "type": "float"
        },
        {
         "name": "VO",
         "rawType": "float64",
         "type": "float"
        },
        {
         "name": "VONE",
         "rawType": "float64",
         "type": "float"
        },
        {
         "name": "VOO",
         "rawType": "float64",
         "type": "float"
        },
        {
         "name": "VOOV",
         "rawType": "float64",
         "type": "float"
        },
        {
         "name": "VT",
         "rawType": "float64",
         "type": "float"
        },
        {
         "name": "VUSE",
         "rawType": "float64",
         "type": "float"
        },
        {
         "name": "VV",
         "rawType": "float64",
         "type": "float"
        },
        {
         "name": "WTMF",
         "rawType": "float64",
         "type": "float"
        },
        {
         "name": "XLG",
         "rawType": "float64",
         "type": "float"
        },
        {
         "name": "XRLV",
         "rawType": "float64",
         "type": "float"
        },
        {
         "name": "XSMO",
         "rawType": "float64",
         "type": "float"
        },
        {
         "name": "YYY",
         "rawType": "float64",
         "type": "float"
        }
       ],
       "ref": "5d6a7e5b-ccc3-44e7-8b1a-c070992dc8b5",
       "rows": [
        [
         "2015-07-01 00:00:00",
         "0.004564022873083603",
         "0.004728141756720481",
         "0.004074095732169452",
         "0.006243472194470382",
         "0.005747490247691358",
         "0.01578061889415347",
         "0.005489366351488915",
         "0.007057109330537008",
         "0.018172983066096125",
         "0.006994031074518599",
         "0.016418680967335328",
         "0.008523338516174355",
         "0.008325039917496023",
         "0.019429798293024207",
         "0.011958841690839677",
         "-0.046445994896137294",
         "0.03664685708194708",
         "0.01906571463018076",
         "-0.007696887569406382",
         "0.014678382008681039",
         "0.010208258881093996",
         "0.008749055899511698",
         "0.0010441985499878821",
         "0.0438772388945839",
         "0.015501449143174376",
         "-0.009484220019087258",
         "0.01110630426786047",
         "0.012888029641330269",
         "0.015546785495797067",
         "-0.0015716018624634853",
         "0.000917955810782461",
         "0.018190268928082273",
         "0.015861876088441355",
         "0.020935762486525664",
         "0.0038149813019909733",
         "0.008768299024638656",
         "0.018307381204757903",
         "0.020389742169753918",
         "0.024671037680758734",
         "-0.007349096438403506",
         "0.008788260233357105",
         "0.011456553615616894",
         "0.012400056058598632",
         "0.02470745521727765",
         "-0.008130073710315",
         "-0.008248488412255277",
         "0.016418680967335328",
         "0.021035764742596576",
         "0.06354499940638798",
         "-0.01732861406294765",
         "-0.04552319015938662",
         "0.015771305427066073",
         "0.011424315775006307",
         "0.018804838909414968",
         "0.001040059918754055",
         "0.005555270898003787",
         "0.008830784371718104",
         "0.019645533826151966",
         "0.02244624329883582",
         "0.008075952210454181",
         "0.01635734061812963",
         "0.018002615402576416",
         "0.000821308980047529",
         "0.0016875218262105973",
         "-0.018857497978585852",
         "0.017336091009396634",
         "-0.040058743332455835",
         "0.02865798666331887",
         "0.028223698314580485",
         "0.013653336535084548",
         "-0.02511828163056802"
        ],
        [
         "2015-08-01 00:00:00",
         "-0.07402958757227324",
         "-0.029294513179051566",
         "-0.03315950806317796",
         "-0.04678018123147992",
         "-0.06821120617488394",
         "-0.06310451803209335",
         "-0.06673782982944695",
         "-0.06465413502673702",
         "-0.06632045623223766",
         "-0.06465114274364",
         "-0.06609085599173826",
         "-0.06739840638076049",
         "-0.06076041095259498",
         "-0.07499502317648281",
         "-0.06279962201803016",
         "-0.05494512551207841",
         "-0.0725432100738199",
         "-0.062468247925002336",
         "-0.05675645022287974",
         "-0.07947638374378195",
         "-0.03942455433835433",
         "-0.06885570213882253",
         "-0.057718861945620814",
         "-0.08101249547837427",
         "-0.06854108206708331",
         "-0.0676038566845224",
         "-0.07450459720477433",
         "-0.08438199260191265",
         "-0.06629864176977042",
         "-0.06266967482439645",
         "-0.06588070013882028",
         "-0.06695820708777994",
         "-0.06559938889434838",
         "-0.06934984154354223",
         "-0.05750194004419558",
         "-0.06306351072086544",
         "-0.06874514695140489",
         "-0.0684786329060202",
         "-0.07239207741168639",
         "-0.0396088757240217",
         "-0.05555467144586249",
         "-0.058149997616427765",
         "-0.05623666727911374",
         "-0.059099982530866235",
         "-0.0349177124078626",
         "-0.06264651058659448",
         "-0.06609085599173826",
         "-0.06105578398016647",
         "-0.10020004960458131",
         "-0.057154050313999255",
         "-0.05554618475087847",
         "-0.06408990071396554",
         "-0.06423393292447316",
         "-0.06642787951358384",
         "-0.06617596496166737",
         "-0.05928617463556856",
         "-0.06802792824902662",
         "-0.07542880384713163",
         "-0.07157392133109859",
         "-0.05639212229457164",
         "-0.06645451033187043",
         "-0.06685779749588697",
         "-0.06541826335916877",
         "-0.07221797644796674",
         "-0.048288945512571534",
         "-0.0657695503436779",
         "-0.004522174754392429",
         "-0.07319675813895925",
         "-0.05766996061030809",
         "-0.06068341383994864",
         "-0.052451599124278964"
        ],
        [
         "2015-09-01 00:00:00",
         "-0.03849282871790831",
         "-0.010375721937337046",
         "-0.015103093856541907",
         "-0.02236541846191453",
         "-0.04891410125453019",
         "-0.02040951470200872",
         "-0.024100993598493006",
         "-0.02045224261356143",
         "-0.02824892178431891",
         "-0.02110540415946202",
         "-0.04491021616285436",
         "-0.03266899466908101",
         "-0.03187409302443482",
         "-0.035791119910882935",
         "-0.04903235732050662",
         "-0.057197688363932325",
         "-0.043065034370327604",
         "-0.042128175922809874",
         "-0.038065325252176097",
         "-0.034794393981394584",
         "-0.006287432695910073",
         "-0.036623300829241576",
         "-0.027882502022230464",
         "-0.018914000963653567",
         "-0.05046651195304042",
         "-0.059473073932533024",
         "-0.03136663335250073",
         "-0.03789616998899",
         "-0.02999557676736307",
         "-0.036295104985248364",
         "-0.03209630027668296",
         "-0.028827444995266474",
         "-0.03197718495996703",
         "-0.029136961026215116",
         "-0.040506940344486556",
         "-0.027245516650214033",
         "-0.02864881587419767",
         "-0.036463966265362364",
         "-0.026151016318578437",
         "-0.025614251546473444",
         "-0.02148770037417248",
         "-0.019354376821163543",
         "-0.02921167198443417",
         "-0.01651964109967358",
         "-0.03957823542925561",
         "-0.012565322265576245",
         "-0.03092397418811439",
         "-0.02365170214913142",
         "0.020371864880861033",
         "-0.02071510948202988",
         "-0.07030651273215265",
         "-0.04023111091974834",
         "-0.03952110413316214",
         "-0.029346181209325046",
         "-0.03638666448400088",
         "-0.03298115264293809",
         "-0.02482076881221255",
         "-0.04524345356729227",
         "-0.03972645795244319",
         "-0.0410848946846812",
         "-0.03130275259655671",
         "-0.028491438522414377",
         "-0.032976649179245573",
         "-0.041281803397409896",
         "-0.05274164648249216",
         "-0.03120569180057896",
         "0.00409471551488578",
         "-0.024108917143487115",
         "-0.024421282726412377",
         "-0.07423682334983574",
         "-0.03851399185006548"
        ],
        [
         "2015-10-01 00:00:00",
         "0.07023120291071552",
         "0.02202529207786558",
         "0.026084861167202676",
         "0.03797744364291342",
         "0.07707764472166201",
         "0.07341692999528816",
         "0.08182327793500932",
         "0.0745313776402984",
         "0.08045976461641242",
         "0.07378538611784717",
         "0.03936059153808888",
         "0.0834863769896297",
         "0.07373524999494271",
         "0.08091600121187216",
         "0.071924713935585",
         "0.030679860419542897",
         "0.03449354301557467",
         "0.056633891776191755",
         "0.08131606372697509",
         "0.04179943912503895",
         "0.038126525882630366",
         "0.05528513672608436",
         "0.038550171628620095",
         "0.06767577096298745",
         "0.04863217071733632",
         "0.043065704497891974",
         "0.08386390534504075",
         "0.07378392772860894",
         "0.07560940489856736",
         "0.06868193475134486",
         "0.06759399964975471",
         "0.07787344792866871",
         "0.0743875313382189",
         "0.08179108325324501",
         "0.056069548834603675",
         "0.057880426084458536",
         "0.08103238802806298",
         "0.08196731244110092",
         "0.08721299679028445",
         "0.04405582794754967",
         "0.066467371820035",
         "0.06767259260632501",
         "0.07451420835647365",
         "0.07931020078936205",
         "0.08947954561308448",
         "0.05989092716753071",
         "0.07509219068231522",
         "0.06210545753395781",
         "0.01771473650091119",
         "0.049862873418061546",
         "0.09522690043746987",
         "0.08655346084688703",
         "0.07959902252233798",
         "0.07809403478097901",
         "0.07205341454485091",
         "0.06515186579621934",
         "0.07557754240382793",
         "0.07063635531134817",
         "0.0639396224670308",
         "0.05450566258549726",
         "0.0742976796733444",
         "0.07760840352665674",
         "0.06803966887532298",
         "0.06668302849544488",
         "0.05818065805326695",
         "0.0760858088545444",
         "-0.006168755670730025",
         "0.09068168792912641",
         "0.0673096468087527",
         "0.04548458271117902",
         "0.06665411124645777"
        ],
        [
         "2015-11-01 00:00:00",
         "-0.008736059212752199",
         "-0.007078804332533826",
         "-0.006081145266178119",
         "-0.0035250000000000004",
         "-0.00886241259472094",
         "-0.0035250000000000004",
         "-0.0011903685893962543",
         "-0.004227000730829783",
         "-0.0017561316142548366",
         "-0.0031757770175788714",
         "-0.021679810280371827",
         "-0.000517478936044678",
         "-0.001766757788803656",
         "0.005867585336474607",
         "-0.004061480699562317",
         "-0.026021371154642845",
         "-0.03170675309305533",
         "0.004927787159924346",
         "0.010216627852296387",
         "0.006888145117489914",
         "0.011616829784126795",
         "0.027712127939008048",
         "-0.045600171628620095",
         "0.01961164611871525",
         "-0.00032883267665884423",
         "-0.00501051649006678",
         "-0.007365004718602354",
         "-0.012746128187034031",
         "0.0006792846645249659",
         "0.00271084787148098",
         "0.0022135046121684347",
         "0.0003760650179646407",
         "0.0005970588200701196",
         "0.0025957193165124124",
         "-0.00017678258633997343",
         "0.0017444732710854465",
         "0.0004465425362058552",
         "0.007349539454006591",
         "-0.00013154484887134207",
         "-0.016189562841321885",
         "-0.0035250000000000004",
         "-0.011356477654657639",
         "-0.0064026998276150585",
         "0.0008915781534892106",
         "-0.012169454616340964",
         "-0.011884921299504286",
         "0.0007454691234522852",
         "0.0023297137875539194",
         "-0.00738533116697905",
         "-0.009275447128437714",
         "0.0008055733503644288",
         "-0.0030438838011598362",
         "0.0005687059671675588",
         "0.00014659448809184938",
         "0.0021378207954844304",
         "0.0032592865369224875",
         "-0.0005731663793879628",
         "-0.010488816443071071",
         "-0.0008520949672746465",
         "-0.0005276204610257409",
         "0.00038220887790878406",
         "0.0007436198008832721",
         "0.0023084091576481393",
         "-0.0043547034286391135",
         "0.015790789299291702",
         "-7.502122077959446e-05",
         "0.016783591850535275",
         "0.0011957011349373933",
         "0.016415377830180912",
         "0.044031615679872085",
         "-0.034426335124174715"
        ]
       ],
       "shape": {
        "columns": 71,
        "rows": 5
       }
      },
      "text/html": [
       "<div>\n",
       "<style scoped>\n",
       "    .dataframe tbody tr th:only-of-type {\n",
       "        vertical-align: middle;\n",
       "    }\n",
       "\n",
       "    .dataframe tbody tr th {\n",
       "        vertical-align: top;\n",
       "    }\n",
       "\n",
       "    .dataframe thead th {\n",
       "        text-align: right;\n",
       "    }\n",
       "</style>\n",
       "<table border=\"1\" class=\"dataframe\">\n",
       "  <thead>\n",
       "    <tr style=\"text-align: right;\">\n",
       "      <th></th>\n",
       "      <th>ACWI</th>\n",
       "      <th>AOK</th>\n",
       "      <th>AOM</th>\n",
       "      <th>AOR</th>\n",
       "      <th>CRBN</th>\n",
       "      <th>DGRO</th>\n",
       "      <th>DGRW</th>\n",
       "      <th>DLN</th>\n",
       "      <th>DSI</th>\n",
       "      <th>DTD</th>\n",
       "      <th>...</th>\n",
       "      <th>VOO</th>\n",
       "      <th>VOOV</th>\n",
       "      <th>VT</th>\n",
       "      <th>VUSE</th>\n",
       "      <th>VV</th>\n",
       "      <th>WTMF</th>\n",
       "      <th>XLG</th>\n",
       "      <th>XRLV</th>\n",
       "      <th>XSMO</th>\n",
       "      <th>YYY</th>\n",
       "    </tr>\n",
       "    <tr>\n",
       "      <th>Date</th>\n",
       "      <th></th>\n",
       "      <th></th>\n",
       "      <th></th>\n",
       "      <th></th>\n",
       "      <th></th>\n",
       "      <th></th>\n",
       "      <th></th>\n",
       "      <th></th>\n",
       "      <th></th>\n",
       "      <th></th>\n",
       "      <th></th>\n",
       "      <th></th>\n",
       "      <th></th>\n",
       "      <th></th>\n",
       "      <th></th>\n",
       "      <th></th>\n",
       "      <th></th>\n",
       "      <th></th>\n",
       "      <th></th>\n",
       "      <th></th>\n",
       "      <th></th>\n",
       "    </tr>\n",
       "  </thead>\n",
       "  <tbody>\n",
       "    <tr>\n",
       "      <th>2015-07-01</th>\n",
       "      <td>0.004564</td>\n",
       "      <td>0.004728</td>\n",
       "      <td>0.004074</td>\n",
       "      <td>0.006243</td>\n",
       "      <td>0.005747</td>\n",
       "      <td>0.015781</td>\n",
       "      <td>0.005489</td>\n",
       "      <td>0.007057</td>\n",
       "      <td>0.018173</td>\n",
       "      <td>0.006994</td>\n",
       "      <td>...</td>\n",
       "      <td>0.018003</td>\n",
       "      <td>0.000821</td>\n",
       "      <td>0.001688</td>\n",
       "      <td>-0.018857</td>\n",
       "      <td>0.017336</td>\n",
       "      <td>-0.040059</td>\n",
       "      <td>0.028658</td>\n",
       "      <td>0.028224</td>\n",
       "      <td>0.013653</td>\n",
       "      <td>-0.025118</td>\n",
       "    </tr>\n",
       "    <tr>\n",
       "      <th>2015-08-01</th>\n",
       "      <td>-0.074030</td>\n",
       "      <td>-0.029295</td>\n",
       "      <td>-0.033160</td>\n",
       "      <td>-0.046780</td>\n",
       "      <td>-0.068211</td>\n",
       "      <td>-0.063105</td>\n",
       "      <td>-0.066738</td>\n",
       "      <td>-0.064654</td>\n",
       "      <td>-0.066320</td>\n",
       "      <td>-0.064651</td>\n",
       "      <td>...</td>\n",
       "      <td>-0.066858</td>\n",
       "      <td>-0.065418</td>\n",
       "      <td>-0.072218</td>\n",
       "      <td>-0.048289</td>\n",
       "      <td>-0.065770</td>\n",
       "      <td>-0.004522</td>\n",
       "      <td>-0.073197</td>\n",
       "      <td>-0.057670</td>\n",
       "      <td>-0.060683</td>\n",
       "      <td>-0.052452</td>\n",
       "    </tr>\n",
       "    <tr>\n",
       "      <th>2015-09-01</th>\n",
       "      <td>-0.038493</td>\n",
       "      <td>-0.010376</td>\n",
       "      <td>-0.015103</td>\n",
       "      <td>-0.022365</td>\n",
       "      <td>-0.048914</td>\n",
       "      <td>-0.020410</td>\n",
       "      <td>-0.024101</td>\n",
       "      <td>-0.020452</td>\n",
       "      <td>-0.028249</td>\n",
       "      <td>-0.021105</td>\n",
       "      <td>...</td>\n",
       "      <td>-0.028491</td>\n",
       "      <td>-0.032977</td>\n",
       "      <td>-0.041282</td>\n",
       "      <td>-0.052742</td>\n",
       "      <td>-0.031206</td>\n",
       "      <td>0.004095</td>\n",
       "      <td>-0.024109</td>\n",
       "      <td>-0.024421</td>\n",
       "      <td>-0.074237</td>\n",
       "      <td>-0.038514</td>\n",
       "    </tr>\n",
       "    <tr>\n",
       "      <th>2015-10-01</th>\n",
       "      <td>0.070231</td>\n",
       "      <td>0.022025</td>\n",
       "      <td>0.026085</td>\n",
       "      <td>0.037977</td>\n",
       "      <td>0.077078</td>\n",
       "      <td>0.073417</td>\n",
       "      <td>0.081823</td>\n",
       "      <td>0.074531</td>\n",
       "      <td>0.080460</td>\n",
       "      <td>0.073785</td>\n",
       "      <td>...</td>\n",
       "      <td>0.077608</td>\n",
       "      <td>0.068040</td>\n",
       "      <td>0.066683</td>\n",
       "      <td>0.058181</td>\n",
       "      <td>0.076086</td>\n",
       "      <td>-0.006169</td>\n",
       "      <td>0.090682</td>\n",
       "      <td>0.067310</td>\n",
       "      <td>0.045485</td>\n",
       "      <td>0.066654</td>\n",
       "    </tr>\n",
       "    <tr>\n",
       "      <th>2015-11-01</th>\n",
       "      <td>-0.008736</td>\n",
       "      <td>-0.007079</td>\n",
       "      <td>-0.006081</td>\n",
       "      <td>-0.003525</td>\n",
       "      <td>-0.008862</td>\n",
       "      <td>-0.003525</td>\n",
       "      <td>-0.001190</td>\n",
       "      <td>-0.004227</td>\n",
       "      <td>-0.001756</td>\n",
       "      <td>-0.003176</td>\n",
       "      <td>...</td>\n",
       "      <td>0.000744</td>\n",
       "      <td>0.002308</td>\n",
       "      <td>-0.004355</td>\n",
       "      <td>0.015791</td>\n",
       "      <td>-0.000075</td>\n",
       "      <td>0.016784</td>\n",
       "      <td>0.001196</td>\n",
       "      <td>0.016415</td>\n",
       "      <td>0.044032</td>\n",
       "      <td>-0.034426</td>\n",
       "    </tr>\n",
       "  </tbody>\n",
       "</table>\n",
       "<p>5 rows × 71 columns</p>\n",
       "</div>"
      ],
      "text/plain": [
       "                ACWI       AOK       AOM       AOR      CRBN      DGRO  \\\n",
       "Date                                                                     \n",
       "2015-07-01  0.004564  0.004728  0.004074  0.006243  0.005747  0.015781   \n",
       "2015-08-01 -0.074030 -0.029295 -0.033160 -0.046780 -0.068211 -0.063105   \n",
       "2015-09-01 -0.038493 -0.010376 -0.015103 -0.022365 -0.048914 -0.020410   \n",
       "2015-10-01  0.070231  0.022025  0.026085  0.037977  0.077078  0.073417   \n",
       "2015-11-01 -0.008736 -0.007079 -0.006081 -0.003525 -0.008862 -0.003525   \n",
       "\n",
       "                DGRW       DLN       DSI       DTD  ...       VOO      VOOV  \\\n",
       "Date                                                ...                       \n",
       "2015-07-01  0.005489  0.007057  0.018173  0.006994  ...  0.018003  0.000821   \n",
       "2015-08-01 -0.066738 -0.064654 -0.066320 -0.064651  ... -0.066858 -0.065418   \n",
       "2015-09-01 -0.024101 -0.020452 -0.028249 -0.021105  ... -0.028491 -0.032977   \n",
       "2015-10-01  0.081823  0.074531  0.080460  0.073785  ...  0.077608  0.068040   \n",
       "2015-11-01 -0.001190 -0.004227 -0.001756 -0.003176  ...  0.000744  0.002308   \n",
       "\n",
       "                  VT      VUSE        VV      WTMF       XLG      XRLV  \\\n",
       "Date                                                                     \n",
       "2015-07-01  0.001688 -0.018857  0.017336 -0.040059  0.028658  0.028224   \n",
       "2015-08-01 -0.072218 -0.048289 -0.065770 -0.004522 -0.073197 -0.057670   \n",
       "2015-09-01 -0.041282 -0.052742 -0.031206  0.004095 -0.024109 -0.024421   \n",
       "2015-10-01  0.066683  0.058181  0.076086 -0.006169  0.090682  0.067310   \n",
       "2015-11-01 -0.004355  0.015791 -0.000075  0.016784  0.001196  0.016415   \n",
       "\n",
       "                XSMO       YYY  \n",
       "Date                            \n",
       "2015-07-01  0.013653 -0.025118  \n",
       "2015-08-01 -0.060683 -0.052452  \n",
       "2015-09-01 -0.074237 -0.038514  \n",
       "2015-10-01  0.045485  0.066654  \n",
       "2015-11-01  0.044032 -0.034426  \n",
       "\n",
       "[5 rows x 71 columns]"
      ]
     },
     "execution_count": 16,
     "metadata": {},
     "output_type": "execute_result"
    }
   ],
   "source": [
    "benchmark_excess_returns_df = benchmark_log_returns_df - risk_free_rate_monthly\n",
    "benchmark_excess_returns_df.head()"
   ]
  },
  {
   "cell_type": "markdown",
   "id": "b7d95382",
   "metadata": {},
   "source": [
    "#### Stocks"
   ]
  },
  {
   "cell_type": "code",
   "execution_count": 17,
   "id": "8ffb2f5a",
   "metadata": {
    "execution": {
     "iopub.execute_input": "2025-06-02T13:28:31.350103Z",
     "iopub.status.busy": "2025-06-02T13:28:31.349138Z",
     "iopub.status.idle": "2025-06-02T13:28:31.364165Z",
     "shell.execute_reply": "2025-06-02T13:28:31.363050Z"
    }
   },
   "outputs": [
    {
     "data": {
      "application/vnd.microsoft.datawrangler.viewer.v0+json": {
       "columns": [
        {
         "name": "Date",
         "rawType": "datetime64[ns]",
         "type": "datetime"
        },
        {
         "name": "AMAT",
         "rawType": "float64",
         "type": "float"
        },
        {
         "name": "APO",
         "rawType": "float64",
         "type": "float"
        },
        {
         "name": "MMC",
         "rawType": "float64",
         "type": "float"
        },
        {
         "name": "SO",
         "rawType": "float64",
         "type": "float"
        },
        {
         "name": "TMUS",
         "rawType": "float64",
         "type": "float"
        }
       ],
       "ref": "9b22519f-4d6b-449d-b957-02c20119ae48",
       "rows": [
        [
         "2015-08-01 00:00:00",
         "-0.07349300564515786",
         "-0.08472668018109066",
         "-0.07902458672913168",
         "-0.02171043854127818",
         "-0.029513723809523384"
        ],
        [
         "2015-09-01 00:00:00",
         "-0.0946627119985242",
         "-0.08189406711550677",
         "-0.03196504165015933",
         "0.025818627007383525",
         "0.0013675036435145645"
        ],
        [
         "2015-10-01 00:00:00",
         "0.1292427423392253",
         "0.057951773551001305",
         "0.06758417909628138",
         "0.0055127184202668645",
         "-0.05302180988026849"
        ],
        [
         "2015-11-01 00:00:00",
         "0.11485203626784934",
         "-0.09441565875729441",
         "-0.01153347272833768",
         "-0.0038582777901203773",
         "-0.06847746194994637"
        ],
        [
         "2015-12-01 00:00:00",
         "-0.00888375054310519",
         "-0.07705908404614899",
         "-0.0007780357792647485",
         "0.04558257410702787",
         "0.0935640742199574"
        ]
       ],
       "shape": {
        "columns": 5,
        "rows": 5
       }
      },
      "text/html": [
       "<div>\n",
       "<style scoped>\n",
       "    .dataframe tbody tr th:only-of-type {\n",
       "        vertical-align: middle;\n",
       "    }\n",
       "\n",
       "    .dataframe tbody tr th {\n",
       "        vertical-align: top;\n",
       "    }\n",
       "\n",
       "    .dataframe thead th {\n",
       "        text-align: right;\n",
       "    }\n",
       "</style>\n",
       "<table border=\"1\" class=\"dataframe\">\n",
       "  <thead>\n",
       "    <tr style=\"text-align: right;\">\n",
       "      <th></th>\n",
       "      <th>AMAT</th>\n",
       "      <th>APO</th>\n",
       "      <th>MMC</th>\n",
       "      <th>SO</th>\n",
       "      <th>TMUS</th>\n",
       "    </tr>\n",
       "    <tr>\n",
       "      <th>Date</th>\n",
       "      <th></th>\n",
       "      <th></th>\n",
       "      <th></th>\n",
       "      <th></th>\n",
       "      <th></th>\n",
       "    </tr>\n",
       "  </thead>\n",
       "  <tbody>\n",
       "    <tr>\n",
       "      <th>2015-08-01</th>\n",
       "      <td>-0.073493</td>\n",
       "      <td>-0.084727</td>\n",
       "      <td>-0.079025</td>\n",
       "      <td>-0.021710</td>\n",
       "      <td>-0.029514</td>\n",
       "    </tr>\n",
       "    <tr>\n",
       "      <th>2015-09-01</th>\n",
       "      <td>-0.094663</td>\n",
       "      <td>-0.081894</td>\n",
       "      <td>-0.031965</td>\n",
       "      <td>0.025819</td>\n",
       "      <td>0.001368</td>\n",
       "    </tr>\n",
       "    <tr>\n",
       "      <th>2015-10-01</th>\n",
       "      <td>0.129243</td>\n",
       "      <td>0.057952</td>\n",
       "      <td>0.067584</td>\n",
       "      <td>0.005513</td>\n",
       "      <td>-0.053022</td>\n",
       "    </tr>\n",
       "    <tr>\n",
       "      <th>2015-11-01</th>\n",
       "      <td>0.114852</td>\n",
       "      <td>-0.094416</td>\n",
       "      <td>-0.011533</td>\n",
       "      <td>-0.003858</td>\n",
       "      <td>-0.068477</td>\n",
       "    </tr>\n",
       "    <tr>\n",
       "      <th>2015-12-01</th>\n",
       "      <td>-0.008884</td>\n",
       "      <td>-0.077059</td>\n",
       "      <td>-0.000778</td>\n",
       "      <td>0.045583</td>\n",
       "      <td>0.093564</td>\n",
       "    </tr>\n",
       "  </tbody>\n",
       "</table>\n",
       "</div>"
      ],
      "text/plain": [
       "                AMAT       APO       MMC        SO      TMUS\n",
       "Date                                                        \n",
       "2015-08-01 -0.073493 -0.084727 -0.079025 -0.021710 -0.029514\n",
       "2015-09-01 -0.094663 -0.081894 -0.031965  0.025819  0.001368\n",
       "2015-10-01  0.129243  0.057952  0.067584  0.005513 -0.053022\n",
       "2015-11-01  0.114852 -0.094416 -0.011533 -0.003858 -0.068477\n",
       "2015-12-01 -0.008884 -0.077059 -0.000778  0.045583  0.093564"
      ]
     },
     "execution_count": 17,
     "metadata": {},
     "output_type": "execute_result"
    }
   ],
   "source": [
    "stock_excess_returns_df = stock_log_returns_df - risk_free_rate_monthly\n",
    "stock_excess_returns_df.head()"
   ]
  },
  {
   "cell_type": "markdown",
   "id": "b2439f61",
   "metadata": {},
   "source": [
    "### Step 10: Find the Best Benchmark (By Regression Coefficients)"
   ]
  },
  {
   "cell_type": "code",
   "execution_count": 18,
   "id": "f10cacac",
   "metadata": {
    "execution": {
     "iopub.execute_input": "2025-06-02T13:28:31.369701Z",
     "iopub.status.busy": "2025-06-02T13:28:31.368584Z",
     "iopub.status.idle": "2025-06-02T13:28:33.805998Z",
     "shell.execute_reply": "2025-06-02T13:28:33.797796Z"
    }
   },
   "outputs": [
    {
     "name": "stdout",
     "output_type": "stream",
     "text": [
      "Best benchmark: YYY\n"
     ]
    },
    {
     "data": {
      "application/vnd.microsoft.datawrangler.viewer.v0+json": {
       "columns": [
        {
         "name": "index",
         "rawType": "int64",
         "type": "integer"
        },
        {
         "name": "Equity",
         "rawType": "object",
         "type": "string"
        },
        {
         "name": "Benchmark",
         "rawType": "object",
         "type": "string"
        },
        {
         "name": "intercept (alpha)",
         "rawType": "float64",
         "type": "float"
        },
        {
         "name": "slope (beta)",
         "rawType": "float64",
         "type": "float"
        },
        {
         "name": "correlation",
         "rawType": "float64",
         "type": "float"
        },
        {
         "name": "r_squared",
         "rawType": "float64",
         "type": "float"
        },
        {
         "name": "p_value_slope",
         "rawType": "float64",
         "type": "float"
        },
        {
         "name": "p_value_intercept",
         "rawType": "float64",
         "type": "float"
        }
       ],
       "ref": "cee41abd-4360-4aa6-9ff4-ef92d1c1356e",
       "rows": [
        [
         "0",
         "AMAT",
         "YYY",
         "0.015764328678096677",
         "1.5345229989569564",
         "0.656733901381254",
         "0.4312994172234428",
         "6.759460592537691e-16",
         "0.02559455286018597"
        ],
        [
         "1",
         "APO",
         "YYY",
         "0.01566794077665412",
         "1.6089260204714066",
         "0.6915291238405727",
         "0.47821252911971035",
         "4.36181771383082e-18",
         "0.020121955770449052"
        ],
        [
         "2",
         "MMC",
         "YYY",
         "0.00946009942165371",
         "0.8606282022202238",
         "0.692278771229326",
         "0.4792498970947856",
         "3.882259459094161e-18",
         "0.008782765710797598"
        ],
        [
         "3",
         "SO",
         "YYY",
         "0.005835083672396513",
         "0.4790962391539651",
         "0.39728492737723514",
         "0.15783531352113556",
         "8.411535375399562e-06",
         "0.18520817621707308"
        ],
        [
         "4",
         "TMUS",
         "YYY",
         "0.011661274620986942",
         "0.5111957439198138",
         "0.3724860759862209",
         "0.13874587680361283",
         "3.2721054329416075e-05",
         "0.022404550708076298"
        ]
       ],
       "shape": {
        "columns": 8,
        "rows": 5
       }
      },
      "text/html": [
       "<div>\n",
       "<style scoped>\n",
       "    .dataframe tbody tr th:only-of-type {\n",
       "        vertical-align: middle;\n",
       "    }\n",
       "\n",
       "    .dataframe tbody tr th {\n",
       "        vertical-align: top;\n",
       "    }\n",
       "\n",
       "    .dataframe thead th {\n",
       "        text-align: right;\n",
       "    }\n",
       "</style>\n",
       "<table border=\"1\" class=\"dataframe\">\n",
       "  <thead>\n",
       "    <tr style=\"text-align: right;\">\n",
       "      <th></th>\n",
       "      <th>Equity</th>\n",
       "      <th>Benchmark</th>\n",
       "      <th>intercept (alpha)</th>\n",
       "      <th>slope (beta)</th>\n",
       "      <th>correlation</th>\n",
       "      <th>r_squared</th>\n",
       "      <th>p_value_slope</th>\n",
       "      <th>p_value_intercept</th>\n",
       "    </tr>\n",
       "  </thead>\n",
       "  <tbody>\n",
       "    <tr>\n",
       "      <th>0</th>\n",
       "      <td>AMAT</td>\n",
       "      <td>YYY</td>\n",
       "      <td>0.015764</td>\n",
       "      <td>1.534523</td>\n",
       "      <td>0.656734</td>\n",
       "      <td>0.431299</td>\n",
       "      <td>6.759461e-16</td>\n",
       "      <td>0.025595</td>\n",
       "    </tr>\n",
       "    <tr>\n",
       "      <th>1</th>\n",
       "      <td>APO</td>\n",
       "      <td>YYY</td>\n",
       "      <td>0.015668</td>\n",
       "      <td>1.608926</td>\n",
       "      <td>0.691529</td>\n",
       "      <td>0.478213</td>\n",
       "      <td>4.361818e-18</td>\n",
       "      <td>0.020122</td>\n",
       "    </tr>\n",
       "    <tr>\n",
       "      <th>2</th>\n",
       "      <td>MMC</td>\n",
       "      <td>YYY</td>\n",
       "      <td>0.009460</td>\n",
       "      <td>0.860628</td>\n",
       "      <td>0.692279</td>\n",
       "      <td>0.479250</td>\n",
       "      <td>3.882259e-18</td>\n",
       "      <td>0.008783</td>\n",
       "    </tr>\n",
       "    <tr>\n",
       "      <th>3</th>\n",
       "      <td>SO</td>\n",
       "      <td>YYY</td>\n",
       "      <td>0.005835</td>\n",
       "      <td>0.479096</td>\n",
       "      <td>0.397285</td>\n",
       "      <td>0.157835</td>\n",
       "      <td>8.411535e-06</td>\n",
       "      <td>0.185208</td>\n",
       "    </tr>\n",
       "    <tr>\n",
       "      <th>4</th>\n",
       "      <td>TMUS</td>\n",
       "      <td>YYY</td>\n",
       "      <td>0.011661</td>\n",
       "      <td>0.511196</td>\n",
       "      <td>0.372486</td>\n",
       "      <td>0.138746</td>\n",
       "      <td>3.272105e-05</td>\n",
       "      <td>0.022405</td>\n",
       "    </tr>\n",
       "  </tbody>\n",
       "</table>\n",
       "</div>"
      ],
      "text/plain": [
       "  Equity Benchmark  intercept (alpha)  slope (beta)  correlation  r_squared  \\\n",
       "0   AMAT       YYY           0.015764      1.534523     0.656734   0.431299   \n",
       "1    APO       YYY           0.015668      1.608926     0.691529   0.478213   \n",
       "2    MMC       YYY           0.009460      0.860628     0.692279   0.479250   \n",
       "3     SO       YYY           0.005835      0.479096     0.397285   0.157835   \n",
       "4   TMUS       YYY           0.011661      0.511196     0.372486   0.138746   \n",
       "\n",
       "   p_value_slope  p_value_intercept  \n",
       "0   6.759461e-16           0.025595  \n",
       "1   4.361818e-18           0.020122  \n",
       "2   3.882259e-18           0.008783  \n",
       "3   8.411535e-06           0.185208  \n",
       "4   3.272105e-05           0.022405  "
      ]
     },
     "metadata": {},
     "output_type": "display_data"
    }
   ],
   "source": [
    "# Call the function with your data\n",
    "best_benchmark, benchmark_stats_df, best_benchmarks_df = find_best_benchmark_and_run_regressions(\n",
    "    benchmark_excess_returns_df, \n",
    "    stock_excess_returns_df\n",
    ")\n",
    "\n",
    "# Display the results\n",
    "print(f\"Best benchmark: {best_benchmark}\")\n",
    "display(best_benchmarks_df)"
   ]
  },
  {
   "cell_type": "code",
   "execution_count": 19,
   "id": "a538dcf3",
   "metadata": {
    "execution": {
     "iopub.execute_input": "2025-06-02T13:28:33.811381Z",
     "iopub.status.busy": "2025-06-02T13:28:33.810059Z",
     "iopub.status.idle": "2025-06-02T13:28:33.826248Z",
     "shell.execute_reply": "2025-06-02T13:28:33.825115Z"
    }
   },
   "outputs": [
    {
     "data": {
      "application/vnd.microsoft.datawrangler.viewer.v0+json": {
       "columns": [
        {
         "name": "index",
         "rawType": "int64",
         "type": "integer"
        },
        {
         "name": "benchmark",
         "rawType": "object",
         "type": "string"
        },
        {
         "name": "avg_slope",
         "rawType": "float64",
         "type": "float"
        },
        {
         "name": "slope_std",
         "rawType": "float64",
         "type": "float"
        },
        {
         "name": "avg_p_value_intercept",
         "rawType": "float64",
         "type": "float"
        },
        {
         "name": "avg_p_value_slope",
         "rawType": "float64",
         "type": "float"
        },
        {
         "name": "avg_r_squared",
         "rawType": "float64",
         "type": "float"
        },
        {
         "name": "beta_quality",
         "rawType": "float64",
         "type": "float"
        },
        {
         "name": "score",
         "rawType": "float64",
         "type": "float"
        }
       ],
       "ref": "e5269ed2-e5ef-413d-b4cf-90bf710daf80",
       "rows": [
        [
         "65",
         "YYY",
         "0.9988738409444732",
         "0.4870717032413205",
         "0.052422400253316404",
         "8.226517941099966e-06",
         "0.33706860675253747",
         "0.9988738409444732",
         "0.7911948702049119"
        ],
        [
         "21",
         "IMTM",
         "0.992755103789001",
         "0.48710733319558813",
         "0.11197290439446357",
         "4.635723504963924e-05",
         "0.3055651723578953",
         "0.992755103789001",
         "0.7717494865856622"
        ],
        [
         "18",
         "IGF",
         "0.8563808975236183",
         "0.27828928542159415",
         "0.09006999737258842",
         "2.8406887879309886e-06",
         "0.30831865018850946",
         "0.8563808975236183",
         "0.7713844488638659"
        ],
        [
         "63",
         "XRLV",
         "1.0315672363869077",
         "0.35311565369362063",
         "0.2108271408339694",
         "1.1578826023721763e-06",
         "0.35771630131447746",
         "0.9684327636130923",
         "0.7708711787939748"
        ],
        [
         "59",
         "VT",
         "1.0134389025834198",
         "0.5291777362925318",
         "0.15718081313338594",
         "1.299554664227987e-05",
         "0.36335433488757984",
         "0.9865610974165802",
         "0.7693335686781794"
        ],
        [
         "26",
         "IVE",
         "0.9566474727834426",
         "0.43076509709394883",
         "0.16678801773678897",
         "1.5833088230138652e-06",
         "0.3575587169150813",
         "0.9566474727834426",
         "0.7692686678248944"
        ],
        [
         "58",
         "VOOV",
         "0.9561853414639238",
         "0.43085490356276873",
         "0.16913971008265385",
         "1.5977324576148242e-06",
         "0.35800973728705493",
         "0.9561853414639238",
         "0.7687873307652796"
        ],
        [
         "50",
         "SPYV",
         "0.956094229031382",
         "0.43310201353713684",
         "0.17063795427980852",
         "1.9863268101179125e-06",
         "0.35804659526115956",
         "0.956094229031382",
         "0.7682575830563387"
        ],
        [
         "1",
         "CRBN",
         "1.0100377927807869",
         "0.53498010975495",
         "0.16217811072574845",
         "1.9392056702445673e-05",
         "0.3609366111282143",
         "0.9899622072192131",
         "0.7680351110585683"
        ],
        [
         "6",
         "DTD",
         "1.0102994245774901",
         "0.4346446565874084",
         "0.21074262052608767",
         "9.271043617033014e-07",
         "0.35971973106433425",
         "0.9897005754225099",
         "0.7671426949636624"
        ]
       ],
       "shape": {
        "columns": 8,
        "rows": 10
       }
      },
      "text/html": [
       "<div>\n",
       "<style scoped>\n",
       "    .dataframe tbody tr th:only-of-type {\n",
       "        vertical-align: middle;\n",
       "    }\n",
       "\n",
       "    .dataframe tbody tr th {\n",
       "        vertical-align: top;\n",
       "    }\n",
       "\n",
       "    .dataframe thead th {\n",
       "        text-align: right;\n",
       "    }\n",
       "</style>\n",
       "<table border=\"1\" class=\"dataframe\">\n",
       "  <thead>\n",
       "    <tr style=\"text-align: right;\">\n",
       "      <th></th>\n",
       "      <th>benchmark</th>\n",
       "      <th>avg_slope</th>\n",
       "      <th>slope_std</th>\n",
       "      <th>avg_p_value_intercept</th>\n",
       "      <th>avg_p_value_slope</th>\n",
       "      <th>avg_r_squared</th>\n",
       "      <th>beta_quality</th>\n",
       "      <th>score</th>\n",
       "    </tr>\n",
       "  </thead>\n",
       "  <tbody>\n",
       "    <tr>\n",
       "      <th>65</th>\n",
       "      <td>YYY</td>\n",
       "      <td>0.998874</td>\n",
       "      <td>0.487072</td>\n",
       "      <td>0.052422</td>\n",
       "      <td>8.226518e-06</td>\n",
       "      <td>0.337069</td>\n",
       "      <td>0.998874</td>\n",
       "      <td>0.791195</td>\n",
       "    </tr>\n",
       "    <tr>\n",
       "      <th>21</th>\n",
       "      <td>IMTM</td>\n",
       "      <td>0.992755</td>\n",
       "      <td>0.487107</td>\n",
       "      <td>0.111973</td>\n",
       "      <td>4.635724e-05</td>\n",
       "      <td>0.305565</td>\n",
       "      <td>0.992755</td>\n",
       "      <td>0.771749</td>\n",
       "    </tr>\n",
       "    <tr>\n",
       "      <th>18</th>\n",
       "      <td>IGF</td>\n",
       "      <td>0.856381</td>\n",
       "      <td>0.278289</td>\n",
       "      <td>0.090070</td>\n",
       "      <td>2.840689e-06</td>\n",
       "      <td>0.308319</td>\n",
       "      <td>0.856381</td>\n",
       "      <td>0.771384</td>\n",
       "    </tr>\n",
       "    <tr>\n",
       "      <th>63</th>\n",
       "      <td>XRLV</td>\n",
       "      <td>1.031567</td>\n",
       "      <td>0.353116</td>\n",
       "      <td>0.210827</td>\n",
       "      <td>1.157883e-06</td>\n",
       "      <td>0.357716</td>\n",
       "      <td>0.968433</td>\n",
       "      <td>0.770871</td>\n",
       "    </tr>\n",
       "    <tr>\n",
       "      <th>59</th>\n",
       "      <td>VT</td>\n",
       "      <td>1.013439</td>\n",
       "      <td>0.529178</td>\n",
       "      <td>0.157181</td>\n",
       "      <td>1.299555e-05</td>\n",
       "      <td>0.363354</td>\n",
       "      <td>0.986561</td>\n",
       "      <td>0.769334</td>\n",
       "    </tr>\n",
       "    <tr>\n",
       "      <th>26</th>\n",
       "      <td>IVE</td>\n",
       "      <td>0.956647</td>\n",
       "      <td>0.430765</td>\n",
       "      <td>0.166788</td>\n",
       "      <td>1.583309e-06</td>\n",
       "      <td>0.357559</td>\n",
       "      <td>0.956647</td>\n",
       "      <td>0.769269</td>\n",
       "    </tr>\n",
       "    <tr>\n",
       "      <th>58</th>\n",
       "      <td>VOOV</td>\n",
       "      <td>0.956185</td>\n",
       "      <td>0.430855</td>\n",
       "      <td>0.169140</td>\n",
       "      <td>1.597732e-06</td>\n",
       "      <td>0.358010</td>\n",
       "      <td>0.956185</td>\n",
       "      <td>0.768787</td>\n",
       "    </tr>\n",
       "    <tr>\n",
       "      <th>50</th>\n",
       "      <td>SPYV</td>\n",
       "      <td>0.956094</td>\n",
       "      <td>0.433102</td>\n",
       "      <td>0.170638</td>\n",
       "      <td>1.986327e-06</td>\n",
       "      <td>0.358047</td>\n",
       "      <td>0.956094</td>\n",
       "      <td>0.768258</td>\n",
       "    </tr>\n",
       "    <tr>\n",
       "      <th>1</th>\n",
       "      <td>CRBN</td>\n",
       "      <td>1.010038</td>\n",
       "      <td>0.534980</td>\n",
       "      <td>0.162178</td>\n",
       "      <td>1.939206e-05</td>\n",
       "      <td>0.360937</td>\n",
       "      <td>0.989962</td>\n",
       "      <td>0.768035</td>\n",
       "    </tr>\n",
       "    <tr>\n",
       "      <th>6</th>\n",
       "      <td>DTD</td>\n",
       "      <td>1.010299</td>\n",
       "      <td>0.434645</td>\n",
       "      <td>0.210743</td>\n",
       "      <td>9.271044e-07</td>\n",
       "      <td>0.359720</td>\n",
       "      <td>0.989701</td>\n",
       "      <td>0.767143</td>\n",
       "    </tr>\n",
       "  </tbody>\n",
       "</table>\n",
       "</div>"
      ],
      "text/plain": [
       "   benchmark  avg_slope  slope_std  avg_p_value_intercept  avg_p_value_slope  \\\n",
       "65       YYY   0.998874   0.487072               0.052422       8.226518e-06   \n",
       "21      IMTM   0.992755   0.487107               0.111973       4.635724e-05   \n",
       "18       IGF   0.856381   0.278289               0.090070       2.840689e-06   \n",
       "63      XRLV   1.031567   0.353116               0.210827       1.157883e-06   \n",
       "59        VT   1.013439   0.529178               0.157181       1.299555e-05   \n",
       "26       IVE   0.956647   0.430765               0.166788       1.583309e-06   \n",
       "58      VOOV   0.956185   0.430855               0.169140       1.597732e-06   \n",
       "50      SPYV   0.956094   0.433102               0.170638       1.986327e-06   \n",
       "1       CRBN   1.010038   0.534980               0.162178       1.939206e-05   \n",
       "6        DTD   1.010299   0.434645               0.210743       9.271044e-07   \n",
       "\n",
       "    avg_r_squared  beta_quality     score  \n",
       "65       0.337069      0.998874  0.791195  \n",
       "21       0.305565      0.992755  0.771749  \n",
       "18       0.308319      0.856381  0.771384  \n",
       "63       0.357716      0.968433  0.770871  \n",
       "59       0.363354      0.986561  0.769334  \n",
       "26       0.357559      0.956647  0.769269  \n",
       "58       0.358010      0.956185  0.768787  \n",
       "50       0.358047      0.956094  0.768258  \n",
       "1        0.360937      0.989962  0.768035  \n",
       "6        0.359720      0.989701  0.767143  "
      ]
     },
     "metadata": {},
     "output_type": "display_data"
    }
   ],
   "source": [
    "# Display the benchmark statistics\n",
    "display(benchmark_stats_df.sort_values(by=\"score\", ascending=False).head(10))"
   ]
  },
  {
   "cell_type": "markdown",
   "id": "9320378e",
   "metadata": {},
   "source": [
    "### Step 11: Plot Results"
   ]
  },
  {
   "cell_type": "code",
   "execution_count": 20,
   "id": "4c4eeadd",
   "metadata": {
    "execution": {
     "iopub.execute_input": "2025-06-02T13:28:33.845495Z",
     "iopub.status.busy": "2025-06-02T13:28:33.844774Z",
     "iopub.status.idle": "2025-06-02T13:28:34.034453Z",
     "shell.execute_reply": "2025-06-02T13:28:34.033001Z"
    }
   },
   "outputs": [
    {
     "name": "stdout",
     "output_type": "stream",
     "text": [
      "📈 BENCHMARK REGRESSION ANALYSIS: YYY\n",
      "======================================================================\n",
      "🔍 AMAT: β=1.5345, R²=0.4313, p=0.0000, Weight=7.4%\n",
      "🔍 APO: β=1.6089, R²=0.4782, p=0.0000, Weight=16.1%\n",
      "🔍 MMC: β=0.8606, R²=0.4792, p=0.0000, Weight=33.7%\n",
      "🔍 SO: β=0.4791, R²=0.1578, p=0.0000, Weight=9.0%\n",
      "🔍 TMUS: β=0.5112, R²=0.1387, p=0.0000, Weight=33.7%\n"
     ]
    },
    {
     "data": {
      "image/png": "[encoded data removed]",
      "text/plain": [
       "<Figure size 1200x1500 with 6 Axes>"
      ]
     },
     "metadata": {},
     "output_type": "display_data"
    },
    {
     "name": "stdout",
     "output_type": "stream",
     "text": [
      "\n",
      "📊 BENCHMARK REGRESSION SUMMARY: YYY\n"
     ]
    },
    {
     "data": {
      "application/vnd.microsoft.datawrangler.viewer.v0+json": {
       "columns": [
        {
         "name": "index",
         "rawType": "int64",
         "type": "integer"
        },
        {
         "name": "Ticker",
         "rawType": "object",
         "type": "string"
        },
        {
         "name": "Beta",
         "rawType": "float64",
         "type": "float"
        },
        {
         "name": "Alpha",
         "rawType": "float64",
         "type": "float"
        },
        {
         "name": "R_Squared",
         "rawType": "float64",
         "type": "float"
        },
        {
         "name": "Correlation",
         "rawType": "float64",
         "type": "float"
        },
        {
         "name": "P_Value",
         "rawType": "float64",
         "type": "float"
        },
        {
         "name": "Portfolio_Weight",
         "rawType": "float64",
         "type": "float"
        },
        {
         "name": "N_Observations",
         "rawType": "int64",
         "type": "integer"
        },
        {
         "name": "Significance",
         "rawType": "object",
         "type": "string"
        }
       ],
       "ref": "4ecd6940-de8d-4853-9717-e74a802a597b",
       "rows": [
        [
         "0",
         "AMAT",
         "1.5345",
         "0.0158",
         "0.4313",
         "0.6567",
         "0.0",
         "0.074",
         "118",
         "***"
        ],
        [
         "1",
         "APO",
         "1.6089",
         "0.0157",
         "0.4782",
         "0.6915",
         "0.0",
         "0.1615",
         "118",
         "***"
        ],
        [
         "2",
         "MMC",
         "0.8606",
         "0.0095",
         "0.4792",
         "0.6923",
         "0.0",
         "0.3371",
         "118",
         "***"
        ],
        [
         "3",
         "SO",
         "0.4791",
         "0.0058",
         "0.1578",
         "0.3973",
         "0.0",
         "0.0904",
         "118",
         "***"
        ],
        [
         "4",
         "TMUS",
         "0.5112",
         "0.0117",
         "0.1387",
         "0.3725",
         "0.0",
         "0.3371",
         "118",
         "***"
        ]
       ],
       "shape": {
        "columns": 9,
        "rows": 5
       }
      },
      "text/html": [
       "<div>\n",
       "<style scoped>\n",
       "    .dataframe tbody tr th:only-of-type {\n",
       "        vertical-align: middle;\n",
       "    }\n",
       "\n",
       "    .dataframe tbody tr th {\n",
       "        vertical-align: top;\n",
       "    }\n",
       "\n",
       "    .dataframe thead th {\n",
       "        text-align: right;\n",
       "    }\n",
       "</style>\n",
       "<table border=\"1\" class=\"dataframe\">\n",
       "  <thead>\n",
       "    <tr style=\"text-align: right;\">\n",
       "      <th></th>\n",
       "      <th>Ticker</th>\n",
       "      <th>Beta</th>\n",
       "      <th>Alpha</th>\n",
       "      <th>R_Squared</th>\n",
       "      <th>Correlation</th>\n",
       "      <th>P_Value</th>\n",
       "      <th>Portfolio_Weight</th>\n",
       "      <th>N_Observations</th>\n",
       "      <th>Significance</th>\n",
       "    </tr>\n",
       "  </thead>\n",
       "  <tbody>\n",
       "    <tr>\n",
       "      <th>0</th>\n",
       "      <td>AMAT</td>\n",
       "      <td>1.5345</td>\n",
       "      <td>0.0158</td>\n",
       "      <td>0.4313</td>\n",
       "      <td>0.6567</td>\n",
       "      <td>0.0</td>\n",
       "      <td>0.0740</td>\n",
       "      <td>118</td>\n",
       "      <td>***</td>\n",
       "    </tr>\n",
       "    <tr>\n",
       "      <th>1</th>\n",
       "      <td>APO</td>\n",
       "      <td>1.6089</td>\n",
       "      <td>0.0157</td>\n",
       "      <td>0.4782</td>\n",
       "      <td>0.6915</td>\n",
       "      <td>0.0</td>\n",
       "      <td>0.1615</td>\n",
       "      <td>118</td>\n",
       "      <td>***</td>\n",
       "    </tr>\n",
       "    <tr>\n",
       "      <th>2</th>\n",
       "      <td>MMC</td>\n",
       "      <td>0.8606</td>\n",
       "      <td>0.0095</td>\n",
       "      <td>0.4792</td>\n",
       "      <td>0.6923</td>\n",
       "      <td>0.0</td>\n",
       "      <td>0.3371</td>\n",
       "      <td>118</td>\n",
       "      <td>***</td>\n",
       "    </tr>\n",
       "    <tr>\n",
       "      <th>3</th>\n",
       "      <td>SO</td>\n",
       "      <td>0.4791</td>\n",
       "      <td>0.0058</td>\n",
       "      <td>0.1578</td>\n",
       "      <td>0.3973</td>\n",
       "      <td>0.0</td>\n",
       "      <td>0.0904</td>\n",
       "      <td>118</td>\n",
       "      <td>***</td>\n",
       "    </tr>\n",
       "    <tr>\n",
       "      <th>4</th>\n",
       "      <td>TMUS</td>\n",
       "      <td>0.5112</td>\n",
       "      <td>0.0117</td>\n",
       "      <td>0.1387</td>\n",
       "      <td>0.3725</td>\n",
       "      <td>0.0</td>\n",
       "      <td>0.3371</td>\n",
       "      <td>118</td>\n",
       "      <td>***</td>\n",
       "    </tr>\n",
       "  </tbody>\n",
       "</table>\n",
       "</div>"
      ],
      "text/plain": [
       "  Ticker    Beta   Alpha  R_Squared  Correlation  P_Value  Portfolio_Weight  \\\n",
       "0   AMAT  1.5345  0.0158     0.4313       0.6567      0.0            0.0740   \n",
       "1    APO  1.6089  0.0157     0.4782       0.6915      0.0            0.1615   \n",
       "2    MMC  0.8606  0.0095     0.4792       0.6923      0.0            0.3371   \n",
       "3     SO  0.4791  0.0058     0.1578       0.3973      0.0            0.0904   \n",
       "4   TMUS  0.5112  0.0117     0.1387       0.3725      0.0            0.3371   \n",
       "\n",
       "   N_Observations Significance  \n",
       "0             118          ***  \n",
       "1             118          ***  \n",
       "2             118          ***  \n",
       "3             118          ***  \n",
       "4             118          ***  "
      ]
     },
     "metadata": {},
     "output_type": "display_data"
    },
    {
     "name": "stdout",
     "output_type": "stream",
     "text": [
      "\n",
      "📈 PORTFOLIO STATISTICS: Weighted β=0.8791, Weighted R²=0.3317\n",
      "  • Significant relationships (p<0.05): 5/5\n",
      "Portfolio sectors: {'Technology', 'Financial Services', 'Communication Services', 'Utilities'}\n",
      "Benchmark sectors: {'Consumer Defensive', 'Energy', 'Technology', 'Healthcare', 'Financial Services', 'Realestate', 'Consumer Cyclical', 'Industrials', 'Basic Materials', 'Communication Services', 'Utilities'}\n"
     ]
    },
    {
     "data": {
      "image/png": "[encoded data removed]",
      "text/plain": [
       "<Figure size 1600x1200 with 4 Axes>"
      ]
     },
     "metadata": {},
     "output_type": "display_data"
    }
   ],
   "source": [
    "from py.regression_benchmark import analyze_benchmark_regression, plot_benchmark_analysis\n",
    "\n",
    "# Execute analysis\n",
    "benchmark_regression_results = analyze_benchmark_regression(benchmark_excess_returns_df, stock_excess_returns_df, best_benchmark, portfolio_df)\n",
    "\n",
    "# Get the benchmark sector data\n",
    "best_benchmark_sectors = filtered_sectors_df[filtered_sectors_df[\"Symbol\"] == best_benchmarks_df['Benchmark'].unique()[0]]\n",
    "best_benchmark_sectors = best_benchmark_sectors[[\"Symbol\", \"Name_x\", \"Sectors\"]] \n",
    "best_benchmark_sectors = best_benchmark_sectors.rename(columns={\"Name_x\": \"Name\"})\n",
    "\n",
    "# Create the analysis with sector weights\n",
    "benchmark_regression_summary = plot_benchmark_analysis(\n",
    "    regression_results=benchmark_regression_results, \n",
    "    best_benchmark=best_benchmark, \n",
    "    cols=2, \n",
    "    benchmark_sectors_df=best_benchmark_sectors,\n",
    "    portfolio_df=portfolio_df \n",
    ")"
   ]
  },
  {
   "cell_type": "markdown",
   "id": "76b26b74",
   "metadata": {},
   "source": [
    "### Step 12: Export Data to Excel"
   ]
  },
  {
   "cell_type": "code",
   "execution_count": 21,
   "id": "abf0469a",
   "metadata": {
    "execution": {
     "iopub.execute_input": "2025-06-02T13:28:34.039007Z",
     "iopub.status.busy": "2025-06-02T13:28:34.038022Z",
     "iopub.status.idle": "2025-06-02T13:28:34.050755Z",
     "shell.execute_reply": "2025-06-02T13:28:34.049152Z"
    }
   },
   "outputs": [
    {
     "name": "stdout",
     "output_type": "stream",
     "text": [
      "YYY\n"
     ]
    },
    {
     "data": {
      "application/vnd.microsoft.datawrangler.viewer.v0+json": {
       "columns": [
        {
         "name": "Equity",
         "rawType": "object",
         "type": "string"
        },
        {
         "name": "Benchmark",
         "rawType": "object",
         "type": "string"
        },
        {
         "name": "intercept (alpha)",
         "rawType": "float64",
         "type": "float"
        },
        {
         "name": "slope (beta)",
         "rawType": "float64",
         "type": "float"
        },
        {
         "name": "correlation",
         "rawType": "float64",
         "type": "float"
        },
        {
         "name": "r_squared",
         "rawType": "float64",
         "type": "float"
        },
        {
         "name": "p_value_slope",
         "rawType": "float64",
         "type": "float"
        },
        {
         "name": "p_value_intercept",
         "rawType": "float64",
         "type": "float"
        }
       ],
       "ref": "1827f64b-752b-4a68-a311-68c006012185",
       "rows": [
        [
         "AMAT",
         "YYY",
         "0.015764328678096677",
         "1.5345229989569564",
         "0.656733901381254",
         "0.4312994172234428",
         "6.759460592537691e-16",
         "0.02559455286018597"
        ],
        [
         "APO",
         "YYY",
         "0.01566794077665412",
         "1.6089260204714066",
         "0.6915291238405727",
         "0.47821252911971035",
         "4.36181771383082e-18",
         "0.020121955770449052"
        ],
        [
         "MMC",
         "YYY",
         "0.00946009942165371",
         "0.8606282022202238",
         "0.692278771229326",
         "0.4792498970947856",
         "3.882259459094161e-18",
         "0.008782765710797598"
        ],
        [
         "SO",
         "YYY",
         "0.005835083672396513",
         "0.4790962391539651",
         "0.39728492737723514",
         "0.15783531352113556",
         "8.411535375399562e-06",
         "0.18520817621707308"
        ],
        [
         "TMUS",
         "YYY",
         "0.011661274620986942",
         "0.5111957439198138",
         "0.3724860759862209",
         "0.13874587680361283",
         "3.2721054329416075e-05",
         "0.022404550708076298"
        ]
       ],
       "shape": {
        "columns": 7,
        "rows": 5
       }
      },
      "text/html": [
       "<div>\n",
       "<style scoped>\n",
       "    .dataframe tbody tr th:only-of-type {\n",
       "        vertical-align: middle;\n",
       "    }\n",
       "\n",
       "    .dataframe tbody tr th {\n",
       "        vertical-align: top;\n",
       "    }\n",
       "\n",
       "    .dataframe thead th {\n",
       "        text-align: right;\n",
       "    }\n",
       "</style>\n",
       "<table border=\"1\" class=\"dataframe\">\n",
       "  <thead>\n",
       "    <tr style=\"text-align: right;\">\n",
       "      <th></th>\n",
       "      <th>Benchmark</th>\n",
       "      <th>intercept (alpha)</th>\n",
       "      <th>slope (beta)</th>\n",
       "      <th>correlation</th>\n",
       "      <th>r_squared</th>\n",
       "      <th>p_value_slope</th>\n",
       "      <th>p_value_intercept</th>\n",
       "    </tr>\n",
       "    <tr>\n",
       "      <th>Equity</th>\n",
       "      <th></th>\n",
       "      <th></th>\n",
       "      <th></th>\n",
       "      <th></th>\n",
       "      <th></th>\n",
       "      <th></th>\n",
       "      <th></th>\n",
       "    </tr>\n",
       "  </thead>\n",
       "  <tbody>\n",
       "    <tr>\n",
       "      <th>AMAT</th>\n",
       "      <td>YYY</td>\n",
       "      <td>0.015764</td>\n",
       "      <td>1.534523</td>\n",
       "      <td>0.656734</td>\n",
       "      <td>0.431299</td>\n",
       "      <td>6.759461e-16</td>\n",
       "      <td>0.025595</td>\n",
       "    </tr>\n",
       "    <tr>\n",
       "      <th>APO</th>\n",
       "      <td>YYY</td>\n",
       "      <td>0.015668</td>\n",
       "      <td>1.608926</td>\n",
       "      <td>0.691529</td>\n",
       "      <td>0.478213</td>\n",
       "      <td>4.361818e-18</td>\n",
       "      <td>0.020122</td>\n",
       "    </tr>\n",
       "    <tr>\n",
       "      <th>MMC</th>\n",
       "      <td>YYY</td>\n",
       "      <td>0.009460</td>\n",
       "      <td>0.860628</td>\n",
       "      <td>0.692279</td>\n",
       "      <td>0.479250</td>\n",
       "      <td>3.882259e-18</td>\n",
       "      <td>0.008783</td>\n",
       "    </tr>\n",
       "    <tr>\n",
       "      <th>SO</th>\n",
       "      <td>YYY</td>\n",
       "      <td>0.005835</td>\n",
       "      <td>0.479096</td>\n",
       "      <td>0.397285</td>\n",
       "      <td>0.157835</td>\n",
       "      <td>8.411535e-06</td>\n",
       "      <td>0.185208</td>\n",
       "    </tr>\n",
       "    <tr>\n",
       "      <th>TMUS</th>\n",
       "      <td>YYY</td>\n",
       "      <td>0.011661</td>\n",
       "      <td>0.511196</td>\n",
       "      <td>0.372486</td>\n",
       "      <td>0.138746</td>\n",
       "      <td>3.272105e-05</td>\n",
       "      <td>0.022405</td>\n",
       "    </tr>\n",
       "  </tbody>\n",
       "</table>\n",
       "</div>"
      ],
      "text/plain": [
       "       Benchmark  intercept (alpha)  slope (beta)  correlation  r_squared  \\\n",
       "Equity                                                                      \n",
       "AMAT         YYY           0.015764      1.534523     0.656734   0.431299   \n",
       "APO          YYY           0.015668      1.608926     0.691529   0.478213   \n",
       "MMC          YYY           0.009460      0.860628     0.692279   0.479250   \n",
       "SO           YYY           0.005835      0.479096     0.397285   0.157835   \n",
       "TMUS         YYY           0.011661      0.511196     0.372486   0.138746   \n",
       "\n",
       "        p_value_slope  p_value_intercept  \n",
       "Equity                                    \n",
       "AMAT     6.759461e-16           0.025595  \n",
       "APO      4.361818e-18           0.020122  \n",
       "MMC      3.882259e-18           0.008783  \n",
       "SO       8.411535e-06           0.185208  \n",
       "TMUS     3.272105e-05           0.022405  "
      ]
     },
     "execution_count": 21,
     "metadata": {},
     "output_type": "execute_result"
    }
   ],
   "source": [
    "# Set Index\n",
    "first_column = best_benchmarks_df.columns[0] # Get the name of the first column\n",
    "best_benchmarks_df.set_index(first_column, drop=True, inplace=True)\n",
    "best_benchmark = best_benchmarks_df['Benchmark'].unique()[0]\n",
    "\n",
    "# Display the best benchmark DataFrame\n",
    "print(best_benchmark)\n",
    "best_benchmarks_df"
   ]
  },
  {
   "cell_type": "code",
   "execution_count": 22,
   "id": "5875bf44",
   "metadata": {
    "execution": {
     "iopub.execute_input": "2025-06-02T13:28:34.054929Z",
     "iopub.status.busy": "2025-06-02T13:28:34.053526Z",
     "iopub.status.idle": "2025-06-02T13:28:35.789149Z",
     "shell.execute_reply": "2025-06-02T13:28:35.787254Z"
    }
   },
   "outputs": [
    {
     "name": "stdout",
     "output_type": "stream",
     "text": [
      "Updated sheet 'benchmark_long_term'\n",
      "Successfully merged data into 'daily_quotes' sheet\n",
      "Successfully merged data into 'monthly_quotes' sheet\n",
      "Successfully exported all data to portfolios/portfolio-2025-06-02.xlsx\n"
     ]
    }
   ],
   "source": [
    "export_to_excel(output_file, {\n",
    "    'benchmark_long_term': best_benchmarks_df,\n",
    "    'daily_quotes': benchmark_prices_daily_df[[best_benchmark]],  \n",
    "    'monthly_quotes': benchmark_prices_monthly_df[[best_benchmark]]   \n",
    "})"
   ]
  }
 ],
 "metadata": {
  "kernelspec": {
   "display_name": ".venv",
   "language": "python",
   "name": "python3"
  },
  "language_info": {
   "codemirror_mode": {
    "name": "ipython",
    "version": 3
   },
   "file_extension": ".py",
   "mimetype": "text/x-python",
   "name": "python",
   "nbconvert_exporter": "python",
   "pygments_lexer": "ipython3",
   "version": "3.13.3"
  },
  "widgets": {
   "application/vnd.jupyter.widget-state+json": {
    "state": {
     "045ae3d33e4e4f28bf306e11146680bf": {
      "model_module": "@jupyter-widgets/base",
      "model_module_version": "2.0.0",
      "model_name": "LayoutModel",
      "state": {
       "_model_module": "@jupyter-widgets/base",
       "_model_module_version": "2.0.0",
       "_model_name": "LayoutModel",
       "_view_count": null,
       "_view_module": "@jupyter-widgets/base",
       "_view_module_version": "2.0.0",
       "_view_name": "LayoutView",
       "align_content": null,
       "align_items": null,
       "align_self": null,
       "border_bottom": null,
       "border_left": null,
       "border_right": null,
       "border_top": null,
       "bottom": null,
       "display": null,
       "flex": null,
       "flex_flow": null,
       "grid_area": null,
       "grid_auto_columns": null,
       "grid_auto_flow": null,
       "grid_auto_rows": null,
       "grid_column": null,
       "grid_gap": null,
       "grid_row": null,
       "grid_template_areas": null,
       "grid_template_columns": null,
       "grid_template_rows": null,
       "height": null,
       "justify_content": null,
       "justify_items": null,
       "left": null,
       "margin": null,
       "max_height": null,
       "max_width": null,
       "min_height": null,
       "min_width": null,
       "object_fit": null,
       "object_position": null,
       "order": null,
       "overflow": null,
       "padding": null,
       "right": null,
       "top": null,
       "visibility": null,
       "width": null
      }
     },
     "0e994225a7124f8dacbce576f288c778": {
      "model_module": "@jupyter-widgets/base",
      "model_module_version": "2.0.0",
      "model_name": "LayoutModel",
      "state": {
       "_model_module": "@jupyter-widgets/base",
       "_model_module_version": "2.0.0",
       "_model_name": "LayoutModel",
       "_view_count": null,
       "_view_module": "@jupyter-widgets/base",
       "_view_module_version": "2.0.0",
       "_view_name": "LayoutView",
       "align_content": null,
       "align_items": null,
       "align_self": null,
       "border_bottom": null,
       "border_left": null,
       "border_right": null,
       "border_top": null,
       "bottom": null,
       "display": null,
       "flex": null,
       "flex_flow": null,
       "grid_area": null,
       "grid_auto_columns": null,
       "grid_auto_flow": null,
       "grid_auto_rows": null,
       "grid_column": null,
       "grid_gap": null,
       "grid_row": null,
       "grid_template_areas": null,
       "grid_template_columns": null,
       "grid_template_rows": null,
       "height": null,
       "justify_content": null,
       "justify_items": null,
       "left": null,
       "margin": null,
       "max_height": null,
       "max_width": null,
       "min_height": null,
       "min_width": null,
       "object_fit": null,
       "object_position": null,
       "order": null,
       "overflow": null,
       "padding": null,
       "right": null,
       "top": null,
       "visibility": null,
       "width": null
      }
     },
     "294e0b5895ac4cb5a3e52c40b52715c0": {
      "model_module": "@jupyter-widgets/controls",
      "model_module_version": "2.0.0",
      "model_name": "HBoxModel",
      "state": {
       "_dom_classes": [],
       "_model_module": "@jupyter-widgets/controls",
       "_model_module_version": "2.0.0",
       "_model_name": "HBoxModel",
       "_view_count": null,
       "_view_module": "@jupyter-widgets/controls",
       "_view_module_version": "2.0.0",
       "_view_name": "HBoxView",
       "box_style": "",
       "children": [
        "IPY_MODEL_e2d34e0235144456b14f793c3fac79ca",
        "IPY_MODEL_779190ba5571443db3c0d62d2a37f2a1",
        "IPY_MODEL_dbc34e958a6e419c9a50589872524dc3"
       ],
       "layout": "IPY_MODEL_aaa07405a0404e80af127cfe3778ac1c",
       "tabbable": null,
       "tooltip": null
      }
     },
     "434e195470de46f3af439d9f686ec13c": {
      "model_module": "@jupyter-widgets/controls",
      "model_module_version": "2.0.0",
      "model_name": "HTMLStyleModel",
      "state": {
       "_model_module": "@jupyter-widgets/controls",
       "_model_module_version": "2.0.0",
       "_model_name": "HTMLStyleModel",
       "_view_count": null,
       "_view_module": "@jupyter-widgets/base",
       "_view_module_version": "2.0.0",
       "_view_name": "StyleView",
       "background": null,
       "description_width": "",
       "font_size": null,
       "text_color": null
      }
     },
     "6cedd3aff77641849dcbf7657691054e": {
      "model_module": "@jupyter-widgets/base",
      "model_module_version": "2.0.0",
      "model_name": "LayoutModel",
      "state": {
       "_model_module": "@jupyter-widgets/base",
       "_model_module_version": "2.0.0",
       "_model_name": "LayoutModel",
       "_view_count": null,
       "_view_module": "@jupyter-widgets/base",
       "_view_module_version": "2.0.0",
       "_view_name": "LayoutView",
       "align_content": null,
       "align_items": null,
       "align_self": null,
       "border_bottom": null,
       "border_left": null,
       "border_right": null,
       "border_top": null,
       "bottom": null,
       "display": null,
       "flex": null,
       "flex_flow": null,
       "grid_area": null,
       "grid_auto_columns": null,
       "grid_auto_flow": null,
       "grid_auto_rows": null,
       "grid_column": null,
       "grid_gap": null,
       "grid_row": null,
       "grid_template_areas": null,
       "grid_template_columns": null,
       "grid_template_rows": null,
       "height": null,
       "justify_content": null,
       "justify_items": null,
       "left": null,
       "margin": null,
       "max_height": null,
       "max_width": null,
       "min_height": null,
       "min_width": null,
       "object_fit": null,
       "object_position": null,
       "order": null,
       "overflow": null,
       "padding": null,
       "right": null,
       "top": null,
       "visibility": null,
       "width": null
      }
     },
     "779190ba5571443db3c0d62d2a37f2a1": {
      "model_module": "@jupyter-widgets/controls",
      "model_module_version": "2.0.0",
      "model_name": "FloatProgressModel",
      "state": {
       "_dom_classes": [],
       "_model_module": "@jupyter-widgets/controls",
       "_model_module_version": "2.0.0",
       "_model_name": "FloatProgressModel",
       "_view_count": null,
       "_view_module": "@jupyter-widgets/controls",
       "_view_module_version": "2.0.0",
       "_view_name": "ProgressView",
       "bar_style": "success",
       "description": "",
       "description_allow_html": false,
       "layout": "IPY_MODEL_0e994225a7124f8dacbce576f288c778",
       "max": 513,
       "min": 0,
       "orientation": "horizontal",
       "style": "IPY_MODEL_7e34651eb7364339b0dac58478f22353",
       "tabbable": null,
       "tooltip": null,
       "value": 513
      }
     },
     "7e34651eb7364339b0dac58478f22353": {
      "model_module": "@jupyter-widgets/controls",
      "model_module_version": "2.0.0",
      "model_name": "ProgressStyleModel",
      "state": {
       "_model_module": "@jupyter-widgets/controls",
       "_model_module_version": "2.0.0",
       "_model_name": "ProgressStyleModel",
       "_view_count": null,
       "_view_module": "@jupyter-widgets/base",
       "_view_module_version": "2.0.0",
       "_view_name": "StyleView",
       "bar_color": null,
       "description_width": ""
      }
     },
     "aaa07405a0404e80af127cfe3778ac1c": {
      "model_module": "@jupyter-widgets/base",
      "model_module_version": "2.0.0",
      "model_name": "LayoutModel",
      "state": {
       "_model_module": "@jupyter-widgets/base",
       "_model_module_version": "2.0.0",
       "_model_name": "LayoutModel",
       "_view_count": null,
       "_view_module": "@jupyter-widgets/base",
       "_view_module_version": "2.0.0",
       "_view_name": "LayoutView",
       "align_content": null,
       "align_items": null,
       "align_self": null,
       "border_bottom": null,
       "border_left": null,
       "border_right": null,
       "border_top": null,
       "bottom": null,
       "display": null,
       "flex": null,
       "flex_flow": null,
       "grid_area": null,
       "grid_auto_columns": null,
       "grid_auto_flow": null,
       "grid_auto_rows": null,
       "grid_column": null,
       "grid_gap": null,
       "grid_row": null,
       "grid_template_areas": null,
       "grid_template_columns": null,
       "grid_template_rows": null,
       "height": null,
       "justify_content": null,
       "justify_items": null,
       "left": null,
       "margin": null,
       "max_height": null,
       "max_width": null,
       "min_height": null,
       "min_width": null,
       "object_fit": null,
       "object_position": null,
       "order": null,
       "overflow": null,
       "padding": null,
       "right": null,
       "top": null,
       "visibility": null,
       "width": null
      }
     },
     "ae061c1387cd4fb6b8a1d923d00e3685": {
      "model_module": "@jupyter-widgets/controls",
      "model_module_version": "2.0.0",
      "model_name": "HTMLStyleModel",
      "state": {
       "_model_module": "@jupyter-widgets/controls",
       "_model_module_version": "2.0.0",
       "_model_name": "HTMLStyleModel",
       "_view_count": null,
       "_view_module": "@jupyter-widgets/base",
       "_view_module_version": "2.0.0",
       "_view_name": "StyleView",
       "background": null,
       "description_width": "",
       "font_size": null,
       "text_color": null
      }
     },
     "dbc34e958a6e419c9a50589872524dc3": {
      "model_module": "@jupyter-widgets/controls",
      "model_module_version": "2.0.0",
      "model_name": "HTMLModel",
      "state": {
       "_dom_classes": [],
       "_model_module": "@jupyter-widgets/controls",
       "_model_module_version": "2.0.0",
       "_model_name": "HTMLModel",
       "_view_count": null,
       "_view_module": "@jupyter-widgets/controls",
       "_view_module_version": "2.0.0",
       "_view_name": "HTMLView",
       "description": "",
       "description_allow_html": false,
       "layout": "IPY_MODEL_045ae3d33e4e4f28bf306e11146680bf",
       "placeholder": "​",
       "style": "IPY_MODEL_434e195470de46f3af439d9f686ec13c",
       "tabbable": null,
       "tooltip": null,
       "value": " 513/513 [00:13&lt;00:00, 21.56it/s]"
      }
     },
     "e2d34e0235144456b14f793c3fac79ca": {
      "model_module": "@jupyter-widgets/controls",
      "model_module_version": "2.0.0",
      "model_name": "HTMLModel",
      "state": {
       "_dom_classes": [],
       "_model_module": "@jupyter-widgets/controls",
       "_model_module_version": "2.0.0",
       "_model_name": "HTMLModel",
       "_view_count": null,
       "_view_module": "@jupyter-widgets/controls",
       "_view_module_version": "2.0.0",
       "_view_name": "HTMLView",
       "description": "",
       "description_allow_html": false,
       "layout": "IPY_MODEL_6cedd3aff77641849dcbf7657691054e",
       "placeholder": "​",
       "style": "IPY_MODEL_ae061c1387cd4fb6b8a1d923d00e3685",
       "tabbable": null,
       "tooltip": null,
       "value": "100%"
      }
     }
    },
    "version_major": 2,
    "version_minor": 0
   }
  }
 },
 "nbformat": 4,
 "nbformat_minor": 5
}
