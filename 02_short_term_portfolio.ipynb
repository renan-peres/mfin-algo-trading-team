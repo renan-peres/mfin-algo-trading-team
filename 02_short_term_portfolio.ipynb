{
 "cells": [
  {
   "cell_type": "markdown",
   "id": "31ee7119",
   "metadata": {
    "colab_type": "text",
    "id": "view-in-github"
   },
   "source": [
    "<a href=\"https://colab.research.google.com/github/renan-peres/mfin-portfolio-management/blob/main/01_portfolio_construction.ipynb\" target=\"_parent\"><img src=\"https://colab.research.google.com/assets/colab-badge.svg\" alt=\"Open In Colab\"/></a>"
   ]
  },
  {
   "cell_type": "markdown",
   "id": "8498d8f4",
   "metadata": {
    "id": "8498d8f4"
   },
   "source": [
    "# Short-Term Equity Portfolio -- ***30% of Complete Portfolio***\n",
    "The goal is to select the top 10 most popular stocks on news and selecting a strategy ***(based on sentiment analysis and technical indicators)*** while adhering to these following constraints:"
   ]
  },
  {
   "cell_type": "markdown",
   "id": "e67fb614",
   "metadata": {
    "id": "e67fb614"
   },
   "source": [
    "### Step 1: Import Libraries"
   ]
  },
  {
   "cell_type": "code",
   "execution_count": 37,
   "id": "b1bafac4",
   "metadata": {
    "execution": {
     "iopub.execute_input": "2025-05-29T14:21:41.762549Z",
     "iopub.status.busy": "2025-05-29T14:21:41.761715Z",
     "iopub.status.idle": "2025-05-29T14:21:42.986300Z",
     "shell.execute_reply": "2025-05-29T14:21:42.985449Z"
    },
    "id": "b1bafac4"
   },
   "outputs": [],
   "source": [
    "# System libraries\n",
    "import glob\n",
    "import os\n",
    "import sys\n",
    "from io import StringIO\n",
    "from typing import Dict, List\n",
    "\n",
    "# Data manipulation libraries\n",
    "import polars as pl\n",
    "import pandas as pd\n",
    "import numpy as np\n",
    "from datetime import datetime, timedelta\n",
    "from pandas.tseries.offsets import BDay\n",
    "\n",
    "# Visualization libraries\n",
    "import matplotlib.pyplot as plt\n",
    "from IPython.display import Image, display\n",
    "\n",
    "# Backtesting library\n",
    "import bt"
   ]
  },
  {
   "cell_type": "code",
   "execution_count": 38,
   "id": "95d63aed",
   "metadata": {},
   "outputs": [],
   "source": [
    "import logging\n",
    "import warnings\n",
    "\n",
    "# Suppress all warnings\n",
    "warnings.filterwarnings('ignore')\n",
    "\n",
    "# Suppress yfinance progress bars\n",
    "os.environ['YFINANCE_PROGRESS'] = 'False'\n",
    "\n",
    "# Create logger instance\n",
    "logger = logging.getLogger(__name__)\n",
    "\n",
    "logging.getLogger('bt').disabled = True\n",
    "logging.getLogger('yfinance').disabled = True\n",
    "\n",
    "# Alternative: Set logging level to critical\n",
    "logging.getLogger('bt').setLevel(logging.CRITICAL)\n",
    "logging.getLogger('yfinance').setLevel(logging.CRITICAL)"
   ]
  },
  {
   "cell_type": "markdown",
   "id": "7467cc7c",
   "metadata": {},
   "source": [
    "### Step 2: Define Parameters"
   ]
  },
  {
   "cell_type": "markdown",
   "id": "a4ba3c5b",
   "metadata": {},
   "source": [
    "#### Date Range"
   ]
  },
  {
   "cell_type": "code",
   "execution_count": 39,
   "id": "4024bbec",
   "metadata": {
    "execution": {
     "iopub.execute_input": "2025-05-29T14:21:42.989062Z",
     "iopub.status.busy": "2025-05-29T14:21:42.988695Z",
     "iopub.status.idle": "2025-05-29T14:21:42.994558Z",
     "shell.execute_reply": "2025-05-29T14:21:42.993688Z"
    }
   },
   "outputs": [
    {
     "name": "stdout",
     "output_type": "stream",
     "text": [
      "Date Range: 2015-06-05 to 2025-06-02\n",
      "Time span: 3650 days (10.00 years)\n"
     ]
    }
   ],
   "source": [
    "# Define the date range\n",
    "end_date = (datetime.today() - BDay(1)).to_pydatetime()  # Subtract 1 business day\n",
    "start_date = end_date - timedelta(days=10*365)            \n",
    "\n",
    "# Convert datetime objects to Unix timestamps (seconds since Jan 1, 1970)\n",
    "start_timestamp = int(start_date.timestamp())\n",
    "end_timestamp = int(end_date.timestamp())\n",
    "\n",
    "# Print the date range\n",
    "days_difference = (end_date - start_date).days\n",
    "print(f\"Date Range: {start_date.strftime('%Y-%m-%d')} to {end_date.strftime('%Y-%m-%d')}\")\n",
    "print(f\"Time span: {days_difference} days ({days_difference/365:.2f} years)\")"
   ]
  },
  {
   "cell_type": "markdown",
   "id": "20181096",
   "metadata": {},
   "source": [
    "#### Risk-free rate (T-bill, %)"
   ]
  },
  {
   "cell_type": "code",
   "execution_count": 40,
   "id": "22cc8ce8",
   "metadata": {
    "execution": {
     "iopub.execute_input": "2025-05-29T14:21:43.014551Z",
     "iopub.status.busy": "2025-05-29T14:21:43.014259Z",
     "iopub.status.idle": "2025-05-29T14:21:43.042315Z",
     "shell.execute_reply": "2025-05-29T14:21:43.041295Z"
    }
   },
   "outputs": [
    {
     "name": "stdout",
     "output_type": "stream",
     "text": [
      "Found 1 of 1 tickers in data/daily_treasury_rates.csv\n",
      "Missing tickers: []\n",
      "Risk-Free Rate: 0.042300000000000004 -- 13 WEEK TREASURY BILL (^IRX)\n"
     ]
    }
   ],
   "source": [
    "from py.utils import load_and_filter_data\n",
    "\n",
    "daily_risk_free_df = load_and_filter_data('data/daily_treasury_rates.csv', ['^IRX'], start_date, end_date)\n",
    "# risk_free_rate = .0433\n",
    "risk_free_rate = daily_risk_free_df.iloc[-1, 0] / 100\n",
    "print(\"Risk-Free Rate:\", risk_free_rate, \"-- 13 WEEK TREASURY BILL (^IRX)\")"
   ]
  },
  {
   "cell_type": "markdown",
   "id": "72cbd82f",
   "metadata": {},
   "source": [
    "#### Portfolio File"
   ]
  },
  {
   "cell_type": "code",
   "execution_count": 41,
   "id": "30c30936",
   "metadata": {
    "execution": {
     "iopub.execute_input": "2025-05-29T14:21:43.045084Z",
     "iopub.status.busy": "2025-05-29T14:21:43.044811Z",
     "iopub.status.idle": "2025-05-29T14:21:43.050178Z",
     "shell.execute_reply": "2025-05-29T14:21:43.049099Z"
    }
   },
   "outputs": [
    {
     "name": "stdout",
     "output_type": "stream",
     "text": [
      "Using most recent portfolio file: portfolios/portfolio-2025-06-02.xlsx\n"
     ]
    }
   ],
   "source": [
    "# Get the most recent portfolio file\n",
    "portfolio_files = glob.glob('portfolios/portfolio-*.xlsx')\n",
    "if portfolio_files:\n",
    "    # Sort files by modification time (most recent first)\n",
    "    output_file = max(portfolio_files, key=os.path.getmtime)\n",
    "    print(f\"Using most recent portfolio file: {output_file}\")\n",
    "else:\n",
    "    # Fallback to current date if no files found\n",
    "    output_file = f'portfolios/portfolio-{datetime.date(end_date)}.xlsx'\n",
    "    print(f\"No portfolio files found. Using: {output_file}\")"
   ]
  },
  {
   "cell_type": "markdown",
   "id": "4361260c",
   "metadata": {
    "id": "4361260c"
   },
   "source": [
    "### Step 3: Import News Data (FMP API)\n",
    "- API Documentation: https://site.financialmodelingprep.com/developer/docs/stable/stock-news"
   ]
  },
  {
   "cell_type": "code",
   "execution_count": 42,
   "id": "0579c708",
   "metadata": {
    "colab": {
     "base_uri": "https://localhost:8080/",
     "height": 241
    },
    "execution": {
     "iopub.execute_input": "2025-05-29T14:21:43.053055Z",
     "iopub.status.busy": "2025-05-29T14:21:43.052715Z",
     "iopub.status.idle": "2025-05-29T14:21:43.092204Z",
     "shell.execute_reply": "2025-05-29T14:21:43.091297Z"
    },
    "id": "0579c708",
    "outputId": "25413516-9768-4f80-a412-c58c4a59dbf2"
   },
   "outputs": [
    {
     "name": "stdout",
     "output_type": "stream",
     "text": [
      "Fetching page 1/15...\n",
      "Page 1: 998 articles fetched\n",
      "Fetching page 2/15...\n",
      "Page 2: 1000 articles fetched\n",
      "Fetching page 3/15...\n",
      "Page 3: 998 articles fetched\n",
      "Fetching page 4/15...\n",
      "Page 4: 1000 articles fetched\n",
      "Fetching page 5/15...\n",
      "Page 5: 1000 articles fetched\n",
      "Fetching page 6/15...\n",
      "Page 6: 1000 articles fetched\n",
      "Fetching page 7/15...\n",
      "Page 7: 999 articles fetched\n",
      "Fetching page 8/15...\n",
      "Page 8: 1000 articles fetched\n",
      "Fetching page 9/15...\n",
      "Page 9: 996 articles fetched\n",
      "Fetching page 10/15...\n",
      "Page 10: 1000 articles fetched\n",
      "Fetching page 11/15...\n",
      "Page 11: 1000 articles fetched\n",
      "Fetching page 12/15...\n",
      "Page 12: 1000 articles fetched\n",
      "Fetching page 13/15...\n",
      "Page 13: 1000 articles fetched\n",
      "Fetching page 14/15...\n",
      "Page 14: 1000 articles fetched\n",
      "Fetching page 15/15...\n",
      "Page 15: 998 articles fetched\n",
      "Total articles fetched: 14989\n"
     ]
    },
    {
     "data": {
      "text/html": [
       "<div><style>\n",
       ".dataframe > thead > tr,\n",
       ".dataframe > tbody > tr {\n",
       "  text-align: right;\n",
       "  white-space: pre-wrap;\n",
       "}\n",
       "</style>\n",
       "<small>shape: (5, 7)</small><table border=\"1\" class=\"dataframe\"><thead><tr><th>symbol</th><th>publishedDate</th><th>title</th><th>image</th><th>site</th><th>text</th><th>url</th></tr><tr><td>str</td><td>str</td><td>str</td><td>str</td><td>str</td><td>str</td><td>str</td></tr></thead><tbody><tr><td>&quot;PSMT&quot;</td><td>&quot;2025-06-03 13:54:11&quot;</td><td>&quot;PriceSmart: A Great Play At A …</td><td>&quot;https://images.financialmodeli…</td><td>&quot;seekingalpha.com&quot;</td><td>&quot;PriceSmart continues to delive…</td><td>&quot;https://seekingalpha.com/artic…</td></tr><tr><td>&quot;COIN&quot;</td><td>&quot;2025-06-03 13:53:00&quot;</td><td>&quot;Coinbase Global, Inc. (COIN) S…</td><td>&quot;https://images.financialmodeli…</td><td>&quot;globenewswire.com&quot;</td><td>&quot;SAN FRANCISCO, June 03, 2025 (…</td><td>&quot;https://www.globenewswire.com/…</td></tr><tr><td>&quot;AU&quot;</td><td>&quot;2025-06-03 13:51:06&quot;</td><td>&quot;AngloGold Ashanti Inks Deal to…</td><td>&quot;https://images.financialmodeli…</td><td>&quot;zacks.com&quot;</td><td>&quot;AU hits a 52-week high after s…</td><td>&quot;https://www.zacks.com/stock/ne…</td></tr><tr><td>&quot;APP&quot;</td><td>&quot;2025-06-03 13:51:04&quot;</td><td>&quot;Markets Start June Positive De…</td><td>&quot;https://images.financialmodeli…</td><td>&quot;zacks.com&quot;</td><td>&quot;Declining volatility surroundi…</td><td>&quot;https://www.zacks.com/commenta…</td></tr><tr><td>&quot;SIG&quot;</td><td>&quot;2025-06-03 13:49:17&quot;</td><td>&quot;Signet Jewlers: Not As Good As…</td><td>&quot;https://images.financialmodeli…</td><td>&quot;seekingalpha.com&quot;</td><td>&quot;We remain neutral on SIG after…</td><td>&quot;https://seekingalpha.com/artic…</td></tr></tbody></table></div>"
      ],
      "text/plain": [
       "shape: (5, 7)\n",
       "┌────────┬──────────────┬──────────────┬──────────────┬──────────────┬──────────────┬──────────────┐\n",
       "│ symbol ┆ publishedDat ┆ title        ┆ image        ┆ site         ┆ text         ┆ url          │\n",
       "│ ---    ┆ e            ┆ ---          ┆ ---          ┆ ---          ┆ ---          ┆ ---          │\n",
       "│ str    ┆ ---          ┆ str          ┆ str          ┆ str          ┆ str          ┆ str          │\n",
       "│        ┆ str          ┆              ┆              ┆              ┆              ┆              │\n",
       "╞════════╪══════════════╪══════════════╪══════════════╪══════════════╪══════════════╪══════════════╡\n",
       "│ PSMT   ┆ 2025-06-03   ┆ PriceSmart:  ┆ https://imag ┆ seekingalpha ┆ PriceSmart   ┆ https://seek │\n",
       "│        ┆ 13:54:11     ┆ A Great Play ┆ es.financial ┆ .com         ┆ continues to ┆ ingalpha.com │\n",
       "│        ┆              ┆ At A …       ┆ modeli…      ┆              ┆ delive…      ┆ /artic…      │\n",
       "│ COIN   ┆ 2025-06-03   ┆ Coinbase     ┆ https://imag ┆ globenewswir ┆ SAN          ┆ https://www. │\n",
       "│        ┆ 13:53:00     ┆ Global, Inc. ┆ es.financial ┆ e.com        ┆ FRANCISCO,   ┆ globenewswir │\n",
       "│        ┆              ┆ (COIN) S…    ┆ modeli…      ┆              ┆ June 03,     ┆ e.com/…      │\n",
       "│        ┆              ┆              ┆              ┆              ┆ 2025 (…      ┆              │\n",
       "│ AU     ┆ 2025-06-03   ┆ AngloGold    ┆ https://imag ┆ zacks.com    ┆ AU hits a    ┆ https://www. │\n",
       "│        ┆ 13:51:06     ┆ Ashanti Inks ┆ es.financial ┆              ┆ 52-week high ┆ zacks.com/st │\n",
       "│        ┆              ┆ Deal to…     ┆ modeli…      ┆              ┆ after s…     ┆ ock/ne…      │\n",
       "│ APP    ┆ 2025-06-03   ┆ Markets      ┆ https://imag ┆ zacks.com    ┆ Declining    ┆ https://www. │\n",
       "│        ┆ 13:51:04     ┆ Start June   ┆ es.financial ┆              ┆ volatility   ┆ zacks.com/co │\n",
       "│        ┆              ┆ Positive De… ┆ modeli…      ┆              ┆ surroundi…   ┆ mmenta…      │\n",
       "│ SIG    ┆ 2025-06-03   ┆ Signet       ┆ https://imag ┆ seekingalpha ┆ We remain    ┆ https://seek │\n",
       "│        ┆ 13:49:17     ┆ Jewlers: Not ┆ es.financial ┆ .com         ┆ neutral on   ┆ ingalpha.com │\n",
       "│        ┆              ┆ As Good As…  ┆ modeli…      ┆              ┆ SIG after…   ┆ /artic…      │\n",
       "└────────┴──────────────┴──────────────┴──────────────┴──────────────┴──────────────┴──────────────┘"
      ]
     },
     "metadata": {},
     "output_type": "display_data"
    }
   ],
   "source": [
    "from py.fetch_fmp_api import create_session, fetch_data\n",
    "from dotenv import load_dotenv\n",
    "load_dotenv()\n",
    "\n",
    "# Get API key from environment variables\n",
    "FMP_API_KEY = os.getenv('FMP_API_KEY')\n",
    "if not FMP_API_KEY:\n",
    "    raise ValueError(\"FMP_API_KEY not found in environment variables\")\n",
    "\n",
    "# Configuration variables for fetch_data function\n",
    "DAYS_BACK = 7                    # Number of days to look back for news\n",
    "MAX_PAGES = 10                   # Maximum number of pages to fetch\n",
    "RECORDS_PER_PAGE = 1000          # Number of records per page\n",
    "REQUEST_TIMEOUT = 10             # Timeout for API requests in seconds\n",
    "API_BASE_URL = \"https://financialmodelingprep.com/api/v3/stock_news\"\n",
    "DATE_FORMAT = \"%Y-%m-%d %H:%M:%S\"  # Date format for parsing publishedDate\n",
    "\n",
    "# Create session and fetch data with all required parameters\n",
    "session = create_session()\n",
    "data = fetch_data(\n",
    "    api_key=FMP_API_KEY,\n",
    "    session=session,\n",
    "    days_back=30,           # Custom: 30 days back\n",
    "    max_pages=15,           # Custom: 15 pages\n",
    "    records_per_page=1000,  \n",
    "    request_timeout=10      \n",
    ")\n",
    "\n",
    "news_df = pl.DataFrame(data)\n",
    "display(news_df.sort('publishedDate', descending=True).head())"
   ]
  },
  {
   "cell_type": "markdown",
   "id": "b3949edb",
   "metadata": {},
   "source": [
    "### Step 4: Sentiment Analysis\n",
    "- Use `TextBlob` for sentiment analysis on news headlines.\n"
   ]
  },
  {
   "cell_type": "code",
   "execution_count": 43,
   "id": "b1660790",
   "metadata": {},
   "outputs": [
    {
     "name": "stdout",
     "output_type": "stream",
     "text": [
      "Loading fundamental data...\n",
      "Loaded 504 stocks, 4233 unique tickers\n",
      "Analyzing sentiment for stock symbols...\n",
      "\n",
      "Screened 1672 stocks, 11 sectors\n"
     ]
    },
    {
     "data": {
      "text/html": [
       "<div><style>\n",
       ".dataframe > thead > tr,\n",
       ".dataframe > tbody > tr {\n",
       "  text-align: right;\n",
       "  white-space: pre-wrap;\n",
       "}\n",
       "</style>\n",
       "<small>shape: (5, 13)</small><table border=\"1\" class=\"dataframe\"><thead><tr><th>symbol</th><th>articlesInLastWeek</th><th>companyNewsScore</th><th>bearishPercent</th><th>bullishPercent</th><th>averageSentimentScore</th><th>totalArticles</th><th>sectorAverageBullishPercent</th><th>sectorAverageNewsScore</th><th>sector</th><th>marketCap</th><th>peRatio</th><th>price</th></tr><tr><td>str</td><td>i64</td><td>f64</td><td>f64</td><td>f64</td><td>f64</td><td>i64</td><td>f64</td><td>f64</td><td>str</td><td>f64</td><td>f64</td><td>f64</td></tr></thead><tbody><tr><td>&quot;BGM&quot;</td><td>4</td><td>0.9</td><td>0.0</td><td>1.0</td><td>0.8</td><td>4</td><td>0.0</td><td>0.0</td><td>&quot;Unknown&quot;</td><td>0.0</td><td>0.0</td><td>0.0</td></tr><tr><td>&quot;CAE&quot;</td><td>4</td><td>0.8</td><td>0.0</td><td>1.0</td><td>0.6</td><td>4</td><td>0.0</td><td>0.0</td><td>&quot;Unknown&quot;</td><td>0.0</td><td>0.0</td><td>0.0</td></tr><tr><td>&quot;BBY&quot;</td><td>21</td><td>0.7933</td><td>0.0</td><td>1.0</td><td>0.5865</td><td>21</td><td>0.4474</td><td>0.5625</td><td>&quot;Consumer Cyclical&quot;</td><td>1.4031e10</td><td>16.17</td><td>66.28</td></tr><tr><td>&quot;NSCIF&quot;</td><td>3</td><td>0.7803</td><td>0.0</td><td>1.0</td><td>0.5606</td><td>3</td><td>0.0</td><td>0.0</td><td>&quot;Unknown&quot;</td><td>0.0</td><td>0.0</td><td>0.0</td></tr><tr><td>&quot;AGS&quot;</td><td>3</td><td>0.775</td><td>0.0</td><td>1.0</td><td>0.55</td><td>3</td><td>0.0</td><td>0.0</td><td>&quot;Unknown&quot;</td><td>0.0</td><td>0.0</td><td>0.0</td></tr></tbody></table></div>"
      ],
      "text/plain": [
       "shape: (5, 13)\n",
       "┌────────┬──────────────┬──────────────┬──────────────┬───┬──────────┬───────────┬─────────┬───────┐\n",
       "│ symbol ┆ articlesInLa ┆ companyNewsS ┆ bearishPerce ┆ … ┆ sector   ┆ marketCap ┆ peRatio ┆ price │\n",
       "│ ---    ┆ stWeek       ┆ core         ┆ nt           ┆   ┆ ---      ┆ ---       ┆ ---     ┆ ---   │\n",
       "│ str    ┆ ---          ┆ ---          ┆ ---          ┆   ┆ str      ┆ f64       ┆ f64     ┆ f64   │\n",
       "│        ┆ i64          ┆ f64          ┆ f64          ┆   ┆          ┆           ┆         ┆       │\n",
       "╞════════╪══════════════╪══════════════╪══════════════╪═══╪══════════╪═══════════╪═════════╪═══════╡\n",
       "│ BGM    ┆ 4            ┆ 0.9          ┆ 0.0          ┆ … ┆ Unknown  ┆ 0.0       ┆ 0.0     ┆ 0.0   │\n",
       "│ CAE    ┆ 4            ┆ 0.8          ┆ 0.0          ┆ … ┆ Unknown  ┆ 0.0       ┆ 0.0     ┆ 0.0   │\n",
       "│ BBY    ┆ 21           ┆ 0.7933       ┆ 0.0          ┆ … ┆ Consumer ┆ 1.4031e10 ┆ 16.17   ┆ 66.28 │\n",
       "│        ┆              ┆              ┆              ┆   ┆ Cyclical ┆           ┆         ┆       │\n",
       "│ NSCIF  ┆ 3            ┆ 0.7803       ┆ 0.0          ┆ … ┆ Unknown  ┆ 0.0       ┆ 0.0     ┆ 0.0   │\n",
       "│ AGS    ┆ 3            ┆ 0.775        ┆ 0.0          ┆ … ┆ Unknown  ┆ 0.0       ┆ 0.0     ┆ 0.0   │\n",
       "└────────┴──────────────┴──────────────┴──────────────┴───┴──────────┴───────────┴─────────┴───────┘"
      ]
     },
     "metadata": {},
     "output_type": "display_data"
    },
    {
     "data": {
      "text/html": [
       "<div><style>\n",
       ".dataframe > thead > tr,\n",
       ".dataframe > tbody > tr {\n",
       "  text-align: right;\n",
       "  white-space: pre-wrap;\n",
       "}\n",
       "</style>\n",
       "<small>shape: (11, 7)</small><table border=\"1\" class=\"dataframe\"><thead><tr><th>sector</th><th>stock_count</th><th>avg_news_score</th><th>avg_bullish_percent</th><th>avg_articles</th><th>avg_market_cap</th><th>avg_pe_ratio</th></tr><tr><td>str</td><td>u32</td><td>f64</td><td>f64</td><td>f64</td><td>f64</td><td>f64</td></tr></thead><tbody><tr><td>&quot;Utilities&quot;</td><td>29</td><td>0.585697</td><td>0.560559</td><td>16.862069</td><td>4.1626e10</td><td>21.179655</td></tr><tr><td>&quot;Healthcare&quot;</td><td>54</td><td>0.585672</td><td>0.588063</td><td>19.166667</td><td>8.8330e10</td><td>NaN</td></tr><tr><td>&quot;Communication Services&quot;</td><td>19</td><td>0.572658</td><td>0.578358</td><td>25.052632</td><td>3.9771e11</td><td>NaN</td></tr><tr><td>&quot;Technology&quot;</td><td>78</td><td>0.568494</td><td>0.513381</td><td>16.782051</td><td>2.1434e11</td><td>NaN</td></tr><tr><td>&quot;Consumer Cyclical&quot;</td><td>51</td><td>0.562457</td><td>0.447382</td><td>13.078431</td><td>1.1462e11</td><td>NaN</td></tr><tr><td>&hellip;</td><td>&hellip;</td><td>&hellip;</td><td>&hellip;</td><td>&hellip;</td><td>&hellip;</td><td>&hellip;</td></tr><tr><td>&quot;Consumer Defensive&quot;</td><td>31</td><td>0.558226</td><td>0.504452</td><td>16.193548</td><td>1.0506e11</td><td>NaN</td></tr><tr><td>&quot;Real Estate&quot;</td><td>28</td><td>0.555468</td><td>0.435532</td><td>8.392857</td><td>3.6466e10</td><td>NaN</td></tr><tr><td>&quot;Energy&quot;</td><td>22</td><td>0.550414</td><td>0.36815</td><td>6.090909</td><td>6.8922e10</td><td>NaN</td></tr><tr><td>&quot;Financial Services&quot;</td><td>59</td><td>0.548985</td><td>0.387008</td><td>12.440678</td><td>1.0311e11</td><td>NaN</td></tr><tr><td>&quot;Basic Materials&quot;</td><td>18</td><td>0.541389</td><td>0.389261</td><td>5.611111</td><td>3.5205e10</td><td>NaN</td></tr></tbody></table></div>"
      ],
      "text/plain": [
       "shape: (11, 7)\n",
       "┌──────────────┬─────────────┬─────────────┬─────────────┬─────────────┬─────────────┬─────────────┐\n",
       "│ sector       ┆ stock_count ┆ avg_news_sc ┆ avg_bullish ┆ avg_article ┆ avg_market_ ┆ avg_pe_rati │\n",
       "│ ---          ┆ ---         ┆ ore         ┆ _percent    ┆ s           ┆ cap         ┆ o           │\n",
       "│ str          ┆ u32         ┆ ---         ┆ ---         ┆ ---         ┆ ---         ┆ ---         │\n",
       "│              ┆             ┆ f64         ┆ f64         ┆ f64         ┆ f64         ┆ f64         │\n",
       "╞══════════════╪═════════════╪═════════════╪═════════════╪═════════════╪═════════════╪═════════════╡\n",
       "│ Utilities    ┆ 29          ┆ 0.585697    ┆ 0.560559    ┆ 16.862069   ┆ 4.1626e10   ┆ 21.179655   │\n",
       "│ Healthcare   ┆ 54          ┆ 0.585672    ┆ 0.588063    ┆ 19.166667   ┆ 8.8330e10   ┆ NaN         │\n",
       "│ Communicatio ┆ 19          ┆ 0.572658    ┆ 0.578358    ┆ 25.052632   ┆ 3.9771e11   ┆ NaN         │\n",
       "│ n Services   ┆             ┆             ┆             ┆             ┆             ┆             │\n",
       "│ Technology   ┆ 78          ┆ 0.568494    ┆ 0.513381    ┆ 16.782051   ┆ 2.1434e11   ┆ NaN         │\n",
       "│ Consumer     ┆ 51          ┆ 0.562457    ┆ 0.447382    ┆ 13.078431   ┆ 1.1462e11   ┆ NaN         │\n",
       "│ Cyclical     ┆             ┆             ┆             ┆             ┆             ┆             │\n",
       "│ …            ┆ …           ┆ …           ┆ …           ┆ …           ┆ …           ┆ …           │\n",
       "│ Consumer     ┆ 31          ┆ 0.558226    ┆ 0.504452    ┆ 16.193548   ┆ 1.0506e11   ┆ NaN         │\n",
       "│ Defensive    ┆             ┆             ┆             ┆             ┆             ┆             │\n",
       "│ Real Estate  ┆ 28          ┆ 0.555468    ┆ 0.435532    ┆ 8.392857    ┆ 3.6466e10   ┆ NaN         │\n",
       "│ Energy       ┆ 22          ┆ 0.550414    ┆ 0.36815     ┆ 6.090909    ┆ 6.8922e10   ┆ NaN         │\n",
       "│ Financial    ┆ 59          ┆ 0.548985    ┆ 0.387008    ┆ 12.440678   ┆ 1.0311e11   ┆ NaN         │\n",
       "│ Services     ┆             ┆             ┆             ┆             ┆             ┆             │\n",
       "│ Basic        ┆ 18          ┆ 0.541389    ┆ 0.389261    ┆ 5.611111    ┆ 3.5205e10   ┆ NaN         │\n",
       "│ Materials    ┆             ┆             ┆             ┆             ┆             ┆             │\n",
       "└──────────────┴─────────────┴─────────────┴─────────────┴─────────────┴─────────────┴─────────────┘"
      ]
     },
     "metadata": {},
     "output_type": "display_data"
    }
   ],
   "source": [
    "from py.sentiment_analysis import calculate_stock_sentiment_metrics, get_fundamental_value, calculate_sector_averages\n",
    "\n",
    "# Load fundamental data and prepare ticker lists\n",
    "print(\"Loading fundamental data...\")\n",
    "fundamentals_df = pl.read_csv('data/fundamentals_stock.csv')\n",
    "fundamentals_pandas = fundamentals_df.to_pandas().set_index('Ticker')\n",
    "all_tickers = set(news_df['symbol'].to_list() + fundamentals_df['Ticker'].to_list())\n",
    "EXCLUDED_SYMBOLS = {'AI', 'S', 'A', 'U', 'E', 'US', 'ET', 'TSXV', 'CODI', 'C'}\n",
    "\n",
    "print(f\"Loaded {len(fundamentals_df)} stocks, {len(all_tickers)} unique tickers\")\n",
    "\n",
    "# Execute sentiment analysis\n",
    "print(\"Analyzing sentiment for stock symbols...\")\n",
    "sentiment_metrics = calculate_stock_sentiment_metrics(news_df, all_tickers, EXCLUDED_SYMBOLS)\n",
    "sentiment_df = pl.DataFrame([{\n",
    "    \"symbol\": symbol, \"articlesInLastWeek\": metrics[\"articlesInLastWeek\"],\n",
    "    \"companyNewsScore\": metrics[\"companyNewsScore\"], \n",
    "    \"bearishPercent\": metrics[\"sentiment\"][\"bearishPercent\"],\n",
    "    \"bullishPercent\": metrics[\"sentiment\"][\"bullishPercent\"],\n",
    "    \"averageSentimentScore\": metrics[\"averageSentimentScore\"],\n",
    "    \"totalArticles\": metrics[\"totalArticles\"]\n",
    "} for symbol, metrics in sentiment_metrics.items()]).sort([\"articlesInLastWeek\", \"companyNewsScore\"], descending=[True, True])\n",
    "\n",
    "# Add fundamental data and sector averages\n",
    "sector_averages = calculate_sector_averages(sentiment_df, fundamentals_pandas)\n",
    "sentiment_with_fundamentals = sentiment_df.with_columns([\n",
    "    pl.col(\"symbol\").map_elements(lambda x: sector_averages.get(get_fundamental_value(x, 'Sector', 'Unknown'), {}).get('sectorAverageBullishPercent', 0), return_dtype=pl.Float64).alias(\"sectorAverageBullishPercent\"),\n",
    "    pl.col(\"symbol\").map_elements(lambda x: sector_averages.get(get_fundamental_value(x, 'Sector', 'Unknown'), {}).get('sectorAverageNewsScore', 0), return_dtype=pl.Float64).alias(\"sectorAverageNewsScore\"),\n",
    "    pl.col(\"symbol\").map_elements(lambda x: get_fundamental_value(x, 'Sector', 'Unknown'), return_dtype=pl.Utf8).alias(\"sector\"),\n",
    "    pl.col(\"symbol\").map_elements(lambda x: get_fundamental_value(x, 'Market Cap'), return_dtype=pl.Float64).alias(\"marketCap\"),\n",
    "    pl.col(\"symbol\").map_elements(lambda x: get_fundamental_value(x, 'P/E (trailing)'), return_dtype=pl.Float64).alias(\"peRatio\"),\n",
    "    pl.col(\"symbol\").map_elements(lambda x: get_fundamental_value(x, 'Price'), return_dtype=pl.Float64).alias(\"price\")\n",
    "])\n",
    "\n",
    "# Screen stocks and analyze sectors\n",
    "comprehensive_screened = sentiment_with_fundamentals.filter((pl.col(\"articlesInLastWeek\") >= 3) & (pl.col(\"companyNewsScore\") >= 0.45)).sort([\"companyNewsScore\", \"articlesInLastWeek\"], descending=[True, True])\n",
    "sector_summary = sentiment_with_fundamentals.filter(pl.col(\"sector\") != \"Unknown\").group_by(\"sector\").agg([\n",
    "    pl.count(\"symbol\").alias(\"stock_count\"), pl.mean(\"companyNewsScore\").alias(\"avg_news_score\"),\n",
    "    pl.mean(\"bullishPercent\").alias(\"avg_bullish_percent\"), pl.mean(\"articlesInLastWeek\").alias(\"avg_articles\"),\n",
    "    pl.mean(\"marketCap\").alias(\"avg_market_cap\"), pl.mean(\"peRatio\").alias(\"avg_pe_ratio\")\n",
    "]).sort(\"avg_news_score\", descending=True)\n",
    "\n",
    "print(f\"\\nScreened {len(comprehensive_screened)} stocks, {len(sector_averages)} sectors\")\n",
    "display(comprehensive_screened.head())\n",
    "display(sector_summary)"
   ]
  },
  {
   "cell_type": "markdown",
   "id": "45a71d85",
   "metadata": {},
   "source": [
    "### Step 5: Select Top 100 stocks ***(by `averageSentimentScore`)***\n",
    "- Constrained by being part of the s&p 500 index and not already in the portfolio long-term portfolio."
   ]
  },
  {
   "cell_type": "code",
   "execution_count": 44,
   "id": "e5b277a3",
   "metadata": {},
   "outputs": [
    {
     "name": "stdout",
     "output_type": "stream",
     "text": [
      "Excluding 5 tickers already in long-term portfolio: ['MMC', 'TMUS', 'APO', 'SO', 'AMAT']\n",
      "\n",
      "Selected 100 stocks with highest sentiment scores\n"
     ]
    },
    {
     "data": {
      "text/html": [
       "<div><style>\n",
       ".dataframe > thead > tr,\n",
       ".dataframe > tbody > tr {\n",
       "  text-align: right;\n",
       "  white-space: pre-wrap;\n",
       "}\n",
       "</style>\n",
       "<small>shape: (5, 13)</small><table border=\"1\" class=\"dataframe\"><thead><tr><th>symbol</th><th>articlesInLastWeek</th><th>companyNewsScore</th><th>bearishPercent</th><th>bullishPercent</th><th>averageSentimentScore</th><th>totalArticles</th><th>sectorAverageBullishPercent</th><th>sectorAverageNewsScore</th><th>sector</th><th>marketCap</th><th>peRatio</th><th>price</th></tr><tr><td>str</td><td>i64</td><td>f64</td><td>f64</td><td>f64</td><td>f64</td><td>i64</td><td>f64</td><td>f64</td><td>str</td><td>f64</td><td>f64</td><td>f64</td></tr></thead><tbody><tr><td>&quot;BBY&quot;</td><td>21</td><td>0.7933</td><td>0.0</td><td>1.0</td><td>0.5865</td><td>21</td><td>0.4474</td><td>0.5625</td><td>&quot;Consumer Cyclical&quot;</td><td>1.4031e10</td><td>16.17</td><td>66.28</td></tr><tr><td>&quot;ZTS&quot;</td><td>5</td><td>0.7097</td><td>0.0</td><td>1.0</td><td>0.4194</td><td>5</td><td>0.5881</td><td>0.5857</td><td>&quot;Healthcare&quot;</td><td>7.5075e10</td><td>30.33</td><td>168.63</td></tr><tr><td>&quot;NXPI&quot;</td><td>4</td><td>0.7</td><td>0.0</td><td>0.5</td><td>0.4</td><td>4</td><td>0.5134</td><td>0.5685</td><td>&quot;Technology&quot;</td><td>4.8285e10</td><td>20.84</td><td>191.13</td></tr><tr><td>&quot;FI&quot;</td><td>10</td><td>0.6911</td><td>0.0</td><td>0.8</td><td>0.3822</td><td>10</td><td>0.5134</td><td>0.5685</td><td>&quot;Technology&quot;</td><td>9.0256e10</td><td>28.81</td><td>162.79</td></tr><tr><td>&quot;AES&quot;</td><td>9</td><td>0.6836</td><td>0.0</td><td>0.7778</td><td>0.3673</td><td>9</td><td>0.5606</td><td>0.5857</td><td>&quot;Utilities&quot;</td><td>7.1833e9</td><td>5.48</td><td>10.09</td></tr></tbody></table></div>"
      ],
      "text/plain": [
       "shape: (5, 13)\n",
       "┌────────┬─────────────┬─────────────┬─────────────┬───┬────────────┬───────────┬─────────┬────────┐\n",
       "│ symbol ┆ articlesInL ┆ companyNews ┆ bearishPerc ┆ … ┆ sector     ┆ marketCap ┆ peRatio ┆ price  │\n",
       "│ ---    ┆ astWeek     ┆ Score       ┆ ent         ┆   ┆ ---        ┆ ---       ┆ ---     ┆ ---    │\n",
       "│ str    ┆ ---         ┆ ---         ┆ ---         ┆   ┆ str        ┆ f64       ┆ f64     ┆ f64    │\n",
       "│        ┆ i64         ┆ f64         ┆ f64         ┆   ┆            ┆           ┆         ┆        │\n",
       "╞════════╪═════════════╪═════════════╪═════════════╪═══╪════════════╪═══════════╪═════════╪════════╡\n",
       "│ BBY    ┆ 21          ┆ 0.7933      ┆ 0.0         ┆ … ┆ Consumer   ┆ 1.4031e10 ┆ 16.17   ┆ 66.28  │\n",
       "│        ┆             ┆             ┆             ┆   ┆ Cyclical   ┆           ┆         ┆        │\n",
       "│ ZTS    ┆ 5           ┆ 0.7097      ┆ 0.0         ┆ … ┆ Healthcare ┆ 7.5075e10 ┆ 30.33   ┆ 168.63 │\n",
       "│ NXPI   ┆ 4           ┆ 0.7         ┆ 0.0         ┆ … ┆ Technology ┆ 4.8285e10 ┆ 20.84   ┆ 191.13 │\n",
       "│ FI     ┆ 10          ┆ 0.6911      ┆ 0.0         ┆ … ┆ Technology ┆ 9.0256e10 ┆ 28.81   ┆ 162.79 │\n",
       "│ AES    ┆ 9           ┆ 0.6836      ┆ 0.0         ┆ … ┆ Utilities  ┆ 7.1833e9  ┆ 5.48    ┆ 10.09  │\n",
       "└────────┴─────────────┴─────────────┴─────────────┴───┴────────────┴───────────┴─────────┴────────┘"
      ]
     },
     "metadata": {},
     "output_type": "display_data"
    },
    {
     "name": "stdout",
     "output_type": "stream",
     "text": [
      "\n",
      "Sector distribution:\n"
     ]
    },
    {
     "data": {
      "text/html": [
       "<div><style>\n",
       ".dataframe > thead > tr,\n",
       ".dataframe > tbody > tr {\n",
       "  text-align: right;\n",
       "  white-space: pre-wrap;\n",
       "}\n",
       "</style>\n",
       "<small>shape: (5, 5)</small><table border=\"1\" class=\"dataframe\"><thead><tr><th>sector</th><th>stock_count</th><th>avg_sentiment_score</th><th>avg_news_score</th><th>avg_bullish_percent</th></tr><tr><td>str</td><td>u32</td><td>f64</td><td>f64</td><td>f64</td></tr></thead><tbody><tr><td>&quot;Industrials&quot;</td><td>18</td><td>0.2372</td><td>0.618606</td><td>0.781111</td></tr><tr><td>&quot;Technology&quot;</td><td>17</td><td>0.247953</td><td>0.623976</td><td>0.7286</td></tr><tr><td>&quot;Healthcare&quot;</td><td>12</td><td>0.264808</td><td>0.632392</td><td>0.754917</td></tr><tr><td>&quot;Utilities&quot;</td><td>12</td><td>0.259192</td><td>0.629592</td><td>0.672317</td></tr><tr><td>&quot;Consumer Cyclical&quot;</td><td>11</td><td>0.254327</td><td>0.627173</td><td>0.701845</td></tr></tbody></table></div>"
      ],
      "text/plain": [
       "shape: (5, 5)\n",
       "┌───────────────────┬─────────────┬─────────────────────┬────────────────┬─────────────────────┐\n",
       "│ sector            ┆ stock_count ┆ avg_sentiment_score ┆ avg_news_score ┆ avg_bullish_percent │\n",
       "│ ---               ┆ ---         ┆ ---                 ┆ ---            ┆ ---                 │\n",
       "│ str               ┆ u32         ┆ f64                 ┆ f64            ┆ f64                 │\n",
       "╞═══════════════════╪═════════════╪═════════════════════╪════════════════╪═════════════════════╡\n",
       "│ Industrials       ┆ 18          ┆ 0.2372              ┆ 0.618606       ┆ 0.781111            │\n",
       "│ Technology        ┆ 17          ┆ 0.247953            ┆ 0.623976       ┆ 0.7286              │\n",
       "│ Healthcare        ┆ 12          ┆ 0.264808            ┆ 0.632392       ┆ 0.754917            │\n",
       "│ Utilities         ┆ 12          ┆ 0.259192            ┆ 0.629592       ┆ 0.672317            │\n",
       "│ Consumer Cyclical ┆ 11          ┆ 0.254327            ┆ 0.627173       ┆ 0.701845            │\n",
       "└───────────────────┴─────────────┴─────────────────────┴────────────────┴─────────────────────┘"
      ]
     },
     "metadata": {},
     "output_type": "display_data"
    },
    {
     "name": "stdout",
     "output_type": "stream",
     "text": [
      "\n",
      "Summary statistics for selected stocks:\n",
      "Average sentiment score: 0.2417\n",
      "Min sentiment score: 0.1693\n",
      "Max sentiment score: 0.5865\n",
      "Average company news score: 0.6208\n",
      "Number of stocks: 100\n",
      "Number of unique sectors: 11\n"
     ]
    }
   ],
   "source": [
    "# Load long-term portfolio and select top sentiment stocks\n",
    "long_term_tickers = pl.read_excel(output_file, sheet_name='long_term')['Ticker'].to_list()\n",
    "print(f\"Excluding {len(long_term_tickers)} tickers already in long-term portfolio: {long_term_tickers}\")\n",
    "\n",
    "selected_stocks = (comprehensive_screened\n",
    "    .filter(pl.col(\"sector\") != 'Unknown')\n",
    "    .filter(~pl.col(\"symbol\").is_in(long_term_tickers))\n",
    "    .sort(\"averageSentimentScore\", descending=True)\n",
    "    .head(100))\n",
    "\n",
    "screened_tickers = selected_stocks['symbol'].to_list()\n",
    "print(f\"\\nSelected {len(screened_tickers)} stocks with highest sentiment scores\")\n",
    "display(selected_stocks.head())\n",
    "\n",
    "# Sector distribution and summary statistics\n",
    "sector_distribution = selected_stocks.group_by(\"sector\").agg([\n",
    "    pl.count(\"symbol\").alias(\"stock_count\"),\n",
    "    pl.mean(\"averageSentimentScore\").alias(\"avg_sentiment_score\"),\n",
    "    pl.mean(\"companyNewsScore\").alias(\"avg_news_score\"),\n",
    "    pl.mean(\"bullishPercent\").alias(\"avg_bullish_percent\")\n",
    "]).sort(\"stock_count\", descending=True)\n",
    "\n",
    "print(f\"\\nSector distribution:\")\n",
    "display(sector_distribution.head())\n",
    "\n",
    "# Show summary statistics\n",
    "print(f\"\\nSummary statistics for selected stocks:\")\n",
    "print(f\"Average sentiment score: {selected_stocks['averageSentimentScore'].mean():.4f}\")\n",
    "print(f\"Min sentiment score: {selected_stocks['averageSentimentScore'].min():.4f}\")\n",
    "print(f\"Max sentiment score: {selected_stocks['averageSentimentScore'].max():.4f}\")\n",
    "print(f\"Average company news score: {selected_stocks['companyNewsScore'].mean():.4f}\")\n",
    "print(f\"Number of stocks: {selected_stocks['symbol'].count()}\")\n",
    "print(f\"Number of unique sectors: {selected_stocks['sector'].n_unique()}\")"
   ]
  },
  {
   "cell_type": "markdown",
   "id": "2325b008",
   "metadata": {
    "id": "2325b008"
   },
   "source": [
    "### Step 6: Import Stock Quotes"
   ]
  },
  {
   "cell_type": "code",
   "execution_count": 45,
   "id": "6491452d",
   "metadata": {
    "execution": {
     "iopub.execute_input": "2025-05-29T14:21:43.096036Z",
     "iopub.status.busy": "2025-05-29T14:21:43.094892Z",
     "iopub.status.idle": "2025-05-29T14:21:43.270409Z",
     "shell.execute_reply": "2025-05-29T14:21:43.269649Z"
    }
   },
   "outputs": [
    {
     "data": {
      "application/vnd.microsoft.datawrangler.viewer.v0+json": {
       "columns": [
        {
         "name": "Date",
         "rawType": "datetime64[ns]",
         "type": "datetime"
        },
        {
         "name": "bby",
         "rawType": "float64",
         "type": "float"
        },
        {
         "name": "zts",
         "rawType": "float64",
         "type": "float"
        },
        {
         "name": "nxpi",
         "rawType": "float64",
         "type": "float"
        },
        {
         "name": "fi",
         "rawType": "float64",
         "type": "float"
        },
        {
         "name": "aes",
         "rawType": "float64",
         "type": "float"
        },
        {
         "name": "lhx",
         "rawType": "float64",
         "type": "float"
        },
        {
         "name": "dhr",
         "rawType": "float64",
         "type": "float"
        },
        {
         "name": "ual",
         "rawType": "float64",
         "type": "float"
        },
        {
         "name": "syk",
         "rawType": "float64",
         "type": "float"
        },
        {
         "name": "peg",
         "rawType": "float64",
         "type": "float"
        },
        {
         "name": "nvr",
         "rawType": "float64",
         "type": "float"
        },
        {
         "name": "lrcx",
         "rawType": "float64",
         "type": "float"
        },
        {
         "name": "wec",
         "rawType": "float64",
         "type": "float"
        },
        {
         "name": "has",
         "rawType": "float64",
         "type": "float"
        },
        {
         "name": "frt",
         "rawType": "float64",
         "type": "float"
        },
        {
         "name": "eqt",
         "rawType": "float64",
         "type": "float"
        },
        {
         "name": "trmb",
         "rawType": "float64",
         "type": "float"
        },
        {
         "name": "mck",
         "rawType": "float64",
         "type": "float"
        },
        {
         "name": "duk",
         "rawType": "float64",
         "type": "float"
        },
        {
         "name": "hwm",
         "rawType": "float64",
         "type": "float"
        },
        {
         "name": "ir",
         "rawType": "float64",
         "type": "float"
        },
        {
         "name": "ato",
         "rawType": "float64",
         "type": "float"
        },
        {
         "name": "cnc",
         "rawType": "float64",
         "type": "float"
        },
        {
         "name": "fcx",
         "rawType": "float64",
         "type": "float"
        },
        {
         "name": "adbe",
         "rawType": "float64",
         "type": "float"
        },
        {
         "name": "gen",
         "rawType": "float64",
         "type": "float"
        },
        {
         "name": "grmn",
         "rawType": "float64",
         "type": "float"
        },
        {
         "name": "rtx",
         "rawType": "float64",
         "type": "float"
        },
        {
         "name": "vz",
         "rawType": "float64",
         "type": "float"
        },
        {
         "name": "gis",
         "rawType": "float64",
         "type": "float"
        },
        {
         "name": "chtr",
         "rawType": "float64",
         "type": "float"
        },
        {
         "name": "oxy",
         "rawType": "float64",
         "type": "float"
        },
        {
         "name": "dpz",
         "rawType": "float64",
         "type": "float"
        },
        {
         "name": "apa",
         "rawType": "float64",
         "type": "float"
        },
        {
         "name": "vrtx",
         "rawType": "float64",
         "type": "float"
        },
        {
         "name": "nrg",
         "rawType": "float64",
         "type": "float"
        },
        {
         "name": "pwr",
         "rawType": "float64",
         "type": "float"
        },
        {
         "name": "xom",
         "rawType": "float64",
         "type": "float"
        },
        {
         "name": "luv",
         "rawType": "float64",
         "type": "float"
        },
        {
         "name": "dte",
         "rawType": "float64",
         "type": "float"
        },
        {
         "name": "dvn",
         "rawType": "float64",
         "type": "float"
        },
        {
         "name": "pm",
         "rawType": "float64",
         "type": "float"
        },
        {
         "name": "noc",
         "rawType": "float64",
         "type": "float"
        },
        {
         "name": "gild",
         "rawType": "float64",
         "type": "float"
        },
        {
         "name": "wmt",
         "rawType": "float64",
         "type": "float"
        },
        {
         "name": "enph",
         "rawType": "float64",
         "type": "float"
        },
        {
         "name": "holx",
         "rawType": "float64",
         "type": "float"
        },
        {
         "name": "lmt",
         "rawType": "float64",
         "type": "float"
        },
        {
         "name": "rf",
         "rawType": "float64",
         "type": "float"
        },
        {
         "name": "rsg",
         "rawType": "float64",
         "type": "float"
        },
        {
         "name": "eog",
         "rawType": "float64",
         "type": "float"
        },
        {
         "name": "hpe",
         "rawType": "float64",
         "type": "float"
        },
        {
         "name": "cnp",
         "rawType": "float64",
         "type": "float"
        },
        {
         "name": "pcg",
         "rawType": "float64",
         "type": "float"
        },
        {
         "name": "sbac",
         "rawType": "float64",
         "type": "float"
        },
        {
         "name": "ulta",
         "rawType": "float64",
         "type": "float"
        },
        {
         "name": "cvs",
         "rawType": "float64",
         "type": "float"
        },
        {
         "name": "axon",
         "rawType": "float64",
         "type": "float"
        },
        {
         "name": "gs",
         "rawType": "float64",
         "type": "float"
        },
        {
         "name": "cmg",
         "rawType": "float64",
         "type": "float"
        },
        {
         "name": "fis",
         "rawType": "float64",
         "type": "float"
        },
        {
         "name": "msft",
         "rawType": "float64",
         "type": "float"
        },
        {
         "name": "exc",
         "rawType": "float64",
         "type": "float"
        },
        {
         "name": "lii",
         "rawType": "float64",
         "type": "float"
        },
        {
         "name": "uhs",
         "rawType": "float64",
         "type": "float"
        },
        {
         "name": "ge",
         "rawType": "float64",
         "type": "float"
        },
        {
         "name": "ni",
         "rawType": "float64",
         "type": "float"
        },
        {
         "name": "fico",
         "rawType": "float64",
         "type": "float"
        },
        {
         "name": "stld",
         "rawType": "float64",
         "type": "float"
        },
        {
         "name": "tsco",
         "rawType": "float64",
         "type": "float"
        },
        {
         "name": "wab",
         "rawType": "float64",
         "type": "float"
        },
        {
         "name": "ctas",
         "rawType": "float64",
         "type": "float"
        },
        {
         "name": "googl",
         "rawType": "float64",
         "type": "float"
        },
        {
         "name": "phm",
         "rawType": "float64",
         "type": "float"
        },
        {
         "name": "nflx",
         "rawType": "float64",
         "type": "float"
        },
        {
         "name": "ctsh",
         "rawType": "float64",
         "type": "float"
        },
        {
         "name": "alb",
         "rawType": "float64",
         "type": "float"
        },
        {
         "name": "trv",
         "rawType": "float64",
         "type": "float"
        },
        {
         "name": "txn",
         "rawType": "float64",
         "type": "float"
        },
        {
         "name": "ppl",
         "rawType": "float64",
         "type": "float"
        },
        {
         "name": "ipg",
         "rawType": "float64",
         "type": "float"
        },
        {
         "name": "o",
         "rawType": "float64",
         "type": "float"
        },
        {
         "name": "coo",
         "rawType": "float64",
         "type": "float"
        },
        {
         "name": "smci",
         "rawType": "float64",
         "type": "float"
        },
        {
         "name": "cof",
         "rawType": "float64",
         "type": "float"
        },
        {
         "name": "pypl",
         "rawType": "float64",
         "type": "float"
        },
        {
         "name": "anet",
         "rawType": "float64",
         "type": "float"
        },
        {
         "name": "khc",
         "rawType": "float64",
         "type": "float"
        },
        {
         "name": "gev",
         "rawType": "float64",
         "type": "float"
        },
        {
         "name": "dal",
         "rawType": "float64",
         "type": "float"
        },
        {
         "name": "cl",
         "rawType": "float64",
         "type": "float"
        },
        {
         "name": "yum",
         "rawType": "float64",
         "type": "float"
        },
        {
         "name": "cvx",
         "rawType": "float64",
         "type": "float"
        },
        {
         "name": "sbux",
         "rawType": "float64",
         "type": "float"
        },
        {
         "name": "ups",
         "rawType": "float64",
         "type": "float"
        },
        {
         "name": "mrna",
         "rawType": "float64",
         "type": "float"
        },
        {
         "name": "wsm",
         "rawType": "float64",
         "type": "float"
        },
        {
         "name": "avb",
         "rawType": "float64",
         "type": "float"
        },
        {
         "name": "panw",
         "rawType": "float64",
         "type": "float"
        },
        {
         "name": "cpb",
         "rawType": "float64",
         "type": "float"
        }
       ],
       "ref": "54fd92b9-3a46-45ed-9cc4-bb62d4f0c0b1",
       "rows": [
        [
         "2025-05-27 00:00:00",
         "72.22000122070312",
         "166.25999450683594",
         "198.89999389648438",
         "160.13999938964844",
         "10.069999694824219",
         "247.89999389648438",
         "189.17999267578125",
         "78.18000030517578",
         "383.7799987792969",
         "79.5999984741211",
         "7210.64990234375",
         "83.94000244140625",
         "107.55999755859375",
         "67.37999725341797",
         "95.12000274658203",
         "56.560001373291016",
         "71.91999816894531",
         "719.669189453125",
         "116.37999725341797",
         "169.69000244140625",
         "82.58999633789062",
         "156.49000549316406",
         "57.650001525878906",
         "39.63999938964844",
         "413.1000061035156",
         "28.170000076293945",
         "205.50999450683594",
         "134.19000244140625",
         "43.5",
         "54.130001068115234",
         "411.1300048828125",
         "41.619998931884766",
         "484.55999755859375",
         "17.309999465942383",
         "446.0",
         "156.91000366210938",
         "342.3500061035156",
         "103.5199966430664",
         "32.65999984741211",
         "137.1199951171875",
         "31.350000381469727",
         "179.22999572753906",
         "473.2043151855469",
         "109.08999633789062",
         "97.58000183105469",
         "40.220001220703125",
         "62.16999816894531",
         "473.5878601074219",
         "21.41731834411621",
         "254.91000366210938",
         "111.2300033569336",
         "17.940000534057617",
         "37.72999954223633",
         "17.049999237060547",
         "231.00999450683594",
         "421.30999755859375",
         "61.34000015258789",
         "746.0800170898438",
         "612.6760864257812",
         "50.9900016784668",
         "79.95999908447266",
         "460.69000244140625",
         "43.90999984741211",
         "579.219970703125",
         "192.2178192138672",
         "241.77999877929688",
         "39.279998779296875",
         "1503.6199951171875",
         "128.74000549316406",
         "50.150001525878906",
         "203.22000122070312",
         "225.8800048828125",
         "172.89999389648438",
         "100.56999969482422",
         "1211.5699462890625",
         "80.63999938964844",
         "58.790000915527344",
         "275.8800048828125",
         "183.24000549316406",
         "34.849998474121094",
         "24.142837524414062",
         "55.893184661865234",
         "80.58999633789062",
         "41.56999969482422",
         "192.0500030517578",
         "71.4800033569336",
         "92.48999786376953",
         "26.43281364440918",
         "471.510009765625",
         "49.400001525878906",
         "92.43000030517578",
         "144.08999633789062",
         "137.8300018310547",
         "87.01000213623047",
         "97.55000305175781",
         "26.760000228881836",
         "166.8300018310547",
         "201.4600067138672",
         "187.4600067138672",
         "34.34000015258789"
        ],
        [
         "2025-05-28 00:00:00",
         "71.5199966430664",
         "165.39999389648438",
         "196.2100067138672",
         "160.74000549316406",
         "9.699999809265137",
         "244.3699951171875",
         "189.00999450683594",
         "77.5",
         "380.3900146484375",
         "78.08999633789062",
         "7000.1201171875",
         "84.0",
         "105.30000305175781",
         "66.27999877929688",
         "94.83999633789062",
         "55.5",
         "71.51000213623047",
         "711.4273071289062",
         "114.44999694824219",
         "170.32000732421875",
         "81.83999633789062",
         "153.72000122070312",
         "55.93000030517578",
         "38.88999938964844",
         "412.2300109863281",
         "28.059999465942383",
         "201.92999267578125",
         "132.85000610351562",
         "43.130001068115234",
         "53.369998931884766",
         "407.3800048828125",
         "41.119998931884766",
         "483.1099853515625",
         "17.18000030517578",
         "445.1000061035156",
         "156.05999755859375",
         "340.32000732421875",
         "102.11000061035156",
         "32.88999938964844",
         "134.97999572753906",
         "30.860000610351562",
         "178.7899932861328",
         "473.0550231933594",
         "108.44000244140625",
         "97.23999786376953",
         "38.959999084472656",
         "63.709999084472656",
         "466.7648620605469",
         "21.081281661987305",
         "254.0800018310547",
         "110.44999694824219",
         "17.690000534057617",
         "37.18000030517578",
         "16.899999618530273",
         "229.02999877929688",
         "417.010009765625",
         "62.45000076293945",
         "751.0",
         "605.4222412109375",
         "50.06999969482422",
         "79.97000122070312",
         "457.3599853515625",
         "43.279998779296875",
         "568.239990234375",
         "190.18995666503906",
         "243.6699981689453",
         "38.75",
         "1619.93994140625",
         "126.72000122070312",
         "49.060001373291016",
         "201.3300018310547",
         "225.0800018310547",
         "172.36000061035156",
         "97.70999908447266",
         "1208.550048828125",
         "80.45999908447266",
         "58.04999923706055",
         "273.6499938964844",
         "184.14999389648438",
         "34.18000030517578",
         "23.994903564453125",
         "55.58465576171875",
         "80.12000274658203",
         "41.959999084472656",
         "191.0800018310547",
         "71.44000244140625",
         "92.79000091552734",
         "26.14710807800293",
         "485.010009765625",
         "48.599998474121094",
         "91.76000213623047",
         "143.14999389648438",
         "136.02000427246094",
         "86.0",
         "96.73999786376953",
         "26.049999237060547",
         "164.50999450683594",
         "201.97999572753906",
         "187.8000030517578",
         "33.790000915527344"
        ],
        [
         "2025-05-29 00:00:00",
         "66.31999969482422",
         "167.13999938964844",
         "195.88999938964844",
         "159.6199951171875",
         "10.050000190734863",
         "243.4199981689453",
         "190.47000122070312",
         "78.56999969482422",
         "382.3500061035156",
         "79.55000305175781",
         "7097.64013671875",
         "84.16000366210938",
         "106.0199966430664",
         "66.80000305175781",
         "95.97000122070312",
         "55.369998931884766",
         "71.66000366210938",
         "712.1565551757812",
         "115.44999694824219",
         "170.08999633789062",
         "82.1500015258789",
         "154.33999633789062",
         "56.52000045776367",
         "39.029998779296875",
         "413.3599853515625",
         "28.0",
         "202.83999633789062",
         "134.8000030517578",
         "43.33000183105469",
         "53.9900016784668",
         "395.80999755859375",
         "41.459999084472656",
         "474.5199890136719",
         "17.34000015258789",
         "447.0899963378906",
         "154.47000122070312",
         "339.739990234375",
         "102.69000244140625",
         "33.709999084472656",
         "136.25999450683594",
         "31.110000610351562",
         "177.8699951171875",
         "477.10565185546875",
         "111.11000061035156",
         "97.0999984741211",
         "39.2400016784668",
         "62.91999816894531",
         "470.449462890625",
         "21.318483352661133",
         "254.44000244140625",
         "109.87999725341797",
         "17.649999618530273",
         "37.11000061035156",
         "17.06999969482422",
         "230.24000549316406",
         "421.7900085449219",
         "62.779998779296875",
         "730.2899780273438",
         "601.8599853515625",
         "49.72999954223633",
         "78.2699966430664",
         "458.67999267578125",
         "43.70000076293945",
         "569.5",
         "190.84925842285156",
         "244.16000366210938",
         "38.9900016784668",
         "1685.0",
         "125.1500015258789",
         "48.970001220703125",
         "201.4499969482422",
         "224.75",
         "171.86000061035156",
         "98.54000091552734",
         "1184.8599853515625",
         "80.6500015258789",
         "57.4900016784668",
         "274.4100036621094",
         "184.99000549316406",
         "34.41999816894531",
         "23.975177764892578",
         "56.09223556518555",
         "79.95999908447266",
         "41.150001525878906",
         "190.75999450683594",
         "70.93000030517578",
         "86.37000274658203",
         "26.6200008392334",
         "471.1700134277344",
         "48.5",
         "92.30000305175781",
         "144.0399932861328",
         "137.91000366210938",
         "84.05000305175781",
         "98.0999984741211",
         "26.93000030517578",
         "164.50999450683594",
         "206.02000427246094",
         "185.82000732421875",
         "34.16999816894531"
        ],
        [
         "2025-05-30 00:00:00",
         "66.27999877929688",
         "168.6300048828125",
         "191.1300048828125",
         "162.7899932861328",
         "10.09000015258789",
         "244.33999633789062",
         "189.89999389648438",
         "79.44000244140625",
         "382.6400146484375",
         "81.02999877929688",
         "7115.93017578125",
         "80.79000091552734",
         "107.44000244140625",
         "66.70999908447266",
         "95.4800033569336",
         "55.130001068115234",
         "71.2699966430664",
         "718.800048828125",
         "117.72000122070312",
         "169.88999938964844",
         "81.63999938964844",
         "154.67999267578125",
         "56.439998626708984",
         "38.47999954223633",
         "415.0899963378906",
         "28.479999542236328",
         "202.97000122070312",
         "136.47999572753906",
         "43.959999084472656",
         "54.2599983215332",
         "396.2699890136719",
         "40.779998779296875",
         "473.82000732421875",
         "17.010000228881836",
         "442.04998779296875",
         "155.89999389648438",
         "342.55999755859375",
         "102.30000305175781",
         "33.380001068115234",
         "136.64999389648438",
         "30.260000228881836",
         "180.58999633789062",
         "482.4599914550781",
         "110.08000183105469",
         "98.72000122070312",
         "41.38999938964844",
         "62.16999816894531",
         "479.08001708984375",
         "21.190000534057617",
         "257.2900085449219",
         "108.56999969482422",
         "17.280000686645508",
         "37.2400016784668",
         "16.8799991607666",
         "231.88999938964844",
         "471.4599914550781",
         "64.04000091552734",
         "750.3599853515625",
         "600.4500122070312",
         "50.08000183105469",
         "79.61000061035156",
         "460.3599853515625",
         "43.81999969482422",
         "564.4500122070312",
         "190.15000915527344",
         "245.91000366210938",
         "39.540000915527344",
         "1726.280029296875",
         "123.06999969482422",
         "48.400001525878906",
         "202.32000732421875",
         "226.5",
         "171.74000549316406",
         "98.02999877929688",
         "1207.22998046875",
         "80.98999786376953",
         "55.7599983215332",
         "275.70001220703125",
         "182.85000610351562",
         "34.75",
         "23.6299991607666",
         "56.35099792480469",
         "68.27999877929688",
         "40.02000045776367",
         "189.14999389648438",
         "70.27999877929688",
         "86.63999938964844",
         "26.729999542236328",
         "472.9800109863281",
         "48.38999938964844",
         "92.94000244140625",
         "143.94000244140625",
         "136.6999969482422",
         "83.94999694824219",
         "97.54000091552734",
         "26.559999465942383",
         "161.75999450683594",
         "206.77000427246094",
         "192.4199981689453",
         "34.040000915527344"
        ],
        [
         "2025-06-02 00:00:00",
         "68.2699966430664",
         "169.4199981689453",
         "192.80999755859375",
         "162.0",
         "10.180000305175781",
         "243.16000366210938",
         "189.22999572753906",
         "81.2300033569336",
         "380.8599853515625",
         "81.9000015258789",
         "7043.41015625",
         "82.4800033569336",
         "107.2300033569336",
         "65.55000305175781",
         "95.44000244140625",
         "56.65999984741211",
         "70.83999633789062",
         "721.75",
         "117.2300033569336",
         "172.64999389648438",
         "81.05999755859375",
         "154.63999938964844",
         "54.90999984741211",
         "40.150001525878906",
         "403.3999938964844",
         "28.360000610351562",
         "202.9499969482422",
         "137.4600067138672",
         "44.099998474121094",
         "54.130001068115234",
         "394.7799987792969",
         "41.439998626708984",
         "466.0",
         "17.329999923706055",
         "445.42999267578125",
         "158.49000549316406",
         "345.5299987792969",
         "103.05000305175781",
         "33.11000061035156",
         "135.97999572753906",
         "31.139999389648438",
         "182.75",
         "483.3800048828125",
         "108.91000366210938",
         "99.7699966430664",
         "41.31999969482422",
         "62.0099983215332",
         "478.82000732421875",
         "21.110000610351562",
         "258.07000732421875",
         "111.33999633789062",
         "17.34000015258789",
         "37.45000076293945",
         "16.649999618530273",
         "231.05999755859375",
         "475.67999267578125",
         "63.599998474121094",
         "758.5700073242188",
         "598.719970703125",
         "49.84000015258789",
         "79.08999633789062",
         "461.9700012207031",
         "43.790000915527344",
         "551.780029296875",
         "187.3800048828125",
         "247.47999572753906",
         "39.59000015258789",
         "1748.260009765625",
         "135.7100067138672",
         "47.86000061035156",
         "201.72999572753906",
         "226.69000244140625",
         "169.02999877929688",
         "97.55000305175781",
         "1218.97998046875",
         "80.2699966430664",
         "55.09000015258789",
         "276.3399963378906",
         "184.2100067138672",
         "34.720001220703125",
         "22.8700008392334",
         "56.58000183105469",
         "67.0",
         "41.20000076293945",
         "191.4600067138672",
         "70.93000030517578",
         "89.77999877929688",
         "26.6299991607666",
         "485.1600036621094",
         "48.5",
         "91.93000030517578",
         "144.6300048828125",
         "137.83999633789062",
         "85.19000244140625",
         "97.36000061035156",
         "27.049999237060547",
         "158.22000122070312",
         "207.14999389648438",
         "194.86000061035156",
         "34.25"
        ]
       ],
       "shape": {
        "columns": 100,
        "rows": 5
       }
      },
      "text/html": [
       "<div>\n",
       "<style scoped>\n",
       "    .dataframe tbody tr th:only-of-type {\n",
       "        vertical-align: middle;\n",
       "    }\n",
       "\n",
       "    .dataframe tbody tr th {\n",
       "        vertical-align: top;\n",
       "    }\n",
       "\n",
       "    .dataframe thead th {\n",
       "        text-align: right;\n",
       "    }\n",
       "</style>\n",
       "<table border=\"1\" class=\"dataframe\">\n",
       "  <thead>\n",
       "    <tr style=\"text-align: right;\">\n",
       "      <th></th>\n",
       "      <th>bby</th>\n",
       "      <th>zts</th>\n",
       "      <th>nxpi</th>\n",
       "      <th>fi</th>\n",
       "      <th>aes</th>\n",
       "      <th>lhx</th>\n",
       "      <th>dhr</th>\n",
       "      <th>ual</th>\n",
       "      <th>syk</th>\n",
       "      <th>peg</th>\n",
       "      <th>...</th>\n",
       "      <th>cl</th>\n",
       "      <th>yum</th>\n",
       "      <th>cvx</th>\n",
       "      <th>sbux</th>\n",
       "      <th>ups</th>\n",
       "      <th>mrna</th>\n",
       "      <th>wsm</th>\n",
       "      <th>avb</th>\n",
       "      <th>panw</th>\n",
       "      <th>cpb</th>\n",
       "    </tr>\n",
       "    <tr>\n",
       "      <th>Date</th>\n",
       "      <th></th>\n",
       "      <th></th>\n",
       "      <th></th>\n",
       "      <th></th>\n",
       "      <th></th>\n",
       "      <th></th>\n",
       "      <th></th>\n",
       "      <th></th>\n",
       "      <th></th>\n",
       "      <th></th>\n",
       "      <th></th>\n",
       "      <th></th>\n",
       "      <th></th>\n",
       "      <th></th>\n",
       "      <th></th>\n",
       "      <th></th>\n",
       "      <th></th>\n",
       "      <th></th>\n",
       "      <th></th>\n",
       "      <th></th>\n",
       "      <th></th>\n",
       "    </tr>\n",
       "  </thead>\n",
       "  <tbody>\n",
       "    <tr>\n",
       "      <th>2025-05-27</th>\n",
       "      <td>72.220001</td>\n",
       "      <td>166.259995</td>\n",
       "      <td>198.899994</td>\n",
       "      <td>160.139999</td>\n",
       "      <td>10.07</td>\n",
       "      <td>247.899994</td>\n",
       "      <td>189.179993</td>\n",
       "      <td>78.180000</td>\n",
       "      <td>383.779999</td>\n",
       "      <td>79.599998</td>\n",
       "      <td>...</td>\n",
       "      <td>92.430000</td>\n",
       "      <td>144.089996</td>\n",
       "      <td>137.830002</td>\n",
       "      <td>87.010002</td>\n",
       "      <td>97.550003</td>\n",
       "      <td>26.760000</td>\n",
       "      <td>166.830002</td>\n",
       "      <td>201.460007</td>\n",
       "      <td>187.460007</td>\n",
       "      <td>34.340000</td>\n",
       "    </tr>\n",
       "    <tr>\n",
       "      <th>2025-05-28</th>\n",
       "      <td>71.519997</td>\n",
       "      <td>165.399994</td>\n",
       "      <td>196.210007</td>\n",
       "      <td>160.740005</td>\n",
       "      <td>9.70</td>\n",
       "      <td>244.369995</td>\n",
       "      <td>189.009995</td>\n",
       "      <td>77.500000</td>\n",
       "      <td>380.390015</td>\n",
       "      <td>78.089996</td>\n",
       "      <td>...</td>\n",
       "      <td>91.760002</td>\n",
       "      <td>143.149994</td>\n",
       "      <td>136.020004</td>\n",
       "      <td>86.000000</td>\n",
       "      <td>96.739998</td>\n",
       "      <td>26.049999</td>\n",
       "      <td>164.509995</td>\n",
       "      <td>201.979996</td>\n",
       "      <td>187.800003</td>\n",
       "      <td>33.790001</td>\n",
       "    </tr>\n",
       "    <tr>\n",
       "      <th>2025-05-29</th>\n",
       "      <td>66.320000</td>\n",
       "      <td>167.139999</td>\n",
       "      <td>195.889999</td>\n",
       "      <td>159.619995</td>\n",
       "      <td>10.05</td>\n",
       "      <td>243.419998</td>\n",
       "      <td>190.470001</td>\n",
       "      <td>78.570000</td>\n",
       "      <td>382.350006</td>\n",
       "      <td>79.550003</td>\n",
       "      <td>...</td>\n",
       "      <td>92.300003</td>\n",
       "      <td>144.039993</td>\n",
       "      <td>137.910004</td>\n",
       "      <td>84.050003</td>\n",
       "      <td>98.099998</td>\n",
       "      <td>26.930000</td>\n",
       "      <td>164.509995</td>\n",
       "      <td>206.020004</td>\n",
       "      <td>185.820007</td>\n",
       "      <td>34.169998</td>\n",
       "    </tr>\n",
       "    <tr>\n",
       "      <th>2025-05-30</th>\n",
       "      <td>66.279999</td>\n",
       "      <td>168.630005</td>\n",
       "      <td>191.130005</td>\n",
       "      <td>162.789993</td>\n",
       "      <td>10.09</td>\n",
       "      <td>244.339996</td>\n",
       "      <td>189.899994</td>\n",
       "      <td>79.440002</td>\n",
       "      <td>382.640015</td>\n",
       "      <td>81.029999</td>\n",
       "      <td>...</td>\n",
       "      <td>92.940002</td>\n",
       "      <td>143.940002</td>\n",
       "      <td>136.699997</td>\n",
       "      <td>83.949997</td>\n",
       "      <td>97.540001</td>\n",
       "      <td>26.559999</td>\n",
       "      <td>161.759995</td>\n",
       "      <td>206.770004</td>\n",
       "      <td>192.419998</td>\n",
       "      <td>34.040001</td>\n",
       "    </tr>\n",
       "    <tr>\n",
       "      <th>2025-06-02</th>\n",
       "      <td>68.269997</td>\n",
       "      <td>169.419998</td>\n",
       "      <td>192.809998</td>\n",
       "      <td>162.000000</td>\n",
       "      <td>10.18</td>\n",
       "      <td>243.160004</td>\n",
       "      <td>189.229996</td>\n",
       "      <td>81.230003</td>\n",
       "      <td>380.859985</td>\n",
       "      <td>81.900002</td>\n",
       "      <td>...</td>\n",
       "      <td>91.930000</td>\n",
       "      <td>144.630005</td>\n",
       "      <td>137.839996</td>\n",
       "      <td>85.190002</td>\n",
       "      <td>97.360001</td>\n",
       "      <td>27.049999</td>\n",
       "      <td>158.220001</td>\n",
       "      <td>207.149994</td>\n",
       "      <td>194.860001</td>\n",
       "      <td>34.250000</td>\n",
       "    </tr>\n",
       "  </tbody>\n",
       "</table>\n",
       "<p>5 rows × 100 columns</p>\n",
       "</div>"
      ],
      "text/plain": [
       "                  bby         zts        nxpi          fi    aes         lhx  \\\n",
       "Date                                                                           \n",
       "2025-05-27  72.220001  166.259995  198.899994  160.139999  10.07  247.899994   \n",
       "2025-05-28  71.519997  165.399994  196.210007  160.740005   9.70  244.369995   \n",
       "2025-05-29  66.320000  167.139999  195.889999  159.619995  10.05  243.419998   \n",
       "2025-05-30  66.279999  168.630005  191.130005  162.789993  10.09  244.339996   \n",
       "2025-06-02  68.269997  169.419998  192.809998  162.000000  10.18  243.160004   \n",
       "\n",
       "                   dhr        ual         syk        peg  ...         cl  \\\n",
       "Date                                                      ...              \n",
       "2025-05-27  189.179993  78.180000  383.779999  79.599998  ...  92.430000   \n",
       "2025-05-28  189.009995  77.500000  380.390015  78.089996  ...  91.760002   \n",
       "2025-05-29  190.470001  78.570000  382.350006  79.550003  ...  92.300003   \n",
       "2025-05-30  189.899994  79.440002  382.640015  81.029999  ...  92.940002   \n",
       "2025-06-02  189.229996  81.230003  380.859985  81.900002  ...  91.930000   \n",
       "\n",
       "                   yum         cvx       sbux        ups       mrna  \\\n",
       "Date                                                                  \n",
       "2025-05-27  144.089996  137.830002  87.010002  97.550003  26.760000   \n",
       "2025-05-28  143.149994  136.020004  86.000000  96.739998  26.049999   \n",
       "2025-05-29  144.039993  137.910004  84.050003  98.099998  26.930000   \n",
       "2025-05-30  143.940002  136.699997  83.949997  97.540001  26.559999   \n",
       "2025-06-02  144.630005  137.839996  85.190002  97.360001  27.049999   \n",
       "\n",
       "                   wsm         avb        panw        cpb  \n",
       "Date                                                       \n",
       "2025-05-27  166.830002  201.460007  187.460007  34.340000  \n",
       "2025-05-28  164.509995  201.979996  187.800003  33.790001  \n",
       "2025-05-29  164.509995  206.020004  185.820007  34.169998  \n",
       "2025-05-30  161.759995  206.770004  192.419998  34.040001  \n",
       "2025-06-02  158.220001  207.149994  194.860001  34.250000  \n",
       "\n",
       "[5 rows x 100 columns]"
      ]
     },
     "metadata": {},
     "output_type": "display_data"
    }
   ],
   "source": [
    "from py.utils import suppress_output\n",
    "quotes = suppress_output(bt.get, screened_tickers, start=start_date, end=end_date)\n",
    "display(quotes.tail())"
   ]
  },
  {
   "cell_type": "markdown",
   "id": "bbea16e9",
   "metadata": {},
   "source": [
    "### Step 7: Create Trading Signals\n",
    "- Use `talib` library to create signals."
   ]
  },
  {
   "cell_type": "code",
   "execution_count": 46,
   "id": "2a951a72",
   "metadata": {},
   "outputs": [
    {
     "name": "stdout",
     "output_type": "stream",
     "text": [
      "✅ Technical indicators calculated for 100 tickers\n",
      "✅ Trading signals generated for 100 tickers\n",
      "\n",
      "Sample indicators and signals for bby:\n"
     ]
    },
    {
     "data": {
      "application/vnd.microsoft.datawrangler.viewer.v0+json": {
       "columns": [
        {
         "name": "Date",
         "rawType": "datetime64[ns]",
         "type": "datetime"
        },
        {
         "name": "Close",
         "rawType": "float64",
         "type": "float"
        },
        {
         "name": "SMA_20",
         "rawType": "float64",
         "type": "float"
        },
        {
         "name": "SMA_50",
         "rawType": "float64",
         "type": "float"
        },
        {
         "name": "SMA_200",
         "rawType": "float64",
         "type": "float"
        },
        {
         "name": "EMA_12",
         "rawType": "float64",
         "type": "float"
        },
        {
         "name": "EMA_26",
         "rawType": "float64",
         "type": "float"
        },
        {
         "name": "EMA_50",
         "rawType": "float64",
         "type": "float"
        },
        {
         "name": "ADX",
         "rawType": "float64",
         "type": "float"
        },
        {
         "name": "PLUS_DI",
         "rawType": "float64",
         "type": "float"
        },
        {
         "name": "MINUS_DI",
         "rawType": "float64",
         "type": "float"
        },
        {
         "name": "RSI_14",
         "rawType": "float64",
         "type": "float"
        },
        {
         "name": "RSI_21",
         "rawType": "float64",
         "type": "float"
        }
       ],
       "ref": "34bcfb96-bad1-4bcf-a785-a096b8797a00",
       "rows": [
        [
         "2025-05-27 00:00:00",
         "72.22000122070312",
         "70.12200012207032",
         "68.38586662292481",
         "82.85909502029419",
         "70.90982035366903",
         "69.87658196620515",
         "70.72214228713011",
         "13.779280210850741",
         "57.05090851028244",
         "42.9490914897176",
         "57.050908508207065",
         "53.70303489250515"
        ],
        [
         "2025-05-28 00:00:00",
         "71.5199966430664",
         "70.36399993896484",
         "68.35938957214356",
         "82.81723058700561",
         "71.00369362896093",
         "69.9983163867134",
         "70.75343069324526",
         "13.475741490252597",
         "54.76486906123837",
         "45.23513093876165",
         "54.76486905942319",
         "52.38263070012161"
        ],
        [
         "2025-05-29 00:00:00",
         "66.31999969482422",
         "70.34549980163574",
         "68.2415518951416",
         "82.74370515823364",
         "70.28312533140144",
         "69.72584848361049",
         "70.5795706540915",
         "13.73162093508335",
         "41.47097314105845",
         "58.52902685894157",
         "41.470973140463464",
         "43.953333096798445"
        ],
        [
         "2025-05-30 00:00:00",
         "66.27999877929688",
         "70.30749969482422",
         "68.10987983703613",
         "82.68222108840942",
         "69.66725970800073",
         "69.47060035736504",
         "70.41095999233485",
         "13.981113101770452",
         "41.387744365648615",
         "58.612255634351406",
         "41.387744365059696",
         "43.89627885612264"
        ],
        [
         "2025-06-02 00:00:00",
         "68.2699966430664",
         "70.31749954223633",
         "68.02412986755371",
         "82.62130033493042",
         "69.45229615954929",
         "69.38166674889848",
         "70.32700064530472",
         "13.399888859176617",
         "47.07801314727164",
         "52.921986852728395",
         "47.078013146439204",
         "47.458881663451464"
        ]
       ],
       "shape": {
        "columns": 12,
        "rows": 5
       }
      },
      "text/html": [
       "<div>\n",
       "<style scoped>\n",
       "    .dataframe tbody tr th:only-of-type {\n",
       "        vertical-align: middle;\n",
       "    }\n",
       "\n",
       "    .dataframe tbody tr th {\n",
       "        vertical-align: top;\n",
       "    }\n",
       "\n",
       "    .dataframe thead th {\n",
       "        text-align: right;\n",
       "    }\n",
       "</style>\n",
       "<table border=\"1\" class=\"dataframe\">\n",
       "  <thead>\n",
       "    <tr style=\"text-align: right;\">\n",
       "      <th></th>\n",
       "      <th>Close</th>\n",
       "      <th>SMA_20</th>\n",
       "      <th>SMA_50</th>\n",
       "      <th>SMA_200</th>\n",
       "      <th>EMA_12</th>\n",
       "      <th>EMA_26</th>\n",
       "      <th>EMA_50</th>\n",
       "      <th>ADX</th>\n",
       "      <th>PLUS_DI</th>\n",
       "      <th>MINUS_DI</th>\n",
       "      <th>RSI_14</th>\n",
       "      <th>RSI_21</th>\n",
       "    </tr>\n",
       "    <tr>\n",
       "      <th>Date</th>\n",
       "      <th></th>\n",
       "      <th></th>\n",
       "      <th></th>\n",
       "      <th></th>\n",
       "      <th></th>\n",
       "      <th></th>\n",
       "      <th></th>\n",
       "      <th></th>\n",
       "      <th></th>\n",
       "      <th></th>\n",
       "      <th></th>\n",
       "      <th></th>\n",
       "    </tr>\n",
       "  </thead>\n",
       "  <tbody>\n",
       "    <tr>\n",
       "      <th>2025-05-27</th>\n",
       "      <td>72.220001</td>\n",
       "      <td>70.1220</td>\n",
       "      <td>68.385867</td>\n",
       "      <td>82.859095</td>\n",
       "      <td>70.909820</td>\n",
       "      <td>69.876582</td>\n",
       "      <td>70.722142</td>\n",
       "      <td>13.779280</td>\n",
       "      <td>57.050909</td>\n",
       "      <td>42.949091</td>\n",
       "      <td>57.050909</td>\n",
       "      <td>53.703035</td>\n",
       "    </tr>\n",
       "    <tr>\n",
       "      <th>2025-05-28</th>\n",
       "      <td>71.519997</td>\n",
       "      <td>70.3640</td>\n",
       "      <td>68.359390</td>\n",
       "      <td>82.817231</td>\n",
       "      <td>71.003694</td>\n",
       "      <td>69.998316</td>\n",
       "      <td>70.753431</td>\n",
       "      <td>13.475741</td>\n",
       "      <td>54.764869</td>\n",
       "      <td>45.235131</td>\n",
       "      <td>54.764869</td>\n",
       "      <td>52.382631</td>\n",
       "    </tr>\n",
       "    <tr>\n",
       "      <th>2025-05-29</th>\n",
       "      <td>66.320000</td>\n",
       "      <td>70.3455</td>\n",
       "      <td>68.241552</td>\n",
       "      <td>82.743705</td>\n",
       "      <td>70.283125</td>\n",
       "      <td>69.725848</td>\n",
       "      <td>70.579571</td>\n",
       "      <td>13.731621</td>\n",
       "      <td>41.470973</td>\n",
       "      <td>58.529027</td>\n",
       "      <td>41.470973</td>\n",
       "      <td>43.953333</td>\n",
       "    </tr>\n",
       "    <tr>\n",
       "      <th>2025-05-30</th>\n",
       "      <td>66.279999</td>\n",
       "      <td>70.3075</td>\n",
       "      <td>68.109880</td>\n",
       "      <td>82.682221</td>\n",
       "      <td>69.667260</td>\n",
       "      <td>69.470600</td>\n",
       "      <td>70.410960</td>\n",
       "      <td>13.981113</td>\n",
       "      <td>41.387744</td>\n",
       "      <td>58.612256</td>\n",
       "      <td>41.387744</td>\n",
       "      <td>43.896279</td>\n",
       "    </tr>\n",
       "    <tr>\n",
       "      <th>2025-06-02</th>\n",
       "      <td>68.269997</td>\n",
       "      <td>70.3175</td>\n",
       "      <td>68.024130</td>\n",
       "      <td>82.621300</td>\n",
       "      <td>69.452296</td>\n",
       "      <td>69.381667</td>\n",
       "      <td>70.327001</td>\n",
       "      <td>13.399889</td>\n",
       "      <td>47.078013</td>\n",
       "      <td>52.921987</td>\n",
       "      <td>47.078013</td>\n",
       "      <td>47.458882</td>\n",
       "    </tr>\n",
       "  </tbody>\n",
       "</table>\n",
       "</div>"
      ],
      "text/plain": [
       "                Close   SMA_20     SMA_50    SMA_200     EMA_12     EMA_26  \\\n",
       "Date                                                                         \n",
       "2025-05-27  72.220001  70.1220  68.385867  82.859095  70.909820  69.876582   \n",
       "2025-05-28  71.519997  70.3640  68.359390  82.817231  71.003694  69.998316   \n",
       "2025-05-29  66.320000  70.3455  68.241552  82.743705  70.283125  69.725848   \n",
       "2025-05-30  66.279999  70.3075  68.109880  82.682221  69.667260  69.470600   \n",
       "2025-06-02  68.269997  70.3175  68.024130  82.621300  69.452296  69.381667   \n",
       "\n",
       "               EMA_50        ADX    PLUS_DI   MINUS_DI     RSI_14     RSI_21  \n",
       "Date                                                                          \n",
       "2025-05-27  70.722142  13.779280  57.050909  42.949091  57.050909  53.703035  \n",
       "2025-05-28  70.753431  13.475741  54.764869  45.235131  54.764869  52.382631  \n",
       "2025-05-29  70.579571  13.731621  41.470973  58.529027  41.470973  43.953333  \n",
       "2025-05-30  70.410960  13.981113  41.387744  58.612256  41.387744  43.896279  \n",
       "2025-06-02  70.327001  13.399889  47.078013  52.921987  47.078013  47.458882  "
      ]
     },
     "metadata": {},
     "output_type": "display_data"
    }
   ],
   "source": [
    "from py.technical_analysis import calculate_technical_indicators, generate_trading_signals\n",
    "\n",
    "# Execute technical analysis\n",
    "technical_indicators = calculate_technical_indicators(quotes)\n",
    "trading_signals = generate_trading_signals(technical_indicators)\n",
    "available_tickers = list(technical_indicators.keys())\n",
    "\n",
    "# Display sample results for first ticker\n",
    "sample_ticker = available_tickers[0]\n",
    "print(f\"\\nSample indicators and signals for {sample_ticker}:\")\n",
    "display(technical_indicators[sample_ticker].tail())"
   ]
  },
  {
   "cell_type": "markdown",
   "id": "25a96779",
   "metadata": {},
   "source": [
    "### Step 8: Backtest Strategies and Select Top 10 Stocks ***(by CAGR & Volatility)***\n",
    "- Use `bt` library for backtesting the strategy."
   ]
  },
  {
   "cell_type": "code",
   "execution_count": 47,
   "id": "1afa6710",
   "metadata": {},
   "outputs": [
    {
     "name": "stdout",
     "output_type": "stream",
     "text": [
      "================================================================================\n",
      "STRATEGY BACKTESTING ANALYSIS\n",
      "================================================================================\n",
      "\n",
      "🔄 Running strategy backtests...\n",
      "🔄 Running 400 backtests silently...\n",
      "  Progress: 5%\n",
      "  Progress: 10%\n",
      "  Progress: 15%\n",
      "  Progress: 20%\n",
      "  Progress: 25%\n",
      "  Progress: 30%\n",
      "  Progress: 35%\n",
      "  Progress: 40%\n",
      "  Progress: 45%\n",
      "  Progress: 50%\n",
      "  Progress: 55%\n",
      "  Progress: 60%\n",
      "  Progress: 65%\n",
      "  Progress: 70%\n",
      "  Progress: 75%\n",
      "  Progress: 80%\n",
      "  Progress: 85%\n",
      "  Progress: 90%\n",
      "  Progress: 95%\n",
      "  Progress: 100%\n",
      "✅ Backtesting completed\n",
      "\n",
      "🔄 Portfolio Construction\n",
      "📊 CAGR Filtering: 100 → 90 tickers (≥0.0%)\n",
      "📊 Volatility Filtering: → 70 tickers (≤30.0%)\n",
      "🏆 Selected top 2 performers:\n",
      "  #1. lmt: 43.68% CAGR, 21.46% Vol, Sharpe: 1.80 (SMA_Cross_Signal)\n",
      "  #2. pm: 38.91% CAGR, 23.48% Vol, Sharpe: 1.52 (EMA_Cross_Signal)\n",
      "\n",
      "🔄 Portfolio Backtesting\n",
      "✅ Strategy Analysis Complete!\n",
      "\n",
      "📈 Portfolio: 2 stocks\n",
      "  📊 Avg CAGR: 41.29% | Avg Sharpe: 1.66 | Avg Volatility: 22.47% | Avg Drawdown: -18.32%\n",
      "  🎯 Strategy Distribution:\n",
      "    - SMA_Cross_Signal: 1 stocks (50.0%)\n",
      "    - EMA_Cross_Signal: 1 stocks (50.0%)\n",
      "\n",
      "📊 Best Strategies for 2 Selected Tickers:\n"
     ]
    },
    {
     "data": {
      "application/vnd.microsoft.datawrangler.viewer.v0+json": {
       "columns": [
        {
         "name": "index",
         "rawType": "object",
         "type": "string"
        },
        {
         "name": "cagr",
         "rawType": "float64",
         "type": "float"
        },
        {
         "name": "total_return",
         "rawType": "float64",
         "type": "float"
        },
        {
         "name": "max_drawdown",
         "rawType": "float64",
         "type": "float"
        },
        {
         "name": "sharpe_ratio",
         "rawType": "float64",
         "type": "float"
        },
        {
         "name": "volatility",
         "rawType": "float64",
         "type": "float"
        },
        {
         "name": "strategy",
         "rawType": "object",
         "type": "string"
        }
       ],
       "ref": "6fe2782f-9711-43f8-ba63-4593c6b946be",
       "rows": [
        [
         "lmt",
         "0.43677239985478367",
         "0.5290695950622599",
         "-0.1322285871366624",
         "1.8028645582101697",
         "0.21464274960039664",
         "SMA_Cross_Signal"
        ],
        [
         "pm",
         "0.3890788862322956",
         "0.4697633474502583",
         "-0.23409326690201215",
         "1.5241616557377706",
         "0.23483026827340817",
         "EMA_Cross_Signal"
        ]
       ],
       "shape": {
        "columns": 6,
        "rows": 2
       }
      },
      "text/html": [
       "<div>\n",
       "<style scoped>\n",
       "    .dataframe tbody tr th:only-of-type {\n",
       "        vertical-align: middle;\n",
       "    }\n",
       "\n",
       "    .dataframe tbody tr th {\n",
       "        vertical-align: top;\n",
       "    }\n",
       "\n",
       "    .dataframe thead th {\n",
       "        text-align: right;\n",
       "    }\n",
       "</style>\n",
       "<table border=\"1\" class=\"dataframe\">\n",
       "  <thead>\n",
       "    <tr style=\"text-align: right;\">\n",
       "      <th></th>\n",
       "      <th>cagr</th>\n",
       "      <th>total_return</th>\n",
       "      <th>max_drawdown</th>\n",
       "      <th>sharpe_ratio</th>\n",
       "      <th>volatility</th>\n",
       "      <th>strategy</th>\n",
       "    </tr>\n",
       "  </thead>\n",
       "  <tbody>\n",
       "    <tr>\n",
       "      <th>lmt</th>\n",
       "      <td>0.436772</td>\n",
       "      <td>0.529070</td>\n",
       "      <td>-0.132229</td>\n",
       "      <td>1.802865</td>\n",
       "      <td>0.214643</td>\n",
       "      <td>SMA_Cross_Signal</td>\n",
       "    </tr>\n",
       "    <tr>\n",
       "      <th>pm</th>\n",
       "      <td>0.389079</td>\n",
       "      <td>0.469763</td>\n",
       "      <td>-0.234093</td>\n",
       "      <td>1.524162</td>\n",
       "      <td>0.234830</td>\n",
       "      <td>EMA_Cross_Signal</td>\n",
       "    </tr>\n",
       "  </tbody>\n",
       "</table>\n",
       "</div>"
      ],
      "text/plain": [
       "         cagr  total_return  max_drawdown  sharpe_ratio  volatility  \\\n",
       "lmt  0.436772      0.529070     -0.132229      1.802865    0.214643   \n",
       "pm   0.389079      0.469763     -0.234093      1.524162    0.234830   \n",
       "\n",
       "             strategy  \n",
       "lmt  SMA_Cross_Signal  \n",
       "pm   EMA_Cross_Signal  "
      ]
     },
     "metadata": {},
     "output_type": "display_data"
    }
   ],
   "source": [
    "from py.technical_analysis import run_backtest, best_strategy_analysis\n",
    "\n",
    "# Configuration constants\n",
    "PORTFOLIO_CONFIG = {\n",
    "    'max_volatility': 0.3,  # Maximum 30% volatility\n",
    "    'max_stocks': 2        # Maximum 10 stocks in portfolio\n",
    "}\n",
    "\n",
    "# Step 1: Run strategy backtesting\n",
    "backtest_data = run_backtest(quotes, trading_signals, available_tickers)\n",
    "\n",
    "# Step 2: Analyze best strategies and build portfolio\n",
    "analysis_results = best_strategy_analysis(quotes, trading_signals, backtest_data, available_tickers, **PORTFOLIO_CONFIG)\n",
    "\n",
    "# Step 3: Display results\n",
    "selected_tickers = analysis_results['selected_tickers']\n",
    "best_strategies_df = analysis_results['best_strategies_df']\n",
    "print(f\"\\n📊 Best Strategies for {len(selected_tickers)} Selected Tickers:\")\n",
    "display(best_strategies_df.sort_values('cagr', ascending=False))"
   ]
  },
  {
   "cell_type": "markdown",
   "id": "07c51ad2",
   "metadata": {},
   "source": [
    "### Step 9: Run a Loop to Try the Strategy with Different Parameters"
   ]
  },
  {
   "cell_type": "code",
   "execution_count": 48,
   "id": "1a52c5e0",
   "metadata": {},
   "outputs": [],
   "source": [
    "%%capture\n",
    "from py.technical_analysis import optimize_strategy_parameters, create_optimization_summary\n",
    "\n",
    "print(\"=\" * 80)\n",
    "print(\"PARAMETER OPTIMIZATION\")\n",
    "print(\"=\" * 80)\n",
    "\n",
    "# Run parameter optimization\n",
    "optimization_results = optimize_strategy_parameters(\n",
    "    quotes=quotes,\n",
    "    best_strategies_df=best_strategies_df,\n",
    "    selected_tickers=selected_tickers,\n",
    "    risk_free_rate=risk_free_rate\n",
    ")\n",
    "\n",
    "# Create summary of optimized parameters\n",
    "optimization_summary = create_optimization_summary(optimization_results)"
   ]
  },
  {
   "cell_type": "code",
   "execution_count": 49,
   "id": "ca1a4dcf",
   "metadata": {},
   "outputs": [
    {
     "data": {
      "application/vnd.microsoft.datawrangler.viewer.v0+json": {
       "columns": [
        {
         "name": "index",
         "rawType": "int64",
         "type": "integer"
        },
        {
         "name": "Ticker",
         "rawType": "object",
         "type": "string"
        },
        {
         "name": "Strategy",
         "rawType": "object",
         "type": "string"
        },
        {
         "name": "Best_Sharpe",
         "rawType": "float64",
         "type": "float"
        },
        {
         "name": "CAGR",
         "rawType": "float64",
         "type": "float"
        },
        {
         "name": "Max_Drawdown",
         "rawType": "float64",
         "type": "float"
        },
        {
         "name": "Volatility",
         "rawType": "float64",
         "type": "float"
        },
        {
         "name": "Short_Period",
         "rawType": "int64",
         "type": "integer"
        },
        {
         "name": "Long_Period",
         "rawType": "int64",
         "type": "integer"
        }
       ],
       "ref": "a54ed037-71e0-40b4-9f8e-c772a8d1eb9c",
       "rows": [
        [
         "0",
         "lmt",
         "SMA_Cross_Signal",
         "1.8701623855569813",
         "0.45727385218297156",
         "-0.13216351284798877",
         "0.21452668100299715",
         "23",
         "50"
        ],
        [
         "1",
         "pm",
         "EMA_Cross_Signal",
         "2.3285167823548814",
         "0.7019690104422727",
         "-0.08092508270664567",
         "0.24193916443887065",
         "10",
         "33"
        ]
       ],
       "shape": {
        "columns": 8,
        "rows": 2
       }
      },
      "text/html": [
       "<div>\n",
       "<style scoped>\n",
       "    .dataframe tbody tr th:only-of-type {\n",
       "        vertical-align: middle;\n",
       "    }\n",
       "\n",
       "    .dataframe tbody tr th {\n",
       "        vertical-align: top;\n",
       "    }\n",
       "\n",
       "    .dataframe thead th {\n",
       "        text-align: right;\n",
       "    }\n",
       "</style>\n",
       "<table border=\"1\" class=\"dataframe\">\n",
       "  <thead>\n",
       "    <tr style=\"text-align: right;\">\n",
       "      <th></th>\n",
       "      <th>Ticker</th>\n",
       "      <th>Strategy</th>\n",
       "      <th>Best_Sharpe</th>\n",
       "      <th>CAGR</th>\n",
       "      <th>Max_Drawdown</th>\n",
       "      <th>Volatility</th>\n",
       "      <th>Short_Period</th>\n",
       "      <th>Long_Period</th>\n",
       "    </tr>\n",
       "  </thead>\n",
       "  <tbody>\n",
       "    <tr>\n",
       "      <th>0</th>\n",
       "      <td>lmt</td>\n",
       "      <td>SMA_Cross_Signal</td>\n",
       "      <td>1.870162</td>\n",
       "      <td>0.457274</td>\n",
       "      <td>-0.132164</td>\n",
       "      <td>0.214527</td>\n",
       "      <td>23</td>\n",
       "      <td>50</td>\n",
       "    </tr>\n",
       "    <tr>\n",
       "      <th>1</th>\n",
       "      <td>pm</td>\n",
       "      <td>EMA_Cross_Signal</td>\n",
       "      <td>2.328517</td>\n",
       "      <td>0.701969</td>\n",
       "      <td>-0.080925</td>\n",
       "      <td>0.241939</td>\n",
       "      <td>10</td>\n",
       "      <td>33</td>\n",
       "    </tr>\n",
       "  </tbody>\n",
       "</table>\n",
       "</div>"
      ],
      "text/plain": [
       "  Ticker          Strategy  Best_Sharpe      CAGR  Max_Drawdown  Volatility  \\\n",
       "0    lmt  SMA_Cross_Signal     1.870162  0.457274     -0.132164    0.214527   \n",
       "1     pm  EMA_Cross_Signal     2.328517  0.701969     -0.080925    0.241939   \n",
       "\n",
       "   Short_Period  Long_Period  \n",
       "0            23           50  \n",
       "1            10           33  "
      ]
     },
     "metadata": {},
     "output_type": "display_data"
    }
   ],
   "source": [
    "display(optimization_summary)"
   ]
  },
  {
   "cell_type": "markdown",
   "id": "dadff3d5",
   "metadata": {},
   "source": [
    "### Step 9: Plot Results"
   ]
  },
  {
   "cell_type": "code",
   "execution_count": null,
   "id": "fcd232cf",
   "metadata": {},
   "outputs": [
    {
     "name": "stdout",
     "output_type": "stream",
     "text": [
      "📊 Generating Portfolio Charts...\n",
      "\n",
      "📈 Portfolio Performance:\n",
      "Error plotting portfolio performance: name 'optimization_summary' is not defined\n",
      "\n",
      "📈 Strategy Signals by Ticker:\n",
      "Error plotting strategy signals by ticker: name 'optimization_summary' is not defined\n",
      "\n",
      "✅ Chart generation complete!\n"
     ]
    }
   ],
   "source": [
    "from py.technical_analysis import plot_parameter_comparison, plot_portfolio_performance, plot_optimization_metrics, plot_optimization_heatmaps, plot_ticker_signals_with_annotations\n",
    "\n",
    "# Chart generation\n",
    "print(\"📊 Generating Portfolio Charts...\")\n",
    "\n",
    "# Add parameter optimization plotting using optimization_summary DataFrame\n",
    "if 'optimization_summary' in locals() and not optimization_summary.empty:\n",
    "    print(\"\\n📈 Parameter Optimization Visualization:\")\n",
    "    try:\n",
    "        # Plot optimization heatmaps using optimization_results\n",
    "        plot_optimization_heatmaps(optimization_results)\n",
    "        \n",
    "        # Create parameter comparison charts using optimization_summary\n",
    "        plot_parameter_comparison(optimization_summary)\n",
    "        \n",
    "        # Plot performance metrics distribution using optimization_summary\n",
    "        plot_optimization_metrics(optimization_summary)\n",
    "        \n",
    "    except Exception as e:\n",
    "        print(f\"Error plotting optimization results: {e}\")\n",
    "\n",
    "for chart_type, func in [(\"Portfolio Performance\", lambda: plot_portfolio_performance(optimization_summary)), \n",
    "                         (\"Strategy Signals by Ticker\", lambda: plot_ticker_signals_with_annotations(\n",
    "                             quotes, trading_signals, technical_indicators, \n",
    "                             optimization_summary)\n",
    "                          if all([quotes is not None, trading_signals, technical_indicators,\n",
    "                                 optimization_summary is not None and not optimization_summary.empty]) \n",
    "                          else print(\"⚠️ Missing required data or no optimization results\"))]:\n",
    "    try:\n",
    "        print(f\"\\n📈 {chart_type}:\")\n",
    "        if chart_type == \"Strategy Signals by Ticker\" and not optimization_summary.empty:\n",
    "            print(f\"📋 Included tickers: {optimization_summary['Ticker'].tolist()}\")\n",
    "        func()\n",
    "    except Exception as e:\n",
    "        print(f\"Error plotting {chart_type.lower()}: {e}\")\n",
    "\n",
    "print(\"\\n✅ Chart generation complete!\")"
   ]
  },
  {
   "cell_type": "markdown",
   "id": "3cb13218",
   "metadata": {},
   "source": [
    "### Step 10: Merge Strategy with Fundamental + Sentiment Analysis Data"
   ]
  },
  {
   "cell_type": "code",
   "execution_count": 51,
   "id": "818807d6",
   "metadata": {},
   "outputs": [
    {
     "name": "stdout",
     "output_type": "stream",
     "text": [
      "Selected tickers from analysis_results:\n",
      "['lmt', 'pm']\n"
     ]
    },
    {
     "data": {
      "application/vnd.microsoft.datawrangler.viewer.v0+json": {
       "columns": [
        {
         "name": "Ticker",
         "rawType": "object",
         "type": "string"
        },
        {
         "name": "Date",
         "rawType": "object",
         "type": "string"
        },
        {
         "name": "Name",
         "rawType": "object",
         "type": "string"
        },
        {
         "name": "Sector",
         "rawType": "object",
         "type": "string"
        },
        {
         "name": "Industry",
         "rawType": "object",
         "type": "string"
        },
        {
         "name": "Country",
         "rawType": "object",
         "type": "string"
        },
        {
         "name": "Website",
         "rawType": "object",
         "type": "string"
        },
        {
         "name": "Market Cap",
         "rawType": "float64",
         "type": "float"
        },
        {
         "name": "Enterprise Value",
         "rawType": "float64",
         "type": "float"
        },
        {
         "name": "Float Shares",
         "rawType": "float64",
         "type": "float"
        },
        {
         "name": "Shares Outstanding",
         "rawType": "float64",
         "type": "float"
        },
        {
         "name": "P/E (Trailing)",
         "rawType": "float64",
         "type": "float"
        },
        {
         "name": "P/E (Forward)",
         "rawType": "float64",
         "type": "float"
        },
        {
         "name": "P/S",
         "rawType": "float64",
         "type": "float"
        },
        {
         "name": "P/B",
         "rawType": "float64",
         "type": "float"
        },
        {
         "name": "EV/Ebitda",
         "rawType": "float64",
         "type": "float"
        },
        {
         "name": "EV/Revenue",
         "rawType": "float64",
         "type": "float"
        },
        {
         "name": "Gross Margin (%)",
         "rawType": "float64",
         "type": "float"
        },
        {
         "name": "Ebitda Margin (%)",
         "rawType": "float64",
         "type": "float"
        },
        {
         "name": "Operating Margin (%)",
         "rawType": "float64",
         "type": "float"
        },
        {
         "name": "Profit Margin (%)",
         "rawType": "float64",
         "type": "float"
        },
        {
         "name": "ROE",
         "rawType": "float64",
         "type": "float"
        },
        {
         "name": "ROA",
         "rawType": "float64",
         "type": "float"
        },
        {
         "name": "Revenue (TTM)",
         "rawType": "float64",
         "type": "float"
        },
        {
         "name": "Revenue Growth (%)",
         "rawType": "float64",
         "type": "float"
        },
        {
         "name": "EPS (Trailing)",
         "rawType": "float64",
         "type": "float"
        },
        {
         "name": "EPS (Forward)",
         "rawType": "float64",
         "type": "float"
        },
        {
         "name": "Earnings Growth (%)",
         "rawType": "float64",
         "type": "float"
        },
        {
         "name": "Earnings Quarterly Growth (%)",
         "rawType": "float64",
         "type": "float"
        },
        {
         "name": "Total Cash",
         "rawType": "float64",
         "type": "float"
        },
        {
         "name": "Total Debt",
         "rawType": "float64",
         "type": "float"
        },
        {
         "name": "Debt To Equity",
         "rawType": "float64",
         "type": "float"
        },
        {
         "name": "Current Ratio",
         "rawType": "float64",
         "type": "float"
        },
        {
         "name": "Quick Ratio",
         "rawType": "float64",
         "type": "float"
        },
        {
         "name": "Book Value",
         "rawType": "float64",
         "type": "float"
        },
        {
         "name": "Free Cash Flow",
         "rawType": "float64",
         "type": "float"
        },
        {
         "name": "Operating Cash Flow",
         "rawType": "float64",
         "type": "float"
        },
        {
         "name": "Dividend Yield (%)",
         "rawType": "float64",
         "type": "float"
        },
        {
         "name": "Dividend Rate (%)",
         "rawType": "float64",
         "type": "float"
        },
        {
         "name": "5Y Avg Dividend Yield (%)",
         "rawType": "float64",
         "type": "float"
        },
        {
         "name": "Payout Ratio (%)",
         "rawType": "float64",
         "type": "float"
        },
        {
         "name": "Price",
         "rawType": "float64",
         "type": "float"
        },
        {
         "name": "Target Price",
         "rawType": "float64",
         "type": "float"
        },
        {
         "name": "Target High",
         "rawType": "float64",
         "type": "float"
        },
        {
         "name": "Target Low",
         "rawType": "float64",
         "type": "float"
        },
        {
         "name": "Analyst Rating",
         "rawType": "object",
         "type": "string"
        },
        {
         "name": "Analyst Rating Value",
         "rawType": "float64",
         "type": "float"
        },
        {
         "name": "Beta",
         "rawType": "float64",
         "type": "float"
        },
        {
         "name": "52W High",
         "rawType": "float64",
         "type": "float"
        },
        {
         "name": "52W Low",
         "rawType": "float64",
         "type": "float"
        },
        {
         "name": "50 Day Avg",
         "rawType": "float64",
         "type": "float"
        },
        {
         "name": "200 Day Avg",
         "rawType": "float64",
         "type": "float"
        },
        {
         "name": "Short Ratio",
         "rawType": "float64",
         "type": "float"
        },
        {
         "name": "Short % Of Float",
         "rawType": "float64",
         "type": "float"
        },
        {
         "name": "CAGR",
         "rawType": "float64",
         "type": "float"
        },
        {
         "name": "Total Return",
         "rawType": "float64",
         "type": "float"
        },
        {
         "name": "Max Drawdown",
         "rawType": "float64",
         "type": "float"
        },
        {
         "name": "Sharpe Ratio",
         "rawType": "float64",
         "type": "float"
        },
        {
         "name": "Volatility",
         "rawType": "float64",
         "type": "float"
        },
        {
         "name": "Strategy",
         "rawType": "object",
         "type": "string"
        },
        {
         "name": "Articles In Last Week",
         "rawType": "int64",
         "type": "integer"
        },
        {
         "name": "Company News Score",
         "rawType": "float64",
         "type": "float"
        },
        {
         "name": "Bearish Percent",
         "rawType": "float64",
         "type": "float"
        },
        {
         "name": "Bullish Percent",
         "rawType": "float64",
         "type": "float"
        },
        {
         "name": "Average Sentiment Score",
         "rawType": "float64",
         "type": "float"
        },
        {
         "name": "Sector Average Bullish Percent",
         "rawType": "float64",
         "type": "float"
        },
        {
         "name": "Sector Average News Score",
         "rawType": "float64",
         "type": "float"
        }
       ],
       "ref": "f5586249-6537-4b24-a082-264db4c25a73",
       "rows": [
        [
         "LMT",
         "2025-06-02",
         "Lockheed Martin Corporation",
         "Industrials",
         "Aerospace & Defense",
         "United States",
         "https://www.lockheedmartin.com",
         "113019707392.0",
         "131520684032.0",
         "172732348.0",
         "234296000.0",
         "20.79",
         "17.16",
         "1.57",
         "16.82",
         "15.14",
         "1.83",
         "0.1023",
         "0.121",
         "0.1269",
         "0.0766",
         "0.83",
         "0.08",
         "71810998272.0",
         "0.045",
         "23.2",
         "28.11",
         "0.139",
         "0.108",
         "1803000064.0",
         "20303998976.0",
         "303.82",
         "1.08",
         "0.87",
         "28.68",
         "5291125248.0",
         "6745999872.0",
         "0.0274",
         "0.132",
         "0.0265",
         "0.556",
         "482.38",
         "524.23",
         "670.0",
         "408.0",
         "buy",
         "2.29",
         "0.29",
         "618.95",
         "418.88",
         "463.07",
         "506.99",
         "1.59",
         "0.01",
         "0.43677239985478367",
         "0.5290695950622599",
         "-0.1322285871366624",
         "1.8028645582101697",
         "0.21464274960039664",
         "SMA_Cross_Signal",
         "13",
         "0.6139",
         "0.0",
         "0.9231",
         "0.2277",
         "0.4812",
         "0.562"
        ],
        [
         "PM",
         "2025-06-02",
         "Philip Morris International Inc.",
         "Consumer Defensive",
         "Tobacco",
         "United States",
         "https://www.pmi.com",
         "281091932160.0",
         "328256421888.0",
         "1552579194.0",
         "1556519936.0",
         "28.39",
         "25.08",
         "7.32",
         "-25.78",
         "20.21",
         "8.55",
         "0.6568",
         "0.4231",
         "0.4102",
         "0.198",
         null,
         "0.14",
         "38385999872.0",
         "0.058",
         "6.36",
         "7.2",
         "0.247",
         "0.252",
         "4442999808.0",
         "49633001472.0",
         null,
         "0.79",
         "0.36",
         "-7.0",
         "8564250112.0",
         "11626000384.0",
         "0.0299",
         "0.054000000000000006",
         "0.051",
         "0.8427",
         "180.59",
         "176.03",
         "205.0",
         "143.45",
         "buy",
         "1.94",
         "0.54",
         "181.36",
         "98.93",
         "164.63",
         "138.62",
         "2.06",
         "0.01",
         "0.3890788862322956",
         "0.4697633474502583",
         "-0.23409326690201215",
         "1.5241616557377706",
         "0.23483026827340817",
         "EMA_Cross_Signal",
         "131",
         "0.6205",
         "0.0153",
         "0.687",
         "0.2411",
         "0.5045",
         "0.5582"
        ]
       ],
       "shape": {
        "columns": 66,
        "rows": 2
       }
      },
      "text/html": [
       "<div>\n",
       "<style scoped>\n",
       "    .dataframe tbody tr th:only-of-type {\n",
       "        vertical-align: middle;\n",
       "    }\n",
       "\n",
       "    .dataframe tbody tr th {\n",
       "        vertical-align: top;\n",
       "    }\n",
       "\n",
       "    .dataframe thead th {\n",
       "        text-align: right;\n",
       "    }\n",
       "</style>\n",
       "<table border=\"1\" class=\"dataframe\">\n",
       "  <thead>\n",
       "    <tr style=\"text-align: right;\">\n",
       "      <th></th>\n",
       "      <th>Date</th>\n",
       "      <th>Name</th>\n",
       "      <th>Sector</th>\n",
       "      <th>Industry</th>\n",
       "      <th>Country</th>\n",
       "      <th>Website</th>\n",
       "      <th>Market Cap</th>\n",
       "      <th>Enterprise Value</th>\n",
       "      <th>Float Shares</th>\n",
       "      <th>Shares Outstanding</th>\n",
       "      <th>...</th>\n",
       "      <th>Sharpe Ratio</th>\n",
       "      <th>Volatility</th>\n",
       "      <th>Strategy</th>\n",
       "      <th>Articles In Last Week</th>\n",
       "      <th>Company News Score</th>\n",
       "      <th>Bearish Percent</th>\n",
       "      <th>Bullish Percent</th>\n",
       "      <th>Average Sentiment Score</th>\n",
       "      <th>Sector Average Bullish Percent</th>\n",
       "      <th>Sector Average News Score</th>\n",
       "    </tr>\n",
       "    <tr>\n",
       "      <th>Ticker</th>\n",
       "      <th></th>\n",
       "      <th></th>\n",
       "      <th></th>\n",
       "      <th></th>\n",
       "      <th></th>\n",
       "      <th></th>\n",
       "      <th></th>\n",
       "      <th></th>\n",
       "      <th></th>\n",
       "      <th></th>\n",
       "      <th></th>\n",
       "      <th></th>\n",
       "      <th></th>\n",
       "      <th></th>\n",
       "      <th></th>\n",
       "      <th></th>\n",
       "      <th></th>\n",
       "      <th></th>\n",
       "      <th></th>\n",
       "      <th></th>\n",
       "      <th></th>\n",
       "    </tr>\n",
       "  </thead>\n",
       "  <tbody>\n",
       "    <tr>\n",
       "      <th>LMT</th>\n",
       "      <td>2025-06-02</td>\n",
       "      <td>Lockheed Martin Corporation</td>\n",
       "      <td>Industrials</td>\n",
       "      <td>Aerospace &amp; Defense</td>\n",
       "      <td>United States</td>\n",
       "      <td>https://www.lockheedmartin.com</td>\n",
       "      <td>1.130197e+11</td>\n",
       "      <td>1.315207e+11</td>\n",
       "      <td>1.727323e+08</td>\n",
       "      <td>2.342960e+08</td>\n",
       "      <td>...</td>\n",
       "      <td>1.802865</td>\n",
       "      <td>0.214643</td>\n",
       "      <td>SMA_Cross_Signal</td>\n",
       "      <td>13</td>\n",
       "      <td>0.6139</td>\n",
       "      <td>0.0000</td>\n",
       "      <td>0.9231</td>\n",
       "      <td>0.2277</td>\n",
       "      <td>0.4812</td>\n",
       "      <td>0.5620</td>\n",
       "    </tr>\n",
       "    <tr>\n",
       "      <th>PM</th>\n",
       "      <td>2025-06-02</td>\n",
       "      <td>Philip Morris International Inc.</td>\n",
       "      <td>Consumer Defensive</td>\n",
       "      <td>Tobacco</td>\n",
       "      <td>United States</td>\n",
       "      <td>https://www.pmi.com</td>\n",
       "      <td>2.810919e+11</td>\n",
       "      <td>3.282564e+11</td>\n",
       "      <td>1.552579e+09</td>\n",
       "      <td>1.556520e+09</td>\n",
       "      <td>...</td>\n",
       "      <td>1.524162</td>\n",
       "      <td>0.234830</td>\n",
       "      <td>EMA_Cross_Signal</td>\n",
       "      <td>131</td>\n",
       "      <td>0.6205</td>\n",
       "      <td>0.0153</td>\n",
       "      <td>0.6870</td>\n",
       "      <td>0.2411</td>\n",
       "      <td>0.5045</td>\n",
       "      <td>0.5582</td>\n",
       "    </tr>\n",
       "  </tbody>\n",
       "</table>\n",
       "<p>2 rows × 66 columns</p>\n",
       "</div>"
      ],
      "text/plain": [
       "              Date                              Name              Sector  \\\n",
       "Ticker                                                                     \n",
       "LMT     2025-06-02       Lockheed Martin Corporation         Industrials   \n",
       "PM      2025-06-02  Philip Morris International Inc.  Consumer Defensive   \n",
       "\n",
       "                   Industry        Country                         Website  \\\n",
       "Ticker                                                                       \n",
       "LMT     Aerospace & Defense  United States  https://www.lockheedmartin.com   \n",
       "PM                  Tobacco  United States             https://www.pmi.com   \n",
       "\n",
       "          Market Cap  Enterprise Value  Float Shares  Shares Outstanding  ...  \\\n",
       "Ticker                                                                    ...   \n",
       "LMT     1.130197e+11      1.315207e+11  1.727323e+08        2.342960e+08  ...   \n",
       "PM      2.810919e+11      3.282564e+11  1.552579e+09        1.556520e+09  ...   \n",
       "\n",
       "        Sharpe Ratio  Volatility          Strategy  Articles In Last Week  \\\n",
       "Ticker                                                                      \n",
       "LMT         1.802865    0.214643  SMA_Cross_Signal                     13   \n",
       "PM          1.524162    0.234830  EMA_Cross_Signal                    131   \n",
       "\n",
       "        Company News Score  Bearish Percent  Bullish Percent  \\\n",
       "Ticker                                                         \n",
       "LMT                 0.6139           0.0000           0.9231   \n",
       "PM                  0.6205           0.0153           0.6870   \n",
       "\n",
       "        Average Sentiment Score  Sector Average Bullish Percent  \\\n",
       "Ticker                                                            \n",
       "LMT                      0.2277                          0.4812   \n",
       "PM                       0.2411                          0.5045   \n",
       "\n",
       "        Sector Average News Score  \n",
       "Ticker                             \n",
       "LMT                        0.5620  \n",
       "PM                         0.5582  \n",
       "\n",
       "[2 rows x 66 columns]"
      ]
     },
     "metadata": {},
     "output_type": "display_data"
    }
   ],
   "source": [
    "from py.utils import clean_column_names\n",
    "\n",
    "print(\"Selected tickers from analysis_results:\")\n",
    "print(analysis_results['selected_tickers'])\n",
    "\n",
    "# Create a DataFrame with tickers and merge with best_strategies_df\n",
    "best_strategies_with_tickers = best_strategies_df.copy()\n",
    "best_strategies_with_tickers['Ticker'] = [ticker.upper() for ticker in analysis_results['selected_tickers']] # Convert tickers to uppercase to match fundamentals_df format\n",
    "\n",
    "# Convert to Polars for merging\n",
    "best_strategies_pl = pl.DataFrame(best_strategies_with_tickers)\n",
    "\n",
    "# Prepare comprehensive_screened for merging - select only needed columns\n",
    "comprehensive_screened_for_merge = comprehensive_screened.select([\n",
    "    'symbol',\n",
    "    'articlesInLastWeek',\n",
    "    'companyNewsScore', \n",
    "    'bearishPercent',\n",
    "    'bullishPercent',\n",
    "    'averageSentimentScore',\n",
    "    'sectorAverageBullishPercent',\n",
    "    'sectorAverageNewsScore'\n",
    "    # Add other columns you want to keep, but exclude 'sector' to avoid duplication\n",
    "]).with_columns(\n",
    "    pl.col(\"symbol\").str.to_uppercase().alias(\"Ticker\")\n",
    ").drop('symbol')  # Remove the original lowercase symbol column\n",
    "\n",
    "# Chain all merges together\n",
    "short_term_portfolio_pl = (fundamentals_df\n",
    "    .join(best_strategies_pl, on='Ticker', how='inner')\n",
    "    .join(comprehensive_screened_for_merge, on='Ticker', how='inner')\n",
    ")\n",
    "\n",
    "# Convert back to pandas if needed for further processing\n",
    "short_term_portfolio_df = short_term_portfolio_pl.to_pandas()\n",
    "short_term_portfolio_df = short_term_portfolio_df.set_index('Ticker').sort_index()\n",
    "short_term_portfolio_df = clean_column_names(short_term_portfolio_df)\n",
    "display(short_term_portfolio_df)"
   ]
  },
  {
   "cell_type": "markdown",
   "id": "24eb7b4d",
   "metadata": {
    "colab": {
     "base_uri": "https://localhost:8080/",
     "height": 807
    },
    "id": "24eb7b4d",
    "outputId": "0016918b-8ddb-4dfe-a6a0-035b599c21c6"
   },
   "source": [
    "### Step 12: Export Potfolio to Excel"
   ]
  },
  {
   "cell_type": "markdown",
   "id": "f65f89f1",
   "metadata": {},
   "source": [
    "#### Prepare DataFrame for Export"
   ]
  },
  {
   "cell_type": "code",
   "execution_count": 52,
   "id": "d3ae1f3c",
   "metadata": {
    "execution": {
     "iopub.execute_input": "2025-05-29T14:21:50.862436Z",
     "iopub.status.busy": "2025-05-29T14:21:50.862237Z",
     "iopub.status.idle": "2025-05-29T14:21:50.900432Z",
     "shell.execute_reply": "2025-05-29T14:21:50.899864Z"
    }
   },
   "outputs": [
    {
     "data": {
      "application/vnd.microsoft.datawrangler.viewer.v0+json": {
       "columns": [
        {
         "name": "Date",
         "rawType": "datetime64[ns]",
         "type": "datetime"
        },
        {
         "name": "LMT",
         "rawType": "float64",
         "type": "float"
        },
        {
         "name": "PM",
         "rawType": "float64",
         "type": "float"
        },
        {
         "name": "^IRX",
         "rawType": "float64",
         "type": "float"
        }
       ],
       "ref": "d60aa280-917f-4668-aa4e-0da50a750906",
       "rows": [
        [
         "2025-05-01 00:00:00",
         "479.08001708984375",
         "180.58999633789062",
         "4.23"
        ],
        [
         "2025-04-01 00:00:00",
         "474.481689453125",
         "171.36000061035156",
         "4.19"
        ],
        [
         "2025-03-01 00:00:00",
         "443.6540222167969",
         "158.72999572753906",
         "4.19"
        ],
        [
         "2025-02-01 00:00:00",
         "444.01153564453125",
         "153.92132568359375",
         "4.193"
        ],
        [
         "2025-01-01 00:00:00",
         "456.4139404296875",
         "129.06077575683594",
         "4.188"
        ],
        [
         "2024-12-01 00:00:00",
         "479.0793762207031",
         "119.29695892333984",
         "4.208"
        ],
        [
         "2024-11-01 00:00:00",
         "518.6822509765625",
         "130.44705200195312",
         "4.373"
        ],
        [
         "2024-10-01 00:00:00",
         "534.985107421875",
         "130.0941162109375",
         "4.432"
        ],
        [
         "2024-09-01 00:00:00",
         "572.7147216796875",
         "119.01602935791016",
         "4.498"
        ],
        [
         "2024-08-01 00:00:00",
         "553.5020751953125",
         "119.52803039550781",
         "4.968"
        ],
        [
         "2024-07-01 00:00:00",
         "527.9947509765625",
         "111.64610290527344",
         "5.135"
        ],
        [
         "2024-06-01 00:00:00",
         "455.097412109375",
         "98.23809814453125",
         "5.213"
        ],
        [
         "2024-05-01 00:00:00",
         "455.1850891113281",
         "97.02399444580078",
         "5.245"
        ],
        [
         "2024-04-01 00:00:00",
         "449.9493713378906",
         "90.86070251464844",
         "5.245"
        ]
       ],
       "shape": {
        "columns": 3,
        "rows": 14
       }
      },
      "text/html": [
       "<div>\n",
       "<style scoped>\n",
       "    .dataframe tbody tr th:only-of-type {\n",
       "        vertical-align: middle;\n",
       "    }\n",
       "\n",
       "    .dataframe tbody tr th {\n",
       "        vertical-align: top;\n",
       "    }\n",
       "\n",
       "    .dataframe thead th {\n",
       "        text-align: right;\n",
       "    }\n",
       "</style>\n",
       "<table border=\"1\" class=\"dataframe\">\n",
       "  <thead>\n",
       "    <tr style=\"text-align: right;\">\n",
       "      <th></th>\n",
       "      <th>LMT</th>\n",
       "      <th>PM</th>\n",
       "      <th>^IRX</th>\n",
       "    </tr>\n",
       "    <tr>\n",
       "      <th>Date</th>\n",
       "      <th></th>\n",
       "      <th></th>\n",
       "      <th></th>\n",
       "    </tr>\n",
       "  </thead>\n",
       "  <tbody>\n",
       "    <tr>\n",
       "      <th>2025-05-01</th>\n",
       "      <td>479.080017</td>\n",
       "      <td>180.589996</td>\n",
       "      <td>4.230</td>\n",
       "    </tr>\n",
       "    <tr>\n",
       "      <th>2025-04-01</th>\n",
       "      <td>474.481689</td>\n",
       "      <td>171.360001</td>\n",
       "      <td>4.190</td>\n",
       "    </tr>\n",
       "    <tr>\n",
       "      <th>2025-03-01</th>\n",
       "      <td>443.654022</td>\n",
       "      <td>158.729996</td>\n",
       "      <td>4.190</td>\n",
       "    </tr>\n",
       "    <tr>\n",
       "      <th>2025-02-01</th>\n",
       "      <td>444.011536</td>\n",
       "      <td>153.921326</td>\n",
       "      <td>4.193</td>\n",
       "    </tr>\n",
       "    <tr>\n",
       "      <th>2025-01-01</th>\n",
       "      <td>456.413940</td>\n",
       "      <td>129.060776</td>\n",
       "      <td>4.188</td>\n",
       "    </tr>\n",
       "    <tr>\n",
       "      <th>2024-12-01</th>\n",
       "      <td>479.079376</td>\n",
       "      <td>119.296959</td>\n",
       "      <td>4.208</td>\n",
       "    </tr>\n",
       "    <tr>\n",
       "      <th>2024-11-01</th>\n",
       "      <td>518.682251</td>\n",
       "      <td>130.447052</td>\n",
       "      <td>4.373</td>\n",
       "    </tr>\n",
       "    <tr>\n",
       "      <th>2024-10-01</th>\n",
       "      <td>534.985107</td>\n",
       "      <td>130.094116</td>\n",
       "      <td>4.432</td>\n",
       "    </tr>\n",
       "    <tr>\n",
       "      <th>2024-09-01</th>\n",
       "      <td>572.714722</td>\n",
       "      <td>119.016029</td>\n",
       "      <td>4.498</td>\n",
       "    </tr>\n",
       "    <tr>\n",
       "      <th>2024-08-01</th>\n",
       "      <td>553.502075</td>\n",
       "      <td>119.528030</td>\n",
       "      <td>4.968</td>\n",
       "    </tr>\n",
       "    <tr>\n",
       "      <th>2024-07-01</th>\n",
       "      <td>527.994751</td>\n",
       "      <td>111.646103</td>\n",
       "      <td>5.135</td>\n",
       "    </tr>\n",
       "    <tr>\n",
       "      <th>2024-06-01</th>\n",
       "      <td>455.097412</td>\n",
       "      <td>98.238098</td>\n",
       "      <td>5.213</td>\n",
       "    </tr>\n",
       "    <tr>\n",
       "      <th>2024-05-01</th>\n",
       "      <td>455.185089</td>\n",
       "      <td>97.023994</td>\n",
       "      <td>5.245</td>\n",
       "    </tr>\n",
       "    <tr>\n",
       "      <th>2024-04-01</th>\n",
       "      <td>449.949371</td>\n",
       "      <td>90.860703</td>\n",
       "      <td>5.245</td>\n",
       "    </tr>\n",
       "  </tbody>\n",
       "</table>\n",
       "</div>"
      ],
      "text/plain": [
       "                   LMT          PM   ^IRX\n",
       "Date                                     \n",
       "2025-05-01  479.080017  180.589996  4.230\n",
       "2025-04-01  474.481689  171.360001  4.190\n",
       "2025-03-01  443.654022  158.729996  4.190\n",
       "2025-02-01  444.011536  153.921326  4.193\n",
       "2025-01-01  456.413940  129.060776  4.188\n",
       "2024-12-01  479.079376  119.296959  4.208\n",
       "2024-11-01  518.682251  130.447052  4.373\n",
       "2024-10-01  534.985107  130.094116  4.432\n",
       "2024-09-01  572.714722  119.016029  4.498\n",
       "2024-08-01  553.502075  119.528030  4.968\n",
       "2024-07-01  527.994751  111.646103  5.135\n",
       "2024-06-01  455.097412   98.238098  5.213\n",
       "2024-05-01  455.185089   97.023994  5.245\n",
       "2024-04-01  449.949371   90.860703  5.245"
      ]
     },
     "metadata": {},
     "output_type": "display_data"
    }
   ],
   "source": [
    "# Merge Portfolio Daily Quotes with risk-free rate\n",
    "daily_prices_df_merged = quotes[selected_tickers].join(daily_risk_free_df, how='inner')\n",
    "\n",
    "# Convert all column names to uppercase\n",
    "daily_prices_df_merged.columns = daily_prices_df_merged.columns.str.upper()\n",
    "\n",
    "# Create a Monthly Price DataFrame\n",
    "monthly_prices_df_merged = daily_prices_df_merged.copy()\n",
    "\n",
    "# Make sure index is datetime (redundant if already datetime, but safe)\n",
    "monthly_prices_df_merged.index = pd.to_datetime(monthly_prices_df_merged.index)\n",
    "\n",
    "# Resample to monthly (start of month) and get the last value\n",
    "monthly_prices_df_merged = (monthly_prices_df_merged\n",
    "                           .resample('MS').last()\n",
    "                           .reset_index()\n",
    "                           .rename(columns={'index': 'Date'}))\n",
    "\n",
    "# Set Index to Date\n",
    "monthly_prices_df_merged.reset_index(drop=True, inplace=True)\n",
    "monthly_prices_df_merged.set_index(['Date'], inplace=True)\n",
    "\n",
    "# Display\n",
    "display(monthly_prices_df_merged.sort_index(axis=0, ascending=False).sort_index(axis=1, ascending=True))"
   ]
  },
  {
   "cell_type": "markdown",
   "id": "c4327447",
   "metadata": {},
   "source": [
    "#### Export DataFrame to Excel"
   ]
  },
  {
   "cell_type": "code",
   "execution_count": 53,
   "id": "5fc8adef",
   "metadata": {
    "execution": {
     "iopub.execute_input": "2025-05-29T14:21:50.902714Z",
     "iopub.status.busy": "2025-05-29T14:21:50.902422Z",
     "iopub.status.idle": "2025-05-29T14:21:51.313166Z",
     "shell.execute_reply": "2025-05-29T14:21:51.312329Z"
    },
    "id": "5fc8adef"
   },
   "outputs": [
    {
     "name": "stdout",
     "output_type": "stream",
     "text": [
      "Updated sheet 'short_term'\n",
      "Successfully merged data into 'daily_quotes' sheet\n",
      "Successfully merged data into 'monthly_quotes' sheet\n",
      "Successfully exported all data to portfolios/portfolio-2025-06-02.xlsx\n"
     ]
    }
   ],
   "source": [
    "from py.utils import export_to_excel\n",
    "\n",
    "export_to_excel(output_file, {\n",
    "    'short_term': short_term_portfolio_df,\n",
    "    'daily_quotes': daily_prices_df_merged,  \n",
    "    'monthly_quotes': monthly_prices_df_merged   \n",
    "})"
   ]
  }
 ],
 "metadata": {
  "colab": {
   "include_colab_link": true,
   "provenance": []
  },
  "kernelspec": {
   "display_name": ".venv",
   "language": "python",
   "name": "python3"
  },
  "language_info": {
   "codemirror_mode": {
    "name": "ipython",
    "version": 3
   },
   "file_extension": ".py",
   "mimetype": "text/x-python",
   "name": "python",
   "nbconvert_exporter": "python",
   "pygments_lexer": "ipython3",
   "version": "3.13.3"
  }
 },
 "nbformat": 4,
 "nbformat_minor": 5
}
