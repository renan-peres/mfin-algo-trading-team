{
 "cells": [
  {
   "cell_type": "markdown",
   "id": "87d75d93",
   "metadata": {},
   "source": [
    "# Portfolio Performance vs. Benchmark"
   ]
  },
  {
   "cell_type": "markdown",
   "id": "03c32a8d",
   "metadata": {},
   "source": [
    "### Step 1: Import Libraries"
   ]
  },
  {
   "cell_type": "code",
   "execution_count": 1,
   "id": "af63bf54",
   "metadata": {
    "execution": {
     "iopub.execute_input": "2025-05-29T14:22:10.787415Z",
     "iopub.status.busy": "2025-05-29T14:22:10.787235Z",
     "iopub.status.idle": "2025-05-29T14:22:11.725725Z",
     "shell.execute_reply": "2025-05-29T14:22:11.724449Z"
    }
   },
   "outputs": [],
   "source": [
    "# Data manipulation libraries\n",
    "import pandas as pd\n",
    "import numpy as np\n",
    "from scipy.optimize import minimize\n",
    "from datetime import datetime, timedelta\n",
    "from pandas.tseries.offsets import BDay\n",
    "\n",
    "# Visualization libraries\n",
    "import matplotlib.pyplot as plt\n",
    "import plotly\n",
    "import plotly.express as px\n",
    "import seaborn as sns\n",
    "import plotly.graph_objects as go\n",
    "import plotly.io as pio\n",
    "from IPython.display import Image, display\n",
    "\n",
    "# System libraries\n",
    "import os\n",
    "import sys\n",
    "import glob\n",
    "import logging\n",
    "import warnings\n",
    "\n",
    "warnings.filterwarnings(\"ignore\", category=UserWarning)  # Font warnings\n",
    "warnings.filterwarnings(\"ignore\", category=FutureWarning, message=\".*inplace.*\")  # Pandas warnings\n",
    "logging.getLogger('matplotlib.font_manager').disabled = True"
   ]
  },
  {
   "cell_type": "code",
   "execution_count": 2,
   "id": "99e4f182",
   "metadata": {
    "execution": {
     "iopub.execute_input": "2025-05-29T14:22:11.729669Z",
     "iopub.status.busy": "2025-05-29T14:22:11.729094Z",
     "iopub.status.idle": "2025-05-29T14:22:11.963641Z",
     "shell.execute_reply": "2025-05-29T14:22:11.962833Z"
    }
   },
   "outputs": [
    {
     "name": "stdout",
     "output_type": "stream",
     "text": [
      "============================================================\n",
      "               QuantStats Compatibility Tool                \n",
      "============================================================\n",
      "\n",
      "Part 1: Directly patching QuantStats package files\n",
      "------------------------------------------------------------\n",
      "Found QuantStats utils file at: /home/renanmogo/mfin-algo-trading-team8/.venv/lib/python3.13/site-packages/quantstats/__init__.py\n",
      "Successfully fixed indentation in QuantStats __init__.py file\n",
      "✓ QuantStats utils file patched successfully\n",
      "\n",
      "Part 2: Fixing resampling issues\n",
      "------------------------------------------------------------\n",
      "Found 1 potential QuantStats installation(s)\n",
      "Checking /home/renanmogo/mfin-algo-trading-team8/.venv/lib/python3.13/site-packages/quantstats/_plotting/core.py\n",
      "✓ Found 'plot_timeseries' function in /home/renanmogo/mfin-algo-trading-team8/.venv/lib/python3.13/site-packages/quantstats/_plotting/core.py\n",
      "✓ No 'sum(axis=0)' calls found - may already be fixed\n",
      "Examining /home/renanmogo/mfin-algo-trading-team8/.venv/lib/python3.13/site-packages/quantstats/_plotting/core.py...\n",
      "✓ Found 'plot_timeseries' function in /home/renanmogo/mfin-algo-trading-team8/.venv/lib/python3.13/site-packages/quantstats/_plotting/core.py\n",
      "✓ No 'sum(axis=0)' calls found - may already be fixed\n",
      "No applicable fixes found for /home/renanmogo/mfin-algo-trading-team8/.venv/lib/python3.13/site-packages/quantstats/_plotting/core.py\n",
      "⚠️ Resampling fix not applied or not needed\n",
      "\n",
      "Part 3: Importing and patching QuantStats\n",
      "------------------------------------------------------------\n",
      "✓ Successfully imported quantstats\n",
      "Successfully patched QuantStats HTML report functionality\n",
      "✓ HTML report functionality enhanced with download button\n"
     ]
    }
   ],
   "source": [
    "from py.quantstats_fix import *\n",
    "from py.utils import load_and_filter_data, export_to_excel\n",
    "qs.extend_pandas()"
   ]
  },
  {
   "cell_type": "markdown",
   "id": "32933b31",
   "metadata": {},
   "source": [
    "### Step 2: Define Parameters "
   ]
  },
  {
   "cell_type": "markdown",
   "id": "534662b1",
   "metadata": {},
   "source": [
    "#### Dates"
   ]
  },
  {
   "cell_type": "code",
   "execution_count": 3,
   "id": "6157c2ed",
   "metadata": {
    "execution": {
     "iopub.execute_input": "2025-05-29T14:22:11.966299Z",
     "iopub.status.busy": "2025-05-29T14:22:11.965721Z",
     "iopub.status.idle": "2025-05-29T14:22:11.971936Z",
     "shell.execute_reply": "2025-05-29T14:22:11.971209Z"
    }
   },
   "outputs": [
    {
     "name": "stdout",
     "output_type": "stream",
     "text": [
      "Date Range: 2015-06-09 to 2025-06-06\n",
      "Time span: 3650 days (10.00 years)\n"
     ]
    }
   ],
   "source": [
    "# Define the date range\n",
    "end_date = (datetime.today() - BDay(1)).to_pydatetime()  # Subtract 1 business day\n",
    "# end_date = pd.to_datetime('2025-04-26')  # Report date\n",
    "start_date = end_date - timedelta(days=10*365)\n",
    "\n",
    "# Convert datetime objects to Unix timestamps (seconds since Jan 1, 1970)\n",
    "start_timestamp = int(start_date.timestamp())\n",
    "end_timestamp = int(end_date.timestamp())\n",
    "\n",
    "# Print the date range\n",
    "days_difference = (end_date - start_date).days\n",
    "print(f\"Date Range: {start_date.strftime('%Y-%m-%d')} to {end_date.strftime('%Y-%m-%d')}\")\n",
    "print(f\"Time span: {days_difference} days ({days_difference/365:.2f} years)\")"
   ]
  },
  {
   "cell_type": "markdown",
   "id": "d116c468",
   "metadata": {},
   "source": [
    "#### Report File"
   ]
  },
  {
   "cell_type": "code",
   "execution_count": 4,
   "id": "fea8a2eb",
   "metadata": {},
   "outputs": [
    {
     "name": "stdout",
     "output_type": "stream",
     "text": [
      "Using most recent portfolio file: portfolios/portfolio-2025-06-06.xlsx\n"
     ]
    }
   ],
   "source": [
    "# Get the most recent portfolio file\n",
    "portfolio_files = glob.glob('portfolios/portfolio-*.xlsx')\n",
    "if portfolio_files:\n",
    "    # Sort files by modification time (most recent first)\n",
    "    output_file = max(portfolio_files, key=os.path.getmtime)\n",
    "    print(f\"Using most recent portfolio file: {output_file}\")\n",
    "else:\n",
    "    # Fallback to current date if no files found\n",
    "    output_file = f'portfolios/portfolio-{datetime.date(end_date)}.xlsx'\n",
    "    print(f\"No portfolio files found. Using: {output_file}\")"
   ]
  },
  {
   "cell_type": "markdown",
   "id": "716f13a4",
   "metadata": {},
   "source": [
    "#### Benchmark"
   ]
  },
  {
   "cell_type": "code",
   "execution_count": 5,
   "id": "76222543",
   "metadata": {
    "execution": {
     "iopub.execute_input": "2025-05-29T14:22:11.974897Z",
     "iopub.status.busy": "2025-05-29T14:22:11.974290Z",
     "iopub.status.idle": "2025-05-29T14:22:12.050624Z",
     "shell.execute_reply": "2025-05-29T14:22:12.049202Z"
    }
   },
   "outputs": [
    {
     "name": "stdout",
     "output_type": "stream",
     "text": [
      "DSI\n"
     ]
    }
   ],
   "source": [
    "# benchmark = 'ADME'\n",
    "benchmark = pd.read_excel(output_file, sheet_name=\"benchmark_short_term\")['Benchmark'].values[0]\n",
    "print(benchmark)"
   ]
  },
  {
   "cell_type": "markdown",
   "id": "45c2abd8",
   "metadata": {},
   "source": [
    "#### Risk-free rate (T-bill, %)"
   ]
  },
  {
   "cell_type": "code",
   "execution_count": 6,
   "id": "5349aec6",
   "metadata": {
    "execution": {
     "iopub.execute_input": "2025-05-29T14:22:12.053427Z",
     "iopub.status.busy": "2025-05-29T14:22:12.053221Z",
     "iopub.status.idle": "2025-05-29T14:22:12.176538Z",
     "shell.execute_reply": "2025-05-29T14:22:12.174130Z"
    }
   },
   "outputs": [
    {
     "name": "stdout",
     "output_type": "stream",
     "text": [
      "Risk-Free Rate: 0.0424 -- 13 WEEK TREASURY BILL (^IRX)\n"
     ]
    }
   ],
   "source": [
    "# Load and process data\n",
    "risk_free_df = pd.read_excel(output_file, sheet_name=\"daily_quotes\", index_col=0)['^IRX']\n",
    "# risk_free_rate  = 0.0433                              # 3‑month T‑Bill\n",
    "risk_free_rate = risk_free_df.iloc[-1] / 100 \n",
    "\n",
    "# Display result\n",
    "print(\"Risk-Free Rate:\", risk_free_rate, \"-- 13 WEEK TREASURY BILL (^IRX)\")"
   ]
  },
  {
   "cell_type": "markdown",
   "id": "49293477",
   "metadata": {},
   "source": [
    "### Step 3: Read Portfolio Data (Excel)"
   ]
  },
  {
   "cell_type": "code",
   "execution_count": 7,
   "id": "c7f5a054",
   "metadata": {
    "execution": {
     "iopub.execute_input": "2025-05-29T14:22:12.179403Z",
     "iopub.status.busy": "2025-05-29T14:22:12.179103Z",
     "iopub.status.idle": "2025-05-29T14:22:12.218868Z",
     "shell.execute_reply": "2025-05-29T14:22:12.218104Z"
    }
   },
   "outputs": [
    {
     "name": "stdout",
     "output_type": "stream",
     "text": [
      "['GRMN', 'MSFT']\n"
     ]
    },
    {
     "data": {
      "application/vnd.microsoft.datawrangler.viewer.v0+json": {
       "columns": [
        {
         "name": "index",
         "rawType": "int64",
         "type": "integer"
        },
        {
         "name": "Ticker",
         "rawType": "object",
         "type": "string"
        },
        {
         "name": "Date",
         "rawType": "object",
         "type": "string"
        },
        {
         "name": "Name",
         "rawType": "object",
         "type": "string"
        },
        {
         "name": "Sector",
         "rawType": "object",
         "type": "string"
        },
        {
         "name": "Industry",
         "rawType": "object",
         "type": "string"
        },
        {
         "name": "Country",
         "rawType": "object",
         "type": "string"
        },
        {
         "name": "Website",
         "rawType": "object",
         "type": "string"
        },
        {
         "name": "Market Cap",
         "rawType": "int64",
         "type": "integer"
        },
        {
         "name": "Enterprise Value",
         "rawType": "int64",
         "type": "integer"
        },
        {
         "name": "Float Shares",
         "rawType": "int64",
         "type": "integer"
        },
        {
         "name": "Shares Outstanding",
         "rawType": "int64",
         "type": "integer"
        },
        {
         "name": "P/E (Trailing)",
         "rawType": "float64",
         "type": "float"
        },
        {
         "name": "P/E (Forward)",
         "rawType": "float64",
         "type": "float"
        },
        {
         "name": "P/S",
         "rawType": "float64",
         "type": "float"
        },
        {
         "name": "P/B",
         "rawType": "float64",
         "type": "float"
        },
        {
         "name": "EV/Ebitda",
         "rawType": "float64",
         "type": "float"
        },
        {
         "name": "EV/Revenue",
         "rawType": "float64",
         "type": "float"
        },
        {
         "name": "Gross Margin (%)",
         "rawType": "float64",
         "type": "float"
        },
        {
         "name": "Ebitda Margin (%)",
         "rawType": "float64",
         "type": "float"
        },
        {
         "name": "Operating Margin (%)",
         "rawType": "float64",
         "type": "float"
        },
        {
         "name": "Profit Margin (%)",
         "rawType": "float64",
         "type": "float"
        },
        {
         "name": "ROE",
         "rawType": "float64",
         "type": "float"
        },
        {
         "name": "ROA",
         "rawType": "float64",
         "type": "float"
        },
        {
         "name": "Revenue (TTM)",
         "rawType": "int64",
         "type": "integer"
        },
        {
         "name": "Revenue Growth (%)",
         "rawType": "float64",
         "type": "float"
        },
        {
         "name": "EPS (Trailing)",
         "rawType": "float64",
         "type": "float"
        },
        {
         "name": "EPS (Forward)",
         "rawType": "float64",
         "type": "float"
        },
        {
         "name": "Earnings Growth (%)",
         "rawType": "float64",
         "type": "float"
        },
        {
         "name": "Earnings Quarterly Growth (%)",
         "rawType": "float64",
         "type": "float"
        },
        {
         "name": "Total Cash",
         "rawType": "int64",
         "type": "integer"
        },
        {
         "name": "Total Debt",
         "rawType": "int64",
         "type": "integer"
        },
        {
         "name": "Debt To Equity",
         "rawType": "float64",
         "type": "float"
        },
        {
         "name": "Current Ratio",
         "rawType": "float64",
         "type": "float"
        },
        {
         "name": "Quick Ratio",
         "rawType": "float64",
         "type": "float"
        },
        {
         "name": "Book Value",
         "rawType": "float64",
         "type": "float"
        },
        {
         "name": "Free Cash Flow",
         "rawType": "int64",
         "type": "integer"
        },
        {
         "name": "Operating Cash Flow",
         "rawType": "int64",
         "type": "integer"
        },
        {
         "name": "Dividend Yield (%)",
         "rawType": "float64",
         "type": "float"
        },
        {
         "name": "Dividend Rate (%)",
         "rawType": "float64",
         "type": "float"
        },
        {
         "name": "5Y Avg Dividend Yield (%)",
         "rawType": "float64",
         "type": "float"
        },
        {
         "name": "Payout Ratio (%)",
         "rawType": "float64",
         "type": "float"
        },
        {
         "name": "Price",
         "rawType": "float64",
         "type": "float"
        },
        {
         "name": "Target Price",
         "rawType": "float64",
         "type": "float"
        },
        {
         "name": "Target High",
         "rawType": "int64",
         "type": "integer"
        },
        {
         "name": "Target Low",
         "rawType": "float64",
         "type": "float"
        },
        {
         "name": "Analyst Rating",
         "rawType": "object",
         "type": "string"
        },
        {
         "name": "Analyst Rating Value",
         "rawType": "float64",
         "type": "float"
        },
        {
         "name": "Beta",
         "rawType": "float64",
         "type": "float"
        },
        {
         "name": "52W High",
         "rawType": "float64",
         "type": "float"
        },
        {
         "name": "52W Low",
         "rawType": "float64",
         "type": "float"
        },
        {
         "name": "50 Day Avg",
         "rawType": "float64",
         "type": "float"
        },
        {
         "name": "200 Day Avg",
         "rawType": "float64",
         "type": "float"
        },
        {
         "name": "Short Ratio",
         "rawType": "float64",
         "type": "float"
        },
        {
         "name": "Short % Of Float",
         "rawType": "float64",
         "type": "float"
        },
        {
         "name": "Strategy",
         "rawType": "object",
         "type": "string"
        },
        {
         "name": "Best Sharpe",
         "rawType": "float64",
         "type": "float"
        },
        {
         "name": "Best Sortino",
         "rawType": "float64",
         "type": "float"
        },
        {
         "name": "CAGR",
         "rawType": "float64",
         "type": "float"
        },
        {
         "name": "Max Drawdown",
         "rawType": "float64",
         "type": "float"
        },
        {
         "name": "Volatility",
         "rawType": "float64",
         "type": "float"
        },
        {
         "name": "Short Period",
         "rawType": "int64",
         "type": "integer"
        },
        {
         "name": "Long Period",
         "rawType": "int64",
         "type": "integer"
        },
        {
         "name": "Articles In Last Week",
         "rawType": "int64",
         "type": "integer"
        },
        {
         "name": "Company News Score",
         "rawType": "float64",
         "type": "float"
        },
        {
         "name": "Bearish Percent",
         "rawType": "float64",
         "type": "float"
        },
        {
         "name": "Bullish Percent",
         "rawType": "float64",
         "type": "float"
        },
        {
         "name": "Average Sentiment Score",
         "rawType": "float64",
         "type": "float"
        },
        {
         "name": "Sector Average Bullish Percent",
         "rawType": "float64",
         "type": "float"
        },
        {
         "name": "Sector Average News Score",
         "rawType": "float64",
         "type": "float"
        },
        {
         "name": "Weight",
         "rawType": "float64",
         "type": "float"
        }
       ],
       "ref": "97d9ab2f-82a5-45a3-aa85-5bebdd1553bb",
       "rows": [
        [
         "0",
         "GRMN",
         "2025-06-02",
         "Garmin Ltd.",
         "Technology",
         "Scientific & Technical Instruments",
         "Switzerland",
         "https://www.garmin.com",
         "39080046592",
         "36584062976",
         "174794910",
         "192540992",
         "26.74",
         "27.21",
         "6.06",
         "4.78",
         "20.22",
         "5.67",
         "0.5858",
         "0.2806",
         "0.2168",
         "0.2276",
         "0.19",
         "0.11",
         "6450353152",
         "0.111",
         "7.59",
         "7.46",
         "0.203",
         "0.206",
         "2674510080",
         "178435008",
         "2.18",
         "4.1",
         "2.62",
         "42.44",
         "901582016",
         "1417954048",
         "0.0177",
         "0.036",
         "0.022",
         "0.3953",
         "202.97",
         "198.54",
         "285",
         "152.0",
         "hold",
         "3.0",
         "0.99",
         "246.5",
         "158.38",
         "198.45",
         "198.66",
         "2.49",
         "0.01",
         "SMA_Cross_Signal",
         "0.7810204049255225",
         "1.053251997298941",
         "0.1784009156944799",
         "-0.4257363125460245",
         "0.2499874092663079",
         "10",
         "190",
         "6",
         "0.6083",
         "0.0",
         "0.3333",
         "0.2167",
         "0.4831",
         "0.566",
         "0.5"
        ],
        [
         "1",
         "MSFT",
         "2025-06-02",
         "Microsoft Corporation",
         "Technology",
         "Software - Infrastructure",
         "United States",
         "https://www.microsoft.com",
         "3421643997184",
         "3447046799360",
         "7422063978",
         "7432540160",
         "35.58",
         "30.79",
         "12.67",
         "10.63",
         "23.11",
         "12.77",
         "0.6907",
         "0.5525",
         "0.4567",
         "0.3579",
         "0.34",
         "0.15",
         "270010007552",
         "0.133",
         "12.94",
         "14.95",
         "0.177",
         "0.177",
         "79617998848",
         "105018998784",
         "32.63",
         "1.37",
         "1.24",
         "43.3",
         "54817001472",
         "130710003712",
         "0.0072",
         "0.0332",
         "0.0083",
         "0.2442",
         "460.36",
         "509.92",
         "650",
         "429.86",
         "strong_buy",
         "1.41",
         "1.03",
         "468.35",
         "344.79",
         "409.1",
         "417.01",
         "2.48",
         "0.01",
         "SMA_Cross_Signal",
         "1.005732496361835",
         "1.27400072383293",
         "0.2626244843357068",
         "-0.2804226918798667",
         "0.267611481817281",
         "30",
         "190",
         "41",
         "0.5961",
         "0.0488",
         "0.6098",
         "0.1922",
         "0.4831",
         "0.566",
         "0.5"
        ]
       ],
       "shape": {
        "columns": 70,
        "rows": 2
       }
      },
      "text/html": [
       "<div>\n",
       "<style scoped>\n",
       "    .dataframe tbody tr th:only-of-type {\n",
       "        vertical-align: middle;\n",
       "    }\n",
       "\n",
       "    .dataframe tbody tr th {\n",
       "        vertical-align: top;\n",
       "    }\n",
       "\n",
       "    .dataframe thead th {\n",
       "        text-align: right;\n",
       "    }\n",
       "</style>\n",
       "<table border=\"1\" class=\"dataframe\">\n",
       "  <thead>\n",
       "    <tr style=\"text-align: right;\">\n",
       "      <th></th>\n",
       "      <th>Ticker</th>\n",
       "      <th>Date</th>\n",
       "      <th>Name</th>\n",
       "      <th>Sector</th>\n",
       "      <th>Industry</th>\n",
       "      <th>Country</th>\n",
       "      <th>Website</th>\n",
       "      <th>Market Cap</th>\n",
       "      <th>Enterprise Value</th>\n",
       "      <th>Float Shares</th>\n",
       "      <th>...</th>\n",
       "      <th>Short Period</th>\n",
       "      <th>Long Period</th>\n",
       "      <th>Articles In Last Week</th>\n",
       "      <th>Company News Score</th>\n",
       "      <th>Bearish Percent</th>\n",
       "      <th>Bullish Percent</th>\n",
       "      <th>Average Sentiment Score</th>\n",
       "      <th>Sector Average Bullish Percent</th>\n",
       "      <th>Sector Average News Score</th>\n",
       "      <th>Weight</th>\n",
       "    </tr>\n",
       "  </thead>\n",
       "  <tbody>\n",
       "    <tr>\n",
       "      <th>0</th>\n",
       "      <td>GRMN</td>\n",
       "      <td>2025-06-02</td>\n",
       "      <td>Garmin Ltd.</td>\n",
       "      <td>Technology</td>\n",
       "      <td>Scientific &amp; Technical Instruments</td>\n",
       "      <td>Switzerland</td>\n",
       "      <td>https://www.garmin.com</td>\n",
       "      <td>39080046592</td>\n",
       "      <td>36584062976</td>\n",
       "      <td>174794910</td>\n",
       "      <td>...</td>\n",
       "      <td>10</td>\n",
       "      <td>190</td>\n",
       "      <td>6</td>\n",
       "      <td>0.6083</td>\n",
       "      <td>0.0000</td>\n",
       "      <td>0.3333</td>\n",
       "      <td>0.2167</td>\n",
       "      <td>0.4831</td>\n",
       "      <td>0.566</td>\n",
       "      <td>0.5</td>\n",
       "    </tr>\n",
       "    <tr>\n",
       "      <th>1</th>\n",
       "      <td>MSFT</td>\n",
       "      <td>2025-06-02</td>\n",
       "      <td>Microsoft Corporation</td>\n",
       "      <td>Technology</td>\n",
       "      <td>Software - Infrastructure</td>\n",
       "      <td>United States</td>\n",
       "      <td>https://www.microsoft.com</td>\n",
       "      <td>3421643997184</td>\n",
       "      <td>3447046799360</td>\n",
       "      <td>7422063978</td>\n",
       "      <td>...</td>\n",
       "      <td>30</td>\n",
       "      <td>190</td>\n",
       "      <td>41</td>\n",
       "      <td>0.5961</td>\n",
       "      <td>0.0488</td>\n",
       "      <td>0.6098</td>\n",
       "      <td>0.1922</td>\n",
       "      <td>0.4831</td>\n",
       "      <td>0.566</td>\n",
       "      <td>0.5</td>\n",
       "    </tr>\n",
       "  </tbody>\n",
       "</table>\n",
       "<p>2 rows × 70 columns</p>\n",
       "</div>"
      ],
      "text/plain": [
       "  Ticker        Date                   Name      Sector  \\\n",
       "0   GRMN  2025-06-02            Garmin Ltd.  Technology   \n",
       "1   MSFT  2025-06-02  Microsoft Corporation  Technology   \n",
       "\n",
       "                             Industry        Country  \\\n",
       "0  Scientific & Technical Instruments    Switzerland   \n",
       "1           Software - Infrastructure  United States   \n",
       "\n",
       "                     Website     Market Cap  Enterprise Value  Float Shares  \\\n",
       "0     https://www.garmin.com    39080046592       36584062976     174794910   \n",
       "1  https://www.microsoft.com  3421643997184     3447046799360    7422063978   \n",
       "\n",
       "   ...  Short Period  Long Period  Articles In Last Week  Company News Score  \\\n",
       "0  ...            10          190                      6              0.6083   \n",
       "1  ...            30          190                     41              0.5961   \n",
       "\n",
       "   Bearish Percent  Bullish Percent  Average Sentiment Score  \\\n",
       "0           0.0000           0.3333                   0.2167   \n",
       "1           0.0488           0.6098                   0.1922   \n",
       "\n",
       "   Sector Average Bullish Percent  Sector Average News Score  Weight  \n",
       "0                          0.4831                      0.566     0.5  \n",
       "1                          0.4831                      0.566     0.5  \n",
       "\n",
       "[2 rows x 70 columns]"
      ]
     },
     "metadata": {},
     "output_type": "display_data"
    }
   ],
   "source": [
    "portfolio_df = pd.read_excel(output_file, sheet_name=\"short_term\")\n",
    "\n",
    "# Convert percentage strings to float values\n",
    "portfolio_df['Weight'] = portfolio_df['Weight'].replace('%', '', regex=True).astype(float)\n",
    "portfolio_tickers = portfolio_df[\"Ticker\"].tolist()\n",
    "\n",
    "print(portfolio_tickers)\n",
    "display(portfolio_df)"
   ]
  },
  {
   "cell_type": "markdown",
   "id": "ff3d536d",
   "metadata": {},
   "source": [
    "### Step 4: Download Returns"
   ]
  },
  {
   "cell_type": "code",
   "execution_count": 8,
   "id": "240dc240",
   "metadata": {
    "execution": {
     "iopub.execute_input": "2025-05-29T14:22:12.221516Z",
     "iopub.status.busy": "2025-05-29T14:22:12.221316Z",
     "iopub.status.idle": "2025-05-29T14:22:12.626923Z",
     "shell.execute_reply": "2025-05-29T14:22:12.625973Z"
    }
   },
   "outputs": [
    {
     "name": "stdout",
     "output_type": "stream",
     "text": [
      "Found 2 of 2 tickers in data/daily_stock_quotes.csv\n",
      "Missing tickers: []\n",
      "Found 1 of 1 tickers in data/daily_benchmark_quotes.csv\n",
      "Missing tickers: []\n",
      "\n",
      "Sharpe Ratios for individual assets:\n",
      "GRMN: 0.6344\n",
      "MSFT: 0.9002\n"
     ]
    },
    {
     "data": {
      "application/vnd.microsoft.datawrangler.viewer.v0+json": {
       "columns": [
        {
         "name": "Date",
         "rawType": "datetime64[ns]",
         "type": "datetime"
        },
        {
         "name": "GRMN",
         "rawType": "float64",
         "type": "float"
        },
        {
         "name": "MSFT",
         "rawType": "float64",
         "type": "float"
        }
       ],
       "ref": "1085e23b-99a7-493c-9d9c-159527a56ab4",
       "rows": [
        [
         "2015-06-11 00:00:00",
         "-0.008789977485793233",
         "-0.003717937112112131"
        ],
        [
         "2015-06-12 00:00:00",
         "-0.016019328027285076",
         "-0.010233460078714233"
        ],
        [
         "2015-06-15 00:00:00",
         "-0.013245226750020567",
         "-0.010846366895112876"
        ],
        [
         "2015-06-16 00:00:00",
         "0.02365733925971833",
         "0.007831289234135142"
        ],
        [
         "2015-06-17 00:00:00",
         "-0.0008882309984421968",
         "0.003015077660977752"
        ]
       ],
       "shape": {
        "columns": 2,
        "rows": 5
       }
      },
      "text/html": [
       "<div>\n",
       "<style scoped>\n",
       "    .dataframe tbody tr th:only-of-type {\n",
       "        vertical-align: middle;\n",
       "    }\n",
       "\n",
       "    .dataframe tbody tr th {\n",
       "        vertical-align: top;\n",
       "    }\n",
       "\n",
       "    .dataframe thead th {\n",
       "        text-align: right;\n",
       "    }\n",
       "</style>\n",
       "<table border=\"1\" class=\"dataframe\">\n",
       "  <thead>\n",
       "    <tr style=\"text-align: right;\">\n",
       "      <th></th>\n",
       "      <th>GRMN</th>\n",
       "      <th>MSFT</th>\n",
       "    </tr>\n",
       "    <tr>\n",
       "      <th>Date</th>\n",
       "      <th></th>\n",
       "      <th></th>\n",
       "    </tr>\n",
       "  </thead>\n",
       "  <tbody>\n",
       "    <tr>\n",
       "      <th>2015-06-11</th>\n",
       "      <td>-0.008790</td>\n",
       "      <td>-0.003718</td>\n",
       "    </tr>\n",
       "    <tr>\n",
       "      <th>2015-06-12</th>\n",
       "      <td>-0.016019</td>\n",
       "      <td>-0.010233</td>\n",
       "    </tr>\n",
       "    <tr>\n",
       "      <th>2015-06-15</th>\n",
       "      <td>-0.013245</td>\n",
       "      <td>-0.010846</td>\n",
       "    </tr>\n",
       "    <tr>\n",
       "      <th>2015-06-16</th>\n",
       "      <td>0.023657</td>\n",
       "      <td>0.007831</td>\n",
       "    </tr>\n",
       "    <tr>\n",
       "      <th>2015-06-17</th>\n",
       "      <td>-0.000888</td>\n",
       "      <td>0.003015</td>\n",
       "    </tr>\n",
       "  </tbody>\n",
       "</table>\n",
       "</div>"
      ],
      "text/plain": [
       "                GRMN      MSFT\n",
       "Date                          \n",
       "2015-06-11 -0.008790 -0.003718\n",
       "2015-06-12 -0.016019 -0.010233\n",
       "2015-06-15 -0.013245 -0.010846\n",
       "2015-06-16  0.023657  0.007831\n",
       "2015-06-17 -0.000888  0.003015"
      ]
     },
     "metadata": {},
     "output_type": "display_data"
    }
   ],
   "source": [
    "# stock_returns = qs.utils.download_returns(ticker=portfolio_tickers, period=\"5y\").dropna()\n",
    "stock_quotes = load_and_filter_data('data/daily_stock_quotes.csv', portfolio_tickers, start_date, end_date)\n",
    "stock_returns = np.log(stock_quotes / stock_quotes.shift(1)).dropna()\n",
    "\n",
    "benchmark_quotes = load_and_filter_data('data/daily_benchmark_quotes.csv', benchmark, start_date, end_date)\n",
    "benchmark_returns = np.log(benchmark_quotes / benchmark_quotes.shift(1)).dropna()\n",
    "\n",
    "# Display summary statistics for all assets\n",
    "print(\"\\nSharpe Ratios for individual assets:\")\n",
    "sharpes = {col: qs.stats.sharpe(stock_returns[col]) for col in stock_returns.columns}\n",
    "for ticker, sharpe in sharpes.items():\n",
    "    print(f\"{ticker}: {sharpe:.4f}\")\n",
    "\n",
    "display(stock_returns.head())"
   ]
  },
  {
   "cell_type": "markdown",
   "id": "a1a9838e",
   "metadata": {},
   "source": [
    "### Step 6: Split Data into Training and Testing Sets"
   ]
  },
  {
   "cell_type": "code",
   "execution_count": 9,
   "id": "fe18e166",
   "metadata": {},
   "outputs": [
    {
     "name": "stdout",
     "output_type": "stream",
     "text": [
      "Training: 2009 rows (80.0%) | Testing: 503 rows (20.0%)\n",
      "Training period: 2015-06-10 00:00:00 to 2023-06-01 00:00:00\n",
      "Testing period: 2023-06-02 00:00:00 to 2025-06-04 00:00:00\n"
     ]
    }
   ],
   "source": [
    "# Split data into 80% training and 20% testing based on date\n",
    "total_rows = len(stock_quotes)\n",
    "train_size = int(0.8 * total_rows)\n",
    "training_set = stock_quotes.iloc[:train_size]\n",
    "test_set = stock_quotes.iloc[train_size:]\n",
    "\n",
    "print(f\"Training: {len(training_set)} rows ({len(training_set)/total_rows:.1%}) | Testing: {len(test_set)} rows ({len(test_set)/total_rows:.1%})\")\n",
    "print(f\"Training period: {training_set.index[0]} to {training_set.index[-1]}\")\n",
    "print(f\"Testing period: {test_set.index[0]} to {test_set.index[-1]}\")"
   ]
  },
  {
   "cell_type": "markdown",
   "id": "a40a588f",
   "metadata": {},
   "source": [
    "### Step 5: Plot Return Comparisons"
   ]
  },
  {
   "cell_type": "code",
   "execution_count": 10,
   "id": "89fe8da8",
   "metadata": {
    "execution": {
     "iopub.execute_input": "2025-05-29T14:22:12.629019Z",
     "iopub.status.busy": "2025-05-29T14:22:12.628840Z",
     "iopub.status.idle": "2025-05-29T14:22:12.716325Z",
     "shell.execute_reply": "2025-05-29T14:22:12.714827Z"
    }
   },
   "outputs": [
    {
     "name": "stdout",
     "output_type": "stream",
     "text": [
      "\n",
      "Portfolio Weights:\n",
      "GRMN: 50.00%\n",
      "MSFT: 50.00%\n",
      "\n",
      "Portfolio Performance Summary:\n",
      "Sharpe Ratio (Weighted Portfolio): 0.8982\n",
      "Sharpe Ratio (Equal-Weight): 0.8982\n"
     ]
    }
   ],
   "source": [
    "# Calculate portfolio returns using weights from Excel file\n",
    "portfolio_weights = portfolio_df.set_index('Ticker')['Weight'].to_dict()\n",
    "weighted_returns = pd.DataFrame()\n",
    "\n",
    "print(\"\\nPortfolio Weights:\")\n",
    "for ticker in portfolio_tickers:\n",
    "    weight = portfolio_weights.get(ticker, 0)\n",
    "    print(f\"{ticker}: {weight:.2%}\")\n",
    "    if ticker in stock_returns.columns:\n",
    "        weighted_returns[ticker] = stock_returns[ticker] * weight\n",
    "\n",
    "# Sum across all weighted returns to get the portfolio return\n",
    "portfolio_return = weighted_returns.sum(axis=1)\n",
    "\n",
    "# Create equal-weight portfolio for comparison\n",
    "equal_weight = 1/len([t for t in portfolio_tickers if t in stock_returns.columns])\n",
    "equal_weighted_returns = pd.DataFrame()\n",
    "\n",
    "for ticker in portfolio_tickers:\n",
    "    if ticker in stock_returns.columns:\n",
    "        equal_weighted_returns[ticker] = stock_returns[ticker] * equal_weight\n",
    "        \n",
    "equal_weight_return = equal_weighted_returns.sum(axis=1)\n",
    "\n",
    "print(\"\\nPortfolio Performance Summary:\")\n",
    "print(f\"Sharpe Ratio (Weighted Portfolio): {qs.stats.sharpe(portfolio_return):.4f}\")\n",
    "print(f\"Sharpe Ratio (Equal-Weight): {qs.stats.sharpe(equal_weight_return):.4f}\")\n",
    "\n",
    "plt.figure(figsize=(12, 6))\n",
    "(1 + portfolio_return).cumprod().plot(label='Weighted Portfolio')\n",
    "(1 + equal_weight_return).cumprod().plot(label='Equal Weight')\n",
    "(1 + benchmark_returns).cumprod().plot(label=benchmark)\n",
    "plt.legend()\n",
    "plt.title('Performance Comparison')\n",
    "plt.ylabel('Cumulative Return')\n",
    "plt.grid(True)\n",
    "plt.show()"
   ]
  },
  {
   "cell_type": "markdown",
   "id": "4c39a1ee",
   "metadata": {},
   "source": [
    "### Step 6: Generate Reports"
   ]
  },
  {
   "cell_type": "code",
   "execution_count": 11,
   "id": "0a5a262e",
   "metadata": {},
   "outputs": [
    {
     "name": "stdout",
     "output_type": "stream",
     "text": [
      "Portfolio weights:\n",
      "GRMN: 0.5000\n",
      "MSFT: 0.5000\n",
      "\n",
      "Ticker color assignments:\n",
      "GRMN: #1f77b4\n",
      "MSFT: #ff7f0e\n"
     ]
    },
    {
     "name": "stderr",
     "output_type": "stream",
     "text": [
      "100%|██████████| 2/2 [00:00<00:00,  7.73it/s]\n"
     ]
    },
    {
     "name": "stdout",
     "output_type": "stream",
     "text": [
      "Stat                 Portfolio    DSI\n",
      "-------------------  -----------  ----------\n",
      "Start                2023-06-01   2023-06-01\n",
      "End                  2025-06-04   2025-06-04\n",
      "Risk-free rate       4.24%        4.24%\n",
      "\n",
      "Total Return         72.47%       40.70%\n",
      "Daily Sharpe         1.11         0.84\n",
      "Daily Sortino        2.06         1.40\n",
      "CAGR                 31.16%       18.52%\n",
      "Max Drawdown         -21.27%      -20.58%\n",
      "Calmar Ratio         1.46         0.90\n",
      "\n",
      "MTD                  0.87%        0.92%\n",
      "3m                   6.40%        5.84%\n",
      "6m                   1.74%        -2.65%\n",
      "YTD                  5.80%        1.70%\n",
      "1Y                   22.13%       11.89%\n",
      "3Y (ann.)            31.16%       18.52%\n",
      "5Y (ann.)            -            -\n",
      "10Y (ann.)           -            -\n",
      "Since Incep. (ann.)  31.16%       18.52%\n",
      "\n",
      "Daily Sharpe         1.11         0.84\n",
      "Daily Sortino        2.06         1.40\n",
      "Daily Mean (ann.)    29.97%       18.56%\n",
      "Daily Vol (ann.)     23.22%       17.07%\n",
      "Daily Skew           1.64         0.71\n",
      "Daily Kurt           16.99        13.71\n",
      "Best Day             11.62%       9.57%\n",
      "Worst Day            -8.64%       -5.58%\n",
      "\n",
      "Monthly Sharpe       1.33         0.83\n",
      "Monthly Sortino      4.07         1.76\n",
      "Monthly Mean (ann.)  29.11%       16.34%\n",
      "Monthly Vol (ann.)   18.72%       14.63%\n",
      "Monthly Skew         0.90         0.14\n",
      "Monthly Kurt         0.57         -0.44\n",
      "Best Month           15.81%       10.09%\n",
      "Worst Month          -5.20%       -5.88%\n",
      "\n",
      "Yearly Sharpe        0.78         0.53\n",
      "Yearly Sortino       inf          4.34\n",
      "Yearly Mean          21.92%       12.04%\n",
      "Yearly Vol           22.80%       14.62%\n",
      "Yearly Skew          -            -\n",
      "Yearly Kurt          -            -\n",
      "Best Year            38.04%       22.38%\n",
      "Worst Year           5.80%        1.70%\n",
      "\n",
      "Avg. Drawdown        -2.52%       -2.13%\n",
      "Avg. Drawdown Days   15.35        15.22\n",
      "Avg. Up Month        5.26%        3.99%\n",
      "Avg. Down Month      -2.30%       -3.01%\n",
      "Win Year %           100.00%      100.00%\n",
      "Win 12m %            100.00%      100.00%\n"
     ]
    },
    {
     "data": {
      "application/vnd.microsoft.datawrangler.viewer.v0+json": {
       "columns": [
        {
         "name": "('Date', 'Security')",
         "rawType": "object",
         "type": "unknown"
        },
        {
         "name": "price",
         "rawType": "float64",
         "type": "float"
        },
        {
         "name": "quantity",
         "rawType": "float64",
         "type": "float"
        }
       ],
       "ref": "3b0ac635-50a5-4470-9441-7ef6085500a3",
       "rows": [
        [
         "(Timestamp('2023-06-02 00:00:00'), 'GRMN')",
         "102.26",
         "4889.0"
        ],
        [
         "(Timestamp('2023-06-02 00:00:00'), 'MSFT')",
         "330.26",
         "1513.0"
        ],
        [
         "(Timestamp('2023-06-05 00:00:00'), 'GRMN')",
         "101.35",
         "26.0"
        ],
        [
         "(Timestamp('2023-06-05 00:00:00'), 'MSFT')",
         "330.8",
         "-8.0"
        ],
        [
         "(Timestamp('2023-06-12 00:00:00'), 'GRMN')",
         "102.15",
         "-49.0"
        ],
        [
         "(Timestamp('2023-06-12 00:00:00'), 'MSFT')",
         "326.77",
         "16.0"
        ],
        [
         "(Timestamp('2023-06-20 00:00:00'), 'GRMN')",
         "101.95",
         "50.0"
        ],
        [
         "(Timestamp('2023-06-20 00:00:00'), 'MSFT')",
         "332.87",
         "-16.0"
        ],
        [
         "(Timestamp('2023-07-03 00:00:00'), 'GRMN')",
         "100.33",
         "40.0"
        ],
        [
         "(Timestamp('2023-07-03 00:00:00'), 'MSFT')",
         "332.81",
         "-11.0"
        ],
        [
         "(Timestamp('2023-07-10 00:00:00'), 'GRMN')",
         "102.6",
         "-99.0"
        ],
        [
         "(Timestamp('2023-07-10 00:00:00'), 'MSFT')",
         "326.75",
         "31.0"
        ],
        [
         "(Timestamp('2023-07-17 00:00:00'), 'GRMN')",
         "102.9",
         "94.0"
        ],
        [
         "(Timestamp('2023-07-17 00:00:00'), 'MSFT')",
         "340.44",
         "-29.0"
        ],
        [
         "(Timestamp('2023-07-24 00:00:00'), 'GRMN')",
         "102.38",
         "8.0"
        ],
        [
         "(Timestamp('2023-07-24 00:00:00'), 'MSFT')",
         "339.83",
         "-2.0"
        ],
        [
         "(Timestamp('2023-07-31 00:00:00'), 'GRMN')",
         "102.4",
         "-66.0"
        ],
        [
         "(Timestamp('2023-07-31 00:00:00'), 'MSFT')",
         "330.78",
         "20.0"
        ],
        [
         "(Timestamp('2023-08-07 00:00:00'), 'GRMN')",
         "102.63",
         "-48.0"
        ],
        [
         "(Timestamp('2023-08-07 00:00:00'), 'MSFT')",
         "325.06",
         "15.0"
        ],
        [
         "(Timestamp('2023-08-14 00:00:00'), 'GRMN')",
         "100.6",
         "3.0"
        ],
        [
         "(Timestamp('2023-08-14 00:00:00'), 'MSFT')",
         "319.08",
         "-1.0"
        ],
        [
         "(Timestamp('2023-08-21 00:00:00'), 'GRMN')",
         "98.35",
         "45.0"
        ],
        [
         "(Timestamp('2023-08-21 00:00:00'), 'MSFT')",
         "317.62",
         "-13.0"
        ],
        [
         "(Timestamp('2023-08-28 00:00:00'), 'GRMN')",
         "101.23",
         "-57.0"
        ],
        [
         "(Timestamp('2023-08-28 00:00:00'), 'MSFT')",
         "319.42",
         "17.0"
        ],
        [
         "(Timestamp('2023-09-05 00:00:00'), 'GRMN')",
         "101.47",
         "68.0"
        ],
        [
         "(Timestamp('2023-09-05 00:00:00'), 'MSFT')",
         "329.14",
         "-20.0"
        ],
        [
         "(Timestamp('2023-09-11 00:00:00'), 'GRMN')",
         "102.08",
         "17.0"
        ],
        [
         "(Timestamp('2023-09-11 00:00:00'), 'MSFT')",
         "333.47",
         "-6.0"
        ],
        [
         "(Timestamp('2023-09-18 00:00:00'), 'GRMN')",
         "104.24",
         "-114.0"
        ],
        [
         "(Timestamp('2023-09-18 00:00:00'), 'MSFT')",
         "324.71",
         "37.0"
        ],
        [
         "(Timestamp('2023-09-25 00:00:00'), 'GRMN')",
         "102.63",
         "-48.0"
        ],
        [
         "(Timestamp('2023-09-25 00:00:00'), 'MSFT')",
         "313.34",
         "16.0"
        ],
        [
         "(Timestamp('2023-10-02 00:00:00'), 'GRMN')",
         "100.79",
         "76.0"
        ],
        [
         "(Timestamp('2023-10-02 00:00:00'), 'MSFT')",
         "317.54",
         "-25.0"
        ],
        [
         "(Timestamp('2023-10-09 00:00:00'), 'GRMN')",
         "104.36",
         "-24.0"
        ],
        [
         "(Timestamp('2023-10-09 00:00:00'), 'MSFT')",
         "325.46",
         "8.0"
        ],
        [
         "(Timestamp('2023-10-16 00:00:00'), 'GRMN')",
         "105.02",
         "5.0"
        ],
        [
         "(Timestamp('2023-10-16 00:00:00'), 'MSFT')",
         "328.24",
         "-1.0"
        ],
        [
         "(Timestamp('2023-10-23 00:00:00'), 'GRMN')",
         "99.3",
         "113.0"
        ],
        [
         "(Timestamp('2023-10-23 00:00:00'), 'MSFT')",
         "324.96",
         "-35.0"
        ],
        [
         "(Timestamp('2023-10-30 00:00:00'), 'GRMN')",
         "98.62",
         "78.0"
        ],
        [
         "(Timestamp('2023-10-30 00:00:00'), 'MSFT')",
         "332.85",
         "-23.0"
        ],
        [
         "(Timestamp('2023-11-06 00:00:00'), 'GRMN')",
         "113.24",
         "-199.0"
        ],
        [
         "(Timestamp('2023-11-06 00:00:00'), 'MSFT')",
         "351.81",
         "64.0"
        ],
        [
         "(Timestamp('2023-11-13 00:00:00'), 'GRMN')",
         "113.42",
         "64.0"
        ],
        [
         "(Timestamp('2023-11-13 00:00:00'), 'MSFT')",
         "361.83",
         "-20.0"
        ],
        [
         "(Timestamp('2023-11-20 00:00:00'), 'GRMN')",
         "116.92",
         "1.0"
        ],
        [
         "(Timestamp('2023-11-20 00:00:00'), 'MSFT')",
         "373.2",
         "-1.0"
        ]
       ],
       "shape": {
        "columns": 2,
        "rows": 211
       }
      },
      "text/html": [
       "<div>\n",
       "<style scoped>\n",
       "    .dataframe tbody tr th:only-of-type {\n",
       "        vertical-align: middle;\n",
       "    }\n",
       "\n",
       "    .dataframe tbody tr th {\n",
       "        vertical-align: top;\n",
       "    }\n",
       "\n",
       "    .dataframe thead th {\n",
       "        text-align: right;\n",
       "    }\n",
       "</style>\n",
       "<table border=\"1\" class=\"dataframe\">\n",
       "  <thead>\n",
       "    <tr style=\"text-align: right;\">\n",
       "      <th></th>\n",
       "      <th></th>\n",
       "      <th>price</th>\n",
       "      <th>quantity</th>\n",
       "    </tr>\n",
       "    <tr>\n",
       "      <th>Date</th>\n",
       "      <th>Security</th>\n",
       "      <th></th>\n",
       "      <th></th>\n",
       "    </tr>\n",
       "  </thead>\n",
       "  <tbody>\n",
       "    <tr>\n",
       "      <th rowspan=\"2\" valign=\"top\">2023-06-02</th>\n",
       "      <th>GRMN</th>\n",
       "      <td>102.26</td>\n",
       "      <td>4889.0</td>\n",
       "    </tr>\n",
       "    <tr>\n",
       "      <th>MSFT</th>\n",
       "      <td>330.26</td>\n",
       "      <td>1513.0</td>\n",
       "    </tr>\n",
       "    <tr>\n",
       "      <th rowspan=\"2\" valign=\"top\">2023-06-05</th>\n",
       "      <th>GRMN</th>\n",
       "      <td>101.35</td>\n",
       "      <td>26.0</td>\n",
       "    </tr>\n",
       "    <tr>\n",
       "      <th>MSFT</th>\n",
       "      <td>330.80</td>\n",
       "      <td>-8.0</td>\n",
       "    </tr>\n",
       "    <tr>\n",
       "      <th>2023-06-12</th>\n",
       "      <th>GRMN</th>\n",
       "      <td>102.15</td>\n",
       "      <td>-49.0</td>\n",
       "    </tr>\n",
       "    <tr>\n",
       "      <th>...</th>\n",
       "      <th>...</th>\n",
       "      <td>...</td>\n",
       "      <td>...</td>\n",
       "    </tr>\n",
       "    <tr>\n",
       "      <th>2025-05-19</th>\n",
       "      <th>MSFT</th>\n",
       "      <td>458.87</td>\n",
       "      <td>10.0</td>\n",
       "    </tr>\n",
       "    <tr>\n",
       "      <th rowspan=\"2\" valign=\"top\">2025-05-27</th>\n",
       "      <th>GRMN</th>\n",
       "      <td>205.51</td>\n",
       "      <td>2.0</td>\n",
       "    </tr>\n",
       "    <tr>\n",
       "      <th>MSFT</th>\n",
       "      <td>460.69</td>\n",
       "      <td>-1.0</td>\n",
       "    </tr>\n",
       "    <tr>\n",
       "      <th rowspan=\"2\" valign=\"top\">2025-06-02</th>\n",
       "      <th>GRMN</th>\n",
       "      <td>202.95</td>\n",
       "      <td>32.0</td>\n",
       "    </tr>\n",
       "    <tr>\n",
       "      <th>MSFT</th>\n",
       "      <td>461.97</td>\n",
       "      <td>-14.0</td>\n",
       "    </tr>\n",
       "  </tbody>\n",
       "</table>\n",
       "<p>211 rows × 2 columns</p>\n",
       "</div>"
      ],
      "text/plain": [
       "                      price  quantity\n",
       "Date       Security                  \n",
       "2023-06-02 GRMN      102.26    4889.0\n",
       "           MSFT      330.26    1513.0\n",
       "2023-06-05 GRMN      101.35      26.0\n",
       "           MSFT      330.80      -8.0\n",
       "2023-06-12 GRMN      102.15     -49.0\n",
       "...                     ...       ...\n",
       "2025-05-19 MSFT      458.87      10.0\n",
       "2025-05-27 GRMN      205.51       2.0\n",
       "           MSFT      460.69      -1.0\n",
       "2025-06-02 GRMN      202.95      32.0\n",
       "           MSFT      461.97     -14.0\n",
       "\n",
       "[211 rows x 2 columns]"
      ]
     },
     "metadata": {},
     "output_type": "display_data"
    },
    {
     "name": "stderr",
     "output_type": "stream",
     "text": [
      "No artists with labels found to put in legend.  Note that artists whose label start with an underscore are ignored when legend() is called with no argument.\n"
     ]
    },
    {
     "data": {
      "text/plain": [
       "<Axes: title={'center': 'Portfolio vs Benchmark Performance'}, ylabel='Cumulative Returns'>"
      ]
     },
     "execution_count": 11,
     "metadata": {},
     "output_type": "execute_result"
    }
   ],
   "source": [
    "import bt\n",
    "import matplotlib.pyplot as plt\n",
    "\n",
    "# Create weights dictionary using portfolio_df instead of optimal_portfolio_df\n",
    "weights = {}\n",
    "for _, row in portfolio_df.iterrows():\n",
    "    ticker = row['Ticker']\n",
    "    weight = row['Weight'] \n",
    "    weights[ticker] = weight\n",
    "\n",
    "print(\"Portfolio weights:\")\n",
    "for ticker, weight in weights.items():\n",
    "    print(f\"{ticker}: {weight:.4f}\")\n",
    "\n",
    "# Pre-assign colors to tickers for consistency across all plots\n",
    "ticker_color_map = {}\n",
    "base_colors = ['#1f77b4', '#ff7f0e', '#2ca02c', '#d62728', '#9467bd', '#8c564b', \n",
    "               '#e377c2', '#7f7f7f', '#bcbd22', '#17becf', '#aec7e8', '#ffbb78']\n",
    "\n",
    "for i, ticker in enumerate(portfolio_tickers):\n",
    "    ticker_color_map[ticker] = base_colors[i % len(base_colors)]\n",
    "\n",
    "print(\"\\nTicker color assignments:\")\n",
    "for ticker, color in ticker_color_map.items():\n",
    "    print(f\"{ticker}: {color}\")\n",
    "\n",
    "# Create price data for bt (convert from quotes to prices)\n",
    "# Combine stock quotes and benchmark quotes\n",
    "all_quotes = test_set.copy()\n",
    "all_quotes[benchmark] = benchmark_quotes[benchmark]\n",
    "\n",
    "# Create bt strategies\n",
    "# Strategy 1 - Portfolio with quarterly rebalancing\n",
    "portfolio_strategy = bt.Strategy('Portfolio', \n",
    "                                [\n",
    "                                    bt.algos.RunWeekly(),  # Trading every 66 days (approx. quarterly)                 \n",
    "                                    bt.algos.SelectAll(),\n",
    "                                    bt.algos.WeighSpecified(**weights),       \n",
    "                                    bt.algos.Rebalance()\n",
    "                                ])\n",
    "\n",
    "# Strategy 2 - Benchmark (buy and hold)\n",
    "benchmark_strategy = bt.Strategy(f'{benchmark}',\n",
    "                                [\n",
    "                                    bt.algos.RunWeekly(),\n",
    "                                    bt.algos.SelectThese([benchmark]),\n",
    "                                    bt.algos.WeighEqually(),\n",
    "                                    bt.algos.Rebalance()\n",
    "                                ])\n",
    "\n",
    "# Create backtests\n",
    "portfolio_test = bt.Backtest(portfolio_strategy, all_quotes[portfolio_tickers])\n",
    "benchmark_test = bt.Backtest(benchmark_strategy, all_quotes[[benchmark]])\n",
    "\n",
    "# Run backtests\n",
    "result = bt.run(portfolio_test, benchmark_test)\n",
    "result.set_riskfree_rate(risk_free_rate)\n",
    "\n",
    "# Show performance metrics\n",
    "result.display()\n",
    "display(result.get_transactions())\n",
    "\n",
    "# Plot weights over time using pre-assigned colors\n",
    "fig, ax = plt.subplots(figsize=(10, 6))\n",
    "\n",
    "# Get the weight data from the result - access it through the strategy result\n",
    "portfolio_result = result['Portfolio Strategy']\n",
    "\n",
    "ax.set_title('Portfolio Weights Over Time', fontsize=14, fontweight='bold')\n",
    "ax.set_ylabel('Weight', fontsize=12)\n",
    "ax.legend(loc='upper left', fontsize=10)\n",
    "ax.grid(True, alpha=0.3)\n",
    "plt.tight_layout()\n",
    "plt.show()\n",
    "\n",
    "# Plot cumulative returns comparison\n",
    "result.plot(figsize=(12, 8),\n",
    "           ylabel='Cumulative Returns',\n",
    "           title='Portfolio vs Benchmark Performance',\n",
    "           legend=True,\n",
    "           grid=True)"
   ]
  },
  {
   "cell_type": "markdown",
   "id": "51e0abce",
   "metadata": {},
   "source": [
    "#### Portfolio (Weighted) vs Benchmark"
   ]
  },
  {
   "cell_type": "code",
   "execution_count": 12,
   "id": "7ff157dd",
   "metadata": {
    "execution": {
     "iopub.execute_input": "2025-05-29T14:22:12.721010Z",
     "iopub.status.busy": "2025-05-29T14:22:12.719522Z",
     "iopub.status.idle": "2025-05-29T14:22:19.507410Z",
     "shell.execute_reply": "2025-05-29T14:22:19.505840Z"
    }
   },
   "outputs": [
    {
     "name": "stdout",
     "output_type": "stream",
     "text": [
      "Original portfolio_return length: 2511\n",
      "Filtered portfolio_return length: 503\n",
      "Test period: 2023-06-02 00:00:00 to 2025-06-04 00:00:00\n"
     ]
    },
    {
     "name": "stderr",
     "output_type": "stream",
     "text": [
      "/home/renanmogo/mfin-algo-trading-team8/.venv/lib/python3.13/site-packages/numpy/core/fromnumeric.py:86: FutureWarning: The behavior of DataFrame.prod with axis=None is deprecated, in a future version this will reduce over both axes and return a scalar. To retain the old behavior, pass axis=0 (or do not pass axis)\n",
      "  return reduction(axis=axis, out=out, **passkwargs)\n",
      "/home/renanmogo/mfin-algo-trading-team8/.venv/lib/python3.13/site-packages/numpy/core/fromnumeric.py:86: FutureWarning: The behavior of DataFrame.prod with axis=None is deprecated, in a future version this will reduce over both axes and return a scalar. To retain the old behavior, pass axis=0 (or do not pass axis)\n",
      "  return reduction(axis=axis, out=out, **passkwargs)\n",
      "/home/renanmogo/mfin-algo-trading-team8/.venv/lib/python3.13/site-packages/numpy/core/fromnumeric.py:86: FutureWarning: The behavior of DataFrame.prod with axis=None is deprecated, in a future version this will reduce over both axes and return a scalar. To retain the old behavior, pass axis=0 (or do not pass axis)\n",
      "  return reduction(axis=axis, out=out, **passkwargs)\n",
      "/home/renanmogo/mfin-algo-trading-team8/.venv/lib/python3.13/site-packages/quantstats/stats.py:510: FutureWarning: 'M' is deprecated and will be removed in a future version, please use 'ME' instead.\n",
      "  returns = _utils._prepare_returns(returns, rf).resample(resolution).sum()\n",
      "/home/renanmogo/mfin-algo-trading-team8/.venv/lib/python3.13/site-packages/quantstats/_plotting/wrappers.py:555: FutureWarning: 'A' is deprecated and will be removed in a future version, please use 'YE' instead.\n",
      "  .resample(\"A\")\n",
      "/home/renanmogo/mfin-algo-trading-team8/.venv/lib/python3.13/site-packages/quantstats/_plotting/wrappers.py:557: FutureWarning: 'A' is deprecated and will be removed in a future version, please use 'YE' instead.\n",
      "  .resample(\"A\")\n",
      "/home/renanmogo/mfin-algo-trading-team8/.venv/lib/python3.13/site-packages/quantstats/_plotting/wrappers.py:565: FutureWarning: 'A' is deprecated and will be removed in a future version, please use 'YE' instead.\n",
      "  returns = returns.resample(\"A\").apply(_stats.comp)\n",
      "/home/renanmogo/mfin-algo-trading-team8/.venv/lib/python3.13/site-packages/quantstats/_plotting/wrappers.py:568: FutureWarning: 'A' is deprecated and will be removed in a future version, please use 'YE' instead.\n",
      "  returns = returns.resample(\"A\").last()\n",
      "/home/renanmogo/mfin-algo-trading-team8/.venv/lib/python3.13/site-packages/quantstats/_plotting/core.py:433: FutureWarning: 'M' is deprecated and will be removed in a future version, please use 'ME' instead.\n",
      "  .resample(resample)\n",
      "/home/renanmogo/mfin-algo-trading-team8/.venv/lib/python3.13/site-packages/quantstats/_plotting/core.py:435: FutureWarning: 'M' is deprecated and will be removed in a future version, please use 'ME' instead.\n",
      "  .resample(resample)\n",
      "/home/renanmogo/mfin-algo-trading-team8/.venv/lib/python3.13/site-packages/quantstats/_plotting/core.py:440: FutureWarning: 'M' is deprecated and will be removed in a future version, please use 'ME' instead.\n",
      "  returns.fillna(0).resample(resample).apply(apply_fnc).resample(resample).last()\n",
      "/home/renanmogo/mfin-algo-trading-team8/.venv/lib/python3.13/site-packages/quantstats/_plotting/core.py:1018: FutureWarning: 'M' is deprecated and will be removed in a future version, please use 'ME' instead.\n",
      "  port[\"Monthly\"] = port[\"Daily\"].resample(\"M\").apply(apply_fnc)\n",
      "/home/renanmogo/mfin-algo-trading-team8/.venv/lib/python3.13/site-packages/quantstats/_plotting/core.py:1021: FutureWarning: 'Q' is deprecated and will be removed in a future version, please use 'QE' instead.\n",
      "  port[\"Quarterly\"] = port[\"Daily\"].resample(\"Q\").apply(apply_fnc)\n",
      "/home/renanmogo/mfin-algo-trading-team8/.venv/lib/python3.13/site-packages/quantstats/_plotting/core.py:1024: FutureWarning: 'A' is deprecated and will be removed in a future version, please use 'YE' instead.\n",
      "  port[\"Yearly\"] = port[\"Daily\"].resample(\"A\").apply(apply_fnc)\n"
     ]
    },
    {
     "name": "stdout",
     "output_type": "stream",
     "text": [
      "Added download button and removed QuantStats attribution from portfolios/portfolio_vs_benchmark_short_term-2025-06-06.html\n"
     ]
    },
    {
     "data": {
      "text/html": [
       "<h4>Performance Metrics</h4>"
      ],
      "text/plain": [
       "<IPython.core.display.HTML object>"
      ]
     },
     "metadata": {},
     "output_type": "display_data"
    },
    {
     "name": "stderr",
     "output_type": "stream",
     "text": [
      "/home/renanmogo/mfin-algo-trading-team8/.venv/lib/python3.13/site-packages/numpy/core/fromnumeric.py:86: FutureWarning: The behavior of DataFrame.prod with axis=None is deprecated, in a future version this will reduce over both axes and return a scalar. To retain the old behavior, pass axis=0 (or do not pass axis)\n",
      "  return reduction(axis=axis, out=out, **passkwargs)\n",
      "/home/renanmogo/mfin-algo-trading-team8/.venv/lib/python3.13/site-packages/numpy/core/fromnumeric.py:86: FutureWarning: The behavior of DataFrame.prod with axis=None is deprecated, in a future version this will reduce over both axes and return a scalar. To retain the old behavior, pass axis=0 (or do not pass axis)\n",
      "  return reduction(axis=axis, out=out, **passkwargs)\n",
      "/home/renanmogo/mfin-algo-trading-team8/.venv/lib/python3.13/site-packages/numpy/core/fromnumeric.py:86: FutureWarning: The behavior of DataFrame.prod with axis=None is deprecated, in a future version this will reduce over both axes and return a scalar. To retain the old behavior, pass axis=0 (or do not pass axis)\n",
      "  return reduction(axis=axis, out=out, **passkwargs)\n",
      "/home/renanmogo/mfin-algo-trading-team8/.venv/lib/python3.13/site-packages/quantstats/stats.py:510: FutureWarning: 'M' is deprecated and will be removed in a future version, please use 'ME' instead.\n",
      "  returns = _utils._prepare_returns(returns, rf).resample(resolution).sum()\n"
     ]
    },
    {
     "name": "stdout",
     "output_type": "stream",
     "text": [
      "                           DSI         Strategy\n",
      "-------------------------  ----------  ----------\n",
      "Start Period               2023-06-02  2023-06-02\n",
      "End Period                 2025-06-04  2025-06-04\n",
      "Risk-Free Rate             4.24%       4.24%\n",
      "Time in Market             100.0%      100.0%\n",
      "\n",
      "Cumulative Return          38.84%      61.97%\n",
      "CAGR﹪                     0.04%       0.07%\n",
      "\n",
      "Sharpe                     0.81        0.99\n",
      "Prob. Sharpe Ratio         70.44%      76.55%\n",
      "Smart Sharpe               0.73        0.9\n",
      "Sortino                    1.17        1.55\n",
      "Smart Sortino              1.06        1.41\n",
      "Sortino/√2                 0.82        1.1\n",
      "Smart Sortino/√2           0.75        1.0\n",
      "Omega                      1.21        1.21\n",
      "\n",
      "Max Drawdown               -21.06%     -22.15%\n",
      "Longest DD Days            132         105\n",
      "Volatility (ann.)          17.04%      22.87%\n",
      "R^2                        0.51        0.51\n",
      "Information Ratio          0.03        0.03\n",
      "Calmar                     0.57        0.81\n",
      "Skew                       0.48        1.1\n",
      "Kurtosis                   12.03       14.92\n",
      "\n",
      "Expected Daily %           0.07%       0.1%\n",
      "Expected Monthly %         1.32%       1.95%\n",
      "Expected Yearly %          11.56%      17.44%\n",
      "Kelly Criterion            6.44%       8.5%\n",
      "Risk of Ruin               0.0%        0.0%\n",
      "Daily Value-at-Risk        -1.69%      -2.26%\n",
      "Expected Shortfall (cVaR)  -1.69%      -2.26%\n",
      "\n",
      "Max Consecutive Wins       8           11\n",
      "Max Consecutive Losses     6           5\n",
      "Gain/Pain Ratio            0.21        0.26\n",
      "Gain/Pain (1M)             1.29        2.42\n",
      "\n",
      "Payoff Ratio               0.89        0.9\n",
      "Profit Factor              1.21        1.26\n",
      "Common Sense Ratio         1.15        1.09\n",
      "CPC Index                  0.6         0.64\n",
      "Tail Ratio                 0.95        0.87\n",
      "Outlier Win Ratio          4.41        3.49\n",
      "Outlier Loss Ratio         3.85        3.09\n",
      "\n",
      "MTD                        0.92%       0.87%\n",
      "3M                         3.61%       2.44%\n",
      "6M                         -3.22%      0.06%\n",
      "YTD                        0.25%       2.63%\n",
      "1Y                         9.81%       15.83%\n",
      "3Y (ann.)                  0.04%       0.07%\n",
      "5Y (ann.)                  0.04%       0.07%\n",
      "10Y (ann.)                 0.04%       0.07%\n",
      "All-time (ann.)            0.04%       0.07%\n",
      "\n",
      "Best Day                   9.14%       10.52%\n",
      "Worst Day                  -5.74%      -9.33%\n",
      "Best Month                 10.0%       15.4%\n",
      "Worst Month                -6.06%      -6.08%\n",
      "Best Year                  21.16%      32.91%\n",
      "Worst Year                 0.25%       2.63%\n",
      "\n",
      "Avg. Drawdown              -2.16%      -2.46%\n",
      "Avg. Drawdown Days         15          16\n",
      "Recovery Factor            1.84        2.8\n",
      "Ulcer Index                0.05        0.05\n",
      "Serenity Index             0.77        1.57\n",
      "\n",
      "Avg. Up Month              4.6%        5.9%\n",
      "Avg. Down Month            -3.7%       -3.59%\n",
      "Win Days %                 55.89%      56.66%\n",
      "Win Month %                64.0%       60.0%\n",
      "Win Quarter %              77.78%      77.78%\n",
      "Win Year %                 100.0%      100.0%\n",
      "\n",
      "Beta                       -           0.96\n",
      "Alpha                      -           0.1\n",
      "Correlation                -           71.22%\n",
      "Treynor Ratio              -           60.38%\n"
     ]
    },
    {
     "data": {
      "text/plain": [
       "None"
      ]
     },
     "metadata": {},
     "output_type": "display_data"
    },
    {
     "data": {
      "text/html": [
       "<h4 style=\"margin-bottom:20px\">Worst 5 Drawdowns</h4>"
      ],
      "text/plain": [
       "<IPython.core.display.HTML object>"
      ]
     },
     "metadata": {},
     "output_type": "display_data"
    },
    {
     "data": {
      "application/vnd.microsoft.datawrangler.viewer.v0+json": {
       "columns": [
        {
         "name": "index",
         "rawType": "int64",
         "type": "integer"
        },
        {
         "name": "Start",
         "rawType": "object",
         "type": "string"
        },
        {
         "name": "Valley",
         "rawType": "object",
         "type": "string"
        },
        {
         "name": "End",
         "rawType": "object",
         "type": "string"
        },
        {
         "name": "Days",
         "rawType": "int64",
         "type": "integer"
        },
        {
         "name": "Max Drawdown",
         "rawType": "float64",
         "type": "float"
        },
        {
         "name": "99% Max Drawdown",
         "rawType": "float64",
         "type": "float"
        }
       ],
       "ref": "210eec4e-c233-4ac2-bc78-f30f90058edb",
       "rows": [
        [
         "1",
         "2025-02-20",
         "2025-04-08",
         "2025-06-04",
         "105",
         "-22.153526807021674",
         "-20.466832349146515"
        ],
        [
         "2",
         "2024-07-17",
         "2024-08-05",
         "2024-10-29",
         "105",
         "-9.744362407002239",
         "-9.179721728891943"
        ],
        [
         "3",
         "2023-07-19",
         "2023-08-18",
         "2023-10-31",
         "105",
         "-8.772029123879577",
         "-8.60664263100337"
        ],
        [
         "4",
         "2024-12-12",
         "2025-02-12",
         "2025-02-18",
         "69",
         "-7.0444142494175965",
         "-6.973924578452129"
        ],
        [
         "5",
         "2024-03-22",
         "2024-04-19",
         "2024-04-30",
         "40",
         "-6.506666033165843",
         "-6.077378041473558"
        ]
       ],
       "shape": {
        "columns": 6,
        "rows": 5
       }
      },
      "text/html": [
       "<div>\n",
       "<style scoped>\n",
       "    .dataframe tbody tr th:only-of-type {\n",
       "        vertical-align: middle;\n",
       "    }\n",
       "\n",
       "    .dataframe tbody tr th {\n",
       "        vertical-align: top;\n",
       "    }\n",
       "\n",
       "    .dataframe thead th {\n",
       "        text-align: right;\n",
       "    }\n",
       "</style>\n",
       "<table border=\"1\" class=\"dataframe\">\n",
       "  <thead>\n",
       "    <tr style=\"text-align: right;\">\n",
       "      <th></th>\n",
       "      <th>Start</th>\n",
       "      <th>Valley</th>\n",
       "      <th>End</th>\n",
       "      <th>Days</th>\n",
       "      <th>Max Drawdown</th>\n",
       "      <th>99% Max Drawdown</th>\n",
       "    </tr>\n",
       "  </thead>\n",
       "  <tbody>\n",
       "    <tr>\n",
       "      <th>1</th>\n",
       "      <td>2025-02-20</td>\n",
       "      <td>2025-04-08</td>\n",
       "      <td>2025-06-04</td>\n",
       "      <td>105</td>\n",
       "      <td>-22.153527</td>\n",
       "      <td>-20.466832</td>\n",
       "    </tr>\n",
       "    <tr>\n",
       "      <th>2</th>\n",
       "      <td>2024-07-17</td>\n",
       "      <td>2024-08-05</td>\n",
       "      <td>2024-10-29</td>\n",
       "      <td>105</td>\n",
       "      <td>-9.744362</td>\n",
       "      <td>-9.179722</td>\n",
       "    </tr>\n",
       "    <tr>\n",
       "      <th>3</th>\n",
       "      <td>2023-07-19</td>\n",
       "      <td>2023-08-18</td>\n",
       "      <td>2023-10-31</td>\n",
       "      <td>105</td>\n",
       "      <td>-8.772029</td>\n",
       "      <td>-8.606643</td>\n",
       "    </tr>\n",
       "    <tr>\n",
       "      <th>4</th>\n",
       "      <td>2024-12-12</td>\n",
       "      <td>2025-02-12</td>\n",
       "      <td>2025-02-18</td>\n",
       "      <td>69</td>\n",
       "      <td>-7.044414</td>\n",
       "      <td>-6.973925</td>\n",
       "    </tr>\n",
       "    <tr>\n",
       "      <th>5</th>\n",
       "      <td>2024-03-22</td>\n",
       "      <td>2024-04-19</td>\n",
       "      <td>2024-04-30</td>\n",
       "      <td>40</td>\n",
       "      <td>-6.506666</td>\n",
       "      <td>-6.077378</td>\n",
       "    </tr>\n",
       "  </tbody>\n",
       "</table>\n",
       "</div>"
      ],
      "text/plain": [
       "        Start      Valley         End  Days  Max Drawdown  99% Max Drawdown\n",
       "1  2025-02-20  2025-04-08  2025-06-04   105    -22.153527        -20.466832\n",
       "2  2024-07-17  2024-08-05  2024-10-29   105     -9.744362         -9.179722\n",
       "3  2023-07-19  2023-08-18  2023-10-31   105     -8.772029         -8.606643\n",
       "4  2024-12-12  2025-02-12  2025-02-18    69     -7.044414         -6.973925\n",
       "5  2024-03-22  2024-04-19  2024-04-30    40     -6.506666         -6.077378"
      ]
     },
     "metadata": {},
     "output_type": "display_data"
    },
    {
     "data": {
      "text/html": [
       "<h4>Strategy Visualization</h4>"
      ],
      "text/plain": [
       "<IPython.core.display.HTML object>"
      ]
     },
     "metadata": {},
     "output_type": "display_data"
    },
    {
     "name": "stderr",
     "output_type": "stream",
     "text": [
      "/home/renanmogo/mfin-algo-trading-team8/.venv/lib/python3.13/site-packages/quantstats/_plotting/wrappers.py:555: FutureWarning: 'A' is deprecated and will be removed in a future version, please use 'YE' instead.\n",
      "  .resample(\"A\")\n",
      "/home/renanmogo/mfin-algo-trading-team8/.venv/lib/python3.13/site-packages/quantstats/_plotting/wrappers.py:557: FutureWarning: 'A' is deprecated and will be removed in a future version, please use 'YE' instead.\n",
      "  .resample(\"A\")\n",
      "/home/renanmogo/mfin-algo-trading-team8/.venv/lib/python3.13/site-packages/quantstats/_plotting/wrappers.py:565: FutureWarning: 'A' is deprecated and will be removed in a future version, please use 'YE' instead.\n",
      "  returns = returns.resample(\"A\").apply(_stats.comp)\n",
      "/home/renanmogo/mfin-algo-trading-team8/.venv/lib/python3.13/site-packages/quantstats/_plotting/wrappers.py:568: FutureWarning: 'A' is deprecated and will be removed in a future version, please use 'YE' instead.\n",
      "  returns = returns.resample(\"A\").last()\n",
      "/home/renanmogo/mfin-algo-trading-team8/.venv/lib/python3.13/site-packages/quantstats/_plotting/core.py:433: FutureWarning: 'M' is deprecated and will be removed in a future version, please use 'ME' instead.\n",
      "  .resample(resample)\n",
      "/home/renanmogo/mfin-algo-trading-team8/.venv/lib/python3.13/site-packages/quantstats/_plotting/core.py:435: FutureWarning: 'M' is deprecated and will be removed in a future version, please use 'ME' instead.\n",
      "  .resample(resample)\n",
      "/home/renanmogo/mfin-algo-trading-team8/.venv/lib/python3.13/site-packages/quantstats/_plotting/core.py:440: FutureWarning: 'M' is deprecated and will be removed in a future version, please use 'ME' instead.\n",
      "  returns.fillna(0).resample(resample).apply(apply_fnc).resample(resample).last()\n",
      "/home/renanmogo/mfin-algo-trading-team8/.venv/lib/python3.13/site-packages/quantstats/_plotting/core.py:1018: FutureWarning: 'M' is deprecated and will be removed in a future version, please use 'ME' instead.\n",
      "  port[\"Monthly\"] = port[\"Daily\"].resample(\"M\").apply(apply_fnc)\n",
      "/home/renanmogo/mfin-algo-trading-team8/.venv/lib/python3.13/site-packages/quantstats/_plotting/core.py:1021: FutureWarning: 'Q' is deprecated and will be removed in a future version, please use 'QE' instead.\n",
      "  port[\"Quarterly\"] = port[\"Daily\"].resample(\"Q\").apply(apply_fnc)\n",
      "/home/renanmogo/mfin-algo-trading-team8/.venv/lib/python3.13/site-packages/quantstats/_plotting/core.py:1024: FutureWarning: 'A' is deprecated and will be removed in a future version, please use 'YE' instead.\n",
      "  port[\"Yearly\"] = port[\"Daily\"].resample(\"A\").apply(apply_fnc)\n"
     ]
    }
   ],
   "source": [
    "# Filter portfolio_return and benchmark_returns to match test_set dates\n",
    "test_start_date = test_set.index[0]\n",
    "test_end_date = test_set.index[-1]\n",
    "\n",
    "# Filter portfolio_return to test period\n",
    "portfolio_return_test = portfolio_return.loc[test_start_date:test_end_date]\n",
    "portfolio_return_test.name = \"Weighted Portfolio\"\n",
    "\n",
    "# Filter benchmark_returns to test period\n",
    "benchmark_returns_test = benchmark_returns.loc[test_start_date:test_end_date]\n",
    "\n",
    "print(f\"Original portfolio_return length: {len(portfolio_return)}\")\n",
    "print(f\"Filtered portfolio_return length: {len(portfolio_return_test)}\")\n",
    "print(f\"Test period: {test_start_date} to {test_end_date}\")\n",
    "\n",
    "# Generate Report using filtered data\n",
    "qs.reports.html(\n",
    "    portfolio_return_test,\n",
    "    benchmark_returns_test,\n",
    "    rf=risk_free_rate,\n",
    "    figsize=(8, 5),\n",
    "    output=f'portfolios/portfolio_vs_benchmark_short_term-{datetime.date(end_date)}.html',\n",
    "    title=f'Portfolio vs {benchmark} (Benchmark) - Test Period',\n",
    "    benchmark_title=f'{benchmark}',\n",
    "    download_filename=f'portfolio_vs_{benchmark}.html'\n",
    ")\n",
    "\n",
    "qs.reports.full(\n",
    "    portfolio_return_test, \n",
    "    benchmark_returns_test,\n",
    "    rf=risk_free_rate, \n",
    "    figsize=(8, 5), \n",
    "    title=f'Portfolio vs {benchmark} - Test Period',\n",
    "    benchmark_title=f'{benchmark}')"
   ]
  },
  {
   "cell_type": "markdown",
   "id": "fc233166",
   "metadata": {},
   "source": [
    "#### Portfolio (Weighted) vs Portolio (Equally-Weighted)"
   ]
  },
  {
   "cell_type": "code",
   "execution_count": 13,
   "id": "ba5f845c",
   "metadata": {
    "execution": {
     "iopub.execute_input": "2025-05-29T14:22:19.511793Z",
     "iopub.status.busy": "2025-05-29T14:22:19.511416Z",
     "iopub.status.idle": "2025-05-29T14:22:25.407510Z",
     "shell.execute_reply": "2025-05-29T14:22:25.406356Z"
    }
   },
   "outputs": [],
   "source": [
    "# # Ensure equal_weight_return and portfolio_return are properly aggregated if resampled\n",
    "# equal_weight_return = equal_weight_return.resample('D').sum() if equal_weight_return.index.freq is None else equal_weight_return\n",
    "# portfolio_return = portfolio_return.resample('D').sum() if portfolio_return.index.freq is None else portfolio_return\n",
    "\n",
    "# # Set the name for the equal weight portfolio\n",
    "# equal_weight_return.name = \"Equal Weight Portfolio\"\n",
    "\n",
    "# # Generate Report\n",
    "# qs.reports.html(\n",
    "#     portfolio_return,\n",
    "#     equal_weight_return,\n",
    "#     rf=risk_free_rate,\n",
    "#     figsize=(8, 5),\n",
    "#     output=f'portfolio_vs_equal_weight-{datetime.date(end_date)}.html',\n",
    "#     title='Portfolio (Weighted) vs Portolio (Equally-Weighted)',\n",
    "#     benchmark_title=\"Equal Weight Portfolio\",\n",
    "#     download_filename=\"portfolio_vs_equal_weight.html\" \n",
    "# )\n",
    "\n",
    "# qs.reports.full(\n",
    "#     portfolio_return, \n",
    "#     equal_weight_return,\n",
    "#     rf=risk_free_rate, \n",
    "#     figsize=(8, 5), \n",
    "#     title='Portfolio vs Equal Weight',\n",
    "#     benchmark_title=\"Equal Weight Portfolio\",\n",
    "#     ) "
   ]
  }
 ],
 "metadata": {
  "kernelspec": {
   "display_name": ".venv",
   "language": "python",
   "name": "python3"
  },
  "language_info": {
   "codemirror_mode": {
    "name": "ipython",
    "version": 3
   },
   "file_extension": ".py",
   "mimetype": "text/x-python",
   "name": "python",
   "nbconvert_exporter": "python",
   "pygments_lexer": "ipython3",
   "version": "3.13.3"
  }
 },
 "nbformat": 4,
 "nbformat_minor": 5
}
