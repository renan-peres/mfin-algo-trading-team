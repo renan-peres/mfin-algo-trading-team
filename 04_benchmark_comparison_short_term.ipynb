{
 "cells": [
  {
   "cell_type": "markdown",
   "id": "87d75d93",
   "metadata": {},
   "source": [
    "# Portfolio Performance vs. Benchmark"
   ]
  },
  {
   "cell_type": "markdown",
   "id": "03c32a8d",
   "metadata": {},
   "source": [
    "### Step 1: Import Libraries"
   ]
  },
  {
   "cell_type": "code",
   "execution_count": 1,
   "id": "af63bf54",
   "metadata": {
    "execution": {
     "iopub.execute_input": "2025-05-29T14:22:10.787415Z",
     "iopub.status.busy": "2025-05-29T14:22:10.787235Z",
     "iopub.status.idle": "2025-05-29T14:22:11.725725Z",
     "shell.execute_reply": "2025-05-29T14:22:11.724449Z"
    }
   },
   "outputs": [],
   "source": [
    "# Data manipulation libraries\n",
    "import pandas as pd\n",
    "import numpy as np\n",
    "from scipy.optimize import minimize\n",
    "from datetime import datetime, timedelta\n",
    "from pandas.tseries.offsets import BDay\n",
    "\n",
    "# Visualization libraries\n",
    "import matplotlib.pyplot as plt\n",
    "import plotly\n",
    "import plotly.express as px\n",
    "import seaborn as sns\n",
    "import plotly.graph_objects as go\n",
    "import plotly.io as pio\n",
    "from IPython.display import Image, display\n",
    "\n",
    "# System libraries\n",
    "import os\n",
    "import sys\n",
    "import glob\n",
    "import logging\n",
    "import warnings\n",
    "\n",
    "warnings.filterwarnings(\"ignore\", category=UserWarning)  # Font warnings\n",
    "warnings.filterwarnings(\"ignore\", category=FutureWarning, message=\".*inplace.*\")  # Pandas warnings\n",
    "logging.getLogger('matplotlib.font_manager').disabled = True"
   ]
  },
  {
   "cell_type": "code",
   "execution_count": 2,
   "id": "99e4f182",
   "metadata": {
    "execution": {
     "iopub.execute_input": "2025-05-29T14:22:11.729669Z",
     "iopub.status.busy": "2025-05-29T14:22:11.729094Z",
     "iopub.status.idle": "2025-05-29T14:22:11.963641Z",
     "shell.execute_reply": "2025-05-29T14:22:11.962833Z"
    }
   },
   "outputs": [
    {
     "name": "stdout",
     "output_type": "stream",
     "text": [
      "============================================================\n",
      "               QuantStats Compatibility Tool                \n",
      "============================================================\n",
      "\n",
      "Part 1: Directly patching QuantStats package files\n",
      "------------------------------------------------------------\n",
      "Found QuantStats utils file at: /home/renanmogo/mfin-algo-trading-team8/.venv/lib/python3.13/site-packages/quantstats/__init__.py\n",
      "Successfully fixed indentation in QuantStats __init__.py file\n",
      "✓ QuantStats utils file patched successfully\n",
      "\n",
      "Part 2: Fixing resampling issues\n",
      "------------------------------------------------------------\n",
      "Found 1 potential QuantStats installation(s)\n",
      "Checking /home/renanmogo/mfin-algo-trading-team8/.venv/lib/python3.13/site-packages/quantstats/_plotting/core.py\n",
      "✓ Found 'plot_timeseries' function in /home/renanmogo/mfin-algo-trading-team8/.venv/lib/python3.13/site-packages/quantstats/_plotting/core.py\n",
      "✓ No 'sum(axis=0)' calls found - may already be fixed\n",
      "Examining /home/renanmogo/mfin-algo-trading-team8/.venv/lib/python3.13/site-packages/quantstats/_plotting/core.py...\n",
      "✓ Found 'plot_timeseries' function in /home/renanmogo/mfin-algo-trading-team8/.venv/lib/python3.13/site-packages/quantstats/_plotting/core.py\n",
      "✓ No 'sum(axis=0)' calls found - may already be fixed\n",
      "No applicable fixes found for /home/renanmogo/mfin-algo-trading-team8/.venv/lib/python3.13/site-packages/quantstats/_plotting/core.py\n",
      "⚠️ Resampling fix not applied or not needed\n",
      "\n",
      "Part 3: Importing and patching QuantStats\n",
      "------------------------------------------------------------\n",
      "✓ Successfully imported quantstats\n",
      "Successfully patched QuantStats HTML report functionality\n",
      "✓ HTML report functionality enhanced with download button\n"
     ]
    }
   ],
   "source": [
    "from py.quantstats_fix import *\n",
    "from py.utils import load_and_filter_data, export_to_excel\n",
    "qs.extend_pandas()"
   ]
  },
  {
   "cell_type": "markdown",
   "id": "32933b31",
   "metadata": {},
   "source": [
    "### Step 2: Define Parameters "
   ]
  },
  {
   "cell_type": "markdown",
   "id": "534662b1",
   "metadata": {},
   "source": [
    "#### Dates"
   ]
  },
  {
   "cell_type": "code",
   "execution_count": 3,
   "id": "6157c2ed",
   "metadata": {
    "execution": {
     "iopub.execute_input": "2025-05-29T14:22:11.966299Z",
     "iopub.status.busy": "2025-05-29T14:22:11.965721Z",
     "iopub.status.idle": "2025-05-29T14:22:11.971936Z",
     "shell.execute_reply": "2025-05-29T14:22:11.971209Z"
    }
   },
   "outputs": [
    {
     "name": "stdout",
     "output_type": "stream",
     "text": [
      "Date Range: 2015-06-06 to 2025-06-03\n",
      "Time span: 3650 days (10.00 years)\n"
     ]
    }
   ],
   "source": [
    "# Define the date range\n",
    "end_date = (datetime.today() - BDay(1)).to_pydatetime()  # Subtract 1 business day\n",
    "# end_date = pd.to_datetime('2025-04-26')  # Report date\n",
    "start_date = end_date - timedelta(days=10*365)\n",
    "\n",
    "# Convert datetime objects to Unix timestamps (seconds since Jan 1, 1970)\n",
    "start_timestamp = int(start_date.timestamp())\n",
    "end_timestamp = int(end_date.timestamp())\n",
    "\n",
    "# Print the date range\n",
    "days_difference = (end_date - start_date).days\n",
    "print(f\"Date Range: {start_date.strftime('%Y-%m-%d')} to {end_date.strftime('%Y-%m-%d')}\")\n",
    "print(f\"Time span: {days_difference} days ({days_difference/365:.2f} years)\")"
   ]
  },
  {
   "cell_type": "markdown",
   "id": "d116c468",
   "metadata": {},
   "source": [
    "#### Report File"
   ]
  },
  {
   "cell_type": "code",
   "execution_count": 4,
   "id": "fea8a2eb",
   "metadata": {},
   "outputs": [
    {
     "name": "stdout",
     "output_type": "stream",
     "text": [
      "Using most recent portfolio file: portfolios/portfolio-2025-06-02.xlsx\n"
     ]
    }
   ],
   "source": [
    "# Get the most recent portfolio file\n",
    "portfolio_files = glob.glob('portfolios/portfolio-*.xlsx')\n",
    "if portfolio_files:\n",
    "    # Sort files by modification time (most recent first)\n",
    "    output_file = max(portfolio_files, key=os.path.getmtime)\n",
    "    print(f\"Using most recent portfolio file: {output_file}\")\n",
    "else:\n",
    "    # Fallback to current date if no files found\n",
    "    output_file = f'portfolios/portfolio-{datetime.date(end_date)}.xlsx'\n",
    "    print(f\"No portfolio files found. Using: {output_file}\")"
   ]
  },
  {
   "cell_type": "markdown",
   "id": "716f13a4",
   "metadata": {},
   "source": [
    "#### Benchmark"
   ]
  },
  {
   "cell_type": "code",
   "execution_count": 5,
   "id": "76222543",
   "metadata": {
    "execution": {
     "iopub.execute_input": "2025-05-29T14:22:11.974897Z",
     "iopub.status.busy": "2025-05-29T14:22:11.974290Z",
     "iopub.status.idle": "2025-05-29T14:22:12.050624Z",
     "shell.execute_reply": "2025-05-29T14:22:12.049202Z"
    }
   },
   "outputs": [
    {
     "name": "stdout",
     "output_type": "stream",
     "text": [
      "DSI\n"
     ]
    }
   ],
   "source": [
    "# benchmark = 'ADME'\n",
    "benchmark = pd.read_excel(output_file, sheet_name=\"benchmark_short_term\")['Benchmark'].values[0]\n",
    "print(benchmark)"
   ]
  },
  {
   "cell_type": "markdown",
   "id": "45c2abd8",
   "metadata": {},
   "source": [
    "#### Risk-free rate (T-bill, %)"
   ]
  },
  {
   "cell_type": "code",
   "execution_count": 6,
   "id": "5349aec6",
   "metadata": {
    "execution": {
     "iopub.execute_input": "2025-05-29T14:22:12.053427Z",
     "iopub.status.busy": "2025-05-29T14:22:12.053221Z",
     "iopub.status.idle": "2025-05-29T14:22:12.176538Z",
     "shell.execute_reply": "2025-05-29T14:22:12.174130Z"
    }
   },
   "outputs": [
    {
     "name": "stdout",
     "output_type": "stream",
     "text": [
      "Risk-Free Rate: 0.042300000000000004 -- 13 WEEK TREASURY BILL (^IRX)\n"
     ]
    }
   ],
   "source": [
    "# Load and process data\n",
    "risk_free_df = pd.read_excel(output_file, sheet_name=\"daily_quotes\", index_col=0)['^IRX']\n",
    "# risk_free_rate  = 0.0433                              # 3‑month T‑Bill\n",
    "risk_free_rate = risk_free_df.iloc[-1] / 100 \n",
    "\n",
    "# Display result\n",
    "print(\"Risk-Free Rate:\", risk_free_rate, \"-- 13 WEEK TREASURY BILL (^IRX)\")"
   ]
  },
  {
   "cell_type": "markdown",
   "id": "49293477",
   "metadata": {},
   "source": [
    "### Step 3: Read Portfolio Data (Excel)"
   ]
  },
  {
   "cell_type": "code",
   "execution_count": 7,
   "id": "c7f5a054",
   "metadata": {
    "execution": {
     "iopub.execute_input": "2025-05-29T14:22:12.179403Z",
     "iopub.status.busy": "2025-05-29T14:22:12.179103Z",
     "iopub.status.idle": "2025-05-29T14:22:12.218868Z",
     "shell.execute_reply": "2025-05-29T14:22:12.218104Z"
    }
   },
   "outputs": [
    {
     "name": "stdout",
     "output_type": "stream",
     "text": [
      "['GRMN', 'MSFT']\n"
     ]
    },
    {
     "data": {
      "application/vnd.microsoft.datawrangler.viewer.v0+json": {
       "columns": [
        {
         "name": "index",
         "rawType": "int64",
         "type": "integer"
        },
        {
         "name": "Ticker",
         "rawType": "object",
         "type": "string"
        },
        {
         "name": "Date",
         "rawType": "object",
         "type": "string"
        },
        {
         "name": "Name",
         "rawType": "object",
         "type": "string"
        },
        {
         "name": "Sector",
         "rawType": "object",
         "type": "string"
        },
        {
         "name": "Industry",
         "rawType": "object",
         "type": "string"
        },
        {
         "name": "Country",
         "rawType": "object",
         "type": "string"
        },
        {
         "name": "Website",
         "rawType": "object",
         "type": "string"
        },
        {
         "name": "Market Cap",
         "rawType": "int64",
         "type": "integer"
        },
        {
         "name": "Enterprise Value",
         "rawType": "int64",
         "type": "integer"
        },
        {
         "name": "Float Shares",
         "rawType": "int64",
         "type": "integer"
        },
        {
         "name": "Shares Outstanding",
         "rawType": "int64",
         "type": "integer"
        },
        {
         "name": "P/E (Trailing)",
         "rawType": "float64",
         "type": "float"
        },
        {
         "name": "P/E (Forward)",
         "rawType": "float64",
         "type": "float"
        },
        {
         "name": "P/S",
         "rawType": "float64",
         "type": "float"
        },
        {
         "name": "P/B",
         "rawType": "float64",
         "type": "float"
        },
        {
         "name": "EV/Ebitda",
         "rawType": "float64",
         "type": "float"
        },
        {
         "name": "EV/Revenue",
         "rawType": "float64",
         "type": "float"
        },
        {
         "name": "Gross Margin (%)",
         "rawType": "float64",
         "type": "float"
        },
        {
         "name": "Ebitda Margin (%)",
         "rawType": "float64",
         "type": "float"
        },
        {
         "name": "Operating Margin (%)",
         "rawType": "float64",
         "type": "float"
        },
        {
         "name": "Profit Margin (%)",
         "rawType": "float64",
         "type": "float"
        },
        {
         "name": "ROE",
         "rawType": "float64",
         "type": "float"
        },
        {
         "name": "ROA",
         "rawType": "float64",
         "type": "float"
        },
        {
         "name": "Revenue (TTM)",
         "rawType": "int64",
         "type": "integer"
        },
        {
         "name": "Revenue Growth (%)",
         "rawType": "float64",
         "type": "float"
        },
        {
         "name": "EPS (Trailing)",
         "rawType": "float64",
         "type": "float"
        },
        {
         "name": "EPS (Forward)",
         "rawType": "float64",
         "type": "float"
        },
        {
         "name": "Earnings Growth (%)",
         "rawType": "float64",
         "type": "float"
        },
        {
         "name": "Earnings Quarterly Growth (%)",
         "rawType": "float64",
         "type": "float"
        },
        {
         "name": "Total Cash",
         "rawType": "int64",
         "type": "integer"
        },
        {
         "name": "Total Debt",
         "rawType": "int64",
         "type": "integer"
        },
        {
         "name": "Debt To Equity",
         "rawType": "float64",
         "type": "float"
        },
        {
         "name": "Current Ratio",
         "rawType": "float64",
         "type": "float"
        },
        {
         "name": "Quick Ratio",
         "rawType": "float64",
         "type": "float"
        },
        {
         "name": "Book Value",
         "rawType": "float64",
         "type": "float"
        },
        {
         "name": "Free Cash Flow",
         "rawType": "int64",
         "type": "integer"
        },
        {
         "name": "Operating Cash Flow",
         "rawType": "int64",
         "type": "integer"
        },
        {
         "name": "Dividend Yield (%)",
         "rawType": "float64",
         "type": "float"
        },
        {
         "name": "Dividend Rate (%)",
         "rawType": "float64",
         "type": "float"
        },
        {
         "name": "5Y Avg Dividend Yield (%)",
         "rawType": "float64",
         "type": "float"
        },
        {
         "name": "Payout Ratio (%)",
         "rawType": "float64",
         "type": "float"
        },
        {
         "name": "Price",
         "rawType": "float64",
         "type": "float"
        },
        {
         "name": "Target Price",
         "rawType": "float64",
         "type": "float"
        },
        {
         "name": "Target High",
         "rawType": "int64",
         "type": "integer"
        },
        {
         "name": "Target Low",
         "rawType": "float64",
         "type": "float"
        },
        {
         "name": "Analyst Rating",
         "rawType": "object",
         "type": "string"
        },
        {
         "name": "Analyst Rating Value",
         "rawType": "float64",
         "type": "float"
        },
        {
         "name": "Beta",
         "rawType": "float64",
         "type": "float"
        },
        {
         "name": "52W High",
         "rawType": "float64",
         "type": "float"
        },
        {
         "name": "52W Low",
         "rawType": "float64",
         "type": "float"
        },
        {
         "name": "50 Day Avg",
         "rawType": "float64",
         "type": "float"
        },
        {
         "name": "200 Day Avg",
         "rawType": "float64",
         "type": "float"
        },
        {
         "name": "Short Ratio",
         "rawType": "float64",
         "type": "float"
        },
        {
         "name": "Short % Of Float",
         "rawType": "float64",
         "type": "float"
        },
        {
         "name": "Strategy",
         "rawType": "object",
         "type": "string"
        },
        {
         "name": "Best Sharpe",
         "rawType": "float64",
         "type": "float"
        },
        {
         "name": "Best Sortino",
         "rawType": "float64",
         "type": "float"
        },
        {
         "name": "CAGR",
         "rawType": "float64",
         "type": "float"
        },
        {
         "name": "Max Drawdown",
         "rawType": "float64",
         "type": "float"
        },
        {
         "name": "Volatility",
         "rawType": "float64",
         "type": "float"
        },
        {
         "name": "Short Period",
         "rawType": "int64",
         "type": "integer"
        },
        {
         "name": "Long Period",
         "rawType": "int64",
         "type": "integer"
        },
        {
         "name": "Articles In Last Week",
         "rawType": "int64",
         "type": "integer"
        },
        {
         "name": "Company News Score",
         "rawType": "float64",
         "type": "float"
        },
        {
         "name": "Bearish Percent",
         "rawType": "float64",
         "type": "float"
        },
        {
         "name": "Bullish Percent",
         "rawType": "float64",
         "type": "float"
        },
        {
         "name": "Average Sentiment Score",
         "rawType": "float64",
         "type": "float"
        },
        {
         "name": "Sector Average Bullish Percent",
         "rawType": "float64",
         "type": "float"
        },
        {
         "name": "Sector Average News Score",
         "rawType": "float64",
         "type": "float"
        },
        {
         "name": "Weight",
         "rawType": "float64",
         "type": "float"
        }
       ],
       "ref": "f3951b38-4eba-498e-82fb-ec4028d0432f",
       "rows": [
        [
         "0",
         "GRMN",
         "2025-06-02",
         "Garmin Ltd.",
         "Technology",
         "Scientific & Technical Instruments",
         "Switzerland",
         "https://www.garmin.com",
         "39080046592",
         "36584062976",
         "174794910",
         "192540992",
         "26.74",
         "27.21",
         "6.06",
         "4.78",
         "20.22",
         "5.67",
         "0.5858",
         "0.2806",
         "0.2168",
         "0.2276",
         "0.19",
         "0.11",
         "6450353152",
         "0.111",
         "7.59",
         "7.46",
         "0.203",
         "0.206",
         "2674510080",
         "178435008",
         "2.18",
         "4.1",
         "2.62",
         "42.44",
         "901582016",
         "1417954048",
         "0.0177",
         "0.036",
         "0.022",
         "0.3953",
         "202.97",
         "198.54",
         "285",
         "152.0",
         "hold",
         "3.0",
         "0.99",
         "246.5",
         "158.38",
         "198.45",
         "198.66",
         "2.49",
         "0.01",
         "SMA_Cross_Signal",
         "0.7872952793314424",
         "1.061508784594708",
         "0.180191507127397",
         "-0.4257363125460245",
         "0.2498950287520158",
         "10",
         "190",
         "5",
         "0.6425",
         "0.0",
         "0.6",
         "0.285",
         "0.5184",
         "0.5688",
         "0.5"
        ],
        [
         "1",
         "MSFT",
         "2025-06-02",
         "Microsoft Corporation",
         "Technology",
         "Software - Infrastructure",
         "United States",
         "https://www.microsoft.com",
         "3421643997184",
         "3447046799360",
         "7422063978",
         "7432540160",
         "35.58",
         "30.79",
         "12.67",
         "10.63",
         "23.11",
         "12.77",
         "0.6907",
         "0.5525",
         "0.4567",
         "0.3579",
         "0.34",
         "0.15",
         "270010007552",
         "0.133",
         "12.94",
         "14.95",
         "0.177",
         "0.177",
         "79617998848",
         "105018998784",
         "32.63",
         "1.37",
         "1.24",
         "43.3",
         "54817001472",
         "130710003712",
         "0.0072",
         "0.0332",
         "0.0083",
         "0.2442",
         "460.36",
         "509.92",
         "650",
         "429.86",
         "strong_buy",
         "1.41",
         "1.03",
         "468.35",
         "344.79",
         "409.1",
         "417.01",
         "2.48",
         "0.01",
         "SMA_Cross_Signal",
         "1.009688145706578",
         "1.279326483108479",
         "0.264126522227808",
         "-0.2804226918798666",
         "0.2677885128550899",
         "30",
         "190",
         "30",
         "0.6159",
         "0.0333",
         "0.5333",
         "0.2318",
         "0.5184",
         "0.5688",
         "0.5"
        ]
       ],
       "shape": {
        "columns": 70,
        "rows": 2
       }
      },
      "text/html": [
       "<div>\n",
       "<style scoped>\n",
       "    .dataframe tbody tr th:only-of-type {\n",
       "        vertical-align: middle;\n",
       "    }\n",
       "\n",
       "    .dataframe tbody tr th {\n",
       "        vertical-align: top;\n",
       "    }\n",
       "\n",
       "    .dataframe thead th {\n",
       "        text-align: right;\n",
       "    }\n",
       "</style>\n",
       "<table border=\"1\" class=\"dataframe\">\n",
       "  <thead>\n",
       "    <tr style=\"text-align: right;\">\n",
       "      <th></th>\n",
       "      <th>Ticker</th>\n",
       "      <th>Date</th>\n",
       "      <th>Name</th>\n",
       "      <th>Sector</th>\n",
       "      <th>Industry</th>\n",
       "      <th>Country</th>\n",
       "      <th>Website</th>\n",
       "      <th>Market Cap</th>\n",
       "      <th>Enterprise Value</th>\n",
       "      <th>Float Shares</th>\n",
       "      <th>...</th>\n",
       "      <th>Short Period</th>\n",
       "      <th>Long Period</th>\n",
       "      <th>Articles In Last Week</th>\n",
       "      <th>Company News Score</th>\n",
       "      <th>Bearish Percent</th>\n",
       "      <th>Bullish Percent</th>\n",
       "      <th>Average Sentiment Score</th>\n",
       "      <th>Sector Average Bullish Percent</th>\n",
       "      <th>Sector Average News Score</th>\n",
       "      <th>Weight</th>\n",
       "    </tr>\n",
       "  </thead>\n",
       "  <tbody>\n",
       "    <tr>\n",
       "      <th>0</th>\n",
       "      <td>GRMN</td>\n",
       "      <td>2025-06-02</td>\n",
       "      <td>Garmin Ltd.</td>\n",
       "      <td>Technology</td>\n",
       "      <td>Scientific &amp; Technical Instruments</td>\n",
       "      <td>Switzerland</td>\n",
       "      <td>https://www.garmin.com</td>\n",
       "      <td>39080046592</td>\n",
       "      <td>36584062976</td>\n",
       "      <td>174794910</td>\n",
       "      <td>...</td>\n",
       "      <td>10</td>\n",
       "      <td>190</td>\n",
       "      <td>5</td>\n",
       "      <td>0.6425</td>\n",
       "      <td>0.0000</td>\n",
       "      <td>0.6000</td>\n",
       "      <td>0.2850</td>\n",
       "      <td>0.5184</td>\n",
       "      <td>0.5688</td>\n",
       "      <td>0.5</td>\n",
       "    </tr>\n",
       "    <tr>\n",
       "      <th>1</th>\n",
       "      <td>MSFT</td>\n",
       "      <td>2025-06-02</td>\n",
       "      <td>Microsoft Corporation</td>\n",
       "      <td>Technology</td>\n",
       "      <td>Software - Infrastructure</td>\n",
       "      <td>United States</td>\n",
       "      <td>https://www.microsoft.com</td>\n",
       "      <td>3421643997184</td>\n",
       "      <td>3447046799360</td>\n",
       "      <td>7422063978</td>\n",
       "      <td>...</td>\n",
       "      <td>30</td>\n",
       "      <td>190</td>\n",
       "      <td>30</td>\n",
       "      <td>0.6159</td>\n",
       "      <td>0.0333</td>\n",
       "      <td>0.5333</td>\n",
       "      <td>0.2318</td>\n",
       "      <td>0.5184</td>\n",
       "      <td>0.5688</td>\n",
       "      <td>0.5</td>\n",
       "    </tr>\n",
       "  </tbody>\n",
       "</table>\n",
       "<p>2 rows × 70 columns</p>\n",
       "</div>"
      ],
      "text/plain": [
       "  Ticker        Date                   Name      Sector  \\\n",
       "0   GRMN  2025-06-02            Garmin Ltd.  Technology   \n",
       "1   MSFT  2025-06-02  Microsoft Corporation  Technology   \n",
       "\n",
       "                             Industry        Country  \\\n",
       "0  Scientific & Technical Instruments    Switzerland   \n",
       "1           Software - Infrastructure  United States   \n",
       "\n",
       "                     Website     Market Cap  Enterprise Value  Float Shares  \\\n",
       "0     https://www.garmin.com    39080046592       36584062976     174794910   \n",
       "1  https://www.microsoft.com  3421643997184     3447046799360    7422063978   \n",
       "\n",
       "   ...  Short Period  Long Period  Articles In Last Week  Company News Score  \\\n",
       "0  ...            10          190                      5              0.6425   \n",
       "1  ...            30          190                     30              0.6159   \n",
       "\n",
       "   Bearish Percent  Bullish Percent  Average Sentiment Score  \\\n",
       "0           0.0000           0.6000                   0.2850   \n",
       "1           0.0333           0.5333                   0.2318   \n",
       "\n",
       "   Sector Average Bullish Percent  Sector Average News Score  Weight  \n",
       "0                          0.5184                     0.5688     0.5  \n",
       "1                          0.5184                     0.5688     0.5  \n",
       "\n",
       "[2 rows x 70 columns]"
      ]
     },
     "metadata": {},
     "output_type": "display_data"
    }
   ],
   "source": [
    "portfolio_df = pd.read_excel(output_file, sheet_name=\"short_term\")\n",
    "\n",
    "# Convert percentage strings to float values\n",
    "portfolio_df['Weight'] = portfolio_df['Weight'].replace('%', '', regex=True).astype(float)\n",
    "portfolio_tickers = portfolio_df[\"Ticker\"].tolist()\n",
    "\n",
    "print(portfolio_tickers)\n",
    "display(portfolio_df)"
   ]
  },
  {
   "cell_type": "markdown",
   "id": "ff3d536d",
   "metadata": {},
   "source": [
    "### Step 4: Download Returns"
   ]
  },
  {
   "cell_type": "code",
   "execution_count": 8,
   "id": "240dc240",
   "metadata": {
    "execution": {
     "iopub.execute_input": "2025-05-29T14:22:12.221516Z",
     "iopub.status.busy": "2025-05-29T14:22:12.221316Z",
     "iopub.status.idle": "2025-05-29T14:22:12.626923Z",
     "shell.execute_reply": "2025-05-29T14:22:12.625973Z"
    }
   },
   "outputs": [
    {
     "name": "stdout",
     "output_type": "stream",
     "text": [
      "Found 2 of 2 tickers in data/daily_stock_quotes.csv\n",
      "Missing tickers: []\n",
      "Found 1 of 1 tickers in data/daily_benchmark_quotes.csv\n",
      "Missing tickers: []\n",
      "\n",
      "Sharpe Ratios for individual assets:\n",
      "GRMN: 0.6384\n",
      "MSFT: 0.9044\n"
     ]
    },
    {
     "data": {
      "application/vnd.microsoft.datawrangler.viewer.v0+json": {
       "columns": [
        {
         "name": "Date",
         "rawType": "datetime64[ns]",
         "type": "datetime"
        },
        {
         "name": "GRMN",
         "rawType": "float64",
         "type": "float"
        },
        {
         "name": "MSFT",
         "rawType": "float64",
         "type": "float"
        }
       ],
       "ref": "df5dd351-8942-4a87-be21-d6dcad225b38",
       "rows": [
        [
         "2015-06-09 00:00:00",
         "0.005347606326595277",
         "-0.0017670079064372836"
        ],
        [
         "2015-06-10 00:00:00",
         "0.01558167641104028",
         "0.02100077180105537"
        ],
        [
         "2015-06-11 00:00:00",
         "-0.008789977485793233",
         "-0.003717937112112131"
        ],
        [
         "2015-06-12 00:00:00",
         "-0.016019328027285076",
         "-0.010233460078714233"
        ],
        [
         "2015-06-15 00:00:00",
         "-0.013245226750020567",
         "-0.010846366895112876"
        ]
       ],
       "shape": {
        "columns": 2,
        "rows": 5
       }
      },
      "text/html": [
       "<div>\n",
       "<style scoped>\n",
       "    .dataframe tbody tr th:only-of-type {\n",
       "        vertical-align: middle;\n",
       "    }\n",
       "\n",
       "    .dataframe tbody tr th {\n",
       "        vertical-align: top;\n",
       "    }\n",
       "\n",
       "    .dataframe thead th {\n",
       "        text-align: right;\n",
       "    }\n",
       "</style>\n",
       "<table border=\"1\" class=\"dataframe\">\n",
       "  <thead>\n",
       "    <tr style=\"text-align: right;\">\n",
       "      <th></th>\n",
       "      <th>GRMN</th>\n",
       "      <th>MSFT</th>\n",
       "    </tr>\n",
       "    <tr>\n",
       "      <th>Date</th>\n",
       "      <th></th>\n",
       "      <th></th>\n",
       "    </tr>\n",
       "  </thead>\n",
       "  <tbody>\n",
       "    <tr>\n",
       "      <th>2015-06-09</th>\n",
       "      <td>0.005348</td>\n",
       "      <td>-0.001767</td>\n",
       "    </tr>\n",
       "    <tr>\n",
       "      <th>2015-06-10</th>\n",
       "      <td>0.015582</td>\n",
       "      <td>0.021001</td>\n",
       "    </tr>\n",
       "    <tr>\n",
       "      <th>2015-06-11</th>\n",
       "      <td>-0.008790</td>\n",
       "      <td>-0.003718</td>\n",
       "    </tr>\n",
       "    <tr>\n",
       "      <th>2015-06-12</th>\n",
       "      <td>-0.016019</td>\n",
       "      <td>-0.010233</td>\n",
       "    </tr>\n",
       "    <tr>\n",
       "      <th>2015-06-15</th>\n",
       "      <td>-0.013245</td>\n",
       "      <td>-0.010846</td>\n",
       "    </tr>\n",
       "  </tbody>\n",
       "</table>\n",
       "</div>"
      ],
      "text/plain": [
       "                GRMN      MSFT\n",
       "Date                          \n",
       "2015-06-09  0.005348 -0.001767\n",
       "2015-06-10  0.015582  0.021001\n",
       "2015-06-11 -0.008790 -0.003718\n",
       "2015-06-12 -0.016019 -0.010233\n",
       "2015-06-15 -0.013245 -0.010846"
      ]
     },
     "metadata": {},
     "output_type": "display_data"
    }
   ],
   "source": [
    "# stock_returns = qs.utils.download_returns(ticker=portfolio_tickers, period=\"5y\").dropna()\n",
    "stock_quotes = load_and_filter_data('data/daily_stock_quotes.csv', portfolio_tickers, start_date, end_date)\n",
    "stock_returns = np.log(stock_quotes / stock_quotes.shift(1)).dropna()\n",
    "\n",
    "benchmark_quotes = load_and_filter_data('data/daily_benchmark_quotes.csv', benchmark, start_date, end_date)\n",
    "benchmark_returns = np.log(benchmark_quotes / benchmark_quotes.shift(1)).dropna()\n",
    "\n",
    "# Display summary statistics for all assets\n",
    "print(\"\\nSharpe Ratios for individual assets:\")\n",
    "sharpes = {col: qs.stats.sharpe(stock_returns[col]) for col in stock_returns.columns}\n",
    "for ticker, sharpe in sharpes.items():\n",
    "    print(f\"{ticker}: {sharpe:.4f}\")\n",
    "\n",
    "display(stock_returns.head())"
   ]
  },
  {
   "cell_type": "markdown",
   "id": "a40a588f",
   "metadata": {},
   "source": [
    "### Step 5: Plot Return Comparisons"
   ]
  },
  {
   "cell_type": "code",
   "execution_count": 9,
   "id": "89fe8da8",
   "metadata": {
    "execution": {
     "iopub.execute_input": "2025-05-29T14:22:12.629019Z",
     "iopub.status.busy": "2025-05-29T14:22:12.628840Z",
     "iopub.status.idle": "2025-05-29T14:22:12.716325Z",
     "shell.execute_reply": "2025-05-29T14:22:12.714827Z"
    }
   },
   "outputs": [
    {
     "name": "stdout",
     "output_type": "stream",
     "text": [
      "\n",
      "Portfolio Weights:\n",
      "GRMN: 50.00%\n",
      "MSFT: 50.00%\n",
      "\n",
      "Portfolio Performance Summary:\n",
      "Sharpe Ratio (Weighted Portfolio): 0.9030\n",
      "Sharpe Ratio (Equal-Weight): 0.9030\n"
     ]
    }
   ],
   "source": [
    "# Calculate portfolio returns using weights from Excel file\n",
    "portfolio_weights = portfolio_df.set_index('Ticker')['Weight'].to_dict()\n",
    "weighted_returns = pd.DataFrame()\n",
    "\n",
    "print(\"\\nPortfolio Weights:\")\n",
    "for ticker in portfolio_tickers:\n",
    "    weight = portfolio_weights.get(ticker, 0)\n",
    "    print(f\"{ticker}: {weight:.2%}\")\n",
    "    if ticker in stock_returns.columns:\n",
    "        weighted_returns[ticker] = stock_returns[ticker] * weight\n",
    "\n",
    "# Sum across all weighted returns to get the portfolio return\n",
    "portfolio_return = weighted_returns.sum(axis=1)\n",
    "\n",
    "# Create equal-weight portfolio for comparison\n",
    "equal_weight = 1/len([t for t in portfolio_tickers if t in stock_returns.columns])\n",
    "equal_weighted_returns = pd.DataFrame()\n",
    "\n",
    "for ticker in portfolio_tickers:\n",
    "    if ticker in stock_returns.columns:\n",
    "        equal_weighted_returns[ticker] = stock_returns[ticker] * equal_weight\n",
    "        \n",
    "equal_weight_return = equal_weighted_returns.sum(axis=1)\n",
    "\n",
    "print(\"\\nPortfolio Performance Summary:\")\n",
    "print(f\"Sharpe Ratio (Weighted Portfolio): {qs.stats.sharpe(portfolio_return):.4f}\")\n",
    "print(f\"Sharpe Ratio (Equal-Weight): {qs.stats.sharpe(equal_weight_return):.4f}\")\n",
    "\n",
    "plt.figure(figsize=(12, 6))\n",
    "(1 + portfolio_return).cumprod().plot(label='Weighted Portfolio')\n",
    "(1 + equal_weight_return).cumprod().plot(label='Equal Weight')\n",
    "(1 + benchmark_returns).cumprod().plot(label=benchmark)\n",
    "plt.legend()\n",
    "plt.title('Performance Comparison')\n",
    "plt.ylabel('Cumulative Return')\n",
    "plt.grid(True)\n",
    "plt.show()"
   ]
  },
  {
   "cell_type": "markdown",
   "id": "4c39a1ee",
   "metadata": {},
   "source": [
    "### Step 6: Generate Reports"
   ]
  },
  {
   "cell_type": "markdown",
   "id": "51e0abce",
   "metadata": {},
   "source": [
    "#### Portfolio (Weighted) vs Benchmark"
   ]
  },
  {
   "cell_type": "code",
   "execution_count": 10,
   "id": "7ff157dd",
   "metadata": {
    "execution": {
     "iopub.execute_input": "2025-05-29T14:22:12.721010Z",
     "iopub.status.busy": "2025-05-29T14:22:12.719522Z",
     "iopub.status.idle": "2025-05-29T14:22:19.507410Z",
     "shell.execute_reply": "2025-05-29T14:22:19.505840Z"
    }
   },
   "outputs": [
    {
     "name": "stderr",
     "output_type": "stream",
     "text": [
      "/home/renanmogo/mfin-algo-trading-team8/.venv/lib/python3.13/site-packages/numpy/core/fromnumeric.py:86: FutureWarning: The behavior of DataFrame.prod with axis=None is deprecated, in a future version this will reduce over both axes and return a scalar. To retain the old behavior, pass axis=0 (or do not pass axis)\n",
      "  return reduction(axis=axis, out=out, **passkwargs)\n",
      "/home/renanmogo/mfin-algo-trading-team8/.venv/lib/python3.13/site-packages/numpy/core/fromnumeric.py:86: FutureWarning: The behavior of DataFrame.prod with axis=None is deprecated, in a future version this will reduce over both axes and return a scalar. To retain the old behavior, pass axis=0 (or do not pass axis)\n",
      "  return reduction(axis=axis, out=out, **passkwargs)\n",
      "/home/renanmogo/mfin-algo-trading-team8/.venv/lib/python3.13/site-packages/numpy/core/fromnumeric.py:86: FutureWarning: The behavior of DataFrame.prod with axis=None is deprecated, in a future version this will reduce over both axes and return a scalar. To retain the old behavior, pass axis=0 (or do not pass axis)\n",
      "  return reduction(axis=axis, out=out, **passkwargs)\n",
      "/home/renanmogo/mfin-algo-trading-team8/.venv/lib/python3.13/site-packages/quantstats/stats.py:510: FutureWarning: 'M' is deprecated and will be removed in a future version, please use 'ME' instead.\n",
      "  returns = _utils._prepare_returns(returns, rf).resample(resolution).sum()\n",
      "/home/renanmogo/mfin-algo-trading-team8/.venv/lib/python3.13/site-packages/quantstats/_plotting/wrappers.py:555: FutureWarning: 'A' is deprecated and will be removed in a future version, please use 'YE' instead.\n",
      "  .resample(\"A\")\n",
      "/home/renanmogo/mfin-algo-trading-team8/.venv/lib/python3.13/site-packages/quantstats/_plotting/wrappers.py:557: FutureWarning: 'A' is deprecated and will be removed in a future version, please use 'YE' instead.\n",
      "  .resample(\"A\")\n",
      "/home/renanmogo/mfin-algo-trading-team8/.venv/lib/python3.13/site-packages/quantstats/_plotting/wrappers.py:565: FutureWarning: 'A' is deprecated and will be removed in a future version, please use 'YE' instead.\n",
      "  returns = returns.resample(\"A\").apply(_stats.comp)\n",
      "/home/renanmogo/mfin-algo-trading-team8/.venv/lib/python3.13/site-packages/quantstats/_plotting/wrappers.py:568: FutureWarning: 'A' is deprecated and will be removed in a future version, please use 'YE' instead.\n",
      "  returns = returns.resample(\"A\").last()\n",
      "/home/renanmogo/mfin-algo-trading-team8/.venv/lib/python3.13/site-packages/quantstats/_plotting/core.py:433: FutureWarning: 'M' is deprecated and will be removed in a future version, please use 'ME' instead.\n",
      "  .resample(resample)\n",
      "/home/renanmogo/mfin-algo-trading-team8/.venv/lib/python3.13/site-packages/quantstats/_plotting/core.py:435: FutureWarning: 'M' is deprecated and will be removed in a future version, please use 'ME' instead.\n",
      "  .resample(resample)\n",
      "/home/renanmogo/mfin-algo-trading-team8/.venv/lib/python3.13/site-packages/quantstats/_plotting/core.py:440: FutureWarning: 'M' is deprecated and will be removed in a future version, please use 'ME' instead.\n",
      "  returns.fillna(0).resample(resample).apply(apply_fnc).resample(resample).last()\n",
      "/home/renanmogo/mfin-algo-trading-team8/.venv/lib/python3.13/site-packages/quantstats/_plotting/core.py:1018: FutureWarning: 'M' is deprecated and will be removed in a future version, please use 'ME' instead.\n",
      "  port[\"Monthly\"] = port[\"Daily\"].resample(\"M\").apply(apply_fnc)\n",
      "/home/renanmogo/mfin-algo-trading-team8/.venv/lib/python3.13/site-packages/quantstats/_plotting/core.py:1021: FutureWarning: 'Q' is deprecated and will be removed in a future version, please use 'QE' instead.\n",
      "  port[\"Quarterly\"] = port[\"Daily\"].resample(\"Q\").apply(apply_fnc)\n",
      "/home/renanmogo/mfin-algo-trading-team8/.venv/lib/python3.13/site-packages/quantstats/_plotting/core.py:1024: FutureWarning: 'A' is deprecated and will be removed in a future version, please use 'YE' instead.\n",
      "  port[\"Yearly\"] = port[\"Daily\"].resample(\"A\").apply(apply_fnc)\n"
     ]
    },
    {
     "name": "stdout",
     "output_type": "stream",
     "text": [
      "Added download button and removed QuantStats attribution from portfolios/portfolio_vs_benchmark_short_term-2025-06-03.html\n"
     ]
    },
    {
     "data": {
      "text/html": [
       "<h4>Performance Metrics</h4>"
      ],
      "text/plain": [
       "<IPython.core.display.HTML object>"
      ]
     },
     "metadata": {},
     "output_type": "display_data"
    },
    {
     "name": "stderr",
     "output_type": "stream",
     "text": [
      "/home/renanmogo/mfin-algo-trading-team8/.venv/lib/python3.13/site-packages/numpy/core/fromnumeric.py:86: FutureWarning: The behavior of DataFrame.prod with axis=None is deprecated, in a future version this will reduce over both axes and return a scalar. To retain the old behavior, pass axis=0 (or do not pass axis)\n",
      "  return reduction(axis=axis, out=out, **passkwargs)\n",
      "/home/renanmogo/mfin-algo-trading-team8/.venv/lib/python3.13/site-packages/numpy/core/fromnumeric.py:86: FutureWarning: The behavior of DataFrame.prod with axis=None is deprecated, in a future version this will reduce over both axes and return a scalar. To retain the old behavior, pass axis=0 (or do not pass axis)\n",
      "  return reduction(axis=axis, out=out, **passkwargs)\n",
      "/home/renanmogo/mfin-algo-trading-team8/.venv/lib/python3.13/site-packages/numpy/core/fromnumeric.py:86: FutureWarning: The behavior of DataFrame.prod with axis=None is deprecated, in a future version this will reduce over both axes and return a scalar. To retain the old behavior, pass axis=0 (or do not pass axis)\n",
      "  return reduction(axis=axis, out=out, **passkwargs)\n",
      "/home/renanmogo/mfin-algo-trading-team8/.venv/lib/python3.13/site-packages/quantstats/stats.py:510: FutureWarning: 'M' is deprecated and will be removed in a future version, please use 'ME' instead.\n",
      "  returns = _utils._prepare_returns(returns, rf).resample(resolution).sum()\n"
     ]
    },
    {
     "name": "stdout",
     "output_type": "stream",
     "text": [
      "                           DSI         Strategy\n",
      "-------------------------  ----------  ----------\n",
      "Start Period               2015-06-09  2015-06-09\n",
      "End Period                 2025-05-30  2025-05-30\n",
      "Risk-Free Rate             4.23%       4.23%\n",
      "Time in Market             99.0%       100.0%\n",
      "\n",
      "Cumulative Return          175.11%     534.14%\n",
      "CAGR﹪                     0.03%       0.05%\n",
      "\n",
      "Sharpe                     0.41        0.73\n",
      "Prob. Sharpe Ratio         44.7%       76.74%\n",
      "Smart Sharpe               0.37        0.65\n",
      "Sortino                    0.57        1.06\n",
      "Smart Sortino              0.5         0.94\n",
      "Sortino/√2                 0.4         0.75\n",
      "Smart Sortino/√2           0.36        0.67\n",
      "Omega                      1.14        1.14\n",
      "\n",
      "Max Drawdown               -36.25%     -43.93%\n",
      "Longest DD Days            769         914\n",
      "Volatility (ann.)          19.07%      23.63%\n",
      "R^2                        0.71        0.71\n",
      "Information Ratio          0.05        0.05\n",
      "Calmar                     0.2         0.31\n",
      "Skew                       -0.56       0.09\n",
      "Kurtosis                   13.84       8.56\n",
      "\n",
      "Expected Daily %           0.04%       0.07%\n",
      "Expected Monthly %         0.85%       1.55%\n",
      "Expected Yearly %          9.64%       18.28%\n",
      "Kelly Criterion            4.11%       6.53%\n",
      "Risk of Ruin               0.0%        0.0%\n",
      "Daily Value-at-Risk        -1.93%      -2.36%\n",
      "Expected Shortfall (cVaR)  -1.93%      -2.36%\n",
      "\n",
      "Max Consecutive Wins       10          11\n",
      "Max Consecutive Losses     8           8\n",
      "Gain/Pain Ratio            0.13        0.18\n",
      "Gain/Pain (1M)             0.72        1.27\n",
      "\n",
      "Payoff Ratio               0.91        0.96\n",
      "Profit Factor              1.13        1.18\n",
      "Common Sense Ratio         1.06        1.15\n",
      "CPC Index                  0.56        0.62\n",
      "Tail Ratio                 0.94        0.98\n",
      "Outlier Win Ratio          4.56        3.4\n",
      "Outlier Loss Ratio         4.49        3.61\n",
      "\n",
      "MTD                        8.73%       12.34%\n",
      "3M                         2.1%        1.49%\n",
      "6M                         -4.01%      0.06%\n",
      "YTD                        -0.66%      1.75%\n",
      "1Y                         8.64%       13.25%\n",
      "3Y (ann.)                  0.04%       0.06%\n",
      "5Y (ann.)                  0.03%       0.04%\n",
      "10Y (ann.)                 0.03%       0.05%\n",
      "All-time (ann.)            0.03%       0.05%\n",
      "\n",
      "Best Day                   9.56%       10.52%\n",
      "Worst Day                  -12.86%     -12.35%\n",
      "Best Month                 12.14%      18.85%\n",
      "Worst Month                -15.68%     -12.28%\n",
      "Best Year                  30.07%      55.25%\n",
      "Worst Year                 -24.17%     -32.18%\n",
      "\n",
      "Avg. Drawdown              -2.1%       -2.61%\n",
      "Avg. Drawdown Days         23          22\n",
      "Recovery Factor            4.83        12.16\n",
      "Ulcer Index                0.09        0.14\n",
      "Serenity Index             1.21        2.16\n",
      "\n",
      "Avg. Up Month              3.91%       5.14%\n",
      "Avg. Down Month            -4.69%      -4.98%\n",
      "Win Days %                 54.26%      54.14%\n",
      "Win Month %                65.0%       65.83%\n",
      "Win Quarter %              75.61%      73.17%\n",
      "Win Year %                 63.64%      90.91%\n",
      "\n",
      "Beta                       -           1.04\n",
      "Alpha                      -           0.09\n",
      "Correlation                -           84.06%\n",
      "Treynor Ratio              -           508.65%\n"
     ]
    },
    {
     "data": {
      "text/plain": [
       "None"
      ]
     },
     "metadata": {},
     "output_type": "display_data"
    },
    {
     "data": {
      "text/html": [
       "<h4 style=\"margin-bottom:20px\">Worst 5 Drawdowns</h4>"
      ],
      "text/plain": [
       "<IPython.core.display.HTML object>"
      ]
     },
     "metadata": {},
     "output_type": "display_data"
    },
    {
     "data": {
      "application/vnd.microsoft.datawrangler.viewer.v0+json": {
       "columns": [
        {
         "name": "index",
         "rawType": "int64",
         "type": "integer"
        },
        {
         "name": "Start",
         "rawType": "object",
         "type": "string"
        },
        {
         "name": "Valley",
         "rawType": "object",
         "type": "string"
        },
        {
         "name": "End",
         "rawType": "object",
         "type": "string"
        },
        {
         "name": "Days",
         "rawType": "int64",
         "type": "integer"
        },
        {
         "name": "Max Drawdown",
         "rawType": "float64",
         "type": "float"
        },
        {
         "name": "99% Max Drawdown",
         "rawType": "float64",
         "type": "float"
        }
       ],
       "ref": "c89f7275-a0a8-4576-be66-a0bc47944c9d",
       "rows": [
        [
         "1",
         "2021-08-31",
         "2022-10-11",
         "2024-03-01",
         "914",
         "-43.92969346227156",
         "-42.245075127882814"
        ],
        [
         "2",
         "2020-02-20",
         "2020-03-23",
         "2020-07-21",
         "153",
         "-35.25288757179792",
         "-31.548763855342145"
        ],
        [
         "3",
         "2025-02-20",
         "2025-04-08",
         "2025-05-30",
         "100",
         "-22.153526807021684",
         "-20.466832349146515"
        ],
        [
         "4",
         "2015-06-19",
         "2015-08-25",
         "2016-03-16",
         "272",
         "-17.4607303456663",
         "-16.098892595124582"
        ],
        [
         "5",
         "2018-10-02",
         "2018-12-24",
         "2019-02-19",
         "141",
         "-16.238015509849458",
         "-14.346277011907071"
        ]
       ],
       "shape": {
        "columns": 6,
        "rows": 5
       }
      },
      "text/html": [
       "<div>\n",
       "<style scoped>\n",
       "    .dataframe tbody tr th:only-of-type {\n",
       "        vertical-align: middle;\n",
       "    }\n",
       "\n",
       "    .dataframe tbody tr th {\n",
       "        vertical-align: top;\n",
       "    }\n",
       "\n",
       "    .dataframe thead th {\n",
       "        text-align: right;\n",
       "    }\n",
       "</style>\n",
       "<table border=\"1\" class=\"dataframe\">\n",
       "  <thead>\n",
       "    <tr style=\"text-align: right;\">\n",
       "      <th></th>\n",
       "      <th>Start</th>\n",
       "      <th>Valley</th>\n",
       "      <th>End</th>\n",
       "      <th>Days</th>\n",
       "      <th>Max Drawdown</th>\n",
       "      <th>99% Max Drawdown</th>\n",
       "    </tr>\n",
       "  </thead>\n",
       "  <tbody>\n",
       "    <tr>\n",
       "      <th>1</th>\n",
       "      <td>2021-08-31</td>\n",
       "      <td>2022-10-11</td>\n",
       "      <td>2024-03-01</td>\n",
       "      <td>914</td>\n",
       "      <td>-43.929693</td>\n",
       "      <td>-42.245075</td>\n",
       "    </tr>\n",
       "    <tr>\n",
       "      <th>2</th>\n",
       "      <td>2020-02-20</td>\n",
       "      <td>2020-03-23</td>\n",
       "      <td>2020-07-21</td>\n",
       "      <td>153</td>\n",
       "      <td>-35.252888</td>\n",
       "      <td>-31.548764</td>\n",
       "    </tr>\n",
       "    <tr>\n",
       "      <th>3</th>\n",
       "      <td>2025-02-20</td>\n",
       "      <td>2025-04-08</td>\n",
       "      <td>2025-05-30</td>\n",
       "      <td>100</td>\n",
       "      <td>-22.153527</td>\n",
       "      <td>-20.466832</td>\n",
       "    </tr>\n",
       "    <tr>\n",
       "      <th>4</th>\n",
       "      <td>2015-06-19</td>\n",
       "      <td>2015-08-25</td>\n",
       "      <td>2016-03-16</td>\n",
       "      <td>272</td>\n",
       "      <td>-17.460730</td>\n",
       "      <td>-16.098893</td>\n",
       "    </tr>\n",
       "    <tr>\n",
       "      <th>5</th>\n",
       "      <td>2018-10-02</td>\n",
       "      <td>2018-12-24</td>\n",
       "      <td>2019-02-19</td>\n",
       "      <td>141</td>\n",
       "      <td>-16.238016</td>\n",
       "      <td>-14.346277</td>\n",
       "    </tr>\n",
       "  </tbody>\n",
       "</table>\n",
       "</div>"
      ],
      "text/plain": [
       "        Start      Valley         End  Days  Max Drawdown  99% Max Drawdown\n",
       "1  2021-08-31  2022-10-11  2024-03-01   914    -43.929693        -42.245075\n",
       "2  2020-02-20  2020-03-23  2020-07-21   153    -35.252888        -31.548764\n",
       "3  2025-02-20  2025-04-08  2025-05-30   100    -22.153527        -20.466832\n",
       "4  2015-06-19  2015-08-25  2016-03-16   272    -17.460730        -16.098893\n",
       "5  2018-10-02  2018-12-24  2019-02-19   141    -16.238016        -14.346277"
      ]
     },
     "metadata": {},
     "output_type": "display_data"
    },
    {
     "data": {
      "text/html": [
       "<h4>Strategy Visualization</h4>"
      ],
      "text/plain": [
       "<IPython.core.display.HTML object>"
      ]
     },
     "metadata": {},
     "output_type": "display_data"
    },
    {
     "name": "stderr",
     "output_type": "stream",
     "text": [
      "/home/renanmogo/mfin-algo-trading-team8/.venv/lib/python3.13/site-packages/quantstats/_plotting/wrappers.py:555: FutureWarning: 'A' is deprecated and will be removed in a future version, please use 'YE' instead.\n",
      "  .resample(\"A\")\n",
      "/home/renanmogo/mfin-algo-trading-team8/.venv/lib/python3.13/site-packages/quantstats/_plotting/wrappers.py:557: FutureWarning: 'A' is deprecated and will be removed in a future version, please use 'YE' instead.\n",
      "  .resample(\"A\")\n",
      "/home/renanmogo/mfin-algo-trading-team8/.venv/lib/python3.13/site-packages/quantstats/_plotting/wrappers.py:565: FutureWarning: 'A' is deprecated and will be removed in a future version, please use 'YE' instead.\n",
      "  returns = returns.resample(\"A\").apply(_stats.comp)\n",
      "/home/renanmogo/mfin-algo-trading-team8/.venv/lib/python3.13/site-packages/quantstats/_plotting/wrappers.py:568: FutureWarning: 'A' is deprecated and will be removed in a future version, please use 'YE' instead.\n",
      "  returns = returns.resample(\"A\").last()\n",
      "/home/renanmogo/mfin-algo-trading-team8/.venv/lib/python3.13/site-packages/quantstats/_plotting/core.py:433: FutureWarning: 'M' is deprecated and will be removed in a future version, please use 'ME' instead.\n",
      "  .resample(resample)\n",
      "/home/renanmogo/mfin-algo-trading-team8/.venv/lib/python3.13/site-packages/quantstats/_plotting/core.py:435: FutureWarning: 'M' is deprecated and will be removed in a future version, please use 'ME' instead.\n",
      "  .resample(resample)\n",
      "/home/renanmogo/mfin-algo-trading-team8/.venv/lib/python3.13/site-packages/quantstats/_plotting/core.py:440: FutureWarning: 'M' is deprecated and will be removed in a future version, please use 'ME' instead.\n",
      "  returns.fillna(0).resample(resample).apply(apply_fnc).resample(resample).last()\n",
      "/home/renanmogo/mfin-algo-trading-team8/.venv/lib/python3.13/site-packages/quantstats/_plotting/core.py:1018: FutureWarning: 'M' is deprecated and will be removed in a future version, please use 'ME' instead.\n",
      "  port[\"Monthly\"] = port[\"Daily\"].resample(\"M\").apply(apply_fnc)\n",
      "/home/renanmogo/mfin-algo-trading-team8/.venv/lib/python3.13/site-packages/quantstats/_plotting/core.py:1021: FutureWarning: 'Q' is deprecated and will be removed in a future version, please use 'QE' instead.\n",
      "  port[\"Quarterly\"] = port[\"Daily\"].resample(\"Q\").apply(apply_fnc)\n",
      "/home/renanmogo/mfin-algo-trading-team8/.venv/lib/python3.13/site-packages/quantstats/_plotting/core.py:1024: FutureWarning: 'A' is deprecated and will be removed in a future version, please use 'YE' instead.\n",
      "  port[\"Yearly\"] = port[\"Daily\"].resample(\"A\").apply(apply_fnc)\n"
     ]
    }
   ],
   "source": [
    "# portfolio_return = portfolio_return.resample('D').sum()  # Example of valid aggregation\n",
    "portfolio_return.name = \"Weighted Portfolio\"\n",
    "\n",
    "# Generate Report\n",
    "qs.reports.html(\n",
    "    portfolio_return,\n",
    "    benchmark_returns,\n",
    "    rf=risk_free_rate,\n",
    "    figsize=(8, 5),\n",
    "    # output=f'portfolio_vs_{benchmark}.html',\n",
    "    output=f'portfolios/portfolio_vs_benchmark_short_term-{datetime.date(end_date)}.html',\n",
    "    title=f'Portfolio vs {benchmark} (Benchmark)',\n",
    "    benchmark_title=f'{benchmark}',\n",
    "    download_filename=f'portfolio_vs_{benchmark}.html'\n",
    ")\n",
    "\n",
    "qs.reports.full(\n",
    "    portfolio_return, \n",
    "    benchmark_returns,\n",
    "    rf=risk_free_rate, \n",
    "    figsize=(8, 5), \n",
    "    title=f'Portfolio vs {benchmark}',\n",
    "    benchmark_title=f'{benchmark}') "
   ]
  },
  {
   "cell_type": "markdown",
   "id": "fc233166",
   "metadata": {},
   "source": [
    "#### Portfolio (Weighted) vs Portolio (Equally-Weighted)"
   ]
  },
  {
   "cell_type": "code",
   "execution_count": 11,
   "id": "ba5f845c",
   "metadata": {
    "execution": {
     "iopub.execute_input": "2025-05-29T14:22:19.511793Z",
     "iopub.status.busy": "2025-05-29T14:22:19.511416Z",
     "iopub.status.idle": "2025-05-29T14:22:25.407510Z",
     "shell.execute_reply": "2025-05-29T14:22:25.406356Z"
    }
   },
   "outputs": [],
   "source": [
    "# # Ensure equal_weight_return and portfolio_return are properly aggregated if resampled\n",
    "# equal_weight_return = equal_weight_return.resample('D').sum() if equal_weight_return.index.freq is None else equal_weight_return\n",
    "# portfolio_return = portfolio_return.resample('D').sum() if portfolio_return.index.freq is None else portfolio_return\n",
    "\n",
    "# # Set the name for the equal weight portfolio\n",
    "# equal_weight_return.name = \"Equal Weight Portfolio\"\n",
    "\n",
    "# # Generate Report\n",
    "# qs.reports.html(\n",
    "#     portfolio_return,\n",
    "#     equal_weight_return,\n",
    "#     rf=risk_free_rate,\n",
    "#     figsize=(8, 5),\n",
    "#     output=f'portfolio_vs_equal_weight-{datetime.date(end_date)}.html',\n",
    "#     title='Portfolio (Weighted) vs Portolio (Equally-Weighted)',\n",
    "#     benchmark_title=\"Equal Weight Portfolio\",\n",
    "#     download_filename=\"portfolio_vs_equal_weight.html\" \n",
    "# )\n",
    "\n",
    "# qs.reports.full(\n",
    "#     portfolio_return, \n",
    "#     equal_weight_return,\n",
    "#     rf=risk_free_rate, \n",
    "#     figsize=(8, 5), \n",
    "#     title='Portfolio vs Equal Weight',\n",
    "#     benchmark_title=\"Equal Weight Portfolio\",\n",
    "#     ) "
   ]
  }
 ],
 "metadata": {
  "kernelspec": {
   "display_name": ".venv",
   "language": "python",
   "name": "python3"
  },
  "language_info": {
   "codemirror_mode": {
    "name": "ipython",
    "version": 3
   },
   "file_extension": ".py",
   "mimetype": "text/x-python",
   "name": "python",
   "nbconvert_exporter": "python",
   "pygments_lexer": "ipython3",
   "version": "3.13.3"
  }
 },
 "nbformat": 4,
 "nbformat_minor": 5
}
