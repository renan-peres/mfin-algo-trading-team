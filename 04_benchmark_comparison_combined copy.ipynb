{
 "cells": [
  {
   "cell_type": "markdown",
   "metadata": {},
   "source": [
    "# Portfolio Performance vs. Benchmark Analysis\n",
    "\n",
    "This notebook performs comprehensive backtesting and performance analysis of algorithmic trading portfolios against benchmarks.\n",
    "- **Automated Portfolio Detection**: Finds latest portfolio configuration from Excel files\n",
    "- **Dual Strategy Framework**: Long-term (quarterly) and short-term (weekly) rebalancing strategies\n",
    "- **Robust Backtesting Engine**: Uses `bt` library with risk-free rate integration and proper rebalancing frequencies\n",
    "- **Train-Test Validation**: 80/20 split ensuring unbiased out-of-sample performance evaluation\n",
    "- **Professional Reporting**: QuantStats HTML reports with comprehensive risk-adjusted metrics\n",
    "- **Benchmark Analysis**: Systematic comparison against market indices with statistical significance testing"
   ]
  },
  {
   "cell_type": "markdown",
   "metadata": {},
   "source": [
    "## **Environment Setup**\n",
    "\n",
    "Import essential libraries and configure the analysis environment. The setup includes:\n",
    "- **Data Processing**: pandas, numpy for quantitative analysis\n",
    "- **Backtesting**: bt library for systematic strategy testing\n",
    "- **Performance Analytics**: QuantStats for professional risk-return analysis\n",
    "- **Utilities**: Custom modules for data loading and filtering"
   ]
  },
  {
   "cell_type": "code",
   "execution_count": 1,
   "metadata": {},
   "outputs": [
    {
     "name": "stdout",
     "output_type": "stream",
     "text": [
      "============================================================\n",
      "               QuantStats Compatibility Tool                \n",
      "============================================================\n",
      "\n",
      "Part 1: Directly patching QuantStats package files\n",
      "------------------------------------------------------------\n",
      "Found QuantStats utils file at: /home/renanmogo/mfin-algo-trading-team8/.venv/lib/python3.13/site-packages/quantstats/__init__.py\n",
      "Successfully fixed indentation in QuantStats __init__.py file\n",
      "✓ QuantStats utils file patched successfully\n",
      "\n",
      "Part 2: Fixing resampling issues\n",
      "------------------------------------------------------------\n",
      "Found 1 potential QuantStats installation(s)\n",
      "Checking /home/renanmogo/mfin-algo-trading-team8/.venv/lib/python3.13/site-packages/quantstats/_plotting/core.py\n",
      "✓ Found 'plot_timeseries' function in /home/renanmogo/mfin-algo-trading-team8/.venv/lib/python3.13/site-packages/quantstats/_plotting/core.py\n",
      "✓ No 'sum(axis=0)' calls found - may already be fixed\n",
      "Examining /home/renanmogo/mfin-algo-trading-team8/.venv/lib/python3.13/site-packages/quantstats/_plotting/core.py...\n",
      "✓ Found 'plot_timeseries' function in /home/renanmogo/mfin-algo-trading-team8/.venv/lib/python3.13/site-packages/quantstats/_plotting/core.py\n",
      "✓ No 'sum(axis=0)' calls found - may already be fixed\n",
      "No applicable fixes found for /home/renanmogo/mfin-algo-trading-team8/.venv/lib/python3.13/site-packages/quantstats/_plotting/core.py\n",
      "⚠️ Resampling fix not applied or not needed\n",
      "\n",
      "Part 3: Importing and patching QuantStats\n",
      "------------------------------------------------------------\n",
      "✓ Successfully imported quantstats\n",
      "Successfully patched QuantStats HTML report functionality\n",
      "✓ HTML report functionality enhanced with download button\n"
     ]
    }
   ],
   "source": [
    "# DataFrame & System Libraries\n",
    "import pandas as pd\n",
    "import numpy as np\n",
    "from datetime import datetime, timedelta\n",
    "from pandas.tseries.offsets import BDay\n",
    "import os, glob, re, warnings\n",
    "from py.utils import load_and_filter_data\n",
    "\n",
    "# Import QuantStats and BT libraries\n",
    "import bt\n",
    "from py.quantstats_fix import *\n",
    "qs.extend_pandas()\n",
    "\n",
    "# Suppress warnings and configure logging\n",
    "warnings.filterwarnings(\"ignore\")\n",
    "logging.getLogger('matplotlib.font_manager').disabled = True"
   ]
  },
  {
   "cell_type": "markdown",
   "metadata": {},
   "source": [
    "## **Data Loading and Configuration**\n",
    "\n",
    "Automated data pipeline that:\n",
    "- **Auto-detects** the most recent portfolio configuration file\n",
    "- **Extracts** portfolio weights, benchmark indices, and risk-free rate\n",
    "- **Loads** 10-year historical price data for comprehensive analysis\n",
    "- **Validates** data integrity and alignment across all instruments"
   ]
  },
  {
   "cell_type": "code",
   "execution_count": 2,
   "metadata": {},
   "outputs": [
    {
     "name": "stdout",
     "output_type": "stream",
     "text": [
      "Analysis: 2015-06-09 to 2025-06-06 | File: portfolios/portfolio-2025-06-06.xlsx\n",
      "Benchmarks: YYY (Long), DSI (Short) | Risk-free: 0.0424\n"
     ]
    }
   ],
   "source": [
    "# Auto-detect latest portfolio and set analysis period\n",
    "initial_end_date = (datetime.today() - BDay(1)).to_pydatetime()\n",
    "expected_file = f'portfolios/portfolio-{datetime.date(initial_end_date)}.xlsx'\n",
    "\n",
    "if os.path.exists(expected_file):\n",
    "    end_date, output_file = initial_end_date, expected_file\n",
    "else:\n",
    "    portfolio_files = glob.glob('portfolios/portfolio-*.xlsx')\n",
    "    output_file = max(portfolio_files, key=os.path.getmtime)\n",
    "    date_match = re.search(r'portfolio-(\\d{4}-\\d{2}-\\d{2})\\.xlsx', output_file)\n",
    "    end_date = pd.to_datetime(date_match.group(1)).to_pydatetime()\n",
    "\n",
    "start_date = end_date - timedelta(days=10*365)\n",
    "\n",
    "# Load configurations and extract parameters\n",
    "sheets = pd.read_excel(output_file, sheet_name=None)\n",
    "portfolio_long_df, portfolio_short_df = sheets[\"long_term\"], sheets[\"short_term\"]\n",
    "benchmark_long, benchmark_short = sheets[\"benchmark_long_term\"]['Benchmark'].values[0], sheets[\"benchmark_short_term\"]['Benchmark'].values[0]\n",
    "risk_free_rate = sheets[\"daily_quotes\"].set_index(sheets[\"daily_quotes\"].columns[0])['^IRX'].iloc[-1] / 100\n",
    "\n",
    "# Process weights and extract tickers\n",
    "for df in [portfolio_long_df, portfolio_short_df]:\n",
    "    df['Weight'] = df['Weight'].replace('%', '', regex=True).astype(float)\n",
    "\n",
    "weights_long = portfolio_long_df.set_index('Ticker')['Weight'].to_dict()\n",
    "weights_short = portfolio_short_df.set_index('Ticker')['Weight'].to_dict()\n",
    "portfolio_long_tickers, portfolio_short_tickers = list(weights_long.keys()), list(weights_short.keys())\n",
    "\n",
    "print(f\"Analysis: {start_date.strftime('%Y-%m-%d')} to {end_date.strftime('%Y-%m-%d')} | File: {output_file}\")\n",
    "print(f\"Benchmarks: {benchmark_long} (Long), {benchmark_short} (Short) | Risk-free: {risk_free_rate:.4f}\")"
   ]
  },
  {
   "cell_type": "code",
   "execution_count": 3,
   "metadata": {},
   "outputs": [
    {
     "name": "stdout",
     "output_type": "stream",
     "text": [
      "Found 5 of 5 tickers in data/daily_stock_quotes.csv\n",
      "Missing tickers: []\n",
      "Found 2 of 2 tickers in data/daily_stock_quotes.csv\n",
      "Missing tickers: []\n",
      "Found 1 of 1 tickers in data/daily_benchmark_quotes.csv\n",
      "Missing tickers: []\n",
      "Found 1 of 1 tickers in data/daily_benchmark_quotes.csv\n",
      "Missing tickers: []\n",
      "Data loaded: 2513 observations\n"
     ]
    }
   ],
   "source": [
    "# Load price data and calculate log returns\n",
    "data_files = {\n",
    "    'stock_long': (portfolio_long_tickers, 'data/daily_stock_quotes.csv'),\n",
    "    'stock_short': (portfolio_short_tickers, 'data/daily_stock_quotes.csv'),\n",
    "    'benchmark_long': (benchmark_long, 'data/daily_benchmark_quotes.csv'),\n",
    "    'benchmark_short': (benchmark_short, 'data/daily_benchmark_quotes.csv')\n",
    "}\n",
    "\n",
    "quotes, returns = {}, {}\n",
    "for key, (tickers, file_path) in data_files.items():\n",
    "    quotes[key] = load_and_filter_data(file_path, tickers, start_date, end_date)\n",
    "    returns[key] = np.log(quotes[key] / quotes[key].shift(1)).dropna()\n",
    "\n",
    "print(f\"Data loaded: {len(quotes['stock_long'])} observations\")"
   ]
  },
  {
   "cell_type": "markdown",
   "metadata": {},
   "source": [
    "## **Train-Test Split and Portfolio Construction**\n",
    "\n",
    "**Data Partitioning Strategy:**\n",
    "- **Training Set (80%)**: Used for strategy development and parameter estimation\n",
    "- **Test Set (20%)**: Provides unbiased out-of-sample performance validation\n",
    "- **Portfolio Returns**: Calculated using normalized weights to ensure proper allocation\n",
    "- **Temporal Alignment**: Ensures consistent time series alignment across all instruments"
   ]
  },
  {
   "cell_type": "code",
   "execution_count": 4,
   "metadata": {},
   "outputs": [
    {
     "name": "stdout",
     "output_type": "stream",
     "text": [
      "Train-Test Split: 2009/504 (Long), 2009/504 (Short)\n",
      "Test Period: 2023-06-01 to 2025-06-04\n"
     ]
    }
   ],
   "source": [
    "def calculate_portfolio_return(returns_data, weights):\n",
    "    \"\"\"Calculate normalized weighted portfolio returns\"\"\"\n",
    "    filtered_weights = {k: v for k, v in weights.items() if k in returns_data.columns}\n",
    "    total_weight = sum(filtered_weights.values())\n",
    "    normalized_weights = {k: v/total_weight for k, v in filtered_weights.items()}\n",
    "    return returns_data[list(normalized_weights.keys())].multiply(pd.Series(normalized_weights), axis=1).sum(axis=1)\n",
    "\n",
    "# Calculate portfolio returns and perform train-test split\n",
    "portfolio_long_return = calculate_portfolio_return(returns['stock_long'], weights_long)\n",
    "portfolio_short_return = calculate_portfolio_return(returns['stock_short'], weights_short)\n",
    "\n",
    "split_idx_long, split_idx_short = int(len(returns['stock_long']) * 0.8), int(len(returns['stock_short']) * 0.8)\n",
    "test_set_long, test_set_short = quotes['stock_long'].iloc[split_idx_long:], quotes['stock_short'].iloc[split_idx_short:]\n",
    "\n",
    "print(f\"Train-Test Split: {split_idx_long}/{len(test_set_long)} (Long), {split_idx_short}/{len(test_set_short)} (Short)\")\n",
    "print(f\"Test Period: {test_set_long.index[0].strftime('%Y-%m-%d')} to {test_set_long.index[-1].strftime('%Y-%m-%d')}\")"
   ]
  },
  {
   "cell_type": "markdown",
   "metadata": {},
   "source": [
    "## **Backtesting Framework - `bt`**\n",
    "\n",
    "**Strategy Implementation using `bt` Library:**\n",
    "- **Long-term Strategy**: Quarterly rebalancing (66 trading days) to minimize transaction costs and capture secular trends\n",
    "- **Short-term Strategy**: Weekly rebalancing for tactical asset allocation and market timing\n",
    "- **Risk Integration**: Incorporates risk-free rate for accurate risk-adjusted performance metrics\n",
    "- **Benchmark Comparison**: Systematic evaluation against market indices with identical rebalancing frequencies\n",
    "- **Transaction Cost Consideration**: Rebalancing frequencies optimized for strategy characteristics"
   ]
  },
  {
   "cell_type": "code",
   "execution_count": 5,
   "metadata": {},
   "outputs": [
    {
     "name": "stdout",
     "output_type": "stream",
     "text": [
      "Executing Backtests...\n"
     ]
    },
    {
     "name": "stderr",
     "output_type": "stream",
     "text": [
      "100%|██████████| 2/2 [00:00<00:00,  4.16it/s]\n",
      "100%|██████████| 2/2 [00:00<00:00,  4.65it/s]\n"
     ]
    },
    {
     "name": "stdout",
     "output_type": "stream",
     "text": [
      "\n",
      "Long-term Backtest Results:\n",
      "Stat                 Long-term Portfolio    YYY\n",
      "-------------------  ---------------------  ----------\n",
      "Start                2023-05-31             2023-05-31\n",
      "End                  2025-06-04             2025-06-04\n",
      "Risk-free rate       4.24%                  4.24%\n",
      "\n",
      "Total Return         30.67%                 21.14%\n",
      "Daily Sharpe         0.68                   0.55\n",
      "Daily Sortino        1.11                   0.80\n",
      "CAGR                 14.22%                 10.00%\n",
      "Max Drawdown         -13.51%                -14.44%\n",
      "Calmar Ratio         1.05                   0.69\n",
      "\n",
      "MTD                  0.90%                  0.70%\n",
      "3m                   -2.21%                 0.35%\n",
      "6m                   -5.37%                 -1.79%\n",
      "YTD                  2.25%                  3.13%\n",
      "1Y                   3.73%                  6.77%\n",
      "3Y (ann.)            14.22%                 10.00%\n",
      "5Y (ann.)            -                      -\n",
      "10Y (ann.)           -                      -\n",
      "Since Incep. (ann.)  14.22%                 10.00%\n",
      "\n",
      "Daily Sharpe         0.68                   0.55\n",
      "Daily Sortino        1.11                   0.80\n",
      "Daily Mean (ann.)    14.51%                 10.16%\n",
      "Daily Vol (ann.)     15.21%                 10.83%\n",
      "Daily Skew           0.23                   -1.37\n",
      "Daily Kurt           13.04                  22.61\n",
      "Best Day             7.78%                  4.84%\n",
      "Worst Day            -6.66%                 -6.40%\n",
      "\n",
      "Monthly Sharpe       0.73                   0.52\n",
      "Monthly Sortino      1.46                   0.99\n",
      "Monthly Mean (ann.)  13.12%                 9.36%\n",
      "Monthly Vol (ann.)   12.20%                 10.01%\n",
      "Monthly Skew         0.12                   0.31\n",
      "Monthly Kurt         0.87                   0.74\n",
      "Best Month           9.01%                  8.53%\n",
      "Worst Month          -7.66%                 -4.53%\n",
      "\n",
      "Yearly Sharpe        0.29                   0.12\n",
      "Yearly Sortino       2.25                   0.95\n",
      "Yearly Mean          7.40%                  4.98%\n",
      "Yearly Vol           10.92%                 6.12%\n",
      "Yearly Skew          -                      -\n",
      "Yearly Kurt          -                      -\n",
      "Best Year            19.94%                 11.81%\n",
      "Worst Year           0.00%                  0.00%\n",
      "\n",
      "Avg. Drawdown        -1.93%                 -1.59%\n",
      "Avg. Drawdown Days   17.77                  13.81\n",
      "Avg. Up Month        3.72%                  2.86%\n",
      "Avg. Down Month      -1.53%                 -1.64%\n",
      "Win Year %           100.00%                100.00%\n",
      "Win 12m %            100.00%                100.00%\n",
      "\n",
      "Short-term Backtest Results:\n",
      "Stat                 Short-term Portfolio    DSI\n",
      "-------------------  ----------------------  ----------\n",
      "Start                2023-05-31              2023-05-31\n",
      "End                  2025-06-04              2025-06-04\n",
      "Risk-free rate       4.24%                   4.24%\n",
      "\n",
      "Total Return         31.19%                  42.91%\n",
      "Daily Sharpe         0.66                    0.89\n",
      "Daily Sortino        1.09                    1.47\n",
      "CAGR                 14.44%                  19.42%\n",
      "Max Drawdown         -12.70%                 -20.58%\n",
      "Calmar Ratio         1.14                    0.94\n",
      "\n",
      "MTD                  1.05%                   0.92%\n",
      "3m                   13.43%                  5.84%\n",
      "6m                   5.08%                   -2.65%\n",
      "YTD                  8.96%                   1.70%\n",
      "1Y                   13.80%                  11.89%\n",
      "3Y (ann.)            14.44%                  19.42%\n",
      "5Y (ann.)            -                       -\n",
      "10Y (ann.)           -                       -\n",
      "Since Incep. (ann.)  14.44%                  19.42%\n",
      "\n",
      "Daily Sharpe         0.66                    0.89\n",
      "Daily Sortino        1.09                    1.47\n",
      "Daily Mean (ann.)    14.85%                  19.27%\n",
      "Daily Vol (ann.)     16.14%                  17.07%\n",
      "Daily Skew           0.36                    0.71\n",
      "Daily Kurt           8.89                    13.65\n",
      "Best Day             7.08%                   9.57%\n",
      "Worst Day            -5.25%                  -5.58%\n",
      "\n",
      "Monthly Sharpe       0.80                    0.94\n",
      "Monthly Sortino      1.67                    1.96\n",
      "Monthly Mean (ann.)  13.21%                  17.57%\n",
      "Monthly Vol (ann.)   11.38%                  14.33%\n",
      "Monthly Skew         0.30                    0.10\n",
      "Monthly Kurt         -0.15                   -0.44\n",
      "Best Month           8.00%                   10.09%\n",
      "Worst Month          -4.60%                  -5.88%\n",
      "\n",
      "Yearly Sharpe        0.32                    0.30\n",
      "Yearly Sortino       inf                     2.11\n",
      "Yearly Mean          5.85%                   8.03%\n",
      "Yearly Vol           5.07%                   12.46%\n",
      "Yearly Skew          -                       -\n",
      "Yearly Kurt          -                       -\n",
      "Best Year            8.96%                   22.38%\n",
      "Worst Year           0.00%                   0.00%\n",
      "\n",
      "Avg. Drawdown        -1.96%                  -2.13%\n",
      "Avg. Drawdown Days   18.26                   15.22\n",
      "Avg. Up Month        3.06%                   4.07%\n",
      "Avg. Down Month      -2.04%                  -2.71%\n",
      "Win Year %           100.00%                 100.00%\n",
      "Win 12m %            93.33%                  100.00%\n"
     ]
    }
   ],
   "source": [
    "def run_backtest(test_set, portfolio_tickers, benchmark_ticker, benchmark_quotes, weights, strategy_name, rebalance_freq):\n",
    "    \"\"\"Execute systematic backtest for portfolio vs benchmark\"\"\"\n",
    "    all_quotes = test_set.copy()\n",
    "    all_quotes[benchmark_ticker] = benchmark_quotes[benchmark_ticker].loc[test_set.index[0]:test_set.index[-1]]\n",
    "    \n",
    "    strategies = [\n",
    "        bt.Strategy(f'{strategy_name} Portfolio', [rebalance_freq, bt.algos.SelectAll(), bt.algos.WeighSpecified(**weights), bt.algos.Rebalance()]),\n",
    "        bt.Strategy(benchmark_ticker, [rebalance_freq, bt.algos.SelectThese([benchmark_ticker]), bt.algos.WeighEqually(), bt.algos.Rebalance()])\n",
    "    ]\n",
    "    \n",
    "    backtests = [bt.Backtest(strategies[0], all_quotes[portfolio_tickers]), bt.Backtest(strategies[1], all_quotes[[benchmark_ticker]])]\n",
    "    result = bt.run(*backtests)\n",
    "    result.set_riskfree_rate(risk_free_rate)\n",
    "    return result\n",
    "\n",
    "# Execute backtests with appropriate rebalancing frequencies\n",
    "print(\"Executing Backtests...\")\n",
    "result_long = run_backtest(test_set_long, portfolio_long_tickers, benchmark_long, quotes['benchmark_long'], weights_long, \"Long-term\", bt.algos.RunEveryNPeriods(66, offset=66))\n",
    "result_short = run_backtest(test_set_short, portfolio_short_tickers, benchmark_short, quotes['benchmark_short'], weights_short, \"Short-term\", bt.algos.RunWeekly())\n",
    "\n",
    "# Extract returns for QuantStats analysis\n",
    "def extract_returns(result, strategy_name):\n",
    "    return result[strategy_name].prices.pct_change().dropna()\n",
    "\n",
    "bt_long_returns, bt_short_returns = extract_returns(result_long, 'Long-term Portfolio'), extract_returns(result_short, 'Short-term Portfolio')\n",
    "bt_benchmark_long_returns, bt_benchmark_short_returns = extract_returns(result_long, benchmark_long), extract_returns(result_short, benchmark_short)\n",
    "\n",
    "# Display backtest results\n",
    "for result, title in [(result_long, 'Long-term'), (result_short, 'Short-term')]:\n",
    "    print(f\"\\n{title} Backtest Results:\")\n",
    "    result.display()\n",
    "    result.plot(figsize=(12, 6), title=f'{title} Portfolio vs Benchmark (Test Period)')"
   ]
  },
  {
   "cell_type": "markdown",
   "metadata": {},
   "source": [
    "## **`QuantStats` HTML Reporting**\n",
    "\n",
    "**Comprehensive QuantStats Reporting:**\n",
    "- **Risk Metrics**: Value-at-Risk (VaR), Conditional VaR, Maximum Drawdown, Rolling Volatility\n",
    "- **Return Analytics**: Total Return, CAGR, Best/Worst Periods, Win/Loss Ratios, Consistency Metrics\n",
    "- **Risk-Adjusted Performance**: Sharpe Ratio, Sortino Ratio, Calmar Ratio, Information Ratio\n",
    "- **Comparative Analysis**: Alpha/Beta decomposition, Tracking Error, Active Return Attribution\n",
    "- **Statistical Tests**: Performance significance testing and confidence intervals\n",
    "- **Visual Analytics**: Interactive charts, drawdown analysis, return distribution plots"
   ]
  },
  {
   "cell_type": "code",
   "execution_count": 11,
   "metadata": {},
   "outputs": [
    {
     "name": "stdout",
     "output_type": "stream",
     "text": [
      "Generating Long-term reports (2023-06-01 00:00:00 to 2025-06-04 00:00:00)\n",
      "Added download button and removed QuantStats attribution from portfolios/portfolio_vs_benchmark_long_term-2025-06-06.html\n"
     ]
    },
    {
     "data": {
      "text/html": [
       "<h4>Performance Metrics</h4>"
      ],
      "text/plain": [
       "<IPython.core.display.HTML object>"
      ]
     },
     "metadata": {},
     "output_type": "display_data"
    },
    {
     "name": "stdout",
     "output_type": "stream",
     "text": [
      "                           YYY         Long-term Portfolio\n",
      "-------------------------  ----------  ---------------------\n",
      "Start Period               2023-09-08  2023-09-08\n",
      "End Period                 2025-06-04  2025-06-04\n",
      "Risk-Free Rate             4.24%       4.24%\n",
      "Time in Market             92.0%       100.0%\n",
      "\n",
      "Cumulative Return          21.14%      30.31%\n",
      "CAGR﹪                     7.91%       11.08%\n",
      "\n",
      "Sharpe                     0.65        0.76\n",
      "Prob. Sharpe Ratio         66.31%      67.42%\n",
      "Smart Sharpe               0.6         0.7\n",
      "Sortino                    0.88        1.11\n",
      "Smart Sortino              0.81        1.02\n",
      "Sortino/√2                 0.62        0.79\n",
      "Smart Sortino/√2           0.57        0.72\n",
      "Omega                      1.15        1.15\n",
      "\n",
      "Max Drawdown               -14.44%     -13.51%\n",
      "Longest DD Days            104         184\n",
      "Volatility (ann.)          11.66%      16.37%\n",
      "R^2                        0.4         0.4\n",
      "Information Ratio          0.02        0.02\n",
      "Calmar                     0.55        0.82\n",
      "Skew                       -1.3        0.19\n",
      "Kurtosis                   19.21       10.87\n",
      "\n",
      "Expected Daily %           0.04%       0.06%\n",
      "Expected Monthly %         0.88%       1.21%\n",
      "Expected Yearly %          6.6%        9.22%\n",
      "Kelly Criterion            9.88%       6.71%\n",
      "Risk of Ruin               0.0%        0.0%\n",
      "Daily Value-at-Risk        -1.16%      -1.63%\n",
      "Expected Shortfall (cVaR)  -1.16%      -1.63%\n",
      "\n",
      "Max Consecutive Wins       9           8\n",
      "Max Consecutive Losses     8           6\n",
      "Gain/Pain Ratio            0.22        0.2\n",
      "Gain/Pain (1M)             1.06        1.5\n",
      "\n",
      "Payoff Ratio               0.89        0.94\n",
      "Profit Factor              1.22        1.2\n",
      "Common Sense Ratio         1.11        1.16\n",
      "CPC Index                  0.62        0.62\n",
      "Tail Ratio                 0.91        0.97\n",
      "Outlier Win Ratio          4.75        2.75\n",
      "Outlier Loss Ratio         4.04        3.02\n",
      "\n",
      "MTD                        0.7%        0.9%\n",
      "3M                         -0.6%       -3.76%\n",
      "6M                         -1.54%      -5.76%\n",
      "YTD                        3.13%       2.25%\n",
      "1Y                         6.86%       4.3%\n",
      "3Y (ann.)                  7.91%       11.08%\n",
      "5Y (ann.)                  7.91%       11.08%\n",
      "10Y (ann.)                 7.91%       11.08%\n",
      "All-time (ann.)            7.91%       11.08%\n",
      "\n",
      "Best Day                   4.84%       7.78%\n",
      "Worst Day                  -6.4%       -6.66%\n",
      "Best Month                 8.53%       9.01%\n",
      "Worst Month                -4.53%      -7.66%\n",
      "Best Year                  11.81%      19.94%\n",
      "Worst Year                 3.13%       2.25%\n",
      "\n",
      "Avg. Drawdown              -1.58%      -1.93%\n",
      "Avg. Drawdown Days         13          17\n",
      "Recovery Factor            1.41        2.13\n",
      "Ulcer Index                0.03        0.04\n",
      "Serenity Index             0.74        0.92\n",
      "\n",
      "Avg. Up Month              3.09%       3.88%\n",
      "Avg. Down Month            -2.82%      -2.83%\n",
      "Win Days %                 57.68%      54.82%\n",
      "Win Month %                63.64%      59.09%\n",
      "Win Quarter %              75.0%       62.5%\n",
      "Win Year %                 100.0%      100.0%\n",
      "\n",
      "Beta                       -           0.89\n",
      "Alpha                      -           0.06\n",
      "Correlation                -           63.6%\n",
      "Treynor Ratio              -           29.19%\n"
     ]
    },
    {
     "data": {
      "text/plain": [
       "None"
      ]
     },
     "metadata": {},
     "output_type": "display_data"
    },
    {
     "data": {
      "text/html": [
       "<h4 style=\"margin-bottom:20px\">Worst 5 Drawdowns</h4>"
      ],
      "text/plain": [
       "<IPython.core.display.HTML object>"
      ]
     },
     "metadata": {},
     "output_type": "display_data"
    },
    {
     "data": {
      "application/vnd.microsoft.datawrangler.viewer.v0+json": {
       "columns": [
        {
         "name": "index",
         "rawType": "int64",
         "type": "integer"
        },
        {
         "name": "Start",
         "rawType": "object",
         "type": "string"
        },
        {
         "name": "Valley",
         "rawType": "object",
         "type": "string"
        },
        {
         "name": "End",
         "rawType": "object",
         "type": "string"
        },
        {
         "name": "Days",
         "rawType": "int64",
         "type": "integer"
        },
        {
         "name": "Max Drawdown",
         "rawType": "float64",
         "type": "float"
        },
        {
         "name": "99% Max Drawdown",
         "rawType": "float64",
         "type": "float"
        }
       ],
       "ref": "a90a8266-919f-4116-9728-a3aa8d8b4519",
       "rows": [
        [
         "1",
         "2024-12-03",
         "2025-04-08",
         "2025-06-04",
         "184",
         "-13.51078765974778",
         "-12.25076477167607"
        ],
        [
         "2",
         "2024-07-17",
         "2024-08-05",
         "2024-10-08",
         "84",
         "-8.93294309196071",
         "-8.22806070640757"
        ],
        [
         "3",
         "2023-09-15",
         "2023-10-27",
         "2023-11-09",
         "56",
         "-6.307500877304795",
         "-5.770381196232277"
        ],
        [
         "4",
         "2024-10-15",
         "2024-10-31",
         "2024-11-25",
         "42",
         "-4.853214254443894",
         "-4.719843712974647"
        ],
        [
         "5",
         "2024-03-28",
         "2024-04-19",
         "2024-05-09",
         "43",
         "-3.521061699339567",
         "-3.4665722939153154"
        ]
       ],
       "shape": {
        "columns": 6,
        "rows": 5
       }
      },
      "text/html": [
       "<div>\n",
       "<style scoped>\n",
       "    .dataframe tbody tr th:only-of-type {\n",
       "        vertical-align: middle;\n",
       "    }\n",
       "\n",
       "    .dataframe tbody tr th {\n",
       "        vertical-align: top;\n",
       "    }\n",
       "\n",
       "    .dataframe thead th {\n",
       "        text-align: right;\n",
       "    }\n",
       "</style>\n",
       "<table border=\"1\" class=\"dataframe\">\n",
       "  <thead>\n",
       "    <tr style=\"text-align: right;\">\n",
       "      <th></th>\n",
       "      <th>Start</th>\n",
       "      <th>Valley</th>\n",
       "      <th>End</th>\n",
       "      <th>Days</th>\n",
       "      <th>Max Drawdown</th>\n",
       "      <th>99% Max Drawdown</th>\n",
       "    </tr>\n",
       "  </thead>\n",
       "  <tbody>\n",
       "    <tr>\n",
       "      <th>1</th>\n",
       "      <td>2024-12-03</td>\n",
       "      <td>2025-04-08</td>\n",
       "      <td>2025-06-04</td>\n",
       "      <td>184</td>\n",
       "      <td>-13.510788</td>\n",
       "      <td>-12.250765</td>\n",
       "    </tr>\n",
       "    <tr>\n",
       "      <th>2</th>\n",
       "      <td>2024-07-17</td>\n",
       "      <td>2024-08-05</td>\n",
       "      <td>2024-10-08</td>\n",
       "      <td>84</td>\n",
       "      <td>-8.932943</td>\n",
       "      <td>-8.228061</td>\n",
       "    </tr>\n",
       "    <tr>\n",
       "      <th>3</th>\n",
       "      <td>2023-09-15</td>\n",
       "      <td>2023-10-27</td>\n",
       "      <td>2023-11-09</td>\n",
       "      <td>56</td>\n",
       "      <td>-6.307501</td>\n",
       "      <td>-5.770381</td>\n",
       "    </tr>\n",
       "    <tr>\n",
       "      <th>4</th>\n",
       "      <td>2024-10-15</td>\n",
       "      <td>2024-10-31</td>\n",
       "      <td>2024-11-25</td>\n",
       "      <td>42</td>\n",
       "      <td>-4.853214</td>\n",
       "      <td>-4.719844</td>\n",
       "    </tr>\n",
       "    <tr>\n",
       "      <th>5</th>\n",
       "      <td>2024-03-28</td>\n",
       "      <td>2024-04-19</td>\n",
       "      <td>2024-05-09</td>\n",
       "      <td>43</td>\n",
       "      <td>-3.521062</td>\n",
       "      <td>-3.466572</td>\n",
       "    </tr>\n",
       "  </tbody>\n",
       "</table>\n",
       "</div>"
      ],
      "text/plain": [
       "        Start      Valley         End  Days  Max Drawdown  99% Max Drawdown\n",
       "1  2024-12-03  2025-04-08  2025-06-04   184    -13.510788        -12.250765\n",
       "2  2024-07-17  2024-08-05  2024-10-08    84     -8.932943         -8.228061\n",
       "3  2023-09-15  2023-10-27  2023-11-09    56     -6.307501         -5.770381\n",
       "4  2024-10-15  2024-10-31  2024-11-25    42     -4.853214         -4.719844\n",
       "5  2024-03-28  2024-04-19  2024-05-09    43     -3.521062         -3.466572"
      ]
     },
     "metadata": {},
     "output_type": "display_data"
    },
    {
     "data": {
      "text/html": [
       "<h4>Strategy Visualization</h4>"
      ],
      "text/plain": [
       "<IPython.core.display.HTML object>"
      ]
     },
     "metadata": {},
     "output_type": "display_data"
    },
    {
     "name": "stdout",
     "output_type": "stream",
     "text": [
      "Generating Short-term reports (2023-06-01 00:00:00 to 2025-06-04 00:00:00)\n",
      "Added download button and removed QuantStats attribution from portfolios/portfolio_vs_benchmark_short_term-2025-06-06.html\n"
     ]
    },
    {
     "data": {
      "text/html": [
       "<h4>Performance Metrics</h4>"
      ],
      "text/plain": [
       "<IPython.core.display.HTML object>"
      ]
     },
     "metadata": {},
     "output_type": "display_data"
    },
    {
     "name": "stdout",
     "output_type": "stream",
     "text": [
      "                           DSI         Short-term Portfolio\n",
      "-------------------------  ----------  ----------------------\n",
      "Start Period               2023-06-02  2023-06-02\n",
      "End Period                 2025-06-04  2025-06-04\n",
      "Risk-Free Rate             4.24%       4.24%\n",
      "Time in Market             100.0%      100.0%\n",
      "\n",
      "Cumulative Return          42.91%      31.19%\n",
      "CAGR﹪                     13.06%      9.78%\n",
      "\n",
      "Sharpe                     0.89        0.67\n",
      "Prob. Sharpe Ratio         74.48%      63.82%\n",
      "Smart Sharpe               0.88        0.66\n",
      "Sortino                    1.31        0.97\n",
      "Smart Sortino              1.3         0.96\n",
      "Sortino/√2                 0.92        0.68\n",
      "Smart Sortino/√2           0.92        0.68\n",
      "Omega                      1.13        1.13\n",
      "\n",
      "Max Drawdown               -20.58%     -12.7%\n",
      "Longest DD Days            132         248\n",
      "Volatility (ann.)          17.1%       16.17%\n",
      "R^2                        0.32        0.32\n",
      "Information Ratio          -0.02       -0.02\n",
      "Calmar                     0.63        0.77\n",
      "Skew                       0.71        0.36\n",
      "Kurtosis                   13.59       8.84\n",
      "\n",
      "Expected Daily %           0.07%       0.05%\n",
      "Expected Monthly %         1.44%       1.09%\n",
      "Expected Yearly %          12.64%      9.47%\n",
      "Kelly Criterion            9.76%       9.61%\n",
      "Risk of Ruin               0.0%        0.0%\n",
      "Daily Value-at-Risk        -1.7%       -1.62%\n",
      "Expected Shortfall (cVaR)  -1.7%       -1.62%\n",
      "\n",
      "Max Consecutive Wins       8           9\n",
      "Max Consecutive Losses     6           6\n",
      "Gain/Pain Ratio            0.23        0.18\n",
      "Gain/Pain (1M)             1.47        1.48\n",
      "\n",
      "Payoff Ratio               0.96        0.98\n",
      "Profit Factor              1.23        1.18\n",
      "Common Sense Ratio         1.19        1.12\n",
      "CPC Index                  0.66        0.64\n",
      "Tail Ratio                 0.97        0.95\n",
      "Outlier Win Ratio          3.08        3.25\n",
      "Outlier Loss Ratio         3.73        3.92\n",
      "\n",
      "MTD                        0.92%       1.05%\n",
      "3M                         4.87%       12.3%\n",
      "6M                         -1.73%      5.98%\n",
      "YTD                        1.7%        8.96%\n",
      "1Y                         12.14%      14.03%\n",
      "3Y (ann.)                  13.06%      9.78%\n",
      "5Y (ann.)                  13.06%      9.78%\n",
      "10Y (ann.)                 13.06%      9.78%\n",
      "All-time (ann.)            13.06%      9.78%\n",
      "\n",
      "Best Day                   9.57%       7.08%\n",
      "Worst Day                  -5.58%      -5.25%\n",
      "Best Month                 10.09%      8.0%\n",
      "Worst Month                -5.88%      -4.6%\n",
      "Best Year                  22.38%      10.87%\n",
      "Worst Year                 1.7%        8.6%\n",
      "\n",
      "Avg. Drawdown              -2.13%      -1.96%\n",
      "Avg. Drawdown Days         15          18\n",
      "Recovery Factor            1.88        2.34\n",
      "Ulcer Index                0.05        0.04\n",
      "Serenity Index             0.85        0.77\n",
      "\n",
      "Avg. Up Month              4.0%        2.96%\n",
      "Avg. Down Month            -2.97%      -2.9%\n",
      "Win Days %                 55.89%      55.27%\n",
      "Win Month %                64.0%       64.0%\n",
      "Win Quarter %              77.78%      55.56%\n",
      "Win Year %                 100.0%      100.0%\n",
      "\n",
      "Beta                       -           0.53\n",
      "Alpha                      -           0.05\n",
      "Correlation                -           56.55%\n",
      "Treynor Ratio              -           50.4%\n"
     ]
    },
    {
     "data": {
      "text/plain": [
       "None"
      ]
     },
     "metadata": {},
     "output_type": "display_data"
    },
    {
     "data": {
      "text/html": [
       "<h4 style=\"margin-bottom:20px\">Worst 5 Drawdowns</h4>"
      ],
      "text/plain": [
       "<IPython.core.display.HTML object>"
      ]
     },
     "metadata": {},
     "output_type": "display_data"
    },
    {
     "data": {
      "application/vnd.microsoft.datawrangler.viewer.v0+json": {
       "columns": [
        {
         "name": "index",
         "rawType": "int64",
         "type": "integer"
        },
        {
         "name": "Start",
         "rawType": "object",
         "type": "string"
        },
        {
         "name": "Valley",
         "rawType": "object",
         "type": "string"
        },
        {
         "name": "End",
         "rawType": "object",
         "type": "string"
        },
        {
         "name": "Days",
         "rawType": "int64",
         "type": "integer"
        },
        {
         "name": "Max Drawdown",
         "rawType": "float64",
         "type": "float"
        },
        {
         "name": "99% Max Drawdown",
         "rawType": "float64",
         "type": "float"
        }
       ],
       "ref": "0edf9d25-5518-4d18-a43f-e462fe9c2c35",
       "rows": [
        [
         "1",
         "2024-09-24",
         "2025-04-22",
         "2025-05-29",
         "248",
         "-12.701659012910882",
         "-11.949070515883331"
        ],
        [
         "2",
         "2023-07-26",
         "2023-09-26",
         "2023-10-12",
         "79",
         "-8.538345351387743",
         "-8.17072863446674"
        ],
        [
         "3",
         "2024-04-01",
         "2024-04-18",
         "2024-05-20",
         "50",
         "-4.67384627298234",
         "-4.197732776570396"
        ],
        [
         "4",
         "2024-05-23",
         "2024-05-30",
         "2024-07-03",
         "42",
         "-4.583536379380315",
         "-4.411249026722929"
        ],
        [
         "5",
         "2023-12-14",
         "2023-12-20",
         "2024-01-11",
         "29",
         "-3.386894701925769",
         "-3.330566813731195"
        ]
       ],
       "shape": {
        "columns": 6,
        "rows": 5
       }
      },
      "text/html": [
       "<div>\n",
       "<style scoped>\n",
       "    .dataframe tbody tr th:only-of-type {\n",
       "        vertical-align: middle;\n",
       "    }\n",
       "\n",
       "    .dataframe tbody tr th {\n",
       "        vertical-align: top;\n",
       "    }\n",
       "\n",
       "    .dataframe thead th {\n",
       "        text-align: right;\n",
       "    }\n",
       "</style>\n",
       "<table border=\"1\" class=\"dataframe\">\n",
       "  <thead>\n",
       "    <tr style=\"text-align: right;\">\n",
       "      <th></th>\n",
       "      <th>Start</th>\n",
       "      <th>Valley</th>\n",
       "      <th>End</th>\n",
       "      <th>Days</th>\n",
       "      <th>Max Drawdown</th>\n",
       "      <th>99% Max Drawdown</th>\n",
       "    </tr>\n",
       "  </thead>\n",
       "  <tbody>\n",
       "    <tr>\n",
       "      <th>1</th>\n",
       "      <td>2024-09-24</td>\n",
       "      <td>2025-04-22</td>\n",
       "      <td>2025-05-29</td>\n",
       "      <td>248</td>\n",
       "      <td>-12.701659</td>\n",
       "      <td>-11.949071</td>\n",
       "    </tr>\n",
       "    <tr>\n",
       "      <th>2</th>\n",
       "      <td>2023-07-26</td>\n",
       "      <td>2023-09-26</td>\n",
       "      <td>2023-10-12</td>\n",
       "      <td>79</td>\n",
       "      <td>-8.538345</td>\n",
       "      <td>-8.170729</td>\n",
       "    </tr>\n",
       "    <tr>\n",
       "      <th>3</th>\n",
       "      <td>2024-04-01</td>\n",
       "      <td>2024-04-18</td>\n",
       "      <td>2024-05-20</td>\n",
       "      <td>50</td>\n",
       "      <td>-4.673846</td>\n",
       "      <td>-4.197733</td>\n",
       "    </tr>\n",
       "    <tr>\n",
       "      <th>4</th>\n",
       "      <td>2024-05-23</td>\n",
       "      <td>2024-05-30</td>\n",
       "      <td>2024-07-03</td>\n",
       "      <td>42</td>\n",
       "      <td>-4.583536</td>\n",
       "      <td>-4.411249</td>\n",
       "    </tr>\n",
       "    <tr>\n",
       "      <th>5</th>\n",
       "      <td>2023-12-14</td>\n",
       "      <td>2023-12-20</td>\n",
       "      <td>2024-01-11</td>\n",
       "      <td>29</td>\n",
       "      <td>-3.386895</td>\n",
       "      <td>-3.330567</td>\n",
       "    </tr>\n",
       "  </tbody>\n",
       "</table>\n",
       "</div>"
      ],
      "text/plain": [
       "        Start      Valley         End  Days  Max Drawdown  99% Max Drawdown\n",
       "1  2024-09-24  2025-04-22  2025-05-29   248    -12.701659        -11.949071\n",
       "2  2023-07-26  2023-09-26  2023-10-12    79     -8.538345         -8.170729\n",
       "3  2024-04-01  2024-04-18  2024-05-20    50     -4.673846         -4.197733\n",
       "4  2024-05-23  2024-05-30  2024-07-03    42     -4.583536         -4.411249\n",
       "5  2023-12-14  2023-12-20  2024-01-11    29     -3.386895         -3.330567"
      ]
     },
     "metadata": {},
     "output_type": "display_data"
    },
    {
     "data": {
      "text/html": [
       "<h4>Strategy Visualization</h4>"
      ],
      "text/plain": [
       "<IPython.core.display.HTML object>"
      ]
     },
     "metadata": {},
     "output_type": "display_data"
    }
   ],
   "source": [
    "def generate_reports(portfolio_returns, benchmark_returns, portfolio_name, benchmark_name, suffix):\n",
    "    \"\"\"Generate comprehensive QuantStats performance reports\"\"\"\n",
    "    portfolio_returns.name = f\"{portfolio_name} Portfolio\"\n",
    "    print(f\"Generating {portfolio_name} reports ({portfolio_returns.index[0]} to {portfolio_returns.index[-1]})\")\n",
    "    \n",
    "    with warnings.catch_warnings():\n",
    "        warnings.simplefilter(\"ignore\")\n",
    "        qs.reports.html(\n",
    "            portfolio_returns, \n",
    "            benchmark_returns, \n",
    "            rf=risk_free_rate, \n",
    "            figsize=(8, 5),\n",
    "            output=f'portfolios/portfolio_vs_benchmark_{suffix}-{datetime.date(end_date)}.html',\n",
    "            title=f'{portfolio_name} Portfolio vs {benchmark_name}', \n",
    "            benchmark_title=benchmark_name,\n",
    "            strategy_title=f'{portfolio_name} Portfolio' \n",
    "        )\n",
    "        qs.reports.full(\n",
    "            portfolio_returns, \n",
    "            benchmark_returns, \n",
    "            rf=risk_free_rate, \n",
    "            figsize=(8, 5),\n",
    "            title=f'{portfolio_name} Portfolio vs {benchmark_name}', \n",
    "            benchmark_title=benchmark_name,\n",
    "            strategy_title=f'{portfolio_name} Portfolio' \n",
    "        )\n",
    "    return portfolio_returns, benchmark_returns\n",
    "\n",
    "# Generate comprehensive performance reports\n",
    "portfolio_long_test, benchmark_long_test = generate_reports(bt_long_returns, bt_benchmark_long_returns, \"Long-term\", benchmark_long, \"long_term\")\n",
    "portfolio_short_test, benchmark_short_test = generate_reports(bt_short_returns, bt_benchmark_short_returns, \"Short-term\", benchmark_short, \"short_term\")"
   ]
  },
  {
   "cell_type": "markdown",
   "metadata": {},
   "source": [
    "## **Performance Summary**\n",
    "\n",
    "**Key Performance Indicators (Out-of-Sample Test Period):**\n",
    "\n",
    "This section provides actionable insights for investment decision-making through:\n",
    "- **Risk-Adjusted Returns**: Sharpe ratio comparison for risk-adjusted performance evaluation\n",
    "- **Absolute Performance**: Total return analysis to assess wealth creation potential\n",
    "- **Relative Performance**: Portfolio alpha generation versus benchmark indices\n",
    "- **Statistical Significance**: Performance persistence and reliability assessment\n",
    "- **Strategy Validation**: Out-of-sample results confirm strategy robustness and deployment readiness"
   ]
  },
  {
   "cell_type": "code",
   "execution_count": 7,
   "metadata": {},
   "outputs": [
    {
     "name": "stdout",
     "output_type": "stream",
     "text": [
      "\n",
      "============================================================\n",
      "PORTFOLIO PERFORMANCE SUMMARY (OUT-OF-SAMPLE TEST PERIOD)\n",
      "============================================================\n",
      "\n",
      "Long-term Portfolio vs YYY:\n",
      "  Portfolio Sharpe Ratio: 0.9545\n",
      "  Benchmark Sharpe Ratio: 0.9386\n",
      "  Portfolio Total Return: 0.3067\n",
      "  Benchmark Total Return: 0.2114\n",
      "\n",
      "Short-term Portfolio vs DSI:\n",
      "  Portfolio Sharpe Ratio: 0.9210\n",
      "  Benchmark Sharpe Ratio: 1.1302\n",
      "  Portfolio Total Return: 0.3119\n",
      "  Benchmark Total Return: 0.4291\n",
      "\n",
      "📊 Reports: portfolios/portfolio_vs_benchmark_*-2025-06-06.html\n",
      "✅ Analysis Complete! Review HTML reports for detailed analytics.\n"
     ]
    }
   ],
   "source": [
    "def safe_metric(func, data, default=0.0):\n",
    "    \"\"\"Calculate metrics with error handling\"\"\"\n",
    "    try:\n",
    "        result = func(data)\n",
    "        return result.iloc[0] if isinstance(result, pd.Series) else result\n",
    "    except:\n",
    "        return default\n",
    "\n",
    "# Performance summary analysis\n",
    "test_data = [('Long-term', portfolio_long_test, benchmark_long_test, benchmark_long),\n",
    "             ('Short-term', portfolio_short_test, benchmark_short_test, benchmark_short)]\n",
    "\n",
    "print(\"\\n\" + \"=\"*60)\n",
    "print(\"PORTFOLIO PERFORMANCE SUMMARY (OUT-OF-SAMPLE TEST PERIOD)\")\n",
    "print(\"=\"*60)\n",
    "\n",
    "for strategy_name, portfolio_data, benchmark_data, benchmark_name in test_data:\n",
    "    metrics = {\n",
    "        'Portfolio Sharpe Ratio': safe_metric(qs.stats.sharpe, portfolio_data),\n",
    "        'Benchmark Sharpe Ratio': safe_metric(qs.stats.sharpe, benchmark_data),\n",
    "        'Portfolio Total Return': safe_metric(qs.stats.comp, portfolio_data),\n",
    "        'Benchmark Total Return': safe_metric(qs.stats.comp, benchmark_data)\n",
    "    }\n",
    "    \n",
    "    print(f\"\\n{strategy_name} Portfolio vs {benchmark_name}:\")\n",
    "    for metric, value in metrics.items():\n",
    "        print(f\"  {metric}: {value:.4f}\")\n",
    "\n",
    "print(f\"\\n📊 Reports: portfolios/portfolio_vs_benchmark_*-{datetime.date(end_date)}.html\")\n",
    "print(f\"✅ Analysis Complete! Review HTML reports for detailed analytics.\")"
   ]
  }
 ],
 "metadata": {
  "kernelspec": {
   "display_name": "Python 3",
   "language": "python",
   "name": "python3"
  },
  "language_info": {
   "codemirror_mode": {
    "name": "ipython",
    "version": 3
   },
   "file_extension": ".py",
   "mimetype": "text/x-python",
   "name": "python",
   "nbconvert_exporter": "python",
   "pygments_lexer": "ipython3",
   "version": "3.8.5"
  }
 },
 "nbformat": 4,
 "nbformat_minor": 4
}
