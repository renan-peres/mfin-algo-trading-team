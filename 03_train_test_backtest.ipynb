{
 "cells": [
  {
   "cell_type": "markdown",
   "id": "0555cef9",
   "metadata": {},
   "source": [
    "# Train & Test Data\n",
    "- Train: 80%\n",
    "- Test: 80%"
   ]
  },
  {
   "cell_type": "code",
   "execution_count": null,
   "id": "6cb4fe0f",
   "metadata": {
    "vscode": {
     "languageId": "plaintext"
    }
   },
   "outputs": [],
   "source": []
  }
 ],
 "metadata": {
  "language_info": {
   "name": "python"
  }
 },
 "nbformat": 4,
 "nbformat_minor": 5
}
