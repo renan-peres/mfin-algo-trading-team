{
 "cells": [
  {
   "cell_type": "markdown",
   "metadata": {},
   "source": [
    "# Portfolio Performance vs. Benchmark\n"
   ]
  },
  {
   "cell_type": "markdown",
   "metadata": {},
   "source": [
    "### Step 1: Import Libraries\n"
   ]
  },
  {
   "cell_type": "code",
   "execution_count": 1,
   "metadata": {},
   "outputs": [
    {
     "name": "stdout",
     "output_type": "stream",
     "text": [
      "============================================================\n",
      "               QuantStats Compatibility Tool                \n",
      "============================================================\n",
      "\n",
      "Part 1: Directly patching QuantStats package files\n",
      "------------------------------------------------------------\n",
      "Found QuantStats utils file at: /home/renanmogo/mfin-algo-trading-team8/.venv/lib/python3.13/site-packages/quantstats/__init__.py\n",
      "Successfully fixed indentation in QuantStats __init__.py file\n",
      "✓ QuantStats utils file patched successfully\n",
      "\n",
      "Part 2: Fixing resampling issues\n",
      "------------------------------------------------------------\n",
      "Found 1 potential QuantStats installation(s)\n",
      "Checking /home/renanmogo/mfin-algo-trading-team8/.venv/lib/python3.13/site-packages/quantstats/_plotting/core.py\n",
      "✓ Found 'plot_timeseries' function in /home/renanmogo/mfin-algo-trading-team8/.venv/lib/python3.13/site-packages/quantstats/_plotting/core.py\n",
      "✓ No 'sum(axis=0)' calls found - may already be fixed\n",
      "Examining /home/renanmogo/mfin-algo-trading-team8/.venv/lib/python3.13/site-packages/quantstats/_plotting/core.py...\n",
      "✓ Found 'plot_timeseries' function in /home/renanmogo/mfin-algo-trading-team8/.venv/lib/python3.13/site-packages/quantstats/_plotting/core.py\n",
      "✓ No 'sum(axis=0)' calls found - may already be fixed\n",
      "No applicable fixes found for /home/renanmogo/mfin-algo-trading-team8/.venv/lib/python3.13/site-packages/quantstats/_plotting/core.py\n",
      "⚠️ Resampling fix not applied or not needed\n",
      "\n",
      "Part 3: Importing and patching QuantStats\n",
      "------------------------------------------------------------\n",
      "❌ Error importing quantstats: too many statically nested blocks (__init__.py, line 52)\n"
     ]
    },
    {
     "ename": "NameError",
     "evalue": "name 'qs' is not defined",
     "output_type": "error",
     "traceback": [
      "\u001b[31m---------------------------------------------------------------------------\u001b[39m",
      "\u001b[31mNameError\u001b[39m                                 Traceback (most recent call last)",
      "\u001b[36mCell\u001b[39m\u001b[36m \u001b[39m\u001b[32mIn[1]\u001b[39m\u001b[32m, line 28\u001b[39m\n\u001b[32m     26\u001b[39m \u001b[38;5;28;01mfrom\u001b[39;00m\u001b[38;5;250m \u001b[39m\u001b[34;01mpy\u001b[39;00m\u001b[34;01m.\u001b[39;00m\u001b[34;01mquantstats_fix\u001b[39;00m\u001b[38;5;250m \u001b[39m\u001b[38;5;28;01mimport\u001b[39;00m *\n\u001b[32m     27\u001b[39m \u001b[38;5;28;01mfrom\u001b[39;00m\u001b[38;5;250m \u001b[39m\u001b[34;01mpy\u001b[39;00m\u001b[34;01m.\u001b[39;00m\u001b[34;01mutils\u001b[39;00m\u001b[38;5;250m \u001b[39m\u001b[38;5;28;01mimport\u001b[39;00m load_and_filter_data, export_to_excel\n\u001b[32m---> \u001b[39m\u001b[32m28\u001b[39m \u001b[43mqs\u001b[49m.extend_pandas()\n",
      "\u001b[31mNameError\u001b[39m: name 'qs' is not defined"
     ]
    }
   ],
   "source": [
    "# Data manipulation libraries\n",
    "import pandas as pd\n",
    "import numpy as np\n",
    "from scipy.optimize import minimize\n",
    "from datetime import datetime, timedelta\n",
    "from pandas.tseries.offsets import BDay\n",
    "\n",
    "# Visualization libraries\n",
    "import matplotlib.pyplot as plt\n",
    "import plotly\n",
    "import plotly.express as px\n",
    "import seaborn as sns\n",
    "import plotly.graph_objects as go\n",
    "import plotly.io as pio\n",
    "from IPython.display import Image, display\n",
    "\n",
    "# System libraries\n",
    "import os\n",
    "import sys\n",
    "import glob\n",
    "import logging\n",
    "import warnings\n",
    "\n",
    "# System libraries\n",
    "import bt\n",
    "from py.quantstats_fix import *\n",
    "from py.utils import load_and_filter_data, export_to_excel\n",
    "qs.extend_pandas()"
   ]
  },
  {
   "cell_type": "code",
   "execution_count": null,
   "metadata": {},
   "outputs": [],
   "source": [
    "# Suppress all warnings\n",
    "warnings.filterwarnings(\"ignore\", category=FutureWarning)\n",
    "warnings.filterwarnings(\"ignore\", category=UserWarning)\n",
    "warnings.filterwarnings(\"ignore\", category=DeprecationWarning)\n",
    "warnings.filterwarnings(\"ignore\", message=\".*inplace.*\")\n",
    "warnings.filterwarnings(\"ignore\", message=\".*DataFrame.prod.*\")\n",
    "warnings.filterwarnings(\"ignore\", message=\".*deprecated.*\")\n",
    "\n",
    "# Disable matplotlib font manager logging\n",
    "logging.getLogger('matplotlib.font_manager').disabled = True"
   ]
  },
  {
   "cell_type": "markdown",
   "metadata": {},
   "source": [
    "### Step 2: Define Parameters \n"
   ]
  },
  {
   "cell_type": "markdown",
   "metadata": {},
   "source": [
    "#### Dates\n"
   ]
  },
  {
   "cell_type": "code",
   "execution_count": null,
   "metadata": {},
   "outputs": [
    {
     "name": "stdout",
     "output_type": "stream",
     "text": [
      "Using date from existing portfolio file: portfolios/portfolio-2025-06-06.xlsx\n",
      "Date Range: 2015-06-09 to 2025-06-06\n",
      "Time span: 3650 days (10.00 years)\n"
     ]
    }
   ],
   "source": [
    "# Define the date range\n",
    "initial_end_date = (datetime.today() - BDay(1)).to_pydatetime()  # Subtract 1 business day\n",
    "\n",
    "# Check if portfolio file exists for the initial end date\n",
    "expected_portfolio_file = f'portfolios/portfolio-{datetime.date(initial_end_date)}.xlsx'\n",
    "\n",
    "if os.path.exists(expected_portfolio_file):\n",
    "    end_date = initial_end_date\n",
    "    print(f\"Using portfolio file date: {expected_portfolio_file}\")\n",
    "else:\n",
    "    # If the expected file doesn't exist, use the most recent portfolio file date\n",
    "    portfolio_files = glob.glob('portfolios/portfolio-*.xlsx')\n",
    "    if portfolio_files:\n",
    "        # Get the most recent file and extract date from filename\n",
    "        latest_file = max(portfolio_files, key=os.path.getmtime)\n",
    "        # Extract date from filename (assumes format: portfolio-YYYY-MM-DD.xlsx)\n",
    "        import re\n",
    "        date_match = re.search(r'portfolio-(\\d{4}-\\d{2}-\\d{2})\\.xlsx', latest_file)\n",
    "        if date_match:\n",
    "            file_date_str = date_match.group(1)\n",
    "            end_date = pd.to_datetime(file_date_str).to_pydatetime()\n",
    "            print(f\"Using date from existing portfolio file: {latest_file}\")\n",
    "        else:\n",
    "            end_date = initial_end_date\n",
    "            print(f\"Could not extract date from filename, using default: {initial_end_date}\")\n",
    "    else:\n",
    "        end_date = initial_end_date\n",
    "        print(f\"No portfolio files found, using default: {initial_end_date}\")\n",
    "\n",
    "start_date = end_date - timedelta(days=10*365)\n",
    "\n",
    "# Convert datetime objects to Unix timestamps (seconds since Jan 1, 1970)\n",
    "start_timestamp = int(start_date.timestamp())\n",
    "end_timestamp = int(end_date.timestamp())\n",
    "\n",
    "# Print the date range\n",
    "days_difference = (end_date - start_date).days\n",
    "print(f\"Date Range: {start_date.strftime('%Y-%m-%d')} to {end_date.strftime('%Y-%m-%d')}\")\n",
    "print(f\"Time span: {days_difference} days ({days_difference/365:.2f} years)\")"
   ]
  },
  {
   "cell_type": "markdown",
   "metadata": {},
   "source": [
    "#### Report File\n"
   ]
  },
  {
   "cell_type": "code",
   "execution_count": null,
   "metadata": {},
   "outputs": [
    {
     "name": "stdout",
     "output_type": "stream",
     "text": [
      "Using most recent portfolio file: portfolios/portfolio-2025-06-06.xlsx\n"
     ]
    }
   ],
   "source": [
    "# Get the most recent portfolio file\n",
    "portfolio_files = glob.glob('portfolios/portfolio-*.xlsx')\n",
    "if portfolio_files:\n",
    "    # Sort files by modification time (most recent first)\n",
    "    output_file = max(portfolio_files, key=os.path.getmtime)\n",
    "    print(f\"Using most recent portfolio file: {output_file}\")\n",
    "else:\n",
    "    # Fallback to current date if no files found\n",
    "    output_file = f'portfolios/portfolio-{datetime.date(end_date)}.xlsx'\n",
    "    print(f\"No portfolio files found. Using: {output_file}\")"
   ]
  },
  {
   "cell_type": "markdown",
   "metadata": {},
   "source": [
    "#### Benchmark\n"
   ]
  },
  {
   "cell_type": "code",
   "execution_count": null,
   "metadata": {},
   "outputs": [
    {
     "name": "stdout",
     "output_type": "stream",
     "text": [
      "Long-term Benchmark: YYY\n",
      "Short-term Benchmark: DSI\n"
     ]
    }
   ],
   "source": [
    "# Long-term benchmark\n",
    "benchmark_long = pd.read_excel(output_file, sheet_name=\"benchmark_long_term\")['Benchmark'].values[0]\n",
    "print(f\"Long-term Benchmark: {benchmark_long}\")\n",
    "\n",
    "# Short-term benchmark\n",
    "benchmark_short = pd.read_excel(output_file, sheet_name=\"benchmark_short_term\")['Benchmark'].values[0]\n",
    "print(f\"Short-term Benchmark: {benchmark_short}\")"
   ]
  },
  {
   "cell_type": "markdown",
   "metadata": {},
   "source": [
    "#### Risk-free rate (T-bill, %)\n"
   ]
  },
  {
   "cell_type": "code",
   "execution_count": null,
   "metadata": {},
   "outputs": [
    {
     "name": "stdout",
     "output_type": "stream",
     "text": [
      "Risk-Free Rate: 0.0424 -- 13 WEEK TREASURY BILL (^IRX)\n"
     ]
    }
   ],
   "source": [
    "# Load and process data\n",
    "risk_free_df = pd.read_excel(output_file, sheet_name=\"daily_quotes\", index_col=0)['^IRX']\n",
    "risk_free_rate = risk_free_df.iloc[-1] / 100 \n",
    "\n",
    "# Display result\n",
    "print(\"Risk-Free Rate:\", risk_free_rate, \"-- 13 WEEK TREASURY BILL (^IRX)\")"
   ]
  },
  {
   "cell_type": "markdown",
   "metadata": {},
   "source": [
    "### Step 3: Read Portfolio Data (Excel)\n"
   ]
  },
  {
   "cell_type": "code",
   "execution_count": null,
   "metadata": {},
   "outputs": [
    {
     "name": "stdout",
     "output_type": "stream",
     "text": [
      "Long-term Portfolio Tickers: ['MMC', 'AMAT', 'TMUS', 'MRK', 'APO']\n"
     ]
    },
    {
     "data": {
      "application/vnd.microsoft.datawrangler.viewer.v0+json": {
       "columns": [
        {
         "name": "index",
         "rawType": "int64",
         "type": "integer"
        },
        {
         "name": "Ticker",
         "rawType": "object",
         "type": "string"
        },
        {
         "name": "Date",
         "rawType": "object",
         "type": "string"
        },
        {
         "name": "Name",
         "rawType": "object",
         "type": "string"
        },
        {
         "name": "Sector",
         "rawType": "object",
         "type": "string"
        },
        {
         "name": "Industry",
         "rawType": "object",
         "type": "string"
        },
        {
         "name": "Country",
         "rawType": "object",
         "type": "string"
        },
        {
         "name": "Website",
         "rawType": "object",
         "type": "string"
        },
        {
         "name": "Market Cap",
         "rawType": "int64",
         "type": "integer"
        },
        {
         "name": "Enterprise Value",
         "rawType": "int64",
         "type": "integer"
        },
        {
         "name": "Float Shares",
         "rawType": "int64",
         "type": "integer"
        },
        {
         "name": "Shares Outstanding",
         "rawType": "int64",
         "type": "integer"
        },
        {
         "name": "P/E (trailing)",
         "rawType": "float64",
         "type": "float"
        },
        {
         "name": "P/E (forward)",
         "rawType": "float64",
         "type": "float"
        },
        {
         "name": "P/S",
         "rawType": "float64",
         "type": "float"
        },
        {
         "name": "P/B",
         "rawType": "float64",
         "type": "float"
        },
        {
         "name": "EV/EBITDA",
         "rawType": "float64",
         "type": "float"
        },
        {
         "name": "EV/Revenue",
         "rawType": "float64",
         "type": "float"
        },
        {
         "name": "Gross Margin (%)",
         "rawType": "float64",
         "type": "float"
        },
        {
         "name": "EBITDA Margin (%)",
         "rawType": "float64",
         "type": "float"
        },
        {
         "name": "Operating Margin (%)",
         "rawType": "float64",
         "type": "float"
        },
        {
         "name": "Profit Margin (%)",
         "rawType": "float64",
         "type": "float"
        },
        {
         "name": "ROE",
         "rawType": "float64",
         "type": "float"
        },
        {
         "name": "ROA",
         "rawType": "float64",
         "type": "float"
        },
        {
         "name": "Revenue (TTM)",
         "rawType": "int64",
         "type": "integer"
        },
        {
         "name": "Revenue Growth (%)",
         "rawType": "float64",
         "type": "float"
        },
        {
         "name": "EPS (trailing)",
         "rawType": "float64",
         "type": "float"
        },
        {
         "name": "EPS (forward)",
         "rawType": "float64",
         "type": "float"
        },
        {
         "name": "Earnings Growth (%)",
         "rawType": "float64",
         "type": "float"
        },
        {
         "name": "Earnings Quarterly Growth (%)",
         "rawType": "float64",
         "type": "float"
        },
        {
         "name": "Total Cash",
         "rawType": "int64",
         "type": "integer"
        },
        {
         "name": "Total Debt",
         "rawType": "int64",
         "type": "integer"
        },
        {
         "name": "Debt to Equity",
         "rawType": "float64",
         "type": "float"
        },
        {
         "name": "Current Ratio",
         "rawType": "float64",
         "type": "float"
        },
        {
         "name": "Quick Ratio",
         "rawType": "float64",
         "type": "float"
        },
        {
         "name": "Book Value",
         "rawType": "float64",
         "type": "float"
        },
        {
         "name": "Free Cash Flow",
         "rawType": "float64",
         "type": "float"
        },
        {
         "name": "Operating Cash Flow",
         "rawType": "int64",
         "type": "integer"
        },
        {
         "name": "Dividend Yield (%)",
         "rawType": "float64",
         "type": "float"
        },
        {
         "name": "Dividend Rate (%)",
         "rawType": "float64",
         "type": "float"
        },
        {
         "name": "5Y Avg Dividend Yield (%)",
         "rawType": "float64",
         "type": "float"
        },
        {
         "name": "Payout Ratio (%)",
         "rawType": "float64",
         "type": "float"
        },
        {
         "name": "Price",
         "rawType": "float64",
         "type": "float"
        },
        {
         "name": "Target Price",
         "rawType": "float64",
         "type": "float"
        },
        {
         "name": "Target High",
         "rawType": "int64",
         "type": "integer"
        },
        {
         "name": "Target Low",
         "rawType": "float64",
         "type": "float"
        },
        {
         "name": "Analyst Rating",
         "rawType": "object",
         "type": "string"
        },
        {
         "name": "Analyst Rating Value",
         "rawType": "float64",
         "type": "float"
        },
        {
         "name": "Beta",
         "rawType": "float64",
         "type": "float"
        },
        {
         "name": "52W High",
         "rawType": "float64",
         "type": "float"
        },
        {
         "name": "52W Low",
         "rawType": "float64",
         "type": "float"
        },
        {
         "name": "50 Day Avg",
         "rawType": "float64",
         "type": "float"
        },
        {
         "name": "200 Day Avg",
         "rawType": "float64",
         "type": "float"
        },
        {
         "name": "Short Ratio",
         "rawType": "float64",
         "type": "float"
        },
        {
         "name": "Short % of Float",
         "rawType": "float64",
         "type": "float"
        },
        {
         "name": "Strategy",
         "rawType": "object",
         "type": "string"
        },
        {
         "name": "Weight",
         "rawType": "float64",
         "type": "float"
        },
        {
         "name": "Expected Return",
         "rawType": "float64",
         "type": "float"
        },
        {
         "name": "Standard Deviation",
         "rawType": "float64",
         "type": "float"
        },
        {
         "name": "Sharpe Ratio",
         "rawType": "float64",
         "type": "float"
        }
       ],
       "ref": "e3f6caa0-b3e2-4b22-9c88-f0505acf39ce",
       "rows": [
        [
         "0",
         "MMC",
         "2025-06-02",
         "Marsh & McLennan Companies, Inc.",
         "Financial Services",
         "Insurance Brokers",
         "United States",
         "https://www.marshmclennan.com",
         "115130826752",
         "136148770816",
         "491821141",
         "492728000",
         "28.67",
         "24.78",
         "4.6",
         "8.18",
         "18.35",
         "5.44",
         "0.4432",
         "0.2962",
         "0.3044",
         "0.1613",
         "0.31",
         "0.08",
         "25045999616",
         "0.091",
         "8.15",
         "9.43",
         "-0.011",
         "-0.014",
         "1604000000",
         "22418999296",
         "157.13",
         "1.14",
         "0.5",
         "28.55",
         "4121999872.0",
         "4461000192",
         "0.014",
         "0.0326",
         "0.0138",
         "0.4871",
         "233.66",
         "233.22",
         "276",
         "189.21",
         "hold",
         "2.7",
         "0.83",
         "248.0",
         "205.17",
         "229.54",
         "225.3",
         "2.62",
         "0.01",
         "Markowitz",
         "0.3180873008417999",
         "0.1404486710166235",
         "0.2129288822167514",
         "0.6596036646341547"
        ],
        [
         "1",
         "AMAT",
         "2025-06-02",
         "Applied Materials, Inc.",
         "Technology",
         "Semiconductor Equipment & Materials",
         "United States",
         "https://www.appliedmaterials.com",
         "125791559680",
         "125714595840",
         "799392549",
         "802497984",
         "19.09",
         "16.18",
         "4.48",
         "6.63",
         "14.38",
         "4.48",
         "0.4814",
         "0.3113",
         "0.3055",
         "0.2406",
         "0.36",
         "0.16",
         "28088999936",
         "0.068",
         "8.21",
         "9.69",
         "0.277",
         "0.241",
         "6746999808",
         "6670000128",
         "35.18",
         "2.46",
         "1.62",
         "23.63",
         "3740875008.0",
         "7456000000",
         "0.0117",
         "0.0184",
         "0.0087",
         "0.1946",
         "156.75",
         "198.04",
         "250",
         "152.0",
         "buy",
         "1.79",
         "1.66",
         "255.89",
         "123.74",
         "151.52",
         "173.39",
         "2.58",
         "0.02",
         "Markowitz",
         "0.2289105824374544",
         "0.181314130069788",
         "0.4125107802889521",
         "0.4395379193309388"
        ],
        [
         "2",
         "TMUS",
         "2025-06-02",
         "T-Mobile US, Inc.",
         "Communication Services",
         "Telecom Services",
         "United States",
         "https://www.t-mobile.com",
         "275005997056",
         "384693796864",
         "452736028",
         "1135449984",
         "23.63",
         "22.7",
         "3.33",
         "4.51",
         "12.17",
         "4.65",
         "0.6385",
         "0.3822",
         "0.2298",
         "0.1441",
         "0.19",
         "0.06",
         "82691997696",
         "0.066",
         "10.25",
         "10.67",
         "0.29",
         "0.244",
         "12003000320",
         "121691996160",
         "199.15",
         "1.16",
         "0.9",
         "53.73",
         "9022624768.0",
         "24056000512",
         "0.0145",
         "0.0352",
         "0.0",
         "0.2988",
         "242.2",
         "269.22",
         "305",
         "202.99",
         "buy",
         "2.07",
         "0.63",
         "276.49",
         "171.18",
         "251.2",
         "232.97",
         "3.11",
         "0.03",
         "Markowitz",
         "0.2236721160100146",
         "0.1302604720692437",
         "0.2758334271589185",
         "0.4722432426371426"
        ],
        [
         "3",
         "MRK",
         "2025-06-02",
         "Merck & Co., Inc.",
         "Healthcare",
         "Drug Manufacturers - General",
         "United States",
         "https://www.merck.com",
         "192947535872",
         "218628636672",
         "2507088934",
         "2511030016",
         "11.17",
         "8.17",
         "3.02",
         "4.0",
         "7.59",
         "3.42",
         "0.7707",
         "0.4505",
         "0.4006",
         "0.2727",
         "0.39",
         "0.14",
         "63921999872",
         "-0.016",
         "6.88",
         "9.4",
         "0.075",
         "0.067",
         "9228000256",
         "34844000256",
         "71.99",
         "1.41",
         "0.83",
         "19.21",
         "17124249600.0",
         "20878000128",
         "0.0422",
         "0.0324",
         "0.0297",
         "0.4593",
         "76.84",
         "101.79",
         "138",
         "82.0",
         "buy",
         "1.96",
         "0.44",
         "134.63",
         "73.31",
         "81.27",
         "97.4",
         "2.49",
         "0.02",
         "Markowitz",
         "0.1453300807748326",
         "0.09504320465261173",
         "0.2207470069293311",
         "0.4305526311531754"
        ],
        [
         "4",
         "APO",
         "2025-06-02",
         "Apollo Global Management, Inc.",
         "Financial Services",
         "Asset Management",
         "United States",
         "https://www.apollo.com/institutional/homepage",
         "74688552960",
         "94705582080",
         "446479870",
         "571494016",
         "22.85",
         "15.41",
         "3.06",
         "4.5",
         null,
         "3.88",
         "0.4424",
         "0.0",
         "0.2954",
         "0.1473",
         "0.19",
         "0.02",
         "24387000320",
         "-0.215",
         "5.72",
         "8.48",
         "-0.703",
         "-0.69",
         "25016999936",
         "29268000768",
         "90.49",
         "1.79",
         "1.68",
         "29.06",
         null,
         "4195000064",
         "0.0156",
         "0.0204",
         "0.0276",
         "0.3229",
         "130.69",
         "156.88",
         "179",
         "135.0",
         "buy",
         "1.68",
         "1.57",
         "189.49",
         "95.11",
         "133.28",
         "143.86",
         "7.75",
         "0.05",
         "Markowitz",
         "0.08399991993589846",
         "0.1350803189828564",
         "0.3791834341104514",
         "0.3562400327423302"
        ]
       ],
       "shape": {
        "columns": 59,
        "rows": 5
       }
      },
      "text/html": [
       "<div>\n",
       "<style scoped>\n",
       "    .dataframe tbody tr th:only-of-type {\n",
       "        vertical-align: middle;\n",
       "    }\n",
       "\n",
       "    .dataframe tbody tr th {\n",
       "        vertical-align: top;\n",
       "    }\n",
       "\n",
       "    .dataframe thead th {\n",
       "        text-align: right;\n",
       "    }\n",
       "</style>\n",
       "<table border=\"1\" class=\"dataframe\">\n",
       "  <thead>\n",
       "    <tr style=\"text-align: right;\">\n",
       "      <th></th>\n",
       "      <th>Ticker</th>\n",
       "      <th>Date</th>\n",
       "      <th>Name</th>\n",
       "      <th>Sector</th>\n",
       "      <th>Industry</th>\n",
       "      <th>Country</th>\n",
       "      <th>Website</th>\n",
       "      <th>Market Cap</th>\n",
       "      <th>Enterprise Value</th>\n",
       "      <th>Float Shares</th>\n",
       "      <th>...</th>\n",
       "      <th>52W Low</th>\n",
       "      <th>50 Day Avg</th>\n",
       "      <th>200 Day Avg</th>\n",
       "      <th>Short Ratio</th>\n",
       "      <th>Short % of Float</th>\n",
       "      <th>Strategy</th>\n",
       "      <th>Weight</th>\n",
       "      <th>Expected Return</th>\n",
       "      <th>Standard Deviation</th>\n",
       "      <th>Sharpe Ratio</th>\n",
       "    </tr>\n",
       "  </thead>\n",
       "  <tbody>\n",
       "    <tr>\n",
       "      <th>0</th>\n",
       "      <td>MMC</td>\n",
       "      <td>2025-06-02</td>\n",
       "      <td>Marsh &amp; McLennan Companies, Inc.</td>\n",
       "      <td>Financial Services</td>\n",
       "      <td>Insurance Brokers</td>\n",
       "      <td>United States</td>\n",
       "      <td>https://www.marshmclennan.com</td>\n",
       "      <td>115130826752</td>\n",
       "      <td>136148770816</td>\n",
       "      <td>491821141</td>\n",
       "      <td>...</td>\n",
       "      <td>205.17</td>\n",
       "      <td>229.54</td>\n",
       "      <td>225.30</td>\n",
       "      <td>2.62</td>\n",
       "      <td>0.01</td>\n",
       "      <td>Markowitz</td>\n",
       "      <td>0.318087</td>\n",
       "      <td>0.140449</td>\n",
       "      <td>0.212929</td>\n",
       "      <td>0.659604</td>\n",
       "    </tr>\n",
       "    <tr>\n",
       "      <th>1</th>\n",
       "      <td>AMAT</td>\n",
       "      <td>2025-06-02</td>\n",
       "      <td>Applied Materials, Inc.</td>\n",
       "      <td>Technology</td>\n",
       "      <td>Semiconductor Equipment &amp; Materials</td>\n",
       "      <td>United States</td>\n",
       "      <td>https://www.appliedmaterials.com</td>\n",
       "      <td>125791559680</td>\n",
       "      <td>125714595840</td>\n",
       "      <td>799392549</td>\n",
       "      <td>...</td>\n",
       "      <td>123.74</td>\n",
       "      <td>151.52</td>\n",
       "      <td>173.39</td>\n",
       "      <td>2.58</td>\n",
       "      <td>0.02</td>\n",
       "      <td>Markowitz</td>\n",
       "      <td>0.228911</td>\n",
       "      <td>0.181314</td>\n",
       "      <td>0.412511</td>\n",
       "      <td>0.439538</td>\n",
       "    </tr>\n",
       "    <tr>\n",
       "      <th>2</th>\n",
       "      <td>TMUS</td>\n",
       "      <td>2025-06-02</td>\n",
       "      <td>T-Mobile US, Inc.</td>\n",
       "      <td>Communication Services</td>\n",
       "      <td>Telecom Services</td>\n",
       "      <td>United States</td>\n",
       "      <td>https://www.t-mobile.com</td>\n",
       "      <td>275005997056</td>\n",
       "      <td>384693796864</td>\n",
       "      <td>452736028</td>\n",
       "      <td>...</td>\n",
       "      <td>171.18</td>\n",
       "      <td>251.20</td>\n",
       "      <td>232.97</td>\n",
       "      <td>3.11</td>\n",
       "      <td>0.03</td>\n",
       "      <td>Markowitz</td>\n",
       "      <td>0.223672</td>\n",
       "      <td>0.130260</td>\n",
       "      <td>0.275833</td>\n",
       "      <td>0.472243</td>\n",
       "    </tr>\n",
       "    <tr>\n",
       "      <th>3</th>\n",
       "      <td>MRK</td>\n",
       "      <td>2025-06-02</td>\n",
       "      <td>Merck &amp; Co., Inc.</td>\n",
       "      <td>Healthcare</td>\n",
       "      <td>Drug Manufacturers - General</td>\n",
       "      <td>United States</td>\n",
       "      <td>https://www.merck.com</td>\n",
       "      <td>192947535872</td>\n",
       "      <td>218628636672</td>\n",
       "      <td>2507088934</td>\n",
       "      <td>...</td>\n",
       "      <td>73.31</td>\n",
       "      <td>81.27</td>\n",
       "      <td>97.40</td>\n",
       "      <td>2.49</td>\n",
       "      <td>0.02</td>\n",
       "      <td>Markowitz</td>\n",
       "      <td>0.145330</td>\n",
       "      <td>0.095043</td>\n",
       "      <td>0.220747</td>\n",
       "      <td>0.430553</td>\n",
       "    </tr>\n",
       "    <tr>\n",
       "      <th>4</th>\n",
       "      <td>APO</td>\n",
       "      <td>2025-06-02</td>\n",
       "      <td>Apollo Global Management, Inc.</td>\n",
       "      <td>Financial Services</td>\n",
       "      <td>Asset Management</td>\n",
       "      <td>United States</td>\n",
       "      <td>https://www.apollo.com/institutional/homepage</td>\n",
       "      <td>74688552960</td>\n",
       "      <td>94705582080</td>\n",
       "      <td>446479870</td>\n",
       "      <td>...</td>\n",
       "      <td>95.11</td>\n",
       "      <td>133.28</td>\n",
       "      <td>143.86</td>\n",
       "      <td>7.75</td>\n",
       "      <td>0.05</td>\n",
       "      <td>Markowitz</td>\n",
       "      <td>0.084000</td>\n",
       "      <td>0.135080</td>\n",
       "      <td>0.379183</td>\n",
       "      <td>0.356240</td>\n",
       "    </tr>\n",
       "  </tbody>\n",
       "</table>\n",
       "<p>5 rows × 59 columns</p>\n",
       "</div>"
      ],
      "text/plain": [
       "  Ticker        Date                              Name  \\\n",
       "0    MMC  2025-06-02  Marsh & McLennan Companies, Inc.   \n",
       "1   AMAT  2025-06-02           Applied Materials, Inc.   \n",
       "2   TMUS  2025-06-02                 T-Mobile US, Inc.   \n",
       "3    MRK  2025-06-02                 Merck & Co., Inc.   \n",
       "4    APO  2025-06-02    Apollo Global Management, Inc.   \n",
       "\n",
       "                   Sector                             Industry        Country  \\\n",
       "0      Financial Services                    Insurance Brokers  United States   \n",
       "1              Technology  Semiconductor Equipment & Materials  United States   \n",
       "2  Communication Services                     Telecom Services  United States   \n",
       "3              Healthcare         Drug Manufacturers - General  United States   \n",
       "4      Financial Services                     Asset Management  United States   \n",
       "\n",
       "                                         Website    Market Cap  \\\n",
       "0                  https://www.marshmclennan.com  115130826752   \n",
       "1               https://www.appliedmaterials.com  125791559680   \n",
       "2                       https://www.t-mobile.com  275005997056   \n",
       "3                          https://www.merck.com  192947535872   \n",
       "4  https://www.apollo.com/institutional/homepage   74688552960   \n",
       "\n",
       "   Enterprise Value  Float Shares  ...  52W Low  50 Day Avg  200 Day Avg  \\\n",
       "0      136148770816     491821141  ...   205.17      229.54       225.30   \n",
       "1      125714595840     799392549  ...   123.74      151.52       173.39   \n",
       "2      384693796864     452736028  ...   171.18      251.20       232.97   \n",
       "3      218628636672    2507088934  ...    73.31       81.27        97.40   \n",
       "4       94705582080     446479870  ...    95.11      133.28       143.86   \n",
       "\n",
       "   Short Ratio  Short % of Float   Strategy    Weight  Expected Return  \\\n",
       "0         2.62              0.01  Markowitz  0.318087         0.140449   \n",
       "1         2.58              0.02  Markowitz  0.228911         0.181314   \n",
       "2         3.11              0.03  Markowitz  0.223672         0.130260   \n",
       "3         2.49              0.02  Markowitz  0.145330         0.095043   \n",
       "4         7.75              0.05  Markowitz  0.084000         0.135080   \n",
       "\n",
       "   Standard Deviation  Sharpe Ratio  \n",
       "0            0.212929      0.659604  \n",
       "1            0.412511      0.439538  \n",
       "2            0.275833      0.472243  \n",
       "3            0.220747      0.430553  \n",
       "4            0.379183      0.356240  \n",
       "\n",
       "[5 rows x 59 columns]"
      ]
     },
     "metadata": {},
     "output_type": "display_data"
    },
    {
     "name": "stdout",
     "output_type": "stream",
     "text": [
      "Short-term Portfolio Tickers: ['MSFT', 'NOC']\n"
     ]
    },
    {
     "data": {
      "application/vnd.microsoft.datawrangler.viewer.v0+json": {
       "columns": [
        {
         "name": "index",
         "rawType": "int64",
         "type": "integer"
        },
        {
         "name": "Ticker",
         "rawType": "object",
         "type": "string"
        },
        {
         "name": "Date",
         "rawType": "object",
         "type": "string"
        },
        {
         "name": "Name",
         "rawType": "object",
         "type": "string"
        },
        {
         "name": "Sector",
         "rawType": "object",
         "type": "string"
        },
        {
         "name": "Industry",
         "rawType": "object",
         "type": "string"
        },
        {
         "name": "Country",
         "rawType": "object",
         "type": "string"
        },
        {
         "name": "Website",
         "rawType": "object",
         "type": "string"
        },
        {
         "name": "Market Cap",
         "rawType": "int64",
         "type": "integer"
        },
        {
         "name": "Enterprise Value",
         "rawType": "int64",
         "type": "integer"
        },
        {
         "name": "Float Shares",
         "rawType": "int64",
         "type": "integer"
        },
        {
         "name": "Shares Outstanding",
         "rawType": "int64",
         "type": "integer"
        },
        {
         "name": "P/E (Trailing)",
         "rawType": "float64",
         "type": "float"
        },
        {
         "name": "P/E (Forward)",
         "rawType": "float64",
         "type": "float"
        },
        {
         "name": "P/S",
         "rawType": "float64",
         "type": "float"
        },
        {
         "name": "P/B",
         "rawType": "float64",
         "type": "float"
        },
        {
         "name": "EV/Ebitda",
         "rawType": "float64",
         "type": "float"
        },
        {
         "name": "EV/Revenue",
         "rawType": "float64",
         "type": "float"
        },
        {
         "name": "Gross Margin (%)",
         "rawType": "float64",
         "type": "float"
        },
        {
         "name": "Ebitda Margin (%)",
         "rawType": "float64",
         "type": "float"
        },
        {
         "name": "Operating Margin (%)",
         "rawType": "float64",
         "type": "float"
        },
        {
         "name": "Profit Margin (%)",
         "rawType": "float64",
         "type": "float"
        },
        {
         "name": "ROE",
         "rawType": "float64",
         "type": "float"
        },
        {
         "name": "ROA",
         "rawType": "float64",
         "type": "float"
        },
        {
         "name": "Revenue (TTM)",
         "rawType": "int64",
         "type": "integer"
        },
        {
         "name": "Revenue Growth (%)",
         "rawType": "float64",
         "type": "float"
        },
        {
         "name": "EPS (Trailing)",
         "rawType": "float64",
         "type": "float"
        },
        {
         "name": "EPS (Forward)",
         "rawType": "float64",
         "type": "float"
        },
        {
         "name": "Earnings Growth (%)",
         "rawType": "float64",
         "type": "float"
        },
        {
         "name": "Earnings Quarterly Growth (%)",
         "rawType": "float64",
         "type": "float"
        },
        {
         "name": "Total Cash",
         "rawType": "int64",
         "type": "integer"
        },
        {
         "name": "Total Debt",
         "rawType": "int64",
         "type": "integer"
        },
        {
         "name": "Debt To Equity",
         "rawType": "float64",
         "type": "float"
        },
        {
         "name": "Current Ratio",
         "rawType": "float64",
         "type": "float"
        },
        {
         "name": "Quick Ratio",
         "rawType": "float64",
         "type": "float"
        },
        {
         "name": "Book Value",
         "rawType": "float64",
         "type": "float"
        },
        {
         "name": "Free Cash Flow",
         "rawType": "int64",
         "type": "integer"
        },
        {
         "name": "Operating Cash Flow",
         "rawType": "int64",
         "type": "integer"
        },
        {
         "name": "Dividend Yield (%)",
         "rawType": "float64",
         "type": "float"
        },
        {
         "name": "Dividend Rate (%)",
         "rawType": "float64",
         "type": "float"
        },
        {
         "name": "5Y Avg Dividend Yield (%)",
         "rawType": "float64",
         "type": "float"
        },
        {
         "name": "Payout Ratio (%)",
         "rawType": "float64",
         "type": "float"
        },
        {
         "name": "Price",
         "rawType": "float64",
         "type": "float"
        },
        {
         "name": "Target Price",
         "rawType": "float64",
         "type": "float"
        },
        {
         "name": "Target High",
         "rawType": "float64",
         "type": "float"
        },
        {
         "name": "Target Low",
         "rawType": "float64",
         "type": "float"
        },
        {
         "name": "Analyst Rating",
         "rawType": "object",
         "type": "string"
        },
        {
         "name": "Analyst Rating Value",
         "rawType": "float64",
         "type": "float"
        },
        {
         "name": "Beta",
         "rawType": "float64",
         "type": "float"
        },
        {
         "name": "52W High",
         "rawType": "float64",
         "type": "float"
        },
        {
         "name": "52W Low",
         "rawType": "float64",
         "type": "float"
        },
        {
         "name": "50 Day Avg",
         "rawType": "float64",
         "type": "float"
        },
        {
         "name": "200 Day Avg",
         "rawType": "float64",
         "type": "float"
        },
        {
         "name": "Short Ratio",
         "rawType": "float64",
         "type": "float"
        },
        {
         "name": "Short % Of Float",
         "rawType": "float64",
         "type": "float"
        },
        {
         "name": "Strategy",
         "rawType": "object",
         "type": "string"
        },
        {
         "name": "Best Sharpe",
         "rawType": "float64",
         "type": "float"
        },
        {
         "name": "Best Sortino",
         "rawType": "float64",
         "type": "float"
        },
        {
         "name": "CAGR",
         "rawType": "float64",
         "type": "float"
        },
        {
         "name": "Max Drawdown",
         "rawType": "float64",
         "type": "float"
        },
        {
         "name": "Volatility",
         "rawType": "float64",
         "type": "float"
        },
        {
         "name": "Short Period",
         "rawType": "int64",
         "type": "integer"
        },
        {
         "name": "Long Period",
         "rawType": "int64",
         "type": "integer"
        },
        {
         "name": "Articles In Last Week",
         "rawType": "int64",
         "type": "integer"
        },
        {
         "name": "Company News Score",
         "rawType": "float64",
         "type": "float"
        },
        {
         "name": "Bearish Percent",
         "rawType": "float64",
         "type": "float"
        },
        {
         "name": "Bullish Percent",
         "rawType": "float64",
         "type": "float"
        },
        {
         "name": "Average Sentiment Score",
         "rawType": "float64",
         "type": "float"
        },
        {
         "name": "Sector Average Bullish Percent",
         "rawType": "float64",
         "type": "float"
        },
        {
         "name": "Sector Average News Score",
         "rawType": "float64",
         "type": "float"
        },
        {
         "name": "Weight",
         "rawType": "float64",
         "type": "float"
        }
       ],
       "ref": "3087b2fa-50a3-4715-ad9a-820e930c305c",
       "rows": [
        [
         "0",
         "MSFT",
         "2025-06-02",
         "Microsoft Corporation",
         "Technology",
         "Software - Infrastructure",
         "United States",
         "https://www.microsoft.com",
         "3421643997184",
         "3447046799360",
         "7422063978",
         "7432540160",
         "35.58",
         "30.79",
         "12.67",
         "10.63",
         "23.11",
         "12.77",
         "0.6907",
         "0.5525",
         "0.4567",
         "0.3579",
         "0.34",
         "0.15",
         "270010007552",
         "0.133",
         "12.94",
         "14.95",
         "0.177",
         "0.177",
         "79617998848",
         "105018998784",
         "32.63",
         "1.37",
         "1.24",
         "43.3",
         "54817001472",
         "130710003712",
         "0.0072",
         "0.0332",
         "0.0083",
         "0.2442",
         "460.36",
         "509.92",
         "650.0",
         "429.86",
         "strong_buy",
         "1.41",
         "1.03",
         "468.35",
         "344.79",
         "409.1",
         "417.01",
         "2.48",
         "0.01",
         "SMA_Cross_Signal",
         "1.086255387229137",
         "1.438083302950145",
         "0.2952583799162136",
         "-0.2804226918798668",
         "0.2724514850886837",
         "85",
         "125",
         "42",
         "0.5954",
         "0.0476",
         "0.619",
         "0.1909",
         "0.4767",
         "0.565",
         "0.5"
        ],
        [
         "1",
         "NOC",
         "2025-06-02",
         "Northrop Grumman Corporation",
         "Industrials",
         "Aerospace & Defense",
         "United States",
         "https://www.northropgrumman.com",
         "69771976704",
         "86213066752",
         "135162959",
         "143928000",
         "19.12",
         "17.28",
         "1.73",
         "4.66",
         "13.6",
         "2.14",
         "0.1934",
         "0.1571",
         "0.0743",
         "0.0919",
         "0.25",
         "0.06",
         "40368001024",
         "-0.066",
         "25.35",
         "28.06",
         "-0.475",
         "-0.49",
         "1684999936",
         "18126000128",
         "120.97",
         "0.95",
         "0.74",
         "104.0",
         "2911749888",
         "3528999936",
         "0.0191",
         "0.0924",
         "0.016",
         "0.3252",
         "484.77",
         "542.66",
         "621.45",
         "477.0",
         "buy",
         "2.04",
         "0.14",
         "555.57",
         "418.6",
         "492.58",
         "495.18",
         "1.97",
         "0.02",
         "SMA_Cross_Signal",
         "0.8564293846468928",
         "1.104461605415727",
         "0.1969981194642276",
         "-0.3350291928958286",
         "0.2452452095245376",
         "85",
         "125",
         "3",
         "0.6516",
         "0.0",
         "1.0",
         "0.3031",
         "0.5147",
         "0.5657",
         "0.5"
        ]
       ],
       "shape": {
        "columns": 70,
        "rows": 2
       }
      },
      "text/html": [
       "<div>\n",
       "<style scoped>\n",
       "    .dataframe tbody tr th:only-of-type {\n",
       "        vertical-align: middle;\n",
       "    }\n",
       "\n",
       "    .dataframe tbody tr th {\n",
       "        vertical-align: top;\n",
       "    }\n",
       "\n",
       "    .dataframe thead th {\n",
       "        text-align: right;\n",
       "    }\n",
       "</style>\n",
       "<table border=\"1\" class=\"dataframe\">\n",
       "  <thead>\n",
       "    <tr style=\"text-align: right;\">\n",
       "      <th></th>\n",
       "      <th>Ticker</th>\n",
       "      <th>Date</th>\n",
       "      <th>Name</th>\n",
       "      <th>Sector</th>\n",
       "      <th>Industry</th>\n",
       "      <th>Country</th>\n",
       "      <th>Website</th>\n",
       "      <th>Market Cap</th>\n",
       "      <th>Enterprise Value</th>\n",
       "      <th>Float Shares</th>\n",
       "      <th>...</th>\n",
       "      <th>Short Period</th>\n",
       "      <th>Long Period</th>\n",
       "      <th>Articles In Last Week</th>\n",
       "      <th>Company News Score</th>\n",
       "      <th>Bearish Percent</th>\n",
       "      <th>Bullish Percent</th>\n",
       "      <th>Average Sentiment Score</th>\n",
       "      <th>Sector Average Bullish Percent</th>\n",
       "      <th>Sector Average News Score</th>\n",
       "      <th>Weight</th>\n",
       "    </tr>\n",
       "  </thead>\n",
       "  <tbody>\n",
       "    <tr>\n",
       "      <th>0</th>\n",
       "      <td>MSFT</td>\n",
       "      <td>2025-06-02</td>\n",
       "      <td>Microsoft Corporation</td>\n",
       "      <td>Technology</td>\n",
       "      <td>Software - Infrastructure</td>\n",
       "      <td>United States</td>\n",
       "      <td>https://www.microsoft.com</td>\n",
       "      <td>3421643997184</td>\n",
       "      <td>3447046799360</td>\n",
       "      <td>7422063978</td>\n",
       "      <td>...</td>\n",
       "      <td>85</td>\n",
       "      <td>125</td>\n",
       "      <td>42</td>\n",
       "      <td>0.5954</td>\n",
       "      <td>0.0476</td>\n",
       "      <td>0.619</td>\n",
       "      <td>0.1909</td>\n",
       "      <td>0.4767</td>\n",
       "      <td>0.5650</td>\n",
       "      <td>0.5</td>\n",
       "    </tr>\n",
       "    <tr>\n",
       "      <th>1</th>\n",
       "      <td>NOC</td>\n",
       "      <td>2025-06-02</td>\n",
       "      <td>Northrop Grumman Corporation</td>\n",
       "      <td>Industrials</td>\n",
       "      <td>Aerospace &amp; Defense</td>\n",
       "      <td>United States</td>\n",
       "      <td>https://www.northropgrumman.com</td>\n",
       "      <td>69771976704</td>\n",
       "      <td>86213066752</td>\n",
       "      <td>135162959</td>\n",
       "      <td>...</td>\n",
       "      <td>85</td>\n",
       "      <td>125</td>\n",
       "      <td>3</td>\n",
       "      <td>0.6516</td>\n",
       "      <td>0.0000</td>\n",
       "      <td>1.000</td>\n",
       "      <td>0.3031</td>\n",
       "      <td>0.5147</td>\n",
       "      <td>0.5657</td>\n",
       "      <td>0.5</td>\n",
       "    </tr>\n",
       "  </tbody>\n",
       "</table>\n",
       "<p>2 rows × 70 columns</p>\n",
       "</div>"
      ],
      "text/plain": [
       "  Ticker        Date                          Name       Sector  \\\n",
       "0   MSFT  2025-06-02         Microsoft Corporation   Technology   \n",
       "1    NOC  2025-06-02  Northrop Grumman Corporation  Industrials   \n",
       "\n",
       "                    Industry        Country                          Website  \\\n",
       "0  Software - Infrastructure  United States        https://www.microsoft.com   \n",
       "1        Aerospace & Defense  United States  https://www.northropgrumman.com   \n",
       "\n",
       "      Market Cap  Enterprise Value  Float Shares  ...  Short Period  \\\n",
       "0  3421643997184     3447046799360    7422063978  ...            85   \n",
       "1    69771976704       86213066752     135162959  ...            85   \n",
       "\n",
       "   Long Period  Articles In Last Week  Company News Score  Bearish Percent  \\\n",
       "0          125                     42              0.5954           0.0476   \n",
       "1          125                      3              0.6516           0.0000   \n",
       "\n",
       "   Bullish Percent  Average Sentiment Score  Sector Average Bullish Percent  \\\n",
       "0            0.619                   0.1909                          0.4767   \n",
       "1            1.000                   0.3031                          0.5147   \n",
       "\n",
       "   Sector Average News Score  Weight  \n",
       "0                     0.5650     0.5  \n",
       "1                     0.5657     0.5  \n",
       "\n",
       "[2 rows x 70 columns]"
      ]
     },
     "metadata": {},
     "output_type": "display_data"
    }
   ],
   "source": [
    "# Long-term portfolio data\n",
    "portfolio_long_df = pd.read_excel(output_file, sheet_name=\"long_term\")\n",
    "portfolio_long_df['Weight'] = portfolio_long_df['Weight'].replace('%', '', regex=True).astype(float)\n",
    "portfolio_long_tickers = portfolio_long_df[\"Ticker\"].tolist()\n",
    "\n",
    "# Short-term portfolio data\n",
    "portfolio_short_df = pd.read_excel(output_file, sheet_name=\"short_term\")\n",
    "portfolio_short_df['Weight'] = portfolio_short_df['Weight'].replace('%', '', regex=True).astype(float)\n",
    "portfolio_short_tickers = portfolio_short_df[\"Ticker\"].tolist()\n",
    "\n",
    "print(\"Long-term Portfolio Tickers:\", portfolio_long_tickers)\n",
    "display(portfolio_long_df)\n",
    "print(\"Short-term Portfolio Tickers:\", portfolio_short_tickers)\n",
    "display(portfolio_short_df)"
   ]
  },
  {
   "cell_type": "markdown",
   "metadata": {},
   "source": [
    "### Step 4: Download Returns\n"
   ]
  },
  {
   "cell_type": "code",
   "execution_count": null,
   "metadata": {},
   "outputs": [
    {
     "name": "stdout",
     "output_type": "stream",
     "text": [
      "Found 5 of 5 tickers in data/daily_stock_quotes.csv\n",
      "Missing tickers: []\n",
      "Found 2 of 2 tickers in data/daily_stock_quotes.csv\n",
      "Missing tickers: []\n",
      "Found 1 of 1 tickers in data/daily_benchmark_quotes.csv\n",
      "Missing tickers: []\n",
      "Found 1 of 1 tickers in data/daily_benchmark_quotes.csv\n",
      "Missing tickers: []\n",
      "\n",
      "Sharpe Ratios for Long-term assets:\n",
      "AMAT: 0.5381\n",
      "APO: 0.6056\n",
      "MMC: 0.7671\n",
      "MRK: 0.2862\n",
      "TMUS: 0.7004\n",
      "\n",
      "Sharpe Ratios for Short-term assets:\n",
      "MSFT: 0.9075\n",
      "NOC: 0.5229\n"
     ]
    },
    {
     "data": {
      "application/vnd.microsoft.datawrangler.viewer.v0+json": {
       "columns": [
        {
         "name": "Date",
         "rawType": "datetime64[ns]",
         "type": "datetime"
        },
        {
         "name": "AMAT",
         "rawType": "float64",
         "type": "float"
        },
        {
         "name": "APO",
         "rawType": "float64",
         "type": "float"
        },
        {
         "name": "MMC",
         "rawType": "float64",
         "type": "float"
        },
        {
         "name": "MRK",
         "rawType": "float64",
         "type": "float"
        },
        {
         "name": "TMUS",
         "rawType": "float64",
         "type": "float"
        }
       ],
       "ref": "b08338e5-dba1-4210-bc7e-06ba50ddd4dc",
       "rows": [
        [
         "2015-06-10 00:00:00",
         "0.006775858787254222",
         "0.00221975673831281",
         "0.016006825400531183",
         "0.012977831748713815",
         "-0.003168737797965971"
        ],
        [
         "2015-06-11 00:00:00",
         "-0.013027655222523011",
         "0.0022148403295528213",
         "0.008008050803342751",
         "-0.004307257197580332",
         "-0.014116628085451043"
        ],
        [
         "2015-06-12 00:00:00",
         "-0.008013780723553656",
         "-0.005917177028088507",
         "-0.0037958291505675312",
         "-0.01790514807350351",
         "0.022806610354882566"
        ],
        [
         "2015-06-15 00:00:00",
         "0.004587164006906141",
         "-0.0052064081905738606",
         "-0.005016565150795643",
         "-0.013023897078572842",
         "-0.0010493180396177462"
        ],
        [
         "2015-06-16 00:00:00",
         "0.005135531971616433",
         "-0.0007459903367214449",
         "0.0034140007052544407",
         "0.010334737653332354",
         "-0.002891314933121042"
        ]
       ],
       "shape": {
        "columns": 5,
        "rows": 5
       }
      },
      "text/html": [
       "<div>\n",
       "<style scoped>\n",
       "    .dataframe tbody tr th:only-of-type {\n",
       "        vertical-align: middle;\n",
       "    }\n",
       "\n",
       "    .dataframe tbody tr th {\n",
       "        vertical-align: top;\n",
       "    }\n",
       "\n",
       "    .dataframe thead th {\n",
       "        text-align: right;\n",
       "    }\n",
       "</style>\n",
       "<table border=\"1\" class=\"dataframe\">\n",
       "  <thead>\n",
       "    <tr style=\"text-align: right;\">\n",
       "      <th></th>\n",
       "      <th>AMAT</th>\n",
       "      <th>APO</th>\n",
       "      <th>MMC</th>\n",
       "      <th>MRK</th>\n",
       "      <th>TMUS</th>\n",
       "    </tr>\n",
       "    <tr>\n",
       "      <th>Date</th>\n",
       "      <th></th>\n",
       "      <th></th>\n",
       "      <th></th>\n",
       "      <th></th>\n",
       "      <th></th>\n",
       "    </tr>\n",
       "  </thead>\n",
       "  <tbody>\n",
       "    <tr>\n",
       "      <th>2015-06-10</th>\n",
       "      <td>0.006776</td>\n",
       "      <td>0.002220</td>\n",
       "      <td>0.016007</td>\n",
       "      <td>0.012978</td>\n",
       "      <td>-0.003169</td>\n",
       "    </tr>\n",
       "    <tr>\n",
       "      <th>2015-06-11</th>\n",
       "      <td>-0.013028</td>\n",
       "      <td>0.002215</td>\n",
       "      <td>0.008008</td>\n",
       "      <td>-0.004307</td>\n",
       "      <td>-0.014117</td>\n",
       "    </tr>\n",
       "    <tr>\n",
       "      <th>2015-06-12</th>\n",
       "      <td>-0.008014</td>\n",
       "      <td>-0.005917</td>\n",
       "      <td>-0.003796</td>\n",
       "      <td>-0.017905</td>\n",
       "      <td>0.022807</td>\n",
       "    </tr>\n",
       "    <tr>\n",
       "      <th>2015-06-15</th>\n",
       "      <td>0.004587</td>\n",
       "      <td>-0.005206</td>\n",
       "      <td>-0.005017</td>\n",
       "      <td>-0.013024</td>\n",
       "      <td>-0.001049</td>\n",
       "    </tr>\n",
       "    <tr>\n",
       "      <th>2015-06-16</th>\n",
       "      <td>0.005136</td>\n",
       "      <td>-0.000746</td>\n",
       "      <td>0.003414</td>\n",
       "      <td>0.010335</td>\n",
       "      <td>-0.002891</td>\n",
       "    </tr>\n",
       "  </tbody>\n",
       "</table>\n",
       "</div>"
      ],
      "text/plain": [
       "                AMAT       APO       MMC       MRK      TMUS\n",
       "Date                                                        \n",
       "2015-06-10  0.006776  0.002220  0.016007  0.012978 -0.003169\n",
       "2015-06-11 -0.013028  0.002215  0.008008 -0.004307 -0.014117\n",
       "2015-06-12 -0.008014 -0.005917 -0.003796 -0.017905  0.022807\n",
       "2015-06-15  0.004587 -0.005206 -0.005017 -0.013024 -0.001049\n",
       "2015-06-16  0.005136 -0.000746  0.003414  0.010335 -0.002891"
      ]
     },
     "metadata": {},
     "output_type": "display_data"
    },
    {
     "data": {
      "application/vnd.microsoft.datawrangler.viewer.v0+json": {
       "columns": [
        {
         "name": "Date",
         "rawType": "datetime64[ns]",
         "type": "datetime"
        },
        {
         "name": "MSFT",
         "rawType": "float64",
         "type": "float"
        },
        {
         "name": "NOC",
         "rawType": "float64",
         "type": "float"
        }
       ],
       "ref": "796718bc-c507-424d-97d7-f138df3db401",
       "rows": [
        [
         "2015-06-10 00:00:00",
         "0.02100077180105537",
         "0.008452634295687914"
        ],
        [
         "2015-06-11 00:00:00",
         "-0.003717937112112131",
         "0.013858050717310645"
        ],
        [
         "2015-06-12 00:00:00",
         "-0.010233460078714233",
         "0.0018187775556774517"
        ],
        [
         "2015-06-15 00:00:00",
         "-0.010846366895112876",
         "-0.006855836057608509"
        ],
        [
         "2015-06-16 00:00:00",
         "0.007831289234135142",
         "0.009541570623035279"
        ]
       ],
       "shape": {
        "columns": 2,
        "rows": 5
       }
      },
      "text/html": [
       "<div>\n",
       "<style scoped>\n",
       "    .dataframe tbody tr th:only-of-type {\n",
       "        vertical-align: middle;\n",
       "    }\n",
       "\n",
       "    .dataframe tbody tr th {\n",
       "        vertical-align: top;\n",
       "    }\n",
       "\n",
       "    .dataframe thead th {\n",
       "        text-align: right;\n",
       "    }\n",
       "</style>\n",
       "<table border=\"1\" class=\"dataframe\">\n",
       "  <thead>\n",
       "    <tr style=\"text-align: right;\">\n",
       "      <th></th>\n",
       "      <th>MSFT</th>\n",
       "      <th>NOC</th>\n",
       "    </tr>\n",
       "    <tr>\n",
       "      <th>Date</th>\n",
       "      <th></th>\n",
       "      <th></th>\n",
       "    </tr>\n",
       "  </thead>\n",
       "  <tbody>\n",
       "    <tr>\n",
       "      <th>2015-06-10</th>\n",
       "      <td>0.021001</td>\n",
       "      <td>0.008453</td>\n",
       "    </tr>\n",
       "    <tr>\n",
       "      <th>2015-06-11</th>\n",
       "      <td>-0.003718</td>\n",
       "      <td>0.013858</td>\n",
       "    </tr>\n",
       "    <tr>\n",
       "      <th>2015-06-12</th>\n",
       "      <td>-0.010233</td>\n",
       "      <td>0.001819</td>\n",
       "    </tr>\n",
       "    <tr>\n",
       "      <th>2015-06-15</th>\n",
       "      <td>-0.010846</td>\n",
       "      <td>-0.006856</td>\n",
       "    </tr>\n",
       "    <tr>\n",
       "      <th>2015-06-16</th>\n",
       "      <td>0.007831</td>\n",
       "      <td>0.009542</td>\n",
       "    </tr>\n",
       "  </tbody>\n",
       "</table>\n",
       "</div>"
      ],
      "text/plain": [
       "                MSFT       NOC\n",
       "Date                          \n",
       "2015-06-10  0.021001  0.008453\n",
       "2015-06-11 -0.003718  0.013858\n",
       "2015-06-12 -0.010233  0.001819\n",
       "2015-06-15 -0.010846 -0.006856\n",
       "2015-06-16  0.007831  0.009542"
      ]
     },
     "metadata": {},
     "output_type": "display_data"
    }
   ],
   "source": [
    "# Long-term stock returns\n",
    "stock_long_quotes = load_and_filter_data('data/daily_stock_quotes.csv', portfolio_long_tickers, start_date, end_date)\n",
    "stock_long_returns = np.log(stock_long_quotes / stock_long_quotes.shift(1)).dropna()\n",
    "\n",
    "# Short-term stock returns\n",
    "stock_short_quotes = load_and_filter_data('data/daily_stock_quotes.csv', portfolio_short_tickers, start_date, end_date)\n",
    "stock_short_returns = np.log(stock_short_quotes / stock_short_quotes.shift(1)).dropna()\n",
    "\n",
    "# Long-term benchmark returns\n",
    "benchmark_long_quotes = load_and_filter_data('data/daily_benchmark_quotes.csv', benchmark_long, start_date, end_date)\n",
    "benchmark_long_returns = np.log(benchmark_long_quotes / benchmark_long_quotes.shift(1)).dropna()\n",
    "\n",
    "# Short-term benchmark returns\n",
    "benchmark_short_quotes = load_and_filter_data('data/daily_benchmark_quotes.csv', benchmark_short, start_date, end_date)\n",
    "benchmark_short_returns = np.log(benchmark_short_quotes / benchmark_short_quotes.shift(1)).dropna()\n",
    "\n",
    "# Display summary statistics for all assets\n",
    "print(\"\\nSharpe Ratios for Long-term assets:\")\n",
    "sharpes_long = {col: qs.stats.sharpe(stock_long_returns[col]) for col in stock_long_returns.columns}\n",
    "for ticker, sharpe in sharpes_long.items():\n",
    "    print(f\"{ticker}: {sharpe:.4f}\")\n",
    "\n",
    "print(\"\\nSharpe Ratios for Short-term assets:\")\n",
    "sharpes_short = {col: qs.stats.sharpe(stock_short_returns[col]) for col in stock_short_returns.columns}\n",
    "for ticker, sharpe in sharpes_short.items():\n",
    "    print(f\"{ticker}: {sharpe:.4f}\")\n",
    "\n",
    "display(stock_long_returns.head())\n",
    "display(stock_short_returns.head())\n"
   ]
  },
  {
   "cell_type": "markdown",
   "metadata": {},
   "source": [
    "### Step 5: Split Data into Training and Testing Sets"
   ]
  },
  {
   "cell_type": "code",
   "execution_count": null,
   "metadata": {},
   "outputs": [
    {
     "name": "stdout",
     "output_type": "stream",
     "text": [
      "Training: 2010 rows (80.0%) | Testing: 503 rows (20.0%)\n",
      "Training period: 2015-06-09 00:00:00 to 2023-06-01 00:00:00\n",
      "Testing period: 2023-06-02 00:00:00 to 2025-06-04 00:00:00\n"
     ]
    }
   ],
   "source": [
    "total_rows = len(stock_long_quotes)\n",
    "train_size = int(0.8 * total_rows)\n",
    "training_set = stock_long_quotes.iloc[:train_size]\n",
    "test_set = stock_long_quotes.iloc[train_size:]\n",
    "\n",
    "print(f\"Training: {len(training_set)} rows ({len(training_set)/total_rows:.1%}) | Testing: {len(test_set)} rows ({len(test_set)/total_rows:.1%})\")\n",
    "print(f\"Training period: {training_set.index[0]} to {training_set.index[-1]}\")\n",
    "print(f\"Testing period: {test_set.index[0]} to {test_set.index[-1]}\")"
   ]
  },
  {
   "cell_type": "markdown",
   "metadata": {},
   "source": [
    "### Step 5: Plot Return Comparisons\n"
   ]
  },
  {
   "cell_type": "code",
   "execution_count": null,
   "metadata": {},
   "outputs": [
    {
     "name": "stdout",
     "output_type": "stream",
     "text": [
      "\n",
      "Long-term Portfolio Weights:\n",
      "MMC: 31.81%\n",
      "AMAT: 22.89%\n",
      "TMUS: 22.37%\n",
      "MRK: 14.53%\n",
      "APO: 8.40%\n",
      "\n",
      "Short-term Portfolio Weights:\n",
      "MSFT: 50.00%\n",
      "NOC: 50.00%\n",
      "\n",
      "Long-term Portfolio Performance Summary:\n",
      "Sharpe Ratio (Weighted Portfolio): 0.8386\n",
      "Sharpe Ratio (Equal-Weight): 0.8155\n",
      "\n",
      "Short-term Portfolio Performance Summary:\n",
      "Sharpe Ratio (Weighted Portfolio): 0.9055\n",
      "Sharpe Ratio (Equal-Weight): 0.9055\n"
     ]
    }
   ],
   "source": [
    "# Long-term portfolio returns\n",
    "portfolio_long_weights = portfolio_long_df.set_index('Ticker')['Weight'].to_dict()\n",
    "weighted_long_returns = pd.DataFrame()\n",
    "\n",
    "print(\"\\nLong-term Portfolio Weights:\")\n",
    "for ticker in portfolio_long_tickers:\n",
    "    weight = portfolio_long_weights.get(ticker, 0)\n",
    "    print(f\"{ticker}: {weight:.2%}\")\n",
    "    if ticker in stock_long_returns.columns:\n",
    "        weighted_long_returns[ticker] = stock_long_returns[ticker] * weight\n",
    "\n",
    "# Sum across all weighted returns to get the long-term portfolio return\n",
    "portfolio_long_return = weighted_long_returns.sum(axis=1)\n",
    "\n",
    "# Short-term portfolio returns\n",
    "portfolio_short_weights = portfolio_short_df.set_index('Ticker')['Weight'].to_dict()\n",
    "weighted_short_returns = pd.DataFrame()\n",
    "\n",
    "print(\"\\nShort-term Portfolio Weights:\")\n",
    "for ticker in portfolio_short_tickers:\n",
    "    weight = portfolio_short_weights.get(ticker, 0)\n",
    "    print(f\"{ticker}: {weight:.2%}\")\n",
    "    if ticker in stock_short_returns.columns:\n",
    "        weighted_short_returns[ticker] = stock_short_returns[ticker] * weight\n",
    "\n",
    "# Sum across all weighted returns to get the short-term portfolio return\n",
    "portfolio_short_return = weighted_short_returns.sum(axis=1)\n",
    "\n",
    "# Create equal-weight portfolio for comparison\n",
    "equal_weight_long = 1/len([t for t in portfolio_long_tickers if t in stock_long_returns.columns])\n",
    "equal_weighted_long_returns = pd.DataFrame()\n",
    "\n",
    "for ticker in portfolio_long_tickers:\n",
    "    if ticker in stock_long_returns.columns:\n",
    "        equal_weighted_long_returns[ticker] = stock_long_returns[ticker] * equal_weight_long\n",
    "        \n",
    "equal_weight_long_return = equal_weighted_long_returns.sum(axis=1)\n",
    "\n",
    "# Create equal-weight portfolio for short-term comparison\n",
    "equal_weight_short = 1/len([t for t in portfolio_short_tickers if t in stock_short_returns.columns])\n",
    "equal_weighted_short_returns = pd.DataFrame()\n",
    "\n",
    "for ticker in portfolio_short_tickers:\n",
    "    if ticker in stock_short_returns.columns:\n",
    "        equal_weighted_short_returns[ticker] = stock_short_returns[ticker] * equal_weight_short\n",
    "        \n",
    "equal_weight_short_return = equal_weighted_short_returns.sum(axis=1)\n",
    "\n",
    "print(\"\\nLong-term Portfolio Performance Summary:\")\n",
    "print(f\"Sharpe Ratio (Weighted Portfolio): {qs.stats.sharpe(portfolio_long_return):.4f}\")\n",
    "print(f\"Sharpe Ratio (Equal-Weight): {qs.stats.sharpe(equal_weight_long_return):.4f}\")\n",
    "\n",
    "print(\"\\nShort-term Portfolio Performance Summary:\")\n",
    "print(f\"Sharpe Ratio (Weighted Portfolio): {qs.stats.sharpe(portfolio_short_return):.4f}\")\n",
    "print(f\"Sharpe Ratio (Equal-Weight): {qs.stats.sharpe(equal_weight_short_return):.4f}\")\n",
    "\n",
    "plt.figure(figsize=(12, 6))\n",
    "(1 + portfolio_long_return).cumprod().plot(label='Weighted Long-term Portfolio')\n",
    "(1 + equal_weight_long_return).cumprod().plot(label='Equal Weight Long-term')\n",
    "(1 + benchmark_long_returns).cumprod().plot(label=benchmark_long)\n",
    "plt.legend()\n",
    "plt.title('Long-term Performance Comparison')\n",
    "plt.ylabel('Cumulative Return')\n",
    "plt.grid(True)\n",
    "plt.show()\n",
    "\n",
    "plt.figure(figsize=(12, 6))\n",
    "(1 + portfolio_short_return).cumprod().plot(label='Weighted Short-term Portfolio')\n",
    "(1 + equal_weight_short_return).cumprod().plot(label='Equal Weight Short-term')\n",
    "(1 + benchmark_short_returns).cumprod().plot(label=benchmark_short)\n",
    "plt.legend()\n",
    "plt.title('Short-term Performance Comparison')\n",
    "plt.ylabel('Cumulative Return')\n",
    "plt.grid(True)\n",
    "plt.show()\n"
   ]
  },
  {
   "cell_type": "markdown",
   "metadata": {},
   "source": [
    "### Step 6: Generate Reports\n"
   ]
  },
  {
   "cell_type": "code",
   "execution_count": null,
   "metadata": {},
   "outputs": [
    {
     "name": "stdout",
     "output_type": "stream",
     "text": [
      "Test period: 2023-06-02 00:00:00 to 2025-06-04 00:00:00\n"
     ]
    }
   ],
   "source": [
    "# Filter portfolio_return and benchmark_returns to match test_set dates\n",
    "test_start_date = test_set.index[0]\n",
    "test_end_date = test_set.index[-1]\n",
    "\n",
    "print(f\"Test period: {test_start_date} to {test_end_date}\")"
   ]
  },
  {
   "cell_type": "markdown",
   "metadata": {},
   "source": [
    "#### **Long-Term Portfolio Performance**"
   ]
  },
  {
   "cell_type": "code",
   "execution_count": null,
   "metadata": {},
   "outputs": [
    {
     "name": "stdout",
     "output_type": "stream",
     "text": [
      "\n",
      "============================================================\n",
      "LONG-TERM PORTFOLIO BACKTESTING\n",
      "============================================================\n",
      "Long-term Portfolio weights:\n",
      "MMC: 0.3181\n",
      "AMAT: 0.2289\n",
      "TMUS: 0.2237\n",
      "MRK: 0.1453\n",
      "APO: 0.0840\n"
     ]
    },
    {
     "name": "stderr",
     "output_type": "stream",
     "text": [
      "100%|██████████| 2/2 [00:00<00:00,  7.84it/s]\n"
     ]
    },
    {
     "name": "stdout",
     "output_type": "stream",
     "text": [
      "\n",
      "Long-term Backtest Results:\n",
      "Stat                 Long-term Portfolio    YYY\n",
      "-------------------  ---------------------  ----------\n",
      "Start                2023-06-01             2023-06-01\n",
      "End                  2025-06-04             2025-06-04\n",
      "Risk-free rate       4.24%                  4.24%\n",
      "\n",
      "Total Return         29.04%                 21.14%\n",
      "Daily Sharpe         0.64                   0.56\n",
      "Daily Sortino        1.04                   0.80\n",
      "CAGR                 13.53%                 10.01%\n",
      "Max Drawdown         -13.94%                -14.44%\n",
      "Calmar Ratio         0.97                   0.69\n",
      "\n",
      "MTD                  0.86%                  0.70%\n",
      "3m                   -2.88%                 0.35%\n",
      "6m                   -6.06%                 -1.79%\n",
      "YTD                  1.51%                  3.13%\n",
      "1Y                   2.86%                  6.77%\n",
      "3Y (ann.)            13.53%                 10.01%\n",
      "5Y (ann.)            -                      -\n",
      "10Y (ann.)           -                      -\n",
      "Since Incep. (ann.)  13.53%                 10.01%\n",
      "\n",
      "Daily Sharpe         0.64                   0.56\n",
      "Daily Sortino        1.04                   0.80\n",
      "Daily Mean (ann.)    13.90%                 10.18%\n",
      "Daily Vol (ann.)     15.17%                 10.85%\n",
      "Daily Skew           0.17                   -1.37\n",
      "Daily Kurt           12.54                  22.56\n",
      "Best Day             7.63%                  4.84%\n",
      "Worst Day            -6.67%                 -6.40%\n",
      "\n",
      "Monthly Sharpe       0.71                   0.55\n",
      "Monthly Sortino      1.38                   1.04\n",
      "Monthly Mean (ann.)  13.05%                 9.73%\n",
      "Monthly Vol (ann.)   12.56%                 10.20%\n",
      "Monthly Skew         0.06                   0.28\n",
      "Monthly Kurt         0.61                   0.60\n",
      "Best Month           8.89%                  8.53%\n",
      "Worst Month          -7.66%                 -4.53%\n",
      "\n",
      "Yearly Sharpe        0.26                   0.12\n",
      "Yearly Sortino       1.48                   0.95\n",
      "Yearly Mean          7.09%                  4.98%\n",
      "Yearly Vol           11.01%                 6.12%\n",
      "Yearly Skew          -                      -\n",
      "Yearly Kurt          -                      -\n",
      "Best Year            19.77%                 11.81%\n",
      "Worst Year           0.00%                  0.00%\n",
      "\n",
      "Avg. Drawdown        -1.89%                 -1.59%\n",
      "Avg. Drawdown Days   17.19                  13.81\n",
      "Avg. Up Month        3.70%                  2.86%\n",
      "Avg. Down Month      -1.75%                 -1.79%\n",
      "Win Year %           100.00%                100.00%\n",
      "Win 12m %            92.86%                 100.00%\n",
      "\n",
      "Generating Long-term QuantStats reports...\n",
      "Portfolio return length: 503\n",
      "Benchmark return length: 503\n",
      "Added download button and removed QuantStats attribution from portfolios/portfolio_vs_benchmark_long_term-2025-06-06.html\n"
     ]
    },
    {
     "data": {
      "text/html": [
       "<h4>Performance Metrics</h4>"
      ],
      "text/plain": [
       "<IPython.core.display.HTML object>"
      ]
     },
     "metadata": {},
     "output_type": "display_data"
    },
    {
     "name": "stdout",
     "output_type": "stream",
     "text": [
      "                           YYY         Strategy\n",
      "-------------------------  ----------  ----------\n",
      "Start Period               2023-06-02  2023-06-02\n",
      "End Period                 2025-06-04  2025-06-04\n",
      "Risk-Free Rate             4.24%       4.24%\n",
      "Time in Market             90.0%       100.0%\n",
      "\n",
      "Cumulative Return          24.18%      30.11%\n",
      "CAGR﹪                     0.03%       0.04%\n",
      "\n",
      "Sharpe                     0.65        0.65\n",
      "Prob. Sharpe Ratio         68.08%      62.99%\n",
      "Smart Sharpe               0.6         0.6\n",
      "Sortino                    0.87        0.92\n",
      "Smart Sortino              0.81        0.85\n",
      "Sortino/√2                 0.62        0.65\n",
      "Smart Sortino/√2           0.57        0.6\n",
      "Omega                      1.12        1.12\n",
      "\n",
      "Max Drawdown               -14.74%     -15.66%\n",
      "Longest DD Days            122         184\n",
      "Volatility (ann.)          11.2%       15.88%\n",
      "R^2                        0.38        0.38\n",
      "Information Ratio          0.01        0.01\n",
      "Calmar                     0.52        0.6\n",
      "Skew                       -1.5        -0.17\n",
      "Kurtosis                   21.25       9.84\n",
      "\n",
      "Expected Daily %           0.04%       0.05%\n",
      "Expected Monthly %         0.87%       1.06%\n",
      "Expected Yearly %          7.49%       9.17%\n",
      "Kelly Criterion            10.29%      6.16%\n",
      "Risk of Ruin               0.0%        0.0%\n",
      "Daily Value-at-Risk        -1.12%      -1.59%\n",
      "Expected Shortfall (cVaR)  -1.12%      -1.59%\n",
      "\n",
      "Max Consecutive Wins       9           8\n",
      "Max Consecutive Losses     8           6\n",
      "Gain/Pain Ratio            0.23        0.17\n",
      "Gain/Pain (1M)             1.05        1.22\n",
      "\n",
      "Payoff Ratio               0.9         0.96\n",
      "Profit Factor              1.23        1.17\n",
      "Common Sense Ratio         1.16        1.16\n",
      "CPC Index                  0.63        0.61\n",
      "Tail Ratio                 0.95        0.99\n",
      "Outlier Win Ratio          4.81        2.68\n",
      "Outlier Loss Ratio         4.08        3.04\n",
      "\n",
      "MTD                        0.7%        0.78%\n",
      "3M                         -1.22%      -6.24%\n",
      "6M                         -2.23%      -9.23%\n",
      "YTD                        2.46%       -1.37%\n",
      "1Y                         5.94%       -1.96%\n",
      "3Y (ann.)                  0.03%       0.04%\n",
      "5Y (ann.)                  0.03%       0.04%\n",
      "10Y (ann.)                 0.03%       0.04%\n",
      "All-time (ann.)            0.03%       0.04%\n",
      "\n",
      "Best Day                   4.72%       7.25%\n",
      "Worst Day                  -6.62%      -7.02%\n",
      "Best Month                 8.43%       8.39%\n",
      "Worst Month                -4.58%      -7.59%\n",
      "Best Year                  11.44%      16.06%\n",
      "Worst Year                 2.46%       -1.37%\n",
      "\n",
      "Avg. Drawdown              -1.63%      -1.86%\n",
      "Avg. Drawdown Days         15          15\n",
      "Recovery Factor            1.64        1.92\n",
      "Ulcer Index                0.03        0.04\n",
      "Serenity Index             0.76        0.7\n",
      "\n",
      "Avg. Up Month              3.02%       3.55%\n",
      "Avg. Down Month            -2.97%      -3.36%\n",
      "Win Days %                 57.59%      54.08%\n",
      "Win Month %                64.0%       64.0%\n",
      "Win Quarter %              77.78%      66.67%\n",
      "Win Year %                 100.0%      66.67%\n",
      "\n",
      "Beta                       -           0.88\n",
      "Alpha                      -           0.04\n",
      "Correlation                -           62.05%\n",
      "Treynor Ratio              -           29.42%\n"
     ]
    },
    {
     "data": {
      "text/plain": [
       "None"
      ]
     },
     "metadata": {},
     "output_type": "display_data"
    },
    {
     "data": {
      "text/html": [
       "<h4 style=\"margin-bottom:20px\">Worst 5 Drawdowns</h4>"
      ],
      "text/plain": [
       "<IPython.core.display.HTML object>"
      ]
     },
     "metadata": {},
     "output_type": "display_data"
    },
    {
     "data": {
      "application/vnd.microsoft.datawrangler.viewer.v0+json": {
       "columns": [
        {
         "name": "index",
         "rawType": "int64",
         "type": "integer"
        },
        {
         "name": "Start",
         "rawType": "object",
         "type": "string"
        },
        {
         "name": "Valley",
         "rawType": "object",
         "type": "string"
        },
        {
         "name": "End",
         "rawType": "object",
         "type": "string"
        },
        {
         "name": "Days",
         "rawType": "int64",
         "type": "integer"
        },
        {
         "name": "Max Drawdown",
         "rawType": "float64",
         "type": "float"
        },
        {
         "name": "99% Max Drawdown",
         "rawType": "float64",
         "type": "float"
        }
       ],
       "ref": "f253a791-f9cd-4753-be5b-96c0779987f0",
       "rows": [
        [
         "1",
         "2024-12-03",
         "2025-04-08",
         "2025-06-04",
         "184",
         "-15.658336764923764",
         "-14.391187972742092"
        ],
        [
         "2",
         "2024-07-17",
         "2024-08-05",
         "2024-10-11",
         "87",
         "-9.844154225995505",
         "-9.279886819467508"
        ],
        [
         "3",
         "2023-09-15",
         "2023-10-27",
         "2023-11-09",
         "56",
         "-6.535265038351145",
         "-5.899937120610388"
        ],
        [
         "4",
         "2024-10-15",
         "2024-10-31",
         "2024-11-29",
         "46",
         "-5.160198661046711",
         "-5.000850889814446"
        ],
        [
         "5",
         "2023-12-14",
         "2023-12-20",
         "2024-01-11",
         "29",
         "-3.583005318647947",
         "-2.5269758836433787"
        ]
       ],
       "shape": {
        "columns": 6,
        "rows": 5
       }
      },
      "text/html": [
       "<div>\n",
       "<style scoped>\n",
       "    .dataframe tbody tr th:only-of-type {\n",
       "        vertical-align: middle;\n",
       "    }\n",
       "\n",
       "    .dataframe tbody tr th {\n",
       "        vertical-align: top;\n",
       "    }\n",
       "\n",
       "    .dataframe thead th {\n",
       "        text-align: right;\n",
       "    }\n",
       "</style>\n",
       "<table border=\"1\" class=\"dataframe\">\n",
       "  <thead>\n",
       "    <tr style=\"text-align: right;\">\n",
       "      <th></th>\n",
       "      <th>Start</th>\n",
       "      <th>Valley</th>\n",
       "      <th>End</th>\n",
       "      <th>Days</th>\n",
       "      <th>Max Drawdown</th>\n",
       "      <th>99% Max Drawdown</th>\n",
       "    </tr>\n",
       "  </thead>\n",
       "  <tbody>\n",
       "    <tr>\n",
       "      <th>1</th>\n",
       "      <td>2024-12-03</td>\n",
       "      <td>2025-04-08</td>\n",
       "      <td>2025-06-04</td>\n",
       "      <td>184</td>\n",
       "      <td>-15.658337</td>\n",
       "      <td>-14.391188</td>\n",
       "    </tr>\n",
       "    <tr>\n",
       "      <th>2</th>\n",
       "      <td>2024-07-17</td>\n",
       "      <td>2024-08-05</td>\n",
       "      <td>2024-10-11</td>\n",
       "      <td>87</td>\n",
       "      <td>-9.844154</td>\n",
       "      <td>-9.279887</td>\n",
       "    </tr>\n",
       "    <tr>\n",
       "      <th>3</th>\n",
       "      <td>2023-09-15</td>\n",
       "      <td>2023-10-27</td>\n",
       "      <td>2023-11-09</td>\n",
       "      <td>56</td>\n",
       "      <td>-6.535265</td>\n",
       "      <td>-5.899937</td>\n",
       "    </tr>\n",
       "    <tr>\n",
       "      <th>4</th>\n",
       "      <td>2024-10-15</td>\n",
       "      <td>2024-10-31</td>\n",
       "      <td>2024-11-29</td>\n",
       "      <td>46</td>\n",
       "      <td>-5.160199</td>\n",
       "      <td>-5.000851</td>\n",
       "    </tr>\n",
       "    <tr>\n",
       "      <th>5</th>\n",
       "      <td>2023-12-14</td>\n",
       "      <td>2023-12-20</td>\n",
       "      <td>2024-01-11</td>\n",
       "      <td>29</td>\n",
       "      <td>-3.583005</td>\n",
       "      <td>-2.526976</td>\n",
       "    </tr>\n",
       "  </tbody>\n",
       "</table>\n",
       "</div>"
      ],
      "text/plain": [
       "        Start      Valley         End  Days  Max Drawdown  99% Max Drawdown\n",
       "1  2024-12-03  2025-04-08  2025-06-04   184    -15.658337        -14.391188\n",
       "2  2024-07-17  2024-08-05  2024-10-11    87     -9.844154         -9.279887\n",
       "3  2023-09-15  2023-10-27  2023-11-09    56     -6.535265         -5.899937\n",
       "4  2024-10-15  2024-10-31  2024-11-29    46     -5.160199         -5.000851\n",
       "5  2023-12-14  2023-12-20  2024-01-11    29     -3.583005         -2.526976"
      ]
     },
     "metadata": {},
     "output_type": "display_data"
    },
    {
     "data": {
      "text/html": [
       "<h4>Strategy Visualization</h4>"
      ],
      "text/plain": [
       "<IPython.core.display.HTML object>"
      ]
     },
     "metadata": {},
     "output_type": "display_data"
    }
   ],
   "source": [
    "print(\"\\n\" + \"=\"*60)\n",
    "print(\"LONG-TERM PORTFOLIO BACKTESTING\")\n",
    "print(\"=\"*60)\n",
    "\n",
    "# Create weights dictionary for long-term portfolio\n",
    "weights_long = {}\n",
    "for _, row in portfolio_long_df.iterrows():\n",
    "    ticker = row['Ticker']\n",
    "    weight = row['Weight']\n",
    "    weights_long[ticker] = weight\n",
    "\n",
    "print(\"Long-term Portfolio weights:\")\n",
    "for ticker, weight in weights_long.items():\n",
    "    print(f\"{ticker}: {weight:.4f}\")\n",
    "\n",
    "# Create price data for bt (using test set)\n",
    "all_quotes_long = test_set.copy()\n",
    "all_quotes_long[benchmark_long] = benchmark_long_quotes[benchmark_long].loc[test_start_date:test_end_date]\n",
    "\n",
    "# Create bt strategies for long-term\n",
    "portfolio_strategy_long = bt.Strategy('Long-term Portfolio', \n",
    "                                     [\n",
    "                                         bt.algos.RunEveryNPeriods(66, offset=66),  # Quarterly rebalancing\n",
    "                                         bt.algos.SelectAll(),\n",
    "                                         bt.algos.WeighSpecified(**weights_long),       \n",
    "                                         bt.algos.Rebalance()\n",
    "                                     ])\n",
    "\n",
    "benchmark_strategy_long = bt.Strategy(f'{benchmark_long}',\n",
    "                                     [\n",
    "                                         bt.algos.RunEveryNPeriods(66, offset=66),\n",
    "                                         bt.algos.SelectThese([benchmark_long]),\n",
    "                                         bt.algos.WeighEqually(),\n",
    "                                         bt.algos.Rebalance()\n",
    "                                     ])\n",
    "\n",
    "# Create backtests for long-term\n",
    "portfolio_test_long = bt.Backtest(portfolio_strategy_long, all_quotes_long[portfolio_long_tickers])\n",
    "benchmark_test_long = bt.Backtest(benchmark_strategy_long, all_quotes_long[[benchmark_long]])\n",
    "\n",
    "# Run backtests for long-term\n",
    "result_long = bt.run(portfolio_test_long, benchmark_test_long)\n",
    "result_long.set_riskfree_rate(risk_free_rate)\n",
    "\n",
    "print(\"\\nLong-term Backtest Results:\")\n",
    "result_long.display()\n",
    "\n",
    "# Plot long-term results\n",
    "result_long.plot(figsize=(12, 8),\n",
    "                ylabel='Cumulative Returns',\n",
    "                title='Long-term Portfolio vs Benchmark Performance',\n",
    "                legend=True,\n",
    "                grid=True)\n",
    "\n",
    "# Generate long-term QuantStats reports\n",
    "portfolio_return_long_test = portfolio_long_return.loc[test_start_date:test_end_date]\n",
    "portfolio_return_long_test.name = \"Weighted Long-term Portfolio\"\n",
    "\n",
    "benchmark_returns_long_test = benchmark_long_returns.loc[test_start_date:test_end_date]\n",
    "\n",
    "# Replace the QuantStats report generation section with this:\n",
    "print(f\"\\nGenerating Long-term QuantStats reports...\")\n",
    "print(f\"Portfolio return length: {len(portfolio_return_long_test)}\")\n",
    "print(f\"Benchmark return length: {len(benchmark_returns_long_test)}\")\n",
    "\n",
    "# Temporarily suppress warnings during report generation\n",
    "with warnings.catch_warnings():\n",
    "    warnings.simplefilter(\"ignore\")\n",
    "    \n",
    "    qs.reports.html(\n",
    "        portfolio_return_long_test,\n",
    "        benchmark_returns_long_test,\n",
    "        rf=risk_free_rate,\n",
    "        figsize=(8, 5),\n",
    "        output=f'portfolios/portfolio_vs_benchmark_long_term-{datetime.date(end_date)}.html',\n",
    "        title=f'Long-term Portfolio vs {benchmark_long} (Benchmark) - Test Period',\n",
    "        benchmark_title=f'{benchmark_long}',\n",
    "        download_filename=f'portfolio_vs_{benchmark_long}_long_term.html'\n",
    "    )\n",
    "    \n",
    "    qs.reports.full(\n",
    "        portfolio_return_long_test,\n",
    "        benchmark_returns_long_test,\n",
    "        rf=risk_free_rate,\n",
    "        figsize=(8, 5),\n",
    "        title=f'Long-term Portfolio vs {benchmark_long} - Test Period',\n",
    "        benchmark_title=f'{benchmark_long}'\n",
    "    )"
   ]
  },
  {
   "cell_type": "markdown",
   "metadata": {},
   "source": [
    "#### **Short-Term Portfolio Performance**"
   ]
  },
  {
   "cell_type": "code",
   "execution_count": null,
   "metadata": {},
   "outputs": [
    {
     "name": "stdout",
     "output_type": "stream",
     "text": [
      "\n",
      "============================================================\n",
      "SHORT-TERM PORTFOLIO BACKTESTING\n",
      "============================================================\n",
      "Short-term Portfolio weights:\n",
      "MSFT: 0.5000\n",
      "NOC: 0.5000\n",
      "Short-term test period: 2023-06-02 00:00:00 to 2025-06-04 00:00:00\n",
      "Short-term quotes columns: ['MSFT', 'NOC', 'DSI']\n",
      "Short-term portfolio tickers: ['MSFT', 'NOC']\n"
     ]
    },
    {
     "name": "stderr",
     "output_type": "stream",
     "text": [
      "  0%|          | 0/2 [00:00<?, ?it/s]"
     ]
    },
    {
     "name": "stderr",
     "output_type": "stream",
     "text": [
      "100%|██████████| 2/2 [00:00<00:00,  4.23it/s]\n"
     ]
    },
    {
     "name": "stdout",
     "output_type": "stream",
     "text": [
      "\n",
      "Short-term Backtest Results:\n",
      "Stat                 Short-term Portfolio    DSI\n",
      "-------------------  ----------------------  ----------\n",
      "Start                2023-06-01              2023-06-01\n",
      "End                  2025-06-04              2025-06-04\n",
      "Risk-free rate       4.24%                   4.24%\n",
      "\n",
      "Total Return         29.85%                  40.70%\n",
      "Daily Sharpe         0.63                    0.84\n",
      "Daily Sortino        1.04                    1.39\n",
      "CAGR                 13.88%                  18.52%\n",
      "Max Drawdown         -12.70%                 -20.58%\n",
      "Calmar Ratio         1.09                    0.90\n",
      "\n",
      "MTD                  1.05%                   0.92%\n",
      "3m                   13.42%                  5.84%\n",
      "6m                   5.07%                   -2.65%\n",
      "YTD                  8.96%                   1.70%\n",
      "1Y                   13.80%                  11.89%\n",
      "3Y (ann.)            13.88%                  18.52%\n",
      "5Y (ann.)            -                       -\n",
      "10Y (ann.)           -                       -\n",
      "Since Incep. (ann.)  13.88%                  18.52%\n",
      "\n",
      "Daily Sharpe         0.63                    0.84\n",
      "Daily Sortino        1.04                    1.39\n",
      "Daily Mean (ann.)    14.36%                  18.52%\n",
      "Daily Vol (ann.)     16.14%                  17.05%\n",
      "Daily Skew           0.37                    0.71\n",
      "Daily Kurt           8.91                    13.75\n",
      "Best Day             7.08%                   9.57%\n",
      "Worst Day            -5.25%                  -5.58%\n",
      "\n",
      "Monthly Sharpe       0.70                    0.80\n",
      "Monthly Sortino      1.47                    1.67\n",
      "Monthly Mean (ann.)  12.21%                  15.69%\n",
      "Monthly Vol (ann.)   11.51%                  14.35%\n",
      "Monthly Skew         0.37                    0.19\n",
      "Monthly Kurt         -0.13                   -0.34\n",
      "Best Month           8.00%                   10.09%\n",
      "Worst Month          -4.60%                  -5.88%\n",
      "\n",
      "Yearly Sharpe        0.32                    0.30\n",
      "Yearly Sortino       inf                     2.11\n",
      "Yearly Mean          5.85%                   8.03%\n",
      "Yearly Vol           5.07%                   12.46%\n",
      "Yearly Skew          -                       -\n",
      "Yearly Kurt          -                       -\n",
      "Best Year            8.96%                   22.38%\n",
      "Worst Year           0.00%                   0.00%\n",
      "\n",
      "Avg. Drawdown        -1.96%                  -2.13%\n",
      "Avg. Drawdown Days   18.26                   15.22\n",
      "Avg. Up Month        3.06%                   3.99%\n",
      "Avg. Down Month      -2.04%                  -2.71%\n",
      "Win Year %           100.00%                 100.00%\n",
      "Win 12m %            92.86%                  100.00%\n",
      "\n",
      "Generating Short-term QuantStats reports...\n",
      "Portfolio return length: 503\n",
      "Benchmark return length: 503\n",
      "Added download button and removed QuantStats attribution from portfolios/portfolio_vs_benchmark_short_term-2025-06-06.html\n"
     ]
    },
    {
     "data": {
      "text/html": [
       "<h4>Performance Metrics</h4>"
      ],
      "text/plain": [
       "<IPython.core.display.HTML object>"
      ]
     },
     "metadata": {},
     "output_type": "display_data"
    },
    {
     "name": "stdout",
     "output_type": "stream",
     "text": [
      "                           DSI         Strategy\n",
      "-------------------------  ----------  ----------\n",
      "Start Period               2023-06-02  2023-06-02\n",
      "End Period                 2025-06-04  2025-06-04\n",
      "Risk-Free Rate             4.24%       4.24%\n",
      "Time in Market             100.0%      100.0%\n",
      "\n",
      "Cumulative Return          38.84%      24.54%\n",
      "CAGR﹪                     0.04%       0.03%\n",
      "\n",
      "Sharpe                     0.81        0.5\n",
      "Prob. Sharpe Ratio         70.44%      54.87%\n",
      "Smart Sharpe               0.8         0.5\n",
      "Sortino                    1.17        0.72\n",
      "Smart Sortino              1.16        0.71\n",
      "Sortino/√2                 0.82        0.51\n",
      "Smart Sortino/√2           0.82        0.5\n",
      "Omega                      1.1         1.1\n",
      "\n",
      "Max Drawdown               -21.06%     -14.62%\n",
      "Longest DD Days            132         254\n",
      "Volatility (ann.)          17.04%      16.2%\n",
      "R^2                        0.31        0.31\n",
      "Information Ratio          -0.02       -0.02\n",
      "Calmar                     0.57        0.54\n",
      "Skew                       0.48        0.14\n",
      "Kurtosis                   12.03       8.65\n",
      "\n",
      "Expected Daily %           0.07%       0.04%\n",
      "Expected Monthly %         1.32%       0.88%\n",
      "Expected Yearly %          11.56%      7.59%\n",
      "Kelly Criterion            9.13%       8.26%\n",
      "Risk of Ruin               0.0%        0.0%\n",
      "Daily Value-at-Risk        -1.69%      -1.63%\n",
      "Expected Shortfall (cVaR)  -1.69%      -1.63%\n",
      "\n",
      "Max Consecutive Wins       8           9\n",
      "Max Consecutive Losses     6           6\n",
      "Gain/Pain Ratio            0.21        0.15\n",
      "Gain/Pain (1M)             1.29        1.15\n",
      "\n",
      "Payoff Ratio               0.94        0.96\n",
      "Profit Factor              1.21        1.15\n",
      "Common Sense Ratio         1.15        1.07\n",
      "CPC Index                  0.64        0.61\n",
      "Tail Ratio                 0.95        0.93\n",
      "Outlier Win Ratio          3.05        3.23\n",
      "Outlier Loss Ratio         3.82        4.0\n",
      "\n",
      "MTD                        0.92%       1.05%\n",
      "3M                         3.61%       10.44%\n",
      "6M                         -3.22%      3.59%\n",
      "YTD                        0.25%       6.62%\n",
      "1Y                         9.81%       10.17%\n",
      "3Y (ann.)                  0.04%       0.03%\n",
      "5Y (ann.)                  0.04%       0.03%\n",
      "10Y (ann.)                 0.04%       0.03%\n",
      "All-time (ann.)            0.04%       0.03%\n",
      "\n",
      "Best Day                   9.14%       6.85%\n",
      "Worst Day                  -5.74%      -5.71%\n",
      "Best Month                 10.0%       7.68%\n",
      "Worst Month                -6.06%      -4.76%\n",
      "Best Year                  21.16%      9.75%\n",
      "Worst Year                 0.25%       6.43%\n",
      "\n",
      "Avg. Drawdown              -2.16%      -2.04%\n",
      "Avg. Drawdown Days         15          19\n",
      "Recovery Factor            1.84        1.68\n",
      "Ulcer Index                0.05        0.05\n",
      "Serenity Index             0.77        0.51\n",
      "\n",
      "Avg. Up Month              3.92%       2.79%\n",
      "Avg. Down Month            -2.83%      -2.7%\n",
      "Win Days %                 55.89%      55.07%\n",
      "Win Month %                64.0%       60.0%\n",
      "Win Quarter %              77.78%      55.56%\n",
      "Win Year %                 100.0%      100.0%\n",
      "\n",
      "Beta                       -           0.53\n",
      "Alpha                      -           0.03\n",
      "Correlation                -           55.91%\n",
      "Treynor Ratio              -           38.19%\n"
     ]
    },
    {
     "data": {
      "text/plain": [
       "None"
      ]
     },
     "metadata": {},
     "output_type": "display_data"
    },
    {
     "data": {
      "text/html": [
       "<h4 style=\"margin-bottom:20px\">Worst 5 Drawdowns</h4>"
      ],
      "text/plain": [
       "<IPython.core.display.HTML object>"
      ]
     },
     "metadata": {},
     "output_type": "display_data"
    },
    {
     "data": {
      "application/vnd.microsoft.datawrangler.viewer.v0+json": {
       "columns": [
        {
         "name": "index",
         "rawType": "int64",
         "type": "integer"
        },
        {
         "name": "Start",
         "rawType": "object",
         "type": "string"
        },
        {
         "name": "Valley",
         "rawType": "object",
         "type": "string"
        },
        {
         "name": "End",
         "rawType": "object",
         "type": "string"
        },
        {
         "name": "Days",
         "rawType": "int64",
         "type": "integer"
        },
        {
         "name": "Max Drawdown",
         "rawType": "float64",
         "type": "float"
        },
        {
         "name": "99% Max Drawdown",
         "rawType": "float64",
         "type": "float"
        }
       ],
       "ref": "ed098756-55dd-424f-b220-096f06a6954f",
       "rows": [
        [
         "1",
         "2024-09-24",
         "2025-04-22",
         "2025-06-04",
         "254",
         "-14.619160638831207",
         "-13.172398768763372"
        ],
        [
         "2",
         "2023-07-26",
         "2023-09-26",
         "2023-10-13",
         "80",
         "-8.774791414668847",
         "-8.472338170983518"
        ],
        [
         "3",
         "2024-04-01",
         "2024-04-18",
         "2024-05-20",
         "50",
         "-4.7228957975722015",
         "-4.2838665922569135"
        ],
        [
         "4",
         "2024-05-23",
         "2024-05-30",
         "2024-07-25",
         "64",
         "-4.639312597393608",
         "-4.473686998555893"
        ],
        [
         "5",
         "2023-12-14",
         "2023-12-20",
         "2024-01-11",
         "29",
         "-3.4676730515171506",
         "-3.3913222150797617"
        ]
       ],
       "shape": {
        "columns": 6,
        "rows": 5
       }
      },
      "text/html": [
       "<div>\n",
       "<style scoped>\n",
       "    .dataframe tbody tr th:only-of-type {\n",
       "        vertical-align: middle;\n",
       "    }\n",
       "\n",
       "    .dataframe tbody tr th {\n",
       "        vertical-align: top;\n",
       "    }\n",
       "\n",
       "    .dataframe thead th {\n",
       "        text-align: right;\n",
       "    }\n",
       "</style>\n",
       "<table border=\"1\" class=\"dataframe\">\n",
       "  <thead>\n",
       "    <tr style=\"text-align: right;\">\n",
       "      <th></th>\n",
       "      <th>Start</th>\n",
       "      <th>Valley</th>\n",
       "      <th>End</th>\n",
       "      <th>Days</th>\n",
       "      <th>Max Drawdown</th>\n",
       "      <th>99% Max Drawdown</th>\n",
       "    </tr>\n",
       "  </thead>\n",
       "  <tbody>\n",
       "    <tr>\n",
       "      <th>1</th>\n",
       "      <td>2024-09-24</td>\n",
       "      <td>2025-04-22</td>\n",
       "      <td>2025-06-04</td>\n",
       "      <td>254</td>\n",
       "      <td>-14.619161</td>\n",
       "      <td>-13.172399</td>\n",
       "    </tr>\n",
       "    <tr>\n",
       "      <th>2</th>\n",
       "      <td>2023-07-26</td>\n",
       "      <td>2023-09-26</td>\n",
       "      <td>2023-10-13</td>\n",
       "      <td>80</td>\n",
       "      <td>-8.774791</td>\n",
       "      <td>-8.472338</td>\n",
       "    </tr>\n",
       "    <tr>\n",
       "      <th>3</th>\n",
       "      <td>2024-04-01</td>\n",
       "      <td>2024-04-18</td>\n",
       "      <td>2024-05-20</td>\n",
       "      <td>50</td>\n",
       "      <td>-4.722896</td>\n",
       "      <td>-4.283867</td>\n",
       "    </tr>\n",
       "    <tr>\n",
       "      <th>4</th>\n",
       "      <td>2024-05-23</td>\n",
       "      <td>2024-05-30</td>\n",
       "      <td>2024-07-25</td>\n",
       "      <td>64</td>\n",
       "      <td>-4.639313</td>\n",
       "      <td>-4.473687</td>\n",
       "    </tr>\n",
       "    <tr>\n",
       "      <th>5</th>\n",
       "      <td>2023-12-14</td>\n",
       "      <td>2023-12-20</td>\n",
       "      <td>2024-01-11</td>\n",
       "      <td>29</td>\n",
       "      <td>-3.467673</td>\n",
       "      <td>-3.391322</td>\n",
       "    </tr>\n",
       "  </tbody>\n",
       "</table>\n",
       "</div>"
      ],
      "text/plain": [
       "        Start      Valley         End  Days  Max Drawdown  99% Max Drawdown\n",
       "1  2024-09-24  2025-04-22  2025-06-04   254    -14.619161        -13.172399\n",
       "2  2023-07-26  2023-09-26  2023-10-13    80     -8.774791         -8.472338\n",
       "3  2024-04-01  2024-04-18  2024-05-20    50     -4.722896         -4.283867\n",
       "4  2024-05-23  2024-05-30  2024-07-25    64     -4.639313         -4.473687\n",
       "5  2023-12-14  2023-12-20  2024-01-11    29     -3.467673         -3.391322"
      ]
     },
     "metadata": {},
     "output_type": "display_data"
    },
    {
     "data": {
      "text/html": [
       "<h4>Strategy Visualization</h4>"
      ],
      "text/plain": [
       "<IPython.core.display.HTML object>"
      ]
     },
     "metadata": {},
     "output_type": "display_data"
    }
   ],
   "source": [
    "print(\"\\n\" + \"=\"*60)\n",
    "print(\"SHORT-TERM PORTFOLIO BACKTESTING\")\n",
    "print(\"=\"*60)\n",
    "\n",
    "# Create weights dictionary for short-term portfolio\n",
    "weights_short = {}\n",
    "for _, row in portfolio_short_df.iterrows():\n",
    "    ticker = row['Ticker']\n",
    "    weight = row['Weight']\n",
    "    weights_short[ticker] = weight\n",
    "\n",
    "print(\"Short-term Portfolio weights:\")\n",
    "for ticker, weight in weights_short.items():\n",
    "    print(f\"{ticker}: {weight:.4f}\")\n",
    "\n",
    "# Create test set for short-term data (instead of using long-term test_set)\n",
    "total_rows_short = len(stock_short_quotes)\n",
    "train_size_short = int(0.8 * total_rows_short)\n",
    "test_set_short = stock_short_quotes.iloc[train_size_short:]\n",
    "\n",
    "# Get test period dates for short-term\n",
    "test_start_date_short = test_set_short.index[0]\n",
    "test_end_date_short = test_set_short.index[-1]\n",
    "\n",
    "print(f\"Short-term test period: {test_start_date_short} to {test_end_date_short}\")\n",
    "\n",
    "# Create price data for bt (using short-term test set)\n",
    "all_quotes_short = test_set_short.copy()\n",
    "all_quotes_short[benchmark_short] = benchmark_short_quotes[benchmark_short].loc[test_start_date_short:test_end_date_short]\n",
    "\n",
    "print(f\"Short-term quotes columns: {list(all_quotes_short.columns)}\")\n",
    "print(f\"Short-term portfolio tickers: {portfolio_short_tickers}\")\n",
    "\n",
    "# Create bt strategies for short-term\n",
    "portfolio_strategy_short = bt.Strategy('Short-term Portfolio', \n",
    "                                      [\n",
    "                                          bt.algos.RunWeekly(),  # More frequent rebalancing for short-term\n",
    "                                          bt.algos.SelectAll(),\n",
    "                                          bt.algos.WeighSpecified(**weights_short),       \n",
    "                                          bt.algos.Rebalance()\n",
    "                                      ])\n",
    "\n",
    "benchmark_strategy_short = bt.Strategy(f'{benchmark_short}',\n",
    "                                      [\n",
    "                                          bt.algos.RunWeekly(),\n",
    "                                          bt.algos.SelectThese([benchmark_short]),\n",
    "                                          bt.algos.WeighEqually(),\n",
    "                                          bt.algos.Rebalance()\n",
    "                                      ])\n",
    "\n",
    "# Create backtests for short-term\n",
    "portfolio_test_short = bt.Backtest(portfolio_strategy_short, all_quotes_short[portfolio_short_tickers])\n",
    "benchmark_test_short = bt.Backtest(benchmark_strategy_short, all_quotes_short[[benchmark_short]])\n",
    "\n",
    "# Run backtests for short-term\n",
    "result_short = bt.run(portfolio_test_short, benchmark_test_short)\n",
    "result_short.set_riskfree_rate(risk_free_rate)\n",
    "\n",
    "print(\"\\nShort-term Backtest Results:\")\n",
    "result_short.display()\n",
    "\n",
    "# Plot short-term results\n",
    "result_short.plot(figsize=(12, 8),\n",
    "                 ylabel='Cumulative Returns',\n",
    "                 title='Short-term Portfolio vs Benchmark Performance',\n",
    "                 legend=True,\n",
    "                 grid=True)\n",
    "\n",
    "# Generate short-term QuantStats reports (using short-term test period)\n",
    "portfolio_return_short_test = portfolio_short_return.loc[test_start_date_short:test_end_date_short]\n",
    "portfolio_return_short_test.name = \"Weighted Short-term Portfolio\"\n",
    "\n",
    "benchmark_returns_short_test = benchmark_short_returns.loc[test_start_date_short:test_end_date_short]\n",
    "\n",
    "print(f\"\\nGenerating Short-term QuantStats reports...\")\n",
    "print(f\"Portfolio return length: {len(portfolio_return_short_test)}\")\n",
    "print(f\"Benchmark return length: {len(benchmark_returns_short_test)}\")\n",
    "\n",
    "# Temporarily suppress warnings during report generation\n",
    "with warnings.catch_warnings():\n",
    "    warnings.simplefilter(\"ignore\")\n",
    "    \n",
    "    qs.reports.html(\n",
    "        portfolio_return_short_test,\n",
    "        benchmark_returns_short_test,\n",
    "        rf=risk_free_rate,\n",
    "        figsize=(8, 5),\n",
    "        output=f'portfolios/portfolio_vs_benchmark_short_term-{datetime.date(end_date)}.html',\n",
    "        title=f'Short-term Portfolio vs {benchmark_short} (Benchmark) - Test Period',\n",
    "        benchmark_title=f'{benchmark_short}',\n",
    "        download_filename=f'portfolio_vs_{benchmark_short}_short_term.html'\n",
    "    )\n",
    "    \n",
    "    qs.reports.full(\n",
    "        portfolio_return_short_test,\n",
    "        benchmark_returns_short_test,\n",
    "        rf=risk_free_rate,\n",
    "        figsize=(8, 5),\n",
    "        title=f'Short-term Portfolio vs {benchmark_short} - Test Period',\n",
    "        benchmark_title=f'{benchmark_short}'\n",
    "    )"
   ]
  },
  {
   "cell_type": "markdown",
   "metadata": {},
   "source": [
    "#### **Combined Summary**"
   ]
  },
  {
   "cell_type": "code",
   "execution_count": null,
   "metadata": {},
   "outputs": [
    {
     "name": "stdout",
     "output_type": "stream",
     "text": [
      "\n",
      "============================================================\n",
      "PORTFOLIO COMPARISON SUMMARY\n",
      "============================================================\n",
      "\n",
      "Long-term Portfolio vs YYY:\n",
      "  Portfolio Sharpe: 0.9099\n",
      "  Benchmark Sharpe: 1.0251\n",
      "  Portfolio Total Return: 0.3011\n",
      "  Benchmark Total Return: 0.2418\n",
      "\n",
      "Short-term Portfolio vs DSI:\n",
      "  Portfolio Sharpe: 0.7596\n",
      "  Benchmark Sharpe: 1.0500\n",
      "  Portfolio Total Return: 0.2454\n",
      "  Benchmark Total Return: 0.3884\n",
      "\n",
      "Reports generated:\n",
      "  - portfolios/portfolio_vs_benchmark_long_term-2025-06-06.html\n",
      "  - portfolios/portfolio_vs_benchmark_short_term-2025-06-06.html\n"
     ]
    }
   ],
   "source": [
    "print(\"\\n\" + \"=\"*60)\n",
    "print(\"PORTFOLIO COMPARISON SUMMARY\")\n",
    "print(\"=\"*60)\n",
    "\n",
    "# Calculate metrics with proper error handling\n",
    "try:\n",
    "    portfolio_sharpe_long = qs.stats.sharpe(portfolio_return_long_test)\n",
    "    if isinstance(portfolio_sharpe_long, pd.Series):\n",
    "        portfolio_sharpe_long = portfolio_sharpe_long.iloc[0]\n",
    "except:\n",
    "    portfolio_sharpe_long = 0.0\n",
    "\n",
    "try:\n",
    "    benchmark_sharpe_long = qs.stats.sharpe(benchmark_returns_long_test)\n",
    "    if isinstance(benchmark_sharpe_long, pd.Series):\n",
    "        benchmark_sharpe_long = benchmark_sharpe_long.iloc[0]\n",
    "except:\n",
    "    benchmark_sharpe_long = 0.0\n",
    "\n",
    "try:\n",
    "    portfolio_total_long = qs.stats.comp(portfolio_return_long_test)\n",
    "    if isinstance(portfolio_total_long, pd.Series):\n",
    "        portfolio_total_long = portfolio_total_long.iloc[0]\n",
    "except:\n",
    "    portfolio_total_long = 0.0\n",
    "\n",
    "try:\n",
    "    benchmark_total_long = qs.stats.comp(benchmark_returns_long_test)\n",
    "    if isinstance(benchmark_total_long, pd.Series):\n",
    "        benchmark_total_long = benchmark_total_long.iloc[0]\n",
    "except:\n",
    "    benchmark_total_long = 0.0\n",
    "\n",
    "print(f\"\\nLong-term Portfolio vs {benchmark_long}:\")\n",
    "print(f\"  Portfolio Sharpe: {portfolio_sharpe_long:.4f}\")\n",
    "print(f\"  Benchmark Sharpe: {benchmark_sharpe_long:.4f}\")\n",
    "print(f\"  Portfolio Total Return: {portfolio_total_long:.4f}\")\n",
    "print(f\"  Benchmark Total Return: {benchmark_total_long:.4f}\")\n",
    "\n",
    "# Calculate metrics for short-term with proper error handling\n",
    "try:\n",
    "    portfolio_sharpe_short = qs.stats.sharpe(portfolio_return_short_test)\n",
    "    if isinstance(portfolio_sharpe_short, pd.Series):\n",
    "        portfolio_sharpe_short = portfolio_sharpe_short.iloc[0]\n",
    "except:\n",
    "    portfolio_sharpe_short = 0.0\n",
    "\n",
    "try:\n",
    "    benchmark_sharpe_short = qs.stats.sharpe(benchmark_returns_short_test)\n",
    "    if isinstance(benchmark_sharpe_short, pd.Series):\n",
    "        benchmark_sharpe_short = benchmark_sharpe_short.iloc[0]\n",
    "except:\n",
    "    benchmark_sharpe_short = 0.0\n",
    "\n",
    "try:\n",
    "    portfolio_total_short = qs.stats.comp(portfolio_return_short_test)\n",
    "    if isinstance(portfolio_total_short, pd.Series):\n",
    "        portfolio_total_short = portfolio_total_short.iloc[0]\n",
    "except:\n",
    "    portfolio_total_short = 0.0\n",
    "\n",
    "try:\n",
    "    benchmark_total_short = qs.stats.comp(benchmark_returns_short_test)\n",
    "    if isinstance(benchmark_total_short, pd.Series):\n",
    "        benchmark_total_short = benchmark_total_short.iloc[0]\n",
    "except:\n",
    "    benchmark_total_short = 0.0\n",
    "\n",
    "print(f\"\\nShort-term Portfolio vs {benchmark_short}:\")\n",
    "print(f\"  Portfolio Sharpe: {portfolio_sharpe_short:.4f}\")\n",
    "print(f\"  Benchmark Sharpe: {benchmark_sharpe_short:.4f}\")\n",
    "print(f\"  Portfolio Total Return: {portfolio_total_short:.4f}\")\n",
    "print(f\"  Benchmark Total Return: {benchmark_total_short:.4f}\")\n",
    "\n",
    "print(f\"\\nReports generated:\")\n",
    "print(f\"  - portfolios/portfolio_vs_benchmark_long_term-{datetime.date(end_date)}.html\")\n",
    "print(f\"  - portfolios/portfolio_vs_benchmark_short_term-{datetime.date(end_date)}.html\")"
   ]
  }
 ],
 "metadata": {
  "kernelspec": {
   "display_name": ".venv",
   "language": "python",
   "name": "python3"
  },
  "language_info": {
   "codemirror_mode": {
    "name": "ipython",
    "version": 3
   },
   "file_extension": ".py",
   "mimetype": "text/x-python",
   "name": "python",
   "nbconvert_exporter": "python",
   "pygments_lexer": "ipython3",
   "version": "3.13.3"
  }
 },
 "nbformat": 4,
 "nbformat_minor": 4
}
