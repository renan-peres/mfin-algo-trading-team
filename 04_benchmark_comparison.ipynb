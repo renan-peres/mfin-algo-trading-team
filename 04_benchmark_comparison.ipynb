{
 "cells": [
  {
   "cell_type": "markdown",
   "metadata": {},
   "source": [
    "# Portfolio Performance vs. Benchmark Analysis\n",
    "\n",
    "This notebook performs comprehensive backtesting and performance analysis of algorithmic trading portfolios against benchmarks.\n",
    "- **Automated Portfolio Detection**: Finds latest portfolio configuration from Excel files\n",
    "- **Dual Strategy Framework**: Long-term (quarterly) and short-term (weekly) rebalancing strategies\n",
    "- **Robust Backtesting Engine**: Uses `bt` library with risk-free rate integration and proper rebalancing frequencies\n",
    "- **Train-Test Validation**: 80/20 split ensuring unbiased out-of-sample performance evaluation\n",
    "- **Professional Reporting**: QuantStats HTML reports with comprehensive risk-adjusted metrics\n",
    "- **Benchmark Analysis**: Systematic comparison against market indices with statistical significance testing"
   ]
  },
  {
   "cell_type": "markdown",
   "metadata": {},
   "source": [
    "## **Environment Setup**\n",
    "\n",
    "Import essential libraries and configure the analysis environment. The setup includes:\n",
    "- **Data Processing**: pandas, numpy for quantitative analysis\n",
    "- **Backtesting**: bt library for systematic strategy testing\n",
    "- **Performance Analytics**: QuantStats for professional risk-return analysis\n",
    "- **Utilities**: Custom modules for data loading and filtering"
   ]
  },
  {
   "cell_type": "code",
   "execution_count": 1,
   "metadata": {
    "execution": {
     "iopub.execute_input": "2025-06-10T20:03:05.070449Z",
     "iopub.status.busy": "2025-06-10T20:03:05.070037Z",
     "iopub.status.idle": "2025-06-10T20:03:06.706545Z",
     "shell.execute_reply": "2025-06-10T20:03:06.705292Z"
    }
   },
   "outputs": [
    {
     "name": "stdout",
     "output_type": "stream",
     "text": [
      "============================================================\n",
      "               QuantStats Compatibility Tool                \n",
      "============================================================\n",
      "\n",
      "Part 1: Directly patching QuantStats package files\n",
      "------------------------------------------------------------\n",
      "Found QuantStats utils file at: /home/renanmogo/mfin-algo-trading-team8/.venv/lib/python3.13/site-packages/quantstats/__init__.py\n",
      "Creating backup at: /home/renanmogo/mfin-algo-trading-team8/.venv/lib/python3.13/site-packages/quantstats/__init__.py.bak\n",
      "Successfully fixed indentation in QuantStats __init__.py file\n",
      "✓ QuantStats utils file patched successfully\n",
      "\n",
      "Part 2: Fixing resampling issues\n",
      "------------------------------------------------------------\n",
      "Found 1 potential QuantStats installation(s)\n",
      "Checking /home/renanmogo/mfin-algo-trading-team8/.venv/lib/python3.13/site-packages/quantstats/_plotting/core.py\n",
      "✓ Found 'plot_timeseries' function in /home/renanmogo/mfin-algo-trading-team8/.venv/lib/python3.13/site-packages/quantstats/_plotting/core.py\n",
      "✓ No 'sum(axis=0)' calls found - may already be fixed\n",
      "Examining /home/renanmogo/mfin-algo-trading-team8/.venv/lib/python3.13/site-packages/quantstats/_plotting/core.py...\n",
      "✓ Found 'plot_timeseries' function in /home/renanmogo/mfin-algo-trading-team8/.venv/lib/python3.13/site-packages/quantstats/_plotting/core.py\n",
      "✓ No 'sum(axis=0)' calls found - may already be fixed\n",
      "No applicable fixes found for /home/renanmogo/mfin-algo-trading-team8/.venv/lib/python3.13/site-packages/quantstats/_plotting/core.py\n",
      "⚠️ Resampling fix not applied or not needed\n",
      "\n",
      "Part 3: Importing and patching QuantStats\n",
      "------------------------------------------------------------\n",
      "✓ Successfully imported quantstats\n",
      "Successfully patched QuantStats HTML report functionality\n",
      "✓ HTML report functionality enhanced with download button\n"
     ]
    }
   ],
   "source": [
    "# DataFrame & System Libraries\n",
    "import pandas as pd\n",
    "import numpy as np\n",
    "from datetime import datetime, timedelta\n",
    "from pandas.tseries.offsets import BDay\n",
    "import os, glob, re, warnings\n",
    "from py.utils import load_and_filter_data\n",
    "\n",
    "# Import QuantStats and BT libraries\n",
    "import bt\n",
    "from py.quantstats_fix import *\n",
    "qs.extend_pandas()\n",
    "\n",
    "# Suppress warnings and configure logging\n",
    "warnings.filterwarnings(\"ignore\")\n",
    "logging.getLogger('matplotlib.font_manager').disabled = True"
   ]
  },
  {
   "cell_type": "markdown",
   "metadata": {},
   "source": [
    "## **Data Loading and Configuration**\n",
    "\n",
    "Automated data pipeline that:\n",
    "- **Auto-detects** the most recent portfolio configuration file\n",
    "- **Extracts** portfolio weights, benchmark indices, and risk-free rate\n",
    "- **Loads** 10-year historical price data for comprehensive analysis\n",
    "- **Validates** data integrity and alignment across all instruments"
   ]
  },
  {
   "cell_type": "code",
   "execution_count": 2,
   "metadata": {
    "execution": {
     "iopub.execute_input": "2025-06-10T20:03:06.740591Z",
     "iopub.status.busy": "2025-06-10T20:03:06.740088Z",
     "iopub.status.idle": "2025-06-10T20:03:07.239235Z",
     "shell.execute_reply": "2025-06-10T20:03:07.237888Z"
    }
   },
   "outputs": [
    {
     "name": "stdout",
     "output_type": "stream",
     "text": [
      "Analysis: 2015-06-12 to 2025-06-09 | File: portfolios/portfolio-2025-06-09.xlsx\n",
      "Benchmarks: YYY (Long), DSI (Short) | Risk-free: 0.0424\n"
     ]
    }
   ],
   "source": [
    "# Auto-detect latest portfolio and set analysis period\n",
    "initial_end_date = (datetime.today() - BDay(1)).to_pydatetime()\n",
    "expected_file = f'portfolios/portfolio-{datetime.date(initial_end_date)}.xlsx'\n",
    "\n",
    "if os.path.exists(expected_file):\n",
    "    end_date, output_file = initial_end_date, expected_file\n",
    "else:\n",
    "    portfolio_files = glob.glob('portfolios/portfolio-*.xlsx')\n",
    "    output_file = max(portfolio_files, key=os.path.getmtime)\n",
    "    date_match = re.search(r'portfolio-(\\d{4}-\\d{2}-\\d{2})\\.xlsx', output_file)\n",
    "    end_date = pd.to_datetime(date_match.group(1)).to_pydatetime()\n",
    "\n",
    "start_date = end_date - timedelta(days=10*365)\n",
    "\n",
    "# Load configurations and extract parameters\n",
    "sheets = pd.read_excel(output_file, sheet_name=None)\n",
    "portfolio_long_df, portfolio_short_df = sheets[\"long_term\"], sheets[\"short_term\"]\n",
    "benchmark_long, benchmark_short = sheets[\"benchmark_long_term\"]['Benchmark'].values[0], sheets[\"benchmark_short_term\"]['Benchmark'].values[0]\n",
    "risk_free_rate = sheets[\"daily_quotes\"].set_index(sheets[\"daily_quotes\"].columns[0])['^IRX'].iloc[-1] / 100\n",
    "\n",
    "# Process weights and extract tickers\n",
    "for df in [portfolio_long_df, portfolio_short_df]:\n",
    "    df['Weight'] = df['Weight'].replace('%', '', regex=True).astype(float)\n",
    "\n",
    "weights_long = portfolio_long_df.set_index('Ticker')['Weight'].to_dict()\n",
    "weights_short = portfolio_short_df.set_index('Ticker')['Weight'].to_dict()\n",
    "portfolio_long_tickers, portfolio_short_tickers = list(weights_long.keys()), list(weights_short.keys())\n",
    "\n",
    "print(f\"Analysis: {start_date.strftime('%Y-%m-%d')} to {end_date.strftime('%Y-%m-%d')} | File: {output_file}\")\n",
    "print(f\"Benchmarks: {benchmark_long} (Long), {benchmark_short} (Short) | Risk-free: {risk_free_rate:.4f}\")"
   ]
  },
  {
   "cell_type": "code",
   "execution_count": 3,
   "metadata": {
    "execution": {
     "iopub.execute_input": "2025-06-10T20:03:07.243204Z",
     "iopub.status.busy": "2025-06-10T20:03:07.242768Z",
     "iopub.status.idle": "2025-06-10T20:03:08.056725Z",
     "shell.execute_reply": "2025-06-10T20:03:08.055236Z"
    }
   },
   "outputs": [
    {
     "name": "stdout",
     "output_type": "stream",
     "text": [
      "Found 5 of 5 tickers in data/daily_stock_quotes.csv\n",
      "Missing tickers: []\n",
      "Found 2 of 2 tickers in data/daily_stock_quotes.csv\n",
      "Missing tickers: []\n",
      "Found 1 of 1 tickers in data/daily_benchmark_quotes.csv\n",
      "Missing tickers: []\n",
      "Found 1 of 1 tickers in data/daily_benchmark_quotes.csv\n",
      "Missing tickers: []\n",
      "Data loaded: 2512 observations\n"
     ]
    }
   ],
   "source": [
    "# Load price data and calculate log returns\n",
    "data_files = {\n",
    "    'stock_long': (portfolio_long_tickers, 'data/daily_stock_quotes.csv'),\n",
    "    'stock_short': (portfolio_short_tickers, 'data/daily_stock_quotes.csv'),\n",
    "    'benchmark_long': (benchmark_long, 'data/daily_benchmark_quotes.csv'),\n",
    "    'benchmark_short': (benchmark_short, 'data/daily_benchmark_quotes.csv')\n",
    "}\n",
    "\n",
    "quotes, returns = {}, {}\n",
    "for key, (tickers, file_path) in data_files.items():\n",
    "    quotes[key] = load_and_filter_data(file_path, tickers, start_date, end_date)\n",
    "    returns[key] = np.log(quotes[key] / quotes[key].shift(1)).dropna()\n",
    "\n",
    "print(f\"Data loaded: {len(quotes['stock_long'])} observations\")"
   ]
  },
  {
   "cell_type": "markdown",
   "metadata": {},
   "source": [
    "## **Train-Test Split and Portfolio Construction**\n",
    "\n",
    "**Data Partitioning Strategy:**\n",
    "- **Training Set (80%)**: Used for strategy development and parameter estimation\n",
    "- **Test Set (20%)**: Provides unbiased out-of-sample performance validation\n",
    "- **Portfolio Returns**: Calculated using normalized weights to ensure proper allocation\n",
    "- **Temporal Alignment**: Ensures consistent time series alignment across all instruments"
   ]
  },
  {
   "cell_type": "code",
   "execution_count": 4,
   "metadata": {
    "execution": {
     "iopub.execute_input": "2025-06-10T20:03:08.059776Z",
     "iopub.status.busy": "2025-06-10T20:03:08.059469Z",
     "iopub.status.idle": "2025-06-10T20:03:08.072863Z",
     "shell.execute_reply": "2025-06-10T20:03:08.072193Z"
    }
   },
   "outputs": [
    {
     "name": "stdout",
     "output_type": "stream",
     "text": [
      "Train-Test Split: 2008/504 (Long), 2008/504 (Short)\n",
      "Test Period: 2023-06-06 to 2025-06-09\n"
     ]
    }
   ],
   "source": [
    "def calculate_portfolio_return(returns_data, weights):\n",
    "    \"\"\"Calculate normalized weighted portfolio returns\"\"\"\n",
    "    filtered_weights = {k: v for k, v in weights.items() if k in returns_data.columns}\n",
    "    total_weight = sum(filtered_weights.values())\n",
    "    normalized_weights = {k: v/total_weight for k, v in filtered_weights.items()}\n",
    "    return returns_data[list(normalized_weights.keys())].multiply(pd.Series(normalized_weights), axis=1).sum(axis=1)\n",
    "\n",
    "# Calculate portfolio returns and perform train-test split\n",
    "portfolio_long_return = calculate_portfolio_return(returns['stock_long'], weights_long)\n",
    "portfolio_short_return = calculate_portfolio_return(returns['stock_short'], weights_short)\n",
    "\n",
    "split_idx_long, split_idx_short = int(len(returns['stock_long']) * 0.8), int(len(returns['stock_short']) * 0.8)\n",
    "test_set_long, test_set_short = quotes['stock_long'].iloc[split_idx_long:], quotes['stock_short'].iloc[split_idx_short:]\n",
    "\n",
    "print(f\"Train-Test Split: {split_idx_long}/{len(test_set_long)} (Long), {split_idx_short}/{len(test_set_short)} (Short)\")\n",
    "print(f\"Test Period: {test_set_long.index[0].strftime('%Y-%m-%d')} to {test_set_long.index[-1].strftime('%Y-%m-%d')}\")"
   ]
  },
  {
   "cell_type": "markdown",
   "metadata": {},
   "source": [
    "## **Backtesting - `bt`**\n",
    "\n",
    "**Strategy Implementation using `bt` Library:**\n",
    "- **Long-term Strategy**: Quarterly rebalancing (66 trading days) to minimize transaction costs and capture secular trends\n",
    "- **Short-term Strategy**: Weekly rebalancing for tactical asset allocation and market timing\n",
    "- **Risk Integration**: Incorporates risk-free rate for accurate risk-adjusted performance metrics\n",
    "- **Benchmark Comparison**: Systematic evaluation against market indices with identical rebalancing frequencies\n",
    "- **Transaction Cost Consideration**: Rebalancing frequencies optimized for strategy characteristics"
   ]
  },
  {
   "cell_type": "code",
   "execution_count": 5,
   "metadata": {
    "execution": {
     "iopub.execute_input": "2025-06-10T20:03:08.075495Z",
     "iopub.status.busy": "2025-06-10T20:03:08.075167Z",
     "iopub.status.idle": "2025-06-10T20:03:09.783030Z",
     "shell.execute_reply": "2025-06-10T20:03:09.781795Z"
    }
   },
   "outputs": [
    {
     "name": "stdout",
     "output_type": "stream",
     "text": [
      "Executing Backtests...\n"
     ]
    },
    {
     "name": "stderr",
     "output_type": "stream",
     "text": [
      "100%|██████████████████████████████████████████████████████████| 2/2 [00:00<00:00,  4.81it/s]\n",
      "100%|██████████████████████████████████████████████████████████| 2/2 [00:00<00:00,  5.64it/s]\n"
     ]
    },
    {
     "name": "stdout",
     "output_type": "stream",
     "text": [
      "\n",
      "Long-term Backtest Results:\n",
      "Stat                 Long-term Portfolio    YYY\n",
      "-------------------  ---------------------  ----------\n",
      "Start                2023-06-05             2023-06-05\n",
      "End                  2025-06-09             2025-06-09\n",
      "Risk-free rate       4.24%                  4.24%\n",
      "\n",
      "Total Return         23.06%                 21.96%\n",
      "Daily Sharpe         0.48                   0.59\n",
      "Daily Sortino        0.77                   0.85\n",
      "CAGR                 10.86%                 10.37%\n",
      "Max Drawdown         -15.72%                -14.44%\n",
      "Calmar Ratio         0.69                   0.72\n",
      "\n",
      "MTD                  1.02%                  0.96%\n",
      "3m                   -3.57%                 0.43%\n",
      "6m                   -4.68%                 -1.53%\n",
      "YTD                  -1.02%                 3.40%\n",
      "1Y                   -2.78%                 6.06%\n",
      "3Y (ann.)            10.86%                 10.37%\n",
      "5Y (ann.)            -                      -\n",
      "10Y (ann.)           -                      -\n",
      "Since Incep. (ann.)  10.86%                 10.37%\n",
      "\n",
      "Daily Sharpe         0.48                   0.59\n",
      "Daily Sortino        0.77                   0.85\n",
      "Daily Mean (ann.)    11.55%                 10.50%\n",
      "Daily Vol (ann.)     15.45%                 10.83%\n",
      "Daily Skew           0.07                   -1.38\n",
      "Daily Kurt           10.90                  22.64\n",
      "Best Day             7.37%                  4.84%\n",
      "Worst Day            -6.67%                 -6.40%\n",
      "\n",
      "Monthly Sharpe       0.51                   0.58\n",
      "Monthly Sortino      1.03                   1.11\n",
      "Monthly Mean (ann.)  10.80%                 10.06%\n",
      "Monthly Vol (ann.)   12.97%                 10.13%\n",
      "Monthly Skew         0.34                   0.28\n",
      "Monthly Kurt         0.35                   0.65\n",
      "Best Month           9.48%                  8.53%\n",
      "Worst Month          -7.17%                 -4.53%\n",
      "\n",
      "Yearly Sharpe        0.15                   0.14\n",
      "Yearly Sortino       0.44                   1.40\n",
      "Yearly Mean          5.89%                  5.07%\n",
      "Yearly Vol           11.10%                 6.08%\n",
      "Yearly Skew          -                      -\n",
      "Yearly Kurt          -                      -\n",
      "Best Year            18.70%                 11.81%\n",
      "Worst Year           -1.02%                 0.00%\n",
      "\n",
      "Avg. Drawdown        -2.25%                 -1.62%\n",
      "Avg. Drawdown Days   19.21                  14.23\n",
      "Avg. Up Month        3.55%                  2.88%\n",
      "Avg. Down Month      -1.98%                 -1.75%\n",
      "Win Year %           50.00%                 100.00%\n",
      "Win 12m %            78.57%                 100.00%\n",
      "\n",
      "Short-term Backtest Results:\n",
      "Stat                 Short-term Portfolio    DSI\n",
      "-------------------  ----------------------  ----------\n",
      "Start                2023-06-05              2023-06-05\n",
      "End                  2025-06-09              2025-06-09\n",
      "Risk-free rate       4.24%                   4.24%\n",
      "\n",
      "Total Return         76.84%                  41.49%\n",
      "Daily Sharpe         1.16                    0.86\n",
      "Daily Sortino        2.15                    1.42\n",
      "CAGR                 32.75%                  18.82%\n",
      "Max Drawdown         -21.27%                 -20.58%\n",
      "Calmar Ratio         1.54                    0.91\n",
      "\n",
      "MTD                  2.66%                   1.69%\n",
      "3m                   7.82%                   6.39%\n",
      "6m                   1.70%                   -1.24%\n",
      "YTD                  7.68%                   2.47%\n",
      "1Y                   23.05%                  11.46%\n",
      "3Y (ann.)            32.75%                  18.82%\n",
      "5Y (ann.)            -                       -\n",
      "10Y (ann.)           -                       -\n",
      "Since Incep. (ann.)  32.75%                  18.82%\n",
      "\n",
      "Daily Sharpe         1.16                    0.86\n",
      "Daily Sortino        2.15                    1.42\n",
      "Daily Mean (ann.)    31.10%                  18.77%\n",
      "Daily Vol (ann.)     23.17%                  17.06%\n",
      "Daily Skew           1.64                    0.71\n",
      "Daily Kurt           17.04                   13.70\n",
      "Best Day             11.62%                  9.57%\n",
      "Worst Day            -8.64%                  -5.58%\n",
      "\n",
      "Monthly Sharpe       1.34                    0.83\n",
      "Monthly Sortino      4.02                    1.72\n",
      "Monthly Mean (ann.)  28.81%                  16.05%\n",
      "Monthly Vol (ann.)   18.37%                  14.35%\n",
      "Monthly Skew         0.92                    0.16\n",
      "Monthly Kurt         0.70                    -0.35\n",
      "Best Month           15.81%                  10.09%\n",
      "Worst Month          -5.20%                  -5.88%\n",
      "\n",
      "Yearly Sharpe        0.55                    0.33\n",
      "Yearly Sortino       inf                     3.24\n",
      "Yearly Mean          15.24%                  8.28%\n",
      "Yearly Vol           20.12%                  12.27%\n",
      "Yearly Skew          -                       -\n",
      "Yearly Kurt          -                       -\n",
      "Best Year            38.05%                  22.38%\n",
      "Worst Year           0.00%                   0.00%\n",
      "\n",
      "Avg. Drawdown        -2.51%                  -2.18%\n",
      "Avg. Drawdown Days   15.40                   15.72\n",
      "Avg. Up Month        5.38%                   4.04%\n",
      "Avg. Down Month      -2.07%                  -2.71%\n",
      "Win Year %           100.00%                 100.00%\n",
      "Win 12m %            100.00%                 100.00%\n"
     ]
    }
   ],
   "source": [
    "def run_backtest(test_set, portfolio_tickers, benchmark_ticker, benchmark_quotes, weights, strategy_name, rebalance_freq):\n",
    "    \"\"\"Execute systematic backtest for portfolio vs benchmark\"\"\"\n",
    "    all_quotes = test_set.copy()\n",
    "    all_quotes[benchmark_ticker] = benchmark_quotes[benchmark_ticker].loc[test_set.index[0]:test_set.index[-1]]\n",
    "    \n",
    "    strategies = [\n",
    "        bt.Strategy(f'{strategy_name} Portfolio', [rebalance_freq, bt.algos.SelectAll(), bt.algos.WeighSpecified(**weights), bt.algos.Rebalance()]),\n",
    "        bt.Strategy(benchmark_ticker, [rebalance_freq, bt.algos.SelectThese([benchmark_ticker]), bt.algos.WeighEqually(), bt.algos.Rebalance()])\n",
    "    ]\n",
    "    \n",
    "    backtests = [bt.Backtest(strategies[0], all_quotes[portfolio_tickers]), bt.Backtest(strategies[1], all_quotes[[benchmark_ticker]])]\n",
    "    result = bt.run(*backtests)\n",
    "    result.set_riskfree_rate(risk_free_rate)\n",
    "    return result\n",
    "\n",
    "# Execute backtests with appropriate rebalancing frequencies\n",
    "print(\"Executing Backtests...\")\n",
    "result_long = run_backtest(test_set_long, portfolio_long_tickers, benchmark_long, quotes['benchmark_long'], weights_long, \"Long-term\", bt.algos.RunEveryNPeriods(66, offset=66))\n",
    "result_short = run_backtest(test_set_short, portfolio_short_tickers, benchmark_short, quotes['benchmark_short'], weights_short, \"Short-term\", bt.algos.RunWeekly())\n",
    "\n",
    "# Extract returns for QuantStats analysis\n",
    "def extract_returns(result, strategy_name):\n",
    "    return result[strategy_name].prices.pct_change().dropna()\n",
    "\n",
    "bt_long_returns, bt_short_returns = extract_returns(result_long, 'Long-term Portfolio'), extract_returns(result_short, 'Short-term Portfolio')\n",
    "bt_benchmark_long_returns, bt_benchmark_short_returns = extract_returns(result_long, benchmark_long), extract_returns(result_short, benchmark_short)\n",
    "\n",
    "# Display backtest results\n",
    "for result, title in [(result_long, 'Long-term'), (result_short, 'Short-term')]:\n",
    "    print(f\"\\n{title} Backtest Results:\")\n",
    "    result.display()\n",
    "    result.plot(figsize=(12, 6), title=f'{title} Portfolio vs Benchmark (Test Period)')"
   ]
  },
  {
   "cell_type": "markdown",
   "metadata": {},
   "source": [
    "## **HTML Reporting - `QuantStats`**\n",
    "\n",
    "**Comprehensive QuantStats Reporting:**\n",
    "- **Risk Metrics**: Value-at-Risk (VaR), Conditional VaR, Maximum Drawdown, Rolling Volatility\n",
    "- **Return Analytics**: Total Return, CAGR, Best/Worst Periods, Win/Loss Ratios, Consistency Metrics\n",
    "- **Risk-Adjusted Performance**: Sharpe Ratio, Sortino Ratio, Calmar Ratio, Information Ratio\n",
    "- **Comparative Analysis**: Alpha/Beta decomposition, Tracking Error, Active Return Attribution\n",
    "- **Statistical Tests**: Performance significance testing and confidence intervals\n",
    "- **Visual Analytics**: Interactive charts, drawdown analysis, return distribution plots"
   ]
  },
  {
   "cell_type": "code",
   "execution_count": 6,
   "metadata": {
    "execution": {
     "iopub.execute_input": "2025-06-10T20:03:09.786189Z",
     "iopub.status.busy": "2025-06-10T20:03:09.785874Z",
     "iopub.status.idle": "2025-06-10T20:03:28.607668Z",
     "shell.execute_reply": "2025-06-10T20:03:28.606705Z"
    }
   },
   "outputs": [
    {
     "name": "stdout",
     "output_type": "stream",
     "text": [
      "Generating Long-term reports (2023-06-06 00:00:00 to 2025-06-09 00:00:00)\n",
      "Added download button and removed QuantStats attribution from portfolios/portfolio_vs_benchmark_long_term-2025-06-09.html\n"
     ]
    },
    {
     "data": {
      "text/html": [
       "<h4>Performance Metrics</h4>"
      ],
      "text/plain": [
       "<IPython.core.display.HTML object>"
      ]
     },
     "metadata": {},
     "output_type": "display_data"
    },
    {
     "name": "stdout",
     "output_type": "stream",
     "text": [
      "                           YYY         Long-term Portfolio\n",
      "-------------------------  ----------  ---------------------\n",
      "Start Period               2023-09-12  2023-09-12\n",
      "End Period                 2025-06-09  2025-06-09\n",
      "Risk-Free Rate             4.24%       4.24%\n",
      "Time in Market             91.0%       100.0%\n",
      "\n",
      "Cumulative Return          21.96%      23.06%\n",
      "CAGR﹪                     8.19%       8.57%\n",
      "\n",
      "Sharpe                     0.69        0.55\n",
      "Prob. Sharpe Ratio         67.78%      56.8%\n",
      "Smart Sharpe               0.64        0.52\n",
      "Sortino                    0.92        0.79\n",
      "Smart Sortino              0.86        0.74\n",
      "Sortino/√2                 0.65        0.56\n",
      "Smart Sortino/√2           0.61        0.52\n",
      "Omega                      1.1         1.1\n",
      "\n",
      "Max Drawdown               -14.44%     -15.72%\n",
      "Longest DD Days            109         189\n",
      "Volatility (ann.)          11.64%      16.61%\n",
      "R^2                        0.41        0.41\n",
      "Information Ratio          0.01        0.01\n",
      "Calmar                     0.57        0.55\n",
      "Skew                       -1.31       0.04\n",
      "Kurtosis                   19.29       9.05\n",
      "\n",
      "Expected Daily %           0.05%       0.05%\n",
      "Expected Monthly %         0.91%       0.95%\n",
      "Expected Yearly %          6.84%       7.16%\n",
      "Kelly Criterion            9.81%       3.67%\n",
      "Risk of Ruin               0.0%        0.0%\n",
      "Daily Value-at-Risk        -1.16%      -1.67%\n",
      "Expected Shortfall (cVaR)  -1.16%      -1.67%\n",
      "\n",
      "Max Consecutive Wins       9           8\n",
      "Max Consecutive Losses     8           6\n",
      "Gain/Pain Ratio            0.23        0.15\n",
      "Gain/Pain (1M)             1.12        1.02\n",
      "\n",
      "Payoff Ratio               0.87        0.95\n",
      "Profit Factor              1.23        1.15\n",
      "Common Sense Ratio         1.12        1.13\n",
      "CPC Index                  0.62        0.58\n",
      "Tail Ratio                 0.91        0.98\n",
      "Outlier Win Ratio          4.72        2.62\n",
      "Outlier Loss Ratio         4.07        3.06\n",
      "\n",
      "MTD                        0.96%       1.02%\n",
      "3M                         0.43%       -3.57%\n",
      "6M                         -1.45%      -7.11%\n",
      "YTD                        3.4%        -1.02%\n",
      "1Y                         6.06%       -2.78%\n",
      "3Y (ann.)                  8.19%       8.57%\n",
      "5Y (ann.)                  8.19%       8.57%\n",
      "10Y (ann.)                 8.19%       8.57%\n",
      "All-time (ann.)            8.19%       8.57%\n",
      "\n",
      "Best Day                   4.84%       7.37%\n",
      "Worst Day                  -6.4%       -6.67%\n",
      "Best Month                 8.53%       9.48%\n",
      "Worst Month                -4.53%      -7.17%\n",
      "Best Year                  11.81%      18.7%\n",
      "Worst Year                 3.4%        -1.02%\n",
      "\n",
      "Avg. Drawdown              -1.61%      -2.33%\n",
      "Avg. Drawdown Days         14          19\n",
      "Recovery Factor            1.46        1.47\n",
      "Ulcer Index                0.03        0.05\n",
      "Serenity Index             0.78        0.48\n",
      "\n",
      "Avg. Up Month              2.87%       3.55%\n",
      "Avg. Down Month            -2.76%      -3.23%\n",
      "Win Days %                 58.08%      53.09%\n",
      "Win Month %                68.18%      59.09%\n",
      "Win Quarter %              75.0%       62.5%\n",
      "Win Year %                 100.0%      66.67%\n",
      "\n",
      "Beta                       -           0.92\n",
      "Alpha                      -           0.02\n",
      "Correlation                -           64.38%\n",
      "Treynor Ratio              -           20.49%\n"
     ]
    },
    {
     "data": {
      "text/plain": [
       "None"
      ]
     },
     "metadata": {},
     "output_type": "display_data"
    },
    {
     "data": {
      "text/html": [
       "<h4 style=\"margin-bottom:20px\">Worst 5 Drawdowns</h4>"
      ],
      "text/plain": [
       "<IPython.core.display.HTML object>"
      ]
     },
     "metadata": {},
     "output_type": "display_data"
    },
    {
     "data": {
      "text/html": [
       "<div>\n",
       "<style scoped>\n",
       "    .dataframe tbody tr th:only-of-type {\n",
       "        vertical-align: middle;\n",
       "    }\n",
       "\n",
       "    .dataframe tbody tr th {\n",
       "        vertical-align: top;\n",
       "    }\n",
       "\n",
       "    .dataframe thead th {\n",
       "        text-align: right;\n",
       "    }\n",
       "</style>\n",
       "<table border=\"1\" class=\"dataframe\">\n",
       "  <thead>\n",
       "    <tr style=\"text-align: right;\">\n",
       "      <th></th>\n",
       "      <th>Start</th>\n",
       "      <th>Valley</th>\n",
       "      <th>End</th>\n",
       "      <th>Days</th>\n",
       "      <th>Max Drawdown</th>\n",
       "      <th>99% Max Drawdown</th>\n",
       "    </tr>\n",
       "  </thead>\n",
       "  <tbody>\n",
       "    <tr>\n",
       "      <th>1</th>\n",
       "      <td>2024-12-03</td>\n",
       "      <td>2025-04-08</td>\n",
       "      <td>2025-06-09</td>\n",
       "      <td>189</td>\n",
       "      <td>-15.717045</td>\n",
       "      <td>-14.238324</td>\n",
       "    </tr>\n",
       "    <tr>\n",
       "      <th>2</th>\n",
       "      <td>2024-07-16</td>\n",
       "      <td>2024-08-05</td>\n",
       "      <td>2024-10-11</td>\n",
       "      <td>88</td>\n",
       "      <td>-10.303591</td>\n",
       "      <td>-9.677081</td>\n",
       "    </tr>\n",
       "    <tr>\n",
       "      <th>3</th>\n",
       "      <td>2023-09-15</td>\n",
       "      <td>2023-10-27</td>\n",
       "      <td>2023-11-09</td>\n",
       "      <td>56</td>\n",
       "      <td>-6.827237</td>\n",
       "      <td>-6.193592</td>\n",
       "    </tr>\n",
       "    <tr>\n",
       "      <th>4</th>\n",
       "      <td>2024-10-15</td>\n",
       "      <td>2024-10-31</td>\n",
       "      <td>2024-11-26</td>\n",
       "      <td>43</td>\n",
       "      <td>-5.390606</td>\n",
       "      <td>-5.315233</td>\n",
       "    </tr>\n",
       "    <tr>\n",
       "      <th>5</th>\n",
       "      <td>2024-03-28</td>\n",
       "      <td>2024-04-19</td>\n",
       "      <td>2024-05-09</td>\n",
       "      <td>43</td>\n",
       "      <td>-3.857149</td>\n",
       "      <td>-3.724084</td>\n",
       "    </tr>\n",
       "  </tbody>\n",
       "</table>\n",
       "</div>"
      ],
      "text/plain": [
       "        Start      Valley         End  Days  Max Drawdown  99% Max Drawdown\n",
       "1  2024-12-03  2025-04-08  2025-06-09   189    -15.717045        -14.238324\n",
       "2  2024-07-16  2024-08-05  2024-10-11    88    -10.303591         -9.677081\n",
       "3  2023-09-15  2023-10-27  2023-11-09    56     -6.827237         -6.193592\n",
       "4  2024-10-15  2024-10-31  2024-11-26    43     -5.390606         -5.315233\n",
       "5  2024-03-28  2024-04-19  2024-05-09    43     -3.857149         -3.724084"
      ]
     },
     "metadata": {},
     "output_type": "display_data"
    },
    {
     "data": {
      "text/html": [
       "<h4>Strategy Visualization</h4>"
      ],
      "text/plain": [
       "<IPython.core.display.HTML object>"
      ]
     },
     "metadata": {},
     "output_type": "display_data"
    },
    {
     "name": "stdout",
     "output_type": "stream",
     "text": [
      "Generating Short-term reports (2023-06-06 00:00:00 to 2025-06-09 00:00:00)\n",
      "Added download button and removed QuantStats attribution from portfolios/portfolio_vs_benchmark_short_term-2025-06-09.html\n"
     ]
    },
    {
     "data": {
      "text/html": [
       "<h4>Performance Metrics</h4>"
      ],
      "text/plain": [
       "<IPython.core.display.HTML object>"
      ]
     },
     "metadata": {},
     "output_type": "display_data"
    },
    {
     "name": "stdout",
     "output_type": "stream",
     "text": [
      "                           DSI         Short-term Portfolio\n",
      "-------------------------  ----------  ----------------------\n",
      "Start Period               2023-06-07  2023-06-07\n",
      "End Period                 2025-06-09  2025-06-09\n",
      "Risk-Free Rate             4.24%       4.24%\n",
      "Time in Market             100.0%      100.0%\n",
      "\n",
      "Cumulative Return          41.49%      76.84%\n",
      "CAGR﹪                     12.67%      21.65%\n",
      "\n",
      "Sharpe                     0.86        1.17\n",
      "Prob. Sharpe Ratio         73.13%      84.25%\n",
      "Smart Sharpe               0.78        1.05\n",
      "Sortino                    1.26        1.91\n",
      "Smart Sortino              1.14        1.73\n",
      "Sortino/√2                 0.89        1.35\n",
      "Smart Sortino/√2           0.81        1.22\n",
      "Omega                      1.26        1.26\n",
      "\n",
      "Max Drawdown               -20.58%     -21.27%\n",
      "Longest DD Days            137         107\n",
      "Volatility (ann.)          17.09%      23.22%\n",
      "R^2                        0.49        0.49\n",
      "Information Ratio          0.05        0.05\n",
      "Calmar                     0.62        1.02\n",
      "Skew                       0.71        1.63\n",
      "Kurtosis                   13.63       16.96\n",
      "\n",
      "Expected Daily %           0.07%       0.11%\n",
      "Expected Monthly %         1.4%        2.31%\n",
      "Expected Yearly %          12.26%      20.93%\n",
      "Kelly Criterion            6.53%       10.41%\n",
      "Risk of Ruin               0.0%        0.0%\n",
      "Daily Value-at-Risk        -1.7%       -2.28%\n",
      "Expected Shortfall (cVaR)  -1.7%       -2.28%\n",
      "\n",
      "Max Consecutive Wins       8           11\n",
      "Max Consecutive Losses     6           5\n",
      "Gain/Pain Ratio            0.22        0.31\n",
      "Gain/Pain (1M)             1.43        3.3\n",
      "\n",
      "Payoff Ratio               0.89        0.91\n",
      "Profit Factor              1.22        1.31\n",
      "Common Sense Ratio         1.14        1.16\n",
      "CPC Index                  0.61        0.68\n",
      "Tail Ratio                 0.93        0.89\n",
      "Outlier Win Ratio          4.53        3.57\n",
      "Outlier Loss Ratio         3.82        3.06\n",
      "\n",
      "MTD                        1.69%       2.66%\n",
      "3M                         6.39%       7.82%\n",
      "6M                         -1.79%      2.16%\n",
      "YTD                        2.47%       7.68%\n",
      "1Y                         11.46%      23.05%\n",
      "3Y (ann.)                  12.67%      21.65%\n",
      "5Y (ann.)                  12.67%      21.65%\n",
      "10Y (ann.)                 12.67%      21.65%\n",
      "All-time (ann.)            12.67%      21.65%\n",
      "\n",
      "Best Day                   9.57%       11.62%\n",
      "Worst Day                  -5.58%      -8.64%\n",
      "Best Month                 10.09%      15.81%\n",
      "Worst Month                -5.88%      -5.2%\n",
      "Best Year                  22.38%      38.05%\n",
      "Worst Year                 2.47%       7.68%\n",
      "\n",
      "Avg. Drawdown              -2.22%      -2.54%\n",
      "Avg. Drawdown Days         16          15\n",
      "Recovery Factor            1.83        2.93\n",
      "Ulcer Index                0.05        0.05\n",
      "Serenity Index             0.82        1.85\n",
      "\n",
      "Avg. Up Month              4.52%       5.74%\n",
      "Avg. Down Month            -3.46%      -3.19%\n",
      "Win Days %                 55.89%      57.26%\n",
      "Win Month %                64.0%       64.0%\n",
      "Win Quarter %              77.78%      77.78%\n",
      "Win Year %                 100.0%      100.0%\n",
      "\n",
      "Beta                       -           0.95\n",
      "Alpha                      -           0.13\n",
      "Correlation                -           70.06%\n",
      "Treynor Ratio              -           76.27%\n"
     ]
    },
    {
     "data": {
      "text/plain": [
       "None"
      ]
     },
     "metadata": {},
     "output_type": "display_data"
    },
    {
     "data": {
      "text/html": [
       "<h4 style=\"margin-bottom:20px\">Worst 5 Drawdowns</h4>"
      ],
      "text/plain": [
       "<IPython.core.display.HTML object>"
      ]
     },
     "metadata": {},
     "output_type": "display_data"
    },
    {
     "data": {
      "text/html": [
       "<div>\n",
       "<style scoped>\n",
       "    .dataframe tbody tr th:only-of-type {\n",
       "        vertical-align: middle;\n",
       "    }\n",
       "\n",
       "    .dataframe tbody tr th {\n",
       "        vertical-align: top;\n",
       "    }\n",
       "\n",
       "    .dataframe thead th {\n",
       "        text-align: right;\n",
       "    }\n",
       "</style>\n",
       "<table border=\"1\" class=\"dataframe\">\n",
       "  <thead>\n",
       "    <tr style=\"text-align: right;\">\n",
       "      <th></th>\n",
       "      <th>Start</th>\n",
       "      <th>Valley</th>\n",
       "      <th>End</th>\n",
       "      <th>Days</th>\n",
       "      <th>Max Drawdown</th>\n",
       "      <th>99% Max Drawdown</th>\n",
       "    </tr>\n",
       "  </thead>\n",
       "  <tbody>\n",
       "    <tr>\n",
       "      <th>1</th>\n",
       "      <td>2025-02-20</td>\n",
       "      <td>2025-04-08</td>\n",
       "      <td>2025-06-06</td>\n",
       "      <td>107</td>\n",
       "      <td>-21.271068</td>\n",
       "      <td>-19.546860</td>\n",
       "    </tr>\n",
       "    <tr>\n",
       "      <th>2</th>\n",
       "      <td>2024-07-17</td>\n",
       "      <td>2024-08-05</td>\n",
       "      <td>2024-09-11</td>\n",
       "      <td>57</td>\n",
       "      <td>-9.520975</td>\n",
       "      <td>-8.941132</td>\n",
       "    </tr>\n",
       "    <tr>\n",
       "      <th>3</th>\n",
       "      <td>2023-07-19</td>\n",
       "      <td>2023-08-18</td>\n",
       "      <td>2023-10-31</td>\n",
       "      <td>105</td>\n",
       "      <td>-8.682047</td>\n",
       "      <td>-8.516702</td>\n",
       "    </tr>\n",
       "    <tr>\n",
       "      <th>4</th>\n",
       "      <td>2024-09-13</td>\n",
       "      <td>2024-10-07</td>\n",
       "      <td>2024-10-29</td>\n",
       "      <td>47</td>\n",
       "      <td>-7.148650</td>\n",
       "      <td>-6.135731</td>\n",
       "    </tr>\n",
       "    <tr>\n",
       "      <th>5</th>\n",
       "      <td>2024-12-12</td>\n",
       "      <td>2025-01-02</td>\n",
       "      <td>2025-02-18</td>\n",
       "      <td>69</td>\n",
       "      <td>-6.882145</td>\n",
       "      <td>-6.746765</td>\n",
       "    </tr>\n",
       "  </tbody>\n",
       "</table>\n",
       "</div>"
      ],
      "text/plain": [
       "        Start      Valley         End  Days  Max Drawdown  99% Max Drawdown\n",
       "1  2025-02-20  2025-04-08  2025-06-06   107    -21.271068        -19.546860\n",
       "2  2024-07-17  2024-08-05  2024-09-11    57     -9.520975         -8.941132\n",
       "3  2023-07-19  2023-08-18  2023-10-31   105     -8.682047         -8.516702\n",
       "4  2024-09-13  2024-10-07  2024-10-29    47     -7.148650         -6.135731\n",
       "5  2024-12-12  2025-01-02  2025-02-18    69     -6.882145         -6.746765"
      ]
     },
     "metadata": {},
     "output_type": "display_data"
    },
    {
     "data": {
      "text/html": [
       "<h4>Strategy Visualization</h4>"
      ],
      "text/plain": [
       "<IPython.core.display.HTML object>"
      ]
     },
     "metadata": {},
     "output_type": "display_data"
    }
   ],
   "source": [
    "def generate_reports(portfolio_returns, benchmark_returns, portfolio_name, benchmark_name, suffix):\n",
    "    \"\"\"Generate comprehensive QuantStats performance reports\"\"\"\n",
    "    portfolio_returns.name = f\"{portfolio_name} Portfolio\"\n",
    "    print(f\"Generating {portfolio_name} reports ({portfolio_returns.index[0]} to {portfolio_returns.index[-1]})\")\n",
    "    \n",
    "    with warnings.catch_warnings():\n",
    "        warnings.simplefilter(\"ignore\")\n",
    "        qs.reports.html(\n",
    "            portfolio_returns, \n",
    "            benchmark_returns, \n",
    "            rf=risk_free_rate, \n",
    "            figsize=(8, 5),\n",
    "            output=f'portfolios/portfolio_vs_benchmark_{suffix}-{datetime.date(end_date)}.html',\n",
    "            title=f'{portfolio_name} Portfolio vs {benchmark_name}', \n",
    "            benchmark_title=benchmark_name,\n",
    "            strategy_title=f'{portfolio_name} Portfolio' \n",
    "        )\n",
    "        qs.reports.full(\n",
    "            portfolio_returns, \n",
    "            benchmark_returns, \n",
    "            rf=risk_free_rate, \n",
    "            figsize=(8, 5),\n",
    "            title=f'{portfolio_name} Portfolio vs {benchmark_name}', \n",
    "            benchmark_title=benchmark_name,\n",
    "            strategy_title=f'{portfolio_name} Portfolio' \n",
    "        )\n",
    "    return portfolio_returns, benchmark_returns\n",
    "\n",
    "# Generate comprehensive performance reports\n",
    "portfolio_long_test, benchmark_long_test = generate_reports(bt_long_returns, bt_benchmark_long_returns, \"Long-term\", benchmark_long, \"long_term\")\n",
    "portfolio_short_test, benchmark_short_test = generate_reports(bt_short_returns, bt_benchmark_short_returns, \"Short-term\", benchmark_short, \"short_term\")"
   ]
  },
  {
   "cell_type": "markdown",
   "metadata": {},
   "source": [
    "## **Performance Summary**\n",
    "\n",
    "**Key Performance Indicators (Out-of-Sample Test Period):**\n",
    "\n",
    "This section provides actionable insights for investment decision-making through:\n",
    "- **Risk-Adjusted Returns**: Sharpe ratio comparison for risk-adjusted performance evaluation\n",
    "- **Absolute Performance**: Total return analysis to assess wealth creation potential\n",
    "- **Relative Performance**: Portfolio alpha generation versus benchmark indices\n",
    "- **Statistical Significance**: Performance persistence and reliability assessment\n",
    "- **Strategy Validation**: Out-of-sample results confirm strategy robustness and deployment readiness"
   ]
  },
  {
   "cell_type": "code",
   "execution_count": 7,
   "metadata": {
    "execution": {
     "iopub.execute_input": "2025-06-10T20:03:28.611225Z",
     "iopub.status.busy": "2025-06-10T20:03:28.610590Z",
     "iopub.status.idle": "2025-06-10T20:03:28.680770Z",
     "shell.execute_reply": "2025-06-10T20:03:28.679856Z"
    }
   },
   "outputs": [
    {
     "name": "stdout",
     "output_type": "stream",
     "text": [
      "\n",
      "============================================================\n",
      "PORTFOLIO PERFORMANCE SUMMARY (OUT-OF-SAMPLE TEST PERIOD)\n",
      "============================================================\n",
      "\n",
      "Long-term Portfolio vs YYY:\n",
      "  Portfolio Sharpe Ratio: 0.7481\n",
      "  Benchmark Sharpe Ratio: 0.9703\n",
      "  Portfolio Total Return: 0.2306\n",
      "  Benchmark Total Return: 0.2196\n",
      "\n",
      "Short-term Portfolio vs DSI:\n",
      "  Portfolio Sharpe Ratio: 1.3435\n",
      "  Benchmark Sharpe Ratio: 1.1015\n",
      "  Portfolio Total Return: 0.7684\n",
      "  Benchmark Total Return: 0.4149\n",
      "\n",
      "📊 Reports: portfolios/portfolio_vs_benchmark_*-2025-06-09.html\n",
      "✅ Analysis Complete! Review HTML reports for detailed analytics.\n"
     ]
    }
   ],
   "source": [
    "def safe_metric(func, data, default=0.0):\n",
    "    \"\"\"Calculate metrics with error handling\"\"\"\n",
    "    try:\n",
    "        result = func(data)\n",
    "        return result.iloc[0] if isinstance(result, pd.Series) else result\n",
    "    except:\n",
    "        return default\n",
    "\n",
    "# Performance summary analysis\n",
    "test_data = [('Long-term', portfolio_long_test, benchmark_long_test, benchmark_long),\n",
    "             ('Short-term', portfolio_short_test, benchmark_short_test, benchmark_short)]\n",
    "\n",
    "print(\"\\n\" + \"=\"*60)\n",
    "print(\"PORTFOLIO PERFORMANCE SUMMARY (OUT-OF-SAMPLE TEST PERIOD)\")\n",
    "print(\"=\"*60)\n",
    "\n",
    "for strategy_name, portfolio_data, benchmark_data, benchmark_name in test_data:\n",
    "    metrics = {\n",
    "        'Portfolio Sharpe Ratio': safe_metric(qs.stats.sharpe, portfolio_data),\n",
    "        'Benchmark Sharpe Ratio': safe_metric(qs.stats.sharpe, benchmark_data),\n",
    "        'Portfolio Total Return': safe_metric(qs.stats.comp, portfolio_data),\n",
    "        'Benchmark Total Return': safe_metric(qs.stats.comp, benchmark_data)\n",
    "    }\n",
    "    \n",
    "    print(f\"\\n{strategy_name} Portfolio vs {benchmark_name}:\")\n",
    "    for metric, value in metrics.items():\n",
    "        print(f\"  {metric}: {value:.4f}\")\n",
    "\n",
    "print(f\"\\n📊 Reports: portfolios/portfolio_vs_benchmark_*-{datetime.date(end_date)}.html\")\n",
    "print(f\"✅ Analysis Complete! Review HTML reports for detailed analytics.\")"
   ]
  }
 ],
 "metadata": {
  "kernelspec": {
   "display_name": ".venv",
   "language": "python",
   "name": "python3"
  },
  "language_info": {
   "codemirror_mode": {
    "name": "ipython",
    "version": 3
   },
   "file_extension": ".py",
   "mimetype": "text/x-python",
   "name": "python",
   "nbconvert_exporter": "python",
   "pygments_lexer": "ipython3",
   "version": "3.13.3"
  }
 },
 "nbformat": 4,
 "nbformat_minor": 4
}
