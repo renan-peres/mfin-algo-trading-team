{
 "cells": [
  {
   "cell_type": "markdown",
   "metadata": {},
   "source": [
    "# Portfolio Performance vs. Benchmark Analysis\n",
    "\n",
    "This notebook performs comprehensive backtesting and performance analysis of algorithmic trading portfolios against benchmarks.\n",
    "- **Automated Portfolio Detection**: Finds latest portfolio configuration from Excel files\n",
    "- **Dual Strategy Framework**: Long-term (quarterly) and short-term (weekly) rebalancing strategies\n",
    "- **Robust Backtesting Engine**: Uses `bt` library with risk-free rate integration and proper rebalancing frequencies\n",
    "- **Train-Test Validation**: 80/20 split ensuring unbiased out-of-sample performance evaluation\n",
    "- **Professional Reporting**: QuantStats HTML reports with comprehensive risk-adjusted metrics\n",
    "- **Benchmark Analysis**: Systematic comparison against market indices with statistical significance testing"
   ]
  },
  {
   "cell_type": "markdown",
   "metadata": {},
   "source": [
    "## **Environment Setup**\n",
    "\n",
    "Import essential libraries and configure the analysis environment. The setup includes:\n",
    "- **Data Processing**: pandas, numpy for quantitative analysis\n",
    "- **Backtesting**: bt library for systematic strategy testing\n",
    "- **Performance Analytics**: QuantStats for professional risk-return analysis\n",
    "- **Utilities**: Custom modules for data loading and filtering"
   ]
  },
  {
   "cell_type": "code",
   "execution_count": 9,
   "metadata": {
    "execution": {
     "iopub.execute_input": "2025-06-11T16:18:32.002390Z",
     "iopub.status.busy": "2025-06-11T16:18:32.002012Z",
     "iopub.status.idle": "2025-06-11T16:18:33.091479Z",
     "shell.execute_reply": "2025-06-11T16:18:33.090105Z"
    }
   },
   "outputs": [],
   "source": [
    "# DataFrame & System Libraries\n",
    "import pandas as pd\n",
    "import numpy as np\n",
    "from datetime import datetime, timedelta\n",
    "from pandas.tseries.offsets import BDay\n",
    "import os, glob, re, warnings\n",
    "from py.utils import load_and_filter_data\n",
    "\n",
    "# Import QuantStats and BT libraries\n",
    "import bt\n",
    "from py.quantstats_fix import *\n",
    "qs.extend_pandas()\n",
    "\n",
    "# Suppress warnings and configure logging\n",
    "warnings.filterwarnings(\"ignore\")\n",
    "logging.getLogger('matplotlib.font_manager').disabled = True"
   ]
  },
  {
   "cell_type": "markdown",
   "metadata": {},
   "source": [
    "## **Data Loading and Configuration**\n",
    "\n",
    "Automated data pipeline that:\n",
    "- **Auto-detects** the most recent portfolio configuration file\n",
    "- **Extracts** portfolio weights, benchmark indices, and risk-free rate\n",
    "- **Loads** 10-year historical price data for comprehensive analysis\n",
    "- **Validates** data integrity and alignment across all instruments"
   ]
  },
  {
   "cell_type": "code",
   "execution_count": 10,
   "metadata": {
    "execution": {
     "iopub.execute_input": "2025-06-11T16:18:33.118303Z",
     "iopub.status.busy": "2025-06-11T16:18:33.117836Z",
     "iopub.status.idle": "2025-06-11T16:18:33.388668Z",
     "shell.execute_reply": "2025-06-11T16:18:33.387522Z"
    }
   },
   "outputs": [
    {
     "name": "stdout",
     "output_type": "stream",
     "text": [
      "Analysis: 2015-06-09 to 2025-06-06 | File: portfolios/portfolio-2025-06-06.xlsx\n",
      "Benchmarks: YYY (Long), XRLV (Short) | Risk-free: 0.0424\n"
     ]
    }
   ],
   "source": [
    "# Auto-detect latest portfolio and set analysis period\n",
    "initial_end_date = (datetime.today() - BDay(1)).to_pydatetime()\n",
    "expected_file = f'portfolios/portfolio-{datetime.date(initial_end_date)}.xlsx'\n",
    "\n",
    "if os.path.exists(expected_file):\n",
    "    end_date, output_file = initial_end_date, expected_file\n",
    "else:\n",
    "    portfolio_files = glob.glob('portfolios/portfolio-*.xlsx')\n",
    "    output_file = max(portfolio_files, key=os.path.getmtime)\n",
    "    date_match = re.search(r'portfolio-(\\d{4}-\\d{2}-\\d{2})\\.xlsx', output_file)\n",
    "    end_date = pd.to_datetime(date_match.group(1)).to_pydatetime()\n",
    "\n",
    "start_date = end_date - timedelta(days=10*365)\n",
    "\n",
    "# Load configurations and extract parameters\n",
    "sheets = pd.read_excel(output_file, sheet_name=None)\n",
    "portfolio_long_df, portfolio_short_df = sheets[\"long_term_portfolio\"], sheets[\"short_term_portfolio\"]\n",
    "benchmark_long, benchmark_short = sheets[\"benchmark_long_term_portfolio\"]['Benchmark'].values[0], sheets[\"benchmark_short_term_portfolio\"]['Benchmark'].values[0]\n",
    "\n",
    "# Load risk-free rate from 'risk_free' sheet 'Close' column\n",
    "risk_free_df = sheets[\"risk_free\"].set_index(sheets[\"risk_free\"].columns[0])\n",
    "risk_free_rate = risk_free_df['Close'].iloc[-1] / 100\n",
    "\n",
    "# Process weights and extract tickers\n",
    "for df in [portfolio_long_df, portfolio_short_df]:\n",
    "    df['Weight'] = df['Weight'].replace('%', '', regex=True).astype(float)\n",
    "\n",
    "weights_long = portfolio_long_df.set_index('Ticker')['Weight'].to_dict()\n",
    "weights_short = portfolio_short_df.set_index('Ticker')['Weight'].to_dict()\n",
    "portfolio_long_tickers, portfolio_short_tickers = list(weights_long.keys()), list(weights_short.keys())\n",
    "\n",
    "print(f\"Analysis: {start_date.strftime('%Y-%m-%d')} to {end_date.strftime('%Y-%m-%d')} | File: {output_file}\")\n",
    "print(f\"Benchmarks: {benchmark_long} (Long), {benchmark_short} (Short) | Risk-free: {risk_free_rate:.4f}\")"
   ]
  },
  {
   "cell_type": "code",
   "execution_count": 11,
   "metadata": {
    "execution": {
     "iopub.execute_input": "2025-06-11T16:18:33.392227Z",
     "iopub.status.busy": "2025-06-11T16:18:33.392016Z",
     "iopub.status.idle": "2025-06-11T16:18:33.933914Z",
     "shell.execute_reply": "2025-06-11T16:18:33.932708Z"
    }
   },
   "outputs": [
    {
     "name": "stdout",
     "output_type": "stream",
     "text": [
      "Found 5 of 5 tickers in data/daily_stock_quotes.csv\n",
      "Missing tickers: []\n",
      "Found 2 of 2 tickers in data/daily_stock_quotes.csv\n",
      "Missing tickers: []\n",
      "Found 1 of 1 tickers in data/daily_benchmark_quotes.csv\n",
      "Missing tickers: []\n",
      "Found 1 of 1 tickers in data/daily_benchmark_quotes.csv\n",
      "Missing tickers: []\n",
      "Data loaded: 2515 observations\n"
     ]
    }
   ],
   "source": [
    "# Load price data and calculate log returns\n",
    "data_files = {\n",
    "    'stock_long': (portfolio_long_tickers, 'data/daily_stock_quotes.csv'),\n",
    "    'stock_short': (portfolio_short_tickers, 'data/daily_stock_quotes.csv'),\n",
    "    'benchmark_long': (benchmark_long, 'data/daily_benchmark_quotes.csv'),\n",
    "    'benchmark_short': (benchmark_short, 'data/daily_benchmark_quotes.csv')\n",
    "}\n",
    "\n",
    "quotes, returns = {}, {}\n",
    "for key, (tickers, file_path) in data_files.items():\n",
    "    quotes[key] = load_and_filter_data(file_path, tickers, start_date, end_date)\n",
    "    returns[key] = np.log(quotes[key] / quotes[key].shift(1)).dropna()\n",
    "\n",
    "print(f\"Data loaded: {len(quotes['stock_long'])} observations\")"
   ]
  },
  {
   "cell_type": "markdown",
   "metadata": {},
   "source": [
    "## **Train-Test Split and Portfolio Construction**\n",
    "\n",
    "**Data Partitioning Strategy:**\n",
    "- **Training Set (80%)**: Used for strategy development and parameter estimation\n",
    "- **Test Set (20%)**: Provides unbiased out-of-sample performance validation\n",
    "- **Portfolio Returns**: Calculated using normalized weights to ensure proper allocation\n",
    "- **Temporal Alignment**: Ensures consistent time series alignment across all instruments"
   ]
  },
  {
   "cell_type": "code",
   "execution_count": 12,
   "metadata": {
    "execution": {
     "iopub.execute_input": "2025-06-11T16:18:33.936718Z",
     "iopub.status.busy": "2025-06-11T16:18:33.936446Z",
     "iopub.status.idle": "2025-06-11T16:18:33.949744Z",
     "shell.execute_reply": "2025-06-11T16:18:33.948256Z"
    }
   },
   "outputs": [
    {
     "name": "stdout",
     "output_type": "stream",
     "text": [
      "Train-Test Split: 2011/504 (Long), 2011/504 (Short)\n",
      "Test Period: 2023-06-05 to 2025-06-06\n"
     ]
    }
   ],
   "source": [
    "def calculate_portfolio_return(returns_data, weights):\n",
    "    \"\"\"Calculate normalized weighted portfolio returns\"\"\"\n",
    "    filtered_weights = {k: v for k, v in weights.items() if k in returns_data.columns}\n",
    "    total_weight = sum(filtered_weights.values())\n",
    "    normalized_weights = {k: v/total_weight for k, v in filtered_weights.items()}\n",
    "    return returns_data[list(normalized_weights.keys())].multiply(pd.Series(normalized_weights), axis=1).sum(axis=1)\n",
    "\n",
    "# Calculate portfolio returns and perform train-test split\n",
    "portfolio_long_return = calculate_portfolio_return(returns['stock_long'], weights_long)\n",
    "portfolio_short_return = calculate_portfolio_return(returns['stock_short'], weights_short)\n",
    "\n",
    "split_idx_long, split_idx_short = int(len(returns['stock_long']) * 0.8), int(len(returns['stock_short']) * 0.8)\n",
    "test_set_long, test_set_short = quotes['stock_long'].iloc[split_idx_long:], quotes['stock_short'].iloc[split_idx_short:]\n",
    "\n",
    "print(f\"Train-Test Split: {split_idx_long}/{len(test_set_long)} (Long), {split_idx_short}/{len(test_set_short)} (Short)\")\n",
    "print(f\"Test Period: {test_set_long.index[0].strftime('%Y-%m-%d')} to {test_set_long.index[-1].strftime('%Y-%m-%d')}\")"
   ]
  },
  {
   "cell_type": "markdown",
   "metadata": {},
   "source": [
    "## **Backtesting - `bt`**\n",
    "\n",
    "**Strategy Implementation using `bt` Library:**\n",
    "- **Long-term Strategy**: Quarterly rebalancing (66 trading days) to minimize transaction costs and capture secular trends\n",
    "- **Short-term Strategy**: Weekly rebalancing for tactical asset allocation and market timing\n",
    "- **Risk Integration**: Incorporates risk-free rate for accurate risk-adjusted performance metrics\n",
    "- **Benchmark Comparison**: Systematic evaluation against market indices with identical rebalancing frequencies\n",
    "- **Transaction Cost Consideration**: Rebalancing frequencies optimized for strategy characteristics"
   ]
  },
  {
   "cell_type": "code",
   "execution_count": 13,
   "metadata": {
    "execution": {
     "iopub.execute_input": "2025-06-11T16:18:33.953112Z",
     "iopub.status.busy": "2025-06-11T16:18:33.952834Z",
     "iopub.status.idle": "2025-06-11T16:18:34.866386Z",
     "shell.execute_reply": "2025-06-11T16:18:34.865113Z"
    }
   },
   "outputs": [
    {
     "name": "stdout",
     "output_type": "stream",
     "text": [
      "Executing Backtests...\n"
     ]
    },
    {
     "name": "stderr",
     "output_type": "stream",
     "text": [
      "100%|██████████| 2/2 [00:00<00:00, 11.29it/s]\n",
      "100%|██████████| 2/2 [00:00<00:00,  6.49it/s]\n"
     ]
    },
    {
     "name": "stdout",
     "output_type": "stream",
     "text": [
      "\n",
      "Long-term Backtest Results:\n",
      "Stat                 Long-term Portfolio    YYY\n",
      "-------------------  ---------------------  ----------\n",
      "Start                2023-06-04             2023-06-04\n",
      "End                  2025-06-06             2025-06-06\n",
      "Risk-free rate       4.24%                  4.24%\n",
      "\n",
      "Total Return         30.66%                 21.52%\n",
      "Daily Sharpe         0.68                   0.57\n",
      "Daily Sortino        1.10                   0.82\n",
      "CAGR                 14.26%                 10.20%\n",
      "Max Drawdown         -13.82%                -14.44%\n",
      "Calmar Ratio         1.03                   0.71\n",
      "\n",
      "MTD                  2.03%                  0.70%\n",
      "3m                   -1.23%                 0.52%\n",
      "6m                   -3.84%                 -1.71%\n",
      "YTD                  2.85%                  3.13%\n",
      "1Y                   2.71%                  5.88%\n",
      "3Y (ann.)            14.26%                 10.20%\n",
      "5Y (ann.)            -                      -\n",
      "10Y (ann.)           -                      -\n",
      "Since Incep. (ann.)  14.26%                 10.20%\n",
      "\n",
      "Daily Sharpe         0.68                   0.57\n",
      "Daily Sortino        1.10                   0.82\n",
      "Daily Mean (ann.)    14.50%                 10.32%\n",
      "Daily Vol (ann.)     15.18%                 10.83%\n",
      "Daily Skew           0.18                   -1.37\n",
      "Daily Kurt           12.64                  22.64\n",
      "Best Day             7.67%                  4.84%\n",
      "Worst Day            -6.67%                 -6.40%\n",
      "\n",
      "Monthly Sharpe       0.76                   0.56\n",
      "Monthly Sortino      1.48                   1.08\n",
      "Monthly Mean (ann.)  13.66%                 9.88%\n",
      "Monthly Vol (ann.)   12.57%                 10.15%\n",
      "Monthly Skew         0.03                   0.29\n",
      "Monthly Kurt         0.60                   0.64\n",
      "Best Month           8.88%                  8.53%\n",
      "Worst Month          -7.68%                 -4.53%\n",
      "\n",
      "Yearly Sharpe        0.31                   0.12\n",
      "Yearly Sortino       3.34                   0.95\n",
      "Yearly Mean          7.51%                  4.98%\n",
      "Yearly Vol           10.64%                 6.12%\n",
      "Yearly Skew          -                      -\n",
      "Yearly Kurt          -                      -\n",
      "Best Year            19.69%                 11.81%\n",
      "Worst Year           0.00%                  0.00%\n",
      "\n",
      "Avg. Drawdown        -1.83%                 -1.63%\n",
      "Avg. Drawdown Days   16.76                  14.23\n",
      "Avg. Up Month        3.79%                  2.86%\n",
      "Avg. Down Month      -1.73%                 -1.76%\n",
      "Win Year %           100.00%                100.00%\n",
      "Win 12m %            92.86%                 100.00%\n",
      "\n",
      "Short-term Backtest Results:\n",
      "Stat                 Short-term Portfolio    XRLV\n",
      "-------------------  ----------------------  ----------\n",
      "Start                2023-06-04              2023-06-04\n",
      "End                  2025-06-06              2025-06-06\n",
      "Risk-free rate       4.24%                   4.24%\n",
      "\n",
      "Total Return         30.17%                  23.06%\n",
      "Daily Sharpe         0.64                    0.61\n",
      "Daily Sortino        1.05                    0.96\n",
      "CAGR                 14.04%                  10.89%\n",
      "Max Drawdown         -12.69%                 -9.60%\n",
      "Calmar Ratio         1.11                    1.14\n",
      "\n",
      "MTD                  1.56%                   -0.79%\n",
      "3m                   11.45%                  -0.61%\n",
      "6m                   6.27%                   0.36%\n",
      "YTD                  9.52%                   4.58%\n",
      "1Y                   13.68%                  13.43%\n",
      "3Y (ann.)            14.04%                  10.89%\n",
      "5Y (ann.)            -                       -\n",
      "10Y (ann.)           -                       -\n",
      "Since Incep. (ann.)  14.04%                  10.89%\n",
      "\n",
      "Daily Sharpe         0.64                    0.61\n",
      "Daily Sortino        1.05                    0.96\n",
      "Daily Mean (ann.)    14.45%                  10.99%\n",
      "Daily Vol (ann.)     16.12%                  11.29%\n",
      "Daily Skew           0.37                    -0.63\n",
      "Daily Kurt           8.93                    9.47\n",
      "Best Day             7.08%                   4.39%\n",
      "Worst Day            -5.25%                  -5.51%\n",
      "\n",
      "Monthly Sharpe       0.72                    0.51\n",
      "Monthly Sortino      1.51                    0.86\n",
      "Monthly Mean (ann.)  12.46%                  9.38%\n",
      "Monthly Vol (ann.)   11.52%                  10.31%\n",
      "Monthly Skew         0.35                    -0.38\n",
      "Monthly Kurt         -0.15                   0.03\n",
      "Best Month           8.00%                   5.32%\n",
      "Worst Month          -4.60%                  -6.32%\n",
      "\n",
      "Yearly Sharpe        0.34                    0.28\n",
      "Yearly Sortino       inf                     inf\n",
      "Yearly Mean          6.04%                   6.23%\n",
      "Yearly Vol           5.25%                   7.20%\n",
      "Yearly Skew          -                       -\n",
      "Yearly Kurt          -                       -\n",
      "Best Year            9.52%                   14.11%\n",
      "Worst Year           0.00%                   0.00%\n",
      "\n",
      "Avg. Drawdown        -1.96%                  -2.08%\n",
      "Avg. Drawdown Days   18.26                   22.36\n",
      "Avg. Up Month        3.09%                   2.63%\n",
      "Avg. Down Month      -2.04%                  -1.99%\n",
      "Win Year %           100.00%                 100.00%\n",
      "Win 12m %            92.86%                  100.00%\n"
     ]
    }
   ],
   "source": [
    "def run_backtest(test_set, portfolio_tickers, benchmark_ticker, benchmark_quotes, weights, strategy_name, rebalance_freq):\n",
    "    \"\"\"Execute systematic backtest for portfolio vs benchmark\"\"\"\n",
    "    all_quotes = test_set.copy()\n",
    "    all_quotes[benchmark_ticker] = benchmark_quotes[benchmark_ticker].loc[test_set.index[0]:test_set.index[-1]]\n",
    "    \n",
    "    strategies = [\n",
    "        bt.Strategy(f'{strategy_name} Portfolio', [rebalance_freq, bt.algos.SelectAll(), bt.algos.WeighSpecified(**weights), bt.algos.Rebalance()]),\n",
    "        bt.Strategy(benchmark_ticker, [rebalance_freq, bt.algos.SelectThese([benchmark_ticker]), bt.algos.WeighEqually(), bt.algos.Rebalance()])\n",
    "    ]\n",
    "    \n",
    "    backtests = [bt.Backtest(strategies[0], all_quotes[portfolio_tickers]), bt.Backtest(strategies[1], all_quotes[[benchmark_ticker]])]\n",
    "    result = bt.run(*backtests)\n",
    "    result.set_riskfree_rate(risk_free_rate)\n",
    "    return result\n",
    "\n",
    "# Execute backtests with appropriate rebalancing frequencies\n",
    "print(\"Executing Backtests...\")\n",
    "result_long = run_backtest(test_set_long, portfolio_long_tickers, benchmark_long, quotes['benchmark_long'], weights_long, \"Long-term\", bt.algos.RunEveryNPeriods(66, offset=66))\n",
    "result_short = run_backtest(test_set_short, portfolio_short_tickers, benchmark_short, quotes['benchmark_short'], weights_short, \"Short-term\", bt.algos.RunWeekly())\n",
    "\n",
    "# Extract returns for QuantStats analysis\n",
    "def extract_returns(result, strategy_name):\n",
    "    return result[strategy_name].prices.pct_change().dropna()\n",
    "\n",
    "bt_long_returns, bt_short_returns = extract_returns(result_long, 'Long-term Portfolio'), extract_returns(result_short, 'Short-term Portfolio')\n",
    "bt_benchmark_long_returns, bt_benchmark_short_returns = extract_returns(result_long, benchmark_long), extract_returns(result_short, benchmark_short)\n",
    "\n",
    "# Display backtest results\n",
    "for result, title in [(result_long, 'Long-term'), (result_short, 'Short-term')]:\n",
    "    print(f\"\\n{title} Backtest Results:\")\n",
    "    result.display()\n",
    "    result.plot(figsize=(12, 6), title=f'{title} Portfolio vs Benchmark (Test Period)')"
   ]
  },
  {
   "cell_type": "markdown",
   "metadata": {},
   "source": [
    "## **HTML Reporting - `QuantStats`**\n",
    "\n",
    "**Comprehensive QuantStats Reporting:**\n",
    "- **Risk Metrics**: Value-at-Risk (VaR), Conditional VaR, Maximum Drawdown, Rolling Volatility\n",
    "- **Return Analytics**: Total Return, CAGR, Best/Worst Periods, Win/Loss Ratios, Consistency Metrics\n",
    "- **Risk-Adjusted Performance**: Sharpe Ratio, Sortino Ratio, Calmar Ratio, Information Ratio\n",
    "- **Comparative Analysis**: Alpha/Beta decomposition, Tracking Error, Active Return Attribution\n",
    "- **Statistical Tests**: Performance significance testing and confidence intervals\n",
    "- **Visual Analytics**: Interactive charts, drawdown analysis, return distribution plots"
   ]
  },
  {
   "cell_type": "code",
   "execution_count": 14,
   "metadata": {
    "execution": {
     "iopub.execute_input": "2025-06-11T16:18:34.869917Z",
     "iopub.status.busy": "2025-06-11T16:18:34.869720Z",
     "iopub.status.idle": "2025-06-11T16:18:42.138967Z",
     "shell.execute_reply": "2025-06-11T16:18:42.137961Z"
    }
   },
   "outputs": [
    {
     "name": "stdout",
     "output_type": "stream",
     "text": [
      "Generating Long-term reports (2023-06-05 00:00:00 to 2025-06-06 00:00:00)\n",
      "Added download button and removed QuantStats attribution from portfolios/portfolio_vs_benchmark_long_term-2025-06-06.html\n"
     ]
    },
    {
     "data": {
      "text/html": [
       "<h4>Performance Metrics</h4>"
      ],
      "text/plain": [
       "<IPython.core.display.HTML object>"
      ]
     },
     "metadata": {},
     "output_type": "display_data"
    },
    {
     "name": "stdout",
     "output_type": "stream",
     "text": [
      "                           YYY         Long-term Portfolio\n",
      "-------------------------  ----------  ---------------------\n",
      "Start Period               2023-09-11  2023-09-11\n",
      "End Period                 2025-06-06  2025-06-06\n",
      "Risk-Free Rate             4.24%       4.24%\n",
      "Time in Market             91.0%       100.0%\n",
      "\n",
      "Cumulative Return          21.52%      30.66%\n",
      "CAGR﹪                     8.05%       11.22%\n",
      "\n",
      "Sharpe                     0.67        0.77\n",
      "Prob. Sharpe Ratio         66.99%      67.9%\n",
      "Smart Sharpe               0.62        0.72\n",
      "Sortino                    0.9         1.12\n",
      "Smart Sortino              0.84        1.05\n",
      "Sortino/√2                 0.63        0.79\n",
      "Smart Sortino/√2           0.59        0.74\n",
      "Omega                      1.15        1.15\n",
      "\n",
      "Max Drawdown               -14.44%     -13.82%\n",
      "Longest DD Days            106         186\n",
      "Volatility (ann.)          11.64%      16.32%\n",
      "R^2                        0.41        0.41\n",
      "Information Ratio          0.02        0.02\n",
      "Calmar                     0.56        0.81\n",
      "Skew                       -1.3        0.14\n",
      "Kurtosis                   19.28       10.56\n",
      "\n",
      "Expected Daily %           0.04%       0.06%\n",
      "Expected Monthly %         0.89%       1.22%\n",
      "Expected Yearly %          6.71%       9.32%\n",
      "Kelly Criterion            8.12%       6.78%\n",
      "Risk of Ruin               0.0%        0.0%\n",
      "Daily Value-at-Risk        -1.16%      -1.62%\n",
      "Expected Shortfall (cVaR)  -1.16%      -1.62%\n",
      "\n",
      "Max Consecutive Wins       9           8\n",
      "Max Consecutive Losses     8           6\n",
      "Gain/Pain Ratio            0.23        0.2\n",
      "Gain/Pain (1M)             1.09        1.47\n",
      "\n",
      "Payoff Ratio               0.85        0.94\n",
      "Profit Factor              1.23        1.2\n",
      "Common Sense Ratio         1.12        1.15\n",
      "CPC Index                  0.6         0.62\n",
      "Tail Ratio                 0.91        0.96\n",
      "Outlier Win Ratio          4.76        2.74\n",
      "Outlier Loss Ratio         3.98        2.98\n",
      "\n",
      "MTD                        0.7%        2.03%\n",
      "3M                         -0.52%      -2.07%\n",
      "6M                         -1.71%      -4.09%\n",
      "YTD                        3.13%       2.85%\n",
      "1Y                         6.18%       2.37%\n",
      "3Y (ann.)                  8.05%       11.22%\n",
      "5Y (ann.)                  8.05%       11.22%\n",
      "10Y (ann.)                 8.05%       11.22%\n",
      "All-time (ann.)            8.05%       11.22%\n",
      "\n",
      "Best Day                   4.84%       7.67%\n",
      "Worst Day                  -6.4%       -6.67%\n",
      "Best Month                 8.53%       8.88%\n",
      "Worst Month                -4.53%      -7.68%\n",
      "Best Year                  11.81%      19.69%\n",
      "Worst Year                 3.13%       2.85%\n",
      "\n",
      "Avg. Drawdown              -1.58%      -1.89%\n",
      "Avg. Drawdown Days         13          16\n",
      "Recovery Factor            1.43        2.1\n",
      "Ulcer Index                0.03        0.04\n",
      "Serenity Index             0.76        0.87\n",
      "\n",
      "Avg. Up Month              2.85%       3.79%\n",
      "Avg. Down Month            -2.77%      -2.9%\n",
      "Win Days %                 57.83%      54.92%\n",
      "Win Month %                68.18%      59.09%\n",
      "Win Quarter %              75.0%       62.5%\n",
      "Win Year %                 100.0%      100.0%\n",
      "\n",
      "Beta                       -           0.9\n",
      "Alpha                      -           0.06\n",
      "Correlation                -           64.02%\n",
      "Treynor Ratio              -           29.45%\n"
     ]
    },
    {
     "data": {
      "text/plain": [
       "None"
      ]
     },
     "metadata": {},
     "output_type": "display_data"
    },
    {
     "data": {
      "text/html": [
       "<h4 style=\"margin-bottom:20px\">Worst 5 Drawdowns</h4>"
      ],
      "text/plain": [
       "<IPython.core.display.HTML object>"
      ]
     },
     "metadata": {},
     "output_type": "display_data"
    },
    {
     "data": {
      "application/vnd.microsoft.datawrangler.viewer.v0+json": {
       "columns": [
        {
         "name": "index",
         "rawType": "int64",
         "type": "integer"
        },
        {
         "name": "Start",
         "rawType": "object",
         "type": "string"
        },
        {
         "name": "Valley",
         "rawType": "object",
         "type": "string"
        },
        {
         "name": "End",
         "rawType": "object",
         "type": "string"
        },
        {
         "name": "Days",
         "rawType": "int64",
         "type": "integer"
        },
        {
         "name": "Max Drawdown",
         "rawType": "float64",
         "type": "float"
        },
        {
         "name": "99% Max Drawdown",
         "rawType": "float64",
         "type": "float"
        }
       ],
       "ref": "c819af41-e96e-45b7-bca7-08c81c090a7f",
       "rows": [
        [
         "1",
         "2024-12-03",
         "2025-04-08",
         "2025-06-06",
         "186",
         "-13.822468930271036",
         "-12.462336842108545"
        ],
        [
         "2",
         "2024-07-17",
         "2024-08-05",
         "2024-10-08",
         "84",
         "-9.134752628837827",
         "-8.451556797554128"
        ],
        [
         "3",
         "2023-09-15",
         "2023-10-27",
         "2023-11-09",
         "56",
         "-6.355421098650282",
         "-5.790791942663509"
        ],
        [
         "4",
         "2024-10-15",
         "2024-10-31",
         "2024-11-22",
         "39",
         "-4.725650761190126",
         "-4.6033960220705605"
        ],
        [
         "5",
         "2024-03-28",
         "2024-04-19",
         "2024-05-09",
         "43",
         "-3.4983118967471305",
         "-3.459600198931123"
        ]
       ],
       "shape": {
        "columns": 6,
        "rows": 5
       }
      },
      "text/html": [
       "<div>\n",
       "<style scoped>\n",
       "    .dataframe tbody tr th:only-of-type {\n",
       "        vertical-align: middle;\n",
       "    }\n",
       "\n",
       "    .dataframe tbody tr th {\n",
       "        vertical-align: top;\n",
       "    }\n",
       "\n",
       "    .dataframe thead th {\n",
       "        text-align: right;\n",
       "    }\n",
       "</style>\n",
       "<table border=\"1\" class=\"dataframe\">\n",
       "  <thead>\n",
       "    <tr style=\"text-align: right;\">\n",
       "      <th></th>\n",
       "      <th>Start</th>\n",
       "      <th>Valley</th>\n",
       "      <th>End</th>\n",
       "      <th>Days</th>\n",
       "      <th>Max Drawdown</th>\n",
       "      <th>99% Max Drawdown</th>\n",
       "    </tr>\n",
       "  </thead>\n",
       "  <tbody>\n",
       "    <tr>\n",
       "      <th>1</th>\n",
       "      <td>2024-12-03</td>\n",
       "      <td>2025-04-08</td>\n",
       "      <td>2025-06-06</td>\n",
       "      <td>186</td>\n",
       "      <td>-13.822469</td>\n",
       "      <td>-12.462337</td>\n",
       "    </tr>\n",
       "    <tr>\n",
       "      <th>2</th>\n",
       "      <td>2024-07-17</td>\n",
       "      <td>2024-08-05</td>\n",
       "      <td>2024-10-08</td>\n",
       "      <td>84</td>\n",
       "      <td>-9.134753</td>\n",
       "      <td>-8.451557</td>\n",
       "    </tr>\n",
       "    <tr>\n",
       "      <th>3</th>\n",
       "      <td>2023-09-15</td>\n",
       "      <td>2023-10-27</td>\n",
       "      <td>2023-11-09</td>\n",
       "      <td>56</td>\n",
       "      <td>-6.355421</td>\n",
       "      <td>-5.790792</td>\n",
       "    </tr>\n",
       "    <tr>\n",
       "      <th>4</th>\n",
       "      <td>2024-10-15</td>\n",
       "      <td>2024-10-31</td>\n",
       "      <td>2024-11-22</td>\n",
       "      <td>39</td>\n",
       "      <td>-4.725651</td>\n",
       "      <td>-4.603396</td>\n",
       "    </tr>\n",
       "    <tr>\n",
       "      <th>5</th>\n",
       "      <td>2024-03-28</td>\n",
       "      <td>2024-04-19</td>\n",
       "      <td>2024-05-09</td>\n",
       "      <td>43</td>\n",
       "      <td>-3.498312</td>\n",
       "      <td>-3.459600</td>\n",
       "    </tr>\n",
       "  </tbody>\n",
       "</table>\n",
       "</div>"
      ],
      "text/plain": [
       "        Start      Valley         End  Days  Max Drawdown  99% Max Drawdown\n",
       "1  2024-12-03  2025-04-08  2025-06-06   186    -13.822469        -12.462337\n",
       "2  2024-07-17  2024-08-05  2024-10-08    84     -9.134753         -8.451557\n",
       "3  2023-09-15  2023-10-27  2023-11-09    56     -6.355421         -5.790792\n",
       "4  2024-10-15  2024-10-31  2024-11-22    39     -4.725651         -4.603396\n",
       "5  2024-03-28  2024-04-19  2024-05-09    43     -3.498312         -3.459600"
      ]
     },
     "metadata": {},
     "output_type": "display_data"
    },
    {
     "data": {
      "text/html": [
       "<h4>Strategy Visualization</h4>"
      ],
      "text/plain": [
       "<IPython.core.display.HTML object>"
      ]
     },
     "metadata": {},
     "output_type": "display_data"
    },
    {
     "name": "stdout",
     "output_type": "stream",
     "text": [
      "Generating Short-term reports (2023-06-05 00:00:00 to 2025-06-06 00:00:00)\n",
      "Added download button and removed QuantStats attribution from portfolios/portfolio_vs_benchmark_short_term-2025-06-06.html\n"
     ]
    },
    {
     "data": {
      "text/html": [
       "<h4>Performance Metrics</h4>"
      ],
      "text/plain": [
       "<IPython.core.display.HTML object>"
      ]
     },
     "metadata": {},
     "output_type": "display_data"
    },
    {
     "name": "stdout",
     "output_type": "stream",
     "text": [
      "                           XRLV        Short-term Portfolio\n",
      "-------------------------  ----------  ----------------------\n",
      "Start Period               2023-06-06  2023-06-06\n",
      "End Period                 2025-06-06  2025-06-06\n",
      "Risk-Free Rate             4.24%       4.24%\n",
      "Time in Market             99.0%       100.0%\n",
      "\n",
      "Cumulative Return          23.06%      30.17%\n",
      "CAGR﹪                     7.42%       9.51%\n",
      "\n",
      "Sharpe                     0.61        0.64\n",
      "Prob. Sharpe Ratio         66.19%      62.56%\n",
      "Smart Sharpe               0.6         0.64\n",
      "Sortino                    0.85        0.93\n",
      "Smart Sortino              0.84        0.93\n",
      "Sortino/√2                 0.6         0.66\n",
      "Smart Sortino/√2           0.6         0.65\n",
      "Omega                      1.12        1.12\n",
      "\n",
      "Max Drawdown               -9.6%       -12.69%\n",
      "Longest DD Days            189         248\n",
      "Volatility (ann.)          11.31%      16.15%\n",
      "R^2                        0.19        0.19\n",
      "Information Ratio          0.01        0.01\n",
      "Calmar                     0.77        0.75\n",
      "Skew                       -0.63       0.37\n",
      "Kurtosis                   9.42        8.88\n",
      "\n",
      "Expected Daily %           0.04%       0.05%\n",
      "Expected Monthly %         0.83%       1.06%\n",
      "Expected Yearly %          7.16%       9.19%\n",
      "Kelly Criterion            4.18%       5.08%\n",
      "Risk of Ruin               0.0%        0.0%\n",
      "Daily Value-at-Risk        -1.13%      -1.62%\n",
      "Expected Shortfall (cVaR)  -1.13%      -1.62%\n",
      "\n",
      "Max Consecutive Wins       14          9\n",
      "Max Consecutive Losses     7           6\n",
      "Gain/Pain Ratio            0.19        0.18\n",
      "Gain/Pain (1M)             1.12        1.44\n",
      "\n",
      "Payoff Ratio               0.97        0.89\n",
      "Profit Factor              1.19        1.18\n",
      "Common Sense Ratio         1.2         1.12\n",
      "CPC Index                  0.61        0.58\n",
      "Tail Ratio                 1.01        0.95\n",
      "Outlier Win Ratio          3.66        2.79\n",
      "Outlier Loss Ratio         4.45        3.13\n",
      "\n",
      "MTD                        -0.79%      1.56%\n",
      "3M                         -1.27%      10.98%\n",
      "6M                         -0.23%      5.74%\n",
      "YTD                        4.58%       9.52%\n",
      "1Y                         13.36%      14.06%\n",
      "3Y (ann.)                  7.42%       9.51%\n",
      "5Y (ann.)                  7.42%       9.51%\n",
      "10Y (ann.)                 7.42%       9.51%\n",
      "All-time (ann.)            7.42%       9.51%\n",
      "\n",
      "Best Day                   4.39%       7.08%\n",
      "Worst Day                  -5.51%      -5.25%\n",
      "Best Month                 5.32%       8.0%\n",
      "Worst Month                -6.32%      -4.6%\n",
      "Best Year                  14.11%      9.52%\n",
      "Worst Year                 3.12%       8.61%\n",
      "\n",
      "Avg. Drawdown              -2.14%      -1.96%\n",
      "Avg. Drawdown Days         23          18\n",
      "Recovery Factor            2.3         2.28\n",
      "Ulcer Index                0.03        0.04\n",
      "Serenity Index             0.61        0.75\n",
      "\n",
      "Avg. Up Month              2.72%       3.07%\n",
      "Avg. Down Month            -3.32%      -2.56%\n",
      "Win Days %                 52.82%      55.27%\n",
      "Win Month %                64.0%       64.0%\n",
      "Win Quarter %              55.56%      55.56%\n",
      "Win Year %                 100.0%      100.0%\n",
      "\n",
      "Beta                       -           0.62\n",
      "Alpha                      -           0.08\n",
      "Correlation                -           43.36%\n",
      "Treynor Ratio              -           41.87%\n"
     ]
    },
    {
     "data": {
      "text/plain": [
       "None"
      ]
     },
     "metadata": {},
     "output_type": "display_data"
    },
    {
     "data": {
      "text/html": [
       "<h4 style=\"margin-bottom:20px\">Worst 5 Drawdowns</h4>"
      ],
      "text/plain": [
       "<IPython.core.display.HTML object>"
      ]
     },
     "metadata": {},
     "output_type": "display_data"
    },
    {
     "data": {
      "application/vnd.microsoft.datawrangler.viewer.v0+json": {
       "columns": [
        {
         "name": "index",
         "rawType": "int64",
         "type": "integer"
        },
        {
         "name": "Start",
         "rawType": "object",
         "type": "string"
        },
        {
         "name": "Valley",
         "rawType": "object",
         "type": "string"
        },
        {
         "name": "End",
         "rawType": "object",
         "type": "string"
        },
        {
         "name": "Days",
         "rawType": "int64",
         "type": "integer"
        },
        {
         "name": "Max Drawdown",
         "rawType": "float64",
         "type": "float"
        },
        {
         "name": "99% Max Drawdown",
         "rawType": "float64",
         "type": "float"
        }
       ],
       "ref": "06fce6ae-ecc1-4fa8-a591-b93efdf8f4ab",
       "rows": [
        [
         "1",
         "2024-09-24",
         "2025-04-22",
         "2025-05-29",
         "248",
         "-12.694037947856485",
         "-11.946886228634657"
        ],
        [
         "2",
         "2023-07-26",
         "2023-09-26",
         "2023-10-12",
         "79",
         "-8.53714173909006",
         "-8.169292527347427"
        ],
        [
         "3",
         "2024-04-01",
         "2024-04-18",
         "2024-05-20",
         "50",
         "-4.67486994587013",
         "-4.199075920981299"
        ],
        [
         "4",
         "2024-05-23",
         "2024-05-30",
         "2024-07-03",
         "42",
         "-4.5825662275928885",
         "-4.410285289348536"
        ],
        [
         "5",
         "2023-12-14",
         "2023-12-20",
         "2024-01-11",
         "29",
         "-3.3853460130975677",
         "-3.3289226647121306"
        ]
       ],
       "shape": {
        "columns": 6,
        "rows": 5
       }
      },
      "text/html": [
       "<div>\n",
       "<style scoped>\n",
       "    .dataframe tbody tr th:only-of-type {\n",
       "        vertical-align: middle;\n",
       "    }\n",
       "\n",
       "    .dataframe tbody tr th {\n",
       "        vertical-align: top;\n",
       "    }\n",
       "\n",
       "    .dataframe thead th {\n",
       "        text-align: right;\n",
       "    }\n",
       "</style>\n",
       "<table border=\"1\" class=\"dataframe\">\n",
       "  <thead>\n",
       "    <tr style=\"text-align: right;\">\n",
       "      <th></th>\n",
       "      <th>Start</th>\n",
       "      <th>Valley</th>\n",
       "      <th>End</th>\n",
       "      <th>Days</th>\n",
       "      <th>Max Drawdown</th>\n",
       "      <th>99% Max Drawdown</th>\n",
       "    </tr>\n",
       "  </thead>\n",
       "  <tbody>\n",
       "    <tr>\n",
       "      <th>1</th>\n",
       "      <td>2024-09-24</td>\n",
       "      <td>2025-04-22</td>\n",
       "      <td>2025-05-29</td>\n",
       "      <td>248</td>\n",
       "      <td>-12.694038</td>\n",
       "      <td>-11.946886</td>\n",
       "    </tr>\n",
       "    <tr>\n",
       "      <th>2</th>\n",
       "      <td>2023-07-26</td>\n",
       "      <td>2023-09-26</td>\n",
       "      <td>2023-10-12</td>\n",
       "      <td>79</td>\n",
       "      <td>-8.537142</td>\n",
       "      <td>-8.169293</td>\n",
       "    </tr>\n",
       "    <tr>\n",
       "      <th>3</th>\n",
       "      <td>2024-04-01</td>\n",
       "      <td>2024-04-18</td>\n",
       "      <td>2024-05-20</td>\n",
       "      <td>50</td>\n",
       "      <td>-4.674870</td>\n",
       "      <td>-4.199076</td>\n",
       "    </tr>\n",
       "    <tr>\n",
       "      <th>4</th>\n",
       "      <td>2024-05-23</td>\n",
       "      <td>2024-05-30</td>\n",
       "      <td>2024-07-03</td>\n",
       "      <td>42</td>\n",
       "      <td>-4.582566</td>\n",
       "      <td>-4.410285</td>\n",
       "    </tr>\n",
       "    <tr>\n",
       "      <th>5</th>\n",
       "      <td>2023-12-14</td>\n",
       "      <td>2023-12-20</td>\n",
       "      <td>2024-01-11</td>\n",
       "      <td>29</td>\n",
       "      <td>-3.385346</td>\n",
       "      <td>-3.328923</td>\n",
       "    </tr>\n",
       "  </tbody>\n",
       "</table>\n",
       "</div>"
      ],
      "text/plain": [
       "        Start      Valley         End  Days  Max Drawdown  99% Max Drawdown\n",
       "1  2024-09-24  2025-04-22  2025-05-29   248    -12.694038        -11.946886\n",
       "2  2023-07-26  2023-09-26  2023-10-12    79     -8.537142         -8.169293\n",
       "3  2024-04-01  2024-04-18  2024-05-20    50     -4.674870         -4.199076\n",
       "4  2024-05-23  2024-05-30  2024-07-03    42     -4.582566         -4.410285\n",
       "5  2023-12-14  2023-12-20  2024-01-11    29     -3.385346         -3.328923"
      ]
     },
     "metadata": {},
     "output_type": "display_data"
    },
    {
     "data": {
      "text/html": [
       "<h4>Strategy Visualization</h4>"
      ],
      "text/plain": [
       "<IPython.core.display.HTML object>"
      ]
     },
     "metadata": {},
     "output_type": "display_data"
    }
   ],
   "source": [
    "def generate_reports(portfolio_returns, benchmark_returns, portfolio_name, benchmark_name, suffix):\n",
    "    \"\"\"Generate comprehensive QuantStats performance reports\"\"\"\n",
    "    portfolio_returns.name = f\"{portfolio_name} Portfolio\"\n",
    "    print(f\"Generating {portfolio_name} reports ({portfolio_returns.index[0]} to {portfolio_returns.index[-1]})\")\n",
    "    \n",
    "    with warnings.catch_warnings():\n",
    "        warnings.simplefilter(\"ignore\")\n",
    "        qs.reports.html(\n",
    "            portfolio_returns, \n",
    "            benchmark_returns, \n",
    "            rf=risk_free_rate, \n",
    "            figsize=(8, 5),\n",
    "            output=f'portfolios/portfolio_vs_benchmark_{suffix}-{datetime.date(end_date)}.html',\n",
    "            title=f'{portfolio_name} Portfolio vs {benchmark_name}', \n",
    "            benchmark_title=benchmark_name,\n",
    "            strategy_title=f'{portfolio_name} Portfolio' \n",
    "        )\n",
    "        qs.reports.full(\n",
    "            portfolio_returns, \n",
    "            benchmark_returns, \n",
    "            rf=risk_free_rate, \n",
    "            figsize=(8, 5),\n",
    "            title=f'{portfolio_name} Portfolio vs {benchmark_name}', \n",
    "            benchmark_title=benchmark_name,\n",
    "            strategy_title=f'{portfolio_name} Portfolio' \n",
    "        )\n",
    "    return portfolio_returns, benchmark_returns\n",
    "\n",
    "# Generate comprehensive performance reports\n",
    "portfolio_long_test, benchmark_long_test = generate_reports(bt_long_returns, bt_benchmark_long_returns, \"Long-term\", benchmark_long, \"long_term\")\n",
    "portfolio_short_test, benchmark_short_test = generate_reports(bt_short_returns, bt_benchmark_short_returns, \"Short-term\", benchmark_short, \"short_term\")"
   ]
  },
  {
   "cell_type": "markdown",
   "metadata": {},
   "source": [
    "## **Performance Summary**\n",
    "\n",
    "**Key Performance Indicators (Out-of-Sample Test Period):**\n",
    "\n",
    "This section provides actionable insights for investment decision-making through:\n",
    "- **Risk-Adjusted Returns**: Sharpe ratio comparison for risk-adjusted performance evaluation\n",
    "- **Absolute Performance**: Total return analysis to assess wealth creation potential\n",
    "- **Relative Performance**: Portfolio alpha generation versus benchmark indices\n",
    "- **Statistical Significance**: Performance persistence and reliability assessment\n",
    "- **Strategy Validation**: Out-of-sample results confirm strategy robustness and deployment readiness"
   ]
  },
  {
   "cell_type": "code",
   "execution_count": 15,
   "metadata": {
    "execution": {
     "iopub.execute_input": "2025-06-11T16:18:42.143498Z",
     "iopub.status.busy": "2025-06-11T16:18:42.143202Z",
     "iopub.status.idle": "2025-06-11T16:18:42.206609Z",
     "shell.execute_reply": "2025-06-11T16:18:42.205828Z"
    }
   },
   "outputs": [
    {
     "name": "stdout",
     "output_type": "stream",
     "text": [
      "\n",
      "============================================================\n",
      "PORTFOLIO PERFORMANCE SUMMARY (OUT-OF-SAMPLE TEST PERIOD)\n",
      "============================================================\n",
      "\n",
      "Long-term Portfolio vs YYY:\n",
      "  Portfolio Sharpe Ratio: 0.9559\n",
      "  Benchmark Sharpe Ratio: 0.9534\n",
      "  Portfolio Total Return: 0.3066\n",
      "  Benchmark Total Return: 0.2152\n",
      "\n",
      "Short-term Portfolio vs XRLV:\n",
      "  Portfolio Sharpe Ratio: 0.8974\n",
      "  Benchmark Sharpe Ratio: 0.9749\n",
      "  Portfolio Total Return: 0.3017\n",
      "  Benchmark Total Return: 0.2306\n",
      "\n",
      "📊 Reports: portfolios/portfolio_vs_benchmark_*-2025-06-06.html\n",
      "✅ Analysis Complete! Review HTML reports for detailed analytics.\n"
     ]
    }
   ],
   "source": [
    "def safe_metric(func, data, default=0.0):\n",
    "    \"\"\"Calculate metrics with error handling\"\"\"\n",
    "    try:\n",
    "        result = func(data)\n",
    "        return result.iloc[0] if isinstance(result, pd.Series) else result\n",
    "    except:\n",
    "        return default\n",
    "\n",
    "# Performance summary analysis\n",
    "test_data = [('Long-term', portfolio_long_test, benchmark_long_test, benchmark_long),\n",
    "             ('Short-term', portfolio_short_test, benchmark_short_test, benchmark_short)]\n",
    "\n",
    "print(\"\\n\" + \"=\"*60)\n",
    "print(\"PORTFOLIO PERFORMANCE SUMMARY (OUT-OF-SAMPLE TEST PERIOD)\")\n",
    "print(\"=\"*60)\n",
    "\n",
    "for strategy_name, portfolio_data, benchmark_data, benchmark_name in test_data:\n",
    "    metrics = {\n",
    "        'Portfolio Sharpe Ratio': safe_metric(qs.stats.sharpe, portfolio_data),\n",
    "        'Benchmark Sharpe Ratio': safe_metric(qs.stats.sharpe, benchmark_data),\n",
    "        'Portfolio Total Return': safe_metric(qs.stats.comp, portfolio_data),\n",
    "        'Benchmark Total Return': safe_metric(qs.stats.comp, benchmark_data)\n",
    "    }\n",
    "    \n",
    "    print(f\"\\n{strategy_name} Portfolio vs {benchmark_name}:\")\n",
    "    for metric, value in metrics.items():\n",
    "        print(f\"  {metric}: {value:.4f}\")\n",
    "\n",
    "print(f\"\\n📊 Reports: portfolios/portfolio_vs_benchmark_*-{datetime.date(end_date)}.html\")\n",
    "print(f\"✅ Analysis Complete! Review HTML reports for detailed analytics.\")"
   ]
  }
 ],
 "metadata": {
  "kernelspec": {
   "display_name": ".venv",
   "language": "python",
   "name": "python3"
  },
  "language_info": {
   "codemirror_mode": {
    "name": "ipython",
    "version": 3
   },
   "file_extension": ".py",
   "mimetype": "text/x-python",
   "name": "python",
   "nbconvert_exporter": "python",
   "pygments_lexer": "ipython3",
   "version": "3.13.3"
  }
 },
 "nbformat": 4,
 "nbformat_minor": 4
}
