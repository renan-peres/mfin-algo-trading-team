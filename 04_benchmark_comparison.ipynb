{
 "cells": [
  {
   "cell_type": "markdown",
   "metadata": {},
   "source": [
    "# Portfolio Performance vs. Benchmark Analysis\n",
    "\n",
    "This notebook performs comprehensive backtesting and performance analysis of algorithmic trading portfolios against benchmarks.\n",
    "- **Automated Portfolio Detection**: Finds latest portfolio configuration from Excel files\n",
    "- **Dual Strategy Framework**: Long-term (quarterly) and short-term (weekly) rebalancing strategies\n",
    "- **Robust Backtesting Engine**: Uses `bt` library with risk-free rate integration and proper rebalancing frequencies\n",
    "- **Train-Test Validation**: 80/20 split ensuring unbiased out-of-sample performance evaluation\n",
    "- **Professional Reporting**: QuantStats HTML reports with comprehensive risk-adjusted metrics\n",
    "- **Benchmark Analysis**: Systematic comparison against market indices with statistical significance testing"
   ]
  },
  {
   "cell_type": "markdown",
   "metadata": {},
   "source": [
    "## **Environment Setup**\n",
    "\n",
    "Import essential libraries and configure the analysis environment. The setup includes:\n",
    "- **Data Processing**: pandas, numpy for quantitative analysis\n",
    "- **Backtesting**: bt library for systematic strategy testing\n",
    "- **Performance Analytics**: QuantStats for professional risk-return analysis\n",
    "- **Utilities**: Custom modules for data loading and filtering"
   ]
  },
  {
   "cell_type": "code",
   "execution_count": 1,
   "metadata": {},
   "outputs": [
    {
     "name": "stdout",
     "output_type": "stream",
     "text": [
      "============================================================\n",
      "               QuantStats Compatibility Tool                \n",
      "============================================================\n",
      "\n",
      "Part 1: Directly patching QuantStats package files\n",
      "------------------------------------------------------------\n",
      "Found QuantStats utils file at: /home/renanmogo/mfin-algo-trading-team8/.venv/lib/python3.13/site-packages/quantstats/__init__.py\n",
      "Successfully fixed indentation in QuantStats __init__.py file\n",
      "✓ QuantStats utils file patched successfully\n",
      "\n",
      "Part 2: Fixing resampling issues\n",
      "------------------------------------------------------------\n",
      "Found 1 potential QuantStats installation(s)\n",
      "Checking /home/renanmogo/mfin-algo-trading-team8/.venv/lib/python3.13/site-packages/quantstats/_plotting/core.py\n",
      "✓ Found 'plot_timeseries' function in /home/renanmogo/mfin-algo-trading-team8/.venv/lib/python3.13/site-packages/quantstats/_plotting/core.py\n",
      "✓ No 'sum(axis=0)' calls found - may already be fixed\n",
      "Examining /home/renanmogo/mfin-algo-trading-team8/.venv/lib/python3.13/site-packages/quantstats/_plotting/core.py...\n",
      "✓ Found 'plot_timeseries' function in /home/renanmogo/mfin-algo-trading-team8/.venv/lib/python3.13/site-packages/quantstats/_plotting/core.py\n",
      "✓ No 'sum(axis=0)' calls found - may already be fixed\n",
      "No applicable fixes found for /home/renanmogo/mfin-algo-trading-team8/.venv/lib/python3.13/site-packages/quantstats/_plotting/core.py\n",
      "⚠️ Resampling fix not applied or not needed\n",
      "\n",
      "Part 3: Importing and patching QuantStats\n",
      "------------------------------------------------------------\n",
      "✓ Successfully imported quantstats\n",
      "Successfully patched QuantStats HTML report functionality\n",
      "✓ HTML report functionality enhanced with download button\n"
     ]
    }
   ],
   "source": [
    "# DataFrame & System Libraries\n",
    "import pandas as pd\n",
    "import numpy as np\n",
    "from datetime import datetime, timedelta\n",
    "from pandas.tseries.offsets import BDay\n",
    "import os, glob, re, warnings\n",
    "from py.utils import load_and_filter_data\n",
    "\n",
    "# Import QuantStats and BT libraries\n",
    "import bt\n",
    "from py.quantstats_fix import *\n",
    "qs.extend_pandas()\n",
    "\n",
    "# Suppress warnings and configure logging\n",
    "warnings.filterwarnings(\"ignore\")\n",
    "logging.getLogger('matplotlib.font_manager').disabled = True"
   ]
  },
  {
   "cell_type": "markdown",
   "metadata": {},
   "source": [
    "## **Data Loading and Configuration**\n",
    "\n",
    "Automated data pipeline that:\n",
    "- **Auto-detects** the most recent portfolio configuration file\n",
    "- **Extracts** portfolio weights, benchmark indices, and risk-free rate\n",
    "- **Loads** 10-year historical price data for comprehensive analysis\n",
    "- **Validates** data integrity and alignment across all instruments"
   ]
  },
  {
   "cell_type": "code",
   "execution_count": 2,
   "metadata": {},
   "outputs": [
    {
     "name": "stdout",
     "output_type": "stream",
     "text": [
      "Analysis: 2015-06-12 to 2025-06-09 | File: portfolios/portfolio-2025-06-09.xlsx\n",
      "Benchmarks: PCEF (Long), DSI (Short) | Risk-free: 0.0424\n"
     ]
    }
   ],
   "source": [
    "# Auto-detect latest portfolio and set analysis period\n",
    "initial_end_date = (datetime.today() - BDay(1)).to_pydatetime()\n",
    "expected_file = f'portfolios/portfolio-{datetime.date(initial_end_date)}.xlsx'\n",
    "\n",
    "if os.path.exists(expected_file):\n",
    "    end_date, output_file = initial_end_date, expected_file\n",
    "else:\n",
    "    portfolio_files = glob.glob('portfolios/portfolio-*.xlsx')\n",
    "    output_file = max(portfolio_files, key=os.path.getmtime)\n",
    "    date_match = re.search(r'portfolio-(\\d{4}-\\d{2}-\\d{2})\\.xlsx', output_file)\n",
    "    end_date = pd.to_datetime(date_match.group(1)).to_pydatetime()\n",
    "\n",
    "start_date = end_date - timedelta(days=10*365)\n",
    "\n",
    "# Load configurations and extract parameters\n",
    "sheets = pd.read_excel(output_file, sheet_name=None)\n",
    "portfolio_long_df, portfolio_short_df = sheets[\"long_term\"], sheets[\"short_term\"]\n",
    "benchmark_long, benchmark_short = sheets[\"benchmark_long_term\"]['Benchmark'].values[0], sheets[\"benchmark_short_term\"]['Benchmark'].values[0]\n",
    "risk_free_rate = sheets[\"daily_quotes\"].set_index(sheets[\"daily_quotes\"].columns[0])['^IRX'].iloc[-1] / 100\n",
    "\n",
    "# Process weights and extract tickers\n",
    "for df in [portfolio_long_df, portfolio_short_df]:\n",
    "    df['Weight'] = df['Weight'].replace('%', '', regex=True).astype(float)\n",
    "\n",
    "weights_long = portfolio_long_df.set_index('Ticker')['Weight'].to_dict()\n",
    "weights_short = portfolio_short_df.set_index('Ticker')['Weight'].to_dict()\n",
    "portfolio_long_tickers, portfolio_short_tickers = list(weights_long.keys()), list(weights_short.keys())\n",
    "\n",
    "print(f\"Analysis: {start_date.strftime('%Y-%m-%d')} to {end_date.strftime('%Y-%m-%d')} | File: {output_file}\")\n",
    "print(f\"Benchmarks: {benchmark_long} (Long), {benchmark_short} (Short) | Risk-free: {risk_free_rate:.4f}\")"
   ]
  },
  {
   "cell_type": "code",
   "execution_count": 3,
   "metadata": {},
   "outputs": [
    {
     "name": "stdout",
     "output_type": "stream",
     "text": [
      "Found 6 of 6 tickers in data/daily_stock_quotes.csv\n",
      "Missing tickers: []\n",
      "Found 2 of 2 tickers in data/daily_stock_quotes.csv\n",
      "Missing tickers: []\n",
      "Found 1 of 1 tickers in data/daily_benchmark_quotes.csv\n",
      "Missing tickers: []\n",
      "Found 1 of 1 tickers in data/daily_benchmark_quotes.csv\n",
      "Missing tickers: []\n",
      "Data loaded: 2509 observations\n"
     ]
    }
   ],
   "source": [
    "# Load price data and calculate log returns\n",
    "data_files = {\n",
    "    'stock_long': (portfolio_long_tickers, 'data/daily_stock_quotes.csv'),\n",
    "    'stock_short': (portfolio_short_tickers, 'data/daily_stock_quotes.csv'),\n",
    "    'benchmark_long': (benchmark_long, 'data/daily_benchmark_quotes.csv'),\n",
    "    'benchmark_short': (benchmark_short, 'data/daily_benchmark_quotes.csv')\n",
    "}\n",
    "\n",
    "quotes, returns = {}, {}\n",
    "for key, (tickers, file_path) in data_files.items():\n",
    "    quotes[key] = load_and_filter_data(file_path, tickers, start_date, end_date)\n",
    "    returns[key] = np.log(quotes[key] / quotes[key].shift(1)).dropna()\n",
    "\n",
    "print(f\"Data loaded: {len(quotes['stock_long'])} observations\")"
   ]
  },
  {
   "cell_type": "markdown",
   "metadata": {},
   "source": [
    "## **Train-Test Split and Portfolio Construction**\n",
    "\n",
    "**Data Partitioning Strategy:**\n",
    "- **Training Set (80%)**: Used for strategy development and parameter estimation\n",
    "- **Test Set (20%)**: Provides unbiased out-of-sample performance validation\n",
    "- **Portfolio Returns**: Calculated using normalized weights to ensure proper allocation\n",
    "- **Temporal Alignment**: Ensures consistent time series alignment across all instruments"
   ]
  },
  {
   "cell_type": "code",
   "execution_count": 4,
   "metadata": {},
   "outputs": [
    {
     "name": "stdout",
     "output_type": "stream",
     "text": [
      "Train-Test Split: 2006/503 (Long), 2006/503 (Short)\n",
      "Test Period: 2023-06-02 to 2025-06-04\n"
     ]
    }
   ],
   "source": [
    "def calculate_portfolio_return(returns_data, weights):\n",
    "    \"\"\"Calculate normalized weighted portfolio returns\"\"\"\n",
    "    filtered_weights = {k: v for k, v in weights.items() if k in returns_data.columns}\n",
    "    total_weight = sum(filtered_weights.values())\n",
    "    normalized_weights = {k: v/total_weight for k, v in filtered_weights.items()}\n",
    "    return returns_data[list(normalized_weights.keys())].multiply(pd.Series(normalized_weights), axis=1).sum(axis=1)\n",
    "\n",
    "# Calculate portfolio returns and perform train-test split\n",
    "portfolio_long_return = calculate_portfolio_return(returns['stock_long'], weights_long)\n",
    "portfolio_short_return = calculate_portfolio_return(returns['stock_short'], weights_short)\n",
    "\n",
    "split_idx_long, split_idx_short = int(len(returns['stock_long']) * 0.8), int(len(returns['stock_short']) * 0.8)\n",
    "test_set_long, test_set_short = quotes['stock_long'].iloc[split_idx_long:], quotes['stock_short'].iloc[split_idx_short:]\n",
    "\n",
    "print(f\"Train-Test Split: {split_idx_long}/{len(test_set_long)} (Long), {split_idx_short}/{len(test_set_short)} (Short)\")\n",
    "print(f\"Test Period: {test_set_long.index[0].strftime('%Y-%m-%d')} to {test_set_long.index[-1].strftime('%Y-%m-%d')}\")"
   ]
  },
  {
   "cell_type": "markdown",
   "metadata": {},
   "source": [
    "## **Backtesting - `bt`**\n",
    "\n",
    "**Strategy Implementation using `bt` Library:**\n",
    "- **Long-term Strategy**: Quarterly rebalancing (66 trading days) to minimize transaction costs and capture secular trends\n",
    "- **Short-term Strategy**: Weekly rebalancing for tactical asset allocation and market timing\n",
    "- **Risk Integration**: Incorporates risk-free rate for accurate risk-adjusted performance metrics\n",
    "- **Benchmark Comparison**: Systematic evaluation against market indices with identical rebalancing frequencies\n",
    "- **Transaction Cost Consideration**: Rebalancing frequencies optimized for strategy characteristics"
   ]
  },
  {
   "cell_type": "code",
   "execution_count": 5,
   "metadata": {},
   "outputs": [
    {
     "name": "stdout",
     "output_type": "stream",
     "text": [
      "Executing Backtests...\n"
     ]
    },
    {
     "name": "stderr",
     "output_type": "stream",
     "text": [
      "  0%|          | 0/2 [00:00<?, ?it/s]"
     ]
    },
    {
     "name": "stderr",
     "output_type": "stream",
     "text": [
      "100%|██████████| 2/2 [00:00<00:00,  2.86it/s]\n",
      "100%|██████████| 2/2 [00:00<00:00,  2.98it/s]\n"
     ]
    },
    {
     "name": "stdout",
     "output_type": "stream",
     "text": [
      "\n",
      "Long-term Backtest Results:\n",
      "Stat                 Long-term Portfolio    PCEF\n",
      "-------------------  ---------------------  ----------\n",
      "Start                2023-06-01             2023-06-01\n",
      "End                  2025-06-04             2025-06-04\n",
      "Risk-free rate       4.24%                  4.24%\n",
      "\n",
      "Total Return         22.70%                 23.45%\n",
      "Daily Sharpe         0.48                   0.63\n",
      "Daily Sortino        0.78                   0.93\n",
      "CAGR                 10.71%                 11.05%\n",
      "Max Drawdown         -15.21%                -15.29%\n",
      "Calmar Ratio         0.70                   0.72\n",
      "\n",
      "MTD                  0.77%                  0.52%\n",
      "3m                   -3.03%                 0.10%\n",
      "6m                   -7.20%                 -1.29%\n",
      "YTD                  -0.32%                 1.38%\n",
      "1Y                   -1.08%                 9.67%\n",
      "3Y (ann.)            10.71%                 11.05%\n",
      "5Y (ann.)            -                      -\n",
      "10Y (ann.)           -                      -\n",
      "Since Incep. (ann.)  10.71%                 11.05%\n",
      "\n",
      "Daily Sharpe         0.48                   0.63\n",
      "Daily Sortino        0.78                   0.93\n",
      "Daily Mean (ann.)    11.32%                 11.16%\n",
      "Daily Vol (ann.)     14.79%                 11.17%\n",
      "Daily Skew           0.22                   -0.61\n",
      "Daily Kurt           13.24                  26.80\n",
      "Best Day             7.55%                  6.22%\n",
      "Worst Day            -6.51%                 -6.43%\n",
      "\n",
      "Monthly Sharpe       0.52                   0.62\n",
      "Monthly Sortino      1.02                   1.22\n",
      "Monthly Mean (ann.)  10.57%                 10.69%\n",
      "Monthly Vol (ann.)   12.27%                 10.61%\n",
      "Monthly Skew         0.22                   0.33\n",
      "Monthly Kurt         0.37                   0.60\n",
      "Best Month           8.79%                  9.02%\n",
      "Worst Month          -7.11%                 -4.25%\n",
      "\n",
      "Yearly Sharpe        0.15                   0.19\n",
      "Yearly Sortino       0.47                   0.89\n",
      "Yearly Mean          5.75%                  6.04%\n",
      "Yearly Vol           10.25%                 9.29%\n",
      "Yearly Skew          -                      -\n",
      "Yearly Kurt          -                      -\n",
      "Best Year            17.58%                 16.74%\n",
      "Worst Year           -0.32%                 0.00%\n",
      "\n",
      "Avg. Drawdown        -2.14%                 -1.48%\n",
      "Avg. Drawdown Days   19.14                  13.24\n",
      "Avg. Up Month        3.43%                  3.08%\n",
      "Avg. Down Month      -1.88%                 -1.90%\n",
      "Win Year %           50.00%                 100.00%\n",
      "Win 12m %            78.57%                 100.00%\n",
      "\n",
      "Short-term Backtest Results:\n",
      "Stat                 Short-term Portfolio    DSI\n",
      "-------------------  ----------------------  ----------\n",
      "Start                2023-06-01              2023-06-01\n",
      "End                  2025-06-04              2025-06-04\n",
      "Risk-free rate       4.24%                   4.24%\n",
      "\n",
      "Total Return         72.47%                  40.70%\n",
      "Daily Sharpe         1.11                    0.84\n",
      "Daily Sortino        2.05                    1.39\n",
      "CAGR                 31.16%                  18.52%\n",
      "Max Drawdown         -21.27%                 -20.58%\n",
      "Calmar Ratio         1.46                    0.90\n",
      "\n",
      "MTD                  0.87%                   0.92%\n",
      "3m                   6.40%                   5.84%\n",
      "6m                   1.74%                   -2.65%\n",
      "YTD                  5.80%                   1.70%\n",
      "1Y                   22.13%                  11.89%\n",
      "3Y (ann.)            31.16%                  18.52%\n",
      "5Y (ann.)            -                       -\n",
      "10Y (ann.)           -                       -\n",
      "Since Incep. (ann.)  31.16%                  18.52%\n",
      "\n",
      "Daily Sharpe         1.11                    0.84\n",
      "Daily Sortino        2.05                    1.39\n",
      "Daily Mean (ann.)    29.91%                  18.52%\n",
      "Daily Vol (ann.)     23.19%                  17.05%\n",
      "Daily Skew           1.65                    0.71\n",
      "Daily Kurt           17.03                   13.75\n",
      "Best Day             11.62%                  9.57%\n",
      "Worst Day            -8.64%                  -5.58%\n",
      "\n",
      "Monthly Sharpe       1.29                    0.80\n",
      "Monthly Sortino      3.88                    1.67\n",
      "Monthly Mean (ann.)  27.95%                  15.69%\n",
      "Monthly Vol (ann.)   18.40%                  14.35%\n",
      "Monthly Skew         0.96                    0.19\n",
      "Monthly Kurt         0.74                    -0.34\n",
      "Best Month           15.81%                  10.09%\n",
      "Worst Month          -5.20%                  -5.88%\n",
      "\n",
      "Yearly Sharpe        0.51                    0.30\n",
      "Yearly Sortino       inf                     2.11\n",
      "Yearly Mean          14.62%                  8.03%\n",
      "Yearly Vol           20.50%                  12.46%\n",
      "Yearly Skew          -                       -\n",
      "Yearly Kurt          -                       -\n",
      "Best Year            38.04%                  22.38%\n",
      "Worst Year           0.00%                   0.00%\n",
      "\n",
      "Avg. Drawdown        -2.52%                  -2.13%\n",
      "Avg. Drawdown Days   15.35                   15.22\n",
      "Avg. Up Month        5.26%                   3.99%\n",
      "Avg. Down Month      -2.07%                  -2.71%\n",
      "Win Year %           100.00%                 100.00%\n",
      "Win 12m %            100.00%                 100.00%\n"
     ]
    }
   ],
   "source": [
    "def run_backtest(test_set, portfolio_tickers, benchmark_ticker, benchmark_quotes, weights, strategy_name, rebalance_freq):\n",
    "    \"\"\"Execute systematic backtest for portfolio vs benchmark\"\"\"\n",
    "    all_quotes = test_set.copy()\n",
    "    all_quotes[benchmark_ticker] = benchmark_quotes[benchmark_ticker].loc[test_set.index[0]:test_set.index[-1]]\n",
    "    \n",
    "    strategies = [\n",
    "        bt.Strategy(f'{strategy_name} Portfolio', [rebalance_freq, bt.algos.SelectAll(), bt.algos.WeighSpecified(**weights), bt.algos.Rebalance()]),\n",
    "        bt.Strategy(benchmark_ticker, [rebalance_freq, bt.algos.SelectThese([benchmark_ticker]), bt.algos.WeighEqually(), bt.algos.Rebalance()])\n",
    "    ]\n",
    "    \n",
    "    backtests = [bt.Backtest(strategies[0], all_quotes[portfolio_tickers]), bt.Backtest(strategies[1], all_quotes[[benchmark_ticker]])]\n",
    "    result = bt.run(*backtests)\n",
    "    result.set_riskfree_rate(risk_free_rate)\n",
    "    return result\n",
    "\n",
    "# Execute backtests with appropriate rebalancing frequencies\n",
    "print(\"Executing Backtests...\")\n",
    "result_long = run_backtest(test_set_long, portfolio_long_tickers, benchmark_long, quotes['benchmark_long'], weights_long, \"Long-term\", bt.algos.RunEveryNPeriods(66, offset=66))\n",
    "result_short = run_backtest(test_set_short, portfolio_short_tickers, benchmark_short, quotes['benchmark_short'], weights_short, \"Short-term\", bt.algos.RunWeekly())\n",
    "\n",
    "# Extract returns for QuantStats analysis\n",
    "def extract_returns(result, strategy_name):\n",
    "    return result[strategy_name].prices.pct_change().dropna()\n",
    "\n",
    "bt_long_returns, bt_short_returns = extract_returns(result_long, 'Long-term Portfolio'), extract_returns(result_short, 'Short-term Portfolio')\n",
    "bt_benchmark_long_returns, bt_benchmark_short_returns = extract_returns(result_long, benchmark_long), extract_returns(result_short, benchmark_short)\n",
    "\n",
    "# Display backtest results\n",
    "for result, title in [(result_long, 'Long-term'), (result_short, 'Short-term')]:\n",
    "    print(f\"\\n{title} Backtest Results:\")\n",
    "    result.display()\n",
    "    result.plot(figsize=(12, 6), title=f'{title} Portfolio vs Benchmark (Test Period)')"
   ]
  },
  {
   "cell_type": "markdown",
   "metadata": {},
   "source": [
    "## **HTML Reporting - `QuantStats`**\n",
    "\n",
    "**Comprehensive QuantStats Reporting:**\n",
    "- **Risk Metrics**: Value-at-Risk (VaR), Conditional VaR, Maximum Drawdown, Rolling Volatility\n",
    "- **Return Analytics**: Total Return, CAGR, Best/Worst Periods, Win/Loss Ratios, Consistency Metrics\n",
    "- **Risk-Adjusted Performance**: Sharpe Ratio, Sortino Ratio, Calmar Ratio, Information Ratio\n",
    "- **Comparative Analysis**: Alpha/Beta decomposition, Tracking Error, Active Return Attribution\n",
    "- **Statistical Tests**: Performance significance testing and confidence intervals\n",
    "- **Visual Analytics**: Interactive charts, drawdown analysis, return distribution plots"
   ]
  },
  {
   "cell_type": "code",
   "execution_count": 6,
   "metadata": {},
   "outputs": [
    {
     "name": "stdout",
     "output_type": "stream",
     "text": [
      "Generating Long-term reports (2023-06-02 00:00:00 to 2025-06-04 00:00:00)\n",
      "Added download button and removed QuantStats attribution from portfolios/portfolio_vs_benchmark_long_term-2025-06-09.html\n"
     ]
    },
    {
     "data": {
      "text/html": [
       "<h4>Performance Metrics</h4>"
      ],
      "text/plain": [
       "<IPython.core.display.HTML object>"
      ]
     },
     "metadata": {},
     "output_type": "display_data"
    },
    {
     "name": "stdout",
     "output_type": "stream",
     "text": [
      "                           PCEF        Long-term Portfolio\n",
      "-------------------------  ----------  ---------------------\n",
      "Start Period               2023-09-08  2023-09-08\n",
      "End Period                 2025-06-04  2025-06-04\n",
      "Risk-Free Rate             4.24%       4.24%\n",
      "Time in Market             94.0%       100.0%\n",
      "\n",
      "Cumulative Return          23.45%      22.7%\n",
      "CAGR﹪                     8.72%       8.46%\n",
      "\n",
      "Sharpe                     0.73        0.56\n",
      "Prob. Sharpe Ratio         69.52%      57.8%\n",
      "Smart Sharpe               0.67        0.52\n",
      "Sortino                    1.0         0.81\n",
      "Smart Sortino              0.92        0.74\n",
      "Sortino/√2                 0.71        0.57\n",
      "Smart Sortino/√2           0.65        0.53\n",
      "Omega                      1.11        1.11\n",
      "\n",
      "Max Drawdown               -15.29%     -15.21%\n",
      "Longest DD Days            105         184\n",
      "Volatility (ann.)          12.01%      15.91%\n",
      "R^2                        0.46        0.46\n",
      "Information Ratio          0.0         0.0\n",
      "Calmar                     0.57        0.56\n",
      "Skew                       -0.59       0.18\n",
      "Kurtosis                   22.87       11.07\n",
      "\n",
      "Expected Daily %           0.05%       0.05%\n",
      "Expected Monthly %         0.96%       0.93%\n",
      "Expected Yearly %          7.28%       7.06%\n",
      "Kelly Criterion            10.32%      6.07%\n",
      "Risk of Ruin               0.0%        0.0%\n",
      "Daily Value-at-Risk        -1.19%      -1.6%\n",
      "Expected Shortfall (cVaR)  -1.19%      -1.6%\n",
      "\n",
      "Max Consecutive Wins       12          8\n",
      "Max Consecutive Losses     8           6\n",
      "Gain/Pain Ratio            0.24        0.16\n",
      "Gain/Pain (1M)             1.1         1.05\n",
      "\n",
      "Payoff Ratio               0.84        0.94\n",
      "Profit Factor              1.24        1.16\n",
      "Common Sense Ratio         1.09        1.18\n",
      "CPC Index                  0.62        0.59\n",
      "Tail Ratio                 0.88        1.01\n",
      "Outlier Win Ratio          4.46        2.75\n",
      "Outlier Loss Ratio         4.06        3.13\n",
      "\n",
      "MTD                        0.52%       0.77%\n",
      "3M                         -0.62%      -4.42%\n",
      "6M                         -1.14%      -7.53%\n",
      "YTD                        1.38%       -0.32%\n",
      "1Y                         10.11%      -0.67%\n",
      "3Y (ann.)                  8.72%       8.46%\n",
      "5Y (ann.)                  8.72%       8.46%\n",
      "10Y (ann.)                 8.72%       8.46%\n",
      "All-time (ann.)            8.72%       8.46%\n",
      "\n",
      "Best Day                   6.22%       7.55%\n",
      "Worst Day                  -6.43%      -6.51%\n",
      "Best Month                 9.02%       8.79%\n",
      "Worst Month                -4.25%      -7.11%\n",
      "Best Year                  16.74%      17.58%\n",
      "Worst Year                 1.38%       -0.32%\n",
      "\n",
      "Avg. Drawdown              -1.47%      -2.14%\n",
      "Avg. Drawdown Days         13          18\n",
      "Recovery Factor            1.46        1.49\n",
      "Ulcer Index                0.03        0.04\n",
      "Serenity Index             0.71        0.52\n",
      "\n",
      "Avg. Up Month              3.15%       3.67%\n",
      "Avg. Down Month            -2.83%      -3.06%\n",
      "Win Days %                 59.07%      54.59%\n",
      "Win Month %                63.64%      59.09%\n",
      "Win Quarter %              62.5%       62.5%\n",
      "Win Year %                 100.0%      66.67%\n",
      "\n",
      "Beta                       -           0.9\n",
      "Alpha                      -           0.01\n",
      "Correlation                -           67.81%\n",
      "Treynor Ratio              -           20.55%\n"
     ]
    },
    {
     "data": {
      "text/plain": [
       "None"
      ]
     },
     "metadata": {},
     "output_type": "display_data"
    },
    {
     "data": {
      "text/html": [
       "<h4 style=\"margin-bottom:20px\">Worst 5 Drawdowns</h4>"
      ],
      "text/plain": [
       "<IPython.core.display.HTML object>"
      ]
     },
     "metadata": {},
     "output_type": "display_data"
    },
    {
     "data": {
      "application/vnd.microsoft.datawrangler.viewer.v0+json": {
       "columns": [
        {
         "name": "index",
         "rawType": "int64",
         "type": "integer"
        },
        {
         "name": "Start",
         "rawType": "object",
         "type": "string"
        },
        {
         "name": "Valley",
         "rawType": "object",
         "type": "string"
        },
        {
         "name": "End",
         "rawType": "object",
         "type": "string"
        },
        {
         "name": "Days",
         "rawType": "int64",
         "type": "integer"
        },
        {
         "name": "Max Drawdown",
         "rawType": "float64",
         "type": "float"
        },
        {
         "name": "99% Max Drawdown",
         "rawType": "float64",
         "type": "float"
        }
       ],
       "ref": "730f856b-5fe2-4e87-af9b-fa13ee7ef758",
       "rows": [
        [
         "1",
         "2024-12-03",
         "2025-04-08",
         "2025-06-04",
         "184",
         "-15.207561694857596",
         "-13.649054868549204"
        ],
        [
         "2",
         "2024-07-17",
         "2024-08-05",
         "2024-10-11",
         "87",
         "-9.37353344722286",
         "-8.741660884380098"
        ],
        [
         "3",
         "2023-09-15",
         "2023-10-27",
         "2023-11-10",
         "57",
         "-6.53202238965338",
         "-5.847563711832016"
        ],
        [
         "4",
         "2024-10-15",
         "2024-10-31",
         "2024-11-27",
         "44",
         "-5.380513678854292",
         "-5.287622548565574"
        ],
        [
         "5",
         "2024-03-28",
         "2024-04-19",
         "2024-05-09",
         "43",
         "-3.7319500800257477",
         "-3.690799041901216"
        ]
       ],
       "shape": {
        "columns": 6,
        "rows": 5
       }
      },
      "text/html": [
       "<div>\n",
       "<style scoped>\n",
       "    .dataframe tbody tr th:only-of-type {\n",
       "        vertical-align: middle;\n",
       "    }\n",
       "\n",
       "    .dataframe tbody tr th {\n",
       "        vertical-align: top;\n",
       "    }\n",
       "\n",
       "    .dataframe thead th {\n",
       "        text-align: right;\n",
       "    }\n",
       "</style>\n",
       "<table border=\"1\" class=\"dataframe\">\n",
       "  <thead>\n",
       "    <tr style=\"text-align: right;\">\n",
       "      <th></th>\n",
       "      <th>Start</th>\n",
       "      <th>Valley</th>\n",
       "      <th>End</th>\n",
       "      <th>Days</th>\n",
       "      <th>Max Drawdown</th>\n",
       "      <th>99% Max Drawdown</th>\n",
       "    </tr>\n",
       "  </thead>\n",
       "  <tbody>\n",
       "    <tr>\n",
       "      <th>1</th>\n",
       "      <td>2024-12-03</td>\n",
       "      <td>2025-04-08</td>\n",
       "      <td>2025-06-04</td>\n",
       "      <td>184</td>\n",
       "      <td>-15.207562</td>\n",
       "      <td>-13.649055</td>\n",
       "    </tr>\n",
       "    <tr>\n",
       "      <th>2</th>\n",
       "      <td>2024-07-17</td>\n",
       "      <td>2024-08-05</td>\n",
       "      <td>2024-10-11</td>\n",
       "      <td>87</td>\n",
       "      <td>-9.373533</td>\n",
       "      <td>-8.741661</td>\n",
       "    </tr>\n",
       "    <tr>\n",
       "      <th>3</th>\n",
       "      <td>2023-09-15</td>\n",
       "      <td>2023-10-27</td>\n",
       "      <td>2023-11-10</td>\n",
       "      <td>57</td>\n",
       "      <td>-6.532022</td>\n",
       "      <td>-5.847564</td>\n",
       "    </tr>\n",
       "    <tr>\n",
       "      <th>4</th>\n",
       "      <td>2024-10-15</td>\n",
       "      <td>2024-10-31</td>\n",
       "      <td>2024-11-27</td>\n",
       "      <td>44</td>\n",
       "      <td>-5.380514</td>\n",
       "      <td>-5.287623</td>\n",
       "    </tr>\n",
       "    <tr>\n",
       "      <th>5</th>\n",
       "      <td>2024-03-28</td>\n",
       "      <td>2024-04-19</td>\n",
       "      <td>2024-05-09</td>\n",
       "      <td>43</td>\n",
       "      <td>-3.731950</td>\n",
       "      <td>-3.690799</td>\n",
       "    </tr>\n",
       "  </tbody>\n",
       "</table>\n",
       "</div>"
      ],
      "text/plain": [
       "        Start      Valley         End  Days  Max Drawdown  99% Max Drawdown\n",
       "1  2024-12-03  2025-04-08  2025-06-04   184    -15.207562        -13.649055\n",
       "2  2024-07-17  2024-08-05  2024-10-11    87     -9.373533         -8.741661\n",
       "3  2023-09-15  2023-10-27  2023-11-10    57     -6.532022         -5.847564\n",
       "4  2024-10-15  2024-10-31  2024-11-27    44     -5.380514         -5.287623\n",
       "5  2024-03-28  2024-04-19  2024-05-09    43     -3.731950         -3.690799"
      ]
     },
     "metadata": {},
     "output_type": "display_data"
    },
    {
     "data": {
      "text/html": [
       "<h4>Strategy Visualization</h4>"
      ],
      "text/plain": [
       "<IPython.core.display.HTML object>"
      ]
     },
     "metadata": {},
     "output_type": "display_data"
    },
    {
     "name": "stdout",
     "output_type": "stream",
     "text": [
      "Generating Short-term reports (2023-06-02 00:00:00 to 2025-06-04 00:00:00)\n",
      "Added download button and removed QuantStats attribution from portfolios/portfolio_vs_benchmark_short_term-2025-06-09.html\n"
     ]
    },
    {
     "data": {
      "text/html": [
       "<h4>Performance Metrics</h4>"
      ],
      "text/plain": [
       "<IPython.core.display.HTML object>"
      ]
     },
     "metadata": {},
     "output_type": "display_data"
    },
    {
     "name": "stdout",
     "output_type": "stream",
     "text": [
      "                           DSI         Short-term Portfolio\n",
      "-------------------------  ----------  ----------------------\n",
      "Start Period               2023-06-05  2023-06-05\n",
      "End Period                 2025-06-04  2025-06-04\n",
      "Risk-Free Rate             4.24%       4.24%\n",
      "Time in Market             100.0%      100.0%\n",
      "\n",
      "Cumulative Return          40.7%       72.47%\n",
      "CAGR﹪                     12.51%      20.7%\n",
      "\n",
      "Sharpe                     0.85        1.11\n",
      "Prob. Sharpe Ratio         72.44%      82.22%\n",
      "Smart Sharpe               0.76        1.01\n",
      "Sortino                    1.24        1.83\n",
      "Smart Sortino              1.12        1.65\n",
      "Sortino/√2                 0.88        1.29\n",
      "Smart Sortino/√2           0.79        1.17\n",
      "Omega                      1.25        1.25\n",
      "\n",
      "Max Drawdown               -20.58%     -21.27%\n",
      "Longest DD Days            132         105\n",
      "Volatility (ann.)          17.08%      23.24%\n",
      "R^2                        0.49        0.49\n",
      "Information Ratio          0.04        0.04\n",
      "Calmar                     0.61        0.97\n",
      "Skew                       0.71        1.64\n",
      "Kurtosis                   13.68       16.95\n",
      "\n",
      "Expected Daily %           0.07%       0.11%\n",
      "Expected Monthly %         1.38%       2.2%\n",
      "Expected Yearly %          12.05%      19.92%\n",
      "Kelly Criterion            6.66%       9.73%\n",
      "Risk of Ruin               0.0%        0.0%\n",
      "Daily Value-at-Risk        -1.7%       -2.29%\n",
      "Expected Shortfall (cVaR)  -1.7%       -2.29%\n",
      "\n",
      "Max Consecutive Wins       8           11\n",
      "Max Consecutive Losses     6           5\n",
      "Gain/Pain Ratio            0.22        0.29\n",
      "Gain/Pain (1M)             1.41        3.17\n",
      "\n",
      "Payoff Ratio               0.9         0.92\n",
      "Profit Factor              1.22        1.29\n",
      "Common Sense Ratio         1.13        1.14\n",
      "CPC Index                  0.61        0.67\n",
      "Tail Ratio                 0.93        0.89\n",
      "Outlier Win Ratio          4.54        3.56\n",
      "Outlier Loss Ratio         3.83        3.08\n",
      "\n",
      "MTD                        0.92%       0.87%\n",
      "3M                         4.87%       4.99%\n",
      "6M                         -1.73%      3.27%\n",
      "YTD                        1.7%        5.8%\n",
      "1Y                         12.14%      22.44%\n",
      "3Y (ann.)                  12.51%      20.7%\n",
      "5Y (ann.)                  12.51%      20.7%\n",
      "10Y (ann.)                 12.51%      20.7%\n",
      "All-time (ann.)            12.51%      20.7%\n",
      "\n",
      "Best Day                   9.57%       11.62%\n",
      "Worst Day                  -5.58%      -8.64%\n",
      "Best Month                 10.09%      15.81%\n",
      "Worst Month                -5.88%      -5.2%\n",
      "Best Year                  22.38%      38.04%\n",
      "Worst Year                 1.7%        5.8%\n",
      "\n",
      "Avg. Drawdown              -2.18%      -2.52%\n",
      "Avg. Drawdown Days         15          15\n",
      "Recovery Factor            1.8         2.81\n",
      "Ulcer Index                0.05        0.05\n",
      "Serenity Index             0.8         1.77\n",
      "\n",
      "Avg. Up Month              4.48%       5.55%\n",
      "Avg. Down Month            -3.46%      -3.19%\n",
      "Win Days %                 55.8%       56.77%\n",
      "Win Month %                64.0%       64.0%\n",
      "Win Quarter %              77.78%      77.78%\n",
      "Win Year %                 100.0%      100.0%\n",
      "\n",
      "Beta                       -           0.95\n",
      "Alpha                      -           0.12\n",
      "Correlation                -           70.09%\n",
      "Treynor Ratio              -           71.56%\n"
     ]
    },
    {
     "data": {
      "text/plain": [
       "None"
      ]
     },
     "metadata": {},
     "output_type": "display_data"
    },
    {
     "data": {
      "text/html": [
       "<h4 style=\"margin-bottom:20px\">Worst 5 Drawdowns</h4>"
      ],
      "text/plain": [
       "<IPython.core.display.HTML object>"
      ]
     },
     "metadata": {},
     "output_type": "display_data"
    },
    {
     "data": {
      "application/vnd.microsoft.datawrangler.viewer.v0+json": {
       "columns": [
        {
         "name": "index",
         "rawType": "int64",
         "type": "integer"
        },
        {
         "name": "Start",
         "rawType": "object",
         "type": "string"
        },
        {
         "name": "Valley",
         "rawType": "object",
         "type": "string"
        },
        {
         "name": "End",
         "rawType": "object",
         "type": "string"
        },
        {
         "name": "Days",
         "rawType": "int64",
         "type": "integer"
        },
        {
         "name": "Max Drawdown",
         "rawType": "float64",
         "type": "float"
        },
        {
         "name": "99% Max Drawdown",
         "rawType": "float64",
         "type": "float"
        }
       ],
       "ref": "3512f2bd-91a0-4de5-987a-e776906316d8",
       "rows": [
        [
         "1",
         "2025-02-20",
         "2025-04-08",
         "2025-06-04",
         "105",
         "-21.270423783770774",
         "-19.54659463722357"
        ],
        [
         "2",
         "2024-07-17",
         "2024-08-05",
         "2024-09-11",
         "57",
         "-9.520967196027218",
         "-8.941136272460648"
        ],
        [
         "3",
         "2023-07-19",
         "2023-08-18",
         "2023-10-31",
         "105",
         "-8.681056953940914",
         "-8.515753848292917"
        ],
        [
         "4",
         "2024-09-13",
         "2024-10-07",
         "2024-10-29",
         "47",
         "-7.149673268991929",
         "-6.1367877194594245"
        ],
        [
         "5",
         "2024-12-12",
         "2025-01-02",
         "2025-02-18",
         "69",
         "-6.882026175482226",
         "-6.746474276905223"
        ]
       ],
       "shape": {
        "columns": 6,
        "rows": 5
       }
      },
      "text/html": [
       "<div>\n",
       "<style scoped>\n",
       "    .dataframe tbody tr th:only-of-type {\n",
       "        vertical-align: middle;\n",
       "    }\n",
       "\n",
       "    .dataframe tbody tr th {\n",
       "        vertical-align: top;\n",
       "    }\n",
       "\n",
       "    .dataframe thead th {\n",
       "        text-align: right;\n",
       "    }\n",
       "</style>\n",
       "<table border=\"1\" class=\"dataframe\">\n",
       "  <thead>\n",
       "    <tr style=\"text-align: right;\">\n",
       "      <th></th>\n",
       "      <th>Start</th>\n",
       "      <th>Valley</th>\n",
       "      <th>End</th>\n",
       "      <th>Days</th>\n",
       "      <th>Max Drawdown</th>\n",
       "      <th>99% Max Drawdown</th>\n",
       "    </tr>\n",
       "  </thead>\n",
       "  <tbody>\n",
       "    <tr>\n",
       "      <th>1</th>\n",
       "      <td>2025-02-20</td>\n",
       "      <td>2025-04-08</td>\n",
       "      <td>2025-06-04</td>\n",
       "      <td>105</td>\n",
       "      <td>-21.270424</td>\n",
       "      <td>-19.546595</td>\n",
       "    </tr>\n",
       "    <tr>\n",
       "      <th>2</th>\n",
       "      <td>2024-07-17</td>\n",
       "      <td>2024-08-05</td>\n",
       "      <td>2024-09-11</td>\n",
       "      <td>57</td>\n",
       "      <td>-9.520967</td>\n",
       "      <td>-8.941136</td>\n",
       "    </tr>\n",
       "    <tr>\n",
       "      <th>3</th>\n",
       "      <td>2023-07-19</td>\n",
       "      <td>2023-08-18</td>\n",
       "      <td>2023-10-31</td>\n",
       "      <td>105</td>\n",
       "      <td>-8.681057</td>\n",
       "      <td>-8.515754</td>\n",
       "    </tr>\n",
       "    <tr>\n",
       "      <th>4</th>\n",
       "      <td>2024-09-13</td>\n",
       "      <td>2024-10-07</td>\n",
       "      <td>2024-10-29</td>\n",
       "      <td>47</td>\n",
       "      <td>-7.149673</td>\n",
       "      <td>-6.136788</td>\n",
       "    </tr>\n",
       "    <tr>\n",
       "      <th>5</th>\n",
       "      <td>2024-12-12</td>\n",
       "      <td>2025-01-02</td>\n",
       "      <td>2025-02-18</td>\n",
       "      <td>69</td>\n",
       "      <td>-6.882026</td>\n",
       "      <td>-6.746474</td>\n",
       "    </tr>\n",
       "  </tbody>\n",
       "</table>\n",
       "</div>"
      ],
      "text/plain": [
       "        Start      Valley         End  Days  Max Drawdown  99% Max Drawdown\n",
       "1  2025-02-20  2025-04-08  2025-06-04   105    -21.270424        -19.546595\n",
       "2  2024-07-17  2024-08-05  2024-09-11    57     -9.520967         -8.941136\n",
       "3  2023-07-19  2023-08-18  2023-10-31   105     -8.681057         -8.515754\n",
       "4  2024-09-13  2024-10-07  2024-10-29    47     -7.149673         -6.136788\n",
       "5  2024-12-12  2025-01-02  2025-02-18    69     -6.882026         -6.746474"
      ]
     },
     "metadata": {},
     "output_type": "display_data"
    },
    {
     "data": {
      "text/html": [
       "<h4>Strategy Visualization</h4>"
      ],
      "text/plain": [
       "<IPython.core.display.HTML object>"
      ]
     },
     "metadata": {},
     "output_type": "display_data"
    }
   ],
   "source": [
    "def generate_reports(portfolio_returns, benchmark_returns, portfolio_name, benchmark_name, suffix):\n",
    "    \"\"\"Generate comprehensive QuantStats performance reports\"\"\"\n",
    "    portfolio_returns.name = f\"{portfolio_name} Portfolio\"\n",
    "    print(f\"Generating {portfolio_name} reports ({portfolio_returns.index[0]} to {portfolio_returns.index[-1]})\")\n",
    "    \n",
    "    with warnings.catch_warnings():\n",
    "        warnings.simplefilter(\"ignore\")\n",
    "        qs.reports.html(\n",
    "            portfolio_returns, \n",
    "            benchmark_returns, \n",
    "            rf=risk_free_rate, \n",
    "            figsize=(8, 5),\n",
    "            output=f'portfolios/portfolio_vs_benchmark_{suffix}-{datetime.date(end_date)}.html',\n",
    "            title=f'{portfolio_name} Portfolio vs {benchmark_name}', \n",
    "            benchmark_title=benchmark_name,\n",
    "            strategy_title=f'{portfolio_name} Portfolio' \n",
    "        )\n",
    "        qs.reports.full(\n",
    "            portfolio_returns, \n",
    "            benchmark_returns, \n",
    "            rf=risk_free_rate, \n",
    "            figsize=(8, 5),\n",
    "            title=f'{portfolio_name} Portfolio vs {benchmark_name}', \n",
    "            benchmark_title=benchmark_name,\n",
    "            strategy_title=f'{portfolio_name} Portfolio' \n",
    "        )\n",
    "    return portfolio_returns, benchmark_returns\n",
    "\n",
    "# Generate comprehensive performance reports\n",
    "portfolio_long_test, benchmark_long_test = generate_reports(bt_long_returns, bt_benchmark_long_returns, \"Long-term\", benchmark_long, \"long_term\")\n",
    "portfolio_short_test, benchmark_short_test = generate_reports(bt_short_returns, bt_benchmark_short_returns, \"Short-term\", benchmark_short, \"short_term\")"
   ]
  },
  {
   "cell_type": "markdown",
   "metadata": {},
   "source": [
    "## **Performance Summary**\n",
    "\n",
    "**Key Performance Indicators (Out-of-Sample Test Period):**\n",
    "\n",
    "This section provides actionable insights for investment decision-making through:\n",
    "- **Risk-Adjusted Returns**: Sharpe ratio comparison for risk-adjusted performance evaluation\n",
    "- **Absolute Performance**: Total return analysis to assess wealth creation potential\n",
    "- **Relative Performance**: Portfolio alpha generation versus benchmark indices\n",
    "- **Statistical Significance**: Performance persistence and reliability assessment\n",
    "- **Strategy Validation**: Out-of-sample results confirm strategy robustness and deployment readiness"
   ]
  },
  {
   "cell_type": "code",
   "execution_count": 7,
   "metadata": {},
   "outputs": [
    {
     "name": "stdout",
     "output_type": "stream",
     "text": [
      "\n",
      "============================================================\n",
      "PORTFOLIO PERFORMANCE SUMMARY (OUT-OF-SAMPLE TEST PERIOD)\n",
      "============================================================\n",
      "\n",
      "Long-term Portfolio vs PCEF:\n",
      "  Portfolio Sharpe Ratio: 0.7660\n",
      "  Benchmark Sharpe Ratio: 0.9999\n",
      "  Portfolio Total Return: 0.2270\n",
      "  Benchmark Total Return: 0.2345\n",
      "\n",
      "Short-term Portfolio vs DSI:\n",
      "  Portfolio Sharpe Ratio: 1.2909\n",
      "  Benchmark Sharpe Ratio: 1.0874\n",
      "  Portfolio Total Return: 0.7247\n",
      "  Benchmark Total Return: 0.4070\n",
      "\n",
      "📊 Reports: portfolios/portfolio_vs_benchmark_*-2025-06-09.html\n",
      "✅ Analysis Complete! Review HTML reports for detailed analytics.\n"
     ]
    }
   ],
   "source": [
    "def safe_metric(func, data, default=0.0):\n",
    "    \"\"\"Calculate metrics with error handling\"\"\"\n",
    "    try:\n",
    "        result = func(data)\n",
    "        return result.iloc[0] if isinstance(result, pd.Series) else result\n",
    "    except:\n",
    "        return default\n",
    "\n",
    "# Performance summary analysis\n",
    "test_data = [('Long-term', portfolio_long_test, benchmark_long_test, benchmark_long),\n",
    "             ('Short-term', portfolio_short_test, benchmark_short_test, benchmark_short)]\n",
    "\n",
    "print(\"\\n\" + \"=\"*60)\n",
    "print(\"PORTFOLIO PERFORMANCE SUMMARY (OUT-OF-SAMPLE TEST PERIOD)\")\n",
    "print(\"=\"*60)\n",
    "\n",
    "for strategy_name, portfolio_data, benchmark_data, benchmark_name in test_data:\n",
    "    metrics = {\n",
    "        'Portfolio Sharpe Ratio': safe_metric(qs.stats.sharpe, portfolio_data),\n",
    "        'Benchmark Sharpe Ratio': safe_metric(qs.stats.sharpe, benchmark_data),\n",
    "        'Portfolio Total Return': safe_metric(qs.stats.comp, portfolio_data),\n",
    "        'Benchmark Total Return': safe_metric(qs.stats.comp, benchmark_data)\n",
    "    }\n",
    "    \n",
    "    print(f\"\\n{strategy_name} Portfolio vs {benchmark_name}:\")\n",
    "    for metric, value in metrics.items():\n",
    "        print(f\"  {metric}: {value:.4f}\")\n",
    "\n",
    "print(f\"\\n📊 Reports: portfolios/portfolio_vs_benchmark_*-{datetime.date(end_date)}.html\")\n",
    "print(f\"✅ Analysis Complete! Review HTML reports for detailed analytics.\")"
   ]
  }
 ],
 "metadata": {
  "kernelspec": {
   "display_name": ".venv",
   "language": "python",
   "name": "python3"
  },
  "language_info": {
   "codemirror_mode": {
    "name": "ipython",
    "version": 3
   },
   "file_extension": ".py",
   "mimetype": "text/x-python",
   "name": "python",
   "nbconvert_exporter": "python",
   "pygments_lexer": "ipython3",
   "version": "3.13.3"
  }
 },
 "nbformat": 4,
 "nbformat_minor": 4
}
