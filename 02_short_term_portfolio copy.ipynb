{
 "cells": [
  {
   "cell_type": "markdown",
   "metadata": {},
   "source": [
    "<a href=\"https://colab.research.google.com/github/renan-peres/mfin-portfolio-management/blob/main/02_short_term_portfolio.ipynb\" target=\"_parent\"><img src=\"https://colab.research.google.com/assets/colab-badge.svg\" alt=\"Open In Colab\"/></a>"
   ]
  },
  {
   "cell_type": "markdown",
   "metadata": {},
   "source": [
    "# Short-Term Equity Portfolio -- ***15% of Complete Portfolio***\n",
    "The goal is to select the top stocks based on sentiment analysis and technical indicators while adhering to portfolio constraints and avoiding overfitting."
   ]
  },
  {
   "cell_type": "markdown",
   "metadata": {},
   "source": [
    "### Step 1: Import Libraries"
   ]
  },
  {
   "cell_type": "code",
   "execution_count": 1,
   "metadata": {},
   "outputs": [
    {
     "data": {
      "text/plain": [
       "True"
      ]
     },
     "execution_count": 1,
     "metadata": {},
     "output_type": "execute_result"
    }
   ],
   "source": [
    "# System libraries\n",
    "import glob\n",
    "import os\n",
    "import sys\n",
    "import logging\n",
    "import warnings\n",
    "from io import StringIO\n",
    "from typing import Dict, List\n",
    "from dotenv import load_dotenv\n",
    "\n",
    "# Data manipulation libraries\n",
    "import polars as pl\n",
    "import pandas as pd\n",
    "import numpy as np\n",
    "from datetime import datetime, timedelta\n",
    "from pandas.tseries.offsets import BDay\n",
    "\n",
    "# Visualization libraries\n",
    "import matplotlib.pyplot as plt\n",
    "from IPython.display import Image, display\n",
    "\n",
    "# Backtesting library\n",
    "import bt\n",
    "\n",
    "# Suppress warnings and logging\n",
    "warnings.filterwarnings('ignore')\n",
    "os.environ['YFINANCE_PROGRESS'] = 'False'\n",
    "logging.getLogger('bt').setLevel(logging.CRITICAL)\n",
    "logging.getLogger('yfinance').setLevel(logging.CRITICAL)\n",
    "\n",
    "# Load environment variables\n",
    "load_dotenv()"
   ]
  },
  {
   "cell_type": "markdown",
   "metadata": {},
   "source": [
    "### Step 2: Define Parameters"
   ]
  },
  {
   "cell_type": "markdown",
   "metadata": {},
   "source": [
    "#### Date Range"
   ]
  },
  {
   "cell_type": "code",
   "execution_count": 2,
   "metadata": {},
   "outputs": [
    {
     "name": "stdout",
     "output_type": "stream",
     "text": [
      "Date Range: 2015-06-14 to 2025-06-11\n",
      "Time span: 3650 days (10.00 years)\n"
     ]
    }
   ],
   "source": [
    "# Define the date range\n",
    "end_date = (datetime.today() - BDay(1)).to_pydatetime()  # Subtract 1 business day\n",
    "start_date = end_date - timedelta(days=10*365)            \n",
    "\n",
    "# Convert datetime objects to Unix timestamps (seconds since Jan 1, 1970)\n",
    "start_timestamp = int(start_date.timestamp())\n",
    "end_timestamp = int(end_date.timestamp())\n",
    "\n",
    "# Print the date range\n",
    "days_difference = (end_date - start_date).days\n",
    "print(f\"Date Range: {start_date.strftime('%Y-%m-%d')} to {end_date.strftime('%Y-%m-%d')}\")\n",
    "print(f\"Time span: {days_difference} days ({days_difference/365:.2f} years)\")"
   ]
  },
  {
   "cell_type": "markdown",
   "metadata": {},
   "source": [
    "#### Risk-free rate (T-bill, %)"
   ]
  },
  {
   "cell_type": "code",
   "execution_count": 3,
   "metadata": {},
   "outputs": [
    {
     "name": "stdout",
     "output_type": "stream",
     "text": [
      "Found 1 of 1 tickers in data/daily_treasury_rates.csv\n",
      "Missing tickers: []\n",
      "Risk-Free Rate: 0.0424 -- 13 WEEK TREASURY BILL (^IRX)\n"
     ]
    }
   ],
   "source": [
    "from py.utils import load_and_filter_data\n",
    "\n",
    "daily_risk_free_df = load_and_filter_data('data/daily_treasury_rates.csv', ['^IRX'], start_date, end_date)\n",
    "risk_free_rate = daily_risk_free_df.iloc[-1, 0] / 100\n",
    "print(\"Risk-Free Rate:\", risk_free_rate, \"-- 13 WEEK TREASURY BILL (^IRX)\")"
   ]
  },
  {
   "cell_type": "markdown",
   "metadata": {},
   "source": [
    "#### Portfolio File"
   ]
  },
  {
   "cell_type": "code",
   "execution_count": 4,
   "metadata": {},
   "outputs": [
    {
     "name": "stdout",
     "output_type": "stream",
     "text": [
      "Using most recent portfolio file: portfolios/portfolio-2025-06-10.xlsx\n"
     ]
    }
   ],
   "source": [
    "# Get the most recent portfolio file\n",
    "portfolio_files = glob.glob('portfolios/portfolio-*.xlsx')\n",
    "if portfolio_files:\n",
    "    # Sort files by modification time (most recent first)\n",
    "    output_file = max(portfolio_files, key=os.path.getmtime)\n",
    "    print(f\"Using most recent portfolio file: {output_file}\")\n",
    "else:\n",
    "    # Fallback to current date if no files found\n",
    "    output_file = f'portfolios/portfolio-{datetime.date(end_date)}.xlsx'\n",
    "    print(f\"No portfolio files found. Using: {output_file}\")"
   ]
  },
  {
   "cell_type": "markdown",
   "metadata": {},
   "source": [
    "### Step 3: Import News Data (FMP API)\n",
    "- API Documentation: https://site.financialmodelingprep.com/developer/docs/stable/stock-news"
   ]
  },
  {
   "cell_type": "code",
   "execution_count": 5,
   "metadata": {},
   "outputs": [
    {
     "name": "stdout",
     "output_type": "stream",
     "text": [
      "Fetching page 1/15...\n",
      "Page 1: 1000 articles fetched\n",
      "Fetching page 2/15...\n",
      "Page 2: 1000 articles fetched\n",
      "Fetching page 3/15...\n",
      "Page 3: 999 articles fetched\n",
      "Fetching page 4/15...\n",
      "Page 4: 1000 articles fetched\n",
      "Fetching page 5/15...\n",
      "Page 5: 1000 articles fetched\n",
      "Fetching page 6/15...\n",
      "Page 6: 1000 articles fetched\n",
      "Fetching page 7/15...\n",
      "Page 7: 1000 articles fetched\n",
      "Fetching page 8/15...\n",
      "Page 8: 1000 articles fetched\n",
      "Fetching page 9/15...\n",
      "Page 9: 1000 articles fetched\n",
      "Fetching page 10/15...\n",
      "Page 10: 1000 articles fetched\n",
      "Fetching page 11/15...\n",
      "Page 11: 1000 articles fetched\n",
      "Fetching page 12/15...\n",
      "Page 12: 1000 articles fetched\n",
      "Fetching page 13/15...\n",
      "Page 13: 1000 articles fetched\n",
      "Fetching page 14/15...\n",
      "Page 14: 1000 articles fetched\n",
      "Fetching page 15/15...\n",
      "Page 15: 1000 articles fetched\n",
      "Total articles fetched: 14999\n"
     ]
    },
    {
     "data": {
      "text/html": [
       "<div><style>\n",
       ".dataframe > thead > tr,\n",
       ".dataframe > tbody > tr {\n",
       "  text-align: right;\n",
       "  white-space: pre-wrap;\n",
       "}\n",
       "</style>\n",
       "<small>shape: (5, 7)</small><table border=\"1\" class=\"dataframe\"><thead><tr><th>symbol</th><th>publishedDate</th><th>title</th><th>image</th><th>site</th><th>text</th><th>url</th></tr><tr><td>str</td><td>str</td><td>str</td><td>str</td><td>str</td><td>str</td><td>str</td></tr></thead><tbody><tr><td>&quot;AAPL&quot;</td><td>&quot;2025-06-12 13:06:41&quot;</td><td>&quot;Apple fixes new iPhone zero-da…</td><td>&quot;https://images.financialmodeli…</td><td>&quot;techcrunch.com&quot;</td><td>&quot;Researchers revealed on Thursd…</td><td>&quot;https://techcrunch.com/2025/06…</td></tr><tr><td>&quot;OKTA&quot;</td><td>&quot;2025-06-12 13:06:04&quot;</td><td>&quot;Okta&#x27;s Backlog Tops $4B on Str…</td><td>&quot;https://images.financialmodeli…</td><td>&quot;zacks.com&quot;</td><td>&quot;OKTA&#x27;s $4.08B backlog and risi…</td><td>&quot;https://www.zacks.com/stock/ne…</td></tr><tr><td>&quot;AAAU&quot;</td><td>&quot;2025-06-12 13:06:00&quot;</td><td>&quot;U.S.-Iran tensions fuel strong…</td><td>&quot;https://images.financialmodeli…</td><td>&quot;kitco.com&quot;</td><td>&quot;Jim Wyckoff has spent over 25 …</td><td>&quot;https://www.kitco.com/news/art…</td></tr><tr><td>&quot;NVO&quot;</td><td>&quot;2025-06-12 13:06:00&quot;</td><td>&quot;Novo Nordisk to advance subcut…</td><td>&quot;https://images.financialmodeli…</td><td>&quot;globenewswire.com&quot;</td><td>&quot;Bagsværd, Denmark, 12 June 202…</td><td>&quot;https://www.globenewswire.com/…</td></tr><tr><td>&quot;NSSC&quot;</td><td>&quot;2025-06-12 13:05:00&quot;</td><td>&quot;Napco Security Technologies, I…</td><td>&quot;https://images.financialmodeli…</td><td>&quot;globenewswire.com&quot;</td><td>&quot;NEW YORK, June 12, 2025 (GLOBE…</td><td>&quot;https://www.globenewswire.com/…</td></tr></tbody></table></div>"
      ],
      "text/plain": [
       "shape: (5, 7)\n",
       "┌────────┬──────────────┬──────────────┬──────────────┬──────────────┬──────────────┬──────────────┐\n",
       "│ symbol ┆ publishedDat ┆ title        ┆ image        ┆ site         ┆ text         ┆ url          │\n",
       "│ ---    ┆ e            ┆ ---          ┆ ---          ┆ ---          ┆ ---          ┆ ---          │\n",
       "│ str    ┆ ---          ┆ str          ┆ str          ┆ str          ┆ str          ┆ str          │\n",
       "│        ┆ str          ┆              ┆              ┆              ┆              ┆              │\n",
       "╞════════╪══════════════╪══════════════╪══════════════╪══════════════╪══════════════╪══════════════╡\n",
       "│ AAPL   ┆ 2025-06-12   ┆ Apple fixes  ┆ https://imag ┆ techcrunch.c ┆ Researchers  ┆ https://tech │\n",
       "│        ┆ 13:06:41     ┆ new iPhone   ┆ es.financial ┆ om           ┆ revealed on  ┆ crunch.com/2 │\n",
       "│        ┆              ┆ zero-da…     ┆ modeli…      ┆              ┆ Thursd…      ┆ 025/06…      │\n",
       "│ OKTA   ┆ 2025-06-12   ┆ Okta's       ┆ https://imag ┆ zacks.com    ┆ OKTA's       ┆ https://www. │\n",
       "│        ┆ 13:06:04     ┆ Backlog Tops ┆ es.financial ┆              ┆ $4.08B       ┆ zacks.com/st │\n",
       "│        ┆              ┆ $4B on Str…  ┆ modeli…      ┆              ┆ backlog and  ┆ ock/ne…      │\n",
       "│        ┆              ┆              ┆              ┆              ┆ risi…        ┆              │\n",
       "│ AAAU   ┆ 2025-06-12   ┆ U.S.-Iran    ┆ https://imag ┆ kitco.com    ┆ Jim Wyckoff  ┆ https://www. │\n",
       "│        ┆ 13:06:00     ┆ tensions     ┆ es.financial ┆              ┆ has spent    ┆ kitco.com/ne │\n",
       "│        ┆              ┆ fuel strong… ┆ modeli…      ┆              ┆ over 25 …    ┆ ws/art…      │\n",
       "│ NVO    ┆ 2025-06-12   ┆ Novo Nordisk ┆ https://imag ┆ globenewswir ┆ Bagsværd,    ┆ https://www. │\n",
       "│        ┆ 13:06:00     ┆ to advance   ┆ es.financial ┆ e.com        ┆ Denmark, 12  ┆ globenewswir │\n",
       "│        ┆              ┆ subcut…      ┆ modeli…      ┆              ┆ June 202…    ┆ e.com/…      │\n",
       "│ NSSC   ┆ 2025-06-12   ┆ Napco        ┆ https://imag ┆ globenewswir ┆ NEW YORK,    ┆ https://www. │\n",
       "│        ┆ 13:05:00     ┆ Security Tec ┆ es.financial ┆ e.com        ┆ June 12,     ┆ globenewswir │\n",
       "│        ┆              ┆ hnologies,   ┆ modeli…      ┆              ┆ 2025 (GLOBE… ┆ e.com/…      │\n",
       "│        ┆              ┆ I…           ┆              ┆              ┆              ┆              │\n",
       "└────────┴──────────────┴──────────────┴──────────────┴──────────────┴──────────────┴──────────────┘"
      ]
     },
     "metadata": {},
     "output_type": "display_data"
    }
   ],
   "source": [
    "from py.fetch_fmp_api import create_session, fetch_data\n",
    "\n",
    "# Get API key from environment variables\n",
    "FMP_API_KEY = os.getenv('FMP_API_KEY')\n",
    "if not FMP_API_KEY:\n",
    "    raise ValueError(\"FMP_API_KEY not found in environment variables\")\n",
    "\n",
    "# Create session and fetch data\n",
    "session = create_session()\n",
    "data = fetch_data(\n",
    "    api_key=FMP_API_KEY,\n",
    "    session=session,\n",
    "    days_back=30,           # 30 days back\n",
    "    max_pages=15,           # 15 pages\n",
    "    records_per_page=1000,  \n",
    "    request_timeout=10      \n",
    ")\n",
    "\n",
    "news_df = pl.DataFrame(data)\n",
    "display(news_df.sort('publishedDate', descending=True).head())"
   ]
  },
  {
   "cell_type": "markdown",
   "metadata": {},
   "source": [
    "### Step 4: Sentiment Analysis\n",
    "- Use `TextBlob` for sentiment analysis on news headlines."
   ]
  },
  {
   "cell_type": "code",
   "execution_count": 6,
   "metadata": {},
   "outputs": [
    {
     "name": "stdout",
     "output_type": "stream",
     "text": [
      "Loading fundamental data...\n",
      "Loaded 504 stocks, 4208 unique tickers\n",
      "Analyzing sentiment for stock symbols...\n",
      "\n",
      "Screened 1714 stocks, 11 sectors\n"
     ]
    },
    {
     "data": {
      "text/html": [
       "<div><style>\n",
       ".dataframe > thead > tr,\n",
       ".dataframe > tbody > tr {\n",
       "  text-align: right;\n",
       "  white-space: pre-wrap;\n",
       "}\n",
       "</style>\n",
       "<small>shape: (5, 13)</small><table border=\"1\" class=\"dataframe\"><thead><tr><th>symbol</th><th>articlesInLastWeek</th><th>companyNewsScore</th><th>bearishPercent</th><th>bullishPercent</th><th>averageSentimentScore</th><th>totalArticles</th><th>sectorAverageBullishPercent</th><th>sectorAverageNewsScore</th><th>sector</th><th>marketCap</th><th>peRatio</th><th>price</th></tr><tr><td>str</td><td>i64</td><td>f64</td><td>f64</td><td>f64</td><td>f64</td><td>i64</td><td>f64</td><td>f64</td><td>str</td><td>f64</td><td>f64</td><td>f64</td></tr></thead><tbody><tr><td>&quot;DRTTF&quot;</td><td>3</td><td>0.8965</td><td>0.0</td><td>1.0</td><td>0.7929</td><td>3</td><td>0.0</td><td>0.0</td><td>&quot;Unknown&quot;</td><td>0.0</td><td>0.0</td><td>0.0</td></tr><tr><td>&quot;AZEK&quot;</td><td>11</td><td>0.7749</td><td>0.0</td><td>1.0</td><td>0.5499</td><td>11</td><td>0.0</td><td>0.0</td><td>&quot;Unknown&quot;</td><td>0.0</td><td>0.0</td><td>0.0</td></tr><tr><td>&quot;CARG&quot;</td><td>4</td><td>0.7626</td><td>0.0</td><td>1.0</td><td>0.5251</td><td>4</td><td>0.0</td><td>0.0</td><td>&quot;Unknown&quot;</td><td>0.0</td><td>0.0</td><td>0.0</td></tr><tr><td>&quot;ENGIY&quot;</td><td>4</td><td>0.76</td><td>0.0</td><td>1.0</td><td>0.5201</td><td>4</td><td>0.0</td><td>0.0</td><td>&quot;Unknown&quot;</td><td>0.0</td><td>0.0</td><td>0.0</td></tr><tr><td>&quot;PAG&quot;</td><td>3</td><td>0.7523</td><td>0.0</td><td>1.0</td><td>0.5046</td><td>3</td><td>0.0</td><td>0.0</td><td>&quot;Unknown&quot;</td><td>0.0</td><td>0.0</td><td>0.0</td></tr></tbody></table></div>"
      ],
      "text/plain": [
       "shape: (5, 13)\n",
       "┌────────┬───────────────┬──────────────┬──────────────┬───┬─────────┬───────────┬─────────┬───────┐\n",
       "│ symbol ┆ articlesInLas ┆ companyNewsS ┆ bearishPerce ┆ … ┆ sector  ┆ marketCap ┆ peRatio ┆ price │\n",
       "│ ---    ┆ tWeek         ┆ core         ┆ nt           ┆   ┆ ---     ┆ ---       ┆ ---     ┆ ---   │\n",
       "│ str    ┆ ---           ┆ ---          ┆ ---          ┆   ┆ str     ┆ f64       ┆ f64     ┆ f64   │\n",
       "│        ┆ i64           ┆ f64          ┆ f64          ┆   ┆         ┆           ┆         ┆       │\n",
       "╞════════╪═══════════════╪══════════════╪══════════════╪═══╪═════════╪═══════════╪═════════╪═══════╡\n",
       "│ DRTTF  ┆ 3             ┆ 0.8965       ┆ 0.0          ┆ … ┆ Unknown ┆ 0.0       ┆ 0.0     ┆ 0.0   │\n",
       "│ AZEK   ┆ 11            ┆ 0.7749       ┆ 0.0          ┆ … ┆ Unknown ┆ 0.0       ┆ 0.0     ┆ 0.0   │\n",
       "│ CARG   ┆ 4             ┆ 0.7626       ┆ 0.0          ┆ … ┆ Unknown ┆ 0.0       ┆ 0.0     ┆ 0.0   │\n",
       "│ ENGIY  ┆ 4             ┆ 0.76         ┆ 0.0          ┆ … ┆ Unknown ┆ 0.0       ┆ 0.0     ┆ 0.0   │\n",
       "│ PAG    ┆ 3             ┆ 0.7523       ┆ 0.0          ┆ … ┆ Unknown ┆ 0.0       ┆ 0.0     ┆ 0.0   │\n",
       "└────────┴───────────────┴──────────────┴──────────────┴───┴─────────┴───────────┴─────────┴───────┘"
      ]
     },
     "metadata": {},
     "output_type": "display_data"
    },
    {
     "data": {
      "text/html": [
       "<div><style>\n",
       ".dataframe > thead > tr,\n",
       ".dataframe > tbody > tr {\n",
       "  text-align: right;\n",
       "  white-space: pre-wrap;\n",
       "}\n",
       "</style>\n",
       "<small>shape: (11, 7)</small><table border=\"1\" class=\"dataframe\"><thead><tr><th>sector</th><th>stock_count</th><th>avg_news_score</th><th>avg_bullish_percent</th><th>avg_articles</th><th>avg_market_cap</th><th>avg_pe_ratio</th></tr><tr><td>str</td><td>u32</td><td>f64</td><td>f64</td><td>f64</td><td>f64</td><td>f64</td></tr></thead><tbody><tr><td>&quot;Real Estate&quot;</td><td>24</td><td>0.594929</td><td>0.607883</td><td>7.958333</td><td>3.9224e10</td><td>NaN</td></tr><tr><td>&quot;Consumer Cyclical&quot;</td><td>43</td><td>0.577344</td><td>0.621844</td><td>15.116279</td><td>1.3467e11</td><td>32.916279</td></tr><tr><td>&quot;Utilities&quot;</td><td>29</td><td>0.574386</td><td>0.513397</td><td>17.172414</td><td>4.1511e10</td><td>20.811379</td></tr><tr><td>&quot;Consumer Defensive&quot;</td><td>31</td><td>0.570803</td><td>0.531703</td><td>17.16129</td><td>1.0391e11</td><td>NaN</td></tr><tr><td>&quot;Technology&quot;</td><td>75</td><td>0.568588</td><td>0.523865</td><td>17.84</td><td>2.3076e11</td><td>NaN</td></tr><tr><td>&hellip;</td><td>&hellip;</td><td>&hellip;</td><td>&hellip;</td><td>&hellip;</td><td>&hellip;</td><td>&hellip;</td></tr><tr><td>&quot;Industrials&quot;</td><td>58</td><td>0.566759</td><td>0.516753</td><td>10.37931</td><td>6.5003e10</td><td>NaN</td></tr><tr><td>&quot;Communication Services&quot;</td><td>20</td><td>0.562245</td><td>0.48227</td><td>23.0</td><td>3.9500e11</td><td>NaN</td></tr><tr><td>&quot;Financial Services&quot;</td><td>55</td><td>0.560235</td><td>0.470565</td><td>14.818182</td><td>1.0748e11</td><td>NaN</td></tr><tr><td>&quot;Energy&quot;</td><td>22</td><td>0.555882</td><td>0.455855</td><td>5.5</td><td>7.2351e10</td><td>NaN</td></tr><tr><td>&quot;Basic Materials&quot;</td><td>15</td><td>0.549373</td><td>0.3982</td><td>6.4</td><td>3.0009e10</td><td>NaN</td></tr></tbody></table></div>"
      ],
      "text/plain": [
       "shape: (11, 7)\n",
       "┌──────────────┬─────────────┬─────────────┬─────────────┬─────────────┬─────────────┬─────────────┐\n",
       "│ sector       ┆ stock_count ┆ avg_news_sc ┆ avg_bullish ┆ avg_article ┆ avg_market_ ┆ avg_pe_rati │\n",
       "│ ---          ┆ ---         ┆ ore         ┆ _percent    ┆ s           ┆ cap         ┆ o           │\n",
       "│ str          ┆ u32         ┆ ---         ┆ ---         ┆ ---         ┆ ---         ┆ ---         │\n",
       "│              ┆             ┆ f64         ┆ f64         ┆ f64         ┆ f64         ┆ f64         │\n",
       "╞══════════════╪═════════════╪═════════════╪═════════════╪═════════════╪═════════════╪═════════════╡\n",
       "│ Real Estate  ┆ 24          ┆ 0.594929    ┆ 0.607883    ┆ 7.958333    ┆ 3.9224e10   ┆ NaN         │\n",
       "│ Consumer     ┆ 43          ┆ 0.577344    ┆ 0.621844    ┆ 15.116279   ┆ 1.3467e11   ┆ 32.916279   │\n",
       "│ Cyclical     ┆             ┆             ┆             ┆             ┆             ┆             │\n",
       "│ Utilities    ┆ 29          ┆ 0.574386    ┆ 0.513397    ┆ 17.172414   ┆ 4.1511e10   ┆ 20.811379   │\n",
       "│ Consumer     ┆ 31          ┆ 0.570803    ┆ 0.531703    ┆ 17.16129    ┆ 1.0391e11   ┆ NaN         │\n",
       "│ Defensive    ┆             ┆             ┆             ┆             ┆             ┆             │\n",
       "│ Technology   ┆ 75          ┆ 0.568588    ┆ 0.523865    ┆ 17.84       ┆ 2.3076e11   ┆ NaN         │\n",
       "│ …            ┆ …           ┆ …           ┆ …           ┆ …           ┆ …           ┆ …           │\n",
       "│ Industrials  ┆ 58          ┆ 0.566759    ┆ 0.516753    ┆ 10.37931    ┆ 6.5003e10   ┆ NaN         │\n",
       "│ Communicatio ┆ 20          ┆ 0.562245    ┆ 0.48227     ┆ 23.0        ┆ 3.9500e11   ┆ NaN         │\n",
       "│ n Services   ┆             ┆             ┆             ┆             ┆             ┆             │\n",
       "│ Financial    ┆ 55          ┆ 0.560235    ┆ 0.470565    ┆ 14.818182   ┆ 1.0748e11   ┆ NaN         │\n",
       "│ Services     ┆             ┆             ┆             ┆             ┆             ┆             │\n",
       "│ Energy       ┆ 22          ┆ 0.555882    ┆ 0.455855    ┆ 5.5         ┆ 7.2351e10   ┆ NaN         │\n",
       "│ Basic        ┆ 15          ┆ 0.549373    ┆ 0.3982      ┆ 6.4         ┆ 3.0009e10   ┆ NaN         │\n",
       "│ Materials    ┆             ┆             ┆             ┆             ┆             ┆             │\n",
       "└──────────────┴─────────────┴─────────────┴─────────────┴─────────────┴─────────────┴─────────────┘"
      ]
     },
     "metadata": {},
     "output_type": "display_data"
    }
   ],
   "source": [
    "from py.sentiment_analysis import calculate_stock_sentiment_metrics, get_fundamental_value, calculate_sector_averages\n",
    "\n",
    "# Load fundamental data and prepare ticker lists\n",
    "print(\"Loading fundamental data...\")\n",
    "fundamentals_df = pl.read_csv('data/fundamentals_stock.csv')\n",
    "fundamentals_pandas = fundamentals_df.to_pandas().set_index('Ticker')\n",
    "all_tickers = set(news_df['symbol'].to_list() + fundamentals_df['Ticker'].to_list())\n",
    "EXCLUDED_SYMBOLS = {'AI', 'S', 'A', 'U', 'E', 'US', 'ET', 'TSXV', 'CODI', 'C'}\n",
    "\n",
    "print(f\"Loaded {len(fundamentals_df)} stocks, {len(all_tickers)} unique tickers\")\n",
    "\n",
    "# Execute sentiment analysis\n",
    "print(\"Analyzing sentiment for stock symbols...\")\n",
    "sentiment_metrics = calculate_stock_sentiment_metrics(news_df, all_tickers, EXCLUDED_SYMBOLS)\n",
    "sentiment_df = pl.DataFrame([{\n",
    "    \"symbol\": symbol, \"articlesInLastWeek\": metrics[\"articlesInLastWeek\"],\n",
    "    \"companyNewsScore\": metrics[\"companyNewsScore\"], \n",
    "    \"bearishPercent\": metrics[\"sentiment\"][\"bearishPercent\"],\n",
    "    \"bullishPercent\": metrics[\"sentiment\"][\"bullishPercent\"],\n",
    "    \"averageSentimentScore\": metrics[\"averageSentimentScore\"],\n",
    "    \"totalArticles\": metrics[\"totalArticles\"]\n",
    "} for symbol, metrics in sentiment_metrics.items()]).sort([\"articlesInLastWeek\", \"companyNewsScore\"], descending=[True, True])\n",
    "\n",
    "# Add fundamental data and sector averages\n",
    "sector_averages = calculate_sector_averages(sentiment_df, fundamentals_pandas)\n",
    "sentiment_with_fundamentals = sentiment_df.with_columns([\n",
    "    pl.col(\"symbol\").map_elements(lambda x: sector_averages.get(get_fundamental_value(x, 'Sector', 'Unknown'), {}).get('sectorAverageBullishPercent', 0), return_dtype=pl.Float64).alias(\"sectorAverageBullishPercent\"),\n",
    "    pl.col(\"symbol\").map_elements(lambda x: sector_averages.get(get_fundamental_value(x, 'Sector', 'Unknown'), {}).get('sectorAverageNewsScore', 0), return_dtype=pl.Float64).alias(\"sectorAverageNewsScore\"),\n",
    "    pl.col(\"symbol\").map_elements(lambda x: get_fundamental_value(x, 'Sector', 'Unknown'), return_dtype=pl.Utf8).alias(\"sector\"),\n",
    "    pl.col(\"symbol\").map_elements(lambda x: get_fundamental_value(x, 'Market Cap'), return_dtype=pl.Float64).alias(\"marketCap\"),\n",
    "    pl.col(\"symbol\").map_elements(lambda x: get_fundamental_value(x, 'P/E (trailing)'), return_dtype=pl.Float64).alias(\"peRatio\"),\n",
    "    pl.col(\"symbol\").map_elements(lambda x: get_fundamental_value(x, 'Price'), return_dtype=pl.Float64).alias(\"price\")\n",
    "])\n",
    "\n",
    "# Screen stocks and analyze sectors\n",
    "comprehensive_screened = sentiment_with_fundamentals.filter(\n",
    "    (pl.col(\"articlesInLastWeek\") >= 3) & \n",
    "    (pl.col(\"companyNewsScore\") >= 0.45)\n",
    ").sort([\"companyNewsScore\", \"articlesInLastWeek\"], descending=[True, True])\n",
    "\n",
    "sector_summary = sentiment_with_fundamentals.filter(\n",
    "    pl.col(\"sector\") != \"Unknown\"\n",
    ").group_by(\"sector\").agg([\n",
    "    pl.count(\"symbol\").alias(\"stock_count\"), \n",
    "    pl.mean(\"companyNewsScore\").alias(\"avg_news_score\"),\n",
    "    pl.mean(\"bullishPercent\").alias(\"avg_bullish_percent\"), \n",
    "    pl.mean(\"articlesInLastWeek\").alias(\"avg_articles\"),\n",
    "    pl.mean(\"marketCap\").alias(\"avg_market_cap\"), \n",
    "    pl.mean(\"peRatio\").alias(\"avg_pe_ratio\")\n",
    "]).sort(\"avg_news_score\", descending=True)\n",
    "\n",
    "print(f\"\\nScreened {len(comprehensive_screened)} stocks, {len(sector_averages)} sectors\")\n",
    "display(comprehensive_screened.head())\n",
    "display(sector_summary)"
   ]
  },
  {
   "cell_type": "markdown",
   "metadata": {},
   "source": [
    "### Step 5: Select Top 100 stocks ***(by `averageSentimentScore`)***\n",
    "- Constrained by being part of the S&P 500 index and not already in the long-term portfolio."
   ]
  },
  {
   "cell_type": "code",
   "execution_count": 7,
   "metadata": {},
   "outputs": [
    {
     "name": "stdout",
     "output_type": "stream",
     "text": [
      "Excluding 5 tickers already in long-term portfolio: ['MMC', 'AMAT', 'MRK', 'TMUS', 'APO']\n",
      "\n",
      "Selected 100 stocks with highest sentiment scores\n"
     ]
    },
    {
     "data": {
      "text/html": [
       "<div><style>\n",
       ".dataframe > thead > tr,\n",
       ".dataframe > tbody > tr {\n",
       "  text-align: right;\n",
       "  white-space: pre-wrap;\n",
       "}\n",
       "</style>\n",
       "<small>shape: (5, 13)</small><table border=\"1\" class=\"dataframe\"><thead><tr><th>symbol</th><th>articlesInLastWeek</th><th>companyNewsScore</th><th>bearishPercent</th><th>bullishPercent</th><th>averageSentimentScore</th><th>totalArticles</th><th>sectorAverageBullishPercent</th><th>sectorAverageNewsScore</th><th>sector</th><th>marketCap</th><th>peRatio</th><th>price</th></tr><tr><td>str</td><td>i64</td><td>f64</td><td>f64</td><td>f64</td><td>f64</td><td>i64</td><td>f64</td><td>f64</td><td>str</td><td>f64</td><td>f64</td><td>f64</td></tr></thead><tbody><tr><td>&quot;DTE&quot;</td><td>11</td><td>0.7112</td><td>0.0</td><td>1.0</td><td>0.4225</td><td>11</td><td>0.5134</td><td>0.5744</td><td>&quot;Utilities&quot;</td><td>2.8013e10</td><td>18.1</td><td>134.99</td></tr><tr><td>&quot;VRSK&quot;</td><td>3</td><td>0.6833</td><td>0.0</td><td>1.0</td><td>0.3667</td><td>3</td><td>0.5168</td><td>0.5668</td><td>&quot;Industrials&quot;</td><td>4.3683e10</td><td>46.06</td><td>312.28</td></tr><tr><td>&quot;USB&quot;</td><td>5</td><td>0.6808</td><td>0.0</td><td>1.0</td><td>0.3617</td><td>5</td><td>0.4706</td><td>0.5602</td><td>&quot;Financial Services&quot;</td><td>6.9402e10</td><td>10.94</td><td>44.54</td></tr><tr><td>&quot;PODD&quot;</td><td>4</td><td>0.6805</td><td>0.0</td><td>0.75</td><td>0.361</td><td>4</td><td>0.4686</td><td>0.567</td><td>&quot;Healthcare&quot;</td><td>2.1261e10</td><td>55.53</td><td>302.1</td></tr><tr><td>&quot;ATO&quot;</td><td>6</td><td>0.6782</td><td>0.0</td><td>0.6667</td><td>0.3563</td><td>6</td><td>0.5134</td><td>0.5744</td><td>&quot;Utilities&quot;</td><td>2.4327e10</td><td>21.24</td><td>153.16</td></tr></tbody></table></div>"
      ],
      "text/plain": [
       "shape: (5, 13)\n",
       "┌────────┬─────────────┬─────────────┬─────────────┬───┬────────────┬───────────┬─────────┬────────┐\n",
       "│ symbol ┆ articlesInL ┆ companyNews ┆ bearishPerc ┆ … ┆ sector     ┆ marketCap ┆ peRatio ┆ price  │\n",
       "│ ---    ┆ astWeek     ┆ Score       ┆ ent         ┆   ┆ ---        ┆ ---       ┆ ---     ┆ ---    │\n",
       "│ str    ┆ ---         ┆ ---         ┆ ---         ┆   ┆ str        ┆ f64       ┆ f64     ┆ f64    │\n",
       "│        ┆ i64         ┆ f64         ┆ f64         ┆   ┆            ┆           ┆         ┆        │\n",
       "╞════════╪═════════════╪═════════════╪═════════════╪═══╪════════════╪═══════════╪═════════╪════════╡\n",
       "│ DTE    ┆ 11          ┆ 0.7112      ┆ 0.0         ┆ … ┆ Utilities  ┆ 2.8013e10 ┆ 18.1    ┆ 134.99 │\n",
       "│ VRSK   ┆ 3           ┆ 0.6833      ┆ 0.0         ┆ … ┆ Industrial ┆ 4.3683e10 ┆ 46.06   ┆ 312.28 │\n",
       "│        ┆             ┆             ┆             ┆   ┆ s          ┆           ┆         ┆        │\n",
       "│ USB    ┆ 5           ┆ 0.6808      ┆ 0.0         ┆ … ┆ Financial  ┆ 6.9402e10 ┆ 10.94   ┆ 44.54  │\n",
       "│        ┆             ┆             ┆             ┆   ┆ Services   ┆           ┆         ┆        │\n",
       "│ PODD   ┆ 4           ┆ 0.6805      ┆ 0.0         ┆ … ┆ Healthcare ┆ 2.1261e10 ┆ 55.53   ┆ 302.1  │\n",
       "│ ATO    ┆ 6           ┆ 0.6782      ┆ 0.0         ┆ … ┆ Utilities  ┆ 2.4327e10 ┆ 21.24   ┆ 153.16 │\n",
       "└────────┴─────────────┴─────────────┴─────────────┴───┴────────────┴───────────┴─────────┴────────┘"
      ]
     },
     "metadata": {},
     "output_type": "display_data"
    },
    {
     "name": "stdout",
     "output_type": "stream",
     "text": [
      "\n",
      "Sector distribution:\n"
     ]
    },
    {
     "data": {
      "text/html": [
       "<div><style>\n",
       ".dataframe > thead > tr,\n",
       ".dataframe > tbody > tr {\n",
       "  text-align: right;\n",
       "  white-space: pre-wrap;\n",
       "}\n",
       "</style>\n",
       "<small>shape: (5, 5)</small><table border=\"1\" class=\"dataframe\"><thead><tr><th>sector</th><th>stock_count</th><th>avg_sentiment_score</th><th>avg_news_score</th><th>avg_bullish_percent</th></tr><tr><td>str</td><td>u32</td><td>f64</td><td>f64</td><td>f64</td></tr></thead><tbody><tr><td>&quot;Technology&quot;</td><td>22</td><td>0.212055</td><td>0.606036</td><td>0.764177</td></tr><tr><td>&quot;Healthcare&quot;</td><td>15</td><td>0.219247</td><td>0.609633</td><td>0.703733</td></tr><tr><td>&quot;Financial Services&quot;</td><td>12</td><td>0.227358</td><td>0.613675</td><td>0.810467</td></tr><tr><td>&quot;Industrials&quot;</td><td>11</td><td>0.2523</td><td>0.626145</td><td>0.748</td></tr><tr><td>&quot;Consumer Cyclical&quot;</td><td>8</td><td>0.2534125</td><td>0.6267125</td><td>0.828288</td></tr></tbody></table></div>"
      ],
      "text/plain": [
       "shape: (5, 5)\n",
       "┌────────────────────┬─────────────┬─────────────────────┬────────────────┬─────────────────────┐\n",
       "│ sector             ┆ stock_count ┆ avg_sentiment_score ┆ avg_news_score ┆ avg_bullish_percent │\n",
       "│ ---                ┆ ---         ┆ ---                 ┆ ---            ┆ ---                 │\n",
       "│ str                ┆ u32         ┆ f64                 ┆ f64            ┆ f64                 │\n",
       "╞════════════════════╪═════════════╪═════════════════════╪════════════════╪═════════════════════╡\n",
       "│ Technology         ┆ 22          ┆ 0.212055            ┆ 0.606036       ┆ 0.764177            │\n",
       "│ Healthcare         ┆ 15          ┆ 0.219247            ┆ 0.609633       ┆ 0.703733            │\n",
       "│ Financial Services ┆ 12          ┆ 0.227358            ┆ 0.613675       ┆ 0.810467            │\n",
       "│ Industrials        ┆ 11          ┆ 0.2523              ┆ 0.626145       ┆ 0.748               │\n",
       "│ Consumer Cyclical  ┆ 8           ┆ 0.2534125           ┆ 0.6267125      ┆ 0.828288            │\n",
       "└────────────────────┴─────────────┴─────────────────────┴────────────────┴─────────────────────┘"
      ]
     },
     "metadata": {},
     "output_type": "display_data"
    },
    {
     "name": "stdout",
     "output_type": "stream",
     "text": [
      "\n",
      "Summary statistics for selected stocks:\n",
      "Average sentiment score: 0.2279\n",
      "Min sentiment score: 0.1671\n",
      "Max sentiment score: 0.4225\n",
      "Average company news score: 0.6140\n",
      "Number of stocks: 100\n",
      "Number of unique sectors: 11\n"
     ]
    }
   ],
   "source": [
    "# Load long-term portfolio and select top sentiment stocks\n",
    "long_term_tickers = pl.read_excel(output_file, sheet_name='long_term_portfolio')['Ticker'].to_list()\n",
    "print(f\"Excluding {len(long_term_tickers)} tickers already in long-term portfolio: {long_term_tickers}\")\n",
    "\n",
    "selected_stocks = (comprehensive_screened\n",
    "    .filter(pl.col(\"sector\") != 'Unknown')\n",
    "    .filter(~pl.col(\"symbol\").is_in(long_term_tickers))\n",
    "    .sort(\"averageSentimentScore\", descending=True)\n",
    "    .head(100))\n",
    "\n",
    "screened_tickers = selected_stocks['symbol'].to_list()\n",
    "print(f\"\\nSelected {len(screened_tickers)} stocks with highest sentiment scores\")\n",
    "display(selected_stocks.head())\n",
    "\n",
    "# Sector distribution and summary statistics\n",
    "sector_distribution = selected_stocks.group_by(\"sector\").agg([\n",
    "    pl.count(\"symbol\").alias(\"stock_count\"),\n",
    "    pl.mean(\"averageSentimentScore\").alias(\"avg_sentiment_score\"),\n",
    "    pl.mean(\"companyNewsScore\").alias(\"avg_news_score\"),\n",
    "    pl.mean(\"bullishPercent\").alias(\"avg_bullish_percent\")\n",
    "]).sort(\"stock_count\", descending=True)\n",
    "\n",
    "print(f\"\\nSector distribution:\")\n",
    "display(sector_distribution.head())\n",
    "\n",
    "# Show summary statistics\n",
    "print(f\"\\nSummary statistics for selected stocks:\")\n",
    "print(f\"Average sentiment score: {selected_stocks['averageSentimentScore'].mean():.4f}\")\n",
    "print(f\"Min sentiment score: {selected_stocks['averageSentimentScore'].min():.4f}\")\n",
    "print(f\"Max sentiment score: {selected_stocks['averageSentimentScore'].max():.4f}\")\n",
    "print(f\"Average company news score: {selected_stocks['companyNewsScore'].mean():.4f}\")\n",
    "print(f\"Number of stocks: {selected_stocks['symbol'].count()}\")\n",
    "print(f\"Number of unique sectors: {selected_stocks['sector'].n_unique()}\")"
   ]
  },
  {
   "cell_type": "markdown",
   "metadata": {},
   "source": [
    "### Step 6: Import Stock Quotes"
   ]
  },
  {
   "cell_type": "code",
   "execution_count": 8,
   "metadata": {},
   "outputs": [
    {
     "name": "stdout",
     "output_type": "stream",
     "text": [
      "Found 99 of 100 tickers in data/daily_stock_quotes.csv\n",
      "Missing tickers: ['GEV']\n",
      "Available tickers after cleaning: ['ABT', 'ACN', 'ADI', 'ADSK', 'AES', 'AKAM', 'ALB', 'ALL', 'AMP', 'ANSS', 'AON', 'APTV', 'ATO', 'AWK', 'AZO', 'BAC', 'BIIB', 'BK', 'BKNG', 'CAG', 'CDNS', 'CL', 'CLX', 'CMCSA', 'CME', 'CMS', 'CNC', 'COO', 'COP', 'COR', 'COST', 'CSCO', 'CTAS', 'CTSH', 'CVS', 'DOC', 'DTE', 'EMR', 'ESS', 'ETN', 'FOX', 'FRT', 'FSLR', 'GEN', 'GOOGL', 'GPC', 'GRMN', 'HAL', 'HCA', 'HD', 'HII', 'HWM', 'IFF', 'INTU', 'ISRG', 'JNJ', 'KEYS', 'LDOS', 'MCHP', 'MCK', 'MCO', 'MMM', 'MOH', 'MOS', 'MSCI', 'MSFT', 'MTCH', 'NEE', 'NEM', 'NOW', 'NTAP', 'NXPI', 'OKE', 'PANW', 'PEG', 'PLD', 'PODD', 'RCL', 'RF', 'RTX', 'SLB', 'SNPS', 'STLD', 'STX', 'SYF', 'TJX', 'UAL', 'ULTA', 'USB', 'VRSK', 'VRTX', 'VZ', 'WELL', 'WMT', 'ZTS']\n",
      "Dataset shape after cleaning: (2512, 95)\n",
      "Date range: 2015-06-15 00:00:00 to 2025-06-09 00:00:00\n"
     ]
    },
    {
     "data": {
      "application/vnd.microsoft.datawrangler.viewer.v0+json": {
       "columns": [
        {
         "name": "Date",
         "rawType": "datetime64[ns]",
         "type": "datetime"
        },
        {
         "name": "ABT",
         "rawType": "float64",
         "type": "float"
        },
        {
         "name": "ACN",
         "rawType": "float64",
         "type": "float"
        },
        {
         "name": "ADI",
         "rawType": "float64",
         "type": "float"
        },
        {
         "name": "ADSK",
         "rawType": "float64",
         "type": "float"
        },
        {
         "name": "AES",
         "rawType": "float64",
         "type": "float"
        },
        {
         "name": "AKAM",
         "rawType": "float64",
         "type": "float"
        },
        {
         "name": "ALB",
         "rawType": "float64",
         "type": "float"
        },
        {
         "name": "ALL",
         "rawType": "float64",
         "type": "float"
        },
        {
         "name": "AMP",
         "rawType": "float64",
         "type": "float"
        },
        {
         "name": "ANSS",
         "rawType": "float64",
         "type": "float"
        },
        {
         "name": "AON",
         "rawType": "float64",
         "type": "float"
        },
        {
         "name": "APTV",
         "rawType": "float64",
         "type": "float"
        },
        {
         "name": "ATO",
         "rawType": "float64",
         "type": "float"
        },
        {
         "name": "AWK",
         "rawType": "float64",
         "type": "float"
        },
        {
         "name": "AZO",
         "rawType": "float64",
         "type": "float"
        },
        {
         "name": "BAC",
         "rawType": "float64",
         "type": "float"
        },
        {
         "name": "BIIB",
         "rawType": "float64",
         "type": "float"
        },
        {
         "name": "BK",
         "rawType": "float64",
         "type": "float"
        },
        {
         "name": "BKNG",
         "rawType": "float64",
         "type": "float"
        },
        {
         "name": "CAG",
         "rawType": "float64",
         "type": "float"
        },
        {
         "name": "CDNS",
         "rawType": "float64",
         "type": "float"
        },
        {
         "name": "CL",
         "rawType": "float64",
         "type": "float"
        },
        {
         "name": "CLX",
         "rawType": "float64",
         "type": "float"
        },
        {
         "name": "CMCSA",
         "rawType": "float64",
         "type": "float"
        },
        {
         "name": "CME",
         "rawType": "float64",
         "type": "float"
        },
        {
         "name": "CMS",
         "rawType": "float64",
         "type": "float"
        },
        {
         "name": "CNC",
         "rawType": "float64",
         "type": "float"
        },
        {
         "name": "COO",
         "rawType": "float64",
         "type": "float"
        },
        {
         "name": "COP",
         "rawType": "float64",
         "type": "float"
        },
        {
         "name": "COR",
         "rawType": "float64",
         "type": "float"
        },
        {
         "name": "COST",
         "rawType": "float64",
         "type": "float"
        },
        {
         "name": "CSCO",
         "rawType": "float64",
         "type": "float"
        },
        {
         "name": "CTAS",
         "rawType": "float64",
         "type": "float"
        },
        {
         "name": "CTSH",
         "rawType": "float64",
         "type": "float"
        },
        {
         "name": "CVS",
         "rawType": "float64",
         "type": "float"
        },
        {
         "name": "DOC",
         "rawType": "float64",
         "type": "float"
        },
        {
         "name": "DTE",
         "rawType": "float64",
         "type": "float"
        },
        {
         "name": "EMR",
         "rawType": "float64",
         "type": "float"
        },
        {
         "name": "ESS",
         "rawType": "float64",
         "type": "float"
        },
        {
         "name": "ETN",
         "rawType": "float64",
         "type": "float"
        },
        {
         "name": "FOX",
         "rawType": "float64",
         "type": "float"
        },
        {
         "name": "FRT",
         "rawType": "float64",
         "type": "float"
        },
        {
         "name": "FSLR",
         "rawType": "float64",
         "type": "float"
        },
        {
         "name": "GEN",
         "rawType": "float64",
         "type": "float"
        },
        {
         "name": "GOOGL",
         "rawType": "float64",
         "type": "float"
        },
        {
         "name": "GPC",
         "rawType": "float64",
         "type": "float"
        },
        {
         "name": "GRMN",
         "rawType": "float64",
         "type": "float"
        },
        {
         "name": "HAL",
         "rawType": "float64",
         "type": "float"
        },
        {
         "name": "HCA",
         "rawType": "float64",
         "type": "float"
        },
        {
         "name": "HD",
         "rawType": "float64",
         "type": "float"
        },
        {
         "name": "HII",
         "rawType": "float64",
         "type": "float"
        },
        {
         "name": "HWM",
         "rawType": "float64",
         "type": "float"
        },
        {
         "name": "IFF",
         "rawType": "float64",
         "type": "float"
        },
        {
         "name": "INTU",
         "rawType": "float64",
         "type": "float"
        },
        {
         "name": "ISRG",
         "rawType": "float64",
         "type": "float"
        },
        {
         "name": "JNJ",
         "rawType": "float64",
         "type": "float"
        },
        {
         "name": "KEYS",
         "rawType": "float64",
         "type": "float"
        },
        {
         "name": "LDOS",
         "rawType": "float64",
         "type": "float"
        },
        {
         "name": "MCHP",
         "rawType": "float64",
         "type": "float"
        },
        {
         "name": "MCK",
         "rawType": "float64",
         "type": "float"
        },
        {
         "name": "MCO",
         "rawType": "float64",
         "type": "float"
        },
        {
         "name": "MMM",
         "rawType": "float64",
         "type": "float"
        },
        {
         "name": "MOH",
         "rawType": "float64",
         "type": "float"
        },
        {
         "name": "MOS",
         "rawType": "float64",
         "type": "float"
        },
        {
         "name": "MSCI",
         "rawType": "float64",
         "type": "float"
        },
        {
         "name": "MSFT",
         "rawType": "float64",
         "type": "float"
        },
        {
         "name": "MTCH",
         "rawType": "float64",
         "type": "float"
        },
        {
         "name": "NEE",
         "rawType": "float64",
         "type": "float"
        },
        {
         "name": "NEM",
         "rawType": "float64",
         "type": "float"
        },
        {
         "name": "NOW",
         "rawType": "float64",
         "type": "float"
        },
        {
         "name": "NTAP",
         "rawType": "float64",
         "type": "float"
        },
        {
         "name": "NXPI",
         "rawType": "float64",
         "type": "float"
        },
        {
         "name": "OKE",
         "rawType": "float64",
         "type": "float"
        },
        {
         "name": "PANW",
         "rawType": "float64",
         "type": "float"
        },
        {
         "name": "PEG",
         "rawType": "float64",
         "type": "float"
        },
        {
         "name": "PLD",
         "rawType": "float64",
         "type": "float"
        },
        {
         "name": "PODD",
         "rawType": "float64",
         "type": "float"
        },
        {
         "name": "RCL",
         "rawType": "float64",
         "type": "float"
        },
        {
         "name": "RF",
         "rawType": "float64",
         "type": "float"
        },
        {
         "name": "RTX",
         "rawType": "float64",
         "type": "float"
        },
        {
         "name": "SLB",
         "rawType": "float64",
         "type": "float"
        },
        {
         "name": "SNPS",
         "rawType": "float64",
         "type": "float"
        },
        {
         "name": "STLD",
         "rawType": "float64",
         "type": "float"
        },
        {
         "name": "STX",
         "rawType": "float64",
         "type": "float"
        },
        {
         "name": "SYF",
         "rawType": "float64",
         "type": "float"
        },
        {
         "name": "TJX",
         "rawType": "float64",
         "type": "float"
        },
        {
         "name": "UAL",
         "rawType": "float64",
         "type": "float"
        },
        {
         "name": "ULTA",
         "rawType": "float64",
         "type": "float"
        },
        {
         "name": "USB",
         "rawType": "float64",
         "type": "float"
        },
        {
         "name": "VRSK",
         "rawType": "float64",
         "type": "float"
        },
        {
         "name": "VRTX",
         "rawType": "float64",
         "type": "float"
        },
        {
         "name": "VZ",
         "rawType": "float64",
         "type": "float"
        },
        {
         "name": "WELL",
         "rawType": "float64",
         "type": "float"
        },
        {
         "name": "WMT",
         "rawType": "float64",
         "type": "float"
        },
        {
         "name": "ZTS",
         "rawType": "float64",
         "type": "float"
        }
       ],
       "ref": "9b2306f4-341c-4f99-bca6-e4de4dda3909",
       "rows": [
        [
         "2015-06-15 00:00:00",
         "39.75",
         "81.32",
         "54.6",
         "53.56",
         "9.33",
         "72.5",
         "50.59",
         "53.73",
         "102.97",
         "88.769997",
         "93.31",
         "66.97",
         "40.69",
         "40.99",
         "674.0",
         "14.18",
         "388.28",
         "33.58",
         "1162.65",
         "21.28",
         "19.82",
         "51.73",
         "79.02",
         "23.29",
         "65.01",
         "23.69",
         "38.88",
         "43.72",
         "46.51",
         "95.56",
         "115.18",
         "20.85",
         "18.93",
         "56.54",
         "77.06",
         "22.59",
         "45.4",
         "44.71",
         "155.7",
         "54.45",
         "29.35",
         "91.34",
         "53.475",
         "9.04",
         "27.02",
         "68.45",
         "33.0",
         "38.03",
         "78.5",
         "87.46",
         "97.23",
         "25.6380338759",
         "86.09",
         "95.03",
         "54.63",
         "74.44",
         "32.619999",
         "25.71",
         "19.76",
         "216.31",
         "97.52",
         "93.74",
         "68.199997",
         "36.88",
         "54.89",
         "39.43",
         "20.41",
         "19.32",
         "19.01",
         "77.639999",
         "25.94",
         "92.61",
         "20.8",
         "29.47",
         "28.44",
         "29.47",
         "30.1",
         "68.56",
         "7.48",
         "53.35",
         "68.52",
         "49.74",
         "17.11",
         "33.0",
         "26.53",
         "28.28",
         "52.25",
         "154.57",
         "31.33",
         "71.0",
         "123.495",
         "28.14",
         "45.35",
         "19.82",
         "45.7"
        ],
        [
         "2015-06-16 00:00:00",
         "40.09",
         "82.09",
         "54.54",
         "53.435",
         "9.43",
         "72.849998",
         "50.64",
         "54.26",
         "103.43",
         "89.87",
         "94.04",
         "67.25",
         "41.09",
         "40.68",
         "675.78",
         "14.25",
         "388.28",
         "33.51",
         "1163.48",
         "21.6",
         "19.86",
         "52.24",
         "79.82",
         "23.5",
         "65.21",
         "23.71",
         "39.61",
         "43.75",
         "46.63",
         "96.03",
         "115.81",
         "21.01",
         "19.14",
         "56.31",
         "77.5",
         "22.72",
         "45.6",
         "44.65",
         "157.48",
         "54.1",
         "29.26",
         "92.3",
         "52.15",
         "9.12",
         "27.11",
         "68.69",
         "33.79",
         "37.92",
         "77.75",
         "87.64",
         "97.36",
         "25.6807639323",
         "87.56",
         "95.66",
         "54.54",
         "75.11",
         "32.619999",
         "25.93",
         "19.82",
         "216.93",
         "97.59",
         "94.11",
         "68.779999",
         "37.0",
         "55.32",
         "39.74",
         "20.46",
         "19.4",
         "18.94",
         "79.4",
         "25.94",
         "92.93",
         "20.76",
         "29.45",
         "28.56",
         "29.6",
         "30.23",
         "68.92",
         "7.55",
         "53.51",
         "68.72",
         "50.009998",
         "17.22",
         "32.9",
         "26.15",
         "28.41",
         "51.23",
         "155.5",
         "31.47",
         "71.22",
         "123.34",
         "28.39",
         "45.67",
         "19.93",
         "46.11"
        ],
        [
         "2015-06-17 00:00:00",
         "40.16",
         "82.29",
         "55.04",
         "53.575",
         "9.49",
         "72.809998",
         "51.05",
         "54.14",
         "103.34",
         "89.87",
         "94.36",
         "68.15",
         "41.23",
         "40.86",
         "673.33",
         "14.1",
         "390.86",
         "33.47",
         "1150.99",
         "21.7",
         "20.02",
         "52.58",
         "80.29",
         "23.8",
         "65.15",
         "24.0",
         "39.244999",
         "44.09",
         "46.38",
         "96.32",
         "116.56",
         "21.17",
         "19.2",
         "55.74",
         "77.99",
         "22.95",
         "46.14",
         "44.45",
         "158.72",
         "54.05",
         "29.56",
         "93.26",
         "51.76",
         "9.29",
         "27.2",
         "68.98",
         "33.76",
         "38.16",
         "78.78",
         "87.83",
         "97.96",
         "25.552573763",
         "87.83",
         "95.76",
         "54.31",
         "75.39",
         "33.009998",
         "25.89",
         "19.88",
         "216.3",
         "97.94",
         "94.39",
         "68.83",
         "37.23",
         "55.39",
         "39.86",
         "20.34",
         "19.63",
         "19.4",
         "79.919998",
         "26.12",
         "92.05",
         "20.9",
         "30.11",
         "28.78",
         "29.75",
         "30.48",
         "68.9",
         "7.44",
         "53.57",
         "68.7",
         "50.07",
         "17.18",
         "32.89",
         "26.35",
         "28.56",
         "51.32",
         "155.619995",
         "31.5",
         "71.86",
         "124.045",
         "28.3",
         "45.82",
         "20.04",
         "46.53"
        ],
        [
         "2015-06-18 00:00:00",
         "41.3",
         "82.61",
         "55.91",
         "54.165",
         "9.62",
         "73.269997",
         "52.09",
         "55.09",
         "104.25",
         "90.72",
         "95.09",
         "68.31",
         "41.84",
         "41.59",
         "684.22998",
         "14.11",
         "401.55",
         "33.56",
         "1161.26",
         "21.88",
         "20.16",
         "53.18",
         "81.01",
         "24.14",
         "64.85",
         "24.34",
         "39.535",
         "44.1",
         "46.26",
         "96.67",
         "117.92",
         "21.38",
         "19.4",
         "56.79",
         "78.92",
         "23.12",
         "46.8",
         "44.75",
         "161.44",
         "54.57",
         "29.83",
         "94.71",
         "51.98",
         "9.43",
         "27.68",
         "70.07",
         "34.76",
         "37.22",
         "78.29",
         "88.92",
         "98.29",
         "25.46711365",
         "89.22",
         "96.27",
         "55.11",
         "76.63",
         "33.4",
         "26.13",
         "20.35",
         "218.41",
         "99.37",
         "95.99",
         "68.18",
         "37.36",
         "55.55",
         "40.51",
         "20.58",
         "19.93",
         "19.78",
         "80.97",
         "26.11",
         "94.76",
         "20.93",
         "30.48",
         "29.27",
         "30.01",
         "31.309999",
         "71.22",
         "7.48",
         "53.95",
         "67.9",
         "50.32",
         "17.28",
         "33.48",
         "26.41",
         "29.19",
         "52.009998",
         "156.479996",
         "31.6",
         "72.37",
         "127.63",
         "28.6",
         "46.26",
         "20.11",
         "46.84"
        ],
        [
         "2015-06-19 00:00:00",
         "41.25",
         "82.37",
         "55.59",
         "53.57",
         "9.62",
         "72.29",
         "51.19",
         "53.55",
         "102.93",
         "90.919998",
         "93.7",
         "68.39",
         "41.69",
         "41.47",
         "681.669983",
         "13.94",
         "411.05",
         "33.45",
         "1145.93",
         "24.26",
         "20.07",
         "52.97",
         "80.93",
         "24.15",
         "63.49",
         "24.11",
         "39.74",
         "44.64",
         "45.84",
         "96.28",
         "117.76",
         "21.25",
         "19.48",
         "56.1",
         "79.23",
         "22.7",
         "46.57",
         "44.26",
         "159.86",
         "53.92",
         "29.77",
         "93.67",
         "51.03",
         "9.28",
         "27.74",
         "69.75",
         "34.97",
         "36.61",
         "79.04",
         "89.39",
         "97.84",
         "25.4884786783",
         "88.81",
         "96.2",
         "54.97",
         "76.25",
         "33.29",
         "25.95",
         "20.62",
         "218.23",
         "99.42",
         "95.59",
         "68.87",
         "37.2",
         "55.47",
         "39.97",
         "20.44",
         "19.68",
         "19.5",
         "80.379997",
         "26.24",
         "94.25",
         "20.81",
         "30.68",
         "29.13",
         "29.67",
         "31.09",
         "71.38",
         "7.44",
         "53.48",
         "66.36",
         "50.15",
         "17.22",
         "32.99",
         "26.49",
         "28.96",
         "53.25",
         "154.729996",
         "31.5",
         "72.3",
         "128.04",
         "28.41",
         "46.17",
         "20.04",
         "46.6"
        ]
       ],
       "shape": {
        "columns": 95,
        "rows": 5
       }
      },
      "text/html": [
       "<div>\n",
       "<style scoped>\n",
       "    .dataframe tbody tr th:only-of-type {\n",
       "        vertical-align: middle;\n",
       "    }\n",
       "\n",
       "    .dataframe tbody tr th {\n",
       "        vertical-align: top;\n",
       "    }\n",
       "\n",
       "    .dataframe thead th {\n",
       "        text-align: right;\n",
       "    }\n",
       "</style>\n",
       "<table border=\"1\" class=\"dataframe\">\n",
       "  <thead>\n",
       "    <tr style=\"text-align: right;\">\n",
       "      <th></th>\n",
       "      <th>ABT</th>\n",
       "      <th>ACN</th>\n",
       "      <th>ADI</th>\n",
       "      <th>ADSK</th>\n",
       "      <th>AES</th>\n",
       "      <th>AKAM</th>\n",
       "      <th>ALB</th>\n",
       "      <th>ALL</th>\n",
       "      <th>AMP</th>\n",
       "      <th>ANSS</th>\n",
       "      <th>...</th>\n",
       "      <th>TJX</th>\n",
       "      <th>UAL</th>\n",
       "      <th>ULTA</th>\n",
       "      <th>USB</th>\n",
       "      <th>VRSK</th>\n",
       "      <th>VRTX</th>\n",
       "      <th>VZ</th>\n",
       "      <th>WELL</th>\n",
       "      <th>WMT</th>\n",
       "      <th>ZTS</th>\n",
       "    </tr>\n",
       "    <tr>\n",
       "      <th>Date</th>\n",
       "      <th></th>\n",
       "      <th></th>\n",
       "      <th></th>\n",
       "      <th></th>\n",
       "      <th></th>\n",
       "      <th></th>\n",
       "      <th></th>\n",
       "      <th></th>\n",
       "      <th></th>\n",
       "      <th></th>\n",
       "      <th></th>\n",
       "      <th></th>\n",
       "      <th></th>\n",
       "      <th></th>\n",
       "      <th></th>\n",
       "      <th></th>\n",
       "      <th></th>\n",
       "      <th></th>\n",
       "      <th></th>\n",
       "      <th></th>\n",
       "      <th></th>\n",
       "    </tr>\n",
       "  </thead>\n",
       "  <tbody>\n",
       "    <tr>\n",
       "      <th>2015-06-15</th>\n",
       "      <td>39.75</td>\n",
       "      <td>81.32</td>\n",
       "      <td>54.60</td>\n",
       "      <td>53.560</td>\n",
       "      <td>9.33</td>\n",
       "      <td>72.500000</td>\n",
       "      <td>50.59</td>\n",
       "      <td>53.73</td>\n",
       "      <td>102.97</td>\n",
       "      <td>88.769997</td>\n",
       "      <td>...</td>\n",
       "      <td>28.28</td>\n",
       "      <td>52.250000</td>\n",
       "      <td>154.570000</td>\n",
       "      <td>31.33</td>\n",
       "      <td>71.00</td>\n",
       "      <td>123.495</td>\n",
       "      <td>28.14</td>\n",
       "      <td>45.35</td>\n",
       "      <td>19.82</td>\n",
       "      <td>45.70</td>\n",
       "    </tr>\n",
       "    <tr>\n",
       "      <th>2015-06-16</th>\n",
       "      <td>40.09</td>\n",
       "      <td>82.09</td>\n",
       "      <td>54.54</td>\n",
       "      <td>53.435</td>\n",
       "      <td>9.43</td>\n",
       "      <td>72.849998</td>\n",
       "      <td>50.64</td>\n",
       "      <td>54.26</td>\n",
       "      <td>103.43</td>\n",
       "      <td>89.870000</td>\n",
       "      <td>...</td>\n",
       "      <td>28.41</td>\n",
       "      <td>51.230000</td>\n",
       "      <td>155.500000</td>\n",
       "      <td>31.47</td>\n",
       "      <td>71.22</td>\n",
       "      <td>123.340</td>\n",
       "      <td>28.39</td>\n",
       "      <td>45.67</td>\n",
       "      <td>19.93</td>\n",
       "      <td>46.11</td>\n",
       "    </tr>\n",
       "    <tr>\n",
       "      <th>2015-06-17</th>\n",
       "      <td>40.16</td>\n",
       "      <td>82.29</td>\n",
       "      <td>55.04</td>\n",
       "      <td>53.575</td>\n",
       "      <td>9.49</td>\n",
       "      <td>72.809998</td>\n",
       "      <td>51.05</td>\n",
       "      <td>54.14</td>\n",
       "      <td>103.34</td>\n",
       "      <td>89.870000</td>\n",
       "      <td>...</td>\n",
       "      <td>28.56</td>\n",
       "      <td>51.320000</td>\n",
       "      <td>155.619995</td>\n",
       "      <td>31.50</td>\n",
       "      <td>71.86</td>\n",
       "      <td>124.045</td>\n",
       "      <td>28.30</td>\n",
       "      <td>45.82</td>\n",
       "      <td>20.04</td>\n",
       "      <td>46.53</td>\n",
       "    </tr>\n",
       "    <tr>\n",
       "      <th>2015-06-18</th>\n",
       "      <td>41.30</td>\n",
       "      <td>82.61</td>\n",
       "      <td>55.91</td>\n",
       "      <td>54.165</td>\n",
       "      <td>9.62</td>\n",
       "      <td>73.269997</td>\n",
       "      <td>52.09</td>\n",
       "      <td>55.09</td>\n",
       "      <td>104.25</td>\n",
       "      <td>90.720000</td>\n",
       "      <td>...</td>\n",
       "      <td>29.19</td>\n",
       "      <td>52.009998</td>\n",
       "      <td>156.479996</td>\n",
       "      <td>31.60</td>\n",
       "      <td>72.37</td>\n",
       "      <td>127.630</td>\n",
       "      <td>28.60</td>\n",
       "      <td>46.26</td>\n",
       "      <td>20.11</td>\n",
       "      <td>46.84</td>\n",
       "    </tr>\n",
       "    <tr>\n",
       "      <th>2015-06-19</th>\n",
       "      <td>41.25</td>\n",
       "      <td>82.37</td>\n",
       "      <td>55.59</td>\n",
       "      <td>53.570</td>\n",
       "      <td>9.62</td>\n",
       "      <td>72.290000</td>\n",
       "      <td>51.19</td>\n",
       "      <td>53.55</td>\n",
       "      <td>102.93</td>\n",
       "      <td>90.919998</td>\n",
       "      <td>...</td>\n",
       "      <td>28.96</td>\n",
       "      <td>53.250000</td>\n",
       "      <td>154.729996</td>\n",
       "      <td>31.50</td>\n",
       "      <td>72.30</td>\n",
       "      <td>128.040</td>\n",
       "      <td>28.41</td>\n",
       "      <td>46.17</td>\n",
       "      <td>20.04</td>\n",
       "      <td>46.60</td>\n",
       "    </tr>\n",
       "  </tbody>\n",
       "</table>\n",
       "<p>5 rows × 95 columns</p>\n",
       "</div>"
      ],
      "text/plain": [
       "              ABT    ACN    ADI    ADSK   AES       AKAM    ALB    ALL  \\\n",
       "Date                                                                     \n",
       "2015-06-15  39.75  81.32  54.60  53.560  9.33  72.500000  50.59  53.73   \n",
       "2015-06-16  40.09  82.09  54.54  53.435  9.43  72.849998  50.64  54.26   \n",
       "2015-06-17  40.16  82.29  55.04  53.575  9.49  72.809998  51.05  54.14   \n",
       "2015-06-18  41.30  82.61  55.91  54.165  9.62  73.269997  52.09  55.09   \n",
       "2015-06-19  41.25  82.37  55.59  53.570  9.62  72.290000  51.19  53.55   \n",
       "\n",
       "               AMP       ANSS  ...    TJX        UAL        ULTA    USB  \\\n",
       "Date                           ...                                        \n",
       "2015-06-15  102.97  88.769997  ...  28.28  52.250000  154.570000  31.33   \n",
       "2015-06-16  103.43  89.870000  ...  28.41  51.230000  155.500000  31.47   \n",
       "2015-06-17  103.34  89.870000  ...  28.56  51.320000  155.619995  31.50   \n",
       "2015-06-18  104.25  90.720000  ...  29.19  52.009998  156.479996  31.60   \n",
       "2015-06-19  102.93  90.919998  ...  28.96  53.250000  154.729996  31.50   \n",
       "\n",
       "             VRSK     VRTX     VZ   WELL    WMT    ZTS  \n",
       "Date                                                    \n",
       "2015-06-15  71.00  123.495  28.14  45.35  19.82  45.70  \n",
       "2015-06-16  71.22  123.340  28.39  45.67  19.93  46.11  \n",
       "2015-06-17  71.86  124.045  28.30  45.82  20.04  46.53  \n",
       "2015-06-18  72.37  127.630  28.60  46.26  20.11  46.84  \n",
       "2015-06-19  72.30  128.040  28.41  46.17  20.04  46.60  \n",
       "\n",
       "[5 rows x 95 columns]"
      ]
     },
     "metadata": {},
     "output_type": "display_data"
    }
   ],
   "source": [
    "quotes = load_and_filter_data('data/daily_stock_quotes.csv', screened_tickers, start_date, end_date)\n",
    "quotes = quotes.dropna(axis=1, how='any').dropna(axis=0, how='any')\n",
    "available_tickers = quotes.columns.tolist()\n",
    "\n",
    "print(f\"Available tickers after cleaning: {available_tickers}\")\n",
    "print(f\"Dataset shape after cleaning: {quotes.shape}\")\n",
    "print(f\"Date range: {quotes.index[0]} to {quotes.index[-1]}\")\n",
    "display(quotes.head())"
   ]
  },
  {
   "cell_type": "markdown",
   "metadata": {},
   "source": [
    "### Step 7: Model Building & Validation"
   ]
  },
  {
   "cell_type": "markdown",
   "metadata": {},
   "source": [
    "#### 1: Split Data into Training and Testing Sets"
   ]
  },
  {
   "cell_type": "code",
   "execution_count": 9,
   "metadata": {},
   "outputs": [
    {
     "name": "stdout",
     "output_type": "stream",
     "text": [
      "Training: 2009 rows (80.0%) | Testing: 503 rows (20.0%)\n",
      "Training period: 2015-06-15 00:00:00 to 2023-06-06 00:00:00\n",
      "Testing period: 2023-06-07 00:00:00 to 2025-06-09 00:00:00\n"
     ]
    }
   ],
   "source": [
    "# Split data into 80% training and 20% testing based on date\n",
    "total_rows = len(quotes)\n",
    "train_size = int(0.8 * total_rows)\n",
    "training_set = quotes.iloc[:train_size]\n",
    "test_set = quotes.iloc[train_size:]\n",
    "\n",
    "print(f\"Training: {len(training_set)} rows ({len(training_set)/total_rows:.1%}) | Testing: {len(test_set)} rows ({len(test_set)/total_rows:.1%})\")\n",
    "print(f\"Training period: {training_set.index[0]} to {training_set.index[-1]}\")\n",
    "print(f\"Testing period: {test_set.index[0]} to {test_set.index[-1]}\")"
   ]
  },
  {
   "cell_type": "markdown",
   "metadata": {},
   "source": [
    "#### 2: Find Optimal Strategy -- Training Set\n",
    "- Backtest & Optimize Strategies (Loop through different parameters)\n",
    "- Select Top Stocks ***(by Sharpe Ratio)***"
   ]
  },
  {
   "cell_type": "code",
   "execution_count": 10,
   "metadata": {},
   "outputs": [],
   "source": [
    "max_stocks = 2\n",
    "\n",
    "# Define custom parameter iterations\n",
    "custom_parameter_iterations = [\n",
    "    {'name': 'Aggressive', 'ranges': {'SMA_Cross_Signal': {'short_periods': [10, 15, 20], 'long_periods': [50, 75, 100]}, 'EMA_Cross_Signal': {'short_periods': [8, 12, 16], 'long_periods': [25, 35, 45]}}},\n",
    "    {'name': 'Conservative', 'ranges': {'SMA_Cross_Signal': {'short_periods': [20, 30, 40, 50], 'long_periods': [100, 120, 140, 160]}, 'EMA_Cross_Signal': {'short_periods': [12, 20, 26], 'long_periods': [50, 60, 70]}}},\n",
    "    {'name': 'Ultra-Conservative', 'ranges': {'SMA_Cross_Signal': {'short_periods': [20, 50], 'long_periods': [100, 150]}, 'EMA_Cross_Signal': {'short_periods': [12, 26], 'long_periods': [50, 70]}}}\n",
    "]"
   ]
  },
  {
   "cell_type": "code",
   "execution_count": 11,
   "metadata": {},
   "outputs": [
    {
     "name": "stdout",
     "output_type": "stream",
     "text": [
      "🎯 ENHANCED STRATEGY SELECTION WITH STOCK ROTATION & OVERFITTING PROTECTION\n",
      "================================================================================\n",
      "📊 Available tickers: ['ABT', 'ACN', 'ADI', 'ADSK', 'AES', 'AKAM', 'ALB', 'ALL', 'AMP', 'ANSS', 'AON', 'APTV', 'ATO', 'AWK', 'AZO', 'BAC', 'BIIB', 'BK', 'BKNG', 'CAG', 'CDNS', 'CL', 'CLX', 'CMCSA', 'CME', 'CMS', 'CNC', 'COO', 'COP', 'COR', 'COST', 'CSCO', 'CTAS', 'CTSH', 'CVS', 'DOC', 'DTE', 'EMR', 'ESS', 'ETN', 'FOX', 'FRT', 'FSLR', 'GEN', 'GOOGL', 'GPC', 'GRMN', 'HAL', 'HCA', 'HD', 'HII', 'HWM', 'IFF', 'INTU', 'ISRG', 'JNJ', 'KEYS', 'LDOS', 'MCHP', 'MCK', 'MCO', 'MMM', 'MOH', 'MOS', 'MSCI', 'MSFT', 'MTCH', 'NEE', 'NEM', 'NOW', 'NTAP', 'NXPI', 'OKE', 'PANW', 'PEG', 'PLD', 'PODD', 'RCL', 'RF', 'RTX', 'SLB', 'SNPS', 'STLD', 'STX', 'SYF', 'TJX', 'UAL', 'ULTA', 'USB', 'VRSK', 'VRTX', 'VZ', 'WELL', 'WMT', 'ZTS']\n",
      "Creating combinations of 2 stocks...\n",
      "Testing 20 random combinations out of 4465 possible\n",
      "\n",
      "🔄 STOCK COMBINATION 1/20: ['AON', 'COP']\n",
      "------------------------------------------------------------\n",
      "  🔄 ITERATION 1: Aggressive Parameters\n"
     ]
    },
    {
     "name": "stdout",
     "output_type": "stream",
     "text": [
      "    ⚠️ No optimization results in iteration 1\n",
      "  🔄 ITERATION 2: Conservative Parameters\n",
      "🔍 Running Overfitting Analysis...\n",
      "==================================================\n",
      "📊 SUMMARY STATISTICS\n",
      "Strategies tested: 1\n",
      "In-sample mean Sharpe: 0.253\n",
      "Out-sample mean Sharpe: -0.425\n",
      "In-sample mean Sortino: 0.324\n",
      "Out-sample mean Sortino: -0.567\n",
      "\n",
      "📈 STATISTICAL TEST RESULTS\n",
      "Sharpe t-statistic: 44.478\n",
      "Sharpe p-value: 0.007\n",
      "Sortino t-statistic: 21.410\n",
      "Sortino p-value: 0.015\n",
      "\n",
      "🎯 OVERFITTING STATUS: DETECTED\n",
      "   ⚠️ Sharpe ratio shows significant degradation (p=0.007)\n",
      "   ⚠️ Sortino ratio shows significant degradation (p=0.015)\n",
      "\n",
      "💡 RECOMMENDATIONS:\n",
      "  ⚠️ OVERFITTING DETECTED: The strategy shows significant performance degradation from in-sample to out-of-sample testing.\n",
      "  📉 Severe Sharpe ratio degradation (268.2%). Consider simplifying the strategy or using fewer parameters.\n",
      "  🔄 Recommended actions:\n",
      "  • Use walk-forward optimization\n",
      "  • Reduce parameter search space\n",
      "  • Implement parameter stability constraints\n",
      "  • Consider ensemble methods\n",
      "  • Increase out-of-sample period\n",
      "\n",
      "📋 DETAILED TICKER ANALYSIS:\n",
      "\n",
      "AON:\n",
      "  In-sample Sharpe: 0.244\n",
      "  Out-sample Sharpe: -0.425\n",
      "  Degradation: 274.3%\n",
      "  Strategy: SMA_Cross_Signal\n",
      "  Periods: 50/160\n",
      "    📊 Holdout Test: ❌ OVERFITTED (p=0.007)\n",
      "    ❌ Failed holdout test - trying simpler parameters...\n",
      "  🔄 ITERATION 3: Ultra-Conservative Parameters\n",
      "🔍 Running Overfitting Analysis...\n",
      "==================================================\n",
      "📊 SUMMARY STATISTICS\n",
      "Strategies tested: 1\n",
      "In-sample mean Sharpe: 0.223\n",
      "Out-sample mean Sharpe: -0.183\n",
      "In-sample mean Sortino: 0.288\n",
      "Out-sample mean Sortino: -0.242\n",
      "\n",
      "📈 STATISTICAL TEST RESULTS\n",
      "Sharpe t-statistic: 6.105\n",
      "Sharpe p-value: 0.052\n",
      "Sortino t-statistic: 5.095\n",
      "Sortino p-value: 0.062\n",
      "\n",
      "🎯 OVERFITTING STATUS: NOT DETECTED\n",
      "   ✅ Sharpe ratio degradation not significant (p=0.052)\n",
      "   ✅ Sortino ratio degradation not significant (p=0.062)\n",
      "\n",
      "💡 RECOMMENDATIONS:\n",
      "  ✅ NO SIGNIFICANT OVERFITTING: The strategy maintains reasonable performance from in-sample to out-of-sample testing.\n",
      "  💡 Continue monitoring:\n",
      "  • Track performance over time\n",
      "  • Consider additional validation periods\n",
      "  • Monitor parameter stability\n",
      "\n",
      "📋 DETAILED TICKER ANALYSIS:\n",
      "\n",
      "AON:\n",
      "  In-sample Sharpe: 0.185\n",
      "  Out-sample Sharpe: -0.183\n",
      "  Degradation: 199.0%\n",
      "  Strategy: SMA_Cross_Signal\n",
      "  Periods: 50/150\n",
      "    📊 Holdout Test: ✅ STABLE (p=0.052)\n",
      "    🔄 Running walk-forward validation...\n",
      "\n",
      "🔄 Running walk-forward validation with 3 periods...\n",
      "   Period 1: Train 2015-06-15 00:00:00 to 2022-02-03 00:00:00\n",
      "   Period 1: Test 2022-02-04 00:00:00 to 2025-06-06 00:00:00\n",
      "🔍 Running Overfitting Analysis...\n",
      "==================================================\n",
      "📊 SUMMARY STATISTICS\n",
      "Strategies tested: 1\n",
      "In-sample mean Sharpe: 0.451\n",
      "Out-sample mean Sharpe: -0.028\n",
      "In-sample mean Sortino: 0.566\n",
      "Out-sample mean Sortino: -0.038\n",
      "\n",
      "📈 STATISTICAL TEST RESULTS\n",
      "Sharpe t-statistic: 2.274\n",
      "Sharpe p-value: 0.132\n",
      "Sortino t-statistic: 2.649\n",
      "Sortino p-value: 0.115\n",
      "\n",
      "🎯 OVERFITTING STATUS: NOT DETECTED\n",
      "   ✅ Sharpe ratio degradation not significant (p=0.132)\n",
      "   ✅ Sortino ratio degradation not significant (p=0.115)\n",
      "\n",
      "💡 RECOMMENDATIONS:\n",
      "  ✅ NO SIGNIFICANT OVERFITTING: The strategy maintains reasonable performance from in-sample to out-of-sample testing.\n",
      "  💡 Continue monitoring:\n",
      "  • Track performance over time\n",
      "  • Consider additional validation periods\n",
      "  • Monitor parameter stability\n",
      "\n",
      "📋 DETAILED TICKER ANALYSIS:\n",
      "\n",
      "AON:\n",
      "  In-sample Sharpe: 0.572\n",
      "  Out-sample Sharpe: -0.028\n",
      "  Degradation: 104.9%\n",
      "  Strategy: SMA_Cross_Signal\n",
      "  Periods: 50/150\n",
      "   Period 2: Train 2018-10-09 00:00:00 to 2025-06-06 00:00:00\n",
      "   Period 2: Test 2025-06-09 00:00:00 to 2025-06-09 00:00:00\n",
      "   ⚠️ No optimization results for period 2\n",
      "    📈 Walk-Forward Stability: 1/2 (50.0%)\n",
      "    📈 New best overall stability ratio: 50.0%\n",
      "  📊 Best for ('AON', 'COP'): 50.0% stability (Ultra-Conservative)\n",
      "\n",
      "🔄 STOCK COMBINATION 2/20: ['ADI', 'CDNS']\n",
      "------------------------------------------------------------\n",
      "  🔄 ITERATION 1: Aggressive Parameters\n",
      "    ⚠️ No optimization results in iteration 1\n",
      "  🔄 ITERATION 2: Conservative Parameters\n",
      "    ⚠️ No optimization results in iteration 2\n",
      "  🔄 ITERATION 3: Ultra-Conservative Parameters\n",
      "    ⚠️ No optimization results in iteration 3\n",
      "  📊 No stable strategy found for ('ADI', 'CDNS')\n",
      "\n",
      "🔄 STOCK COMBINATION 3/20: ['COO', 'ZTS']\n",
      "------------------------------------------------------------\n",
      "  🔄 ITERATION 1: Aggressive Parameters\n",
      "🔍 Running Overfitting Analysis...\n",
      "==================================================\n",
      "📊 SUMMARY STATISTICS\n",
      "Strategies tested: 1\n",
      "In-sample mean Sharpe: 0.211\n",
      "Out-sample mean Sharpe: -0.500\n",
      "In-sample mean Sortino: 0.290\n",
      "Out-sample mean Sortino: -0.675\n",
      "\n",
      "📈 STATISTICAL TEST RESULTS\n",
      "Sharpe t-statistic: 2.228\n",
      "Sharpe p-value: 0.134\n",
      "Sortino t-statistic: 2.202\n",
      "Sortino p-value: 0.136\n",
      "\n",
      "🎯 OVERFITTING STATUS: NOT DETECTED\n",
      "   ✅ Sharpe ratio degradation not significant (p=0.134)\n",
      "   ✅ Sortino ratio degradation not significant (p=0.136)\n",
      "\n",
      "💡 RECOMMENDATIONS:\n",
      "  ✅ NO SIGNIFICANT OVERFITTING: The strategy maintains reasonable performance from in-sample to out-of-sample testing.\n",
      "  💡 Continue monitoring:\n",
      "  • Track performance over time\n",
      "  • Consider additional validation periods\n",
      "  • Monitor parameter stability\n",
      "\n",
      "📋 DETAILED TICKER ANALYSIS:\n",
      "\n",
      "ZTS:\n",
      "  In-sample Sharpe: 0.026\n",
      "  Out-sample Sharpe: -0.500\n",
      "  Degradation: 1993.2%\n",
      "  Strategy: SMA_Cross_Signal\n",
      "  Periods: 10/50\n",
      "    📊 Holdout Test: ✅ STABLE (p=0.134)\n",
      "    🔄 Running walk-forward validation...\n",
      "\n",
      "🔄 Running walk-forward validation with 3 periods...\n",
      "   Period 1: Train 2015-06-15 00:00:00 to 2022-02-03 00:00:00\n",
      "   Period 1: Test 2022-02-04 00:00:00 to 2025-06-06 00:00:00\n",
      "🔍 Running Overfitting Analysis...\n",
      "==================================================\n",
      "📊 SUMMARY STATISTICS\n",
      "Strategies tested: 1\n",
      "In-sample mean Sharpe: 0.307\n",
      "Out-sample mean Sharpe: -0.295\n",
      "In-sample mean Sortino: 0.407\n",
      "Out-sample mean Sortino: -0.445\n",
      "\n",
      "📈 STATISTICAL TEST RESULTS\n",
      "Sharpe t-statistic: 1.521\n",
      "Sharpe p-value: 0.185\n",
      "Sortino t-statistic: 1.646\n",
      "Sortino p-value: 0.174\n",
      "\n",
      "🎯 OVERFITTING STATUS: NOT DETECTED\n",
      "   ✅ Sharpe ratio degradation not significant (p=0.185)\n",
      "   ✅ Sortino ratio degradation not significant (p=0.174)\n",
      "\n",
      "💡 RECOMMENDATIONS:\n",
      "  ✅ NO SIGNIFICANT OVERFITTING: The strategy maintains reasonable performance from in-sample to out-of-sample testing.\n",
      "  💡 Continue monitoring:\n",
      "  • Track performance over time\n",
      "  • Consider additional validation periods\n",
      "  • Monitor parameter stability\n",
      "\n",
      "📋 DETAILED TICKER ANALYSIS:\n",
      "\n",
      "ZTS:\n",
      "  In-sample Sharpe: 0.079\n",
      "  Out-sample Sharpe: -0.295\n",
      "  Degradation: 475.5%\n",
      "  Strategy: SMA_Cross_Signal\n",
      "  Periods: 10/50\n",
      "   Period 2: Train 2018-10-09 00:00:00 to 2025-06-06 00:00:00\n",
      "   Period 2: Test 2025-06-09 00:00:00 to 2025-06-09 00:00:00\n",
      "🔍 Running Overfitting Analysis...\n",
      "==================================================\n",
      "⚠️ Insufficient test data for ZTS (1 rows)\n",
      "⚠️ Insufficient test data for COO (1 rows)\n",
      "📊 SUMMARY STATISTICS\n",
      "Strategies tested: 2\n",
      "In-sample mean Sharpe: 0.271\n",
      "Out-sample mean Sharpe: 0.000\n",
      "In-sample mean Sortino: 0.389\n",
      "Out-sample mean Sortino: 0.000\n",
      "\n",
      "📈 STATISTICAL TEST RESULTS\n",
      "Sharpe t-statistic: 0.000\n",
      "Sharpe p-value: 1.000\n",
      "Sortino t-statistic: 0.000\n",
      "Sortino p-value: 1.000\n",
      "\n",
      "🎯 OVERFITTING STATUS: NOT DETECTED\n",
      "   ✅ Sharpe ratio degradation not significant (p=1.000)\n",
      "   ✅ Sortino ratio degradation not significant (p=1.000)\n",
      "\n",
      "💡 RECOMMENDATIONS:\n",
      "  ✅ NO SIGNIFICANT OVERFITTING: The strategy maintains reasonable performance from in-sample to out-of-sample testing.\n",
      "  💡 Continue monitoring:\n",
      "  • Track performance over time\n",
      "  • Consider additional validation periods\n",
      "  • Monitor parameter stability\n",
      "\n",
      "📋 DETAILED TICKER ANALYSIS:\n",
      "  No detailed results available\n",
      "    📈 Walk-Forward Stability: 2/2 (100.0%)\n",
      "    ✅ STRATEGY VALIDATION PASSED!\n",
      "\n",
      "✅ FINAL STRATEGY SELECTED:\n",
      "Stock combination tested: ['COO', 'ZTS']\n",
      "Selected tickers: ['ZTS']\n",
      "Validation status: PASSED\n",
      "Stability ratio: 100.0%\n",
      "Overfitting p-value: 0.1343\n",
      "Parameter configuration: Aggressive\n"
     ]
    },
    {
     "data": {
      "application/vnd.microsoft.datawrangler.viewer.v0+json": {
       "columns": [
        {
         "name": "index",
         "rawType": "int64",
         "type": "integer"
        },
        {
         "name": "Ticker",
         "rawType": "object",
         "type": "string"
        },
        {
         "name": "Strategy",
         "rawType": "object",
         "type": "string"
        },
        {
         "name": "Best_Sharpe",
         "rawType": "float64",
         "type": "float"
        },
        {
         "name": "Best_Sortino",
         "rawType": "float64",
         "type": "float"
        },
        {
         "name": "CAGR",
         "rawType": "float64",
         "type": "float"
        },
        {
         "name": "Max_Drawdown",
         "rawType": "float64",
         "type": "float"
        },
        {
         "name": "Volatility",
         "rawType": "float64",
         "type": "float"
        },
        {
         "name": "Short_Period",
         "rawType": "int64",
         "type": "integer"
        },
        {
         "name": "Long_Period",
         "rawType": "int64",
         "type": "integer"
        }
       ],
       "ref": "66136911-8518-43f9-b5f6-a150ec777a83",
       "rows": [
        [
         "0",
         "ZTS",
         "SMA_Cross_Signal",
         "0.39506428145473843",
         "0.5430734823898091",
         "0.07091572022491222",
         "-0.3513538417235008",
         "0.25691096702077904",
         "10",
         "50"
        ]
       ],
       "shape": {
        "columns": 9,
        "rows": 1
       }
      },
      "text/html": [
       "<div>\n",
       "<style scoped>\n",
       "    .dataframe tbody tr th:only-of-type {\n",
       "        vertical-align: middle;\n",
       "    }\n",
       "\n",
       "    .dataframe tbody tr th {\n",
       "        vertical-align: top;\n",
       "    }\n",
       "\n",
       "    .dataframe thead th {\n",
       "        text-align: right;\n",
       "    }\n",
       "</style>\n",
       "<table border=\"1\" class=\"dataframe\">\n",
       "  <thead>\n",
       "    <tr style=\"text-align: right;\">\n",
       "      <th></th>\n",
       "      <th>Ticker</th>\n",
       "      <th>Strategy</th>\n",
       "      <th>Best_Sharpe</th>\n",
       "      <th>Best_Sortino</th>\n",
       "      <th>CAGR</th>\n",
       "      <th>Max_Drawdown</th>\n",
       "      <th>Volatility</th>\n",
       "      <th>Short_Period</th>\n",
       "      <th>Long_Period</th>\n",
       "    </tr>\n",
       "  </thead>\n",
       "  <tbody>\n",
       "    <tr>\n",
       "      <th>0</th>\n",
       "      <td>ZTS</td>\n",
       "      <td>SMA_Cross_Signal</td>\n",
       "      <td>0.395064</td>\n",
       "      <td>0.543073</td>\n",
       "      <td>0.070916</td>\n",
       "      <td>-0.351354</td>\n",
       "      <td>0.256911</td>\n",
       "      <td>10</td>\n",
       "      <td>50</td>\n",
       "    </tr>\n",
       "  </tbody>\n",
       "</table>\n",
       "</div>"
      ],
      "text/plain": [
       "  Ticker          Strategy  Best_Sharpe  Best_Sortino      CAGR  Max_Drawdown  \\\n",
       "0    ZTS  SMA_Cross_Signal     0.395064      0.543073  0.070916     -0.351354   \n",
       "\n",
       "   Volatility  Short_Period  Long_Period  \n",
       "0    0.256911            10           50  "
      ]
     },
     "metadata": {},
     "output_type": "display_data"
    },
    {
     "data": {
      "image/png": "[encoded data removed]",
      "text/plain": [
       "<Figure size 1200x800 with 2 Axes>"
      ]
     },
     "metadata": {},
     "output_type": "display_data"
    },
    {
     "name": "stdout",
     "output_type": "stream",
     "text": [
      "\n",
      "🎯 FINAL SELECTION: ['ZTS'] | Validation: ✅ PASSED\n"
     ]
    }
   ],
   "source": [
    "from py.technical_analysis import find_optimal_portfolio_with_parameter_optimization, find_robust_strategies_with_stock_rotation, walk_forward_validation, run_overfitting_analysis, plot_optimization_heatmaps\n",
    "\n",
    "robust_strategy_results = find_robust_strategies_with_stock_rotation(quotes, available_tickers, max_iterations=4, target_stocks=max_stocks, parameter_iterations=custom_parameter_iterations)\n",
    "\n",
    "if robust_strategy_results:\n",
    "    optimization_results, overfitting_analysis, stability_ratio, validation_status, stock_combination = robust_strategy_results['optimization_results'], robust_strategy_results.get('overfitting_analysis'), robust_strategy_results.get('stability_ratio', 0.5), robust_strategy_results['validation_status'], robust_strategy_results['stock_combination']\n",
    "    optimization_summary, portfolio_stats, selected_tickers = optimization_results['optimization_summary'], optimization_results.get('portfolio_stats', {}), optimization_results['selected_tickers']\n",
    "    is_overfitted, sharpe_p_value = (overfitting_analysis['statistical_tests'].get('is_overfitted', False), overfitting_analysis['statistical_tests'].get('sharpe_p_value', 1.0)) if overfitting_analysis else (False, 0.1)\n",
    "    print(f\"\\n✅ FINAL STRATEGY SELECTED:\\nStock combination tested: {stock_combination}\\nSelected tickers: {selected_tickers}\\nValidation status: {validation_status}\\nStability ratio: {stability_ratio:.1%}\\nOverfitting p-value: {sharpe_p_value:.4f}\\nParameter configuration: {robust_strategy_results.get('parameter_config', 'N/A')}\")\n",
    "    display(optimization_summary)\n",
    "    try: plot_optimization_heatmaps(optimization_results, metric='sharpe')\n",
    "    except Exception as e: print(f\"Could not plot heatmaps: {e}\")\n",
    "else:\n",
    "    best_single_stock, best_single_stability = None, 0\n",
    "    print(\"❌ NO ROBUST STRATEGY FOUND - TRYING SINGLE-STOCK FALLBACK...\")\n",
    "    for ticker in available_tickers[:10]:\n",
    "        try:\n",
    "            single_quotes = quotes[[ticker]].dropna()\n",
    "            if len(single_quotes) < 500: continue\n",
    "            minimal_params = {'SMA_Cross_Signal': {'short_periods': [20], 'long_periods': [100]}}\n",
    "            train_size = int(0.8 * len(single_quotes))\n",
    "            training_set, test_set = single_quotes.iloc[:train_size], single_quotes.iloc[train_size:]\n",
    "            optimization_results = find_optimal_portfolio_with_parameter_optimization(quotes=training_set, max_stocks=1, n_jobs=2, heatmap_metric='sharpe', parameter_ranges=minimal_params)\n",
    "            overfitting_analysis = run_overfitting_analysis(optimization_results, test_set)\n",
    "            is_overfitted = overfitting_analysis['statistical_tests'].get('is_overfitted', True) if overfitting_analysis and 'statistical_tests' in overfitting_analysis else True\n",
    "            if not is_overfitted:\n",
    "                wf_results = walk_forward_validation(single_quotes, minimal_params, validation_periods=3)\n",
    "                stability_ratio = sum(1 for result in wf_results if not result.get('is_overfitted', True)) / len(wf_results) if wf_results else 0\n",
    "                print(f\"Testing {ticker}: {'✅ STABLE' if not is_overfitted else '❌ OVERFITTED'} | Stability: {stability_ratio:.1%}\")\n",
    "                if stability_ratio > best_single_stability:\n",
    "                    best_single_stock = {'ticker': ticker, 'optimization_results': optimization_results, 'overfitting_analysis': overfitting_analysis, 'stability_ratio': stability_ratio}\n",
    "                    best_single_stability = stability_ratio\n",
    "            else: print(f\"Testing {ticker}: ❌ OVERFITTED\")\n",
    "        except Exception as e: print(f\"Testing {ticker}: Error - {e}\")\n",
    "    \n",
    "    if best_single_stock and best_single_stability >= 0.5:\n",
    "        print(f\"\\n✅ FALLBACK SINGLE-STOCK STRATEGY: {best_single_stock['ticker']} | Stability: {best_single_stability:.1%}\")\n",
    "        optimization_results, overfitting_analysis, optimization_summary, selected_tickers, is_overfitted, sharpe_p_value, stability_ratio = best_single_stock['optimization_results'], best_single_stock['overfitting_analysis'], best_single_stock['optimization_results']['optimization_summary'], [best_single_stock['ticker']], False, best_single_stock['overfitting_analysis']['statistical_tests'].get('sharpe_p_value', 1.0), best_single_stability\n",
    "        display(optimization_summary)\n",
    "    else:\n",
    "        print(\"❌ NO VIABLE STRATEGIES FOUND\")\n",
    "        selected_tickers, is_overfitted, sharpe_p_value, stability_ratio = available_tickers[:2] if len(available_tickers) >= 2 else available_tickers, True, 0.001, 0.0\n",
    "\n",
    "print(f\"\\n🎯 FINAL SELECTION: {selected_tickers} | Validation: {'✅ PASSED' if not is_overfitted and stability_ratio >= 0.5 else '⚠️ BEST EFFORT'}\")"
   ]
  },
  {
   "cell_type": "markdown",
   "metadata": {},
   "source": [
    "#### 3: Test the Strategy -- Testing Set"
   ]
  },
  {
   "cell_type": "code",
   "execution_count": 12,
   "metadata": {},
   "outputs": [
    {
     "data": {
      "image/png": "[encoded data removed]",
      "text/plain": [
       "<Figure size 800x600 with 1 Axes>"
      ]
     },
     "metadata": {},
     "output_type": "display_data"
    },
    {
     "data": {
      "image/png": "[encoded data removed]",
      "text/plain": [
       "<Figure size 800x1200 with 3 Axes>"
      ]
     },
     "metadata": {},
     "output_type": "display_data"
    },
    {
     "name": "stdout",
     "output_type": "stream",
     "text": [
      "Selected tickers: ['ZTS']\n",
      "Test set date range: 2023-06-07 00:00:00 to 2025-06-09 00:00:00\n",
      "Portfolio test data shape: (503, 1)\n",
      "Portfolio test data date range: 2023-06-07 00:00:00 to 2025-06-09 00:00:00\n",
      "Final weights: {'ZTS': 1.0}\n"
     ]
    },
    {
     "name": "stderr",
     "output_type": "stream",
     "text": [
      "100%|██████████| 1/1 [00:00<00:00,  9.10it/s]"
     ]
    },
    {
     "name": "stdout",
     "output_type": "stream",
     "text": [
      "Stat                 Short-Term Strategy\n",
      "-------------------  ---------------------\n",
      "Start                2023-06-06\n",
      "End                  2025-06-09\n",
      "Risk-free rate       4.24%\n",
      "\n",
      "Total Return         2.75%\n",
      "Daily Sharpe         0.02\n",
      "Daily Sortino        0.04\n",
      "CAGR                 1.36%\n",
      "Max Drawdown         -27.00%\n",
      "Calmar Ratio         0.05\n",
      "\n",
      "MTD                  -2.38%\n",
      "3m                   -3.06%\n",
      "6m                   -7.01%\n",
      "YTD                  1.68%\n",
      "1Y                   -5.91%\n",
      "3Y (ann.)            1.36%\n",
      "5Y (ann.)            -\n",
      "10Y (ann.)           -\n",
      "Since Incep. (ann.)  1.36%\n",
      "\n",
      "Daily Sharpe         0.02\n",
      "Daily Sortino        0.04\n",
      "Daily Mean (ann.)    4.77%\n",
      "Daily Vol (ann.)     26.13%\n",
      "Daily Skew           -0.06\n",
      "Daily Kurt           3.26\n",
      "Best Day             6.93%\n",
      "Worst Day            -7.83%\n",
      "\n",
      "Monthly Sharpe       -0.09\n",
      "Monthly Sortino      -0.16\n",
      "Monthly Mean (ann.)  1.82%\n",
      "Monthly Vol (ann.)   25.08%\n",
      "Monthly Skew         -0.09\n",
      "Monthly Kurt         -0.75\n",
      "Best Month           12.53%\n",
      "Worst Month          -14.68%\n",
      "\n",
      "Yearly Sharpe        -0.90\n",
      "Yearly Sortino       -0.90\n",
      "Yearly Mean          -7.48%\n",
      "Yearly Vol           12.95%\n",
      "Yearly Skew          -\n",
      "Yearly Kurt          -\n",
      "Best Year            1.68%\n",
      "Worst Year           -16.63%\n",
      "\n",
      "Avg. Drawdown        -8.68%\n",
      "Avg. Drawdown Days   89.25\n",
      "Avg. Up Month        6.24%\n",
      "Avg. Down Month      -5.93%\n",
      "Win Year %           50.00%\n",
      "Win 12m %            28.57%\n"
     ]
    },
    {
     "name": "stderr",
     "output_type": "stream",
     "text": [
      "\n"
     ]
    },
    {
     "data": {
      "text/plain": [
       "<Axes: title={'center': 'Portfolio Performance on Test Set'}>"
      ]
     },
     "execution_count": 12,
     "metadata": {},
     "output_type": "execute_result"
    },
    {
     "data": {
      "image/png": "[encoded data removed]",
      "text/plain": [
       "<Figure size 800x600 with 1 Axes>"
      ]
     },
     "metadata": {},
     "output_type": "display_data"
    },
    {
     "data": {
      "image/png": "[encoded data removed]",
      "text/plain": [
       "<Figure size 1000x600 with 1 Axes>"
      ]
     },
     "metadata": {},
     "output_type": "display_data"
    }
   ],
   "source": [
    "from py.technical_analysis import plot_portfolio_performance, plot_complete_strategy_analysis\n",
    "\n",
    "# Generate and plot complete strategy analysis\n",
    "plot_complete_strategy_analysis(optimization_results, quotes, training_set, test_set, cols=1)\n",
    "plot_portfolio_performance(optimization_summary, cols=1, rows=2)\n",
    "\n",
    "# Create portfolio weights and run backtest\n",
    "portfolio_weights = optimization_results['portfolio_weights']\n",
    "selected_tickers = optimization_results['selected_tickers']\n",
    "\n",
    "print(f\"Selected tickers: {selected_tickers}\")\n",
    "print(f\"Test set date range: {test_set.index[0]} to {test_set.index[-1]}\")\n",
    "\n",
    "# Create a subset of quotes for selected tickers\n",
    "portfolio_quotes = quotes[selected_tickers].dropna()\n",
    "portfolio_test_data = portfolio_quotes.loc[test_set.index]\n",
    "\n",
    "print(f\"Portfolio test data shape: {portfolio_test_data.shape}\")\n",
    "print(f\"Portfolio test data date range: {portfolio_test_data.index[0]} to {portfolio_test_data.index[-1]}\")\n",
    "\n",
    "# Handle portfolio_weights properly\n",
    "if isinstance(portfolio_weights, pd.DataFrame):\n",
    "    if len(portfolio_weights) == len(selected_tickers):\n",
    "        weights_dict = {ticker: portfolio_weights.iloc[i, 0] for i, ticker in enumerate(selected_tickers)}\n",
    "    else:\n",
    "        weights_dict = {ticker: 1.0/len(selected_tickers) for ticker in selected_tickers}\n",
    "elif isinstance(portfolio_weights, dict):\n",
    "    weights_dict = {ticker: portfolio_weights.get(ticker, 1.0/len(selected_tickers)) for ticker in selected_tickers}\n",
    "else:\n",
    "    weights_dict = {ticker: 1.0/len(selected_tickers) for ticker in selected_tickers}\n",
    "\n",
    "# Normalize weights to sum to 1\n",
    "total_weight = sum(weights_dict.values())\n",
    "if total_weight > 0:\n",
    "    weights_dict = {k: v/total_weight for k, v in weights_dict.items()}\n",
    "\n",
    "print(f\"Final weights: {weights_dict}\")\n",
    "\n",
    "# Create and run portfolio backtest\n",
    "portfolio_strategy = bt.Strategy('Short-Term Strategy', \n",
    "                 [\n",
    "                     bt.algos.RunWeekly(),                 \n",
    "                     bt.algos.SelectAll(),\n",
    "                     bt.algos.WeighSpecified(**weights_dict),       \n",
    "                     bt.algos.Rebalance()\n",
    "                 ]\n",
    "             )     \n",
    "\n",
    "# Run backtest on the filtered test data\n",
    "portfolio_backtest = bt.Backtest(portfolio_strategy, portfolio_test_data)\n",
    "portfolio_result = bt.run(portfolio_backtest)\n",
    "\n",
    "# Set risk-free rate\n",
    "portfolio_result.set_riskfree_rate(risk_free_rate)\n",
    "\n",
    "# Display results\n",
    "portfolio_result.plot_security_weights(\n",
    "    figsize=(8, 6),\n",
    "    title='Portfolio Weights Over Time'\n",
    ")\n",
    "\n",
    "portfolio_result.display()\n",
    "portfolio_result.plot(figsize=(10, 6), title='Portfolio Performance on Test Set')"
   ]
  },
  {
   "cell_type": "markdown",
   "metadata": {},
   "source": [
    "#### 4: Statistical Test for Overfitting"
   ]
  },
  {
   "cell_type": "code",
   "execution_count": 13,
   "metadata": {},
   "outputs": [
    {
     "name": "stdout",
     "output_type": "stream",
     "text": [
      "🔍 Analyzing Strategy for Overfitting...\n",
      "🔍 Running Overfitting Analysis...\n",
      "==================================================\n",
      "📊 SUMMARY STATISTICS\n",
      "Strategies tested: 1\n",
      "In-sample mean Sharpe: 0.211\n",
      "Out-sample mean Sharpe: -0.500\n",
      "In-sample mean Sortino: 0.290\n",
      "Out-sample mean Sortino: -0.675\n",
      "\n",
      "📈 STATISTICAL TEST RESULTS\n",
      "Sharpe t-statistic: 2.228\n",
      "Sharpe p-value: 0.134\n",
      "Sortino t-statistic: 2.202\n",
      "Sortino p-value: 0.136\n",
      "\n",
      "🎯 OVERFITTING STATUS: NOT DETECTED\n",
      "   ✅ Sharpe ratio degradation not significant (p=0.134)\n",
      "   ✅ Sortino ratio degradation not significant (p=0.136)\n",
      "\n",
      "💡 RECOMMENDATIONS:\n",
      "  ✅ NO SIGNIFICANT OVERFITTING: The strategy maintains reasonable performance from in-sample to out-of-sample testing.\n",
      "  💡 Continue monitoring:\n",
      "  • Track performance over time\n",
      "  • Consider additional validation periods\n",
      "  • Monitor parameter stability\n",
      "\n",
      "📋 DETAILED TICKER ANALYSIS:\n",
      "\n",
      "ZTS:\n",
      "  In-sample Sharpe: 0.026\n",
      "  Out-sample Sharpe: -0.500\n",
      "  Degradation: 1993.2%\n",
      "  Strategy: SMA_Cross_Signal\n",
      "  Periods: 10/50\n",
      "\n",
      "✅ Good news: No significant overfitting detected (p-value: 0.1343)\n",
      "Strategy appears robust for out-of-sample performance.\n"
     ]
    }
   ],
   "source": [
    "from py.technical_analysis import run_overfitting_analysis\n",
    "\n",
    "# Run comprehensive overfitting analysis\n",
    "print(\"🔍 Analyzing Strategy for Overfitting...\")\n",
    "overfitting_analysis = run_overfitting_analysis(optimization_results, test_set)\n",
    "\n",
    "# Extract key results\n",
    "is_overfitted = overfitting_analysis['statistical_tests'].get('is_overfitted', False)\n",
    "sharpe_p_value = overfitting_analysis['statistical_tests'].get('sharpe_p_value', 1.0)\n",
    "\n",
    "if is_overfitted:\n",
    "    print(f\"\\n⚠️ WARNING: Strategy may be overfitted (p-value: {sharpe_p_value:.4f})\")\n",
    "    print(\"Consider implementing the recommended improvements before deploying.\")\n",
    "else:\n",
    "    print(f\"\\n✅ Good news: No significant overfitting detected (p-value: {sharpe_p_value:.4f})\")\n",
    "    print(\"Strategy appears robust for out-of-sample performance.\")"
   ]
  },
  {
   "cell_type": "markdown",
   "metadata": {},
   "source": [
    "#### 5: Additional Walk-Forward Validation Check"
   ]
  },
  {
   "cell_type": "code",
   "execution_count": 14,
   "metadata": {},
   "outputs": [
    {
     "name": "stdout",
     "output_type": "stream",
     "text": [
      "\n",
      "✅ Skipping walk-forward validation - no overfitting detected\n",
      "\n",
      "============================================================\n",
      "📋 FINAL STRATEGY VALIDATION SUMMARY\n",
      "============================================================\n",
      "🎯 STRATEGY STATUS: READY FOR DEPLOYMENT\n",
      "✅ Passed overfitting tests (p-value: 0.1343)\n",
      "\n",
      "💡 DEPLOYMENT RECOMMENDATIONS:\n",
      "  ✅ Strategy appears robust\n",
      "  📊 Monitor performance closely\n",
      "  🎯 Consider paper trading first\n",
      "  📈 Set up regular re-optimization\n",
      "  ⚖️ Implement risk management\n",
      "\n",
      "📊 STRATEGY METRICS:\n",
      "Selected tickers: ['ZTS']\n",
      "Portfolio size: 1 stocks\n",
      "Training Sharpe: 0.211\n",
      "Testing Sharpe: -0.500\n",
      "Risk-free rate: 4.240%\n"
     ]
    }
   ],
   "source": [
    "from py.technical_analysis import walk_forward_validation_check\n",
    "\n",
    "# Define parameter ranges (this should match what was used in your optimization)\n",
    "parameter_ranges = {\n",
    "    'SMA_Cross_Signal': {\n",
    "        'short_periods': [10, 15, 20, 30, 40, 50], \n",
    "        'long_periods': [50, 75, 100, 120, 140, 160]\n",
    "    }, \n",
    "    'EMA_Cross_Signal': {\n",
    "        'short_periods': [8, 12, 16, 20, 26], \n",
    "        'long_periods': [25, 35, 45, 50, 60, 70]\n",
    "    }\n",
    "}\n",
    "\n",
    "# Or if you want to use the custom parameter iterations from earlier\n",
    "# Extract parameter ranges from the robust strategy results if available\n",
    "if 'robust_strategy_results' in locals() and robust_strategy_results:\n",
    "    parameter_ranges = robust_strategy_results.get('parameter_config', {\n",
    "        'SMA_Cross_Signal': {'short_periods': [20], 'long_periods': [100]},\n",
    "        'EMA_Cross_Signal': {'short_periods': [12], 'long_periods': [50]}\n",
    "    })\n",
    "else:\n",
    "    # Fallback to simple parameter ranges\n",
    "    parameter_ranges = {\n",
    "        'SMA_Cross_Signal': {'short_periods': [20], 'long_periods': [100]},\n",
    "        'EMA_Cross_Signal': {'short_periods': [12], 'long_periods': [50]}\n",
    "    }\n",
    "\n",
    "# Now run the validation\n",
    "validation_results = walk_forward_validation_check(\n",
    "    quotes_data=quotes,\n",
    "    parameter_ranges=parameter_ranges, \n",
    "    is_overfitted=is_overfitted,\n",
    "    sharpe_p_value=sharpe_p_value,\n",
    "    overfitting_analysis=overfitting_analysis,\n",
    "    selected_tickers=selected_tickers,\n",
    "    risk_free_rate=risk_free_rate,\n",
    "    validation_periods=4\n",
    ")\n",
    "\n",
    "# Access results\n",
    "final_status = validation_results['final_status']\n",
    "stability_ratio = validation_results['stability_ratio'] \n",
    "recommendations = validation_results['recommendations']\n",
    "metrics = validation_results['metrics']"
   ]
  },
  {
   "cell_type": "markdown",
   "metadata": {},
   "source": [
    "### Step 8: Merge Strategy with Fundamental + Sentiment Analysis Data"
   ]
  },
  {
   "cell_type": "code",
   "execution_count": 16,
   "metadata": {},
   "outputs": [
    {
     "name": "stdout",
     "output_type": "stream",
     "text": [
      "Total portfolio weight: 1.000000\n"
     ]
    },
    {
     "data": {
      "application/vnd.microsoft.datawrangler.viewer.v0+json": {
       "columns": [
        {
         "name": "Ticker",
         "rawType": "object",
         "type": "string"
        },
        {
         "name": "Date",
         "rawType": "object",
         "type": "string"
        },
        {
         "name": "Name",
         "rawType": "object",
         "type": "string"
        },
        {
         "name": "Sector",
         "rawType": "object",
         "type": "string"
        },
        {
         "name": "Industry",
         "rawType": "object",
         "type": "string"
        },
        {
         "name": "Country",
         "rawType": "object",
         "type": "string"
        },
        {
         "name": "Website",
         "rawType": "object",
         "type": "string"
        },
        {
         "name": "Market Cap",
         "rawType": "float64",
         "type": "float"
        },
        {
         "name": "Enterprise Value",
         "rawType": "float64",
         "type": "float"
        },
        {
         "name": "Float Shares",
         "rawType": "float64",
         "type": "float"
        },
        {
         "name": "Shares Outstanding",
         "rawType": "float64",
         "type": "float"
        },
        {
         "name": "P/E (Trailing)",
         "rawType": "float64",
         "type": "float"
        },
        {
         "name": "P/E (Forward)",
         "rawType": "float64",
         "type": "float"
        },
        {
         "name": "P/S",
         "rawType": "float64",
         "type": "float"
        },
        {
         "name": "P/B",
         "rawType": "float64",
         "type": "float"
        },
        {
         "name": "EV/Ebitda",
         "rawType": "float64",
         "type": "float"
        },
        {
         "name": "EV/Revenue",
         "rawType": "float64",
         "type": "float"
        },
        {
         "name": "Gross Margin (%)",
         "rawType": "float64",
         "type": "float"
        },
        {
         "name": "Ebitda Margin (%)",
         "rawType": "float64",
         "type": "float"
        },
        {
         "name": "Operating Margin (%)",
         "rawType": "float64",
         "type": "float"
        },
        {
         "name": "Profit Margin (%)",
         "rawType": "float64",
         "type": "float"
        },
        {
         "name": "ROE",
         "rawType": "float64",
         "type": "float"
        },
        {
         "name": "ROA",
         "rawType": "float64",
         "type": "float"
        },
        {
         "name": "Revenue (TTM)",
         "rawType": "float64",
         "type": "float"
        },
        {
         "name": "Revenue Growth (%)",
         "rawType": "float64",
         "type": "float"
        },
        {
         "name": "EPS (Trailing)",
         "rawType": "float64",
         "type": "float"
        },
        {
         "name": "EPS (Forward)",
         "rawType": "float64",
         "type": "float"
        },
        {
         "name": "Earnings Growth (%)",
         "rawType": "float64",
         "type": "float"
        },
        {
         "name": "Earnings Quarterly Growth (%)",
         "rawType": "float64",
         "type": "float"
        },
        {
         "name": "Total Cash",
         "rawType": "float64",
         "type": "float"
        },
        {
         "name": "Total Debt",
         "rawType": "float64",
         "type": "float"
        },
        {
         "name": "Debt To Equity",
         "rawType": "float64",
         "type": "float"
        },
        {
         "name": "Current Ratio",
         "rawType": "float64",
         "type": "float"
        },
        {
         "name": "Quick Ratio",
         "rawType": "float64",
         "type": "float"
        },
        {
         "name": "Book Value",
         "rawType": "float64",
         "type": "float"
        },
        {
         "name": "Free Cash Flow",
         "rawType": "float64",
         "type": "float"
        },
        {
         "name": "Operating Cash Flow",
         "rawType": "float64",
         "type": "float"
        },
        {
         "name": "Dividend Yield (%)",
         "rawType": "float64",
         "type": "float"
        },
        {
         "name": "Dividend Rate (%)",
         "rawType": "float64",
         "type": "float"
        },
        {
         "name": "5Y Avg Dividend Yield (%)",
         "rawType": "float64",
         "type": "float"
        },
        {
         "name": "Payout Ratio (%)",
         "rawType": "float64",
         "type": "float"
        },
        {
         "name": "Price",
         "rawType": "float64",
         "type": "float"
        },
        {
         "name": "Target Price",
         "rawType": "float64",
         "type": "float"
        },
        {
         "name": "Target High",
         "rawType": "float64",
         "type": "float"
        },
        {
         "name": "Target Low",
         "rawType": "float64",
         "type": "float"
        },
        {
         "name": "Analyst Rating",
         "rawType": "object",
         "type": "string"
        },
        {
         "name": "Analyst Rating Value",
         "rawType": "float64",
         "type": "float"
        },
        {
         "name": "Beta",
         "rawType": "float64",
         "type": "float"
        },
        {
         "name": "52W High",
         "rawType": "float64",
         "type": "float"
        },
        {
         "name": "52W Low",
         "rawType": "float64",
         "type": "float"
        },
        {
         "name": "50 Day Avg",
         "rawType": "float64",
         "type": "float"
        },
        {
         "name": "200 Day Avg",
         "rawType": "float64",
         "type": "float"
        },
        {
         "name": "Short Ratio",
         "rawType": "float64",
         "type": "float"
        },
        {
         "name": "Short % Of Float",
         "rawType": "float64",
         "type": "float"
        },
        {
         "name": "Strategy",
         "rawType": "object",
         "type": "string"
        },
        {
         "name": "Best Sharpe",
         "rawType": "float64",
         "type": "float"
        },
        {
         "name": "Best Sortino",
         "rawType": "float64",
         "type": "float"
        },
        {
         "name": "CAGR",
         "rawType": "float64",
         "type": "float"
        },
        {
         "name": "Max Drawdown",
         "rawType": "float64",
         "type": "float"
        },
        {
         "name": "Volatility",
         "rawType": "float64",
         "type": "float"
        },
        {
         "name": "Short Period",
         "rawType": "int64",
         "type": "integer"
        },
        {
         "name": "Long Period",
         "rawType": "int64",
         "type": "integer"
        },
        {
         "name": "Articles In Last Week",
         "rawType": "int64",
         "type": "integer"
        },
        {
         "name": "Company News Score",
         "rawType": "float64",
         "type": "float"
        },
        {
         "name": "Bearish Percent",
         "rawType": "float64",
         "type": "float"
        },
        {
         "name": "Bullish Percent",
         "rawType": "float64",
         "type": "float"
        },
        {
         "name": "Average Sentiment Score",
         "rawType": "float64",
         "type": "float"
        },
        {
         "name": "Sector Average Bullish Percent",
         "rawType": "float64",
         "type": "float"
        },
        {
         "name": "Sector Average News Score",
         "rawType": "float64",
         "type": "float"
        },
        {
         "name": "Weight",
         "rawType": "float64",
         "type": "float"
        }
       ],
       "ref": "7cec9250-30ca-4f7d-a3f1-b12a3c421c2b",
       "rows": [
        [
         "ZTS",
         "2025-06-11",
         "Zoetis Inc.",
         "Healthcare",
         "Drug Manufacturers - Specialty & Generic",
         "United States",
         "https://www.zoetis.com",
         "74111549440.0",
         "79432261632.0",
         "444393322.0",
         "445208000.0",
         "29.46",
         "26.26",
         "7.98",
         "15.95",
         "20.54",
         "8.55",
         "0.7096",
         "0.4164",
         "0.3811",
         "0.2712",
         "0.52",
         "0.15",
         "9285999616.0",
         "0.014",
         "5.65",
         "6.34",
         "0.078",
         "0.053",
         "1740999936.0",
         "6778999808.0",
         "145.63",
         "1.74",
         "0.92",
         "10.44",
         "2299624960.0",
         "2944999936.0",
         "0.0121",
         "0.02",
         "0.0074",
         "0.3224",
         "166.46",
         "194.41",
         "238.0",
         "165.0",
         "buy",
         "1.74",
         "0.94",
         "200.33",
         "139.7",
         "158.35",
         "171.45",
         "3.29",
         "0.02",
         "SMA_Cross_Signal",
         "0.39506428145473843",
         "0.5430734823898091",
         "0.07091572022491222",
         "-0.3513538417235008",
         "0.25691096702077904",
         "10",
         "50",
         "8",
         "0.6218",
         "0.0",
         "0.75",
         "0.2435",
         "0.4686",
         "0.567",
         "1.0"
        ]
       ],
       "shape": {
        "columns": 69,
        "rows": 1
       }
      },
      "text/html": [
       "<div>\n",
       "<style scoped>\n",
       "    .dataframe tbody tr th:only-of-type {\n",
       "        vertical-align: middle;\n",
       "    }\n",
       "\n",
       "    .dataframe tbody tr th {\n",
       "        vertical-align: top;\n",
       "    }\n",
       "\n",
       "    .dataframe thead th {\n",
       "        text-align: right;\n",
       "    }\n",
       "</style>\n",
       "<table border=\"1\" class=\"dataframe\">\n",
       "  <thead>\n",
       "    <tr style=\"text-align: right;\">\n",
       "      <th></th>\n",
       "      <th>Date</th>\n",
       "      <th>Name</th>\n",
       "      <th>Sector</th>\n",
       "      <th>Industry</th>\n",
       "      <th>Country</th>\n",
       "      <th>Website</th>\n",
       "      <th>Market Cap</th>\n",
       "      <th>Enterprise Value</th>\n",
       "      <th>Float Shares</th>\n",
       "      <th>Shares Outstanding</th>\n",
       "      <th>...</th>\n",
       "      <th>Short Period</th>\n",
       "      <th>Long Period</th>\n",
       "      <th>Articles In Last Week</th>\n",
       "      <th>Company News Score</th>\n",
       "      <th>Bearish Percent</th>\n",
       "      <th>Bullish Percent</th>\n",
       "      <th>Average Sentiment Score</th>\n",
       "      <th>Sector Average Bullish Percent</th>\n",
       "      <th>Sector Average News Score</th>\n",
       "      <th>Weight</th>\n",
       "    </tr>\n",
       "    <tr>\n",
       "      <th>Ticker</th>\n",
       "      <th></th>\n",
       "      <th></th>\n",
       "      <th></th>\n",
       "      <th></th>\n",
       "      <th></th>\n",
       "      <th></th>\n",
       "      <th></th>\n",
       "      <th></th>\n",
       "      <th></th>\n",
       "      <th></th>\n",
       "      <th></th>\n",
       "      <th></th>\n",
       "      <th></th>\n",
       "      <th></th>\n",
       "      <th></th>\n",
       "      <th></th>\n",
       "      <th></th>\n",
       "      <th></th>\n",
       "      <th></th>\n",
       "      <th></th>\n",
       "      <th></th>\n",
       "    </tr>\n",
       "  </thead>\n",
       "  <tbody>\n",
       "    <tr>\n",
       "      <th>ZTS</th>\n",
       "      <td>2025-06-11</td>\n",
       "      <td>Zoetis Inc.</td>\n",
       "      <td>Healthcare</td>\n",
       "      <td>Drug Manufacturers - Specialty &amp; Generic</td>\n",
       "      <td>United States</td>\n",
       "      <td>https://www.zoetis.com</td>\n",
       "      <td>7.411155e+10</td>\n",
       "      <td>7.943226e+10</td>\n",
       "      <td>444393322.0</td>\n",
       "      <td>445208000.0</td>\n",
       "      <td>...</td>\n",
       "      <td>10</td>\n",
       "      <td>50</td>\n",
       "      <td>8</td>\n",
       "      <td>0.6218</td>\n",
       "      <td>0.0</td>\n",
       "      <td>0.75</td>\n",
       "      <td>0.2435</td>\n",
       "      <td>0.4686</td>\n",
       "      <td>0.567</td>\n",
       "      <td>1.0</td>\n",
       "    </tr>\n",
       "  </tbody>\n",
       "</table>\n",
       "<p>1 rows × 69 columns</p>\n",
       "</div>"
      ],
      "text/plain": [
       "              Date         Name      Sector  \\\n",
       "Ticker                                        \n",
       "ZTS     2025-06-11  Zoetis Inc.  Healthcare   \n",
       "\n",
       "                                        Industry        Country  \\\n",
       "Ticker                                                            \n",
       "ZTS     Drug Manufacturers - Specialty & Generic  United States   \n",
       "\n",
       "                       Website    Market Cap  Enterprise Value  Float Shares  \\\n",
       "Ticker                                                                         \n",
       "ZTS     https://www.zoetis.com  7.411155e+10      7.943226e+10   444393322.0   \n",
       "\n",
       "        Shares Outstanding  ...  Short Period  Long Period  \\\n",
       "Ticker                      ...                              \n",
       "ZTS            445208000.0  ...            10           50   \n",
       "\n",
       "        Articles In Last Week  Company News Score  Bearish Percent  \\\n",
       "Ticker                                                               \n",
       "ZTS                         8              0.6218              0.0   \n",
       "\n",
       "        Bullish Percent  Average Sentiment Score  \\\n",
       "Ticker                                             \n",
       "ZTS                0.75                   0.2435   \n",
       "\n",
       "        Sector Average Bullish Percent  Sector Average News Score  Weight  \n",
       "Ticker                                                                     \n",
       "ZTS                             0.4686                      0.567     1.0  \n",
       "\n",
       "[1 rows x 69 columns]"
      ]
     },
     "metadata": {},
     "output_type": "display_data"
    }
   ],
   "source": [
    "from py.utils import clean_column_names\n",
    "\n",
    "# Create a DataFrame with tickers and merge with optimization_summary\n",
    "optimization_summary_with_tickers = optimization_summary.copy()\n",
    "optimization_summary_with_tickers['Ticker'] = [ticker.upper() for ticker in selected_tickers]\n",
    "\n",
    "# Convert to Polars for merging\n",
    "best_strategies_pl = pl.DataFrame(optimization_summary_with_tickers)\n",
    "\n",
    "# Prepare comprehensive_screened for merging - select only needed columns\n",
    "comprehensive_screened_for_merge = comprehensive_screened.select([\n",
    "    'symbol',\n",
    "    'articlesInLastWeek',\n",
    "    'companyNewsScore', \n",
    "    'bearishPercent',\n",
    "    'bullishPercent',\n",
    "    'averageSentimentScore',\n",
    "    'sectorAverageBullishPercent',\n",
    "    'sectorAverageNewsScore'\n",
    "]).with_columns(\n",
    "    pl.col(\"symbol\").str.to_uppercase().alias(\"Ticker\")\n",
    ").drop('symbol')\n",
    "\n",
    "# Chain all merges together\n",
    "short_term_portfolio_pl = (fundamentals_df\n",
    "    .join(best_strategies_pl, on='Ticker', how='inner')\n",
    "    .join(comprehensive_screened_for_merge, on='Ticker', how='inner')\n",
    ")\n",
    "\n",
    "# Convert back to pandas for further processing\n",
    "short_term_portfolio_df = short_term_portfolio_pl.to_pandas()\n",
    "short_term_portfolio_df = short_term_portfolio_df.set_index('Ticker').sort_index()\n",
    "short_term_portfolio_df = clean_column_names(short_term_portfolio_df)\n",
    "\n",
    "# Add weights based on Sharpe Ratio\n",
    "if 'sharpe_ratio' in short_term_portfolio_df.columns:\n",
    "    # Normalize Sharpe ratios to create weights\n",
    "    sharpe_sum = short_term_portfolio_df['sharpe_ratio'].sum()\n",
    "    short_term_portfolio_df['Weight'] = short_term_portfolio_df['sharpe_ratio'] / sharpe_sum\n",
    "else:\n",
    "    # Fallback to equal weights if Sharpe ratio not available\n",
    "    short_term_portfolio_df['Weight'] = 1.0 / len(short_term_portfolio_df)\n",
    "\n",
    "# Verify weights sum to 1\n",
    "print(f\"Total portfolio weight: {short_term_portfolio_df['Weight'].sum():.6f}\")\n",
    "\n",
    "display(short_term_portfolio_df)"
   ]
  },
  {
   "cell_type": "markdown",
   "metadata": {},
   "source": [
    "### Step 9: Export Portfolio to Excel"
   ]
  },
  {
   "cell_type": "markdown",
   "metadata": {},
   "source": [
    "#### Prepare DataFrame for Export"
   ]
  },
  {
   "cell_type": "code",
   "execution_count": 17,
   "metadata": {},
   "outputs": [
    {
     "data": {
      "application/vnd.microsoft.datawrangler.viewer.v0+json": {
       "columns": [
        {
         "name": "Date",
         "rawType": "datetime64[ns]",
         "type": "datetime"
        },
        {
         "name": "ZTS",
         "rawType": "float64",
         "type": "float"
        },
        {
         "name": "^IRX",
         "rawType": "float64",
         "type": "float"
        }
       ],
       "ref": "f358be7e-c6cc-4616-b951-f18d89076aec",
       "rows": [
        [
         "2025-06-01 00:00:00",
         "164.61",
         "4.24"
        ],
        [
         "2025-05-01 00:00:00",
         "168.63",
         "4.23"
        ],
        [
         "2025-04-01 00:00:00",
         "156.4",
         "4.19"
        ],
        [
         "2025-03-01 00:00:00",
         "164.1",
         "4.19"
        ],
        [
         "2025-02-01 00:00:00",
         "166.68",
         "4.193"
        ],
        [
         "2025-01-01 00:00:00",
         "170.33",
         "4.188"
        ],
        [
         "2024-12-01 00:00:00",
         "161.89",
         "4.208"
        ],
        [
         "2024-11-01 00:00:00",
         "174.13",
         "4.373"
        ],
        [
         "2024-10-01 00:00:00",
         "177.64",
         "4.432"
        ],
        [
         "2024-09-01 00:00:00",
         "193.68",
         "4.498"
        ],
        [
         "2024-08-01 00:00:00",
         "181.89",
         "4.968"
        ],
        [
         "2024-07-01 00:00:00",
         "178.47",
         "5.135"
        ],
        [
         "2024-06-01 00:00:00",
         "171.44",
         "5.213"
        ],
        [
         "2024-05-01 00:00:00",
         "167.68",
         "5.245"
        ],
        [
         "2024-04-01 00:00:00",
         "157.48",
         "5.245"
        ],
        [
         "2024-03-01 00:00:00",
         "166.86",
         "5.203"
        ],
        [
         "2024-02-01 00:00:00",
         "195.58",
         "5.223"
        ],
        [
         "2024-01-01 00:00:00",
         "185.2",
         "5.188"
        ],
        [
         "2023-12-01 00:00:00",
         "194.19",
         "5.18"
        ],
        [
         "2023-11-01 00:00:00",
         "173.82",
         "5.238"
        ],
        [
         "2023-10-01 00:00:00",
         "154.47",
         "5.32"
        ],
        [
         "2023-09-01 00:00:00",
         "170.77",
         "5.3"
        ],
        [
         "2023-08-01 00:00:00",
         "186.99",
         "5.3"
        ],
        [
         "2023-07-01 00:00:00",
         "184.62",
         "5.248"
        ],
        [
         "2023-06-01 00:00:00",
         "168.66",
         "5.15"
        ],
        [
         "2023-05-01 00:00:00",
         "159.65",
         "5.248"
        ],
        [
         "2023-04-01 00:00:00",
         "172.16",
         "4.923"
        ],
        [
         "2023-03-01 00:00:00",
         "162.66",
         "4.585"
        ],
        [
         "2023-02-01 00:00:00",
         "163.21",
         "4.71"
        ],
        [
         "2023-01-01 00:00:00",
         "161.73",
         "4.57"
        ],
        [
         "2022-12-01 00:00:00",
         "142.89",
         "4.26"
        ],
        [
         "2022-11-01 00:00:00",
         "150.29",
         "4.253"
        ],
        [
         "2022-10-01 00:00:00",
         "147.01",
         "3.975"
        ],
        [
         "2022-09-01 00:00:00",
         "144.28",
         "3.18"
        ],
        [
         "2022-08-01 00:00:00",
         "152.29",
         "2.86"
        ],
        [
         "2022-07-01 00:00:00",
         "177.61",
         "2.298"
        ],
        [
         "2022-06-01 00:00:00",
         "166.93",
         "1.6"
        ],
        [
         "2022-05-01 00:00:00",
         "166.0",
         "1.03"
        ],
        [
         "2022-04-01 00:00:00",
         "172.14",
         "0.808"
        ],
        [
         "2022-03-01 00:00:00",
         "182.83",
         "0.493"
        ],
        [
         "2022-02-01 00:00:00",
         "187.73",
         "0.288"
        ],
        [
         "2022-01-01 00:00:00",
         "193.69",
         "0.173"
        ],
        [
         "2021-12-01 00:00:00",
         "236.19",
         "0.033"
        ],
        [
         "2021-11-01 00:00:00",
         "214.91",
         "0.048"
        ],
        [
         "2021-10-01 00:00:00",
         "209.26",
         "0.048"
        ],
        [
         "2021-09-01 00:00:00",
         "187.68",
         "0.028"
        ],
        [
         "2021-08-01 00:00:00",
         "197.76",
         "0.04"
        ],
        [
         "2021-07-01 00:00:00",
         "195.96",
         "0.04"
        ],
        [
         "2021-06-01 00:00:00",
         "179.93",
         "0.04"
        ],
        [
         "2021-05-01 00:00:00",
         "170.59",
         "0.008"
        ]
       ],
       "shape": {
        "columns": 2,
        "rows": 121
       }
      },
      "text/html": [
       "<div>\n",
       "<style scoped>\n",
       "    .dataframe tbody tr th:only-of-type {\n",
       "        vertical-align: middle;\n",
       "    }\n",
       "\n",
       "    .dataframe tbody tr th {\n",
       "        vertical-align: top;\n",
       "    }\n",
       "\n",
       "    .dataframe thead th {\n",
       "        text-align: right;\n",
       "    }\n",
       "</style>\n",
       "<table border=\"1\" class=\"dataframe\">\n",
       "  <thead>\n",
       "    <tr style=\"text-align: right;\">\n",
       "      <th></th>\n",
       "      <th>ZTS</th>\n",
       "      <th>^IRX</th>\n",
       "    </tr>\n",
       "    <tr>\n",
       "      <th>Date</th>\n",
       "      <th></th>\n",
       "      <th></th>\n",
       "    </tr>\n",
       "  </thead>\n",
       "  <tbody>\n",
       "    <tr>\n",
       "      <th>2025-06-01</th>\n",
       "      <td>164.61</td>\n",
       "      <td>4.240</td>\n",
       "    </tr>\n",
       "    <tr>\n",
       "      <th>2025-05-01</th>\n",
       "      <td>168.63</td>\n",
       "      <td>4.230</td>\n",
       "    </tr>\n",
       "    <tr>\n",
       "      <th>2025-04-01</th>\n",
       "      <td>156.40</td>\n",
       "      <td>4.190</td>\n",
       "    </tr>\n",
       "    <tr>\n",
       "      <th>2025-03-01</th>\n",
       "      <td>164.10</td>\n",
       "      <td>4.190</td>\n",
       "    </tr>\n",
       "    <tr>\n",
       "      <th>2025-02-01</th>\n",
       "      <td>166.68</td>\n",
       "      <td>4.193</td>\n",
       "    </tr>\n",
       "    <tr>\n",
       "      <th>...</th>\n",
       "      <td>...</td>\n",
       "      <td>...</td>\n",
       "    </tr>\n",
       "    <tr>\n",
       "      <th>2015-10-01</th>\n",
       "      <td>39.96</td>\n",
       "      <td>0.068</td>\n",
       "    </tr>\n",
       "    <tr>\n",
       "      <th>2015-09-01</th>\n",
       "      <td>38.26</td>\n",
       "      <td>0.005</td>\n",
       "    </tr>\n",
       "    <tr>\n",
       "      <th>2015-08-01</th>\n",
       "      <td>41.69</td>\n",
       "      <td>0.003</td>\n",
       "    </tr>\n",
       "    <tr>\n",
       "      <th>2015-07-01</th>\n",
       "      <td>45.43</td>\n",
       "      <td>0.058</td>\n",
       "    </tr>\n",
       "    <tr>\n",
       "      <th>2015-06-01</th>\n",
       "      <td>44.72</td>\n",
       "      <td>0.010</td>\n",
       "    </tr>\n",
       "  </tbody>\n",
       "</table>\n",
       "<p>121 rows × 2 columns</p>\n",
       "</div>"
      ],
      "text/plain": [
       "               ZTS   ^IRX\n",
       "Date                     \n",
       "2025-06-01  164.61  4.240\n",
       "2025-05-01  168.63  4.230\n",
       "2025-04-01  156.40  4.190\n",
       "2025-03-01  164.10  4.190\n",
       "2025-02-01  166.68  4.193\n",
       "...            ...    ...\n",
       "2015-10-01   39.96  0.068\n",
       "2015-09-01   38.26  0.005\n",
       "2015-08-01   41.69  0.003\n",
       "2015-07-01   45.43  0.058\n",
       "2015-06-01   44.72  0.010\n",
       "\n",
       "[121 rows x 2 columns]"
      ]
     },
     "metadata": {},
     "output_type": "display_data"
    }
   ],
   "source": [
    "# Merge Portfolio Daily Quotes with risk-free rate\n",
    "daily_prices_df_merged = quotes[selected_tickers].join(daily_risk_free_df, how='inner')\n",
    "\n",
    "# Convert all column names to uppercase\n",
    "daily_prices_df_merged.columns = daily_prices_df_merged.columns.str.upper()\n",
    "\n",
    "# Create a Monthly Price DataFrame\n",
    "monthly_prices_df_merged = daily_prices_df_merged.copy()\n",
    "\n",
    "# Make sure index is datetime\n",
    "monthly_prices_df_merged.index = pd.to_datetime(monthly_prices_df_merged.index)\n",
    "\n",
    "# Resample to monthly (start of month) and get the last value\n",
    "monthly_prices_df_merged = (monthly_prices_df_merged\n",
    "                           .resample('MS').last()\n",
    "                           .reset_index()\n",
    "                           .rename(columns={'index': 'Date'}))\n",
    "\n",
    "# Set Index to Date\n",
    "monthly_prices_df_merged.reset_index(drop=True, inplace=True)\n",
    "monthly_prices_df_merged.set_index(['Date'], inplace=True)\n",
    "\n",
    "# Display\n",
    "display(monthly_prices_df_merged.sort_index(axis=0, ascending=False).sort_index(axis=1, ascending=True))"
   ]
  },
  {
   "cell_type": "markdown",
   "metadata": {},
   "source": [
    "#### Export DataFrame to Excel"
   ]
  },
  {
   "cell_type": "code",
   "execution_count": 18,
   "metadata": {},
   "outputs": [
    {
     "name": "stdout",
     "output_type": "stream",
     "text": [
      "Updated sheet 'short_term_portfolio'\n",
      "Successfully merged data into 'daily_quotes' sheet\n",
      "Successfully merged data into 'monthly_quotes' sheet\n",
      "Successfully exported all data to portfolios/portfolio-2025-06-10.xlsx\n",
      "\n",
      "✅ Portfolio exported successfully to: portfolios/portfolio-2025-06-10.xlsx\n",
      "📊 Selected tickers: ['ZTS']\n",
      "💼 Portfolio size: 1 stocks\n",
      "\n",
      "🎯 FINAL PORTFOLIO SUMMARY:\n",
      "Strategy validation: ✅ VALIDATED\n",
      "Overfitting p-value: 0.1343\n",
      "Portfolio weights: {'ZTS': 1.0}\n"
     ]
    }
   ],
   "source": [
    "from py.utils import export_to_excel\n",
    "\n",
    "export_to_excel(output_file, {\n",
    "    'short_term_portfolio': short_term_portfolio_df,\n",
    "    'daily_quotes': daily_prices_df_merged,  \n",
    "    'monthly_quotes': monthly_prices_df_merged   \n",
    "})\n",
    "\n",
    "print(f\"\\n✅ Portfolio exported successfully to: {output_file}\")\n",
    "print(f\"📊 Selected tickers: {selected_tickers}\")\n",
    "print(f\"💼 Portfolio size: {len(short_term_portfolio_df)} stocks\")\n",
    "\n",
    "# Final summary\n",
    "print(f\"\\n🎯 FINAL PORTFOLIO SUMMARY:\")\n",
    "print(f\"Strategy validation: {'⚠️ NEEDS REVIEW' if is_overfitted else '✅ VALIDATED'}\")\n",
    "print(f\"Overfitting p-value: {sharpe_p_value:.4f}\")\n",
    "print(f\"Portfolio weights: {dict(zip(selected_tickers, short_term_portfolio_df['Weight'].values))}\")"
   ]
  }
 ],
 "metadata": {
  "kernelspec": {
   "display_name": ".venv",
   "language": "python",
   "name": "python3"
  },
  "language_info": {
   "codemirror_mode": {
    "name": "ipython",
    "version": 3
   },
   "file_extension": ".py",
   "mimetype": "text/x-python",
   "name": "python",
   "nbconvert_exporter": "python",
   "pygments_lexer": "ipython3",
   "version": "3.13.3"
  }
 },
 "nbformat": 4,
 "nbformat_minor": 4
}
