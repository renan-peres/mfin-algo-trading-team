{
 "cells": [
  {
   "cell_type": "markdown",
   "id": "bcc3381f",
   "metadata": {},
   "source": [
    "<a href=\"https://colab.research.google.com/github/renan-peres/mfin-portfolio-management/blob/main/03_benchmark_selection.ipynb\" target=\"_parent\"><img src=\"https://colab.research.google.com/assets/colab-badge.svg\" alt=\"Open In Colab\"/></a>"
   ]
  },
  {
   "cell_type": "markdown",
   "id": "e4cd6428",
   "metadata": {},
   "source": [
    "# Benchmark Selection with Regression Analysis\n",
    "This model aims to select an ETF that best fits with the portfolio to be used as a benchmark. The methodology uses a regression analysis to identify the relationship between the ETF and the portfolio and check the ETF with the highest R² and lowest p-value will be selected as the benchmark. \n",
    "\n",
    "The model will use the following steps:\n",
    "1. Select an ETF that invests in the same sectors as the portfolio holdings.\n",
    "2. Use regression analysis to identify the relationship between the ETF and the portfolio.\n",
    "3. Select the ETF with the highest R² and lowest p-value as the benchmark.\n",
    "4. Use the selected ETF as a benchmark to evaluate the performance of the portfolio."
   ]
  },
  {
   "cell_type": "markdown",
   "id": "dc371546",
   "metadata": {},
   "source": [
    "### Step 1: Import Libraries"
   ]
  },
  {
   "cell_type": "code",
   "execution_count": 1,
   "id": "d09ef8c1",
   "metadata": {
    "execution": {
     "iopub.execute_input": "2025-06-02T13:28:29.114690Z",
     "iopub.status.busy": "2025-06-02T13:28:29.114145Z",
     "iopub.status.idle": "2025-06-02T13:28:30.793724Z",
     "shell.execute_reply": "2025-06-02T13:28:30.792289Z"
    }
   },
   "outputs": [],
   "source": [
    "# UDFs\n",
    "from py.utils import load_and_filter_data, export_to_excel\n",
    "from py.regression_benchmark import find_best_benchmark_and_run_regressions\n",
    "\n",
    "# System libraries\n",
    "import glob\n",
    "import os\n",
    "import sys\n",
    "from io import StringIO\n",
    "from typing import Dict, List\n",
    "\n",
    "# Data manipulation libraries\n",
    "import pandas as pd\n",
    "import numpy as np\n",
    "from datetime import datetime, timedelta\n",
    "from pandas.tseries.offsets import BDay\n",
    "\n",
    "# Data Visualization libraries\n",
    "import matplotlib.pyplot as plt\n",
    "import seaborn as sns\n",
    "\n",
    "# Excel libraries\n",
    "from openpyxl import load_workbook\n",
    "from openpyxl.styles import Alignment, Font\n",
    "import ast"
   ]
  },
  {
   "cell_type": "markdown",
   "id": "e2e1bc31",
   "metadata": {},
   "source": [
    "### Step 2: Define Parameters"
   ]
  },
  {
   "cell_type": "markdown",
   "id": "766d204e",
   "metadata": {},
   "source": [
    "#### Dates"
   ]
  },
  {
   "cell_type": "code",
   "execution_count": 2,
   "id": "d59ab3b0",
   "metadata": {
    "execution": {
     "iopub.execute_input": "2025-06-02T13:28:30.798269Z",
     "iopub.status.busy": "2025-06-02T13:28:30.797519Z",
     "iopub.status.idle": "2025-06-02T13:28:30.805224Z",
     "shell.execute_reply": "2025-06-02T13:28:30.803735Z"
    }
   },
   "outputs": [
    {
     "name": "stdout",
     "output_type": "stream",
     "text": [
      "Date Range: 2015-06-06 to 2025-06-03\n",
      "Time span: 3650 days (10.00 years)\n"
     ]
    }
   ],
   "source": [
    "# Define the date range\n",
    "end_date = (datetime.today() - BDay(1)).to_pydatetime()  # Subtract 1 business day\n",
    "start_date = end_date - timedelta(days=10*365)            # 10 years ago from the end date\n",
    "\n",
    "# Convert datetime objects to Unix timestamps (seconds since Jan 1, 1970)\n",
    "start_timestamp = int(start_date.timestamp())\n",
    "end_timestamp = int(end_date.timestamp())\n",
    "\n",
    "# Print the date range\n",
    "days_difference = (end_date - start_date).days\n",
    "print(f\"Date Range: {start_date.strftime('%Y-%m-%d')} to {end_date.strftime('%Y-%m-%d')}\")\n",
    "print(f\"Time span: {days_difference} days ({days_difference/365:.2f} years)\")"
   ]
  },
  {
   "cell_type": "markdown",
   "id": "c216556a",
   "metadata": {},
   "source": [
    "#### Risk-free rate (T-bill, %)"
   ]
  },
  {
   "cell_type": "code",
   "execution_count": 3,
   "id": "3f485596",
   "metadata": {
    "execution": {
     "iopub.execute_input": "2025-06-02T13:28:30.808605Z",
     "iopub.status.busy": "2025-06-02T13:28:30.808221Z",
     "iopub.status.idle": "2025-06-02T13:28:30.832293Z",
     "shell.execute_reply": "2025-06-02T13:28:30.831288Z"
    }
   },
   "outputs": [
    {
     "name": "stdout",
     "output_type": "stream",
     "text": [
      "Found 1 of 1 tickers in data/daily_treasury_rates.csv\n",
      "Missing tickers: []\n",
      "Risk-Free Rate: 0.042300000000000004 -- 13 WEEK TREASURY BILL (^IRX)\n"
     ]
    },
    {
     "data": {
      "application/vnd.microsoft.datawrangler.viewer.v0+json": {
       "columns": [
        {
         "name": "Date",
         "rawType": "datetime64[ns]",
         "type": "datetime"
        },
        {
         "name": "^IRX",
         "rawType": "float64",
         "type": "float"
        }
       ],
       "ref": "3e312232-aa58-4513-9027-da6a9542c7cc",
       "rows": [
        [
         "2015-06-08 00:00:00",
         "0.01"
        ],
        [
         "2015-06-09 00:00:00",
         "0.013"
        ],
        [
         "2015-06-10 00:00:00",
         "0.013"
        ],
        [
         "2015-06-11 00:00:00",
         "0.008"
        ],
        [
         "2015-06-12 00:00:00",
         "0.005"
        ]
       ],
       "shape": {
        "columns": 1,
        "rows": 5
       }
      },
      "text/html": [
       "<div>\n",
       "<style scoped>\n",
       "    .dataframe tbody tr th:only-of-type {\n",
       "        vertical-align: middle;\n",
       "    }\n",
       "\n",
       "    .dataframe tbody tr th {\n",
       "        vertical-align: top;\n",
       "    }\n",
       "\n",
       "    .dataframe thead th {\n",
       "        text-align: right;\n",
       "    }\n",
       "</style>\n",
       "<table border=\"1\" class=\"dataframe\">\n",
       "  <thead>\n",
       "    <tr style=\"text-align: right;\">\n",
       "      <th></th>\n",
       "      <th>^IRX</th>\n",
       "    </tr>\n",
       "    <tr>\n",
       "      <th>Date</th>\n",
       "      <th></th>\n",
       "    </tr>\n",
       "  </thead>\n",
       "  <tbody>\n",
       "    <tr>\n",
       "      <th>2015-06-08</th>\n",
       "      <td>0.010</td>\n",
       "    </tr>\n",
       "    <tr>\n",
       "      <th>2015-06-09</th>\n",
       "      <td>0.013</td>\n",
       "    </tr>\n",
       "    <tr>\n",
       "      <th>2015-06-10</th>\n",
       "      <td>0.013</td>\n",
       "    </tr>\n",
       "    <tr>\n",
       "      <th>2015-06-11</th>\n",
       "      <td>0.008</td>\n",
       "    </tr>\n",
       "    <tr>\n",
       "      <th>2015-06-12</th>\n",
       "      <td>0.005</td>\n",
       "    </tr>\n",
       "  </tbody>\n",
       "</table>\n",
       "</div>"
      ],
      "text/plain": [
       "             ^IRX\n",
       "Date             \n",
       "2015-06-08  0.010\n",
       "2015-06-09  0.013\n",
       "2015-06-10  0.013\n",
       "2015-06-11  0.008\n",
       "2015-06-12  0.005"
      ]
     },
     "execution_count": 3,
     "metadata": {},
     "output_type": "execute_result"
    }
   ],
   "source": [
    "# Load and process data\n",
    "daily_risk_free_df = load_and_filter_data('data/daily_treasury_rates.csv', ['^IRX'], start_date, end_date)\n",
    "# risk_free_rate = .0433 \n",
    "risk_free_rate = daily_risk_free_df.iloc[-1, 0] / 100\n",
    "risk_free_rate_monthly = risk_free_rate / 12\n",
    "\n",
    "# Display result\n",
    "print(\"Risk-Free Rate:\", risk_free_rate, \"-- 13 WEEK TREASURY BILL (^IRX)\")\n",
    "daily_risk_free_df.head()"
   ]
  },
  {
   "cell_type": "markdown",
   "id": "119e2261",
   "metadata": {},
   "source": [
    "#### Report File"
   ]
  },
  {
   "cell_type": "code",
   "execution_count": 4,
   "id": "b19e2a7b",
   "metadata": {
    "execution": {
     "iopub.execute_input": "2025-06-02T13:28:30.835903Z",
     "iopub.status.busy": "2025-06-02T13:28:30.835544Z",
     "iopub.status.idle": "2025-06-02T13:28:30.841061Z",
     "shell.execute_reply": "2025-06-02T13:28:30.840100Z"
    }
   },
   "outputs": [
    {
     "name": "stdout",
     "output_type": "stream",
     "text": [
      "Using most recent portfolio file: portfolios/portfolio-2025-06-02.xlsx\n"
     ]
    }
   ],
   "source": [
    "# Get the most recent portfolio file\n",
    "portfolio_files = glob.glob('portfolios/portfolio-*.xlsx')\n",
    "if portfolio_files:\n",
    "    # Sort files by modification time (most recent first)\n",
    "    output_file = max(portfolio_files, key=os.path.getmtime)\n",
    "    print(f\"Using most recent portfolio file: {output_file}\")\n",
    "else:\n",
    "    # Fallback to current date if no files found\n",
    "    output_file = f'portfolios/portfolio-{datetime.date(end_date)}.xlsx'\n",
    "    print(f\"No portfolio files found. Using: {output_file}\")"
   ]
  },
  {
   "cell_type": "markdown",
   "id": "955d4081",
   "metadata": {},
   "source": [
    "### Step 3: Read ETF Data"
   ]
  },
  {
   "cell_type": "code",
   "execution_count": 5,
   "id": "4339ebf2",
   "metadata": {
    "execution": {
     "iopub.execute_input": "2025-06-02T13:28:30.844553Z",
     "iopub.status.busy": "2025-06-02T13:28:30.844341Z",
     "iopub.status.idle": "2025-06-02T13:28:30.887886Z",
     "shell.execute_reply": "2025-06-02T13:28:30.886516Z"
    }
   },
   "outputs": [
    {
     "data": {
      "application/vnd.microsoft.datawrangler.viewer.v0+json": {
       "columns": [
        {
         "name": "index",
         "rawType": "int64",
         "type": "integer"
        },
        {
         "name": "Symbol",
         "rawType": "object",
         "type": "string"
        },
        {
         "name": "Name",
         "rawType": "object",
         "type": "string"
        },
        {
         "name": "Sectors",
         "rawType": "object",
         "type": "unknown"
        }
       ],
       "ref": "d65dc052-1574-44ca-8e4b-4a25e4d9717d",
       "rows": [
        [
         "0",
         "AADR",
         "AdvisorShares Dorsey Wright ADR ETF",
         "{'realestate': 0.0, 'consumer_cyclical': 0.1182, 'basic_materials': 0.0425, 'consumer_defensive': 0.0, 'technology': 0.16479999, 'communication_services': 0.089499995, 'financial_services': 0.33900002, 'utilities': 0.033299997, 'industrials': 0.1005, 'energy': 0.0334, 'healthcare': 0.0788}"
        ],
        [
         "1",
         "ABFL",
         "Abacus FCF Leaders ETF",
         "{'realestate': 0.0, 'consumer_cyclical': 0.1188, 'basic_materials': 0.0, 'consumer_defensive': 0.0765, 'technology': 0.5052, 'communication_services': 0.0709, 'financial_services': 0.042600002, 'utilities': 0.0, 'industrials': 0.041100003, 'energy': 0.0, 'healthcare': 0.1449}"
        ],
        [
         "2",
         "ACWI",
         "iShares MSCI ACWI ETF",
         "{'realestate': 0.0216, 'consumer_cyclical': 0.1039, 'basic_materials': 0.0346, 'consumer_defensive': 0.0641, 'technology': 0.2491, 'communication_services': 0.084, 'financial_services': 0.1752, 'utilities': 0.0269, 'industrials': 0.1021, 'energy': 0.0375, 'healthcare': 0.1012}"
        ],
        [
         "3",
         "ADME",
         "Aptus Drawdown Managed Equity ETF",
         "{'realestate': 0.0222, 'consumer_cyclical': 0.1022, 'basic_materials': 0.0222, 'consumer_defensive': 0.0608, 'technology': 0.3147, 'communication_services': 0.091800004, 'financial_services': 0.1384, 'utilities': 0.0254, 'industrials': 0.0746, 'energy': 0.0357, 'healthcare': 0.111899994}"
        ],
        [
         "4",
         "AGNG",
         "Global X Aging Population ETF",
         "{'realestate': 0.0791, 'consumer_cyclical': 0.0, 'basic_materials': 0.0, 'consumer_defensive': 0.0, 'technology': 0.0, 'communication_services': 0.0, 'financial_services': 0.0, 'utilities': 0.0, 'industrials': 0.0, 'energy': 0.0, 'healthcare': 0.9209}"
        ]
       ],
       "shape": {
        "columns": 3,
        "rows": 5
       }
      },
      "text/html": [
       "<div>\n",
       "<style scoped>\n",
       "    .dataframe tbody tr th:only-of-type {\n",
       "        vertical-align: middle;\n",
       "    }\n",
       "\n",
       "    .dataframe tbody tr th {\n",
       "        vertical-align: top;\n",
       "    }\n",
       "\n",
       "    .dataframe thead th {\n",
       "        text-align: right;\n",
       "    }\n",
       "</style>\n",
       "<table border=\"1\" class=\"dataframe\">\n",
       "  <thead>\n",
       "    <tr style=\"text-align: right;\">\n",
       "      <th></th>\n",
       "      <th>Symbol</th>\n",
       "      <th>Name</th>\n",
       "      <th>Sectors</th>\n",
       "    </tr>\n",
       "  </thead>\n",
       "  <tbody>\n",
       "    <tr>\n",
       "      <th>0</th>\n",
       "      <td>AADR</td>\n",
       "      <td>AdvisorShares Dorsey Wright ADR ETF</td>\n",
       "      <td>{'realestate': 0.0, 'consumer_cyclical': 0.118...</td>\n",
       "    </tr>\n",
       "    <tr>\n",
       "      <th>1</th>\n",
       "      <td>ABFL</td>\n",
       "      <td>Abacus FCF Leaders ETF</td>\n",
       "      <td>{'realestate': 0.0, 'consumer_cyclical': 0.118...</td>\n",
       "    </tr>\n",
       "    <tr>\n",
       "      <th>2</th>\n",
       "      <td>ACWI</td>\n",
       "      <td>iShares MSCI ACWI ETF</td>\n",
       "      <td>{'realestate': 0.0216, 'consumer_cyclical': 0....</td>\n",
       "    </tr>\n",
       "    <tr>\n",
       "      <th>3</th>\n",
       "      <td>ADME</td>\n",
       "      <td>Aptus Drawdown Managed Equity ETF</td>\n",
       "      <td>{'realestate': 0.0222, 'consumer_cyclical': 0....</td>\n",
       "    </tr>\n",
       "    <tr>\n",
       "      <th>4</th>\n",
       "      <td>AGNG</td>\n",
       "      <td>Global X Aging Population ETF</td>\n",
       "      <td>{'realestate': 0.0791, 'consumer_cyclical': 0....</td>\n",
       "    </tr>\n",
       "  </tbody>\n",
       "</table>\n",
       "</div>"
      ],
      "text/plain": [
       "  Symbol                                 Name  \\\n",
       "0   AADR  AdvisorShares Dorsey Wright ADR ETF   \n",
       "1   ABFL               Abacus FCF Leaders ETF   \n",
       "2   ACWI                iShares MSCI ACWI ETF   \n",
       "3   ADME    Aptus Drawdown Managed Equity ETF   \n",
       "4   AGNG        Global X Aging Population ETF   \n",
       "\n",
       "                                             Sectors  \n",
       "0  {'realestate': 0.0, 'consumer_cyclical': 0.118...  \n",
       "1  {'realestate': 0.0, 'consumer_cyclical': 0.118...  \n",
       "2  {'realestate': 0.0216, 'consumer_cyclical': 0....  \n",
       "3  {'realestate': 0.0222, 'consumer_cyclical': 0....  \n",
       "4  {'realestate': 0.0791, 'consumer_cyclical': 0....  "
      ]
     },
     "execution_count": 5,
     "metadata": {},
     "output_type": "execute_result"
    }
   ],
   "source": [
    "# Load Data\n",
    "sectors_df = pd.read_csv(\"data/fundamentals_benchmark.csv\") \n",
    "sectors_df = sectors_df[[\"Ticker\", \"Name\", \"Sector Weightings\"]]\n",
    "sectors_df = sectors_df.rename(columns={\"Name\": \"Name\", \"Ticker\": \"Symbol\", \"Sector Weightings\": \"Sectors\"})\n",
    "\n",
    "# Convert string representations of dictionaries to actual dictionaries\n",
    "sectors_df['Sectors'] = sectors_df['Sectors'].apply(lambda x: ast.literal_eval(x) if isinstance(x, str) and x.strip() else {})\n",
    "\n",
    "# Display\n",
    "sectors_df.head()"
   ]
  },
  {
   "cell_type": "markdown",
   "id": "30db5c6d",
   "metadata": {},
   "source": [
    "### Step 4: Read Portfolio Data (Excel)"
   ]
  },
  {
   "cell_type": "code",
   "execution_count": 6,
   "id": "7cc2ecd6",
   "metadata": {
    "execution": {
     "iopub.execute_input": "2025-06-02T13:28:30.891757Z",
     "iopub.status.busy": "2025-06-02T13:28:30.890808Z",
     "iopub.status.idle": "2025-06-02T13:28:30.943911Z",
     "shell.execute_reply": "2025-06-02T13:28:30.942866Z"
    }
   },
   "outputs": [
    {
     "name": "stdout",
     "output_type": "stream",
     "text": [
      "['GRMN', 'MSFT']\n"
     ]
    },
    {
     "data": {
      "application/vnd.microsoft.datawrangler.viewer.v0+json": {
       "columns": [
        {
         "name": "index",
         "rawType": "int64",
         "type": "integer"
        },
        {
         "name": "Ticker",
         "rawType": "object",
         "type": "string"
        },
        {
         "name": "Date",
         "rawType": "object",
         "type": "string"
        },
        {
         "name": "Name",
         "rawType": "object",
         "type": "string"
        },
        {
         "name": "Sector",
         "rawType": "object",
         "type": "string"
        },
        {
         "name": "Industry",
         "rawType": "object",
         "type": "string"
        },
        {
         "name": "Country",
         "rawType": "object",
         "type": "string"
        },
        {
         "name": "Website",
         "rawType": "object",
         "type": "string"
        },
        {
         "name": "Market Cap",
         "rawType": "int64",
         "type": "integer"
        },
        {
         "name": "Enterprise Value",
         "rawType": "int64",
         "type": "integer"
        },
        {
         "name": "Float Shares",
         "rawType": "int64",
         "type": "integer"
        },
        {
         "name": "Shares Outstanding",
         "rawType": "int64",
         "type": "integer"
        },
        {
         "name": "P/E (Trailing)",
         "rawType": "float64",
         "type": "float"
        },
        {
         "name": "P/E (Forward)",
         "rawType": "float64",
         "type": "float"
        },
        {
         "name": "P/S",
         "rawType": "float64",
         "type": "float"
        },
        {
         "name": "P/B",
         "rawType": "float64",
         "type": "float"
        },
        {
         "name": "EV/Ebitda",
         "rawType": "float64",
         "type": "float"
        },
        {
         "name": "EV/Revenue",
         "rawType": "float64",
         "type": "float"
        },
        {
         "name": "Gross Margin (%)",
         "rawType": "float64",
         "type": "float"
        },
        {
         "name": "Ebitda Margin (%)",
         "rawType": "float64",
         "type": "float"
        },
        {
         "name": "Operating Margin (%)",
         "rawType": "float64",
         "type": "float"
        },
        {
         "name": "Profit Margin (%)",
         "rawType": "float64",
         "type": "float"
        },
        {
         "name": "ROE",
         "rawType": "float64",
         "type": "float"
        },
        {
         "name": "ROA",
         "rawType": "float64",
         "type": "float"
        },
        {
         "name": "Revenue (TTM)",
         "rawType": "int64",
         "type": "integer"
        },
        {
         "name": "Revenue Growth (%)",
         "rawType": "float64",
         "type": "float"
        },
        {
         "name": "EPS (Trailing)",
         "rawType": "float64",
         "type": "float"
        },
        {
         "name": "EPS (Forward)",
         "rawType": "float64",
         "type": "float"
        },
        {
         "name": "Earnings Growth (%)",
         "rawType": "float64",
         "type": "float"
        },
        {
         "name": "Earnings Quarterly Growth (%)",
         "rawType": "float64",
         "type": "float"
        },
        {
         "name": "Total Cash",
         "rawType": "int64",
         "type": "integer"
        },
        {
         "name": "Total Debt",
         "rawType": "int64",
         "type": "integer"
        },
        {
         "name": "Debt To Equity",
         "rawType": "float64",
         "type": "float"
        },
        {
         "name": "Current Ratio",
         "rawType": "float64",
         "type": "float"
        },
        {
         "name": "Quick Ratio",
         "rawType": "float64",
         "type": "float"
        },
        {
         "name": "Book Value",
         "rawType": "float64",
         "type": "float"
        },
        {
         "name": "Free Cash Flow",
         "rawType": "int64",
         "type": "integer"
        },
        {
         "name": "Operating Cash Flow",
         "rawType": "int64",
         "type": "integer"
        },
        {
         "name": "Dividend Yield (%)",
         "rawType": "float64",
         "type": "float"
        },
        {
         "name": "Dividend Rate (%)",
         "rawType": "float64",
         "type": "float"
        },
        {
         "name": "5Y Avg Dividend Yield (%)",
         "rawType": "float64",
         "type": "float"
        },
        {
         "name": "Payout Ratio (%)",
         "rawType": "float64",
         "type": "float"
        },
        {
         "name": "Price",
         "rawType": "float64",
         "type": "float"
        },
        {
         "name": "Target Price",
         "rawType": "float64",
         "type": "float"
        },
        {
         "name": "Target High",
         "rawType": "int64",
         "type": "integer"
        },
        {
         "name": "Target Low",
         "rawType": "float64",
         "type": "float"
        },
        {
         "name": "Analyst Rating",
         "rawType": "object",
         "type": "string"
        },
        {
         "name": "Analyst Rating Value",
         "rawType": "float64",
         "type": "float"
        },
        {
         "name": "Beta",
         "rawType": "float64",
         "type": "float"
        },
        {
         "name": "52W High",
         "rawType": "float64",
         "type": "float"
        },
        {
         "name": "52W Low",
         "rawType": "float64",
         "type": "float"
        },
        {
         "name": "50 Day Avg",
         "rawType": "float64",
         "type": "float"
        },
        {
         "name": "200 Day Avg",
         "rawType": "float64",
         "type": "float"
        },
        {
         "name": "Short Ratio",
         "rawType": "float64",
         "type": "float"
        },
        {
         "name": "Short % Of Float",
         "rawType": "float64",
         "type": "float"
        },
        {
         "name": "Strategy",
         "rawType": "object",
         "type": "string"
        },
        {
         "name": "Best Sharpe",
         "rawType": "float64",
         "type": "float"
        },
        {
         "name": "Best Sortino",
         "rawType": "float64",
         "type": "float"
        },
        {
         "name": "CAGR",
         "rawType": "float64",
         "type": "float"
        },
        {
         "name": "Max Drawdown",
         "rawType": "float64",
         "type": "float"
        },
        {
         "name": "Volatility",
         "rawType": "float64",
         "type": "float"
        },
        {
         "name": "Short Period",
         "rawType": "int64",
         "type": "integer"
        },
        {
         "name": "Long Period",
         "rawType": "int64",
         "type": "integer"
        },
        {
         "name": "Articles In Last Week",
         "rawType": "int64",
         "type": "integer"
        },
        {
         "name": "Company News Score",
         "rawType": "float64",
         "type": "float"
        },
        {
         "name": "Bearish Percent",
         "rawType": "float64",
         "type": "float"
        },
        {
         "name": "Bullish Percent",
         "rawType": "float64",
         "type": "float"
        },
        {
         "name": "Average Sentiment Score",
         "rawType": "float64",
         "type": "float"
        },
        {
         "name": "Sector Average Bullish Percent",
         "rawType": "float64",
         "type": "float"
        },
        {
         "name": "Sector Average News Score",
         "rawType": "float64",
         "type": "float"
        },
        {
         "name": "Weight",
         "rawType": "float64",
         "type": "float"
        }
       ],
       "ref": "8a5bb907-ae90-4a09-a479-c58bd83c9982",
       "rows": [
        [
         "0",
         "GRMN",
         "2025-06-02",
         "Garmin Ltd.",
         "Technology",
         "Scientific & Technical Instruments",
         "Switzerland",
         "https://www.garmin.com",
         "39080046592",
         "36584062976",
         "174794910",
         "192540992",
         "26.74",
         "27.21",
         "6.06",
         "4.78",
         "20.22",
         "5.67",
         "0.5858",
         "0.2806",
         "0.2168",
         "0.2276",
         "0.19",
         "0.11",
         "6450353152",
         "0.111",
         "7.59",
         "7.46",
         "0.203",
         "0.206",
         "2674510080",
         "178435008",
         "2.18",
         "4.1",
         "2.62",
         "42.44",
         "901582016",
         "1417954048",
         "0.0177",
         "0.036",
         "0.022",
         "0.3953",
         "202.97",
         "198.54",
         "285",
         "152.0",
         "hold",
         "3.0",
         "0.99",
         "246.5",
         "158.38",
         "198.45",
         "198.66",
         "2.49",
         "0.01",
         "SMA_Cross_Signal",
         "0.7872952793314424",
         "1.061508784594708",
         "0.180191507127397",
         "-0.4257363125460245",
         "0.2498950287520158",
         "10",
         "190",
         "5",
         "0.6425",
         "0.0",
         "0.6",
         "0.285",
         "0.5184",
         "0.5688",
         "0.5"
        ],
        [
         "1",
         "MSFT",
         "2025-06-02",
         "Microsoft Corporation",
         "Technology",
         "Software - Infrastructure",
         "United States",
         "https://www.microsoft.com",
         "3421643997184",
         "3447046799360",
         "7422063978",
         "7432540160",
         "35.58",
         "30.79",
         "12.67",
         "10.63",
         "23.11",
         "12.77",
         "0.6907",
         "0.5525",
         "0.4567",
         "0.3579",
         "0.34",
         "0.15",
         "270010007552",
         "0.133",
         "12.94",
         "14.95",
         "0.177",
         "0.177",
         "79617998848",
         "105018998784",
         "32.63",
         "1.37",
         "1.24",
         "43.3",
         "54817001472",
         "130710003712",
         "0.0072",
         "0.0332",
         "0.0083",
         "0.2442",
         "460.36",
         "509.92",
         "650",
         "429.86",
         "strong_buy",
         "1.41",
         "1.03",
         "468.35",
         "344.79",
         "409.1",
         "417.01",
         "2.48",
         "0.01",
         "SMA_Cross_Signal",
         "1.009688145706578",
         "1.279326483108479",
         "0.264126522227808",
         "-0.2804226918798666",
         "0.2677885128550899",
         "30",
         "190",
         "30",
         "0.6159",
         "0.0333",
         "0.5333",
         "0.2318",
         "0.5184",
         "0.5688",
         "0.5"
        ]
       ],
       "shape": {
        "columns": 70,
        "rows": 2
       }
      },
      "text/html": [
       "<div>\n",
       "<style scoped>\n",
       "    .dataframe tbody tr th:only-of-type {\n",
       "        vertical-align: middle;\n",
       "    }\n",
       "\n",
       "    .dataframe tbody tr th {\n",
       "        vertical-align: top;\n",
       "    }\n",
       "\n",
       "    .dataframe thead th {\n",
       "        text-align: right;\n",
       "    }\n",
       "</style>\n",
       "<table border=\"1\" class=\"dataframe\">\n",
       "  <thead>\n",
       "    <tr style=\"text-align: right;\">\n",
       "      <th></th>\n",
       "      <th>Ticker</th>\n",
       "      <th>Date</th>\n",
       "      <th>Name</th>\n",
       "      <th>Sector</th>\n",
       "      <th>Industry</th>\n",
       "      <th>Country</th>\n",
       "      <th>Website</th>\n",
       "      <th>Market Cap</th>\n",
       "      <th>Enterprise Value</th>\n",
       "      <th>Float Shares</th>\n",
       "      <th>...</th>\n",
       "      <th>Short Period</th>\n",
       "      <th>Long Period</th>\n",
       "      <th>Articles In Last Week</th>\n",
       "      <th>Company News Score</th>\n",
       "      <th>Bearish Percent</th>\n",
       "      <th>Bullish Percent</th>\n",
       "      <th>Average Sentiment Score</th>\n",
       "      <th>Sector Average Bullish Percent</th>\n",
       "      <th>Sector Average News Score</th>\n",
       "      <th>Weight</th>\n",
       "    </tr>\n",
       "  </thead>\n",
       "  <tbody>\n",
       "    <tr>\n",
       "      <th>0</th>\n",
       "      <td>GRMN</td>\n",
       "      <td>2025-06-02</td>\n",
       "      <td>Garmin Ltd.</td>\n",
       "      <td>Technology</td>\n",
       "      <td>Scientific &amp; Technical Instruments</td>\n",
       "      <td>Switzerland</td>\n",
       "      <td>https://www.garmin.com</td>\n",
       "      <td>39080046592</td>\n",
       "      <td>36584062976</td>\n",
       "      <td>174794910</td>\n",
       "      <td>...</td>\n",
       "      <td>10</td>\n",
       "      <td>190</td>\n",
       "      <td>5</td>\n",
       "      <td>0.6425</td>\n",
       "      <td>0.0000</td>\n",
       "      <td>0.6000</td>\n",
       "      <td>0.2850</td>\n",
       "      <td>0.5184</td>\n",
       "      <td>0.5688</td>\n",
       "      <td>0.5</td>\n",
       "    </tr>\n",
       "    <tr>\n",
       "      <th>1</th>\n",
       "      <td>MSFT</td>\n",
       "      <td>2025-06-02</td>\n",
       "      <td>Microsoft Corporation</td>\n",
       "      <td>Technology</td>\n",
       "      <td>Software - Infrastructure</td>\n",
       "      <td>United States</td>\n",
       "      <td>https://www.microsoft.com</td>\n",
       "      <td>3421643997184</td>\n",
       "      <td>3447046799360</td>\n",
       "      <td>7422063978</td>\n",
       "      <td>...</td>\n",
       "      <td>30</td>\n",
       "      <td>190</td>\n",
       "      <td>30</td>\n",
       "      <td>0.6159</td>\n",
       "      <td>0.0333</td>\n",
       "      <td>0.5333</td>\n",
       "      <td>0.2318</td>\n",
       "      <td>0.5184</td>\n",
       "      <td>0.5688</td>\n",
       "      <td>0.5</td>\n",
       "    </tr>\n",
       "  </tbody>\n",
       "</table>\n",
       "<p>2 rows × 70 columns</p>\n",
       "</div>"
      ],
      "text/plain": [
       "  Ticker        Date                   Name      Sector  \\\n",
       "0   GRMN  2025-06-02            Garmin Ltd.  Technology   \n",
       "1   MSFT  2025-06-02  Microsoft Corporation  Technology   \n",
       "\n",
       "                             Industry        Country  \\\n",
       "0  Scientific & Technical Instruments    Switzerland   \n",
       "1           Software - Infrastructure  United States   \n",
       "\n",
       "                     Website     Market Cap  Enterprise Value  Float Shares  \\\n",
       "0     https://www.garmin.com    39080046592       36584062976     174794910   \n",
       "1  https://www.microsoft.com  3421643997184     3447046799360    7422063978   \n",
       "\n",
       "   ...  Short Period  Long Period  Articles In Last Week  Company News Score  \\\n",
       "0  ...            10          190                      5              0.6425   \n",
       "1  ...            30          190                     30              0.6159   \n",
       "\n",
       "   Bearish Percent  Bullish Percent  Average Sentiment Score  \\\n",
       "0           0.0000           0.6000                   0.2850   \n",
       "1           0.0333           0.5333                   0.2318   \n",
       "\n",
       "   Sector Average Bullish Percent  Sector Average News Score  Weight  \n",
       "0                          0.5184                     0.5688     0.5  \n",
       "1                          0.5184                     0.5688     0.5  \n",
       "\n",
       "[2 rows x 70 columns]"
      ]
     },
     "metadata": {},
     "output_type": "display_data"
    }
   ],
   "source": [
    "portfolio_df = pd.read_excel(output_file, sheet_name=\"short_term\")   \n",
    "portfolio_tickers = portfolio_df[\"Ticker\"].tolist()\n",
    "# portfolio_df[\"Weight\"] = portfolio_df['Weight'].str.rstrip('%').astype(float) / 100\n",
    "portfolio_df[\"P/E (Trailing)\"] = pd.to_numeric(portfolio_df[\"P/E (Trailing)\"], errors=\"coerce\")\n",
    "\n",
    "print(portfolio_tickers)\n",
    "display(portfolio_df)"
   ]
  },
  {
   "cell_type": "markdown",
   "id": "bdc9579a",
   "metadata": {},
   "source": [
    "### Step 5: Benchmark Sector Screening"
   ]
  },
  {
   "cell_type": "markdown",
   "id": "8afc63ee",
   "metadata": {},
   "source": [
    "#### Filter Sectors by Portfolio"
   ]
  },
  {
   "cell_type": "code",
   "execution_count": 7,
   "id": "fcc09a94",
   "metadata": {
    "execution": {
     "iopub.execute_input": "2025-06-02T13:28:30.946684Z",
     "iopub.status.busy": "2025-06-02T13:28:30.946200Z",
     "iopub.status.idle": "2025-06-02T13:28:30.961848Z",
     "shell.execute_reply": "2025-06-02T13:28:30.961075Z"
    }
   },
   "outputs": [
    {
     "name": "stdout",
     "output_type": "stream",
     "text": [
      "Number of benchmarks left: 374\n"
     ]
    },
    {
     "data": {
      "application/vnd.microsoft.datawrangler.viewer.v0+json": {
       "columns": [
        {
         "name": "index",
         "rawType": "int64",
         "type": "integer"
        },
        {
         "name": "Symbol",
         "rawType": "object",
         "type": "string"
        },
        {
         "name": "Name",
         "rawType": "object",
         "type": "string"
        },
        {
         "name": "Sectors",
         "rawType": "object",
         "type": "unknown"
        }
       ],
       "ref": "4f7208ab-6357-410e-9568-b31ba60bc98d",
       "rows": [
        [
         "0",
         "AADR",
         "AdvisorShares Dorsey Wright ADR ETF",
         "{'realestate': 0.0, 'consumer_cyclical': 0.1182, 'basic_materials': 0.0425, 'consumer_defensive': 0.0, 'technology': 0.16479999, 'communication_services': 0.089499995, 'financial_services': 0.33900002, 'utilities': 0.033299997, 'industrials': 0.1005, 'energy': 0.0334, 'healthcare': 0.0788}"
        ],
        [
         "1",
         "ABFL",
         "Abacus FCF Leaders ETF",
         "{'realestate': 0.0, 'consumer_cyclical': 0.1188, 'basic_materials': 0.0, 'consumer_defensive': 0.0765, 'technology': 0.5052, 'communication_services': 0.0709, 'financial_services': 0.042600002, 'utilities': 0.0, 'industrials': 0.041100003, 'energy': 0.0, 'healthcare': 0.1449}"
        ],
        [
         "2",
         "ACWI",
         "iShares MSCI ACWI ETF",
         "{'realestate': 0.0216, 'consumer_cyclical': 0.1039, 'basic_materials': 0.0346, 'consumer_defensive': 0.0641, 'technology': 0.2491, 'communication_services': 0.084, 'financial_services': 0.1752, 'utilities': 0.0269, 'industrials': 0.1021, 'energy': 0.0375, 'healthcare': 0.1012}"
        ],
        [
         "3",
         "ADME",
         "Aptus Drawdown Managed Equity ETF",
         "{'realestate': 0.0222, 'consumer_cyclical': 0.1022, 'basic_materials': 0.0222, 'consumer_defensive': 0.0608, 'technology': 0.3147, 'communication_services': 0.091800004, 'financial_services': 0.1384, 'utilities': 0.0254, 'industrials': 0.0746, 'energy': 0.0357, 'healthcare': 0.111899994}"
        ],
        [
         "4",
         "AIA",
         "iShares Asia 50 ETF",
         "{'realestate': 0.0047999998, 'consumer_cyclical': 0.17790002, 'basic_materials': 0.0047999998, 'consumer_defensive': 0.0, 'technology': 0.39720002, 'communication_services': 0.16860001, 'financial_services': 0.2172, 'utilities': 0.0, 'industrials': 0.0095, 'energy': 0.0095999995, 'healthcare': 0.0104}"
        ]
       ],
       "shape": {
        "columns": 3,
        "rows": 5
       }
      },
      "text/html": [
       "<div>\n",
       "<style scoped>\n",
       "    .dataframe tbody tr th:only-of-type {\n",
       "        vertical-align: middle;\n",
       "    }\n",
       "\n",
       "    .dataframe tbody tr th {\n",
       "        vertical-align: top;\n",
       "    }\n",
       "\n",
       "    .dataframe thead th {\n",
       "        text-align: right;\n",
       "    }\n",
       "</style>\n",
       "<table border=\"1\" class=\"dataframe\">\n",
       "  <thead>\n",
       "    <tr style=\"text-align: right;\">\n",
       "      <th></th>\n",
       "      <th>Symbol</th>\n",
       "      <th>Name</th>\n",
       "      <th>Sectors</th>\n",
       "    </tr>\n",
       "  </thead>\n",
       "  <tbody>\n",
       "    <tr>\n",
       "      <th>0</th>\n",
       "      <td>AADR</td>\n",
       "      <td>AdvisorShares Dorsey Wright ADR ETF</td>\n",
       "      <td>{'realestate': 0.0, 'consumer_cyclical': 0.118...</td>\n",
       "    </tr>\n",
       "    <tr>\n",
       "      <th>1</th>\n",
       "      <td>ABFL</td>\n",
       "      <td>Abacus FCF Leaders ETF</td>\n",
       "      <td>{'realestate': 0.0, 'consumer_cyclical': 0.118...</td>\n",
       "    </tr>\n",
       "    <tr>\n",
       "      <th>2</th>\n",
       "      <td>ACWI</td>\n",
       "      <td>iShares MSCI ACWI ETF</td>\n",
       "      <td>{'realestate': 0.0216, 'consumer_cyclical': 0....</td>\n",
       "    </tr>\n",
       "    <tr>\n",
       "      <th>3</th>\n",
       "      <td>ADME</td>\n",
       "      <td>Aptus Drawdown Managed Equity ETF</td>\n",
       "      <td>{'realestate': 0.0222, 'consumer_cyclical': 0....</td>\n",
       "    </tr>\n",
       "    <tr>\n",
       "      <th>4</th>\n",
       "      <td>AIA</td>\n",
       "      <td>iShares Asia 50 ETF</td>\n",
       "      <td>{'realestate': 0.0047999998, 'consumer_cyclica...</td>\n",
       "    </tr>\n",
       "  </tbody>\n",
       "</table>\n",
       "</div>"
      ],
      "text/plain": [
       "  Symbol                                 Name  \\\n",
       "0   AADR  AdvisorShares Dorsey Wright ADR ETF   \n",
       "1   ABFL               Abacus FCF Leaders ETF   \n",
       "2   ACWI                iShares MSCI ACWI ETF   \n",
       "3   ADME    Aptus Drawdown Managed Equity ETF   \n",
       "4    AIA                  iShares Asia 50 ETF   \n",
       "\n",
       "                                             Sectors  \n",
       "0  {'realestate': 0.0, 'consumer_cyclical': 0.118...  \n",
       "1  {'realestate': 0.0, 'consumer_cyclical': 0.118...  \n",
       "2  {'realestate': 0.0216, 'consumer_cyclical': 0....  \n",
       "3  {'realestate': 0.0222, 'consumer_cyclical': 0....  \n",
       "4  {'realestate': 0.0047999998, 'consumer_cyclica...  "
      ]
     },
     "metadata": {},
     "output_type": "display_data"
    }
   ],
   "source": [
    "# Sort portfolio sectors by weight (descending)\n",
    "portfolio_sector_weights = (\n",
    "    portfolio_df.groupby('Sector')['Weight'].sum()\n",
    "    .sort_values(ascending=False)\n",
    ")\n",
    "ordered_portfolio_sectors = [sector.strip() for sector in portfolio_sector_weights.index]\n",
    "normalized_ordered_portfolio_sectors = [sector.strip().lower().replace(\" \", \"_\") for sector in ordered_portfolio_sectors]\n",
    "\n",
    "# Filter directly with lambda expression instead of using a separate function\n",
    "filtered_sectors_df = sectors_df[\n",
    "    sectors_df['Sectors'].apply(\n",
    "        lambda sector_dict: isinstance(sector_dict, dict) and all(\n",
    "            sector in sector_dict and sector_dict[sector] > 0 \n",
    "            for sector in normalized_ordered_portfolio_sectors\n",
    "        )\n",
    "    )\n",
    "].reset_index(drop=True)\n",
    "\n",
    "# Display Outputs\n",
    "tickers = filtered_sectors_df[\"Symbol\"].tolist()\n",
    "print(\"Number of benchmarks left:\", len(tickers))\n",
    "display(filtered_sectors_df.head())"
   ]
  },
  {
   "cell_type": "markdown",
   "id": "c178af0c",
   "metadata": {},
   "source": [
    "#### Import ETF Fundamental Data"
   ]
  },
  {
   "cell_type": "code",
   "execution_count": 8,
   "id": "b483eba0",
   "metadata": {
    "execution": {
     "iopub.execute_input": "2025-06-02T13:28:30.966081Z",
     "iopub.status.busy": "2025-06-02T13:28:30.964923Z",
     "iopub.status.idle": "2025-06-02T13:28:31.003315Z",
     "shell.execute_reply": "2025-06-02T13:28:31.001732Z"
    }
   },
   "outputs": [
    {
     "data": {
      "application/vnd.microsoft.datawrangler.viewer.v0+json": {
       "columns": [
        {
         "name": "index",
         "rawType": "int64",
         "type": "integer"
        },
        {
         "name": "Symbol",
         "rawType": "object",
         "type": "string"
        },
        {
         "name": "Name_x",
         "rawType": "object",
         "type": "string"
        },
        {
         "name": "Sectors",
         "rawType": "object",
         "type": "unknown"
        },
        {
         "name": "Date",
         "rawType": "object",
         "type": "string"
        },
        {
         "name": "Name_y",
         "rawType": "object",
         "type": "string"
        },
        {
         "name": "Sector",
         "rawType": "object",
         "type": "string"
        },
        {
         "name": "Industry",
         "rawType": "object",
         "type": "string"
        },
        {
         "name": "Country",
         "rawType": "object",
         "type": "string"
        },
        {
         "name": "Website",
         "rawType": "object",
         "type": "string"
        },
        {
         "name": "Market Cap",
         "rawType": "float64",
         "type": "float"
        },
        {
         "name": "Shares Outstanding",
         "rawType": "float64",
         "type": "float"
        },
        {
         "name": "P/E (trailing)",
         "rawType": "float64",
         "type": "float"
        },
        {
         "name": "P/E (forward)",
         "rawType": "float64",
         "type": "float"
        },
        {
         "name": "P/B",
         "rawType": "float64",
         "type": "float"
        },
        {
         "name": "Book Value",
         "rawType": "float64",
         "type": "float"
        },
        {
         "name": "Dividend Yield (%)",
         "rawType": "float64",
         "type": "float"
        },
        {
         "name": "Dividend Rate (%)",
         "rawType": "float64",
         "type": "float"
        },
        {
         "name": "5Y Avg Dividend Yield (%)",
         "rawType": "float64",
         "type": "float"
        },
        {
         "name": "Payout Ratio (%)",
         "rawType": "float64",
         "type": "float"
        },
        {
         "name": "Price",
         "rawType": "float64",
         "type": "float"
        },
        {
         "name": "Analyst Rating",
         "rawType": "object",
         "type": "string"
        },
        {
         "name": "52W High",
         "rawType": "float64",
         "type": "float"
        },
        {
         "name": "52W Low",
         "rawType": "float64",
         "type": "float"
        },
        {
         "name": "50 Day Avg",
         "rawType": "float64",
         "type": "float"
        },
        {
         "name": "200 Day Avg",
         "rawType": "float64",
         "type": "float"
        },
        {
         "name": "Sector Weightings",
         "rawType": "object",
         "type": "string"
        }
       ],
       "ref": "7399b73e-4bf2-495e-9cb3-d772ffac0e1a",
       "rows": [
        [
         "0",
         "AADR",
         "AdvisorShares Dorsey Wright ADR ETF",
         "{'realestate': 0.0, 'consumer_cyclical': 0.1182, 'basic_materials': 0.0425, 'consumer_defensive': 0.0, 'technology': 0.16479999, 'communication_services': 0.089499995, 'financial_services': 0.33900002, 'utilities': 0.033299997, 'industrials': 0.1005, 'energy': 0.0334, 'healthcare': 0.0788}",
         "2025-06-02",
         "AdvisorShares Dorsey Wright ADR ETF",
         "Unknown",
         "Unknown",
         "Unknown",
         "Unknown",
         "0.0",
         null,
         "14.95",
         null,
         null,
         null,
         "0.0123",
         "0.0",
         "0.0",
         "0.0",
         "77.58",
         "Unknown",
         "81.17",
         "54.57",
         "74.66",
         "70.09",
         "{\"realestate\": 0.0, \"consumer_cyclical\": 0.1182, \"basic_materials\": 0.0425, \"consumer_defensive\": 0.0, \"technology\": 0.16479999, \"communication_services\": 0.089499995, \"financial_services\": 0.33900002, \"utilities\": 0.033299997, \"industrials\": 0.1005, \"energy\": 0.0334, \"healthcare\": 0.0788}"
        ],
        [
         "1",
         "ABFL",
         "Abacus FCF Leaders ETF",
         "{'realestate': 0.0, 'consumer_cyclical': 0.1188, 'basic_materials': 0.0, 'consumer_defensive': 0.0765, 'technology': 0.5052, 'communication_services': 0.0709, 'financial_services': 0.042600002, 'utilities': 0.0, 'industrials': 0.041100003, 'energy': 0.0, 'healthcare': 0.1449}",
         "2025-06-02",
         "Abacus FCF Leaders ETF",
         "Unknown",
         "Unknown",
         "Unknown",
         "Unknown",
         "0.0",
         null,
         "33.43",
         null,
         null,
         null,
         "0.0082",
         "0.0",
         "0.0",
         "0.0",
         "69.15",
         "Unknown",
         "71.28",
         "55.4",
         "64.73",
         "66.17",
         "{\"realestate\": 0.0, \"consumer_cyclical\": 0.1188, \"basic_materials\": 0.0, \"consumer_defensive\": 0.0765, \"technology\": 0.5052, \"communication_services\": 0.0709, \"financial_services\": 0.042600002, \"utilities\": 0.0, \"industrials\": 0.041100003, \"energy\": 0.0, \"healthcare\": 0.1449}"
        ],
        [
         "2",
         "ACWI",
         "iShares MSCI ACWI ETF",
         "{'realestate': 0.0216, 'consumer_cyclical': 0.1039, 'basic_materials': 0.0346, 'consumer_defensive': 0.0641, 'technology': 0.2491, 'communication_services': 0.084, 'financial_services': 0.1752, 'utilities': 0.0269, 'industrials': 0.1021, 'energy': 0.0375, 'healthcare': 0.1012}",
         "2025-06-02",
         "iShares MSCI ACWI ETF",
         "Unknown",
         "Unknown",
         "Unknown",
         "Unknown",
         "0.0",
         null,
         "21.39",
         null,
         null,
         null,
         "0.0171",
         "0.0",
         "0.0",
         "0.0",
         "123.65",
         "Unknown",
         "124.54",
         "101.25",
         "117.25",
         "118.68",
         "{\"realestate\": 0.0216, \"consumer_cyclical\": 0.1039, \"basic_materials\": 0.0346, \"consumer_defensive\": 0.0641, \"technology\": 0.2491, \"communication_services\": 0.084, \"financial_services\": 0.1752, \"utilities\": 0.0269, \"industrials\": 0.1021, \"energy\": 0.0375, \"healthcare\": 0.1012}"
        ],
        [
         "3",
         "ADME",
         "Aptus Drawdown Managed Equity ETF",
         "{'realestate': 0.0222, 'consumer_cyclical': 0.1022, 'basic_materials': 0.0222, 'consumer_defensive': 0.0608, 'technology': 0.3147, 'communication_services': 0.091800004, 'financial_services': 0.1384, 'utilities': 0.0254, 'industrials': 0.0746, 'energy': 0.0357, 'healthcare': 0.111899994}",
         "2025-05-02",
         "Aptus Drawdown Managed Equity ETF",
         "Unknown",
         "Unknown",
         "Unknown",
         "Unknown",
         "0.0",
         null,
         "25.43",
         null,
         null,
         null,
         "0.0047",
         "0.0",
         "0.0",
         "0.0",
         "44.46",
         "Unknown",
         "48.56",
         "39.85",
         "44.34",
         "45.9",
         "{\"realestate\": 0.0222, \"consumer_cyclical\": 0.1022, \"basic_materials\": 0.0222, \"consumer_defensive\": 0.0608, \"technology\": 0.3147, \"communication_services\": 0.091800004, \"financial_services\": 0.1384, \"utilities\": 0.0254, \"industrials\": 0.0746, \"energy\": 0.0357, \"healthcare\": 0.111899994}"
        ],
        [
         "4",
         "AIA",
         "iShares Asia 50 ETF",
         "{'realestate': 0.0047999998, 'consumer_cyclical': 0.17790002, 'basic_materials': 0.0047999998, 'consumer_defensive': 0.0, 'technology': 0.39720002, 'communication_services': 0.16860001, 'financial_services': 0.2172, 'utilities': 0.0, 'industrials': 0.0095, 'energy': 0.0095999995, 'healthcare': 0.0104}",
         "2025-06-02",
         "iShares Asia 50 ETF",
         "Unknown",
         "Unknown",
         "Unknown",
         "Unknown",
         "0.0",
         null,
         "13.54",
         null,
         null,
         null,
         "0.0268",
         "0.0",
         "0.0",
         "0.0",
         "74.67",
         "Unknown",
         "77.87",
         "59.33",
         "71.89",
         "71.02",
         "{\"realestate\": 0.0047999998, \"consumer_cyclical\": 0.17790002, \"basic_materials\": 0.0047999998, \"consumer_defensive\": 0.0, \"technology\": 0.39720002, \"communication_services\": 0.16860001, \"financial_services\": 0.2172, \"utilities\": 0.0, \"industrials\": 0.0095, \"energy\": 0.0095999995, \"healthcare\": 0.0104}"
        ]
       ],
       "shape": {
        "columns": 26,
        "rows": 5
       }
      },
      "text/html": [
       "<div>\n",
       "<style scoped>\n",
       "    .dataframe tbody tr th:only-of-type {\n",
       "        vertical-align: middle;\n",
       "    }\n",
       "\n",
       "    .dataframe tbody tr th {\n",
       "        vertical-align: top;\n",
       "    }\n",
       "\n",
       "    .dataframe thead th {\n",
       "        text-align: right;\n",
       "    }\n",
       "</style>\n",
       "<table border=\"1\" class=\"dataframe\">\n",
       "  <thead>\n",
       "    <tr style=\"text-align: right;\">\n",
       "      <th></th>\n",
       "      <th>Symbol</th>\n",
       "      <th>Name_x</th>\n",
       "      <th>Sectors</th>\n",
       "      <th>Date</th>\n",
       "      <th>Name_y</th>\n",
       "      <th>Sector</th>\n",
       "      <th>Industry</th>\n",
       "      <th>Country</th>\n",
       "      <th>Website</th>\n",
       "      <th>Market Cap</th>\n",
       "      <th>...</th>\n",
       "      <th>Dividend Rate (%)</th>\n",
       "      <th>5Y Avg Dividend Yield (%)</th>\n",
       "      <th>Payout Ratio (%)</th>\n",
       "      <th>Price</th>\n",
       "      <th>Analyst Rating</th>\n",
       "      <th>52W High</th>\n",
       "      <th>52W Low</th>\n",
       "      <th>50 Day Avg</th>\n",
       "      <th>200 Day Avg</th>\n",
       "      <th>Sector Weightings</th>\n",
       "    </tr>\n",
       "  </thead>\n",
       "  <tbody>\n",
       "    <tr>\n",
       "      <th>0</th>\n",
       "      <td>AADR</td>\n",
       "      <td>AdvisorShares Dorsey Wright ADR ETF</td>\n",
       "      <td>{'realestate': 0.0, 'consumer_cyclical': 0.118...</td>\n",
       "      <td>2025-06-02</td>\n",
       "      <td>AdvisorShares Dorsey Wright ADR ETF</td>\n",
       "      <td>Unknown</td>\n",
       "      <td>Unknown</td>\n",
       "      <td>Unknown</td>\n",
       "      <td>Unknown</td>\n",
       "      <td>0.0</td>\n",
       "      <td>...</td>\n",
       "      <td>0.0</td>\n",
       "      <td>0.0</td>\n",
       "      <td>0.0</td>\n",
       "      <td>77.58</td>\n",
       "      <td>Unknown</td>\n",
       "      <td>81.17</td>\n",
       "      <td>54.57</td>\n",
       "      <td>74.66</td>\n",
       "      <td>70.09</td>\n",
       "      <td>{\"realestate\": 0.0, \"consumer_cyclical\": 0.118...</td>\n",
       "    </tr>\n",
       "    <tr>\n",
       "      <th>1</th>\n",
       "      <td>ABFL</td>\n",
       "      <td>Abacus FCF Leaders ETF</td>\n",
       "      <td>{'realestate': 0.0, 'consumer_cyclical': 0.118...</td>\n",
       "      <td>2025-06-02</td>\n",
       "      <td>Abacus FCF Leaders ETF</td>\n",
       "      <td>Unknown</td>\n",
       "      <td>Unknown</td>\n",
       "      <td>Unknown</td>\n",
       "      <td>Unknown</td>\n",
       "      <td>0.0</td>\n",
       "      <td>...</td>\n",
       "      <td>0.0</td>\n",
       "      <td>0.0</td>\n",
       "      <td>0.0</td>\n",
       "      <td>69.15</td>\n",
       "      <td>Unknown</td>\n",
       "      <td>71.28</td>\n",
       "      <td>55.40</td>\n",
       "      <td>64.73</td>\n",
       "      <td>66.17</td>\n",
       "      <td>{\"realestate\": 0.0, \"consumer_cyclical\": 0.118...</td>\n",
       "    </tr>\n",
       "    <tr>\n",
       "      <th>2</th>\n",
       "      <td>ACWI</td>\n",
       "      <td>iShares MSCI ACWI ETF</td>\n",
       "      <td>{'realestate': 0.0216, 'consumer_cyclical': 0....</td>\n",
       "      <td>2025-06-02</td>\n",
       "      <td>iShares MSCI ACWI ETF</td>\n",
       "      <td>Unknown</td>\n",
       "      <td>Unknown</td>\n",
       "      <td>Unknown</td>\n",
       "      <td>Unknown</td>\n",
       "      <td>0.0</td>\n",
       "      <td>...</td>\n",
       "      <td>0.0</td>\n",
       "      <td>0.0</td>\n",
       "      <td>0.0</td>\n",
       "      <td>123.65</td>\n",
       "      <td>Unknown</td>\n",
       "      <td>124.54</td>\n",
       "      <td>101.25</td>\n",
       "      <td>117.25</td>\n",
       "      <td>118.68</td>\n",
       "      <td>{\"realestate\": 0.0216, \"consumer_cyclical\": 0....</td>\n",
       "    </tr>\n",
       "    <tr>\n",
       "      <th>3</th>\n",
       "      <td>ADME</td>\n",
       "      <td>Aptus Drawdown Managed Equity ETF</td>\n",
       "      <td>{'realestate': 0.0222, 'consumer_cyclical': 0....</td>\n",
       "      <td>2025-05-02</td>\n",
       "      <td>Aptus Drawdown Managed Equity ETF</td>\n",
       "      <td>Unknown</td>\n",
       "      <td>Unknown</td>\n",
       "      <td>Unknown</td>\n",
       "      <td>Unknown</td>\n",
       "      <td>0.0</td>\n",
       "      <td>...</td>\n",
       "      <td>0.0</td>\n",
       "      <td>0.0</td>\n",
       "      <td>0.0</td>\n",
       "      <td>44.46</td>\n",
       "      <td>Unknown</td>\n",
       "      <td>48.56</td>\n",
       "      <td>39.85</td>\n",
       "      <td>44.34</td>\n",
       "      <td>45.90</td>\n",
       "      <td>{\"realestate\": 0.0222, \"consumer_cyclical\": 0....</td>\n",
       "    </tr>\n",
       "    <tr>\n",
       "      <th>4</th>\n",
       "      <td>AIA</td>\n",
       "      <td>iShares Asia 50 ETF</td>\n",
       "      <td>{'realestate': 0.0047999998, 'consumer_cyclica...</td>\n",
       "      <td>2025-06-02</td>\n",
       "      <td>iShares Asia 50 ETF</td>\n",
       "      <td>Unknown</td>\n",
       "      <td>Unknown</td>\n",
       "      <td>Unknown</td>\n",
       "      <td>Unknown</td>\n",
       "      <td>0.0</td>\n",
       "      <td>...</td>\n",
       "      <td>0.0</td>\n",
       "      <td>0.0</td>\n",
       "      <td>0.0</td>\n",
       "      <td>74.67</td>\n",
       "      <td>Unknown</td>\n",
       "      <td>77.87</td>\n",
       "      <td>59.33</td>\n",
       "      <td>71.89</td>\n",
       "      <td>71.02</td>\n",
       "      <td>{\"realestate\": 0.0047999998, \"consumer_cyclica...</td>\n",
       "    </tr>\n",
       "  </tbody>\n",
       "</table>\n",
       "<p>5 rows × 26 columns</p>\n",
       "</div>"
      ],
      "text/plain": [
       "  Symbol                               Name_x  \\\n",
       "0   AADR  AdvisorShares Dorsey Wright ADR ETF   \n",
       "1   ABFL               Abacus FCF Leaders ETF   \n",
       "2   ACWI                iShares MSCI ACWI ETF   \n",
       "3   ADME    Aptus Drawdown Managed Equity ETF   \n",
       "4    AIA                  iShares Asia 50 ETF   \n",
       "\n",
       "                                             Sectors        Date  \\\n",
       "0  {'realestate': 0.0, 'consumer_cyclical': 0.118...  2025-06-02   \n",
       "1  {'realestate': 0.0, 'consumer_cyclical': 0.118...  2025-06-02   \n",
       "2  {'realestate': 0.0216, 'consumer_cyclical': 0....  2025-06-02   \n",
       "3  {'realestate': 0.0222, 'consumer_cyclical': 0....  2025-05-02   \n",
       "4  {'realestate': 0.0047999998, 'consumer_cyclica...  2025-06-02   \n",
       "\n",
       "                                Name_y   Sector Industry  Country  Website  \\\n",
       "0  AdvisorShares Dorsey Wright ADR ETF  Unknown  Unknown  Unknown  Unknown   \n",
       "1               Abacus FCF Leaders ETF  Unknown  Unknown  Unknown  Unknown   \n",
       "2                iShares MSCI ACWI ETF  Unknown  Unknown  Unknown  Unknown   \n",
       "3    Aptus Drawdown Managed Equity ETF  Unknown  Unknown  Unknown  Unknown   \n",
       "4                  iShares Asia 50 ETF  Unknown  Unknown  Unknown  Unknown   \n",
       "\n",
       "   Market Cap  ...  Dividend Rate (%)  5Y Avg Dividend Yield (%)  \\\n",
       "0         0.0  ...                0.0                        0.0   \n",
       "1         0.0  ...                0.0                        0.0   \n",
       "2         0.0  ...                0.0                        0.0   \n",
       "3         0.0  ...                0.0                        0.0   \n",
       "4         0.0  ...                0.0                        0.0   \n",
       "\n",
       "   Payout Ratio (%)   Price  Analyst Rating  52W High  52W Low  50 Day Avg  \\\n",
       "0               0.0   77.58         Unknown     81.17    54.57       74.66   \n",
       "1               0.0   69.15         Unknown     71.28    55.40       64.73   \n",
       "2               0.0  123.65         Unknown    124.54   101.25      117.25   \n",
       "3               0.0   44.46         Unknown     48.56    39.85       44.34   \n",
       "4               0.0   74.67         Unknown     77.87    59.33       71.89   \n",
       "\n",
       "   200 Day Avg                                  Sector Weightings  \n",
       "0        70.09  {\"realestate\": 0.0, \"consumer_cyclical\": 0.118...  \n",
       "1        66.17  {\"realestate\": 0.0, \"consumer_cyclical\": 0.118...  \n",
       "2       118.68  {\"realestate\": 0.0216, \"consumer_cyclical\": 0....  \n",
       "3        45.90  {\"realestate\": 0.0222, \"consumer_cyclical\": 0....  \n",
       "4        71.02  {\"realestate\": 0.0047999998, \"consumer_cyclica...  \n",
       "\n",
       "[5 rows x 26 columns]"
      ]
     },
     "metadata": {},
     "output_type": "display_data"
    }
   ],
   "source": [
    "# fundamentals_df = fetch_fundamentals(tickers) # Download fundamentals data for the tickers\n",
    "fundamentals_df = pd.read_csv(\"data/fundamentals_benchmark.csv\",index_col=\"Ticker\").query(\"Ticker in @tickers\") # Import the fundamentals data from a CSV file\n",
    "\n",
    "# Set the index name\n",
    "fundamentals_df.index.name = \"Symbol\"\n",
    "\n",
    "# Move the index into a column\n",
    "fundamentals_df = fundamentals_df.reset_index()\n",
    "\n",
    "# Perform the merge\n",
    "merged_df = pd.merge(filtered_sectors_df, fundamentals_df, on='Symbol', how='inner').dropna(how='all', axis=1)\n",
    "\n",
    "# Display the merged DataFrame\n",
    "display(merged_df.head())"
   ]
  },
  {
   "cell_type": "markdown",
   "id": "f0672a0d",
   "metadata": {},
   "source": [
    "#### Filter for the P/E (Trailling) Similar to Portfolio Weighted Average P/E"
   ]
  },
  {
   "cell_type": "code",
   "execution_count": 9,
   "id": "8e97edd6",
   "metadata": {
    "execution": {
     "iopub.execute_input": "2025-06-02T13:28:31.006793Z",
     "iopub.status.busy": "2025-06-02T13:28:31.006305Z",
     "iopub.status.idle": "2025-06-02T13:28:31.031205Z",
     "shell.execute_reply": "2025-06-02T13:28:31.030070Z"
    }
   },
   "outputs": [
    {
     "name": "stdout",
     "output_type": "stream",
     "text": [
      "Portfolio Weighted Average P/E (trailing): 31.159999999999997\n",
      "Lower Bound: 24.927999999999997\n",
      "Upper Bound: 37.391999999999996\n",
      "Number of benchmarks after filtering by P/E (trailing): 91\n"
     ]
    },
    {
     "data": {
      "application/vnd.microsoft.datawrangler.viewer.v0+json": {
       "columns": [
        {
         "name": "index",
         "rawType": "int64",
         "type": "integer"
        },
        {
         "name": "Symbol",
         "rawType": "object",
         "type": "string"
        },
        {
         "name": "Name_x",
         "rawType": "object",
         "type": "string"
        },
        {
         "name": "Sectors",
         "rawType": "object",
         "type": "unknown"
        },
        {
         "name": "Date",
         "rawType": "object",
         "type": "string"
        },
        {
         "name": "Name_y",
         "rawType": "object",
         "type": "string"
        },
        {
         "name": "Sector",
         "rawType": "object",
         "type": "string"
        },
        {
         "name": "Industry",
         "rawType": "object",
         "type": "string"
        },
        {
         "name": "Country",
         "rawType": "object",
         "type": "string"
        },
        {
         "name": "Website",
         "rawType": "object",
         "type": "string"
        },
        {
         "name": "Market Cap",
         "rawType": "float64",
         "type": "float"
        },
        {
         "name": "Shares Outstanding",
         "rawType": "float64",
         "type": "float"
        },
        {
         "name": "P/E (trailing)",
         "rawType": "float64",
         "type": "float"
        },
        {
         "name": "P/E (forward)",
         "rawType": "float64",
         "type": "float"
        },
        {
         "name": "P/B",
         "rawType": "float64",
         "type": "float"
        },
        {
         "name": "Book Value",
         "rawType": "float64",
         "type": "float"
        },
        {
         "name": "Dividend Yield (%)",
         "rawType": "float64",
         "type": "float"
        },
        {
         "name": "Dividend Rate (%)",
         "rawType": "float64",
         "type": "float"
        },
        {
         "name": "5Y Avg Dividend Yield (%)",
         "rawType": "float64",
         "type": "float"
        },
        {
         "name": "Payout Ratio (%)",
         "rawType": "float64",
         "type": "float"
        },
        {
         "name": "Price",
         "rawType": "float64",
         "type": "float"
        },
        {
         "name": "Analyst Rating",
         "rawType": "object",
         "type": "string"
        },
        {
         "name": "52W High",
         "rawType": "float64",
         "type": "float"
        },
        {
         "name": "52W Low",
         "rawType": "float64",
         "type": "float"
        },
        {
         "name": "50 Day Avg",
         "rawType": "float64",
         "type": "float"
        },
        {
         "name": "200 Day Avg",
         "rawType": "float64",
         "type": "float"
        },
        {
         "name": "Sector Weightings",
         "rawType": "object",
         "type": "string"
        }
       ],
       "ref": "90530ad6-897c-4522-bd16-f258a4f0e35d",
       "rows": [
        [
         "1",
         "ABFL",
         "Abacus FCF Leaders ETF",
         "{'realestate': 0.0, 'consumer_cyclical': 0.1188, 'basic_materials': 0.0, 'consumer_defensive': 0.0765, 'technology': 0.5052, 'communication_services': 0.0709, 'financial_services': 0.042600002, 'utilities': 0.0, 'industrials': 0.041100003, 'energy': 0.0, 'healthcare': 0.1449}",
         "2025-06-02",
         "Abacus FCF Leaders ETF",
         "Unknown",
         "Unknown",
         "Unknown",
         "Unknown",
         "0.0",
         null,
         "33.43",
         null,
         null,
         null,
         "0.0082",
         "0.0",
         "0.0",
         "0.0",
         "69.15",
         "Unknown",
         "71.28",
         "55.4",
         "64.73",
         "66.17",
         "{\"realestate\": 0.0, \"consumer_cyclical\": 0.1188, \"basic_materials\": 0.0, \"consumer_defensive\": 0.0765, \"technology\": 0.5052, \"communication_services\": 0.0709, \"financial_services\": 0.042600002, \"utilities\": 0.0, \"industrials\": 0.041100003, \"energy\": 0.0, \"healthcare\": 0.1449}"
        ],
        [
         "3",
         "ADME",
         "Aptus Drawdown Managed Equity ETF",
         "{'realestate': 0.0222, 'consumer_cyclical': 0.1022, 'basic_materials': 0.0222, 'consumer_defensive': 0.0608, 'technology': 0.3147, 'communication_services': 0.091800004, 'financial_services': 0.1384, 'utilities': 0.0254, 'industrials': 0.0746, 'energy': 0.0357, 'healthcare': 0.111899994}",
         "2025-05-02",
         "Aptus Drawdown Managed Equity ETF",
         "Unknown",
         "Unknown",
         "Unknown",
         "Unknown",
         "0.0",
         null,
         "25.43",
         null,
         null,
         null,
         "0.0047",
         "0.0",
         "0.0",
         "0.0",
         "44.46",
         "Unknown",
         "48.56",
         "39.85",
         "44.34",
         "45.9",
         "{\"realestate\": 0.0222, \"consumer_cyclical\": 0.1022, \"basic_materials\": 0.0222, \"consumer_defensive\": 0.0608, \"technology\": 0.3147, \"communication_services\": 0.091800004, \"financial_services\": 0.1384, \"utilities\": 0.0254, \"industrials\": 0.0746, \"energy\": 0.0357, \"healthcare\": 0.111899994}"
        ],
        [
         "5",
         "AIQ",
         "Global X Artificial Intelligence & Technology ETF",
         "{'realestate': 0.0, 'consumer_cyclical': 0.1025, 'basic_materials': 0.0, 'consumer_defensive': 0.0, 'technology': 0.6926, 'communication_services': 0.14109999, 'financial_services': 0.0016, 'utilities': 0.0, 'industrials': 0.0556, 'energy': 0.0, 'healthcare': 0.0066000004}",
         "2025-06-02",
         "Global X Artificial Intelligence & Technology ETF",
         "Unknown",
         "Unknown",
         "Unknown",
         "Unknown",
         "0.0",
         null,
         "27.75",
         null,
         null,
         null,
         "0.0014",
         "0.0",
         "0.0",
         "0.0",
         "40.3",
         "Unknown",
         "42.78",
         "30.6",
         "37.32",
         "37.94",
         "{\"realestate\": 0.0, \"consumer_cyclical\": 0.1025, \"basic_materials\": 0.0, \"consumer_defensive\": 0.0, \"technology\": 0.6926, \"communication_services\": 0.14109999, \"financial_services\": 0.0016, \"utilities\": 0.0, \"industrials\": 0.0556, \"energy\": 0.0, \"healthcare\": 0.0066000004}"
        ],
        [
         "11",
         "BAPR",
         "Innovator U.S. Equity Buffer ETF - April",
         "{'realestate': 0.0224, 'consumer_cyclical': 0.105100006, 'basic_materials': 0.0176, 'consumer_defensive': 0.061100002, 'technology': 0.316, 'communication_services': 0.095, 'financial_services': 0.14029999, 'utilities': 0.025799999, 'industrials': 0.0762, 'energy': 0.0327, 'healthcare': 0.107700005}",
         "2025-06-02",
         "Innovator U.S. Equity Buffer ETF - April",
         "Unknown",
         "Unknown",
         "Unknown",
         "Unknown",
         "0.0",
         null,
         "25.2",
         null,
         null,
         null,
         "0.0",
         "0.0",
         "0.0",
         "0.0",
         "43.98",
         "Unknown",
         "46.04",
         "38.21",
         "42.39",
         "43.57",
         "{\"realestate\": 0.0224, \"consumer_cyclical\": 0.105100006, \"basic_materials\": 0.0176, \"consumer_defensive\": 0.061100002, \"technology\": 0.316, \"communication_services\": 0.095, \"financial_services\": 0.14029999, \"utilities\": 0.025799999, \"industrials\": 0.0762, \"energy\": 0.0327, \"healthcare\": 0.107700005}"
        ],
        [
         "12",
         "BBUS",
         "JPMorgan BetaBuilders U.S. Equity ETF",
         "{'realestate': 0.0231, 'consumer_cyclical': 0.1047, 'basic_materials': 0.0188, 'consumer_defensive': 0.059899997, 'technology': 0.3183, 'communication_services': 0.0949, 'financial_services': 0.13949999, 'utilities': 0.024600001, 'industrials': 0.0769, 'energy': 0.031400003, 'healthcare': 0.108100004}",
         "2025-06-02",
         "JPMorgan BetaBuilders U.S. Equity ETF",
         "Unknown",
         "Unknown",
         "Unknown",
         "Unknown",
         "0.0",
         null,
         "25.74",
         null,
         null,
         null,
         "0.0131",
         "0.0",
         "0.0",
         "0.0",
         "106.74",
         "Unknown",
         "111.04",
         "86.94",
         "101.02",
         "104.33",
         "{\"realestate\": 0.0231, \"consumer_cyclical\": 0.1047, \"basic_materials\": 0.0188, \"consumer_defensive\": 0.059899997, \"technology\": 0.3183, \"communication_services\": 0.0949, \"financial_services\": 0.13949999, \"utilities\": 0.024600001, \"industrials\": 0.0769, \"energy\": 0.031400003, \"healthcare\": 0.108100004}"
        ]
       ],
       "shape": {
        "columns": 26,
        "rows": 5
       }
      },
      "text/html": [
       "<div>\n",
       "<style scoped>\n",
       "    .dataframe tbody tr th:only-of-type {\n",
       "        vertical-align: middle;\n",
       "    }\n",
       "\n",
       "    .dataframe tbody tr th {\n",
       "        vertical-align: top;\n",
       "    }\n",
       "\n",
       "    .dataframe thead th {\n",
       "        text-align: right;\n",
       "    }\n",
       "</style>\n",
       "<table border=\"1\" class=\"dataframe\">\n",
       "  <thead>\n",
       "    <tr style=\"text-align: right;\">\n",
       "      <th></th>\n",
       "      <th>Symbol</th>\n",
       "      <th>Name_x</th>\n",
       "      <th>Sectors</th>\n",
       "      <th>Date</th>\n",
       "      <th>Name_y</th>\n",
       "      <th>Sector</th>\n",
       "      <th>Industry</th>\n",
       "      <th>Country</th>\n",
       "      <th>Website</th>\n",
       "      <th>Market Cap</th>\n",
       "      <th>...</th>\n",
       "      <th>Dividend Rate (%)</th>\n",
       "      <th>5Y Avg Dividend Yield (%)</th>\n",
       "      <th>Payout Ratio (%)</th>\n",
       "      <th>Price</th>\n",
       "      <th>Analyst Rating</th>\n",
       "      <th>52W High</th>\n",
       "      <th>52W Low</th>\n",
       "      <th>50 Day Avg</th>\n",
       "      <th>200 Day Avg</th>\n",
       "      <th>Sector Weightings</th>\n",
       "    </tr>\n",
       "  </thead>\n",
       "  <tbody>\n",
       "    <tr>\n",
       "      <th>1</th>\n",
       "      <td>ABFL</td>\n",
       "      <td>Abacus FCF Leaders ETF</td>\n",
       "      <td>{'realestate': 0.0, 'consumer_cyclical': 0.118...</td>\n",
       "      <td>2025-06-02</td>\n",
       "      <td>Abacus FCF Leaders ETF</td>\n",
       "      <td>Unknown</td>\n",
       "      <td>Unknown</td>\n",
       "      <td>Unknown</td>\n",
       "      <td>Unknown</td>\n",
       "      <td>0.0</td>\n",
       "      <td>...</td>\n",
       "      <td>0.0</td>\n",
       "      <td>0.0</td>\n",
       "      <td>0.0</td>\n",
       "      <td>69.15</td>\n",
       "      <td>Unknown</td>\n",
       "      <td>71.28</td>\n",
       "      <td>55.40</td>\n",
       "      <td>64.73</td>\n",
       "      <td>66.17</td>\n",
       "      <td>{\"realestate\": 0.0, \"consumer_cyclical\": 0.118...</td>\n",
       "    </tr>\n",
       "    <tr>\n",
       "      <th>3</th>\n",
       "      <td>ADME</td>\n",
       "      <td>Aptus Drawdown Managed Equity ETF</td>\n",
       "      <td>{'realestate': 0.0222, 'consumer_cyclical': 0....</td>\n",
       "      <td>2025-05-02</td>\n",
       "      <td>Aptus Drawdown Managed Equity ETF</td>\n",
       "      <td>Unknown</td>\n",
       "      <td>Unknown</td>\n",
       "      <td>Unknown</td>\n",
       "      <td>Unknown</td>\n",
       "      <td>0.0</td>\n",
       "      <td>...</td>\n",
       "      <td>0.0</td>\n",
       "      <td>0.0</td>\n",
       "      <td>0.0</td>\n",
       "      <td>44.46</td>\n",
       "      <td>Unknown</td>\n",
       "      <td>48.56</td>\n",
       "      <td>39.85</td>\n",
       "      <td>44.34</td>\n",
       "      <td>45.90</td>\n",
       "      <td>{\"realestate\": 0.0222, \"consumer_cyclical\": 0....</td>\n",
       "    </tr>\n",
       "    <tr>\n",
       "      <th>5</th>\n",
       "      <td>AIQ</td>\n",
       "      <td>Global X Artificial Intelligence &amp; Technology ETF</td>\n",
       "      <td>{'realestate': 0.0, 'consumer_cyclical': 0.102...</td>\n",
       "      <td>2025-06-02</td>\n",
       "      <td>Global X Artificial Intelligence &amp; Technology ETF</td>\n",
       "      <td>Unknown</td>\n",
       "      <td>Unknown</td>\n",
       "      <td>Unknown</td>\n",
       "      <td>Unknown</td>\n",
       "      <td>0.0</td>\n",
       "      <td>...</td>\n",
       "      <td>0.0</td>\n",
       "      <td>0.0</td>\n",
       "      <td>0.0</td>\n",
       "      <td>40.30</td>\n",
       "      <td>Unknown</td>\n",
       "      <td>42.78</td>\n",
       "      <td>30.60</td>\n",
       "      <td>37.32</td>\n",
       "      <td>37.94</td>\n",
       "      <td>{\"realestate\": 0.0, \"consumer_cyclical\": 0.102...</td>\n",
       "    </tr>\n",
       "    <tr>\n",
       "      <th>11</th>\n",
       "      <td>BAPR</td>\n",
       "      <td>Innovator U.S. Equity Buffer ETF - April</td>\n",
       "      <td>{'realestate': 0.0224, 'consumer_cyclical': 0....</td>\n",
       "      <td>2025-06-02</td>\n",
       "      <td>Innovator U.S. Equity Buffer ETF - April</td>\n",
       "      <td>Unknown</td>\n",
       "      <td>Unknown</td>\n",
       "      <td>Unknown</td>\n",
       "      <td>Unknown</td>\n",
       "      <td>0.0</td>\n",
       "      <td>...</td>\n",
       "      <td>0.0</td>\n",
       "      <td>0.0</td>\n",
       "      <td>0.0</td>\n",
       "      <td>43.98</td>\n",
       "      <td>Unknown</td>\n",
       "      <td>46.04</td>\n",
       "      <td>38.21</td>\n",
       "      <td>42.39</td>\n",
       "      <td>43.57</td>\n",
       "      <td>{\"realestate\": 0.0224, \"consumer_cyclical\": 0....</td>\n",
       "    </tr>\n",
       "    <tr>\n",
       "      <th>12</th>\n",
       "      <td>BBUS</td>\n",
       "      <td>JPMorgan BetaBuilders U.S. Equity ETF</td>\n",
       "      <td>{'realestate': 0.0231, 'consumer_cyclical': 0....</td>\n",
       "      <td>2025-06-02</td>\n",
       "      <td>JPMorgan BetaBuilders U.S. Equity ETF</td>\n",
       "      <td>Unknown</td>\n",
       "      <td>Unknown</td>\n",
       "      <td>Unknown</td>\n",
       "      <td>Unknown</td>\n",
       "      <td>0.0</td>\n",
       "      <td>...</td>\n",
       "      <td>0.0</td>\n",
       "      <td>0.0</td>\n",
       "      <td>0.0</td>\n",
       "      <td>106.74</td>\n",
       "      <td>Unknown</td>\n",
       "      <td>111.04</td>\n",
       "      <td>86.94</td>\n",
       "      <td>101.02</td>\n",
       "      <td>104.33</td>\n",
       "      <td>{\"realestate\": 0.0231, \"consumer_cyclical\": 0....</td>\n",
       "    </tr>\n",
       "  </tbody>\n",
       "</table>\n",
       "<p>5 rows × 26 columns</p>\n",
       "</div>"
      ],
      "text/plain": [
       "   Symbol                                             Name_x  \\\n",
       "1    ABFL                             Abacus FCF Leaders ETF   \n",
       "3    ADME                  Aptus Drawdown Managed Equity ETF   \n",
       "5     AIQ  Global X Artificial Intelligence & Technology ETF   \n",
       "11   BAPR           Innovator U.S. Equity Buffer ETF - April   \n",
       "12   BBUS              JPMorgan BetaBuilders U.S. Equity ETF   \n",
       "\n",
       "                                              Sectors        Date  \\\n",
       "1   {'realestate': 0.0, 'consumer_cyclical': 0.118...  2025-06-02   \n",
       "3   {'realestate': 0.0222, 'consumer_cyclical': 0....  2025-05-02   \n",
       "5   {'realestate': 0.0, 'consumer_cyclical': 0.102...  2025-06-02   \n",
       "11  {'realestate': 0.0224, 'consumer_cyclical': 0....  2025-06-02   \n",
       "12  {'realestate': 0.0231, 'consumer_cyclical': 0....  2025-06-02   \n",
       "\n",
       "                                               Name_y   Sector Industry  \\\n",
       "1                              Abacus FCF Leaders ETF  Unknown  Unknown   \n",
       "3                   Aptus Drawdown Managed Equity ETF  Unknown  Unknown   \n",
       "5   Global X Artificial Intelligence & Technology ETF  Unknown  Unknown   \n",
       "11           Innovator U.S. Equity Buffer ETF - April  Unknown  Unknown   \n",
       "12              JPMorgan BetaBuilders U.S. Equity ETF  Unknown  Unknown   \n",
       "\n",
       "    Country  Website  Market Cap  ...  Dividend Rate (%)  \\\n",
       "1   Unknown  Unknown         0.0  ...                0.0   \n",
       "3   Unknown  Unknown         0.0  ...                0.0   \n",
       "5   Unknown  Unknown         0.0  ...                0.0   \n",
       "11  Unknown  Unknown         0.0  ...                0.0   \n",
       "12  Unknown  Unknown         0.0  ...                0.0   \n",
       "\n",
       "    5Y Avg Dividend Yield (%)  Payout Ratio (%)   Price  Analyst Rating  \\\n",
       "1                         0.0               0.0   69.15         Unknown   \n",
       "3                         0.0               0.0   44.46         Unknown   \n",
       "5                         0.0               0.0   40.30         Unknown   \n",
       "11                        0.0               0.0   43.98         Unknown   \n",
       "12                        0.0               0.0  106.74         Unknown   \n",
       "\n",
       "    52W High  52W Low  50 Day Avg  200 Day Avg  \\\n",
       "1      71.28    55.40       64.73        66.17   \n",
       "3      48.56    39.85       44.34        45.90   \n",
       "5      42.78    30.60       37.32        37.94   \n",
       "11     46.04    38.21       42.39        43.57   \n",
       "12    111.04    86.94      101.02       104.33   \n",
       "\n",
       "                                    Sector Weightings  \n",
       "1   {\"realestate\": 0.0, \"consumer_cyclical\": 0.118...  \n",
       "3   {\"realestate\": 0.0222, \"consumer_cyclical\": 0....  \n",
       "5   {\"realestate\": 0.0, \"consumer_cyclical\": 0.102...  \n",
       "11  {\"realestate\": 0.0224, \"consumer_cyclical\": 0....  \n",
       "12  {\"realestate\": 0.0231, \"consumer_cyclical\": 0....  \n",
       "\n",
       "[5 rows x 26 columns]"
      ]
     },
     "metadata": {},
     "output_type": "display_data"
    }
   ],
   "source": [
    "# Step 1: Calculate the weighted average of P/E (Trailing) in portfolio_df\n",
    "weighted_average_pe = (portfolio_df[\"Weight\"] * portfolio_df[\"P/E (Trailing)\"]).sum()\n",
    "\n",
    "# Step 2: Calculate the 20% threshold range\n",
    "lower_bound = weighted_average_pe * 0.8  # 20% below the weighted average\n",
    "upper_bound = weighted_average_pe * 1.2  # 2% above the weighted average\n",
    "\n",
    "# Step 3: Filter merged_df based on the P/E (Trailing) column\n",
    "filtered_merged_df = merged_df[\n",
    "    (merged_df[\"P/E (trailing)\"] >= lower_bound) & \n",
    "    (merged_df[\"P/E (trailing)\"] <= upper_bound)\n",
    "]\n",
    "\n",
    "filtered_sectors_df = filtered_merged_df.copy().dropna(how='all')\n",
    "tickers = filtered_sectors_df[\"Symbol\"].tolist()\n",
    "\n",
    "# Display the filtered DataFrame\n",
    "print(\"Portfolio Weighted Average P/E (trailing):\", weighted_average_pe)\n",
    "print(\"Lower Bound:\", lower_bound)\n",
    "print(\"Upper Bound:\", upper_bound)\n",
    "print(\"Number of benchmarks after filtering by P/E (trailing):\", len(filtered_merged_df))\n",
    "display(filtered_sectors_df.head())"
   ]
  },
  {
   "cell_type": "markdown",
   "id": "b050f311",
   "metadata": {},
   "source": [
    "### Step 6: Import Quotes"
   ]
  },
  {
   "cell_type": "markdown",
   "id": "bedd1a61",
   "metadata": {},
   "source": [
    "#### Benchmark Tickers"
   ]
  },
  {
   "cell_type": "code",
   "execution_count": 10,
   "id": "c6cc3457",
   "metadata": {
    "execution": {
     "iopub.execute_input": "2025-06-02T13:28:31.035256Z",
     "iopub.status.busy": "2025-06-02T13:28:31.034942Z",
     "iopub.status.idle": "2025-06-02T13:28:31.195787Z",
     "shell.execute_reply": "2025-06-02T13:28:31.194847Z"
    }
   },
   "outputs": [
    {
     "name": "stdout",
     "output_type": "stream",
     "text": [
      "Found 87 of 91 tickers in data/daily_benchmark_quotes.csv\n",
      "Missing tickers: ['ILCB', 'MOAT', 'PTNQ', 'XSD']\n",
      "Found 87 of 91 tickers in data/monthly_benchmark_quotes.csv\n",
      "Missing tickers: ['ILCB', 'MOAT', 'PTNQ', 'XSD']\n"
     ]
    },
    {
     "data": {
      "application/vnd.microsoft.datawrangler.viewer.v0+json": {
       "columns": [
        {
         "name": "Date",
         "rawType": "datetime64[ns]",
         "type": "datetime"
        },
        {
         "name": "ABFL",
         "rawType": "float64",
         "type": "float"
        },
        {
         "name": "ADME",
         "rawType": "float64",
         "type": "float"
        },
        {
         "name": "AIQ",
         "rawType": "float64",
         "type": "float"
        },
        {
         "name": "BAPR",
         "rawType": "float64",
         "type": "float"
        },
        {
         "name": "BBUS",
         "rawType": "float64",
         "type": "float"
        },
        {
         "name": "BJAN",
         "rawType": "float64",
         "type": "float"
        },
        {
         "name": "BJUL",
         "rawType": "float64",
         "type": "float"
        },
        {
         "name": "BOCT",
         "rawType": "float64",
         "type": "float"
        },
        {
         "name": "CIBR",
         "rawType": "float64",
         "type": "float"
        },
        {
         "name": "CWS",
         "rawType": "float64",
         "type": "float"
        },
        {
         "name": "DSI",
         "rawType": "float64",
         "type": "float"
        },
        {
         "name": "ESPO",
         "rawType": "float64",
         "type": "float"
        },
        {
         "name": "FAD",
         "rawType": "float64",
         "type": "float"
        },
        {
         "name": "FDIS",
         "rawType": "float64",
         "type": "float"
        },
        {
         "name": "FIDU",
         "rawType": "float64",
         "type": "float"
        },
        {
         "name": "FTEC",
         "rawType": "float64",
         "type": "float"
        },
        {
         "name": "GRID",
         "rawType": "float64",
         "type": "float"
        },
        {
         "name": "GVIP",
         "rawType": "float64",
         "type": "float"
        },
        {
         "name": "HTUS",
         "rawType": "float64",
         "type": "float"
        },
        {
         "name": "IGM",
         "rawType": "float64",
         "type": "float"
        },
        {
         "name": "ILCG",
         "rawType": "float64",
         "type": "float"
        },
        {
         "name": "IMCG",
         "rawType": "float64",
         "type": "float"
        },
        {
         "name": "INCO",
         "rawType": "float64",
         "type": "float"
        },
        {
         "name": "IUSG",
         "rawType": "float64",
         "type": "float"
        },
        {
         "name": "IVV",
         "rawType": "float64",
         "type": "float"
        },
        {
         "name": "IVW",
         "rawType": "float64",
         "type": "float"
        },
        {
         "name": "IWB",
         "rawType": "float64",
         "type": "float"
        },
        {
         "name": "IWF",
         "rawType": "float64",
         "type": "float"
        },
        {
         "name": "IWL",
         "rawType": "float64",
         "type": "float"
        },
        {
         "name": "IWP",
         "rawType": "float64",
         "type": "float"
        },
        {
         "name": "IWY",
         "rawType": "float64",
         "type": "float"
        },
        {
         "name": "IXN",
         "rawType": "float64",
         "type": "float"
        },
        {
         "name": "IYW",
         "rawType": "float64",
         "type": "float"
        },
        {
         "name": "JMOM",
         "rawType": "float64",
         "type": "float"
        },
        {
         "name": "MGC",
         "rawType": "float64",
         "type": "float"
        },
        {
         "name": "MMTM",
         "rawType": "float64",
         "type": "float"
        },
        {
         "name": "MTUM",
         "rawType": "float64",
         "type": "float"
        },
        {
         "name": "NULG",
         "rawType": "float64",
         "type": "float"
        },
        {
         "name": "OEF",
         "rawType": "float64",
         "type": "float"
        },
        {
         "name": "ONEQ",
         "rawType": "float64",
         "type": "float"
        },
        {
         "name": "PBUS",
         "rawType": "float64",
         "type": "float"
        },
        {
         "name": "PHO",
         "rawType": "float64",
         "type": "float"
        },
        {
         "name": "PJUL",
         "rawType": "float64",
         "type": "float"
        },
        {
         "name": "POCT",
         "rawType": "float64",
         "type": "float"
        },
        {
         "name": "PPA",
         "rawType": "float64",
         "type": "float"
        },
        {
         "name": "PRN",
         "rawType": "float64",
         "type": "float"
        },
        {
         "name": "PSI",
         "rawType": "float64",
         "type": "float"
        },
        {
         "name": "PTF",
         "rawType": "float64",
         "type": "float"
        },
        {
         "name": "PWB",
         "rawType": "float64",
         "type": "float"
        },
        {
         "name": "QGRO",
         "rawType": "float64",
         "type": "float"
        },
        {
         "name": "QLD",
         "rawType": "float64",
         "type": "float"
        },
        {
         "name": "QMOM",
         "rawType": "float64",
         "type": "float"
        },
        {
         "name": "QQQ",
         "rawType": "float64",
         "type": "float"
        },
        {
         "name": "QTUM",
         "rawType": "float64",
         "type": "float"
        },
        {
         "name": "QUAL",
         "rawType": "float64",
         "type": "float"
        },
        {
         "name": "SCHG",
         "rawType": "float64",
         "type": "float"
        },
        {
         "name": "SCHX",
         "rawType": "float64",
         "type": "float"
        },
        {
         "name": "SMH",
         "rawType": "float64",
         "type": "float"
        },
        {
         "name": "SMIN",
         "rawType": "float64",
         "type": "float"
        },
        {
         "name": "SOXX",
         "rawType": "float64",
         "type": "float"
        },
        {
         "name": "SPHB",
         "rawType": "float64",
         "type": "float"
        },
        {
         "name": "SPHQ",
         "rawType": "float64",
         "type": "float"
        },
        {
         "name": "SPLG",
         "rawType": "float64",
         "type": "float"
        },
        {
         "name": "SPMO",
         "rawType": "float64",
         "type": "float"
        },
        {
         "name": "SPTM",
         "rawType": "float64",
         "type": "float"
        },
        {
         "name": "SPXV",
         "rawType": "float64",
         "type": "float"
        },
        {
         "name": "SPY",
         "rawType": "float64",
         "type": "float"
        },
        {
         "name": "SPYG",
         "rawType": "float64",
         "type": "float"
        },
        {
         "name": "SUSA",
         "rawType": "float64",
         "type": "float"
        },
        {
         "name": "TBLU",
         "rawType": "float64",
         "type": "float"
        },
        {
         "name": "TMFC",
         "rawType": "float64",
         "type": "float"
        },
        {
         "name": "USMC",
         "rawType": "float64",
         "type": "float"
        },
        {
         "name": "VCR",
         "rawType": "float64",
         "type": "float"
        },
        {
         "name": "VGT",
         "rawType": "float64",
         "type": "float"
        },
        {
         "name": "VONE",
         "rawType": "float64",
         "type": "float"
        },
        {
         "name": "VONG",
         "rawType": "float64",
         "type": "float"
        },
        {
         "name": "VOO",
         "rawType": "float64",
         "type": "float"
        },
        {
         "name": "VOOG",
         "rawType": "float64",
         "type": "float"
        },
        {
         "name": "VOT",
         "rawType": "float64",
         "type": "float"
        },
        {
         "name": "VUG",
         "rawType": "float64",
         "type": "float"
        },
        {
         "name": "VUSE",
         "rawType": "float64",
         "type": "float"
        },
        {
         "name": "VV",
         "rawType": "float64",
         "type": "float"
        },
        {
         "name": "XLG",
         "rawType": "float64",
         "type": "float"
        },
        {
         "name": "XLI",
         "rawType": "float64",
         "type": "float"
        },
        {
         "name": "XLK",
         "rawType": "float64",
         "type": "float"
        },
        {
         "name": "XLY",
         "rawType": "float64",
         "type": "float"
        },
        {
         "name": "XNTK",
         "rawType": "float64",
         "type": "float"
        }
       ],
       "ref": "726cd079-7120-4f01-b47d-6a05b059cfb3",
       "rows": [
        [
         "2015-07-01 00:00:00",
         null,
         null,
         null,
         null,
         null,
         null,
         null,
         null,
         "18.89",
         null,
         "34.01",
         null,
         "50.14",
         "29.02",
         "23.92",
         "29.72",
         "30.88",
         null,
         "16.46",
         "17.09",
         "23.16",
         "26.53",
         "28.46",
         "37.38",
         "177.83",
         "26.5",
         "100.52",
         "93.02",
         "40.97",
         "45.86",
         "49.06",
         "14.97",
         "24.99",
         null,
         "60.66",
         "78.71",
         "65.89",
         null,
         "79.49",
         "18.34",
         null,
         "22.75",
         null,
         null,
         "32.27",
         "44.44",
         "8.06",
         "14.12",
         "30.37",
         null,
         "9.83",
         null,
         "103.77",
         null,
         "55.68",
         "6.41",
         "7.09",
         "23.32",
         "30.06",
         "26.28",
         "28.21",
         "20.1",
         "20.93",
         null,
         "22.24",
         null,
         "177.97",
         "22.7",
         "37.46",
         null,
         null,
         null,
         "113.86",
         "97.9",
         "82.8",
         "23.71",
         "162.46",
         "94.97",
         "100.33",
         "101.11",
         "23.3",
         "81.86",
         "12.63",
         "45.37",
         "37.85",
         "71.89",
         "38.31"
        ],
        [
         "2015-08-01 00:00:00",
         null,
         null,
         null,
         null,
         null,
         null,
         null,
         null,
         "16.89",
         null,
         "31.94",
         null,
         "47.27",
         "27.2",
         "22.68",
         "28.01",
         "29.65",
         null,
         "16.24",
         "16.16",
         "21.63",
         "24.86",
         "25.33",
         "35.04",
         "166.9",
         "24.87",
         "94.47",
         "87.34",
         "38.36",
         "43.17",
         "46.0",
         "14.05",
         "23.52",
         null,
         "56.83",
         "73.76",
         "61.94",
         null,
         "74.2",
         "17.09",
         null,
         "20.98",
         null,
         null,
         "30.99",
         "41.87",
         "7.7",
         "12.93",
         "28.54",
         null,
         "8.46",
         null,
         "96.69",
         null,
         "52.67",
         "6.02",
         "6.66",
         "22.16",
         "27.29",
         "24.93",
         "26.78",
         "19.07",
         "19.7",
         null,
         "20.93",
         null,
         "167.12",
         "21.32",
         "35.12",
         null,
         null,
         null,
         "106.6",
         "92.22",
         "77.75",
         "22.3",
         "152.49",
         "89.17",
         "94.47",
         "94.74",
         "22.28",
         "76.92",
         "11.78",
         "42.92",
         "35.76",
         "67.19",
         "36.52"
        ],
        [
         "2015-09-01 00:00:00",
         null,
         null,
         null,
         null,
         null,
         null,
         null,
         null,
         "16.29",
         null,
         "31.16",
         null,
         "45.48",
         "26.75",
         "21.91",
         "27.6",
         "28.51",
         null,
         "16.21",
         "15.94",
         "21.01",
         "23.72",
         "24.67",
         "34.04",
         "162.73",
         "24.3",
         "91.82",
         "85.07",
         "37.39",
         "41.48",
         "45.03",
         "13.86",
         "23.19",
         null,
         "55.42",
         "71.37",
         "60.77",
         null,
         "72.54",
         "16.48",
         null,
         "19.64",
         null,
         null,
         "29.96",
         "39.89",
         "7.54",
         "12.78",
         "28.07",
         null,
         "8.03",
         null,
         "94.56",
         null,
         "51.99",
         "5.81",
         "6.48",
         "22.31",
         "27.95",
         "24.59",
         "25.05",
         "18.84",
         "18.99",
         null,
         "20.19",
         "16.9",
         "162.86",
         "20.81",
         "34.38",
         null,
         null,
         null,
         "104.91",
         "90.99",
         "75.62",
         "21.69",
         "148.73",
         "87.11",
         "90.66",
         "92.03",
         "21.21",
         "74.82",
         "11.54",
         "41.97",
         "35.27",
         "66.8",
         "35.83"
        ],
        [
         "2015-10-01 00:00:00",
         null,
         null,
         null,
         null,
         null,
         null,
         null,
         null,
         "17.03",
         null,
         "33.89",
         null,
         "48.3",
         "28.86",
         "23.85",
         "30.56",
         "29.74",
         null,
         "16.17",
         "17.74",
         "23.1",
         "24.99",
         "25.04",
         "36.92",
         "176.53",
         "26.59",
         "99.26",
         "92.47",
         "40.72",
         "44.09",
         "49.4",
         "15.37",
         "25.61",
         null,
         "60.31",
         "77.74",
         "65.21",
         null,
         "79.43",
         "18.11",
         null,
         "21.81",
         null,
         null,
         "32.6",
         "43.43",
         "8.1",
         "13.68",
         "29.82",
         null,
         "9.94",
         null,
         "105.31",
         null,
         "56.48",
         "6.29",
         "7.01",
         "24.24",
         "28.55",
         "27.03",
         "27.65",
         "20.01",
         "20.78",
         "23.2",
         "21.94",
         "18.55",
         "176.71",
         "22.8",
         "37.21",
         null,
         null,
         null,
         "113.06",
         "100.51",
         "81.74",
         "23.57",
         "161.3",
         "95.32",
         "95.74",
         "100.29",
         "22.56",
         "81.02",
         "12.68",
         "45.66",
         "38.98",
         "72.84",
         "39.65"
        ],
        [
         "2015-11-01 00:00:00",
         null,
         null,
         null,
         null,
         null,
         null,
         null,
         null,
         "17.64",
         null,
         "33.95",
         null,
         "48.71",
         "28.69",
         "24.18",
         "30.88",
         "29.83",
         null,
         "16.28",
         "17.97",
         "23.19",
         "25.07",
         "25.05",
         "37.14",
         "177.22",
         "26.64",
         "99.67",
         "92.75",
         "40.97",
         "44.2",
         "49.58",
         "15.51",
         "25.86",
         null,
         "60.55",
         "78.59",
         "65.56",
         null,
         "79.7",
         "18.34",
         null,
         "21.17",
         null,
         null,
         "33.28",
         "44.45",
         "8.52",
         "13.83",
         "29.85",
         null,
         "10.04",
         null,
         "105.95",
         null,
         "56.73",
         "6.31",
         "7.04",
         "24.95",
         "28.44",
         "27.66",
         "27.77",
         "20.2",
         "20.79",
         "23.59",
         "22.03",
         "18.66",
         "177.36",
         "22.83",
         "37.32",
         null,
         null,
         null,
         "112.53",
         "101.7",
         "82.06",
         "23.64",
         "161.99",
         "95.45",
         "95.71",
         "100.44",
         "23.0",
         "81.3",
         "12.74",
         "46.05",
         "39.26",
         "72.66",
         "40.07"
        ]
       ],
       "shape": {
        "columns": 87,
        "rows": 5
       }
      },
      "text/html": [
       "<div>\n",
       "<style scoped>\n",
       "    .dataframe tbody tr th:only-of-type {\n",
       "        vertical-align: middle;\n",
       "    }\n",
       "\n",
       "    .dataframe tbody tr th {\n",
       "        vertical-align: top;\n",
       "    }\n",
       "\n",
       "    .dataframe thead th {\n",
       "        text-align: right;\n",
       "    }\n",
       "</style>\n",
       "<table border=\"1\" class=\"dataframe\">\n",
       "  <thead>\n",
       "    <tr style=\"text-align: right;\">\n",
       "      <th></th>\n",
       "      <th>ABFL</th>\n",
       "      <th>ADME</th>\n",
       "      <th>AIQ</th>\n",
       "      <th>BAPR</th>\n",
       "      <th>BBUS</th>\n",
       "      <th>BJAN</th>\n",
       "      <th>BJUL</th>\n",
       "      <th>BOCT</th>\n",
       "      <th>CIBR</th>\n",
       "      <th>CWS</th>\n",
       "      <th>...</th>\n",
       "      <th>VOOG</th>\n",
       "      <th>VOT</th>\n",
       "      <th>VUG</th>\n",
       "      <th>VUSE</th>\n",
       "      <th>VV</th>\n",
       "      <th>XLG</th>\n",
       "      <th>XLI</th>\n",
       "      <th>XLK</th>\n",
       "      <th>XLY</th>\n",
       "      <th>XNTK</th>\n",
       "    </tr>\n",
       "    <tr>\n",
       "      <th>Date</th>\n",
       "      <th></th>\n",
       "      <th></th>\n",
       "      <th></th>\n",
       "      <th></th>\n",
       "      <th></th>\n",
       "      <th></th>\n",
       "      <th></th>\n",
       "      <th></th>\n",
       "      <th></th>\n",
       "      <th></th>\n",
       "      <th></th>\n",
       "      <th></th>\n",
       "      <th></th>\n",
       "      <th></th>\n",
       "      <th></th>\n",
       "      <th></th>\n",
       "      <th></th>\n",
       "      <th></th>\n",
       "      <th></th>\n",
       "      <th></th>\n",
       "      <th></th>\n",
       "    </tr>\n",
       "  </thead>\n",
       "  <tbody>\n",
       "    <tr>\n",
       "      <th>2015-07-01</th>\n",
       "      <td>NaN</td>\n",
       "      <td>NaN</td>\n",
       "      <td>NaN</td>\n",
       "      <td>NaN</td>\n",
       "      <td>NaN</td>\n",
       "      <td>NaN</td>\n",
       "      <td>NaN</td>\n",
       "      <td>NaN</td>\n",
       "      <td>18.89</td>\n",
       "      <td>NaN</td>\n",
       "      <td>...</td>\n",
       "      <td>94.97</td>\n",
       "      <td>100.33</td>\n",
       "      <td>101.11</td>\n",
       "      <td>23.30</td>\n",
       "      <td>81.86</td>\n",
       "      <td>12.63</td>\n",
       "      <td>45.37</td>\n",
       "      <td>37.85</td>\n",
       "      <td>71.89</td>\n",
       "      <td>38.31</td>\n",
       "    </tr>\n",
       "    <tr>\n",
       "      <th>2015-08-01</th>\n",
       "      <td>NaN</td>\n",
       "      <td>NaN</td>\n",
       "      <td>NaN</td>\n",
       "      <td>NaN</td>\n",
       "      <td>NaN</td>\n",
       "      <td>NaN</td>\n",
       "      <td>NaN</td>\n",
       "      <td>NaN</td>\n",
       "      <td>16.89</td>\n",
       "      <td>NaN</td>\n",
       "      <td>...</td>\n",
       "      <td>89.17</td>\n",
       "      <td>94.47</td>\n",
       "      <td>94.74</td>\n",
       "      <td>22.28</td>\n",
       "      <td>76.92</td>\n",
       "      <td>11.78</td>\n",
       "      <td>42.92</td>\n",
       "      <td>35.76</td>\n",
       "      <td>67.19</td>\n",
       "      <td>36.52</td>\n",
       "    </tr>\n",
       "    <tr>\n",
       "      <th>2015-09-01</th>\n",
       "      <td>NaN</td>\n",
       "      <td>NaN</td>\n",
       "      <td>NaN</td>\n",
       "      <td>NaN</td>\n",
       "      <td>NaN</td>\n",
       "      <td>NaN</td>\n",
       "      <td>NaN</td>\n",
       "      <td>NaN</td>\n",
       "      <td>16.29</td>\n",
       "      <td>NaN</td>\n",
       "      <td>...</td>\n",
       "      <td>87.11</td>\n",
       "      <td>90.66</td>\n",
       "      <td>92.03</td>\n",
       "      <td>21.21</td>\n",
       "      <td>74.82</td>\n",
       "      <td>11.54</td>\n",
       "      <td>41.97</td>\n",
       "      <td>35.27</td>\n",
       "      <td>66.80</td>\n",
       "      <td>35.83</td>\n",
       "    </tr>\n",
       "    <tr>\n",
       "      <th>2015-10-01</th>\n",
       "      <td>NaN</td>\n",
       "      <td>NaN</td>\n",
       "      <td>NaN</td>\n",
       "      <td>NaN</td>\n",
       "      <td>NaN</td>\n",
       "      <td>NaN</td>\n",
       "      <td>NaN</td>\n",
       "      <td>NaN</td>\n",
       "      <td>17.03</td>\n",
       "      <td>NaN</td>\n",
       "      <td>...</td>\n",
       "      <td>95.32</td>\n",
       "      <td>95.74</td>\n",
       "      <td>100.29</td>\n",
       "      <td>22.56</td>\n",
       "      <td>81.02</td>\n",
       "      <td>12.68</td>\n",
       "      <td>45.66</td>\n",
       "      <td>38.98</td>\n",
       "      <td>72.84</td>\n",
       "      <td>39.65</td>\n",
       "    </tr>\n",
       "    <tr>\n",
       "      <th>2015-11-01</th>\n",
       "      <td>NaN</td>\n",
       "      <td>NaN</td>\n",
       "      <td>NaN</td>\n",
       "      <td>NaN</td>\n",
       "      <td>NaN</td>\n",
       "      <td>NaN</td>\n",
       "      <td>NaN</td>\n",
       "      <td>NaN</td>\n",
       "      <td>17.64</td>\n",
       "      <td>NaN</td>\n",
       "      <td>...</td>\n",
       "      <td>95.45</td>\n",
       "      <td>95.71</td>\n",
       "      <td>100.44</td>\n",
       "      <td>23.00</td>\n",
       "      <td>81.30</td>\n",
       "      <td>12.74</td>\n",
       "      <td>46.05</td>\n",
       "      <td>39.26</td>\n",
       "      <td>72.66</td>\n",
       "      <td>40.07</td>\n",
       "    </tr>\n",
       "  </tbody>\n",
       "</table>\n",
       "<p>5 rows × 87 columns</p>\n",
       "</div>"
      ],
      "text/plain": [
       "            ABFL  ADME  AIQ  BAPR  BBUS  BJAN  BJUL  BOCT   CIBR  CWS  ...  \\\n",
       "Date                                                                   ...   \n",
       "2015-07-01   NaN   NaN  NaN   NaN   NaN   NaN   NaN   NaN  18.89  NaN  ...   \n",
       "2015-08-01   NaN   NaN  NaN   NaN   NaN   NaN   NaN   NaN  16.89  NaN  ...   \n",
       "2015-09-01   NaN   NaN  NaN   NaN   NaN   NaN   NaN   NaN  16.29  NaN  ...   \n",
       "2015-10-01   NaN   NaN  NaN   NaN   NaN   NaN   NaN   NaN  17.03  NaN  ...   \n",
       "2015-11-01   NaN   NaN  NaN   NaN   NaN   NaN   NaN   NaN  17.64  NaN  ...   \n",
       "\n",
       "             VOOG     VOT     VUG   VUSE     VV    XLG    XLI    XLK    XLY  \\\n",
       "Date                                                                          \n",
       "2015-07-01  94.97  100.33  101.11  23.30  81.86  12.63  45.37  37.85  71.89   \n",
       "2015-08-01  89.17   94.47   94.74  22.28  76.92  11.78  42.92  35.76  67.19   \n",
       "2015-09-01  87.11   90.66   92.03  21.21  74.82  11.54  41.97  35.27  66.80   \n",
       "2015-10-01  95.32   95.74  100.29  22.56  81.02  12.68  45.66  38.98  72.84   \n",
       "2015-11-01  95.45   95.71  100.44  23.00  81.30  12.74  46.05  39.26  72.66   \n",
       "\n",
       "             XNTK  \n",
       "Date               \n",
       "2015-07-01  38.31  \n",
       "2015-08-01  36.52  \n",
       "2015-09-01  35.83  \n",
       "2015-10-01  39.65  \n",
       "2015-11-01  40.07  \n",
       "\n",
       "[5 rows x 87 columns]"
      ]
     },
     "execution_count": 10,
     "metadata": {},
     "output_type": "execute_result"
    }
   ],
   "source": [
    "# Load and filter historical benchmark price data\n",
    "benchmark_prices_daily_df = load_and_filter_data('data/daily_benchmark_quotes.csv', tickers, start_date, end_date)\n",
    "benchmark_prices_monthly_df = load_and_filter_data('data/monthly_benchmark_quotes.csv', tickers, start_date, end_date)\n",
    "\n",
    "# Display the first few rows\n",
    "benchmark_prices_monthly_df.head()"
   ]
  },
  {
   "cell_type": "markdown",
   "id": "0b6317cc",
   "metadata": {},
   "source": [
    "#### Portfolio Tickers"
   ]
  },
  {
   "cell_type": "code",
   "execution_count": 11,
   "id": "63739423",
   "metadata": {
    "execution": {
     "iopub.execute_input": "2025-06-02T13:28:31.198685Z",
     "iopub.status.busy": "2025-06-02T13:28:31.198402Z",
     "iopub.status.idle": "2025-06-02T13:28:31.232652Z",
     "shell.execute_reply": "2025-06-02T13:28:31.231755Z"
    }
   },
   "outputs": [
    {
     "name": "stdout",
     "output_type": "stream",
     "text": [
      "Found 2 of 2 tickers in data/monthly_stock_quotes.csv\n",
      "Missing tickers: []\n"
     ]
    },
    {
     "data": {
      "application/vnd.microsoft.datawrangler.viewer.v0+json": {
       "columns": [
        {
         "name": "Date",
         "rawType": "datetime64[ns]",
         "type": "datetime"
        },
        {
         "name": "GRMN",
         "rawType": "float64",
         "type": "float"
        },
        {
         "name": "MSFT",
         "rawType": "float64",
         "type": "float"
        }
       ],
       "ref": "d933f1b2-09d5-4d12-8403-5db560e61633",
       "rows": [
        [
         "2015-07-01 00:00:00",
         "31.29",
         "40.49"
        ],
        [
         "2015-08-01 00:00:00",
         "28.08",
         "37.98"
        ],
        [
         "2015-09-01 00:00:00",
         "27.17",
         "38.63"
        ],
        [
         "2015-10-01 00:00:00",
         "26.86",
         "45.94"
        ],
        [
         "2015-11-01 00:00:00",
         "28.66",
         "47.76"
        ]
       ],
       "shape": {
        "columns": 2,
        "rows": 5
       }
      },
      "text/html": [
       "<div>\n",
       "<style scoped>\n",
       "    .dataframe tbody tr th:only-of-type {\n",
       "        vertical-align: middle;\n",
       "    }\n",
       "\n",
       "    .dataframe tbody tr th {\n",
       "        vertical-align: top;\n",
       "    }\n",
       "\n",
       "    .dataframe thead th {\n",
       "        text-align: right;\n",
       "    }\n",
       "</style>\n",
       "<table border=\"1\" class=\"dataframe\">\n",
       "  <thead>\n",
       "    <tr style=\"text-align: right;\">\n",
       "      <th></th>\n",
       "      <th>GRMN</th>\n",
       "      <th>MSFT</th>\n",
       "    </tr>\n",
       "    <tr>\n",
       "      <th>Date</th>\n",
       "      <th></th>\n",
       "      <th></th>\n",
       "    </tr>\n",
       "  </thead>\n",
       "  <tbody>\n",
       "    <tr>\n",
       "      <th>2015-07-01</th>\n",
       "      <td>31.29</td>\n",
       "      <td>40.49</td>\n",
       "    </tr>\n",
       "    <tr>\n",
       "      <th>2015-08-01</th>\n",
       "      <td>28.08</td>\n",
       "      <td>37.98</td>\n",
       "    </tr>\n",
       "    <tr>\n",
       "      <th>2015-09-01</th>\n",
       "      <td>27.17</td>\n",
       "      <td>38.63</td>\n",
       "    </tr>\n",
       "    <tr>\n",
       "      <th>2015-10-01</th>\n",
       "      <td>26.86</td>\n",
       "      <td>45.94</td>\n",
       "    </tr>\n",
       "    <tr>\n",
       "      <th>2015-11-01</th>\n",
       "      <td>28.66</td>\n",
       "      <td>47.76</td>\n",
       "    </tr>\n",
       "  </tbody>\n",
       "</table>\n",
       "</div>"
      ],
      "text/plain": [
       "             GRMN   MSFT\n",
       "Date                    \n",
       "2015-07-01  31.29  40.49\n",
       "2015-08-01  28.08  37.98\n",
       "2015-09-01  27.17  38.63\n",
       "2015-10-01  26.86  45.94\n",
       "2015-11-01  28.66  47.76"
      ]
     },
     "execution_count": 11,
     "metadata": {},
     "output_type": "execute_result"
    }
   ],
   "source": [
    "# Load and filter historical benchmark price data\n",
    "stock_prices_monthly_df = load_and_filter_data('data/monthly_stock_quotes.csv', portfolio_tickers, start_date, end_date)\n",
    "\n",
    "# Display the first few rows\n",
    "stock_prices_monthly_df.head()"
   ]
  },
  {
   "cell_type": "markdown",
   "id": "ff74a589",
   "metadata": {},
   "source": [
    "### Step 7: Prepare Data (Drop Invalid Tickers)"
   ]
  },
  {
   "cell_type": "markdown",
   "id": "bc19d94e",
   "metadata": {},
   "source": [
    "#### Daily Quotes"
   ]
  },
  {
   "cell_type": "code",
   "execution_count": 12,
   "id": "4fd1c0fd",
   "metadata": {
    "execution": {
     "iopub.execute_input": "2025-06-02T13:28:31.236531Z",
     "iopub.status.busy": "2025-06-02T13:28:31.236211Z",
     "iopub.status.idle": "2025-06-02T13:28:31.261664Z",
     "shell.execute_reply": "2025-06-02T13:28:31.260652Z"
    }
   },
   "outputs": [
    {
     "name": "stdout",
     "output_type": "stream",
     "text": [
      "Dropping 26 columns with missing values in first/last 50 records: ['ABFL', 'ADME', 'AIQ', 'BAPR', 'BBUS', 'BJAN', 'BJUL', 'BOCT', 'CIBR', 'CWS', 'ESPO', 'GVIP', 'HTUS', 'JMOM', 'NULG', 'PBUS', 'PJUL', 'POCT', 'QGRO', 'QMOM', 'QTUM', 'SPMO', 'SPXV', 'TBLU', 'TMFC', 'USMC']\n"
     ]
    },
    {
     "data": {
      "application/vnd.microsoft.datawrangler.viewer.v0+json": {
       "columns": [
        {
         "name": "Date",
         "rawType": "datetime64[ns]",
         "type": "datetime"
        },
        {
         "name": "DSI",
         "rawType": "float64",
         "type": "float"
        },
        {
         "name": "FAD",
         "rawType": "float64",
         "type": "float"
        },
        {
         "name": "FDIS",
         "rawType": "float64",
         "type": "float"
        },
        {
         "name": "FIDU",
         "rawType": "float64",
         "type": "float"
        },
        {
         "name": "FTEC",
         "rawType": "float64",
         "type": "float"
        },
        {
         "name": "GRID",
         "rawType": "float64",
         "type": "float"
        },
        {
         "name": "IGM",
         "rawType": "float64",
         "type": "float"
        },
        {
         "name": "ILCG",
         "rawType": "float64",
         "type": "float"
        },
        {
         "name": "IMCG",
         "rawType": "float64",
         "type": "float"
        },
        {
         "name": "INCO",
         "rawType": "float64",
         "type": "float"
        },
        {
         "name": "IUSG",
         "rawType": "float64",
         "type": "float"
        },
        {
         "name": "IVV",
         "rawType": "float64",
         "type": "float"
        },
        {
         "name": "IVW",
         "rawType": "float64",
         "type": "float"
        },
        {
         "name": "IWB",
         "rawType": "float64",
         "type": "float"
        },
        {
         "name": "IWF",
         "rawType": "float64",
         "type": "float"
        },
        {
         "name": "IWL",
         "rawType": "float64",
         "type": "float"
        },
        {
         "name": "IWP",
         "rawType": "float64",
         "type": "float"
        },
        {
         "name": "IWY",
         "rawType": "float64",
         "type": "float"
        },
        {
         "name": "IXN",
         "rawType": "float64",
         "type": "float"
        },
        {
         "name": "IYW",
         "rawType": "float64",
         "type": "float"
        },
        {
         "name": "MGC",
         "rawType": "float64",
         "type": "float"
        },
        {
         "name": "MMTM",
         "rawType": "float64",
         "type": "float"
        },
        {
         "name": "MTUM",
         "rawType": "float64",
         "type": "float"
        },
        {
         "name": "OEF",
         "rawType": "float64",
         "type": "float"
        },
        {
         "name": "ONEQ",
         "rawType": "float64",
         "type": "float"
        },
        {
         "name": "PHO",
         "rawType": "float64",
         "type": "float"
        },
        {
         "name": "PPA",
         "rawType": "float64",
         "type": "float"
        },
        {
         "name": "PRN",
         "rawType": "float64",
         "type": "float"
        },
        {
         "name": "PSI",
         "rawType": "float64",
         "type": "float"
        },
        {
         "name": "PTF",
         "rawType": "float64",
         "type": "float"
        },
        {
         "name": "PWB",
         "rawType": "float64",
         "type": "float"
        },
        {
         "name": "QLD",
         "rawType": "float64",
         "type": "float"
        },
        {
         "name": "QQQ",
         "rawType": "float64",
         "type": "float"
        },
        {
         "name": "QUAL",
         "rawType": "float64",
         "type": "float"
        },
        {
         "name": "SCHG",
         "rawType": "float64",
         "type": "float"
        },
        {
         "name": "SCHX",
         "rawType": "float64",
         "type": "float"
        },
        {
         "name": "SMH",
         "rawType": "float64",
         "type": "float"
        },
        {
         "name": "SMIN",
         "rawType": "float64",
         "type": "float"
        },
        {
         "name": "SOXX",
         "rawType": "float64",
         "type": "float"
        },
        {
         "name": "SPHB",
         "rawType": "float64",
         "type": "float"
        },
        {
         "name": "SPHQ",
         "rawType": "float64",
         "type": "float"
        },
        {
         "name": "SPLG",
         "rawType": "float64",
         "type": "float"
        },
        {
         "name": "SPTM",
         "rawType": "float64",
         "type": "float"
        },
        {
         "name": "SPY",
         "rawType": "float64",
         "type": "float"
        },
        {
         "name": "SPYG",
         "rawType": "float64",
         "type": "float"
        },
        {
         "name": "SUSA",
         "rawType": "float64",
         "type": "float"
        },
        {
         "name": "VCR",
         "rawType": "float64",
         "type": "float"
        },
        {
         "name": "VGT",
         "rawType": "float64",
         "type": "float"
        },
        {
         "name": "VONE",
         "rawType": "float64",
         "type": "float"
        },
        {
         "name": "VONG",
         "rawType": "float64",
         "type": "float"
        },
        {
         "name": "VOO",
         "rawType": "float64",
         "type": "float"
        },
        {
         "name": "VOOG",
         "rawType": "float64",
         "type": "float"
        },
        {
         "name": "VOT",
         "rawType": "float64",
         "type": "float"
        },
        {
         "name": "VUG",
         "rawType": "float64",
         "type": "float"
        },
        {
         "name": "VUSE",
         "rawType": "float64",
         "type": "float"
        },
        {
         "name": "VV",
         "rawType": "float64",
         "type": "float"
        },
        {
         "name": "XLG",
         "rawType": "float64",
         "type": "float"
        },
        {
         "name": "XLI",
         "rawType": "float64",
         "type": "float"
        },
        {
         "name": "XLK",
         "rawType": "float64",
         "type": "float"
        },
        {
         "name": "XLY",
         "rawType": "float64",
         "type": "float"
        },
        {
         "name": "XNTK",
         "rawType": "float64",
         "type": "float"
        }
       ],
       "ref": "ca831407-2002-459c-acb9-a9a7ed77fcc6",
       "rows": [
        [
         "2015-06-08 00:00:00",
         "33.57",
         "48.74",
         "27.71",
         "24.47",
         "29.72",
         "33.2",
         "16.81",
         "22.24",
         "26.13",
         "25.51",
         "36.4",
         "175.29",
         "25.67",
         "99.26",
         "90.46",
         "40.3",
         "45.54",
         "47.29",
         "15.09",
         "25.06",
         "59.7",
         "76.4",
         "62.52",
         "77.75",
         "17.9",
         "24.28",
         "32.64",
         "45.3",
         "8.95",
         "14.18",
         "29.12",
         "9.19",
         "100.06",
         "54.38",
         "6.24",
         "7.0",
         "25.24",
         "27.08",
         "28.92",
         "30.06",
         "19.62",
         "20.69",
         "22.07",
         "175.41",
         "22.03",
         "37.34",
         "108.82",
         "97.86",
         "81.88",
         "23.06",
         "160.16",
         "92.05",
         "99.29",
         "98.52",
         "23.86",
         "80.77",
         "12.32",
         "46.17",
         "37.59",
         "67.87",
         "37.1"
        ],
        [
         "2015-06-09 00:00:00",
         "33.54",
         "48.58",
         "27.67",
         "24.45",
         "29.67",
         "33.2",
         "16.74",
         "22.21",
         "26.05",
         "25.17",
         "36.32",
         "175.23",
         "25.65",
         "99.29",
         "90.38",
         "40.21",
         "45.49",
         "47.21",
         "15.01",
         "25.0",
         "59.76",
         "76.15",
         "62.58",
         "77.82",
         "17.88",
         "24.34",
         "32.59",
         "45.19",
         "8.96",
         "14.17",
         "29.11",
         "9.16",
         "99.89",
         "54.37",
         "6.24",
         "7.0",
         "25.27",
         "27.23",
         "28.9",
         "30.05",
         "19.62",
         "20.69",
         "22.02",
         "175.38",
         "21.97",
         "37.32",
         "108.6",
         "97.69",
         "81.82",
         "23.03",
         "160.12",
         "91.97",
         "99.08",
         "98.37",
         "23.85",
         "80.76",
         "12.32",
         "46.16",
         "37.5",
         "67.8",
         "37.1"
        ],
        [
         "2015-06-10 00:00:00",
         "33.97",
         "49.17",
         "27.96",
         "24.7",
         "30.13",
         "33.13",
         "17.02",
         "22.48",
         "26.36",
         "25.96",
         "36.83",
         "177.31",
         "25.97",
         "100.44",
         "91.46",
         "40.72",
         "45.93",
         "47.83",
         "15.25",
         "25.39",
         "60.49",
         "76.36",
         "63.34",
         "78.79",
         "18.11",
         "24.6",
         "32.98",
         "45.75",
         "9.1",
         "14.39",
         "29.45",
         "9.4",
         "101.26",
         "55.11",
         "6.32",
         "7.08",
         "25.66",
         "27.54",
         "29.26",
         "30.48",
         "19.8",
         "20.91",
         "22.26",
         "177.49",
         "22.26",
         "37.78",
         "109.64",
         "99.17",
         "82.78",
         "23.31",
         "162.02",
         "93.08",
         "100.07",
         "99.53",
         "24.15",
         "81.71",
         "12.48",
         "46.62",
         "38.08",
         "68.5",
         "37.75"
        ],
        [
         "2015-06-11 00:00:00",
         "34.04",
         "49.26",
         "28.03",
         "24.78",
         "30.12",
         "32.85",
         "17.01",
         "22.52",
         "26.42",
         "25.28",
         "36.87",
         "177.91",
         "26.04",
         "100.76",
         "91.69",
         "40.83",
         "46.09",
         "47.94",
         "15.24",
         "25.37",
         "60.58",
         "76.36",
         "63.52",
         "79.02",
         "18.12",
         "24.63",
         "33.21",
         "46.05",
         "9.06",
         "14.37",
         "29.53",
         "9.43",
         "101.41",
         "55.33",
         "6.33",
         "7.1",
         "25.69",
         "26.98",
         "29.25",
         "30.43",
         "19.87",
         "20.99",
         "22.31",
         "178.06",
         "22.32",
         "37.85",
         "109.98",
         "99.19",
         "82.95",
         "23.36",
         "162.53",
         "93.26",
         "100.5",
         "99.75",
         "24.14",
         "81.9",
         "12.49",
         "46.88",
         "38.1",
         "68.73",
         "37.71"
        ],
        [
         "2015-06-12 00:00:00",
         "33.84",
         "49.19",
         "27.94",
         "24.65",
         "29.89",
         "33.14",
         "16.89",
         "22.34",
         "26.32",
         "25.31",
         "36.65",
         "176.56",
         "25.85",
         "100.05",
         "91.11",
         "40.49",
         "45.87",
         "47.58",
         "15.15",
         "25.15",
         "60.21",
         "76.36",
         "63.17",
         "78.39",
         "17.99",
         "24.48",
         "33.06",
         "45.86",
         "9.03",
         "14.36",
         "29.38",
         "9.28",
         "100.58",
         "54.89",
         "6.29",
         "7.05",
         "25.47",
         "26.71",
         "28.99",
         "30.24",
         "19.77",
         "20.81",
         "22.17",
         "176.7",
         "22.15",
         "37.64",
         "109.68",
         "98.48",
         "82.44",
         "23.22",
         "161.34",
         "92.66",
         "100.12",
         "99.12",
         "24.09",
         "81.36",
         "12.41",
         "46.61",
         "37.76",
         "68.42",
         "37.4"
        ]
       ],
       "shape": {
        "columns": 61,
        "rows": 5
       }
      },
      "text/html": [
       "<div>\n",
       "<style scoped>\n",
       "    .dataframe tbody tr th:only-of-type {\n",
       "        vertical-align: middle;\n",
       "    }\n",
       "\n",
       "    .dataframe tbody tr th {\n",
       "        vertical-align: top;\n",
       "    }\n",
       "\n",
       "    .dataframe thead th {\n",
       "        text-align: right;\n",
       "    }\n",
       "</style>\n",
       "<table border=\"1\" class=\"dataframe\">\n",
       "  <thead>\n",
       "    <tr style=\"text-align: right;\">\n",
       "      <th></th>\n",
       "      <th>DSI</th>\n",
       "      <th>FAD</th>\n",
       "      <th>FDIS</th>\n",
       "      <th>FIDU</th>\n",
       "      <th>FTEC</th>\n",
       "      <th>GRID</th>\n",
       "      <th>IGM</th>\n",
       "      <th>ILCG</th>\n",
       "      <th>IMCG</th>\n",
       "      <th>INCO</th>\n",
       "      <th>...</th>\n",
       "      <th>VOOG</th>\n",
       "      <th>VOT</th>\n",
       "      <th>VUG</th>\n",
       "      <th>VUSE</th>\n",
       "      <th>VV</th>\n",
       "      <th>XLG</th>\n",
       "      <th>XLI</th>\n",
       "      <th>XLK</th>\n",
       "      <th>XLY</th>\n",
       "      <th>XNTK</th>\n",
       "    </tr>\n",
       "    <tr>\n",
       "      <th>Date</th>\n",
       "      <th></th>\n",
       "      <th></th>\n",
       "      <th></th>\n",
       "      <th></th>\n",
       "      <th></th>\n",
       "      <th></th>\n",
       "      <th></th>\n",
       "      <th></th>\n",
       "      <th></th>\n",
       "      <th></th>\n",
       "      <th></th>\n",
       "      <th></th>\n",
       "      <th></th>\n",
       "      <th></th>\n",
       "      <th></th>\n",
       "      <th></th>\n",
       "      <th></th>\n",
       "      <th></th>\n",
       "      <th></th>\n",
       "      <th></th>\n",
       "      <th></th>\n",
       "    </tr>\n",
       "  </thead>\n",
       "  <tbody>\n",
       "    <tr>\n",
       "      <th>2015-06-08</th>\n",
       "      <td>33.57</td>\n",
       "      <td>48.74</td>\n",
       "      <td>27.71</td>\n",
       "      <td>24.47</td>\n",
       "      <td>29.72</td>\n",
       "      <td>33.20</td>\n",
       "      <td>16.81</td>\n",
       "      <td>22.24</td>\n",
       "      <td>26.13</td>\n",
       "      <td>25.51</td>\n",
       "      <td>...</td>\n",
       "      <td>92.05</td>\n",
       "      <td>99.29</td>\n",
       "      <td>98.52</td>\n",
       "      <td>23.86</td>\n",
       "      <td>80.77</td>\n",
       "      <td>12.32</td>\n",
       "      <td>46.17</td>\n",
       "      <td>37.59</td>\n",
       "      <td>67.87</td>\n",
       "      <td>37.10</td>\n",
       "    </tr>\n",
       "    <tr>\n",
       "      <th>2015-06-09</th>\n",
       "      <td>33.54</td>\n",
       "      <td>48.58</td>\n",
       "      <td>27.67</td>\n",
       "      <td>24.45</td>\n",
       "      <td>29.67</td>\n",
       "      <td>33.20</td>\n",
       "      <td>16.74</td>\n",
       "      <td>22.21</td>\n",
       "      <td>26.05</td>\n",
       "      <td>25.17</td>\n",
       "      <td>...</td>\n",
       "      <td>91.97</td>\n",
       "      <td>99.08</td>\n",
       "      <td>98.37</td>\n",
       "      <td>23.85</td>\n",
       "      <td>80.76</td>\n",
       "      <td>12.32</td>\n",
       "      <td>46.16</td>\n",
       "      <td>37.50</td>\n",
       "      <td>67.80</td>\n",
       "      <td>37.10</td>\n",
       "    </tr>\n",
       "    <tr>\n",
       "      <th>2015-06-10</th>\n",
       "      <td>33.97</td>\n",
       "      <td>49.17</td>\n",
       "      <td>27.96</td>\n",
       "      <td>24.70</td>\n",
       "      <td>30.13</td>\n",
       "      <td>33.13</td>\n",
       "      <td>17.02</td>\n",
       "      <td>22.48</td>\n",
       "      <td>26.36</td>\n",
       "      <td>25.96</td>\n",
       "      <td>...</td>\n",
       "      <td>93.08</td>\n",
       "      <td>100.07</td>\n",
       "      <td>99.53</td>\n",
       "      <td>24.15</td>\n",
       "      <td>81.71</td>\n",
       "      <td>12.48</td>\n",
       "      <td>46.62</td>\n",
       "      <td>38.08</td>\n",
       "      <td>68.50</td>\n",
       "      <td>37.75</td>\n",
       "    </tr>\n",
       "    <tr>\n",
       "      <th>2015-06-11</th>\n",
       "      <td>34.04</td>\n",
       "      <td>49.26</td>\n",
       "      <td>28.03</td>\n",
       "      <td>24.78</td>\n",
       "      <td>30.12</td>\n",
       "      <td>32.85</td>\n",
       "      <td>17.01</td>\n",
       "      <td>22.52</td>\n",
       "      <td>26.42</td>\n",
       "      <td>25.28</td>\n",
       "      <td>...</td>\n",
       "      <td>93.26</td>\n",
       "      <td>100.50</td>\n",
       "      <td>99.75</td>\n",
       "      <td>24.14</td>\n",
       "      <td>81.90</td>\n",
       "      <td>12.49</td>\n",
       "      <td>46.88</td>\n",
       "      <td>38.10</td>\n",
       "      <td>68.73</td>\n",
       "      <td>37.71</td>\n",
       "    </tr>\n",
       "    <tr>\n",
       "      <th>2015-06-12</th>\n",
       "      <td>33.84</td>\n",
       "      <td>49.19</td>\n",
       "      <td>27.94</td>\n",
       "      <td>24.65</td>\n",
       "      <td>29.89</td>\n",
       "      <td>33.14</td>\n",
       "      <td>16.89</td>\n",
       "      <td>22.34</td>\n",
       "      <td>26.32</td>\n",
       "      <td>25.31</td>\n",
       "      <td>...</td>\n",
       "      <td>92.66</td>\n",
       "      <td>100.12</td>\n",
       "      <td>99.12</td>\n",
       "      <td>24.09</td>\n",
       "      <td>81.36</td>\n",
       "      <td>12.41</td>\n",
       "      <td>46.61</td>\n",
       "      <td>37.76</td>\n",
       "      <td>68.42</td>\n",
       "      <td>37.40</td>\n",
       "    </tr>\n",
       "  </tbody>\n",
       "</table>\n",
       "<p>5 rows × 61 columns</p>\n",
       "</div>"
      ],
      "text/plain": [
       "              DSI    FAD   FDIS   FIDU   FTEC   GRID    IGM   ILCG   IMCG  \\\n",
       "Date                                                                        \n",
       "2015-06-08  33.57  48.74  27.71  24.47  29.72  33.20  16.81  22.24  26.13   \n",
       "2015-06-09  33.54  48.58  27.67  24.45  29.67  33.20  16.74  22.21  26.05   \n",
       "2015-06-10  33.97  49.17  27.96  24.70  30.13  33.13  17.02  22.48  26.36   \n",
       "2015-06-11  34.04  49.26  28.03  24.78  30.12  32.85  17.01  22.52  26.42   \n",
       "2015-06-12  33.84  49.19  27.94  24.65  29.89  33.14  16.89  22.34  26.32   \n",
       "\n",
       "             INCO  ...   VOOG     VOT    VUG   VUSE     VV    XLG    XLI  \\\n",
       "Date               ...                                                     \n",
       "2015-06-08  25.51  ...  92.05   99.29  98.52  23.86  80.77  12.32  46.17   \n",
       "2015-06-09  25.17  ...  91.97   99.08  98.37  23.85  80.76  12.32  46.16   \n",
       "2015-06-10  25.96  ...  93.08  100.07  99.53  24.15  81.71  12.48  46.62   \n",
       "2015-06-11  25.28  ...  93.26  100.50  99.75  24.14  81.90  12.49  46.88   \n",
       "2015-06-12  25.31  ...  92.66  100.12  99.12  24.09  81.36  12.41  46.61   \n",
       "\n",
       "              XLK    XLY   XNTK  \n",
       "Date                             \n",
       "2015-06-08  37.59  67.87  37.10  \n",
       "2015-06-09  37.50  67.80  37.10  \n",
       "2015-06-10  38.08  68.50  37.75  \n",
       "2015-06-11  38.10  68.73  37.71  \n",
       "2015-06-12  37.76  68.42  37.40  \n",
       "\n",
       "[5 rows x 61 columns]"
      ]
     },
     "execution_count": 12,
     "metadata": {},
     "output_type": "execute_result"
    }
   ],
   "source": [
    "# Identify columns with null values in first or last 50 rows\n",
    "first_50_nulls = benchmark_prices_daily_df.head(50).isnull().any()\n",
    "last_50_nulls = benchmark_prices_daily_df.tail(50).isnull().any()\n",
    "\n",
    "# Columns to drop are those with nulls in first 50 OR last 50 rows\n",
    "columns_to_drop = first_50_nulls | last_50_nulls\n",
    "bad_columns = columns_to_drop[columns_to_drop].index.tolist()\n",
    "\n",
    "print(f\"Dropping {len(bad_columns)} columns with missing values in first/last 50 records: {bad_columns}\")\n",
    "\n",
    "# Drop those columns\n",
    "benchmark_prices_daily_df = benchmark_prices_daily_df.loc[:, ~columns_to_drop]\n",
    "\n",
    "# Display the first few rows of the cleaned dataframe\n",
    "benchmark_prices_daily_df.head()"
   ]
  },
  {
   "cell_type": "markdown",
   "id": "66c53499",
   "metadata": {},
   "source": [
    "#### Monthly Quotes"
   ]
  },
  {
   "cell_type": "code",
   "execution_count": 13,
   "id": "f67e5873",
   "metadata": {
    "execution": {
     "iopub.execute_input": "2025-06-02T13:28:31.265319Z",
     "iopub.status.busy": "2025-06-02T13:28:31.264968Z",
     "iopub.status.idle": "2025-06-02T13:28:31.289915Z",
     "shell.execute_reply": "2025-06-02T13:28:31.289100Z"
    }
   },
   "outputs": [
    {
     "data": {
      "application/vnd.microsoft.datawrangler.viewer.v0+json": {
       "columns": [
        {
         "name": "Date",
         "rawType": "datetime64[ns]",
         "type": "datetime"
        },
        {
         "name": "DSI",
         "rawType": "float64",
         "type": "float"
        },
        {
         "name": "FAD",
         "rawType": "float64",
         "type": "float"
        },
        {
         "name": "FDIS",
         "rawType": "float64",
         "type": "float"
        },
        {
         "name": "FIDU",
         "rawType": "float64",
         "type": "float"
        },
        {
         "name": "FTEC",
         "rawType": "float64",
         "type": "float"
        },
        {
         "name": "GRID",
         "rawType": "float64",
         "type": "float"
        },
        {
         "name": "IGM",
         "rawType": "float64",
         "type": "float"
        },
        {
         "name": "ILCG",
         "rawType": "float64",
         "type": "float"
        },
        {
         "name": "IMCG",
         "rawType": "float64",
         "type": "float"
        },
        {
         "name": "INCO",
         "rawType": "float64",
         "type": "float"
        },
        {
         "name": "IUSG",
         "rawType": "float64",
         "type": "float"
        },
        {
         "name": "IVV",
         "rawType": "float64",
         "type": "float"
        },
        {
         "name": "IVW",
         "rawType": "float64",
         "type": "float"
        },
        {
         "name": "IWB",
         "rawType": "float64",
         "type": "float"
        },
        {
         "name": "IWF",
         "rawType": "float64",
         "type": "float"
        },
        {
         "name": "IWL",
         "rawType": "float64",
         "type": "float"
        },
        {
         "name": "IWP",
         "rawType": "float64",
         "type": "float"
        },
        {
         "name": "IWY",
         "rawType": "float64",
         "type": "float"
        },
        {
         "name": "IXN",
         "rawType": "float64",
         "type": "float"
        },
        {
         "name": "IYW",
         "rawType": "float64",
         "type": "float"
        },
        {
         "name": "MGC",
         "rawType": "float64",
         "type": "float"
        },
        {
         "name": "MMTM",
         "rawType": "float64",
         "type": "float"
        },
        {
         "name": "MTUM",
         "rawType": "float64",
         "type": "float"
        },
        {
         "name": "OEF",
         "rawType": "float64",
         "type": "float"
        },
        {
         "name": "ONEQ",
         "rawType": "float64",
         "type": "float"
        },
        {
         "name": "PHO",
         "rawType": "float64",
         "type": "float"
        },
        {
         "name": "PPA",
         "rawType": "float64",
         "type": "float"
        },
        {
         "name": "PRN",
         "rawType": "float64",
         "type": "float"
        },
        {
         "name": "PSI",
         "rawType": "float64",
         "type": "float"
        },
        {
         "name": "PTF",
         "rawType": "float64",
         "type": "float"
        },
        {
         "name": "PWB",
         "rawType": "float64",
         "type": "float"
        },
        {
         "name": "QLD",
         "rawType": "float64",
         "type": "float"
        },
        {
         "name": "QQQ",
         "rawType": "float64",
         "type": "float"
        },
        {
         "name": "QUAL",
         "rawType": "float64",
         "type": "float"
        },
        {
         "name": "SCHG",
         "rawType": "float64",
         "type": "float"
        },
        {
         "name": "SCHX",
         "rawType": "float64",
         "type": "float"
        },
        {
         "name": "SMH",
         "rawType": "float64",
         "type": "float"
        },
        {
         "name": "SMIN",
         "rawType": "float64",
         "type": "float"
        },
        {
         "name": "SOXX",
         "rawType": "float64",
         "type": "float"
        },
        {
         "name": "SPHB",
         "rawType": "float64",
         "type": "float"
        },
        {
         "name": "SPHQ",
         "rawType": "float64",
         "type": "float"
        },
        {
         "name": "SPLG",
         "rawType": "float64",
         "type": "float"
        },
        {
         "name": "SPTM",
         "rawType": "float64",
         "type": "float"
        },
        {
         "name": "SPY",
         "rawType": "float64",
         "type": "float"
        },
        {
         "name": "SPYG",
         "rawType": "float64",
         "type": "float"
        },
        {
         "name": "SUSA",
         "rawType": "float64",
         "type": "float"
        },
        {
         "name": "VCR",
         "rawType": "float64",
         "type": "float"
        },
        {
         "name": "VGT",
         "rawType": "float64",
         "type": "float"
        },
        {
         "name": "VONE",
         "rawType": "float64",
         "type": "float"
        },
        {
         "name": "VONG",
         "rawType": "float64",
         "type": "float"
        },
        {
         "name": "VOO",
         "rawType": "float64",
         "type": "float"
        },
        {
         "name": "VOOG",
         "rawType": "float64",
         "type": "float"
        },
        {
         "name": "VOT",
         "rawType": "float64",
         "type": "float"
        },
        {
         "name": "VUG",
         "rawType": "float64",
         "type": "float"
        },
        {
         "name": "VUSE",
         "rawType": "float64",
         "type": "float"
        },
        {
         "name": "VV",
         "rawType": "float64",
         "type": "float"
        },
        {
         "name": "XLG",
         "rawType": "float64",
         "type": "float"
        },
        {
         "name": "XLI",
         "rawType": "float64",
         "type": "float"
        },
        {
         "name": "XLK",
         "rawType": "float64",
         "type": "float"
        },
        {
         "name": "XLY",
         "rawType": "float64",
         "type": "float"
        },
        {
         "name": "XNTK",
         "rawType": "float64",
         "type": "float"
        }
       ],
       "ref": "8898f68a-3a46-4c9c-b686-584e63e81a27",
       "rows": [
        [
         "2015-06-01 00:00:00",
         "33.28",
         "49.02",
         "27.91",
         "24.02",
         "29.08",
         "32.15",
         "16.44",
         "22.21",
         "26.03",
         "26.97",
         "36.22",
         "174.01",
         "25.56",
         "98.59",
         "89.96",
         "39.98",
         "45.14",
         "47.06",
         "14.74",
         "24.47",
         "59.35",
         "76.85",
         "63.48",
         "77.28",
         "17.82",
         "23.82",
         "32.15",
         "44.41",
         "8.57",
         "14.07",
         "29.36",
         "9.03",
         "99.25",
         "54.13",
         "6.22",
         "6.95",
         "24.4",
         "28.11",
         "27.65",
         "29.42",
         "19.58",
         "20.53",
         "21.91",
         "174.04",
         "21.93",
         "37.0",
         "109.55",
         "95.73",
         "81.17",
         "22.92",
         "159.0",
         "91.66",
         "98.89",
         "97.91",
         "23.66",
         "80.17",
         "12.23",
         "45.23",
         "36.8",
         "68.54",
         "36.3"
        ],
        [
         "2015-07-01 00:00:00",
         "34.01",
         "50.14",
         "29.02",
         "23.92",
         "29.72",
         "30.88",
         "17.09",
         "23.16",
         "26.53",
         "28.46",
         "37.38",
         "177.83",
         "26.5",
         "100.52",
         "93.02",
         "40.97",
         "45.86",
         "49.06",
         "14.97",
         "24.99",
         "60.66",
         "78.71",
         "65.89",
         "79.49",
         "18.34",
         "22.75",
         "32.27",
         "44.44",
         "8.06",
         "14.12",
         "30.37",
         "9.83",
         "103.77",
         "55.68",
         "6.41",
         "7.09",
         "23.32",
         "30.06",
         "26.28",
         "28.21",
         "20.1",
         "20.93",
         "22.24",
         "177.97",
         "22.7",
         "37.46",
         "113.86",
         "97.9",
         "82.8",
         "23.71",
         "162.46",
         "94.97",
         "100.33",
         "101.11",
         "23.3",
         "81.86",
         "12.63",
         "45.37",
         "37.85",
         "71.89",
         "38.31"
        ],
        [
         "2015-08-01 00:00:00",
         "31.94",
         "47.27",
         "27.2",
         "22.68",
         "28.01",
         "29.65",
         "16.16",
         "21.63",
         "24.86",
         "25.33",
         "35.04",
         "166.9",
         "24.87",
         "94.47",
         "87.34",
         "38.36",
         "43.17",
         "46.0",
         "14.05",
         "23.52",
         "56.83",
         "73.76",
         "61.94",
         "74.2",
         "17.09",
         "20.98",
         "30.99",
         "41.87",
         "7.7",
         "12.93",
         "28.54",
         "8.46",
         "96.69",
         "52.67",
         "6.02",
         "6.66",
         "22.16",
         "27.29",
         "24.93",
         "26.78",
         "19.07",
         "19.7",
         "20.93",
         "167.12",
         "21.32",
         "35.12",
         "106.6",
         "92.22",
         "77.75",
         "22.3",
         "152.49",
         "89.17",
         "94.47",
         "94.74",
         "22.28",
         "76.92",
         "11.78",
         "42.92",
         "35.76",
         "67.19",
         "36.52"
        ],
        [
         "2015-09-01 00:00:00",
         "31.16",
         "45.48",
         "26.75",
         "21.91",
         "27.6",
         "28.51",
         "15.94",
         "21.01",
         "23.72",
         "24.67",
         "34.04",
         "162.73",
         "24.3",
         "91.82",
         "85.07",
         "37.39",
         "41.48",
         "45.03",
         "13.86",
         "23.19",
         "55.42",
         "71.37",
         "60.77",
         "72.54",
         "16.48",
         "19.64",
         "29.96",
         "39.89",
         "7.54",
         "12.78",
         "28.07",
         "8.03",
         "94.56",
         "51.99",
         "5.81",
         "6.48",
         "22.31",
         "27.95",
         "24.59",
         "25.05",
         "18.84",
         "18.99",
         "20.19",
         "162.86",
         "20.81",
         "34.38",
         "104.91",
         "90.99",
         "75.62",
         "21.69",
         "148.73",
         "87.11",
         "90.66",
         "92.03",
         "21.21",
         "74.82",
         "11.54",
         "41.97",
         "35.27",
         "66.8",
         "35.83"
        ],
        [
         "2015-10-01 00:00:00",
         "33.89",
         "48.3",
         "28.86",
         "23.85",
         "30.56",
         "29.74",
         "17.74",
         "23.1",
         "24.99",
         "25.04",
         "36.92",
         "176.53",
         "26.59",
         "99.26",
         "92.47",
         "40.72",
         "44.09",
         "49.4",
         "15.37",
         "25.61",
         "60.31",
         "77.74",
         "65.21",
         "79.43",
         "18.11",
         "21.81",
         "32.6",
         "43.43",
         "8.1",
         "13.68",
         "29.82",
         "9.94",
         "105.31",
         "56.48",
         "6.29",
         "7.01",
         "24.24",
         "28.55",
         "27.03",
         "27.65",
         "20.01",
         "20.78",
         "21.94",
         "176.71",
         "22.8",
         "37.21",
         "113.06",
         "100.51",
         "81.74",
         "23.57",
         "161.3",
         "95.32",
         "95.74",
         "100.29",
         "22.56",
         "81.02",
         "12.68",
         "45.66",
         "38.98",
         "72.84",
         "39.65"
        ]
       ],
       "shape": {
        "columns": 61,
        "rows": 5
       }
      },
      "text/html": [
       "<div>\n",
       "<style scoped>\n",
       "    .dataframe tbody tr th:only-of-type {\n",
       "        vertical-align: middle;\n",
       "    }\n",
       "\n",
       "    .dataframe tbody tr th {\n",
       "        vertical-align: top;\n",
       "    }\n",
       "\n",
       "    .dataframe thead th {\n",
       "        text-align: right;\n",
       "    }\n",
       "</style>\n",
       "<table border=\"1\" class=\"dataframe\">\n",
       "  <thead>\n",
       "    <tr style=\"text-align: right;\">\n",
       "      <th></th>\n",
       "      <th>DSI</th>\n",
       "      <th>FAD</th>\n",
       "      <th>FDIS</th>\n",
       "      <th>FIDU</th>\n",
       "      <th>FTEC</th>\n",
       "      <th>GRID</th>\n",
       "      <th>IGM</th>\n",
       "      <th>ILCG</th>\n",
       "      <th>IMCG</th>\n",
       "      <th>INCO</th>\n",
       "      <th>...</th>\n",
       "      <th>VOOG</th>\n",
       "      <th>VOT</th>\n",
       "      <th>VUG</th>\n",
       "      <th>VUSE</th>\n",
       "      <th>VV</th>\n",
       "      <th>XLG</th>\n",
       "      <th>XLI</th>\n",
       "      <th>XLK</th>\n",
       "      <th>XLY</th>\n",
       "      <th>XNTK</th>\n",
       "    </tr>\n",
       "    <tr>\n",
       "      <th>Date</th>\n",
       "      <th></th>\n",
       "      <th></th>\n",
       "      <th></th>\n",
       "      <th></th>\n",
       "      <th></th>\n",
       "      <th></th>\n",
       "      <th></th>\n",
       "      <th></th>\n",
       "      <th></th>\n",
       "      <th></th>\n",
       "      <th></th>\n",
       "      <th></th>\n",
       "      <th></th>\n",
       "      <th></th>\n",
       "      <th></th>\n",
       "      <th></th>\n",
       "      <th></th>\n",
       "      <th></th>\n",
       "      <th></th>\n",
       "      <th></th>\n",
       "      <th></th>\n",
       "    </tr>\n",
       "  </thead>\n",
       "  <tbody>\n",
       "    <tr>\n",
       "      <th>2015-06-01</th>\n",
       "      <td>33.28</td>\n",
       "      <td>49.02</td>\n",
       "      <td>27.91</td>\n",
       "      <td>24.02</td>\n",
       "      <td>29.08</td>\n",
       "      <td>32.15</td>\n",
       "      <td>16.44</td>\n",
       "      <td>22.21</td>\n",
       "      <td>26.03</td>\n",
       "      <td>26.97</td>\n",
       "      <td>...</td>\n",
       "      <td>91.66</td>\n",
       "      <td>98.89</td>\n",
       "      <td>97.91</td>\n",
       "      <td>23.66</td>\n",
       "      <td>80.17</td>\n",
       "      <td>12.23</td>\n",
       "      <td>45.23</td>\n",
       "      <td>36.80</td>\n",
       "      <td>68.54</td>\n",
       "      <td>36.30</td>\n",
       "    </tr>\n",
       "    <tr>\n",
       "      <th>2015-07-01</th>\n",
       "      <td>34.01</td>\n",
       "      <td>50.14</td>\n",
       "      <td>29.02</td>\n",
       "      <td>23.92</td>\n",
       "      <td>29.72</td>\n",
       "      <td>30.88</td>\n",
       "      <td>17.09</td>\n",
       "      <td>23.16</td>\n",
       "      <td>26.53</td>\n",
       "      <td>28.46</td>\n",
       "      <td>...</td>\n",
       "      <td>94.97</td>\n",
       "      <td>100.33</td>\n",
       "      <td>101.11</td>\n",
       "      <td>23.30</td>\n",
       "      <td>81.86</td>\n",
       "      <td>12.63</td>\n",
       "      <td>45.37</td>\n",
       "      <td>37.85</td>\n",
       "      <td>71.89</td>\n",
       "      <td>38.31</td>\n",
       "    </tr>\n",
       "    <tr>\n",
       "      <th>2015-08-01</th>\n",
       "      <td>31.94</td>\n",
       "      <td>47.27</td>\n",
       "      <td>27.20</td>\n",
       "      <td>22.68</td>\n",
       "      <td>28.01</td>\n",
       "      <td>29.65</td>\n",
       "      <td>16.16</td>\n",
       "      <td>21.63</td>\n",
       "      <td>24.86</td>\n",
       "      <td>25.33</td>\n",
       "      <td>...</td>\n",
       "      <td>89.17</td>\n",
       "      <td>94.47</td>\n",
       "      <td>94.74</td>\n",
       "      <td>22.28</td>\n",
       "      <td>76.92</td>\n",
       "      <td>11.78</td>\n",
       "      <td>42.92</td>\n",
       "      <td>35.76</td>\n",
       "      <td>67.19</td>\n",
       "      <td>36.52</td>\n",
       "    </tr>\n",
       "    <tr>\n",
       "      <th>2015-09-01</th>\n",
       "      <td>31.16</td>\n",
       "      <td>45.48</td>\n",
       "      <td>26.75</td>\n",
       "      <td>21.91</td>\n",
       "      <td>27.60</td>\n",
       "      <td>28.51</td>\n",
       "      <td>15.94</td>\n",
       "      <td>21.01</td>\n",
       "      <td>23.72</td>\n",
       "      <td>24.67</td>\n",
       "      <td>...</td>\n",
       "      <td>87.11</td>\n",
       "      <td>90.66</td>\n",
       "      <td>92.03</td>\n",
       "      <td>21.21</td>\n",
       "      <td>74.82</td>\n",
       "      <td>11.54</td>\n",
       "      <td>41.97</td>\n",
       "      <td>35.27</td>\n",
       "      <td>66.80</td>\n",
       "      <td>35.83</td>\n",
       "    </tr>\n",
       "    <tr>\n",
       "      <th>2015-10-01</th>\n",
       "      <td>33.89</td>\n",
       "      <td>48.30</td>\n",
       "      <td>28.86</td>\n",
       "      <td>23.85</td>\n",
       "      <td>30.56</td>\n",
       "      <td>29.74</td>\n",
       "      <td>17.74</td>\n",
       "      <td>23.10</td>\n",
       "      <td>24.99</td>\n",
       "      <td>25.04</td>\n",
       "      <td>...</td>\n",
       "      <td>95.32</td>\n",
       "      <td>95.74</td>\n",
       "      <td>100.29</td>\n",
       "      <td>22.56</td>\n",
       "      <td>81.02</td>\n",
       "      <td>12.68</td>\n",
       "      <td>45.66</td>\n",
       "      <td>38.98</td>\n",
       "      <td>72.84</td>\n",
       "      <td>39.65</td>\n",
       "    </tr>\n",
       "  </tbody>\n",
       "</table>\n",
       "<p>5 rows × 61 columns</p>\n",
       "</div>"
      ],
      "text/plain": [
       "              DSI    FAD   FDIS   FIDU   FTEC   GRID    IGM   ILCG   IMCG  \\\n",
       "Date                                                                        \n",
       "2015-06-01  33.28  49.02  27.91  24.02  29.08  32.15  16.44  22.21  26.03   \n",
       "2015-07-01  34.01  50.14  29.02  23.92  29.72  30.88  17.09  23.16  26.53   \n",
       "2015-08-01  31.94  47.27  27.20  22.68  28.01  29.65  16.16  21.63  24.86   \n",
       "2015-09-01  31.16  45.48  26.75  21.91  27.60  28.51  15.94  21.01  23.72   \n",
       "2015-10-01  33.89  48.30  28.86  23.85  30.56  29.74  17.74  23.10  24.99   \n",
       "\n",
       "             INCO  ...   VOOG     VOT     VUG   VUSE     VV    XLG    XLI  \\\n",
       "Date               ...                                                      \n",
       "2015-06-01  26.97  ...  91.66   98.89   97.91  23.66  80.17  12.23  45.23   \n",
       "2015-07-01  28.46  ...  94.97  100.33  101.11  23.30  81.86  12.63  45.37   \n",
       "2015-08-01  25.33  ...  89.17   94.47   94.74  22.28  76.92  11.78  42.92   \n",
       "2015-09-01  24.67  ...  87.11   90.66   92.03  21.21  74.82  11.54  41.97   \n",
       "2015-10-01  25.04  ...  95.32   95.74  100.29  22.56  81.02  12.68  45.66   \n",
       "\n",
       "              XLK    XLY   XNTK  \n",
       "Date                             \n",
       "2015-06-01  36.80  68.54  36.30  \n",
       "2015-07-01  37.85  71.89  38.31  \n",
       "2015-08-01  35.76  67.19  36.52  \n",
       "2015-09-01  35.27  66.80  35.83  \n",
       "2015-10-01  38.98  72.84  39.65  \n",
       "\n",
       "[5 rows x 61 columns]"
      ]
     },
     "metadata": {},
     "output_type": "display_data"
    }
   ],
   "source": [
    "benchmark_prices_monthly_df = (benchmark_prices_daily_df.set_index(pd.to_datetime(benchmark_prices_daily_df.pop('Date')))\n",
    "      if 'Date' in benchmark_prices_daily_df.columns else benchmark_prices_daily_df.copy())\n",
    "benchmark_prices_monthly_df.index = pd.to_datetime(benchmark_prices_monthly_df.index)              \n",
    "benchmark_prices_monthly_df = (benchmark_prices_monthly_df.resample('MS').last()\n",
    "   .reset_index()\n",
    "   .rename(columns={'index': 'Date'}))\n",
    "\n",
    "benchmark_prices_monthly_df.set_index('Date', inplace=True)\n",
    "display(benchmark_prices_monthly_df.head())"
   ]
  },
  {
   "cell_type": "markdown",
   "id": "49ab8af5",
   "metadata": {},
   "source": [
    "### Step 8: Calculate Returns (Lognormal)"
   ]
  },
  {
   "cell_type": "markdown",
   "id": "9ea4ce34",
   "metadata": {},
   "source": [
    "#### Benchmark"
   ]
  },
  {
   "cell_type": "code",
   "execution_count": 14,
   "id": "8374cc5a",
   "metadata": {
    "execution": {
     "iopub.execute_input": "2025-06-02T13:28:31.293059Z",
     "iopub.status.busy": "2025-06-02T13:28:31.292687Z",
     "iopub.status.idle": "2025-06-02T13:28:31.311861Z",
     "shell.execute_reply": "2025-06-02T13:28:31.310945Z"
    }
   },
   "outputs": [
    {
     "data": {
      "application/vnd.microsoft.datawrangler.viewer.v0+json": {
       "columns": [
        {
         "name": "Date",
         "rawType": "datetime64[ns]",
         "type": "datetime"
        },
        {
         "name": "DSI",
         "rawType": "float64",
         "type": "float"
        },
        {
         "name": "FAD",
         "rawType": "float64",
         "type": "float"
        },
        {
         "name": "FDIS",
         "rawType": "float64",
         "type": "float"
        },
        {
         "name": "FIDU",
         "rawType": "float64",
         "type": "float"
        },
        {
         "name": "FTEC",
         "rawType": "float64",
         "type": "float"
        },
        {
         "name": "GRID",
         "rawType": "float64",
         "type": "float"
        },
        {
         "name": "IGM",
         "rawType": "float64",
         "type": "float"
        },
        {
         "name": "ILCG",
         "rawType": "float64",
         "type": "float"
        },
        {
         "name": "IMCG",
         "rawType": "float64",
         "type": "float"
        },
        {
         "name": "INCO",
         "rawType": "float64",
         "type": "float"
        },
        {
         "name": "IUSG",
         "rawType": "float64",
         "type": "float"
        },
        {
         "name": "IVV",
         "rawType": "float64",
         "type": "float"
        },
        {
         "name": "IVW",
         "rawType": "float64",
         "type": "float"
        },
        {
         "name": "IWB",
         "rawType": "float64",
         "type": "float"
        },
        {
         "name": "IWF",
         "rawType": "float64",
         "type": "float"
        },
        {
         "name": "IWL",
         "rawType": "float64",
         "type": "float"
        },
        {
         "name": "IWP",
         "rawType": "float64",
         "type": "float"
        },
        {
         "name": "IWY",
         "rawType": "float64",
         "type": "float"
        },
        {
         "name": "IXN",
         "rawType": "float64",
         "type": "float"
        },
        {
         "name": "IYW",
         "rawType": "float64",
         "type": "float"
        },
        {
         "name": "MGC",
         "rawType": "float64",
         "type": "float"
        },
        {
         "name": "MMTM",
         "rawType": "float64",
         "type": "float"
        },
        {
         "name": "MTUM",
         "rawType": "float64",
         "type": "float"
        },
        {
         "name": "OEF",
         "rawType": "float64",
         "type": "float"
        },
        {
         "name": "ONEQ",
         "rawType": "float64",
         "type": "float"
        },
        {
         "name": "PHO",
         "rawType": "float64",
         "type": "float"
        },
        {
         "name": "PPA",
         "rawType": "float64",
         "type": "float"
        },
        {
         "name": "PRN",
         "rawType": "float64",
         "type": "float"
        },
        {
         "name": "PSI",
         "rawType": "float64",
         "type": "float"
        },
        {
         "name": "PTF",
         "rawType": "float64",
         "type": "float"
        },
        {
         "name": "PWB",
         "rawType": "float64",
         "type": "float"
        },
        {
         "name": "QLD",
         "rawType": "float64",
         "type": "float"
        },
        {
         "name": "QQQ",
         "rawType": "float64",
         "type": "float"
        },
        {
         "name": "QUAL",
         "rawType": "float64",
         "type": "float"
        },
        {
         "name": "SCHG",
         "rawType": "float64",
         "type": "float"
        },
        {
         "name": "SCHX",
         "rawType": "float64",
         "type": "float"
        },
        {
         "name": "SMH",
         "rawType": "float64",
         "type": "float"
        },
        {
         "name": "SMIN",
         "rawType": "float64",
         "type": "float"
        },
        {
         "name": "SOXX",
         "rawType": "float64",
         "type": "float"
        },
        {
         "name": "SPHB",
         "rawType": "float64",
         "type": "float"
        },
        {
         "name": "SPHQ",
         "rawType": "float64",
         "type": "float"
        },
        {
         "name": "SPLG",
         "rawType": "float64",
         "type": "float"
        },
        {
         "name": "SPTM",
         "rawType": "float64",
         "type": "float"
        },
        {
         "name": "SPY",
         "rawType": "float64",
         "type": "float"
        },
        {
         "name": "SPYG",
         "rawType": "float64",
         "type": "float"
        },
        {
         "name": "SUSA",
         "rawType": "float64",
         "type": "float"
        },
        {
         "name": "VCR",
         "rawType": "float64",
         "type": "float"
        },
        {
         "name": "VGT",
         "rawType": "float64",
         "type": "float"
        },
        {
         "name": "VONE",
         "rawType": "float64",
         "type": "float"
        },
        {
         "name": "VONG",
         "rawType": "float64",
         "type": "float"
        },
        {
         "name": "VOO",
         "rawType": "float64",
         "type": "float"
        },
        {
         "name": "VOOG",
         "rawType": "float64",
         "type": "float"
        },
        {
         "name": "VOT",
         "rawType": "float64",
         "type": "float"
        },
        {
         "name": "VUG",
         "rawType": "float64",
         "type": "float"
        },
        {
         "name": "VUSE",
         "rawType": "float64",
         "type": "float"
        },
        {
         "name": "VV",
         "rawType": "float64",
         "type": "float"
        },
        {
         "name": "XLG",
         "rawType": "float64",
         "type": "float"
        },
        {
         "name": "XLI",
         "rawType": "float64",
         "type": "float"
        },
        {
         "name": "XLK",
         "rawType": "float64",
         "type": "float"
        },
        {
         "name": "XLY",
         "rawType": "float64",
         "type": "float"
        },
        {
         "name": "XNTK",
         "rawType": "float64",
         "type": "float"
        }
       ],
       "ref": "407227b0-d126-4e23-99f2-b41909707382",
       "rows": [
        [
         "2015-07-01 00:00:00",
         "0.021697983066096126",
         "0.02259071463018076",
         "0.039000199907811006",
         "-0.004171887569406381",
         "0.021769567184239814",
         "-0.04030372552705294",
         "0.03877610749946564",
         "0.04188401479845835",
         "0.019026449143174376",
         "0.053774455510067876",
         "0.03152434957214948",
         "0.021715268928082274",
         "0.03611610348284244",
         "0.019386876088441356",
         "0.033449396704835946",
         "0.024460762486525664",
         "0.015824506040368638",
         "0.04162065553112684",
         "0.015483311670346537",
         "0.021027867392280755",
         "0.021832381204757903",
         "0.02391474216975392",
         "0.03726178926752035",
         "0.028196037680758734",
         "0.028763044785655407",
         "-0.04596041853019462",
         "0.0037255553802421075",
         "0.0006752954674183224",
         "-0.06135417609115151",
         "0.003547360938798235",
         "0.033822075311342535",
         "0.08488656673018119",
         "0.04453499204988719",
         "0.02823245521727765",
         "0.03008936418149062",
         "0.019943680967335328",
         "-0.04527177081686444",
         "0.06706999940638798",
         "-0.0508175343519339",
         "-0.04199819015938662",
         "0.02621117796266592",
         "0.019296305427066073",
         "0.014949315775006307",
         "0.022329838909414968",
         "0.03450936205756012",
         "0.012355784371718104",
         "0.038588557481460346",
         "0.022414820578202925",
         "0.01988234061812963",
         "0.03388700823077524",
         "0.021527615402576417",
         "0.03547497317388326",
         "0.014456631655621983",
         "0.03216034373732774",
         "-0.015332497978585852",
         "0.020861091009396635",
         "0.03218298666331887",
         "0.003090510186120667",
         "0.028133134708572684",
         "0.04771965654931727",
         "0.05389321744175263"
        ],
        [
         "2015-08-01 00:00:00",
         "-0.06279545623223766",
         "-0.058943247925002336",
         "-0.06476827415409014",
         "-0.05323145022287974",
         "-0.05925863057754113",
         "-0.04064659971284099",
         "-0.05595444403455021",
         "-0.06834541273982711",
         "-0.06501608206708331",
         "-0.1165101286481226",
         "-0.06464553595922617",
         "-0.06343320708777994",
         "-0.06348247517686323",
         "-0.06207438889434838",
         "-0.06300597573853595",
         "-0.06582484154354223",
         "-0.06044746786237214",
         "-0.06440264234124823",
         "-0.06342580265178224",
         "-0.060624621816434854",
         "-0.06522014695140489",
         "-0.0649536329060202",
         "-0.06182051038067178",
         "-0.06886707741168639",
         "-0.07059096970081928",
         "-0.08099554242880827",
         "-0.04047343426421371",
         "-0.05957038474037725",
         "-0.04569322765889885",
         "-0.08804203928132992",
         "-0.062148667008967054",
         "-0.15008976054094322",
         "-0.07066692712173091",
         "-0.055574982530866235",
         "-0.0627720116118491",
         "-0.06256585599173826",
         "-0.051022499603208545",
         "-0.09667504960458131",
         "-0.052736296080943344",
         "-0.05202118475087847",
         "-0.052603395452702435",
         "-0.060564900713965544",
         "-0.060708932924473165",
         "-0.06290287951358384",
         "-0.06271932518971313",
         "-0.06450292824902662",
         "-0.06588611179119175",
         "-0.05976952275790527",
         "-0.06292951033187043",
         "-0.061310221611241014",
         "-0.06333279749588697",
         "-0.063016392108073",
         "-0.06018242915647838",
         "-0.06507273560770208",
         "-0.04476394551257153",
         "-0.06224455034367791",
         "-0.06967175813895925",
         "-0.05551317591337468",
         "-0.05680102957814446",
         "-0.0676127460637216",
         "-0.04785090298578983"
        ],
        [
         "2015-09-01 00:00:00",
         "-0.02472392178431891",
         "-0.038603175922809874",
         "-0.01668249995993602",
         "-0.034540325252176096",
         "-0.014745816548912875",
         "-0.039207222519153775",
         "-0.013707379730880351",
         "-0.02908272510805826",
         "-0.04694151195304042",
         "-0.026401533472318363",
         "-0.028953962363017345",
         "-0.025302444995266474",
         "-0.02318590746881049",
         "-0.028452184959967028",
         "-0.026334101069622053",
         "-0.025611961026215116",
         "-0.03993442620605968",
         "-0.021312462175614676",
         "-0.013615402017997734",
         "-0.014129971762985803",
         "-0.02512381587419767",
         "-0.032938966265362364",
         "-0.019069928397792795",
         "-0.022626016318578437",
         "-0.0363459726461738",
         "-0.06600130004183132",
         "-0.033801413150638025",
         "-0.048443914113736566",
         "-0.02099814683977347",
         "-0.011668743834377378",
         "-0.016605221674899147",
         "-0.05216464565946174",
         "-0.02227543083766806",
         "-0.01299464109967358",
         "-0.035506688456909755",
         "-0.027398974188114388",
         "0.00674614656535796",
         "0.023896864880861034",
         "-0.013732041307365314",
         "-0.06678151273215265",
         "-0.012134150464110696",
         "-0.03670611091974834",
         "-0.03599610413316214",
         "-0.025821181209325045",
         "-0.024211958892100798",
         "-0.02129576881221255",
         "-0.015980671988350015",
         "-0.013427416409960079",
         "-0.027777752596556706",
         "-0.02773535362729008",
         "-0.024966438522414376",
         "-0.023372972315987447",
         "-0.04116607826833976",
         "-0.029021686644840148",
         "-0.04921664648249216",
         "-0.02768069180057896",
         "-0.020583917143487115",
         "-0.02238284041699827",
         "-0.01379720605735264",
         "-0.0058213463894585754",
         "-0.01907452440990536"
        ],
        [
         "2015-10-01 00:00:00",
         "0.08398476461641242",
         "0.060158891776191756",
         "0.07592208000370931",
         "0.08484106372697509",
         "0.10187619157521534",
         "0.04223803810742838",
         "0.10699030351936438",
         "0.09483410267083875",
         "0.05215717071733632",
         "0.014886615690632281",
         "0.08121710592947806",
         "0.08139844792866871",
         "0.09005885490842555",
         "0.0779125313382189",
         "0.08340982060175431",
         "0.08531608325324501",
         "0.06102161600851986",
         "0.09262148988039648",
         "0.10341056378874729",
         "0.09926174894399357",
         "0.08455738802806298",
         "0.08549231244110092",
         "0.07051658525784683",
         "0.09073799679028445",
         "0.09431674741399626",
         "0.10480027728721772",
         "0.08444912972364318",
         "0.08502478062941515",
         "0.07164187965852839",
         "0.06805346324501578",
         "0.06047791896280125",
         "0.2133824927098124",
         "0.10767382773471783",
         "0.08283520078936205",
         "0.07938049984852938",
         "0.07861719068231522",
         "0.08296915275667252",
         "0.02123973650091119",
         "0.09460750406025499",
         "0.09875190043746987",
         "0.06024987944742519",
         "0.09007846084688703",
         "0.08312402252233798",
         "0.08161903478097901",
         "0.09132689555485217",
         "0.07910254240382793",
         "0.07481581150375066",
         "0.09950761466804915",
         "0.0778226796733444",
         "0.08312339210925666",
         "0.08113340352665674",
         "0.09006796439974062",
         "0.0545199384516598",
         "0.08595137824935148",
         "0.06170565805326695",
         "0.0796108088545444",
         "0.09420668792912641",
         "0.08426756375614995",
         "0.100015949831454",
         "0.08656217431680722",
         "0.10130541676399456"
        ],
        [
         "2015-11-01 00:00:00",
         "0.0017688683857451637",
         "0.008452787159924346",
         "-0.005907923352451383",
         "0.013741627852296387",
         "0.01041676085825558",
         "0.0030216574946481797",
         "0.012881723914034207",
         "0.0038885337396923746",
         "0.003196167323341156",
         "0.00039928129897607515",
         "0.0059411462899082",
         "0.003901065017964641",
         "0.0018786404172599306",
         "0.00412205882007012",
         "0.003023433897997351",
         "0.006120719316512413",
         "0.0024917897138062584",
         "0.0036371024131676695",
         "0.009067419637942966",
         "0.00971447313227755",
         "0.0039715425362058555",
         "0.010874539454006592",
         "0.005352922470518097",
         "0.0033934551511286583",
         "0.012620194932996782",
         "-0.02978349506676374",
         "0.02064432758034576",
         "0.023214515413183145",
         "0.050552279162831254",
         "0.010905233482262527",
         "0.0010055305020187962",
         "0.010010093595100425",
         "0.006058903321802294",
         "0.004416578153489211",
         "0.0031746058407726395",
         "0.0042704691234522855",
         "0.028869660996414026",
         "-0.0038603311669790493",
         "0.023039965948255955",
         "0.004330573350364429",
         "0.009450455811516933",
         "0.0004811161988401639",
         "0.004093705967167559",
         "0.0036715944880918497",
         "0.001314924581309022",
         "0.0029518336206120375",
         "-0.004698798485239133",
         "0.011770078017865733",
         "0.003907208877908784",
         "0.002965475589857726",
         "0.004268619800883272",
         "0.0013628979412153724",
         "-0.0003133977565478795",
         "0.0014945451892673382",
         "0.019315789299291702",
         "0.003449978779220406",
         "0.004720701134937394",
         "0.008505121599666425",
         "0.007157494768900306",
         "-0.0024742280663513886",
         "0.010536976567196184"
        ]
       ],
       "shape": {
        "columns": 61,
        "rows": 5
       }
      },
      "text/html": [
       "<div>\n",
       "<style scoped>\n",
       "    .dataframe tbody tr th:only-of-type {\n",
       "        vertical-align: middle;\n",
       "    }\n",
       "\n",
       "    .dataframe tbody tr th {\n",
       "        vertical-align: top;\n",
       "    }\n",
       "\n",
       "    .dataframe thead th {\n",
       "        text-align: right;\n",
       "    }\n",
       "</style>\n",
       "<table border=\"1\" class=\"dataframe\">\n",
       "  <thead>\n",
       "    <tr style=\"text-align: right;\">\n",
       "      <th></th>\n",
       "      <th>DSI</th>\n",
       "      <th>FAD</th>\n",
       "      <th>FDIS</th>\n",
       "      <th>FIDU</th>\n",
       "      <th>FTEC</th>\n",
       "      <th>GRID</th>\n",
       "      <th>IGM</th>\n",
       "      <th>ILCG</th>\n",
       "      <th>IMCG</th>\n",
       "      <th>INCO</th>\n",
       "      <th>...</th>\n",
       "      <th>VOOG</th>\n",
       "      <th>VOT</th>\n",
       "      <th>VUG</th>\n",
       "      <th>VUSE</th>\n",
       "      <th>VV</th>\n",
       "      <th>XLG</th>\n",
       "      <th>XLI</th>\n",
       "      <th>XLK</th>\n",
       "      <th>XLY</th>\n",
       "      <th>XNTK</th>\n",
       "    </tr>\n",
       "    <tr>\n",
       "      <th>Date</th>\n",
       "      <th></th>\n",
       "      <th></th>\n",
       "      <th></th>\n",
       "      <th></th>\n",
       "      <th></th>\n",
       "      <th></th>\n",
       "      <th></th>\n",
       "      <th></th>\n",
       "      <th></th>\n",
       "      <th></th>\n",
       "      <th></th>\n",
       "      <th></th>\n",
       "      <th></th>\n",
       "      <th></th>\n",
       "      <th></th>\n",
       "      <th></th>\n",
       "      <th></th>\n",
       "      <th></th>\n",
       "      <th></th>\n",
       "      <th></th>\n",
       "      <th></th>\n",
       "    </tr>\n",
       "  </thead>\n",
       "  <tbody>\n",
       "    <tr>\n",
       "      <th>2015-07-01</th>\n",
       "      <td>0.021698</td>\n",
       "      <td>0.022591</td>\n",
       "      <td>0.039000</td>\n",
       "      <td>-0.004172</td>\n",
       "      <td>0.021770</td>\n",
       "      <td>-0.040304</td>\n",
       "      <td>0.038776</td>\n",
       "      <td>0.041884</td>\n",
       "      <td>0.019026</td>\n",
       "      <td>0.053774</td>\n",
       "      <td>...</td>\n",
       "      <td>0.035475</td>\n",
       "      <td>0.014457</td>\n",
       "      <td>0.032160</td>\n",
       "      <td>-0.015332</td>\n",
       "      <td>0.020861</td>\n",
       "      <td>0.032183</td>\n",
       "      <td>0.003091</td>\n",
       "      <td>0.028133</td>\n",
       "      <td>0.047720</td>\n",
       "      <td>0.053893</td>\n",
       "    </tr>\n",
       "    <tr>\n",
       "      <th>2015-08-01</th>\n",
       "      <td>-0.062795</td>\n",
       "      <td>-0.058943</td>\n",
       "      <td>-0.064768</td>\n",
       "      <td>-0.053231</td>\n",
       "      <td>-0.059259</td>\n",
       "      <td>-0.040647</td>\n",
       "      <td>-0.055954</td>\n",
       "      <td>-0.068345</td>\n",
       "      <td>-0.065016</td>\n",
       "      <td>-0.116510</td>\n",
       "      <td>...</td>\n",
       "      <td>-0.063016</td>\n",
       "      <td>-0.060182</td>\n",
       "      <td>-0.065073</td>\n",
       "      <td>-0.044764</td>\n",
       "      <td>-0.062245</td>\n",
       "      <td>-0.069672</td>\n",
       "      <td>-0.055513</td>\n",
       "      <td>-0.056801</td>\n",
       "      <td>-0.067613</td>\n",
       "      <td>-0.047851</td>\n",
       "    </tr>\n",
       "    <tr>\n",
       "      <th>2015-09-01</th>\n",
       "      <td>-0.024724</td>\n",
       "      <td>-0.038603</td>\n",
       "      <td>-0.016682</td>\n",
       "      <td>-0.034540</td>\n",
       "      <td>-0.014746</td>\n",
       "      <td>-0.039207</td>\n",
       "      <td>-0.013707</td>\n",
       "      <td>-0.029083</td>\n",
       "      <td>-0.046942</td>\n",
       "      <td>-0.026402</td>\n",
       "      <td>...</td>\n",
       "      <td>-0.023373</td>\n",
       "      <td>-0.041166</td>\n",
       "      <td>-0.029022</td>\n",
       "      <td>-0.049217</td>\n",
       "      <td>-0.027681</td>\n",
       "      <td>-0.020584</td>\n",
       "      <td>-0.022383</td>\n",
       "      <td>-0.013797</td>\n",
       "      <td>-0.005821</td>\n",
       "      <td>-0.019075</td>\n",
       "    </tr>\n",
       "    <tr>\n",
       "      <th>2015-10-01</th>\n",
       "      <td>0.083985</td>\n",
       "      <td>0.060159</td>\n",
       "      <td>0.075922</td>\n",
       "      <td>0.084841</td>\n",
       "      <td>0.101876</td>\n",
       "      <td>0.042238</td>\n",
       "      <td>0.106990</td>\n",
       "      <td>0.094834</td>\n",
       "      <td>0.052157</td>\n",
       "      <td>0.014887</td>\n",
       "      <td>...</td>\n",
       "      <td>0.090068</td>\n",
       "      <td>0.054520</td>\n",
       "      <td>0.085951</td>\n",
       "      <td>0.061706</td>\n",
       "      <td>0.079611</td>\n",
       "      <td>0.094207</td>\n",
       "      <td>0.084268</td>\n",
       "      <td>0.100016</td>\n",
       "      <td>0.086562</td>\n",
       "      <td>0.101305</td>\n",
       "    </tr>\n",
       "    <tr>\n",
       "      <th>2015-11-01</th>\n",
       "      <td>0.001769</td>\n",
       "      <td>0.008453</td>\n",
       "      <td>-0.005908</td>\n",
       "      <td>0.013742</td>\n",
       "      <td>0.010417</td>\n",
       "      <td>0.003022</td>\n",
       "      <td>0.012882</td>\n",
       "      <td>0.003889</td>\n",
       "      <td>0.003196</td>\n",
       "      <td>0.000399</td>\n",
       "      <td>...</td>\n",
       "      <td>0.001363</td>\n",
       "      <td>-0.000313</td>\n",
       "      <td>0.001495</td>\n",
       "      <td>0.019316</td>\n",
       "      <td>0.003450</td>\n",
       "      <td>0.004721</td>\n",
       "      <td>0.008505</td>\n",
       "      <td>0.007157</td>\n",
       "      <td>-0.002474</td>\n",
       "      <td>0.010537</td>\n",
       "    </tr>\n",
       "  </tbody>\n",
       "</table>\n",
       "<p>5 rows × 61 columns</p>\n",
       "</div>"
      ],
      "text/plain": [
       "                 DSI       FAD      FDIS      FIDU      FTEC      GRID  \\\n",
       "Date                                                                     \n",
       "2015-07-01  0.021698  0.022591  0.039000 -0.004172  0.021770 -0.040304   \n",
       "2015-08-01 -0.062795 -0.058943 -0.064768 -0.053231 -0.059259 -0.040647   \n",
       "2015-09-01 -0.024724 -0.038603 -0.016682 -0.034540 -0.014746 -0.039207   \n",
       "2015-10-01  0.083985  0.060159  0.075922  0.084841  0.101876  0.042238   \n",
       "2015-11-01  0.001769  0.008453 -0.005908  0.013742  0.010417  0.003022   \n",
       "\n",
       "                 IGM      ILCG      IMCG      INCO  ...      VOOG       VOT  \\\n",
       "Date                                                ...                       \n",
       "2015-07-01  0.038776  0.041884  0.019026  0.053774  ...  0.035475  0.014457   \n",
       "2015-08-01 -0.055954 -0.068345 -0.065016 -0.116510  ... -0.063016 -0.060182   \n",
       "2015-09-01 -0.013707 -0.029083 -0.046942 -0.026402  ... -0.023373 -0.041166   \n",
       "2015-10-01  0.106990  0.094834  0.052157  0.014887  ...  0.090068  0.054520   \n",
       "2015-11-01  0.012882  0.003889  0.003196  0.000399  ...  0.001363 -0.000313   \n",
       "\n",
       "                 VUG      VUSE        VV       XLG       XLI       XLK  \\\n",
       "Date                                                                     \n",
       "2015-07-01  0.032160 -0.015332  0.020861  0.032183  0.003091  0.028133   \n",
       "2015-08-01 -0.065073 -0.044764 -0.062245 -0.069672 -0.055513 -0.056801   \n",
       "2015-09-01 -0.029022 -0.049217 -0.027681 -0.020584 -0.022383 -0.013797   \n",
       "2015-10-01  0.085951  0.061706  0.079611  0.094207  0.084268  0.100016   \n",
       "2015-11-01  0.001495  0.019316  0.003450  0.004721  0.008505  0.007157   \n",
       "\n",
       "                 XLY      XNTK  \n",
       "Date                            \n",
       "2015-07-01  0.047720  0.053893  \n",
       "2015-08-01 -0.067613 -0.047851  \n",
       "2015-09-01 -0.005821 -0.019075  \n",
       "2015-10-01  0.086562  0.101305  \n",
       "2015-11-01 -0.002474  0.010537  \n",
       "\n",
       "[5 rows x 61 columns]"
      ]
     },
     "execution_count": 14,
     "metadata": {},
     "output_type": "execute_result"
    }
   ],
   "source": [
    "benchmark_log_returns_df = np.log(benchmark_prices_monthly_df / benchmark_prices_monthly_df.shift(1))\n",
    "benchmark_log_returns_df = benchmark_log_returns_df.dropna().sort_index(axis=0, ascending=True).sort_index(axis=1, ascending=True)\n",
    "benchmark_log_returns_df.head()"
   ]
  },
  {
   "cell_type": "markdown",
   "id": "3798f32a",
   "metadata": {},
   "source": [
    "#### Stocks"
   ]
  },
  {
   "cell_type": "code",
   "execution_count": 15,
   "id": "16169afe",
   "metadata": {
    "execution": {
     "iopub.execute_input": "2025-06-02T13:28:31.314257Z",
     "iopub.status.busy": "2025-06-02T13:28:31.313851Z",
     "iopub.status.idle": "2025-06-02T13:28:31.329427Z",
     "shell.execute_reply": "2025-06-02T13:28:31.328391Z"
    }
   },
   "outputs": [
    {
     "data": {
      "application/vnd.microsoft.datawrangler.viewer.v0+json": {
       "columns": [
        {
         "name": "Date",
         "rawType": "datetime64[ns]",
         "type": "datetime"
        },
        {
         "name": "GRMN",
         "rawType": "float64",
         "type": "float"
        },
        {
         "name": "MSFT",
         "rawType": "float64",
         "type": "float"
        }
       ],
       "ref": "45ee819e-6314-463c-b883-6d74ce6db505",
       "rows": [
        [
         "2015-08-01 00:00:00",
         "-0.10824097852318039",
         "-0.06399532465993009"
        ],
        [
         "2015-09-01 00:00:00",
         "-0.03294415571935391",
         "0.01696947129405032"
        ],
        [
         "2015-10-01 00:00:00",
         "-0.011475232343164986",
         "0.1733070205827621"
        ],
        [
         "2015-11-01 00:00:00",
         "0.06486423130493427",
         "0.03885227182339446"
        ],
        [
         "2015-12-01 00:00:00",
         "-0.004546257174617135",
         "0.020516728359509608"
        ]
       ],
       "shape": {
        "columns": 2,
        "rows": 5
       }
      },
      "text/html": [
       "<div>\n",
       "<style scoped>\n",
       "    .dataframe tbody tr th:only-of-type {\n",
       "        vertical-align: middle;\n",
       "    }\n",
       "\n",
       "    .dataframe tbody tr th {\n",
       "        vertical-align: top;\n",
       "    }\n",
       "\n",
       "    .dataframe thead th {\n",
       "        text-align: right;\n",
       "    }\n",
       "</style>\n",
       "<table border=\"1\" class=\"dataframe\">\n",
       "  <thead>\n",
       "    <tr style=\"text-align: right;\">\n",
       "      <th></th>\n",
       "      <th>GRMN</th>\n",
       "      <th>MSFT</th>\n",
       "    </tr>\n",
       "    <tr>\n",
       "      <th>Date</th>\n",
       "      <th></th>\n",
       "      <th></th>\n",
       "    </tr>\n",
       "  </thead>\n",
       "  <tbody>\n",
       "    <tr>\n",
       "      <th>2015-08-01</th>\n",
       "      <td>-0.108241</td>\n",
       "      <td>-0.063995</td>\n",
       "    </tr>\n",
       "    <tr>\n",
       "      <th>2015-09-01</th>\n",
       "      <td>-0.032944</td>\n",
       "      <td>0.016969</td>\n",
       "    </tr>\n",
       "    <tr>\n",
       "      <th>2015-10-01</th>\n",
       "      <td>-0.011475</td>\n",
       "      <td>0.173307</td>\n",
       "    </tr>\n",
       "    <tr>\n",
       "      <th>2015-11-01</th>\n",
       "      <td>0.064864</td>\n",
       "      <td>0.038852</td>\n",
       "    </tr>\n",
       "    <tr>\n",
       "      <th>2015-12-01</th>\n",
       "      <td>-0.004546</td>\n",
       "      <td>0.020517</td>\n",
       "    </tr>\n",
       "  </tbody>\n",
       "</table>\n",
       "</div>"
      ],
      "text/plain": [
       "                GRMN      MSFT\n",
       "Date                          \n",
       "2015-08-01 -0.108241 -0.063995\n",
       "2015-09-01 -0.032944  0.016969\n",
       "2015-10-01 -0.011475  0.173307\n",
       "2015-11-01  0.064864  0.038852\n",
       "2015-12-01 -0.004546  0.020517"
      ]
     },
     "execution_count": 15,
     "metadata": {},
     "output_type": "execute_result"
    }
   ],
   "source": [
    "stock_log_returns_df = np.log(stock_prices_monthly_df / stock_prices_monthly_df.shift(1))\n",
    "stock_log_returns_df = stock_log_returns_df.dropna().sort_index(axis=0, ascending=True).sort_index(axis=1, ascending=True)\n",
    "stock_log_returns_df.head()"
   ]
  },
  {
   "cell_type": "markdown",
   "id": "4936e919",
   "metadata": {},
   "source": [
    "### Step 9: Calculate Excess Return (Expected Return - Risk-free Rate)"
   ]
  },
  {
   "cell_type": "markdown",
   "id": "8b0c3a9a",
   "metadata": {},
   "source": [
    "#### Benchmark"
   ]
  },
  {
   "cell_type": "code",
   "execution_count": 16,
   "id": "37b6707b",
   "metadata": {
    "execution": {
     "iopub.execute_input": "2025-06-02T13:28:31.332071Z",
     "iopub.status.busy": "2025-06-02T13:28:31.331679Z",
     "iopub.status.idle": "2025-06-02T13:28:31.346683Z",
     "shell.execute_reply": "2025-06-02T13:28:31.345862Z"
    }
   },
   "outputs": [
    {
     "data": {
      "application/vnd.microsoft.datawrangler.viewer.v0+json": {
       "columns": [
        {
         "name": "Date",
         "rawType": "datetime64[ns]",
         "type": "datetime"
        },
        {
         "name": "DSI",
         "rawType": "float64",
         "type": "float"
        },
        {
         "name": "FAD",
         "rawType": "float64",
         "type": "float"
        },
        {
         "name": "FDIS",
         "rawType": "float64",
         "type": "float"
        },
        {
         "name": "FIDU",
         "rawType": "float64",
         "type": "float"
        },
        {
         "name": "FTEC",
         "rawType": "float64",
         "type": "float"
        },
        {
         "name": "GRID",
         "rawType": "float64",
         "type": "float"
        },
        {
         "name": "IGM",
         "rawType": "float64",
         "type": "float"
        },
        {
         "name": "ILCG",
         "rawType": "float64",
         "type": "float"
        },
        {
         "name": "IMCG",
         "rawType": "float64",
         "type": "float"
        },
        {
         "name": "INCO",
         "rawType": "float64",
         "type": "float"
        },
        {
         "name": "IUSG",
         "rawType": "float64",
         "type": "float"
        },
        {
         "name": "IVV",
         "rawType": "float64",
         "type": "float"
        },
        {
         "name": "IVW",
         "rawType": "float64",
         "type": "float"
        },
        {
         "name": "IWB",
         "rawType": "float64",
         "type": "float"
        },
        {
         "name": "IWF",
         "rawType": "float64",
         "type": "float"
        },
        {
         "name": "IWL",
         "rawType": "float64",
         "type": "float"
        },
        {
         "name": "IWP",
         "rawType": "float64",
         "type": "float"
        },
        {
         "name": "IWY",
         "rawType": "float64",
         "type": "float"
        },
        {
         "name": "IXN",
         "rawType": "float64",
         "type": "float"
        },
        {
         "name": "IYW",
         "rawType": "float64",
         "type": "float"
        },
        {
         "name": "MGC",
         "rawType": "float64",
         "type": "float"
        },
        {
         "name": "MMTM",
         "rawType": "float64",
         "type": "float"
        },
        {
         "name": "MTUM",
         "rawType": "float64",
         "type": "float"
        },
        {
         "name": "OEF",
         "rawType": "float64",
         "type": "float"
        },
        {
         "name": "ONEQ",
         "rawType": "float64",
         "type": "float"
        },
        {
         "name": "PHO",
         "rawType": "float64",
         "type": "float"
        },
        {
         "name": "PPA",
         "rawType": "float64",
         "type": "float"
        },
        {
         "name": "PRN",
         "rawType": "float64",
         "type": "float"
        },
        {
         "name": "PSI",
         "rawType": "float64",
         "type": "float"
        },
        {
         "name": "PTF",
         "rawType": "float64",
         "type": "float"
        },
        {
         "name": "PWB",
         "rawType": "float64",
         "type": "float"
        },
        {
         "name": "QLD",
         "rawType": "float64",
         "type": "float"
        },
        {
         "name": "QQQ",
         "rawType": "float64",
         "type": "float"
        },
        {
         "name": "QUAL",
         "rawType": "float64",
         "type": "float"
        },
        {
         "name": "SCHG",
         "rawType": "float64",
         "type": "float"
        },
        {
         "name": "SCHX",
         "rawType": "float64",
         "type": "float"
        },
        {
         "name": "SMH",
         "rawType": "float64",
         "type": "float"
        },
        {
         "name": "SMIN",
         "rawType": "float64",
         "type": "float"
        },
        {
         "name": "SOXX",
         "rawType": "float64",
         "type": "float"
        },
        {
         "name": "SPHB",
         "rawType": "float64",
         "type": "float"
        },
        {
         "name": "SPHQ",
         "rawType": "float64",
         "type": "float"
        },
        {
         "name": "SPLG",
         "rawType": "float64",
         "type": "float"
        },
        {
         "name": "SPTM",
         "rawType": "float64",
         "type": "float"
        },
        {
         "name": "SPY",
         "rawType": "float64",
         "type": "float"
        },
        {
         "name": "SPYG",
         "rawType": "float64",
         "type": "float"
        },
        {
         "name": "SUSA",
         "rawType": "float64",
         "type": "float"
        },
        {
         "name": "VCR",
         "rawType": "float64",
         "type": "float"
        },
        {
         "name": "VGT",
         "rawType": "float64",
         "type": "float"
        },
        {
         "name": "VONE",
         "rawType": "float64",
         "type": "float"
        },
        {
         "name": "VONG",
         "rawType": "float64",
         "type": "float"
        },
        {
         "name": "VOO",
         "rawType": "float64",
         "type": "float"
        },
        {
         "name": "VOOG",
         "rawType": "float64",
         "type": "float"
        },
        {
         "name": "VOT",
         "rawType": "float64",
         "type": "float"
        },
        {
         "name": "VUG",
         "rawType": "float64",
         "type": "float"
        },
        {
         "name": "VUSE",
         "rawType": "float64",
         "type": "float"
        },
        {
         "name": "VV",
         "rawType": "float64",
         "type": "float"
        },
        {
         "name": "XLG",
         "rawType": "float64",
         "type": "float"
        },
        {
         "name": "XLI",
         "rawType": "float64",
         "type": "float"
        },
        {
         "name": "XLK",
         "rawType": "float64",
         "type": "float"
        },
        {
         "name": "XLY",
         "rawType": "float64",
         "type": "float"
        },
        {
         "name": "XNTK",
         "rawType": "float64",
         "type": "float"
        }
       ],
       "ref": "5c33d70f-580c-434c-8b65-7548475d6b22",
       "rows": [
        [
         "2015-07-01 00:00:00",
         "0.018172983066096125",
         "0.01906571463018076",
         "0.035475199907811006",
         "-0.007696887569406382",
         "0.018244567184239814",
         "-0.04382872552705294",
         "0.03525110749946564",
         "0.03835901479845835",
         "0.015501449143174376",
         "0.050249455510067875",
         "0.02799934957214948",
         "0.018190268928082273",
         "0.03259110348284244",
         "0.015861876088441355",
         "0.029924396704835945",
         "0.020935762486525664",
         "0.012299506040368637",
         "0.03809565553112684",
         "0.011958311670346536",
         "0.017502867392280755",
         "0.018307381204757903",
         "0.020389742169753918",
         "0.03373678926752035",
         "0.024671037680758734",
         "0.025238044785655406",
         "-0.04948541853019462",
         "0.00020055538024210716",
         "-0.002849704532581678",
         "-0.06487917609115151",
         "2.2360938798234812e-05",
         "0.030297075311342535",
         "0.08136156673018119",
         "0.04100999204988719",
         "0.02470745521727765",
         "0.02656436418149062",
         "0.016418680967335328",
         "-0.04879677081686444",
         "0.06354499940638798",
         "-0.054342534351933904",
         "-0.04552319015938662",
         "0.02268617796266592",
         "0.015771305427066073",
         "0.011424315775006307",
         "0.018804838909414968",
         "0.030984362057560118",
         "0.008830784371718104",
         "0.035063557481460346",
         "0.018889820578202925",
         "0.01635734061812963",
         "0.030362008230775242",
         "0.018002615402576416",
         "0.03194997317388326",
         "0.010931631655621983",
         "0.02863534373732774",
         "-0.018857497978585852",
         "0.017336091009396634",
         "0.02865798666331887",
         "-0.00043448981387933343",
         "0.024608134708572683",
         "0.04419465654931727",
         "0.05036821744175263"
        ],
        [
         "2015-08-01 00:00:00",
         "-0.06632045623223766",
         "-0.062468247925002336",
         "-0.06829327415409014",
         "-0.05675645022287974",
         "-0.06278363057754113",
         "-0.04417159971284099",
         "-0.05947944403455021",
         "-0.07187041273982711",
         "-0.06854108206708331",
         "-0.1200351286481226",
         "-0.06817053595922618",
         "-0.06695820708777994",
         "-0.06700747517686323",
         "-0.06559938889434838",
         "-0.06653097573853595",
         "-0.06934984154354223",
         "-0.06397246786237214",
         "-0.06792764234124823",
         "-0.06695080265178224",
         "-0.06414962181643485",
         "-0.06874514695140489",
         "-0.0684786329060202",
         "-0.06534551038067178",
         "-0.07239207741168639",
         "-0.07411596970081928",
         "-0.08452054242880827",
         "-0.04399843426421371",
         "-0.06309538474037725",
         "-0.04921822765889885",
         "-0.09156703928132992",
         "-0.06567366700896705",
         "-0.15361476054094322",
         "-0.07419192712173091",
         "-0.059099982530866235",
         "-0.0662970116118491",
         "-0.06609085599173826",
         "-0.054547499603208545",
         "-0.10020004960458131",
         "-0.056261296080943345",
         "-0.05554618475087847",
         "-0.056128395452702436",
         "-0.06408990071396554",
         "-0.06423393292447316",
         "-0.06642787951358384",
         "-0.06624432518971313",
         "-0.06802792824902662",
         "-0.06941111179119175",
         "-0.06329452275790527",
         "-0.06645451033187043",
         "-0.06483522161124101",
         "-0.06685779749588697",
         "-0.066541392108073",
         "-0.06370742915647838",
         "-0.06859773560770208",
         "-0.048288945512571534",
         "-0.0657695503436779",
         "-0.07319675813895925",
         "-0.05903817591337468",
         "-0.06032602957814446",
         "-0.0711377460637216",
         "-0.05137590298578983"
        ],
        [
         "2015-09-01 00:00:00",
         "-0.02824892178431891",
         "-0.042128175922809874",
         "-0.02020749995993602",
         "-0.038065325252176097",
         "-0.018270816548912876",
         "-0.042732222519153776",
         "-0.017232379730880352",
         "-0.03260772510805826",
         "-0.05046651195304042",
         "-0.029926533472318363",
         "-0.032478962363017345",
         "-0.028827444995266474",
         "-0.02671090746881049",
         "-0.03197718495996703",
         "-0.029859101069622054",
         "-0.029136961026215116",
         "-0.04345942620605968",
         "-0.024837462175614677",
         "-0.017140402017997734",
         "-0.017654971762985805",
         "-0.02864881587419767",
         "-0.036463966265362364",
         "-0.022594928397792795",
         "-0.026151016318578437",
         "-0.0398709726461738",
         "-0.06952630004183132",
         "-0.037326413150638026",
         "-0.05196891411373657",
         "-0.02452314683977347",
         "-0.015193743834377379",
         "-0.020130221674899147",
         "-0.05568964565946174",
         "-0.02580043083766806",
         "-0.01651964109967358",
         "-0.039031688456909755",
         "-0.03092397418811439",
         "0.0032211465653579595",
         "0.020371864880861033",
         "-0.017257041307365314",
         "-0.07030651273215265",
         "-0.015659150464110698",
         "-0.04023111091974834",
         "-0.03952110413316214",
         "-0.029346181209325046",
         "-0.0277369588921008",
         "-0.02482076881221255",
         "-0.019505671988350015",
         "-0.016952416409960078",
         "-0.03130275259655671",
         "-0.03126035362729008",
         "-0.028491438522414377",
         "-0.026897972315987447",
         "-0.04469107826833976",
         "-0.032546686644840145",
         "-0.05274164648249216",
         "-0.03120569180057896",
         "-0.024108917143487115",
         "-0.02590784041699827",
         "-0.01732220605735264",
         "-0.009346346389458575",
         "-0.02259952440990536"
        ],
        [
         "2015-10-01 00:00:00",
         "0.08045976461641242",
         "0.056633891776191755",
         "0.07239708000370931",
         "0.08131606372697509",
         "0.09835119157521534",
         "0.03871303810742838",
         "0.10346530351936438",
         "0.09130910267083875",
         "0.04863217071733632",
         "0.01136161569063228",
         "0.07769210592947806",
         "0.07787344792866871",
         "0.08653385490842555",
         "0.0743875313382189",
         "0.07988482060175431",
         "0.08179108325324501",
         "0.05749661600851986",
         "0.08909648988039648",
         "0.09988556378874729",
         "0.09573674894399357",
         "0.08103238802806298",
         "0.08196731244110092",
         "0.06699158525784683",
         "0.08721299679028445",
         "0.09079174741399626",
         "0.10127527728721772",
         "0.08092412972364318",
         "0.08149978062941515",
         "0.06811687965852839",
         "0.06452846324501578",
         "0.05695291896280125",
         "0.2098574927098124",
         "0.10414882773471783",
         "0.07931020078936205",
         "0.07585549984852938",
         "0.07509219068231522",
         "0.07944415275667252",
         "0.01771473650091119",
         "0.09108250406025499",
         "0.09522690043746987",
         "0.05672487944742519",
         "0.08655346084688703",
         "0.07959902252233798",
         "0.07809403478097901",
         "0.08780189555485217",
         "0.07557754240382793",
         "0.07129081150375066",
         "0.09598261466804915",
         "0.0742976796733444",
         "0.07959839210925666",
         "0.07760840352665674",
         "0.08654296439974062",
         "0.050994938451659796",
         "0.08242637824935148",
         "0.05818065805326695",
         "0.0760858088545444",
         "0.09068168792912641",
         "0.08074256375614995",
         "0.096490949831454",
         "0.08303717431680722",
         "0.09778041676399456"
        ],
        [
         "2015-11-01 00:00:00",
         "-0.0017561316142548366",
         "0.004927787159924346",
         "-0.009432923352451383",
         "0.010216627852296387",
         "0.00689176085825558",
         "-0.0005033425053518207",
         "0.009356723914034207",
         "0.0003635337396923743",
         "-0.00032883267665884423",
         "-0.003125718701023925",
         "0.0024161462899082",
         "0.0003760650179646407",
         "-0.0016463595827400698",
         "0.0005970588200701196",
         "-0.0005015661020026495",
         "0.0025957193165124124",
         "-0.001033210286193742",
         "0.00011210241316766912",
         "0.005542419637942966",
         "0.006189473132277549",
         "0.0004465425362058552",
         "0.007349539454006591",
         "0.0018279224705180968",
         "-0.00013154484887134207",
         "0.009095194932996781",
         "-0.03330849506676374",
         "0.01711932758034576",
         "0.019689515413183145",
         "0.047027279162831254",
         "0.007380233482262527",
         "-0.002519469497981204",
         "0.006485093595100425",
         "0.0025339033218022937",
         "0.0008915781534892106",
         "-0.00035039415922736086",
         "0.0007454691234522852",
         "0.025344660996414026",
         "-0.00738533116697905",
         "0.019514965948255955",
         "0.0008055733503644288",
         "0.005925455811516933",
         "-0.0030438838011598362",
         "0.0005687059671675588",
         "0.00014659448809184938",
         "-0.0022100754186909783",
         "-0.0005731663793879628",
         "-0.008223798485239135",
         "0.008245078017865733",
         "0.00038220887790878406",
         "-0.0005595244101422744",
         "0.0007436198008832721",
         "-0.002162102058784628",
         "-0.00383839775654788",
         "-0.002030454810732662",
         "0.015790789299291702",
         "-7.502122077959446e-05",
         "0.0011957011349373933",
         "0.004980121599666425",
         "0.0036324947689003054",
         "-0.0059992280663513885",
         "0.007011976567196184"
        ]
       ],
       "shape": {
        "columns": 61,
        "rows": 5
       }
      },
      "text/html": [
       "<div>\n",
       "<style scoped>\n",
       "    .dataframe tbody tr th:only-of-type {\n",
       "        vertical-align: middle;\n",
       "    }\n",
       "\n",
       "    .dataframe tbody tr th {\n",
       "        vertical-align: top;\n",
       "    }\n",
       "\n",
       "    .dataframe thead th {\n",
       "        text-align: right;\n",
       "    }\n",
       "</style>\n",
       "<table border=\"1\" class=\"dataframe\">\n",
       "  <thead>\n",
       "    <tr style=\"text-align: right;\">\n",
       "      <th></th>\n",
       "      <th>DSI</th>\n",
       "      <th>FAD</th>\n",
       "      <th>FDIS</th>\n",
       "      <th>FIDU</th>\n",
       "      <th>FTEC</th>\n",
       "      <th>GRID</th>\n",
       "      <th>IGM</th>\n",
       "      <th>ILCG</th>\n",
       "      <th>IMCG</th>\n",
       "      <th>INCO</th>\n",
       "      <th>...</th>\n",
       "      <th>VOOG</th>\n",
       "      <th>VOT</th>\n",
       "      <th>VUG</th>\n",
       "      <th>VUSE</th>\n",
       "      <th>VV</th>\n",
       "      <th>XLG</th>\n",
       "      <th>XLI</th>\n",
       "      <th>XLK</th>\n",
       "      <th>XLY</th>\n",
       "      <th>XNTK</th>\n",
       "    </tr>\n",
       "    <tr>\n",
       "      <th>Date</th>\n",
       "      <th></th>\n",
       "      <th></th>\n",
       "      <th></th>\n",
       "      <th></th>\n",
       "      <th></th>\n",
       "      <th></th>\n",
       "      <th></th>\n",
       "      <th></th>\n",
       "      <th></th>\n",
       "      <th></th>\n",
       "      <th></th>\n",
       "      <th></th>\n",
       "      <th></th>\n",
       "      <th></th>\n",
       "      <th></th>\n",
       "      <th></th>\n",
       "      <th></th>\n",
       "      <th></th>\n",
       "      <th></th>\n",
       "      <th></th>\n",
       "      <th></th>\n",
       "    </tr>\n",
       "  </thead>\n",
       "  <tbody>\n",
       "    <tr>\n",
       "      <th>2015-07-01</th>\n",
       "      <td>0.018173</td>\n",
       "      <td>0.019066</td>\n",
       "      <td>0.035475</td>\n",
       "      <td>-0.007697</td>\n",
       "      <td>0.018245</td>\n",
       "      <td>-0.043829</td>\n",
       "      <td>0.035251</td>\n",
       "      <td>0.038359</td>\n",
       "      <td>0.015501</td>\n",
       "      <td>0.050249</td>\n",
       "      <td>...</td>\n",
       "      <td>0.031950</td>\n",
       "      <td>0.010932</td>\n",
       "      <td>0.028635</td>\n",
       "      <td>-0.018857</td>\n",
       "      <td>0.017336</td>\n",
       "      <td>0.028658</td>\n",
       "      <td>-0.000434</td>\n",
       "      <td>0.024608</td>\n",
       "      <td>0.044195</td>\n",
       "      <td>0.050368</td>\n",
       "    </tr>\n",
       "    <tr>\n",
       "      <th>2015-08-01</th>\n",
       "      <td>-0.066320</td>\n",
       "      <td>-0.062468</td>\n",
       "      <td>-0.068293</td>\n",
       "      <td>-0.056756</td>\n",
       "      <td>-0.062784</td>\n",
       "      <td>-0.044172</td>\n",
       "      <td>-0.059479</td>\n",
       "      <td>-0.071870</td>\n",
       "      <td>-0.068541</td>\n",
       "      <td>-0.120035</td>\n",
       "      <td>...</td>\n",
       "      <td>-0.066541</td>\n",
       "      <td>-0.063707</td>\n",
       "      <td>-0.068598</td>\n",
       "      <td>-0.048289</td>\n",
       "      <td>-0.065770</td>\n",
       "      <td>-0.073197</td>\n",
       "      <td>-0.059038</td>\n",
       "      <td>-0.060326</td>\n",
       "      <td>-0.071138</td>\n",
       "      <td>-0.051376</td>\n",
       "    </tr>\n",
       "    <tr>\n",
       "      <th>2015-09-01</th>\n",
       "      <td>-0.028249</td>\n",
       "      <td>-0.042128</td>\n",
       "      <td>-0.020207</td>\n",
       "      <td>-0.038065</td>\n",
       "      <td>-0.018271</td>\n",
       "      <td>-0.042732</td>\n",
       "      <td>-0.017232</td>\n",
       "      <td>-0.032608</td>\n",
       "      <td>-0.050467</td>\n",
       "      <td>-0.029927</td>\n",
       "      <td>...</td>\n",
       "      <td>-0.026898</td>\n",
       "      <td>-0.044691</td>\n",
       "      <td>-0.032547</td>\n",
       "      <td>-0.052742</td>\n",
       "      <td>-0.031206</td>\n",
       "      <td>-0.024109</td>\n",
       "      <td>-0.025908</td>\n",
       "      <td>-0.017322</td>\n",
       "      <td>-0.009346</td>\n",
       "      <td>-0.022600</td>\n",
       "    </tr>\n",
       "    <tr>\n",
       "      <th>2015-10-01</th>\n",
       "      <td>0.080460</td>\n",
       "      <td>0.056634</td>\n",
       "      <td>0.072397</td>\n",
       "      <td>0.081316</td>\n",
       "      <td>0.098351</td>\n",
       "      <td>0.038713</td>\n",
       "      <td>0.103465</td>\n",
       "      <td>0.091309</td>\n",
       "      <td>0.048632</td>\n",
       "      <td>0.011362</td>\n",
       "      <td>...</td>\n",
       "      <td>0.086543</td>\n",
       "      <td>0.050995</td>\n",
       "      <td>0.082426</td>\n",
       "      <td>0.058181</td>\n",
       "      <td>0.076086</td>\n",
       "      <td>0.090682</td>\n",
       "      <td>0.080743</td>\n",
       "      <td>0.096491</td>\n",
       "      <td>0.083037</td>\n",
       "      <td>0.097780</td>\n",
       "    </tr>\n",
       "    <tr>\n",
       "      <th>2015-11-01</th>\n",
       "      <td>-0.001756</td>\n",
       "      <td>0.004928</td>\n",
       "      <td>-0.009433</td>\n",
       "      <td>0.010217</td>\n",
       "      <td>0.006892</td>\n",
       "      <td>-0.000503</td>\n",
       "      <td>0.009357</td>\n",
       "      <td>0.000364</td>\n",
       "      <td>-0.000329</td>\n",
       "      <td>-0.003126</td>\n",
       "      <td>...</td>\n",
       "      <td>-0.002162</td>\n",
       "      <td>-0.003838</td>\n",
       "      <td>-0.002030</td>\n",
       "      <td>0.015791</td>\n",
       "      <td>-0.000075</td>\n",
       "      <td>0.001196</td>\n",
       "      <td>0.004980</td>\n",
       "      <td>0.003632</td>\n",
       "      <td>-0.005999</td>\n",
       "      <td>0.007012</td>\n",
       "    </tr>\n",
       "  </tbody>\n",
       "</table>\n",
       "<p>5 rows × 61 columns</p>\n",
       "</div>"
      ],
      "text/plain": [
       "                 DSI       FAD      FDIS      FIDU      FTEC      GRID  \\\n",
       "Date                                                                     \n",
       "2015-07-01  0.018173  0.019066  0.035475 -0.007697  0.018245 -0.043829   \n",
       "2015-08-01 -0.066320 -0.062468 -0.068293 -0.056756 -0.062784 -0.044172   \n",
       "2015-09-01 -0.028249 -0.042128 -0.020207 -0.038065 -0.018271 -0.042732   \n",
       "2015-10-01  0.080460  0.056634  0.072397  0.081316  0.098351  0.038713   \n",
       "2015-11-01 -0.001756  0.004928 -0.009433  0.010217  0.006892 -0.000503   \n",
       "\n",
       "                 IGM      ILCG      IMCG      INCO  ...      VOOG       VOT  \\\n",
       "Date                                                ...                       \n",
       "2015-07-01  0.035251  0.038359  0.015501  0.050249  ...  0.031950  0.010932   \n",
       "2015-08-01 -0.059479 -0.071870 -0.068541 -0.120035  ... -0.066541 -0.063707   \n",
       "2015-09-01 -0.017232 -0.032608 -0.050467 -0.029927  ... -0.026898 -0.044691   \n",
       "2015-10-01  0.103465  0.091309  0.048632  0.011362  ...  0.086543  0.050995   \n",
       "2015-11-01  0.009357  0.000364 -0.000329 -0.003126  ... -0.002162 -0.003838   \n",
       "\n",
       "                 VUG      VUSE        VV       XLG       XLI       XLK  \\\n",
       "Date                                                                     \n",
       "2015-07-01  0.028635 -0.018857  0.017336  0.028658 -0.000434  0.024608   \n",
       "2015-08-01 -0.068598 -0.048289 -0.065770 -0.073197 -0.059038 -0.060326   \n",
       "2015-09-01 -0.032547 -0.052742 -0.031206 -0.024109 -0.025908 -0.017322   \n",
       "2015-10-01  0.082426  0.058181  0.076086  0.090682  0.080743  0.096491   \n",
       "2015-11-01 -0.002030  0.015791 -0.000075  0.001196  0.004980  0.003632   \n",
       "\n",
       "                 XLY      XNTK  \n",
       "Date                            \n",
       "2015-07-01  0.044195  0.050368  \n",
       "2015-08-01 -0.071138 -0.051376  \n",
       "2015-09-01 -0.009346 -0.022600  \n",
       "2015-10-01  0.083037  0.097780  \n",
       "2015-11-01 -0.005999  0.007012  \n",
       "\n",
       "[5 rows x 61 columns]"
      ]
     },
     "execution_count": 16,
     "metadata": {},
     "output_type": "execute_result"
    }
   ],
   "source": [
    "benchmark_excess_returns_df = benchmark_log_returns_df - risk_free_rate_monthly\n",
    "benchmark_excess_returns_df.head()"
   ]
  },
  {
   "cell_type": "markdown",
   "id": "b7d95382",
   "metadata": {},
   "source": [
    "#### Stocks"
   ]
  },
  {
   "cell_type": "code",
   "execution_count": 17,
   "id": "8ffb2f5a",
   "metadata": {
    "execution": {
     "iopub.execute_input": "2025-06-02T13:28:31.350103Z",
     "iopub.status.busy": "2025-06-02T13:28:31.349138Z",
     "iopub.status.idle": "2025-06-02T13:28:31.364165Z",
     "shell.execute_reply": "2025-06-02T13:28:31.363050Z"
    }
   },
   "outputs": [
    {
     "data": {
      "application/vnd.microsoft.datawrangler.viewer.v0+json": {
       "columns": [
        {
         "name": "Date",
         "rawType": "datetime64[ns]",
         "type": "datetime"
        },
        {
         "name": "GRMN",
         "rawType": "float64",
         "type": "float"
        },
        {
         "name": "MSFT",
         "rawType": "float64",
         "type": "float"
        }
       ],
       "ref": "a5ea5bc3-da5c-4f19-bd92-d42ce0d30b3d",
       "rows": [
        [
         "2015-08-01 00:00:00",
         "-0.11176597852318039",
         "-0.06752032465993009"
        ],
        [
         "2015-09-01 00:00:00",
         "-0.03646915571935391",
         "0.013444471294050318"
        ],
        [
         "2015-10-01 00:00:00",
         "-0.015000232343164987",
         "0.1697820205827621"
        ],
        [
         "2015-11-01 00:00:00",
         "0.061339231304934266",
         "0.03532727182339446"
        ],
        [
         "2015-12-01 00:00:00",
         "-0.008071257174617135",
         "0.016991728359509607"
        ]
       ],
       "shape": {
        "columns": 2,
        "rows": 5
       }
      },
      "text/html": [
       "<div>\n",
       "<style scoped>\n",
       "    .dataframe tbody tr th:only-of-type {\n",
       "        vertical-align: middle;\n",
       "    }\n",
       "\n",
       "    .dataframe tbody tr th {\n",
       "        vertical-align: top;\n",
       "    }\n",
       "\n",
       "    .dataframe thead th {\n",
       "        text-align: right;\n",
       "    }\n",
       "</style>\n",
       "<table border=\"1\" class=\"dataframe\">\n",
       "  <thead>\n",
       "    <tr style=\"text-align: right;\">\n",
       "      <th></th>\n",
       "      <th>GRMN</th>\n",
       "      <th>MSFT</th>\n",
       "    </tr>\n",
       "    <tr>\n",
       "      <th>Date</th>\n",
       "      <th></th>\n",
       "      <th></th>\n",
       "    </tr>\n",
       "  </thead>\n",
       "  <tbody>\n",
       "    <tr>\n",
       "      <th>2015-08-01</th>\n",
       "      <td>-0.111766</td>\n",
       "      <td>-0.067520</td>\n",
       "    </tr>\n",
       "    <tr>\n",
       "      <th>2015-09-01</th>\n",
       "      <td>-0.036469</td>\n",
       "      <td>0.013444</td>\n",
       "    </tr>\n",
       "    <tr>\n",
       "      <th>2015-10-01</th>\n",
       "      <td>-0.015000</td>\n",
       "      <td>0.169782</td>\n",
       "    </tr>\n",
       "    <tr>\n",
       "      <th>2015-11-01</th>\n",
       "      <td>0.061339</td>\n",
       "      <td>0.035327</td>\n",
       "    </tr>\n",
       "    <tr>\n",
       "      <th>2015-12-01</th>\n",
       "      <td>-0.008071</td>\n",
       "      <td>0.016992</td>\n",
       "    </tr>\n",
       "  </tbody>\n",
       "</table>\n",
       "</div>"
      ],
      "text/plain": [
       "                GRMN      MSFT\n",
       "Date                          \n",
       "2015-08-01 -0.111766 -0.067520\n",
       "2015-09-01 -0.036469  0.013444\n",
       "2015-10-01 -0.015000  0.169782\n",
       "2015-11-01  0.061339  0.035327\n",
       "2015-12-01 -0.008071  0.016992"
      ]
     },
     "execution_count": 17,
     "metadata": {},
     "output_type": "execute_result"
    }
   ],
   "source": [
    "stock_excess_returns_df = stock_log_returns_df - risk_free_rate_monthly\n",
    "stock_excess_returns_df.head()"
   ]
  },
  {
   "cell_type": "markdown",
   "id": "b2439f61",
   "metadata": {},
   "source": [
    "### Step 10: Find the Best Benchmark (By Regression Coefficients)"
   ]
  },
  {
   "cell_type": "code",
   "execution_count": 18,
   "id": "f10cacac",
   "metadata": {
    "execution": {
     "iopub.execute_input": "2025-06-02T13:28:31.369701Z",
     "iopub.status.busy": "2025-06-02T13:28:31.368584Z",
     "iopub.status.idle": "2025-06-02T13:28:33.805998Z",
     "shell.execute_reply": "2025-06-02T13:28:33.797796Z"
    }
   },
   "outputs": [
    {
     "name": "stdout",
     "output_type": "stream",
     "text": [
      "Best benchmark: DSI\n"
     ]
    },
    {
     "data": {
      "application/vnd.microsoft.datawrangler.viewer.v0+json": {
       "columns": [
        {
         "name": "index",
         "rawType": "int64",
         "type": "integer"
        },
        {
         "name": "Equity",
         "rawType": "object",
         "type": "string"
        },
        {
         "name": "Benchmark",
         "rawType": "object",
         "type": "string"
        },
        {
         "name": "intercept (alpha)",
         "rawType": "float64",
         "type": "float"
        },
        {
         "name": "slope (beta)",
         "rawType": "float64",
         "type": "float"
        },
        {
         "name": "correlation",
         "rawType": "float64",
         "type": "float"
        },
        {
         "name": "r_squared",
         "rawType": "float64",
         "type": "float"
        },
        {
         "name": "p_value_slope",
         "rawType": "float64",
         "type": "float"
        },
        {
         "name": "p_value_intercept",
         "rawType": "float64",
         "type": "float"
        }
       ],
       "ref": "832297a4-60f0-4fba-b9dc-ea030cf6bf52",
       "rows": [
        [
         "0",
         "GRMN",
         "DSI",
         "0.0062128798220977095",
         "0.9418166585439052",
         "0.6165811425703274",
         "0.38017230537333035",
         "1.058502437585397e-13",
         "0.23739089639514274"
        ],
        [
         "1",
         "MSFT",
         "DSI",
         "0.01085747625833823",
         "0.9589775866475891",
         "0.7546422005137196",
         "0.5694848507961895",
         "5.74941286319427e-23",
         "0.003371003529878575"
        ]
       ],
       "shape": {
        "columns": 8,
        "rows": 2
       }
      },
      "text/html": [
       "<div>\n",
       "<style scoped>\n",
       "    .dataframe tbody tr th:only-of-type {\n",
       "        vertical-align: middle;\n",
       "    }\n",
       "\n",
       "    .dataframe tbody tr th {\n",
       "        vertical-align: top;\n",
       "    }\n",
       "\n",
       "    .dataframe thead th {\n",
       "        text-align: right;\n",
       "    }\n",
       "</style>\n",
       "<table border=\"1\" class=\"dataframe\">\n",
       "  <thead>\n",
       "    <tr style=\"text-align: right;\">\n",
       "      <th></th>\n",
       "      <th>Equity</th>\n",
       "      <th>Benchmark</th>\n",
       "      <th>intercept (alpha)</th>\n",
       "      <th>slope (beta)</th>\n",
       "      <th>correlation</th>\n",
       "      <th>r_squared</th>\n",
       "      <th>p_value_slope</th>\n",
       "      <th>p_value_intercept</th>\n",
       "    </tr>\n",
       "  </thead>\n",
       "  <tbody>\n",
       "    <tr>\n",
       "      <th>0</th>\n",
       "      <td>GRMN</td>\n",
       "      <td>DSI</td>\n",
       "      <td>0.006213</td>\n",
       "      <td>0.941817</td>\n",
       "      <td>0.616581</td>\n",
       "      <td>0.380172</td>\n",
       "      <td>1.058502e-13</td>\n",
       "      <td>0.237391</td>\n",
       "    </tr>\n",
       "    <tr>\n",
       "      <th>1</th>\n",
       "      <td>MSFT</td>\n",
       "      <td>DSI</td>\n",
       "      <td>0.010857</td>\n",
       "      <td>0.958978</td>\n",
       "      <td>0.754642</td>\n",
       "      <td>0.569485</td>\n",
       "      <td>5.749413e-23</td>\n",
       "      <td>0.003371</td>\n",
       "    </tr>\n",
       "  </tbody>\n",
       "</table>\n",
       "</div>"
      ],
      "text/plain": [
       "  Equity Benchmark  intercept (alpha)  slope (beta)  correlation  r_squared  \\\n",
       "0   GRMN       DSI           0.006213      0.941817     0.616581   0.380172   \n",
       "1   MSFT       DSI           0.010857      0.958978     0.754642   0.569485   \n",
       "\n",
       "   p_value_slope  p_value_intercept  \n",
       "0   1.058502e-13           0.237391  \n",
       "1   5.749413e-23           0.003371  "
      ]
     },
     "metadata": {},
     "output_type": "display_data"
    }
   ],
   "source": [
    "# Call the function with your data\n",
    "best_benchmark, benchmark_stats_df, best_benchmarks_df = find_best_benchmark_and_run_regressions(\n",
    "    benchmark_excess_returns_df, \n",
    "    stock_excess_returns_df\n",
    ")\n",
    "\n",
    "# Display the results\n",
    "print(f\"Best benchmark: {best_benchmark}\")\n",
    "display(best_benchmarks_df)"
   ]
  },
  {
   "cell_type": "code",
   "execution_count": 19,
   "id": "a538dcf3",
   "metadata": {
    "execution": {
     "iopub.execute_input": "2025-06-02T13:28:33.811381Z",
     "iopub.status.busy": "2025-06-02T13:28:33.810059Z",
     "iopub.status.idle": "2025-06-02T13:28:33.826248Z",
     "shell.execute_reply": "2025-06-02T13:28:33.825115Z"
    }
   },
   "outputs": [
    {
     "data": {
      "application/vnd.microsoft.datawrangler.viewer.v0+json": {
       "columns": [
        {
         "name": "index",
         "rawType": "int64",
         "type": "integer"
        },
        {
         "name": "benchmark",
         "rawType": "object",
         "type": "string"
        },
        {
         "name": "avg_slope",
         "rawType": "float64",
         "type": "float"
        },
        {
         "name": "slope_std",
         "rawType": "float64",
         "type": "float"
        },
        {
         "name": "avg_p_value_intercept",
         "rawType": "float64",
         "type": "float"
        },
        {
         "name": "avg_p_value_slope",
         "rawType": "float64",
         "type": "float"
        },
        {
         "name": "avg_r_squared",
         "rawType": "float64",
         "type": "float"
        },
        {
         "name": "beta_quality",
         "rawType": "float64",
         "type": "float"
        },
        {
         "name": "score",
         "rawType": "float64",
         "type": "float"
        }
       ],
       "ref": "87cef352-a078-451b-bc3c-ea2766b6b91b",
       "rows": [
        [
         "0",
         "DSI",
         "0.9503971225957472",
         "0.008580464051841985",
         "0.12038094996251066",
         "5.2925121908016915e-14",
         "0.4748285780847599",
         "0.9503971225957472",
         "0.859267456934535"
        ],
        [
         "20",
         "MGC",
         "0.98440579355927",
         "0.007886048480616525",
         "0.15911074198185923",
         "5.319985460296752e-14",
         "0.47360412607542796",
         "0.98440579355927",
         "0.8582149664677291"
        ],
        [
         "15",
         "IWL",
         "0.9860481237166263",
         "0.010178221808566257",
         "0.16246059193542417",
         "5.4465733869963725e-14",
         "0.47592713517930213",
         "0.9860481237166263",
         "0.8578877995100025"
        ],
        [
         "23",
         "OEF",
         "0.9875223177434296",
         "0.029676562329512768",
         "0.1660455837470665",
         "1.4454371157917024e-13",
         "0.4857759511952722",
         "0.9875223177434296",
         "0.8556862876778246"
        ],
        [
         "43",
         "SPY",
         "0.9731956246651339",
         "0.01736980954780748",
         "0.13766870224979985",
         "1.9522602320710786e-14",
         "0.45803403772817053",
         "0.9731956246651339",
         "0.8552975419408342"
        ],
        [
         "55",
         "VV",
         "0.9635106274498311",
         "0.014510212249903398",
         "0.13484799088551563",
         "1.9401309148765067e-14",
         "0.4610580431703975",
         "0.9635106274498311",
         "0.8550836004738214"
        ],
        [
         "11",
         "IVV",
         "0.9721971457627843",
         "0.016153330277277667",
         "0.1392576230684352",
         "2.1512041675693453e-14",
         "0.458148688593428",
         "0.9721971457627843",
         "0.8550383326403952"
        ],
        [
         "50",
         "VOO",
         "0.9725748815344868",
         "0.016133515356341277",
         "0.13996579605397413",
         "2.1999270903637936e-14",
         "0.45790325481286653",
         "0.9725748815344868",
         "0.8549269965064545"
        ],
        [
         "33",
         "QUAL",
         "0.9565196062722603",
         "0.028776468066906313",
         "0.11865364699458997",
         "4.401081125227745e-15",
         "0.462885980395613",
         "0.9565196062722603",
         "0.8545560787800193"
        ],
        [
         "35",
         "SCHX",
         "0.9625330059811465",
         "0.023318015196301334",
         "0.13228890575966595",
         "1.1180781098707741e-14",
         "0.45806482794023023",
         "0.9625330059811465",
         "0.8531044506006042"
        ]
       ],
       "shape": {
        "columns": 8,
        "rows": 10
       }
      },
      "text/html": [
       "<div>\n",
       "<style scoped>\n",
       "    .dataframe tbody tr th:only-of-type {\n",
       "        vertical-align: middle;\n",
       "    }\n",
       "\n",
       "    .dataframe tbody tr th {\n",
       "        vertical-align: top;\n",
       "    }\n",
       "\n",
       "    .dataframe thead th {\n",
       "        text-align: right;\n",
       "    }\n",
       "</style>\n",
       "<table border=\"1\" class=\"dataframe\">\n",
       "  <thead>\n",
       "    <tr style=\"text-align: right;\">\n",
       "      <th></th>\n",
       "      <th>benchmark</th>\n",
       "      <th>avg_slope</th>\n",
       "      <th>slope_std</th>\n",
       "      <th>avg_p_value_intercept</th>\n",
       "      <th>avg_p_value_slope</th>\n",
       "      <th>avg_r_squared</th>\n",
       "      <th>beta_quality</th>\n",
       "      <th>score</th>\n",
       "    </tr>\n",
       "  </thead>\n",
       "  <tbody>\n",
       "    <tr>\n",
       "      <th>0</th>\n",
       "      <td>DSI</td>\n",
       "      <td>0.950397</td>\n",
       "      <td>0.008580</td>\n",
       "      <td>0.120381</td>\n",
       "      <td>5.292512e-14</td>\n",
       "      <td>0.474829</td>\n",
       "      <td>0.950397</td>\n",
       "      <td>0.859267</td>\n",
       "    </tr>\n",
       "    <tr>\n",
       "      <th>20</th>\n",
       "      <td>MGC</td>\n",
       "      <td>0.984406</td>\n",
       "      <td>0.007886</td>\n",
       "      <td>0.159111</td>\n",
       "      <td>5.319985e-14</td>\n",
       "      <td>0.473604</td>\n",
       "      <td>0.984406</td>\n",
       "      <td>0.858215</td>\n",
       "    </tr>\n",
       "    <tr>\n",
       "      <th>15</th>\n",
       "      <td>IWL</td>\n",
       "      <td>0.986048</td>\n",
       "      <td>0.010178</td>\n",
       "      <td>0.162461</td>\n",
       "      <td>5.446573e-14</td>\n",
       "      <td>0.475927</td>\n",
       "      <td>0.986048</td>\n",
       "      <td>0.857888</td>\n",
       "    </tr>\n",
       "    <tr>\n",
       "      <th>23</th>\n",
       "      <td>OEF</td>\n",
       "      <td>0.987522</td>\n",
       "      <td>0.029677</td>\n",
       "      <td>0.166046</td>\n",
       "      <td>1.445437e-13</td>\n",
       "      <td>0.485776</td>\n",
       "      <td>0.987522</td>\n",
       "      <td>0.855686</td>\n",
       "    </tr>\n",
       "    <tr>\n",
       "      <th>43</th>\n",
       "      <td>SPY</td>\n",
       "      <td>0.973196</td>\n",
       "      <td>0.017370</td>\n",
       "      <td>0.137669</td>\n",
       "      <td>1.952260e-14</td>\n",
       "      <td>0.458034</td>\n",
       "      <td>0.973196</td>\n",
       "      <td>0.855298</td>\n",
       "    </tr>\n",
       "    <tr>\n",
       "      <th>55</th>\n",
       "      <td>VV</td>\n",
       "      <td>0.963511</td>\n",
       "      <td>0.014510</td>\n",
       "      <td>0.134848</td>\n",
       "      <td>1.940131e-14</td>\n",
       "      <td>0.461058</td>\n",
       "      <td>0.963511</td>\n",
       "      <td>0.855084</td>\n",
       "    </tr>\n",
       "    <tr>\n",
       "      <th>11</th>\n",
       "      <td>IVV</td>\n",
       "      <td>0.972197</td>\n",
       "      <td>0.016153</td>\n",
       "      <td>0.139258</td>\n",
       "      <td>2.151204e-14</td>\n",
       "      <td>0.458149</td>\n",
       "      <td>0.972197</td>\n",
       "      <td>0.855038</td>\n",
       "    </tr>\n",
       "    <tr>\n",
       "      <th>50</th>\n",
       "      <td>VOO</td>\n",
       "      <td>0.972575</td>\n",
       "      <td>0.016134</td>\n",
       "      <td>0.139966</td>\n",
       "      <td>2.199927e-14</td>\n",
       "      <td>0.457903</td>\n",
       "      <td>0.972575</td>\n",
       "      <td>0.854927</td>\n",
       "    </tr>\n",
       "    <tr>\n",
       "      <th>33</th>\n",
       "      <td>QUAL</td>\n",
       "      <td>0.956520</td>\n",
       "      <td>0.028776</td>\n",
       "      <td>0.118654</td>\n",
       "      <td>4.401081e-15</td>\n",
       "      <td>0.462886</td>\n",
       "      <td>0.956520</td>\n",
       "      <td>0.854556</td>\n",
       "    </tr>\n",
       "    <tr>\n",
       "      <th>35</th>\n",
       "      <td>SCHX</td>\n",
       "      <td>0.962533</td>\n",
       "      <td>0.023318</td>\n",
       "      <td>0.132289</td>\n",
       "      <td>1.118078e-14</td>\n",
       "      <td>0.458065</td>\n",
       "      <td>0.962533</td>\n",
       "      <td>0.853104</td>\n",
       "    </tr>\n",
       "  </tbody>\n",
       "</table>\n",
       "</div>"
      ],
      "text/plain": [
       "   benchmark  avg_slope  slope_std  avg_p_value_intercept  avg_p_value_slope  \\\n",
       "0        DSI   0.950397   0.008580               0.120381       5.292512e-14   \n",
       "20       MGC   0.984406   0.007886               0.159111       5.319985e-14   \n",
       "15       IWL   0.986048   0.010178               0.162461       5.446573e-14   \n",
       "23       OEF   0.987522   0.029677               0.166046       1.445437e-13   \n",
       "43       SPY   0.973196   0.017370               0.137669       1.952260e-14   \n",
       "55        VV   0.963511   0.014510               0.134848       1.940131e-14   \n",
       "11       IVV   0.972197   0.016153               0.139258       2.151204e-14   \n",
       "50       VOO   0.972575   0.016134               0.139966       2.199927e-14   \n",
       "33      QUAL   0.956520   0.028776               0.118654       4.401081e-15   \n",
       "35      SCHX   0.962533   0.023318               0.132289       1.118078e-14   \n",
       "\n",
       "    avg_r_squared  beta_quality     score  \n",
       "0        0.474829      0.950397  0.859267  \n",
       "20       0.473604      0.984406  0.858215  \n",
       "15       0.475927      0.986048  0.857888  \n",
       "23       0.485776      0.987522  0.855686  \n",
       "43       0.458034      0.973196  0.855298  \n",
       "55       0.461058      0.963511  0.855084  \n",
       "11       0.458149      0.972197  0.855038  \n",
       "50       0.457903      0.972575  0.854927  \n",
       "33       0.462886      0.956520  0.854556  \n",
       "35       0.458065      0.962533  0.853104  "
      ]
     },
     "metadata": {},
     "output_type": "display_data"
    }
   ],
   "source": [
    "# Display the benchmark statistics\n",
    "display(benchmark_stats_df.sort_values(by=\"score\", ascending=False).head(10))"
   ]
  },
  {
   "cell_type": "markdown",
   "id": "9320378e",
   "metadata": {},
   "source": [
    "### Step 11: Plot Results"
   ]
  },
  {
   "cell_type": "code",
   "execution_count": 20,
   "id": "4c4eeadd",
   "metadata": {
    "execution": {
     "iopub.execute_input": "2025-06-02T13:28:33.845495Z",
     "iopub.status.busy": "2025-06-02T13:28:33.844774Z",
     "iopub.status.idle": "2025-06-02T13:28:34.034453Z",
     "shell.execute_reply": "2025-06-02T13:28:34.033001Z"
    }
   },
   "outputs": [
    {
     "name": "stdout",
     "output_type": "stream",
     "text": [
      "📈 BENCHMARK REGRESSION ANALYSIS: DSI\n",
      "======================================================================\n",
      "🔍 GRMN: β=0.9418, R²=0.3802, p=0.0000, Weight=50.0%\n",
      "🔍 MSFT: β=0.9590, R²=0.5695, p=0.0000, Weight=50.0%\n"
     ]
    },
    {
     "data": {
      "image/png": "[encoded data removed]",
      "text/plain": [
       "<Figure size 1200x500 with 2 Axes>"
      ]
     },
     "metadata": {},
     "output_type": "display_data"
    },
    {
     "name": "stdout",
     "output_type": "stream",
     "text": [
      "\n",
      "📊 BENCHMARK REGRESSION SUMMARY: DSI\n"
     ]
    },
    {
     "data": {
      "application/vnd.microsoft.datawrangler.viewer.v0+json": {
       "columns": [
        {
         "name": "index",
         "rawType": "int64",
         "type": "integer"
        },
        {
         "name": "Ticker",
         "rawType": "object",
         "type": "string"
        },
        {
         "name": "Beta",
         "rawType": "float64",
         "type": "float"
        },
        {
         "name": "Alpha",
         "rawType": "float64",
         "type": "float"
        },
        {
         "name": "R_Squared",
         "rawType": "float64",
         "type": "float"
        },
        {
         "name": "Correlation",
         "rawType": "float64",
         "type": "float"
        },
        {
         "name": "P_Value",
         "rawType": "float64",
         "type": "float"
        },
        {
         "name": "Portfolio_Weight",
         "rawType": "float64",
         "type": "float"
        },
        {
         "name": "N_Observations",
         "rawType": "int64",
         "type": "integer"
        },
        {
         "name": "Significance",
         "rawType": "object",
         "type": "string"
        }
       ],
       "ref": "7bbee8ea-74ea-4ab0-9aa2-00f303cbb920",
       "rows": [
        [
         "0",
         "GRMN",
         "0.9418",
         "0.0062",
         "0.3802",
         "0.6166",
         "0.0",
         "0.5",
         "118",
         "***"
        ],
        [
         "1",
         "MSFT",
         "0.959",
         "0.0109",
         "0.5695",
         "0.7546",
         "0.0",
         "0.5",
         "118",
         "***"
        ]
       ],
       "shape": {
        "columns": 9,
        "rows": 2
       }
      },
      "text/html": [
       "<div>\n",
       "<style scoped>\n",
       "    .dataframe tbody tr th:only-of-type {\n",
       "        vertical-align: middle;\n",
       "    }\n",
       "\n",
       "    .dataframe tbody tr th {\n",
       "        vertical-align: top;\n",
       "    }\n",
       "\n",
       "    .dataframe thead th {\n",
       "        text-align: right;\n",
       "    }\n",
       "</style>\n",
       "<table border=\"1\" class=\"dataframe\">\n",
       "  <thead>\n",
       "    <tr style=\"text-align: right;\">\n",
       "      <th></th>\n",
       "      <th>Ticker</th>\n",
       "      <th>Beta</th>\n",
       "      <th>Alpha</th>\n",
       "      <th>R_Squared</th>\n",
       "      <th>Correlation</th>\n",
       "      <th>P_Value</th>\n",
       "      <th>Portfolio_Weight</th>\n",
       "      <th>N_Observations</th>\n",
       "      <th>Significance</th>\n",
       "    </tr>\n",
       "  </thead>\n",
       "  <tbody>\n",
       "    <tr>\n",
       "      <th>0</th>\n",
       "      <td>GRMN</td>\n",
       "      <td>0.9418</td>\n",
       "      <td>0.0062</td>\n",
       "      <td>0.3802</td>\n",
       "      <td>0.6166</td>\n",
       "      <td>0.0</td>\n",
       "      <td>0.5</td>\n",
       "      <td>118</td>\n",
       "      <td>***</td>\n",
       "    </tr>\n",
       "    <tr>\n",
       "      <th>1</th>\n",
       "      <td>MSFT</td>\n",
       "      <td>0.9590</td>\n",
       "      <td>0.0109</td>\n",
       "      <td>0.5695</td>\n",
       "      <td>0.7546</td>\n",
       "      <td>0.0</td>\n",
       "      <td>0.5</td>\n",
       "      <td>118</td>\n",
       "      <td>***</td>\n",
       "    </tr>\n",
       "  </tbody>\n",
       "</table>\n",
       "</div>"
      ],
      "text/plain": [
       "  Ticker    Beta   Alpha  R_Squared  Correlation  P_Value  Portfolio_Weight  \\\n",
       "0   GRMN  0.9418  0.0062     0.3802       0.6166      0.0               0.5   \n",
       "1   MSFT  0.9590  0.0109     0.5695       0.7546      0.0               0.5   \n",
       "\n",
       "   N_Observations Significance  \n",
       "0             118          ***  \n",
       "1             118          ***  "
      ]
     },
     "metadata": {},
     "output_type": "display_data"
    },
    {
     "name": "stdout",
     "output_type": "stream",
     "text": [
      "\n",
      "📈 PORTFOLIO STATISTICS: Weighted β=0.9504, Weighted R²=0.4748\n",
      "  • Significant relationships (p<0.05): 2/2\n",
      "Portfolio sectors: {'Technology'}\n",
      "Benchmark sectors: {'Industrials', 'Communication Services', 'Consumer Cyclical', 'Energy', 'Financial Services', 'Consumer Defensive', 'Realestate', 'Basic Materials', 'Utilities', 'Healthcare', 'Technology'}\n"
     ]
    },
    {
     "data": {
      "image/png": "[encoded data removed]",
      "text/plain": [
       "<Figure size 1600x1200 with 4 Axes>"
      ]
     },
     "metadata": {},
     "output_type": "display_data"
    }
   ],
   "source": [
    "from py.regression_benchmark import analyze_benchmark_regression, plot_benchmark_analysis\n",
    "\n",
    "# Execute analysis\n",
    "benchmark_regression_results = analyze_benchmark_regression(benchmark_excess_returns_df, stock_excess_returns_df, best_benchmark, portfolio_df)\n",
    "\n",
    "# Get the benchmark sector data\n",
    "best_benchmark_sectors = filtered_sectors_df[filtered_sectors_df[\"Symbol\"] == best_benchmarks_df['Benchmark'].unique()[0]]\n",
    "best_benchmark_sectors = best_benchmark_sectors[[\"Symbol\", \"Name_x\", \"Sectors\"]] \n",
    "best_benchmark_sectors = best_benchmark_sectors.rename(columns={\"Name_x\": \"Name\"})\n",
    "\n",
    "# Create the analysis with sector weights\n",
    "benchmark_regression_summary = plot_benchmark_analysis(\n",
    "    regression_results=benchmark_regression_results, \n",
    "    best_benchmark=best_benchmark, \n",
    "    cols=2, \n",
    "    benchmark_sectors_df=best_benchmark_sectors,\n",
    "    portfolio_df=portfolio_df \n",
    ")"
   ]
  },
  {
   "cell_type": "markdown",
   "id": "76b26b74",
   "metadata": {},
   "source": [
    "### Step 12: Export Data to Excel"
   ]
  },
  {
   "cell_type": "code",
   "execution_count": 21,
   "id": "abf0469a",
   "metadata": {
    "execution": {
     "iopub.execute_input": "2025-06-02T13:28:34.039007Z",
     "iopub.status.busy": "2025-06-02T13:28:34.038022Z",
     "iopub.status.idle": "2025-06-02T13:28:34.050755Z",
     "shell.execute_reply": "2025-06-02T13:28:34.049152Z"
    }
   },
   "outputs": [
    {
     "name": "stdout",
     "output_type": "stream",
     "text": [
      "DSI\n"
     ]
    },
    {
     "data": {
      "application/vnd.microsoft.datawrangler.viewer.v0+json": {
       "columns": [
        {
         "name": "Equity",
         "rawType": "object",
         "type": "string"
        },
        {
         "name": "Benchmark",
         "rawType": "object",
         "type": "string"
        },
        {
         "name": "intercept (alpha)",
         "rawType": "float64",
         "type": "float"
        },
        {
         "name": "slope (beta)",
         "rawType": "float64",
         "type": "float"
        },
        {
         "name": "correlation",
         "rawType": "float64",
         "type": "float"
        },
        {
         "name": "r_squared",
         "rawType": "float64",
         "type": "float"
        },
        {
         "name": "p_value_slope",
         "rawType": "float64",
         "type": "float"
        },
        {
         "name": "p_value_intercept",
         "rawType": "float64",
         "type": "float"
        }
       ],
       "ref": "4e2952ec-5f91-4154-af2e-3ab5b754f83a",
       "rows": [
        [
         "GRMN",
         "DSI",
         "0.0062128798220977095",
         "0.9418166585439052",
         "0.6165811425703274",
         "0.38017230537333035",
         "1.058502437585397e-13",
         "0.23739089639514274"
        ],
        [
         "MSFT",
         "DSI",
         "0.01085747625833823",
         "0.9589775866475891",
         "0.7546422005137196",
         "0.5694848507961895",
         "5.74941286319427e-23",
         "0.003371003529878575"
        ]
       ],
       "shape": {
        "columns": 7,
        "rows": 2
       }
      },
      "text/html": [
       "<div>\n",
       "<style scoped>\n",
       "    .dataframe tbody tr th:only-of-type {\n",
       "        vertical-align: middle;\n",
       "    }\n",
       "\n",
       "    .dataframe tbody tr th {\n",
       "        vertical-align: top;\n",
       "    }\n",
       "\n",
       "    .dataframe thead th {\n",
       "        text-align: right;\n",
       "    }\n",
       "</style>\n",
       "<table border=\"1\" class=\"dataframe\">\n",
       "  <thead>\n",
       "    <tr style=\"text-align: right;\">\n",
       "      <th></th>\n",
       "      <th>Benchmark</th>\n",
       "      <th>intercept (alpha)</th>\n",
       "      <th>slope (beta)</th>\n",
       "      <th>correlation</th>\n",
       "      <th>r_squared</th>\n",
       "      <th>p_value_slope</th>\n",
       "      <th>p_value_intercept</th>\n",
       "    </tr>\n",
       "    <tr>\n",
       "      <th>Equity</th>\n",
       "      <th></th>\n",
       "      <th></th>\n",
       "      <th></th>\n",
       "      <th></th>\n",
       "      <th></th>\n",
       "      <th></th>\n",
       "      <th></th>\n",
       "    </tr>\n",
       "  </thead>\n",
       "  <tbody>\n",
       "    <tr>\n",
       "      <th>GRMN</th>\n",
       "      <td>DSI</td>\n",
       "      <td>0.006213</td>\n",
       "      <td>0.941817</td>\n",
       "      <td>0.616581</td>\n",
       "      <td>0.380172</td>\n",
       "      <td>1.058502e-13</td>\n",
       "      <td>0.237391</td>\n",
       "    </tr>\n",
       "    <tr>\n",
       "      <th>MSFT</th>\n",
       "      <td>DSI</td>\n",
       "      <td>0.010857</td>\n",
       "      <td>0.958978</td>\n",
       "      <td>0.754642</td>\n",
       "      <td>0.569485</td>\n",
       "      <td>5.749413e-23</td>\n",
       "      <td>0.003371</td>\n",
       "    </tr>\n",
       "  </tbody>\n",
       "</table>\n",
       "</div>"
      ],
      "text/plain": [
       "       Benchmark  intercept (alpha)  slope (beta)  correlation  r_squared  \\\n",
       "Equity                                                                      \n",
       "GRMN         DSI           0.006213      0.941817     0.616581   0.380172   \n",
       "MSFT         DSI           0.010857      0.958978     0.754642   0.569485   \n",
       "\n",
       "        p_value_slope  p_value_intercept  \n",
       "Equity                                    \n",
       "GRMN     1.058502e-13           0.237391  \n",
       "MSFT     5.749413e-23           0.003371  "
      ]
     },
     "execution_count": 21,
     "metadata": {},
     "output_type": "execute_result"
    }
   ],
   "source": [
    "# Set Index\n",
    "first_column = best_benchmarks_df.columns[0] # Get the name of the first column\n",
    "best_benchmarks_df.set_index(first_column, drop=True, inplace=True)\n",
    "best_benchmark = best_benchmarks_df['Benchmark'].unique()[0]\n",
    "\n",
    "# Display the best benchmark DataFrame\n",
    "print(best_benchmark)\n",
    "best_benchmarks_df"
   ]
  },
  {
   "cell_type": "code",
   "execution_count": 22,
   "id": "5875bf44",
   "metadata": {
    "execution": {
     "iopub.execute_input": "2025-06-02T13:28:34.054929Z",
     "iopub.status.busy": "2025-06-02T13:28:34.053526Z",
     "iopub.status.idle": "2025-06-02T13:28:35.789149Z",
     "shell.execute_reply": "2025-06-02T13:28:35.787254Z"
    }
   },
   "outputs": [
    {
     "name": "stdout",
     "output_type": "stream",
     "text": [
      "Updated sheet 'benchmark_short_term'\n",
      "Successfully merged data into 'daily_quotes' sheet\n",
      "Successfully merged data into 'monthly_quotes' sheet\n",
      "Successfully exported all data to portfolios/portfolio-2025-06-02.xlsx\n"
     ]
    }
   ],
   "source": [
    "export_to_excel(output_file, {\n",
    "    'benchmark_short_term': best_benchmarks_df,\n",
    "    'daily_quotes': benchmark_prices_daily_df[[best_benchmark]],  \n",
    "    'monthly_quotes': benchmark_prices_monthly_df[[best_benchmark]]   \n",
    "})"
   ]
  }
 ],
 "metadata": {
  "kernelspec": {
   "display_name": ".venv",
   "language": "python",
   "name": "python3"
  },
  "language_info": {
   "codemirror_mode": {
    "name": "ipython",
    "version": 3
   },
   "file_extension": ".py",
   "mimetype": "text/x-python",
   "name": "python",
   "nbconvert_exporter": "python",
   "pygments_lexer": "ipython3",
   "version": "3.13.3"
  },
  "widgets": {
   "application/vnd.jupyter.widget-state+json": {
    "state": {
     "045ae3d33e4e4f28bf306e11146680bf": {
      "model_module": "@jupyter-widgets/base",
      "model_module_version": "2.0.0",
      "model_name": "LayoutModel",
      "state": {
       "_model_module": "@jupyter-widgets/base",
       "_model_module_version": "2.0.0",
       "_model_name": "LayoutModel",
       "_view_count": null,
       "_view_module": "@jupyter-widgets/base",
       "_view_module_version": "2.0.0",
       "_view_name": "LayoutView",
       "align_content": null,
       "align_items": null,
       "align_self": null,
       "border_bottom": null,
       "border_left": null,
       "border_right": null,
       "border_top": null,
       "bottom": null,
       "display": null,
       "flex": null,
       "flex_flow": null,
       "grid_area": null,
       "grid_auto_columns": null,
       "grid_auto_flow": null,
       "grid_auto_rows": null,
       "grid_column": null,
       "grid_gap": null,
       "grid_row": null,
       "grid_template_areas": null,
       "grid_template_columns": null,
       "grid_template_rows": null,
       "height": null,
       "justify_content": null,
       "justify_items": null,
       "left": null,
       "margin": null,
       "max_height": null,
       "max_width": null,
       "min_height": null,
       "min_width": null,
       "object_fit": null,
       "object_position": null,
       "order": null,
       "overflow": null,
       "padding": null,
       "right": null,
       "top": null,
       "visibility": null,
       "width": null
      }
     },
     "0e994225a7124f8dacbce576f288c778": {
      "model_module": "@jupyter-widgets/base",
      "model_module_version": "2.0.0",
      "model_name": "LayoutModel",
      "state": {
       "_model_module": "@jupyter-widgets/base",
       "_model_module_version": "2.0.0",
       "_model_name": "LayoutModel",
       "_view_count": null,
       "_view_module": "@jupyter-widgets/base",
       "_view_module_version": "2.0.0",
       "_view_name": "LayoutView",
       "align_content": null,
       "align_items": null,
       "align_self": null,
       "border_bottom": null,
       "border_left": null,
       "border_right": null,
       "border_top": null,
       "bottom": null,
       "display": null,
       "flex": null,
       "flex_flow": null,
       "grid_area": null,
       "grid_auto_columns": null,
       "grid_auto_flow": null,
       "grid_auto_rows": null,
       "grid_column": null,
       "grid_gap": null,
       "grid_row": null,
       "grid_template_areas": null,
       "grid_template_columns": null,
       "grid_template_rows": null,
       "height": null,
       "justify_content": null,
       "justify_items": null,
       "left": null,
       "margin": null,
       "max_height": null,
       "max_width": null,
       "min_height": null,
       "min_width": null,
       "object_fit": null,
       "object_position": null,
       "order": null,
       "overflow": null,
       "padding": null,
       "right": null,
       "top": null,
       "visibility": null,
       "width": null
      }
     },
     "294e0b5895ac4cb5a3e52c40b52715c0": {
      "model_module": "@jupyter-widgets/controls",
      "model_module_version": "2.0.0",
      "model_name": "HBoxModel",
      "state": {
       "_dom_classes": [],
       "_model_module": "@jupyter-widgets/controls",
       "_model_module_version": "2.0.0",
       "_model_name": "HBoxModel",
       "_view_count": null,
       "_view_module": "@jupyter-widgets/controls",
       "_view_module_version": "2.0.0",
       "_view_name": "HBoxView",
       "box_style": "",
       "children": [
        "IPY_MODEL_e2d34e0235144456b14f793c3fac79ca",
        "IPY_MODEL_779190ba5571443db3c0d62d2a37f2a1",
        "IPY_MODEL_dbc34e958a6e419c9a50589872524dc3"
       ],
       "layout": "IPY_MODEL_aaa07405a0404e80af127cfe3778ac1c",
       "tabbable": null,
       "tooltip": null
      }
     },
     "434e195470de46f3af439d9f686ec13c": {
      "model_module": "@jupyter-widgets/controls",
      "model_module_version": "2.0.0",
      "model_name": "HTMLStyleModel",
      "state": {
       "_model_module": "@jupyter-widgets/controls",
       "_model_module_version": "2.0.0",
       "_model_name": "HTMLStyleModel",
       "_view_count": null,
       "_view_module": "@jupyter-widgets/base",
       "_view_module_version": "2.0.0",
       "_view_name": "StyleView",
       "background": null,
       "description_width": "",
       "font_size": null,
       "text_color": null
      }
     },
     "6cedd3aff77641849dcbf7657691054e": {
      "model_module": "@jupyter-widgets/base",
      "model_module_version": "2.0.0",
      "model_name": "LayoutModel",
      "state": {
       "_model_module": "@jupyter-widgets/base",
       "_model_module_version": "2.0.0",
       "_model_name": "LayoutModel",
       "_view_count": null,
       "_view_module": "@jupyter-widgets/base",
       "_view_module_version": "2.0.0",
       "_view_name": "LayoutView",
       "align_content": null,
       "align_items": null,
       "align_self": null,
       "border_bottom": null,
       "border_left": null,
       "border_right": null,
       "border_top": null,
       "bottom": null,
       "display": null,
       "flex": null,
       "flex_flow": null,
       "grid_area": null,
       "grid_auto_columns": null,
       "grid_auto_flow": null,
       "grid_auto_rows": null,
       "grid_column": null,
       "grid_gap": null,
       "grid_row": null,
       "grid_template_areas": null,
       "grid_template_columns": null,
       "grid_template_rows": null,
       "height": null,
       "justify_content": null,
       "justify_items": null,
       "left": null,
       "margin": null,
       "max_height": null,
       "max_width": null,
       "min_height": null,
       "min_width": null,
       "object_fit": null,
       "object_position": null,
       "order": null,
       "overflow": null,
       "padding": null,
       "right": null,
       "top": null,
       "visibility": null,
       "width": null
      }
     },
     "779190ba5571443db3c0d62d2a37f2a1": {
      "model_module": "@jupyter-widgets/controls",
      "model_module_version": "2.0.0",
      "model_name": "FloatProgressModel",
      "state": {
       "_dom_classes": [],
       "_model_module": "@jupyter-widgets/controls",
       "_model_module_version": "2.0.0",
       "_model_name": "FloatProgressModel",
       "_view_count": null,
       "_view_module": "@jupyter-widgets/controls",
       "_view_module_version": "2.0.0",
       "_view_name": "ProgressView",
       "bar_style": "success",
       "description": "",
       "description_allow_html": false,
       "layout": "IPY_MODEL_0e994225a7124f8dacbce576f288c778",
       "max": 513,
       "min": 0,
       "orientation": "horizontal",
       "style": "IPY_MODEL_7e34651eb7364339b0dac58478f22353",
       "tabbable": null,
       "tooltip": null,
       "value": 513
      }
     },
     "7e34651eb7364339b0dac58478f22353": {
      "model_module": "@jupyter-widgets/controls",
      "model_module_version": "2.0.0",
      "model_name": "ProgressStyleModel",
      "state": {
       "_model_module": "@jupyter-widgets/controls",
       "_model_module_version": "2.0.0",
       "_model_name": "ProgressStyleModel",
       "_view_count": null,
       "_view_module": "@jupyter-widgets/base",
       "_view_module_version": "2.0.0",
       "_view_name": "StyleView",
       "bar_color": null,
       "description_width": ""
      }
     },
     "aaa07405a0404e80af127cfe3778ac1c": {
      "model_module": "@jupyter-widgets/base",
      "model_module_version": "2.0.0",
      "model_name": "LayoutModel",
      "state": {
       "_model_module": "@jupyter-widgets/base",
       "_model_module_version": "2.0.0",
       "_model_name": "LayoutModel",
       "_view_count": null,
       "_view_module": "@jupyter-widgets/base",
       "_view_module_version": "2.0.0",
       "_view_name": "LayoutView",
       "align_content": null,
       "align_items": null,
       "align_self": null,
       "border_bottom": null,
       "border_left": null,
       "border_right": null,
       "border_top": null,
       "bottom": null,
       "display": null,
       "flex": null,
       "flex_flow": null,
       "grid_area": null,
       "grid_auto_columns": null,
       "grid_auto_flow": null,
       "grid_auto_rows": null,
       "grid_column": null,
       "grid_gap": null,
       "grid_row": null,
       "grid_template_areas": null,
       "grid_template_columns": null,
       "grid_template_rows": null,
       "height": null,
       "justify_content": null,
       "justify_items": null,
       "left": null,
       "margin": null,
       "max_height": null,
       "max_width": null,
       "min_height": null,
       "min_width": null,
       "object_fit": null,
       "object_position": null,
       "order": null,
       "overflow": null,
       "padding": null,
       "right": null,
       "top": null,
       "visibility": null,
       "width": null
      }
     },
     "ae061c1387cd4fb6b8a1d923d00e3685": {
      "model_module": "@jupyter-widgets/controls",
      "model_module_version": "2.0.0",
      "model_name": "HTMLStyleModel",
      "state": {
       "_model_module": "@jupyter-widgets/controls",
       "_model_module_version": "2.0.0",
       "_model_name": "HTMLStyleModel",
       "_view_count": null,
       "_view_module": "@jupyter-widgets/base",
       "_view_module_version": "2.0.0",
       "_view_name": "StyleView",
       "background": null,
       "description_width": "",
       "font_size": null,
       "text_color": null
      }
     },
     "dbc34e958a6e419c9a50589872524dc3": {
      "model_module": "@jupyter-widgets/controls",
      "model_module_version": "2.0.0",
      "model_name": "HTMLModel",
      "state": {
       "_dom_classes": [],
       "_model_module": "@jupyter-widgets/controls",
       "_model_module_version": "2.0.0",
       "_model_name": "HTMLModel",
       "_view_count": null,
       "_view_module": "@jupyter-widgets/controls",
       "_view_module_version": "2.0.0",
       "_view_name": "HTMLView",
       "description": "",
       "description_allow_html": false,
       "layout": "IPY_MODEL_045ae3d33e4e4f28bf306e11146680bf",
       "placeholder": "​",
       "style": "IPY_MODEL_434e195470de46f3af439d9f686ec13c",
       "tabbable": null,
       "tooltip": null,
       "value": " 513/513 [00:13&lt;00:00, 21.56it/s]"
      }
     },
     "e2d34e0235144456b14f793c3fac79ca": {
      "model_module": "@jupyter-widgets/controls",
      "model_module_version": "2.0.0",
      "model_name": "HTMLModel",
      "state": {
       "_dom_classes": [],
       "_model_module": "@jupyter-widgets/controls",
       "_model_module_version": "2.0.0",
       "_model_name": "HTMLModel",
       "_view_count": null,
       "_view_module": "@jupyter-widgets/controls",
       "_view_module_version": "2.0.0",
       "_view_name": "HTMLView",
       "description": "",
       "description_allow_html": false,
       "layout": "IPY_MODEL_6cedd3aff77641849dcbf7657691054e",
       "placeholder": "​",
       "style": "IPY_MODEL_ae061c1387cd4fb6b8a1d923d00e3685",
       "tabbable": null,
       "tooltip": null,
       "value": "100%"
      }
     }
    },
    "version_major": 2,
    "version_minor": 0
   }
  }
 },
 "nbformat": 4,
 "nbformat_minor": 5
}
