{
 "cells": [
  {
   "cell_type": "markdown",
   "id": "bcc3381f",
   "metadata": {},
   "source": [
    "<a href=\"https://colab.research.google.com/github/renan-peres/mfin-portfolio-management/blob/main/03_benchmark_selection.ipynb\" target=\"_parent\"><img src=\"https://colab.research.google.com/assets/colab-badge.svg\" alt=\"Open In Colab\"/></a>"
   ]
  },
  {
   "cell_type": "markdown",
   "id": "e4cd6428",
   "metadata": {},
   "source": [
    "# Benchmark Selection with Regression Analysis\n",
    "This model aims to select an ETF that best fits with the portfolio to be used as a benchmark. The methodology uses a regression analysis to identify the relationship between the ETF and the portfolio and check the ETF with the highest R² and lowest p-value will be selected as the benchmark. \n",
    "\n",
    "The model will use the following steps:\n",
    "1. Select an ETF that invests in the same sectors as the portfolio holdings.\n",
    "2. Use regression analysis to identify the relationship between the ETF and the portfolio.\n",
    "3. Select the ETF with the highest R² and lowest p-value as the benchmark.\n",
    "4. Use the selected ETF as a benchmark to evaluate the performance of the portfolio."
   ]
  },
  {
   "cell_type": "markdown",
   "id": "dc371546",
   "metadata": {},
   "source": [
    "### Step 1: Import Libraries"
   ]
  },
  {
   "cell_type": "code",
   "execution_count": 1,
   "id": "d09ef8c1",
   "metadata": {
    "execution": {
     "iopub.execute_input": "2025-06-02T13:28:29.114690Z",
     "iopub.status.busy": "2025-06-02T13:28:29.114145Z",
     "iopub.status.idle": "2025-06-02T13:28:30.793724Z",
     "shell.execute_reply": "2025-06-02T13:28:30.792289Z"
    }
   },
   "outputs": [],
   "source": [
    "# UDFs\n",
    "from py.utils import load_and_filter_data, export_to_excel\n",
    "from py.regression_benchmark import find_best_benchmark_and_run_regressions\n",
    "\n",
    "# System libraries\n",
    "import glob\n",
    "import os\n",
    "import sys\n",
    "from io import StringIO\n",
    "from typing import Dict, List\n",
    "\n",
    "# Data manipulation libraries\n",
    "import pandas as pd\n",
    "import numpy as np\n",
    "from datetime import datetime, timedelta\n",
    "from pandas.tseries.offsets import BDay\n",
    "\n",
    "# Data Visualization libraries\n",
    "import matplotlib.pyplot as plt\n",
    "import seaborn as sns\n",
    "\n",
    "# Excel libraries\n",
    "from openpyxl import load_workbook\n",
    "from openpyxl.styles import Alignment, Font\n",
    "import ast"
   ]
  },
  {
   "cell_type": "markdown",
   "id": "e2e1bc31",
   "metadata": {},
   "source": [
    "### Step 2: Define Parameters"
   ]
  },
  {
   "cell_type": "markdown",
   "id": "766d204e",
   "metadata": {},
   "source": [
    "#### Dates"
   ]
  },
  {
   "cell_type": "code",
   "execution_count": 2,
   "id": "d59ab3b0",
   "metadata": {
    "execution": {
     "iopub.execute_input": "2025-06-02T13:28:30.798269Z",
     "iopub.status.busy": "2025-06-02T13:28:30.797519Z",
     "iopub.status.idle": "2025-06-02T13:28:30.805224Z",
     "shell.execute_reply": "2025-06-02T13:28:30.803735Z"
    }
   },
   "outputs": [
    {
     "name": "stdout",
     "output_type": "stream",
     "text": [
      "Date Range: 2020-06-04 to 2025-06-03\n",
      "Time span: 1825 days (5.00 years)\n"
     ]
    }
   ],
   "source": [
    "# Define the date range\n",
    "end_date = (datetime.today() - BDay(1)).to_pydatetime()  # Subtract 1 business day\n",
    "start_date = end_date - timedelta(days=5*365)            # 5 years ago from the end date\n",
    "\n",
    "# Convert datetime objects to Unix timestamps (seconds since Jan 1, 1970)\n",
    "start_timestamp = int(start_date.timestamp())\n",
    "end_timestamp = int(end_date.timestamp())\n",
    "\n",
    "# Print the date range\n",
    "days_difference = (end_date - start_date).days\n",
    "print(f\"Date Range: {start_date.strftime('%Y-%m-%d')} to {end_date.strftime('%Y-%m-%d')}\")\n",
    "print(f\"Time span: {days_difference} days ({days_difference/365:.2f} years)\")"
   ]
  },
  {
   "cell_type": "markdown",
   "id": "c216556a",
   "metadata": {},
   "source": [
    "#### Risk-free rate (T-bill, %)"
   ]
  },
  {
   "cell_type": "code",
   "execution_count": 3,
   "id": "3f485596",
   "metadata": {
    "execution": {
     "iopub.execute_input": "2025-06-02T13:28:30.808605Z",
     "iopub.status.busy": "2025-06-02T13:28:30.808221Z",
     "iopub.status.idle": "2025-06-02T13:28:30.832293Z",
     "shell.execute_reply": "2025-06-02T13:28:30.831288Z"
    }
   },
   "outputs": [
    {
     "name": "stdout",
     "output_type": "stream",
     "text": [
      "Found 1 of 1 tickers in data/daily_treasury_rates.csv\n",
      "Missing tickers: []\n",
      "Risk-Free Rate: 0.042300000000000004 -- 13 WEEK TREASURY BILL (^IRX)\n"
     ]
    },
    {
     "data": {
      "application/vnd.microsoft.datawrangler.viewer.v0+json": {
       "columns": [
        {
         "name": "Date",
         "rawType": "datetime64[ns]",
         "type": "datetime"
        },
        {
         "name": "^IRX",
         "rawType": "float64",
         "type": "float"
        }
       ],
       "ref": "326f2c64-5b03-4fca-8b8b-24557d2993e9",
       "rows": [
        [
         "2020-06-05 00:00:00",
         "0.145"
        ],
        [
         "2020-06-08 00:00:00",
         "0.153"
        ],
        [
         "2020-06-09 00:00:00",
         "0.165"
        ],
        [
         "2020-06-10 00:00:00",
         "0.165"
        ],
        [
         "2020-06-11 00:00:00",
         "0.153"
        ]
       ],
       "shape": {
        "columns": 1,
        "rows": 5
       }
      },
      "text/html": [
       "<div>\n",
       "<style scoped>\n",
       "    .dataframe tbody tr th:only-of-type {\n",
       "        vertical-align: middle;\n",
       "    }\n",
       "\n",
       "    .dataframe tbody tr th {\n",
       "        vertical-align: top;\n",
       "    }\n",
       "\n",
       "    .dataframe thead th {\n",
       "        text-align: right;\n",
       "    }\n",
       "</style>\n",
       "<table border=\"1\" class=\"dataframe\">\n",
       "  <thead>\n",
       "    <tr style=\"text-align: right;\">\n",
       "      <th></th>\n",
       "      <th>^IRX</th>\n",
       "    </tr>\n",
       "    <tr>\n",
       "      <th>Date</th>\n",
       "      <th></th>\n",
       "    </tr>\n",
       "  </thead>\n",
       "  <tbody>\n",
       "    <tr>\n",
       "      <th>2020-06-05</th>\n",
       "      <td>0.145</td>\n",
       "    </tr>\n",
       "    <tr>\n",
       "      <th>2020-06-08</th>\n",
       "      <td>0.153</td>\n",
       "    </tr>\n",
       "    <tr>\n",
       "      <th>2020-06-09</th>\n",
       "      <td>0.165</td>\n",
       "    </tr>\n",
       "    <tr>\n",
       "      <th>2020-06-10</th>\n",
       "      <td>0.165</td>\n",
       "    </tr>\n",
       "    <tr>\n",
       "      <th>2020-06-11</th>\n",
       "      <td>0.153</td>\n",
       "    </tr>\n",
       "  </tbody>\n",
       "</table>\n",
       "</div>"
      ],
      "text/plain": [
       "             ^IRX\n",
       "Date             \n",
       "2020-06-05  0.145\n",
       "2020-06-08  0.153\n",
       "2020-06-09  0.165\n",
       "2020-06-10  0.165\n",
       "2020-06-11  0.153"
      ]
     },
     "execution_count": 3,
     "metadata": {},
     "output_type": "execute_result"
    }
   ],
   "source": [
    "# Load and process data\n",
    "daily_risk_free_df = load_and_filter_data('data/daily_treasury_rates.csv', ['^IRX'], start_date, end_date)\n",
    "# risk_free_rate = .0433 \n",
    "risk_free_rate = daily_risk_free_df.iloc[-1, 0] / 100\n",
    "risk_free_rate_monthly = risk_free_rate / 12\n",
    "\n",
    "# Display result\n",
    "print(\"Risk-Free Rate:\", risk_free_rate, \"-- 13 WEEK TREASURY BILL (^IRX)\")\n",
    "daily_risk_free_df.head()"
   ]
  },
  {
   "cell_type": "markdown",
   "id": "119e2261",
   "metadata": {},
   "source": [
    "#### Report File"
   ]
  },
  {
   "cell_type": "code",
   "execution_count": 4,
   "id": "b19e2a7b",
   "metadata": {
    "execution": {
     "iopub.execute_input": "2025-06-02T13:28:30.835903Z",
     "iopub.status.busy": "2025-06-02T13:28:30.835544Z",
     "iopub.status.idle": "2025-06-02T13:28:30.841061Z",
     "shell.execute_reply": "2025-06-02T13:28:30.840100Z"
    }
   },
   "outputs": [
    {
     "name": "stdout",
     "output_type": "stream",
     "text": [
      "Using most recent portfolio file: portfolios/portfolio-2025-06-02.xlsx\n"
     ]
    }
   ],
   "source": [
    "# Get the most recent portfolio file\n",
    "portfolio_files = glob.glob('portfolios/portfolio-*.xlsx')\n",
    "if portfolio_files:\n",
    "    # Sort files by modification time (most recent first)\n",
    "    output_file = max(portfolio_files, key=os.path.getmtime)\n",
    "    print(f\"Using most recent portfolio file: {output_file}\")\n",
    "else:\n",
    "    # Fallback to current date if no files found\n",
    "    output_file = f'portfolios/portfolio-{datetime.date(end_date)}.xlsx'\n",
    "    print(f\"No portfolio files found. Using: {output_file}\")"
   ]
  },
  {
   "cell_type": "markdown",
   "id": "955d4081",
   "metadata": {},
   "source": [
    "### Step 3: Read ETF Data"
   ]
  },
  {
   "cell_type": "code",
   "execution_count": 5,
   "id": "4339ebf2",
   "metadata": {
    "execution": {
     "iopub.execute_input": "2025-06-02T13:28:30.844553Z",
     "iopub.status.busy": "2025-06-02T13:28:30.844341Z",
     "iopub.status.idle": "2025-06-02T13:28:30.887886Z",
     "shell.execute_reply": "2025-06-02T13:28:30.886516Z"
    }
   },
   "outputs": [
    {
     "data": {
      "application/vnd.microsoft.datawrangler.viewer.v0+json": {
       "columns": [
        {
         "name": "index",
         "rawType": "int64",
         "type": "integer"
        },
        {
         "name": "Symbol",
         "rawType": "object",
         "type": "string"
        },
        {
         "name": "Name",
         "rawType": "object",
         "type": "string"
        },
        {
         "name": "Sectors",
         "rawType": "object",
         "type": "unknown"
        }
       ],
       "ref": "f2cba76b-17da-406c-adef-97db118ab184",
       "rows": [
        [
         "0",
         "AADR",
         "AdvisorShares Dorsey Wright ADR ETF",
         "{'realestate': 0.0, 'consumer_cyclical': 0.1182, 'basic_materials': 0.0425, 'consumer_defensive': 0.0, 'technology': 0.16479999, 'communication_services': 0.089499995, 'financial_services': 0.33900002, 'utilities': 0.033299997, 'industrials': 0.1005, 'energy': 0.0334, 'healthcare': 0.0788}"
        ],
        [
         "1",
         "ABFL",
         "Abacus FCF Leaders ETF",
         "{'realestate': 0.0, 'consumer_cyclical': 0.1188, 'basic_materials': 0.0, 'consumer_defensive': 0.0765, 'technology': 0.5052, 'communication_services': 0.0709, 'financial_services': 0.042600002, 'utilities': 0.0, 'industrials': 0.041100003, 'energy': 0.0, 'healthcare': 0.1449}"
        ],
        [
         "2",
         "ACWI",
         "iShares MSCI ACWI ETF",
         "{'realestate': 0.0216, 'consumer_cyclical': 0.1039, 'basic_materials': 0.0346, 'consumer_defensive': 0.0641, 'technology': 0.2491, 'communication_services': 0.084, 'financial_services': 0.1752, 'utilities': 0.0269, 'industrials': 0.1021, 'energy': 0.0375, 'healthcare': 0.1012}"
        ],
        [
         "3",
         "ADME",
         "Aptus Drawdown Managed Equity ETF",
         "{'realestate': 0.0222, 'consumer_cyclical': 0.1022, 'basic_materials': 0.0222, 'consumer_defensive': 0.0608, 'technology': 0.3147, 'communication_services': 0.091800004, 'financial_services': 0.1384, 'utilities': 0.0254, 'industrials': 0.0746, 'energy': 0.0357, 'healthcare': 0.111899994}"
        ],
        [
         "4",
         "AGNG",
         "Global X Aging Population ETF",
         "{'realestate': 0.0791, 'consumer_cyclical': 0.0, 'basic_materials': 0.0, 'consumer_defensive': 0.0, 'technology': 0.0, 'communication_services': 0.0, 'financial_services': 0.0, 'utilities': 0.0, 'industrials': 0.0, 'energy': 0.0, 'healthcare': 0.9209}"
        ]
       ],
       "shape": {
        "columns": 3,
        "rows": 5
       }
      },
      "text/html": [
       "<div>\n",
       "<style scoped>\n",
       "    .dataframe tbody tr th:only-of-type {\n",
       "        vertical-align: middle;\n",
       "    }\n",
       "\n",
       "    .dataframe tbody tr th {\n",
       "        vertical-align: top;\n",
       "    }\n",
       "\n",
       "    .dataframe thead th {\n",
       "        text-align: right;\n",
       "    }\n",
       "</style>\n",
       "<table border=\"1\" class=\"dataframe\">\n",
       "  <thead>\n",
       "    <tr style=\"text-align: right;\">\n",
       "      <th></th>\n",
       "      <th>Symbol</th>\n",
       "      <th>Name</th>\n",
       "      <th>Sectors</th>\n",
       "    </tr>\n",
       "  </thead>\n",
       "  <tbody>\n",
       "    <tr>\n",
       "      <th>0</th>\n",
       "      <td>AADR</td>\n",
       "      <td>AdvisorShares Dorsey Wright ADR ETF</td>\n",
       "      <td>{'realestate': 0.0, 'consumer_cyclical': 0.118...</td>\n",
       "    </tr>\n",
       "    <tr>\n",
       "      <th>1</th>\n",
       "      <td>ABFL</td>\n",
       "      <td>Abacus FCF Leaders ETF</td>\n",
       "      <td>{'realestate': 0.0, 'consumer_cyclical': 0.118...</td>\n",
       "    </tr>\n",
       "    <tr>\n",
       "      <th>2</th>\n",
       "      <td>ACWI</td>\n",
       "      <td>iShares MSCI ACWI ETF</td>\n",
       "      <td>{'realestate': 0.0216, 'consumer_cyclical': 0....</td>\n",
       "    </tr>\n",
       "    <tr>\n",
       "      <th>3</th>\n",
       "      <td>ADME</td>\n",
       "      <td>Aptus Drawdown Managed Equity ETF</td>\n",
       "      <td>{'realestate': 0.0222, 'consumer_cyclical': 0....</td>\n",
       "    </tr>\n",
       "    <tr>\n",
       "      <th>4</th>\n",
       "      <td>AGNG</td>\n",
       "      <td>Global X Aging Population ETF</td>\n",
       "      <td>{'realestate': 0.0791, 'consumer_cyclical': 0....</td>\n",
       "    </tr>\n",
       "  </tbody>\n",
       "</table>\n",
       "</div>"
      ],
      "text/plain": [
       "  Symbol                                 Name  \\\n",
       "0   AADR  AdvisorShares Dorsey Wright ADR ETF   \n",
       "1   ABFL               Abacus FCF Leaders ETF   \n",
       "2   ACWI                iShares MSCI ACWI ETF   \n",
       "3   ADME    Aptus Drawdown Managed Equity ETF   \n",
       "4   AGNG        Global X Aging Population ETF   \n",
       "\n",
       "                                             Sectors  \n",
       "0  {'realestate': 0.0, 'consumer_cyclical': 0.118...  \n",
       "1  {'realestate': 0.0, 'consumer_cyclical': 0.118...  \n",
       "2  {'realestate': 0.0216, 'consumer_cyclical': 0....  \n",
       "3  {'realestate': 0.0222, 'consumer_cyclical': 0....  \n",
       "4  {'realestate': 0.0791, 'consumer_cyclical': 0....  "
      ]
     },
     "execution_count": 5,
     "metadata": {},
     "output_type": "execute_result"
    }
   ],
   "source": [
    "# Load Data\n",
    "sectors_df = pd.read_csv(\"data/fundamentals_benchmark.csv\") \n",
    "sectors_df = sectors_df[[\"Ticker\", \"Name\", \"Sector Weightings\"]]\n",
    "sectors_df = sectors_df.rename(columns={\"Name\": \"Name\", \"Ticker\": \"Symbol\", \"Sector Weightings\": \"Sectors\"})\n",
    "\n",
    "# Convert string representations of dictionaries to actual dictionaries\n",
    "sectors_df['Sectors'] = sectors_df['Sectors'].apply(lambda x: ast.literal_eval(x) if isinstance(x, str) and x.strip() else {})\n",
    "\n",
    "# Display\n",
    "sectors_df.head()"
   ]
  },
  {
   "cell_type": "markdown",
   "id": "30db5c6d",
   "metadata": {},
   "source": [
    "### Step 4: Read Portfolio Data (Excel)"
   ]
  },
  {
   "cell_type": "code",
   "execution_count": 6,
   "id": "7cc2ecd6",
   "metadata": {
    "execution": {
     "iopub.execute_input": "2025-06-02T13:28:30.891757Z",
     "iopub.status.busy": "2025-06-02T13:28:30.890808Z",
     "iopub.status.idle": "2025-06-02T13:28:30.943911Z",
     "shell.execute_reply": "2025-06-02T13:28:30.942866Z"
    }
   },
   "outputs": [
    {
     "name": "stdout",
     "output_type": "stream",
     "text": [
      "['MMC', 'TMUS', 'APO', 'SO', 'AMAT']\n"
     ]
    },
    {
     "data": {
      "application/vnd.microsoft.datawrangler.viewer.v0+json": {
       "columns": [
        {
         "name": "index",
         "rawType": "int64",
         "type": "integer"
        },
        {
         "name": "Ticker",
         "rawType": "object",
         "type": "string"
        },
        {
         "name": "Date",
         "rawType": "object",
         "type": "string"
        },
        {
         "name": "Name",
         "rawType": "object",
         "type": "string"
        },
        {
         "name": "Sector",
         "rawType": "object",
         "type": "string"
        },
        {
         "name": "Industry",
         "rawType": "object",
         "type": "string"
        },
        {
         "name": "Country",
         "rawType": "object",
         "type": "string"
        },
        {
         "name": "Website",
         "rawType": "object",
         "type": "string"
        },
        {
         "name": "Market Cap",
         "rawType": "int64",
         "type": "integer"
        },
        {
         "name": "Enterprise Value",
         "rawType": "int64",
         "type": "integer"
        },
        {
         "name": "Float Shares",
         "rawType": "int64",
         "type": "integer"
        },
        {
         "name": "Shares Outstanding",
         "rawType": "int64",
         "type": "integer"
        },
        {
         "name": "P/E (trailing)",
         "rawType": "float64",
         "type": "float"
        },
        {
         "name": "P/E (forward)",
         "rawType": "float64",
         "type": "float"
        },
        {
         "name": "P/S",
         "rawType": "float64",
         "type": "float"
        },
        {
         "name": "P/B",
         "rawType": "float64",
         "type": "float"
        },
        {
         "name": "EV/EBITDA",
         "rawType": "float64",
         "type": "float"
        },
        {
         "name": "EV/Revenue",
         "rawType": "float64",
         "type": "float"
        },
        {
         "name": "Gross Margin (%)",
         "rawType": "float64",
         "type": "float"
        },
        {
         "name": "EBITDA Margin (%)",
         "rawType": "float64",
         "type": "float"
        },
        {
         "name": "Operating Margin (%)",
         "rawType": "float64",
         "type": "float"
        },
        {
         "name": "Profit Margin (%)",
         "rawType": "float64",
         "type": "float"
        },
        {
         "name": "ROE",
         "rawType": "float64",
         "type": "float"
        },
        {
         "name": "ROA",
         "rawType": "float64",
         "type": "float"
        },
        {
         "name": "Revenue (TTM)",
         "rawType": "int64",
         "type": "integer"
        },
        {
         "name": "Revenue Growth (%)",
         "rawType": "float64",
         "type": "float"
        },
        {
         "name": "EPS (trailing)",
         "rawType": "float64",
         "type": "float"
        },
        {
         "name": "EPS (forward)",
         "rawType": "float64",
         "type": "float"
        },
        {
         "name": "Earnings Growth (%)",
         "rawType": "float64",
         "type": "float"
        },
        {
         "name": "Earnings Quarterly Growth (%)",
         "rawType": "float64",
         "type": "float"
        },
        {
         "name": "Total Cash",
         "rawType": "int64",
         "type": "integer"
        },
        {
         "name": "Total Debt",
         "rawType": "int64",
         "type": "integer"
        },
        {
         "name": "Debt to Equity",
         "rawType": "float64",
         "type": "float"
        },
        {
         "name": "Current Ratio",
         "rawType": "float64",
         "type": "float"
        },
        {
         "name": "Quick Ratio",
         "rawType": "float64",
         "type": "float"
        },
        {
         "name": "Book Value",
         "rawType": "float64",
         "type": "float"
        },
        {
         "name": "Free Cash Flow",
         "rawType": "float64",
         "type": "float"
        },
        {
         "name": "Operating Cash Flow",
         "rawType": "int64",
         "type": "integer"
        },
        {
         "name": "Dividend Yield (%)",
         "rawType": "float64",
         "type": "float"
        },
        {
         "name": "Dividend Rate (%)",
         "rawType": "float64",
         "type": "float"
        },
        {
         "name": "5Y Avg Dividend Yield (%)",
         "rawType": "float64",
         "type": "float"
        },
        {
         "name": "Payout Ratio (%)",
         "rawType": "float64",
         "type": "float"
        },
        {
         "name": "Price",
         "rawType": "float64",
         "type": "float"
        },
        {
         "name": "Target Price",
         "rawType": "float64",
         "type": "float"
        },
        {
         "name": "Target High",
         "rawType": "int64",
         "type": "integer"
        },
        {
         "name": "Target Low",
         "rawType": "float64",
         "type": "float"
        },
        {
         "name": "Analyst Rating",
         "rawType": "object",
         "type": "string"
        },
        {
         "name": "Analyst Rating Value",
         "rawType": "float64",
         "type": "float"
        },
        {
         "name": "Beta",
         "rawType": "float64",
         "type": "float"
        },
        {
         "name": "52W High",
         "rawType": "float64",
         "type": "float"
        },
        {
         "name": "52W Low",
         "rawType": "float64",
         "type": "float"
        },
        {
         "name": "50 Day Avg",
         "rawType": "float64",
         "type": "float"
        },
        {
         "name": "200 Day Avg",
         "rawType": "float64",
         "type": "float"
        },
        {
         "name": "Short Ratio",
         "rawType": "float64",
         "type": "float"
        },
        {
         "name": "Short % of Float",
         "rawType": "float64",
         "type": "float"
        },
        {
         "name": "Weight",
         "rawType": "float64",
         "type": "float"
        },
        {
         "name": "Expected Return",
         "rawType": "float64",
         "type": "float"
        },
        {
         "name": "Standard Deviation",
         "rawType": "float64",
         "type": "float"
        },
        {
         "name": "Sharpe Ratio",
         "rawType": "float64",
         "type": "float"
        }
       ],
       "ref": "941775eb-72fe-4fef-8ca5-8e88300e4c34",
       "rows": [
        [
         "0",
         "MMC",
         "2025-06-02",
         "Marsh & McLennan Companies, Inc.",
         "Financial Services",
         "Insurance Brokers",
         "United States",
         "https://www.marshmclennan.com",
         "115130826752",
         "136148770816",
         "491821141",
         "492728000",
         "28.67",
         "24.78",
         "4.6",
         "8.18",
         "18.35",
         "5.44",
         "0.4432",
         "0.2962",
         "0.3044",
         "0.1613",
         "0.31",
         "0.08",
         "25045999616",
         "0.091",
         "8.15",
         "9.43",
         "-0.011",
         "-0.014",
         "1604000000",
         "22418999296",
         "157.13",
         "1.14",
         "0.5",
         "28.55",
         "4121999872.0",
         "4461000192",
         "0.014",
         "0.0326",
         "0.0138",
         "0.4871",
         "233.66",
         "233.22",
         "276",
         "189.21",
         "hold",
         "2.7",
         "0.83",
         "248.0",
         "205.17",
         "229.54",
         "225.3",
         "2.62",
         "0.01",
         "0.3370543775723063",
         "0.1461677109494677",
         "0.2036852696153913",
         "0.717615521365236"
        ],
        [
         "1",
         "TMUS",
         "2025-06-02",
         "T-Mobile US, Inc.",
         "Communication Services",
         "Telecom Services",
         "United States",
         "https://www.t-mobile.com",
         "275005997056",
         "384693796864",
         "452736028",
         "1135449984",
         "23.63",
         "22.7",
         "3.33",
         "4.51",
         "12.17",
         "4.65",
         "0.6385",
         "0.3822",
         "0.2298",
         "0.1441",
         "0.19",
         "0.06",
         "82691997696",
         "0.066",
         "10.25",
         "10.67",
         "0.29",
         "0.244",
         "12003000320",
         "121691996160",
         "199.15",
         "1.16",
         "0.9",
         "53.73",
         "9022624768.0",
         "24056000512",
         "0.0145",
         "0.0352",
         "0.0",
         "0.2988",
         "242.2",
         "269.22",
         "305",
         "202.99",
         "buy",
         "2.07",
         "0.63",
         "276.49",
         "171.18",
         "251.2",
         "232.97",
         "3.11",
         "0.03",
         "0.3370543775723063",
         "0.1606537566497703",
         "0.2655605999247345",
         "0.6049608138229202"
        ],
        [
         "2",
         "APO",
         "2025-06-02",
         "Apollo Global Management, Inc.",
         "Financial Services",
         "Asset Management",
         "United States",
         "https://www.apollo.com/institutional/homepage",
         "74688552960",
         "94705582080",
         "446479870",
         "571494016",
         "22.85",
         "15.41",
         "3.06",
         "4.5",
         null,
         "3.88",
         "0.4424",
         "0.0",
         "0.2954",
         "0.1473",
         "0.19",
         "0.02",
         "24387000320",
         "-0.215",
         "5.72",
         "8.48",
         "-0.703",
         "-0.69",
         "25016999936",
         "29268000768",
         "90.49",
         "1.79",
         "1.68",
         "29.06",
         null,
         "4195000064",
         "0.0156",
         "0.0204",
         "0.0276",
         "0.3229",
         "130.69",
         "156.88",
         "179",
         "135.0",
         "buy",
         "1.68",
         "1.57",
         "189.49",
         "95.11",
         "133.28",
         "143.86",
         "7.75",
         "0.05",
         "0.1614737411442642",
         "0.1660236124208994",
         "0.3758449392916214",
         "0.4417343299441906"
        ],
        [
         "3",
         "SO",
         "2025-06-02",
         "The Southern Company",
         "Utilities",
         "Utilities - Regulated Electric",
         "United States",
         "https://www.southerncompany.com",
         "99017097216",
         "170091954176",
         "1095713937",
         "1100189952",
         "21.58",
         "20.83",
         "3.55",
         "2.92",
         "12.72",
         "6.11",
         "0.4969",
         "0.4802",
         "0.2782",
         "0.1654",
         "0.12",
         "0.03",
         "27853000704",
         "0.17",
         "4.17",
         "4.32",
         "0.175",
         "0.182",
         "2327000064",
         "70119997440",
         "188.38",
         "0.86",
         "0.48",
         "30.79",
         "407249984.0",
         "9726999552",
         "0.0329",
         "0.0296",
         "0.0388",
         "0.6906",
         "90.0",
         "91.86",
         "104",
         "72.0",
         "hold",
         "2.7",
         "0.37",
         "94.45",
         "76.96",
         "89.88",
         "87.92",
         "5.08",
         "0.02",
         "0.09037429489503457",
         "0.09761495698739964",
         "0.2192720601432195",
         "0.445177360597796"
        ],
        [
         "4",
         "AMAT",
         "2025-06-02",
         "Applied Materials, Inc.",
         "Technology",
         "Semiconductor Equipment & Materials",
         "United States",
         "https://www.appliedmaterials.com",
         "125791559680",
         "125714595840",
         "799392549",
         "802497984",
         "19.09",
         "16.18",
         "4.48",
         "6.63",
         "14.38",
         "4.48",
         "0.4814",
         "0.3113",
         "0.3055",
         "0.2406",
         "0.36",
         "0.16",
         "28088999936",
         "0.068",
         "8.21",
         "9.69",
         "0.277",
         "0.241",
         "6746999808",
         "6670000128",
         "35.18",
         "2.46",
         "1.62",
         "23.63",
         "3740875008.0",
         "7456000000",
         "0.0117",
         "0.0184",
         "0.0087",
         "0.1946",
         "156.75",
         "198.04",
         "250",
         "152.0",
         "buy",
         "1.79",
         "1.66",
         "255.89",
         "123.74",
         "151.52",
         "173.39",
         "2.58",
         "0.02",
         "0.07404320881608878",
         "0.1425970655537145",
         "0.4132610189484351",
         "0.3450532690369889"
        ]
       ],
       "shape": {
        "columns": 58,
        "rows": 5
       }
      },
      "text/html": [
       "<div>\n",
       "<style scoped>\n",
       "    .dataframe tbody tr th:only-of-type {\n",
       "        vertical-align: middle;\n",
       "    }\n",
       "\n",
       "    .dataframe tbody tr th {\n",
       "        vertical-align: top;\n",
       "    }\n",
       "\n",
       "    .dataframe thead th {\n",
       "        text-align: right;\n",
       "    }\n",
       "</style>\n",
       "<table border=\"1\" class=\"dataframe\">\n",
       "  <thead>\n",
       "    <tr style=\"text-align: right;\">\n",
       "      <th></th>\n",
       "      <th>Ticker</th>\n",
       "      <th>Date</th>\n",
       "      <th>Name</th>\n",
       "      <th>Sector</th>\n",
       "      <th>Industry</th>\n",
       "      <th>Country</th>\n",
       "      <th>Website</th>\n",
       "      <th>Market Cap</th>\n",
       "      <th>Enterprise Value</th>\n",
       "      <th>Float Shares</th>\n",
       "      <th>...</th>\n",
       "      <th>52W High</th>\n",
       "      <th>52W Low</th>\n",
       "      <th>50 Day Avg</th>\n",
       "      <th>200 Day Avg</th>\n",
       "      <th>Short Ratio</th>\n",
       "      <th>Short % of Float</th>\n",
       "      <th>Weight</th>\n",
       "      <th>Expected Return</th>\n",
       "      <th>Standard Deviation</th>\n",
       "      <th>Sharpe Ratio</th>\n",
       "    </tr>\n",
       "  </thead>\n",
       "  <tbody>\n",
       "    <tr>\n",
       "      <th>0</th>\n",
       "      <td>MMC</td>\n",
       "      <td>2025-06-02</td>\n",
       "      <td>Marsh &amp; McLennan Companies, Inc.</td>\n",
       "      <td>Financial Services</td>\n",
       "      <td>Insurance Brokers</td>\n",
       "      <td>United States</td>\n",
       "      <td>https://www.marshmclennan.com</td>\n",
       "      <td>115130826752</td>\n",
       "      <td>136148770816</td>\n",
       "      <td>491821141</td>\n",
       "      <td>...</td>\n",
       "      <td>248.00</td>\n",
       "      <td>205.17</td>\n",
       "      <td>229.54</td>\n",
       "      <td>225.30</td>\n",
       "      <td>2.62</td>\n",
       "      <td>0.01</td>\n",
       "      <td>0.337054</td>\n",
       "      <td>0.146168</td>\n",
       "      <td>0.203685</td>\n",
       "      <td>0.717616</td>\n",
       "    </tr>\n",
       "    <tr>\n",
       "      <th>1</th>\n",
       "      <td>TMUS</td>\n",
       "      <td>2025-06-02</td>\n",
       "      <td>T-Mobile US, Inc.</td>\n",
       "      <td>Communication Services</td>\n",
       "      <td>Telecom Services</td>\n",
       "      <td>United States</td>\n",
       "      <td>https://www.t-mobile.com</td>\n",
       "      <td>275005997056</td>\n",
       "      <td>384693796864</td>\n",
       "      <td>452736028</td>\n",
       "      <td>...</td>\n",
       "      <td>276.49</td>\n",
       "      <td>171.18</td>\n",
       "      <td>251.20</td>\n",
       "      <td>232.97</td>\n",
       "      <td>3.11</td>\n",
       "      <td>0.03</td>\n",
       "      <td>0.337054</td>\n",
       "      <td>0.160654</td>\n",
       "      <td>0.265561</td>\n",
       "      <td>0.604961</td>\n",
       "    </tr>\n",
       "    <tr>\n",
       "      <th>2</th>\n",
       "      <td>APO</td>\n",
       "      <td>2025-06-02</td>\n",
       "      <td>Apollo Global Management, Inc.</td>\n",
       "      <td>Financial Services</td>\n",
       "      <td>Asset Management</td>\n",
       "      <td>United States</td>\n",
       "      <td>https://www.apollo.com/institutional/homepage</td>\n",
       "      <td>74688552960</td>\n",
       "      <td>94705582080</td>\n",
       "      <td>446479870</td>\n",
       "      <td>...</td>\n",
       "      <td>189.49</td>\n",
       "      <td>95.11</td>\n",
       "      <td>133.28</td>\n",
       "      <td>143.86</td>\n",
       "      <td>7.75</td>\n",
       "      <td>0.05</td>\n",
       "      <td>0.161474</td>\n",
       "      <td>0.166024</td>\n",
       "      <td>0.375845</td>\n",
       "      <td>0.441734</td>\n",
       "    </tr>\n",
       "    <tr>\n",
       "      <th>3</th>\n",
       "      <td>SO</td>\n",
       "      <td>2025-06-02</td>\n",
       "      <td>The Southern Company</td>\n",
       "      <td>Utilities</td>\n",
       "      <td>Utilities - Regulated Electric</td>\n",
       "      <td>United States</td>\n",
       "      <td>https://www.southerncompany.com</td>\n",
       "      <td>99017097216</td>\n",
       "      <td>170091954176</td>\n",
       "      <td>1095713937</td>\n",
       "      <td>...</td>\n",
       "      <td>94.45</td>\n",
       "      <td>76.96</td>\n",
       "      <td>89.88</td>\n",
       "      <td>87.92</td>\n",
       "      <td>5.08</td>\n",
       "      <td>0.02</td>\n",
       "      <td>0.090374</td>\n",
       "      <td>0.097615</td>\n",
       "      <td>0.219272</td>\n",
       "      <td>0.445177</td>\n",
       "    </tr>\n",
       "    <tr>\n",
       "      <th>4</th>\n",
       "      <td>AMAT</td>\n",
       "      <td>2025-06-02</td>\n",
       "      <td>Applied Materials, Inc.</td>\n",
       "      <td>Technology</td>\n",
       "      <td>Semiconductor Equipment &amp; Materials</td>\n",
       "      <td>United States</td>\n",
       "      <td>https://www.appliedmaterials.com</td>\n",
       "      <td>125791559680</td>\n",
       "      <td>125714595840</td>\n",
       "      <td>799392549</td>\n",
       "      <td>...</td>\n",
       "      <td>255.89</td>\n",
       "      <td>123.74</td>\n",
       "      <td>151.52</td>\n",
       "      <td>173.39</td>\n",
       "      <td>2.58</td>\n",
       "      <td>0.02</td>\n",
       "      <td>0.074043</td>\n",
       "      <td>0.142597</td>\n",
       "      <td>0.413261</td>\n",
       "      <td>0.345053</td>\n",
       "    </tr>\n",
       "  </tbody>\n",
       "</table>\n",
       "<p>5 rows × 58 columns</p>\n",
       "</div>"
      ],
      "text/plain": [
       "  Ticker        Date                              Name  \\\n",
       "0    MMC  2025-06-02  Marsh & McLennan Companies, Inc.   \n",
       "1   TMUS  2025-06-02                 T-Mobile US, Inc.   \n",
       "2    APO  2025-06-02    Apollo Global Management, Inc.   \n",
       "3     SO  2025-06-02              The Southern Company   \n",
       "4   AMAT  2025-06-02           Applied Materials, Inc.   \n",
       "\n",
       "                   Sector                             Industry        Country  \\\n",
       "0      Financial Services                    Insurance Brokers  United States   \n",
       "1  Communication Services                     Telecom Services  United States   \n",
       "2      Financial Services                     Asset Management  United States   \n",
       "3               Utilities       Utilities - Regulated Electric  United States   \n",
       "4              Technology  Semiconductor Equipment & Materials  United States   \n",
       "\n",
       "                                         Website    Market Cap  \\\n",
       "0                  https://www.marshmclennan.com  115130826752   \n",
       "1                       https://www.t-mobile.com  275005997056   \n",
       "2  https://www.apollo.com/institutional/homepage   74688552960   \n",
       "3                https://www.southerncompany.com   99017097216   \n",
       "4               https://www.appliedmaterials.com  125791559680   \n",
       "\n",
       "   Enterprise Value  Float Shares  ...  52W High  52W Low  50 Day Avg  \\\n",
       "0      136148770816     491821141  ...    248.00   205.17      229.54   \n",
       "1      384693796864     452736028  ...    276.49   171.18      251.20   \n",
       "2       94705582080     446479870  ...    189.49    95.11      133.28   \n",
       "3      170091954176    1095713937  ...     94.45    76.96       89.88   \n",
       "4      125714595840     799392549  ...    255.89   123.74      151.52   \n",
       "\n",
       "   200 Day Avg  Short Ratio  Short % of Float    Weight  Expected Return  \\\n",
       "0       225.30         2.62              0.01  0.337054         0.146168   \n",
       "1       232.97         3.11              0.03  0.337054         0.160654   \n",
       "2       143.86         7.75              0.05  0.161474         0.166024   \n",
       "3        87.92         5.08              0.02  0.090374         0.097615   \n",
       "4       173.39         2.58              0.02  0.074043         0.142597   \n",
       "\n",
       "   Standard Deviation  Sharpe Ratio  \n",
       "0            0.203685      0.717616  \n",
       "1            0.265561      0.604961  \n",
       "2            0.375845      0.441734  \n",
       "3            0.219272      0.445177  \n",
       "4            0.413261      0.345053  \n",
       "\n",
       "[5 rows x 58 columns]"
      ]
     },
     "metadata": {},
     "output_type": "display_data"
    }
   ],
   "source": [
    "portfolio_df = pd.read_excel(output_file, sheet_name=\"long_term\")   \n",
    "portfolio_tickers = portfolio_df[\"Ticker\"].tolist()\n",
    "# portfolio_df[\"Weight\"] = portfolio_df['Weight'].str.rstrip('%').astype(float) / 100\n",
    "portfolio_df[\"P/E (trailing)\"] = pd.to_numeric(portfolio_df[\"P/E (trailing)\"], errors=\"coerce\")\n",
    "\n",
    "print(portfolio_tickers)\n",
    "display(portfolio_df)"
   ]
  },
  {
   "cell_type": "markdown",
   "id": "bdc9579a",
   "metadata": {},
   "source": [
    "### Step 5: Benchmark Sector Screening"
   ]
  },
  {
   "cell_type": "markdown",
   "id": "8afc63ee",
   "metadata": {},
   "source": [
    "#### Filter Sectors by Portfolio"
   ]
  },
  {
   "cell_type": "code",
   "execution_count": 7,
   "id": "fcc09a94",
   "metadata": {
    "execution": {
     "iopub.execute_input": "2025-06-02T13:28:30.946684Z",
     "iopub.status.busy": "2025-06-02T13:28:30.946200Z",
     "iopub.status.idle": "2025-06-02T13:28:30.961848Z",
     "shell.execute_reply": "2025-06-02T13:28:30.961075Z"
    }
   },
   "outputs": [
    {
     "name": "stdout",
     "output_type": "stream",
     "text": [
      "Number of benchmarks left: 281\n"
     ]
    },
    {
     "data": {
      "application/vnd.microsoft.datawrangler.viewer.v0+json": {
       "columns": [
        {
         "name": "index",
         "rawType": "int64",
         "type": "integer"
        },
        {
         "name": "Symbol",
         "rawType": "object",
         "type": "string"
        },
        {
         "name": "Name",
         "rawType": "object",
         "type": "string"
        },
        {
         "name": "Sectors",
         "rawType": "object",
         "type": "unknown"
        }
       ],
       "ref": "19e58980-a994-403a-9973-0c5ed61efbaf",
       "rows": [
        [
         "0",
         "AADR",
         "AdvisorShares Dorsey Wright ADR ETF",
         "{'realestate': 0.0, 'consumer_cyclical': 0.1182, 'basic_materials': 0.0425, 'consumer_defensive': 0.0, 'technology': 0.16479999, 'communication_services': 0.089499995, 'financial_services': 0.33900002, 'utilities': 0.033299997, 'industrials': 0.1005, 'energy': 0.0334, 'healthcare': 0.0788}"
        ],
        [
         "1",
         "ACWI",
         "iShares MSCI ACWI ETF",
         "{'realestate': 0.0216, 'consumer_cyclical': 0.1039, 'basic_materials': 0.0346, 'consumer_defensive': 0.0641, 'technology': 0.2491, 'communication_services': 0.084, 'financial_services': 0.1752, 'utilities': 0.0269, 'industrials': 0.1021, 'energy': 0.0375, 'healthcare': 0.1012}"
        ],
        [
         "2",
         "ADME",
         "Aptus Drawdown Managed Equity ETF",
         "{'realestate': 0.0222, 'consumer_cyclical': 0.1022, 'basic_materials': 0.0222, 'consumer_defensive': 0.0608, 'technology': 0.3147, 'communication_services': 0.091800004, 'financial_services': 0.1384, 'utilities': 0.0254, 'industrials': 0.0746, 'energy': 0.0357, 'healthcare': 0.111899994}"
        ],
        [
         "3",
         "AOA",
         "iShares Core 80/20 Aggressive Allocation ETF",
         "{'realestate': 0.0279, 'consumer_cyclical': 0.106000006, 'basic_materials': 0.039300002, 'consumer_defensive': 0.0616, 'technology': 0.2305, 'communication_services': 0.0776, 'financial_services': 0.1762, 'utilities': 0.0278, 'industrials': 0.1101, 'energy': 0.0417, 'healthcare': 0.1012}"
        ],
        [
         "4",
         "AOK",
         "iShares Core 30/70 Conservative Allocation ETF",
         "{'realestate': 0.027999999, 'consumer_cyclical': 0.1066, 'basic_materials': 0.038399998, 'consumer_defensive': 0.0633, 'technology': 0.2353, 'communication_services': 0.078600004, 'financial_services': 0.1749, 'utilities': 0.0277, 'industrials': 0.1105, 'energy': 0.038, 'healthcare': 0.0988}"
        ]
       ],
       "shape": {
        "columns": 3,
        "rows": 5
       }
      },
      "text/html": [
       "<div>\n",
       "<style scoped>\n",
       "    .dataframe tbody tr th:only-of-type {\n",
       "        vertical-align: middle;\n",
       "    }\n",
       "\n",
       "    .dataframe tbody tr th {\n",
       "        vertical-align: top;\n",
       "    }\n",
       "\n",
       "    .dataframe thead th {\n",
       "        text-align: right;\n",
       "    }\n",
       "</style>\n",
       "<table border=\"1\" class=\"dataframe\">\n",
       "  <thead>\n",
       "    <tr style=\"text-align: right;\">\n",
       "      <th></th>\n",
       "      <th>Symbol</th>\n",
       "      <th>Name</th>\n",
       "      <th>Sectors</th>\n",
       "    </tr>\n",
       "  </thead>\n",
       "  <tbody>\n",
       "    <tr>\n",
       "      <th>0</th>\n",
       "      <td>AADR</td>\n",
       "      <td>AdvisorShares Dorsey Wright ADR ETF</td>\n",
       "      <td>{'realestate': 0.0, 'consumer_cyclical': 0.118...</td>\n",
       "    </tr>\n",
       "    <tr>\n",
       "      <th>1</th>\n",
       "      <td>ACWI</td>\n",
       "      <td>iShares MSCI ACWI ETF</td>\n",
       "      <td>{'realestate': 0.0216, 'consumer_cyclical': 0....</td>\n",
       "    </tr>\n",
       "    <tr>\n",
       "      <th>2</th>\n",
       "      <td>ADME</td>\n",
       "      <td>Aptus Drawdown Managed Equity ETF</td>\n",
       "      <td>{'realestate': 0.0222, 'consumer_cyclical': 0....</td>\n",
       "    </tr>\n",
       "    <tr>\n",
       "      <th>3</th>\n",
       "      <td>AOA</td>\n",
       "      <td>iShares Core 80/20 Aggressive Allocation ETF</td>\n",
       "      <td>{'realestate': 0.0279, 'consumer_cyclical': 0....</td>\n",
       "    </tr>\n",
       "    <tr>\n",
       "      <th>4</th>\n",
       "      <td>AOK</td>\n",
       "      <td>iShares Core 30/70 Conservative Allocation ETF</td>\n",
       "      <td>{'realestate': 0.027999999, 'consumer_cyclical...</td>\n",
       "    </tr>\n",
       "  </tbody>\n",
       "</table>\n",
       "</div>"
      ],
      "text/plain": [
       "  Symbol                                            Name  \\\n",
       "0   AADR             AdvisorShares Dorsey Wright ADR ETF   \n",
       "1   ACWI                           iShares MSCI ACWI ETF   \n",
       "2   ADME               Aptus Drawdown Managed Equity ETF   \n",
       "3    AOA    iShares Core 80/20 Aggressive Allocation ETF   \n",
       "4    AOK  iShares Core 30/70 Conservative Allocation ETF   \n",
       "\n",
       "                                             Sectors  \n",
       "0  {'realestate': 0.0, 'consumer_cyclical': 0.118...  \n",
       "1  {'realestate': 0.0216, 'consumer_cyclical': 0....  \n",
       "2  {'realestate': 0.0222, 'consumer_cyclical': 0....  \n",
       "3  {'realestate': 0.0279, 'consumer_cyclical': 0....  \n",
       "4  {'realestate': 0.027999999, 'consumer_cyclical...  "
      ]
     },
     "metadata": {},
     "output_type": "display_data"
    }
   ],
   "source": [
    "# Sort portfolio sectors by weight (descending)\n",
    "portfolio_sector_weights = (\n",
    "    portfolio_df.groupby('Sector')['Weight'].sum()\n",
    "    .sort_values(ascending=False)\n",
    ")\n",
    "ordered_portfolio_sectors = [sector.strip() for sector in portfolio_sector_weights.index]\n",
    "normalized_ordered_portfolio_sectors = [sector.strip().lower().replace(\" \", \"_\") for sector in ordered_portfolio_sectors]\n",
    "\n",
    "# Filter directly with lambda expression instead of using a separate function\n",
    "filtered_sectors_df = sectors_df[\n",
    "    sectors_df['Sectors'].apply(\n",
    "        lambda sector_dict: isinstance(sector_dict, dict) and all(\n",
    "            sector in sector_dict and sector_dict[sector] > 0 \n",
    "            for sector in normalized_ordered_portfolio_sectors\n",
    "        )\n",
    "    )\n",
    "].reset_index(drop=True)\n",
    "\n",
    "# Display Outputs\n",
    "tickers = filtered_sectors_df[\"Symbol\"].tolist()\n",
    "print(\"Number of benchmarks left:\", len(tickers))\n",
    "display(filtered_sectors_df.head())"
   ]
  },
  {
   "cell_type": "markdown",
   "id": "c178af0c",
   "metadata": {},
   "source": [
    "#### Import ETF Fundamental Data"
   ]
  },
  {
   "cell_type": "code",
   "execution_count": 8,
   "id": "b483eba0",
   "metadata": {
    "execution": {
     "iopub.execute_input": "2025-06-02T13:28:30.966081Z",
     "iopub.status.busy": "2025-06-02T13:28:30.964923Z",
     "iopub.status.idle": "2025-06-02T13:28:31.003315Z",
     "shell.execute_reply": "2025-06-02T13:28:31.001732Z"
    }
   },
   "outputs": [
    {
     "data": {
      "application/vnd.microsoft.datawrangler.viewer.v0+json": {
       "columns": [
        {
         "name": "index",
         "rawType": "int64",
         "type": "integer"
        },
        {
         "name": "Symbol",
         "rawType": "object",
         "type": "string"
        },
        {
         "name": "Name_x",
         "rawType": "object",
         "type": "string"
        },
        {
         "name": "Sectors",
         "rawType": "object",
         "type": "unknown"
        },
        {
         "name": "Date",
         "rawType": "object",
         "type": "string"
        },
        {
         "name": "Name_y",
         "rawType": "object",
         "type": "string"
        },
        {
         "name": "Sector",
         "rawType": "object",
         "type": "string"
        },
        {
         "name": "Industry",
         "rawType": "object",
         "type": "string"
        },
        {
         "name": "Country",
         "rawType": "object",
         "type": "string"
        },
        {
         "name": "Website",
         "rawType": "object",
         "type": "string"
        },
        {
         "name": "Market Cap",
         "rawType": "float64",
         "type": "float"
        },
        {
         "name": "Shares Outstanding",
         "rawType": "float64",
         "type": "float"
        },
        {
         "name": "P/E (trailing)",
         "rawType": "float64",
         "type": "float"
        },
        {
         "name": "P/E (forward)",
         "rawType": "float64",
         "type": "float"
        },
        {
         "name": "P/B",
         "rawType": "float64",
         "type": "float"
        },
        {
         "name": "Book Value",
         "rawType": "float64",
         "type": "float"
        },
        {
         "name": "Dividend Yield (%)",
         "rawType": "float64",
         "type": "float"
        },
        {
         "name": "Dividend Rate (%)",
         "rawType": "float64",
         "type": "float"
        },
        {
         "name": "5Y Avg Dividend Yield (%)",
         "rawType": "float64",
         "type": "float"
        },
        {
         "name": "Payout Ratio (%)",
         "rawType": "float64",
         "type": "float"
        },
        {
         "name": "Price",
         "rawType": "float64",
         "type": "float"
        },
        {
         "name": "Analyst Rating",
         "rawType": "object",
         "type": "string"
        },
        {
         "name": "52W High",
         "rawType": "float64",
         "type": "float"
        },
        {
         "name": "52W Low",
         "rawType": "float64",
         "type": "float"
        },
        {
         "name": "50 Day Avg",
         "rawType": "float64",
         "type": "float"
        },
        {
         "name": "200 Day Avg",
         "rawType": "float64",
         "type": "float"
        },
        {
         "name": "Sector Weightings",
         "rawType": "object",
         "type": "string"
        }
       ],
       "ref": "39fa035d-7bb1-4f1d-b752-a8f13093b294",
       "rows": [
        [
         "0",
         "AADR",
         "AdvisorShares Dorsey Wright ADR ETF",
         "{'realestate': 0.0, 'consumer_cyclical': 0.1182, 'basic_materials': 0.0425, 'consumer_defensive': 0.0, 'technology': 0.16479999, 'communication_services': 0.089499995, 'financial_services': 0.33900002, 'utilities': 0.033299997, 'industrials': 0.1005, 'energy': 0.0334, 'healthcare': 0.0788}",
         "2025-06-02",
         "AdvisorShares Dorsey Wright ADR ETF",
         "Unknown",
         "Unknown",
         "Unknown",
         "Unknown",
         "0.0",
         null,
         "14.95",
         null,
         null,
         null,
         "0.0123",
         "0.0",
         "0.0",
         "0.0",
         "77.58",
         "Unknown",
         "81.17",
         "54.57",
         "74.66",
         "70.09",
         "{\"realestate\": 0.0, \"consumer_cyclical\": 0.1182, \"basic_materials\": 0.0425, \"consumer_defensive\": 0.0, \"technology\": 0.16479999, \"communication_services\": 0.089499995, \"financial_services\": 0.33900002, \"utilities\": 0.033299997, \"industrials\": 0.1005, \"energy\": 0.0334, \"healthcare\": 0.0788}"
        ],
        [
         "1",
         "ACWI",
         "iShares MSCI ACWI ETF",
         "{'realestate': 0.0216, 'consumer_cyclical': 0.1039, 'basic_materials': 0.0346, 'consumer_defensive': 0.0641, 'technology': 0.2491, 'communication_services': 0.084, 'financial_services': 0.1752, 'utilities': 0.0269, 'industrials': 0.1021, 'energy': 0.0375, 'healthcare': 0.1012}",
         "2025-06-02",
         "iShares MSCI ACWI ETF",
         "Unknown",
         "Unknown",
         "Unknown",
         "Unknown",
         "0.0",
         null,
         "21.39",
         null,
         null,
         null,
         "0.0171",
         "0.0",
         "0.0",
         "0.0",
         "123.65",
         "Unknown",
         "124.54",
         "101.25",
         "117.25",
         "118.68",
         "{\"realestate\": 0.0216, \"consumer_cyclical\": 0.1039, \"basic_materials\": 0.0346, \"consumer_defensive\": 0.0641, \"technology\": 0.2491, \"communication_services\": 0.084, \"financial_services\": 0.1752, \"utilities\": 0.0269, \"industrials\": 0.1021, \"energy\": 0.0375, \"healthcare\": 0.1012}"
        ],
        [
         "2",
         "ADME",
         "Aptus Drawdown Managed Equity ETF",
         "{'realestate': 0.0222, 'consumer_cyclical': 0.1022, 'basic_materials': 0.0222, 'consumer_defensive': 0.0608, 'technology': 0.3147, 'communication_services': 0.091800004, 'financial_services': 0.1384, 'utilities': 0.0254, 'industrials': 0.0746, 'energy': 0.0357, 'healthcare': 0.111899994}",
         "2025-05-02",
         "Aptus Drawdown Managed Equity ETF",
         "Unknown",
         "Unknown",
         "Unknown",
         "Unknown",
         "0.0",
         null,
         "25.43",
         null,
         null,
         null,
         "0.0047",
         "0.0",
         "0.0",
         "0.0",
         "44.46",
         "Unknown",
         "48.56",
         "39.85",
         "44.34",
         "45.9",
         "{\"realestate\": 0.0222, \"consumer_cyclical\": 0.1022, \"basic_materials\": 0.0222, \"consumer_defensive\": 0.0608, \"technology\": 0.3147, \"communication_services\": 0.091800004, \"financial_services\": 0.1384, \"utilities\": 0.0254, \"industrials\": 0.0746, \"energy\": 0.0357, \"healthcare\": 0.111899994}"
        ],
        [
         "3",
         "AOA",
         "iShares Core 80/20 Aggressive Allocation ETF",
         "{'realestate': 0.0279, 'consumer_cyclical': 0.106000006, 'basic_materials': 0.039300002, 'consumer_defensive': 0.0616, 'technology': 0.2305, 'communication_services': 0.0776, 'financial_services': 0.1762, 'utilities': 0.0278, 'industrials': 0.1101, 'energy': 0.0417, 'healthcare': 0.1012}",
         "2025-05-02",
         "iShares Core 80/20 Aggressive Allocation ETF",
         "Unknown",
         "Unknown",
         "Unknown",
         "Unknown",
         "0.0",
         null,
         "20.15",
         null,
         null,
         null,
         "0.023",
         "0.0",
         "0.0",
         "0.0",
         "77.74",
         "Unknown",
         "80.2",
         "68.45",
         "76.13",
         "77.15",
         "{\"realestate\": 0.0279, \"consumer_cyclical\": 0.106000006, \"basic_materials\": 0.039300002, \"consumer_defensive\": 0.0616, \"technology\": 0.2305, \"communication_services\": 0.0776, \"financial_services\": 0.1762, \"utilities\": 0.0278, \"industrials\": 0.1101, \"energy\": 0.0417, \"healthcare\": 0.1012}"
        ],
        [
         "4",
         "AOK",
         "iShares Core 30/70 Conservative Allocation ETF",
         "{'realestate': 0.027999999, 'consumer_cyclical': 0.1066, 'basic_materials': 0.038399998, 'consumer_defensive': 0.0633, 'technology': 0.2353, 'communication_services': 0.078600004, 'financial_services': 0.1749, 'utilities': 0.0277, 'industrials': 0.1105, 'energy': 0.038, 'healthcare': 0.0988}",
         "2025-06-02",
         "iShares Core 30/70 Conservative Allocation ETF",
         "Unknown",
         "Unknown",
         "Unknown",
         "Unknown",
         "0.0",
         null,
         "19.91",
         null,
         null,
         null,
         "0.033",
         "0.0",
         "0.0",
         "0.0",
         "38.21",
         "Unknown",
         "38.77",
         "35.79",
         "37.53",
         "37.84",
         "{\"realestate\": 0.027999999, \"consumer_cyclical\": 0.1066, \"basic_materials\": 0.038399998, \"consumer_defensive\": 0.0633, \"technology\": 0.2353, \"communication_services\": 0.078600004, \"financial_services\": 0.1749, \"utilities\": 0.0277, \"industrials\": 0.1105, \"energy\": 0.038, \"healthcare\": 0.0988}"
        ]
       ],
       "shape": {
        "columns": 26,
        "rows": 5
       }
      },
      "text/html": [
       "<div>\n",
       "<style scoped>\n",
       "    .dataframe tbody tr th:only-of-type {\n",
       "        vertical-align: middle;\n",
       "    }\n",
       "\n",
       "    .dataframe tbody tr th {\n",
       "        vertical-align: top;\n",
       "    }\n",
       "\n",
       "    .dataframe thead th {\n",
       "        text-align: right;\n",
       "    }\n",
       "</style>\n",
       "<table border=\"1\" class=\"dataframe\">\n",
       "  <thead>\n",
       "    <tr style=\"text-align: right;\">\n",
       "      <th></th>\n",
       "      <th>Symbol</th>\n",
       "      <th>Name_x</th>\n",
       "      <th>Sectors</th>\n",
       "      <th>Date</th>\n",
       "      <th>Name_y</th>\n",
       "      <th>Sector</th>\n",
       "      <th>Industry</th>\n",
       "      <th>Country</th>\n",
       "      <th>Website</th>\n",
       "      <th>Market Cap</th>\n",
       "      <th>...</th>\n",
       "      <th>Dividend Rate (%)</th>\n",
       "      <th>5Y Avg Dividend Yield (%)</th>\n",
       "      <th>Payout Ratio (%)</th>\n",
       "      <th>Price</th>\n",
       "      <th>Analyst Rating</th>\n",
       "      <th>52W High</th>\n",
       "      <th>52W Low</th>\n",
       "      <th>50 Day Avg</th>\n",
       "      <th>200 Day Avg</th>\n",
       "      <th>Sector Weightings</th>\n",
       "    </tr>\n",
       "  </thead>\n",
       "  <tbody>\n",
       "    <tr>\n",
       "      <th>0</th>\n",
       "      <td>AADR</td>\n",
       "      <td>AdvisorShares Dorsey Wright ADR ETF</td>\n",
       "      <td>{'realestate': 0.0, 'consumer_cyclical': 0.118...</td>\n",
       "      <td>2025-06-02</td>\n",
       "      <td>AdvisorShares Dorsey Wright ADR ETF</td>\n",
       "      <td>Unknown</td>\n",
       "      <td>Unknown</td>\n",
       "      <td>Unknown</td>\n",
       "      <td>Unknown</td>\n",
       "      <td>0.0</td>\n",
       "      <td>...</td>\n",
       "      <td>0.0</td>\n",
       "      <td>0.0</td>\n",
       "      <td>0.0</td>\n",
       "      <td>77.58</td>\n",
       "      <td>Unknown</td>\n",
       "      <td>81.17</td>\n",
       "      <td>54.57</td>\n",
       "      <td>74.66</td>\n",
       "      <td>70.09</td>\n",
       "      <td>{\"realestate\": 0.0, \"consumer_cyclical\": 0.118...</td>\n",
       "    </tr>\n",
       "    <tr>\n",
       "      <th>1</th>\n",
       "      <td>ACWI</td>\n",
       "      <td>iShares MSCI ACWI ETF</td>\n",
       "      <td>{'realestate': 0.0216, 'consumer_cyclical': 0....</td>\n",
       "      <td>2025-06-02</td>\n",
       "      <td>iShares MSCI ACWI ETF</td>\n",
       "      <td>Unknown</td>\n",
       "      <td>Unknown</td>\n",
       "      <td>Unknown</td>\n",
       "      <td>Unknown</td>\n",
       "      <td>0.0</td>\n",
       "      <td>...</td>\n",
       "      <td>0.0</td>\n",
       "      <td>0.0</td>\n",
       "      <td>0.0</td>\n",
       "      <td>123.65</td>\n",
       "      <td>Unknown</td>\n",
       "      <td>124.54</td>\n",
       "      <td>101.25</td>\n",
       "      <td>117.25</td>\n",
       "      <td>118.68</td>\n",
       "      <td>{\"realestate\": 0.0216, \"consumer_cyclical\": 0....</td>\n",
       "    </tr>\n",
       "    <tr>\n",
       "      <th>2</th>\n",
       "      <td>ADME</td>\n",
       "      <td>Aptus Drawdown Managed Equity ETF</td>\n",
       "      <td>{'realestate': 0.0222, 'consumer_cyclical': 0....</td>\n",
       "      <td>2025-05-02</td>\n",
       "      <td>Aptus Drawdown Managed Equity ETF</td>\n",
       "      <td>Unknown</td>\n",
       "      <td>Unknown</td>\n",
       "      <td>Unknown</td>\n",
       "      <td>Unknown</td>\n",
       "      <td>0.0</td>\n",
       "      <td>...</td>\n",
       "      <td>0.0</td>\n",
       "      <td>0.0</td>\n",
       "      <td>0.0</td>\n",
       "      <td>44.46</td>\n",
       "      <td>Unknown</td>\n",
       "      <td>48.56</td>\n",
       "      <td>39.85</td>\n",
       "      <td>44.34</td>\n",
       "      <td>45.90</td>\n",
       "      <td>{\"realestate\": 0.0222, \"consumer_cyclical\": 0....</td>\n",
       "    </tr>\n",
       "    <tr>\n",
       "      <th>3</th>\n",
       "      <td>AOA</td>\n",
       "      <td>iShares Core 80/20 Aggressive Allocation ETF</td>\n",
       "      <td>{'realestate': 0.0279, 'consumer_cyclical': 0....</td>\n",
       "      <td>2025-05-02</td>\n",
       "      <td>iShares Core 80/20 Aggressive Allocation ETF</td>\n",
       "      <td>Unknown</td>\n",
       "      <td>Unknown</td>\n",
       "      <td>Unknown</td>\n",
       "      <td>Unknown</td>\n",
       "      <td>0.0</td>\n",
       "      <td>...</td>\n",
       "      <td>0.0</td>\n",
       "      <td>0.0</td>\n",
       "      <td>0.0</td>\n",
       "      <td>77.74</td>\n",
       "      <td>Unknown</td>\n",
       "      <td>80.20</td>\n",
       "      <td>68.45</td>\n",
       "      <td>76.13</td>\n",
       "      <td>77.15</td>\n",
       "      <td>{\"realestate\": 0.0279, \"consumer_cyclical\": 0....</td>\n",
       "    </tr>\n",
       "    <tr>\n",
       "      <th>4</th>\n",
       "      <td>AOK</td>\n",
       "      <td>iShares Core 30/70 Conservative Allocation ETF</td>\n",
       "      <td>{'realestate': 0.027999999, 'consumer_cyclical...</td>\n",
       "      <td>2025-06-02</td>\n",
       "      <td>iShares Core 30/70 Conservative Allocation ETF</td>\n",
       "      <td>Unknown</td>\n",
       "      <td>Unknown</td>\n",
       "      <td>Unknown</td>\n",
       "      <td>Unknown</td>\n",
       "      <td>0.0</td>\n",
       "      <td>...</td>\n",
       "      <td>0.0</td>\n",
       "      <td>0.0</td>\n",
       "      <td>0.0</td>\n",
       "      <td>38.21</td>\n",
       "      <td>Unknown</td>\n",
       "      <td>38.77</td>\n",
       "      <td>35.79</td>\n",
       "      <td>37.53</td>\n",
       "      <td>37.84</td>\n",
       "      <td>{\"realestate\": 0.027999999, \"consumer_cyclical...</td>\n",
       "    </tr>\n",
       "  </tbody>\n",
       "</table>\n",
       "<p>5 rows × 26 columns</p>\n",
       "</div>"
      ],
      "text/plain": [
       "  Symbol                                          Name_x  \\\n",
       "0   AADR             AdvisorShares Dorsey Wright ADR ETF   \n",
       "1   ACWI                           iShares MSCI ACWI ETF   \n",
       "2   ADME               Aptus Drawdown Managed Equity ETF   \n",
       "3    AOA    iShares Core 80/20 Aggressive Allocation ETF   \n",
       "4    AOK  iShares Core 30/70 Conservative Allocation ETF   \n",
       "\n",
       "                                             Sectors        Date  \\\n",
       "0  {'realestate': 0.0, 'consumer_cyclical': 0.118...  2025-06-02   \n",
       "1  {'realestate': 0.0216, 'consumer_cyclical': 0....  2025-06-02   \n",
       "2  {'realestate': 0.0222, 'consumer_cyclical': 0....  2025-05-02   \n",
       "3  {'realestate': 0.0279, 'consumer_cyclical': 0....  2025-05-02   \n",
       "4  {'realestate': 0.027999999, 'consumer_cyclical...  2025-06-02   \n",
       "\n",
       "                                           Name_y   Sector Industry  Country  \\\n",
       "0             AdvisorShares Dorsey Wright ADR ETF  Unknown  Unknown  Unknown   \n",
       "1                           iShares MSCI ACWI ETF  Unknown  Unknown  Unknown   \n",
       "2               Aptus Drawdown Managed Equity ETF  Unknown  Unknown  Unknown   \n",
       "3    iShares Core 80/20 Aggressive Allocation ETF  Unknown  Unknown  Unknown   \n",
       "4  iShares Core 30/70 Conservative Allocation ETF  Unknown  Unknown  Unknown   \n",
       "\n",
       "   Website  Market Cap  ...  Dividend Rate (%)  5Y Avg Dividend Yield (%)  \\\n",
       "0  Unknown         0.0  ...                0.0                        0.0   \n",
       "1  Unknown         0.0  ...                0.0                        0.0   \n",
       "2  Unknown         0.0  ...                0.0                        0.0   \n",
       "3  Unknown         0.0  ...                0.0                        0.0   \n",
       "4  Unknown         0.0  ...                0.0                        0.0   \n",
       "\n",
       "   Payout Ratio (%)   Price  Analyst Rating  52W High  52W Low  50 Day Avg  \\\n",
       "0               0.0   77.58         Unknown     81.17    54.57       74.66   \n",
       "1               0.0  123.65         Unknown    124.54   101.25      117.25   \n",
       "2               0.0   44.46         Unknown     48.56    39.85       44.34   \n",
       "3               0.0   77.74         Unknown     80.20    68.45       76.13   \n",
       "4               0.0   38.21         Unknown     38.77    35.79       37.53   \n",
       "\n",
       "   200 Day Avg                                  Sector Weightings  \n",
       "0        70.09  {\"realestate\": 0.0, \"consumer_cyclical\": 0.118...  \n",
       "1       118.68  {\"realestate\": 0.0216, \"consumer_cyclical\": 0....  \n",
       "2        45.90  {\"realestate\": 0.0222, \"consumer_cyclical\": 0....  \n",
       "3        77.15  {\"realestate\": 0.0279, \"consumer_cyclical\": 0....  \n",
       "4        37.84  {\"realestate\": 0.027999999, \"consumer_cyclical...  \n",
       "\n",
       "[5 rows x 26 columns]"
      ]
     },
     "metadata": {},
     "output_type": "display_data"
    }
   ],
   "source": [
    "# fundamentals_df = fetch_fundamentals(tickers) # Download fundamentals data for the tickers\n",
    "fundamentals_df = pd.read_csv(\"data/fundamentals_benchmark.csv\",index_col=\"Ticker\").query(\"Ticker in @tickers\") # Import the fundamentals data from a CSV file\n",
    "\n",
    "# Set the index name\n",
    "fundamentals_df.index.name = \"Symbol\"\n",
    "\n",
    "# Move the index into a column\n",
    "fundamentals_df = fundamentals_df.reset_index()\n",
    "\n",
    "# Perform the merge\n",
    "merged_df = pd.merge(filtered_sectors_df, fundamentals_df, on='Symbol', how='inner').dropna(how='all', axis=1)\n",
    "\n",
    "# Display the merged DataFrame\n",
    "display(merged_df.head())"
   ]
  },
  {
   "cell_type": "markdown",
   "id": "f0672a0d",
   "metadata": {},
   "source": [
    "#### Filter for the P/E (Trailling) Similar to Portfolio Weighted Average P/E"
   ]
  },
  {
   "cell_type": "code",
   "execution_count": 9,
   "id": "8e97edd6",
   "metadata": {
    "execution": {
     "iopub.execute_input": "2025-06-02T13:28:31.006793Z",
     "iopub.status.busy": "2025-06-02T13:28:31.006305Z",
     "iopub.status.idle": "2025-06-02T13:28:31.031205Z",
     "shell.execute_reply": "2025-06-02T13:28:31.030070Z"
    }
   },
   "outputs": [
    {
     "name": "stdout",
     "output_type": "stream",
     "text": [
      "Portfolio Weighted Average P/E (trailing): 24.681381072312035\n",
      "Lower Bound: 19.74510485784963\n",
      "Upper Bound: 29.617657286774442\n",
      "Number of benchmarks after filtering by P/E (trailing): 111\n"
     ]
    },
    {
     "data": {
      "application/vnd.microsoft.datawrangler.viewer.v0+json": {
       "columns": [
        {
         "name": "index",
         "rawType": "int64",
         "type": "integer"
        },
        {
         "name": "Symbol",
         "rawType": "object",
         "type": "string"
        },
        {
         "name": "Name_x",
         "rawType": "object",
         "type": "string"
        },
        {
         "name": "Sectors",
         "rawType": "object",
         "type": "unknown"
        },
        {
         "name": "Date",
         "rawType": "object",
         "type": "string"
        },
        {
         "name": "Name_y",
         "rawType": "object",
         "type": "string"
        },
        {
         "name": "Sector",
         "rawType": "object",
         "type": "string"
        },
        {
         "name": "Industry",
         "rawType": "object",
         "type": "string"
        },
        {
         "name": "Country",
         "rawType": "object",
         "type": "string"
        },
        {
         "name": "Website",
         "rawType": "object",
         "type": "string"
        },
        {
         "name": "Market Cap",
         "rawType": "float64",
         "type": "float"
        },
        {
         "name": "Shares Outstanding",
         "rawType": "float64",
         "type": "float"
        },
        {
         "name": "P/E (trailing)",
         "rawType": "float64",
         "type": "float"
        },
        {
         "name": "P/E (forward)",
         "rawType": "float64",
         "type": "float"
        },
        {
         "name": "P/B",
         "rawType": "float64",
         "type": "float"
        },
        {
         "name": "Book Value",
         "rawType": "float64",
         "type": "float"
        },
        {
         "name": "Dividend Yield (%)",
         "rawType": "float64",
         "type": "float"
        },
        {
         "name": "Dividend Rate (%)",
         "rawType": "float64",
         "type": "float"
        },
        {
         "name": "5Y Avg Dividend Yield (%)",
         "rawType": "float64",
         "type": "float"
        },
        {
         "name": "Payout Ratio (%)",
         "rawType": "float64",
         "type": "float"
        },
        {
         "name": "Price",
         "rawType": "float64",
         "type": "float"
        },
        {
         "name": "Analyst Rating",
         "rawType": "object",
         "type": "string"
        },
        {
         "name": "52W High",
         "rawType": "float64",
         "type": "float"
        },
        {
         "name": "52W Low",
         "rawType": "float64",
         "type": "float"
        },
        {
         "name": "50 Day Avg",
         "rawType": "float64",
         "type": "float"
        },
        {
         "name": "200 Day Avg",
         "rawType": "float64",
         "type": "float"
        },
        {
         "name": "Sector Weightings",
         "rawType": "object",
         "type": "string"
        }
       ],
       "ref": "f9e2c9dc-4950-44aa-bd58-849a4811d2f5",
       "rows": [
        [
         "1",
         "ACWI",
         "iShares MSCI ACWI ETF",
         "{'realestate': 0.0216, 'consumer_cyclical': 0.1039, 'basic_materials': 0.0346, 'consumer_defensive': 0.0641, 'technology': 0.2491, 'communication_services': 0.084, 'financial_services': 0.1752, 'utilities': 0.0269, 'industrials': 0.1021, 'energy': 0.0375, 'healthcare': 0.1012}",
         "2025-06-02",
         "iShares MSCI ACWI ETF",
         "Unknown",
         "Unknown",
         "Unknown",
         "Unknown",
         "0.0",
         null,
         "21.39",
         null,
         null,
         null,
         "0.0171",
         "0.0",
         "0.0",
         "0.0",
         "123.65",
         "Unknown",
         "124.54",
         "101.25",
         "117.25",
         "118.68",
         "{\"realestate\": 0.0216, \"consumer_cyclical\": 0.1039, \"basic_materials\": 0.0346, \"consumer_defensive\": 0.0641, \"technology\": 0.2491, \"communication_services\": 0.084, \"financial_services\": 0.1752, \"utilities\": 0.0269, \"industrials\": 0.1021, \"energy\": 0.0375, \"healthcare\": 0.1012}"
        ],
        [
         "2",
         "ADME",
         "Aptus Drawdown Managed Equity ETF",
         "{'realestate': 0.0222, 'consumer_cyclical': 0.1022, 'basic_materials': 0.0222, 'consumer_defensive': 0.0608, 'technology': 0.3147, 'communication_services': 0.091800004, 'financial_services': 0.1384, 'utilities': 0.0254, 'industrials': 0.0746, 'energy': 0.0357, 'healthcare': 0.111899994}",
         "2025-05-02",
         "Aptus Drawdown Managed Equity ETF",
         "Unknown",
         "Unknown",
         "Unknown",
         "Unknown",
         "0.0",
         null,
         "25.43",
         null,
         null,
         null,
         "0.0047",
         "0.0",
         "0.0",
         "0.0",
         "44.46",
         "Unknown",
         "48.56",
         "39.85",
         "44.34",
         "45.9",
         "{\"realestate\": 0.0222, \"consumer_cyclical\": 0.1022, \"basic_materials\": 0.0222, \"consumer_defensive\": 0.0608, \"technology\": 0.3147, \"communication_services\": 0.091800004, \"financial_services\": 0.1384, \"utilities\": 0.0254, \"industrials\": 0.0746, \"energy\": 0.0357, \"healthcare\": 0.111899994}"
        ],
        [
         "3",
         "AOA",
         "iShares Core 80/20 Aggressive Allocation ETF",
         "{'realestate': 0.0279, 'consumer_cyclical': 0.106000006, 'basic_materials': 0.039300002, 'consumer_defensive': 0.0616, 'technology': 0.2305, 'communication_services': 0.0776, 'financial_services': 0.1762, 'utilities': 0.0278, 'industrials': 0.1101, 'energy': 0.0417, 'healthcare': 0.1012}",
         "2025-05-02",
         "iShares Core 80/20 Aggressive Allocation ETF",
         "Unknown",
         "Unknown",
         "Unknown",
         "Unknown",
         "0.0",
         null,
         "20.15",
         null,
         null,
         null,
         "0.023",
         "0.0",
         "0.0",
         "0.0",
         "77.74",
         "Unknown",
         "80.2",
         "68.45",
         "76.13",
         "77.15",
         "{\"realestate\": 0.0279, \"consumer_cyclical\": 0.106000006, \"basic_materials\": 0.039300002, \"consumer_defensive\": 0.0616, \"technology\": 0.2305, \"communication_services\": 0.0776, \"financial_services\": 0.1762, \"utilities\": 0.0278, \"industrials\": 0.1101, \"energy\": 0.0417, \"healthcare\": 0.1012}"
        ],
        [
         "4",
         "AOK",
         "iShares Core 30/70 Conservative Allocation ETF",
         "{'realestate': 0.027999999, 'consumer_cyclical': 0.1066, 'basic_materials': 0.038399998, 'consumer_defensive': 0.0633, 'technology': 0.2353, 'communication_services': 0.078600004, 'financial_services': 0.1749, 'utilities': 0.0277, 'industrials': 0.1105, 'energy': 0.038, 'healthcare': 0.0988}",
         "2025-06-02",
         "iShares Core 30/70 Conservative Allocation ETF",
         "Unknown",
         "Unknown",
         "Unknown",
         "Unknown",
         "0.0",
         null,
         "19.91",
         null,
         null,
         null,
         "0.033",
         "0.0",
         "0.0",
         "0.0",
         "38.21",
         "Unknown",
         "38.77",
         "35.79",
         "37.53",
         "37.84",
         "{\"realestate\": 0.027999999, \"consumer_cyclical\": 0.1066, \"basic_materials\": 0.038399998, \"consumer_defensive\": 0.0633, \"technology\": 0.2353, \"communication_services\": 0.078600004, \"financial_services\": 0.1749, \"utilities\": 0.0277, \"industrials\": 0.1105, \"energy\": 0.038, \"healthcare\": 0.0988}"
        ],
        [
         "5",
         "AOM",
         "iShares Core 40/60 Moderate Allocation ETF",
         "{'realestate': 0.027999999, 'consumer_cyclical': 0.1066, 'basic_materials': 0.038399998, 'consumer_defensive': 0.0633, 'technology': 0.2353, 'communication_services': 0.078600004, 'financial_services': 0.1749, 'utilities': 0.0277, 'industrials': 0.1105, 'energy': 0.038, 'healthcare': 0.0988}",
         "2025-06-02",
         "iShares Core 40/60 Moderate Allocation ETF",
         "Unknown",
         "Unknown",
         "Unknown",
         "Unknown",
         "0.0",
         null,
         "20.07",
         null,
         null,
         null,
         "0.0313",
         "0.0",
         "0.0",
         "0.0",
         "44.78",
         "Unknown",
         "45.31",
         "41.2",
         "43.73",
         "44.12",
         "{\"realestate\": 0.027999999, \"consumer_cyclical\": 0.1066, \"basic_materials\": 0.038399998, \"consumer_defensive\": 0.0633, \"technology\": 0.2353, \"communication_services\": 0.078600004, \"financial_services\": 0.1749, \"utilities\": 0.0277, \"industrials\": 0.1105, \"energy\": 0.038, \"healthcare\": 0.0988}"
        ]
       ],
       "shape": {
        "columns": 26,
        "rows": 5
       }
      },
      "text/html": [
       "<div>\n",
       "<style scoped>\n",
       "    .dataframe tbody tr th:only-of-type {\n",
       "        vertical-align: middle;\n",
       "    }\n",
       "\n",
       "    .dataframe tbody tr th {\n",
       "        vertical-align: top;\n",
       "    }\n",
       "\n",
       "    .dataframe thead th {\n",
       "        text-align: right;\n",
       "    }\n",
       "</style>\n",
       "<table border=\"1\" class=\"dataframe\">\n",
       "  <thead>\n",
       "    <tr style=\"text-align: right;\">\n",
       "      <th></th>\n",
       "      <th>Symbol</th>\n",
       "      <th>Name_x</th>\n",
       "      <th>Sectors</th>\n",
       "      <th>Date</th>\n",
       "      <th>Name_y</th>\n",
       "      <th>Sector</th>\n",
       "      <th>Industry</th>\n",
       "      <th>Country</th>\n",
       "      <th>Website</th>\n",
       "      <th>Market Cap</th>\n",
       "      <th>...</th>\n",
       "      <th>Dividend Rate (%)</th>\n",
       "      <th>5Y Avg Dividend Yield (%)</th>\n",
       "      <th>Payout Ratio (%)</th>\n",
       "      <th>Price</th>\n",
       "      <th>Analyst Rating</th>\n",
       "      <th>52W High</th>\n",
       "      <th>52W Low</th>\n",
       "      <th>50 Day Avg</th>\n",
       "      <th>200 Day Avg</th>\n",
       "      <th>Sector Weightings</th>\n",
       "    </tr>\n",
       "  </thead>\n",
       "  <tbody>\n",
       "    <tr>\n",
       "      <th>1</th>\n",
       "      <td>ACWI</td>\n",
       "      <td>iShares MSCI ACWI ETF</td>\n",
       "      <td>{'realestate': 0.0216, 'consumer_cyclical': 0....</td>\n",
       "      <td>2025-06-02</td>\n",
       "      <td>iShares MSCI ACWI ETF</td>\n",
       "      <td>Unknown</td>\n",
       "      <td>Unknown</td>\n",
       "      <td>Unknown</td>\n",
       "      <td>Unknown</td>\n",
       "      <td>0.0</td>\n",
       "      <td>...</td>\n",
       "      <td>0.0</td>\n",
       "      <td>0.0</td>\n",
       "      <td>0.0</td>\n",
       "      <td>123.65</td>\n",
       "      <td>Unknown</td>\n",
       "      <td>124.54</td>\n",
       "      <td>101.25</td>\n",
       "      <td>117.25</td>\n",
       "      <td>118.68</td>\n",
       "      <td>{\"realestate\": 0.0216, \"consumer_cyclical\": 0....</td>\n",
       "    </tr>\n",
       "    <tr>\n",
       "      <th>2</th>\n",
       "      <td>ADME</td>\n",
       "      <td>Aptus Drawdown Managed Equity ETF</td>\n",
       "      <td>{'realestate': 0.0222, 'consumer_cyclical': 0....</td>\n",
       "      <td>2025-05-02</td>\n",
       "      <td>Aptus Drawdown Managed Equity ETF</td>\n",
       "      <td>Unknown</td>\n",
       "      <td>Unknown</td>\n",
       "      <td>Unknown</td>\n",
       "      <td>Unknown</td>\n",
       "      <td>0.0</td>\n",
       "      <td>...</td>\n",
       "      <td>0.0</td>\n",
       "      <td>0.0</td>\n",
       "      <td>0.0</td>\n",
       "      <td>44.46</td>\n",
       "      <td>Unknown</td>\n",
       "      <td>48.56</td>\n",
       "      <td>39.85</td>\n",
       "      <td>44.34</td>\n",
       "      <td>45.90</td>\n",
       "      <td>{\"realestate\": 0.0222, \"consumer_cyclical\": 0....</td>\n",
       "    </tr>\n",
       "    <tr>\n",
       "      <th>3</th>\n",
       "      <td>AOA</td>\n",
       "      <td>iShares Core 80/20 Aggressive Allocation ETF</td>\n",
       "      <td>{'realestate': 0.0279, 'consumer_cyclical': 0....</td>\n",
       "      <td>2025-05-02</td>\n",
       "      <td>iShares Core 80/20 Aggressive Allocation ETF</td>\n",
       "      <td>Unknown</td>\n",
       "      <td>Unknown</td>\n",
       "      <td>Unknown</td>\n",
       "      <td>Unknown</td>\n",
       "      <td>0.0</td>\n",
       "      <td>...</td>\n",
       "      <td>0.0</td>\n",
       "      <td>0.0</td>\n",
       "      <td>0.0</td>\n",
       "      <td>77.74</td>\n",
       "      <td>Unknown</td>\n",
       "      <td>80.20</td>\n",
       "      <td>68.45</td>\n",
       "      <td>76.13</td>\n",
       "      <td>77.15</td>\n",
       "      <td>{\"realestate\": 0.0279, \"consumer_cyclical\": 0....</td>\n",
       "    </tr>\n",
       "    <tr>\n",
       "      <th>4</th>\n",
       "      <td>AOK</td>\n",
       "      <td>iShares Core 30/70 Conservative Allocation ETF</td>\n",
       "      <td>{'realestate': 0.027999999, 'consumer_cyclical...</td>\n",
       "      <td>2025-06-02</td>\n",
       "      <td>iShares Core 30/70 Conservative Allocation ETF</td>\n",
       "      <td>Unknown</td>\n",
       "      <td>Unknown</td>\n",
       "      <td>Unknown</td>\n",
       "      <td>Unknown</td>\n",
       "      <td>0.0</td>\n",
       "      <td>...</td>\n",
       "      <td>0.0</td>\n",
       "      <td>0.0</td>\n",
       "      <td>0.0</td>\n",
       "      <td>38.21</td>\n",
       "      <td>Unknown</td>\n",
       "      <td>38.77</td>\n",
       "      <td>35.79</td>\n",
       "      <td>37.53</td>\n",
       "      <td>37.84</td>\n",
       "      <td>{\"realestate\": 0.027999999, \"consumer_cyclical...</td>\n",
       "    </tr>\n",
       "    <tr>\n",
       "      <th>5</th>\n",
       "      <td>AOM</td>\n",
       "      <td>iShares Core 40/60 Moderate Allocation ETF</td>\n",
       "      <td>{'realestate': 0.027999999, 'consumer_cyclical...</td>\n",
       "      <td>2025-06-02</td>\n",
       "      <td>iShares Core 40/60 Moderate Allocation ETF</td>\n",
       "      <td>Unknown</td>\n",
       "      <td>Unknown</td>\n",
       "      <td>Unknown</td>\n",
       "      <td>Unknown</td>\n",
       "      <td>0.0</td>\n",
       "      <td>...</td>\n",
       "      <td>0.0</td>\n",
       "      <td>0.0</td>\n",
       "      <td>0.0</td>\n",
       "      <td>44.78</td>\n",
       "      <td>Unknown</td>\n",
       "      <td>45.31</td>\n",
       "      <td>41.20</td>\n",
       "      <td>43.73</td>\n",
       "      <td>44.12</td>\n",
       "      <td>{\"realestate\": 0.027999999, \"consumer_cyclical...</td>\n",
       "    </tr>\n",
       "  </tbody>\n",
       "</table>\n",
       "<p>5 rows × 26 columns</p>\n",
       "</div>"
      ],
      "text/plain": [
       "  Symbol                                          Name_x  \\\n",
       "1   ACWI                           iShares MSCI ACWI ETF   \n",
       "2   ADME               Aptus Drawdown Managed Equity ETF   \n",
       "3    AOA    iShares Core 80/20 Aggressive Allocation ETF   \n",
       "4    AOK  iShares Core 30/70 Conservative Allocation ETF   \n",
       "5    AOM      iShares Core 40/60 Moderate Allocation ETF   \n",
       "\n",
       "                                             Sectors        Date  \\\n",
       "1  {'realestate': 0.0216, 'consumer_cyclical': 0....  2025-06-02   \n",
       "2  {'realestate': 0.0222, 'consumer_cyclical': 0....  2025-05-02   \n",
       "3  {'realestate': 0.0279, 'consumer_cyclical': 0....  2025-05-02   \n",
       "4  {'realestate': 0.027999999, 'consumer_cyclical...  2025-06-02   \n",
       "5  {'realestate': 0.027999999, 'consumer_cyclical...  2025-06-02   \n",
       "\n",
       "                                           Name_y   Sector Industry  Country  \\\n",
       "1                           iShares MSCI ACWI ETF  Unknown  Unknown  Unknown   \n",
       "2               Aptus Drawdown Managed Equity ETF  Unknown  Unknown  Unknown   \n",
       "3    iShares Core 80/20 Aggressive Allocation ETF  Unknown  Unknown  Unknown   \n",
       "4  iShares Core 30/70 Conservative Allocation ETF  Unknown  Unknown  Unknown   \n",
       "5      iShares Core 40/60 Moderate Allocation ETF  Unknown  Unknown  Unknown   \n",
       "\n",
       "   Website  Market Cap  ...  Dividend Rate (%)  5Y Avg Dividend Yield (%)  \\\n",
       "1  Unknown         0.0  ...                0.0                        0.0   \n",
       "2  Unknown         0.0  ...                0.0                        0.0   \n",
       "3  Unknown         0.0  ...                0.0                        0.0   \n",
       "4  Unknown         0.0  ...                0.0                        0.0   \n",
       "5  Unknown         0.0  ...                0.0                        0.0   \n",
       "\n",
       "   Payout Ratio (%)   Price  Analyst Rating  52W High  52W Low  50 Day Avg  \\\n",
       "1               0.0  123.65         Unknown    124.54   101.25      117.25   \n",
       "2               0.0   44.46         Unknown     48.56    39.85       44.34   \n",
       "3               0.0   77.74         Unknown     80.20    68.45       76.13   \n",
       "4               0.0   38.21         Unknown     38.77    35.79       37.53   \n",
       "5               0.0   44.78         Unknown     45.31    41.20       43.73   \n",
       "\n",
       "   200 Day Avg                                  Sector Weightings  \n",
       "1       118.68  {\"realestate\": 0.0216, \"consumer_cyclical\": 0....  \n",
       "2        45.90  {\"realestate\": 0.0222, \"consumer_cyclical\": 0....  \n",
       "3        77.15  {\"realestate\": 0.0279, \"consumer_cyclical\": 0....  \n",
       "4        37.84  {\"realestate\": 0.027999999, \"consumer_cyclical...  \n",
       "5        44.12  {\"realestate\": 0.027999999, \"consumer_cyclical...  \n",
       "\n",
       "[5 rows x 26 columns]"
      ]
     },
     "metadata": {},
     "output_type": "display_data"
    }
   ],
   "source": [
    "# Step 1: Calculate the weighted average of P/E (trailing) in portfolio_df\n",
    "weighted_average_pe = (portfolio_df[\"Weight\"] * portfolio_df[\"P/E (trailing)\"]).sum()\n",
    "\n",
    "# Step 2: Calculate the 20% threshold range\n",
    "lower_bound = weighted_average_pe * 0.8  # 20% below the weighted average\n",
    "upper_bound = weighted_average_pe * 1.2  # 2% above the weighted average\n",
    "\n",
    "# Step 3: Filter merged_df based on the P/E (trailing) column\n",
    "filtered_merged_df = merged_df[\n",
    "    (merged_df[\"P/E (trailing)\"] >= lower_bound) & \n",
    "    (merged_df[\"P/E (trailing)\"] <= upper_bound)\n",
    "]\n",
    "\n",
    "filtered_sectors_df = filtered_merged_df.copy().dropna(how='all')\n",
    "tickers = filtered_sectors_df[\"Symbol\"].tolist()\n",
    "\n",
    "# Display the filtered DataFrame\n",
    "print(\"Portfolio Weighted Average P/E (trailing):\", weighted_average_pe)\n",
    "print(\"Lower Bound:\", lower_bound)\n",
    "print(\"Upper Bound:\", upper_bound)\n",
    "print(\"Number of benchmarks after filtering by P/E (trailing):\", len(filtered_merged_df))\n",
    "display(filtered_sectors_df.head())"
   ]
  },
  {
   "cell_type": "markdown",
   "id": "b050f311",
   "metadata": {},
   "source": [
    "### Step 6: Import Quotes"
   ]
  },
  {
   "cell_type": "markdown",
   "id": "bedd1a61",
   "metadata": {},
   "source": [
    "#### Benchmark Tickers"
   ]
  },
  {
   "cell_type": "code",
   "execution_count": 10,
   "id": "c6cc3457",
   "metadata": {
    "execution": {
     "iopub.execute_input": "2025-06-02T13:28:31.035256Z",
     "iopub.status.busy": "2025-06-02T13:28:31.034942Z",
     "iopub.status.idle": "2025-06-02T13:28:31.195787Z",
     "shell.execute_reply": "2025-06-02T13:28:31.194847Z"
    }
   },
   "outputs": [
    {
     "name": "stdout",
     "output_type": "stream",
     "text": [
      "Found 102 of 111 tickers in data/daily_benchmark_quotes.csv\n",
      "Missing tickers: ['AOA', 'IJK', 'ILCB', 'IVOG', 'IYY', 'MDYG', 'PTNQ', 'UPGD', 'VIS']\n",
      "Found 102 of 111 tickers in data/monthly_benchmark_quotes.csv\n",
      "Missing tickers: ['AOA', 'IJK', 'ILCB', 'IVOG', 'IYY', 'MDYG', 'PTNQ', 'UPGD', 'VIS']\n"
     ]
    },
    {
     "data": {
      "application/vnd.microsoft.datawrangler.viewer.v0+json": {
       "columns": [
        {
         "name": "Date",
         "rawType": "datetime64[ns]",
         "type": "datetime"
        },
        {
         "name": "ACWI",
         "rawType": "float64",
         "type": "float"
        },
        {
         "name": "ADME",
         "rawType": "float64",
         "type": "float"
        },
        {
         "name": "AOK",
         "rawType": "float64",
         "type": "float"
        },
        {
         "name": "AOM",
         "rawType": "float64",
         "type": "float"
        },
        {
         "name": "AOR",
         "rawType": "float64",
         "type": "float"
        },
        {
         "name": "BAPR",
         "rawType": "float64",
         "type": "float"
        },
        {
         "name": "BBUS",
         "rawType": "float64",
         "type": "float"
        },
        {
         "name": "BJAN",
         "rawType": "float64",
         "type": "float"
        },
        {
         "name": "BJUL",
         "rawType": "float64",
         "type": "float"
        },
        {
         "name": "BOCT",
         "rawType": "float64",
         "type": "float"
        },
        {
         "name": "CEFS",
         "rawType": "float64",
         "type": "float"
        },
        {
         "name": "CRBN",
         "rawType": "float64",
         "type": "float"
        },
        {
         "name": "DGRO",
         "rawType": "float64",
         "type": "float"
        },
        {
         "name": "DGRW",
         "rawType": "float64",
         "type": "float"
        },
        {
         "name": "DIVO",
         "rawType": "float64",
         "type": "float"
        },
        {
         "name": "DLN",
         "rawType": "float64",
         "type": "float"
        },
        {
         "name": "DSI",
         "rawType": "float64",
         "type": "float"
        },
        {
         "name": "DTD",
         "rawType": "float64",
         "type": "float"
        },
        {
         "name": "DWAT",
         "rawType": "float64",
         "type": "float"
        },
        {
         "name": "DYNF",
         "rawType": "float64",
         "type": "float"
        },
        {
         "name": "EPS",
         "rawType": "float64",
         "type": "float"
        },
        {
         "name": "EQL",
         "rawType": "float64",
         "type": "float"
        },
        {
         "name": "EQWL",
         "rawType": "float64",
         "type": "float"
        },
        {
         "name": "ESGG",
         "rawType": "float64",
         "type": "float"
        },
        {
         "name": "ETHO",
         "rawType": "float64",
         "type": "float"
        },
        {
         "name": "EUSA",
         "rawType": "float64",
         "type": "float"
        },
        {
         "name": "EWC",
         "rawType": "float64",
         "type": "float"
        },
        {
         "name": "EWL",
         "rawType": "float64",
         "type": "float"
        },
        {
         "name": "FAD",
         "rawType": "float64",
         "type": "float"
        },
        {
         "name": "FCEF",
         "rawType": "float64",
         "type": "float"
        },
        {
         "name": "FIDU",
         "rawType": "float64",
         "type": "float"
        },
        {
         "name": "FNY",
         "rawType": "float64",
         "type": "float"
        },
        {
         "name": "FTLS",
         "rawType": "float64",
         "type": "float"
        },
        {
         "name": "FYC",
         "rawType": "float64",
         "type": "float"
        },
        {
         "name": "GVIP",
         "rawType": "float64",
         "type": "float"
        },
        {
         "name": "HTUS",
         "rawType": "float64",
         "type": "float"
        },
        {
         "name": "IGF",
         "rawType": "float64",
         "type": "float"
        },
        {
         "name": "IHDG",
         "rawType": "float64",
         "type": "float"
        },
        {
         "name": "IMCG",
         "rawType": "float64",
         "type": "float"
        },
        {
         "name": "IMTM",
         "rawType": "float64",
         "type": "float"
        },
        {
         "name": "IOO",
         "rawType": "float64",
         "type": "float"
        },
        {
         "name": "IQLT",
         "rawType": "float64",
         "type": "float"
        },
        {
         "name": "ITOT",
         "rawType": "float64",
         "type": "float"
        },
        {
         "name": "IUSV",
         "rawType": "float64",
         "type": "float"
        },
        {
         "name": "IVE",
         "rawType": "float64",
         "type": "float"
        },
        {
         "name": "IVV",
         "rawType": "float64",
         "type": "float"
        },
        {
         "name": "IWB",
         "rawType": "float64",
         "type": "float"
        },
        {
         "name": "IWL",
         "rawType": "float64",
         "type": "float"
        },
        {
         "name": "IWR",
         "rawType": "float64",
         "type": "float"
        },
        {
         "name": "JDIV",
         "rawType": "float64",
         "type": "float"
        },
        {
         "name": "JMOM",
         "rawType": "float64",
         "type": "float"
        },
        {
         "name": "JQUA",
         "rawType": "float64",
         "type": "float"
        },
        {
         "name": "JSMD",
         "rawType": "float64",
         "type": "float"
        },
        {
         "name": "LRGF",
         "rawType": "float64",
         "type": "float"
        },
        {
         "name": "MAGA",
         "rawType": "float64",
         "type": "float"
        },
        {
         "name": "MFUS",
         "rawType": "float64",
         "type": "float"
        },
        {
         "name": "MGC",
         "rawType": "float64",
         "type": "float"
        },
        {
         "name": "MMTM",
         "rawType": "float64",
         "type": "float"
        },
        {
         "name": "NACP",
         "rawType": "float64",
         "type": "float"
        },
        {
         "name": "OEF",
         "rawType": "float64",
         "type": "float"
        },
        {
         "name": "PBUS",
         "rawType": "float64",
         "type": "float"
        },
        {
         "name": "PCEF",
         "rawType": "float64",
         "type": "float"
        },
        {
         "name": "PFM",
         "rawType": "float64",
         "type": "float"
        },
        {
         "name": "PJUL",
         "rawType": "float64",
         "type": "float"
        },
        {
         "name": "POCT",
         "rawType": "float64",
         "type": "float"
        },
        {
         "name": "QARP",
         "rawType": "float64",
         "type": "float"
        },
        {
         "name": "QDEF",
         "rawType": "float64",
         "type": "float"
        },
        {
         "name": "QDF",
         "rawType": "float64",
         "type": "float"
        },
        {
         "name": "QLC",
         "rawType": "float64",
         "type": "float"
        },
        {
         "name": "QMOM",
         "rawType": "float64",
         "type": "float"
        },
        {
         "name": "QUAL",
         "rawType": "float64",
         "type": "float"
        },
        {
         "name": "QUS",
         "rawType": "float64",
         "type": "float"
        },
        {
         "name": "QWLD",
         "rawType": "float64",
         "type": "float"
        },
        {
         "name": "SCHX",
         "rawType": "float64",
         "type": "float"
        },
        {
         "name": "SIZE",
         "rawType": "float64",
         "type": "float"
        },
        {
         "name": "SMIN",
         "rawType": "float64",
         "type": "float"
        },
        {
         "name": "SPGM",
         "rawType": "float64",
         "type": "float"
        },
        {
         "name": "SPHB",
         "rawType": "float64",
         "type": "float"
        },
        {
         "name": "SPLG",
         "rawType": "float64",
         "type": "float"
        },
        {
         "name": "SPMO",
         "rawType": "float64",
         "type": "float"
        },
        {
         "name": "SPTM",
         "rawType": "float64",
         "type": "float"
        },
        {
         "name": "SPXV",
         "rawType": "float64",
         "type": "float"
        },
        {
         "name": "SPY",
         "rawType": "float64",
         "type": "float"
        },
        {
         "name": "SPYV",
         "rawType": "float64",
         "type": "float"
        },
        {
         "name": "SSPY",
         "rawType": "float64",
         "type": "float"
        },
        {
         "name": "SUSA",
         "rawType": "float64",
         "type": "float"
        },
        {
         "name": "TOK",
         "rawType": "float64",
         "type": "float"
        },
        {
         "name": "URTH",
         "rawType": "float64",
         "type": "float"
        },
        {
         "name": "VO",
         "rawType": "float64",
         "type": "float"
        },
        {
         "name": "VONE",
         "rawType": "float64",
         "type": "float"
        },
        {
         "name": "VOO",
         "rawType": "float64",
         "type": "float"
        },
        {
         "name": "VOOV",
         "rawType": "float64",
         "type": "float"
        },
        {
         "name": "VT",
         "rawType": "float64",
         "type": "float"
        },
        {
         "name": "VUSE",
         "rawType": "float64",
         "type": "float"
        },
        {
         "name": "VV",
         "rawType": "float64",
         "type": "float"
        },
        {
         "name": "WOMN",
         "rawType": "float64",
         "type": "float"
        },
        {
         "name": "WTMF",
         "rawType": "float64",
         "type": "float"
        },
        {
         "name": "XLG",
         "rawType": "float64",
         "type": "float"
        },
        {
         "name": "XRLV",
         "rawType": "float64",
         "type": "float"
        },
        {
         "name": "XSMO",
         "rawType": "float64",
         "type": "float"
        },
        {
         "name": "YLDE",
         "rawType": "float64",
         "type": "float"
        },
        {
         "name": "YYY",
         "rawType": "float64",
         "type": "float"
        }
       ],
       "ref": "afdf2f20-1d2e-41ba-a9a6-ed6684ae25c2",
       "rows": [
        [
         "2020-07-01 00:00:00",
         "71.77",
         "32.74",
         "33.06",
         "36.44",
         "42.99",
         "28.2216",
         "55.55",
         "29.5439",
         "27.92",
         "26.8389",
         "11.61",
         "116.85",
         "35.09",
         "43.57",
         "23.04",
         "43.04",
         "58.44",
         "41.52",
         "8.08",
         "24.62",
         "31.85",
         "69.33",
         "52.83",
         "98.94",
         "41.46",
         "55.8",
         "24.74",
         "37.37",
         "81.37",
         "14.18",
         "35.09",
         "50.53",
         "41.14",
         "43.44",
         "69.84",
         "21.17",
         "34.4",
         "28.29",
         "50.83",
         "28.8",
         "51.48",
         "27.13",
         "68.54",
         "48.97",
         "101.96",
         "305.47",
         "170.62",
         "73.57",
         "53.18",
         "21.55",
         "31.61",
         "29.68",
         "50.05",
         "30.44",
         "23.3",
         "26.61",
         "108.18",
         "135.3",
         "21.74",
         "141.63",
         "30.8",
         "13.98",
         "26.91",
         "27.379999",
         "25.780001",
         "27.27",
         "39.44",
         "39.96",
         "34.02",
         "38.59",
         "94.55",
         "85.6",
         "75.19",
         "12.19",
         "85.8",
         "28.81",
         "37.86",
         "39.14",
         "35.74",
         "44.46",
         "37.19",
         "31.87",
         "304.92",
         "27.17",
         "43.28",
         "66.77",
         "66.09",
         "89.98",
         "162.1",
         "140.51",
         "279.46",
         "98.06",
         "71.48",
         "26.96",
         "141.45",
         "19.82",
         "27.31",
         "24.04",
         "34.72",
         "37.94",
         "29.4",
         "8.77"
        ],
        [
         "2020-08-01 00:00:00",
         "76.1",
         "34.35",
         "33.54",
         "37.19",
         "44.48",
         "28.7749",
         "59.81",
         "30.68",
         "28.8268",
         "27.805",
         "11.94",
         "124.77",
         "36.79",
         "46.48",
         "24.65",
         "44.99",
         "63.08",
         "43.47",
         "8.41",
         "26.16",
         "33.93",
         "72.94",
         "56.45",
         "106.34",
         "43.33",
         "58.46",
         "26.0",
         "38.48",
         "85.97",
         "14.72",
         "37.98",
         "52.81",
         "42.46",
         "46.93",
         "78.65",
         "22.12",
         "34.93",
         "29.05",
         "52.56",
         "29.77",
         "55.48",
         "28.4",
         "73.38",
         "50.65",
         "105.56",
         "326.86",
         "183.08",
         "79.95",
         "55.04",
         "22.5",
         "33.73",
         "31.41",
         "51.58",
         "31.92",
         "24.45",
         "28.18",
         "117.27",
         "147.08",
         "23.77",
         "154.26",
         "33.35",
         "14.32",
         "28.35",
         "27.9455",
         "26.16",
         "29.33",
         "41.22",
         "42.0",
         "36.19",
         "40.1",
         "101.04",
         "90.23",
         "79.21",
         "13.08",
         "89.64",
         "31.82",
         "40.63",
         "41.85",
         "38.24",
         "48.24",
         "39.73",
         "34.42",
         "326.21",
         "28.1",
         "45.29",
         "71.95",
         "70.41",
         "95.85",
         "167.26",
         "150.76",
         "298.94",
         "101.52",
         "75.77",
         "28.39",
         "152.24",
         "22.21",
         "27.18",
         "26.36",
         "36.08",
         "39.01",
         "30.9",
         "9.03"
        ],
        [
         "2020-09-01 00:00:00",
         "73.85",
         "32.83",
         "33.14",
         "36.65",
         "43.65",
         "28.5677",
         "57.46",
         "30.16",
         "28.34",
         "27.8875",
         "11.78",
         "120.66",
         "35.84",
         "45.58",
         "24.43",
         "43.6",
         "60.63",
         "42.12",
         "8.25",
         "25.47",
         "32.76",
         "70.56",
         "54.73",
         "101.81",
         "42.38",
         "57.04",
         "24.83",
         "37.87",
         "84.48",
         "14.47",
         "37.68",
         "52.88",
         "40.71",
         "46.27",
         "76.76",
         "21.99",
         "33.91",
         "29.82",
         "51.72",
         "29.7",
         "52.56",
         "28.07",
         "70.77",
         "49.45",
         "102.87",
         "314.57",
         "176.3",
         "76.57",
         "53.96",
         "21.84",
         "33.16",
         "30.4",
         "50.59",
         "31.15",
         "23.68",
         "27.48",
         "112.53",
         "140.58",
         "22.84",
         "147.15",
         "31.96",
         "13.96",
         "27.84",
         "27.673",
         "26.41",
         "28.09",
         "40.12",
         "40.53",
         "34.74",
         "40.34",
         "97.85",
         "87.96",
         "77.03",
         "12.6",
         "87.75",
         "33.0",
         "39.4",
         "39.94",
         "36.8",
         "47.43",
         "38.24",
         "33.03",
         "313.99",
         "27.42",
         "44.0",
         "69.42",
         "67.77",
         "92.65",
         "164.57",
         "145.26",
         "287.71",
         "99.1",
         "73.55",
         "27.22",
         "146.61",
         "21.47",
         "26.95",
         "24.99",
         "35.29",
         "38.57",
         "30.42",
         "8.88"
        ],
        [
         "2020-10-01 00:00:00",
         "72.21",
         "32.25",
         "32.89",
         "36.23",
         "42.95",
         "28.3235",
         "56.0",
         "29.83",
         "27.83",
         "27.24",
         "11.78",
         "117.66",
         "35.09",
         "43.98",
         "23.59",
         "42.33",
         "59.24",
         "41.05",
         "8.15",
         "24.83",
         "32.02",
         "68.94",
         "53.17",
         "98.34",
         "42.28",
         "56.67",
         "23.98",
         "35.9",
         "83.58",
         "14.08",
         "37.15",
         "52.81",
         "39.94",
         "46.13",
         "74.5",
         "21.89",
         "33.5",
         "28.72",
         "51.93",
         "28.61",
         "50.92",
         "27.07",
         "69.42",
         "48.65",
         "100.99",
         "306.67",
         "172.25",
         "74.1",
         "54.31",
         "21.87",
         "32.2",
         "29.55",
         "51.12",
         "30.81",
         "23.52",
         "26.92",
         "109.07",
         "135.59",
         "22.23",
         "142.48",
         "31.05",
         "13.71",
         "27.24",
         "27.32",
         "26.120001",
         "27.18",
         "38.69",
         "39.38",
         "33.47",
         "38.64",
         "95.32",
         "85.43",
         "74.45",
         "12.3",
         "87.61",
         "32.16",
         "38.26",
         "40.64",
         "35.89",
         "45.4",
         "37.37",
         "32.04",
         "306.16",
         "26.93",
         "43.54",
         "68.22",
         "65.56",
         "89.87",
         "164.46",
         "142.01",
         "280.39",
         "97.28",
         "72.04",
         "27.13",
         "142.95",
         "20.92",
         "26.79",
         "24.1",
         "34.02",
         "38.28",
         "29.5",
         "8.73"
        ],
        [
         "2020-11-01 00:00:00",
         "80.7",
         "34.06",
         "34.29",
         "38.1",
         "46.18",
         "29.4795",
         "62.53",
         "31.889999",
         "29.66",
         "29.389999",
         "12.73",
         "132.65",
         "39.35",
         "48.54",
         "25.85",
         "47.18",
         "65.71",
         "45.83",
         "8.56",
         "27.91",
         "35.93",
         "76.97",
         "60.75",
         "110.48",
         "48.08",
         "64.78",
         "27.43",
         "39.22",
         "95.1",
         "16.09",
         "43.33",
         "60.02",
         "40.97",
         "54.48",
         "84.9",
         "23.51",
         "37.79",
         "31.1",
         "58.88",
         "31.3",
         "56.55",
         "30.53",
         "77.75",
         "55.01",
         "114.03",
         "340.09",
         "192.39",
         "82.27",
         "61.79",
         "25.11",
         "35.77",
         "32.69",
         "57.27",
         "33.94",
         "27.24",
         "30.21",
         "121.22",
         "148.08",
         "24.73",
         "157.0",
         "34.73",
         "15.17",
         "29.8",
         "28.509001",
         "27.459999",
         "30.55",
         "42.28",
         "43.46",
         "37.2",
         "45.68",
         "106.08",
         "95.03",
         "82.86",
         "13.72",
         "100.15",
         "36.13",
         "43.16",
         "51.17",
         "39.78",
         "48.89",
         "41.62",
         "35.76",
         "339.47",
         "30.39",
         "49.53",
         "75.45",
         "73.38",
         "101.42",
         "186.43",
         "158.63",
         "311.08",
         "109.73",
         "80.95",
         "31.44",
         "158.84",
         "23.55",
         "27.54",
         "26.32",
         "37.04",
         "43.35",
         "32.55",
         "9.66"
        ]
       ],
       "shape": {
        "columns": 102,
        "rows": 5
       }
      },
      "text/html": [
       "<div>\n",
       "<style scoped>\n",
       "    .dataframe tbody tr th:only-of-type {\n",
       "        vertical-align: middle;\n",
       "    }\n",
       "\n",
       "    .dataframe tbody tr th {\n",
       "        vertical-align: top;\n",
       "    }\n",
       "\n",
       "    .dataframe thead th {\n",
       "        text-align: right;\n",
       "    }\n",
       "</style>\n",
       "<table border=\"1\" class=\"dataframe\">\n",
       "  <thead>\n",
       "    <tr style=\"text-align: right;\">\n",
       "      <th></th>\n",
       "      <th>ACWI</th>\n",
       "      <th>ADME</th>\n",
       "      <th>AOK</th>\n",
       "      <th>AOM</th>\n",
       "      <th>AOR</th>\n",
       "      <th>BAPR</th>\n",
       "      <th>BBUS</th>\n",
       "      <th>BJAN</th>\n",
       "      <th>BJUL</th>\n",
       "      <th>BOCT</th>\n",
       "      <th>...</th>\n",
       "      <th>VT</th>\n",
       "      <th>VUSE</th>\n",
       "      <th>VV</th>\n",
       "      <th>WOMN</th>\n",
       "      <th>WTMF</th>\n",
       "      <th>XLG</th>\n",
       "      <th>XRLV</th>\n",
       "      <th>XSMO</th>\n",
       "      <th>YLDE</th>\n",
       "      <th>YYY</th>\n",
       "    </tr>\n",
       "    <tr>\n",
       "      <th>Date</th>\n",
       "      <th></th>\n",
       "      <th></th>\n",
       "      <th></th>\n",
       "      <th></th>\n",
       "      <th></th>\n",
       "      <th></th>\n",
       "      <th></th>\n",
       "      <th></th>\n",
       "      <th></th>\n",
       "      <th></th>\n",
       "      <th></th>\n",
       "      <th></th>\n",
       "      <th></th>\n",
       "      <th></th>\n",
       "      <th></th>\n",
       "      <th></th>\n",
       "      <th></th>\n",
       "      <th></th>\n",
       "      <th></th>\n",
       "      <th></th>\n",
       "      <th></th>\n",
       "    </tr>\n",
       "  </thead>\n",
       "  <tbody>\n",
       "    <tr>\n",
       "      <th>2020-07-01</th>\n",
       "      <td>71.77</td>\n",
       "      <td>32.74</td>\n",
       "      <td>33.06</td>\n",
       "      <td>36.44</td>\n",
       "      <td>42.99</td>\n",
       "      <td>28.2216</td>\n",
       "      <td>55.55</td>\n",
       "      <td>29.543900</td>\n",
       "      <td>27.9200</td>\n",
       "      <td>26.838900</td>\n",
       "      <td>...</td>\n",
       "      <td>71.48</td>\n",
       "      <td>26.96</td>\n",
       "      <td>141.45</td>\n",
       "      <td>19.82</td>\n",
       "      <td>27.31</td>\n",
       "      <td>24.04</td>\n",
       "      <td>34.72</td>\n",
       "      <td>37.94</td>\n",
       "      <td>29.40</td>\n",
       "      <td>8.77</td>\n",
       "    </tr>\n",
       "    <tr>\n",
       "      <th>2020-08-01</th>\n",
       "      <td>76.10</td>\n",
       "      <td>34.35</td>\n",
       "      <td>33.54</td>\n",
       "      <td>37.19</td>\n",
       "      <td>44.48</td>\n",
       "      <td>28.7749</td>\n",
       "      <td>59.81</td>\n",
       "      <td>30.680000</td>\n",
       "      <td>28.8268</td>\n",
       "      <td>27.805000</td>\n",
       "      <td>...</td>\n",
       "      <td>75.77</td>\n",
       "      <td>28.39</td>\n",
       "      <td>152.24</td>\n",
       "      <td>22.21</td>\n",
       "      <td>27.18</td>\n",
       "      <td>26.36</td>\n",
       "      <td>36.08</td>\n",
       "      <td>39.01</td>\n",
       "      <td>30.90</td>\n",
       "      <td>9.03</td>\n",
       "    </tr>\n",
       "    <tr>\n",
       "      <th>2020-09-01</th>\n",
       "      <td>73.85</td>\n",
       "      <td>32.83</td>\n",
       "      <td>33.14</td>\n",
       "      <td>36.65</td>\n",
       "      <td>43.65</td>\n",
       "      <td>28.5677</td>\n",
       "      <td>57.46</td>\n",
       "      <td>30.160000</td>\n",
       "      <td>28.3400</td>\n",
       "      <td>27.887500</td>\n",
       "      <td>...</td>\n",
       "      <td>73.55</td>\n",
       "      <td>27.22</td>\n",
       "      <td>146.61</td>\n",
       "      <td>21.47</td>\n",
       "      <td>26.95</td>\n",
       "      <td>24.99</td>\n",
       "      <td>35.29</td>\n",
       "      <td>38.57</td>\n",
       "      <td>30.42</td>\n",
       "      <td>8.88</td>\n",
       "    </tr>\n",
       "    <tr>\n",
       "      <th>2020-10-01</th>\n",
       "      <td>72.21</td>\n",
       "      <td>32.25</td>\n",
       "      <td>32.89</td>\n",
       "      <td>36.23</td>\n",
       "      <td>42.95</td>\n",
       "      <td>28.3235</td>\n",
       "      <td>56.00</td>\n",
       "      <td>29.830000</td>\n",
       "      <td>27.8300</td>\n",
       "      <td>27.240000</td>\n",
       "      <td>...</td>\n",
       "      <td>72.04</td>\n",
       "      <td>27.13</td>\n",
       "      <td>142.95</td>\n",
       "      <td>20.92</td>\n",
       "      <td>26.79</td>\n",
       "      <td>24.10</td>\n",
       "      <td>34.02</td>\n",
       "      <td>38.28</td>\n",
       "      <td>29.50</td>\n",
       "      <td>8.73</td>\n",
       "    </tr>\n",
       "    <tr>\n",
       "      <th>2020-11-01</th>\n",
       "      <td>80.70</td>\n",
       "      <td>34.06</td>\n",
       "      <td>34.29</td>\n",
       "      <td>38.10</td>\n",
       "      <td>46.18</td>\n",
       "      <td>29.4795</td>\n",
       "      <td>62.53</td>\n",
       "      <td>31.889999</td>\n",
       "      <td>29.6600</td>\n",
       "      <td>29.389999</td>\n",
       "      <td>...</td>\n",
       "      <td>80.95</td>\n",
       "      <td>31.44</td>\n",
       "      <td>158.84</td>\n",
       "      <td>23.55</td>\n",
       "      <td>27.54</td>\n",
       "      <td>26.32</td>\n",
       "      <td>37.04</td>\n",
       "      <td>43.35</td>\n",
       "      <td>32.55</td>\n",
       "      <td>9.66</td>\n",
       "    </tr>\n",
       "  </tbody>\n",
       "</table>\n",
       "<p>5 rows × 102 columns</p>\n",
       "</div>"
      ],
      "text/plain": [
       "             ACWI   ADME    AOK    AOM    AOR     BAPR   BBUS       BJAN  \\\n",
       "Date                                                                       \n",
       "2020-07-01  71.77  32.74  33.06  36.44  42.99  28.2216  55.55  29.543900   \n",
       "2020-08-01  76.10  34.35  33.54  37.19  44.48  28.7749  59.81  30.680000   \n",
       "2020-09-01  73.85  32.83  33.14  36.65  43.65  28.5677  57.46  30.160000   \n",
       "2020-10-01  72.21  32.25  32.89  36.23  42.95  28.3235  56.00  29.830000   \n",
       "2020-11-01  80.70  34.06  34.29  38.10  46.18  29.4795  62.53  31.889999   \n",
       "\n",
       "               BJUL       BOCT  ...     VT   VUSE      VV   WOMN   WTMF  \\\n",
       "Date                            ...                                       \n",
       "2020-07-01  27.9200  26.838900  ...  71.48  26.96  141.45  19.82  27.31   \n",
       "2020-08-01  28.8268  27.805000  ...  75.77  28.39  152.24  22.21  27.18   \n",
       "2020-09-01  28.3400  27.887500  ...  73.55  27.22  146.61  21.47  26.95   \n",
       "2020-10-01  27.8300  27.240000  ...  72.04  27.13  142.95  20.92  26.79   \n",
       "2020-11-01  29.6600  29.389999  ...  80.95  31.44  158.84  23.55  27.54   \n",
       "\n",
       "              XLG   XRLV   XSMO   YLDE   YYY  \n",
       "Date                                          \n",
       "2020-07-01  24.04  34.72  37.94  29.40  8.77  \n",
       "2020-08-01  26.36  36.08  39.01  30.90  9.03  \n",
       "2020-09-01  24.99  35.29  38.57  30.42  8.88  \n",
       "2020-10-01  24.10  34.02  38.28  29.50  8.73  \n",
       "2020-11-01  26.32  37.04  43.35  32.55  9.66  \n",
       "\n",
       "[5 rows x 102 columns]"
      ]
     },
     "execution_count": 10,
     "metadata": {},
     "output_type": "execute_result"
    }
   ],
   "source": [
    "# Load and filter historical benchmark price data\n",
    "benchmark_prices_daily_df = load_and_filter_data('data/daily_benchmark_quotes.csv', tickers, start_date, end_date)\n",
    "benchmark_prices_monthly_df = load_and_filter_data('data/monthly_benchmark_quotes.csv', tickers, start_date, end_date)\n",
    "\n",
    "# Display the first few rows\n",
    "benchmark_prices_monthly_df.head()"
   ]
  },
  {
   "cell_type": "markdown",
   "id": "0b6317cc",
   "metadata": {},
   "source": [
    "#### Portfolio Tickers"
   ]
  },
  {
   "cell_type": "code",
   "execution_count": 11,
   "id": "63739423",
   "metadata": {
    "execution": {
     "iopub.execute_input": "2025-06-02T13:28:31.198685Z",
     "iopub.status.busy": "2025-06-02T13:28:31.198402Z",
     "iopub.status.idle": "2025-06-02T13:28:31.232652Z",
     "shell.execute_reply": "2025-06-02T13:28:31.231755Z"
    }
   },
   "outputs": [
    {
     "name": "stdout",
     "output_type": "stream",
     "text": [
      "Found 5 of 5 tickers in data/monthly_stock_quotes.csv\n",
      "Missing tickers: []\n"
     ]
    },
    {
     "data": {
      "application/vnd.microsoft.datawrangler.viewer.v0+json": {
       "columns": [
        {
         "name": "Date",
         "rawType": "datetime64[ns]",
         "type": "datetime"
        },
        {
         "name": "AMAT",
         "rawType": "float64",
         "type": "float"
        },
        {
         "name": "APO",
         "rawType": "float64",
         "type": "float"
        },
        {
         "name": "MMC",
         "rawType": "float64",
         "type": "float"
        },
        {
         "name": "SO",
         "rawType": "float64",
         "type": "float"
        },
        {
         "name": "TMUS",
         "rawType": "float64",
         "type": "float"
        }
       ],
       "ref": "6d03e480-fcf5-48a1-b674-6dce26e99cf0",
       "rows": [
        [
         "2020-07-01 00:00:00",
         "61.69",
         "43.23",
         "109.18",
         "45.32",
         "105.01"
        ],
        [
         "2020-08-01 00:00:00",
         "59.27",
         "41.69",
         "107.59",
         "43.81",
         "114.1"
        ],
        [
         "2020-09-01 00:00:00",
         "57.2",
         "39.81",
         "107.4",
         "45.52",
         "111.83"
        ],
        [
         "2020-10-01 00:00:00",
         "56.99",
         "32.79",
         "97.27",
         "48.24",
         "107.15"
        ],
        [
         "2020-11-01 00:00:00",
         "79.59",
         "39.24",
         "107.78",
         "50.76",
         "130.0"
        ]
       ],
       "shape": {
        "columns": 5,
        "rows": 5
       }
      },
      "text/html": [
       "<div>\n",
       "<style scoped>\n",
       "    .dataframe tbody tr th:only-of-type {\n",
       "        vertical-align: middle;\n",
       "    }\n",
       "\n",
       "    .dataframe tbody tr th {\n",
       "        vertical-align: top;\n",
       "    }\n",
       "\n",
       "    .dataframe thead th {\n",
       "        text-align: right;\n",
       "    }\n",
       "</style>\n",
       "<table border=\"1\" class=\"dataframe\">\n",
       "  <thead>\n",
       "    <tr style=\"text-align: right;\">\n",
       "      <th></th>\n",
       "      <th>AMAT</th>\n",
       "      <th>APO</th>\n",
       "      <th>MMC</th>\n",
       "      <th>SO</th>\n",
       "      <th>TMUS</th>\n",
       "    </tr>\n",
       "    <tr>\n",
       "      <th>Date</th>\n",
       "      <th></th>\n",
       "      <th></th>\n",
       "      <th></th>\n",
       "      <th></th>\n",
       "      <th></th>\n",
       "    </tr>\n",
       "  </thead>\n",
       "  <tbody>\n",
       "    <tr>\n",
       "      <th>2020-07-01</th>\n",
       "      <td>61.69</td>\n",
       "      <td>43.23</td>\n",
       "      <td>109.18</td>\n",
       "      <td>45.32</td>\n",
       "      <td>105.01</td>\n",
       "    </tr>\n",
       "    <tr>\n",
       "      <th>2020-08-01</th>\n",
       "      <td>59.27</td>\n",
       "      <td>41.69</td>\n",
       "      <td>107.59</td>\n",
       "      <td>43.81</td>\n",
       "      <td>114.10</td>\n",
       "    </tr>\n",
       "    <tr>\n",
       "      <th>2020-09-01</th>\n",
       "      <td>57.20</td>\n",
       "      <td>39.81</td>\n",
       "      <td>107.40</td>\n",
       "      <td>45.52</td>\n",
       "      <td>111.83</td>\n",
       "    </tr>\n",
       "    <tr>\n",
       "      <th>2020-10-01</th>\n",
       "      <td>56.99</td>\n",
       "      <td>32.79</td>\n",
       "      <td>97.27</td>\n",
       "      <td>48.24</td>\n",
       "      <td>107.15</td>\n",
       "    </tr>\n",
       "    <tr>\n",
       "      <th>2020-11-01</th>\n",
       "      <td>79.59</td>\n",
       "      <td>39.24</td>\n",
       "      <td>107.78</td>\n",
       "      <td>50.76</td>\n",
       "      <td>130.00</td>\n",
       "    </tr>\n",
       "  </tbody>\n",
       "</table>\n",
       "</div>"
      ],
      "text/plain": [
       "             AMAT    APO     MMC     SO    TMUS\n",
       "Date                                           \n",
       "2020-07-01  61.69  43.23  109.18  45.32  105.01\n",
       "2020-08-01  59.27  41.69  107.59  43.81  114.10\n",
       "2020-09-01  57.20  39.81  107.40  45.52  111.83\n",
       "2020-10-01  56.99  32.79   97.27  48.24  107.15\n",
       "2020-11-01  79.59  39.24  107.78  50.76  130.00"
      ]
     },
     "execution_count": 11,
     "metadata": {},
     "output_type": "execute_result"
    }
   ],
   "source": [
    "# Load and filter historical benchmark price data\n",
    "stock_prices_monthly_df = load_and_filter_data('data/monthly_stock_quotes.csv', portfolio_tickers, start_date, end_date)\n",
    "\n",
    "# Display the first few rows\n",
    "stock_prices_monthly_df.head()"
   ]
  },
  {
   "cell_type": "markdown",
   "id": "ff74a589",
   "metadata": {},
   "source": [
    "### Step 7: Prepare Data (Drop Invalid Tickers)"
   ]
  },
  {
   "cell_type": "markdown",
   "id": "bc19d94e",
   "metadata": {},
   "source": [
    "#### Daily Quotes"
   ]
  },
  {
   "cell_type": "code",
   "execution_count": 12,
   "id": "4fd1c0fd",
   "metadata": {
    "execution": {
     "iopub.execute_input": "2025-06-02T13:28:31.236531Z",
     "iopub.status.busy": "2025-06-02T13:28:31.236211Z",
     "iopub.status.idle": "2025-06-02T13:28:31.261664Z",
     "shell.execute_reply": "2025-06-02T13:28:31.260652Z"
    }
   },
   "outputs": [
    {
     "name": "stdout",
     "output_type": "stream",
     "text": [
      "Dropping 0 columns with missing values in first/last 50 records: []\n"
     ]
    },
    {
     "data": {
      "application/vnd.microsoft.datawrangler.viewer.v0+json": {
       "columns": [
        {
         "name": "Date",
         "rawType": "datetime64[ns]",
         "type": "datetime"
        },
        {
         "name": "ACWI",
         "rawType": "float64",
         "type": "float"
        },
        {
         "name": "ADME",
         "rawType": "float64",
         "type": "float"
        },
        {
         "name": "AOK",
         "rawType": "float64",
         "type": "float"
        },
        {
         "name": "AOM",
         "rawType": "float64",
         "type": "float"
        },
        {
         "name": "AOR",
         "rawType": "float64",
         "type": "float"
        },
        {
         "name": "BAPR",
         "rawType": "float64",
         "type": "float"
        },
        {
         "name": "BBUS",
         "rawType": "float64",
         "type": "float"
        },
        {
         "name": "BJAN",
         "rawType": "float64",
         "type": "float"
        },
        {
         "name": "BJUL",
         "rawType": "float64",
         "type": "float"
        },
        {
         "name": "BOCT",
         "rawType": "float64",
         "type": "float"
        },
        {
         "name": "CEFS",
         "rawType": "float64",
         "type": "float"
        },
        {
         "name": "CRBN",
         "rawType": "float64",
         "type": "float"
        },
        {
         "name": "DGRO",
         "rawType": "float64",
         "type": "float"
        },
        {
         "name": "DGRW",
         "rawType": "float64",
         "type": "float"
        },
        {
         "name": "DIVO",
         "rawType": "float64",
         "type": "float"
        },
        {
         "name": "DLN",
         "rawType": "float64",
         "type": "float"
        },
        {
         "name": "DSI",
         "rawType": "float64",
         "type": "float"
        },
        {
         "name": "DTD",
         "rawType": "float64",
         "type": "float"
        },
        {
         "name": "DWAT",
         "rawType": "float64",
         "type": "float"
        },
        {
         "name": "DYNF",
         "rawType": "float64",
         "type": "float"
        },
        {
         "name": "EPS",
         "rawType": "float64",
         "type": "float"
        },
        {
         "name": "EQL",
         "rawType": "float64",
         "type": "float"
        },
        {
         "name": "EQWL",
         "rawType": "float64",
         "type": "float"
        },
        {
         "name": "ESGG",
         "rawType": "float64",
         "type": "float"
        },
        {
         "name": "ETHO",
         "rawType": "float64",
         "type": "float"
        },
        {
         "name": "EUSA",
         "rawType": "float64",
         "type": "float"
        },
        {
         "name": "EWC",
         "rawType": "float64",
         "type": "float"
        },
        {
         "name": "EWL",
         "rawType": "float64",
         "type": "float"
        },
        {
         "name": "FAD",
         "rawType": "float64",
         "type": "float"
        },
        {
         "name": "FCEF",
         "rawType": "float64",
         "type": "float"
        },
        {
         "name": "FIDU",
         "rawType": "float64",
         "type": "float"
        },
        {
         "name": "FNY",
         "rawType": "float64",
         "type": "float"
        },
        {
         "name": "FTLS",
         "rawType": "float64",
         "type": "float"
        },
        {
         "name": "FYC",
         "rawType": "float64",
         "type": "float"
        },
        {
         "name": "GVIP",
         "rawType": "float64",
         "type": "float"
        },
        {
         "name": "HTUS",
         "rawType": "float64",
         "type": "float"
        },
        {
         "name": "IGF",
         "rawType": "float64",
         "type": "float"
        },
        {
         "name": "IHDG",
         "rawType": "float64",
         "type": "float"
        },
        {
         "name": "IMCG",
         "rawType": "float64",
         "type": "float"
        },
        {
         "name": "IMTM",
         "rawType": "float64",
         "type": "float"
        },
        {
         "name": "IOO",
         "rawType": "float64",
         "type": "float"
        },
        {
         "name": "IQLT",
         "rawType": "float64",
         "type": "float"
        },
        {
         "name": "ITOT",
         "rawType": "float64",
         "type": "float"
        },
        {
         "name": "IUSV",
         "rawType": "float64",
         "type": "float"
        },
        {
         "name": "IVE",
         "rawType": "float64",
         "type": "float"
        },
        {
         "name": "IVV",
         "rawType": "float64",
         "type": "float"
        },
        {
         "name": "IWB",
         "rawType": "float64",
         "type": "float"
        },
        {
         "name": "IWL",
         "rawType": "float64",
         "type": "float"
        },
        {
         "name": "IWR",
         "rawType": "float64",
         "type": "float"
        },
        {
         "name": "JDIV",
         "rawType": "float64",
         "type": "float"
        },
        {
         "name": "JMOM",
         "rawType": "float64",
         "type": "float"
        },
        {
         "name": "JQUA",
         "rawType": "float64",
         "type": "float"
        },
        {
         "name": "JSMD",
         "rawType": "float64",
         "type": "float"
        },
        {
         "name": "LRGF",
         "rawType": "float64",
         "type": "float"
        },
        {
         "name": "MAGA",
         "rawType": "float64",
         "type": "float"
        },
        {
         "name": "MFUS",
         "rawType": "float64",
         "type": "float"
        },
        {
         "name": "MGC",
         "rawType": "float64",
         "type": "float"
        },
        {
         "name": "MMTM",
         "rawType": "float64",
         "type": "float"
        },
        {
         "name": "NACP",
         "rawType": "float64",
         "type": "float"
        },
        {
         "name": "OEF",
         "rawType": "float64",
         "type": "float"
        },
        {
         "name": "PBUS",
         "rawType": "float64",
         "type": "float"
        },
        {
         "name": "PCEF",
         "rawType": "float64",
         "type": "float"
        },
        {
         "name": "PFM",
         "rawType": "float64",
         "type": "float"
        },
        {
         "name": "PJUL",
         "rawType": "float64",
         "type": "float"
        },
        {
         "name": "POCT",
         "rawType": "float64",
         "type": "float"
        },
        {
         "name": "QARP",
         "rawType": "float64",
         "type": "float"
        },
        {
         "name": "QDEF",
         "rawType": "float64",
         "type": "float"
        },
        {
         "name": "QDF",
         "rawType": "float64",
         "type": "float"
        },
        {
         "name": "QLC",
         "rawType": "float64",
         "type": "float"
        },
        {
         "name": "QMOM",
         "rawType": "float64",
         "type": "float"
        },
        {
         "name": "QUAL",
         "rawType": "float64",
         "type": "float"
        },
        {
         "name": "QUS",
         "rawType": "float64",
         "type": "float"
        },
        {
         "name": "QWLD",
         "rawType": "float64",
         "type": "float"
        },
        {
         "name": "SCHX",
         "rawType": "float64",
         "type": "float"
        },
        {
         "name": "SIZE",
         "rawType": "float64",
         "type": "float"
        },
        {
         "name": "SMIN",
         "rawType": "float64",
         "type": "float"
        },
        {
         "name": "SPGM",
         "rawType": "float64",
         "type": "float"
        },
        {
         "name": "SPHB",
         "rawType": "float64",
         "type": "float"
        },
        {
         "name": "SPLG",
         "rawType": "float64",
         "type": "float"
        },
        {
         "name": "SPMO",
         "rawType": "float64",
         "type": "float"
        },
        {
         "name": "SPTM",
         "rawType": "float64",
         "type": "float"
        },
        {
         "name": "SPXV",
         "rawType": "float64",
         "type": "float"
        },
        {
         "name": "SPY",
         "rawType": "float64",
         "type": "float"
        },
        {
         "name": "SPYV",
         "rawType": "float64",
         "type": "float"
        },
        {
         "name": "SSPY",
         "rawType": "float64",
         "type": "float"
        },
        {
         "name": "SUSA",
         "rawType": "float64",
         "type": "float"
        },
        {
         "name": "TOK",
         "rawType": "float64",
         "type": "float"
        },
        {
         "name": "URTH",
         "rawType": "float64",
         "type": "float"
        },
        {
         "name": "VO",
         "rawType": "float64",
         "type": "float"
        },
        {
         "name": "VONE",
         "rawType": "float64",
         "type": "float"
        },
        {
         "name": "VOO",
         "rawType": "float64",
         "type": "float"
        },
        {
         "name": "VOOV",
         "rawType": "float64",
         "type": "float"
        },
        {
         "name": "VT",
         "rawType": "float64",
         "type": "float"
        },
        {
         "name": "VUSE",
         "rawType": "float64",
         "type": "float"
        },
        {
         "name": "VV",
         "rawType": "float64",
         "type": "float"
        },
        {
         "name": "WOMN",
         "rawType": "float64",
         "type": "float"
        },
        {
         "name": "WTMF",
         "rawType": "float64",
         "type": "float"
        },
        {
         "name": "XLG",
         "rawType": "float64",
         "type": "float"
        },
        {
         "name": "XRLV",
         "rawType": "float64",
         "type": "float"
        },
        {
         "name": "XSMO",
         "rawType": "float64",
         "type": "float"
        },
        {
         "name": "YLDE",
         "rawType": "float64",
         "type": "float"
        },
        {
         "name": "YYY",
         "rawType": "float64",
         "type": "float"
        }
       ],
       "ref": "7428a866-3718-4446-adeb-a1827582723f",
       "rows": [
        [
         "2020-06-05 00:00:00",
         "70.05",
         "31.31",
         "32.38",
         "35.64",
         "42.17",
         "28.0298",
         "53.92",
         "29.19",
         "27.719999",
         "26.2656",
         "11.49",
         "114.51",
         "35.73",
         "42.71",
         "23.22",
         "43.66",
         "57.02",
         "42.45",
         "7.49",
         "24.93",
         "32.03",
         "69.9",
         "54.24",
         "96.82",
         "40.7",
         "56.34",
         "24.16",
         "35.67",
         "76.24",
         "14.14",
         "36.27",
         "47.12",
         "39.78",
         "42.5",
         "66.02",
         "19.55",
         "36.3",
         "28.86",
         "46.92",
         "26.81",
         "49.61",
         "26.92",
         "66.8",
         "51.05",
         "106.07",
         "297.4",
         "165.75",
         "70.98",
         "52.82",
         "22.45",
         "29.91",
         "29.31",
         "47.38",
         "30.19",
         "24.57",
         "26.66",
         "104.68",
         "126.44",
         "20.98",
         "136.01",
         "29.62",
         "13.74",
         "26.98",
         "27.142",
         "25.41",
         "27.32",
         "39.5",
         "39.89",
         "33.41",
         "32.87",
         "94.05",
         "85.98",
         "75.34",
         "11.84",
         "86.67",
         "26.24",
         "37.12",
         "43.84",
         "34.78",
         "41.2",
         "36.38",
         "30.98",
         "296.91",
         "28.23",
         "44.46",
         "64.01",
         "64.38",
         "88.23",
         "159.43",
         "136.4",
         "272.0",
         "102.08",
         "69.96",
         "27.93",
         "137.14",
         "18.94",
         "26.52",
         "22.7",
         "33.82",
         "36.48",
         "29.12",
         "8.72"
        ],
        [
         "2020-06-08 00:00:00",
         "70.87",
         "31.58",
         "32.55",
         "35.92",
         "42.52",
         "28.01",
         "54.58",
         "29.261",
         "27.925",
         "26.4998",
         "11.38",
         "115.73",
         "36.3",
         "43.05",
         "23.22",
         "44.33",
         "57.64",
         "43.21",
         "7.54",
         "25.25",
         "32.48",
         "71.1",
         "55.42",
         "97.83",
         "41.02",
         "57.38",
         "24.46",
         "36.1",
         "76.95",
         "14.28",
         "36.9",
         "47.51",
         "39.98",
         "42.92",
         "66.67",
         "19.7",
         "37.15",
         "28.72",
         "47.4",
         "26.79",
         "50.2",
         "27.14",
         "67.67",
         "52.04",
         "108.07",
         "301.04",
         "168.03",
         "71.82",
         "53.82",
         "23.14",
         "30.18",
         "29.65",
         "47.8",
         "30.64",
         "25.27",
         "27.03",
         "105.92",
         "126.91",
         "21.1",
         "137.57",
         "30.04",
         "13.83",
         "27.3",
         "27.27",
         "25.52",
         "27.8",
         "40.0",
         "40.48",
         "33.86",
         "32.8",
         "94.9",
         "86.94",
         "76.2",
         "11.99",
         "88.29",
         "26.44",
         "37.62",
         "46.35",
         "35.23",
         "41.53",
         "36.86",
         "31.39",
         "300.5",
         "28.8",
         "45.56",
         "64.72",
         "65.11",
         "89.31",
         "162.48",
         "138.39",
         "275.3",
         "103.94",
         "70.84",
         "28.47",
         "138.92",
         "19.15",
         "26.5",
         "22.91",
         "34.13",
         "36.64",
         "29.5",
         "8.84"
        ],
        [
         "2020-06-09 00:00:00",
         "70.25",
         "31.52",
         "32.47",
         "35.81",
         "42.34",
         "27.9505",
         "54.24",
         "29.1316",
         "27.8786",
         "26.3661",
         "11.39",
         "114.72",
         "35.77",
         "42.74",
         "23.21",
         "43.81",
         "57.18",
         "42.63",
         "7.54",
         "24.93",
         "32.13",
         "70.21",
         "54.59",
         "97.25",
         "40.4",
         "56.26",
         "24.22",
         "36.17",
         "76.45",
         "14.21",
         "36.04",
         "47.21",
         "39.86",
         "42.44",
         "66.36",
         "20.21",
         "36.36",
         "28.35",
         "46.87",
         "26.68",
         "50.07",
         "26.81",
         "67.06",
         "50.98",
         "106.0",
         "298.82",
         "166.45",
         "71.56",
         "52.73",
         "22.58",
         "29.98",
         "29.37",
         "47.39",
         "30.21",
         "24.58",
         "26.7",
         "105.32",
         "127.47",
         "21.07",
         "137.2",
         "29.85",
         "13.82",
         "26.98",
         "27.07",
         "25.379999",
         "27.37",
         "39.66",
         "40.0",
         "33.6",
         "32.92",
         "93.96",
         "86.05",
         "75.46",
         "11.9",
         "86.55",
         "25.85",
         "37.21",
         "44.34",
         "34.96",
         "41.52",
         "36.51",
         "31.21",
         "298.26",
         "28.23",
         "44.52",
         "64.12",
         "64.56",
         "88.48",
         "159.04",
         "137.32",
         "273.34",
         "102.04",
         "70.1",
         "27.78",
         "137.93",
         "19.03",
         "26.56",
         "22.92",
         "33.66",
         "36.28",
         "29.17",
         "8.79"
        ],
        [
         "2020-06-10 00:00:00",
         "70.05",
         "31.62",
         "32.4",
         "35.81",
         "42.2",
         "27.8728",
         "54.02",
         "28.98",
         "27.767",
         "26.18",
         "11.31",
         "114.14",
         "35.19",
         "42.59",
         "22.93",
         "43.29",
         "57.0",
         "41.99",
         "7.55",
         "24.67",
         "31.71",
         "69.29",
         "53.71",
         "97.15",
         "40.23",
         "55.29",
         "24.01",
         "36.12",
         "76.39",
         "14.19",
         "35.14",
         "47.11",
         "39.75",
         "41.6",
         "66.5",
         "19.87",
         "35.89",
         "28.5",
         "47.0",
         "26.92",
         "50.27",
         "26.89",
         "66.57",
         "49.92",
         "103.81",
         "297.06",
         "165.44",
         "71.42",
         "51.87",
         "22.04",
         "29.99",
         "29.26",
         "47.26",
         "29.98",
         "23.84",
         "26.4",
         "105.02",
         "128.43",
         "21.02",
         "137.02",
         "29.83",
         "13.76",
         "26.79",
         "27.084999",
         "25.360001",
         "27.24",
         "39.25",
         "39.58",
         "33.37",
         "33.36",
         "93.4",
         "85.44",
         "75.25",
         "11.83",
         "84.88",
         "26.27",
         "37.15",
         "41.9",
         "34.76",
         "41.92",
         "36.24",
         "31.07",
         "296.6",
         "27.66",
         "43.51",
         "63.98",
         "64.56",
         "88.15",
         "156.96",
         "136.55",
         "271.64",
         "99.87",
         "69.89",
         "27.01",
         "137.14",
         "18.97",
         "26.69",
         "23.0",
         "33.41",
         "35.51",
         "28.98",
         "8.77"
        ],
        [
         "2020-06-11 00:00:00",
         "66.11",
         "30.46",
         "31.76",
         "34.86",
         "40.71",
         "26.988001",
         "50.81",
         "27.7428",
         "26.53",
         "25.2288",
         "10.8",
         "107.99",
         "32.92",
         "40.23",
         "21.93",
         "40.62",
         "53.74",
         "39.36",
         "7.51",
         "23.17",
         "29.75",
         "64.95",
         "50.07",
         "91.91",
         "37.53",
         "51.67",
         "22.63",
         "34.7",
         "72.04",
         "13.42",
         "32.68",
         "44.28",
         "38.14",
         "38.66",
         "62.54",
         "19.04",
         "33.75",
         "27.47",
         "44.49",
         "25.86",
         "47.6",
         "25.57",
         "62.7",
         "46.56",
         "97.05",
         "279.87",
         "155.78",
         "67.25",
         "48.65",
         "20.52",
         "28.41",
         "27.63",
         "43.86",
         "28.2",
         "22.03",
         "24.82",
         "98.95",
         "121.64",
         "20.14",
         "129.47",
         "27.95",
         "13.2",
         "25.3",
         "26.34",
         "24.76",
         "25.57",
         "37.01",
         "37.11",
         "31.39",
         "31.91",
         "87.86",
         "80.33",
         "71.08",
         "11.15",
         "79.34",
         "24.32",
         "35.0",
         "37.6",
         "32.74",
         "39.69",
         "34.11",
         "29.21",
         "279.5",
         "25.85",
         "40.59",
         "60.41",
         "60.74",
         "83.15",
         "147.19",
         "128.31",
         "255.98",
         "93.36",
         "65.91",
         "25.05",
         "129.18",
         "17.98",
         "26.84",
         "21.71",
         "31.54",
         "32.93",
         "27.32",
         "8.38"
        ]
       ],
       "shape": {
        "columns": 102,
        "rows": 5
       }
      },
      "text/html": [
       "<div>\n",
       "<style scoped>\n",
       "    .dataframe tbody tr th:only-of-type {\n",
       "        vertical-align: middle;\n",
       "    }\n",
       "\n",
       "    .dataframe tbody tr th {\n",
       "        vertical-align: top;\n",
       "    }\n",
       "\n",
       "    .dataframe thead th {\n",
       "        text-align: right;\n",
       "    }\n",
       "</style>\n",
       "<table border=\"1\" class=\"dataframe\">\n",
       "  <thead>\n",
       "    <tr style=\"text-align: right;\">\n",
       "      <th></th>\n",
       "      <th>ACWI</th>\n",
       "      <th>ADME</th>\n",
       "      <th>AOK</th>\n",
       "      <th>AOM</th>\n",
       "      <th>AOR</th>\n",
       "      <th>BAPR</th>\n",
       "      <th>BBUS</th>\n",
       "      <th>BJAN</th>\n",
       "      <th>BJUL</th>\n",
       "      <th>BOCT</th>\n",
       "      <th>...</th>\n",
       "      <th>VT</th>\n",
       "      <th>VUSE</th>\n",
       "      <th>VV</th>\n",
       "      <th>WOMN</th>\n",
       "      <th>WTMF</th>\n",
       "      <th>XLG</th>\n",
       "      <th>XRLV</th>\n",
       "      <th>XSMO</th>\n",
       "      <th>YLDE</th>\n",
       "      <th>YYY</th>\n",
       "    </tr>\n",
       "    <tr>\n",
       "      <th>Date</th>\n",
       "      <th></th>\n",
       "      <th></th>\n",
       "      <th></th>\n",
       "      <th></th>\n",
       "      <th></th>\n",
       "      <th></th>\n",
       "      <th></th>\n",
       "      <th></th>\n",
       "      <th></th>\n",
       "      <th></th>\n",
       "      <th></th>\n",
       "      <th></th>\n",
       "      <th></th>\n",
       "      <th></th>\n",
       "      <th></th>\n",
       "      <th></th>\n",
       "      <th></th>\n",
       "      <th></th>\n",
       "      <th></th>\n",
       "      <th></th>\n",
       "      <th></th>\n",
       "    </tr>\n",
       "  </thead>\n",
       "  <tbody>\n",
       "    <tr>\n",
       "      <th>2020-06-05</th>\n",
       "      <td>70.05</td>\n",
       "      <td>31.31</td>\n",
       "      <td>32.38</td>\n",
       "      <td>35.64</td>\n",
       "      <td>42.17</td>\n",
       "      <td>28.029800</td>\n",
       "      <td>53.92</td>\n",
       "      <td>29.1900</td>\n",
       "      <td>27.719999</td>\n",
       "      <td>26.2656</td>\n",
       "      <td>...</td>\n",
       "      <td>69.96</td>\n",
       "      <td>27.93</td>\n",
       "      <td>137.14</td>\n",
       "      <td>18.94</td>\n",
       "      <td>26.52</td>\n",
       "      <td>22.70</td>\n",
       "      <td>33.82</td>\n",
       "      <td>36.48</td>\n",
       "      <td>29.12</td>\n",
       "      <td>8.72</td>\n",
       "    </tr>\n",
       "    <tr>\n",
       "      <th>2020-06-08</th>\n",
       "      <td>70.87</td>\n",
       "      <td>31.58</td>\n",
       "      <td>32.55</td>\n",
       "      <td>35.92</td>\n",
       "      <td>42.52</td>\n",
       "      <td>28.010000</td>\n",
       "      <td>54.58</td>\n",
       "      <td>29.2610</td>\n",
       "      <td>27.925000</td>\n",
       "      <td>26.4998</td>\n",
       "      <td>...</td>\n",
       "      <td>70.84</td>\n",
       "      <td>28.47</td>\n",
       "      <td>138.92</td>\n",
       "      <td>19.15</td>\n",
       "      <td>26.50</td>\n",
       "      <td>22.91</td>\n",
       "      <td>34.13</td>\n",
       "      <td>36.64</td>\n",
       "      <td>29.50</td>\n",
       "      <td>8.84</td>\n",
       "    </tr>\n",
       "    <tr>\n",
       "      <th>2020-06-09</th>\n",
       "      <td>70.25</td>\n",
       "      <td>31.52</td>\n",
       "      <td>32.47</td>\n",
       "      <td>35.81</td>\n",
       "      <td>42.34</td>\n",
       "      <td>27.950500</td>\n",
       "      <td>54.24</td>\n",
       "      <td>29.1316</td>\n",
       "      <td>27.878600</td>\n",
       "      <td>26.3661</td>\n",
       "      <td>...</td>\n",
       "      <td>70.10</td>\n",
       "      <td>27.78</td>\n",
       "      <td>137.93</td>\n",
       "      <td>19.03</td>\n",
       "      <td>26.56</td>\n",
       "      <td>22.92</td>\n",
       "      <td>33.66</td>\n",
       "      <td>36.28</td>\n",
       "      <td>29.17</td>\n",
       "      <td>8.79</td>\n",
       "    </tr>\n",
       "    <tr>\n",
       "      <th>2020-06-10</th>\n",
       "      <td>70.05</td>\n",
       "      <td>31.62</td>\n",
       "      <td>32.40</td>\n",
       "      <td>35.81</td>\n",
       "      <td>42.20</td>\n",
       "      <td>27.872800</td>\n",
       "      <td>54.02</td>\n",
       "      <td>28.9800</td>\n",
       "      <td>27.767000</td>\n",
       "      <td>26.1800</td>\n",
       "      <td>...</td>\n",
       "      <td>69.89</td>\n",
       "      <td>27.01</td>\n",
       "      <td>137.14</td>\n",
       "      <td>18.97</td>\n",
       "      <td>26.69</td>\n",
       "      <td>23.00</td>\n",
       "      <td>33.41</td>\n",
       "      <td>35.51</td>\n",
       "      <td>28.98</td>\n",
       "      <td>8.77</td>\n",
       "    </tr>\n",
       "    <tr>\n",
       "      <th>2020-06-11</th>\n",
       "      <td>66.11</td>\n",
       "      <td>30.46</td>\n",
       "      <td>31.76</td>\n",
       "      <td>34.86</td>\n",
       "      <td>40.71</td>\n",
       "      <td>26.988001</td>\n",
       "      <td>50.81</td>\n",
       "      <td>27.7428</td>\n",
       "      <td>26.530000</td>\n",
       "      <td>25.2288</td>\n",
       "      <td>...</td>\n",
       "      <td>65.91</td>\n",
       "      <td>25.05</td>\n",
       "      <td>129.18</td>\n",
       "      <td>17.98</td>\n",
       "      <td>26.84</td>\n",
       "      <td>21.71</td>\n",
       "      <td>31.54</td>\n",
       "      <td>32.93</td>\n",
       "      <td>27.32</td>\n",
       "      <td>8.38</td>\n",
       "    </tr>\n",
       "  </tbody>\n",
       "</table>\n",
       "<p>5 rows × 102 columns</p>\n",
       "</div>"
      ],
      "text/plain": [
       "             ACWI   ADME    AOK    AOM    AOR       BAPR   BBUS     BJAN  \\\n",
       "Date                                                                       \n",
       "2020-06-05  70.05  31.31  32.38  35.64  42.17  28.029800  53.92  29.1900   \n",
       "2020-06-08  70.87  31.58  32.55  35.92  42.52  28.010000  54.58  29.2610   \n",
       "2020-06-09  70.25  31.52  32.47  35.81  42.34  27.950500  54.24  29.1316   \n",
       "2020-06-10  70.05  31.62  32.40  35.81  42.20  27.872800  54.02  28.9800   \n",
       "2020-06-11  66.11  30.46  31.76  34.86  40.71  26.988001  50.81  27.7428   \n",
       "\n",
       "                 BJUL     BOCT  ...     VT   VUSE      VV   WOMN   WTMF  \\\n",
       "Date                            ...                                       \n",
       "2020-06-05  27.719999  26.2656  ...  69.96  27.93  137.14  18.94  26.52   \n",
       "2020-06-08  27.925000  26.4998  ...  70.84  28.47  138.92  19.15  26.50   \n",
       "2020-06-09  27.878600  26.3661  ...  70.10  27.78  137.93  19.03  26.56   \n",
       "2020-06-10  27.767000  26.1800  ...  69.89  27.01  137.14  18.97  26.69   \n",
       "2020-06-11  26.530000  25.2288  ...  65.91  25.05  129.18  17.98  26.84   \n",
       "\n",
       "              XLG   XRLV   XSMO   YLDE   YYY  \n",
       "Date                                          \n",
       "2020-06-05  22.70  33.82  36.48  29.12  8.72  \n",
       "2020-06-08  22.91  34.13  36.64  29.50  8.84  \n",
       "2020-06-09  22.92  33.66  36.28  29.17  8.79  \n",
       "2020-06-10  23.00  33.41  35.51  28.98  8.77  \n",
       "2020-06-11  21.71  31.54  32.93  27.32  8.38  \n",
       "\n",
       "[5 rows x 102 columns]"
      ]
     },
     "execution_count": 12,
     "metadata": {},
     "output_type": "execute_result"
    }
   ],
   "source": [
    "# Identify columns with null values in first or last 50 rows\n",
    "first_50_nulls = benchmark_prices_daily_df.head(50).isnull().any()\n",
    "last_50_nulls = benchmark_prices_daily_df.tail(50).isnull().any()\n",
    "\n",
    "# Columns to drop are those with nulls in first 50 OR last 50 rows\n",
    "columns_to_drop = first_50_nulls | last_50_nulls\n",
    "bad_columns = columns_to_drop[columns_to_drop].index.tolist()\n",
    "\n",
    "print(f\"Dropping {len(bad_columns)} columns with missing values in first/last 50 records: {bad_columns}\")\n",
    "\n",
    "# Drop those columns\n",
    "benchmark_prices_daily_df = benchmark_prices_daily_df.loc[:, ~columns_to_drop]\n",
    "\n",
    "# Display the first few rows of the cleaned dataframe\n",
    "benchmark_prices_daily_df.head()"
   ]
  },
  {
   "cell_type": "markdown",
   "id": "66c53499",
   "metadata": {},
   "source": [
    "#### Monthly Quotes"
   ]
  },
  {
   "cell_type": "code",
   "execution_count": 13,
   "id": "f67e5873",
   "metadata": {
    "execution": {
     "iopub.execute_input": "2025-06-02T13:28:31.265319Z",
     "iopub.status.busy": "2025-06-02T13:28:31.264968Z",
     "iopub.status.idle": "2025-06-02T13:28:31.289915Z",
     "shell.execute_reply": "2025-06-02T13:28:31.289100Z"
    }
   },
   "outputs": [
    {
     "data": {
      "application/vnd.microsoft.datawrangler.viewer.v0+json": {
       "columns": [
        {
         "name": "Date",
         "rawType": "datetime64[ns]",
         "type": "datetime"
        },
        {
         "name": "ACWI",
         "rawType": "float64",
         "type": "float"
        },
        {
         "name": "ADME",
         "rawType": "float64",
         "type": "float"
        },
        {
         "name": "AOK",
         "rawType": "float64",
         "type": "float"
        },
        {
         "name": "AOM",
         "rawType": "float64",
         "type": "float"
        },
        {
         "name": "AOR",
         "rawType": "float64",
         "type": "float"
        },
        {
         "name": "BAPR",
         "rawType": "float64",
         "type": "float"
        },
        {
         "name": "BBUS",
         "rawType": "float64",
         "type": "float"
        },
        {
         "name": "BJAN",
         "rawType": "float64",
         "type": "float"
        },
        {
         "name": "BJUL",
         "rawType": "float64",
         "type": "float"
        },
        {
         "name": "BOCT",
         "rawType": "float64",
         "type": "float"
        },
        {
         "name": "CEFS",
         "rawType": "float64",
         "type": "float"
        },
        {
         "name": "CRBN",
         "rawType": "float64",
         "type": "float"
        },
        {
         "name": "DGRO",
         "rawType": "float64",
         "type": "float"
        },
        {
         "name": "DGRW",
         "rawType": "float64",
         "type": "float"
        },
        {
         "name": "DIVO",
         "rawType": "float64",
         "type": "float"
        },
        {
         "name": "DLN",
         "rawType": "float64",
         "type": "float"
        },
        {
         "name": "DSI",
         "rawType": "float64",
         "type": "float"
        },
        {
         "name": "DTD",
         "rawType": "float64",
         "type": "float"
        },
        {
         "name": "DWAT",
         "rawType": "float64",
         "type": "float"
        },
        {
         "name": "DYNF",
         "rawType": "float64",
         "type": "float"
        },
        {
         "name": "EPS",
         "rawType": "float64",
         "type": "float"
        },
        {
         "name": "EQL",
         "rawType": "float64",
         "type": "float"
        },
        {
         "name": "EQWL",
         "rawType": "float64",
         "type": "float"
        },
        {
         "name": "ESGG",
         "rawType": "float64",
         "type": "float"
        },
        {
         "name": "ETHO",
         "rawType": "float64",
         "type": "float"
        },
        {
         "name": "EUSA",
         "rawType": "float64",
         "type": "float"
        },
        {
         "name": "EWC",
         "rawType": "float64",
         "type": "float"
        },
        {
         "name": "EWL",
         "rawType": "float64",
         "type": "float"
        },
        {
         "name": "FAD",
         "rawType": "float64",
         "type": "float"
        },
        {
         "name": "FCEF",
         "rawType": "float64",
         "type": "float"
        },
        {
         "name": "FIDU",
         "rawType": "float64",
         "type": "float"
        },
        {
         "name": "FNY",
         "rawType": "float64",
         "type": "float"
        },
        {
         "name": "FTLS",
         "rawType": "float64",
         "type": "float"
        },
        {
         "name": "FYC",
         "rawType": "float64",
         "type": "float"
        },
        {
         "name": "GVIP",
         "rawType": "float64",
         "type": "float"
        },
        {
         "name": "HTUS",
         "rawType": "float64",
         "type": "float"
        },
        {
         "name": "IGF",
         "rawType": "float64",
         "type": "float"
        },
        {
         "name": "IHDG",
         "rawType": "float64",
         "type": "float"
        },
        {
         "name": "IMCG",
         "rawType": "float64",
         "type": "float"
        },
        {
         "name": "IMTM",
         "rawType": "float64",
         "type": "float"
        },
        {
         "name": "IOO",
         "rawType": "float64",
         "type": "float"
        },
        {
         "name": "IQLT",
         "rawType": "float64",
         "type": "float"
        },
        {
         "name": "ITOT",
         "rawType": "float64",
         "type": "float"
        },
        {
         "name": "IUSV",
         "rawType": "float64",
         "type": "float"
        },
        {
         "name": "IVE",
         "rawType": "float64",
         "type": "float"
        },
        {
         "name": "IVV",
         "rawType": "float64",
         "type": "float"
        },
        {
         "name": "IWB",
         "rawType": "float64",
         "type": "float"
        },
        {
         "name": "IWL",
         "rawType": "float64",
         "type": "float"
        },
        {
         "name": "IWR",
         "rawType": "float64",
         "type": "float"
        },
        {
         "name": "JDIV",
         "rawType": "float64",
         "type": "float"
        },
        {
         "name": "JMOM",
         "rawType": "float64",
         "type": "float"
        },
        {
         "name": "JQUA",
         "rawType": "float64",
         "type": "float"
        },
        {
         "name": "JSMD",
         "rawType": "float64",
         "type": "float"
        },
        {
         "name": "LRGF",
         "rawType": "float64",
         "type": "float"
        },
        {
         "name": "MAGA",
         "rawType": "float64",
         "type": "float"
        },
        {
         "name": "MFUS",
         "rawType": "float64",
         "type": "float"
        },
        {
         "name": "MGC",
         "rawType": "float64",
         "type": "float"
        },
        {
         "name": "MMTM",
         "rawType": "float64",
         "type": "float"
        },
        {
         "name": "NACP",
         "rawType": "float64",
         "type": "float"
        },
        {
         "name": "OEF",
         "rawType": "float64",
         "type": "float"
        },
        {
         "name": "PBUS",
         "rawType": "float64",
         "type": "float"
        },
        {
         "name": "PCEF",
         "rawType": "float64",
         "type": "float"
        },
        {
         "name": "PFM",
         "rawType": "float64",
         "type": "float"
        },
        {
         "name": "PJUL",
         "rawType": "float64",
         "type": "float"
        },
        {
         "name": "POCT",
         "rawType": "float64",
         "type": "float"
        },
        {
         "name": "QARP",
         "rawType": "float64",
         "type": "float"
        },
        {
         "name": "QDEF",
         "rawType": "float64",
         "type": "float"
        },
        {
         "name": "QDF",
         "rawType": "float64",
         "type": "float"
        },
        {
         "name": "QLC",
         "rawType": "float64",
         "type": "float"
        },
        {
         "name": "QMOM",
         "rawType": "float64",
         "type": "float"
        },
        {
         "name": "QUAL",
         "rawType": "float64",
         "type": "float"
        },
        {
         "name": "QUS",
         "rawType": "float64",
         "type": "float"
        },
        {
         "name": "QWLD",
         "rawType": "float64",
         "type": "float"
        },
        {
         "name": "SCHX",
         "rawType": "float64",
         "type": "float"
        },
        {
         "name": "SIZE",
         "rawType": "float64",
         "type": "float"
        },
        {
         "name": "SMIN",
         "rawType": "float64",
         "type": "float"
        },
        {
         "name": "SPGM",
         "rawType": "float64",
         "type": "float"
        },
        {
         "name": "SPHB",
         "rawType": "float64",
         "type": "float"
        },
        {
         "name": "SPLG",
         "rawType": "float64",
         "type": "float"
        },
        {
         "name": "SPMO",
         "rawType": "float64",
         "type": "float"
        },
        {
         "name": "SPTM",
         "rawType": "float64",
         "type": "float"
        },
        {
         "name": "SPXV",
         "rawType": "float64",
         "type": "float"
        },
        {
         "name": "SPY",
         "rawType": "float64",
         "type": "float"
        },
        {
         "name": "SPYV",
         "rawType": "float64",
         "type": "float"
        },
        {
         "name": "SSPY",
         "rawType": "float64",
         "type": "float"
        },
        {
         "name": "SUSA",
         "rawType": "float64",
         "type": "float"
        },
        {
         "name": "TOK",
         "rawType": "float64",
         "type": "float"
        },
        {
         "name": "URTH",
         "rawType": "float64",
         "type": "float"
        },
        {
         "name": "VO",
         "rawType": "float64",
         "type": "float"
        },
        {
         "name": "VONE",
         "rawType": "float64",
         "type": "float"
        },
        {
         "name": "VOO",
         "rawType": "float64",
         "type": "float"
        },
        {
         "name": "VOOV",
         "rawType": "float64",
         "type": "float"
        },
        {
         "name": "VT",
         "rawType": "float64",
         "type": "float"
        },
        {
         "name": "VUSE",
         "rawType": "float64",
         "type": "float"
        },
        {
         "name": "VV",
         "rawType": "float64",
         "type": "float"
        },
        {
         "name": "WOMN",
         "rawType": "float64",
         "type": "float"
        },
        {
         "name": "WTMF",
         "rawType": "float64",
         "type": "float"
        },
        {
         "name": "XLG",
         "rawType": "float64",
         "type": "float"
        },
        {
         "name": "XRLV",
         "rawType": "float64",
         "type": "float"
        },
        {
         "name": "XSMO",
         "rawType": "float64",
         "type": "float"
        },
        {
         "name": "YLDE",
         "rawType": "float64",
         "type": "float"
        },
        {
         "name": "YYY",
         "rawType": "float64",
         "type": "float"
        }
       ],
       "ref": "bc2fece3-8d7e-4d66-b7ef-c87d88390bed",
       "rows": [
        [
         "2020-06-01 00:00:00",
         "68.12",
         "31.24",
         "32.27",
         "35.37",
         "41.53",
         "27.603001",
         "52.47",
         "28.362",
         "26.99",
         "25.889999",
         "11.05",
         "111.29",
         "33.65",
         "41.66",
         "22.42",
         "41.47",
         "55.73",
         "40.13",
         "7.52",
         "23.71",
         "30.53",
         "66.27",
         "51.24",
         "94.88",
         "39.34",
         "53.22",
         "23.44",
         "35.92",
         "76.44",
         "13.66",
         "33.59",
         "47.16",
         "39.2",
         "41.52",
         "65.04",
         "19.34",
         "33.65",
         "28.48",
         "47.31",
         "27.42",
         "49.27",
         "26.35",
         "64.81",
         "47.23",
         "98.29",
         "288.58",
         "161.06",
         "69.55",
         "50.21",
         "20.82",
         "29.49",
         "28.4",
         "46.61",
         "29.04",
         "22.28",
         "25.33",
         "102.37",
         "126.73",
         "20.52",
         "134.02",
         "29.18",
         "13.44",
         "25.82",
         "26.75",
         "25.18",
         "26.31",
         "37.73",
         "38.12",
         "32.49",
         "34.19",
         "90.09",
         "82.09",
         "72.77",
         "11.51",
         "81.6",
         "26.9",
         "36.26",
         "38.29",
         "33.77",
         "41.3",
         "35.2",
         "30.17",
         "287.97",
         "26.15",
         "41.54",
         "62.9",
         "62.71",
         "85.78",
         "152.44",
         "132.74",
         "263.93",
         "94.53",
         "67.88",
         "25.91",
         "133.47",
         "18.59",
         "26.94",
         "22.62",
         "32.49",
         "34.74",
         "27.88",
         "8.45"
        ],
        [
         "2020-07-01 00:00:00",
         "71.77",
         "32.74",
         "33.06",
         "36.44",
         "42.99",
         "28.2216",
         "55.55",
         "29.5439",
         "27.92",
         "26.8389",
         "11.61",
         "116.85",
         "35.09",
         "43.57",
         "23.04",
         "43.04",
         "58.44",
         "41.52",
         "8.08",
         "24.62",
         "31.85",
         "69.33",
         "52.83",
         "98.94",
         "41.46",
         "55.8",
         "24.74",
         "37.37",
         "81.37",
         "14.18",
         "35.09",
         "50.53",
         "41.14",
         "43.44",
         "69.84",
         "21.17",
         "34.4",
         "28.29",
         "50.83",
         "28.8",
         "51.48",
         "27.13",
         "68.54",
         "48.97",
         "101.96",
         "305.47",
         "170.62",
         "73.57",
         "53.18",
         "21.55",
         "31.61",
         "29.68",
         "50.05",
         "30.44",
         "23.3",
         "26.61",
         "108.18",
         "135.3",
         "21.74",
         "141.63",
         "30.8",
         "13.98",
         "26.91",
         "27.379999",
         "25.780001",
         "27.27",
         "39.44",
         "39.96",
         "34.02",
         "38.59",
         "94.55",
         "85.6",
         "75.19",
         "12.19",
         "85.8",
         "28.81",
         "37.86",
         "39.14",
         "35.74",
         "44.46",
         "37.19",
         "31.87",
         "304.92",
         "27.17",
         "43.28",
         "66.77",
         "66.09",
         "89.98",
         "162.1",
         "140.51",
         "279.46",
         "98.06",
         "71.48",
         "26.96",
         "141.45",
         "19.82",
         "27.31",
         "24.04",
         "34.72",
         "37.94",
         "29.4",
         "8.77"
        ],
        [
         "2020-08-01 00:00:00",
         "76.1",
         "34.35",
         "33.54",
         "37.19",
         "44.48",
         "28.7749",
         "59.81",
         "30.68",
         "28.8268",
         "27.805",
         "11.94",
         "124.77",
         "36.79",
         "46.48",
         "24.65",
         "44.99",
         "63.08",
         "43.47",
         "8.41",
         "26.16",
         "33.93",
         "72.94",
         "56.45",
         "106.34",
         "43.33",
         "58.46",
         "26.0",
         "38.48",
         "85.97",
         "14.72",
         "37.98",
         "52.81",
         "42.46",
         "46.93",
         "78.65",
         "22.12",
         "34.93",
         "29.05",
         "52.56",
         "29.77",
         "55.48",
         "28.4",
         "73.38",
         "50.65",
         "105.56",
         "326.86",
         "183.08",
         "79.95",
         "55.04",
         "22.5",
         "33.73",
         "31.41",
         "51.58",
         "31.92",
         "24.45",
         "28.18",
         "117.27",
         "147.08",
         "23.77",
         "154.26",
         "33.35",
         "14.32",
         "28.35",
         "27.9455",
         "26.16",
         "29.33",
         "41.22",
         "42.0",
         "36.19",
         "40.1",
         "101.04",
         "90.23",
         "79.21",
         "13.08",
         "89.64",
         "31.82",
         "40.63",
         "41.85",
         "38.24",
         "48.24",
         "39.73",
         "34.42",
         "326.21",
         "28.1",
         "45.29",
         "71.95",
         "70.41",
         "95.85",
         "167.26",
         "150.76",
         "298.94",
         "101.52",
         "75.77",
         "28.39",
         "152.24",
         "22.21",
         "27.18",
         "26.36",
         "36.08",
         "39.01",
         "30.9",
         "9.03"
        ],
        [
         "2020-09-01 00:00:00",
         "73.85",
         "32.83",
         "33.14",
         "36.65",
         "43.65",
         "28.5677",
         "57.46",
         "30.16",
         "28.34",
         "27.8875",
         "11.78",
         "120.66",
         "35.84",
         "45.58",
         "24.43",
         "43.6",
         "60.63",
         "42.12",
         "8.25",
         "25.47",
         "32.76",
         "70.56",
         "54.73",
         "101.81",
         "42.38",
         "57.04",
         "24.83",
         "37.87",
         "84.48",
         "14.47",
         "37.68",
         "52.88",
         "40.71",
         "46.27",
         "76.76",
         "21.99",
         "33.91",
         "29.82",
         "51.72",
         "29.7",
         "52.56",
         "28.07",
         "70.77",
         "49.45",
         "102.87",
         "314.57",
         "176.3",
         "76.57",
         "53.96",
         "21.84",
         "33.16",
         "30.4",
         "50.59",
         "31.15",
         "23.68",
         "27.48",
         "112.53",
         "140.58",
         "22.84",
         "147.15",
         "31.96",
         "13.96",
         "27.84",
         "27.673",
         "26.41",
         "28.09",
         "40.12",
         "40.53",
         "34.74",
         "40.34",
         "97.85",
         "87.96",
         "77.03",
         "12.6",
         "87.75",
         "33.0",
         "39.4",
         "39.94",
         "36.8",
         "47.43",
         "38.24",
         "33.03",
         "313.99",
         "27.42",
         "44.0",
         "69.42",
         "67.77",
         "92.65",
         "164.57",
         "145.26",
         "287.71",
         "99.1",
         "73.55",
         "27.22",
         "146.61",
         "21.47",
         "26.95",
         "24.99",
         "35.29",
         "38.57",
         "30.42",
         "8.88"
        ],
        [
         "2020-10-01 00:00:00",
         "72.21",
         "32.25",
         "32.89",
         "36.23",
         "42.95",
         "28.3235",
         "56.0",
         "29.83",
         "27.83",
         "27.24",
         "11.78",
         "117.66",
         "35.09",
         "43.98",
         "23.59",
         "42.33",
         "59.24",
         "41.05",
         "8.15",
         "24.83",
         "32.02",
         "68.94",
         "53.17",
         "98.34",
         "42.28",
         "56.67",
         "23.98",
         "35.9",
         "83.58",
         "14.08",
         "37.15",
         "52.81",
         "39.94",
         "46.13",
         "74.5",
         "21.89",
         "33.5",
         "28.72",
         "51.93",
         "28.61",
         "50.92",
         "27.07",
         "69.42",
         "48.65",
         "100.99",
         "306.67",
         "172.25",
         "74.1",
         "54.31",
         "21.87",
         "32.2",
         "29.55",
         "51.12",
         "30.81",
         "23.52",
         "26.92",
         "109.07",
         "135.59",
         "22.23",
         "142.48",
         "31.05",
         "13.71",
         "27.24",
         "27.32",
         "26.120001",
         "27.18",
         "38.69",
         "39.38",
         "33.47",
         "38.64",
         "95.32",
         "85.43",
         "74.45",
         "12.3",
         "87.61",
         "32.16",
         "38.26",
         "40.64",
         "35.89",
         "45.4",
         "37.37",
         "32.04",
         "306.16",
         "26.93",
         "43.54",
         "68.22",
         "65.56",
         "89.87",
         "164.46",
         "142.01",
         "280.39",
         "97.28",
         "72.04",
         "27.13",
         "142.95",
         "20.92",
         "26.79",
         "24.1",
         "34.02",
         "38.28",
         "29.5",
         "8.73"
        ]
       ],
       "shape": {
        "columns": 102,
        "rows": 5
       }
      },
      "text/html": [
       "<div>\n",
       "<style scoped>\n",
       "    .dataframe tbody tr th:only-of-type {\n",
       "        vertical-align: middle;\n",
       "    }\n",
       "\n",
       "    .dataframe tbody tr th {\n",
       "        vertical-align: top;\n",
       "    }\n",
       "\n",
       "    .dataframe thead th {\n",
       "        text-align: right;\n",
       "    }\n",
       "</style>\n",
       "<table border=\"1\" class=\"dataframe\">\n",
       "  <thead>\n",
       "    <tr style=\"text-align: right;\">\n",
       "      <th></th>\n",
       "      <th>ACWI</th>\n",
       "      <th>ADME</th>\n",
       "      <th>AOK</th>\n",
       "      <th>AOM</th>\n",
       "      <th>AOR</th>\n",
       "      <th>BAPR</th>\n",
       "      <th>BBUS</th>\n",
       "      <th>BJAN</th>\n",
       "      <th>BJUL</th>\n",
       "      <th>BOCT</th>\n",
       "      <th>...</th>\n",
       "      <th>VT</th>\n",
       "      <th>VUSE</th>\n",
       "      <th>VV</th>\n",
       "      <th>WOMN</th>\n",
       "      <th>WTMF</th>\n",
       "      <th>XLG</th>\n",
       "      <th>XRLV</th>\n",
       "      <th>XSMO</th>\n",
       "      <th>YLDE</th>\n",
       "      <th>YYY</th>\n",
       "    </tr>\n",
       "    <tr>\n",
       "      <th>Date</th>\n",
       "      <th></th>\n",
       "      <th></th>\n",
       "      <th></th>\n",
       "      <th></th>\n",
       "      <th></th>\n",
       "      <th></th>\n",
       "      <th></th>\n",
       "      <th></th>\n",
       "      <th></th>\n",
       "      <th></th>\n",
       "      <th></th>\n",
       "      <th></th>\n",
       "      <th></th>\n",
       "      <th></th>\n",
       "      <th></th>\n",
       "      <th></th>\n",
       "      <th></th>\n",
       "      <th></th>\n",
       "      <th></th>\n",
       "      <th></th>\n",
       "      <th></th>\n",
       "    </tr>\n",
       "  </thead>\n",
       "  <tbody>\n",
       "    <tr>\n",
       "      <th>2020-06-01</th>\n",
       "      <td>68.12</td>\n",
       "      <td>31.24</td>\n",
       "      <td>32.27</td>\n",
       "      <td>35.37</td>\n",
       "      <td>41.53</td>\n",
       "      <td>27.603001</td>\n",
       "      <td>52.47</td>\n",
       "      <td>28.3620</td>\n",
       "      <td>26.9900</td>\n",
       "      <td>25.889999</td>\n",
       "      <td>...</td>\n",
       "      <td>67.88</td>\n",
       "      <td>25.91</td>\n",
       "      <td>133.47</td>\n",
       "      <td>18.59</td>\n",
       "      <td>26.94</td>\n",
       "      <td>22.62</td>\n",
       "      <td>32.49</td>\n",
       "      <td>34.74</td>\n",
       "      <td>27.88</td>\n",
       "      <td>8.45</td>\n",
       "    </tr>\n",
       "    <tr>\n",
       "      <th>2020-07-01</th>\n",
       "      <td>71.77</td>\n",
       "      <td>32.74</td>\n",
       "      <td>33.06</td>\n",
       "      <td>36.44</td>\n",
       "      <td>42.99</td>\n",
       "      <td>28.221600</td>\n",
       "      <td>55.55</td>\n",
       "      <td>29.5439</td>\n",
       "      <td>27.9200</td>\n",
       "      <td>26.838900</td>\n",
       "      <td>...</td>\n",
       "      <td>71.48</td>\n",
       "      <td>26.96</td>\n",
       "      <td>141.45</td>\n",
       "      <td>19.82</td>\n",
       "      <td>27.31</td>\n",
       "      <td>24.04</td>\n",
       "      <td>34.72</td>\n",
       "      <td>37.94</td>\n",
       "      <td>29.40</td>\n",
       "      <td>8.77</td>\n",
       "    </tr>\n",
       "    <tr>\n",
       "      <th>2020-08-01</th>\n",
       "      <td>76.10</td>\n",
       "      <td>34.35</td>\n",
       "      <td>33.54</td>\n",
       "      <td>37.19</td>\n",
       "      <td>44.48</td>\n",
       "      <td>28.774900</td>\n",
       "      <td>59.81</td>\n",
       "      <td>30.6800</td>\n",
       "      <td>28.8268</td>\n",
       "      <td>27.805000</td>\n",
       "      <td>...</td>\n",
       "      <td>75.77</td>\n",
       "      <td>28.39</td>\n",
       "      <td>152.24</td>\n",
       "      <td>22.21</td>\n",
       "      <td>27.18</td>\n",
       "      <td>26.36</td>\n",
       "      <td>36.08</td>\n",
       "      <td>39.01</td>\n",
       "      <td>30.90</td>\n",
       "      <td>9.03</td>\n",
       "    </tr>\n",
       "    <tr>\n",
       "      <th>2020-09-01</th>\n",
       "      <td>73.85</td>\n",
       "      <td>32.83</td>\n",
       "      <td>33.14</td>\n",
       "      <td>36.65</td>\n",
       "      <td>43.65</td>\n",
       "      <td>28.567700</td>\n",
       "      <td>57.46</td>\n",
       "      <td>30.1600</td>\n",
       "      <td>28.3400</td>\n",
       "      <td>27.887500</td>\n",
       "      <td>...</td>\n",
       "      <td>73.55</td>\n",
       "      <td>27.22</td>\n",
       "      <td>146.61</td>\n",
       "      <td>21.47</td>\n",
       "      <td>26.95</td>\n",
       "      <td>24.99</td>\n",
       "      <td>35.29</td>\n",
       "      <td>38.57</td>\n",
       "      <td>30.42</td>\n",
       "      <td>8.88</td>\n",
       "    </tr>\n",
       "    <tr>\n",
       "      <th>2020-10-01</th>\n",
       "      <td>72.21</td>\n",
       "      <td>32.25</td>\n",
       "      <td>32.89</td>\n",
       "      <td>36.23</td>\n",
       "      <td>42.95</td>\n",
       "      <td>28.323500</td>\n",
       "      <td>56.00</td>\n",
       "      <td>29.8300</td>\n",
       "      <td>27.8300</td>\n",
       "      <td>27.240000</td>\n",
       "      <td>...</td>\n",
       "      <td>72.04</td>\n",
       "      <td>27.13</td>\n",
       "      <td>142.95</td>\n",
       "      <td>20.92</td>\n",
       "      <td>26.79</td>\n",
       "      <td>24.10</td>\n",
       "      <td>34.02</td>\n",
       "      <td>38.28</td>\n",
       "      <td>29.50</td>\n",
       "      <td>8.73</td>\n",
       "    </tr>\n",
       "  </tbody>\n",
       "</table>\n",
       "<p>5 rows × 102 columns</p>\n",
       "</div>"
      ],
      "text/plain": [
       "             ACWI   ADME    AOK    AOM    AOR       BAPR   BBUS     BJAN  \\\n",
       "Date                                                                       \n",
       "2020-06-01  68.12  31.24  32.27  35.37  41.53  27.603001  52.47  28.3620   \n",
       "2020-07-01  71.77  32.74  33.06  36.44  42.99  28.221600  55.55  29.5439   \n",
       "2020-08-01  76.10  34.35  33.54  37.19  44.48  28.774900  59.81  30.6800   \n",
       "2020-09-01  73.85  32.83  33.14  36.65  43.65  28.567700  57.46  30.1600   \n",
       "2020-10-01  72.21  32.25  32.89  36.23  42.95  28.323500  56.00  29.8300   \n",
       "\n",
       "               BJUL       BOCT  ...     VT   VUSE      VV   WOMN   WTMF  \\\n",
       "Date                            ...                                       \n",
       "2020-06-01  26.9900  25.889999  ...  67.88  25.91  133.47  18.59  26.94   \n",
       "2020-07-01  27.9200  26.838900  ...  71.48  26.96  141.45  19.82  27.31   \n",
       "2020-08-01  28.8268  27.805000  ...  75.77  28.39  152.24  22.21  27.18   \n",
       "2020-09-01  28.3400  27.887500  ...  73.55  27.22  146.61  21.47  26.95   \n",
       "2020-10-01  27.8300  27.240000  ...  72.04  27.13  142.95  20.92  26.79   \n",
       "\n",
       "              XLG   XRLV   XSMO   YLDE   YYY  \n",
       "Date                                          \n",
       "2020-06-01  22.62  32.49  34.74  27.88  8.45  \n",
       "2020-07-01  24.04  34.72  37.94  29.40  8.77  \n",
       "2020-08-01  26.36  36.08  39.01  30.90  9.03  \n",
       "2020-09-01  24.99  35.29  38.57  30.42  8.88  \n",
       "2020-10-01  24.10  34.02  38.28  29.50  8.73  \n",
       "\n",
       "[5 rows x 102 columns]"
      ]
     },
     "metadata": {},
     "output_type": "display_data"
    }
   ],
   "source": [
    "benchmark_prices_monthly_df = (benchmark_prices_daily_df.set_index(pd.to_datetime(benchmark_prices_daily_df.pop('Date')))\n",
    "      if 'Date' in benchmark_prices_daily_df.columns else benchmark_prices_daily_df.copy())\n",
    "benchmark_prices_monthly_df.index = pd.to_datetime(benchmark_prices_monthly_df.index)              \n",
    "benchmark_prices_monthly_df = (benchmark_prices_monthly_df.resample('MS').last()\n",
    "   .reset_index()\n",
    "   .rename(columns={'index': 'Date'}))\n",
    "\n",
    "benchmark_prices_monthly_df.set_index('Date', inplace=True)\n",
    "display(benchmark_prices_monthly_df.head())"
   ]
  },
  {
   "cell_type": "markdown",
   "id": "49ab8af5",
   "metadata": {},
   "source": [
    "### Step 8: Calculate Returns (Lognormal)"
   ]
  },
  {
   "cell_type": "markdown",
   "id": "9ea4ce34",
   "metadata": {},
   "source": [
    "#### Benchmark"
   ]
  },
  {
   "cell_type": "code",
   "execution_count": 14,
   "id": "8374cc5a",
   "metadata": {
    "execution": {
     "iopub.execute_input": "2025-06-02T13:28:31.293059Z",
     "iopub.status.busy": "2025-06-02T13:28:31.292687Z",
     "iopub.status.idle": "2025-06-02T13:28:31.311861Z",
     "shell.execute_reply": "2025-06-02T13:28:31.310945Z"
    }
   },
   "outputs": [
    {
     "data": {
      "application/vnd.microsoft.datawrangler.viewer.v0+json": {
       "columns": [
        {
         "name": "Date",
         "rawType": "datetime64[ns]",
         "type": "datetime"
        },
        {
         "name": "ACWI",
         "rawType": "float64",
         "type": "float"
        },
        {
         "name": "ADME",
         "rawType": "float64",
         "type": "float"
        },
        {
         "name": "AOK",
         "rawType": "float64",
         "type": "float"
        },
        {
         "name": "AOM",
         "rawType": "float64",
         "type": "float"
        },
        {
         "name": "AOR",
         "rawType": "float64",
         "type": "float"
        },
        {
         "name": "BAPR",
         "rawType": "float64",
         "type": "float"
        },
        {
         "name": "BBUS",
         "rawType": "float64",
         "type": "float"
        },
        {
         "name": "BJAN",
         "rawType": "float64",
         "type": "float"
        },
        {
         "name": "BJUL",
         "rawType": "float64",
         "type": "float"
        },
        {
         "name": "BOCT",
         "rawType": "float64",
         "type": "float"
        },
        {
         "name": "CEFS",
         "rawType": "float64",
         "type": "float"
        },
        {
         "name": "CRBN",
         "rawType": "float64",
         "type": "float"
        },
        {
         "name": "DGRO",
         "rawType": "float64",
         "type": "float"
        },
        {
         "name": "DGRW",
         "rawType": "float64",
         "type": "float"
        },
        {
         "name": "DIVO",
         "rawType": "float64",
         "type": "float"
        },
        {
         "name": "DLN",
         "rawType": "float64",
         "type": "float"
        },
        {
         "name": "DSI",
         "rawType": "float64",
         "type": "float"
        },
        {
         "name": "DTD",
         "rawType": "float64",
         "type": "float"
        },
        {
         "name": "DWAT",
         "rawType": "float64",
         "type": "float"
        },
        {
         "name": "DYNF",
         "rawType": "float64",
         "type": "float"
        },
        {
         "name": "EPS",
         "rawType": "float64",
         "type": "float"
        },
        {
         "name": "EQL",
         "rawType": "float64",
         "type": "float"
        },
        {
         "name": "EQWL",
         "rawType": "float64",
         "type": "float"
        },
        {
         "name": "ESGG",
         "rawType": "float64",
         "type": "float"
        },
        {
         "name": "ETHO",
         "rawType": "float64",
         "type": "float"
        },
        {
         "name": "EUSA",
         "rawType": "float64",
         "type": "float"
        },
        {
         "name": "EWC",
         "rawType": "float64",
         "type": "float"
        },
        {
         "name": "EWL",
         "rawType": "float64",
         "type": "float"
        },
        {
         "name": "FAD",
         "rawType": "float64",
         "type": "float"
        },
        {
         "name": "FCEF",
         "rawType": "float64",
         "type": "float"
        },
        {
         "name": "FIDU",
         "rawType": "float64",
         "type": "float"
        },
        {
         "name": "FNY",
         "rawType": "float64",
         "type": "float"
        },
        {
         "name": "FTLS",
         "rawType": "float64",
         "type": "float"
        },
        {
         "name": "FYC",
         "rawType": "float64",
         "type": "float"
        },
        {
         "name": "GVIP",
         "rawType": "float64",
         "type": "float"
        },
        {
         "name": "HTUS",
         "rawType": "float64",
         "type": "float"
        },
        {
         "name": "IGF",
         "rawType": "float64",
         "type": "float"
        },
        {
         "name": "IHDG",
         "rawType": "float64",
         "type": "float"
        },
        {
         "name": "IMCG",
         "rawType": "float64",
         "type": "float"
        },
        {
         "name": "IMTM",
         "rawType": "float64",
         "type": "float"
        },
        {
         "name": "IOO",
         "rawType": "float64",
         "type": "float"
        },
        {
         "name": "IQLT",
         "rawType": "float64",
         "type": "float"
        },
        {
         "name": "ITOT",
         "rawType": "float64",
         "type": "float"
        },
        {
         "name": "IUSV",
         "rawType": "float64",
         "type": "float"
        },
        {
         "name": "IVE",
         "rawType": "float64",
         "type": "float"
        },
        {
         "name": "IVV",
         "rawType": "float64",
         "type": "float"
        },
        {
         "name": "IWB",
         "rawType": "float64",
         "type": "float"
        },
        {
         "name": "IWL",
         "rawType": "float64",
         "type": "float"
        },
        {
         "name": "IWR",
         "rawType": "float64",
         "type": "float"
        },
        {
         "name": "JDIV",
         "rawType": "float64",
         "type": "float"
        },
        {
         "name": "JMOM",
         "rawType": "float64",
         "type": "float"
        },
        {
         "name": "JQUA",
         "rawType": "float64",
         "type": "float"
        },
        {
         "name": "JSMD",
         "rawType": "float64",
         "type": "float"
        },
        {
         "name": "LRGF",
         "rawType": "float64",
         "type": "float"
        },
        {
         "name": "MAGA",
         "rawType": "float64",
         "type": "float"
        },
        {
         "name": "MFUS",
         "rawType": "float64",
         "type": "float"
        },
        {
         "name": "MGC",
         "rawType": "float64",
         "type": "float"
        },
        {
         "name": "MMTM",
         "rawType": "float64",
         "type": "float"
        },
        {
         "name": "NACP",
         "rawType": "float64",
         "type": "float"
        },
        {
         "name": "OEF",
         "rawType": "float64",
         "type": "float"
        },
        {
         "name": "PBUS",
         "rawType": "float64",
         "type": "float"
        },
        {
         "name": "PCEF",
         "rawType": "float64",
         "type": "float"
        },
        {
         "name": "PFM",
         "rawType": "float64",
         "type": "float"
        },
        {
         "name": "PJUL",
         "rawType": "float64",
         "type": "float"
        },
        {
         "name": "POCT",
         "rawType": "float64",
         "type": "float"
        },
        {
         "name": "QARP",
         "rawType": "float64",
         "type": "float"
        },
        {
         "name": "QDEF",
         "rawType": "float64",
         "type": "float"
        },
        {
         "name": "QDF",
         "rawType": "float64",
         "type": "float"
        },
        {
         "name": "QLC",
         "rawType": "float64",
         "type": "float"
        },
        {
         "name": "QMOM",
         "rawType": "float64",
         "type": "float"
        },
        {
         "name": "QUAL",
         "rawType": "float64",
         "type": "float"
        },
        {
         "name": "QUS",
         "rawType": "float64",
         "type": "float"
        },
        {
         "name": "QWLD",
         "rawType": "float64",
         "type": "float"
        },
        {
         "name": "SCHX",
         "rawType": "float64",
         "type": "float"
        },
        {
         "name": "SIZE",
         "rawType": "float64",
         "type": "float"
        },
        {
         "name": "SMIN",
         "rawType": "float64",
         "type": "float"
        },
        {
         "name": "SPGM",
         "rawType": "float64",
         "type": "float"
        },
        {
         "name": "SPHB",
         "rawType": "float64",
         "type": "float"
        },
        {
         "name": "SPLG",
         "rawType": "float64",
         "type": "float"
        },
        {
         "name": "SPMO",
         "rawType": "float64",
         "type": "float"
        },
        {
         "name": "SPTM",
         "rawType": "float64",
         "type": "float"
        },
        {
         "name": "SPXV",
         "rawType": "float64",
         "type": "float"
        },
        {
         "name": "SPY",
         "rawType": "float64",
         "type": "float"
        },
        {
         "name": "SPYV",
         "rawType": "float64",
         "type": "float"
        },
        {
         "name": "SSPY",
         "rawType": "float64",
         "type": "float"
        },
        {
         "name": "SUSA",
         "rawType": "float64",
         "type": "float"
        },
        {
         "name": "TOK",
         "rawType": "float64",
         "type": "float"
        },
        {
         "name": "URTH",
         "rawType": "float64",
         "type": "float"
        },
        {
         "name": "VO",
         "rawType": "float64",
         "type": "float"
        },
        {
         "name": "VONE",
         "rawType": "float64",
         "type": "float"
        },
        {
         "name": "VOO",
         "rawType": "float64",
         "type": "float"
        },
        {
         "name": "VOOV",
         "rawType": "float64",
         "type": "float"
        },
        {
         "name": "VT",
         "rawType": "float64",
         "type": "float"
        },
        {
         "name": "VUSE",
         "rawType": "float64",
         "type": "float"
        },
        {
         "name": "VV",
         "rawType": "float64",
         "type": "float"
        },
        {
         "name": "WOMN",
         "rawType": "float64",
         "type": "float"
        },
        {
         "name": "WTMF",
         "rawType": "float64",
         "type": "float"
        },
        {
         "name": "XLG",
         "rawType": "float64",
         "type": "float"
        },
        {
         "name": "XRLV",
         "rawType": "float64",
         "type": "float"
        },
        {
         "name": "XSMO",
         "rawType": "float64",
         "type": "float"
        },
        {
         "name": "YLDE",
         "rawType": "float64",
         "type": "float"
        },
        {
         "name": "YYY",
         "rawType": "float64",
         "type": "float"
        }
       ],
       "ref": "024adb6c-e2ee-49d2-8120-c4d6723efed0",
       "rows": [
        [
         "2020-07-01 00:00:00",
         "0.052195705647492936",
         "0.04689824697150364",
         "0.02418608632900761",
         "0.02980306917436842",
         "0.034551472865528066",
         "0.022163143498899224",
         "0.057041938387018536",
         "0.04082707172335952",
         "0.03387685086425865",
         "0.03599557251857879",
         "0.04943636774603814",
         "0.04875165399953304",
         "0.041903133504387",
         "0.04482740429652493",
         "0.027278418183676607",
         "0.0371596415952391",
         "0.047481985301053756",
         "0.03405105457880782",
         "0.07182573457125561",
         "0.03766222067899341",
         "0.042327575271385934",
         "0.045140406854263494",
         "0.030558734147690836",
         "0.04190067055014726",
         "0.05248729404672042",
         "0.047339603837722156",
         "0.053977402255529765",
         "0.03957400006339362",
         "0.06250053533649363",
         "0.03736066696133749",
         "0.0436877859709224",
         "0.06902114363464719",
         "0.04830413742839425",
         "0.045205436768046774",
         "0.07120444629179151",
         "0.09040959512162564",
         "0.022043508288615777",
         "-0.006693701230299265",
         "0.07176504181575426",
         "0.049102713007731835",
         "0.043878006172054056",
         "0.02917185168346899",
         "0.05595760400683813",
         "0.03617858180620038",
         "0.03665828692937666",
         "0.05687923024796916",
         "0.0576618951131499",
         "0.05619141557472111",
         "0.05746817576825953",
         "0.03446175336293388",
         "0.06942230340034158",
         "0.044084273132019285",
         "0.07120739537658004",
         "0.04708334303688984",
         "0.04476394551257155",
         "0.04929762097601408",
         "0.055202805511601574",
         "0.06543569608276956",
         "0.05775386139049452",
         "0.05522898068128031",
         "0.054031146884889296",
         "0.03939240171066068",
         "0.04134857932031795",
         "0.023278309995277077",
         "0.023549007684598954",
         "0.0358381018052959",
         "0.04432499575821565",
         "0.047139874994351474",
         "0.04601623728670676",
         "0.12105997189831755",
         "0.04831962444111793",
         "0.04186907678752158",
         "0.032714461030940514",
         "0.05739972075938883",
         "0.050189744523855315",
         "0.06859626248864371",
         "0.043179940454471794",
         "0.02195619647872699",
         "0.05669767533380557",
         "0.07372740856906346",
         "0.054993825332927154",
         "0.054817075258275234",
         "0.05719313907651776",
         "0.0382642329273246",
         "0.041033816090259786",
         "0.059707714163382594",
         "0.052496524927431974",
         "0.04780154432429185",
         "0.06144235273597086",
         "0.05688633290046983",
         "0.05717525318001509",
         "0.03666229178579433",
         "0.051676249925201784",
         "0.039725291470087784",
         "0.05806956426151596",
         "0.06406772716848924",
         "0.013640764503395547",
         "0.06088463897903236",
         "0.0663835401111403",
         "0.08811420369390913",
         "0.05308508845231273",
         "0.03717036501500929"
        ],
        [
         "2020-08-01 00:00:00",
         "0.05858170342565966",
         "0.04800444672536938",
         "0.014414664002184528",
         "0.020372835545221065",
         "0.034072119434136704",
         "0.019415837167806343",
         "0.07388935497082669",
         "0.03773368373654172",
         "0.03196223210487536",
         "0.03536353298245453",
         "0.02802731225465587",
         "0.06558098143806315",
         "0.047309879521559114",
         "0.06465327241430491",
         "0.06754506466100851",
         "0.04431032699955195",
         "0.07640317521233883",
         "0.045895806143067354",
         "0.0400296014518526",
         "0.06067240583269038",
         "0.06326219677796634",
         "0.0507594724261352",
         "0.06627607941944669",
         "0.07212790227662985",
         "0.04411612874418441",
         "0.046568890295834636",
         "0.0496751710571403",
         "0.029270382300113237",
         "0.05499174347778679",
         "0.03737459219674889",
         "0.07914351578901584",
         "0.04413334741502459",
         "0.03158157205029884",
         "0.07727645418064638",
         "0.11880071797294006",
         "0.04389709150736022",
         "0.015289494439387897",
         "0.026510097984444425",
         "0.03346864271754401",
         "0.033125787885784706",
         "0.07482921271870503",
         "0.04574901849631989",
         "0.06823390248067299",
         "0.03373136498046635",
         "0.034698932127208704",
         "0.06768037054783306",
         "0.07048435430489261",
         "0.08316410533579031",
         "0.03437780781021438",
         "0.04313949266061753",
         "0.0649141228460325",
         "0.05665289525137557",
         "0.030111494691969175",
         "0.04747523958812283",
         "0.04817685534922615",
         "0.05732542148093636",
         "0.08068246202969216",
         "0.08348212125632898",
         "0.08927039967903924",
         "0.085421467279548",
         "0.07954308238210402",
         "0.024029424726835256",
         "0.05212906543494661",
         "0.02044340151272727",
         "0.014632490288197929",
         "0.07282368613186252",
         "0.044143045727878395",
         "0.049790664503015614",
         "0.06183425060793515",
         "0.03838315876299598",
         "0.06638768293776919",
         "0.05267668285871303",
         "0.052084310086252694",
         "0.07046840253587261",
         "0.04378264243880973",
         "0.09937247381320377",
         "0.07061156421845866",
         "0.06694683496755419",
         "0.06761157845191856",
         "0.08159864388287952",
         "0.06606666188952884",
         "0.07697266235414842",
         "0.06749189863619338",
         "0.033656152901443755",
         "0.04539562302989642",
         "0.07471755546359957",
         "0.06331784904868037",
         "0.06319704607862728",
         "0.03133605921174923",
         "0.07041050778068593",
         "0.06738371470536672",
         "0.03467628718304502",
         "0.05828474565205459",
         "0.05168268444077347",
         "0.07351192524031791",
         "0.11385110900449408",
         "-0.004771526762615986",
         "0.09212859996729957",
         "0.03842280540227348",
         "0.027812059011697008",
         "0.049761509559063805",
         "0.029215561044802316"
        ],
        [
         "2020-09-01 00:00:00",
         "-0.03001225589025134",
         "-0.04525928715485712",
         "-0.011997744396645943",
         "-0.014626479604318177",
         "-0.018836367656715692",
         "-0.007226770386127551",
         "-0.040083817505322236",
         "-0.017094433359300068",
         "-0.017031275736512898",
         "0.002962699119123658",
         "-0.013490929741015402",
         "-0.033495369410314314",
         "-0.0261614810099531",
         "-0.019553088726117544",
         "-0.008965015219049986",
         "-0.03138309249809226",
         "-0.039613942011198264",
         "-0.03154835773492601",
         "-0.019208273638267055",
         "-0.026730237597632406",
         "-0.03509131981127017",
         "-0.0331737736819982",
         "-0.030943285439844318",
         "-0.04353317695708803",
         "-0.02216868291166494",
         "-0.02458998357705943",
         "-0.046043938501406846",
         "-0.015979383883802305",
         "-0.017483578228401287",
         "-0.01712957265733772",
         "-0.007930255675977443",
         "0.00132462882458911",
         "-0.04208869376022256",
         "-0.014163326887417999",
         "-0.02432395836478766",
         "-0.005894372087464314",
         "-0.02963610268119342",
         "0.026160826038672053",
         "-0.01611082027269837",
         "-0.0023541292190311217",
         "-0.0540672212702757",
         "-0.011687754793369162",
         "-0.03621623683944267",
         "-0.023977172625971155",
         "-0.025813456492184653",
         "-0.038325317773979045",
         "-0.03773612638161683",
         "-0.043196084154931244",
         "-0.01981716228553307",
         "-0.029772158333670144",
         "-0.017043318806464706",
         "-0.03268370513837916",
         "-0.019380072149353847",
         "-0.024418527348146",
         "-0.0319994059050761",
         "-0.025154039116385554",
         "-0.04125911571106739",
         "-0.045199934685311985",
         "-0.03991089658429311",
         "-0.04718701582637124",
         "-0.04257265146355884",
         "-0.025461064198273143",
         "-0.01815319470754219",
         "-0.009798976256073648",
         "0.00951119972004283",
         "-0.04319724187320729",
         "-0.02704861236857823",
         "-0.03562717764315104",
         "-0.04089107676269201",
         "0.0059671982135422385",
         "-0.03208078420015053",
         "-0.025479800319848967",
         "-0.027907597111313825",
         "-0.03738753207162033",
         "-0.021309786586751096",
         "0.03641253855683941",
         "-0.030740893695747378",
         "-0.046713468947815286",
         "-0.038384243008315444",
         "-0.01693361252943974",
         "-0.03822448164330687",
         "-0.04122155138069511",
         "-0.03818020748890173",
         "-0.02449690220553174",
         "-0.02889662364986137",
         "-0.03579642289973667",
         "-0.03821567938302024",
         "-0.03395551676028456",
         "-0.016213476346088232",
         "-0.03716392822091252",
         "-0.03828985597530751",
         "-0.02412638207018992",
         "-0.02973698889583549",
         "-0.04208497326155983",
         "-0.0376822230377209",
         "-0.03388602601564648",
         "-0.008498111367991461",
         "-0.05337196478744545",
         "-0.022139057507244167",
         "-0.011343251298428683",
         "-0.015655897072552907",
         "-0.01675081042481524"
        ],
        [
         "2020-10-01 00:00:00",
         "-0.022457468514298574",
         "-0.017824688271719725",
         "-0.007572351797451246",
         "-0.011525923425674699",
         "-0.016166633855346776",
         "-0.00858486021703163",
         "-0.025737362815994272",
         "-0.01100194461309822",
         "-0.018159658724734996",
         "-0.02349207847733936",
         "0.0",
         "-0.025177563576305816",
         "-0.02114839851160599",
         "-0.035734038690923106",
         "-0.03498899185006548",
         "-0.029561095822156432",
         "-0.023192830684041283",
         "-0.025731851367337483",
         "-0.012195273093818243",
         "-0.025448689471290392",
         "-0.022847551416299853",
         "-0.02322685060981666",
         "-0.02891767763957954",
         "-0.03467746913531104",
         "-0.002362391838116156",
         "-0.006507805924512611",
         "-0.03483244992070697",
         "-0.053421946419470207",
         "-0.010710562938182091",
         "-0.02732218991349617",
         "-0.014165678544394218",
         "-0.0013246288245890674",
         "-0.019095434527218375",
         "-0.0030303053491790963",
         "-0.029884545753985425",
         "-0.004557893031898107",
         "-0.012164517306526432",
         "-0.03758556515656898",
         "0.004052103952570829",
         "-0.03739073874663502",
         "-0.03169960048714933",
         "-0.03627528674758126",
         "-0.019260171654053027",
         "-0.01631024943670713",
         "-0.01844455310447321",
         "-0.025434376009812427",
         "-0.02324017951005664",
         "-0.03278982282299084",
         "0.006465340707198691",
         "0.0013726838119721742",
         "-0.0293778777167314",
         "-0.02835886456006871",
         "0.01042188176543443",
         "-0.010974932624885627",
         "-0.006779686985378804",
         "-0.020588962577621432",
         "-0.031229974821254176",
         "-0.036141095273541535",
         "-0.02707065681170419",
         "-0.032250835698075714",
         "-0.028886312518586175",
         "-0.018070603760003412",
         "-0.021787354184907296",
         "-0.012838173891357066",
         "-0.011041383615972079",
         "-0.03293223239315468",
         "-0.03629379438131316",
         "-0.028784367429237616",
         "-0.03724224558972378",
         "-0.04305552318174856",
         "-0.026196041611543926",
         "-0.029184838523033056",
         "-0.034067197234856475",
         "-0.024097551579060416",
         "-0.001596715667702704",
         "-0.02578411715571467",
         "-0.029360852291781304",
         "0.017374475282557308",
         "-0.02503914001536927",
         "-0.04374283484218804",
         "-0.023013844685808103",
         "-0.030431117202539926",
         "-0.02525329714991785",
         "-0.018031767310660893",
         "-0.010509578111859822",
         "-0.017437233443140528",
         "-0.03315386527239252",
         "-0.03046477106108679",
         "-0.0006686320645419869",
         "-0.022627762521100495",
         "-0.025771537195966424",
         "-0.018536023118085363",
         "-0.020743926739691023",
         "-0.00331187055247965",
         "-0.025281081181852457",
         "-0.025950972693967376",
         "-0.0059546137984887604",
         "-0.036263904350251584",
         "-0.03665105071946286",
         "-0.007547205635382854",
         "-0.030710023485372738",
         "-0.017036187152567852"
        ],
        [
         "2020-11-01 00:00:00",
         "0.11116003481281304",
         "0.05460563199276078",
         "0.041685106273863265",
         "0.05032677722566958",
         "0.07251015549608487",
         "0.040003257766187586",
         "0.11029475084405736",
         "0.06677785113751619",
         "0.06368476117198661",
         "0.07596796512433522",
         "0.07755823434587465",
         "0.11991497114743874",
         "0.11457978526828838",
         "0.09865321517184031",
         "0.09148770753485445",
         "0.1084740194466966",
         "0.10365413151017831",
         "0.11014806262259551",
         "0.04908226290087933",
         "0.11693244802815571",
         "0.1152118935568586",
         "0.1101791744575067",
         "0.13327275470441075",
         "0.1164036471172433",
         "0.12855212922491516",
         "0.13375194356165532",
         "0.13441715535014356",
         "0.0884495252739671",
         "0.12912471253157531",
         "0.13344261027439555",
         "0.15388146458804983",
         "0.12797727329337924",
         "0.025461763571110595",
         "0.16637016427152757",
         "0.13067496793178793",
         "0.07139595101720665",
         "0.12049907853037685",
         "0.0796140750051651",
         "0.12560481656439318",
         "0.0898617904840888",
         "0.10486942887292369",
         "0.12028370312057667",
         "0.11332354062570327",
         "0.1228631782553527",
         "0.12144006963080164",
         "0.10343803758301875",
         "0.11057765193511329",
         "0.10459098887879778",
         "0.1290331670261342",
         "0.13815033848081718",
         "0.10514310072056368",
         "0.10098547688401188",
         "0.11360111633648672",
         "0.09675494719750359",
         "0.14683535825088545",
         "0.11530349062205358",
         "0.10561719858248754",
         "0.08811704179102428",
         "0.10657435355721959",
         "0.09704416636690184",
         "0.11200505837649484",
         "0.10119429978621775",
         "0.08982191223004721",
         "0.042600827271340416",
         "0.05002902123014964",
         "0.11688327689460662",
         "0.08873299228961531",
         "0.09858290161730413",
         "0.10565924605586575",
         "0.16737255600343756",
         "0.10695387420701112",
         "0.10649530405969654",
         "0.10702467751923778",
         "0.10925535991936738",
         "0.13377391543355485",
         "0.11640010084878341",
         "0.12050917637782706",
         "0.23040061954677393",
         "0.10290556826631035",
         "0.07406077154325186",
         "0.10771257746809582",
         "0.10984482810515497",
         "0.10327773673386154",
         "0.1208727001051943",
         "0.1288984907937449",
         "0.10073240822335823",
         "0.11268566505150703",
         "0.12090612869659088",
         "0.12538845396462064",
         "0.11067696876344214",
         "0.10386862264034788",
         "0.12042938478485081",
         "0.11661015981588871",
         "0.1474408408901656",
         "0.10540248749473011",
         "0.1184201812657046",
         "0.027610809743991403",
         "0.08811726596050705",
         "0.08504982281026281",
         "0.12437913664179734",
         "0.09838710530880394",
         "0.10122827837291586"
        ]
       ],
       "shape": {
        "columns": 102,
        "rows": 5
       }
      },
      "text/html": [
       "<div>\n",
       "<style scoped>\n",
       "    .dataframe tbody tr th:only-of-type {\n",
       "        vertical-align: middle;\n",
       "    }\n",
       "\n",
       "    .dataframe tbody tr th {\n",
       "        vertical-align: top;\n",
       "    }\n",
       "\n",
       "    .dataframe thead th {\n",
       "        text-align: right;\n",
       "    }\n",
       "</style>\n",
       "<table border=\"1\" class=\"dataframe\">\n",
       "  <thead>\n",
       "    <tr style=\"text-align: right;\">\n",
       "      <th></th>\n",
       "      <th>ACWI</th>\n",
       "      <th>ADME</th>\n",
       "      <th>AOK</th>\n",
       "      <th>AOM</th>\n",
       "      <th>AOR</th>\n",
       "      <th>BAPR</th>\n",
       "      <th>BBUS</th>\n",
       "      <th>BJAN</th>\n",
       "      <th>BJUL</th>\n",
       "      <th>BOCT</th>\n",
       "      <th>...</th>\n",
       "      <th>VT</th>\n",
       "      <th>VUSE</th>\n",
       "      <th>VV</th>\n",
       "      <th>WOMN</th>\n",
       "      <th>WTMF</th>\n",
       "      <th>XLG</th>\n",
       "      <th>XRLV</th>\n",
       "      <th>XSMO</th>\n",
       "      <th>YLDE</th>\n",
       "      <th>YYY</th>\n",
       "    </tr>\n",
       "    <tr>\n",
       "      <th>Date</th>\n",
       "      <th></th>\n",
       "      <th></th>\n",
       "      <th></th>\n",
       "      <th></th>\n",
       "      <th></th>\n",
       "      <th></th>\n",
       "      <th></th>\n",
       "      <th></th>\n",
       "      <th></th>\n",
       "      <th></th>\n",
       "      <th></th>\n",
       "      <th></th>\n",
       "      <th></th>\n",
       "      <th></th>\n",
       "      <th></th>\n",
       "      <th></th>\n",
       "      <th></th>\n",
       "      <th></th>\n",
       "      <th></th>\n",
       "      <th></th>\n",
       "      <th></th>\n",
       "    </tr>\n",
       "  </thead>\n",
       "  <tbody>\n",
       "    <tr>\n",
       "      <th>2020-07-01</th>\n",
       "      <td>0.052196</td>\n",
       "      <td>0.046898</td>\n",
       "      <td>0.024186</td>\n",
       "      <td>0.029803</td>\n",
       "      <td>0.034551</td>\n",
       "      <td>0.022163</td>\n",
       "      <td>0.057042</td>\n",
       "      <td>0.040827</td>\n",
       "      <td>0.033877</td>\n",
       "      <td>0.035996</td>\n",
       "      <td>...</td>\n",
       "      <td>0.051676</td>\n",
       "      <td>0.039725</td>\n",
       "      <td>0.058070</td>\n",
       "      <td>0.064068</td>\n",
       "      <td>0.013641</td>\n",
       "      <td>0.060885</td>\n",
       "      <td>0.066384</td>\n",
       "      <td>0.088114</td>\n",
       "      <td>0.053085</td>\n",
       "      <td>0.037170</td>\n",
       "    </tr>\n",
       "    <tr>\n",
       "      <th>2020-08-01</th>\n",
       "      <td>0.058582</td>\n",
       "      <td>0.048004</td>\n",
       "      <td>0.014415</td>\n",
       "      <td>0.020373</td>\n",
       "      <td>0.034072</td>\n",
       "      <td>0.019416</td>\n",
       "      <td>0.073889</td>\n",
       "      <td>0.037734</td>\n",
       "      <td>0.031962</td>\n",
       "      <td>0.035364</td>\n",
       "      <td>...</td>\n",
       "      <td>0.058285</td>\n",
       "      <td>0.051683</td>\n",
       "      <td>0.073512</td>\n",
       "      <td>0.113851</td>\n",
       "      <td>-0.004772</td>\n",
       "      <td>0.092129</td>\n",
       "      <td>0.038423</td>\n",
       "      <td>0.027812</td>\n",
       "      <td>0.049762</td>\n",
       "      <td>0.029216</td>\n",
       "    </tr>\n",
       "    <tr>\n",
       "      <th>2020-09-01</th>\n",
       "      <td>-0.030012</td>\n",
       "      <td>-0.045259</td>\n",
       "      <td>-0.011998</td>\n",
       "      <td>-0.014626</td>\n",
       "      <td>-0.018836</td>\n",
       "      <td>-0.007227</td>\n",
       "      <td>-0.040084</td>\n",
       "      <td>-0.017094</td>\n",
       "      <td>-0.017031</td>\n",
       "      <td>0.002963</td>\n",
       "      <td>...</td>\n",
       "      <td>-0.029737</td>\n",
       "      <td>-0.042085</td>\n",
       "      <td>-0.037682</td>\n",
       "      <td>-0.033886</td>\n",
       "      <td>-0.008498</td>\n",
       "      <td>-0.053372</td>\n",
       "      <td>-0.022139</td>\n",
       "      <td>-0.011343</td>\n",
       "      <td>-0.015656</td>\n",
       "      <td>-0.016751</td>\n",
       "    </tr>\n",
       "    <tr>\n",
       "      <th>2020-10-01</th>\n",
       "      <td>-0.022457</td>\n",
       "      <td>-0.017825</td>\n",
       "      <td>-0.007572</td>\n",
       "      <td>-0.011526</td>\n",
       "      <td>-0.016167</td>\n",
       "      <td>-0.008585</td>\n",
       "      <td>-0.025737</td>\n",
       "      <td>-0.011002</td>\n",
       "      <td>-0.018160</td>\n",
       "      <td>-0.023492</td>\n",
       "      <td>...</td>\n",
       "      <td>-0.020744</td>\n",
       "      <td>-0.003312</td>\n",
       "      <td>-0.025281</td>\n",
       "      <td>-0.025951</td>\n",
       "      <td>-0.005955</td>\n",
       "      <td>-0.036264</td>\n",
       "      <td>-0.036651</td>\n",
       "      <td>-0.007547</td>\n",
       "      <td>-0.030710</td>\n",
       "      <td>-0.017036</td>\n",
       "    </tr>\n",
       "    <tr>\n",
       "      <th>2020-11-01</th>\n",
       "      <td>0.111160</td>\n",
       "      <td>0.054606</td>\n",
       "      <td>0.041685</td>\n",
       "      <td>0.050327</td>\n",
       "      <td>0.072510</td>\n",
       "      <td>0.040003</td>\n",
       "      <td>0.110295</td>\n",
       "      <td>0.066778</td>\n",
       "      <td>0.063685</td>\n",
       "      <td>0.075968</td>\n",
       "      <td>...</td>\n",
       "      <td>0.116610</td>\n",
       "      <td>0.147441</td>\n",
       "      <td>0.105402</td>\n",
       "      <td>0.118420</td>\n",
       "      <td>0.027611</td>\n",
       "      <td>0.088117</td>\n",
       "      <td>0.085050</td>\n",
       "      <td>0.124379</td>\n",
       "      <td>0.098387</td>\n",
       "      <td>0.101228</td>\n",
       "    </tr>\n",
       "  </tbody>\n",
       "</table>\n",
       "<p>5 rows × 102 columns</p>\n",
       "</div>"
      ],
      "text/plain": [
       "                ACWI      ADME       AOK       AOM       AOR      BAPR  \\\n",
       "Date                                                                     \n",
       "2020-07-01  0.052196  0.046898  0.024186  0.029803  0.034551  0.022163   \n",
       "2020-08-01  0.058582  0.048004  0.014415  0.020373  0.034072  0.019416   \n",
       "2020-09-01 -0.030012 -0.045259 -0.011998 -0.014626 -0.018836 -0.007227   \n",
       "2020-10-01 -0.022457 -0.017825 -0.007572 -0.011526 -0.016167 -0.008585   \n",
       "2020-11-01  0.111160  0.054606  0.041685  0.050327  0.072510  0.040003   \n",
       "\n",
       "                BBUS      BJAN      BJUL      BOCT  ...        VT      VUSE  \\\n",
       "Date                                                ...                       \n",
       "2020-07-01  0.057042  0.040827  0.033877  0.035996  ...  0.051676  0.039725   \n",
       "2020-08-01  0.073889  0.037734  0.031962  0.035364  ...  0.058285  0.051683   \n",
       "2020-09-01 -0.040084 -0.017094 -0.017031  0.002963  ... -0.029737 -0.042085   \n",
       "2020-10-01 -0.025737 -0.011002 -0.018160 -0.023492  ... -0.020744 -0.003312   \n",
       "2020-11-01  0.110295  0.066778  0.063685  0.075968  ...  0.116610  0.147441   \n",
       "\n",
       "                  VV      WOMN      WTMF       XLG      XRLV      XSMO  \\\n",
       "Date                                                                     \n",
       "2020-07-01  0.058070  0.064068  0.013641  0.060885  0.066384  0.088114   \n",
       "2020-08-01  0.073512  0.113851 -0.004772  0.092129  0.038423  0.027812   \n",
       "2020-09-01 -0.037682 -0.033886 -0.008498 -0.053372 -0.022139 -0.011343   \n",
       "2020-10-01 -0.025281 -0.025951 -0.005955 -0.036264 -0.036651 -0.007547   \n",
       "2020-11-01  0.105402  0.118420  0.027611  0.088117  0.085050  0.124379   \n",
       "\n",
       "                YLDE       YYY  \n",
       "Date                            \n",
       "2020-07-01  0.053085  0.037170  \n",
       "2020-08-01  0.049762  0.029216  \n",
       "2020-09-01 -0.015656 -0.016751  \n",
       "2020-10-01 -0.030710 -0.017036  \n",
       "2020-11-01  0.098387  0.101228  \n",
       "\n",
       "[5 rows x 102 columns]"
      ]
     },
     "execution_count": 14,
     "metadata": {},
     "output_type": "execute_result"
    }
   ],
   "source": [
    "benchmark_log_returns_df = np.log(benchmark_prices_monthly_df / benchmark_prices_monthly_df.shift(1))\n",
    "benchmark_log_returns_df = benchmark_log_returns_df.dropna().sort_index(axis=0, ascending=True).sort_index(axis=1, ascending=True)\n",
    "benchmark_log_returns_df.head()"
   ]
  },
  {
   "cell_type": "markdown",
   "id": "3798f32a",
   "metadata": {},
   "source": [
    "#### Stocks"
   ]
  },
  {
   "cell_type": "code",
   "execution_count": 15,
   "id": "16169afe",
   "metadata": {
    "execution": {
     "iopub.execute_input": "2025-06-02T13:28:31.314257Z",
     "iopub.status.busy": "2025-06-02T13:28:31.313851Z",
     "iopub.status.idle": "2025-06-02T13:28:31.329427Z",
     "shell.execute_reply": "2025-06-02T13:28:31.328391Z"
    }
   },
   "outputs": [
    {
     "data": {
      "application/vnd.microsoft.datawrangler.viewer.v0+json": {
       "columns": [
        {
         "name": "Date",
         "rawType": "datetime64[ns]",
         "type": "datetime"
        },
        {
         "name": "AMAT",
         "rawType": "float64",
         "type": "float"
        },
        {
         "name": "APO",
         "rawType": "float64",
         "type": "float"
        },
        {
         "name": "MMC",
         "rawType": "float64",
         "type": "float"
        },
        {
         "name": "SO",
         "rawType": "float64",
         "type": "float"
        },
        {
         "name": "TMUS",
         "rawType": "float64",
         "type": "float"
        }
       ],
       "ref": "b9b0a4a9-7f3b-4fee-919c-8055bec15b42",
       "rows": [
        [
         "2020-08-01 00:00:00",
         "-0.04001856742180044",
         "-0.03627340678683487",
         "-0.014670189747793742",
         "-0.03388633433399843",
         "0.08301967315012795"
        ],
        [
         "2020-09-01 00:00:00",
         "-0.035549377413994616",
         "-0.046143154880479605",
         "-0.0017675245310534433",
         "0.038289687992268374",
         "-0.020095395827932926"
        ],
        [
         "2020-10-01 00:00:00",
         "-0.003678084538844039",
         "-0.193994546155669",
         "-0.09906956519341541",
         "0.05803676260085454",
         "-0.042750139120510906"
        ],
        [
         "2020-11-01 00:00:00",
         "0.33401264297084976",
         "0.17957304384060557",
         "0.10260149562400173",
         "0.050920090427256745",
         "0.1933047285359963"
        ],
        [
         "2020-12-01 00:00:00",
         "0.04531996748895547",
         "0.11585570667703472",
         "0.02038825328706567",
         "0.02605630591313441",
         "0.014282138364025348"
        ]
       ],
       "shape": {
        "columns": 5,
        "rows": 5
       }
      },
      "text/html": [
       "<div>\n",
       "<style scoped>\n",
       "    .dataframe tbody tr th:only-of-type {\n",
       "        vertical-align: middle;\n",
       "    }\n",
       "\n",
       "    .dataframe tbody tr th {\n",
       "        vertical-align: top;\n",
       "    }\n",
       "\n",
       "    .dataframe thead th {\n",
       "        text-align: right;\n",
       "    }\n",
       "</style>\n",
       "<table border=\"1\" class=\"dataframe\">\n",
       "  <thead>\n",
       "    <tr style=\"text-align: right;\">\n",
       "      <th></th>\n",
       "      <th>AMAT</th>\n",
       "      <th>APO</th>\n",
       "      <th>MMC</th>\n",
       "      <th>SO</th>\n",
       "      <th>TMUS</th>\n",
       "    </tr>\n",
       "    <tr>\n",
       "      <th>Date</th>\n",
       "      <th></th>\n",
       "      <th></th>\n",
       "      <th></th>\n",
       "      <th></th>\n",
       "      <th></th>\n",
       "    </tr>\n",
       "  </thead>\n",
       "  <tbody>\n",
       "    <tr>\n",
       "      <th>2020-08-01</th>\n",
       "      <td>-0.040019</td>\n",
       "      <td>-0.036273</td>\n",
       "      <td>-0.014670</td>\n",
       "      <td>-0.033886</td>\n",
       "      <td>0.083020</td>\n",
       "    </tr>\n",
       "    <tr>\n",
       "      <th>2020-09-01</th>\n",
       "      <td>-0.035549</td>\n",
       "      <td>-0.046143</td>\n",
       "      <td>-0.001768</td>\n",
       "      <td>0.038290</td>\n",
       "      <td>-0.020095</td>\n",
       "    </tr>\n",
       "    <tr>\n",
       "      <th>2020-10-01</th>\n",
       "      <td>-0.003678</td>\n",
       "      <td>-0.193995</td>\n",
       "      <td>-0.099070</td>\n",
       "      <td>0.058037</td>\n",
       "      <td>-0.042750</td>\n",
       "    </tr>\n",
       "    <tr>\n",
       "      <th>2020-11-01</th>\n",
       "      <td>0.334013</td>\n",
       "      <td>0.179573</td>\n",
       "      <td>0.102601</td>\n",
       "      <td>0.050920</td>\n",
       "      <td>0.193305</td>\n",
       "    </tr>\n",
       "    <tr>\n",
       "      <th>2020-12-01</th>\n",
       "      <td>0.045320</td>\n",
       "      <td>0.115856</td>\n",
       "      <td>0.020388</td>\n",
       "      <td>0.026056</td>\n",
       "      <td>0.014282</td>\n",
       "    </tr>\n",
       "  </tbody>\n",
       "</table>\n",
       "</div>"
      ],
      "text/plain": [
       "                AMAT       APO       MMC        SO      TMUS\n",
       "Date                                                        \n",
       "2020-08-01 -0.040019 -0.036273 -0.014670 -0.033886  0.083020\n",
       "2020-09-01 -0.035549 -0.046143 -0.001768  0.038290 -0.020095\n",
       "2020-10-01 -0.003678 -0.193995 -0.099070  0.058037 -0.042750\n",
       "2020-11-01  0.334013  0.179573  0.102601  0.050920  0.193305\n",
       "2020-12-01  0.045320  0.115856  0.020388  0.026056  0.014282"
      ]
     },
     "execution_count": 15,
     "metadata": {},
     "output_type": "execute_result"
    }
   ],
   "source": [
    "stock_log_returns_df = np.log(stock_prices_monthly_df / stock_prices_monthly_df.shift(1))\n",
    "stock_log_returns_df = stock_log_returns_df.dropna().sort_index(axis=0, ascending=True).sort_index(axis=1, ascending=True)\n",
    "stock_log_returns_df.head()"
   ]
  },
  {
   "cell_type": "markdown",
   "id": "4936e919",
   "metadata": {},
   "source": [
    "### Step 9: Calculate Excess Return (Expected Return - Risk-free Rate)"
   ]
  },
  {
   "cell_type": "markdown",
   "id": "8b0c3a9a",
   "metadata": {},
   "source": [
    "#### Benchmark"
   ]
  },
  {
   "cell_type": "code",
   "execution_count": 16,
   "id": "37b6707b",
   "metadata": {
    "execution": {
     "iopub.execute_input": "2025-06-02T13:28:31.332071Z",
     "iopub.status.busy": "2025-06-02T13:28:31.331679Z",
     "iopub.status.idle": "2025-06-02T13:28:31.346683Z",
     "shell.execute_reply": "2025-06-02T13:28:31.345862Z"
    }
   },
   "outputs": [
    {
     "data": {
      "application/vnd.microsoft.datawrangler.viewer.v0+json": {
       "columns": [
        {
         "name": "Date",
         "rawType": "datetime64[ns]",
         "type": "datetime"
        },
        {
         "name": "ACWI",
         "rawType": "float64",
         "type": "float"
        },
        {
         "name": "ADME",
         "rawType": "float64",
         "type": "float"
        },
        {
         "name": "AOK",
         "rawType": "float64",
         "type": "float"
        },
        {
         "name": "AOM",
         "rawType": "float64",
         "type": "float"
        },
        {
         "name": "AOR",
         "rawType": "float64",
         "type": "float"
        },
        {
         "name": "BAPR",
         "rawType": "float64",
         "type": "float"
        },
        {
         "name": "BBUS",
         "rawType": "float64",
         "type": "float"
        },
        {
         "name": "BJAN",
         "rawType": "float64",
         "type": "float"
        },
        {
         "name": "BJUL",
         "rawType": "float64",
         "type": "float"
        },
        {
         "name": "BOCT",
         "rawType": "float64",
         "type": "float"
        },
        {
         "name": "CEFS",
         "rawType": "float64",
         "type": "float"
        },
        {
         "name": "CRBN",
         "rawType": "float64",
         "type": "float"
        },
        {
         "name": "DGRO",
         "rawType": "float64",
         "type": "float"
        },
        {
         "name": "DGRW",
         "rawType": "float64",
         "type": "float"
        },
        {
         "name": "DIVO",
         "rawType": "float64",
         "type": "float"
        },
        {
         "name": "DLN",
         "rawType": "float64",
         "type": "float"
        },
        {
         "name": "DSI",
         "rawType": "float64",
         "type": "float"
        },
        {
         "name": "DTD",
         "rawType": "float64",
         "type": "float"
        },
        {
         "name": "DWAT",
         "rawType": "float64",
         "type": "float"
        },
        {
         "name": "DYNF",
         "rawType": "float64",
         "type": "float"
        },
        {
         "name": "EPS",
         "rawType": "float64",
         "type": "float"
        },
        {
         "name": "EQL",
         "rawType": "float64",
         "type": "float"
        },
        {
         "name": "EQWL",
         "rawType": "float64",
         "type": "float"
        },
        {
         "name": "ESGG",
         "rawType": "float64",
         "type": "float"
        },
        {
         "name": "ETHO",
         "rawType": "float64",
         "type": "float"
        },
        {
         "name": "EUSA",
         "rawType": "float64",
         "type": "float"
        },
        {
         "name": "EWC",
         "rawType": "float64",
         "type": "float"
        },
        {
         "name": "EWL",
         "rawType": "float64",
         "type": "float"
        },
        {
         "name": "FAD",
         "rawType": "float64",
         "type": "float"
        },
        {
         "name": "FCEF",
         "rawType": "float64",
         "type": "float"
        },
        {
         "name": "FIDU",
         "rawType": "float64",
         "type": "float"
        },
        {
         "name": "FNY",
         "rawType": "float64",
         "type": "float"
        },
        {
         "name": "FTLS",
         "rawType": "float64",
         "type": "float"
        },
        {
         "name": "FYC",
         "rawType": "float64",
         "type": "float"
        },
        {
         "name": "GVIP",
         "rawType": "float64",
         "type": "float"
        },
        {
         "name": "HTUS",
         "rawType": "float64",
         "type": "float"
        },
        {
         "name": "IGF",
         "rawType": "float64",
         "type": "float"
        },
        {
         "name": "IHDG",
         "rawType": "float64",
         "type": "float"
        },
        {
         "name": "IMCG",
         "rawType": "float64",
         "type": "float"
        },
        {
         "name": "IMTM",
         "rawType": "float64",
         "type": "float"
        },
        {
         "name": "IOO",
         "rawType": "float64",
         "type": "float"
        },
        {
         "name": "IQLT",
         "rawType": "float64",
         "type": "float"
        },
        {
         "name": "ITOT",
         "rawType": "float64",
         "type": "float"
        },
        {
         "name": "IUSV",
         "rawType": "float64",
         "type": "float"
        },
        {
         "name": "IVE",
         "rawType": "float64",
         "type": "float"
        },
        {
         "name": "IVV",
         "rawType": "float64",
         "type": "float"
        },
        {
         "name": "IWB",
         "rawType": "float64",
         "type": "float"
        },
        {
         "name": "IWL",
         "rawType": "float64",
         "type": "float"
        },
        {
         "name": "IWR",
         "rawType": "float64",
         "type": "float"
        },
        {
         "name": "JDIV",
         "rawType": "float64",
         "type": "float"
        },
        {
         "name": "JMOM",
         "rawType": "float64",
         "type": "float"
        },
        {
         "name": "JQUA",
         "rawType": "float64",
         "type": "float"
        },
        {
         "name": "JSMD",
         "rawType": "float64",
         "type": "float"
        },
        {
         "name": "LRGF",
         "rawType": "float64",
         "type": "float"
        },
        {
         "name": "MAGA",
         "rawType": "float64",
         "type": "float"
        },
        {
         "name": "MFUS",
         "rawType": "float64",
         "type": "float"
        },
        {
         "name": "MGC",
         "rawType": "float64",
         "type": "float"
        },
        {
         "name": "MMTM",
         "rawType": "float64",
         "type": "float"
        },
        {
         "name": "NACP",
         "rawType": "float64",
         "type": "float"
        },
        {
         "name": "OEF",
         "rawType": "float64",
         "type": "float"
        },
        {
         "name": "PBUS",
         "rawType": "float64",
         "type": "float"
        },
        {
         "name": "PCEF",
         "rawType": "float64",
         "type": "float"
        },
        {
         "name": "PFM",
         "rawType": "float64",
         "type": "float"
        },
        {
         "name": "PJUL",
         "rawType": "float64",
         "type": "float"
        },
        {
         "name": "POCT",
         "rawType": "float64",
         "type": "float"
        },
        {
         "name": "QARP",
         "rawType": "float64",
         "type": "float"
        },
        {
         "name": "QDEF",
         "rawType": "float64",
         "type": "float"
        },
        {
         "name": "QDF",
         "rawType": "float64",
         "type": "float"
        },
        {
         "name": "QLC",
         "rawType": "float64",
         "type": "float"
        },
        {
         "name": "QMOM",
         "rawType": "float64",
         "type": "float"
        },
        {
         "name": "QUAL",
         "rawType": "float64",
         "type": "float"
        },
        {
         "name": "QUS",
         "rawType": "float64",
         "type": "float"
        },
        {
         "name": "QWLD",
         "rawType": "float64",
         "type": "float"
        },
        {
         "name": "SCHX",
         "rawType": "float64",
         "type": "float"
        },
        {
         "name": "SIZE",
         "rawType": "float64",
         "type": "float"
        },
        {
         "name": "SMIN",
         "rawType": "float64",
         "type": "float"
        },
        {
         "name": "SPGM",
         "rawType": "float64",
         "type": "float"
        },
        {
         "name": "SPHB",
         "rawType": "float64",
         "type": "float"
        },
        {
         "name": "SPLG",
         "rawType": "float64",
         "type": "float"
        },
        {
         "name": "SPMO",
         "rawType": "float64",
         "type": "float"
        },
        {
         "name": "SPTM",
         "rawType": "float64",
         "type": "float"
        },
        {
         "name": "SPXV",
         "rawType": "float64",
         "type": "float"
        },
        {
         "name": "SPY",
         "rawType": "float64",
         "type": "float"
        },
        {
         "name": "SPYV",
         "rawType": "float64",
         "type": "float"
        },
        {
         "name": "SSPY",
         "rawType": "float64",
         "type": "float"
        },
        {
         "name": "SUSA",
         "rawType": "float64",
         "type": "float"
        },
        {
         "name": "TOK",
         "rawType": "float64",
         "type": "float"
        },
        {
         "name": "URTH",
         "rawType": "float64",
         "type": "float"
        },
        {
         "name": "VO",
         "rawType": "float64",
         "type": "float"
        },
        {
         "name": "VONE",
         "rawType": "float64",
         "type": "float"
        },
        {
         "name": "VOO",
         "rawType": "float64",
         "type": "float"
        },
        {
         "name": "VOOV",
         "rawType": "float64",
         "type": "float"
        },
        {
         "name": "VT",
         "rawType": "float64",
         "type": "float"
        },
        {
         "name": "VUSE",
         "rawType": "float64",
         "type": "float"
        },
        {
         "name": "VV",
         "rawType": "float64",
         "type": "float"
        },
        {
         "name": "WOMN",
         "rawType": "float64",
         "type": "float"
        },
        {
         "name": "WTMF",
         "rawType": "float64",
         "type": "float"
        },
        {
         "name": "XLG",
         "rawType": "float64",
         "type": "float"
        },
        {
         "name": "XRLV",
         "rawType": "float64",
         "type": "float"
        },
        {
         "name": "XSMO",
         "rawType": "float64",
         "type": "float"
        },
        {
         "name": "YLDE",
         "rawType": "float64",
         "type": "float"
        },
        {
         "name": "YYY",
         "rawType": "float64",
         "type": "float"
        }
       ],
       "ref": "c430cf1b-f0b3-42f7-96cf-17ba68102c5e",
       "rows": [
        [
         "2020-07-01 00:00:00",
         "0.048670705647492936",
         "0.04337324697150364",
         "0.020661086329007608",
         "0.02627806917436842",
         "0.031026472865528065",
         "0.018638143498899223",
         "0.053516938387018535",
         "0.03730207172335952",
         "0.03035185086425865",
         "0.03247057251857879",
         "0.04591136774603814",
         "0.04522665399953304",
         "0.038378133504387",
         "0.04130240429652493",
         "0.023753418183676607",
         "0.0336346415952391",
         "0.043956985301053755",
         "0.030526054578807818",
         "0.06830073457125561",
         "0.03413722067899341",
         "0.03880257527138593",
         "0.041615406854263494",
         "0.027033734147690835",
         "0.03837567055014726",
         "0.04896229404672042",
         "0.043814603837722156",
         "0.050452402255529764",
         "0.03604900006339362",
         "0.058975535336493634",
         "0.03383566696133749",
         "0.0401627859709224",
         "0.06549614363464719",
         "0.04477913742839425",
         "0.04168043676804677",
         "0.06767944629179151",
         "0.08688459512162564",
         "0.018518508288615777",
         "-0.010218701230299266",
         "0.06824004181575426",
         "0.045577713007731835",
         "0.040353006172054055",
         "0.025646851683468988",
         "0.05243260400683813",
         "0.03265358180620038",
         "0.03313328692937666",
         "0.05335423024796916",
         "0.0541368951131499",
         "0.05266641557472111",
         "0.05394317576825953",
         "0.03093675336293388",
         "0.06589730340034158",
         "0.040559273132019284",
         "0.06768239537658004",
         "0.04355834303688984",
         "0.04123894551257155",
         "0.04577262097601408",
         "0.051677805511601574",
         "0.061910696082769556",
         "0.05422886139049452",
         "0.05170398068128031",
         "0.050506146884889296",
         "0.035867401710660676",
         "0.03782357932031795",
         "0.019753309995277076",
         "0.020024007684598954",
         "0.032313101805295896",
         "0.04079999575821565",
         "0.043614874994351474",
         "0.04249123728670676",
         "0.11753497189831755",
         "0.04479462444111793",
         "0.03834407678752158",
         "0.029189461030940514",
         "0.05387472075938883",
         "0.046664744523855314",
         "0.06507126248864371",
         "0.03965494045447179",
         "0.01843119647872699",
         "0.05317267533380557",
         "0.07020240856906346",
         "0.051468825332927154",
         "0.051292075258275234",
         "0.05366813907651776",
         "0.0347392329273246",
         "0.037508816090259786",
         "0.056182714163382594",
         "0.048971524927431974",
         "0.04427654432429185",
         "0.05791735273597086",
         "0.05336133290046983",
         "0.05365025318001509",
         "0.03313729178579433",
         "0.04815124992520178",
         "0.036200291470087784",
         "0.05454456426151596",
         "0.06054272716848924",
         "0.010115764503395547",
         "0.05735963897903236",
         "0.0628585401111403",
         "0.08458920369390913",
         "0.04956008845231273",
         "0.03364536501500929"
        ],
        [
         "2020-08-01 00:00:00",
         "0.05505670342565966",
         "0.04447944672536938",
         "0.010889664002184527",
         "0.016847835545221065",
         "0.030547119434136703",
         "0.015890837167806343",
         "0.07036435497082669",
         "0.03420868373654172",
         "0.028437232104875358",
         "0.03183853298245453",
         "0.02450231225465587",
         "0.06205598143806315",
         "0.043784879521559114",
         "0.06112827241430491",
         "0.06402006466100851",
         "0.04078532699955195",
         "0.07287817521233883",
         "0.042370806143067354",
         "0.0365046014518526",
         "0.05714740583269038",
         "0.05973719677796634",
         "0.0472344724261352",
         "0.06275107941944669",
         "0.06860290227662985",
         "0.04059112874418441",
         "0.043043890295834636",
         "0.046150171057140296",
         "0.025745382300113237",
         "0.05146674347778679",
         "0.03384959219674889",
         "0.07561851578901584",
         "0.04060834741502459",
         "0.028056572050298836",
         "0.07375145418064638",
         "0.11527571797294006",
         "0.04037209150736022",
         "0.011764494439387896",
         "0.022985097984444425",
         "0.02994364271754401",
         "0.029600787885784706",
         "0.07130421271870503",
         "0.04222401849631989",
         "0.06470890248067299",
         "0.030206364980466346",
         "0.031173932127208703",
         "0.06415537054783306",
         "0.06695935430489261",
         "0.07963910533579031",
         "0.030852807810214378",
         "0.03961449266061753",
         "0.0613891228460325",
         "0.05312789525137557",
         "0.026586494691969175",
         "0.04395023958812283",
         "0.04465185534922615",
         "0.05380042148093636",
         "0.07715746202969216",
         "0.07995712125632898",
         "0.08574539967903924",
         "0.081896467279548",
         "0.07601808238210402",
         "0.020504424726835255",
         "0.04860406543494661",
         "0.01691840151272727",
         "0.011107490288197928",
         "0.06929868613186252",
         "0.040618045727878395",
         "0.04626566450301561",
         "0.05830925060793515",
         "0.03485815876299598",
         "0.06286268293776918",
         "0.049151682858713026",
         "0.048559310086252694",
         "0.06694340253587261",
         "0.04025764243880973",
         "0.09584747381320377",
         "0.06708656421845866",
         "0.06342183496755419",
         "0.06408657845191856",
         "0.07807364388287952",
         "0.06254166188952884",
         "0.07344766235414842",
         "0.06396689863619338",
         "0.030131152901443754",
         "0.04187062302989642",
         "0.07119255546359957",
         "0.059792849048680374",
         "0.05967204607862728",
         "0.02781105921174923",
         "0.06688550778068593",
         "0.06385871470536672",
         "0.031151287183045016",
         "0.05475974565205459",
         "0.04815768444077347",
         "0.06998692524031791",
         "0.11032610900449408",
         "-0.008296526762615986",
         "0.08860359996729956",
         "0.03489780540227348",
         "0.024287059011697008",
         "0.046236509559063804",
         "0.025690561044802315"
        ],
        [
         "2020-09-01 00:00:00",
         "-0.03353725589025134",
         "-0.04878428715485712",
         "-0.015522744396645943",
         "-0.018151479604318177",
         "-0.022361367656715692",
         "-0.01075177038612755",
         "-0.04360881750532224",
         "-0.02061943335930007",
         "-0.020556275736512898",
         "-0.0005623008808763423",
         "-0.0170159297410154",
         "-0.037020369410314315",
         "-0.0296864810099531",
         "-0.023078088726117545",
         "-0.012490015219049987",
         "-0.034908092498092264",
         "-0.043138942011198264",
         "-0.03507335773492601",
         "-0.022733273638267056",
         "-0.030255237597632406",
         "-0.03861631981127017",
         "-0.0366987736819982",
         "-0.034468285439844315",
         "-0.04705817695708803",
         "-0.02569368291166494",
         "-0.02811498357705943",
         "-0.049568938501406846",
         "-0.019504383883802306",
         "-0.021008578228401287",
         "-0.020654572657337722",
         "-0.011455255675977443",
         "-0.0022003711754108903",
         "-0.04561369376022256",
         "-0.017688326887417997",
         "-0.027848958364787662",
         "-0.009419372087464314",
         "-0.03316110268119342",
         "0.022635826038672053",
         "-0.01963582027269837",
         "-0.005879129219031122",
         "-0.057592221270275704",
         "-0.015212754793369162",
         "-0.03974123683944267",
         "-0.027502172625971155",
         "-0.029338456492184653",
         "-0.041850317773979046",
         "-0.04126112638161683",
         "-0.046721084154931244",
         "-0.02334216228553307",
         "-0.03329715833367014",
         "-0.020568318806464706",
         "-0.03620870513837916",
         "-0.022905072149353847",
         "-0.027943527348146",
         "-0.0355244059050761",
         "-0.028679039116385554",
         "-0.04478411571106739",
         "-0.048724934685311985",
         "-0.04343589658429311",
         "-0.05071201582637124",
         "-0.04609765146355884",
         "-0.028986064198273143",
         "-0.02167819470754219",
         "-0.013323976256073648",
         "0.00598619972004283",
         "-0.04672224187320729",
         "-0.03057361236857823",
         "-0.03915217764315104",
         "-0.04441607676269201",
         "0.002442198213542238",
         "-0.03560578420015053",
         "-0.029004800319848967",
         "-0.031432597111313826",
         "-0.04091253207162033",
         "-0.024834786586751097",
         "0.03288753855683941",
         "-0.03426589369574738",
         "-0.050238468947815286",
         "-0.041909243008315444",
         "-0.02045861252943974",
         "-0.04174948164330687",
         "-0.04474655138069511",
         "-0.04170520748890173",
         "-0.02802190220553174",
         "-0.03242162364986137",
         "-0.03932142289973667",
         "-0.04174067938302024",
         "-0.03748051676028456",
         "-0.019738476346088232",
         "-0.040688928220912524",
         "-0.04181485597530751",
         "-0.027651382070189922",
         "-0.033261988895835495",
         "-0.04560997326155983",
         "-0.0412072230377209",
         "-0.03741102601564648",
         "-0.012023111367991461",
         "-0.05689696478744545",
         "-0.025664057507244167",
         "-0.014868251298428684",
         "-0.019180897072552907",
         "-0.02027581042481524"
        ],
        [
         "2020-10-01 00:00:00",
         "-0.025982468514298574",
         "-0.021349688271719725",
         "-0.011097351797451246",
         "-0.0150509234256747",
         "-0.019691633855346776",
         "-0.01210986021703163",
         "-0.029262362815994272",
         "-0.01452694461309822",
         "-0.021684658724734997",
         "-0.02701707847733936",
         "-0.0035250000000000004",
         "-0.028702563576305816",
         "-0.02467339851160599",
         "-0.039259038690923106",
         "-0.03851399185006548",
         "-0.033086095822156436",
         "-0.026717830684041283",
         "-0.029256851367337484",
         "-0.015720273093818245",
         "-0.028973689471290393",
         "-0.026372551416299853",
         "-0.02675185060981666",
         "-0.032442677639579545",
         "-0.03820246913531104",
         "-0.005887391838116157",
         "-0.010032805924512611",
         "-0.03835744992070697",
         "-0.05694694641947021",
         "-0.014235562938182091",
         "-0.03084718991349617",
         "-0.01769067854439422",
         "-0.004849628824589068",
         "-0.022620434527218375",
         "-0.006555305349179096",
         "-0.03340954575398543",
         "-0.008082893031898106",
         "-0.015689517306526433",
         "-0.04111056515656898",
         "0.0005271039525708288",
         "-0.04091573874663502",
         "-0.03522460048714933",
         "-0.03980028674758126",
         "-0.022785171654053027",
         "-0.01983524943670713",
         "-0.02196955310447321",
         "-0.028959376009812427",
         "-0.02676517951005664",
         "-0.03631482282299084",
         "0.0029403407071986907",
         "-0.0021523161880278264",
         "-0.0329028777167314",
         "-0.03188386456006871",
         "0.00689688176543443",
         "-0.014499932624885628",
         "-0.010304686985378803",
         "-0.024113962577621433",
         "-0.03475497482125418",
         "-0.039666095273541535",
         "-0.03059565681170419",
         "-0.035775835698075714",
         "-0.03241131251858617",
         "-0.021595603760003412",
         "-0.025312354184907297",
         "-0.016363173891357066",
         "-0.01456638361597208",
         "-0.03645723239315468",
         "-0.03981879438131316",
         "-0.032309367429237616",
         "-0.04076724558972378",
         "-0.04658052318174856",
         "-0.029721041611543927",
         "-0.03270983852303305",
         "-0.037592197234856475",
         "-0.027622551579060416",
         "-0.0051217156677027045",
         "-0.02930911715571467",
         "-0.0328858522917813",
         "0.013849475282557307",
         "-0.02856414001536927",
         "-0.04726783484218804",
         "-0.026538844685808104",
         "-0.03395611720253992",
         "-0.02877829714991785",
         "-0.021556767310660894",
         "-0.014034578111859822",
         "-0.020962233443140528",
         "-0.03667886527239252",
         "-0.03398977106108679",
         "-0.004193632064541987",
         "-0.026152762521100496",
         "-0.029296537195966425",
         "-0.022061023118085363",
         "-0.024268926739691023",
         "-0.006836870552479651",
         "-0.028806081181852457",
         "-0.029475972693967376",
         "-0.00947961379848876",
         "-0.039788904350251585",
         "-0.04017605071946286",
         "-0.011072205635382856",
         "-0.03423502348537274",
         "-0.020561187152567852"
        ],
        [
         "2020-11-01 00:00:00",
         "0.10763503481281304",
         "0.05108063199276078",
         "0.038160106273863265",
         "0.04680177722566958",
         "0.06898515549608487",
         "0.036478257766187586",
         "0.10676975084405736",
         "0.06325285113751619",
         "0.06015976117198661",
         "0.07244296512433522",
         "0.07403323434587465",
         "0.11638997114743874",
         "0.11105478526828838",
         "0.09512821517184031",
         "0.08796270753485445",
         "0.1049490194466966",
         "0.10012913151017831",
         "0.10662306262259551",
         "0.04555726290087933",
         "0.11340744802815571",
         "0.1116868935568586",
         "0.1066541744575067",
         "0.12974775470441074",
         "0.1128786471172433",
         "0.12502712922491516",
         "0.13022694356165532",
         "0.13089215535014356",
         "0.0849245252739671",
         "0.1255997125315753",
         "0.12991761027439555",
         "0.15035646458804983",
         "0.12445227329337924",
         "0.021936763571110594",
         "0.16284516427152756",
         "0.12714996793178793",
         "0.06787095101720665",
         "0.11697407853037685",
         "0.0760890750051651",
         "0.12207981656439318",
         "0.0863367904840888",
         "0.10134442887292369",
         "0.11675870312057667",
         "0.10979854062570327",
         "0.1193381782553527",
         "0.11791506963080164",
         "0.09991303758301875",
         "0.10705265193511329",
         "0.10106598887879778",
         "0.1255081670261342",
         "0.13462533848081717",
         "0.10161810072056368",
         "0.09746047688401188",
         "0.11007611633648672",
         "0.09322994719750359",
         "0.14331035825088545",
         "0.11177849062205358",
         "0.10209219858248754",
         "0.08459204179102428",
         "0.10304935355721959",
         "0.09351916636690184",
         "0.10848005837649484",
         "0.09766929978621774",
         "0.0862969122300472",
         "0.039075827271340416",
         "0.04650402123014964",
         "0.11335827689460662",
         "0.08520799228961531",
         "0.09505790161730412",
         "0.10213424605586575",
         "0.16384755600343756",
         "0.10342887420701112",
         "0.10297030405969654",
         "0.10349967751923778",
         "0.10573035991936738",
         "0.13024891543355485",
         "0.11287510084878341",
         "0.11698417637782706",
         "0.22687561954677393",
         "0.09938056826631035",
         "0.07053577154325186",
         "0.10418757746809582",
         "0.10631982810515497",
         "0.09975273673386154",
         "0.1173477001051943",
         "0.1253734907937449",
         "0.09720740822335823",
         "0.10916066505150702",
         "0.11738112869659088",
         "0.12186345396462064",
         "0.10715196876344214",
         "0.10034362264034788",
         "0.11690438478485081",
         "0.11308515981588871",
         "0.1439158408901656",
         "0.1018774874947301",
         "0.1148951812657046",
         "0.024085809743991403",
         "0.08459226596050705",
         "0.08152482281026281",
         "0.12085413664179734",
         "0.09486210530880394",
         "0.09770327837291586"
        ]
       ],
       "shape": {
        "columns": 102,
        "rows": 5
       }
      },
      "text/html": [
       "<div>\n",
       "<style scoped>\n",
       "    .dataframe tbody tr th:only-of-type {\n",
       "        vertical-align: middle;\n",
       "    }\n",
       "\n",
       "    .dataframe tbody tr th {\n",
       "        vertical-align: top;\n",
       "    }\n",
       "\n",
       "    .dataframe thead th {\n",
       "        text-align: right;\n",
       "    }\n",
       "</style>\n",
       "<table border=\"1\" class=\"dataframe\">\n",
       "  <thead>\n",
       "    <tr style=\"text-align: right;\">\n",
       "      <th></th>\n",
       "      <th>ACWI</th>\n",
       "      <th>ADME</th>\n",
       "      <th>AOK</th>\n",
       "      <th>AOM</th>\n",
       "      <th>AOR</th>\n",
       "      <th>BAPR</th>\n",
       "      <th>BBUS</th>\n",
       "      <th>BJAN</th>\n",
       "      <th>BJUL</th>\n",
       "      <th>BOCT</th>\n",
       "      <th>...</th>\n",
       "      <th>VT</th>\n",
       "      <th>VUSE</th>\n",
       "      <th>VV</th>\n",
       "      <th>WOMN</th>\n",
       "      <th>WTMF</th>\n",
       "      <th>XLG</th>\n",
       "      <th>XRLV</th>\n",
       "      <th>XSMO</th>\n",
       "      <th>YLDE</th>\n",
       "      <th>YYY</th>\n",
       "    </tr>\n",
       "    <tr>\n",
       "      <th>Date</th>\n",
       "      <th></th>\n",
       "      <th></th>\n",
       "      <th></th>\n",
       "      <th></th>\n",
       "      <th></th>\n",
       "      <th></th>\n",
       "      <th></th>\n",
       "      <th></th>\n",
       "      <th></th>\n",
       "      <th></th>\n",
       "      <th></th>\n",
       "      <th></th>\n",
       "      <th></th>\n",
       "      <th></th>\n",
       "      <th></th>\n",
       "      <th></th>\n",
       "      <th></th>\n",
       "      <th></th>\n",
       "      <th></th>\n",
       "      <th></th>\n",
       "      <th></th>\n",
       "    </tr>\n",
       "  </thead>\n",
       "  <tbody>\n",
       "    <tr>\n",
       "      <th>2020-07-01</th>\n",
       "      <td>0.048671</td>\n",
       "      <td>0.043373</td>\n",
       "      <td>0.020661</td>\n",
       "      <td>0.026278</td>\n",
       "      <td>0.031026</td>\n",
       "      <td>0.018638</td>\n",
       "      <td>0.053517</td>\n",
       "      <td>0.037302</td>\n",
       "      <td>0.030352</td>\n",
       "      <td>0.032471</td>\n",
       "      <td>...</td>\n",
       "      <td>0.048151</td>\n",
       "      <td>0.036200</td>\n",
       "      <td>0.054545</td>\n",
       "      <td>0.060543</td>\n",
       "      <td>0.010116</td>\n",
       "      <td>0.057360</td>\n",
       "      <td>0.062859</td>\n",
       "      <td>0.084589</td>\n",
       "      <td>0.049560</td>\n",
       "      <td>0.033645</td>\n",
       "    </tr>\n",
       "    <tr>\n",
       "      <th>2020-08-01</th>\n",
       "      <td>0.055057</td>\n",
       "      <td>0.044479</td>\n",
       "      <td>0.010890</td>\n",
       "      <td>0.016848</td>\n",
       "      <td>0.030547</td>\n",
       "      <td>0.015891</td>\n",
       "      <td>0.070364</td>\n",
       "      <td>0.034209</td>\n",
       "      <td>0.028437</td>\n",
       "      <td>0.031839</td>\n",
       "      <td>...</td>\n",
       "      <td>0.054760</td>\n",
       "      <td>0.048158</td>\n",
       "      <td>0.069987</td>\n",
       "      <td>0.110326</td>\n",
       "      <td>-0.008297</td>\n",
       "      <td>0.088604</td>\n",
       "      <td>0.034898</td>\n",
       "      <td>0.024287</td>\n",
       "      <td>0.046237</td>\n",
       "      <td>0.025691</td>\n",
       "    </tr>\n",
       "    <tr>\n",
       "      <th>2020-09-01</th>\n",
       "      <td>-0.033537</td>\n",
       "      <td>-0.048784</td>\n",
       "      <td>-0.015523</td>\n",
       "      <td>-0.018151</td>\n",
       "      <td>-0.022361</td>\n",
       "      <td>-0.010752</td>\n",
       "      <td>-0.043609</td>\n",
       "      <td>-0.020619</td>\n",
       "      <td>-0.020556</td>\n",
       "      <td>-0.000562</td>\n",
       "      <td>...</td>\n",
       "      <td>-0.033262</td>\n",
       "      <td>-0.045610</td>\n",
       "      <td>-0.041207</td>\n",
       "      <td>-0.037411</td>\n",
       "      <td>-0.012023</td>\n",
       "      <td>-0.056897</td>\n",
       "      <td>-0.025664</td>\n",
       "      <td>-0.014868</td>\n",
       "      <td>-0.019181</td>\n",
       "      <td>-0.020276</td>\n",
       "    </tr>\n",
       "    <tr>\n",
       "      <th>2020-10-01</th>\n",
       "      <td>-0.025982</td>\n",
       "      <td>-0.021350</td>\n",
       "      <td>-0.011097</td>\n",
       "      <td>-0.015051</td>\n",
       "      <td>-0.019692</td>\n",
       "      <td>-0.012110</td>\n",
       "      <td>-0.029262</td>\n",
       "      <td>-0.014527</td>\n",
       "      <td>-0.021685</td>\n",
       "      <td>-0.027017</td>\n",
       "      <td>...</td>\n",
       "      <td>-0.024269</td>\n",
       "      <td>-0.006837</td>\n",
       "      <td>-0.028806</td>\n",
       "      <td>-0.029476</td>\n",
       "      <td>-0.009480</td>\n",
       "      <td>-0.039789</td>\n",
       "      <td>-0.040176</td>\n",
       "      <td>-0.011072</td>\n",
       "      <td>-0.034235</td>\n",
       "      <td>-0.020561</td>\n",
       "    </tr>\n",
       "    <tr>\n",
       "      <th>2020-11-01</th>\n",
       "      <td>0.107635</td>\n",
       "      <td>0.051081</td>\n",
       "      <td>0.038160</td>\n",
       "      <td>0.046802</td>\n",
       "      <td>0.068985</td>\n",
       "      <td>0.036478</td>\n",
       "      <td>0.106770</td>\n",
       "      <td>0.063253</td>\n",
       "      <td>0.060160</td>\n",
       "      <td>0.072443</td>\n",
       "      <td>...</td>\n",
       "      <td>0.113085</td>\n",
       "      <td>0.143916</td>\n",
       "      <td>0.101877</td>\n",
       "      <td>0.114895</td>\n",
       "      <td>0.024086</td>\n",
       "      <td>0.084592</td>\n",
       "      <td>0.081525</td>\n",
       "      <td>0.120854</td>\n",
       "      <td>0.094862</td>\n",
       "      <td>0.097703</td>\n",
       "    </tr>\n",
       "  </tbody>\n",
       "</table>\n",
       "<p>5 rows × 102 columns</p>\n",
       "</div>"
      ],
      "text/plain": [
       "                ACWI      ADME       AOK       AOM       AOR      BAPR  \\\n",
       "Date                                                                     \n",
       "2020-07-01  0.048671  0.043373  0.020661  0.026278  0.031026  0.018638   \n",
       "2020-08-01  0.055057  0.044479  0.010890  0.016848  0.030547  0.015891   \n",
       "2020-09-01 -0.033537 -0.048784 -0.015523 -0.018151 -0.022361 -0.010752   \n",
       "2020-10-01 -0.025982 -0.021350 -0.011097 -0.015051 -0.019692 -0.012110   \n",
       "2020-11-01  0.107635  0.051081  0.038160  0.046802  0.068985  0.036478   \n",
       "\n",
       "                BBUS      BJAN      BJUL      BOCT  ...        VT      VUSE  \\\n",
       "Date                                                ...                       \n",
       "2020-07-01  0.053517  0.037302  0.030352  0.032471  ...  0.048151  0.036200   \n",
       "2020-08-01  0.070364  0.034209  0.028437  0.031839  ...  0.054760  0.048158   \n",
       "2020-09-01 -0.043609 -0.020619 -0.020556 -0.000562  ... -0.033262 -0.045610   \n",
       "2020-10-01 -0.029262 -0.014527 -0.021685 -0.027017  ... -0.024269 -0.006837   \n",
       "2020-11-01  0.106770  0.063253  0.060160  0.072443  ...  0.113085  0.143916   \n",
       "\n",
       "                  VV      WOMN      WTMF       XLG      XRLV      XSMO  \\\n",
       "Date                                                                     \n",
       "2020-07-01  0.054545  0.060543  0.010116  0.057360  0.062859  0.084589   \n",
       "2020-08-01  0.069987  0.110326 -0.008297  0.088604  0.034898  0.024287   \n",
       "2020-09-01 -0.041207 -0.037411 -0.012023 -0.056897 -0.025664 -0.014868   \n",
       "2020-10-01 -0.028806 -0.029476 -0.009480 -0.039789 -0.040176 -0.011072   \n",
       "2020-11-01  0.101877  0.114895  0.024086  0.084592  0.081525  0.120854   \n",
       "\n",
       "                YLDE       YYY  \n",
       "Date                            \n",
       "2020-07-01  0.049560  0.033645  \n",
       "2020-08-01  0.046237  0.025691  \n",
       "2020-09-01 -0.019181 -0.020276  \n",
       "2020-10-01 -0.034235 -0.020561  \n",
       "2020-11-01  0.094862  0.097703  \n",
       "\n",
       "[5 rows x 102 columns]"
      ]
     },
     "execution_count": 16,
     "metadata": {},
     "output_type": "execute_result"
    }
   ],
   "source": [
    "benchmark_excess_returns_df = benchmark_log_returns_df - risk_free_rate_monthly\n",
    "benchmark_excess_returns_df.head()"
   ]
  },
  {
   "cell_type": "markdown",
   "id": "b7d95382",
   "metadata": {},
   "source": [
    "#### Stocks"
   ]
  },
  {
   "cell_type": "code",
   "execution_count": 17,
   "id": "8ffb2f5a",
   "metadata": {
    "execution": {
     "iopub.execute_input": "2025-06-02T13:28:31.350103Z",
     "iopub.status.busy": "2025-06-02T13:28:31.349138Z",
     "iopub.status.idle": "2025-06-02T13:28:31.364165Z",
     "shell.execute_reply": "2025-06-02T13:28:31.363050Z"
    }
   },
   "outputs": [
    {
     "data": {
      "application/vnd.microsoft.datawrangler.viewer.v0+json": {
       "columns": [
        {
         "name": "Date",
         "rawType": "datetime64[ns]",
         "type": "datetime"
        },
        {
         "name": "AMAT",
         "rawType": "float64",
         "type": "float"
        },
        {
         "name": "APO",
         "rawType": "float64",
         "type": "float"
        },
        {
         "name": "MMC",
         "rawType": "float64",
         "type": "float"
        },
        {
         "name": "SO",
         "rawType": "float64",
         "type": "float"
        },
        {
         "name": "TMUS",
         "rawType": "float64",
         "type": "float"
        }
       ],
       "ref": "81b74753-317b-4e3c-943a-0e9a7c3feba0",
       "rows": [
        [
         "2020-08-01 00:00:00",
         "-0.04354356742180044",
         "-0.03979840678683487",
         "-0.018195189747793744",
         "-0.03741133433399843",
         "0.07949467315012795"
        ],
        [
         "2020-09-01 00:00:00",
         "-0.03907437741399462",
         "-0.049668154880479605",
         "-0.005292524531053444",
         "0.034764687992268374",
         "-0.023620395827932926"
        ],
        [
         "2020-10-01 00:00:00",
         "-0.007203084538844039",
         "-0.197519546155669",
         "-0.10259456519341541",
         "0.05451176260085454",
         "-0.04627513912051091"
        ],
        [
         "2020-11-01 00:00:00",
         "0.33048764297084976",
         "0.17604804384060557",
         "0.09907649562400173",
         "0.047395090427256745",
         "0.1897797285359963"
        ],
        [
         "2020-12-01 00:00:00",
         "0.04179496748895547",
         "0.11233070667703472",
         "0.016863253287065668",
         "0.02253130591313441",
         "0.010757138364025347"
        ]
       ],
       "shape": {
        "columns": 5,
        "rows": 5
       }
      },
      "text/html": [
       "<div>\n",
       "<style scoped>\n",
       "    .dataframe tbody tr th:only-of-type {\n",
       "        vertical-align: middle;\n",
       "    }\n",
       "\n",
       "    .dataframe tbody tr th {\n",
       "        vertical-align: top;\n",
       "    }\n",
       "\n",
       "    .dataframe thead th {\n",
       "        text-align: right;\n",
       "    }\n",
       "</style>\n",
       "<table border=\"1\" class=\"dataframe\">\n",
       "  <thead>\n",
       "    <tr style=\"text-align: right;\">\n",
       "      <th></th>\n",
       "      <th>AMAT</th>\n",
       "      <th>APO</th>\n",
       "      <th>MMC</th>\n",
       "      <th>SO</th>\n",
       "      <th>TMUS</th>\n",
       "    </tr>\n",
       "    <tr>\n",
       "      <th>Date</th>\n",
       "      <th></th>\n",
       "      <th></th>\n",
       "      <th></th>\n",
       "      <th></th>\n",
       "      <th></th>\n",
       "    </tr>\n",
       "  </thead>\n",
       "  <tbody>\n",
       "    <tr>\n",
       "      <th>2020-08-01</th>\n",
       "      <td>-0.043544</td>\n",
       "      <td>-0.039798</td>\n",
       "      <td>-0.018195</td>\n",
       "      <td>-0.037411</td>\n",
       "      <td>0.079495</td>\n",
       "    </tr>\n",
       "    <tr>\n",
       "      <th>2020-09-01</th>\n",
       "      <td>-0.039074</td>\n",
       "      <td>-0.049668</td>\n",
       "      <td>-0.005293</td>\n",
       "      <td>0.034765</td>\n",
       "      <td>-0.023620</td>\n",
       "    </tr>\n",
       "    <tr>\n",
       "      <th>2020-10-01</th>\n",
       "      <td>-0.007203</td>\n",
       "      <td>-0.197520</td>\n",
       "      <td>-0.102595</td>\n",
       "      <td>0.054512</td>\n",
       "      <td>-0.046275</td>\n",
       "    </tr>\n",
       "    <tr>\n",
       "      <th>2020-11-01</th>\n",
       "      <td>0.330488</td>\n",
       "      <td>0.176048</td>\n",
       "      <td>0.099076</td>\n",
       "      <td>0.047395</td>\n",
       "      <td>0.189780</td>\n",
       "    </tr>\n",
       "    <tr>\n",
       "      <th>2020-12-01</th>\n",
       "      <td>0.041795</td>\n",
       "      <td>0.112331</td>\n",
       "      <td>0.016863</td>\n",
       "      <td>0.022531</td>\n",
       "      <td>0.010757</td>\n",
       "    </tr>\n",
       "  </tbody>\n",
       "</table>\n",
       "</div>"
      ],
      "text/plain": [
       "                AMAT       APO       MMC        SO      TMUS\n",
       "Date                                                        \n",
       "2020-08-01 -0.043544 -0.039798 -0.018195 -0.037411  0.079495\n",
       "2020-09-01 -0.039074 -0.049668 -0.005293  0.034765 -0.023620\n",
       "2020-10-01 -0.007203 -0.197520 -0.102595  0.054512 -0.046275\n",
       "2020-11-01  0.330488  0.176048  0.099076  0.047395  0.189780\n",
       "2020-12-01  0.041795  0.112331  0.016863  0.022531  0.010757"
      ]
     },
     "execution_count": 17,
     "metadata": {},
     "output_type": "execute_result"
    }
   ],
   "source": [
    "stock_excess_returns_df = stock_log_returns_df - risk_free_rate_monthly\n",
    "stock_excess_returns_df.head()"
   ]
  },
  {
   "cell_type": "markdown",
   "id": "b2439f61",
   "metadata": {},
   "source": [
    "### Step 10: Find the Best Benchmark (By Regression Coefficients)"
   ]
  },
  {
   "cell_type": "code",
   "execution_count": 18,
   "id": "f10cacac",
   "metadata": {
    "execution": {
     "iopub.execute_input": "2025-06-02T13:28:31.369701Z",
     "iopub.status.busy": "2025-06-02T13:28:31.368584Z",
     "iopub.status.idle": "2025-06-02T13:28:33.805998Z",
     "shell.execute_reply": "2025-06-02T13:28:33.797796Z"
    }
   },
   "outputs": [
    {
     "name": "stdout",
     "output_type": "stream",
     "text": [
      "Best benchmark: IQLT\n"
     ]
    },
    {
     "data": {
      "application/vnd.microsoft.datawrangler.viewer.v0+json": {
       "columns": [
        {
         "name": "index",
         "rawType": "int64",
         "type": "integer"
        },
        {
         "name": "Equity",
         "rawType": "object",
         "type": "string"
        },
        {
         "name": "Benchmark",
         "rawType": "object",
         "type": "string"
        },
        {
         "name": "intercept (alpha)",
         "rawType": "float64",
         "type": "float"
        },
        {
         "name": "slope (beta)",
         "rawType": "float64",
         "type": "float"
        },
        {
         "name": "correlation",
         "rawType": "float64",
         "type": "float"
        },
        {
         "name": "r_squared",
         "rawType": "float64",
         "type": "float"
        },
        {
         "name": "p_value_slope",
         "rawType": "float64",
         "type": "float"
        },
        {
         "name": "p_value_intercept",
         "rawType": "float64",
         "type": "float"
        }
       ],
       "ref": "f64c72e2-851d-495e-8859-98e5f7b4f042",
       "rows": [
        [
         "0",
         "AMAT",
         "IQLT",
         "0.002564419606897214",
         "1.7197472737556176",
         null,
         "0.5442053525353352",
         "6.430693013090606e-07",
         "0.8509575977184554"
        ],
        [
         "1",
         "APO",
         "IQLT",
         "0.003230563278904813",
         "1.3489371415685312",
         null,
         "0.31925216396867173",
         "0.0004984600277505255",
         "0.84999219048452"
        ],
        [
         "2",
         "MMC",
         "IQLT",
         "0.009012728878130934",
         "0.8497263028698083",
         null,
         "0.4529437030711714",
         "1.2946426948202078e-05",
         "0.2702087907426082"
        ],
        [
         "3",
         "SO",
         "IQLT",
         "0.007942765083150049",
         "0.5734745497762584",
         null,
         "0.2563275837612391",
         "0.0022497837404572216",
         "0.3515822030941407"
        ],
        [
         "4",
         "TMUS",
         "IQLT",
         "0.010126367545954985",
         "0.6579919833376221",
         null,
         "0.18599600128347982",
         "0.010879076190409466",
         "0.3987816048869961"
        ]
       ],
       "shape": {
        "columns": 8,
        "rows": 5
       }
      },
      "text/html": [
       "<div>\n",
       "<style scoped>\n",
       "    .dataframe tbody tr th:only-of-type {\n",
       "        vertical-align: middle;\n",
       "    }\n",
       "\n",
       "    .dataframe tbody tr th {\n",
       "        vertical-align: top;\n",
       "    }\n",
       "\n",
       "    .dataframe thead th {\n",
       "        text-align: right;\n",
       "    }\n",
       "</style>\n",
       "<table border=\"1\" class=\"dataframe\">\n",
       "  <thead>\n",
       "    <tr style=\"text-align: right;\">\n",
       "      <th></th>\n",
       "      <th>Equity</th>\n",
       "      <th>Benchmark</th>\n",
       "      <th>intercept (alpha)</th>\n",
       "      <th>slope (beta)</th>\n",
       "      <th>correlation</th>\n",
       "      <th>r_squared</th>\n",
       "      <th>p_value_slope</th>\n",
       "      <th>p_value_intercept</th>\n",
       "    </tr>\n",
       "  </thead>\n",
       "  <tbody>\n",
       "    <tr>\n",
       "      <th>0</th>\n",
       "      <td>AMAT</td>\n",
       "      <td>IQLT</td>\n",
       "      <td>0.002564</td>\n",
       "      <td>1.719747</td>\n",
       "      <td>NaN</td>\n",
       "      <td>0.544205</td>\n",
       "      <td>6.430693e-07</td>\n",
       "      <td>0.850958</td>\n",
       "    </tr>\n",
       "    <tr>\n",
       "      <th>1</th>\n",
       "      <td>APO</td>\n",
       "      <td>IQLT</td>\n",
       "      <td>0.003231</td>\n",
       "      <td>1.348937</td>\n",
       "      <td>NaN</td>\n",
       "      <td>0.319252</td>\n",
       "      <td>4.984600e-04</td>\n",
       "      <td>0.849992</td>\n",
       "    </tr>\n",
       "    <tr>\n",
       "      <th>2</th>\n",
       "      <td>MMC</td>\n",
       "      <td>IQLT</td>\n",
       "      <td>0.009013</td>\n",
       "      <td>0.849726</td>\n",
       "      <td>NaN</td>\n",
       "      <td>0.452944</td>\n",
       "      <td>1.294643e-05</td>\n",
       "      <td>0.270209</td>\n",
       "    </tr>\n",
       "    <tr>\n",
       "      <th>3</th>\n",
       "      <td>SO</td>\n",
       "      <td>IQLT</td>\n",
       "      <td>0.007943</td>\n",
       "      <td>0.573475</td>\n",
       "      <td>NaN</td>\n",
       "      <td>0.256328</td>\n",
       "      <td>2.249784e-03</td>\n",
       "      <td>0.351582</td>\n",
       "    </tr>\n",
       "    <tr>\n",
       "      <th>4</th>\n",
       "      <td>TMUS</td>\n",
       "      <td>IQLT</td>\n",
       "      <td>0.010126</td>\n",
       "      <td>0.657992</td>\n",
       "      <td>NaN</td>\n",
       "      <td>0.185996</td>\n",
       "      <td>1.087908e-02</td>\n",
       "      <td>0.398782</td>\n",
       "    </tr>\n",
       "  </tbody>\n",
       "</table>\n",
       "</div>"
      ],
      "text/plain": [
       "  Equity Benchmark  intercept (alpha)  slope (beta)  correlation  r_squared  \\\n",
       "0   AMAT      IQLT           0.002564      1.719747          NaN   0.544205   \n",
       "1    APO      IQLT           0.003231      1.348937          NaN   0.319252   \n",
       "2    MMC      IQLT           0.009013      0.849726          NaN   0.452944   \n",
       "3     SO      IQLT           0.007943      0.573475          NaN   0.256328   \n",
       "4   TMUS      IQLT           0.010126      0.657992          NaN   0.185996   \n",
       "\n",
       "   p_value_slope  p_value_intercept  \n",
       "0   6.430693e-07           0.850958  \n",
       "1   4.984600e-04           0.849992  \n",
       "2   1.294643e-05           0.270209  \n",
       "3   2.249784e-03           0.351582  \n",
       "4   1.087908e-02           0.398782  "
      ]
     },
     "metadata": {},
     "output_type": "display_data"
    }
   ],
   "source": [
    "# Call the function with your data\n",
    "best_benchmark, benchmark_stats_df, best_benchmarks_df = find_best_benchmark_and_run_regressions(\n",
    "    benchmark_excess_returns_df, \n",
    "    stock_excess_returns_df\n",
    ")\n",
    "\n",
    "# Display the results\n",
    "print(f\"Best benchmark: {best_benchmark}\")\n",
    "display(best_benchmarks_df)"
   ]
  },
  {
   "cell_type": "code",
   "execution_count": 19,
   "id": "a538dcf3",
   "metadata": {
    "execution": {
     "iopub.execute_input": "2025-06-02T13:28:33.811381Z",
     "iopub.status.busy": "2025-06-02T13:28:33.810059Z",
     "iopub.status.idle": "2025-06-02T13:28:33.826248Z",
     "shell.execute_reply": "2025-06-02T13:28:33.825115Z"
    }
   },
   "outputs": [
    {
     "data": {
      "application/vnd.microsoft.datawrangler.viewer.v0+json": {
       "columns": [
        {
         "name": "index",
         "rawType": "int64",
         "type": "integer"
        },
        {
         "name": "benchmark",
         "rawType": "object",
         "type": "string"
        },
        {
         "name": "avg_slope",
         "rawType": "float64",
         "type": "float"
        },
        {
         "name": "slope_std",
         "rawType": "float64",
         "type": "float"
        },
        {
         "name": "avg_p_value_intercept",
         "rawType": "float64",
         "type": "float"
        },
        {
         "name": "avg_p_value_slope",
         "rawType": "float64",
         "type": "float"
        },
        {
         "name": "avg_r_squared",
         "rawType": "float64",
         "type": "float"
        },
        {
         "name": "beta_quality",
         "rawType": "float64",
         "type": "float"
        },
        {
         "name": "score",
         "rawType": "float64",
         "type": "float"
        }
       ],
       "ref": "0c82fea4-ee50-4ec8-839e-91f1f1d49dd4",
       "rows": [
        [
         "30",
         "IQLT",
         "1.0299754502615674",
         "0.43744171176325153",
         "0.544304477385344",
         "0.0027281818909733447",
         "0.35174496092397944",
         "0.9700245497384326",
         "0.6940834467965709"
        ],
        [
         "42",
         "MAGA",
         "1.0138673964322247",
         "0.4073623728262232",
         "0.6533474615690851",
         "0.00038950192777943536",
         "0.42272455265241654",
         "0.9861326035677753",
         "0.6931338489685195"
        ],
        [
         "55",
         "QUAL",
         "0.9953515035983511",
         "0.4503140696008239",
         "0.6174410108222114",
         "0.0034847461121660338",
         "0.38798183331991787",
         "0.9953515035983511",
         "0.6903826811251336"
        ],
        [
         "37",
         "IWR",
         "1.0204781829388305",
         "0.48607315069043455",
         "0.6245394407611637",
         "0.0026338155233370927",
         "0.4106657746833219",
         "0.9795218170611695",
         "0.6871857440567555"
        ],
        [
         "72",
         "VO",
         "1.0469738281994183",
         "0.48645279152261633",
         "0.6193767903569567",
         "0.0022858077732472565",
         "0.42061006385080935",
         "0.9530261718005817",
         "0.6849432319307617"
        ],
        [
         "17",
         "EWC",
         "0.9986611518300041",
         "0.47289639059693145",
         "0.6200870886291515",
         "0.0035896824292642564",
         "0.36758550316546196",
         "0.9986611518300041",
         "0.684300853092365"
        ],
        [
         "77",
         "VUSE",
         "0.9654148785414012",
         "0.5127300121387257",
         "0.5937792908312252",
         "0.003791976600836034",
         "0.3826515732237601",
         "0.9654148785414012",
         "0.6823103359055255"
        ],
        [
         "16",
         "EUSA",
         "1.0785192986129584",
         "0.4862412849213194",
         "0.6138976597389704",
         "0.0013778644898163354",
         "0.43082215720642675",
         "0.9214807013870416",
         "0.6819731188612794"
        ],
        [
         "28",
         "IMTM",
         "1.0862002222414961",
         "0.4742980733420618",
         "0.5056023781293257",
         "0.005687500910968866",
         "0.3277942437548162",
         "0.9137997777585039",
         "0.6817186059931698"
        ],
        [
         "18",
         "EWL",
         "0.9253072589181794",
         "0.325578044745208",
         "0.5767872860391556",
         "0.004814486548481883",
         "0.3076066156527924",
         "0.9253072589181794",
         "0.6811399947445751"
        ]
       ],
       "shape": {
        "columns": 8,
        "rows": 10
       }
      },
      "text/html": [
       "<div>\n",
       "<style scoped>\n",
       "    .dataframe tbody tr th:only-of-type {\n",
       "        vertical-align: middle;\n",
       "    }\n",
       "\n",
       "    .dataframe tbody tr th {\n",
       "        vertical-align: top;\n",
       "    }\n",
       "\n",
       "    .dataframe thead th {\n",
       "        text-align: right;\n",
       "    }\n",
       "</style>\n",
       "<table border=\"1\" class=\"dataframe\">\n",
       "  <thead>\n",
       "    <tr style=\"text-align: right;\">\n",
       "      <th></th>\n",
       "      <th>benchmark</th>\n",
       "      <th>avg_slope</th>\n",
       "      <th>slope_std</th>\n",
       "      <th>avg_p_value_intercept</th>\n",
       "      <th>avg_p_value_slope</th>\n",
       "      <th>avg_r_squared</th>\n",
       "      <th>beta_quality</th>\n",
       "      <th>score</th>\n",
       "    </tr>\n",
       "  </thead>\n",
       "  <tbody>\n",
       "    <tr>\n",
       "      <th>30</th>\n",
       "      <td>IQLT</td>\n",
       "      <td>1.029975</td>\n",
       "      <td>0.437442</td>\n",
       "      <td>0.544304</td>\n",
       "      <td>0.002728</td>\n",
       "      <td>0.351745</td>\n",
       "      <td>0.970025</td>\n",
       "      <td>0.694083</td>\n",
       "    </tr>\n",
       "    <tr>\n",
       "      <th>42</th>\n",
       "      <td>MAGA</td>\n",
       "      <td>1.013867</td>\n",
       "      <td>0.407362</td>\n",
       "      <td>0.653347</td>\n",
       "      <td>0.000390</td>\n",
       "      <td>0.422725</td>\n",
       "      <td>0.986133</td>\n",
       "      <td>0.693134</td>\n",
       "    </tr>\n",
       "    <tr>\n",
       "      <th>55</th>\n",
       "      <td>QUAL</td>\n",
       "      <td>0.995352</td>\n",
       "      <td>0.450314</td>\n",
       "      <td>0.617441</td>\n",
       "      <td>0.003485</td>\n",
       "      <td>0.387982</td>\n",
       "      <td>0.995352</td>\n",
       "      <td>0.690383</td>\n",
       "    </tr>\n",
       "    <tr>\n",
       "      <th>37</th>\n",
       "      <td>IWR</td>\n",
       "      <td>1.020478</td>\n",
       "      <td>0.486073</td>\n",
       "      <td>0.624539</td>\n",
       "      <td>0.002634</td>\n",
       "      <td>0.410666</td>\n",
       "      <td>0.979522</td>\n",
       "      <td>0.687186</td>\n",
       "    </tr>\n",
       "    <tr>\n",
       "      <th>72</th>\n",
       "      <td>VO</td>\n",
       "      <td>1.046974</td>\n",
       "      <td>0.486453</td>\n",
       "      <td>0.619377</td>\n",
       "      <td>0.002286</td>\n",
       "      <td>0.420610</td>\n",
       "      <td>0.953026</td>\n",
       "      <td>0.684943</td>\n",
       "    </tr>\n",
       "    <tr>\n",
       "      <th>17</th>\n",
       "      <td>EWC</td>\n",
       "      <td>0.998661</td>\n",
       "      <td>0.472896</td>\n",
       "      <td>0.620087</td>\n",
       "      <td>0.003590</td>\n",
       "      <td>0.367586</td>\n",
       "      <td>0.998661</td>\n",
       "      <td>0.684301</td>\n",
       "    </tr>\n",
       "    <tr>\n",
       "      <th>77</th>\n",
       "      <td>VUSE</td>\n",
       "      <td>0.965415</td>\n",
       "      <td>0.512730</td>\n",
       "      <td>0.593779</td>\n",
       "      <td>0.003792</td>\n",
       "      <td>0.382652</td>\n",
       "      <td>0.965415</td>\n",
       "      <td>0.682310</td>\n",
       "    </tr>\n",
       "    <tr>\n",
       "      <th>16</th>\n",
       "      <td>EUSA</td>\n",
       "      <td>1.078519</td>\n",
       "      <td>0.486241</td>\n",
       "      <td>0.613898</td>\n",
       "      <td>0.001378</td>\n",
       "      <td>0.430822</td>\n",
       "      <td>0.921481</td>\n",
       "      <td>0.681973</td>\n",
       "    </tr>\n",
       "    <tr>\n",
       "      <th>28</th>\n",
       "      <td>IMTM</td>\n",
       "      <td>1.086200</td>\n",
       "      <td>0.474298</td>\n",
       "      <td>0.505602</td>\n",
       "      <td>0.005688</td>\n",
       "      <td>0.327794</td>\n",
       "      <td>0.913800</td>\n",
       "      <td>0.681719</td>\n",
       "    </tr>\n",
       "    <tr>\n",
       "      <th>18</th>\n",
       "      <td>EWL</td>\n",
       "      <td>0.925307</td>\n",
       "      <td>0.325578</td>\n",
       "      <td>0.576787</td>\n",
       "      <td>0.004814</td>\n",
       "      <td>0.307607</td>\n",
       "      <td>0.925307</td>\n",
       "      <td>0.681140</td>\n",
       "    </tr>\n",
       "  </tbody>\n",
       "</table>\n",
       "</div>"
      ],
      "text/plain": [
       "   benchmark  avg_slope  slope_std  avg_p_value_intercept  avg_p_value_slope  \\\n",
       "30      IQLT   1.029975   0.437442               0.544304           0.002728   \n",
       "42      MAGA   1.013867   0.407362               0.653347           0.000390   \n",
       "55      QUAL   0.995352   0.450314               0.617441           0.003485   \n",
       "37       IWR   1.020478   0.486073               0.624539           0.002634   \n",
       "72        VO   1.046974   0.486453               0.619377           0.002286   \n",
       "17       EWC   0.998661   0.472896               0.620087           0.003590   \n",
       "77      VUSE   0.965415   0.512730               0.593779           0.003792   \n",
       "16      EUSA   1.078519   0.486241               0.613898           0.001378   \n",
       "28      IMTM   1.086200   0.474298               0.505602           0.005688   \n",
       "18       EWL   0.925307   0.325578               0.576787           0.004814   \n",
       "\n",
       "    avg_r_squared  beta_quality     score  \n",
       "30       0.351745      0.970025  0.694083  \n",
       "42       0.422725      0.986133  0.693134  \n",
       "55       0.387982      0.995352  0.690383  \n",
       "37       0.410666      0.979522  0.687186  \n",
       "72       0.420610      0.953026  0.684943  \n",
       "17       0.367586      0.998661  0.684301  \n",
       "77       0.382652      0.965415  0.682310  \n",
       "16       0.430822      0.921481  0.681973  \n",
       "28       0.327794      0.913800  0.681719  \n",
       "18       0.307607      0.925307  0.681140  "
      ]
     },
     "metadata": {},
     "output_type": "display_data"
    }
   ],
   "source": [
    "# Display the benchmark statistics\n",
    "display(benchmark_stats_df.sort_values(by=\"score\", ascending=False).head(10))"
   ]
  },
  {
   "cell_type": "markdown",
   "id": "39fc9f9a",
   "metadata": {},
   "source": [
    "### Step 10: Plot Results"
   ]
  },
  {
   "cell_type": "code",
   "execution_count": 27,
   "id": "247ed03c",
   "metadata": {},
   "outputs": [
    {
     "name": "stdout",
     "output_type": "stream",
     "text": [
      "📈 BENCHMARK REGRESSION ANALYSIS: IQLT\n",
      "======================================================================\n",
      "🔍 AMAT: β=1.7197, R²=0.5442, p=0.0000, Weight=7.4%\n",
      "🔍 APO: β=1.3489, R²=0.3193, p=0.0005, Weight=16.1%\n",
      "🔍 MMC: β=0.8497, R²=0.4529, p=0.0000, Weight=33.7%\n",
      "🔍 SO: β=0.5735, R²=0.2563, p=0.0022, Weight=9.0%\n",
      "🔍 TMUS: β=0.6580, R²=0.1860, p=0.0109, Weight=33.7%\n"
     ]
    },
    {
     "data": {
      "image/png": "[encoded data removed]",
      "text/plain": [
       "<Figure size 1200x1500 with 6 Axes>"
      ]
     },
     "metadata": {},
     "output_type": "display_data"
    },
    {
     "name": "stdout",
     "output_type": "stream",
     "text": [
      "\n",
      "📊 BENCHMARK REGRESSION SUMMARY: IQLT\n"
     ]
    },
    {
     "data": {
      "application/vnd.microsoft.datawrangler.viewer.v0+json": {
       "columns": [
        {
         "name": "index",
         "rawType": "int64",
         "type": "integer"
        },
        {
         "name": "Ticker",
         "rawType": "object",
         "type": "string"
        },
        {
         "name": "Beta",
         "rawType": "float64",
         "type": "float"
        },
        {
         "name": "Alpha",
         "rawType": "float64",
         "type": "float"
        },
        {
         "name": "R_Squared",
         "rawType": "float64",
         "type": "float"
        },
        {
         "name": "Correlation",
         "rawType": "float64",
         "type": "float"
        },
        {
         "name": "P_Value",
         "rawType": "float64",
         "type": "float"
        },
        {
         "name": "Portfolio_Weight",
         "rawType": "float64",
         "type": "float"
        },
        {
         "name": "N_Observations",
         "rawType": "int64",
         "type": "integer"
        },
        {
         "name": "Significance",
         "rawType": "object",
         "type": "string"
        }
       ],
       "ref": "425d5290-f5b7-4c27-abd8-07ef3d73dcd5",
       "rows": [
        [
         "0",
         "AMAT",
         "1.7197",
         "0.0026",
         "0.5442",
         "0.7377",
         "0.0",
         "0.074",
         "34",
         "***"
        ],
        [
         "1",
         "APO",
         "1.3489",
         "0.0032",
         "0.3193",
         "0.565",
         "0.0005",
         "0.1615",
         "34",
         "***"
        ],
        [
         "2",
         "MMC",
         "0.8497",
         "0.009",
         "0.4529",
         "0.673",
         "0.0",
         "0.3371",
         "34",
         "***"
        ],
        [
         "3",
         "SO",
         "0.5735",
         "0.0079",
         "0.2563",
         "0.5063",
         "0.0022",
         "0.0904",
         "34",
         "**"
        ],
        [
         "4",
         "TMUS",
         "0.658",
         "0.0101",
         "0.186",
         "0.4313",
         "0.0109",
         "0.3371",
         "34",
         "*"
        ]
       ],
       "shape": {
        "columns": 9,
        "rows": 5
       }
      },
      "text/html": [
       "<div>\n",
       "<style scoped>\n",
       "    .dataframe tbody tr th:only-of-type {\n",
       "        vertical-align: middle;\n",
       "    }\n",
       "\n",
       "    .dataframe tbody tr th {\n",
       "        vertical-align: top;\n",
       "    }\n",
       "\n",
       "    .dataframe thead th {\n",
       "        text-align: right;\n",
       "    }\n",
       "</style>\n",
       "<table border=\"1\" class=\"dataframe\">\n",
       "  <thead>\n",
       "    <tr style=\"text-align: right;\">\n",
       "      <th></th>\n",
       "      <th>Ticker</th>\n",
       "      <th>Beta</th>\n",
       "      <th>Alpha</th>\n",
       "      <th>R_Squared</th>\n",
       "      <th>Correlation</th>\n",
       "      <th>P_Value</th>\n",
       "      <th>Portfolio_Weight</th>\n",
       "      <th>N_Observations</th>\n",
       "      <th>Significance</th>\n",
       "    </tr>\n",
       "  </thead>\n",
       "  <tbody>\n",
       "    <tr>\n",
       "      <th>0</th>\n",
       "      <td>AMAT</td>\n",
       "      <td>1.7197</td>\n",
       "      <td>0.0026</td>\n",
       "      <td>0.5442</td>\n",
       "      <td>0.7377</td>\n",
       "      <td>0.0000</td>\n",
       "      <td>0.0740</td>\n",
       "      <td>34</td>\n",
       "      <td>***</td>\n",
       "    </tr>\n",
       "    <tr>\n",
       "      <th>1</th>\n",
       "      <td>APO</td>\n",
       "      <td>1.3489</td>\n",
       "      <td>0.0032</td>\n",
       "      <td>0.3193</td>\n",
       "      <td>0.5650</td>\n",
       "      <td>0.0005</td>\n",
       "      <td>0.1615</td>\n",
       "      <td>34</td>\n",
       "      <td>***</td>\n",
       "    </tr>\n",
       "    <tr>\n",
       "      <th>2</th>\n",
       "      <td>MMC</td>\n",
       "      <td>0.8497</td>\n",
       "      <td>0.0090</td>\n",
       "      <td>0.4529</td>\n",
       "      <td>0.6730</td>\n",
       "      <td>0.0000</td>\n",
       "      <td>0.3371</td>\n",
       "      <td>34</td>\n",
       "      <td>***</td>\n",
       "    </tr>\n",
       "    <tr>\n",
       "      <th>3</th>\n",
       "      <td>SO</td>\n",
       "      <td>0.5735</td>\n",
       "      <td>0.0079</td>\n",
       "      <td>0.2563</td>\n",
       "      <td>0.5063</td>\n",
       "      <td>0.0022</td>\n",
       "      <td>0.0904</td>\n",
       "      <td>34</td>\n",
       "      <td>**</td>\n",
       "    </tr>\n",
       "    <tr>\n",
       "      <th>4</th>\n",
       "      <td>TMUS</td>\n",
       "      <td>0.6580</td>\n",
       "      <td>0.0101</td>\n",
       "      <td>0.1860</td>\n",
       "      <td>0.4313</td>\n",
       "      <td>0.0109</td>\n",
       "      <td>0.3371</td>\n",
       "      <td>34</td>\n",
       "      <td>*</td>\n",
       "    </tr>\n",
       "  </tbody>\n",
       "</table>\n",
       "</div>"
      ],
      "text/plain": [
       "  Ticker    Beta   Alpha  R_Squared  Correlation  P_Value  Portfolio_Weight  \\\n",
       "0   AMAT  1.7197  0.0026     0.5442       0.7377   0.0000            0.0740   \n",
       "1    APO  1.3489  0.0032     0.3193       0.5650   0.0005            0.1615   \n",
       "2    MMC  0.8497  0.0090     0.4529       0.6730   0.0000            0.3371   \n",
       "3     SO  0.5735  0.0079     0.2563       0.5063   0.0022            0.0904   \n",
       "4   TMUS  0.6580  0.0101     0.1860       0.4313   0.0109            0.3371   \n",
       "\n",
       "   N_Observations Significance  \n",
       "0              34          ***  \n",
       "1              34          ***  \n",
       "2              34          ***  \n",
       "3              34           **  \n",
       "4              34            *  "
      ]
     },
     "metadata": {},
     "output_type": "display_data"
    },
    {
     "name": "stdout",
     "output_type": "stream",
     "text": [
      "\n",
      "📈 PORTFOLIO STATISTICS: Weighted β=0.9052, Weighted R²=0.3304\n",
      "  • Significant relationships (p<0.05): 5/5\n"
     ]
    },
    {
     "data": {
      "image/png": "[encoded data removed]",
      "text/plain": [
       "<Figure size 1600x1200 with 5 Axes>"
      ]
     },
     "metadata": {},
     "output_type": "display_data"
    }
   ],
   "source": [
    "from py.regression_benchmark import analyze_benchmark_regression, plot_benchmark_analysis\n",
    "\n",
    "# Execute analysis\n",
    "benchmark_regression_results = analyze_benchmark_regression(benchmark_excess_returns_df, stock_excess_returns_df, best_benchmark, portfolio_df)\n",
    "benchmark_regression_summary = plot_benchmark_analysis(benchmark_regression_results, best_benchmark)"
   ]
  },
  {
   "cell_type": "markdown",
   "id": "e85de62f",
   "metadata": {},
   "source": [
    "### Step 11: Display Bechmark Sector Exposure        "
   ]
  },
  {
   "cell_type": "code",
   "execution_count": 21,
   "id": "3f997d32",
   "metadata": {
    "execution": {
     "iopub.execute_input": "2025-06-02T13:28:33.829835Z",
     "iopub.status.busy": "2025-06-02T13:28:33.829185Z",
     "iopub.status.idle": "2025-06-02T13:28:33.841969Z",
     "shell.execute_reply": "2025-06-02T13:28:33.840465Z"
    }
   },
   "outputs": [
    {
     "data": {
      "application/vnd.microsoft.datawrangler.viewer.v0+json": {
       "columns": [
        {
         "name": "index",
         "rawType": "int64",
         "type": "integer"
        },
        {
         "name": "Symbol",
         "rawType": "object",
         "type": "string"
        },
        {
         "name": "Name",
         "rawType": "object",
         "type": "string"
        },
        {
         "name": "Sectors",
         "rawType": "object",
         "type": "unknown"
        }
       ],
       "ref": "ac864ba8-538f-41dc-9338-0144ecec6229",
       "rows": [
        [
         "133",
         "IQLT",
         "iShares MSCI Intl Quality Factor ETF",
         "{'realestate': 0.018099999, 'consumer_cyclical': 0.0994, 'basic_materials': 0.0641, 'consumer_defensive': 0.0848, 'technology': 0.0892, 'communication_services': 0.0587, 'financial_services': 0.2449, 'utilities': 0.0348, 'industrials': 0.15560001, 'energy': 0.0482, 'healthcare': 0.102299996}"
        ]
       ],
       "shape": {
        "columns": 3,
        "rows": 1
       }
      },
      "text/html": [
       "<div>\n",
       "<style scoped>\n",
       "    .dataframe tbody tr th:only-of-type {\n",
       "        vertical-align: middle;\n",
       "    }\n",
       "\n",
       "    .dataframe tbody tr th {\n",
       "        vertical-align: top;\n",
       "    }\n",
       "\n",
       "    .dataframe thead th {\n",
       "        text-align: right;\n",
       "    }\n",
       "</style>\n",
       "<table border=\"1\" class=\"dataframe\">\n",
       "  <thead>\n",
       "    <tr style=\"text-align: right;\">\n",
       "      <th></th>\n",
       "      <th>Symbol</th>\n",
       "      <th>Name</th>\n",
       "      <th>Sectors</th>\n",
       "    </tr>\n",
       "  </thead>\n",
       "  <tbody>\n",
       "    <tr>\n",
       "      <th>133</th>\n",
       "      <td>IQLT</td>\n",
       "      <td>iShares MSCI Intl Quality Factor ETF</td>\n",
       "      <td>{'realestate': 0.018099999, 'consumer_cyclical...</td>\n",
       "    </tr>\n",
       "  </tbody>\n",
       "</table>\n",
       "</div>"
      ],
      "text/plain": [
       "    Symbol                                  Name  \\\n",
       "133   IQLT  iShares MSCI Intl Quality Factor ETF   \n",
       "\n",
       "                                               Sectors  \n",
       "133  {'realestate': 0.018099999, 'consumer_cyclical...  "
      ]
     },
     "metadata": {},
     "output_type": "display_data"
    }
   ],
   "source": [
    "best_benchmark = filtered_sectors_df[filtered_sectors_df[\"Symbol\"] == best_benchmarks_df['Benchmark'].unique()[0]]\n",
    "best_benchmark = best_benchmark[[\"Symbol\", \"Name_x\", \"Sectors\"]] \n",
    "best_benchmark = best_benchmark.rename(columns={\"Name_x\": \"Name\"})\n",
    "display(best_benchmark)"
   ]
  },
  {
   "cell_type": "code",
   "execution_count": 22,
   "id": "4c4eeadd",
   "metadata": {
    "execution": {
     "iopub.execute_input": "2025-06-02T13:28:33.845495Z",
     "iopub.status.busy": "2025-06-02T13:28:33.844774Z",
     "iopub.status.idle": "2025-06-02T13:28:34.034453Z",
     "shell.execute_reply": "2025-06-02T13:28:34.033001Z"
    }
   },
   "outputs": [
    {
     "data": {
      "image/png": "[encoded data removed]",
      "text/plain": [
       "<Figure size 1200x800 with 1 Axes>"
      ]
     },
     "metadata": {},
     "output_type": "display_data"
    }
   ],
   "source": [
    "# Get the sector dictionary from the first row\n",
    "sector_dict = best_benchmark[\"Sectors\"].iloc[0]\n",
    "\n",
    "# Create a pandas Series from the dictionary for easier plotting\n",
    "sectors_series = pd.Series(sector_dict)\n",
    "\n",
    "# Sort by weight for better visualization\n",
    "sectors_series = sectors_series.sort_values(ascending=False)\n",
    "\n",
    "# Create the plot - swap x and y for horizontal bars\n",
    "plt.figure(figsize=(12, 8))\n",
    "ax = sns.barplot(x=sectors_series.values, y=sectors_series.index)\n",
    "\n",
    "# Titles and labels\n",
    "plt.title(f'Sector Weights for {best_benchmark[\"Symbol\"].iloc[0]} - {best_benchmark[\"Name\"].iloc[0]}', fontsize=14)\n",
    "plt.yticks(fontsize=12)\n",
    "plt.xticks([])\n",
    "# plt.xlabel('Weight (%)', fontsize=12)\n",
    "# plt.ylabel('Sector', fontsize=12)\n",
    "plt.xlabel(None)\n",
    "plt.ylabel(None)\n",
    "\n",
    "# Add percentage labels at the center end of each bar\n",
    "for i, v in enumerate(sectors_series.values):\n",
    "    ax.text(v - 0.002, i, f'{v:.1%}', va='center', ha='right', fontsize=12, color='white', fontweight='bold')\n",
    "\n",
    "# Show plot\n",
    "plt.tight_layout()\n",
    "plt.show()"
   ]
  },
  {
   "cell_type": "markdown",
   "id": "76b26b74",
   "metadata": {},
   "source": [
    "### Step 12: Export Data to Excel"
   ]
  },
  {
   "cell_type": "code",
   "execution_count": 23,
   "id": "abf0469a",
   "metadata": {
    "execution": {
     "iopub.execute_input": "2025-06-02T13:28:34.039007Z",
     "iopub.status.busy": "2025-06-02T13:28:34.038022Z",
     "iopub.status.idle": "2025-06-02T13:28:34.050755Z",
     "shell.execute_reply": "2025-06-02T13:28:34.049152Z"
    }
   },
   "outputs": [
    {
     "name": "stdout",
     "output_type": "stream",
     "text": [
      "IQLT\n"
     ]
    },
    {
     "data": {
      "application/vnd.microsoft.datawrangler.viewer.v0+json": {
       "columns": [
        {
         "name": "Equity",
         "rawType": "object",
         "type": "string"
        },
        {
         "name": "Benchmark",
         "rawType": "object",
         "type": "string"
        },
        {
         "name": "intercept (alpha)",
         "rawType": "float64",
         "type": "float"
        },
        {
         "name": "slope (beta)",
         "rawType": "float64",
         "type": "float"
        },
        {
         "name": "correlation",
         "rawType": "float64",
         "type": "float"
        },
        {
         "name": "r_squared",
         "rawType": "float64",
         "type": "float"
        },
        {
         "name": "p_value_slope",
         "rawType": "float64",
         "type": "float"
        },
        {
         "name": "p_value_intercept",
         "rawType": "float64",
         "type": "float"
        }
       ],
       "ref": "f4a52628-57c3-4f1e-9037-d43dfaccf573",
       "rows": [
        [
         "AMAT",
         "IQLT",
         "0.002564419606897214",
         "1.7197472737556176",
         null,
         "0.5442053525353352",
         "6.430693013090606e-07",
         "0.8509575977184554"
        ],
        [
         "APO",
         "IQLT",
         "0.003230563278904813",
         "1.3489371415685312",
         null,
         "0.31925216396867173",
         "0.0004984600277505255",
         "0.84999219048452"
        ],
        [
         "MMC",
         "IQLT",
         "0.009012728878130934",
         "0.8497263028698083",
         null,
         "0.4529437030711714",
         "1.2946426948202078e-05",
         "0.2702087907426082"
        ],
        [
         "SO",
         "IQLT",
         "0.007942765083150049",
         "0.5734745497762584",
         null,
         "0.2563275837612391",
         "0.0022497837404572216",
         "0.3515822030941407"
        ],
        [
         "TMUS",
         "IQLT",
         "0.010126367545954985",
         "0.6579919833376221",
         null,
         "0.18599600128347982",
         "0.010879076190409466",
         "0.3987816048869961"
        ]
       ],
       "shape": {
        "columns": 7,
        "rows": 5
       }
      },
      "text/html": [
       "<div>\n",
       "<style scoped>\n",
       "    .dataframe tbody tr th:only-of-type {\n",
       "        vertical-align: middle;\n",
       "    }\n",
       "\n",
       "    .dataframe tbody tr th {\n",
       "        vertical-align: top;\n",
       "    }\n",
       "\n",
       "    .dataframe thead th {\n",
       "        text-align: right;\n",
       "    }\n",
       "</style>\n",
       "<table border=\"1\" class=\"dataframe\">\n",
       "  <thead>\n",
       "    <tr style=\"text-align: right;\">\n",
       "      <th></th>\n",
       "      <th>Benchmark</th>\n",
       "      <th>intercept (alpha)</th>\n",
       "      <th>slope (beta)</th>\n",
       "      <th>correlation</th>\n",
       "      <th>r_squared</th>\n",
       "      <th>p_value_slope</th>\n",
       "      <th>p_value_intercept</th>\n",
       "    </tr>\n",
       "    <tr>\n",
       "      <th>Equity</th>\n",
       "      <th></th>\n",
       "      <th></th>\n",
       "      <th></th>\n",
       "      <th></th>\n",
       "      <th></th>\n",
       "      <th></th>\n",
       "      <th></th>\n",
       "    </tr>\n",
       "  </thead>\n",
       "  <tbody>\n",
       "    <tr>\n",
       "      <th>AMAT</th>\n",
       "      <td>IQLT</td>\n",
       "      <td>0.002564</td>\n",
       "      <td>1.719747</td>\n",
       "      <td>NaN</td>\n",
       "      <td>0.544205</td>\n",
       "      <td>6.430693e-07</td>\n",
       "      <td>0.850958</td>\n",
       "    </tr>\n",
       "    <tr>\n",
       "      <th>APO</th>\n",
       "      <td>IQLT</td>\n",
       "      <td>0.003231</td>\n",
       "      <td>1.348937</td>\n",
       "      <td>NaN</td>\n",
       "      <td>0.319252</td>\n",
       "      <td>4.984600e-04</td>\n",
       "      <td>0.849992</td>\n",
       "    </tr>\n",
       "    <tr>\n",
       "      <th>MMC</th>\n",
       "      <td>IQLT</td>\n",
       "      <td>0.009013</td>\n",
       "      <td>0.849726</td>\n",
       "      <td>NaN</td>\n",
       "      <td>0.452944</td>\n",
       "      <td>1.294643e-05</td>\n",
       "      <td>0.270209</td>\n",
       "    </tr>\n",
       "    <tr>\n",
       "      <th>SO</th>\n",
       "      <td>IQLT</td>\n",
       "      <td>0.007943</td>\n",
       "      <td>0.573475</td>\n",
       "      <td>NaN</td>\n",
       "      <td>0.256328</td>\n",
       "      <td>2.249784e-03</td>\n",
       "      <td>0.351582</td>\n",
       "    </tr>\n",
       "    <tr>\n",
       "      <th>TMUS</th>\n",
       "      <td>IQLT</td>\n",
       "      <td>0.010126</td>\n",
       "      <td>0.657992</td>\n",
       "      <td>NaN</td>\n",
       "      <td>0.185996</td>\n",
       "      <td>1.087908e-02</td>\n",
       "      <td>0.398782</td>\n",
       "    </tr>\n",
       "  </tbody>\n",
       "</table>\n",
       "</div>"
      ],
      "text/plain": [
       "       Benchmark  intercept (alpha)  slope (beta)  correlation  r_squared  \\\n",
       "Equity                                                                      \n",
       "AMAT        IQLT           0.002564      1.719747          NaN   0.544205   \n",
       "APO         IQLT           0.003231      1.348937          NaN   0.319252   \n",
       "MMC         IQLT           0.009013      0.849726          NaN   0.452944   \n",
       "SO          IQLT           0.007943      0.573475          NaN   0.256328   \n",
       "TMUS        IQLT           0.010126      0.657992          NaN   0.185996   \n",
       "\n",
       "        p_value_slope  p_value_intercept  \n",
       "Equity                                    \n",
       "AMAT     6.430693e-07           0.850958  \n",
       "APO      4.984600e-04           0.849992  \n",
       "MMC      1.294643e-05           0.270209  \n",
       "SO       2.249784e-03           0.351582  \n",
       "TMUS     1.087908e-02           0.398782  "
      ]
     },
     "execution_count": 23,
     "metadata": {},
     "output_type": "execute_result"
    }
   ],
   "source": [
    "# Set Index\n",
    "first_column = best_benchmarks_df.columns[0] # Get the name of the first column\n",
    "best_benchmarks_df.set_index(first_column, drop=True, inplace=True)\n",
    "best_benchmark = best_benchmarks_df['Benchmark'].unique()[0]\n",
    "\n",
    "# Display the best benchmark DataFrame\n",
    "print(best_benchmark)\n",
    "best_benchmarks_df"
   ]
  },
  {
   "cell_type": "code",
   "execution_count": null,
   "id": "5875bf44",
   "metadata": {
    "execution": {
     "iopub.execute_input": "2025-06-02T13:28:34.054929Z",
     "iopub.status.busy": "2025-06-02T13:28:34.053526Z",
     "iopub.status.idle": "2025-06-02T13:28:35.789149Z",
     "shell.execute_reply": "2025-06-02T13:28:35.787254Z"
    }
   },
   "outputs": [
    {
     "name": "stdout",
     "output_type": "stream",
     "text": [
      "Updated sheet 'benchmark'\n",
      "Successfully merged data into 'daily_quotes' sheet\n",
      "Successfully merged data into 'monthly_quotes' sheet\n",
      "Successfully exported all data to portfolios/portfolio-2025-06-02.xlsx\n"
     ]
    }
   ],
   "source": [
    "export_to_excel(output_file, {\n",
    "    'benchmark_long_term': best_benchmarks_df,\n",
    "    'daily_quotes': benchmark_prices_daily_df[[best_benchmark]],  \n",
    "    'monthly_quotes': benchmark_prices_monthly_df[[best_benchmark]]   \n",
    "})"
   ]
  }
 ],
 "metadata": {
  "kernelspec": {
   "display_name": ".venv",
   "language": "python",
   "name": "python3"
  },
  "language_info": {
   "codemirror_mode": {
    "name": "ipython",
    "version": 3
   },
   "file_extension": ".py",
   "mimetype": "text/x-python",
   "name": "python",
   "nbconvert_exporter": "python",
   "pygments_lexer": "ipython3",
   "version": "3.13.3"
  },
  "widgets": {
   "application/vnd.jupyter.widget-state+json": {
    "state": {
     "045ae3d33e4e4f28bf306e11146680bf": {
      "model_module": "@jupyter-widgets/base",
      "model_module_version": "2.0.0",
      "model_name": "LayoutModel",
      "state": {
       "_model_module": "@jupyter-widgets/base",
       "_model_module_version": "2.0.0",
       "_model_name": "LayoutModel",
       "_view_count": null,
       "_view_module": "@jupyter-widgets/base",
       "_view_module_version": "2.0.0",
       "_view_name": "LayoutView",
       "align_content": null,
       "align_items": null,
       "align_self": null,
       "border_bottom": null,
       "border_left": null,
       "border_right": null,
       "border_top": null,
       "bottom": null,
       "display": null,
       "flex": null,
       "flex_flow": null,
       "grid_area": null,
       "grid_auto_columns": null,
       "grid_auto_flow": null,
       "grid_auto_rows": null,
       "grid_column": null,
       "grid_gap": null,
       "grid_row": null,
       "grid_template_areas": null,
       "grid_template_columns": null,
       "grid_template_rows": null,
       "height": null,
       "justify_content": null,
       "justify_items": null,
       "left": null,
       "margin": null,
       "max_height": null,
       "max_width": null,
       "min_height": null,
       "min_width": null,
       "object_fit": null,
       "object_position": null,
       "order": null,
       "overflow": null,
       "padding": null,
       "right": null,
       "top": null,
       "visibility": null,
       "width": null
      }
     },
     "0e994225a7124f8dacbce576f288c778": {
      "model_module": "@jupyter-widgets/base",
      "model_module_version": "2.0.0",
      "model_name": "LayoutModel",
      "state": {
       "_model_module": "@jupyter-widgets/base",
       "_model_module_version": "2.0.0",
       "_model_name": "LayoutModel",
       "_view_count": null,
       "_view_module": "@jupyter-widgets/base",
       "_view_module_version": "2.0.0",
       "_view_name": "LayoutView",
       "align_content": null,
       "align_items": null,
       "align_self": null,
       "border_bottom": null,
       "border_left": null,
       "border_right": null,
       "border_top": null,
       "bottom": null,
       "display": null,
       "flex": null,
       "flex_flow": null,
       "grid_area": null,
       "grid_auto_columns": null,
       "grid_auto_flow": null,
       "grid_auto_rows": null,
       "grid_column": null,
       "grid_gap": null,
       "grid_row": null,
       "grid_template_areas": null,
       "grid_template_columns": null,
       "grid_template_rows": null,
       "height": null,
       "justify_content": null,
       "justify_items": null,
       "left": null,
       "margin": null,
       "max_height": null,
       "max_width": null,
       "min_height": null,
       "min_width": null,
       "object_fit": null,
       "object_position": null,
       "order": null,
       "overflow": null,
       "padding": null,
       "right": null,
       "top": null,
       "visibility": null,
       "width": null
      }
     },
     "294e0b5895ac4cb5a3e52c40b52715c0": {
      "model_module": "@jupyter-widgets/controls",
      "model_module_version": "2.0.0",
      "model_name": "HBoxModel",
      "state": {
       "_dom_classes": [],
       "_model_module": "@jupyter-widgets/controls",
       "_model_module_version": "2.0.0",
       "_model_name": "HBoxModel",
       "_view_count": null,
       "_view_module": "@jupyter-widgets/controls",
       "_view_module_version": "2.0.0",
       "_view_name": "HBoxView",
       "box_style": "",
       "children": [
        "IPY_MODEL_e2d34e0235144456b14f793c3fac79ca",
        "IPY_MODEL_779190ba5571443db3c0d62d2a37f2a1",
        "IPY_MODEL_dbc34e958a6e419c9a50589872524dc3"
       ],
       "layout": "IPY_MODEL_aaa07405a0404e80af127cfe3778ac1c",
       "tabbable": null,
       "tooltip": null
      }
     },
     "434e195470de46f3af439d9f686ec13c": {
      "model_module": "@jupyter-widgets/controls",
      "model_module_version": "2.0.0",
      "model_name": "HTMLStyleModel",
      "state": {
       "_model_module": "@jupyter-widgets/controls",
       "_model_module_version": "2.0.0",
       "_model_name": "HTMLStyleModel",
       "_view_count": null,
       "_view_module": "@jupyter-widgets/base",
       "_view_module_version": "2.0.0",
       "_view_name": "StyleView",
       "background": null,
       "description_width": "",
       "font_size": null,
       "text_color": null
      }
     },
     "6cedd3aff77641849dcbf7657691054e": {
      "model_module": "@jupyter-widgets/base",
      "model_module_version": "2.0.0",
      "model_name": "LayoutModel",
      "state": {
       "_model_module": "@jupyter-widgets/base",
       "_model_module_version": "2.0.0",
       "_model_name": "LayoutModel",
       "_view_count": null,
       "_view_module": "@jupyter-widgets/base",
       "_view_module_version": "2.0.0",
       "_view_name": "LayoutView",
       "align_content": null,
       "align_items": null,
       "align_self": null,
       "border_bottom": null,
       "border_left": null,
       "border_right": null,
       "border_top": null,
       "bottom": null,
       "display": null,
       "flex": null,
       "flex_flow": null,
       "grid_area": null,
       "grid_auto_columns": null,
       "grid_auto_flow": null,
       "grid_auto_rows": null,
       "grid_column": null,
       "grid_gap": null,
       "grid_row": null,
       "grid_template_areas": null,
       "grid_template_columns": null,
       "grid_template_rows": null,
       "height": null,
       "justify_content": null,
       "justify_items": null,
       "left": null,
       "margin": null,
       "max_height": null,
       "max_width": null,
       "min_height": null,
       "min_width": null,
       "object_fit": null,
       "object_position": null,
       "order": null,
       "overflow": null,
       "padding": null,
       "right": null,
       "top": null,
       "visibility": null,
       "width": null
      }
     },
     "779190ba5571443db3c0d62d2a37f2a1": {
      "model_module": "@jupyter-widgets/controls",
      "model_module_version": "2.0.0",
      "model_name": "FloatProgressModel",
      "state": {
       "_dom_classes": [],
       "_model_module": "@jupyter-widgets/controls",
       "_model_module_version": "2.0.0",
       "_model_name": "FloatProgressModel",
       "_view_count": null,
       "_view_module": "@jupyter-widgets/controls",
       "_view_module_version": "2.0.0",
       "_view_name": "ProgressView",
       "bar_style": "success",
       "description": "",
       "description_allow_html": false,
       "layout": "IPY_MODEL_0e994225a7124f8dacbce576f288c778",
       "max": 513,
       "min": 0,
       "orientation": "horizontal",
       "style": "IPY_MODEL_7e34651eb7364339b0dac58478f22353",
       "tabbable": null,
       "tooltip": null,
       "value": 513
      }
     },
     "7e34651eb7364339b0dac58478f22353": {
      "model_module": "@jupyter-widgets/controls",
      "model_module_version": "2.0.0",
      "model_name": "ProgressStyleModel",
      "state": {
       "_model_module": "@jupyter-widgets/controls",
       "_model_module_version": "2.0.0",
       "_model_name": "ProgressStyleModel",
       "_view_count": null,
       "_view_module": "@jupyter-widgets/base",
       "_view_module_version": "2.0.0",
       "_view_name": "StyleView",
       "bar_color": null,
       "description_width": ""
      }
     },
     "aaa07405a0404e80af127cfe3778ac1c": {
      "model_module": "@jupyter-widgets/base",
      "model_module_version": "2.0.0",
      "model_name": "LayoutModel",
      "state": {
       "_model_module": "@jupyter-widgets/base",
       "_model_module_version": "2.0.0",
       "_model_name": "LayoutModel",
       "_view_count": null,
       "_view_module": "@jupyter-widgets/base",
       "_view_module_version": "2.0.0",
       "_view_name": "LayoutView",
       "align_content": null,
       "align_items": null,
       "align_self": null,
       "border_bottom": null,
       "border_left": null,
       "border_right": null,
       "border_top": null,
       "bottom": null,
       "display": null,
       "flex": null,
       "flex_flow": null,
       "grid_area": null,
       "grid_auto_columns": null,
       "grid_auto_flow": null,
       "grid_auto_rows": null,
       "grid_column": null,
       "grid_gap": null,
       "grid_row": null,
       "grid_template_areas": null,
       "grid_template_columns": null,
       "grid_template_rows": null,
       "height": null,
       "justify_content": null,
       "justify_items": null,
       "left": null,
       "margin": null,
       "max_height": null,
       "max_width": null,
       "min_height": null,
       "min_width": null,
       "object_fit": null,
       "object_position": null,
       "order": null,
       "overflow": null,
       "padding": null,
       "right": null,
       "top": null,
       "visibility": null,
       "width": null
      }
     },
     "ae061c1387cd4fb6b8a1d923d00e3685": {
      "model_module": "@jupyter-widgets/controls",
      "model_module_version": "2.0.0",
      "model_name": "HTMLStyleModel",
      "state": {
       "_model_module": "@jupyter-widgets/controls",
       "_model_module_version": "2.0.0",
       "_model_name": "HTMLStyleModel",
       "_view_count": null,
       "_view_module": "@jupyter-widgets/base",
       "_view_module_version": "2.0.0",
       "_view_name": "StyleView",
       "background": null,
       "description_width": "",
       "font_size": null,
       "text_color": null
      }
     },
     "dbc34e958a6e419c9a50589872524dc3": {
      "model_module": "@jupyter-widgets/controls",
      "model_module_version": "2.0.0",
      "model_name": "HTMLModel",
      "state": {
       "_dom_classes": [],
       "_model_module": "@jupyter-widgets/controls",
       "_model_module_version": "2.0.0",
       "_model_name": "HTMLModel",
       "_view_count": null,
       "_view_module": "@jupyter-widgets/controls",
       "_view_module_version": "2.0.0",
       "_view_name": "HTMLView",
       "description": "",
       "description_allow_html": false,
       "layout": "IPY_MODEL_045ae3d33e4e4f28bf306e11146680bf",
       "placeholder": "​",
       "style": "IPY_MODEL_434e195470de46f3af439d9f686ec13c",
       "tabbable": null,
       "tooltip": null,
       "value": " 513/513 [00:13&lt;00:00, 21.56it/s]"
      }
     },
     "e2d34e0235144456b14f793c3fac79ca": {
      "model_module": "@jupyter-widgets/controls",
      "model_module_version": "2.0.0",
      "model_name": "HTMLModel",
      "state": {
       "_dom_classes": [],
       "_model_module": "@jupyter-widgets/controls",
       "_model_module_version": "2.0.0",
       "_model_name": "HTMLModel",
       "_view_count": null,
       "_view_module": "@jupyter-widgets/controls",
       "_view_module_version": "2.0.0",
       "_view_name": "HTMLView",
       "description": "",
       "description_allow_html": false,
       "layout": "IPY_MODEL_6cedd3aff77641849dcbf7657691054e",
       "placeholder": "​",
       "style": "IPY_MODEL_ae061c1387cd4fb6b8a1d923d00e3685",
       "tabbable": null,
       "tooltip": null,
       "value": "100%"
      }
     }
    },
    "version_major": 2,
    "version_minor": 0
   }
  }
 },
 "nbformat": 4,
 "nbformat_minor": 5
}
