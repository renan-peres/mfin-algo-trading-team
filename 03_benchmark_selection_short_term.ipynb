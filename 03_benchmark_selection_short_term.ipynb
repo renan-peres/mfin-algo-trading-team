{
 "cells": [
  {
   "cell_type": "markdown",
   "id": "bcc3381f",
   "metadata": {},
   "source": [
    "<a href=\"https://colab.research.google.com/github/renan-peres/mfin-portfolio-management/blob/main/03_benchmark_selection.ipynb\" target=\"_parent\"><img src=\"https://colab.research.google.com/assets/colab-badge.svg\" alt=\"Open In Colab\"/></a>"
   ]
  },
  {
   "cell_type": "markdown",
   "id": "e4cd6428",
   "metadata": {},
   "source": [
    "# Benchmark Selection with Regression Analysis\n",
    "This model aims to select an ETF that best fits with the portfolio to be used as a benchmark. The methodology uses a regression analysis to identify the relationship between the ETF and the portfolio and check the ETF with the highest R² and lowest p-value will be selected as the benchmark. \n",
    "\n",
    "The model will use the following steps:\n",
    "1. Select an ETF that invests in the same sectors as the portfolio holdings.\n",
    "2. Use regression analysis to identify the relationship between the ETF and the portfolio.\n",
    "3. Select the ETF with the highest R² and lowest p-value as the benchmark.\n",
    "4. Use the selected ETF as a benchmark to evaluate the performance of the portfolio."
   ]
  },
  {
   "cell_type": "markdown",
   "id": "dc371546",
   "metadata": {},
   "source": [
    "### Step 1: Import Libraries"
   ]
  },
  {
   "cell_type": "code",
   "execution_count": 1,
   "id": "d09ef8c1",
   "metadata": {
    "execution": {
     "iopub.execute_input": "2025-06-02T13:28:29.114690Z",
     "iopub.status.busy": "2025-06-02T13:28:29.114145Z",
     "iopub.status.idle": "2025-06-02T13:28:30.793724Z",
     "shell.execute_reply": "2025-06-02T13:28:30.792289Z"
    }
   },
   "outputs": [],
   "source": [
    "# UDFs\n",
    "from py.utils import load_and_filter_data, export_to_excel\n",
    "from py.regression_benchmark import find_best_benchmark_and_run_regressions\n",
    "\n",
    "# System libraries\n",
    "import glob\n",
    "import os\n",
    "import sys\n",
    "from io import StringIO\n",
    "from typing import Dict, List\n",
    "\n",
    "# Data manipulation libraries\n",
    "import pandas as pd\n",
    "import numpy as np\n",
    "from datetime import datetime, timedelta\n",
    "from pandas.tseries.offsets import BDay\n",
    "\n",
    "# Data Visualization libraries\n",
    "import matplotlib.pyplot as plt\n",
    "import seaborn as sns\n",
    "\n",
    "# Excel libraries\n",
    "from openpyxl import load_workbook\n",
    "from openpyxl.styles import Alignment, Font\n",
    "import ast"
   ]
  },
  {
   "cell_type": "markdown",
   "id": "e2e1bc31",
   "metadata": {},
   "source": [
    "### Step 2: Define Parameters"
   ]
  },
  {
   "cell_type": "markdown",
   "id": "766d204e",
   "metadata": {},
   "source": [
    "#### Dates"
   ]
  },
  {
   "cell_type": "code",
   "execution_count": 2,
   "id": "d59ab3b0",
   "metadata": {
    "execution": {
     "iopub.execute_input": "2025-06-02T13:28:30.798269Z",
     "iopub.status.busy": "2025-06-02T13:28:30.797519Z",
     "iopub.status.idle": "2025-06-02T13:28:30.805224Z",
     "shell.execute_reply": "2025-06-02T13:28:30.803735Z"
    }
   },
   "outputs": [
    {
     "name": "stdout",
     "output_type": "stream",
     "text": [
      "Date Range: 2020-06-04 to 2025-06-03\n",
      "Time span: 1825 days (5.00 years)\n"
     ]
    }
   ],
   "source": [
    "# Define the date range\n",
    "end_date = (datetime.today() - BDay(1)).to_pydatetime()  # Subtract 1 business day\n",
    "start_date = end_date - timedelta(days=5*365)            # 5 years ago from the end date\n",
    "\n",
    "# Convert datetime objects to Unix timestamps (seconds since Jan 1, 1970)\n",
    "start_timestamp = int(start_date.timestamp())\n",
    "end_timestamp = int(end_date.timestamp())\n",
    "\n",
    "# Print the date range\n",
    "days_difference = (end_date - start_date).days\n",
    "print(f\"Date Range: {start_date.strftime('%Y-%m-%d')} to {end_date.strftime('%Y-%m-%d')}\")\n",
    "print(f\"Time span: {days_difference} days ({days_difference/365:.2f} years)\")"
   ]
  },
  {
   "cell_type": "markdown",
   "id": "c216556a",
   "metadata": {},
   "source": [
    "#### Risk-free rate (T-bill, %)"
   ]
  },
  {
   "cell_type": "code",
   "execution_count": 3,
   "id": "3f485596",
   "metadata": {
    "execution": {
     "iopub.execute_input": "2025-06-02T13:28:30.808605Z",
     "iopub.status.busy": "2025-06-02T13:28:30.808221Z",
     "iopub.status.idle": "2025-06-02T13:28:30.832293Z",
     "shell.execute_reply": "2025-06-02T13:28:30.831288Z"
    }
   },
   "outputs": [
    {
     "name": "stdout",
     "output_type": "stream",
     "text": [
      "Found 1 of 1 tickers in data/daily_treasury_rates.csv\n",
      "Missing tickers: []\n",
      "Risk-Free Rate: 0.042300000000000004 -- 13 WEEK TREASURY BILL (^IRX)\n"
     ]
    },
    {
     "data": {
      "application/vnd.microsoft.datawrangler.viewer.v0+json": {
       "columns": [
        {
         "name": "Date",
         "rawType": "datetime64[ns]",
         "type": "datetime"
        },
        {
         "name": "^IRX",
         "rawType": "float64",
         "type": "float"
        }
       ],
       "ref": "f5195321-92f7-44ae-9d06-eb77d35f6c8b",
       "rows": [
        [
         "2020-06-05 00:00:00",
         "0.145"
        ],
        [
         "2020-06-08 00:00:00",
         "0.153"
        ],
        [
         "2020-06-09 00:00:00",
         "0.165"
        ],
        [
         "2020-06-10 00:00:00",
         "0.165"
        ],
        [
         "2020-06-11 00:00:00",
         "0.153"
        ]
       ],
       "shape": {
        "columns": 1,
        "rows": 5
       }
      },
      "text/html": [
       "<div>\n",
       "<style scoped>\n",
       "    .dataframe tbody tr th:only-of-type {\n",
       "        vertical-align: middle;\n",
       "    }\n",
       "\n",
       "    .dataframe tbody tr th {\n",
       "        vertical-align: top;\n",
       "    }\n",
       "\n",
       "    .dataframe thead th {\n",
       "        text-align: right;\n",
       "    }\n",
       "</style>\n",
       "<table border=\"1\" class=\"dataframe\">\n",
       "  <thead>\n",
       "    <tr style=\"text-align: right;\">\n",
       "      <th></th>\n",
       "      <th>^IRX</th>\n",
       "    </tr>\n",
       "    <tr>\n",
       "      <th>Date</th>\n",
       "      <th></th>\n",
       "    </tr>\n",
       "  </thead>\n",
       "  <tbody>\n",
       "    <tr>\n",
       "      <th>2020-06-05</th>\n",
       "      <td>0.145</td>\n",
       "    </tr>\n",
       "    <tr>\n",
       "      <th>2020-06-08</th>\n",
       "      <td>0.153</td>\n",
       "    </tr>\n",
       "    <tr>\n",
       "      <th>2020-06-09</th>\n",
       "      <td>0.165</td>\n",
       "    </tr>\n",
       "    <tr>\n",
       "      <th>2020-06-10</th>\n",
       "      <td>0.165</td>\n",
       "    </tr>\n",
       "    <tr>\n",
       "      <th>2020-06-11</th>\n",
       "      <td>0.153</td>\n",
       "    </tr>\n",
       "  </tbody>\n",
       "</table>\n",
       "</div>"
      ],
      "text/plain": [
       "             ^IRX\n",
       "Date             \n",
       "2020-06-05  0.145\n",
       "2020-06-08  0.153\n",
       "2020-06-09  0.165\n",
       "2020-06-10  0.165\n",
       "2020-06-11  0.153"
      ]
     },
     "execution_count": 3,
     "metadata": {},
     "output_type": "execute_result"
    }
   ],
   "source": [
    "# Load and process data\n",
    "daily_risk_free_df = load_and_filter_data('data/daily_treasury_rates.csv', ['^IRX'], start_date, end_date)\n",
    "# risk_free_rate = .0433 \n",
    "risk_free_rate = daily_risk_free_df.iloc[-1, 0] / 100\n",
    "risk_free_rate_monthly = risk_free_rate / 12\n",
    "\n",
    "# Display result\n",
    "print(\"Risk-Free Rate:\", risk_free_rate, \"-- 13 WEEK TREASURY BILL (^IRX)\")\n",
    "daily_risk_free_df.head()"
   ]
  },
  {
   "cell_type": "markdown",
   "id": "119e2261",
   "metadata": {},
   "source": [
    "#### Report File"
   ]
  },
  {
   "cell_type": "code",
   "execution_count": 4,
   "id": "b19e2a7b",
   "metadata": {
    "execution": {
     "iopub.execute_input": "2025-06-02T13:28:30.835903Z",
     "iopub.status.busy": "2025-06-02T13:28:30.835544Z",
     "iopub.status.idle": "2025-06-02T13:28:30.841061Z",
     "shell.execute_reply": "2025-06-02T13:28:30.840100Z"
    }
   },
   "outputs": [
    {
     "name": "stdout",
     "output_type": "stream",
     "text": [
      "Using most recent portfolio file: portfolios/portfolio-2025-06-02.xlsx\n"
     ]
    }
   ],
   "source": [
    "# Get the most recent portfolio file\n",
    "portfolio_files = glob.glob('portfolios/portfolio-*.xlsx')\n",
    "if portfolio_files:\n",
    "    # Sort files by modification time (most recent first)\n",
    "    output_file = max(portfolio_files, key=os.path.getmtime)\n",
    "    print(f\"Using most recent portfolio file: {output_file}\")\n",
    "else:\n",
    "    # Fallback to current date if no files found\n",
    "    output_file = f'portfolios/portfolio-{datetime.date(end_date)}.xlsx'\n",
    "    print(f\"No portfolio files found. Using: {output_file}\")"
   ]
  },
  {
   "cell_type": "markdown",
   "id": "955d4081",
   "metadata": {},
   "source": [
    "### Step 3: Read ETF Data"
   ]
  },
  {
   "cell_type": "code",
   "execution_count": 5,
   "id": "4339ebf2",
   "metadata": {
    "execution": {
     "iopub.execute_input": "2025-06-02T13:28:30.844553Z",
     "iopub.status.busy": "2025-06-02T13:28:30.844341Z",
     "iopub.status.idle": "2025-06-02T13:28:30.887886Z",
     "shell.execute_reply": "2025-06-02T13:28:30.886516Z"
    }
   },
   "outputs": [
    {
     "data": {
      "application/vnd.microsoft.datawrangler.viewer.v0+json": {
       "columns": [
        {
         "name": "index",
         "rawType": "int64",
         "type": "integer"
        },
        {
         "name": "Symbol",
         "rawType": "object",
         "type": "string"
        },
        {
         "name": "Name",
         "rawType": "object",
         "type": "string"
        },
        {
         "name": "Sectors",
         "rawType": "object",
         "type": "unknown"
        }
       ],
       "ref": "189a909c-f38c-4fc1-8acf-f5f7b9a09b41",
       "rows": [
        [
         "0",
         "AADR",
         "AdvisorShares Dorsey Wright ADR ETF",
         "{'realestate': 0.0, 'consumer_cyclical': 0.1182, 'basic_materials': 0.0425, 'consumer_defensive': 0.0, 'technology': 0.16479999, 'communication_services': 0.089499995, 'financial_services': 0.33900002, 'utilities': 0.033299997, 'industrials': 0.1005, 'energy': 0.0334, 'healthcare': 0.0788}"
        ],
        [
         "1",
         "ABFL",
         "Abacus FCF Leaders ETF",
         "{'realestate': 0.0, 'consumer_cyclical': 0.1188, 'basic_materials': 0.0, 'consumer_defensive': 0.0765, 'technology': 0.5052, 'communication_services': 0.0709, 'financial_services': 0.042600002, 'utilities': 0.0, 'industrials': 0.041100003, 'energy': 0.0, 'healthcare': 0.1449}"
        ],
        [
         "2",
         "ACWI",
         "iShares MSCI ACWI ETF",
         "{'realestate': 0.0216, 'consumer_cyclical': 0.1039, 'basic_materials': 0.0346, 'consumer_defensive': 0.0641, 'technology': 0.2491, 'communication_services': 0.084, 'financial_services': 0.1752, 'utilities': 0.0269, 'industrials': 0.1021, 'energy': 0.0375, 'healthcare': 0.1012}"
        ],
        [
         "3",
         "ADME",
         "Aptus Drawdown Managed Equity ETF",
         "{'realestate': 0.0222, 'consumer_cyclical': 0.1022, 'basic_materials': 0.0222, 'consumer_defensive': 0.0608, 'technology': 0.3147, 'communication_services': 0.091800004, 'financial_services': 0.1384, 'utilities': 0.0254, 'industrials': 0.0746, 'energy': 0.0357, 'healthcare': 0.111899994}"
        ],
        [
         "4",
         "AGNG",
         "Global X Aging Population ETF",
         "{'realestate': 0.0791, 'consumer_cyclical': 0.0, 'basic_materials': 0.0, 'consumer_defensive': 0.0, 'technology': 0.0, 'communication_services': 0.0, 'financial_services': 0.0, 'utilities': 0.0, 'industrials': 0.0, 'energy': 0.0, 'healthcare': 0.9209}"
        ]
       ],
       "shape": {
        "columns": 3,
        "rows": 5
       }
      },
      "text/html": [
       "<div>\n",
       "<style scoped>\n",
       "    .dataframe tbody tr th:only-of-type {\n",
       "        vertical-align: middle;\n",
       "    }\n",
       "\n",
       "    .dataframe tbody tr th {\n",
       "        vertical-align: top;\n",
       "    }\n",
       "\n",
       "    .dataframe thead th {\n",
       "        text-align: right;\n",
       "    }\n",
       "</style>\n",
       "<table border=\"1\" class=\"dataframe\">\n",
       "  <thead>\n",
       "    <tr style=\"text-align: right;\">\n",
       "      <th></th>\n",
       "      <th>Symbol</th>\n",
       "      <th>Name</th>\n",
       "      <th>Sectors</th>\n",
       "    </tr>\n",
       "  </thead>\n",
       "  <tbody>\n",
       "    <tr>\n",
       "      <th>0</th>\n",
       "      <td>AADR</td>\n",
       "      <td>AdvisorShares Dorsey Wright ADR ETF</td>\n",
       "      <td>{'realestate': 0.0, 'consumer_cyclical': 0.118...</td>\n",
       "    </tr>\n",
       "    <tr>\n",
       "      <th>1</th>\n",
       "      <td>ABFL</td>\n",
       "      <td>Abacus FCF Leaders ETF</td>\n",
       "      <td>{'realestate': 0.0, 'consumer_cyclical': 0.118...</td>\n",
       "    </tr>\n",
       "    <tr>\n",
       "      <th>2</th>\n",
       "      <td>ACWI</td>\n",
       "      <td>iShares MSCI ACWI ETF</td>\n",
       "      <td>{'realestate': 0.0216, 'consumer_cyclical': 0....</td>\n",
       "    </tr>\n",
       "    <tr>\n",
       "      <th>3</th>\n",
       "      <td>ADME</td>\n",
       "      <td>Aptus Drawdown Managed Equity ETF</td>\n",
       "      <td>{'realestate': 0.0222, 'consumer_cyclical': 0....</td>\n",
       "    </tr>\n",
       "    <tr>\n",
       "      <th>4</th>\n",
       "      <td>AGNG</td>\n",
       "      <td>Global X Aging Population ETF</td>\n",
       "      <td>{'realestate': 0.0791, 'consumer_cyclical': 0....</td>\n",
       "    </tr>\n",
       "  </tbody>\n",
       "</table>\n",
       "</div>"
      ],
      "text/plain": [
       "  Symbol                                 Name  \\\n",
       "0   AADR  AdvisorShares Dorsey Wright ADR ETF   \n",
       "1   ABFL               Abacus FCF Leaders ETF   \n",
       "2   ACWI                iShares MSCI ACWI ETF   \n",
       "3   ADME    Aptus Drawdown Managed Equity ETF   \n",
       "4   AGNG        Global X Aging Population ETF   \n",
       "\n",
       "                                             Sectors  \n",
       "0  {'realestate': 0.0, 'consumer_cyclical': 0.118...  \n",
       "1  {'realestate': 0.0, 'consumer_cyclical': 0.118...  \n",
       "2  {'realestate': 0.0216, 'consumer_cyclical': 0....  \n",
       "3  {'realestate': 0.0222, 'consumer_cyclical': 0....  \n",
       "4  {'realestate': 0.0791, 'consumer_cyclical': 0....  "
      ]
     },
     "execution_count": 5,
     "metadata": {},
     "output_type": "execute_result"
    }
   ],
   "source": [
    "# Load Data\n",
    "sectors_df = pd.read_csv(\"data/fundamentals_benchmark.csv\") \n",
    "sectors_df = sectors_df[[\"Ticker\", \"Name\", \"Sector Weightings\"]]\n",
    "sectors_df = sectors_df.rename(columns={\"Name\": \"Name\", \"Ticker\": \"Symbol\", \"Sector Weightings\": \"Sectors\"})\n",
    "\n",
    "# Convert string representations of dictionaries to actual dictionaries\n",
    "sectors_df['Sectors'] = sectors_df['Sectors'].apply(lambda x: ast.literal_eval(x) if isinstance(x, str) and x.strip() else {})\n",
    "\n",
    "# Display\n",
    "sectors_df.head()"
   ]
  },
  {
   "cell_type": "markdown",
   "id": "30db5c6d",
   "metadata": {},
   "source": [
    "### Step 4: Read Portfolio Data (Excel)"
   ]
  },
  {
   "cell_type": "code",
   "execution_count": 6,
   "id": "7cc2ecd6",
   "metadata": {
    "execution": {
     "iopub.execute_input": "2025-06-02T13:28:30.891757Z",
     "iopub.status.busy": "2025-06-02T13:28:30.890808Z",
     "iopub.status.idle": "2025-06-02T13:28:30.943911Z",
     "shell.execute_reply": "2025-06-02T13:28:30.942866Z"
    }
   },
   "outputs": [
    {
     "name": "stdout",
     "output_type": "stream",
     "text": [
      "['GRMN', 'MSFT']\n"
     ]
    },
    {
     "data": {
      "application/vnd.microsoft.datawrangler.viewer.v0+json": {
       "columns": [
        {
         "name": "index",
         "rawType": "int64",
         "type": "integer"
        },
        {
         "name": "Ticker",
         "rawType": "object",
         "type": "string"
        },
        {
         "name": "Date",
         "rawType": "object",
         "type": "string"
        },
        {
         "name": "Name",
         "rawType": "object",
         "type": "string"
        },
        {
         "name": "Sector",
         "rawType": "object",
         "type": "string"
        },
        {
         "name": "Industry",
         "rawType": "object",
         "type": "string"
        },
        {
         "name": "Country",
         "rawType": "object",
         "type": "string"
        },
        {
         "name": "Website",
         "rawType": "object",
         "type": "string"
        },
        {
         "name": "Market Cap",
         "rawType": "int64",
         "type": "integer"
        },
        {
         "name": "Enterprise Value",
         "rawType": "int64",
         "type": "integer"
        },
        {
         "name": "Float Shares",
         "rawType": "int64",
         "type": "integer"
        },
        {
         "name": "Shares Outstanding",
         "rawType": "int64",
         "type": "integer"
        },
        {
         "name": "P/E (Trailing)",
         "rawType": "float64",
         "type": "float"
        },
        {
         "name": "P/E (Forward)",
         "rawType": "float64",
         "type": "float"
        },
        {
         "name": "P/S",
         "rawType": "float64",
         "type": "float"
        },
        {
         "name": "P/B",
         "rawType": "float64",
         "type": "float"
        },
        {
         "name": "EV/Ebitda",
         "rawType": "float64",
         "type": "float"
        },
        {
         "name": "EV/Revenue",
         "rawType": "float64",
         "type": "float"
        },
        {
         "name": "Gross Margin (%)",
         "rawType": "float64",
         "type": "float"
        },
        {
         "name": "Ebitda Margin (%)",
         "rawType": "float64",
         "type": "float"
        },
        {
         "name": "Operating Margin (%)",
         "rawType": "float64",
         "type": "float"
        },
        {
         "name": "Profit Margin (%)",
         "rawType": "float64",
         "type": "float"
        },
        {
         "name": "ROE",
         "rawType": "float64",
         "type": "float"
        },
        {
         "name": "ROA",
         "rawType": "float64",
         "type": "float"
        },
        {
         "name": "Revenue (TTM)",
         "rawType": "int64",
         "type": "integer"
        },
        {
         "name": "Revenue Growth (%)",
         "rawType": "float64",
         "type": "float"
        },
        {
         "name": "EPS (Trailing)",
         "rawType": "float64",
         "type": "float"
        },
        {
         "name": "EPS (Forward)",
         "rawType": "float64",
         "type": "float"
        },
        {
         "name": "Earnings Growth (%)",
         "rawType": "float64",
         "type": "float"
        },
        {
         "name": "Earnings Quarterly Growth (%)",
         "rawType": "float64",
         "type": "float"
        },
        {
         "name": "Total Cash",
         "rawType": "int64",
         "type": "integer"
        },
        {
         "name": "Total Debt",
         "rawType": "int64",
         "type": "integer"
        },
        {
         "name": "Debt To Equity",
         "rawType": "float64",
         "type": "float"
        },
        {
         "name": "Current Ratio",
         "rawType": "float64",
         "type": "float"
        },
        {
         "name": "Quick Ratio",
         "rawType": "float64",
         "type": "float"
        },
        {
         "name": "Book Value",
         "rawType": "float64",
         "type": "float"
        },
        {
         "name": "Free Cash Flow",
         "rawType": "int64",
         "type": "integer"
        },
        {
         "name": "Operating Cash Flow",
         "rawType": "int64",
         "type": "integer"
        },
        {
         "name": "Dividend Yield (%)",
         "rawType": "float64",
         "type": "float"
        },
        {
         "name": "Dividend Rate (%)",
         "rawType": "float64",
         "type": "float"
        },
        {
         "name": "5Y Avg Dividend Yield (%)",
         "rawType": "float64",
         "type": "float"
        },
        {
         "name": "Payout Ratio (%)",
         "rawType": "float64",
         "type": "float"
        },
        {
         "name": "Price",
         "rawType": "float64",
         "type": "float"
        },
        {
         "name": "Target Price",
         "rawType": "float64",
         "type": "float"
        },
        {
         "name": "Target High",
         "rawType": "int64",
         "type": "integer"
        },
        {
         "name": "Target Low",
         "rawType": "float64",
         "type": "float"
        },
        {
         "name": "Analyst Rating",
         "rawType": "object",
         "type": "string"
        },
        {
         "name": "Analyst Rating Value",
         "rawType": "float64",
         "type": "float"
        },
        {
         "name": "Beta",
         "rawType": "float64",
         "type": "float"
        },
        {
         "name": "52W High",
         "rawType": "float64",
         "type": "float"
        },
        {
         "name": "52W Low",
         "rawType": "float64",
         "type": "float"
        },
        {
         "name": "50 Day Avg",
         "rawType": "float64",
         "type": "float"
        },
        {
         "name": "200 Day Avg",
         "rawType": "float64",
         "type": "float"
        },
        {
         "name": "Short Ratio",
         "rawType": "float64",
         "type": "float"
        },
        {
         "name": "Short % Of Float",
         "rawType": "float64",
         "type": "float"
        },
        {
         "name": "Strategy",
         "rawType": "object",
         "type": "string"
        },
        {
         "name": "Best Sharpe",
         "rawType": "float64",
         "type": "float"
        },
        {
         "name": "Best Sortino",
         "rawType": "float64",
         "type": "float"
        },
        {
         "name": "CAGR",
         "rawType": "float64",
         "type": "float"
        },
        {
         "name": "Max Drawdown",
         "rawType": "float64",
         "type": "float"
        },
        {
         "name": "Volatility",
         "rawType": "float64",
         "type": "float"
        },
        {
         "name": "Short Period",
         "rawType": "int64",
         "type": "integer"
        },
        {
         "name": "Long Period",
         "rawType": "int64",
         "type": "integer"
        },
        {
         "name": "Articles In Last Week",
         "rawType": "int64",
         "type": "integer"
        },
        {
         "name": "Company News Score",
         "rawType": "float64",
         "type": "float"
        },
        {
         "name": "Bearish Percent",
         "rawType": "float64",
         "type": "float"
        },
        {
         "name": "Bullish Percent",
         "rawType": "float64",
         "type": "float"
        },
        {
         "name": "Average Sentiment Score",
         "rawType": "float64",
         "type": "float"
        },
        {
         "name": "Sector Average Bullish Percent",
         "rawType": "float64",
         "type": "float"
        },
        {
         "name": "Sector Average News Score",
         "rawType": "float64",
         "type": "float"
        },
        {
         "name": "Weight",
         "rawType": "float64",
         "type": "float"
        }
       ],
       "ref": "d83ad4b9-48ac-4f86-8d9a-50ad554c23df",
       "rows": [
        [
         "0",
         "GRMN",
         "2025-06-02",
         "Garmin Ltd.",
         "Technology",
         "Scientific & Technical Instruments",
         "Switzerland",
         "https://www.garmin.com",
         "39080046592",
         "36584062976",
         "174794910",
         "192540992",
         "26.74",
         "27.21",
         "6.06",
         "4.78",
         "20.22",
         "5.67",
         "0.5858",
         "0.2806",
         "0.2168",
         "0.2276",
         "0.19",
         "0.11",
         "6450353152",
         "0.111",
         "7.59",
         "7.46",
         "0.203",
         "0.206",
         "2674510080",
         "178435008",
         "2.18",
         "4.1",
         "2.62",
         "42.44",
         "901582016",
         "1417954048",
         "0.0177",
         "0.036",
         "0.022",
         "0.3953",
         "202.97",
         "198.54",
         "285",
         "152.0",
         "hold",
         "3.0",
         "0.99",
         "246.5",
         "158.38",
         "198.45",
         "198.66",
         "2.49",
         "0.01",
         "SMA_Cross_Signal",
         "0.7872952793314424",
         "1.061508784594708",
         "0.180191507127397",
         "-0.4257363125460245",
         "0.2498950287520158",
         "10",
         "190",
         "5",
         "0.6425",
         "0.0",
         "0.6",
         "0.285",
         "0.5184",
         "0.5688",
         "0.5"
        ],
        [
         "1",
         "MSFT",
         "2025-06-02",
         "Microsoft Corporation",
         "Technology",
         "Software - Infrastructure",
         "United States",
         "https://www.microsoft.com",
         "3421643997184",
         "3447046799360",
         "7422063978",
         "7432540160",
         "35.58",
         "30.79",
         "12.67",
         "10.63",
         "23.11",
         "12.77",
         "0.6907",
         "0.5525",
         "0.4567",
         "0.3579",
         "0.34",
         "0.15",
         "270010007552",
         "0.133",
         "12.94",
         "14.95",
         "0.177",
         "0.177",
         "79617998848",
         "105018998784",
         "32.63",
         "1.37",
         "1.24",
         "43.3",
         "54817001472",
         "130710003712",
         "0.0072",
         "0.0332",
         "0.0083",
         "0.2442",
         "460.36",
         "509.92",
         "650",
         "429.86",
         "strong_buy",
         "1.41",
         "1.03",
         "468.35",
         "344.79",
         "409.1",
         "417.01",
         "2.48",
         "0.01",
         "SMA_Cross_Signal",
         "1.009688145706578",
         "1.279326483108479",
         "0.264126522227808",
         "-0.2804226918798666",
         "0.2677885128550899",
         "30",
         "190",
         "30",
         "0.6159",
         "0.0333",
         "0.5333",
         "0.2318",
         "0.5184",
         "0.5688",
         "0.5"
        ]
       ],
       "shape": {
        "columns": 70,
        "rows": 2
       }
      },
      "text/html": [
       "<div>\n",
       "<style scoped>\n",
       "    .dataframe tbody tr th:only-of-type {\n",
       "        vertical-align: middle;\n",
       "    }\n",
       "\n",
       "    .dataframe tbody tr th {\n",
       "        vertical-align: top;\n",
       "    }\n",
       "\n",
       "    .dataframe thead th {\n",
       "        text-align: right;\n",
       "    }\n",
       "</style>\n",
       "<table border=\"1\" class=\"dataframe\">\n",
       "  <thead>\n",
       "    <tr style=\"text-align: right;\">\n",
       "      <th></th>\n",
       "      <th>Ticker</th>\n",
       "      <th>Date</th>\n",
       "      <th>Name</th>\n",
       "      <th>Sector</th>\n",
       "      <th>Industry</th>\n",
       "      <th>Country</th>\n",
       "      <th>Website</th>\n",
       "      <th>Market Cap</th>\n",
       "      <th>Enterprise Value</th>\n",
       "      <th>Float Shares</th>\n",
       "      <th>...</th>\n",
       "      <th>Short Period</th>\n",
       "      <th>Long Period</th>\n",
       "      <th>Articles In Last Week</th>\n",
       "      <th>Company News Score</th>\n",
       "      <th>Bearish Percent</th>\n",
       "      <th>Bullish Percent</th>\n",
       "      <th>Average Sentiment Score</th>\n",
       "      <th>Sector Average Bullish Percent</th>\n",
       "      <th>Sector Average News Score</th>\n",
       "      <th>Weight</th>\n",
       "    </tr>\n",
       "  </thead>\n",
       "  <tbody>\n",
       "    <tr>\n",
       "      <th>0</th>\n",
       "      <td>GRMN</td>\n",
       "      <td>2025-06-02</td>\n",
       "      <td>Garmin Ltd.</td>\n",
       "      <td>Technology</td>\n",
       "      <td>Scientific &amp; Technical Instruments</td>\n",
       "      <td>Switzerland</td>\n",
       "      <td>https://www.garmin.com</td>\n",
       "      <td>39080046592</td>\n",
       "      <td>36584062976</td>\n",
       "      <td>174794910</td>\n",
       "      <td>...</td>\n",
       "      <td>10</td>\n",
       "      <td>190</td>\n",
       "      <td>5</td>\n",
       "      <td>0.6425</td>\n",
       "      <td>0.0000</td>\n",
       "      <td>0.6000</td>\n",
       "      <td>0.2850</td>\n",
       "      <td>0.5184</td>\n",
       "      <td>0.5688</td>\n",
       "      <td>0.5</td>\n",
       "    </tr>\n",
       "    <tr>\n",
       "      <th>1</th>\n",
       "      <td>MSFT</td>\n",
       "      <td>2025-06-02</td>\n",
       "      <td>Microsoft Corporation</td>\n",
       "      <td>Technology</td>\n",
       "      <td>Software - Infrastructure</td>\n",
       "      <td>United States</td>\n",
       "      <td>https://www.microsoft.com</td>\n",
       "      <td>3421643997184</td>\n",
       "      <td>3447046799360</td>\n",
       "      <td>7422063978</td>\n",
       "      <td>...</td>\n",
       "      <td>30</td>\n",
       "      <td>190</td>\n",
       "      <td>30</td>\n",
       "      <td>0.6159</td>\n",
       "      <td>0.0333</td>\n",
       "      <td>0.5333</td>\n",
       "      <td>0.2318</td>\n",
       "      <td>0.5184</td>\n",
       "      <td>0.5688</td>\n",
       "      <td>0.5</td>\n",
       "    </tr>\n",
       "  </tbody>\n",
       "</table>\n",
       "<p>2 rows × 70 columns</p>\n",
       "</div>"
      ],
      "text/plain": [
       "  Ticker        Date                   Name      Sector  \\\n",
       "0   GRMN  2025-06-02            Garmin Ltd.  Technology   \n",
       "1   MSFT  2025-06-02  Microsoft Corporation  Technology   \n",
       "\n",
       "                             Industry        Country  \\\n",
       "0  Scientific & Technical Instruments    Switzerland   \n",
       "1           Software - Infrastructure  United States   \n",
       "\n",
       "                     Website     Market Cap  Enterprise Value  Float Shares  \\\n",
       "0     https://www.garmin.com    39080046592       36584062976     174794910   \n",
       "1  https://www.microsoft.com  3421643997184     3447046799360    7422063978   \n",
       "\n",
       "   ...  Short Period  Long Period  Articles In Last Week  Company News Score  \\\n",
       "0  ...            10          190                      5              0.6425   \n",
       "1  ...            30          190                     30              0.6159   \n",
       "\n",
       "   Bearish Percent  Bullish Percent  Average Sentiment Score  \\\n",
       "0           0.0000           0.6000                   0.2850   \n",
       "1           0.0333           0.5333                   0.2318   \n",
       "\n",
       "   Sector Average Bullish Percent  Sector Average News Score  Weight  \n",
       "0                          0.5184                     0.5688     0.5  \n",
       "1                          0.5184                     0.5688     0.5  \n",
       "\n",
       "[2 rows x 70 columns]"
      ]
     },
     "metadata": {},
     "output_type": "display_data"
    }
   ],
   "source": [
    "portfolio_df = pd.read_excel(output_file, sheet_name=\"short_term\")   \n",
    "portfolio_tickers = portfolio_df[\"Ticker\"].tolist()\n",
    "# portfolio_df[\"Weight\"] = portfolio_df['Weight'].str.rstrip('%').astype(float) / 100\n",
    "portfolio_df[\"P/E (Trailing)\"] = pd.to_numeric(portfolio_df[\"P/E (Trailing)\"], errors=\"coerce\")\n",
    "\n",
    "print(portfolio_tickers)\n",
    "display(portfolio_df)"
   ]
  },
  {
   "cell_type": "markdown",
   "id": "bdc9579a",
   "metadata": {},
   "source": [
    "### Step 5: Benchmark Sector Screening"
   ]
  },
  {
   "cell_type": "markdown",
   "id": "8afc63ee",
   "metadata": {},
   "source": [
    "#### Filter Sectors by Portfolio"
   ]
  },
  {
   "cell_type": "code",
   "execution_count": 7,
   "id": "fcc09a94",
   "metadata": {
    "execution": {
     "iopub.execute_input": "2025-06-02T13:28:30.946684Z",
     "iopub.status.busy": "2025-06-02T13:28:30.946200Z",
     "iopub.status.idle": "2025-06-02T13:28:30.961848Z",
     "shell.execute_reply": "2025-06-02T13:28:30.961075Z"
    }
   },
   "outputs": [
    {
     "name": "stdout",
     "output_type": "stream",
     "text": [
      "Number of benchmarks left: 374\n"
     ]
    },
    {
     "data": {
      "application/vnd.microsoft.datawrangler.viewer.v0+json": {
       "columns": [
        {
         "name": "index",
         "rawType": "int64",
         "type": "integer"
        },
        {
         "name": "Symbol",
         "rawType": "object",
         "type": "string"
        },
        {
         "name": "Name",
         "rawType": "object",
         "type": "string"
        },
        {
         "name": "Sectors",
         "rawType": "object",
         "type": "unknown"
        }
       ],
       "ref": "f0ad4b34-8863-4b68-a81a-d43c2b1d481b",
       "rows": [
        [
         "0",
         "AADR",
         "AdvisorShares Dorsey Wright ADR ETF",
         "{'realestate': 0.0, 'consumer_cyclical': 0.1182, 'basic_materials': 0.0425, 'consumer_defensive': 0.0, 'technology': 0.16479999, 'communication_services': 0.089499995, 'financial_services': 0.33900002, 'utilities': 0.033299997, 'industrials': 0.1005, 'energy': 0.0334, 'healthcare': 0.0788}"
        ],
        [
         "1",
         "ABFL",
         "Abacus FCF Leaders ETF",
         "{'realestate': 0.0, 'consumer_cyclical': 0.1188, 'basic_materials': 0.0, 'consumer_defensive': 0.0765, 'technology': 0.5052, 'communication_services': 0.0709, 'financial_services': 0.042600002, 'utilities': 0.0, 'industrials': 0.041100003, 'energy': 0.0, 'healthcare': 0.1449}"
        ],
        [
         "2",
         "ACWI",
         "iShares MSCI ACWI ETF",
         "{'realestate': 0.0216, 'consumer_cyclical': 0.1039, 'basic_materials': 0.0346, 'consumer_defensive': 0.0641, 'technology': 0.2491, 'communication_services': 0.084, 'financial_services': 0.1752, 'utilities': 0.0269, 'industrials': 0.1021, 'energy': 0.0375, 'healthcare': 0.1012}"
        ],
        [
         "3",
         "ADME",
         "Aptus Drawdown Managed Equity ETF",
         "{'realestate': 0.0222, 'consumer_cyclical': 0.1022, 'basic_materials': 0.0222, 'consumer_defensive': 0.0608, 'technology': 0.3147, 'communication_services': 0.091800004, 'financial_services': 0.1384, 'utilities': 0.0254, 'industrials': 0.0746, 'energy': 0.0357, 'healthcare': 0.111899994}"
        ],
        [
         "4",
         "AIA",
         "iShares Asia 50 ETF",
         "{'realestate': 0.0047999998, 'consumer_cyclical': 0.17790002, 'basic_materials': 0.0047999998, 'consumer_defensive': 0.0, 'technology': 0.39720002, 'communication_services': 0.16860001, 'financial_services': 0.2172, 'utilities': 0.0, 'industrials': 0.0095, 'energy': 0.0095999995, 'healthcare': 0.0104}"
        ]
       ],
       "shape": {
        "columns": 3,
        "rows": 5
       }
      },
      "text/html": [
       "<div>\n",
       "<style scoped>\n",
       "    .dataframe tbody tr th:only-of-type {\n",
       "        vertical-align: middle;\n",
       "    }\n",
       "\n",
       "    .dataframe tbody tr th {\n",
       "        vertical-align: top;\n",
       "    }\n",
       "\n",
       "    .dataframe thead th {\n",
       "        text-align: right;\n",
       "    }\n",
       "</style>\n",
       "<table border=\"1\" class=\"dataframe\">\n",
       "  <thead>\n",
       "    <tr style=\"text-align: right;\">\n",
       "      <th></th>\n",
       "      <th>Symbol</th>\n",
       "      <th>Name</th>\n",
       "      <th>Sectors</th>\n",
       "    </tr>\n",
       "  </thead>\n",
       "  <tbody>\n",
       "    <tr>\n",
       "      <th>0</th>\n",
       "      <td>AADR</td>\n",
       "      <td>AdvisorShares Dorsey Wright ADR ETF</td>\n",
       "      <td>{'realestate': 0.0, 'consumer_cyclical': 0.118...</td>\n",
       "    </tr>\n",
       "    <tr>\n",
       "      <th>1</th>\n",
       "      <td>ABFL</td>\n",
       "      <td>Abacus FCF Leaders ETF</td>\n",
       "      <td>{'realestate': 0.0, 'consumer_cyclical': 0.118...</td>\n",
       "    </tr>\n",
       "    <tr>\n",
       "      <th>2</th>\n",
       "      <td>ACWI</td>\n",
       "      <td>iShares MSCI ACWI ETF</td>\n",
       "      <td>{'realestate': 0.0216, 'consumer_cyclical': 0....</td>\n",
       "    </tr>\n",
       "    <tr>\n",
       "      <th>3</th>\n",
       "      <td>ADME</td>\n",
       "      <td>Aptus Drawdown Managed Equity ETF</td>\n",
       "      <td>{'realestate': 0.0222, 'consumer_cyclical': 0....</td>\n",
       "    </tr>\n",
       "    <tr>\n",
       "      <th>4</th>\n",
       "      <td>AIA</td>\n",
       "      <td>iShares Asia 50 ETF</td>\n",
       "      <td>{'realestate': 0.0047999998, 'consumer_cyclica...</td>\n",
       "    </tr>\n",
       "  </tbody>\n",
       "</table>\n",
       "</div>"
      ],
      "text/plain": [
       "  Symbol                                 Name  \\\n",
       "0   AADR  AdvisorShares Dorsey Wright ADR ETF   \n",
       "1   ABFL               Abacus FCF Leaders ETF   \n",
       "2   ACWI                iShares MSCI ACWI ETF   \n",
       "3   ADME    Aptus Drawdown Managed Equity ETF   \n",
       "4    AIA                  iShares Asia 50 ETF   \n",
       "\n",
       "                                             Sectors  \n",
       "0  {'realestate': 0.0, 'consumer_cyclical': 0.118...  \n",
       "1  {'realestate': 0.0, 'consumer_cyclical': 0.118...  \n",
       "2  {'realestate': 0.0216, 'consumer_cyclical': 0....  \n",
       "3  {'realestate': 0.0222, 'consumer_cyclical': 0....  \n",
       "4  {'realestate': 0.0047999998, 'consumer_cyclica...  "
      ]
     },
     "metadata": {},
     "output_type": "display_data"
    }
   ],
   "source": [
    "# Sort portfolio sectors by weight (descending)\n",
    "portfolio_sector_weights = (\n",
    "    portfolio_df.groupby('Sector')['Weight'].sum()\n",
    "    .sort_values(ascending=False)\n",
    ")\n",
    "ordered_portfolio_sectors = [sector.strip() for sector in portfolio_sector_weights.index]\n",
    "normalized_ordered_portfolio_sectors = [sector.strip().lower().replace(\" \", \"_\") for sector in ordered_portfolio_sectors]\n",
    "\n",
    "# Filter directly with lambda expression instead of using a separate function\n",
    "filtered_sectors_df = sectors_df[\n",
    "    sectors_df['Sectors'].apply(\n",
    "        lambda sector_dict: isinstance(sector_dict, dict) and all(\n",
    "            sector in sector_dict and sector_dict[sector] > 0 \n",
    "            for sector in normalized_ordered_portfolio_sectors\n",
    "        )\n",
    "    )\n",
    "].reset_index(drop=True)\n",
    "\n",
    "# Display Outputs\n",
    "tickers = filtered_sectors_df[\"Symbol\"].tolist()\n",
    "print(\"Number of benchmarks left:\", len(tickers))\n",
    "display(filtered_sectors_df.head())"
   ]
  },
  {
   "cell_type": "markdown",
   "id": "c178af0c",
   "metadata": {},
   "source": [
    "#### Import ETF Fundamental Data"
   ]
  },
  {
   "cell_type": "code",
   "execution_count": 8,
   "id": "b483eba0",
   "metadata": {
    "execution": {
     "iopub.execute_input": "2025-06-02T13:28:30.966081Z",
     "iopub.status.busy": "2025-06-02T13:28:30.964923Z",
     "iopub.status.idle": "2025-06-02T13:28:31.003315Z",
     "shell.execute_reply": "2025-06-02T13:28:31.001732Z"
    }
   },
   "outputs": [
    {
     "data": {
      "application/vnd.microsoft.datawrangler.viewer.v0+json": {
       "columns": [
        {
         "name": "index",
         "rawType": "int64",
         "type": "integer"
        },
        {
         "name": "Symbol",
         "rawType": "object",
         "type": "string"
        },
        {
         "name": "Name_x",
         "rawType": "object",
         "type": "string"
        },
        {
         "name": "Sectors",
         "rawType": "object",
         "type": "unknown"
        },
        {
         "name": "Date",
         "rawType": "object",
         "type": "string"
        },
        {
         "name": "Name_y",
         "rawType": "object",
         "type": "string"
        },
        {
         "name": "Sector",
         "rawType": "object",
         "type": "string"
        },
        {
         "name": "Industry",
         "rawType": "object",
         "type": "string"
        },
        {
         "name": "Country",
         "rawType": "object",
         "type": "string"
        },
        {
         "name": "Website",
         "rawType": "object",
         "type": "string"
        },
        {
         "name": "Market Cap",
         "rawType": "float64",
         "type": "float"
        },
        {
         "name": "Shares Outstanding",
         "rawType": "float64",
         "type": "float"
        },
        {
         "name": "P/E (trailing)",
         "rawType": "float64",
         "type": "float"
        },
        {
         "name": "P/E (forward)",
         "rawType": "float64",
         "type": "float"
        },
        {
         "name": "P/B",
         "rawType": "float64",
         "type": "float"
        },
        {
         "name": "Book Value",
         "rawType": "float64",
         "type": "float"
        },
        {
         "name": "Dividend Yield (%)",
         "rawType": "float64",
         "type": "float"
        },
        {
         "name": "Dividend Rate (%)",
         "rawType": "float64",
         "type": "float"
        },
        {
         "name": "5Y Avg Dividend Yield (%)",
         "rawType": "float64",
         "type": "float"
        },
        {
         "name": "Payout Ratio (%)",
         "rawType": "float64",
         "type": "float"
        },
        {
         "name": "Price",
         "rawType": "float64",
         "type": "float"
        },
        {
         "name": "Analyst Rating",
         "rawType": "object",
         "type": "string"
        },
        {
         "name": "52W High",
         "rawType": "float64",
         "type": "float"
        },
        {
         "name": "52W Low",
         "rawType": "float64",
         "type": "float"
        },
        {
         "name": "50 Day Avg",
         "rawType": "float64",
         "type": "float"
        },
        {
         "name": "200 Day Avg",
         "rawType": "float64",
         "type": "float"
        },
        {
         "name": "Sector Weightings",
         "rawType": "object",
         "type": "string"
        }
       ],
       "ref": "98f986fa-2b5a-4de3-99bd-79470a1b2e22",
       "rows": [
        [
         "0",
         "AADR",
         "AdvisorShares Dorsey Wright ADR ETF",
         "{'realestate': 0.0, 'consumer_cyclical': 0.1182, 'basic_materials': 0.0425, 'consumer_defensive': 0.0, 'technology': 0.16479999, 'communication_services': 0.089499995, 'financial_services': 0.33900002, 'utilities': 0.033299997, 'industrials': 0.1005, 'energy': 0.0334, 'healthcare': 0.0788}",
         "2025-06-02",
         "AdvisorShares Dorsey Wright ADR ETF",
         "Unknown",
         "Unknown",
         "Unknown",
         "Unknown",
         "0.0",
         null,
         "14.95",
         null,
         null,
         null,
         "0.0123",
         "0.0",
         "0.0",
         "0.0",
         "77.58",
         "Unknown",
         "81.17",
         "54.57",
         "74.66",
         "70.09",
         "{\"realestate\": 0.0, \"consumer_cyclical\": 0.1182, \"basic_materials\": 0.0425, \"consumer_defensive\": 0.0, \"technology\": 0.16479999, \"communication_services\": 0.089499995, \"financial_services\": 0.33900002, \"utilities\": 0.033299997, \"industrials\": 0.1005, \"energy\": 0.0334, \"healthcare\": 0.0788}"
        ],
        [
         "1",
         "ABFL",
         "Abacus FCF Leaders ETF",
         "{'realestate': 0.0, 'consumer_cyclical': 0.1188, 'basic_materials': 0.0, 'consumer_defensive': 0.0765, 'technology': 0.5052, 'communication_services': 0.0709, 'financial_services': 0.042600002, 'utilities': 0.0, 'industrials': 0.041100003, 'energy': 0.0, 'healthcare': 0.1449}",
         "2025-06-02",
         "Abacus FCF Leaders ETF",
         "Unknown",
         "Unknown",
         "Unknown",
         "Unknown",
         "0.0",
         null,
         "33.43",
         null,
         null,
         null,
         "0.0082",
         "0.0",
         "0.0",
         "0.0",
         "69.15",
         "Unknown",
         "71.28",
         "55.4",
         "64.73",
         "66.17",
         "{\"realestate\": 0.0, \"consumer_cyclical\": 0.1188, \"basic_materials\": 0.0, \"consumer_defensive\": 0.0765, \"technology\": 0.5052, \"communication_services\": 0.0709, \"financial_services\": 0.042600002, \"utilities\": 0.0, \"industrials\": 0.041100003, \"energy\": 0.0, \"healthcare\": 0.1449}"
        ],
        [
         "2",
         "ACWI",
         "iShares MSCI ACWI ETF",
         "{'realestate': 0.0216, 'consumer_cyclical': 0.1039, 'basic_materials': 0.0346, 'consumer_defensive': 0.0641, 'technology': 0.2491, 'communication_services': 0.084, 'financial_services': 0.1752, 'utilities': 0.0269, 'industrials': 0.1021, 'energy': 0.0375, 'healthcare': 0.1012}",
         "2025-06-02",
         "iShares MSCI ACWI ETF",
         "Unknown",
         "Unknown",
         "Unknown",
         "Unknown",
         "0.0",
         null,
         "21.39",
         null,
         null,
         null,
         "0.0171",
         "0.0",
         "0.0",
         "0.0",
         "123.65",
         "Unknown",
         "124.54",
         "101.25",
         "117.25",
         "118.68",
         "{\"realestate\": 0.0216, \"consumer_cyclical\": 0.1039, \"basic_materials\": 0.0346, \"consumer_defensive\": 0.0641, \"technology\": 0.2491, \"communication_services\": 0.084, \"financial_services\": 0.1752, \"utilities\": 0.0269, \"industrials\": 0.1021, \"energy\": 0.0375, \"healthcare\": 0.1012}"
        ],
        [
         "3",
         "ADME",
         "Aptus Drawdown Managed Equity ETF",
         "{'realestate': 0.0222, 'consumer_cyclical': 0.1022, 'basic_materials': 0.0222, 'consumer_defensive': 0.0608, 'technology': 0.3147, 'communication_services': 0.091800004, 'financial_services': 0.1384, 'utilities': 0.0254, 'industrials': 0.0746, 'energy': 0.0357, 'healthcare': 0.111899994}",
         "2025-05-02",
         "Aptus Drawdown Managed Equity ETF",
         "Unknown",
         "Unknown",
         "Unknown",
         "Unknown",
         "0.0",
         null,
         "25.43",
         null,
         null,
         null,
         "0.0047",
         "0.0",
         "0.0",
         "0.0",
         "44.46",
         "Unknown",
         "48.56",
         "39.85",
         "44.34",
         "45.9",
         "{\"realestate\": 0.0222, \"consumer_cyclical\": 0.1022, \"basic_materials\": 0.0222, \"consumer_defensive\": 0.0608, \"technology\": 0.3147, \"communication_services\": 0.091800004, \"financial_services\": 0.1384, \"utilities\": 0.0254, \"industrials\": 0.0746, \"energy\": 0.0357, \"healthcare\": 0.111899994}"
        ],
        [
         "4",
         "AIA",
         "iShares Asia 50 ETF",
         "{'realestate': 0.0047999998, 'consumer_cyclical': 0.17790002, 'basic_materials': 0.0047999998, 'consumer_defensive': 0.0, 'technology': 0.39720002, 'communication_services': 0.16860001, 'financial_services': 0.2172, 'utilities': 0.0, 'industrials': 0.0095, 'energy': 0.0095999995, 'healthcare': 0.0104}",
         "2025-06-02",
         "iShares Asia 50 ETF",
         "Unknown",
         "Unknown",
         "Unknown",
         "Unknown",
         "0.0",
         null,
         "13.54",
         null,
         null,
         null,
         "0.0268",
         "0.0",
         "0.0",
         "0.0",
         "74.67",
         "Unknown",
         "77.87",
         "59.33",
         "71.89",
         "71.02",
         "{\"realestate\": 0.0047999998, \"consumer_cyclical\": 0.17790002, \"basic_materials\": 0.0047999998, \"consumer_defensive\": 0.0, \"technology\": 0.39720002, \"communication_services\": 0.16860001, \"financial_services\": 0.2172, \"utilities\": 0.0, \"industrials\": 0.0095, \"energy\": 0.0095999995, \"healthcare\": 0.0104}"
        ]
       ],
       "shape": {
        "columns": 26,
        "rows": 5
       }
      },
      "text/html": [
       "<div>\n",
       "<style scoped>\n",
       "    .dataframe tbody tr th:only-of-type {\n",
       "        vertical-align: middle;\n",
       "    }\n",
       "\n",
       "    .dataframe tbody tr th {\n",
       "        vertical-align: top;\n",
       "    }\n",
       "\n",
       "    .dataframe thead th {\n",
       "        text-align: right;\n",
       "    }\n",
       "</style>\n",
       "<table border=\"1\" class=\"dataframe\">\n",
       "  <thead>\n",
       "    <tr style=\"text-align: right;\">\n",
       "      <th></th>\n",
       "      <th>Symbol</th>\n",
       "      <th>Name_x</th>\n",
       "      <th>Sectors</th>\n",
       "      <th>Date</th>\n",
       "      <th>Name_y</th>\n",
       "      <th>Sector</th>\n",
       "      <th>Industry</th>\n",
       "      <th>Country</th>\n",
       "      <th>Website</th>\n",
       "      <th>Market Cap</th>\n",
       "      <th>...</th>\n",
       "      <th>Dividend Rate (%)</th>\n",
       "      <th>5Y Avg Dividend Yield (%)</th>\n",
       "      <th>Payout Ratio (%)</th>\n",
       "      <th>Price</th>\n",
       "      <th>Analyst Rating</th>\n",
       "      <th>52W High</th>\n",
       "      <th>52W Low</th>\n",
       "      <th>50 Day Avg</th>\n",
       "      <th>200 Day Avg</th>\n",
       "      <th>Sector Weightings</th>\n",
       "    </tr>\n",
       "  </thead>\n",
       "  <tbody>\n",
       "    <tr>\n",
       "      <th>0</th>\n",
       "      <td>AADR</td>\n",
       "      <td>AdvisorShares Dorsey Wright ADR ETF</td>\n",
       "      <td>{'realestate': 0.0, 'consumer_cyclical': 0.118...</td>\n",
       "      <td>2025-06-02</td>\n",
       "      <td>AdvisorShares Dorsey Wright ADR ETF</td>\n",
       "      <td>Unknown</td>\n",
       "      <td>Unknown</td>\n",
       "      <td>Unknown</td>\n",
       "      <td>Unknown</td>\n",
       "      <td>0.0</td>\n",
       "      <td>...</td>\n",
       "      <td>0.0</td>\n",
       "      <td>0.0</td>\n",
       "      <td>0.0</td>\n",
       "      <td>77.58</td>\n",
       "      <td>Unknown</td>\n",
       "      <td>81.17</td>\n",
       "      <td>54.57</td>\n",
       "      <td>74.66</td>\n",
       "      <td>70.09</td>\n",
       "      <td>{\"realestate\": 0.0, \"consumer_cyclical\": 0.118...</td>\n",
       "    </tr>\n",
       "    <tr>\n",
       "      <th>1</th>\n",
       "      <td>ABFL</td>\n",
       "      <td>Abacus FCF Leaders ETF</td>\n",
       "      <td>{'realestate': 0.0, 'consumer_cyclical': 0.118...</td>\n",
       "      <td>2025-06-02</td>\n",
       "      <td>Abacus FCF Leaders ETF</td>\n",
       "      <td>Unknown</td>\n",
       "      <td>Unknown</td>\n",
       "      <td>Unknown</td>\n",
       "      <td>Unknown</td>\n",
       "      <td>0.0</td>\n",
       "      <td>...</td>\n",
       "      <td>0.0</td>\n",
       "      <td>0.0</td>\n",
       "      <td>0.0</td>\n",
       "      <td>69.15</td>\n",
       "      <td>Unknown</td>\n",
       "      <td>71.28</td>\n",
       "      <td>55.40</td>\n",
       "      <td>64.73</td>\n",
       "      <td>66.17</td>\n",
       "      <td>{\"realestate\": 0.0, \"consumer_cyclical\": 0.118...</td>\n",
       "    </tr>\n",
       "    <tr>\n",
       "      <th>2</th>\n",
       "      <td>ACWI</td>\n",
       "      <td>iShares MSCI ACWI ETF</td>\n",
       "      <td>{'realestate': 0.0216, 'consumer_cyclical': 0....</td>\n",
       "      <td>2025-06-02</td>\n",
       "      <td>iShares MSCI ACWI ETF</td>\n",
       "      <td>Unknown</td>\n",
       "      <td>Unknown</td>\n",
       "      <td>Unknown</td>\n",
       "      <td>Unknown</td>\n",
       "      <td>0.0</td>\n",
       "      <td>...</td>\n",
       "      <td>0.0</td>\n",
       "      <td>0.0</td>\n",
       "      <td>0.0</td>\n",
       "      <td>123.65</td>\n",
       "      <td>Unknown</td>\n",
       "      <td>124.54</td>\n",
       "      <td>101.25</td>\n",
       "      <td>117.25</td>\n",
       "      <td>118.68</td>\n",
       "      <td>{\"realestate\": 0.0216, \"consumer_cyclical\": 0....</td>\n",
       "    </tr>\n",
       "    <tr>\n",
       "      <th>3</th>\n",
       "      <td>ADME</td>\n",
       "      <td>Aptus Drawdown Managed Equity ETF</td>\n",
       "      <td>{'realestate': 0.0222, 'consumer_cyclical': 0....</td>\n",
       "      <td>2025-05-02</td>\n",
       "      <td>Aptus Drawdown Managed Equity ETF</td>\n",
       "      <td>Unknown</td>\n",
       "      <td>Unknown</td>\n",
       "      <td>Unknown</td>\n",
       "      <td>Unknown</td>\n",
       "      <td>0.0</td>\n",
       "      <td>...</td>\n",
       "      <td>0.0</td>\n",
       "      <td>0.0</td>\n",
       "      <td>0.0</td>\n",
       "      <td>44.46</td>\n",
       "      <td>Unknown</td>\n",
       "      <td>48.56</td>\n",
       "      <td>39.85</td>\n",
       "      <td>44.34</td>\n",
       "      <td>45.90</td>\n",
       "      <td>{\"realestate\": 0.0222, \"consumer_cyclical\": 0....</td>\n",
       "    </tr>\n",
       "    <tr>\n",
       "      <th>4</th>\n",
       "      <td>AIA</td>\n",
       "      <td>iShares Asia 50 ETF</td>\n",
       "      <td>{'realestate': 0.0047999998, 'consumer_cyclica...</td>\n",
       "      <td>2025-06-02</td>\n",
       "      <td>iShares Asia 50 ETF</td>\n",
       "      <td>Unknown</td>\n",
       "      <td>Unknown</td>\n",
       "      <td>Unknown</td>\n",
       "      <td>Unknown</td>\n",
       "      <td>0.0</td>\n",
       "      <td>...</td>\n",
       "      <td>0.0</td>\n",
       "      <td>0.0</td>\n",
       "      <td>0.0</td>\n",
       "      <td>74.67</td>\n",
       "      <td>Unknown</td>\n",
       "      <td>77.87</td>\n",
       "      <td>59.33</td>\n",
       "      <td>71.89</td>\n",
       "      <td>71.02</td>\n",
       "      <td>{\"realestate\": 0.0047999998, \"consumer_cyclica...</td>\n",
       "    </tr>\n",
       "  </tbody>\n",
       "</table>\n",
       "<p>5 rows × 26 columns</p>\n",
       "</div>"
      ],
      "text/plain": [
       "  Symbol                               Name_x  \\\n",
       "0   AADR  AdvisorShares Dorsey Wright ADR ETF   \n",
       "1   ABFL               Abacus FCF Leaders ETF   \n",
       "2   ACWI                iShares MSCI ACWI ETF   \n",
       "3   ADME    Aptus Drawdown Managed Equity ETF   \n",
       "4    AIA                  iShares Asia 50 ETF   \n",
       "\n",
       "                                             Sectors        Date  \\\n",
       "0  {'realestate': 0.0, 'consumer_cyclical': 0.118...  2025-06-02   \n",
       "1  {'realestate': 0.0, 'consumer_cyclical': 0.118...  2025-06-02   \n",
       "2  {'realestate': 0.0216, 'consumer_cyclical': 0....  2025-06-02   \n",
       "3  {'realestate': 0.0222, 'consumer_cyclical': 0....  2025-05-02   \n",
       "4  {'realestate': 0.0047999998, 'consumer_cyclica...  2025-06-02   \n",
       "\n",
       "                                Name_y   Sector Industry  Country  Website  \\\n",
       "0  AdvisorShares Dorsey Wright ADR ETF  Unknown  Unknown  Unknown  Unknown   \n",
       "1               Abacus FCF Leaders ETF  Unknown  Unknown  Unknown  Unknown   \n",
       "2                iShares MSCI ACWI ETF  Unknown  Unknown  Unknown  Unknown   \n",
       "3    Aptus Drawdown Managed Equity ETF  Unknown  Unknown  Unknown  Unknown   \n",
       "4                  iShares Asia 50 ETF  Unknown  Unknown  Unknown  Unknown   \n",
       "\n",
       "   Market Cap  ...  Dividend Rate (%)  5Y Avg Dividend Yield (%)  \\\n",
       "0         0.0  ...                0.0                        0.0   \n",
       "1         0.0  ...                0.0                        0.0   \n",
       "2         0.0  ...                0.0                        0.0   \n",
       "3         0.0  ...                0.0                        0.0   \n",
       "4         0.0  ...                0.0                        0.0   \n",
       "\n",
       "   Payout Ratio (%)   Price  Analyst Rating  52W High  52W Low  50 Day Avg  \\\n",
       "0               0.0   77.58         Unknown     81.17    54.57       74.66   \n",
       "1               0.0   69.15         Unknown     71.28    55.40       64.73   \n",
       "2               0.0  123.65         Unknown    124.54   101.25      117.25   \n",
       "3               0.0   44.46         Unknown     48.56    39.85       44.34   \n",
       "4               0.0   74.67         Unknown     77.87    59.33       71.89   \n",
       "\n",
       "   200 Day Avg                                  Sector Weightings  \n",
       "0        70.09  {\"realestate\": 0.0, \"consumer_cyclical\": 0.118...  \n",
       "1        66.17  {\"realestate\": 0.0, \"consumer_cyclical\": 0.118...  \n",
       "2       118.68  {\"realestate\": 0.0216, \"consumer_cyclical\": 0....  \n",
       "3        45.90  {\"realestate\": 0.0222, \"consumer_cyclical\": 0....  \n",
       "4        71.02  {\"realestate\": 0.0047999998, \"consumer_cyclica...  \n",
       "\n",
       "[5 rows x 26 columns]"
      ]
     },
     "metadata": {},
     "output_type": "display_data"
    }
   ],
   "source": [
    "# fundamentals_df = fetch_fundamentals(tickers) # Download fundamentals data for the tickers\n",
    "fundamentals_df = pd.read_csv(\"data/fundamentals_benchmark.csv\",index_col=\"Ticker\").query(\"Ticker in @tickers\") # Import the fundamentals data from a CSV file\n",
    "\n",
    "# Set the index name\n",
    "fundamentals_df.index.name = \"Symbol\"\n",
    "\n",
    "# Move the index into a column\n",
    "fundamentals_df = fundamentals_df.reset_index()\n",
    "\n",
    "# Perform the merge\n",
    "merged_df = pd.merge(filtered_sectors_df, fundamentals_df, on='Symbol', how='inner').dropna(how='all', axis=1)\n",
    "\n",
    "# Display the merged DataFrame\n",
    "display(merged_df.head())"
   ]
  },
  {
   "cell_type": "markdown",
   "id": "f0672a0d",
   "metadata": {},
   "source": [
    "#### Filter for the P/E (Trailling) Similar to Portfolio Weighted Average P/E"
   ]
  },
  {
   "cell_type": "code",
   "execution_count": 9,
   "id": "8e97edd6",
   "metadata": {
    "execution": {
     "iopub.execute_input": "2025-06-02T13:28:31.006793Z",
     "iopub.status.busy": "2025-06-02T13:28:31.006305Z",
     "iopub.status.idle": "2025-06-02T13:28:31.031205Z",
     "shell.execute_reply": "2025-06-02T13:28:31.030070Z"
    }
   },
   "outputs": [
    {
     "name": "stdout",
     "output_type": "stream",
     "text": [
      "Portfolio Weighted Average P/E (trailing): 31.159999999999997\n",
      "Lower Bound: 24.927999999999997\n",
      "Upper Bound: 37.391999999999996\n",
      "Number of benchmarks after filtering by P/E (trailing): 91\n"
     ]
    },
    {
     "data": {
      "application/vnd.microsoft.datawrangler.viewer.v0+json": {
       "columns": [
        {
         "name": "index",
         "rawType": "int64",
         "type": "integer"
        },
        {
         "name": "Symbol",
         "rawType": "object",
         "type": "string"
        },
        {
         "name": "Name_x",
         "rawType": "object",
         "type": "string"
        },
        {
         "name": "Sectors",
         "rawType": "object",
         "type": "unknown"
        },
        {
         "name": "Date",
         "rawType": "object",
         "type": "string"
        },
        {
         "name": "Name_y",
         "rawType": "object",
         "type": "string"
        },
        {
         "name": "Sector",
         "rawType": "object",
         "type": "string"
        },
        {
         "name": "Industry",
         "rawType": "object",
         "type": "string"
        },
        {
         "name": "Country",
         "rawType": "object",
         "type": "string"
        },
        {
         "name": "Website",
         "rawType": "object",
         "type": "string"
        },
        {
         "name": "Market Cap",
         "rawType": "float64",
         "type": "float"
        },
        {
         "name": "Shares Outstanding",
         "rawType": "float64",
         "type": "float"
        },
        {
         "name": "P/E (trailing)",
         "rawType": "float64",
         "type": "float"
        },
        {
         "name": "P/E (forward)",
         "rawType": "float64",
         "type": "float"
        },
        {
         "name": "P/B",
         "rawType": "float64",
         "type": "float"
        },
        {
         "name": "Book Value",
         "rawType": "float64",
         "type": "float"
        },
        {
         "name": "Dividend Yield (%)",
         "rawType": "float64",
         "type": "float"
        },
        {
         "name": "Dividend Rate (%)",
         "rawType": "float64",
         "type": "float"
        },
        {
         "name": "5Y Avg Dividend Yield (%)",
         "rawType": "float64",
         "type": "float"
        },
        {
         "name": "Payout Ratio (%)",
         "rawType": "float64",
         "type": "float"
        },
        {
         "name": "Price",
         "rawType": "float64",
         "type": "float"
        },
        {
         "name": "Analyst Rating",
         "rawType": "object",
         "type": "string"
        },
        {
         "name": "52W High",
         "rawType": "float64",
         "type": "float"
        },
        {
         "name": "52W Low",
         "rawType": "float64",
         "type": "float"
        },
        {
         "name": "50 Day Avg",
         "rawType": "float64",
         "type": "float"
        },
        {
         "name": "200 Day Avg",
         "rawType": "float64",
         "type": "float"
        },
        {
         "name": "Sector Weightings",
         "rawType": "object",
         "type": "string"
        }
       ],
       "ref": "ba503a97-8c23-468e-821d-a3c0dff65669",
       "rows": [
        [
         "1",
         "ABFL",
         "Abacus FCF Leaders ETF",
         "{'realestate': 0.0, 'consumer_cyclical': 0.1188, 'basic_materials': 0.0, 'consumer_defensive': 0.0765, 'technology': 0.5052, 'communication_services': 0.0709, 'financial_services': 0.042600002, 'utilities': 0.0, 'industrials': 0.041100003, 'energy': 0.0, 'healthcare': 0.1449}",
         "2025-06-02",
         "Abacus FCF Leaders ETF",
         "Unknown",
         "Unknown",
         "Unknown",
         "Unknown",
         "0.0",
         null,
         "33.43",
         null,
         null,
         null,
         "0.0082",
         "0.0",
         "0.0",
         "0.0",
         "69.15",
         "Unknown",
         "71.28",
         "55.4",
         "64.73",
         "66.17",
         "{\"realestate\": 0.0, \"consumer_cyclical\": 0.1188, \"basic_materials\": 0.0, \"consumer_defensive\": 0.0765, \"technology\": 0.5052, \"communication_services\": 0.0709, \"financial_services\": 0.042600002, \"utilities\": 0.0, \"industrials\": 0.041100003, \"energy\": 0.0, \"healthcare\": 0.1449}"
        ],
        [
         "3",
         "ADME",
         "Aptus Drawdown Managed Equity ETF",
         "{'realestate': 0.0222, 'consumer_cyclical': 0.1022, 'basic_materials': 0.0222, 'consumer_defensive': 0.0608, 'technology': 0.3147, 'communication_services': 0.091800004, 'financial_services': 0.1384, 'utilities': 0.0254, 'industrials': 0.0746, 'energy': 0.0357, 'healthcare': 0.111899994}",
         "2025-05-02",
         "Aptus Drawdown Managed Equity ETF",
         "Unknown",
         "Unknown",
         "Unknown",
         "Unknown",
         "0.0",
         null,
         "25.43",
         null,
         null,
         null,
         "0.0047",
         "0.0",
         "0.0",
         "0.0",
         "44.46",
         "Unknown",
         "48.56",
         "39.85",
         "44.34",
         "45.9",
         "{\"realestate\": 0.0222, \"consumer_cyclical\": 0.1022, \"basic_materials\": 0.0222, \"consumer_defensive\": 0.0608, \"technology\": 0.3147, \"communication_services\": 0.091800004, \"financial_services\": 0.1384, \"utilities\": 0.0254, \"industrials\": 0.0746, \"energy\": 0.0357, \"healthcare\": 0.111899994}"
        ],
        [
         "5",
         "AIQ",
         "Global X Artificial Intelligence & Technology ETF",
         "{'realestate': 0.0, 'consumer_cyclical': 0.1025, 'basic_materials': 0.0, 'consumer_defensive': 0.0, 'technology': 0.6926, 'communication_services': 0.14109999, 'financial_services': 0.0016, 'utilities': 0.0, 'industrials': 0.0556, 'energy': 0.0, 'healthcare': 0.0066000004}",
         "2025-06-02",
         "Global X Artificial Intelligence & Technology ETF",
         "Unknown",
         "Unknown",
         "Unknown",
         "Unknown",
         "0.0",
         null,
         "27.75",
         null,
         null,
         null,
         "0.0014",
         "0.0",
         "0.0",
         "0.0",
         "40.3",
         "Unknown",
         "42.78",
         "30.6",
         "37.32",
         "37.94",
         "{\"realestate\": 0.0, \"consumer_cyclical\": 0.1025, \"basic_materials\": 0.0, \"consumer_defensive\": 0.0, \"technology\": 0.6926, \"communication_services\": 0.14109999, \"financial_services\": 0.0016, \"utilities\": 0.0, \"industrials\": 0.0556, \"energy\": 0.0, \"healthcare\": 0.0066000004}"
        ],
        [
         "11",
         "BAPR",
         "Innovator U.S. Equity Buffer ETF - April",
         "{'realestate': 0.0224, 'consumer_cyclical': 0.105100006, 'basic_materials': 0.0176, 'consumer_defensive': 0.061100002, 'technology': 0.316, 'communication_services': 0.095, 'financial_services': 0.14029999, 'utilities': 0.025799999, 'industrials': 0.0762, 'energy': 0.0327, 'healthcare': 0.107700005}",
         "2025-06-02",
         "Innovator U.S. Equity Buffer ETF - April",
         "Unknown",
         "Unknown",
         "Unknown",
         "Unknown",
         "0.0",
         null,
         "25.2",
         null,
         null,
         null,
         "0.0",
         "0.0",
         "0.0",
         "0.0",
         "43.98",
         "Unknown",
         "46.04",
         "38.21",
         "42.39",
         "43.57",
         "{\"realestate\": 0.0224, \"consumer_cyclical\": 0.105100006, \"basic_materials\": 0.0176, \"consumer_defensive\": 0.061100002, \"technology\": 0.316, \"communication_services\": 0.095, \"financial_services\": 0.14029999, \"utilities\": 0.025799999, \"industrials\": 0.0762, \"energy\": 0.0327, \"healthcare\": 0.107700005}"
        ],
        [
         "12",
         "BBUS",
         "JPMorgan BetaBuilders U.S. Equity ETF",
         "{'realestate': 0.0231, 'consumer_cyclical': 0.1047, 'basic_materials': 0.0188, 'consumer_defensive': 0.059899997, 'technology': 0.3183, 'communication_services': 0.0949, 'financial_services': 0.13949999, 'utilities': 0.024600001, 'industrials': 0.0769, 'energy': 0.031400003, 'healthcare': 0.108100004}",
         "2025-06-02",
         "JPMorgan BetaBuilders U.S. Equity ETF",
         "Unknown",
         "Unknown",
         "Unknown",
         "Unknown",
         "0.0",
         null,
         "25.74",
         null,
         null,
         null,
         "0.0131",
         "0.0",
         "0.0",
         "0.0",
         "106.74",
         "Unknown",
         "111.04",
         "86.94",
         "101.02",
         "104.33",
         "{\"realestate\": 0.0231, \"consumer_cyclical\": 0.1047, \"basic_materials\": 0.0188, \"consumer_defensive\": 0.059899997, \"technology\": 0.3183, \"communication_services\": 0.0949, \"financial_services\": 0.13949999, \"utilities\": 0.024600001, \"industrials\": 0.0769, \"energy\": 0.031400003, \"healthcare\": 0.108100004}"
        ]
       ],
       "shape": {
        "columns": 26,
        "rows": 5
       }
      },
      "text/html": [
       "<div>\n",
       "<style scoped>\n",
       "    .dataframe tbody tr th:only-of-type {\n",
       "        vertical-align: middle;\n",
       "    }\n",
       "\n",
       "    .dataframe tbody tr th {\n",
       "        vertical-align: top;\n",
       "    }\n",
       "\n",
       "    .dataframe thead th {\n",
       "        text-align: right;\n",
       "    }\n",
       "</style>\n",
       "<table border=\"1\" class=\"dataframe\">\n",
       "  <thead>\n",
       "    <tr style=\"text-align: right;\">\n",
       "      <th></th>\n",
       "      <th>Symbol</th>\n",
       "      <th>Name_x</th>\n",
       "      <th>Sectors</th>\n",
       "      <th>Date</th>\n",
       "      <th>Name_y</th>\n",
       "      <th>Sector</th>\n",
       "      <th>Industry</th>\n",
       "      <th>Country</th>\n",
       "      <th>Website</th>\n",
       "      <th>Market Cap</th>\n",
       "      <th>...</th>\n",
       "      <th>Dividend Rate (%)</th>\n",
       "      <th>5Y Avg Dividend Yield (%)</th>\n",
       "      <th>Payout Ratio (%)</th>\n",
       "      <th>Price</th>\n",
       "      <th>Analyst Rating</th>\n",
       "      <th>52W High</th>\n",
       "      <th>52W Low</th>\n",
       "      <th>50 Day Avg</th>\n",
       "      <th>200 Day Avg</th>\n",
       "      <th>Sector Weightings</th>\n",
       "    </tr>\n",
       "  </thead>\n",
       "  <tbody>\n",
       "    <tr>\n",
       "      <th>1</th>\n",
       "      <td>ABFL</td>\n",
       "      <td>Abacus FCF Leaders ETF</td>\n",
       "      <td>{'realestate': 0.0, 'consumer_cyclical': 0.118...</td>\n",
       "      <td>2025-06-02</td>\n",
       "      <td>Abacus FCF Leaders ETF</td>\n",
       "      <td>Unknown</td>\n",
       "      <td>Unknown</td>\n",
       "      <td>Unknown</td>\n",
       "      <td>Unknown</td>\n",
       "      <td>0.0</td>\n",
       "      <td>...</td>\n",
       "      <td>0.0</td>\n",
       "      <td>0.0</td>\n",
       "      <td>0.0</td>\n",
       "      <td>69.15</td>\n",
       "      <td>Unknown</td>\n",
       "      <td>71.28</td>\n",
       "      <td>55.40</td>\n",
       "      <td>64.73</td>\n",
       "      <td>66.17</td>\n",
       "      <td>{\"realestate\": 0.0, \"consumer_cyclical\": 0.118...</td>\n",
       "    </tr>\n",
       "    <tr>\n",
       "      <th>3</th>\n",
       "      <td>ADME</td>\n",
       "      <td>Aptus Drawdown Managed Equity ETF</td>\n",
       "      <td>{'realestate': 0.0222, 'consumer_cyclical': 0....</td>\n",
       "      <td>2025-05-02</td>\n",
       "      <td>Aptus Drawdown Managed Equity ETF</td>\n",
       "      <td>Unknown</td>\n",
       "      <td>Unknown</td>\n",
       "      <td>Unknown</td>\n",
       "      <td>Unknown</td>\n",
       "      <td>0.0</td>\n",
       "      <td>...</td>\n",
       "      <td>0.0</td>\n",
       "      <td>0.0</td>\n",
       "      <td>0.0</td>\n",
       "      <td>44.46</td>\n",
       "      <td>Unknown</td>\n",
       "      <td>48.56</td>\n",
       "      <td>39.85</td>\n",
       "      <td>44.34</td>\n",
       "      <td>45.90</td>\n",
       "      <td>{\"realestate\": 0.0222, \"consumer_cyclical\": 0....</td>\n",
       "    </tr>\n",
       "    <tr>\n",
       "      <th>5</th>\n",
       "      <td>AIQ</td>\n",
       "      <td>Global X Artificial Intelligence &amp; Technology ETF</td>\n",
       "      <td>{'realestate': 0.0, 'consumer_cyclical': 0.102...</td>\n",
       "      <td>2025-06-02</td>\n",
       "      <td>Global X Artificial Intelligence &amp; Technology ETF</td>\n",
       "      <td>Unknown</td>\n",
       "      <td>Unknown</td>\n",
       "      <td>Unknown</td>\n",
       "      <td>Unknown</td>\n",
       "      <td>0.0</td>\n",
       "      <td>...</td>\n",
       "      <td>0.0</td>\n",
       "      <td>0.0</td>\n",
       "      <td>0.0</td>\n",
       "      <td>40.30</td>\n",
       "      <td>Unknown</td>\n",
       "      <td>42.78</td>\n",
       "      <td>30.60</td>\n",
       "      <td>37.32</td>\n",
       "      <td>37.94</td>\n",
       "      <td>{\"realestate\": 0.0, \"consumer_cyclical\": 0.102...</td>\n",
       "    </tr>\n",
       "    <tr>\n",
       "      <th>11</th>\n",
       "      <td>BAPR</td>\n",
       "      <td>Innovator U.S. Equity Buffer ETF - April</td>\n",
       "      <td>{'realestate': 0.0224, 'consumer_cyclical': 0....</td>\n",
       "      <td>2025-06-02</td>\n",
       "      <td>Innovator U.S. Equity Buffer ETF - April</td>\n",
       "      <td>Unknown</td>\n",
       "      <td>Unknown</td>\n",
       "      <td>Unknown</td>\n",
       "      <td>Unknown</td>\n",
       "      <td>0.0</td>\n",
       "      <td>...</td>\n",
       "      <td>0.0</td>\n",
       "      <td>0.0</td>\n",
       "      <td>0.0</td>\n",
       "      <td>43.98</td>\n",
       "      <td>Unknown</td>\n",
       "      <td>46.04</td>\n",
       "      <td>38.21</td>\n",
       "      <td>42.39</td>\n",
       "      <td>43.57</td>\n",
       "      <td>{\"realestate\": 0.0224, \"consumer_cyclical\": 0....</td>\n",
       "    </tr>\n",
       "    <tr>\n",
       "      <th>12</th>\n",
       "      <td>BBUS</td>\n",
       "      <td>JPMorgan BetaBuilders U.S. Equity ETF</td>\n",
       "      <td>{'realestate': 0.0231, 'consumer_cyclical': 0....</td>\n",
       "      <td>2025-06-02</td>\n",
       "      <td>JPMorgan BetaBuilders U.S. Equity ETF</td>\n",
       "      <td>Unknown</td>\n",
       "      <td>Unknown</td>\n",
       "      <td>Unknown</td>\n",
       "      <td>Unknown</td>\n",
       "      <td>0.0</td>\n",
       "      <td>...</td>\n",
       "      <td>0.0</td>\n",
       "      <td>0.0</td>\n",
       "      <td>0.0</td>\n",
       "      <td>106.74</td>\n",
       "      <td>Unknown</td>\n",
       "      <td>111.04</td>\n",
       "      <td>86.94</td>\n",
       "      <td>101.02</td>\n",
       "      <td>104.33</td>\n",
       "      <td>{\"realestate\": 0.0231, \"consumer_cyclical\": 0....</td>\n",
       "    </tr>\n",
       "  </tbody>\n",
       "</table>\n",
       "<p>5 rows × 26 columns</p>\n",
       "</div>"
      ],
      "text/plain": [
       "   Symbol                                             Name_x  \\\n",
       "1    ABFL                             Abacus FCF Leaders ETF   \n",
       "3    ADME                  Aptus Drawdown Managed Equity ETF   \n",
       "5     AIQ  Global X Artificial Intelligence & Technology ETF   \n",
       "11   BAPR           Innovator U.S. Equity Buffer ETF - April   \n",
       "12   BBUS              JPMorgan BetaBuilders U.S. Equity ETF   \n",
       "\n",
       "                                              Sectors        Date  \\\n",
       "1   {'realestate': 0.0, 'consumer_cyclical': 0.118...  2025-06-02   \n",
       "3   {'realestate': 0.0222, 'consumer_cyclical': 0....  2025-05-02   \n",
       "5   {'realestate': 0.0, 'consumer_cyclical': 0.102...  2025-06-02   \n",
       "11  {'realestate': 0.0224, 'consumer_cyclical': 0....  2025-06-02   \n",
       "12  {'realestate': 0.0231, 'consumer_cyclical': 0....  2025-06-02   \n",
       "\n",
       "                                               Name_y   Sector Industry  \\\n",
       "1                              Abacus FCF Leaders ETF  Unknown  Unknown   \n",
       "3                   Aptus Drawdown Managed Equity ETF  Unknown  Unknown   \n",
       "5   Global X Artificial Intelligence & Technology ETF  Unknown  Unknown   \n",
       "11           Innovator U.S. Equity Buffer ETF - April  Unknown  Unknown   \n",
       "12              JPMorgan BetaBuilders U.S. Equity ETF  Unknown  Unknown   \n",
       "\n",
       "    Country  Website  Market Cap  ...  Dividend Rate (%)  \\\n",
       "1   Unknown  Unknown         0.0  ...                0.0   \n",
       "3   Unknown  Unknown         0.0  ...                0.0   \n",
       "5   Unknown  Unknown         0.0  ...                0.0   \n",
       "11  Unknown  Unknown         0.0  ...                0.0   \n",
       "12  Unknown  Unknown         0.0  ...                0.0   \n",
       "\n",
       "    5Y Avg Dividend Yield (%)  Payout Ratio (%)   Price  Analyst Rating  \\\n",
       "1                         0.0               0.0   69.15         Unknown   \n",
       "3                         0.0               0.0   44.46         Unknown   \n",
       "5                         0.0               0.0   40.30         Unknown   \n",
       "11                        0.0               0.0   43.98         Unknown   \n",
       "12                        0.0               0.0  106.74         Unknown   \n",
       "\n",
       "    52W High  52W Low  50 Day Avg  200 Day Avg  \\\n",
       "1      71.28    55.40       64.73        66.17   \n",
       "3      48.56    39.85       44.34        45.90   \n",
       "5      42.78    30.60       37.32        37.94   \n",
       "11     46.04    38.21       42.39        43.57   \n",
       "12    111.04    86.94      101.02       104.33   \n",
       "\n",
       "                                    Sector Weightings  \n",
       "1   {\"realestate\": 0.0, \"consumer_cyclical\": 0.118...  \n",
       "3   {\"realestate\": 0.0222, \"consumer_cyclical\": 0....  \n",
       "5   {\"realestate\": 0.0, \"consumer_cyclical\": 0.102...  \n",
       "11  {\"realestate\": 0.0224, \"consumer_cyclical\": 0....  \n",
       "12  {\"realestate\": 0.0231, \"consumer_cyclical\": 0....  \n",
       "\n",
       "[5 rows x 26 columns]"
      ]
     },
     "metadata": {},
     "output_type": "display_data"
    }
   ],
   "source": [
    "# Step 1: Calculate the weighted average of P/E (Trailing) in portfolio_df\n",
    "weighted_average_pe = (portfolio_df[\"Weight\"] * portfolio_df[\"P/E (Trailing)\"]).sum()\n",
    "\n",
    "# Step 2: Calculate the 20% threshold range\n",
    "lower_bound = weighted_average_pe * 0.8  # 20% below the weighted average\n",
    "upper_bound = weighted_average_pe * 1.2  # 2% above the weighted average\n",
    "\n",
    "# Step 3: Filter merged_df based on the P/E (Trailing) column\n",
    "filtered_merged_df = merged_df[\n",
    "    (merged_df[\"P/E (trailing)\"] >= lower_bound) & \n",
    "    (merged_df[\"P/E (trailing)\"] <= upper_bound)\n",
    "]\n",
    "\n",
    "filtered_sectors_df = filtered_merged_df.copy().dropna(how='all')\n",
    "tickers = filtered_sectors_df[\"Symbol\"].tolist()\n",
    "\n",
    "# Display the filtered DataFrame\n",
    "print(\"Portfolio Weighted Average P/E (trailing):\", weighted_average_pe)\n",
    "print(\"Lower Bound:\", lower_bound)\n",
    "print(\"Upper Bound:\", upper_bound)\n",
    "print(\"Number of benchmarks after filtering by P/E (trailing):\", len(filtered_merged_df))\n",
    "display(filtered_sectors_df.head())"
   ]
  },
  {
   "cell_type": "markdown",
   "id": "b050f311",
   "metadata": {},
   "source": [
    "### Step 6: Import Quotes"
   ]
  },
  {
   "cell_type": "markdown",
   "id": "bedd1a61",
   "metadata": {},
   "source": [
    "#### Benchmark Tickers"
   ]
  },
  {
   "cell_type": "code",
   "execution_count": 10,
   "id": "c6cc3457",
   "metadata": {
    "execution": {
     "iopub.execute_input": "2025-06-02T13:28:31.035256Z",
     "iopub.status.busy": "2025-06-02T13:28:31.034942Z",
     "iopub.status.idle": "2025-06-02T13:28:31.195787Z",
     "shell.execute_reply": "2025-06-02T13:28:31.194847Z"
    }
   },
   "outputs": [
    {
     "name": "stdout",
     "output_type": "stream",
     "text": [
      "Found 87 of 91 tickers in data/daily_benchmark_quotes.csv\n",
      "Missing tickers: ['ILCB', 'MOAT', 'PTNQ', 'XSD']\n",
      "Found 87 of 91 tickers in data/monthly_benchmark_quotes.csv\n",
      "Missing tickers: ['ILCB', 'MOAT', 'PTNQ', 'XSD']\n"
     ]
    },
    {
     "data": {
      "application/vnd.microsoft.datawrangler.viewer.v0+json": {
       "columns": [
        {
         "name": "Date",
         "rawType": "datetime64[ns]",
         "type": "datetime"
        },
        {
         "name": "ABFL",
         "rawType": "float64",
         "type": "float"
        },
        {
         "name": "ADME",
         "rawType": "float64",
         "type": "float"
        },
        {
         "name": "AIQ",
         "rawType": "float64",
         "type": "float"
        },
        {
         "name": "BAPR",
         "rawType": "float64",
         "type": "float"
        },
        {
         "name": "BBUS",
         "rawType": "float64",
         "type": "float"
        },
        {
         "name": "BJAN",
         "rawType": "float64",
         "type": "float"
        },
        {
         "name": "BJUL",
         "rawType": "float64",
         "type": "float"
        },
        {
         "name": "BOCT",
         "rawType": "float64",
         "type": "float"
        },
        {
         "name": "CIBR",
         "rawType": "float64",
         "type": "float"
        },
        {
         "name": "CWS",
         "rawType": "float64",
         "type": "float"
        },
        {
         "name": "DSI",
         "rawType": "float64",
         "type": "float"
        },
        {
         "name": "ESPO",
         "rawType": "float64",
         "type": "float"
        },
        {
         "name": "FAD",
         "rawType": "float64",
         "type": "float"
        },
        {
         "name": "FDIS",
         "rawType": "float64",
         "type": "float"
        },
        {
         "name": "FIDU",
         "rawType": "float64",
         "type": "float"
        },
        {
         "name": "FTEC",
         "rawType": "float64",
         "type": "float"
        },
        {
         "name": "GRID",
         "rawType": "float64",
         "type": "float"
        },
        {
         "name": "GVIP",
         "rawType": "float64",
         "type": "float"
        },
        {
         "name": "HTUS",
         "rawType": "float64",
         "type": "float"
        },
        {
         "name": "IGM",
         "rawType": "float64",
         "type": "float"
        },
        {
         "name": "ILCG",
         "rawType": "float64",
         "type": "float"
        },
        {
         "name": "IMCG",
         "rawType": "float64",
         "type": "float"
        },
        {
         "name": "INCO",
         "rawType": "float64",
         "type": "float"
        },
        {
         "name": "IUSG",
         "rawType": "float64",
         "type": "float"
        },
        {
         "name": "IVV",
         "rawType": "float64",
         "type": "float"
        },
        {
         "name": "IVW",
         "rawType": "float64",
         "type": "float"
        },
        {
         "name": "IWB",
         "rawType": "float64",
         "type": "float"
        },
        {
         "name": "IWF",
         "rawType": "float64",
         "type": "float"
        },
        {
         "name": "IWL",
         "rawType": "float64",
         "type": "float"
        },
        {
         "name": "IWP",
         "rawType": "float64",
         "type": "float"
        },
        {
         "name": "IWY",
         "rawType": "float64",
         "type": "float"
        },
        {
         "name": "IXN",
         "rawType": "float64",
         "type": "float"
        },
        {
         "name": "IYW",
         "rawType": "float64",
         "type": "float"
        },
        {
         "name": "JMOM",
         "rawType": "float64",
         "type": "float"
        },
        {
         "name": "MGC",
         "rawType": "float64",
         "type": "float"
        },
        {
         "name": "MMTM",
         "rawType": "float64",
         "type": "float"
        },
        {
         "name": "MTUM",
         "rawType": "float64",
         "type": "float"
        },
        {
         "name": "NULG",
         "rawType": "float64",
         "type": "float"
        },
        {
         "name": "OEF",
         "rawType": "float64",
         "type": "float"
        },
        {
         "name": "ONEQ",
         "rawType": "float64",
         "type": "float"
        },
        {
         "name": "PBUS",
         "rawType": "float64",
         "type": "float"
        },
        {
         "name": "PHO",
         "rawType": "float64",
         "type": "float"
        },
        {
         "name": "PJUL",
         "rawType": "float64",
         "type": "float"
        },
        {
         "name": "POCT",
         "rawType": "float64",
         "type": "float"
        },
        {
         "name": "PPA",
         "rawType": "float64",
         "type": "float"
        },
        {
         "name": "PRN",
         "rawType": "float64",
         "type": "float"
        },
        {
         "name": "PSI",
         "rawType": "float64",
         "type": "float"
        },
        {
         "name": "PTF",
         "rawType": "float64",
         "type": "float"
        },
        {
         "name": "PWB",
         "rawType": "float64",
         "type": "float"
        },
        {
         "name": "QGRO",
         "rawType": "float64",
         "type": "float"
        },
        {
         "name": "QLD",
         "rawType": "float64",
         "type": "float"
        },
        {
         "name": "QMOM",
         "rawType": "float64",
         "type": "float"
        },
        {
         "name": "QQQ",
         "rawType": "float64",
         "type": "float"
        },
        {
         "name": "QTUM",
         "rawType": "float64",
         "type": "float"
        },
        {
         "name": "QUAL",
         "rawType": "float64",
         "type": "float"
        },
        {
         "name": "SCHG",
         "rawType": "float64",
         "type": "float"
        },
        {
         "name": "SCHX",
         "rawType": "float64",
         "type": "float"
        },
        {
         "name": "SMH",
         "rawType": "float64",
         "type": "float"
        },
        {
         "name": "SMIN",
         "rawType": "float64",
         "type": "float"
        },
        {
         "name": "SOXX",
         "rawType": "float64",
         "type": "float"
        },
        {
         "name": "SPHB",
         "rawType": "float64",
         "type": "float"
        },
        {
         "name": "SPHQ",
         "rawType": "float64",
         "type": "float"
        },
        {
         "name": "SPLG",
         "rawType": "float64",
         "type": "float"
        },
        {
         "name": "SPMO",
         "rawType": "float64",
         "type": "float"
        },
        {
         "name": "SPTM",
         "rawType": "float64",
         "type": "float"
        },
        {
         "name": "SPXV",
         "rawType": "float64",
         "type": "float"
        },
        {
         "name": "SPY",
         "rawType": "float64",
         "type": "float"
        },
        {
         "name": "SPYG",
         "rawType": "float64",
         "type": "float"
        },
        {
         "name": "SUSA",
         "rawType": "float64",
         "type": "float"
        },
        {
         "name": "TBLU",
         "rawType": "float64",
         "type": "float"
        },
        {
         "name": "TMFC",
         "rawType": "float64",
         "type": "float"
        },
        {
         "name": "USMC",
         "rawType": "float64",
         "type": "float"
        },
        {
         "name": "VCR",
         "rawType": "float64",
         "type": "float"
        },
        {
         "name": "VGT",
         "rawType": "float64",
         "type": "float"
        },
        {
         "name": "VONE",
         "rawType": "float64",
         "type": "float"
        },
        {
         "name": "VONG",
         "rawType": "float64",
         "type": "float"
        },
        {
         "name": "VOO",
         "rawType": "float64",
         "type": "float"
        },
        {
         "name": "VOOG",
         "rawType": "float64",
         "type": "float"
        },
        {
         "name": "VOT",
         "rawType": "float64",
         "type": "float"
        },
        {
         "name": "VUG",
         "rawType": "float64",
         "type": "float"
        },
        {
         "name": "VUSE",
         "rawType": "float64",
         "type": "float"
        },
        {
         "name": "VV",
         "rawType": "float64",
         "type": "float"
        },
        {
         "name": "XLG",
         "rawType": "float64",
         "type": "float"
        },
        {
         "name": "XLI",
         "rawType": "float64",
         "type": "float"
        },
        {
         "name": "XLK",
         "rawType": "float64",
         "type": "float"
        },
        {
         "name": "XLY",
         "rawType": "float64",
         "type": "float"
        },
        {
         "name": "XNTK",
         "rawType": "float64",
         "type": "float"
        }
       ],
       "ref": "c897a6fd-e2e5-4b8e-a5a2-4e68a2430782",
       "rows": [
        [
         "2020-07-01 00:00:00",
         "35.04",
         "32.74",
         "21.84",
         "28.2216",
         "55.55",
         "29.5439",
         "27.92",
         "26.8389",
         "35.08",
         "37.54",
         "58.44",
         "53.16",
         "81.37",
         "55.23",
         "35.09",
         "84.21",
         "55.19",
         "69.84",
         "21.17",
         "48.89",
         "49.08",
         "50.83",
         "31.03",
         "73.74",
         "305.47",
         "53.65",
         "170.62",
         "200.53",
         "73.57",
         "83.45",
         "111.42",
         "40.63",
         "70.23",
         "31.61",
         "108.18",
         "135.3",
         "133.0",
         "44.66",
         "141.63",
         "40.27",
         "30.8",
         "38.09",
         "27.379999",
         "25.780001",
         "53.1",
         "70.25",
         "26.63",
         "35.28",
         "58.05",
         "51.61",
         "42.12",
         "38.59",
         "258.01",
         "31.41",
         "94.55",
         "13.36",
         "12.19",
         "80.33",
         "28.81",
         "92.85",
         "39.14",
         "34.44",
         "35.74",
         "44.46",
         "37.19",
         "31.87",
         "304.92",
         "46.12",
         "66.77",
         "30.82",
         "29.55",
         "29.21",
         "207.06",
         "285.06",
         "140.51",
         "51.33",
         "279.46",
         "192.68",
         "171.88",
         "211.29",
         "26.96",
         "141.45",
         "24.04",
         "66.62",
         "106.2",
         "131.84",
         "105.71"
        ],
        [
         "2020-08-01 00:00:00",
         "37.42",
         "34.35",
         "23.79",
         "28.7749",
         "59.81",
         "30.68",
         "28.8268",
         "27.805",
         "35.7",
         "39.04",
         "63.08",
         "58.45",
         "85.97",
         "62.51",
         "37.98",
         "93.68",
         "61.57",
         "78.65",
         "22.12",
         "53.71",
         "54.52",
         "52.56",
         "33.02",
         "80.5",
         "326.86",
         "58.72",
         "183.08",
         "220.92",
         "79.95",
         "85.73",
         "124.61",
         "44.6",
         "78.39",
         "33.73",
         "117.27",
         "147.08",
         "145.61",
         "48.46",
         "154.26",
         "44.39",
         "33.35",
         "38.71",
         "27.9455",
         "26.16",
         "56.4",
         "76.22",
         "26.47",
         "36.72",
         "62.93",
         "55.08",
         "51.72",
         "40.1",
         "286.25",
         "32.64",
         "101.04",
         "14.67",
         "13.08",
         "84.75",
         "31.82",
         "98.23",
         "41.85",
         "37.15",
         "38.24",
         "48.24",
         "39.73",
         "34.42",
         "326.21",
         "50.48",
         "71.95",
         "32.07",
         "33.13",
         "31.79",
         "233.87",
         "316.8",
         "150.76",
         "56.55",
         "298.94",
         "210.89",
         "177.28",
         "232.61",
         "28.39",
         "152.24",
         "26.36",
         "72.27",
         "118.81",
         "144.44",
         "122.05"
        ],
        [
         "2020-09-01 00:00:00",
         "36.21",
         "32.83",
         "23.22",
         "28.5677",
         "57.46",
         "30.16",
         "28.34",
         "27.8875",
         "34.21",
         "38.34",
         "60.63",
         "58.07",
         "84.48",
         "59.87",
         "37.68",
         "89.07",
         "60.19",
         "76.76",
         "21.99",
         "50.77",
         "52.14",
         "51.72",
         "33.3",
         "76.92",
         "314.57",
         "55.91",
         "176.3",
         "210.66",
         "76.57",
         "84.52",
         "117.89",
         "42.77",
         "74.04",
         "33.16",
         "112.53",
         "140.58",
         "140.08",
         "46.54",
         "147.15",
         "41.99",
         "31.96",
         "38.86",
         "27.673",
         "26.41",
         "54.05",
         "74.77",
         "25.45",
         "36.56",
         "61.36",
         "53.61",
         "45.51",
         "40.34",
         "270.1",
         "31.82",
         "97.85",
         "14.09",
         "12.6",
         "84.19",
         "33.0",
         "97.75",
         "39.94",
         "36.18",
         "36.8",
         "47.43",
         "38.24",
         "33.03",
         "313.99",
         "48.16",
         "69.42",
         "32.67",
         "31.39",
         "30.77",
         "226.07",
         "301.38",
         "145.26",
         "53.89",
         "287.71",
         "200.9",
         "174.94",
         "221.65",
         "27.22",
         "146.61",
         "24.99",
         "71.77",
         "112.47",
         "141.75",
         "116.25"
        ],
        [
         "2020-10-01 00:00:00",
         "35.3",
         "32.25",
         "22.83",
         "28.3235",
         "56.0",
         "29.83",
         "27.83",
         "27.24",
         "32.74",
         "37.59",
         "59.24",
         "56.41",
         "83.58",
         "58.22",
         "37.15",
         "85.24",
         "61.06",
         "74.5",
         "21.89",
         "49.41",
         "49.81",
         "51.93",
         "31.93",
         "74.73",
         "306.67",
         "54.36",
         "172.25",
         "203.56",
         "74.1",
         "84.62",
         "113.26",
         "40.64",
         "71.99",
         "32.2",
         "109.07",
         "135.59",
         "134.21",
         "45.31",
         "142.48",
         "41.03",
         "31.05",
         "39.93",
         "27.32",
         "26.120001",
         "52.26",
         "72.39",
         "26.39",
         "36.54",
         "59.56",
         "52.57",
         "42.45",
         "38.64",
         "261.87",
         "31.58",
         "95.32",
         "13.69",
         "12.3",
         "84.55",
         "32.16",
         "98.03",
         "40.64",
         "34.73",
         "35.89",
         "45.4",
         "37.37",
         "32.04",
         "306.16",
         "46.7",
         "68.22",
         "32.57",
         "30.28",
         "29.44",
         "220.77",
         "288.36",
         "142.01",
         "52.28",
         "280.39",
         "194.98",
         "173.6",
         "214.99",
         "27.13",
         "142.95",
         "24.1",
         "70.74",
         "106.84",
         "137.88",
         "112.49"
        ],
        [
         "2020-11-01 00:00:00",
         "38.94",
         "34.06",
         "25.64",
         "29.4795",
         "62.53",
         "31.889999",
         "29.66",
         "29.389999",
         "37.93",
         "40.83",
         "65.71",
         "61.74",
         "95.1",
         "65.62",
         "43.33",
         "95.79",
         "72.0",
         "84.9",
         "23.51",
         "55.09",
         "55.07",
         "58.88",
         "35.4",
         "82.14",
         "340.09",
         "59.53",
         "192.39",
         "224.6",
         "82.27",
         "95.9",
         "123.9",
         "45.78",
         "79.97",
         "35.77",
         "121.22",
         "148.08",
         "148.48",
         "50.76",
         "157.0",
         "45.85",
         "34.73",
         "43.81",
         "28.509001",
         "27.459999",
         "63.05",
         "84.99",
         "32.08",
         "43.02",
         "64.68",
         "57.78",
         "52.04",
         "45.68",
         "291.27",
         "37.67",
         "106.08",
         "15.07",
         "13.72",
         "100.82",
         "36.13",
         "116.1",
         "51.17",
         "38.11",
         "39.78",
         "48.89",
         "41.62",
         "35.76",
         "339.47",
         "51.23",
         "75.45",
         "35.96",
         "33.35",
         "32.25",
         "251.96",
         "324.49",
         "158.63",
         "57.53",
         "311.08",
         "214.18",
         "197.03",
         "237.29",
         "31.44",
         "158.84",
         "26.32",
         "82.08",
         "119.01",
         "151.66",
         "129.49"
        ]
       ],
       "shape": {
        "columns": 87,
        "rows": 5
       }
      },
      "text/html": [
       "<div>\n",
       "<style scoped>\n",
       "    .dataframe tbody tr th:only-of-type {\n",
       "        vertical-align: middle;\n",
       "    }\n",
       "\n",
       "    .dataframe tbody tr th {\n",
       "        vertical-align: top;\n",
       "    }\n",
       "\n",
       "    .dataframe thead th {\n",
       "        text-align: right;\n",
       "    }\n",
       "</style>\n",
       "<table border=\"1\" class=\"dataframe\">\n",
       "  <thead>\n",
       "    <tr style=\"text-align: right;\">\n",
       "      <th></th>\n",
       "      <th>ABFL</th>\n",
       "      <th>ADME</th>\n",
       "      <th>AIQ</th>\n",
       "      <th>BAPR</th>\n",
       "      <th>BBUS</th>\n",
       "      <th>BJAN</th>\n",
       "      <th>BJUL</th>\n",
       "      <th>BOCT</th>\n",
       "      <th>CIBR</th>\n",
       "      <th>CWS</th>\n",
       "      <th>...</th>\n",
       "      <th>VOOG</th>\n",
       "      <th>VOT</th>\n",
       "      <th>VUG</th>\n",
       "      <th>VUSE</th>\n",
       "      <th>VV</th>\n",
       "      <th>XLG</th>\n",
       "      <th>XLI</th>\n",
       "      <th>XLK</th>\n",
       "      <th>XLY</th>\n",
       "      <th>XNTK</th>\n",
       "    </tr>\n",
       "    <tr>\n",
       "      <th>Date</th>\n",
       "      <th></th>\n",
       "      <th></th>\n",
       "      <th></th>\n",
       "      <th></th>\n",
       "      <th></th>\n",
       "      <th></th>\n",
       "      <th></th>\n",
       "      <th></th>\n",
       "      <th></th>\n",
       "      <th></th>\n",
       "      <th></th>\n",
       "      <th></th>\n",
       "      <th></th>\n",
       "      <th></th>\n",
       "      <th></th>\n",
       "      <th></th>\n",
       "      <th></th>\n",
       "      <th></th>\n",
       "      <th></th>\n",
       "      <th></th>\n",
       "      <th></th>\n",
       "    </tr>\n",
       "  </thead>\n",
       "  <tbody>\n",
       "    <tr>\n",
       "      <th>2020-07-01</th>\n",
       "      <td>35.04</td>\n",
       "      <td>32.74</td>\n",
       "      <td>21.84</td>\n",
       "      <td>28.2216</td>\n",
       "      <td>55.55</td>\n",
       "      <td>29.543900</td>\n",
       "      <td>27.9200</td>\n",
       "      <td>26.838900</td>\n",
       "      <td>35.08</td>\n",
       "      <td>37.54</td>\n",
       "      <td>...</td>\n",
       "      <td>192.68</td>\n",
       "      <td>171.88</td>\n",
       "      <td>211.29</td>\n",
       "      <td>26.96</td>\n",
       "      <td>141.45</td>\n",
       "      <td>24.04</td>\n",
       "      <td>66.62</td>\n",
       "      <td>106.20</td>\n",
       "      <td>131.84</td>\n",
       "      <td>105.71</td>\n",
       "    </tr>\n",
       "    <tr>\n",
       "      <th>2020-08-01</th>\n",
       "      <td>37.42</td>\n",
       "      <td>34.35</td>\n",
       "      <td>23.79</td>\n",
       "      <td>28.7749</td>\n",
       "      <td>59.81</td>\n",
       "      <td>30.680000</td>\n",
       "      <td>28.8268</td>\n",
       "      <td>27.805000</td>\n",
       "      <td>35.70</td>\n",
       "      <td>39.04</td>\n",
       "      <td>...</td>\n",
       "      <td>210.89</td>\n",
       "      <td>177.28</td>\n",
       "      <td>232.61</td>\n",
       "      <td>28.39</td>\n",
       "      <td>152.24</td>\n",
       "      <td>26.36</td>\n",
       "      <td>72.27</td>\n",
       "      <td>118.81</td>\n",
       "      <td>144.44</td>\n",
       "      <td>122.05</td>\n",
       "    </tr>\n",
       "    <tr>\n",
       "      <th>2020-09-01</th>\n",
       "      <td>36.21</td>\n",
       "      <td>32.83</td>\n",
       "      <td>23.22</td>\n",
       "      <td>28.5677</td>\n",
       "      <td>57.46</td>\n",
       "      <td>30.160000</td>\n",
       "      <td>28.3400</td>\n",
       "      <td>27.887500</td>\n",
       "      <td>34.21</td>\n",
       "      <td>38.34</td>\n",
       "      <td>...</td>\n",
       "      <td>200.90</td>\n",
       "      <td>174.94</td>\n",
       "      <td>221.65</td>\n",
       "      <td>27.22</td>\n",
       "      <td>146.61</td>\n",
       "      <td>24.99</td>\n",
       "      <td>71.77</td>\n",
       "      <td>112.47</td>\n",
       "      <td>141.75</td>\n",
       "      <td>116.25</td>\n",
       "    </tr>\n",
       "    <tr>\n",
       "      <th>2020-10-01</th>\n",
       "      <td>35.30</td>\n",
       "      <td>32.25</td>\n",
       "      <td>22.83</td>\n",
       "      <td>28.3235</td>\n",
       "      <td>56.00</td>\n",
       "      <td>29.830000</td>\n",
       "      <td>27.8300</td>\n",
       "      <td>27.240000</td>\n",
       "      <td>32.74</td>\n",
       "      <td>37.59</td>\n",
       "      <td>...</td>\n",
       "      <td>194.98</td>\n",
       "      <td>173.60</td>\n",
       "      <td>214.99</td>\n",
       "      <td>27.13</td>\n",
       "      <td>142.95</td>\n",
       "      <td>24.10</td>\n",
       "      <td>70.74</td>\n",
       "      <td>106.84</td>\n",
       "      <td>137.88</td>\n",
       "      <td>112.49</td>\n",
       "    </tr>\n",
       "    <tr>\n",
       "      <th>2020-11-01</th>\n",
       "      <td>38.94</td>\n",
       "      <td>34.06</td>\n",
       "      <td>25.64</td>\n",
       "      <td>29.4795</td>\n",
       "      <td>62.53</td>\n",
       "      <td>31.889999</td>\n",
       "      <td>29.6600</td>\n",
       "      <td>29.389999</td>\n",
       "      <td>37.93</td>\n",
       "      <td>40.83</td>\n",
       "      <td>...</td>\n",
       "      <td>214.18</td>\n",
       "      <td>197.03</td>\n",
       "      <td>237.29</td>\n",
       "      <td>31.44</td>\n",
       "      <td>158.84</td>\n",
       "      <td>26.32</td>\n",
       "      <td>82.08</td>\n",
       "      <td>119.01</td>\n",
       "      <td>151.66</td>\n",
       "      <td>129.49</td>\n",
       "    </tr>\n",
       "  </tbody>\n",
       "</table>\n",
       "<p>5 rows × 87 columns</p>\n",
       "</div>"
      ],
      "text/plain": [
       "             ABFL   ADME    AIQ     BAPR   BBUS       BJAN     BJUL  \\\n",
       "Date                                                                  \n",
       "2020-07-01  35.04  32.74  21.84  28.2216  55.55  29.543900  27.9200   \n",
       "2020-08-01  37.42  34.35  23.79  28.7749  59.81  30.680000  28.8268   \n",
       "2020-09-01  36.21  32.83  23.22  28.5677  57.46  30.160000  28.3400   \n",
       "2020-10-01  35.30  32.25  22.83  28.3235  56.00  29.830000  27.8300   \n",
       "2020-11-01  38.94  34.06  25.64  29.4795  62.53  31.889999  29.6600   \n",
       "\n",
       "                 BOCT   CIBR    CWS  ...    VOOG     VOT     VUG   VUSE  \\\n",
       "Date                                 ...                                  \n",
       "2020-07-01  26.838900  35.08  37.54  ...  192.68  171.88  211.29  26.96   \n",
       "2020-08-01  27.805000  35.70  39.04  ...  210.89  177.28  232.61  28.39   \n",
       "2020-09-01  27.887500  34.21  38.34  ...  200.90  174.94  221.65  27.22   \n",
       "2020-10-01  27.240000  32.74  37.59  ...  194.98  173.60  214.99  27.13   \n",
       "2020-11-01  29.389999  37.93  40.83  ...  214.18  197.03  237.29  31.44   \n",
       "\n",
       "                VV    XLG    XLI     XLK     XLY    XNTK  \n",
       "Date                                                      \n",
       "2020-07-01  141.45  24.04  66.62  106.20  131.84  105.71  \n",
       "2020-08-01  152.24  26.36  72.27  118.81  144.44  122.05  \n",
       "2020-09-01  146.61  24.99  71.77  112.47  141.75  116.25  \n",
       "2020-10-01  142.95  24.10  70.74  106.84  137.88  112.49  \n",
       "2020-11-01  158.84  26.32  82.08  119.01  151.66  129.49  \n",
       "\n",
       "[5 rows x 87 columns]"
      ]
     },
     "execution_count": 10,
     "metadata": {},
     "output_type": "execute_result"
    }
   ],
   "source": [
    "# Load and filter historical benchmark price data\n",
    "benchmark_prices_daily_df = load_and_filter_data('data/daily_benchmark_quotes.csv', tickers, start_date, end_date)\n",
    "benchmark_prices_monthly_df = load_and_filter_data('data/monthly_benchmark_quotes.csv', tickers, start_date, end_date)\n",
    "\n",
    "# Display the first few rows\n",
    "benchmark_prices_monthly_df.head()"
   ]
  },
  {
   "cell_type": "markdown",
   "id": "0b6317cc",
   "metadata": {},
   "source": [
    "#### Portfolio Tickers"
   ]
  },
  {
   "cell_type": "code",
   "execution_count": 11,
   "id": "63739423",
   "metadata": {
    "execution": {
     "iopub.execute_input": "2025-06-02T13:28:31.198685Z",
     "iopub.status.busy": "2025-06-02T13:28:31.198402Z",
     "iopub.status.idle": "2025-06-02T13:28:31.232652Z",
     "shell.execute_reply": "2025-06-02T13:28:31.231755Z"
    }
   },
   "outputs": [
    {
     "name": "stdout",
     "output_type": "stream",
     "text": [
      "Found 2 of 2 tickers in data/monthly_stock_quotes.csv\n",
      "Missing tickers: []\n"
     ]
    },
    {
     "data": {
      "application/vnd.microsoft.datawrangler.viewer.v0+json": {
       "columns": [
        {
         "name": "Date",
         "rawType": "datetime64[ns]",
         "type": "datetime"
        },
        {
         "name": "GRMN",
         "rawType": "float64",
         "type": "float"
        },
        {
         "name": "MSFT",
         "rawType": "float64",
         "type": "float"
        }
       ],
       "ref": "e55123bd-1bcc-49b0-9f82-3beefb3a255b",
       "rows": [
        [
         "2020-07-01 00:00:00",
         "88.58",
         "196.42"
        ],
        [
         "2020-08-01 00:00:00",
         "93.09",
         "216.6"
        ],
        [
         "2020-09-01 00:00:00",
         "85.75",
         "202.0"
        ],
        [
         "2020-10-01 00:00:00",
         "94.03",
         "194.45"
        ],
        [
         "2020-11-01 00:00:00",
         "105.54",
         "206.13"
        ]
       ],
       "shape": {
        "columns": 2,
        "rows": 5
       }
      },
      "text/html": [
       "<div>\n",
       "<style scoped>\n",
       "    .dataframe tbody tr th:only-of-type {\n",
       "        vertical-align: middle;\n",
       "    }\n",
       "\n",
       "    .dataframe tbody tr th {\n",
       "        vertical-align: top;\n",
       "    }\n",
       "\n",
       "    .dataframe thead th {\n",
       "        text-align: right;\n",
       "    }\n",
       "</style>\n",
       "<table border=\"1\" class=\"dataframe\">\n",
       "  <thead>\n",
       "    <tr style=\"text-align: right;\">\n",
       "      <th></th>\n",
       "      <th>GRMN</th>\n",
       "      <th>MSFT</th>\n",
       "    </tr>\n",
       "    <tr>\n",
       "      <th>Date</th>\n",
       "      <th></th>\n",
       "      <th></th>\n",
       "    </tr>\n",
       "  </thead>\n",
       "  <tbody>\n",
       "    <tr>\n",
       "      <th>2020-07-01</th>\n",
       "      <td>88.58</td>\n",
       "      <td>196.42</td>\n",
       "    </tr>\n",
       "    <tr>\n",
       "      <th>2020-08-01</th>\n",
       "      <td>93.09</td>\n",
       "      <td>216.60</td>\n",
       "    </tr>\n",
       "    <tr>\n",
       "      <th>2020-09-01</th>\n",
       "      <td>85.75</td>\n",
       "      <td>202.00</td>\n",
       "    </tr>\n",
       "    <tr>\n",
       "      <th>2020-10-01</th>\n",
       "      <td>94.03</td>\n",
       "      <td>194.45</td>\n",
       "    </tr>\n",
       "    <tr>\n",
       "      <th>2020-11-01</th>\n",
       "      <td>105.54</td>\n",
       "      <td>206.13</td>\n",
       "    </tr>\n",
       "  </tbody>\n",
       "</table>\n",
       "</div>"
      ],
      "text/plain": [
       "              GRMN    MSFT\n",
       "Date                      \n",
       "2020-07-01   88.58  196.42\n",
       "2020-08-01   93.09  216.60\n",
       "2020-09-01   85.75  202.00\n",
       "2020-10-01   94.03  194.45\n",
       "2020-11-01  105.54  206.13"
      ]
     },
     "execution_count": 11,
     "metadata": {},
     "output_type": "execute_result"
    }
   ],
   "source": [
    "# Load and filter historical benchmark price data\n",
    "stock_prices_monthly_df = load_and_filter_data('data/monthly_stock_quotes.csv', portfolio_tickers, start_date, end_date)\n",
    "\n",
    "# Display the first few rows\n",
    "stock_prices_monthly_df.head()"
   ]
  },
  {
   "cell_type": "markdown",
   "id": "ff74a589",
   "metadata": {},
   "source": [
    "### Step 7: Prepare Data (Drop Invalid Tickers)"
   ]
  },
  {
   "cell_type": "markdown",
   "id": "bc19d94e",
   "metadata": {},
   "source": [
    "#### Daily Quotes"
   ]
  },
  {
   "cell_type": "code",
   "execution_count": 12,
   "id": "4fd1c0fd",
   "metadata": {
    "execution": {
     "iopub.execute_input": "2025-06-02T13:28:31.236531Z",
     "iopub.status.busy": "2025-06-02T13:28:31.236211Z",
     "iopub.status.idle": "2025-06-02T13:28:31.261664Z",
     "shell.execute_reply": "2025-06-02T13:28:31.260652Z"
    }
   },
   "outputs": [
    {
     "name": "stdout",
     "output_type": "stream",
     "text": [
      "Dropping 0 columns with missing values in first/last 50 records: []\n"
     ]
    },
    {
     "data": {
      "application/vnd.microsoft.datawrangler.viewer.v0+json": {
       "columns": [
        {
         "name": "Date",
         "rawType": "datetime64[ns]",
         "type": "datetime"
        },
        {
         "name": "ABFL",
         "rawType": "float64",
         "type": "float"
        },
        {
         "name": "ADME",
         "rawType": "float64",
         "type": "float"
        },
        {
         "name": "AIQ",
         "rawType": "float64",
         "type": "float"
        },
        {
         "name": "BAPR",
         "rawType": "float64",
         "type": "float"
        },
        {
         "name": "BBUS",
         "rawType": "float64",
         "type": "float"
        },
        {
         "name": "BJAN",
         "rawType": "float64",
         "type": "float"
        },
        {
         "name": "BJUL",
         "rawType": "float64",
         "type": "float"
        },
        {
         "name": "BOCT",
         "rawType": "float64",
         "type": "float"
        },
        {
         "name": "CIBR",
         "rawType": "float64",
         "type": "float"
        },
        {
         "name": "CWS",
         "rawType": "float64",
         "type": "float"
        },
        {
         "name": "DSI",
         "rawType": "float64",
         "type": "float"
        },
        {
         "name": "ESPO",
         "rawType": "float64",
         "type": "float"
        },
        {
         "name": "FAD",
         "rawType": "float64",
         "type": "float"
        },
        {
         "name": "FDIS",
         "rawType": "float64",
         "type": "float"
        },
        {
         "name": "FIDU",
         "rawType": "float64",
         "type": "float"
        },
        {
         "name": "FTEC",
         "rawType": "float64",
         "type": "float"
        },
        {
         "name": "GRID",
         "rawType": "float64",
         "type": "float"
        },
        {
         "name": "GVIP",
         "rawType": "float64",
         "type": "float"
        },
        {
         "name": "HTUS",
         "rawType": "float64",
         "type": "float"
        },
        {
         "name": "IGM",
         "rawType": "float64",
         "type": "float"
        },
        {
         "name": "ILCG",
         "rawType": "float64",
         "type": "float"
        },
        {
         "name": "IMCG",
         "rawType": "float64",
         "type": "float"
        },
        {
         "name": "INCO",
         "rawType": "float64",
         "type": "float"
        },
        {
         "name": "IUSG",
         "rawType": "float64",
         "type": "float"
        },
        {
         "name": "IVV",
         "rawType": "float64",
         "type": "float"
        },
        {
         "name": "IVW",
         "rawType": "float64",
         "type": "float"
        },
        {
         "name": "IWB",
         "rawType": "float64",
         "type": "float"
        },
        {
         "name": "IWF",
         "rawType": "float64",
         "type": "float"
        },
        {
         "name": "IWL",
         "rawType": "float64",
         "type": "float"
        },
        {
         "name": "IWP",
         "rawType": "float64",
         "type": "float"
        },
        {
         "name": "IWY",
         "rawType": "float64",
         "type": "float"
        },
        {
         "name": "IXN",
         "rawType": "float64",
         "type": "float"
        },
        {
         "name": "IYW",
         "rawType": "float64",
         "type": "float"
        },
        {
         "name": "JMOM",
         "rawType": "float64",
         "type": "float"
        },
        {
         "name": "MGC",
         "rawType": "float64",
         "type": "float"
        },
        {
         "name": "MMTM",
         "rawType": "float64",
         "type": "float"
        },
        {
         "name": "MTUM",
         "rawType": "float64",
         "type": "float"
        },
        {
         "name": "NULG",
         "rawType": "float64",
         "type": "float"
        },
        {
         "name": "OEF",
         "rawType": "float64",
         "type": "float"
        },
        {
         "name": "ONEQ",
         "rawType": "float64",
         "type": "float"
        },
        {
         "name": "PBUS",
         "rawType": "float64",
         "type": "float"
        },
        {
         "name": "PHO",
         "rawType": "float64",
         "type": "float"
        },
        {
         "name": "PJUL",
         "rawType": "float64",
         "type": "float"
        },
        {
         "name": "POCT",
         "rawType": "float64",
         "type": "float"
        },
        {
         "name": "PPA",
         "rawType": "float64",
         "type": "float"
        },
        {
         "name": "PRN",
         "rawType": "float64",
         "type": "float"
        },
        {
         "name": "PSI",
         "rawType": "float64",
         "type": "float"
        },
        {
         "name": "PTF",
         "rawType": "float64",
         "type": "float"
        },
        {
         "name": "PWB",
         "rawType": "float64",
         "type": "float"
        },
        {
         "name": "QGRO",
         "rawType": "float64",
         "type": "float"
        },
        {
         "name": "QLD",
         "rawType": "float64",
         "type": "float"
        },
        {
         "name": "QMOM",
         "rawType": "float64",
         "type": "float"
        },
        {
         "name": "QQQ",
         "rawType": "float64",
         "type": "float"
        },
        {
         "name": "QTUM",
         "rawType": "float64",
         "type": "float"
        },
        {
         "name": "QUAL",
         "rawType": "float64",
         "type": "float"
        },
        {
         "name": "SCHG",
         "rawType": "float64",
         "type": "float"
        },
        {
         "name": "SCHX",
         "rawType": "float64",
         "type": "float"
        },
        {
         "name": "SMH",
         "rawType": "float64",
         "type": "float"
        },
        {
         "name": "SMIN",
         "rawType": "float64",
         "type": "float"
        },
        {
         "name": "SOXX",
         "rawType": "float64",
         "type": "float"
        },
        {
         "name": "SPHB",
         "rawType": "float64",
         "type": "float"
        },
        {
         "name": "SPHQ",
         "rawType": "float64",
         "type": "float"
        },
        {
         "name": "SPLG",
         "rawType": "float64",
         "type": "float"
        },
        {
         "name": "SPMO",
         "rawType": "float64",
         "type": "float"
        },
        {
         "name": "SPTM",
         "rawType": "float64",
         "type": "float"
        },
        {
         "name": "SPXV",
         "rawType": "float64",
         "type": "float"
        },
        {
         "name": "SPY",
         "rawType": "float64",
         "type": "float"
        },
        {
         "name": "SPYG",
         "rawType": "float64",
         "type": "float"
        },
        {
         "name": "SUSA",
         "rawType": "float64",
         "type": "float"
        },
        {
         "name": "TBLU",
         "rawType": "float64",
         "type": "float"
        },
        {
         "name": "TMFC",
         "rawType": "float64",
         "type": "float"
        },
        {
         "name": "USMC",
         "rawType": "float64",
         "type": "float"
        },
        {
         "name": "VCR",
         "rawType": "float64",
         "type": "float"
        },
        {
         "name": "VGT",
         "rawType": "float64",
         "type": "float"
        },
        {
         "name": "VONE",
         "rawType": "float64",
         "type": "float"
        },
        {
         "name": "VONG",
         "rawType": "float64",
         "type": "float"
        },
        {
         "name": "VOO",
         "rawType": "float64",
         "type": "float"
        },
        {
         "name": "VOOG",
         "rawType": "float64",
         "type": "float"
        },
        {
         "name": "VOT",
         "rawType": "float64",
         "type": "float"
        },
        {
         "name": "VUG",
         "rawType": "float64",
         "type": "float"
        },
        {
         "name": "VUSE",
         "rawType": "float64",
         "type": "float"
        },
        {
         "name": "VV",
         "rawType": "float64",
         "type": "float"
        },
        {
         "name": "XLG",
         "rawType": "float64",
         "type": "float"
        },
        {
         "name": "XLI",
         "rawType": "float64",
         "type": "float"
        },
        {
         "name": "XLK",
         "rawType": "float64",
         "type": "float"
        },
        {
         "name": "XLY",
         "rawType": "float64",
         "type": "float"
        },
        {
         "name": "XNTK",
         "rawType": "float64",
         "type": "float"
        }
       ],
       "ref": "cda485b7-ccca-484b-9d5c-4445a4127cdd",
       "rows": [
        [
         "2020-06-05 00:00:00",
         "33.52",
         "31.31",
         "19.91",
         "28.0298",
         "53.92",
         "29.19",
         "27.719999",
         "26.2656",
         "32.35",
         "36.47",
         "57.02",
         "45.65",
         "76.24",
         "49.98",
         "36.27",
         "76.98",
         "54.54",
         "66.02",
         "19.55",
         "44.71",
         "45.63",
         "46.92",
         "29.61",
         "68.87",
         "297.4",
         "49.87",
         "165.75",
         "184.21",
         "70.98",
         "78.54",
         "101.68",
         "37.15",
         "63.77",
         "29.91",
         "104.68",
         "126.44",
         "119.76",
         "41.62",
         "136.01",
         "36.81",
         "29.62",
         "38.03",
         "27.142",
         "25.41",
         "60.46",
         "69.53",
         "24.41",
         "29.91",
         "53.02",
         "47.26",
         "34.51",
         "32.87",
         "232.27",
         "29.5",
         "94.05",
         "12.31",
         "11.84",
         "73.8",
         "26.24",
         "86.85",
         "43.84",
         "34.0",
         "34.78",
         "41.2",
         "36.38",
         "30.98",
         "296.91",
         "42.9",
         "64.01",
         "30.29",
         "27.16",
         "28.5",
         "192.53",
         "260.43",
         "136.4",
         "47.12",
         "272.0",
         "179.13",
         "162.88",
         "193.8",
         "27.93",
         "137.14",
         "22.7",
         "69.15",
         "97.25",
         "126.02",
         "92.84"
        ],
        [
         "2020-06-08 00:00:00",
         "33.61",
         "31.58",
         "20.03",
         "28.01",
         "54.58",
         "29.261",
         "27.925",
         "26.4998",
         "32.82",
         "36.77",
         "57.64",
         "45.56",
         "76.95",
         "50.78",
         "36.9",
         "77.47",
         "54.83",
         "66.67",
         "19.7",
         "45.04",
         "45.85",
         "47.4",
         "29.69",
         "69.33",
         "301.04",
         "50.23",
         "168.03",
         "185.79",
         "71.82",
         "79.26",
         "102.64",
         "37.31",
         "64.32",
         "30.18",
         "105.92",
         "126.91",
         "120.71",
         "41.83",
         "137.57",
         "37.27",
         "30.04",
         "38.0",
         "27.27",
         "25.52",
         "61.97",
         "69.22",
         "24.17",
         "30.09",
         "53.36",
         "47.53",
         "35.08",
         "32.8",
         "234.07",
         "29.78",
         "94.9",
         "12.43",
         "11.99",
         "73.57",
         "26.44",
         "86.67",
         "46.35",
         "34.18",
         "35.23",
         "41.53",
         "36.86",
         "31.39",
         "300.5",
         "43.2",
         "64.72",
         "30.56",
         "27.29",
         "28.7",
         "196.08",
         "262.03",
         "138.39",
         "47.58",
         "275.3",
         "180.36",
         "164.41",
         "195.43",
         "28.47",
         "138.92",
         "22.91",
         "70.54",
         "97.74",
         "127.94",
         "93.66"
        ],
        [
         "2020-06-09 00:00:00",
         "33.49",
         "31.52",
         "20.04",
         "27.9505",
         "54.24",
         "29.1316",
         "27.8786",
         "26.3661",
         "32.56",
         "36.25",
         "57.18",
         "45.85",
         "76.45",
         "50.64",
         "36.04",
         "77.66",
         "53.44",
         "66.36",
         "20.21",
         "45.25",
         "45.86",
         "46.87",
         "29.53",
         "69.36",
         "298.82",
         "50.29",
         "166.45",
         "185.97",
         "71.56",
         "78.29",
         "102.99",
         "37.45",
         "64.66",
         "29.98",
         "105.32",
         "127.47",
         "121.18",
         "41.66",
         "137.2",
         "37.42",
         "29.85",
         "37.38",
         "27.07",
         "25.379999",
         "60.3",
         "68.65",
         "24.28",
         "30.16",
         "53.33",
         "47.34",
         "35.56",
         "32.92",
         "235.77",
         "29.72",
         "93.96",
         "12.42",
         "11.9",
         "73.71",
         "25.85",
         "86.73",
         "44.34",
         "33.93",
         "34.96",
         "41.52",
         "36.51",
         "31.21",
         "298.26",
         "43.24",
         "64.12",
         "30.04",
         "27.43",
         "28.64",
         "194.16",
         "262.61",
         "137.32",
         "47.61",
         "273.34",
         "180.54",
         "162.29",
         "195.79",
         "27.78",
         "137.93",
         "22.92",
         "68.78",
         "98.2",
         "126.94",
         "94.01"
        ],
        [
         "2020-06-10 00:00:00",
         "33.56",
         "31.62",
         "20.34",
         "27.8728",
         "54.02",
         "28.98",
         "27.767",
         "26.18",
         "32.67",
         "35.64",
         "57.0",
         "46.83",
         "76.39",
         "50.49",
         "35.14",
         "78.79",
         "53.25",
         "66.5",
         "19.87",
         "45.74",
         "46.22",
         "47.0",
         "29.12",
         "69.68",
         "297.06",
         "50.55",
         "165.44",
         "187.02",
         "71.42",
         "78.03",
         "103.82",
         "37.99",
         "65.64",
         "29.99",
         "105.02",
         "128.43",
         "122.97",
         "42.02",
         "137.02",
         "37.63",
         "29.83",
         "36.88",
         "27.084999",
         "25.360001",
         "58.82",
         "68.4",
         "24.25",
         "30.86",
         "53.93",
         "47.8",
         "36.44",
         "33.36",
         "238.6",
         "29.7",
         "93.4",
         "12.5",
         "11.83",
         "74.09",
         "26.27",
         "87.04",
         "41.9",
         "33.81",
         "34.76",
         "41.92",
         "36.24",
         "31.07",
         "296.6",
         "43.47",
         "63.98",
         "29.89",
         "27.76",
         "28.65",
         "192.67",
         "266.52",
         "136.55",
         "47.89",
         "271.64",
         "181.55",
         "161.59",
         "197.1",
         "27.01",
         "137.14",
         "23.0",
         "67.14",
         "99.84",
         "125.75",
         "95.54"
        ],
        [
         "2020-06-11 00:00:00",
         "31.79",
         "30.46",
         "19.23",
         "26.988001",
         "50.81",
         "27.7428",
         "26.53",
         "25.2288",
         "30.97",
         "33.71",
         "53.74",
         "45.36",
         "72.04",
         "47.9",
         "32.68",
         "74.26",
         "49.75",
         "62.54",
         "19.04",
         "43.23",
         "43.71",
         "44.49",
         "27.56",
         "65.88",
         "279.87",
         "47.86",
         "155.78",
         "176.86",
         "67.25",
         "73.81",
         "98.21",
         "35.85",
         "61.93",
         "28.41",
         "98.95",
         "121.64",
         "117.25",
         "39.82",
         "129.47",
         "35.68",
         "27.95",
         "34.71",
         "26.34",
         "24.76",
         "54.35",
         "64.56",
         "22.45",
         "29.39",
         "51.26",
         "45.26",
         "32.84",
         "31.91",
         "226.77",
         "27.81",
         "87.86",
         "11.82",
         "11.15",
         "69.54",
         "24.32",
         "81.51",
         "37.6",
         "31.92",
         "32.74",
         "39.69",
         "34.11",
         "29.21",
         "279.5",
         "41.17",
         "60.41",
         "27.95",
         "26.31",
         "27.2",
         "181.61",
         "251.34",
         "128.31",
         "45.28",
         "255.98",
         "171.84",
         "152.2",
         "186.68",
         "25.05",
         "129.18",
         "21.71",
         "62.42",
         "94.12",
         "119.16",
         "90.2"
        ]
       ],
       "shape": {
        "columns": 87,
        "rows": 5
       }
      },
      "text/html": [
       "<div>\n",
       "<style scoped>\n",
       "    .dataframe tbody tr th:only-of-type {\n",
       "        vertical-align: middle;\n",
       "    }\n",
       "\n",
       "    .dataframe tbody tr th {\n",
       "        vertical-align: top;\n",
       "    }\n",
       "\n",
       "    .dataframe thead th {\n",
       "        text-align: right;\n",
       "    }\n",
       "</style>\n",
       "<table border=\"1\" class=\"dataframe\">\n",
       "  <thead>\n",
       "    <tr style=\"text-align: right;\">\n",
       "      <th></th>\n",
       "      <th>ABFL</th>\n",
       "      <th>ADME</th>\n",
       "      <th>AIQ</th>\n",
       "      <th>BAPR</th>\n",
       "      <th>BBUS</th>\n",
       "      <th>BJAN</th>\n",
       "      <th>BJUL</th>\n",
       "      <th>BOCT</th>\n",
       "      <th>CIBR</th>\n",
       "      <th>CWS</th>\n",
       "      <th>...</th>\n",
       "      <th>VOOG</th>\n",
       "      <th>VOT</th>\n",
       "      <th>VUG</th>\n",
       "      <th>VUSE</th>\n",
       "      <th>VV</th>\n",
       "      <th>XLG</th>\n",
       "      <th>XLI</th>\n",
       "      <th>XLK</th>\n",
       "      <th>XLY</th>\n",
       "      <th>XNTK</th>\n",
       "    </tr>\n",
       "    <tr>\n",
       "      <th>Date</th>\n",
       "      <th></th>\n",
       "      <th></th>\n",
       "      <th></th>\n",
       "      <th></th>\n",
       "      <th></th>\n",
       "      <th></th>\n",
       "      <th></th>\n",
       "      <th></th>\n",
       "      <th></th>\n",
       "      <th></th>\n",
       "      <th></th>\n",
       "      <th></th>\n",
       "      <th></th>\n",
       "      <th></th>\n",
       "      <th></th>\n",
       "      <th></th>\n",
       "      <th></th>\n",
       "      <th></th>\n",
       "      <th></th>\n",
       "      <th></th>\n",
       "      <th></th>\n",
       "    </tr>\n",
       "  </thead>\n",
       "  <tbody>\n",
       "    <tr>\n",
       "      <th>2020-06-05</th>\n",
       "      <td>33.52</td>\n",
       "      <td>31.31</td>\n",
       "      <td>19.91</td>\n",
       "      <td>28.029800</td>\n",
       "      <td>53.92</td>\n",
       "      <td>29.1900</td>\n",
       "      <td>27.719999</td>\n",
       "      <td>26.2656</td>\n",
       "      <td>32.35</td>\n",
       "      <td>36.47</td>\n",
       "      <td>...</td>\n",
       "      <td>179.13</td>\n",
       "      <td>162.88</td>\n",
       "      <td>193.80</td>\n",
       "      <td>27.93</td>\n",
       "      <td>137.14</td>\n",
       "      <td>22.70</td>\n",
       "      <td>69.15</td>\n",
       "      <td>97.25</td>\n",
       "      <td>126.02</td>\n",
       "      <td>92.84</td>\n",
       "    </tr>\n",
       "    <tr>\n",
       "      <th>2020-06-08</th>\n",
       "      <td>33.61</td>\n",
       "      <td>31.58</td>\n",
       "      <td>20.03</td>\n",
       "      <td>28.010000</td>\n",
       "      <td>54.58</td>\n",
       "      <td>29.2610</td>\n",
       "      <td>27.925000</td>\n",
       "      <td>26.4998</td>\n",
       "      <td>32.82</td>\n",
       "      <td>36.77</td>\n",
       "      <td>...</td>\n",
       "      <td>180.36</td>\n",
       "      <td>164.41</td>\n",
       "      <td>195.43</td>\n",
       "      <td>28.47</td>\n",
       "      <td>138.92</td>\n",
       "      <td>22.91</td>\n",
       "      <td>70.54</td>\n",
       "      <td>97.74</td>\n",
       "      <td>127.94</td>\n",
       "      <td>93.66</td>\n",
       "    </tr>\n",
       "    <tr>\n",
       "      <th>2020-06-09</th>\n",
       "      <td>33.49</td>\n",
       "      <td>31.52</td>\n",
       "      <td>20.04</td>\n",
       "      <td>27.950500</td>\n",
       "      <td>54.24</td>\n",
       "      <td>29.1316</td>\n",
       "      <td>27.878600</td>\n",
       "      <td>26.3661</td>\n",
       "      <td>32.56</td>\n",
       "      <td>36.25</td>\n",
       "      <td>...</td>\n",
       "      <td>180.54</td>\n",
       "      <td>162.29</td>\n",
       "      <td>195.79</td>\n",
       "      <td>27.78</td>\n",
       "      <td>137.93</td>\n",
       "      <td>22.92</td>\n",
       "      <td>68.78</td>\n",
       "      <td>98.20</td>\n",
       "      <td>126.94</td>\n",
       "      <td>94.01</td>\n",
       "    </tr>\n",
       "    <tr>\n",
       "      <th>2020-06-10</th>\n",
       "      <td>33.56</td>\n",
       "      <td>31.62</td>\n",
       "      <td>20.34</td>\n",
       "      <td>27.872800</td>\n",
       "      <td>54.02</td>\n",
       "      <td>28.9800</td>\n",
       "      <td>27.767000</td>\n",
       "      <td>26.1800</td>\n",
       "      <td>32.67</td>\n",
       "      <td>35.64</td>\n",
       "      <td>...</td>\n",
       "      <td>181.55</td>\n",
       "      <td>161.59</td>\n",
       "      <td>197.10</td>\n",
       "      <td>27.01</td>\n",
       "      <td>137.14</td>\n",
       "      <td>23.00</td>\n",
       "      <td>67.14</td>\n",
       "      <td>99.84</td>\n",
       "      <td>125.75</td>\n",
       "      <td>95.54</td>\n",
       "    </tr>\n",
       "    <tr>\n",
       "      <th>2020-06-11</th>\n",
       "      <td>31.79</td>\n",
       "      <td>30.46</td>\n",
       "      <td>19.23</td>\n",
       "      <td>26.988001</td>\n",
       "      <td>50.81</td>\n",
       "      <td>27.7428</td>\n",
       "      <td>26.530000</td>\n",
       "      <td>25.2288</td>\n",
       "      <td>30.97</td>\n",
       "      <td>33.71</td>\n",
       "      <td>...</td>\n",
       "      <td>171.84</td>\n",
       "      <td>152.20</td>\n",
       "      <td>186.68</td>\n",
       "      <td>25.05</td>\n",
       "      <td>129.18</td>\n",
       "      <td>21.71</td>\n",
       "      <td>62.42</td>\n",
       "      <td>94.12</td>\n",
       "      <td>119.16</td>\n",
       "      <td>90.20</td>\n",
       "    </tr>\n",
       "  </tbody>\n",
       "</table>\n",
       "<p>5 rows × 87 columns</p>\n",
       "</div>"
      ],
      "text/plain": [
       "             ABFL   ADME    AIQ       BAPR   BBUS     BJAN       BJUL  \\\n",
       "Date                                                                    \n",
       "2020-06-05  33.52  31.31  19.91  28.029800  53.92  29.1900  27.719999   \n",
       "2020-06-08  33.61  31.58  20.03  28.010000  54.58  29.2610  27.925000   \n",
       "2020-06-09  33.49  31.52  20.04  27.950500  54.24  29.1316  27.878600   \n",
       "2020-06-10  33.56  31.62  20.34  27.872800  54.02  28.9800  27.767000   \n",
       "2020-06-11  31.79  30.46  19.23  26.988001  50.81  27.7428  26.530000   \n",
       "\n",
       "               BOCT   CIBR    CWS  ...    VOOG     VOT     VUG   VUSE      VV  \\\n",
       "Date                               ...                                          \n",
       "2020-06-05  26.2656  32.35  36.47  ...  179.13  162.88  193.80  27.93  137.14   \n",
       "2020-06-08  26.4998  32.82  36.77  ...  180.36  164.41  195.43  28.47  138.92   \n",
       "2020-06-09  26.3661  32.56  36.25  ...  180.54  162.29  195.79  27.78  137.93   \n",
       "2020-06-10  26.1800  32.67  35.64  ...  181.55  161.59  197.10  27.01  137.14   \n",
       "2020-06-11  25.2288  30.97  33.71  ...  171.84  152.20  186.68  25.05  129.18   \n",
       "\n",
       "              XLG    XLI    XLK     XLY   XNTK  \n",
       "Date                                            \n",
       "2020-06-05  22.70  69.15  97.25  126.02  92.84  \n",
       "2020-06-08  22.91  70.54  97.74  127.94  93.66  \n",
       "2020-06-09  22.92  68.78  98.20  126.94  94.01  \n",
       "2020-06-10  23.00  67.14  99.84  125.75  95.54  \n",
       "2020-06-11  21.71  62.42  94.12  119.16  90.20  \n",
       "\n",
       "[5 rows x 87 columns]"
      ]
     },
     "execution_count": 12,
     "metadata": {},
     "output_type": "execute_result"
    }
   ],
   "source": [
    "# Identify columns with null values in first or last 50 rows\n",
    "first_50_nulls = benchmark_prices_daily_df.head(50).isnull().any()\n",
    "last_50_nulls = benchmark_prices_daily_df.tail(50).isnull().any()\n",
    "\n",
    "# Columns to drop are those with nulls in first 50 OR last 50 rows\n",
    "columns_to_drop = first_50_nulls | last_50_nulls\n",
    "bad_columns = columns_to_drop[columns_to_drop].index.tolist()\n",
    "\n",
    "print(f\"Dropping {len(bad_columns)} columns with missing values in first/last 50 records: {bad_columns}\")\n",
    "\n",
    "# Drop those columns\n",
    "benchmark_prices_daily_df = benchmark_prices_daily_df.loc[:, ~columns_to_drop]\n",
    "\n",
    "# Display the first few rows of the cleaned dataframe\n",
    "benchmark_prices_daily_df.head()"
   ]
  },
  {
   "cell_type": "markdown",
   "id": "66c53499",
   "metadata": {},
   "source": [
    "#### Monthly Quotes"
   ]
  },
  {
   "cell_type": "code",
   "execution_count": 13,
   "id": "f67e5873",
   "metadata": {
    "execution": {
     "iopub.execute_input": "2025-06-02T13:28:31.265319Z",
     "iopub.status.busy": "2025-06-02T13:28:31.264968Z",
     "iopub.status.idle": "2025-06-02T13:28:31.289915Z",
     "shell.execute_reply": "2025-06-02T13:28:31.289100Z"
    }
   },
   "outputs": [
    {
     "data": {
      "application/vnd.microsoft.datawrangler.viewer.v0+json": {
       "columns": [
        {
         "name": "Date",
         "rawType": "datetime64[ns]",
         "type": "datetime"
        },
        {
         "name": "ABFL",
         "rawType": "float64",
         "type": "float"
        },
        {
         "name": "ADME",
         "rawType": "float64",
         "type": "float"
        },
        {
         "name": "AIQ",
         "rawType": "float64",
         "type": "float"
        },
        {
         "name": "BAPR",
         "rawType": "float64",
         "type": "float"
        },
        {
         "name": "BBUS",
         "rawType": "float64",
         "type": "float"
        },
        {
         "name": "BJAN",
         "rawType": "float64",
         "type": "float"
        },
        {
         "name": "BJUL",
         "rawType": "float64",
         "type": "float"
        },
        {
         "name": "BOCT",
         "rawType": "float64",
         "type": "float"
        },
        {
         "name": "CIBR",
         "rawType": "float64",
         "type": "float"
        },
        {
         "name": "CWS",
         "rawType": "float64",
         "type": "float"
        },
        {
         "name": "DSI",
         "rawType": "float64",
         "type": "float"
        },
        {
         "name": "ESPO",
         "rawType": "float64",
         "type": "float"
        },
        {
         "name": "FAD",
         "rawType": "float64",
         "type": "float"
        },
        {
         "name": "FDIS",
         "rawType": "float64",
         "type": "float"
        },
        {
         "name": "FIDU",
         "rawType": "float64",
         "type": "float"
        },
        {
         "name": "FTEC",
         "rawType": "float64",
         "type": "float"
        },
        {
         "name": "GRID",
         "rawType": "float64",
         "type": "float"
        },
        {
         "name": "GVIP",
         "rawType": "float64",
         "type": "float"
        },
        {
         "name": "HTUS",
         "rawType": "float64",
         "type": "float"
        },
        {
         "name": "IGM",
         "rawType": "float64",
         "type": "float"
        },
        {
         "name": "ILCG",
         "rawType": "float64",
         "type": "float"
        },
        {
         "name": "IMCG",
         "rawType": "float64",
         "type": "float"
        },
        {
         "name": "INCO",
         "rawType": "float64",
         "type": "float"
        },
        {
         "name": "IUSG",
         "rawType": "float64",
         "type": "float"
        },
        {
         "name": "IVV",
         "rawType": "float64",
         "type": "float"
        },
        {
         "name": "IVW",
         "rawType": "float64",
         "type": "float"
        },
        {
         "name": "IWB",
         "rawType": "float64",
         "type": "float"
        },
        {
         "name": "IWF",
         "rawType": "float64",
         "type": "float"
        },
        {
         "name": "IWL",
         "rawType": "float64",
         "type": "float"
        },
        {
         "name": "IWP",
         "rawType": "float64",
         "type": "float"
        },
        {
         "name": "IWY",
         "rawType": "float64",
         "type": "float"
        },
        {
         "name": "IXN",
         "rawType": "float64",
         "type": "float"
        },
        {
         "name": "IYW",
         "rawType": "float64",
         "type": "float"
        },
        {
         "name": "JMOM",
         "rawType": "float64",
         "type": "float"
        },
        {
         "name": "MGC",
         "rawType": "float64",
         "type": "float"
        },
        {
         "name": "MMTM",
         "rawType": "float64",
         "type": "float"
        },
        {
         "name": "MTUM",
         "rawType": "float64",
         "type": "float"
        },
        {
         "name": "NULG",
         "rawType": "float64",
         "type": "float"
        },
        {
         "name": "OEF",
         "rawType": "float64",
         "type": "float"
        },
        {
         "name": "ONEQ",
         "rawType": "float64",
         "type": "float"
        },
        {
         "name": "PBUS",
         "rawType": "float64",
         "type": "float"
        },
        {
         "name": "PHO",
         "rawType": "float64",
         "type": "float"
        },
        {
         "name": "PJUL",
         "rawType": "float64",
         "type": "float"
        },
        {
         "name": "POCT",
         "rawType": "float64",
         "type": "float"
        },
        {
         "name": "PPA",
         "rawType": "float64",
         "type": "float"
        },
        {
         "name": "PRN",
         "rawType": "float64",
         "type": "float"
        },
        {
         "name": "PSI",
         "rawType": "float64",
         "type": "float"
        },
        {
         "name": "PTF",
         "rawType": "float64",
         "type": "float"
        },
        {
         "name": "PWB",
         "rawType": "float64",
         "type": "float"
        },
        {
         "name": "QGRO",
         "rawType": "float64",
         "type": "float"
        },
        {
         "name": "QLD",
         "rawType": "float64",
         "type": "float"
        },
        {
         "name": "QMOM",
         "rawType": "float64",
         "type": "float"
        },
        {
         "name": "QQQ",
         "rawType": "float64",
         "type": "float"
        },
        {
         "name": "QTUM",
         "rawType": "float64",
         "type": "float"
        },
        {
         "name": "QUAL",
         "rawType": "float64",
         "type": "float"
        },
        {
         "name": "SCHG",
         "rawType": "float64",
         "type": "float"
        },
        {
         "name": "SCHX",
         "rawType": "float64",
         "type": "float"
        },
        {
         "name": "SMH",
         "rawType": "float64",
         "type": "float"
        },
        {
         "name": "SMIN",
         "rawType": "float64",
         "type": "float"
        },
        {
         "name": "SOXX",
         "rawType": "float64",
         "type": "float"
        },
        {
         "name": "SPHB",
         "rawType": "float64",
         "type": "float"
        },
        {
         "name": "SPHQ",
         "rawType": "float64",
         "type": "float"
        },
        {
         "name": "SPLG",
         "rawType": "float64",
         "type": "float"
        },
        {
         "name": "SPMO",
         "rawType": "float64",
         "type": "float"
        },
        {
         "name": "SPTM",
         "rawType": "float64",
         "type": "float"
        },
        {
         "name": "SPXV",
         "rawType": "float64",
         "type": "float"
        },
        {
         "name": "SPY",
         "rawType": "float64",
         "type": "float"
        },
        {
         "name": "SPYG",
         "rawType": "float64",
         "type": "float"
        },
        {
         "name": "SUSA",
         "rawType": "float64",
         "type": "float"
        },
        {
         "name": "TBLU",
         "rawType": "float64",
         "type": "float"
        },
        {
         "name": "TMFC",
         "rawType": "float64",
         "type": "float"
        },
        {
         "name": "USMC",
         "rawType": "float64",
         "type": "float"
        },
        {
         "name": "VCR",
         "rawType": "float64",
         "type": "float"
        },
        {
         "name": "VGT",
         "rawType": "float64",
         "type": "float"
        },
        {
         "name": "VONE",
         "rawType": "float64",
         "type": "float"
        },
        {
         "name": "VONG",
         "rawType": "float64",
         "type": "float"
        },
        {
         "name": "VOO",
         "rawType": "float64",
         "type": "float"
        },
        {
         "name": "VOOG",
         "rawType": "float64",
         "type": "float"
        },
        {
         "name": "VOT",
         "rawType": "float64",
         "type": "float"
        },
        {
         "name": "VUG",
         "rawType": "float64",
         "type": "float"
        },
        {
         "name": "VUSE",
         "rawType": "float64",
         "type": "float"
        },
        {
         "name": "VV",
         "rawType": "float64",
         "type": "float"
        },
        {
         "name": "XLG",
         "rawType": "float64",
         "type": "float"
        },
        {
         "name": "XLI",
         "rawType": "float64",
         "type": "float"
        },
        {
         "name": "XLK",
         "rawType": "float64",
         "type": "float"
        },
        {
         "name": "XLY",
         "rawType": "float64",
         "type": "float"
        },
        {
         "name": "XNTK",
         "rawType": "float64",
         "type": "float"
        }
       ],
       "ref": "de182fa3-427d-4a7b-88d1-55fe9f524f69",
       "rows": [
        [
         "2020-06-01 00:00:00",
         "33.08",
         "31.24",
         "20.41",
         "27.603001",
         "52.47",
         "28.362",
         "26.99",
         "25.889999",
         "32.44",
         "34.29",
         "55.73",
         "48.84",
         "76.44",
         "50.15",
         "33.59",
         "79.4",
         "52.23",
         "65.04",
         "19.34",
         "45.82",
         "45.68",
         "47.31",
         "29.87",
         "68.94",
         "288.58",
         "50.08",
         "161.06",
         "186.06",
         "69.55",
         "77.21",
         "103.35",
         "38.2",
         "66.26",
         "29.49",
         "102.37",
         "126.73",
         "124.29",
         "41.96",
         "134.02",
         "37.76",
         "29.18",
         "35.56",
         "26.75",
         "25.18",
         "53.62",
         "67.04",
         "24.01",
         "32.38",
         "54.28",
         "48.27",
         "36.66",
         "34.19",
         "240.35",
         "29.64",
         "90.09",
         "12.4",
         "11.51",
         "73.84",
         "26.9",
         "86.61",
         "38.29",
         "33.01",
         "33.77",
         "41.3",
         "35.2",
         "30.17",
         "287.97",
         "43.08",
         "62.9",
         "29.1",
         "27.56",
         "27.89",
         "189.6",
         "269.07",
         "132.74",
         "47.63",
         "263.93",
         "179.81",
         "160.07",
         "196.44",
         "25.91",
         "133.47",
         "22.62",
         "63.81",
         "100.48",
         "122.9",
         "97.26"
        ],
        [
         "2020-07-01 00:00:00",
         "35.04",
         "32.74",
         "21.84",
         "28.2216",
         "55.55",
         "29.5439",
         "27.92",
         "26.8389",
         "35.08",
         "37.54",
         "58.44",
         "53.16",
         "81.37",
         "55.23",
         "35.09",
         "84.21",
         "55.19",
         "69.84",
         "21.17",
         "48.89",
         "49.08",
         "50.83",
         "31.03",
         "73.74",
         "305.47",
         "53.65",
         "170.62",
         "200.53",
         "73.57",
         "83.45",
         "111.42",
         "40.63",
         "70.23",
         "31.61",
         "108.18",
         "135.3",
         "133.0",
         "44.66",
         "141.63",
         "40.27",
         "30.8",
         "38.09",
         "27.379999",
         "25.780001",
         "53.1",
         "70.25",
         "26.63",
         "35.28",
         "58.05",
         "51.61",
         "42.12",
         "38.59",
         "258.01",
         "31.41",
         "94.55",
         "13.36",
         "12.19",
         "80.33",
         "28.81",
         "92.85",
         "39.14",
         "34.44",
         "35.74",
         "44.46",
         "37.19",
         "31.87",
         "304.92",
         "46.12",
         "66.77",
         "30.82",
         "29.55",
         "29.21",
         "207.06",
         "285.06",
         "140.51",
         "51.33",
         "279.46",
         "192.68",
         "171.88",
         "211.29",
         "26.96",
         "141.45",
         "24.04",
         "66.62",
         "106.2",
         "131.84",
         "105.71"
        ],
        [
         "2020-08-01 00:00:00",
         "37.42",
         "34.35",
         "23.79",
         "28.7749",
         "59.81",
         "30.68",
         "28.8268",
         "27.805",
         "35.7",
         "39.04",
         "63.08",
         "58.45",
         "85.97",
         "62.51",
         "37.98",
         "93.68",
         "61.57",
         "78.65",
         "22.12",
         "53.71",
         "54.52",
         "52.56",
         "33.02",
         "80.5",
         "326.86",
         "58.72",
         "183.08",
         "220.92",
         "79.95",
         "85.73",
         "124.61",
         "44.6",
         "78.39",
         "33.73",
         "117.27",
         "147.08",
         "145.61",
         "48.46",
         "154.26",
         "44.39",
         "33.35",
         "38.71",
         "27.9455",
         "26.16",
         "56.4",
         "76.22",
         "26.47",
         "36.72",
         "62.93",
         "55.08",
         "51.72",
         "40.1",
         "286.25",
         "32.64",
         "101.04",
         "14.67",
         "13.08",
         "84.75",
         "31.82",
         "98.23",
         "41.85",
         "37.15",
         "38.24",
         "48.24",
         "39.73",
         "34.42",
         "326.21",
         "50.48",
         "71.95",
         "32.07",
         "33.13",
         "31.79",
         "233.87",
         "316.8",
         "150.76",
         "56.55",
         "298.94",
         "210.89",
         "177.28",
         "232.61",
         "28.39",
         "152.24",
         "26.36",
         "72.27",
         "118.81",
         "144.44",
         "122.05"
        ],
        [
         "2020-09-01 00:00:00",
         "36.21",
         "32.83",
         "23.22",
         "28.5677",
         "57.46",
         "30.16",
         "28.34",
         "27.8875",
         "34.21",
         "38.34",
         "60.63",
         "58.07",
         "84.48",
         "59.87",
         "37.68",
         "89.07",
         "60.19",
         "76.76",
         "21.99",
         "50.77",
         "52.14",
         "51.72",
         "33.3",
         "76.92",
         "314.57",
         "55.91",
         "176.3",
         "210.66",
         "76.57",
         "84.52",
         "117.89",
         "42.77",
         "74.04",
         "33.16",
         "112.53",
         "140.58",
         "140.08",
         "46.54",
         "147.15",
         "41.99",
         "31.96",
         "38.86",
         "27.673",
         "26.41",
         "54.05",
         "74.77",
         "25.45",
         "36.56",
         "61.36",
         "53.61",
         "45.51",
         "40.34",
         "270.1",
         "31.82",
         "97.85",
         "14.09",
         "12.6",
         "84.19",
         "33.0",
         "97.75",
         "39.94",
         "36.18",
         "36.8",
         "47.43",
         "38.24",
         "33.03",
         "313.99",
         "48.16",
         "69.42",
         "32.67",
         "31.39",
         "30.77",
         "226.07",
         "301.38",
         "145.26",
         "53.89",
         "287.71",
         "200.9",
         "174.94",
         "221.65",
         "27.22",
         "146.61",
         "24.99",
         "71.77",
         "112.47",
         "141.75",
         "116.25"
        ],
        [
         "2020-10-01 00:00:00",
         "35.3",
         "32.25",
         "22.83",
         "28.3235",
         "56.0",
         "29.83",
         "27.83",
         "27.24",
         "32.74",
         "37.59",
         "59.24",
         "56.41",
         "83.58",
         "58.22",
         "37.15",
         "85.24",
         "61.06",
         "74.5",
         "21.89",
         "49.41",
         "49.81",
         "51.93",
         "31.93",
         "74.73",
         "306.67",
         "54.36",
         "172.25",
         "203.56",
         "74.1",
         "84.62",
         "113.26",
         "40.64",
         "71.99",
         "32.2",
         "109.07",
         "135.59",
         "134.21",
         "45.31",
         "142.48",
         "41.03",
         "31.05",
         "39.93",
         "27.32",
         "26.120001",
         "52.26",
         "72.39",
         "26.39",
         "36.54",
         "59.56",
         "52.57",
         "42.45",
         "38.64",
         "261.87",
         "31.58",
         "95.32",
         "13.69",
         "12.3",
         "84.55",
         "32.16",
         "98.03",
         "40.64",
         "34.73",
         "35.89",
         "45.4",
         "37.37",
         "32.04",
         "306.16",
         "46.7",
         "68.22",
         "32.57",
         "30.28",
         "29.44",
         "220.77",
         "288.36",
         "142.01",
         "52.28",
         "280.39",
         "194.98",
         "173.6",
         "214.99",
         "27.13",
         "142.95",
         "24.1",
         "70.74",
         "106.84",
         "137.88",
         "112.49"
        ]
       ],
       "shape": {
        "columns": 87,
        "rows": 5
       }
      },
      "text/html": [
       "<div>\n",
       "<style scoped>\n",
       "    .dataframe tbody tr th:only-of-type {\n",
       "        vertical-align: middle;\n",
       "    }\n",
       "\n",
       "    .dataframe tbody tr th {\n",
       "        vertical-align: top;\n",
       "    }\n",
       "\n",
       "    .dataframe thead th {\n",
       "        text-align: right;\n",
       "    }\n",
       "</style>\n",
       "<table border=\"1\" class=\"dataframe\">\n",
       "  <thead>\n",
       "    <tr style=\"text-align: right;\">\n",
       "      <th></th>\n",
       "      <th>ABFL</th>\n",
       "      <th>ADME</th>\n",
       "      <th>AIQ</th>\n",
       "      <th>BAPR</th>\n",
       "      <th>BBUS</th>\n",
       "      <th>BJAN</th>\n",
       "      <th>BJUL</th>\n",
       "      <th>BOCT</th>\n",
       "      <th>CIBR</th>\n",
       "      <th>CWS</th>\n",
       "      <th>...</th>\n",
       "      <th>VOOG</th>\n",
       "      <th>VOT</th>\n",
       "      <th>VUG</th>\n",
       "      <th>VUSE</th>\n",
       "      <th>VV</th>\n",
       "      <th>XLG</th>\n",
       "      <th>XLI</th>\n",
       "      <th>XLK</th>\n",
       "      <th>XLY</th>\n",
       "      <th>XNTK</th>\n",
       "    </tr>\n",
       "    <tr>\n",
       "      <th>Date</th>\n",
       "      <th></th>\n",
       "      <th></th>\n",
       "      <th></th>\n",
       "      <th></th>\n",
       "      <th></th>\n",
       "      <th></th>\n",
       "      <th></th>\n",
       "      <th></th>\n",
       "      <th></th>\n",
       "      <th></th>\n",
       "      <th></th>\n",
       "      <th></th>\n",
       "      <th></th>\n",
       "      <th></th>\n",
       "      <th></th>\n",
       "      <th></th>\n",
       "      <th></th>\n",
       "      <th></th>\n",
       "      <th></th>\n",
       "      <th></th>\n",
       "      <th></th>\n",
       "    </tr>\n",
       "  </thead>\n",
       "  <tbody>\n",
       "    <tr>\n",
       "      <th>2020-06-01</th>\n",
       "      <td>33.08</td>\n",
       "      <td>31.24</td>\n",
       "      <td>20.41</td>\n",
       "      <td>27.603001</td>\n",
       "      <td>52.47</td>\n",
       "      <td>28.3620</td>\n",
       "      <td>26.9900</td>\n",
       "      <td>25.889999</td>\n",
       "      <td>32.44</td>\n",
       "      <td>34.29</td>\n",
       "      <td>...</td>\n",
       "      <td>179.81</td>\n",
       "      <td>160.07</td>\n",
       "      <td>196.44</td>\n",
       "      <td>25.91</td>\n",
       "      <td>133.47</td>\n",
       "      <td>22.62</td>\n",
       "      <td>63.81</td>\n",
       "      <td>100.48</td>\n",
       "      <td>122.90</td>\n",
       "      <td>97.26</td>\n",
       "    </tr>\n",
       "    <tr>\n",
       "      <th>2020-07-01</th>\n",
       "      <td>35.04</td>\n",
       "      <td>32.74</td>\n",
       "      <td>21.84</td>\n",
       "      <td>28.221600</td>\n",
       "      <td>55.55</td>\n",
       "      <td>29.5439</td>\n",
       "      <td>27.9200</td>\n",
       "      <td>26.838900</td>\n",
       "      <td>35.08</td>\n",
       "      <td>37.54</td>\n",
       "      <td>...</td>\n",
       "      <td>192.68</td>\n",
       "      <td>171.88</td>\n",
       "      <td>211.29</td>\n",
       "      <td>26.96</td>\n",
       "      <td>141.45</td>\n",
       "      <td>24.04</td>\n",
       "      <td>66.62</td>\n",
       "      <td>106.20</td>\n",
       "      <td>131.84</td>\n",
       "      <td>105.71</td>\n",
       "    </tr>\n",
       "    <tr>\n",
       "      <th>2020-08-01</th>\n",
       "      <td>37.42</td>\n",
       "      <td>34.35</td>\n",
       "      <td>23.79</td>\n",
       "      <td>28.774900</td>\n",
       "      <td>59.81</td>\n",
       "      <td>30.6800</td>\n",
       "      <td>28.8268</td>\n",
       "      <td>27.805000</td>\n",
       "      <td>35.70</td>\n",
       "      <td>39.04</td>\n",
       "      <td>...</td>\n",
       "      <td>210.89</td>\n",
       "      <td>177.28</td>\n",
       "      <td>232.61</td>\n",
       "      <td>28.39</td>\n",
       "      <td>152.24</td>\n",
       "      <td>26.36</td>\n",
       "      <td>72.27</td>\n",
       "      <td>118.81</td>\n",
       "      <td>144.44</td>\n",
       "      <td>122.05</td>\n",
       "    </tr>\n",
       "    <tr>\n",
       "      <th>2020-09-01</th>\n",
       "      <td>36.21</td>\n",
       "      <td>32.83</td>\n",
       "      <td>23.22</td>\n",
       "      <td>28.567700</td>\n",
       "      <td>57.46</td>\n",
       "      <td>30.1600</td>\n",
       "      <td>28.3400</td>\n",
       "      <td>27.887500</td>\n",
       "      <td>34.21</td>\n",
       "      <td>38.34</td>\n",
       "      <td>...</td>\n",
       "      <td>200.90</td>\n",
       "      <td>174.94</td>\n",
       "      <td>221.65</td>\n",
       "      <td>27.22</td>\n",
       "      <td>146.61</td>\n",
       "      <td>24.99</td>\n",
       "      <td>71.77</td>\n",
       "      <td>112.47</td>\n",
       "      <td>141.75</td>\n",
       "      <td>116.25</td>\n",
       "    </tr>\n",
       "    <tr>\n",
       "      <th>2020-10-01</th>\n",
       "      <td>35.30</td>\n",
       "      <td>32.25</td>\n",
       "      <td>22.83</td>\n",
       "      <td>28.323500</td>\n",
       "      <td>56.00</td>\n",
       "      <td>29.8300</td>\n",
       "      <td>27.8300</td>\n",
       "      <td>27.240000</td>\n",
       "      <td>32.74</td>\n",
       "      <td>37.59</td>\n",
       "      <td>...</td>\n",
       "      <td>194.98</td>\n",
       "      <td>173.60</td>\n",
       "      <td>214.99</td>\n",
       "      <td>27.13</td>\n",
       "      <td>142.95</td>\n",
       "      <td>24.10</td>\n",
       "      <td>70.74</td>\n",
       "      <td>106.84</td>\n",
       "      <td>137.88</td>\n",
       "      <td>112.49</td>\n",
       "    </tr>\n",
       "  </tbody>\n",
       "</table>\n",
       "<p>5 rows × 87 columns</p>\n",
       "</div>"
      ],
      "text/plain": [
       "             ABFL   ADME    AIQ       BAPR   BBUS     BJAN     BJUL  \\\n",
       "Date                                                                  \n",
       "2020-06-01  33.08  31.24  20.41  27.603001  52.47  28.3620  26.9900   \n",
       "2020-07-01  35.04  32.74  21.84  28.221600  55.55  29.5439  27.9200   \n",
       "2020-08-01  37.42  34.35  23.79  28.774900  59.81  30.6800  28.8268   \n",
       "2020-09-01  36.21  32.83  23.22  28.567700  57.46  30.1600  28.3400   \n",
       "2020-10-01  35.30  32.25  22.83  28.323500  56.00  29.8300  27.8300   \n",
       "\n",
       "                 BOCT   CIBR    CWS  ...    VOOG     VOT     VUG   VUSE  \\\n",
       "Date                                 ...                                  \n",
       "2020-06-01  25.889999  32.44  34.29  ...  179.81  160.07  196.44  25.91   \n",
       "2020-07-01  26.838900  35.08  37.54  ...  192.68  171.88  211.29  26.96   \n",
       "2020-08-01  27.805000  35.70  39.04  ...  210.89  177.28  232.61  28.39   \n",
       "2020-09-01  27.887500  34.21  38.34  ...  200.90  174.94  221.65  27.22   \n",
       "2020-10-01  27.240000  32.74  37.59  ...  194.98  173.60  214.99  27.13   \n",
       "\n",
       "                VV    XLG    XLI     XLK     XLY    XNTK  \n",
       "Date                                                      \n",
       "2020-06-01  133.47  22.62  63.81  100.48  122.90   97.26  \n",
       "2020-07-01  141.45  24.04  66.62  106.20  131.84  105.71  \n",
       "2020-08-01  152.24  26.36  72.27  118.81  144.44  122.05  \n",
       "2020-09-01  146.61  24.99  71.77  112.47  141.75  116.25  \n",
       "2020-10-01  142.95  24.10  70.74  106.84  137.88  112.49  \n",
       "\n",
       "[5 rows x 87 columns]"
      ]
     },
     "metadata": {},
     "output_type": "display_data"
    }
   ],
   "source": [
    "benchmark_prices_monthly_df = (benchmark_prices_daily_df.set_index(pd.to_datetime(benchmark_prices_daily_df.pop('Date')))\n",
    "      if 'Date' in benchmark_prices_daily_df.columns else benchmark_prices_daily_df.copy())\n",
    "benchmark_prices_monthly_df.index = pd.to_datetime(benchmark_prices_monthly_df.index)              \n",
    "benchmark_prices_monthly_df = (benchmark_prices_monthly_df.resample('MS').last()\n",
    "   .reset_index()\n",
    "   .rename(columns={'index': 'Date'}))\n",
    "\n",
    "benchmark_prices_monthly_df.set_index('Date', inplace=True)\n",
    "display(benchmark_prices_monthly_df.head())"
   ]
  },
  {
   "cell_type": "markdown",
   "id": "49ab8af5",
   "metadata": {},
   "source": [
    "### Step 8: Calculate Returns (Lognormal)"
   ]
  },
  {
   "cell_type": "markdown",
   "id": "9ea4ce34",
   "metadata": {},
   "source": [
    "#### Benchmark"
   ]
  },
  {
   "cell_type": "code",
   "execution_count": 14,
   "id": "8374cc5a",
   "metadata": {
    "execution": {
     "iopub.execute_input": "2025-06-02T13:28:31.293059Z",
     "iopub.status.busy": "2025-06-02T13:28:31.292687Z",
     "iopub.status.idle": "2025-06-02T13:28:31.311861Z",
     "shell.execute_reply": "2025-06-02T13:28:31.310945Z"
    }
   },
   "outputs": [
    {
     "data": {
      "application/vnd.microsoft.datawrangler.viewer.v0+json": {
       "columns": [
        {
         "name": "Date",
         "rawType": "datetime64[ns]",
         "type": "datetime"
        },
        {
         "name": "ABFL",
         "rawType": "float64",
         "type": "float"
        },
        {
         "name": "ADME",
         "rawType": "float64",
         "type": "float"
        },
        {
         "name": "AIQ",
         "rawType": "float64",
         "type": "float"
        },
        {
         "name": "BAPR",
         "rawType": "float64",
         "type": "float"
        },
        {
         "name": "BBUS",
         "rawType": "float64",
         "type": "float"
        },
        {
         "name": "BJAN",
         "rawType": "float64",
         "type": "float"
        },
        {
         "name": "BJUL",
         "rawType": "float64",
         "type": "float"
        },
        {
         "name": "BOCT",
         "rawType": "float64",
         "type": "float"
        },
        {
         "name": "CIBR",
         "rawType": "float64",
         "type": "float"
        },
        {
         "name": "CWS",
         "rawType": "float64",
         "type": "float"
        },
        {
         "name": "DSI",
         "rawType": "float64",
         "type": "float"
        },
        {
         "name": "ESPO",
         "rawType": "float64",
         "type": "float"
        },
        {
         "name": "FAD",
         "rawType": "float64",
         "type": "float"
        },
        {
         "name": "FDIS",
         "rawType": "float64",
         "type": "float"
        },
        {
         "name": "FIDU",
         "rawType": "float64",
         "type": "float"
        },
        {
         "name": "FTEC",
         "rawType": "float64",
         "type": "float"
        },
        {
         "name": "GRID",
         "rawType": "float64",
         "type": "float"
        },
        {
         "name": "GVIP",
         "rawType": "float64",
         "type": "float"
        },
        {
         "name": "HTUS",
         "rawType": "float64",
         "type": "float"
        },
        {
         "name": "IGM",
         "rawType": "float64",
         "type": "float"
        },
        {
         "name": "ILCG",
         "rawType": "float64",
         "type": "float"
        },
        {
         "name": "IMCG",
         "rawType": "float64",
         "type": "float"
        },
        {
         "name": "INCO",
         "rawType": "float64",
         "type": "float"
        },
        {
         "name": "IUSG",
         "rawType": "float64",
         "type": "float"
        },
        {
         "name": "IVV",
         "rawType": "float64",
         "type": "float"
        },
        {
         "name": "IVW",
         "rawType": "float64",
         "type": "float"
        },
        {
         "name": "IWB",
         "rawType": "float64",
         "type": "float"
        },
        {
         "name": "IWF",
         "rawType": "float64",
         "type": "float"
        },
        {
         "name": "IWL",
         "rawType": "float64",
         "type": "float"
        },
        {
         "name": "IWP",
         "rawType": "float64",
         "type": "float"
        },
        {
         "name": "IWY",
         "rawType": "float64",
         "type": "float"
        },
        {
         "name": "IXN",
         "rawType": "float64",
         "type": "float"
        },
        {
         "name": "IYW",
         "rawType": "float64",
         "type": "float"
        },
        {
         "name": "JMOM",
         "rawType": "float64",
         "type": "float"
        },
        {
         "name": "MGC",
         "rawType": "float64",
         "type": "float"
        },
        {
         "name": "MMTM",
         "rawType": "float64",
         "type": "float"
        },
        {
         "name": "MTUM",
         "rawType": "float64",
         "type": "float"
        },
        {
         "name": "NULG",
         "rawType": "float64",
         "type": "float"
        },
        {
         "name": "OEF",
         "rawType": "float64",
         "type": "float"
        },
        {
         "name": "ONEQ",
         "rawType": "float64",
         "type": "float"
        },
        {
         "name": "PBUS",
         "rawType": "float64",
         "type": "float"
        },
        {
         "name": "PHO",
         "rawType": "float64",
         "type": "float"
        },
        {
         "name": "PJUL",
         "rawType": "float64",
         "type": "float"
        },
        {
         "name": "POCT",
         "rawType": "float64",
         "type": "float"
        },
        {
         "name": "PPA",
         "rawType": "float64",
         "type": "float"
        },
        {
         "name": "PRN",
         "rawType": "float64",
         "type": "float"
        },
        {
         "name": "PSI",
         "rawType": "float64",
         "type": "float"
        },
        {
         "name": "PTF",
         "rawType": "float64",
         "type": "float"
        },
        {
         "name": "PWB",
         "rawType": "float64",
         "type": "float"
        },
        {
         "name": "QGRO",
         "rawType": "float64",
         "type": "float"
        },
        {
         "name": "QLD",
         "rawType": "float64",
         "type": "float"
        },
        {
         "name": "QMOM",
         "rawType": "float64",
         "type": "float"
        },
        {
         "name": "QQQ",
         "rawType": "float64",
         "type": "float"
        },
        {
         "name": "QTUM",
         "rawType": "float64",
         "type": "float"
        },
        {
         "name": "QUAL",
         "rawType": "float64",
         "type": "float"
        },
        {
         "name": "SCHG",
         "rawType": "float64",
         "type": "float"
        },
        {
         "name": "SCHX",
         "rawType": "float64",
         "type": "float"
        },
        {
         "name": "SMH",
         "rawType": "float64",
         "type": "float"
        },
        {
         "name": "SMIN",
         "rawType": "float64",
         "type": "float"
        },
        {
         "name": "SOXX",
         "rawType": "float64",
         "type": "float"
        },
        {
         "name": "SPHB",
         "rawType": "float64",
         "type": "float"
        },
        {
         "name": "SPHQ",
         "rawType": "float64",
         "type": "float"
        },
        {
         "name": "SPLG",
         "rawType": "float64",
         "type": "float"
        },
        {
         "name": "SPMO",
         "rawType": "float64",
         "type": "float"
        },
        {
         "name": "SPTM",
         "rawType": "float64",
         "type": "float"
        },
        {
         "name": "SPXV",
         "rawType": "float64",
         "type": "float"
        },
        {
         "name": "SPY",
         "rawType": "float64",
         "type": "float"
        },
        {
         "name": "SPYG",
         "rawType": "float64",
         "type": "float"
        },
        {
         "name": "SUSA",
         "rawType": "float64",
         "type": "float"
        },
        {
         "name": "TBLU",
         "rawType": "float64",
         "type": "float"
        },
        {
         "name": "TMFC",
         "rawType": "float64",
         "type": "float"
        },
        {
         "name": "USMC",
         "rawType": "float64",
         "type": "float"
        },
        {
         "name": "VCR",
         "rawType": "float64",
         "type": "float"
        },
        {
         "name": "VGT",
         "rawType": "float64",
         "type": "float"
        },
        {
         "name": "VONE",
         "rawType": "float64",
         "type": "float"
        },
        {
         "name": "VONG",
         "rawType": "float64",
         "type": "float"
        },
        {
         "name": "VOO",
         "rawType": "float64",
         "type": "float"
        },
        {
         "name": "VOOG",
         "rawType": "float64",
         "type": "float"
        },
        {
         "name": "VOT",
         "rawType": "float64",
         "type": "float"
        },
        {
         "name": "VUG",
         "rawType": "float64",
         "type": "float"
        },
        {
         "name": "VUSE",
         "rawType": "float64",
         "type": "float"
        },
        {
         "name": "VV",
         "rawType": "float64",
         "type": "float"
        },
        {
         "name": "XLG",
         "rawType": "float64",
         "type": "float"
        },
        {
         "name": "XLI",
         "rawType": "float64",
         "type": "float"
        },
        {
         "name": "XLK",
         "rawType": "float64",
         "type": "float"
        },
        {
         "name": "XLY",
         "rawType": "float64",
         "type": "float"
        },
        {
         "name": "XNTK",
         "rawType": "float64",
         "type": "float"
        }
       ],
       "ref": "7809f28c-6149-4491-92d3-4372eec74fad",
       "rows": [
        [
         "2020-07-01 00:00:00",
         "0.05756139591270008",
         "0.04689824697150364",
         "0.06771817405495086",
         "0.022163143498899224",
         "0.057041938387018536",
         "0.04082707172335952",
         "0.03387685086425865",
         "0.03599557251857879",
         "0.07823893825677021",
         "0.09055326468353371",
         "0.047481985301053756",
         "0.08475658460254051",
         "0.06250053533649363",
         "0.09648776950515152",
         "0.0436877859709224",
         "0.05881531078881068",
         "0.055124735003202585",
         "0.07120444629179151",
         "0.09040959512162564",
         "0.06485219956520483",
         "0.07179105449495597",
         "0.07176504181575426",
         "0.03809984623227038",
         "0.0673088317172792",
         "0.05687923024796916",
         "0.06885974228486433",
         "0.0576618951131499",
         "0.07489465914852955",
         "0.05619141557472111",
         "0.07771866778711978",
         "0.07518555846489214",
         "0.061671194387105846",
         "0.058189173299179296",
         "0.06942230340034158",
         "0.055202805511601574",
         "0.06543569608276956",
         "0.06773158346433358",
         "0.06236146288391531",
         "0.05522898068128031",
         "0.06435643358606295",
         "0.054031146884889296",
         "0.06873036984480888",
         "0.023278309995277077",
         "0.023549007684598954",
         "-0.009745204559920024",
         "0.04677085204002737",
         "0.10356798959267893",
         "0.0857752828891014",
         "0.06714887317723196",
         "0.06690520248823413",
         "0.1388364448542159",
         "0.12105997189831755",
         "0.07090214952043292",
         "0.05800151312266913",
         "0.04831962444111793",
         "0.07456869549750847",
         "0.05739972075938883",
         "0.08424255999112445",
         "0.06859626248864371",
         "0.06957000545576138",
         "0.02195619647872699",
         "0.04240813369442835",
         "0.05669767533380557",
         "0.07372740856906346",
         "0.054993825332927154",
         "0.054817075258275234",
         "0.05719313907651776",
         "0.06818784311267044",
         "0.059707714163382594",
         "0.05742565571452288",
         "0.0697182977066495",
         "0.046242914760252",
         "0.08809201651704567",
         "0.05772811562886357",
         "0.05688633290046983",
         "0.0748125617594426",
         "0.05717525318001509",
         "0.06913004391847379",
         "0.07118533934818819",
         "0.07287455625438488",
         "0.039725291470087784",
         "0.05806956426151596",
         "0.06088463897903236",
         "0.043094914885278016",
         "0.05536540608794984",
         "0.07021804958917245",
         "0.08331169080493185"
        ],
        [
         "2020-08-01 00:00:00",
         "0.06571505477775301",
         "0.04800444672536938",
         "0.08552217343816193",
         "0.019415837167806343",
         "0.07388935497082669",
         "0.03773368373654172",
         "0.03196223210487536",
         "0.03536353298245453",
         "0.017519521281611286",
         "0.039179730386529055",
         "0.07640317521233883",
         "0.09486545407303286",
         "0.05499174347778679",
         "0.12382026003062489",
         "0.07914351578901584",
         "0.1065710402475613",
         "0.10939296147170899",
         "0.11880071797294006",
         "0.04389709150736022",
         "0.0940263273268139",
         "0.10511598698562125",
         "0.03346864271754401",
         "0.062158960031693286",
         "0.08771179161851926",
         "0.06768037054783306",
         "0.09029891522955268",
         "0.07048435430489261",
         "0.0968367835440446",
         "0.08316410533579031",
         "0.026955172582820416",
         "0.11188201536210668",
         "0.09322714902638293",
         "0.10992079802970162",
         "0.0649141228460325",
         "0.08068246202969216",
         "0.08348212125632898",
         "0.09058268650105941",
         "0.081660468976368",
         "0.085421467279548",
         "0.0974074439825811",
         "0.07954308238210402",
         "0.016146184099043927",
         "0.02044340151272727",
         "0.014632490288197929",
         "0.06029223025612005",
         "0.08156358723185905",
         "-0.00602638358683099",
         "0.04000533461369899",
         "0.08071828939494179",
         "0.06507122169981834",
         "0.20532186663788196",
         "0.03838315876299598",
         "0.10386721100804701",
         "0.038412216545351076",
         "0.06638768293776919",
         "0.09353942404639075",
         "0.07046840253587261",
         "0.05356259607483849",
         "0.09937247381320377",
         "0.05632637988806359",
         "0.06694683496755419",
         "0.07574509160423809",
         "0.06761157845191856",
         "0.08159864388287952",
         "0.06606666188952884",
         "0.07697266235414842",
         "0.06749189863619338",
         "0.09033052283209951",
         "0.07471755546359957",
         "0.0397571838130938",
         "0.11435547245969732",
         "0.08464065852306163",
         "0.12175679908601149",
         "0.10557097551338586",
         "0.07041050778068593",
         "0.09684982598991762",
         "0.06738371470536672",
         "0.09030588876165295",
         "0.03093384465212455",
         "0.09613163399638762",
         "0.05168268444077347",
         "0.07351192524031791",
         "0.09212859996729957",
         "0.08140427252935593",
         "0.11220146966235757",
         "0.09127513024809536",
         "0.14373130105839738"
        ],
        [
         "2020-09-01 00:00:00",
         "-0.0328699970683938",
         "-0.04525928715485712",
         "-0.024251348045120878",
         "-0.007226770386127551",
         "-0.040083817505322236",
         "-0.017094433359300068",
         "-0.017031275736512898",
         "0.002962699119123658",
         "-0.04263268979608016",
         "-0.018093023927393242",
         "-0.039613942011198264",
         "-0.006522508534118994",
         "-0.017483578228401287",
         "-0.0431509990064603",
         "-0.007930255675977443",
         "-0.050462141845683914",
         "-0.022668513363439335",
         "-0.02432395836478766",
         "-0.005894372087464314",
         "-0.056293574958064994",
         "-0.04463519832297619",
         "-0.01611082027269837",
         "0.008443958494416075",
         "-0.04549126370393867",
         "-0.038325317773979045",
         "-0.04903712926770622",
         "-0.03773612638161683",
         "-0.047555185624590844",
         "-0.043196084154931244",
         "-0.01421462994280874",
         "-0.055436873650740064",
         "-0.04189693678720102",
         "-0.05709088049533393",
         "-0.017043318806464706",
         "-0.04125911571106739",
         "-0.045199934685311985",
         "-0.038718126745216686",
         "-0.04042655751423399",
         "-0.04718701582637124",
         "-0.05558272414984189",
         "-0.04257265146355884",
         "0.003867479359737159",
         "-0.009798976256073648",
         "0.00951119972004283",
         "-0.04255961441879601",
         "-0.01920716043388998",
         "-0.039296273242478134",
         "-0.0043668191663404025",
         "-0.025264840479841448",
         "-0.02705105602100767",
         "-0.12791247187510615",
         "0.0059671982135422385",
         "-0.05807329406987939",
         "-0.025443507186265472",
         "-0.03208078420015053",
         "-0.04033926624430148",
         "-0.03738753207162033",
         "-0.006629596910986998",
         "0.03641253855683941",
         "-0.004898468821303151",
         "-0.046713468947815286",
         "-0.026457291196619045",
         "-0.038384243008315444",
         "-0.01693361252943974",
         "-0.03822448164330687",
         "-0.04122155138069511",
         "-0.03818020748890173",
         "-0.04704841723239214",
         "-0.03579642289973667",
         "0.01853621190791531",
         "-0.0539498454579424",
         "-0.03261158558876089",
         "-0.033920719596250065",
         "-0.049898732950262474",
         "-0.03716392822091252",
         "-0.04818027061672409",
         "-0.03828985597530751",
         "-0.04852939870278428",
         "-0.013287345567210104",
         "-0.0482636702307537",
         "-0.04208497326155983",
         "-0.0376822230377209",
         "-0.05337196478744545",
         "-0.006942543852909203",
         "-0.05483905905426568",
         "-0.018799253801395507",
         "-0.04868775237150334"
        ],
        [
         "2020-10-01 00:00:00",
         "-0.025452359838298844",
         "-0.017824688271719725",
         "-0.016938515728041347",
         "-0.00858486021703163",
         "-0.025737362815994272",
         "-0.01100194461309822",
         "-0.018159658724734996",
         "-0.02349207847733936",
         "-0.04392042704652439",
         "-0.01975568004141176",
         "-0.023192830684041283",
         "-0.02900273163207381",
         "-0.010710562938182091",
         "-0.02794660661978349",
         "-0.014165678544394218",
         "-0.04395177021336169",
         "0.014350761747052403",
         "-0.029884545753985425",
         "-0.004557893031898107",
         "-0.027152796101644477",
         "-0.04571664142016361",
         "0.004052103952570829",
         "-0.04201139025970744",
         "-0.02888430277838016",
         "-0.025434376009812427",
         "-0.02811466575561096",
         "-0.02324017951005664",
         "-0.03428465768776391",
         "-0.03278982282299084",
         "0.0011824525440656216",
         "-0.0400659256183771",
         "-0.05108411896859086",
         "-0.02807826722408533",
         "-0.0293778777167314",
         "-0.031229974821254176",
         "-0.036141095273541535",
         "-0.04280795056788186",
         "-0.026784399195098813",
         "-0.032250835698075714",
         "-0.02312798824200725",
         "-0.028886312518586175",
         "0.02716247712583591",
         "-0.012838173891357066",
         "-0.011041383615972079",
         "-0.033678283992750885",
         "-0.032348566706774065",
         "0.0362694075187009",
         "-0.0005471956360887058",
         "-0.029773949243192467",
         "-0.01959000300808972",
         "-0.06960516927119409",
         "-0.04305552318174856",
         "-0.030944063383201832",
         "-0.007571014082144809",
         "-0.026196041611543926",
         "-0.028799686610231363",
         "-0.024097551579060416",
         "0.004266925995016622",
         "-0.02578411715571467",
         "0.002860355408159556",
         "0.017374475282557308",
         "-0.04090261321116652",
         "-0.02503914001536927",
         "-0.04374283484218804",
         "-0.023013844685808103",
         "-0.030431117202539926",
         "-0.02525329714991785",
         "-0.030784636325713845",
         "-0.017437233443140528",
         "-0.0030656063248366778",
         "-0.036001942284614105",
         "-0.04418589547327488",
         "-0.02372325022111105",
         "-0.044162227453630395",
         "-0.022627762521100495",
         "-0.030331043189384066",
         "-0.025771537195966424",
         "-0.029910282619763393",
         "-0.007689255765459124",
         "-0.03050804577300595",
         "-0.00331187055247965",
         "-0.025281081181852457",
         "-0.036263904350251584",
         "-0.014455377664646014",
         "-0.05135413117417023",
         "-0.027681200959196912",
         "-0.03287871566273119"
        ],
        [
         "2020-11-01 00:00:00",
         "0.0981390360048025",
         "0.05460563199276078",
         "0.1160781715107653",
         "0.040003257766187586",
         "0.11029475084405736",
         "0.06677785113751619",
         "0.06368476117198661",
         "0.07596796512433522",
         "0.1471447837578187",
         "0.08267904775539767",
         "0.10365413151017831",
         "0.09028557132212857",
         "0.12912471253157531",
         "0.11965158921547853",
         "0.15388146458804983",
         "0.11668748816438412",
         "0.1648091317093235",
         "0.13067496793178793",
         "0.07139595101720665",
         "0.10881537862696658",
         "0.10038933618919801",
         "0.12560481656439318",
         "0.10316581341303811",
         "0.09454349058621382",
         "0.10343803758301875",
         "0.0908517978823559",
         "0.11057765193511329",
         "0.09836024058371085",
         "0.10459098887879778",
         "0.12513533659747117",
         "0.08978872794943792",
         "0.11909451125419429",
         "0.10512434386258712",
         "0.10514310072056368",
         "0.10561719858248754",
         "0.08811704179102428",
         "0.1010445316281758",
         "0.11358088416713999",
         "0.09704416636690184",
         "0.11107169224837916",
         "0.11200505837649484",
         "0.09273418075067727",
         "0.042600827271340416",
         "0.05002902123014964",
         "0.18769680231846206",
         "0.16046543420548473",
         "0.19524763248308102",
         "0.16325757288972334",
         "0.08246782689309799",
         "0.09449708020673243",
         "0.20368574088694813",
         "0.16737255600343756",
         "0.10640247463479499",
         "0.17634001287645373",
         "0.10695387420701112",
         "0.09604037333804662",
         "0.10925535991936738",
         "0.1759936733098955",
         "0.11640010084878341",
         "0.169178334430211",
         "0.23040061954677393",
         "0.09287284812978637",
         "0.10290556826631035",
         "0.07406077154325186",
         "0.10771257746809582",
         "0.10984482810515497",
         "0.10327773673386154",
         "0.09258113327625915",
         "0.10073240822335823",
         "0.09901559031527739",
         "0.09657034379238477",
         "0.09116374938110593",
         "0.13214890914711097",
         "0.11804501949193817",
         "0.11067696876344214",
         "0.09569266211918082",
         "0.10386862264034788",
         "0.09391979377160367",
         "0.12660219918162668",
         "0.09869150638560963",
         "0.1474408408901656",
         "0.10540248749473011",
         "0.08811726596050705",
         "0.14868319764512497",
         "0.10787513495258834",
         "0.09525743162412477",
         "0.14073932927601424"
        ]
       ],
       "shape": {
        "columns": 87,
        "rows": 5
       }
      },
      "text/html": [
       "<div>\n",
       "<style scoped>\n",
       "    .dataframe tbody tr th:only-of-type {\n",
       "        vertical-align: middle;\n",
       "    }\n",
       "\n",
       "    .dataframe tbody tr th {\n",
       "        vertical-align: top;\n",
       "    }\n",
       "\n",
       "    .dataframe thead th {\n",
       "        text-align: right;\n",
       "    }\n",
       "</style>\n",
       "<table border=\"1\" class=\"dataframe\">\n",
       "  <thead>\n",
       "    <tr style=\"text-align: right;\">\n",
       "      <th></th>\n",
       "      <th>ABFL</th>\n",
       "      <th>ADME</th>\n",
       "      <th>AIQ</th>\n",
       "      <th>BAPR</th>\n",
       "      <th>BBUS</th>\n",
       "      <th>BJAN</th>\n",
       "      <th>BJUL</th>\n",
       "      <th>BOCT</th>\n",
       "      <th>CIBR</th>\n",
       "      <th>CWS</th>\n",
       "      <th>...</th>\n",
       "      <th>VOOG</th>\n",
       "      <th>VOT</th>\n",
       "      <th>VUG</th>\n",
       "      <th>VUSE</th>\n",
       "      <th>VV</th>\n",
       "      <th>XLG</th>\n",
       "      <th>XLI</th>\n",
       "      <th>XLK</th>\n",
       "      <th>XLY</th>\n",
       "      <th>XNTK</th>\n",
       "    </tr>\n",
       "    <tr>\n",
       "      <th>Date</th>\n",
       "      <th></th>\n",
       "      <th></th>\n",
       "      <th></th>\n",
       "      <th></th>\n",
       "      <th></th>\n",
       "      <th></th>\n",
       "      <th></th>\n",
       "      <th></th>\n",
       "      <th></th>\n",
       "      <th></th>\n",
       "      <th></th>\n",
       "      <th></th>\n",
       "      <th></th>\n",
       "      <th></th>\n",
       "      <th></th>\n",
       "      <th></th>\n",
       "      <th></th>\n",
       "      <th></th>\n",
       "      <th></th>\n",
       "      <th></th>\n",
       "      <th></th>\n",
       "    </tr>\n",
       "  </thead>\n",
       "  <tbody>\n",
       "    <tr>\n",
       "      <th>2020-07-01</th>\n",
       "      <td>0.057561</td>\n",
       "      <td>0.046898</td>\n",
       "      <td>0.067718</td>\n",
       "      <td>0.022163</td>\n",
       "      <td>0.057042</td>\n",
       "      <td>0.040827</td>\n",
       "      <td>0.033877</td>\n",
       "      <td>0.035996</td>\n",
       "      <td>0.078239</td>\n",
       "      <td>0.090553</td>\n",
       "      <td>...</td>\n",
       "      <td>0.069130</td>\n",
       "      <td>0.071185</td>\n",
       "      <td>0.072875</td>\n",
       "      <td>0.039725</td>\n",
       "      <td>0.058070</td>\n",
       "      <td>0.060885</td>\n",
       "      <td>0.043095</td>\n",
       "      <td>0.055365</td>\n",
       "      <td>0.070218</td>\n",
       "      <td>0.083312</td>\n",
       "    </tr>\n",
       "    <tr>\n",
       "      <th>2020-08-01</th>\n",
       "      <td>0.065715</td>\n",
       "      <td>0.048004</td>\n",
       "      <td>0.085522</td>\n",
       "      <td>0.019416</td>\n",
       "      <td>0.073889</td>\n",
       "      <td>0.037734</td>\n",
       "      <td>0.031962</td>\n",
       "      <td>0.035364</td>\n",
       "      <td>0.017520</td>\n",
       "      <td>0.039180</td>\n",
       "      <td>...</td>\n",
       "      <td>0.090306</td>\n",
       "      <td>0.030934</td>\n",
       "      <td>0.096132</td>\n",
       "      <td>0.051683</td>\n",
       "      <td>0.073512</td>\n",
       "      <td>0.092129</td>\n",
       "      <td>0.081404</td>\n",
       "      <td>0.112201</td>\n",
       "      <td>0.091275</td>\n",
       "      <td>0.143731</td>\n",
       "    </tr>\n",
       "    <tr>\n",
       "      <th>2020-09-01</th>\n",
       "      <td>-0.032870</td>\n",
       "      <td>-0.045259</td>\n",
       "      <td>-0.024251</td>\n",
       "      <td>-0.007227</td>\n",
       "      <td>-0.040084</td>\n",
       "      <td>-0.017094</td>\n",
       "      <td>-0.017031</td>\n",
       "      <td>0.002963</td>\n",
       "      <td>-0.042633</td>\n",
       "      <td>-0.018093</td>\n",
       "      <td>...</td>\n",
       "      <td>-0.048529</td>\n",
       "      <td>-0.013287</td>\n",
       "      <td>-0.048264</td>\n",
       "      <td>-0.042085</td>\n",
       "      <td>-0.037682</td>\n",
       "      <td>-0.053372</td>\n",
       "      <td>-0.006943</td>\n",
       "      <td>-0.054839</td>\n",
       "      <td>-0.018799</td>\n",
       "      <td>-0.048688</td>\n",
       "    </tr>\n",
       "    <tr>\n",
       "      <th>2020-10-01</th>\n",
       "      <td>-0.025452</td>\n",
       "      <td>-0.017825</td>\n",
       "      <td>-0.016939</td>\n",
       "      <td>-0.008585</td>\n",
       "      <td>-0.025737</td>\n",
       "      <td>-0.011002</td>\n",
       "      <td>-0.018160</td>\n",
       "      <td>-0.023492</td>\n",
       "      <td>-0.043920</td>\n",
       "      <td>-0.019756</td>\n",
       "      <td>...</td>\n",
       "      <td>-0.029910</td>\n",
       "      <td>-0.007689</td>\n",
       "      <td>-0.030508</td>\n",
       "      <td>-0.003312</td>\n",
       "      <td>-0.025281</td>\n",
       "      <td>-0.036264</td>\n",
       "      <td>-0.014455</td>\n",
       "      <td>-0.051354</td>\n",
       "      <td>-0.027681</td>\n",
       "      <td>-0.032879</td>\n",
       "    </tr>\n",
       "    <tr>\n",
       "      <th>2020-11-01</th>\n",
       "      <td>0.098139</td>\n",
       "      <td>0.054606</td>\n",
       "      <td>0.116078</td>\n",
       "      <td>0.040003</td>\n",
       "      <td>0.110295</td>\n",
       "      <td>0.066778</td>\n",
       "      <td>0.063685</td>\n",
       "      <td>0.075968</td>\n",
       "      <td>0.147145</td>\n",
       "      <td>0.082679</td>\n",
       "      <td>...</td>\n",
       "      <td>0.093920</td>\n",
       "      <td>0.126602</td>\n",
       "      <td>0.098692</td>\n",
       "      <td>0.147441</td>\n",
       "      <td>0.105402</td>\n",
       "      <td>0.088117</td>\n",
       "      <td>0.148683</td>\n",
       "      <td>0.107875</td>\n",
       "      <td>0.095257</td>\n",
       "      <td>0.140739</td>\n",
       "    </tr>\n",
       "  </tbody>\n",
       "</table>\n",
       "<p>5 rows × 87 columns</p>\n",
       "</div>"
      ],
      "text/plain": [
       "                ABFL      ADME       AIQ      BAPR      BBUS      BJAN  \\\n",
       "Date                                                                     \n",
       "2020-07-01  0.057561  0.046898  0.067718  0.022163  0.057042  0.040827   \n",
       "2020-08-01  0.065715  0.048004  0.085522  0.019416  0.073889  0.037734   \n",
       "2020-09-01 -0.032870 -0.045259 -0.024251 -0.007227 -0.040084 -0.017094   \n",
       "2020-10-01 -0.025452 -0.017825 -0.016939 -0.008585 -0.025737 -0.011002   \n",
       "2020-11-01  0.098139  0.054606  0.116078  0.040003  0.110295  0.066778   \n",
       "\n",
       "                BJUL      BOCT      CIBR       CWS  ...      VOOG       VOT  \\\n",
       "Date                                                ...                       \n",
       "2020-07-01  0.033877  0.035996  0.078239  0.090553  ...  0.069130  0.071185   \n",
       "2020-08-01  0.031962  0.035364  0.017520  0.039180  ...  0.090306  0.030934   \n",
       "2020-09-01 -0.017031  0.002963 -0.042633 -0.018093  ... -0.048529 -0.013287   \n",
       "2020-10-01 -0.018160 -0.023492 -0.043920 -0.019756  ... -0.029910 -0.007689   \n",
       "2020-11-01  0.063685  0.075968  0.147145  0.082679  ...  0.093920  0.126602   \n",
       "\n",
       "                 VUG      VUSE        VV       XLG       XLI       XLK  \\\n",
       "Date                                                                     \n",
       "2020-07-01  0.072875  0.039725  0.058070  0.060885  0.043095  0.055365   \n",
       "2020-08-01  0.096132  0.051683  0.073512  0.092129  0.081404  0.112201   \n",
       "2020-09-01 -0.048264 -0.042085 -0.037682 -0.053372 -0.006943 -0.054839   \n",
       "2020-10-01 -0.030508 -0.003312 -0.025281 -0.036264 -0.014455 -0.051354   \n",
       "2020-11-01  0.098692  0.147441  0.105402  0.088117  0.148683  0.107875   \n",
       "\n",
       "                 XLY      XNTK  \n",
       "Date                            \n",
       "2020-07-01  0.070218  0.083312  \n",
       "2020-08-01  0.091275  0.143731  \n",
       "2020-09-01 -0.018799 -0.048688  \n",
       "2020-10-01 -0.027681 -0.032879  \n",
       "2020-11-01  0.095257  0.140739  \n",
       "\n",
       "[5 rows x 87 columns]"
      ]
     },
     "execution_count": 14,
     "metadata": {},
     "output_type": "execute_result"
    }
   ],
   "source": [
    "benchmark_log_returns_df = np.log(benchmark_prices_monthly_df / benchmark_prices_monthly_df.shift(1))\n",
    "benchmark_log_returns_df = benchmark_log_returns_df.dropna().sort_index(axis=0, ascending=True).sort_index(axis=1, ascending=True)\n",
    "benchmark_log_returns_df.head()"
   ]
  },
  {
   "cell_type": "markdown",
   "id": "3798f32a",
   "metadata": {},
   "source": [
    "#### Stocks"
   ]
  },
  {
   "cell_type": "code",
   "execution_count": 15,
   "id": "16169afe",
   "metadata": {
    "execution": {
     "iopub.execute_input": "2025-06-02T13:28:31.314257Z",
     "iopub.status.busy": "2025-06-02T13:28:31.313851Z",
     "iopub.status.idle": "2025-06-02T13:28:31.329427Z",
     "shell.execute_reply": "2025-06-02T13:28:31.328391Z"
    }
   },
   "outputs": [
    {
     "data": {
      "application/vnd.microsoft.datawrangler.viewer.v0+json": {
       "columns": [
        {
         "name": "Date",
         "rawType": "datetime64[ns]",
         "type": "datetime"
        },
        {
         "name": "GRMN",
         "rawType": "float64",
         "type": "float"
        },
        {
         "name": "MSFT",
         "rawType": "float64",
         "type": "float"
        }
       ],
       "ref": "cd6509db-2fea-496f-b96c-872e318e14b8",
       "rows": [
        [
         "2020-08-01 00:00:00",
         "0.04966066863334654",
         "0.0977971108372621"
        ],
        [
         "2020-09-01 00:00:00",
         "-0.08213068108234925",
         "-0.0697846371656855"
        ],
        [
         "2020-10-01 00:00:00",
         "0.09217779424293632",
         "-0.0380926367994485"
        ],
        [
         "2020-11-01 00:00:00",
         "0.11547614768853627",
         "0.05833197710933807"
        ],
        [
         "2020-12-01 00:00:00",
         "0.029685741865366315",
         "0.038263054471384596"
        ]
       ],
       "shape": {
        "columns": 2,
        "rows": 5
       }
      },
      "text/html": [
       "<div>\n",
       "<style scoped>\n",
       "    .dataframe tbody tr th:only-of-type {\n",
       "        vertical-align: middle;\n",
       "    }\n",
       "\n",
       "    .dataframe tbody tr th {\n",
       "        vertical-align: top;\n",
       "    }\n",
       "\n",
       "    .dataframe thead th {\n",
       "        text-align: right;\n",
       "    }\n",
       "</style>\n",
       "<table border=\"1\" class=\"dataframe\">\n",
       "  <thead>\n",
       "    <tr style=\"text-align: right;\">\n",
       "      <th></th>\n",
       "      <th>GRMN</th>\n",
       "      <th>MSFT</th>\n",
       "    </tr>\n",
       "    <tr>\n",
       "      <th>Date</th>\n",
       "      <th></th>\n",
       "      <th></th>\n",
       "    </tr>\n",
       "  </thead>\n",
       "  <tbody>\n",
       "    <tr>\n",
       "      <th>2020-08-01</th>\n",
       "      <td>0.049661</td>\n",
       "      <td>0.097797</td>\n",
       "    </tr>\n",
       "    <tr>\n",
       "      <th>2020-09-01</th>\n",
       "      <td>-0.082131</td>\n",
       "      <td>-0.069785</td>\n",
       "    </tr>\n",
       "    <tr>\n",
       "      <th>2020-10-01</th>\n",
       "      <td>0.092178</td>\n",
       "      <td>-0.038093</td>\n",
       "    </tr>\n",
       "    <tr>\n",
       "      <th>2020-11-01</th>\n",
       "      <td>0.115476</td>\n",
       "      <td>0.058332</td>\n",
       "    </tr>\n",
       "    <tr>\n",
       "      <th>2020-12-01</th>\n",
       "      <td>0.029686</td>\n",
       "      <td>0.038263</td>\n",
       "    </tr>\n",
       "  </tbody>\n",
       "</table>\n",
       "</div>"
      ],
      "text/plain": [
       "                GRMN      MSFT\n",
       "Date                          \n",
       "2020-08-01  0.049661  0.097797\n",
       "2020-09-01 -0.082131 -0.069785\n",
       "2020-10-01  0.092178 -0.038093\n",
       "2020-11-01  0.115476  0.058332\n",
       "2020-12-01  0.029686  0.038263"
      ]
     },
     "execution_count": 15,
     "metadata": {},
     "output_type": "execute_result"
    }
   ],
   "source": [
    "stock_log_returns_df = np.log(stock_prices_monthly_df / stock_prices_monthly_df.shift(1))\n",
    "stock_log_returns_df = stock_log_returns_df.dropna().sort_index(axis=0, ascending=True).sort_index(axis=1, ascending=True)\n",
    "stock_log_returns_df.head()"
   ]
  },
  {
   "cell_type": "markdown",
   "id": "4936e919",
   "metadata": {},
   "source": [
    "### Step 9: Calculate Excess Return (Expected Return - Risk-free Rate)"
   ]
  },
  {
   "cell_type": "markdown",
   "id": "8b0c3a9a",
   "metadata": {},
   "source": [
    "#### Benchmark"
   ]
  },
  {
   "cell_type": "code",
   "execution_count": 16,
   "id": "37b6707b",
   "metadata": {
    "execution": {
     "iopub.execute_input": "2025-06-02T13:28:31.332071Z",
     "iopub.status.busy": "2025-06-02T13:28:31.331679Z",
     "iopub.status.idle": "2025-06-02T13:28:31.346683Z",
     "shell.execute_reply": "2025-06-02T13:28:31.345862Z"
    }
   },
   "outputs": [
    {
     "data": {
      "application/vnd.microsoft.datawrangler.viewer.v0+json": {
       "columns": [
        {
         "name": "Date",
         "rawType": "datetime64[ns]",
         "type": "datetime"
        },
        {
         "name": "ABFL",
         "rawType": "float64",
         "type": "float"
        },
        {
         "name": "ADME",
         "rawType": "float64",
         "type": "float"
        },
        {
         "name": "AIQ",
         "rawType": "float64",
         "type": "float"
        },
        {
         "name": "BAPR",
         "rawType": "float64",
         "type": "float"
        },
        {
         "name": "BBUS",
         "rawType": "float64",
         "type": "float"
        },
        {
         "name": "BJAN",
         "rawType": "float64",
         "type": "float"
        },
        {
         "name": "BJUL",
         "rawType": "float64",
         "type": "float"
        },
        {
         "name": "BOCT",
         "rawType": "float64",
         "type": "float"
        },
        {
         "name": "CIBR",
         "rawType": "float64",
         "type": "float"
        },
        {
         "name": "CWS",
         "rawType": "float64",
         "type": "float"
        },
        {
         "name": "DSI",
         "rawType": "float64",
         "type": "float"
        },
        {
         "name": "ESPO",
         "rawType": "float64",
         "type": "float"
        },
        {
         "name": "FAD",
         "rawType": "float64",
         "type": "float"
        },
        {
         "name": "FDIS",
         "rawType": "float64",
         "type": "float"
        },
        {
         "name": "FIDU",
         "rawType": "float64",
         "type": "float"
        },
        {
         "name": "FTEC",
         "rawType": "float64",
         "type": "float"
        },
        {
         "name": "GRID",
         "rawType": "float64",
         "type": "float"
        },
        {
         "name": "GVIP",
         "rawType": "float64",
         "type": "float"
        },
        {
         "name": "HTUS",
         "rawType": "float64",
         "type": "float"
        },
        {
         "name": "IGM",
         "rawType": "float64",
         "type": "float"
        },
        {
         "name": "ILCG",
         "rawType": "float64",
         "type": "float"
        },
        {
         "name": "IMCG",
         "rawType": "float64",
         "type": "float"
        },
        {
         "name": "INCO",
         "rawType": "float64",
         "type": "float"
        },
        {
         "name": "IUSG",
         "rawType": "float64",
         "type": "float"
        },
        {
         "name": "IVV",
         "rawType": "float64",
         "type": "float"
        },
        {
         "name": "IVW",
         "rawType": "float64",
         "type": "float"
        },
        {
         "name": "IWB",
         "rawType": "float64",
         "type": "float"
        },
        {
         "name": "IWF",
         "rawType": "float64",
         "type": "float"
        },
        {
         "name": "IWL",
         "rawType": "float64",
         "type": "float"
        },
        {
         "name": "IWP",
         "rawType": "float64",
         "type": "float"
        },
        {
         "name": "IWY",
         "rawType": "float64",
         "type": "float"
        },
        {
         "name": "IXN",
         "rawType": "float64",
         "type": "float"
        },
        {
         "name": "IYW",
         "rawType": "float64",
         "type": "float"
        },
        {
         "name": "JMOM",
         "rawType": "float64",
         "type": "float"
        },
        {
         "name": "MGC",
         "rawType": "float64",
         "type": "float"
        },
        {
         "name": "MMTM",
         "rawType": "float64",
         "type": "float"
        },
        {
         "name": "MTUM",
         "rawType": "float64",
         "type": "float"
        },
        {
         "name": "NULG",
         "rawType": "float64",
         "type": "float"
        },
        {
         "name": "OEF",
         "rawType": "float64",
         "type": "float"
        },
        {
         "name": "ONEQ",
         "rawType": "float64",
         "type": "float"
        },
        {
         "name": "PBUS",
         "rawType": "float64",
         "type": "float"
        },
        {
         "name": "PHO",
         "rawType": "float64",
         "type": "float"
        },
        {
         "name": "PJUL",
         "rawType": "float64",
         "type": "float"
        },
        {
         "name": "POCT",
         "rawType": "float64",
         "type": "float"
        },
        {
         "name": "PPA",
         "rawType": "float64",
         "type": "float"
        },
        {
         "name": "PRN",
         "rawType": "float64",
         "type": "float"
        },
        {
         "name": "PSI",
         "rawType": "float64",
         "type": "float"
        },
        {
         "name": "PTF",
         "rawType": "float64",
         "type": "float"
        },
        {
         "name": "PWB",
         "rawType": "float64",
         "type": "float"
        },
        {
         "name": "QGRO",
         "rawType": "float64",
         "type": "float"
        },
        {
         "name": "QLD",
         "rawType": "float64",
         "type": "float"
        },
        {
         "name": "QMOM",
         "rawType": "float64",
         "type": "float"
        },
        {
         "name": "QQQ",
         "rawType": "float64",
         "type": "float"
        },
        {
         "name": "QTUM",
         "rawType": "float64",
         "type": "float"
        },
        {
         "name": "QUAL",
         "rawType": "float64",
         "type": "float"
        },
        {
         "name": "SCHG",
         "rawType": "float64",
         "type": "float"
        },
        {
         "name": "SCHX",
         "rawType": "float64",
         "type": "float"
        },
        {
         "name": "SMH",
         "rawType": "float64",
         "type": "float"
        },
        {
         "name": "SMIN",
         "rawType": "float64",
         "type": "float"
        },
        {
         "name": "SOXX",
         "rawType": "float64",
         "type": "float"
        },
        {
         "name": "SPHB",
         "rawType": "float64",
         "type": "float"
        },
        {
         "name": "SPHQ",
         "rawType": "float64",
         "type": "float"
        },
        {
         "name": "SPLG",
         "rawType": "float64",
         "type": "float"
        },
        {
         "name": "SPMO",
         "rawType": "float64",
         "type": "float"
        },
        {
         "name": "SPTM",
         "rawType": "float64",
         "type": "float"
        },
        {
         "name": "SPXV",
         "rawType": "float64",
         "type": "float"
        },
        {
         "name": "SPY",
         "rawType": "float64",
         "type": "float"
        },
        {
         "name": "SPYG",
         "rawType": "float64",
         "type": "float"
        },
        {
         "name": "SUSA",
         "rawType": "float64",
         "type": "float"
        },
        {
         "name": "TBLU",
         "rawType": "float64",
         "type": "float"
        },
        {
         "name": "TMFC",
         "rawType": "float64",
         "type": "float"
        },
        {
         "name": "USMC",
         "rawType": "float64",
         "type": "float"
        },
        {
         "name": "VCR",
         "rawType": "float64",
         "type": "float"
        },
        {
         "name": "VGT",
         "rawType": "float64",
         "type": "float"
        },
        {
         "name": "VONE",
         "rawType": "float64",
         "type": "float"
        },
        {
         "name": "VONG",
         "rawType": "float64",
         "type": "float"
        },
        {
         "name": "VOO",
         "rawType": "float64",
         "type": "float"
        },
        {
         "name": "VOOG",
         "rawType": "float64",
         "type": "float"
        },
        {
         "name": "VOT",
         "rawType": "float64",
         "type": "float"
        },
        {
         "name": "VUG",
         "rawType": "float64",
         "type": "float"
        },
        {
         "name": "VUSE",
         "rawType": "float64",
         "type": "float"
        },
        {
         "name": "VV",
         "rawType": "float64",
         "type": "float"
        },
        {
         "name": "XLG",
         "rawType": "float64",
         "type": "float"
        },
        {
         "name": "XLI",
         "rawType": "float64",
         "type": "float"
        },
        {
         "name": "XLK",
         "rawType": "float64",
         "type": "float"
        },
        {
         "name": "XLY",
         "rawType": "float64",
         "type": "float"
        },
        {
         "name": "XNTK",
         "rawType": "float64",
         "type": "float"
        }
       ],
       "ref": "d44b61ce-0e09-4730-aff2-a2e941c44433",
       "rows": [
        [
         "2020-07-01 00:00:00",
         "0.054036395912700076",
         "0.04337324697150364",
         "0.06419317405495086",
         "0.018638143498899223",
         "0.053516938387018535",
         "0.03730207172335952",
         "0.03035185086425865",
         "0.03247057251857879",
         "0.07471393825677021",
         "0.08702826468353371",
         "0.043956985301053755",
         "0.08123158460254051",
         "0.058975535336493634",
         "0.09296276950515152",
         "0.0401627859709224",
         "0.05529031078881068",
         "0.051599735003202585",
         "0.06767944629179151",
         "0.08688459512162564",
         "0.061327199565204826",
         "0.06826605449495597",
         "0.06824004181575426",
         "0.03457484623227038",
         "0.0637838317172792",
         "0.05335423024796916",
         "0.06533474228486433",
         "0.0541368951131499",
         "0.07136965914852955",
         "0.05266641557472111",
         "0.07419366778711978",
         "0.07166055846489214",
         "0.058146194387105846",
         "0.054664173299179296",
         "0.06589730340034158",
         "0.051677805511601574",
         "0.061910696082769556",
         "0.06420658346433358",
         "0.05883646288391531",
         "0.05170398068128031",
         "0.06083143358606295",
         "0.050506146884889296",
         "0.06520536984480887",
         "0.019753309995277076",
         "0.020024007684598954",
         "-0.013270204559920024",
         "0.04324585204002737",
         "0.10004298959267893",
         "0.0822502828891014",
         "0.06362387317723196",
         "0.06338020248823413",
         "0.1353114448542159",
         "0.11753497189831755",
         "0.06737714952043292",
         "0.05447651312266913",
         "0.04479462444111793",
         "0.07104369549750847",
         "0.05387472075938883",
         "0.08071755999112445",
         "0.06507126248864371",
         "0.06604500545576138",
         "0.01843119647872699",
         "0.03888313369442835",
         "0.05317267533380557",
         "0.07020240856906346",
         "0.051468825332927154",
         "0.051292075258275234",
         "0.05366813907651776",
         "0.06466284311267044",
         "0.056182714163382594",
         "0.05390065571452288",
         "0.0661932977066495",
         "0.042717914760252",
         "0.08456701651704567",
         "0.05420311562886357",
         "0.05336133290046983",
         "0.0712875617594426",
         "0.05365025318001509",
         "0.06560504391847378",
         "0.06766033934818819",
         "0.06934955625438488",
         "0.036200291470087784",
         "0.05454456426151596",
         "0.05735963897903236",
         "0.039569914885278015",
         "0.05184040608794984",
         "0.06669304958917245",
         "0.07978669080493185"
        ],
        [
         "2020-08-01 00:00:00",
         "0.06219005477775301",
         "0.04447944672536938",
         "0.08199717343816193",
         "0.015890837167806343",
         "0.07036435497082669",
         "0.03420868373654172",
         "0.028437232104875358",
         "0.03183853298245453",
         "0.013994521281611286",
         "0.035654730386529054",
         "0.07287817521233883",
         "0.09134045407303286",
         "0.05146674347778679",
         "0.12029526003062489",
         "0.07561851578901584",
         "0.1030460402475613",
         "0.10586796147170899",
         "0.11527571797294006",
         "0.04037209150736022",
         "0.0905013273268139",
         "0.10159098698562125",
         "0.02994364271754401",
         "0.058633960031693286",
         "0.08418679161851926",
         "0.06415537054783306",
         "0.08677391522955268",
         "0.06695935430489261",
         "0.0933117835440446",
         "0.07963910533579031",
         "0.023430172582820416",
         "0.10835701536210668",
         "0.08970214902638293",
         "0.10639579802970162",
         "0.0613891228460325",
         "0.07715746202969216",
         "0.07995712125632898",
         "0.08705768650105941",
         "0.078135468976368",
         "0.081896467279548",
         "0.0938824439825811",
         "0.07601808238210402",
         "0.012621184099043926",
         "0.01691840151272727",
         "0.011107490288197928",
         "0.05676723025612005",
         "0.07803858723185905",
         "-0.00955138358683099",
         "0.03648033461369899",
         "0.07719328939494179",
         "0.06154622169981834",
         "0.20179686663788196",
         "0.03485815876299598",
         "0.10034221100804701",
         "0.034887216545351075",
         "0.06286268293776918",
         "0.09001442404639075",
         "0.06694340253587261",
         "0.050037596074838486",
         "0.09584747381320377",
         "0.05280137988806359",
         "0.06342183496755419",
         "0.07222009160423809",
         "0.06408657845191856",
         "0.07807364388287952",
         "0.06254166188952884",
         "0.07344766235414842",
         "0.06396689863619338",
         "0.08680552283209951",
         "0.07119255546359957",
         "0.0362321838130938",
         "0.11083047245969732",
         "0.08111565852306163",
         "0.11823179908601149",
         "0.10204597551338586",
         "0.06688550778068593",
         "0.09332482598991762",
         "0.06385871470536672",
         "0.08678088876165295",
         "0.02740884465212455",
         "0.09260663399638762",
         "0.04815768444077347",
         "0.06998692524031791",
         "0.08860359996729956",
         "0.07787927252935593",
         "0.10867646966235757",
         "0.08775013024809536",
         "0.14020630105839738"
        ],
        [
         "2020-09-01 00:00:00",
         "-0.0363949970683938",
         "-0.04878428715485712",
         "-0.02777634804512088",
         "-0.01075177038612755",
         "-0.04360881750532224",
         "-0.02061943335930007",
         "-0.020556275736512898",
         "-0.0005623008808763423",
         "-0.04615768979608016",
         "-0.021618023927393242",
         "-0.043138942011198264",
         "-0.010047508534118994",
         "-0.021008578228401287",
         "-0.0466759990064603",
         "-0.011455255675977443",
         "-0.053987141845683914",
         "-0.026193513363439336",
         "-0.027848958364787662",
         "-0.009419372087464314",
         "-0.059818574958064995",
         "-0.04816019832297619",
         "-0.01963582027269837",
         "0.004918958494416075",
         "-0.04901626370393867",
         "-0.041850317773979046",
         "-0.05256212926770622",
         "-0.04126112638161683",
         "-0.051080185624590844",
         "-0.046721084154931244",
         "-0.01773962994280874",
         "-0.058961873650740064",
         "-0.04542193678720102",
         "-0.06061588049533393",
         "-0.020568318806464706",
         "-0.04478411571106739",
         "-0.048724934685311985",
         "-0.042243126745216686",
         "-0.04395155751423399",
         "-0.05071201582637124",
         "-0.05910772414984189",
         "-0.04609765146355884",
         "0.0003424793597371586",
         "-0.013323976256073648",
         "0.00598619972004283",
         "-0.04608461441879601",
         "-0.02273216043388998",
         "-0.042821273242478135",
         "-0.007891819166340403",
         "-0.02878984047984145",
         "-0.030576056021007672",
         "-0.13143747187510615",
         "0.002442198213542238",
         "-0.06159829406987939",
         "-0.028968507186265473",
         "-0.03560578420015053",
         "-0.04386426624430148",
         "-0.04091253207162033",
         "-0.010154596910987",
         "0.03288753855683941",
         "-0.00842346882130315",
         "-0.050238468947815286",
         "-0.029982291196619045",
         "-0.041909243008315444",
         "-0.02045861252943974",
         "-0.04174948164330687",
         "-0.04474655138069511",
         "-0.04170520748890173",
         "-0.05057341723239214",
         "-0.03932142289973667",
         "0.015011211907915309",
         "-0.0574748454579424",
         "-0.03613658558876089",
         "-0.037445719596250066",
         "-0.053423732950262474",
         "-0.040688928220912524",
         "-0.05170527061672409",
         "-0.04181485597530751",
         "-0.05205439870278428",
         "-0.016812345567210105",
         "-0.0517886702307537",
         "-0.04560997326155983",
         "-0.0412072230377209",
         "-0.05689696478744545",
         "-0.010467543852909204",
         "-0.05836405905426568",
         "-0.022324253801395508",
         "-0.05221275237150334"
        ],
        [
         "2020-10-01 00:00:00",
         "-0.028977359838298845",
         "-0.021349688271719725",
         "-0.020463515728041348",
         "-0.01210986021703163",
         "-0.029262362815994272",
         "-0.01452694461309822",
         "-0.021684658724734997",
         "-0.02701707847733936",
         "-0.047445427046524394",
         "-0.02328068004141176",
         "-0.026717830684041283",
         "-0.032527731632073814",
         "-0.014235562938182091",
         "-0.03147160661978349",
         "-0.01769067854439422",
         "-0.04747677021336169",
         "0.010825761747052402",
         "-0.03340954575398543",
         "-0.008082893031898106",
         "-0.030677796101644478",
         "-0.04924164142016361",
         "0.0005271039525708288",
         "-0.04553639025970744",
         "-0.03240930277838016",
         "-0.028959376009812427",
         "-0.03163966575561096",
         "-0.02676517951005664",
         "-0.03780965768776391",
         "-0.03631482282299084",
         "-0.0023425474559343787",
         "-0.0435909256183771",
         "-0.05460911896859086",
         "-0.03160326722408533",
         "-0.0329028777167314",
         "-0.03475497482125418",
         "-0.039666095273541535",
         "-0.04633295056788186",
         "-0.030309399195098813",
         "-0.035775835698075714",
         "-0.02665298824200725",
         "-0.03241131251858617",
         "0.023637477125835908",
         "-0.016363173891357066",
         "-0.01456638361597208",
         "-0.037203283992750885",
         "-0.035873566706774065",
         "0.0327444075187009",
         "-0.004072195636088706",
         "-0.03329894924319247",
         "-0.023115003008089722",
         "-0.07313016927119409",
         "-0.04658052318174856",
         "-0.03446906338320183",
         "-0.01109601408214481",
         "-0.029721041611543927",
         "-0.032324686610231364",
         "-0.027622551579060416",
         "0.0007419259950166212",
         "-0.02930911715571467",
         "-0.0006646445918404445",
         "0.013849475282557307",
         "-0.04442761321116652",
         "-0.02856414001536927",
         "-0.04726783484218804",
         "-0.026538844685808104",
         "-0.03395611720253992",
         "-0.02877829714991785",
         "-0.03430963632571385",
         "-0.020962233443140528",
         "-0.006590606324836678",
         "-0.039526942284614106",
         "-0.04771089547327488",
         "-0.02724825022111105",
         "-0.047687227453630396",
         "-0.026152762521100496",
         "-0.033856043189384066",
         "-0.029296537195966425",
         "-0.03343528261976339",
         "-0.011214255765459124",
         "-0.03403304577300595",
         "-0.006836870552479651",
         "-0.028806081181852457",
         "-0.039788904350251585",
         "-0.017980377664646014",
         "-0.05487913117417023",
         "-0.031206200959196913",
         "-0.03640371566273119"
        ],
        [
         "2020-11-01 00:00:00",
         "0.0946140360048025",
         "0.05108063199276078",
         "0.1125531715107653",
         "0.036478257766187586",
         "0.10676975084405736",
         "0.06325285113751619",
         "0.06015976117198661",
         "0.07244296512433522",
         "0.1436197837578187",
         "0.07915404775539767",
         "0.10012913151017831",
         "0.08676057132212857",
         "0.1255997125315753",
         "0.11612658921547853",
         "0.15035646458804983",
         "0.11316248816438412",
         "0.16128413170932349",
         "0.12714996793178793",
         "0.06787095101720665",
         "0.10529037862696658",
         "0.09686433618919801",
         "0.12207981656439318",
         "0.09964081341303811",
         "0.09101849058621382",
         "0.09991303758301875",
         "0.0873267978823559",
         "0.10705265193511329",
         "0.09483524058371084",
         "0.10106598887879778",
         "0.12161033659747117",
         "0.08626372794943792",
         "0.11556951125419429",
         "0.10159934386258712",
         "0.10161810072056368",
         "0.10209219858248754",
         "0.08459204179102428",
         "0.0975195316281758",
         "0.11005588416713999",
         "0.09351916636690184",
         "0.10754669224837916",
         "0.10848005837649484",
         "0.08920918075067727",
         "0.039075827271340416",
         "0.04650402123014964",
         "0.18417180231846206",
         "0.15694043420548473",
         "0.19172263248308102",
         "0.15973257288972334",
         "0.07894282689309799",
         "0.09097208020673243",
         "0.20016074088694813",
         "0.16384755600343756",
         "0.10287747463479499",
         "0.17281501287645373",
         "0.10342887420701112",
         "0.09251537333804662",
         "0.10573035991936738",
         "0.1724686733098955",
         "0.11287510084878341",
         "0.165653334430211",
         "0.22687561954677393",
         "0.08934784812978637",
         "0.09938056826631035",
         "0.07053577154325186",
         "0.10418757746809582",
         "0.10631982810515497",
         "0.09975273673386154",
         "0.08905613327625915",
         "0.09720740822335823",
         "0.09549059031527739",
         "0.09304534379238477",
         "0.08763874938110593",
         "0.12862390914711097",
         "0.11452001949193817",
         "0.10715196876344214",
         "0.09216766211918082",
         "0.10034362264034788",
         "0.09039479377160367",
         "0.12307719918162668",
         "0.09516650638560963",
         "0.1439158408901656",
         "0.1018774874947301",
         "0.08459226596050705",
         "0.14515819764512497",
         "0.10435013495258834",
         "0.09173243162412477",
         "0.13721432927601424"
        ]
       ],
       "shape": {
        "columns": 87,
        "rows": 5
       }
      },
      "text/html": [
       "<div>\n",
       "<style scoped>\n",
       "    .dataframe tbody tr th:only-of-type {\n",
       "        vertical-align: middle;\n",
       "    }\n",
       "\n",
       "    .dataframe tbody tr th {\n",
       "        vertical-align: top;\n",
       "    }\n",
       "\n",
       "    .dataframe thead th {\n",
       "        text-align: right;\n",
       "    }\n",
       "</style>\n",
       "<table border=\"1\" class=\"dataframe\">\n",
       "  <thead>\n",
       "    <tr style=\"text-align: right;\">\n",
       "      <th></th>\n",
       "      <th>ABFL</th>\n",
       "      <th>ADME</th>\n",
       "      <th>AIQ</th>\n",
       "      <th>BAPR</th>\n",
       "      <th>BBUS</th>\n",
       "      <th>BJAN</th>\n",
       "      <th>BJUL</th>\n",
       "      <th>BOCT</th>\n",
       "      <th>CIBR</th>\n",
       "      <th>CWS</th>\n",
       "      <th>...</th>\n",
       "      <th>VOOG</th>\n",
       "      <th>VOT</th>\n",
       "      <th>VUG</th>\n",
       "      <th>VUSE</th>\n",
       "      <th>VV</th>\n",
       "      <th>XLG</th>\n",
       "      <th>XLI</th>\n",
       "      <th>XLK</th>\n",
       "      <th>XLY</th>\n",
       "      <th>XNTK</th>\n",
       "    </tr>\n",
       "    <tr>\n",
       "      <th>Date</th>\n",
       "      <th></th>\n",
       "      <th></th>\n",
       "      <th></th>\n",
       "      <th></th>\n",
       "      <th></th>\n",
       "      <th></th>\n",
       "      <th></th>\n",
       "      <th></th>\n",
       "      <th></th>\n",
       "      <th></th>\n",
       "      <th></th>\n",
       "      <th></th>\n",
       "      <th></th>\n",
       "      <th></th>\n",
       "      <th></th>\n",
       "      <th></th>\n",
       "      <th></th>\n",
       "      <th></th>\n",
       "      <th></th>\n",
       "      <th></th>\n",
       "      <th></th>\n",
       "    </tr>\n",
       "  </thead>\n",
       "  <tbody>\n",
       "    <tr>\n",
       "      <th>2020-07-01</th>\n",
       "      <td>0.054036</td>\n",
       "      <td>0.043373</td>\n",
       "      <td>0.064193</td>\n",
       "      <td>0.018638</td>\n",
       "      <td>0.053517</td>\n",
       "      <td>0.037302</td>\n",
       "      <td>0.030352</td>\n",
       "      <td>0.032471</td>\n",
       "      <td>0.074714</td>\n",
       "      <td>0.087028</td>\n",
       "      <td>...</td>\n",
       "      <td>0.065605</td>\n",
       "      <td>0.067660</td>\n",
       "      <td>0.069350</td>\n",
       "      <td>0.036200</td>\n",
       "      <td>0.054545</td>\n",
       "      <td>0.057360</td>\n",
       "      <td>0.039570</td>\n",
       "      <td>0.051840</td>\n",
       "      <td>0.066693</td>\n",
       "      <td>0.079787</td>\n",
       "    </tr>\n",
       "    <tr>\n",
       "      <th>2020-08-01</th>\n",
       "      <td>0.062190</td>\n",
       "      <td>0.044479</td>\n",
       "      <td>0.081997</td>\n",
       "      <td>0.015891</td>\n",
       "      <td>0.070364</td>\n",
       "      <td>0.034209</td>\n",
       "      <td>0.028437</td>\n",
       "      <td>0.031839</td>\n",
       "      <td>0.013995</td>\n",
       "      <td>0.035655</td>\n",
       "      <td>...</td>\n",
       "      <td>0.086781</td>\n",
       "      <td>0.027409</td>\n",
       "      <td>0.092607</td>\n",
       "      <td>0.048158</td>\n",
       "      <td>0.069987</td>\n",
       "      <td>0.088604</td>\n",
       "      <td>0.077879</td>\n",
       "      <td>0.108676</td>\n",
       "      <td>0.087750</td>\n",
       "      <td>0.140206</td>\n",
       "    </tr>\n",
       "    <tr>\n",
       "      <th>2020-09-01</th>\n",
       "      <td>-0.036395</td>\n",
       "      <td>-0.048784</td>\n",
       "      <td>-0.027776</td>\n",
       "      <td>-0.010752</td>\n",
       "      <td>-0.043609</td>\n",
       "      <td>-0.020619</td>\n",
       "      <td>-0.020556</td>\n",
       "      <td>-0.000562</td>\n",
       "      <td>-0.046158</td>\n",
       "      <td>-0.021618</td>\n",
       "      <td>...</td>\n",
       "      <td>-0.052054</td>\n",
       "      <td>-0.016812</td>\n",
       "      <td>-0.051789</td>\n",
       "      <td>-0.045610</td>\n",
       "      <td>-0.041207</td>\n",
       "      <td>-0.056897</td>\n",
       "      <td>-0.010468</td>\n",
       "      <td>-0.058364</td>\n",
       "      <td>-0.022324</td>\n",
       "      <td>-0.052213</td>\n",
       "    </tr>\n",
       "    <tr>\n",
       "      <th>2020-10-01</th>\n",
       "      <td>-0.028977</td>\n",
       "      <td>-0.021350</td>\n",
       "      <td>-0.020464</td>\n",
       "      <td>-0.012110</td>\n",
       "      <td>-0.029262</td>\n",
       "      <td>-0.014527</td>\n",
       "      <td>-0.021685</td>\n",
       "      <td>-0.027017</td>\n",
       "      <td>-0.047445</td>\n",
       "      <td>-0.023281</td>\n",
       "      <td>...</td>\n",
       "      <td>-0.033435</td>\n",
       "      <td>-0.011214</td>\n",
       "      <td>-0.034033</td>\n",
       "      <td>-0.006837</td>\n",
       "      <td>-0.028806</td>\n",
       "      <td>-0.039789</td>\n",
       "      <td>-0.017980</td>\n",
       "      <td>-0.054879</td>\n",
       "      <td>-0.031206</td>\n",
       "      <td>-0.036404</td>\n",
       "    </tr>\n",
       "    <tr>\n",
       "      <th>2020-11-01</th>\n",
       "      <td>0.094614</td>\n",
       "      <td>0.051081</td>\n",
       "      <td>0.112553</td>\n",
       "      <td>0.036478</td>\n",
       "      <td>0.106770</td>\n",
       "      <td>0.063253</td>\n",
       "      <td>0.060160</td>\n",
       "      <td>0.072443</td>\n",
       "      <td>0.143620</td>\n",
       "      <td>0.079154</td>\n",
       "      <td>...</td>\n",
       "      <td>0.090395</td>\n",
       "      <td>0.123077</td>\n",
       "      <td>0.095167</td>\n",
       "      <td>0.143916</td>\n",
       "      <td>0.101877</td>\n",
       "      <td>0.084592</td>\n",
       "      <td>0.145158</td>\n",
       "      <td>0.104350</td>\n",
       "      <td>0.091732</td>\n",
       "      <td>0.137214</td>\n",
       "    </tr>\n",
       "  </tbody>\n",
       "</table>\n",
       "<p>5 rows × 87 columns</p>\n",
       "</div>"
      ],
      "text/plain": [
       "                ABFL      ADME       AIQ      BAPR      BBUS      BJAN  \\\n",
       "Date                                                                     \n",
       "2020-07-01  0.054036  0.043373  0.064193  0.018638  0.053517  0.037302   \n",
       "2020-08-01  0.062190  0.044479  0.081997  0.015891  0.070364  0.034209   \n",
       "2020-09-01 -0.036395 -0.048784 -0.027776 -0.010752 -0.043609 -0.020619   \n",
       "2020-10-01 -0.028977 -0.021350 -0.020464 -0.012110 -0.029262 -0.014527   \n",
       "2020-11-01  0.094614  0.051081  0.112553  0.036478  0.106770  0.063253   \n",
       "\n",
       "                BJUL      BOCT      CIBR       CWS  ...      VOOG       VOT  \\\n",
       "Date                                                ...                       \n",
       "2020-07-01  0.030352  0.032471  0.074714  0.087028  ...  0.065605  0.067660   \n",
       "2020-08-01  0.028437  0.031839  0.013995  0.035655  ...  0.086781  0.027409   \n",
       "2020-09-01 -0.020556 -0.000562 -0.046158 -0.021618  ... -0.052054 -0.016812   \n",
       "2020-10-01 -0.021685 -0.027017 -0.047445 -0.023281  ... -0.033435 -0.011214   \n",
       "2020-11-01  0.060160  0.072443  0.143620  0.079154  ...  0.090395  0.123077   \n",
       "\n",
       "                 VUG      VUSE        VV       XLG       XLI       XLK  \\\n",
       "Date                                                                     \n",
       "2020-07-01  0.069350  0.036200  0.054545  0.057360  0.039570  0.051840   \n",
       "2020-08-01  0.092607  0.048158  0.069987  0.088604  0.077879  0.108676   \n",
       "2020-09-01 -0.051789 -0.045610 -0.041207 -0.056897 -0.010468 -0.058364   \n",
       "2020-10-01 -0.034033 -0.006837 -0.028806 -0.039789 -0.017980 -0.054879   \n",
       "2020-11-01  0.095167  0.143916  0.101877  0.084592  0.145158  0.104350   \n",
       "\n",
       "                 XLY      XNTK  \n",
       "Date                            \n",
       "2020-07-01  0.066693  0.079787  \n",
       "2020-08-01  0.087750  0.140206  \n",
       "2020-09-01 -0.022324 -0.052213  \n",
       "2020-10-01 -0.031206 -0.036404  \n",
       "2020-11-01  0.091732  0.137214  \n",
       "\n",
       "[5 rows x 87 columns]"
      ]
     },
     "execution_count": 16,
     "metadata": {},
     "output_type": "execute_result"
    }
   ],
   "source": [
    "benchmark_excess_returns_df = benchmark_log_returns_df - risk_free_rate_monthly\n",
    "benchmark_excess_returns_df.head()"
   ]
  },
  {
   "cell_type": "markdown",
   "id": "b7d95382",
   "metadata": {},
   "source": [
    "#### Stocks"
   ]
  },
  {
   "cell_type": "code",
   "execution_count": 17,
   "id": "8ffb2f5a",
   "metadata": {
    "execution": {
     "iopub.execute_input": "2025-06-02T13:28:31.350103Z",
     "iopub.status.busy": "2025-06-02T13:28:31.349138Z",
     "iopub.status.idle": "2025-06-02T13:28:31.364165Z",
     "shell.execute_reply": "2025-06-02T13:28:31.363050Z"
    }
   },
   "outputs": [
    {
     "data": {
      "application/vnd.microsoft.datawrangler.viewer.v0+json": {
       "columns": [
        {
         "name": "Date",
         "rawType": "datetime64[ns]",
         "type": "datetime"
        },
        {
         "name": "GRMN",
         "rawType": "float64",
         "type": "float"
        },
        {
         "name": "MSFT",
         "rawType": "float64",
         "type": "float"
        }
       ],
       "ref": "92619af9-a2b5-409e-a457-ed611cf2cfdc",
       "rows": [
        [
         "2020-08-01 00:00:00",
         "0.04613566863334654",
         "0.0942721108372621"
        ],
        [
         "2020-09-01 00:00:00",
         "-0.08565568108234925",
         "-0.0733096371656855"
        ],
        [
         "2020-10-01 00:00:00",
         "0.08865279424293632",
         "-0.0416176367994485"
        ],
        [
         "2020-11-01 00:00:00",
         "0.11195114768853627",
         "0.05480697710933807"
        ],
        [
         "2020-12-01 00:00:00",
         "0.026160741865366315",
         "0.034738054471384595"
        ]
       ],
       "shape": {
        "columns": 2,
        "rows": 5
       }
      },
      "text/html": [
       "<div>\n",
       "<style scoped>\n",
       "    .dataframe tbody tr th:only-of-type {\n",
       "        vertical-align: middle;\n",
       "    }\n",
       "\n",
       "    .dataframe tbody tr th {\n",
       "        vertical-align: top;\n",
       "    }\n",
       "\n",
       "    .dataframe thead th {\n",
       "        text-align: right;\n",
       "    }\n",
       "</style>\n",
       "<table border=\"1\" class=\"dataframe\">\n",
       "  <thead>\n",
       "    <tr style=\"text-align: right;\">\n",
       "      <th></th>\n",
       "      <th>GRMN</th>\n",
       "      <th>MSFT</th>\n",
       "    </tr>\n",
       "    <tr>\n",
       "      <th>Date</th>\n",
       "      <th></th>\n",
       "      <th></th>\n",
       "    </tr>\n",
       "  </thead>\n",
       "  <tbody>\n",
       "    <tr>\n",
       "      <th>2020-08-01</th>\n",
       "      <td>0.046136</td>\n",
       "      <td>0.094272</td>\n",
       "    </tr>\n",
       "    <tr>\n",
       "      <th>2020-09-01</th>\n",
       "      <td>-0.085656</td>\n",
       "      <td>-0.073310</td>\n",
       "    </tr>\n",
       "    <tr>\n",
       "      <th>2020-10-01</th>\n",
       "      <td>0.088653</td>\n",
       "      <td>-0.041618</td>\n",
       "    </tr>\n",
       "    <tr>\n",
       "      <th>2020-11-01</th>\n",
       "      <td>0.111951</td>\n",
       "      <td>0.054807</td>\n",
       "    </tr>\n",
       "    <tr>\n",
       "      <th>2020-12-01</th>\n",
       "      <td>0.026161</td>\n",
       "      <td>0.034738</td>\n",
       "    </tr>\n",
       "  </tbody>\n",
       "</table>\n",
       "</div>"
      ],
      "text/plain": [
       "                GRMN      MSFT\n",
       "Date                          \n",
       "2020-08-01  0.046136  0.094272\n",
       "2020-09-01 -0.085656 -0.073310\n",
       "2020-10-01  0.088653 -0.041618\n",
       "2020-11-01  0.111951  0.054807\n",
       "2020-12-01  0.026161  0.034738"
      ]
     },
     "execution_count": 17,
     "metadata": {},
     "output_type": "execute_result"
    }
   ],
   "source": [
    "stock_excess_returns_df = stock_log_returns_df - risk_free_rate_monthly\n",
    "stock_excess_returns_df.head()"
   ]
  },
  {
   "cell_type": "markdown",
   "id": "b2439f61",
   "metadata": {},
   "source": [
    "### Step 10: Find the Best Benchmark (By Regression Coefficients)"
   ]
  },
  {
   "cell_type": "code",
   "execution_count": 18,
   "id": "f10cacac",
   "metadata": {
    "execution": {
     "iopub.execute_input": "2025-06-02T13:28:31.369701Z",
     "iopub.status.busy": "2025-06-02T13:28:31.368584Z",
     "iopub.status.idle": "2025-06-02T13:28:33.805998Z",
     "shell.execute_reply": "2025-06-02T13:28:33.797796Z"
    }
   },
   "outputs": [
    {
     "name": "stdout",
     "output_type": "stream",
     "text": [
      "Best benchmark: ADME\n"
     ]
    },
    {
     "data": {
      "application/vnd.microsoft.datawrangler.viewer.v0+json": {
       "columns": [
        {
         "name": "index",
         "rawType": "int64",
         "type": "integer"
        },
        {
         "name": "Equity",
         "rawType": "object",
         "type": "string"
        },
        {
         "name": "Benchmark",
         "rawType": "object",
         "type": "string"
        },
        {
         "name": "intercept (alpha)",
         "rawType": "float64",
         "type": "float"
        },
        {
         "name": "slope (beta)",
         "rawType": "float64",
         "type": "float"
        },
        {
         "name": "correlation",
         "rawType": "float64",
         "type": "float"
        },
        {
         "name": "r_squared",
         "rawType": "float64",
         "type": "float"
        },
        {
         "name": "p_value_slope",
         "rawType": "float64",
         "type": "float"
        },
        {
         "name": "p_value_intercept",
         "rawType": "float64",
         "type": "float"
        }
       ],
       "ref": "0f3e382e-ea69-4ef8-a5d1-545ac2f05284",
       "rows": [
        [
         "0",
         "GRMN",
         "ADME",
         "0.0077803481349824795",
         "1.200560936127242",
         "0.6233547663321717",
         "0.3885711647090364",
         "1.7288643633908926e-07",
         "0.31038131666476865"
        ],
        [
         "1",
         "MSFT",
         "ADME",
         "0.007915724880955486",
         "1.3026575519583632",
         "0.7677788379113283",
         "0.5894843439444701",
         "2.0362521576606388e-12",
         "0.1546295045390656"
        ]
       ],
       "shape": {
        "columns": 8,
        "rows": 2
       }
      },
      "text/html": [
       "<div>\n",
       "<style scoped>\n",
       "    .dataframe tbody tr th:only-of-type {\n",
       "        vertical-align: middle;\n",
       "    }\n",
       "\n",
       "    .dataframe tbody tr th {\n",
       "        vertical-align: top;\n",
       "    }\n",
       "\n",
       "    .dataframe thead th {\n",
       "        text-align: right;\n",
       "    }\n",
       "</style>\n",
       "<table border=\"1\" class=\"dataframe\">\n",
       "  <thead>\n",
       "    <tr style=\"text-align: right;\">\n",
       "      <th></th>\n",
       "      <th>Equity</th>\n",
       "      <th>Benchmark</th>\n",
       "      <th>intercept (alpha)</th>\n",
       "      <th>slope (beta)</th>\n",
       "      <th>correlation</th>\n",
       "      <th>r_squared</th>\n",
       "      <th>p_value_slope</th>\n",
       "      <th>p_value_intercept</th>\n",
       "    </tr>\n",
       "  </thead>\n",
       "  <tbody>\n",
       "    <tr>\n",
       "      <th>0</th>\n",
       "      <td>GRMN</td>\n",
       "      <td>ADME</td>\n",
       "      <td>0.007780</td>\n",
       "      <td>1.200561</td>\n",
       "      <td>0.623355</td>\n",
       "      <td>0.388571</td>\n",
       "      <td>1.728864e-07</td>\n",
       "      <td>0.310381</td>\n",
       "    </tr>\n",
       "    <tr>\n",
       "      <th>1</th>\n",
       "      <td>MSFT</td>\n",
       "      <td>ADME</td>\n",
       "      <td>0.007916</td>\n",
       "      <td>1.302658</td>\n",
       "      <td>0.767779</td>\n",
       "      <td>0.589484</td>\n",
       "      <td>2.036252e-12</td>\n",
       "      <td>0.154630</td>\n",
       "    </tr>\n",
       "  </tbody>\n",
       "</table>\n",
       "</div>"
      ],
      "text/plain": [
       "  Equity Benchmark  intercept (alpha)  slope (beta)  correlation  r_squared  \\\n",
       "0   GRMN      ADME           0.007780      1.200561     0.623355   0.388571   \n",
       "1   MSFT      ADME           0.007916      1.302658     0.767779   0.589484   \n",
       "\n",
       "   p_value_slope  p_value_intercept  \n",
       "0   1.728864e-07           0.310381  \n",
       "1   2.036252e-12           0.154630  "
      ]
     },
     "metadata": {},
     "output_type": "display_data"
    }
   ],
   "source": [
    "# Call the function with your data\n",
    "best_benchmark, benchmark_stats_df, best_benchmarks_df = find_best_benchmark_and_run_regressions(\n",
    "    benchmark_excess_returns_df, \n",
    "    stock_excess_returns_df\n",
    ")\n",
    "\n",
    "# Display the results\n",
    "print(f\"Best benchmark: {best_benchmark}\")\n",
    "display(best_benchmarks_df)"
   ]
  },
  {
   "cell_type": "code",
   "execution_count": 19,
   "id": "a538dcf3",
   "metadata": {
    "execution": {
     "iopub.execute_input": "2025-06-02T13:28:33.811381Z",
     "iopub.status.busy": "2025-06-02T13:28:33.810059Z",
     "iopub.status.idle": "2025-06-02T13:28:33.826248Z",
     "shell.execute_reply": "2025-06-02T13:28:33.825115Z"
    }
   },
   "outputs": [
    {
     "data": {
      "application/vnd.microsoft.datawrangler.viewer.v0+json": {
       "columns": [
        {
         "name": "index",
         "rawType": "int64",
         "type": "integer"
        },
        {
         "name": "benchmark",
         "rawType": "object",
         "type": "string"
        },
        {
         "name": "avg_slope",
         "rawType": "float64",
         "type": "float"
        },
        {
         "name": "slope_std",
         "rawType": "float64",
         "type": "float"
        },
        {
         "name": "avg_p_value_intercept",
         "rawType": "float64",
         "type": "float"
        },
        {
         "name": "avg_p_value_slope",
         "rawType": "float64",
         "type": "float"
        },
        {
         "name": "avg_r_squared",
         "rawType": "float64",
         "type": "float"
        },
        {
         "name": "beta_quality",
         "rawType": "float64",
         "type": "float"
        },
        {
         "name": "score",
         "rawType": "float64",
         "type": "float"
        }
       ],
       "ref": "8cfa14ac-32cc-49ff-a7c9-c3d69a3e5f73",
       "rows": [
        [
         "1",
         "ADME",
         "1.2516092440428026",
         "0.05104830791556059",
         "0.23250541060191712",
         "8.644423629562346e-08",
         "0.4890277543267533",
         "0.7483907559571974",
         "0.7912688135607763"
        ],
        [
         "67",
         "SUSA",
         "0.9515813176918292",
         "0.016374940741017863",
         "0.499742418586943",
         "3.698198616353606e-08",
         "0.4836967739811967",
         "0.9515813176918292",
         "0.7838849028064553"
        ],
        [
         "53",
         "QUAL",
         "0.9679956568192428",
         "0.01596911562108627",
         "0.5440619566979606",
         "1.7085727152298616e-08",
         "0.501652184747781",
         "0.9679956568192428",
         "0.7819735512997398"
        ],
        [
         "21",
         "IMCG",
         "0.7671823044043806",
         "0.011252484380793126",
         "0.2561871580702312",
         "3.43318600091389e-07",
         "0.39772669985282233",
         "0.7671823044043806",
         "0.7795188455949046"
        ],
        [
         "10",
         "DSI",
         "0.974065000156231",
         "0.054742000653430545",
         "0.5630032523960241",
         "6.512431241521967e-08",
         "0.5156589721144786",
         "0.974065000156231",
         "0.7749639620330282"
        ],
        [
         "77",
         "VOT",
         "0.742883147693681",
         "0.0010150321027664333",
         "0.2710098027745965",
         "6.067069598794818e-07",
         "0.39706365476894145",
         "0.742883147693681",
         "0.7735844780247505"
        ],
        [
         "26",
         "IWB",
         "0.9990574388823619",
         "0.018406298297741264",
         "0.5999006382457687",
         "3.588053585438191e-08",
         "0.4858102058539253",
         "0.9990574388823619",
         "0.7733786681862855"
        ],
        [
         "73",
         "VONE",
         "0.9944394324736596",
         "0.016789648273529634",
         "0.6039949210406057",
         "3.362889398764809e-08",
         "0.4856689096095322",
         "0.9944394324736596",
         "0.7719201953416117"
        ],
        [
         "55",
         "SCHX",
         "1.004473922070304",
         "0.021007213878091457",
         "0.6141878454833298",
         "3.3551853882230565e-08",
         "0.490299861292454",
         "0.9955260779296959",
         "0.7702126139075955"
        ],
        [
         "40",
         "PBUS",
         "0.9960777922601478",
         "0.02678151594196554",
         "0.617540985897059",
         "3.7415982905588073e-08",
         "0.4944771915604459",
         "0.9960777922601478",
         "0.7693861972317837"
        ]
       ],
       "shape": {
        "columns": 8,
        "rows": 10
       }
      },
      "text/html": [
       "<div>\n",
       "<style scoped>\n",
       "    .dataframe tbody tr th:only-of-type {\n",
       "        vertical-align: middle;\n",
       "    }\n",
       "\n",
       "    .dataframe tbody tr th {\n",
       "        vertical-align: top;\n",
       "    }\n",
       "\n",
       "    .dataframe thead th {\n",
       "        text-align: right;\n",
       "    }\n",
       "</style>\n",
       "<table border=\"1\" class=\"dataframe\">\n",
       "  <thead>\n",
       "    <tr style=\"text-align: right;\">\n",
       "      <th></th>\n",
       "      <th>benchmark</th>\n",
       "      <th>avg_slope</th>\n",
       "      <th>slope_std</th>\n",
       "      <th>avg_p_value_intercept</th>\n",
       "      <th>avg_p_value_slope</th>\n",
       "      <th>avg_r_squared</th>\n",
       "      <th>beta_quality</th>\n",
       "      <th>score</th>\n",
       "    </tr>\n",
       "  </thead>\n",
       "  <tbody>\n",
       "    <tr>\n",
       "      <th>1</th>\n",
       "      <td>ADME</td>\n",
       "      <td>1.251609</td>\n",
       "      <td>0.051048</td>\n",
       "      <td>0.232505</td>\n",
       "      <td>8.644424e-08</td>\n",
       "      <td>0.489028</td>\n",
       "      <td>0.748391</td>\n",
       "      <td>0.791269</td>\n",
       "    </tr>\n",
       "    <tr>\n",
       "      <th>67</th>\n",
       "      <td>SUSA</td>\n",
       "      <td>0.951581</td>\n",
       "      <td>0.016375</td>\n",
       "      <td>0.499742</td>\n",
       "      <td>3.698199e-08</td>\n",
       "      <td>0.483697</td>\n",
       "      <td>0.951581</td>\n",
       "      <td>0.783885</td>\n",
       "    </tr>\n",
       "    <tr>\n",
       "      <th>53</th>\n",
       "      <td>QUAL</td>\n",
       "      <td>0.967996</td>\n",
       "      <td>0.015969</td>\n",
       "      <td>0.544062</td>\n",
       "      <td>1.708573e-08</td>\n",
       "      <td>0.501652</td>\n",
       "      <td>0.967996</td>\n",
       "      <td>0.781974</td>\n",
       "    </tr>\n",
       "    <tr>\n",
       "      <th>21</th>\n",
       "      <td>IMCG</td>\n",
       "      <td>0.767182</td>\n",
       "      <td>0.011252</td>\n",
       "      <td>0.256187</td>\n",
       "      <td>3.433186e-07</td>\n",
       "      <td>0.397727</td>\n",
       "      <td>0.767182</td>\n",
       "      <td>0.779519</td>\n",
       "    </tr>\n",
       "    <tr>\n",
       "      <th>10</th>\n",
       "      <td>DSI</td>\n",
       "      <td>0.974065</td>\n",
       "      <td>0.054742</td>\n",
       "      <td>0.563003</td>\n",
       "      <td>6.512431e-08</td>\n",
       "      <td>0.515659</td>\n",
       "      <td>0.974065</td>\n",
       "      <td>0.774964</td>\n",
       "    </tr>\n",
       "    <tr>\n",
       "      <th>77</th>\n",
       "      <td>VOT</td>\n",
       "      <td>0.742883</td>\n",
       "      <td>0.001015</td>\n",
       "      <td>0.271010</td>\n",
       "      <td>6.067070e-07</td>\n",
       "      <td>0.397064</td>\n",
       "      <td>0.742883</td>\n",
       "      <td>0.773584</td>\n",
       "    </tr>\n",
       "    <tr>\n",
       "      <th>26</th>\n",
       "      <td>IWB</td>\n",
       "      <td>0.999057</td>\n",
       "      <td>0.018406</td>\n",
       "      <td>0.599901</td>\n",
       "      <td>3.588054e-08</td>\n",
       "      <td>0.485810</td>\n",
       "      <td>0.999057</td>\n",
       "      <td>0.773379</td>\n",
       "    </tr>\n",
       "    <tr>\n",
       "      <th>73</th>\n",
       "      <td>VONE</td>\n",
       "      <td>0.994439</td>\n",
       "      <td>0.016790</td>\n",
       "      <td>0.603995</td>\n",
       "      <td>3.362889e-08</td>\n",
       "      <td>0.485669</td>\n",
       "      <td>0.994439</td>\n",
       "      <td>0.771920</td>\n",
       "    </tr>\n",
       "    <tr>\n",
       "      <th>55</th>\n",
       "      <td>SCHX</td>\n",
       "      <td>1.004474</td>\n",
       "      <td>0.021007</td>\n",
       "      <td>0.614188</td>\n",
       "      <td>3.355185e-08</td>\n",
       "      <td>0.490300</td>\n",
       "      <td>0.995526</td>\n",
       "      <td>0.770213</td>\n",
       "    </tr>\n",
       "    <tr>\n",
       "      <th>40</th>\n",
       "      <td>PBUS</td>\n",
       "      <td>0.996078</td>\n",
       "      <td>0.026782</td>\n",
       "      <td>0.617541</td>\n",
       "      <td>3.741598e-08</td>\n",
       "      <td>0.494477</td>\n",
       "      <td>0.996078</td>\n",
       "      <td>0.769386</td>\n",
       "    </tr>\n",
       "  </tbody>\n",
       "</table>\n",
       "</div>"
      ],
      "text/plain": [
       "   benchmark  avg_slope  slope_std  avg_p_value_intercept  avg_p_value_slope  \\\n",
       "1       ADME   1.251609   0.051048               0.232505       8.644424e-08   \n",
       "67      SUSA   0.951581   0.016375               0.499742       3.698199e-08   \n",
       "53      QUAL   0.967996   0.015969               0.544062       1.708573e-08   \n",
       "21      IMCG   0.767182   0.011252               0.256187       3.433186e-07   \n",
       "10       DSI   0.974065   0.054742               0.563003       6.512431e-08   \n",
       "77       VOT   0.742883   0.001015               0.271010       6.067070e-07   \n",
       "26       IWB   0.999057   0.018406               0.599901       3.588054e-08   \n",
       "73      VONE   0.994439   0.016790               0.603995       3.362889e-08   \n",
       "55      SCHX   1.004474   0.021007               0.614188       3.355185e-08   \n",
       "40      PBUS   0.996078   0.026782               0.617541       3.741598e-08   \n",
       "\n",
       "    avg_r_squared  beta_quality     score  \n",
       "1        0.489028      0.748391  0.791269  \n",
       "67       0.483697      0.951581  0.783885  \n",
       "53       0.501652      0.967996  0.781974  \n",
       "21       0.397727      0.767182  0.779519  \n",
       "10       0.515659      0.974065  0.774964  \n",
       "77       0.397064      0.742883  0.773584  \n",
       "26       0.485810      0.999057  0.773379  \n",
       "73       0.485669      0.994439  0.771920  \n",
       "55       0.490300      0.995526  0.770213  \n",
       "40       0.494477      0.996078  0.769386  "
      ]
     },
     "metadata": {},
     "output_type": "display_data"
    }
   ],
   "source": [
    "# Display the benchmark statistics\n",
    "display(benchmark_stats_df.sort_values(by=\"score\", ascending=False).head(10))"
   ]
  },
  {
   "cell_type": "markdown",
   "id": "9320378e",
   "metadata": {},
   "source": [
    "### Step 11: Plot Results"
   ]
  },
  {
   "cell_type": "code",
   "execution_count": 22,
   "id": "4c4eeadd",
   "metadata": {
    "execution": {
     "iopub.execute_input": "2025-06-02T13:28:33.845495Z",
     "iopub.status.busy": "2025-06-02T13:28:33.844774Z",
     "iopub.status.idle": "2025-06-02T13:28:34.034453Z",
     "shell.execute_reply": "2025-06-02T13:28:34.033001Z"
    }
   },
   "outputs": [
    {
     "name": "stdout",
     "output_type": "stream",
     "text": [
      "📈 BENCHMARK REGRESSION ANALYSIS: ADME\n",
      "======================================================================\n",
      "🔍 GRMN: β=1.2006, R²=0.3886, p=0.0000, Weight=50.0%\n",
      "🔍 MSFT: β=1.3027, R²=0.5895, p=0.0000, Weight=50.0%\n"
     ]
    },
    {
     "data": {
      "image/png": "[encoded data removed]",
      "text/plain": [
       "<Figure size 1200x500 with 2 Axes>"
      ]
     },
     "metadata": {},
     "output_type": "display_data"
    },
    {
     "name": "stdout",
     "output_type": "stream",
     "text": [
      "\n",
      "📊 BENCHMARK REGRESSION SUMMARY: ADME\n"
     ]
    },
    {
     "data": {
      "application/vnd.microsoft.datawrangler.viewer.v0+json": {
       "columns": [
        {
         "name": "index",
         "rawType": "int64",
         "type": "integer"
        },
        {
         "name": "Ticker",
         "rawType": "object",
         "type": "string"
        },
        {
         "name": "Beta",
         "rawType": "float64",
         "type": "float"
        },
        {
         "name": "Alpha",
         "rawType": "float64",
         "type": "float"
        },
        {
         "name": "R_Squared",
         "rawType": "float64",
         "type": "float"
        },
        {
         "name": "Correlation",
         "rawType": "float64",
         "type": "float"
        },
        {
         "name": "P_Value",
         "rawType": "float64",
         "type": "float"
        },
        {
         "name": "Portfolio_Weight",
         "rawType": "float64",
         "type": "float"
        },
        {
         "name": "N_Observations",
         "rawType": "int64",
         "type": "integer"
        },
        {
         "name": "Significance",
         "rawType": "object",
         "type": "string"
        }
       ],
       "ref": "8689436f-d338-4f3e-8ad5-e219b696ab08",
       "rows": [
        [
         "0",
         "GRMN",
         "1.2006",
         "0.0078",
         "0.3886",
         "0.6234",
         "0.0",
         "0.5",
         "58",
         "***"
        ],
        [
         "1",
         "MSFT",
         "1.3027",
         "0.0079",
         "0.5895",
         "0.7678",
         "0.0",
         "0.5",
         "58",
         "***"
        ]
       ],
       "shape": {
        "columns": 9,
        "rows": 2
       }
      },
      "text/html": [
       "<div>\n",
       "<style scoped>\n",
       "    .dataframe tbody tr th:only-of-type {\n",
       "        vertical-align: middle;\n",
       "    }\n",
       "\n",
       "    .dataframe tbody tr th {\n",
       "        vertical-align: top;\n",
       "    }\n",
       "\n",
       "    .dataframe thead th {\n",
       "        text-align: right;\n",
       "    }\n",
       "</style>\n",
       "<table border=\"1\" class=\"dataframe\">\n",
       "  <thead>\n",
       "    <tr style=\"text-align: right;\">\n",
       "      <th></th>\n",
       "      <th>Ticker</th>\n",
       "      <th>Beta</th>\n",
       "      <th>Alpha</th>\n",
       "      <th>R_Squared</th>\n",
       "      <th>Correlation</th>\n",
       "      <th>P_Value</th>\n",
       "      <th>Portfolio_Weight</th>\n",
       "      <th>N_Observations</th>\n",
       "      <th>Significance</th>\n",
       "    </tr>\n",
       "  </thead>\n",
       "  <tbody>\n",
       "    <tr>\n",
       "      <th>0</th>\n",
       "      <td>GRMN</td>\n",
       "      <td>1.2006</td>\n",
       "      <td>0.0078</td>\n",
       "      <td>0.3886</td>\n",
       "      <td>0.6234</td>\n",
       "      <td>0.0</td>\n",
       "      <td>0.5</td>\n",
       "      <td>58</td>\n",
       "      <td>***</td>\n",
       "    </tr>\n",
       "    <tr>\n",
       "      <th>1</th>\n",
       "      <td>MSFT</td>\n",
       "      <td>1.3027</td>\n",
       "      <td>0.0079</td>\n",
       "      <td>0.5895</td>\n",
       "      <td>0.7678</td>\n",
       "      <td>0.0</td>\n",
       "      <td>0.5</td>\n",
       "      <td>58</td>\n",
       "      <td>***</td>\n",
       "    </tr>\n",
       "  </tbody>\n",
       "</table>\n",
       "</div>"
      ],
      "text/plain": [
       "  Ticker    Beta   Alpha  R_Squared  Correlation  P_Value  Portfolio_Weight  \\\n",
       "0   GRMN  1.2006  0.0078     0.3886       0.6234      0.0               0.5   \n",
       "1   MSFT  1.3027  0.0079     0.5895       0.7678      0.0               0.5   \n",
       "\n",
       "   N_Observations Significance  \n",
       "0              58          ***  \n",
       "1              58          ***  "
      ]
     },
     "metadata": {},
     "output_type": "display_data"
    },
    {
     "name": "stdout",
     "output_type": "stream",
     "text": [
      "\n",
      "📈 PORTFOLIO STATISTICS: Weighted β=1.2516, Weighted R²=0.4890\n",
      "  • Significant relationships (p<0.05): 2/2\n",
      "Portfolio sectors: {'Technology'}\n",
      "Benchmark sectors: {'Industrials', 'Energy', 'Basic Materials', 'Utilities', 'Realestate', 'Healthcare', 'Consumer Defensive', 'Technology', 'Financial Services', 'Consumer Cyclical', 'Communication Services'}\n"
     ]
    },
    {
     "data": {
      "image/png": "[encoded data removed]",
      "text/plain": [
       "<Figure size 1600x1200 with 4 Axes>"
      ]
     },
     "metadata": {},
     "output_type": "display_data"
    }
   ],
   "source": [
    "from py.regression_benchmark import analyze_benchmark_regression, plot_benchmark_analysis\n",
    "\n",
    "# Execute analysis\n",
    "benchmark_regression_results = analyze_benchmark_regression(benchmark_excess_returns_df, stock_excess_returns_df, best_benchmark, portfolio_df)\n",
    "\n",
    "# Get the benchmark sector data\n",
    "best_benchmark_sectors = filtered_sectors_df[filtered_sectors_df[\"Symbol\"] == best_benchmarks_df['Benchmark'].unique()[0]]\n",
    "best_benchmark_sectors = best_benchmark_sectors[[\"Symbol\", \"Name_x\", \"Sectors\"]] \n",
    "best_benchmark_sectors = best_benchmark_sectors.rename(columns={\"Name_x\": \"Name\"})\n",
    "\n",
    "# Create the analysis with sector weights\n",
    "benchmark_regression_summary = plot_benchmark_analysis(\n",
    "    regression_results=benchmark_regression_results, \n",
    "    best_benchmark=best_benchmark, \n",
    "    cols=2, \n",
    "    benchmark_sectors_df=best_benchmark_sectors,\n",
    "    portfolio_df=portfolio_df \n",
    ")"
   ]
  },
  {
   "cell_type": "markdown",
   "id": "76b26b74",
   "metadata": {},
   "source": [
    "### Step 12: Export Data to Excel"
   ]
  },
  {
   "cell_type": "code",
   "execution_count": 23,
   "id": "abf0469a",
   "metadata": {
    "execution": {
     "iopub.execute_input": "2025-06-02T13:28:34.039007Z",
     "iopub.status.busy": "2025-06-02T13:28:34.038022Z",
     "iopub.status.idle": "2025-06-02T13:28:34.050755Z",
     "shell.execute_reply": "2025-06-02T13:28:34.049152Z"
    }
   },
   "outputs": [
    {
     "name": "stdout",
     "output_type": "stream",
     "text": [
      "ADME\n"
     ]
    },
    {
     "data": {
      "application/vnd.microsoft.datawrangler.viewer.v0+json": {
       "columns": [
        {
         "name": "Equity",
         "rawType": "object",
         "type": "string"
        },
        {
         "name": "Benchmark",
         "rawType": "object",
         "type": "string"
        },
        {
         "name": "intercept (alpha)",
         "rawType": "float64",
         "type": "float"
        },
        {
         "name": "slope (beta)",
         "rawType": "float64",
         "type": "float"
        },
        {
         "name": "correlation",
         "rawType": "float64",
         "type": "float"
        },
        {
         "name": "r_squared",
         "rawType": "float64",
         "type": "float"
        },
        {
         "name": "p_value_slope",
         "rawType": "float64",
         "type": "float"
        },
        {
         "name": "p_value_intercept",
         "rawType": "float64",
         "type": "float"
        }
       ],
       "ref": "be29fa6b-e9af-451e-a230-44d1dff9c1e3",
       "rows": [
        [
         "GRMN",
         "ADME",
         "0.0077803481349824795",
         "1.200560936127242",
         "0.6233547663321717",
         "0.3885711647090364",
         "1.7288643633908926e-07",
         "0.31038131666476865"
        ],
        [
         "MSFT",
         "ADME",
         "0.007915724880955486",
         "1.3026575519583632",
         "0.7677788379113283",
         "0.5894843439444701",
         "2.0362521576606388e-12",
         "0.1546295045390656"
        ]
       ],
       "shape": {
        "columns": 7,
        "rows": 2
       }
      },
      "text/html": [
       "<div>\n",
       "<style scoped>\n",
       "    .dataframe tbody tr th:only-of-type {\n",
       "        vertical-align: middle;\n",
       "    }\n",
       "\n",
       "    .dataframe tbody tr th {\n",
       "        vertical-align: top;\n",
       "    }\n",
       "\n",
       "    .dataframe thead th {\n",
       "        text-align: right;\n",
       "    }\n",
       "</style>\n",
       "<table border=\"1\" class=\"dataframe\">\n",
       "  <thead>\n",
       "    <tr style=\"text-align: right;\">\n",
       "      <th></th>\n",
       "      <th>Benchmark</th>\n",
       "      <th>intercept (alpha)</th>\n",
       "      <th>slope (beta)</th>\n",
       "      <th>correlation</th>\n",
       "      <th>r_squared</th>\n",
       "      <th>p_value_slope</th>\n",
       "      <th>p_value_intercept</th>\n",
       "    </tr>\n",
       "    <tr>\n",
       "      <th>Equity</th>\n",
       "      <th></th>\n",
       "      <th></th>\n",
       "      <th></th>\n",
       "      <th></th>\n",
       "      <th></th>\n",
       "      <th></th>\n",
       "      <th></th>\n",
       "    </tr>\n",
       "  </thead>\n",
       "  <tbody>\n",
       "    <tr>\n",
       "      <th>GRMN</th>\n",
       "      <td>ADME</td>\n",
       "      <td>0.007780</td>\n",
       "      <td>1.200561</td>\n",
       "      <td>0.623355</td>\n",
       "      <td>0.388571</td>\n",
       "      <td>1.728864e-07</td>\n",
       "      <td>0.310381</td>\n",
       "    </tr>\n",
       "    <tr>\n",
       "      <th>MSFT</th>\n",
       "      <td>ADME</td>\n",
       "      <td>0.007916</td>\n",
       "      <td>1.302658</td>\n",
       "      <td>0.767779</td>\n",
       "      <td>0.589484</td>\n",
       "      <td>2.036252e-12</td>\n",
       "      <td>0.154630</td>\n",
       "    </tr>\n",
       "  </tbody>\n",
       "</table>\n",
       "</div>"
      ],
      "text/plain": [
       "       Benchmark  intercept (alpha)  slope (beta)  correlation  r_squared  \\\n",
       "Equity                                                                      \n",
       "GRMN        ADME           0.007780      1.200561     0.623355   0.388571   \n",
       "MSFT        ADME           0.007916      1.302658     0.767779   0.589484   \n",
       "\n",
       "        p_value_slope  p_value_intercept  \n",
       "Equity                                    \n",
       "GRMN     1.728864e-07           0.310381  \n",
       "MSFT     2.036252e-12           0.154630  "
      ]
     },
     "execution_count": 23,
     "metadata": {},
     "output_type": "execute_result"
    }
   ],
   "source": [
    "# Set Index\n",
    "first_column = best_benchmarks_df.columns[0] # Get the name of the first column\n",
    "best_benchmarks_df.set_index(first_column, drop=True, inplace=True)\n",
    "best_benchmark = best_benchmarks_df['Benchmark'].unique()[0]\n",
    "\n",
    "# Display the best benchmark DataFrame\n",
    "print(best_benchmark)\n",
    "best_benchmarks_df"
   ]
  },
  {
   "cell_type": "code",
   "execution_count": 24,
   "id": "5875bf44",
   "metadata": {
    "execution": {
     "iopub.execute_input": "2025-06-02T13:28:34.054929Z",
     "iopub.status.busy": "2025-06-02T13:28:34.053526Z",
     "iopub.status.idle": "2025-06-02T13:28:35.789149Z",
     "shell.execute_reply": "2025-06-02T13:28:35.787254Z"
    }
   },
   "outputs": [
    {
     "name": "stdout",
     "output_type": "stream",
     "text": [
      "Updated sheet 'benchmark_short_term'\n",
      "Successfully merged data into 'daily_quotes' sheet\n",
      "Successfully merged data into 'monthly_quotes' sheet\n",
      "Successfully exported all data to portfolios/portfolio-2025-06-02.xlsx\n"
     ]
    }
   ],
   "source": [
    "export_to_excel(output_file, {\n",
    "    'benchmark_short_term': best_benchmarks_df,\n",
    "    'daily_quotes': benchmark_prices_daily_df[[best_benchmark]],  \n",
    "    'monthly_quotes': benchmark_prices_monthly_df[[best_benchmark]]   \n",
    "})"
   ]
  }
 ],
 "metadata": {
  "kernelspec": {
   "display_name": ".venv",
   "language": "python",
   "name": "python3"
  },
  "language_info": {
   "codemirror_mode": {
    "name": "ipython",
    "version": 3
   },
   "file_extension": ".py",
   "mimetype": "text/x-python",
   "name": "python",
   "nbconvert_exporter": "python",
   "pygments_lexer": "ipython3",
   "version": "3.13.3"
  },
  "widgets": {
   "application/vnd.jupyter.widget-state+json": {
    "state": {
     "045ae3d33e4e4f28bf306e11146680bf": {
      "model_module": "@jupyter-widgets/base",
      "model_module_version": "2.0.0",
      "model_name": "LayoutModel",
      "state": {
       "_model_module": "@jupyter-widgets/base",
       "_model_module_version": "2.0.0",
       "_model_name": "LayoutModel",
       "_view_count": null,
       "_view_module": "@jupyter-widgets/base",
       "_view_module_version": "2.0.0",
       "_view_name": "LayoutView",
       "align_content": null,
       "align_items": null,
       "align_self": null,
       "border_bottom": null,
       "border_left": null,
       "border_right": null,
       "border_top": null,
       "bottom": null,
       "display": null,
       "flex": null,
       "flex_flow": null,
       "grid_area": null,
       "grid_auto_columns": null,
       "grid_auto_flow": null,
       "grid_auto_rows": null,
       "grid_column": null,
       "grid_gap": null,
       "grid_row": null,
       "grid_template_areas": null,
       "grid_template_columns": null,
       "grid_template_rows": null,
       "height": null,
       "justify_content": null,
       "justify_items": null,
       "left": null,
       "margin": null,
       "max_height": null,
       "max_width": null,
       "min_height": null,
       "min_width": null,
       "object_fit": null,
       "object_position": null,
       "order": null,
       "overflow": null,
       "padding": null,
       "right": null,
       "top": null,
       "visibility": null,
       "width": null
      }
     },
     "0e994225a7124f8dacbce576f288c778": {
      "model_module": "@jupyter-widgets/base",
      "model_module_version": "2.0.0",
      "model_name": "LayoutModel",
      "state": {
       "_model_module": "@jupyter-widgets/base",
       "_model_module_version": "2.0.0",
       "_model_name": "LayoutModel",
       "_view_count": null,
       "_view_module": "@jupyter-widgets/base",
       "_view_module_version": "2.0.0",
       "_view_name": "LayoutView",
       "align_content": null,
       "align_items": null,
       "align_self": null,
       "border_bottom": null,
       "border_left": null,
       "border_right": null,
       "border_top": null,
       "bottom": null,
       "display": null,
       "flex": null,
       "flex_flow": null,
       "grid_area": null,
       "grid_auto_columns": null,
       "grid_auto_flow": null,
       "grid_auto_rows": null,
       "grid_column": null,
       "grid_gap": null,
       "grid_row": null,
       "grid_template_areas": null,
       "grid_template_columns": null,
       "grid_template_rows": null,
       "height": null,
       "justify_content": null,
       "justify_items": null,
       "left": null,
       "margin": null,
       "max_height": null,
       "max_width": null,
       "min_height": null,
       "min_width": null,
       "object_fit": null,
       "object_position": null,
       "order": null,
       "overflow": null,
       "padding": null,
       "right": null,
       "top": null,
       "visibility": null,
       "width": null
      }
     },
     "294e0b5895ac4cb5a3e52c40b52715c0": {
      "model_module": "@jupyter-widgets/controls",
      "model_module_version": "2.0.0",
      "model_name": "HBoxModel",
      "state": {
       "_dom_classes": [],
       "_model_module": "@jupyter-widgets/controls",
       "_model_module_version": "2.0.0",
       "_model_name": "HBoxModel",
       "_view_count": null,
       "_view_module": "@jupyter-widgets/controls",
       "_view_module_version": "2.0.0",
       "_view_name": "HBoxView",
       "box_style": "",
       "children": [
        "IPY_MODEL_e2d34e0235144456b14f793c3fac79ca",
        "IPY_MODEL_779190ba5571443db3c0d62d2a37f2a1",
        "IPY_MODEL_dbc34e958a6e419c9a50589872524dc3"
       ],
       "layout": "IPY_MODEL_aaa07405a0404e80af127cfe3778ac1c",
       "tabbable": null,
       "tooltip": null
      }
     },
     "434e195470de46f3af439d9f686ec13c": {
      "model_module": "@jupyter-widgets/controls",
      "model_module_version": "2.0.0",
      "model_name": "HTMLStyleModel",
      "state": {
       "_model_module": "@jupyter-widgets/controls",
       "_model_module_version": "2.0.0",
       "_model_name": "HTMLStyleModel",
       "_view_count": null,
       "_view_module": "@jupyter-widgets/base",
       "_view_module_version": "2.0.0",
       "_view_name": "StyleView",
       "background": null,
       "description_width": "",
       "font_size": null,
       "text_color": null
      }
     },
     "6cedd3aff77641849dcbf7657691054e": {
      "model_module": "@jupyter-widgets/base",
      "model_module_version": "2.0.0",
      "model_name": "LayoutModel",
      "state": {
       "_model_module": "@jupyter-widgets/base",
       "_model_module_version": "2.0.0",
       "_model_name": "LayoutModel",
       "_view_count": null,
       "_view_module": "@jupyter-widgets/base",
       "_view_module_version": "2.0.0",
       "_view_name": "LayoutView",
       "align_content": null,
       "align_items": null,
       "align_self": null,
       "border_bottom": null,
       "border_left": null,
       "border_right": null,
       "border_top": null,
       "bottom": null,
       "display": null,
       "flex": null,
       "flex_flow": null,
       "grid_area": null,
       "grid_auto_columns": null,
       "grid_auto_flow": null,
       "grid_auto_rows": null,
       "grid_column": null,
       "grid_gap": null,
       "grid_row": null,
       "grid_template_areas": null,
       "grid_template_columns": null,
       "grid_template_rows": null,
       "height": null,
       "justify_content": null,
       "justify_items": null,
       "left": null,
       "margin": null,
       "max_height": null,
       "max_width": null,
       "min_height": null,
       "min_width": null,
       "object_fit": null,
       "object_position": null,
       "order": null,
       "overflow": null,
       "padding": null,
       "right": null,
       "top": null,
       "visibility": null,
       "width": null
      }
     },
     "779190ba5571443db3c0d62d2a37f2a1": {
      "model_module": "@jupyter-widgets/controls",
      "model_module_version": "2.0.0",
      "model_name": "FloatProgressModel",
      "state": {
       "_dom_classes": [],
       "_model_module": "@jupyter-widgets/controls",
       "_model_module_version": "2.0.0",
       "_model_name": "FloatProgressModel",
       "_view_count": null,
       "_view_module": "@jupyter-widgets/controls",
       "_view_module_version": "2.0.0",
       "_view_name": "ProgressView",
       "bar_style": "success",
       "description": "",
       "description_allow_html": false,
       "layout": "IPY_MODEL_0e994225a7124f8dacbce576f288c778",
       "max": 513,
       "min": 0,
       "orientation": "horizontal",
       "style": "IPY_MODEL_7e34651eb7364339b0dac58478f22353",
       "tabbable": null,
       "tooltip": null,
       "value": 513
      }
     },
     "7e34651eb7364339b0dac58478f22353": {
      "model_module": "@jupyter-widgets/controls",
      "model_module_version": "2.0.0",
      "model_name": "ProgressStyleModel",
      "state": {
       "_model_module": "@jupyter-widgets/controls",
       "_model_module_version": "2.0.0",
       "_model_name": "ProgressStyleModel",
       "_view_count": null,
       "_view_module": "@jupyter-widgets/base",
       "_view_module_version": "2.0.0",
       "_view_name": "StyleView",
       "bar_color": null,
       "description_width": ""
      }
     },
     "aaa07405a0404e80af127cfe3778ac1c": {
      "model_module": "@jupyter-widgets/base",
      "model_module_version": "2.0.0",
      "model_name": "LayoutModel",
      "state": {
       "_model_module": "@jupyter-widgets/base",
       "_model_module_version": "2.0.0",
       "_model_name": "LayoutModel",
       "_view_count": null,
       "_view_module": "@jupyter-widgets/base",
       "_view_module_version": "2.0.0",
       "_view_name": "LayoutView",
       "align_content": null,
       "align_items": null,
       "align_self": null,
       "border_bottom": null,
       "border_left": null,
       "border_right": null,
       "border_top": null,
       "bottom": null,
       "display": null,
       "flex": null,
       "flex_flow": null,
       "grid_area": null,
       "grid_auto_columns": null,
       "grid_auto_flow": null,
       "grid_auto_rows": null,
       "grid_column": null,
       "grid_gap": null,
       "grid_row": null,
       "grid_template_areas": null,
       "grid_template_columns": null,
       "grid_template_rows": null,
       "height": null,
       "justify_content": null,
       "justify_items": null,
       "left": null,
       "margin": null,
       "max_height": null,
       "max_width": null,
       "min_height": null,
       "min_width": null,
       "object_fit": null,
       "object_position": null,
       "order": null,
       "overflow": null,
       "padding": null,
       "right": null,
       "top": null,
       "visibility": null,
       "width": null
      }
     },
     "ae061c1387cd4fb6b8a1d923d00e3685": {
      "model_module": "@jupyter-widgets/controls",
      "model_module_version": "2.0.0",
      "model_name": "HTMLStyleModel",
      "state": {
       "_model_module": "@jupyter-widgets/controls",
       "_model_module_version": "2.0.0",
       "_model_name": "HTMLStyleModel",
       "_view_count": null,
       "_view_module": "@jupyter-widgets/base",
       "_view_module_version": "2.0.0",
       "_view_name": "StyleView",
       "background": null,
       "description_width": "",
       "font_size": null,
       "text_color": null
      }
     },
     "dbc34e958a6e419c9a50589872524dc3": {
      "model_module": "@jupyter-widgets/controls",
      "model_module_version": "2.0.0",
      "model_name": "HTMLModel",
      "state": {
       "_dom_classes": [],
       "_model_module": "@jupyter-widgets/controls",
       "_model_module_version": "2.0.0",
       "_model_name": "HTMLModel",
       "_view_count": null,
       "_view_module": "@jupyter-widgets/controls",
       "_view_module_version": "2.0.0",
       "_view_name": "HTMLView",
       "description": "",
       "description_allow_html": false,
       "layout": "IPY_MODEL_045ae3d33e4e4f28bf306e11146680bf",
       "placeholder": "​",
       "style": "IPY_MODEL_434e195470de46f3af439d9f686ec13c",
       "tabbable": null,
       "tooltip": null,
       "value": " 513/513 [00:13&lt;00:00, 21.56it/s]"
      }
     },
     "e2d34e0235144456b14f793c3fac79ca": {
      "model_module": "@jupyter-widgets/controls",
      "model_module_version": "2.0.0",
      "model_name": "HTMLModel",
      "state": {
       "_dom_classes": [],
       "_model_module": "@jupyter-widgets/controls",
       "_model_module_version": "2.0.0",
       "_model_name": "HTMLModel",
       "_view_count": null,
       "_view_module": "@jupyter-widgets/controls",
       "_view_module_version": "2.0.0",
       "_view_name": "HTMLView",
       "description": "",
       "description_allow_html": false,
       "layout": "IPY_MODEL_6cedd3aff77641849dcbf7657691054e",
       "placeholder": "​",
       "style": "IPY_MODEL_ae061c1387cd4fb6b8a1d923d00e3685",
       "tabbable": null,
       "tooltip": null,
       "value": "100%"
      }
     }
    },
    "version_major": 2,
    "version_minor": 0
   }
  }
 },
 "nbformat": 4,
 "nbformat_minor": 5
}
