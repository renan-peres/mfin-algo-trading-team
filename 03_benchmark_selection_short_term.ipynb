{
 "cells": [
  {
   "cell_type": "markdown",
   "id": "bcc3381f",
   "metadata": {},
   "source": [
    "<a href=\"https://colab.research.google.com/github/renan-peres/mfin-portfolio-management/blob/main/03_benchmark_selection.ipynb\" target=\"_parent\"><img src=\"https://colab.research.google.com/assets/colab-badge.svg\" alt=\"Open In Colab\"/></a>"
   ]
  },
  {
   "cell_type": "markdown",
   "id": "e4cd6428",
   "metadata": {},
   "source": [
    "# Benchmark Selection with Regression Analysis\n",
    "This model aims to select an ETF that best fits with the portfolio to be used as a benchmark. The methodology uses a regression analysis to identify the relationship between the ETF and the portfolio and check the ETF with the highest R² and lowest p-value will be selected as the benchmark. \n",
    "\n",
    "The model will use the following steps:\n",
    "1. Select an ETF that invests in the same sectors as the portfolio holdings.\n",
    "2. Use regression analysis to identify the relationship between the ETF and the portfolio.\n",
    "3. Select the ETF with the highest R² and lowest p-value as the benchmark.\n",
    "4. Use the selected ETF as a benchmark to evaluate the performance of the portfolio."
   ]
  },
  {
   "cell_type": "markdown",
   "id": "dc371546",
   "metadata": {},
   "source": [
    "### Step 1: Import Libraries"
   ]
  },
  {
   "cell_type": "code",
   "execution_count": 1,
   "id": "d09ef8c1",
   "metadata": {
    "execution": {
     "iopub.execute_input": "2025-06-02T13:28:29.114690Z",
     "iopub.status.busy": "2025-06-02T13:28:29.114145Z",
     "iopub.status.idle": "2025-06-02T13:28:30.793724Z",
     "shell.execute_reply": "2025-06-02T13:28:30.792289Z"
    }
   },
   "outputs": [],
   "source": [
    "# UDFs\n",
    "from py.utils import load_and_filter_data, export_to_excel\n",
    "from py.regression_benchmark import find_best_benchmark_and_run_regressions\n",
    "\n",
    "# System libraries\n",
    "import glob\n",
    "import os\n",
    "import sys\n",
    "from io import StringIO\n",
    "from typing import Dict, List\n",
    "\n",
    "# Data manipulation libraries\n",
    "import pandas as pd\n",
    "import numpy as np\n",
    "from datetime import datetime, timedelta\n",
    "from pandas.tseries.offsets import BDay\n",
    "\n",
    "# Data Visualization libraries\n",
    "import matplotlib.pyplot as plt\n",
    "import seaborn as sns\n",
    "\n",
    "# Excel libraries\n",
    "from openpyxl import load_workbook\n",
    "from openpyxl.styles import Alignment, Font\n",
    "import ast"
   ]
  },
  {
   "cell_type": "markdown",
   "id": "e2e1bc31",
   "metadata": {},
   "source": [
    "### Step 2: Define Parameters"
   ]
  },
  {
   "cell_type": "markdown",
   "id": "766d204e",
   "metadata": {},
   "source": [
    "#### Dates"
   ]
  },
  {
   "cell_type": "code",
   "execution_count": 2,
   "id": "d59ab3b0",
   "metadata": {
    "execution": {
     "iopub.execute_input": "2025-06-02T13:28:30.798269Z",
     "iopub.status.busy": "2025-06-02T13:28:30.797519Z",
     "iopub.status.idle": "2025-06-02T13:28:30.805224Z",
     "shell.execute_reply": "2025-06-02T13:28:30.803735Z"
    }
   },
   "outputs": [
    {
     "name": "stdout",
     "output_type": "stream",
     "text": [
      "Date Range: 2015-06-07 to 2025-06-04\n",
      "Time span: 3650 days (10.00 years)\n"
     ]
    }
   ],
   "source": [
    "# Define the date range\n",
    "end_date = (datetime.today() - BDay(1)).to_pydatetime()  # Subtract 1 business day\n",
    "start_date = end_date - timedelta(days=10*365)            # 10 years ago from the end date\n",
    "\n",
    "# Convert datetime objects to Unix timestamps (seconds since Jan 1, 1970)\n",
    "start_timestamp = int(start_date.timestamp())\n",
    "end_timestamp = int(end_date.timestamp())\n",
    "\n",
    "# Print the date range\n",
    "days_difference = (end_date - start_date).days\n",
    "print(f\"Date Range: {start_date.strftime('%Y-%m-%d')} to {end_date.strftime('%Y-%m-%d')}\")\n",
    "print(f\"Time span: {days_difference} days ({days_difference/365:.2f} years)\")"
   ]
  },
  {
   "cell_type": "markdown",
   "id": "c216556a",
   "metadata": {},
   "source": [
    "#### Risk-free rate (T-bill, %)"
   ]
  },
  {
   "cell_type": "code",
   "execution_count": 3,
   "id": "3f485596",
   "metadata": {
    "execution": {
     "iopub.execute_input": "2025-06-02T13:28:30.808605Z",
     "iopub.status.busy": "2025-06-02T13:28:30.808221Z",
     "iopub.status.idle": "2025-06-02T13:28:30.832293Z",
     "shell.execute_reply": "2025-06-02T13:28:30.831288Z"
    }
   },
   "outputs": [
    {
     "name": "stdout",
     "output_type": "stream",
     "text": [
      "Found 1 of 1 tickers in data/daily_treasury_rates.csv\n",
      "Missing tickers: []\n",
      "Risk-Free Rate: 0.0424 -- 13 WEEK TREASURY BILL (^IRX)\n"
     ]
    },
    {
     "data": {
      "application/vnd.microsoft.datawrangler.viewer.v0+json": {
       "columns": [
        {
         "name": "Date",
         "rawType": "datetime64[ns]",
         "type": "datetime"
        },
        {
         "name": "^IRX",
         "rawType": "float64",
         "type": "float"
        }
       ],
       "ref": "b093f614-093d-4db0-987d-3c5b390b39f3",
       "rows": [
        [
         "2015-06-08 00:00:00",
         "0.01"
        ],
        [
         "2015-06-09 00:00:00",
         "0.013"
        ],
        [
         "2015-06-10 00:00:00",
         "0.013"
        ],
        [
         "2015-06-11 00:00:00",
         "0.008"
        ],
        [
         "2015-06-12 00:00:00",
         "0.005"
        ]
       ],
       "shape": {
        "columns": 1,
        "rows": 5
       }
      },
      "text/html": [
       "<div>\n",
       "<style scoped>\n",
       "    .dataframe tbody tr th:only-of-type {\n",
       "        vertical-align: middle;\n",
       "    }\n",
       "\n",
       "    .dataframe tbody tr th {\n",
       "        vertical-align: top;\n",
       "    }\n",
       "\n",
       "    .dataframe thead th {\n",
       "        text-align: right;\n",
       "    }\n",
       "</style>\n",
       "<table border=\"1\" class=\"dataframe\">\n",
       "  <thead>\n",
       "    <tr style=\"text-align: right;\">\n",
       "      <th></th>\n",
       "      <th>^IRX</th>\n",
       "    </tr>\n",
       "    <tr>\n",
       "      <th>Date</th>\n",
       "      <th></th>\n",
       "    </tr>\n",
       "  </thead>\n",
       "  <tbody>\n",
       "    <tr>\n",
       "      <th>2015-06-08</th>\n",
       "      <td>0.010</td>\n",
       "    </tr>\n",
       "    <tr>\n",
       "      <th>2015-06-09</th>\n",
       "      <td>0.013</td>\n",
       "    </tr>\n",
       "    <tr>\n",
       "      <th>2015-06-10</th>\n",
       "      <td>0.013</td>\n",
       "    </tr>\n",
       "    <tr>\n",
       "      <th>2015-06-11</th>\n",
       "      <td>0.008</td>\n",
       "    </tr>\n",
       "    <tr>\n",
       "      <th>2015-06-12</th>\n",
       "      <td>0.005</td>\n",
       "    </tr>\n",
       "  </tbody>\n",
       "</table>\n",
       "</div>"
      ],
      "text/plain": [
       "             ^IRX\n",
       "Date             \n",
       "2015-06-08  0.010\n",
       "2015-06-09  0.013\n",
       "2015-06-10  0.013\n",
       "2015-06-11  0.008\n",
       "2015-06-12  0.005"
      ]
     },
     "execution_count": 3,
     "metadata": {},
     "output_type": "execute_result"
    }
   ],
   "source": [
    "# Load and process data\n",
    "daily_risk_free_df = load_and_filter_data('data/daily_treasury_rates.csv', ['^IRX'], start_date, end_date)\n",
    "# risk_free_rate = .0433 \n",
    "risk_free_rate = daily_risk_free_df.iloc[-1, 0] / 100\n",
    "risk_free_rate_monthly = risk_free_rate / 12\n",
    "\n",
    "# Display result\n",
    "print(\"Risk-Free Rate:\", risk_free_rate, \"-- 13 WEEK TREASURY BILL (^IRX)\")\n",
    "daily_risk_free_df.head()"
   ]
  },
  {
   "cell_type": "markdown",
   "id": "119e2261",
   "metadata": {},
   "source": [
    "#### Report File"
   ]
  },
  {
   "cell_type": "code",
   "execution_count": 4,
   "id": "b19e2a7b",
   "metadata": {
    "execution": {
     "iopub.execute_input": "2025-06-02T13:28:30.835903Z",
     "iopub.status.busy": "2025-06-02T13:28:30.835544Z",
     "iopub.status.idle": "2025-06-02T13:28:30.841061Z",
     "shell.execute_reply": "2025-06-02T13:28:30.840100Z"
    }
   },
   "outputs": [
    {
     "name": "stdout",
     "output_type": "stream",
     "text": [
      "Using most recent portfolio file: portfolios/portfolio-2025-06-04.xlsx\n"
     ]
    }
   ],
   "source": [
    "# Get the most recent portfolio file\n",
    "portfolio_files = glob.glob('portfolios/portfolio-*.xlsx')\n",
    "if portfolio_files:\n",
    "    # Sort files by modification time (most recent first)\n",
    "    output_file = max(portfolio_files, key=os.path.getmtime)\n",
    "    print(f\"Using most recent portfolio file: {output_file}\")\n",
    "else:\n",
    "    # Fallback to current date if no files found\n",
    "    output_file = f'portfolios/portfolio-{datetime.date(end_date)}.xlsx'\n",
    "    print(f\"No portfolio files found. Using: {output_file}\")"
   ]
  },
  {
   "cell_type": "markdown",
   "id": "955d4081",
   "metadata": {},
   "source": [
    "### Step 3: Read ETF Data"
   ]
  },
  {
   "cell_type": "code",
   "execution_count": 5,
   "id": "4339ebf2",
   "metadata": {
    "execution": {
     "iopub.execute_input": "2025-06-02T13:28:30.844553Z",
     "iopub.status.busy": "2025-06-02T13:28:30.844341Z",
     "iopub.status.idle": "2025-06-02T13:28:30.887886Z",
     "shell.execute_reply": "2025-06-02T13:28:30.886516Z"
    }
   },
   "outputs": [
    {
     "data": {
      "application/vnd.microsoft.datawrangler.viewer.v0+json": {
       "columns": [
        {
         "name": "index",
         "rawType": "int64",
         "type": "integer"
        },
        {
         "name": "Symbol",
         "rawType": "object",
         "type": "string"
        },
        {
         "name": "Name",
         "rawType": "object",
         "type": "string"
        },
        {
         "name": "Sectors",
         "rawType": "object",
         "type": "unknown"
        }
       ],
       "ref": "4d5d5e1d-c39f-43b7-82cf-dd7d82d97b7c",
       "rows": [
        [
         "0",
         "AADR",
         "AdvisorShares Dorsey Wright ADR ETF",
         "{'realestate': 0.0, 'consumer_cyclical': 0.1182, 'basic_materials': 0.0425, 'consumer_defensive': 0.0, 'technology': 0.16479999, 'communication_services': 0.089499995, 'financial_services': 0.33900002, 'utilities': 0.033299997, 'industrials': 0.1005, 'energy': 0.0334, 'healthcare': 0.0788}"
        ],
        [
         "1",
         "ABFL",
         "Abacus FCF Leaders ETF",
         "{'realestate': 0.0, 'consumer_cyclical': 0.1188, 'basic_materials': 0.0, 'consumer_defensive': 0.0765, 'technology': 0.5052, 'communication_services': 0.0709, 'financial_services': 0.042600002, 'utilities': 0.0, 'industrials': 0.041100003, 'energy': 0.0, 'healthcare': 0.1449}"
        ],
        [
         "2",
         "ACWI",
         "iShares MSCI ACWI ETF",
         "{'realestate': 0.0216, 'consumer_cyclical': 0.1039, 'basic_materials': 0.0346, 'consumer_defensive': 0.0641, 'technology': 0.2491, 'communication_services': 0.084, 'financial_services': 0.1752, 'utilities': 0.0269, 'industrials': 0.1021, 'energy': 0.0375, 'healthcare': 0.1012}"
        ],
        [
         "3",
         "ADME",
         "Aptus Drawdown Managed Equity ETF",
         "{'realestate': 0.0222, 'consumer_cyclical': 0.1022, 'basic_materials': 0.0222, 'consumer_defensive': 0.0608, 'technology': 0.3147, 'communication_services': 0.091800004, 'financial_services': 0.1384, 'utilities': 0.0254, 'industrials': 0.0746, 'energy': 0.0357, 'healthcare': 0.111899994}"
        ],
        [
         "4",
         "AGNG",
         "Global X Aging Population ETF",
         "{'realestate': 0.0791, 'consumer_cyclical': 0.0, 'basic_materials': 0.0, 'consumer_defensive': 0.0, 'technology': 0.0, 'communication_services': 0.0, 'financial_services': 0.0, 'utilities': 0.0, 'industrials': 0.0, 'energy': 0.0, 'healthcare': 0.9209}"
        ]
       ],
       "shape": {
        "columns": 3,
        "rows": 5
       }
      },
      "text/html": [
       "<div>\n",
       "<style scoped>\n",
       "    .dataframe tbody tr th:only-of-type {\n",
       "        vertical-align: middle;\n",
       "    }\n",
       "\n",
       "    .dataframe tbody tr th {\n",
       "        vertical-align: top;\n",
       "    }\n",
       "\n",
       "    .dataframe thead th {\n",
       "        text-align: right;\n",
       "    }\n",
       "</style>\n",
       "<table border=\"1\" class=\"dataframe\">\n",
       "  <thead>\n",
       "    <tr style=\"text-align: right;\">\n",
       "      <th></th>\n",
       "      <th>Symbol</th>\n",
       "      <th>Name</th>\n",
       "      <th>Sectors</th>\n",
       "    </tr>\n",
       "  </thead>\n",
       "  <tbody>\n",
       "    <tr>\n",
       "      <th>0</th>\n",
       "      <td>AADR</td>\n",
       "      <td>AdvisorShares Dorsey Wright ADR ETF</td>\n",
       "      <td>{'realestate': 0.0, 'consumer_cyclical': 0.118...</td>\n",
       "    </tr>\n",
       "    <tr>\n",
       "      <th>1</th>\n",
       "      <td>ABFL</td>\n",
       "      <td>Abacus FCF Leaders ETF</td>\n",
       "      <td>{'realestate': 0.0, 'consumer_cyclical': 0.118...</td>\n",
       "    </tr>\n",
       "    <tr>\n",
       "      <th>2</th>\n",
       "      <td>ACWI</td>\n",
       "      <td>iShares MSCI ACWI ETF</td>\n",
       "      <td>{'realestate': 0.0216, 'consumer_cyclical': 0....</td>\n",
       "    </tr>\n",
       "    <tr>\n",
       "      <th>3</th>\n",
       "      <td>ADME</td>\n",
       "      <td>Aptus Drawdown Managed Equity ETF</td>\n",
       "      <td>{'realestate': 0.0222, 'consumer_cyclical': 0....</td>\n",
       "    </tr>\n",
       "    <tr>\n",
       "      <th>4</th>\n",
       "      <td>AGNG</td>\n",
       "      <td>Global X Aging Population ETF</td>\n",
       "      <td>{'realestate': 0.0791, 'consumer_cyclical': 0....</td>\n",
       "    </tr>\n",
       "  </tbody>\n",
       "</table>\n",
       "</div>"
      ],
      "text/plain": [
       "  Symbol                                 Name  \\\n",
       "0   AADR  AdvisorShares Dorsey Wright ADR ETF   \n",
       "1   ABFL               Abacus FCF Leaders ETF   \n",
       "2   ACWI                iShares MSCI ACWI ETF   \n",
       "3   ADME    Aptus Drawdown Managed Equity ETF   \n",
       "4   AGNG        Global X Aging Population ETF   \n",
       "\n",
       "                                             Sectors  \n",
       "0  {'realestate': 0.0, 'consumer_cyclical': 0.118...  \n",
       "1  {'realestate': 0.0, 'consumer_cyclical': 0.118...  \n",
       "2  {'realestate': 0.0216, 'consumer_cyclical': 0....  \n",
       "3  {'realestate': 0.0222, 'consumer_cyclical': 0....  \n",
       "4  {'realestate': 0.0791, 'consumer_cyclical': 0....  "
      ]
     },
     "execution_count": 5,
     "metadata": {},
     "output_type": "execute_result"
    }
   ],
   "source": [
    "# Load Data\n",
    "sectors_df = pd.read_csv(\"data/fundamentals_benchmark.csv\") \n",
    "sectors_df = sectors_df[[\"Ticker\", \"Name\", \"Sector Weightings\"]]\n",
    "sectors_df = sectors_df.rename(columns={\"Name\": \"Name\", \"Ticker\": \"Symbol\", \"Sector Weightings\": \"Sectors\"})\n",
    "\n",
    "# Convert string representations of dictionaries to actual dictionaries\n",
    "sectors_df['Sectors'] = sectors_df['Sectors'].apply(lambda x: ast.literal_eval(x) if isinstance(x, str) and x.strip() else {})\n",
    "\n",
    "# Display\n",
    "sectors_df.head()"
   ]
  },
  {
   "cell_type": "markdown",
   "id": "30db5c6d",
   "metadata": {},
   "source": [
    "### Step 4: Read Portfolio Data (Excel)"
   ]
  },
  {
   "cell_type": "code",
   "execution_count": 6,
   "id": "7cc2ecd6",
   "metadata": {
    "execution": {
     "iopub.execute_input": "2025-06-02T13:28:30.891757Z",
     "iopub.status.busy": "2025-06-02T13:28:30.890808Z",
     "iopub.status.idle": "2025-06-02T13:28:30.943911Z",
     "shell.execute_reply": "2025-06-02T13:28:30.942866Z"
    }
   },
   "outputs": [
    {
     "name": "stdout",
     "output_type": "stream",
     "text": [
      "['GRMN', 'MSFT']\n"
     ]
    },
    {
     "data": {
      "application/vnd.microsoft.datawrangler.viewer.v0+json": {
       "columns": [
        {
         "name": "index",
         "rawType": "int64",
         "type": "integer"
        },
        {
         "name": "Ticker",
         "rawType": "object",
         "type": "string"
        },
        {
         "name": "Date",
         "rawType": "object",
         "type": "string"
        },
        {
         "name": "Name",
         "rawType": "object",
         "type": "string"
        },
        {
         "name": "Sector",
         "rawType": "object",
         "type": "string"
        },
        {
         "name": "Industry",
         "rawType": "object",
         "type": "string"
        },
        {
         "name": "Country",
         "rawType": "object",
         "type": "string"
        },
        {
         "name": "Website",
         "rawType": "object",
         "type": "string"
        },
        {
         "name": "Market Cap",
         "rawType": "int64",
         "type": "integer"
        },
        {
         "name": "Enterprise Value",
         "rawType": "int64",
         "type": "integer"
        },
        {
         "name": "Float Shares",
         "rawType": "int64",
         "type": "integer"
        },
        {
         "name": "Shares Outstanding",
         "rawType": "int64",
         "type": "integer"
        },
        {
         "name": "P/E (Trailing)",
         "rawType": "float64",
         "type": "float"
        },
        {
         "name": "P/E (Forward)",
         "rawType": "float64",
         "type": "float"
        },
        {
         "name": "P/S",
         "rawType": "float64",
         "type": "float"
        },
        {
         "name": "P/B",
         "rawType": "float64",
         "type": "float"
        },
        {
         "name": "EV/Ebitda",
         "rawType": "float64",
         "type": "float"
        },
        {
         "name": "EV/Revenue",
         "rawType": "float64",
         "type": "float"
        },
        {
         "name": "Gross Margin (%)",
         "rawType": "float64",
         "type": "float"
        },
        {
         "name": "Ebitda Margin (%)",
         "rawType": "float64",
         "type": "float"
        },
        {
         "name": "Operating Margin (%)",
         "rawType": "float64",
         "type": "float"
        },
        {
         "name": "Profit Margin (%)",
         "rawType": "float64",
         "type": "float"
        },
        {
         "name": "ROE",
         "rawType": "float64",
         "type": "float"
        },
        {
         "name": "ROA",
         "rawType": "float64",
         "type": "float"
        },
        {
         "name": "Revenue (TTM)",
         "rawType": "int64",
         "type": "integer"
        },
        {
         "name": "Revenue Growth (%)",
         "rawType": "float64",
         "type": "float"
        },
        {
         "name": "EPS (Trailing)",
         "rawType": "float64",
         "type": "float"
        },
        {
         "name": "EPS (Forward)",
         "rawType": "float64",
         "type": "float"
        },
        {
         "name": "Earnings Growth (%)",
         "rawType": "float64",
         "type": "float"
        },
        {
         "name": "Earnings Quarterly Growth (%)",
         "rawType": "float64",
         "type": "float"
        },
        {
         "name": "Total Cash",
         "rawType": "int64",
         "type": "integer"
        },
        {
         "name": "Total Debt",
         "rawType": "int64",
         "type": "integer"
        },
        {
         "name": "Debt To Equity",
         "rawType": "float64",
         "type": "float"
        },
        {
         "name": "Current Ratio",
         "rawType": "float64",
         "type": "float"
        },
        {
         "name": "Quick Ratio",
         "rawType": "float64",
         "type": "float"
        },
        {
         "name": "Book Value",
         "rawType": "float64",
         "type": "float"
        },
        {
         "name": "Free Cash Flow",
         "rawType": "int64",
         "type": "integer"
        },
        {
         "name": "Operating Cash Flow",
         "rawType": "int64",
         "type": "integer"
        },
        {
         "name": "Dividend Yield (%)",
         "rawType": "float64",
         "type": "float"
        },
        {
         "name": "Dividend Rate (%)",
         "rawType": "float64",
         "type": "float"
        },
        {
         "name": "5Y Avg Dividend Yield (%)",
         "rawType": "float64",
         "type": "float"
        },
        {
         "name": "Payout Ratio (%)",
         "rawType": "float64",
         "type": "float"
        },
        {
         "name": "Price",
         "rawType": "float64",
         "type": "float"
        },
        {
         "name": "Target Price",
         "rawType": "float64",
         "type": "float"
        },
        {
         "name": "Target High",
         "rawType": "int64",
         "type": "integer"
        },
        {
         "name": "Target Low",
         "rawType": "float64",
         "type": "float"
        },
        {
         "name": "Analyst Rating",
         "rawType": "object",
         "type": "string"
        },
        {
         "name": "Analyst Rating Value",
         "rawType": "float64",
         "type": "float"
        },
        {
         "name": "Beta",
         "rawType": "float64",
         "type": "float"
        },
        {
         "name": "52W High",
         "rawType": "float64",
         "type": "float"
        },
        {
         "name": "52W Low",
         "rawType": "float64",
         "type": "float"
        },
        {
         "name": "50 Day Avg",
         "rawType": "float64",
         "type": "float"
        },
        {
         "name": "200 Day Avg",
         "rawType": "float64",
         "type": "float"
        },
        {
         "name": "Short Ratio",
         "rawType": "float64",
         "type": "float"
        },
        {
         "name": "Short % Of Float",
         "rawType": "float64",
         "type": "float"
        },
        {
         "name": "Strategy",
         "rawType": "object",
         "type": "string"
        },
        {
         "name": "Best Sharpe",
         "rawType": "float64",
         "type": "float"
        },
        {
         "name": "Best Sortino",
         "rawType": "float64",
         "type": "float"
        },
        {
         "name": "CAGR",
         "rawType": "float64",
         "type": "float"
        },
        {
         "name": "Max Drawdown",
         "rawType": "float64",
         "type": "float"
        },
        {
         "name": "Volatility",
         "rawType": "float64",
         "type": "float"
        },
        {
         "name": "Short Period",
         "rawType": "int64",
         "type": "integer"
        },
        {
         "name": "Long Period",
         "rawType": "int64",
         "type": "integer"
        },
        {
         "name": "Articles In Last Week",
         "rawType": "int64",
         "type": "integer"
        },
        {
         "name": "Company News Score",
         "rawType": "float64",
         "type": "float"
        },
        {
         "name": "Bearish Percent",
         "rawType": "float64",
         "type": "float"
        },
        {
         "name": "Bullish Percent",
         "rawType": "float64",
         "type": "float"
        },
        {
         "name": "Average Sentiment Score",
         "rawType": "float64",
         "type": "float"
        },
        {
         "name": "Sector Average Bullish Percent",
         "rawType": "float64",
         "type": "float"
        },
        {
         "name": "Sector Average News Score",
         "rawType": "float64",
         "type": "float"
        },
        {
         "name": "Weight",
         "rawType": "float64",
         "type": "float"
        }
       ],
       "ref": "73172acc-4c25-44da-9131-b5efd2d9b28e",
       "rows": [
        [
         "0",
         "GRMN",
         "2025-06-02",
         "Garmin Ltd.",
         "Technology",
         "Scientific & Technical Instruments",
         "Switzerland",
         "https://www.garmin.com",
         "39080046592",
         "36584062976",
         "174794910",
         "192540992",
         "26.74",
         "27.21",
         "6.06",
         "4.78",
         "20.22",
         "5.67",
         "0.5858",
         "0.2806",
         "0.2168",
         "0.2276",
         "0.19",
         "0.11",
         "6450353152",
         "0.111",
         "7.59",
         "7.46",
         "0.203",
         "0.206",
         "2674510080",
         "178435008",
         "2.18",
         "4.1",
         "2.62",
         "42.44",
         "901582016",
         "1417954048",
         "0.0177",
         "0.036",
         "0.022",
         "0.3953",
         "202.97",
         "198.54",
         "285",
         "152.0",
         "hold",
         "3.0",
         "0.99",
         "246.5",
         "158.38",
         "198.45",
         "198.66",
         "2.49",
         "0.01",
         "SMA_Cross_Signal",
         "0.786474555804413",
         "1.060541040801033",
         "0.1799590338299017",
         "-0.4257363125460245",
         "0.2499110227501374",
         "10",
         "190",
         "7",
         "0.6018",
         "0.0",
         "0.4286",
         "0.2036",
         "0.4921",
         "0.5663",
         "0.5"
        ],
        [
         "1",
         "MSFT",
         "2025-06-02",
         "Microsoft Corporation",
         "Technology",
         "Software - Infrastructure",
         "United States",
         "https://www.microsoft.com",
         "3421643997184",
         "3447046799360",
         "7422063978",
         "7432540160",
         "35.58",
         "30.79",
         "12.67",
         "10.63",
         "23.11",
         "12.77",
         "0.6907",
         "0.5525",
         "0.4567",
         "0.3579",
         "0.34",
         "0.15",
         "270010007552",
         "0.133",
         "12.94",
         "14.95",
         "0.177",
         "0.177",
         "79617998848",
         "105018998784",
         "32.63",
         "1.37",
         "1.24",
         "43.3",
         "54817001472",
         "130710003712",
         "0.0072",
         "0.0332",
         "0.0083",
         "0.2442",
         "460.36",
         "509.92",
         "650",
         "429.86",
         "strong_buy",
         "1.41",
         "1.03",
         "468.35",
         "344.79",
         "409.1",
         "417.01",
         "2.48",
         "0.01",
         "SMA_Cross_Signal",
         "1.00833131720027",
         "1.278231764998727",
         "0.2635393207927532",
         "-0.2804226918798666",
         "0.2676509629055562",
         "30",
         "190",
         "37",
         "0.6028",
         "0.0541",
         "0.5405",
         "0.2057",
         "0.4921",
         "0.5663",
         "0.5"
        ]
       ],
       "shape": {
        "columns": 70,
        "rows": 2
       }
      },
      "text/html": [
       "<div>\n",
       "<style scoped>\n",
       "    .dataframe tbody tr th:only-of-type {\n",
       "        vertical-align: middle;\n",
       "    }\n",
       "\n",
       "    .dataframe tbody tr th {\n",
       "        vertical-align: top;\n",
       "    }\n",
       "\n",
       "    .dataframe thead th {\n",
       "        text-align: right;\n",
       "    }\n",
       "</style>\n",
       "<table border=\"1\" class=\"dataframe\">\n",
       "  <thead>\n",
       "    <tr style=\"text-align: right;\">\n",
       "      <th></th>\n",
       "      <th>Ticker</th>\n",
       "      <th>Date</th>\n",
       "      <th>Name</th>\n",
       "      <th>Sector</th>\n",
       "      <th>Industry</th>\n",
       "      <th>Country</th>\n",
       "      <th>Website</th>\n",
       "      <th>Market Cap</th>\n",
       "      <th>Enterprise Value</th>\n",
       "      <th>Float Shares</th>\n",
       "      <th>...</th>\n",
       "      <th>Short Period</th>\n",
       "      <th>Long Period</th>\n",
       "      <th>Articles In Last Week</th>\n",
       "      <th>Company News Score</th>\n",
       "      <th>Bearish Percent</th>\n",
       "      <th>Bullish Percent</th>\n",
       "      <th>Average Sentiment Score</th>\n",
       "      <th>Sector Average Bullish Percent</th>\n",
       "      <th>Sector Average News Score</th>\n",
       "      <th>Weight</th>\n",
       "    </tr>\n",
       "  </thead>\n",
       "  <tbody>\n",
       "    <tr>\n",
       "      <th>0</th>\n",
       "      <td>GRMN</td>\n",
       "      <td>2025-06-02</td>\n",
       "      <td>Garmin Ltd.</td>\n",
       "      <td>Technology</td>\n",
       "      <td>Scientific &amp; Technical Instruments</td>\n",
       "      <td>Switzerland</td>\n",
       "      <td>https://www.garmin.com</td>\n",
       "      <td>39080046592</td>\n",
       "      <td>36584062976</td>\n",
       "      <td>174794910</td>\n",
       "      <td>...</td>\n",
       "      <td>10</td>\n",
       "      <td>190</td>\n",
       "      <td>7</td>\n",
       "      <td>0.6018</td>\n",
       "      <td>0.0000</td>\n",
       "      <td>0.4286</td>\n",
       "      <td>0.2036</td>\n",
       "      <td>0.4921</td>\n",
       "      <td>0.5663</td>\n",
       "      <td>0.5</td>\n",
       "    </tr>\n",
       "    <tr>\n",
       "      <th>1</th>\n",
       "      <td>MSFT</td>\n",
       "      <td>2025-06-02</td>\n",
       "      <td>Microsoft Corporation</td>\n",
       "      <td>Technology</td>\n",
       "      <td>Software - Infrastructure</td>\n",
       "      <td>United States</td>\n",
       "      <td>https://www.microsoft.com</td>\n",
       "      <td>3421643997184</td>\n",
       "      <td>3447046799360</td>\n",
       "      <td>7422063978</td>\n",
       "      <td>...</td>\n",
       "      <td>30</td>\n",
       "      <td>190</td>\n",
       "      <td>37</td>\n",
       "      <td>0.6028</td>\n",
       "      <td>0.0541</td>\n",
       "      <td>0.5405</td>\n",
       "      <td>0.2057</td>\n",
       "      <td>0.4921</td>\n",
       "      <td>0.5663</td>\n",
       "      <td>0.5</td>\n",
       "    </tr>\n",
       "  </tbody>\n",
       "</table>\n",
       "<p>2 rows × 70 columns</p>\n",
       "</div>"
      ],
      "text/plain": [
       "  Ticker        Date                   Name      Sector  \\\n",
       "0   GRMN  2025-06-02            Garmin Ltd.  Technology   \n",
       "1   MSFT  2025-06-02  Microsoft Corporation  Technology   \n",
       "\n",
       "                             Industry        Country  \\\n",
       "0  Scientific & Technical Instruments    Switzerland   \n",
       "1           Software - Infrastructure  United States   \n",
       "\n",
       "                     Website     Market Cap  Enterprise Value  Float Shares  \\\n",
       "0     https://www.garmin.com    39080046592       36584062976     174794910   \n",
       "1  https://www.microsoft.com  3421643997184     3447046799360    7422063978   \n",
       "\n",
       "   ...  Short Period  Long Period  Articles In Last Week  Company News Score  \\\n",
       "0  ...            10          190                      7              0.6018   \n",
       "1  ...            30          190                     37              0.6028   \n",
       "\n",
       "   Bearish Percent  Bullish Percent  Average Sentiment Score  \\\n",
       "0           0.0000           0.4286                   0.2036   \n",
       "1           0.0541           0.5405                   0.2057   \n",
       "\n",
       "   Sector Average Bullish Percent  Sector Average News Score  Weight  \n",
       "0                          0.4921                     0.5663     0.5  \n",
       "1                          0.4921                     0.5663     0.5  \n",
       "\n",
       "[2 rows x 70 columns]"
      ]
     },
     "metadata": {},
     "output_type": "display_data"
    }
   ],
   "source": [
    "portfolio_df = pd.read_excel(output_file, sheet_name=\"short_term\")   \n",
    "portfolio_tickers = portfolio_df[\"Ticker\"].tolist()\n",
    "# portfolio_df[\"Weight\"] = portfolio_df['Weight'].str.rstrip('%').astype(float) / 100\n",
    "portfolio_df[\"P/E (Trailing)\"] = pd.to_numeric(portfolio_df[\"P/E (Trailing)\"], errors=\"coerce\")\n",
    "\n",
    "print(portfolio_tickers)\n",
    "display(portfolio_df)"
   ]
  },
  {
   "cell_type": "markdown",
   "id": "bdc9579a",
   "metadata": {},
   "source": [
    "### Step 5: Benchmark Sector Screening"
   ]
  },
  {
   "cell_type": "markdown",
   "id": "8afc63ee",
   "metadata": {},
   "source": [
    "#### Filter Sectors by Portfolio"
   ]
  },
  {
   "cell_type": "code",
   "execution_count": 7,
   "id": "fcc09a94",
   "metadata": {
    "execution": {
     "iopub.execute_input": "2025-06-02T13:28:30.946684Z",
     "iopub.status.busy": "2025-06-02T13:28:30.946200Z",
     "iopub.status.idle": "2025-06-02T13:28:30.961848Z",
     "shell.execute_reply": "2025-06-02T13:28:30.961075Z"
    }
   },
   "outputs": [
    {
     "name": "stdout",
     "output_type": "stream",
     "text": [
      "Number of benchmarks left: 374\n"
     ]
    },
    {
     "data": {
      "application/vnd.microsoft.datawrangler.viewer.v0+json": {
       "columns": [
        {
         "name": "index",
         "rawType": "int64",
         "type": "integer"
        },
        {
         "name": "Symbol",
         "rawType": "object",
         "type": "string"
        },
        {
         "name": "Name",
         "rawType": "object",
         "type": "string"
        },
        {
         "name": "Sectors",
         "rawType": "object",
         "type": "unknown"
        }
       ],
       "ref": "c333ee19-65f9-4ec4-9a69-14ba4ddfbe33",
       "rows": [
        [
         "0",
         "AADR",
         "AdvisorShares Dorsey Wright ADR ETF",
         "{'realestate': 0.0, 'consumer_cyclical': 0.1182, 'basic_materials': 0.0425, 'consumer_defensive': 0.0, 'technology': 0.16479999, 'communication_services': 0.089499995, 'financial_services': 0.33900002, 'utilities': 0.033299997, 'industrials': 0.1005, 'energy': 0.0334, 'healthcare': 0.0788}"
        ],
        [
         "1",
         "ABFL",
         "Abacus FCF Leaders ETF",
         "{'realestate': 0.0, 'consumer_cyclical': 0.1188, 'basic_materials': 0.0, 'consumer_defensive': 0.0765, 'technology': 0.5052, 'communication_services': 0.0709, 'financial_services': 0.042600002, 'utilities': 0.0, 'industrials': 0.041100003, 'energy': 0.0, 'healthcare': 0.1449}"
        ],
        [
         "2",
         "ACWI",
         "iShares MSCI ACWI ETF",
         "{'realestate': 0.0216, 'consumer_cyclical': 0.1039, 'basic_materials': 0.0346, 'consumer_defensive': 0.0641, 'technology': 0.2491, 'communication_services': 0.084, 'financial_services': 0.1752, 'utilities': 0.0269, 'industrials': 0.1021, 'energy': 0.0375, 'healthcare': 0.1012}"
        ],
        [
         "3",
         "ADME",
         "Aptus Drawdown Managed Equity ETF",
         "{'realestate': 0.0222, 'consumer_cyclical': 0.1022, 'basic_materials': 0.0222, 'consumer_defensive': 0.0608, 'technology': 0.3147, 'communication_services': 0.091800004, 'financial_services': 0.1384, 'utilities': 0.0254, 'industrials': 0.0746, 'energy': 0.0357, 'healthcare': 0.111899994}"
        ],
        [
         "4",
         "AIA",
         "iShares Asia 50 ETF",
         "{'realestate': 0.0047999998, 'consumer_cyclical': 0.17790002, 'basic_materials': 0.0047999998, 'consumer_defensive': 0.0, 'technology': 0.39720002, 'communication_services': 0.16860001, 'financial_services': 0.2172, 'utilities': 0.0, 'industrials': 0.0095, 'energy': 0.0095999995, 'healthcare': 0.0104}"
        ]
       ],
       "shape": {
        "columns": 3,
        "rows": 5
       }
      },
      "text/html": [
       "<div>\n",
       "<style scoped>\n",
       "    .dataframe tbody tr th:only-of-type {\n",
       "        vertical-align: middle;\n",
       "    }\n",
       "\n",
       "    .dataframe tbody tr th {\n",
       "        vertical-align: top;\n",
       "    }\n",
       "\n",
       "    .dataframe thead th {\n",
       "        text-align: right;\n",
       "    }\n",
       "</style>\n",
       "<table border=\"1\" class=\"dataframe\">\n",
       "  <thead>\n",
       "    <tr style=\"text-align: right;\">\n",
       "      <th></th>\n",
       "      <th>Symbol</th>\n",
       "      <th>Name</th>\n",
       "      <th>Sectors</th>\n",
       "    </tr>\n",
       "  </thead>\n",
       "  <tbody>\n",
       "    <tr>\n",
       "      <th>0</th>\n",
       "      <td>AADR</td>\n",
       "      <td>AdvisorShares Dorsey Wright ADR ETF</td>\n",
       "      <td>{'realestate': 0.0, 'consumer_cyclical': 0.118...</td>\n",
       "    </tr>\n",
       "    <tr>\n",
       "      <th>1</th>\n",
       "      <td>ABFL</td>\n",
       "      <td>Abacus FCF Leaders ETF</td>\n",
       "      <td>{'realestate': 0.0, 'consumer_cyclical': 0.118...</td>\n",
       "    </tr>\n",
       "    <tr>\n",
       "      <th>2</th>\n",
       "      <td>ACWI</td>\n",
       "      <td>iShares MSCI ACWI ETF</td>\n",
       "      <td>{'realestate': 0.0216, 'consumer_cyclical': 0....</td>\n",
       "    </tr>\n",
       "    <tr>\n",
       "      <th>3</th>\n",
       "      <td>ADME</td>\n",
       "      <td>Aptus Drawdown Managed Equity ETF</td>\n",
       "      <td>{'realestate': 0.0222, 'consumer_cyclical': 0....</td>\n",
       "    </tr>\n",
       "    <tr>\n",
       "      <th>4</th>\n",
       "      <td>AIA</td>\n",
       "      <td>iShares Asia 50 ETF</td>\n",
       "      <td>{'realestate': 0.0047999998, 'consumer_cyclica...</td>\n",
       "    </tr>\n",
       "  </tbody>\n",
       "</table>\n",
       "</div>"
      ],
      "text/plain": [
       "  Symbol                                 Name  \\\n",
       "0   AADR  AdvisorShares Dorsey Wright ADR ETF   \n",
       "1   ABFL               Abacus FCF Leaders ETF   \n",
       "2   ACWI                iShares MSCI ACWI ETF   \n",
       "3   ADME    Aptus Drawdown Managed Equity ETF   \n",
       "4    AIA                  iShares Asia 50 ETF   \n",
       "\n",
       "                                             Sectors  \n",
       "0  {'realestate': 0.0, 'consumer_cyclical': 0.118...  \n",
       "1  {'realestate': 0.0, 'consumer_cyclical': 0.118...  \n",
       "2  {'realestate': 0.0216, 'consumer_cyclical': 0....  \n",
       "3  {'realestate': 0.0222, 'consumer_cyclical': 0....  \n",
       "4  {'realestate': 0.0047999998, 'consumer_cyclica...  "
      ]
     },
     "metadata": {},
     "output_type": "display_data"
    }
   ],
   "source": [
    "# Sort portfolio sectors by weight (descending)\n",
    "portfolio_sector_weights = (\n",
    "    portfolio_df.groupby('Sector')['Weight'].sum()\n",
    "    .sort_values(ascending=False)\n",
    ")\n",
    "ordered_portfolio_sectors = [sector.strip() for sector in portfolio_sector_weights.index]\n",
    "normalized_ordered_portfolio_sectors = [sector.strip().lower().replace(\" \", \"_\") for sector in ordered_portfolio_sectors]\n",
    "\n",
    "# Filter directly with lambda expression instead of using a separate function\n",
    "filtered_sectors_df = sectors_df[\n",
    "    sectors_df['Sectors'].apply(\n",
    "        lambda sector_dict: isinstance(sector_dict, dict) and all(\n",
    "            sector in sector_dict and sector_dict[sector] > 0 \n",
    "            for sector in normalized_ordered_portfolio_sectors\n",
    "        )\n",
    "    )\n",
    "].reset_index(drop=True)\n",
    "\n",
    "# Display Outputs\n",
    "tickers = filtered_sectors_df[\"Symbol\"].tolist()\n",
    "print(\"Number of benchmarks left:\", len(tickers))\n",
    "display(filtered_sectors_df.head())"
   ]
  },
  {
   "cell_type": "markdown",
   "id": "c178af0c",
   "metadata": {},
   "source": [
    "#### Import ETF Fundamental Data"
   ]
  },
  {
   "cell_type": "code",
   "execution_count": 8,
   "id": "b483eba0",
   "metadata": {
    "execution": {
     "iopub.execute_input": "2025-06-02T13:28:30.966081Z",
     "iopub.status.busy": "2025-06-02T13:28:30.964923Z",
     "iopub.status.idle": "2025-06-02T13:28:31.003315Z",
     "shell.execute_reply": "2025-06-02T13:28:31.001732Z"
    }
   },
   "outputs": [
    {
     "data": {
      "application/vnd.microsoft.datawrangler.viewer.v0+json": {
       "columns": [
        {
         "name": "index",
         "rawType": "int64",
         "type": "integer"
        },
        {
         "name": "Symbol",
         "rawType": "object",
         "type": "string"
        },
        {
         "name": "Name_x",
         "rawType": "object",
         "type": "string"
        },
        {
         "name": "Sectors",
         "rawType": "object",
         "type": "unknown"
        },
        {
         "name": "Date",
         "rawType": "object",
         "type": "string"
        },
        {
         "name": "Name_y",
         "rawType": "object",
         "type": "string"
        },
        {
         "name": "Sector",
         "rawType": "object",
         "type": "string"
        },
        {
         "name": "Industry",
         "rawType": "object",
         "type": "string"
        },
        {
         "name": "Country",
         "rawType": "object",
         "type": "string"
        },
        {
         "name": "Website",
         "rawType": "object",
         "type": "string"
        },
        {
         "name": "Market Cap",
         "rawType": "float64",
         "type": "float"
        },
        {
         "name": "Shares Outstanding",
         "rawType": "float64",
         "type": "float"
        },
        {
         "name": "P/E (trailing)",
         "rawType": "float64",
         "type": "float"
        },
        {
         "name": "P/E (forward)",
         "rawType": "float64",
         "type": "float"
        },
        {
         "name": "P/B",
         "rawType": "float64",
         "type": "float"
        },
        {
         "name": "Book Value",
         "rawType": "float64",
         "type": "float"
        },
        {
         "name": "Dividend Yield (%)",
         "rawType": "float64",
         "type": "float"
        },
        {
         "name": "Dividend Rate (%)",
         "rawType": "float64",
         "type": "float"
        },
        {
         "name": "5Y Avg Dividend Yield (%)",
         "rawType": "float64",
         "type": "float"
        },
        {
         "name": "Payout Ratio (%)",
         "rawType": "float64",
         "type": "float"
        },
        {
         "name": "Price",
         "rawType": "float64",
         "type": "float"
        },
        {
         "name": "Analyst Rating",
         "rawType": "object",
         "type": "string"
        },
        {
         "name": "52W High",
         "rawType": "float64",
         "type": "float"
        },
        {
         "name": "52W Low",
         "rawType": "float64",
         "type": "float"
        },
        {
         "name": "50 Day Avg",
         "rawType": "float64",
         "type": "float"
        },
        {
         "name": "200 Day Avg",
         "rawType": "float64",
         "type": "float"
        },
        {
         "name": "Sector Weightings",
         "rawType": "object",
         "type": "string"
        }
       ],
       "ref": "deb4ff58-954d-45b2-83b8-82b5548dbfdc",
       "rows": [
        [
         "0",
         "AADR",
         "AdvisorShares Dorsey Wright ADR ETF",
         "{'realestate': 0.0, 'consumer_cyclical': 0.1182, 'basic_materials': 0.0425, 'consumer_defensive': 0.0, 'technology': 0.16479999, 'communication_services': 0.089499995, 'financial_services': 0.33900002, 'utilities': 0.033299997, 'industrials': 0.1005, 'energy': 0.0334, 'healthcare': 0.0788}",
         "2025-06-02",
         "AdvisorShares Dorsey Wright ADR ETF",
         "Unknown",
         "Unknown",
         "Unknown",
         "Unknown",
         "0.0",
         null,
         "14.95",
         null,
         null,
         null,
         "0.0123",
         "0.0",
         "0.0",
         "0.0",
         "77.58",
         "Unknown",
         "81.17",
         "54.57",
         "74.66",
         "70.09",
         "{\"realestate\": 0.0, \"consumer_cyclical\": 0.1182, \"basic_materials\": 0.0425, \"consumer_defensive\": 0.0, \"technology\": 0.16479999, \"communication_services\": 0.089499995, \"financial_services\": 0.33900002, \"utilities\": 0.033299997, \"industrials\": 0.1005, \"energy\": 0.0334, \"healthcare\": 0.0788}"
        ],
        [
         "1",
         "ABFL",
         "Abacus FCF Leaders ETF",
         "{'realestate': 0.0, 'consumer_cyclical': 0.1188, 'basic_materials': 0.0, 'consumer_defensive': 0.0765, 'technology': 0.5052, 'communication_services': 0.0709, 'financial_services': 0.042600002, 'utilities': 0.0, 'industrials': 0.041100003, 'energy': 0.0, 'healthcare': 0.1449}",
         "2025-06-02",
         "Abacus FCF Leaders ETF",
         "Unknown",
         "Unknown",
         "Unknown",
         "Unknown",
         "0.0",
         null,
         "33.43",
         null,
         null,
         null,
         "0.0082",
         "0.0",
         "0.0",
         "0.0",
         "69.15",
         "Unknown",
         "71.28",
         "55.4",
         "64.73",
         "66.17",
         "{\"realestate\": 0.0, \"consumer_cyclical\": 0.1188, \"basic_materials\": 0.0, \"consumer_defensive\": 0.0765, \"technology\": 0.5052, \"communication_services\": 0.0709, \"financial_services\": 0.042600002, \"utilities\": 0.0, \"industrials\": 0.041100003, \"energy\": 0.0, \"healthcare\": 0.1449}"
        ],
        [
         "2",
         "ACWI",
         "iShares MSCI ACWI ETF",
         "{'realestate': 0.0216, 'consumer_cyclical': 0.1039, 'basic_materials': 0.0346, 'consumer_defensive': 0.0641, 'technology': 0.2491, 'communication_services': 0.084, 'financial_services': 0.1752, 'utilities': 0.0269, 'industrials': 0.1021, 'energy': 0.0375, 'healthcare': 0.1012}",
         "2025-06-02",
         "iShares MSCI ACWI ETF",
         "Unknown",
         "Unknown",
         "Unknown",
         "Unknown",
         "0.0",
         null,
         "21.39",
         null,
         null,
         null,
         "0.0171",
         "0.0",
         "0.0",
         "0.0",
         "123.65",
         "Unknown",
         "124.54",
         "101.25",
         "117.25",
         "118.68",
         "{\"realestate\": 0.0216, \"consumer_cyclical\": 0.1039, \"basic_materials\": 0.0346, \"consumer_defensive\": 0.0641, \"technology\": 0.2491, \"communication_services\": 0.084, \"financial_services\": 0.1752, \"utilities\": 0.0269, \"industrials\": 0.1021, \"energy\": 0.0375, \"healthcare\": 0.1012}"
        ],
        [
         "3",
         "ADME",
         "Aptus Drawdown Managed Equity ETF",
         "{'realestate': 0.0222, 'consumer_cyclical': 0.1022, 'basic_materials': 0.0222, 'consumer_defensive': 0.0608, 'technology': 0.3147, 'communication_services': 0.091800004, 'financial_services': 0.1384, 'utilities': 0.0254, 'industrials': 0.0746, 'energy': 0.0357, 'healthcare': 0.111899994}",
         "2025-05-02",
         "Aptus Drawdown Managed Equity ETF",
         "Unknown",
         "Unknown",
         "Unknown",
         "Unknown",
         "0.0",
         null,
         "25.43",
         null,
         null,
         null,
         "0.0047",
         "0.0",
         "0.0",
         "0.0",
         "44.46",
         "Unknown",
         "48.56",
         "39.85",
         "44.34",
         "45.9",
         "{\"realestate\": 0.0222, \"consumer_cyclical\": 0.1022, \"basic_materials\": 0.0222, \"consumer_defensive\": 0.0608, \"technology\": 0.3147, \"communication_services\": 0.091800004, \"financial_services\": 0.1384, \"utilities\": 0.0254, \"industrials\": 0.0746, \"energy\": 0.0357, \"healthcare\": 0.111899994}"
        ],
        [
         "4",
         "AIA",
         "iShares Asia 50 ETF",
         "{'realestate': 0.0047999998, 'consumer_cyclical': 0.17790002, 'basic_materials': 0.0047999998, 'consumer_defensive': 0.0, 'technology': 0.39720002, 'communication_services': 0.16860001, 'financial_services': 0.2172, 'utilities': 0.0, 'industrials': 0.0095, 'energy': 0.0095999995, 'healthcare': 0.0104}",
         "2025-06-02",
         "iShares Asia 50 ETF",
         "Unknown",
         "Unknown",
         "Unknown",
         "Unknown",
         "0.0",
         null,
         "13.54",
         null,
         null,
         null,
         "0.0268",
         "0.0",
         "0.0",
         "0.0",
         "74.67",
         "Unknown",
         "77.87",
         "59.33",
         "71.89",
         "71.02",
         "{\"realestate\": 0.0047999998, \"consumer_cyclical\": 0.17790002, \"basic_materials\": 0.0047999998, \"consumer_defensive\": 0.0, \"technology\": 0.39720002, \"communication_services\": 0.16860001, \"financial_services\": 0.2172, \"utilities\": 0.0, \"industrials\": 0.0095, \"energy\": 0.0095999995, \"healthcare\": 0.0104}"
        ]
       ],
       "shape": {
        "columns": 26,
        "rows": 5
       }
      },
      "text/html": [
       "<div>\n",
       "<style scoped>\n",
       "    .dataframe tbody tr th:only-of-type {\n",
       "        vertical-align: middle;\n",
       "    }\n",
       "\n",
       "    .dataframe tbody tr th {\n",
       "        vertical-align: top;\n",
       "    }\n",
       "\n",
       "    .dataframe thead th {\n",
       "        text-align: right;\n",
       "    }\n",
       "</style>\n",
       "<table border=\"1\" class=\"dataframe\">\n",
       "  <thead>\n",
       "    <tr style=\"text-align: right;\">\n",
       "      <th></th>\n",
       "      <th>Symbol</th>\n",
       "      <th>Name_x</th>\n",
       "      <th>Sectors</th>\n",
       "      <th>Date</th>\n",
       "      <th>Name_y</th>\n",
       "      <th>Sector</th>\n",
       "      <th>Industry</th>\n",
       "      <th>Country</th>\n",
       "      <th>Website</th>\n",
       "      <th>Market Cap</th>\n",
       "      <th>...</th>\n",
       "      <th>Dividend Rate (%)</th>\n",
       "      <th>5Y Avg Dividend Yield (%)</th>\n",
       "      <th>Payout Ratio (%)</th>\n",
       "      <th>Price</th>\n",
       "      <th>Analyst Rating</th>\n",
       "      <th>52W High</th>\n",
       "      <th>52W Low</th>\n",
       "      <th>50 Day Avg</th>\n",
       "      <th>200 Day Avg</th>\n",
       "      <th>Sector Weightings</th>\n",
       "    </tr>\n",
       "  </thead>\n",
       "  <tbody>\n",
       "    <tr>\n",
       "      <th>0</th>\n",
       "      <td>AADR</td>\n",
       "      <td>AdvisorShares Dorsey Wright ADR ETF</td>\n",
       "      <td>{'realestate': 0.0, 'consumer_cyclical': 0.118...</td>\n",
       "      <td>2025-06-02</td>\n",
       "      <td>AdvisorShares Dorsey Wright ADR ETF</td>\n",
       "      <td>Unknown</td>\n",
       "      <td>Unknown</td>\n",
       "      <td>Unknown</td>\n",
       "      <td>Unknown</td>\n",
       "      <td>0.0</td>\n",
       "      <td>...</td>\n",
       "      <td>0.0</td>\n",
       "      <td>0.0</td>\n",
       "      <td>0.0</td>\n",
       "      <td>77.58</td>\n",
       "      <td>Unknown</td>\n",
       "      <td>81.17</td>\n",
       "      <td>54.57</td>\n",
       "      <td>74.66</td>\n",
       "      <td>70.09</td>\n",
       "      <td>{\"realestate\": 0.0, \"consumer_cyclical\": 0.118...</td>\n",
       "    </tr>\n",
       "    <tr>\n",
       "      <th>1</th>\n",
       "      <td>ABFL</td>\n",
       "      <td>Abacus FCF Leaders ETF</td>\n",
       "      <td>{'realestate': 0.0, 'consumer_cyclical': 0.118...</td>\n",
       "      <td>2025-06-02</td>\n",
       "      <td>Abacus FCF Leaders ETF</td>\n",
       "      <td>Unknown</td>\n",
       "      <td>Unknown</td>\n",
       "      <td>Unknown</td>\n",
       "      <td>Unknown</td>\n",
       "      <td>0.0</td>\n",
       "      <td>...</td>\n",
       "      <td>0.0</td>\n",
       "      <td>0.0</td>\n",
       "      <td>0.0</td>\n",
       "      <td>69.15</td>\n",
       "      <td>Unknown</td>\n",
       "      <td>71.28</td>\n",
       "      <td>55.40</td>\n",
       "      <td>64.73</td>\n",
       "      <td>66.17</td>\n",
       "      <td>{\"realestate\": 0.0, \"consumer_cyclical\": 0.118...</td>\n",
       "    </tr>\n",
       "    <tr>\n",
       "      <th>2</th>\n",
       "      <td>ACWI</td>\n",
       "      <td>iShares MSCI ACWI ETF</td>\n",
       "      <td>{'realestate': 0.0216, 'consumer_cyclical': 0....</td>\n",
       "      <td>2025-06-02</td>\n",
       "      <td>iShares MSCI ACWI ETF</td>\n",
       "      <td>Unknown</td>\n",
       "      <td>Unknown</td>\n",
       "      <td>Unknown</td>\n",
       "      <td>Unknown</td>\n",
       "      <td>0.0</td>\n",
       "      <td>...</td>\n",
       "      <td>0.0</td>\n",
       "      <td>0.0</td>\n",
       "      <td>0.0</td>\n",
       "      <td>123.65</td>\n",
       "      <td>Unknown</td>\n",
       "      <td>124.54</td>\n",
       "      <td>101.25</td>\n",
       "      <td>117.25</td>\n",
       "      <td>118.68</td>\n",
       "      <td>{\"realestate\": 0.0216, \"consumer_cyclical\": 0....</td>\n",
       "    </tr>\n",
       "    <tr>\n",
       "      <th>3</th>\n",
       "      <td>ADME</td>\n",
       "      <td>Aptus Drawdown Managed Equity ETF</td>\n",
       "      <td>{'realestate': 0.0222, 'consumer_cyclical': 0....</td>\n",
       "      <td>2025-05-02</td>\n",
       "      <td>Aptus Drawdown Managed Equity ETF</td>\n",
       "      <td>Unknown</td>\n",
       "      <td>Unknown</td>\n",
       "      <td>Unknown</td>\n",
       "      <td>Unknown</td>\n",
       "      <td>0.0</td>\n",
       "      <td>...</td>\n",
       "      <td>0.0</td>\n",
       "      <td>0.0</td>\n",
       "      <td>0.0</td>\n",
       "      <td>44.46</td>\n",
       "      <td>Unknown</td>\n",
       "      <td>48.56</td>\n",
       "      <td>39.85</td>\n",
       "      <td>44.34</td>\n",
       "      <td>45.90</td>\n",
       "      <td>{\"realestate\": 0.0222, \"consumer_cyclical\": 0....</td>\n",
       "    </tr>\n",
       "    <tr>\n",
       "      <th>4</th>\n",
       "      <td>AIA</td>\n",
       "      <td>iShares Asia 50 ETF</td>\n",
       "      <td>{'realestate': 0.0047999998, 'consumer_cyclica...</td>\n",
       "      <td>2025-06-02</td>\n",
       "      <td>iShares Asia 50 ETF</td>\n",
       "      <td>Unknown</td>\n",
       "      <td>Unknown</td>\n",
       "      <td>Unknown</td>\n",
       "      <td>Unknown</td>\n",
       "      <td>0.0</td>\n",
       "      <td>...</td>\n",
       "      <td>0.0</td>\n",
       "      <td>0.0</td>\n",
       "      <td>0.0</td>\n",
       "      <td>74.67</td>\n",
       "      <td>Unknown</td>\n",
       "      <td>77.87</td>\n",
       "      <td>59.33</td>\n",
       "      <td>71.89</td>\n",
       "      <td>71.02</td>\n",
       "      <td>{\"realestate\": 0.0047999998, \"consumer_cyclica...</td>\n",
       "    </tr>\n",
       "  </tbody>\n",
       "</table>\n",
       "<p>5 rows × 26 columns</p>\n",
       "</div>"
      ],
      "text/plain": [
       "  Symbol                               Name_x  \\\n",
       "0   AADR  AdvisorShares Dorsey Wright ADR ETF   \n",
       "1   ABFL               Abacus FCF Leaders ETF   \n",
       "2   ACWI                iShares MSCI ACWI ETF   \n",
       "3   ADME    Aptus Drawdown Managed Equity ETF   \n",
       "4    AIA                  iShares Asia 50 ETF   \n",
       "\n",
       "                                             Sectors        Date  \\\n",
       "0  {'realestate': 0.0, 'consumer_cyclical': 0.118...  2025-06-02   \n",
       "1  {'realestate': 0.0, 'consumer_cyclical': 0.118...  2025-06-02   \n",
       "2  {'realestate': 0.0216, 'consumer_cyclical': 0....  2025-06-02   \n",
       "3  {'realestate': 0.0222, 'consumer_cyclical': 0....  2025-05-02   \n",
       "4  {'realestate': 0.0047999998, 'consumer_cyclica...  2025-06-02   \n",
       "\n",
       "                                Name_y   Sector Industry  Country  Website  \\\n",
       "0  AdvisorShares Dorsey Wright ADR ETF  Unknown  Unknown  Unknown  Unknown   \n",
       "1               Abacus FCF Leaders ETF  Unknown  Unknown  Unknown  Unknown   \n",
       "2                iShares MSCI ACWI ETF  Unknown  Unknown  Unknown  Unknown   \n",
       "3    Aptus Drawdown Managed Equity ETF  Unknown  Unknown  Unknown  Unknown   \n",
       "4                  iShares Asia 50 ETF  Unknown  Unknown  Unknown  Unknown   \n",
       "\n",
       "   Market Cap  ...  Dividend Rate (%)  5Y Avg Dividend Yield (%)  \\\n",
       "0         0.0  ...                0.0                        0.0   \n",
       "1         0.0  ...                0.0                        0.0   \n",
       "2         0.0  ...                0.0                        0.0   \n",
       "3         0.0  ...                0.0                        0.0   \n",
       "4         0.0  ...                0.0                        0.0   \n",
       "\n",
       "   Payout Ratio (%)   Price  Analyst Rating  52W High  52W Low  50 Day Avg  \\\n",
       "0               0.0   77.58         Unknown     81.17    54.57       74.66   \n",
       "1               0.0   69.15         Unknown     71.28    55.40       64.73   \n",
       "2               0.0  123.65         Unknown    124.54   101.25      117.25   \n",
       "3               0.0   44.46         Unknown     48.56    39.85       44.34   \n",
       "4               0.0   74.67         Unknown     77.87    59.33       71.89   \n",
       "\n",
       "   200 Day Avg                                  Sector Weightings  \n",
       "0        70.09  {\"realestate\": 0.0, \"consumer_cyclical\": 0.118...  \n",
       "1        66.17  {\"realestate\": 0.0, \"consumer_cyclical\": 0.118...  \n",
       "2       118.68  {\"realestate\": 0.0216, \"consumer_cyclical\": 0....  \n",
       "3        45.90  {\"realestate\": 0.0222, \"consumer_cyclical\": 0....  \n",
       "4        71.02  {\"realestate\": 0.0047999998, \"consumer_cyclica...  \n",
       "\n",
       "[5 rows x 26 columns]"
      ]
     },
     "metadata": {},
     "output_type": "display_data"
    }
   ],
   "source": [
    "# fundamentals_df = fetch_fundamentals(tickers) # Download fundamentals data for the tickers\n",
    "fundamentals_df = pd.read_csv(\"data/fundamentals_benchmark.csv\",index_col=\"Ticker\").query(\"Ticker in @tickers\") # Import the fundamentals data from a CSV file\n",
    "\n",
    "# Set the index name\n",
    "fundamentals_df.index.name = \"Symbol\"\n",
    "\n",
    "# Move the index into a column\n",
    "fundamentals_df = fundamentals_df.reset_index()\n",
    "\n",
    "# Perform the merge\n",
    "merged_df = pd.merge(filtered_sectors_df, fundamentals_df, on='Symbol', how='inner').dropna(how='all', axis=1)\n",
    "\n",
    "# Display the merged DataFrame\n",
    "display(merged_df.head())"
   ]
  },
  {
   "cell_type": "markdown",
   "id": "f0672a0d",
   "metadata": {},
   "source": [
    "#### Filter for the P/E (Trailling) Similar to Portfolio Weighted Average P/E"
   ]
  },
  {
   "cell_type": "code",
   "execution_count": 9,
   "id": "8e97edd6",
   "metadata": {
    "execution": {
     "iopub.execute_input": "2025-06-02T13:28:31.006793Z",
     "iopub.status.busy": "2025-06-02T13:28:31.006305Z",
     "iopub.status.idle": "2025-06-02T13:28:31.031205Z",
     "shell.execute_reply": "2025-06-02T13:28:31.030070Z"
    }
   },
   "outputs": [
    {
     "name": "stdout",
     "output_type": "stream",
     "text": [
      "Portfolio Weighted Average P/E (trailing): 31.159999999999997\n",
      "Lower Bound: 24.927999999999997\n",
      "Upper Bound: 37.391999999999996\n",
      "Number of benchmarks after filtering by P/E (trailing): 91\n"
     ]
    },
    {
     "data": {
      "application/vnd.microsoft.datawrangler.viewer.v0+json": {
       "columns": [
        {
         "name": "index",
         "rawType": "int64",
         "type": "integer"
        },
        {
         "name": "Symbol",
         "rawType": "object",
         "type": "string"
        },
        {
         "name": "Name_x",
         "rawType": "object",
         "type": "string"
        },
        {
         "name": "Sectors",
         "rawType": "object",
         "type": "unknown"
        },
        {
         "name": "Date",
         "rawType": "object",
         "type": "string"
        },
        {
         "name": "Name_y",
         "rawType": "object",
         "type": "string"
        },
        {
         "name": "Sector",
         "rawType": "object",
         "type": "string"
        },
        {
         "name": "Industry",
         "rawType": "object",
         "type": "string"
        },
        {
         "name": "Country",
         "rawType": "object",
         "type": "string"
        },
        {
         "name": "Website",
         "rawType": "object",
         "type": "string"
        },
        {
         "name": "Market Cap",
         "rawType": "float64",
         "type": "float"
        },
        {
         "name": "Shares Outstanding",
         "rawType": "float64",
         "type": "float"
        },
        {
         "name": "P/E (trailing)",
         "rawType": "float64",
         "type": "float"
        },
        {
         "name": "P/E (forward)",
         "rawType": "float64",
         "type": "float"
        },
        {
         "name": "P/B",
         "rawType": "float64",
         "type": "float"
        },
        {
         "name": "Book Value",
         "rawType": "float64",
         "type": "float"
        },
        {
         "name": "Dividend Yield (%)",
         "rawType": "float64",
         "type": "float"
        },
        {
         "name": "Dividend Rate (%)",
         "rawType": "float64",
         "type": "float"
        },
        {
         "name": "5Y Avg Dividend Yield (%)",
         "rawType": "float64",
         "type": "float"
        },
        {
         "name": "Payout Ratio (%)",
         "rawType": "float64",
         "type": "float"
        },
        {
         "name": "Price",
         "rawType": "float64",
         "type": "float"
        },
        {
         "name": "Analyst Rating",
         "rawType": "object",
         "type": "string"
        },
        {
         "name": "52W High",
         "rawType": "float64",
         "type": "float"
        },
        {
         "name": "52W Low",
         "rawType": "float64",
         "type": "float"
        },
        {
         "name": "50 Day Avg",
         "rawType": "float64",
         "type": "float"
        },
        {
         "name": "200 Day Avg",
         "rawType": "float64",
         "type": "float"
        },
        {
         "name": "Sector Weightings",
         "rawType": "object",
         "type": "string"
        }
       ],
       "ref": "28da15f4-7962-411a-b125-3227a7351c3b",
       "rows": [
        [
         "1",
         "ABFL",
         "Abacus FCF Leaders ETF",
         "{'realestate': 0.0, 'consumer_cyclical': 0.1188, 'basic_materials': 0.0, 'consumer_defensive': 0.0765, 'technology': 0.5052, 'communication_services': 0.0709, 'financial_services': 0.042600002, 'utilities': 0.0, 'industrials': 0.041100003, 'energy': 0.0, 'healthcare': 0.1449}",
         "2025-06-02",
         "Abacus FCF Leaders ETF",
         "Unknown",
         "Unknown",
         "Unknown",
         "Unknown",
         "0.0",
         null,
         "33.43",
         null,
         null,
         null,
         "0.0082",
         "0.0",
         "0.0",
         "0.0",
         "69.15",
         "Unknown",
         "71.28",
         "55.4",
         "64.73",
         "66.17",
         "{\"realestate\": 0.0, \"consumer_cyclical\": 0.1188, \"basic_materials\": 0.0, \"consumer_defensive\": 0.0765, \"technology\": 0.5052, \"communication_services\": 0.0709, \"financial_services\": 0.042600002, \"utilities\": 0.0, \"industrials\": 0.041100003, \"energy\": 0.0, \"healthcare\": 0.1449}"
        ],
        [
         "3",
         "ADME",
         "Aptus Drawdown Managed Equity ETF",
         "{'realestate': 0.0222, 'consumer_cyclical': 0.1022, 'basic_materials': 0.0222, 'consumer_defensive': 0.0608, 'technology': 0.3147, 'communication_services': 0.091800004, 'financial_services': 0.1384, 'utilities': 0.0254, 'industrials': 0.0746, 'energy': 0.0357, 'healthcare': 0.111899994}",
         "2025-05-02",
         "Aptus Drawdown Managed Equity ETF",
         "Unknown",
         "Unknown",
         "Unknown",
         "Unknown",
         "0.0",
         null,
         "25.43",
         null,
         null,
         null,
         "0.0047",
         "0.0",
         "0.0",
         "0.0",
         "44.46",
         "Unknown",
         "48.56",
         "39.85",
         "44.34",
         "45.9",
         "{\"realestate\": 0.0222, \"consumer_cyclical\": 0.1022, \"basic_materials\": 0.0222, \"consumer_defensive\": 0.0608, \"technology\": 0.3147, \"communication_services\": 0.091800004, \"financial_services\": 0.1384, \"utilities\": 0.0254, \"industrials\": 0.0746, \"energy\": 0.0357, \"healthcare\": 0.111899994}"
        ],
        [
         "5",
         "AIQ",
         "Global X Artificial Intelligence & Technology ETF",
         "{'realestate': 0.0, 'consumer_cyclical': 0.1025, 'basic_materials': 0.0, 'consumer_defensive': 0.0, 'technology': 0.6926, 'communication_services': 0.14109999, 'financial_services': 0.0016, 'utilities': 0.0, 'industrials': 0.0556, 'energy': 0.0, 'healthcare': 0.0066000004}",
         "2025-06-02",
         "Global X Artificial Intelligence & Technology ETF",
         "Unknown",
         "Unknown",
         "Unknown",
         "Unknown",
         "0.0",
         null,
         "27.75",
         null,
         null,
         null,
         "0.0014",
         "0.0",
         "0.0",
         "0.0",
         "40.3",
         "Unknown",
         "42.78",
         "30.6",
         "37.32",
         "37.94",
         "{\"realestate\": 0.0, \"consumer_cyclical\": 0.1025, \"basic_materials\": 0.0, \"consumer_defensive\": 0.0, \"technology\": 0.6926, \"communication_services\": 0.14109999, \"financial_services\": 0.0016, \"utilities\": 0.0, \"industrials\": 0.0556, \"energy\": 0.0, \"healthcare\": 0.0066000004}"
        ],
        [
         "11",
         "BAPR",
         "Innovator U.S. Equity Buffer ETF - April",
         "{'realestate': 0.0224, 'consumer_cyclical': 0.105100006, 'basic_materials': 0.0176, 'consumer_defensive': 0.061100002, 'technology': 0.316, 'communication_services': 0.095, 'financial_services': 0.14029999, 'utilities': 0.025799999, 'industrials': 0.0762, 'energy': 0.0327, 'healthcare': 0.107700005}",
         "2025-06-02",
         "Innovator U.S. Equity Buffer ETF - April",
         "Unknown",
         "Unknown",
         "Unknown",
         "Unknown",
         "0.0",
         null,
         "25.2",
         null,
         null,
         null,
         "0.0",
         "0.0",
         "0.0",
         "0.0",
         "43.98",
         "Unknown",
         "46.04",
         "38.21",
         "42.39",
         "43.57",
         "{\"realestate\": 0.0224, \"consumer_cyclical\": 0.105100006, \"basic_materials\": 0.0176, \"consumer_defensive\": 0.061100002, \"technology\": 0.316, \"communication_services\": 0.095, \"financial_services\": 0.14029999, \"utilities\": 0.025799999, \"industrials\": 0.0762, \"energy\": 0.0327, \"healthcare\": 0.107700005}"
        ],
        [
         "12",
         "BBUS",
         "JPMorgan BetaBuilders U.S. Equity ETF",
         "{'realestate': 0.0231, 'consumer_cyclical': 0.1047, 'basic_materials': 0.0188, 'consumer_defensive': 0.059899997, 'technology': 0.3183, 'communication_services': 0.0949, 'financial_services': 0.13949999, 'utilities': 0.024600001, 'industrials': 0.0769, 'energy': 0.031400003, 'healthcare': 0.108100004}",
         "2025-06-02",
         "JPMorgan BetaBuilders U.S. Equity ETF",
         "Unknown",
         "Unknown",
         "Unknown",
         "Unknown",
         "0.0",
         null,
         "25.74",
         null,
         null,
         null,
         "0.0131",
         "0.0",
         "0.0",
         "0.0",
         "106.74",
         "Unknown",
         "111.04",
         "86.94",
         "101.02",
         "104.33",
         "{\"realestate\": 0.0231, \"consumer_cyclical\": 0.1047, \"basic_materials\": 0.0188, \"consumer_defensive\": 0.059899997, \"technology\": 0.3183, \"communication_services\": 0.0949, \"financial_services\": 0.13949999, \"utilities\": 0.024600001, \"industrials\": 0.0769, \"energy\": 0.031400003, \"healthcare\": 0.108100004}"
        ]
       ],
       "shape": {
        "columns": 26,
        "rows": 5
       }
      },
      "text/html": [
       "<div>\n",
       "<style scoped>\n",
       "    .dataframe tbody tr th:only-of-type {\n",
       "        vertical-align: middle;\n",
       "    }\n",
       "\n",
       "    .dataframe tbody tr th {\n",
       "        vertical-align: top;\n",
       "    }\n",
       "\n",
       "    .dataframe thead th {\n",
       "        text-align: right;\n",
       "    }\n",
       "</style>\n",
       "<table border=\"1\" class=\"dataframe\">\n",
       "  <thead>\n",
       "    <tr style=\"text-align: right;\">\n",
       "      <th></th>\n",
       "      <th>Symbol</th>\n",
       "      <th>Name_x</th>\n",
       "      <th>Sectors</th>\n",
       "      <th>Date</th>\n",
       "      <th>Name_y</th>\n",
       "      <th>Sector</th>\n",
       "      <th>Industry</th>\n",
       "      <th>Country</th>\n",
       "      <th>Website</th>\n",
       "      <th>Market Cap</th>\n",
       "      <th>...</th>\n",
       "      <th>Dividend Rate (%)</th>\n",
       "      <th>5Y Avg Dividend Yield (%)</th>\n",
       "      <th>Payout Ratio (%)</th>\n",
       "      <th>Price</th>\n",
       "      <th>Analyst Rating</th>\n",
       "      <th>52W High</th>\n",
       "      <th>52W Low</th>\n",
       "      <th>50 Day Avg</th>\n",
       "      <th>200 Day Avg</th>\n",
       "      <th>Sector Weightings</th>\n",
       "    </tr>\n",
       "  </thead>\n",
       "  <tbody>\n",
       "    <tr>\n",
       "      <th>1</th>\n",
       "      <td>ABFL</td>\n",
       "      <td>Abacus FCF Leaders ETF</td>\n",
       "      <td>{'realestate': 0.0, 'consumer_cyclical': 0.118...</td>\n",
       "      <td>2025-06-02</td>\n",
       "      <td>Abacus FCF Leaders ETF</td>\n",
       "      <td>Unknown</td>\n",
       "      <td>Unknown</td>\n",
       "      <td>Unknown</td>\n",
       "      <td>Unknown</td>\n",
       "      <td>0.0</td>\n",
       "      <td>...</td>\n",
       "      <td>0.0</td>\n",
       "      <td>0.0</td>\n",
       "      <td>0.0</td>\n",
       "      <td>69.15</td>\n",
       "      <td>Unknown</td>\n",
       "      <td>71.28</td>\n",
       "      <td>55.40</td>\n",
       "      <td>64.73</td>\n",
       "      <td>66.17</td>\n",
       "      <td>{\"realestate\": 0.0, \"consumer_cyclical\": 0.118...</td>\n",
       "    </tr>\n",
       "    <tr>\n",
       "      <th>3</th>\n",
       "      <td>ADME</td>\n",
       "      <td>Aptus Drawdown Managed Equity ETF</td>\n",
       "      <td>{'realestate': 0.0222, 'consumer_cyclical': 0....</td>\n",
       "      <td>2025-05-02</td>\n",
       "      <td>Aptus Drawdown Managed Equity ETF</td>\n",
       "      <td>Unknown</td>\n",
       "      <td>Unknown</td>\n",
       "      <td>Unknown</td>\n",
       "      <td>Unknown</td>\n",
       "      <td>0.0</td>\n",
       "      <td>...</td>\n",
       "      <td>0.0</td>\n",
       "      <td>0.0</td>\n",
       "      <td>0.0</td>\n",
       "      <td>44.46</td>\n",
       "      <td>Unknown</td>\n",
       "      <td>48.56</td>\n",
       "      <td>39.85</td>\n",
       "      <td>44.34</td>\n",
       "      <td>45.90</td>\n",
       "      <td>{\"realestate\": 0.0222, \"consumer_cyclical\": 0....</td>\n",
       "    </tr>\n",
       "    <tr>\n",
       "      <th>5</th>\n",
       "      <td>AIQ</td>\n",
       "      <td>Global X Artificial Intelligence &amp; Technology ETF</td>\n",
       "      <td>{'realestate': 0.0, 'consumer_cyclical': 0.102...</td>\n",
       "      <td>2025-06-02</td>\n",
       "      <td>Global X Artificial Intelligence &amp; Technology ETF</td>\n",
       "      <td>Unknown</td>\n",
       "      <td>Unknown</td>\n",
       "      <td>Unknown</td>\n",
       "      <td>Unknown</td>\n",
       "      <td>0.0</td>\n",
       "      <td>...</td>\n",
       "      <td>0.0</td>\n",
       "      <td>0.0</td>\n",
       "      <td>0.0</td>\n",
       "      <td>40.30</td>\n",
       "      <td>Unknown</td>\n",
       "      <td>42.78</td>\n",
       "      <td>30.60</td>\n",
       "      <td>37.32</td>\n",
       "      <td>37.94</td>\n",
       "      <td>{\"realestate\": 0.0, \"consumer_cyclical\": 0.102...</td>\n",
       "    </tr>\n",
       "    <tr>\n",
       "      <th>11</th>\n",
       "      <td>BAPR</td>\n",
       "      <td>Innovator U.S. Equity Buffer ETF - April</td>\n",
       "      <td>{'realestate': 0.0224, 'consumer_cyclical': 0....</td>\n",
       "      <td>2025-06-02</td>\n",
       "      <td>Innovator U.S. Equity Buffer ETF - April</td>\n",
       "      <td>Unknown</td>\n",
       "      <td>Unknown</td>\n",
       "      <td>Unknown</td>\n",
       "      <td>Unknown</td>\n",
       "      <td>0.0</td>\n",
       "      <td>...</td>\n",
       "      <td>0.0</td>\n",
       "      <td>0.0</td>\n",
       "      <td>0.0</td>\n",
       "      <td>43.98</td>\n",
       "      <td>Unknown</td>\n",
       "      <td>46.04</td>\n",
       "      <td>38.21</td>\n",
       "      <td>42.39</td>\n",
       "      <td>43.57</td>\n",
       "      <td>{\"realestate\": 0.0224, \"consumer_cyclical\": 0....</td>\n",
       "    </tr>\n",
       "    <tr>\n",
       "      <th>12</th>\n",
       "      <td>BBUS</td>\n",
       "      <td>JPMorgan BetaBuilders U.S. Equity ETF</td>\n",
       "      <td>{'realestate': 0.0231, 'consumer_cyclical': 0....</td>\n",
       "      <td>2025-06-02</td>\n",
       "      <td>JPMorgan BetaBuilders U.S. Equity ETF</td>\n",
       "      <td>Unknown</td>\n",
       "      <td>Unknown</td>\n",
       "      <td>Unknown</td>\n",
       "      <td>Unknown</td>\n",
       "      <td>0.0</td>\n",
       "      <td>...</td>\n",
       "      <td>0.0</td>\n",
       "      <td>0.0</td>\n",
       "      <td>0.0</td>\n",
       "      <td>106.74</td>\n",
       "      <td>Unknown</td>\n",
       "      <td>111.04</td>\n",
       "      <td>86.94</td>\n",
       "      <td>101.02</td>\n",
       "      <td>104.33</td>\n",
       "      <td>{\"realestate\": 0.0231, \"consumer_cyclical\": 0....</td>\n",
       "    </tr>\n",
       "  </tbody>\n",
       "</table>\n",
       "<p>5 rows × 26 columns</p>\n",
       "</div>"
      ],
      "text/plain": [
       "   Symbol                                             Name_x  \\\n",
       "1    ABFL                             Abacus FCF Leaders ETF   \n",
       "3    ADME                  Aptus Drawdown Managed Equity ETF   \n",
       "5     AIQ  Global X Artificial Intelligence & Technology ETF   \n",
       "11   BAPR           Innovator U.S. Equity Buffer ETF - April   \n",
       "12   BBUS              JPMorgan BetaBuilders U.S. Equity ETF   \n",
       "\n",
       "                                              Sectors        Date  \\\n",
       "1   {'realestate': 0.0, 'consumer_cyclical': 0.118...  2025-06-02   \n",
       "3   {'realestate': 0.0222, 'consumer_cyclical': 0....  2025-05-02   \n",
       "5   {'realestate': 0.0, 'consumer_cyclical': 0.102...  2025-06-02   \n",
       "11  {'realestate': 0.0224, 'consumer_cyclical': 0....  2025-06-02   \n",
       "12  {'realestate': 0.0231, 'consumer_cyclical': 0....  2025-06-02   \n",
       "\n",
       "                                               Name_y   Sector Industry  \\\n",
       "1                              Abacus FCF Leaders ETF  Unknown  Unknown   \n",
       "3                   Aptus Drawdown Managed Equity ETF  Unknown  Unknown   \n",
       "5   Global X Artificial Intelligence & Technology ETF  Unknown  Unknown   \n",
       "11           Innovator U.S. Equity Buffer ETF - April  Unknown  Unknown   \n",
       "12              JPMorgan BetaBuilders U.S. Equity ETF  Unknown  Unknown   \n",
       "\n",
       "    Country  Website  Market Cap  ...  Dividend Rate (%)  \\\n",
       "1   Unknown  Unknown         0.0  ...                0.0   \n",
       "3   Unknown  Unknown         0.0  ...                0.0   \n",
       "5   Unknown  Unknown         0.0  ...                0.0   \n",
       "11  Unknown  Unknown         0.0  ...                0.0   \n",
       "12  Unknown  Unknown         0.0  ...                0.0   \n",
       "\n",
       "    5Y Avg Dividend Yield (%)  Payout Ratio (%)   Price  Analyst Rating  \\\n",
       "1                         0.0               0.0   69.15         Unknown   \n",
       "3                         0.0               0.0   44.46         Unknown   \n",
       "5                         0.0               0.0   40.30         Unknown   \n",
       "11                        0.0               0.0   43.98         Unknown   \n",
       "12                        0.0               0.0  106.74         Unknown   \n",
       "\n",
       "    52W High  52W Low  50 Day Avg  200 Day Avg  \\\n",
       "1      71.28    55.40       64.73        66.17   \n",
       "3      48.56    39.85       44.34        45.90   \n",
       "5      42.78    30.60       37.32        37.94   \n",
       "11     46.04    38.21       42.39        43.57   \n",
       "12    111.04    86.94      101.02       104.33   \n",
       "\n",
       "                                    Sector Weightings  \n",
       "1   {\"realestate\": 0.0, \"consumer_cyclical\": 0.118...  \n",
       "3   {\"realestate\": 0.0222, \"consumer_cyclical\": 0....  \n",
       "5   {\"realestate\": 0.0, \"consumer_cyclical\": 0.102...  \n",
       "11  {\"realestate\": 0.0224, \"consumer_cyclical\": 0....  \n",
       "12  {\"realestate\": 0.0231, \"consumer_cyclical\": 0....  \n",
       "\n",
       "[5 rows x 26 columns]"
      ]
     },
     "metadata": {},
     "output_type": "display_data"
    }
   ],
   "source": [
    "# Step 1: Calculate the weighted average of P/E (Trailing) in portfolio_df\n",
    "weighted_average_pe = (portfolio_df[\"Weight\"] * portfolio_df[\"P/E (Trailing)\"]).sum()\n",
    "\n",
    "# Step 2: Calculate the 20% threshold range\n",
    "lower_bound = weighted_average_pe * 0.8  # 20% below the weighted average\n",
    "upper_bound = weighted_average_pe * 1.2  # 2% above the weighted average\n",
    "\n",
    "# Step 3: Filter merged_df based on the P/E (Trailing) column\n",
    "filtered_merged_df = merged_df[\n",
    "    (merged_df[\"P/E (trailing)\"] >= lower_bound) & \n",
    "    (merged_df[\"P/E (trailing)\"] <= upper_bound)\n",
    "]\n",
    "\n",
    "filtered_sectors_df = filtered_merged_df.copy().dropna(how='all')\n",
    "tickers = filtered_sectors_df[\"Symbol\"].tolist()\n",
    "\n",
    "# Display the filtered DataFrame\n",
    "print(\"Portfolio Weighted Average P/E (trailing):\", weighted_average_pe)\n",
    "print(\"Lower Bound:\", lower_bound)\n",
    "print(\"Upper Bound:\", upper_bound)\n",
    "print(\"Number of benchmarks after filtering by P/E (trailing):\", len(filtered_merged_df))\n",
    "display(filtered_sectors_df.head())"
   ]
  },
  {
   "cell_type": "markdown",
   "id": "b050f311",
   "metadata": {},
   "source": [
    "### Step 6: Import Quotes"
   ]
  },
  {
   "cell_type": "markdown",
   "id": "bedd1a61",
   "metadata": {},
   "source": [
    "#### Benchmark Tickers"
   ]
  },
  {
   "cell_type": "code",
   "execution_count": 10,
   "id": "c6cc3457",
   "metadata": {
    "execution": {
     "iopub.execute_input": "2025-06-02T13:28:31.035256Z",
     "iopub.status.busy": "2025-06-02T13:28:31.034942Z",
     "iopub.status.idle": "2025-06-02T13:28:31.195787Z",
     "shell.execute_reply": "2025-06-02T13:28:31.194847Z"
    }
   },
   "outputs": [
    {
     "name": "stdout",
     "output_type": "stream",
     "text": [
      "Found 87 of 91 tickers in data/daily_benchmark_quotes.csv\n",
      "Missing tickers: ['ILCB', 'MOAT', 'PTNQ', 'XSD']\n",
      "Found 87 of 91 tickers in data/monthly_benchmark_quotes.csv\n",
      "Missing tickers: ['ILCB', 'MOAT', 'PTNQ', 'XSD']\n"
     ]
    },
    {
     "data": {
      "application/vnd.microsoft.datawrangler.viewer.v0+json": {
       "columns": [
        {
         "name": "Date",
         "rawType": "datetime64[ns]",
         "type": "datetime"
        },
        {
         "name": "ABFL",
         "rawType": "float64",
         "type": "float"
        },
        {
         "name": "ADME",
         "rawType": "float64",
         "type": "float"
        },
        {
         "name": "AIQ",
         "rawType": "float64",
         "type": "float"
        },
        {
         "name": "BAPR",
         "rawType": "float64",
         "type": "float"
        },
        {
         "name": "BBUS",
         "rawType": "float64",
         "type": "float"
        },
        {
         "name": "BJAN",
         "rawType": "float64",
         "type": "float"
        },
        {
         "name": "BJUL",
         "rawType": "float64",
         "type": "float"
        },
        {
         "name": "BOCT",
         "rawType": "float64",
         "type": "float"
        },
        {
         "name": "CIBR",
         "rawType": "float64",
         "type": "float"
        },
        {
         "name": "CWS",
         "rawType": "float64",
         "type": "float"
        },
        {
         "name": "DSI",
         "rawType": "float64",
         "type": "float"
        },
        {
         "name": "ESPO",
         "rawType": "float64",
         "type": "float"
        },
        {
         "name": "FAD",
         "rawType": "float64",
         "type": "float"
        },
        {
         "name": "FDIS",
         "rawType": "float64",
         "type": "float"
        },
        {
         "name": "FIDU",
         "rawType": "float64",
         "type": "float"
        },
        {
         "name": "FTEC",
         "rawType": "float64",
         "type": "float"
        },
        {
         "name": "GRID",
         "rawType": "float64",
         "type": "float"
        },
        {
         "name": "GVIP",
         "rawType": "float64",
         "type": "float"
        },
        {
         "name": "HTUS",
         "rawType": "float64",
         "type": "float"
        },
        {
         "name": "IGM",
         "rawType": "float64",
         "type": "float"
        },
        {
         "name": "ILCG",
         "rawType": "float64",
         "type": "float"
        },
        {
         "name": "IMCG",
         "rawType": "float64",
         "type": "float"
        },
        {
         "name": "INCO",
         "rawType": "float64",
         "type": "float"
        },
        {
         "name": "IUSG",
         "rawType": "float64",
         "type": "float"
        },
        {
         "name": "IVV",
         "rawType": "float64",
         "type": "float"
        },
        {
         "name": "IVW",
         "rawType": "float64",
         "type": "float"
        },
        {
         "name": "IWB",
         "rawType": "float64",
         "type": "float"
        },
        {
         "name": "IWF",
         "rawType": "float64",
         "type": "float"
        },
        {
         "name": "IWL",
         "rawType": "float64",
         "type": "float"
        },
        {
         "name": "IWP",
         "rawType": "float64",
         "type": "float"
        },
        {
         "name": "IWY",
         "rawType": "float64",
         "type": "float"
        },
        {
         "name": "IXN",
         "rawType": "float64",
         "type": "float"
        },
        {
         "name": "IYW",
         "rawType": "float64",
         "type": "float"
        },
        {
         "name": "JMOM",
         "rawType": "float64",
         "type": "float"
        },
        {
         "name": "MGC",
         "rawType": "float64",
         "type": "float"
        },
        {
         "name": "MMTM",
         "rawType": "float64",
         "type": "float"
        },
        {
         "name": "MTUM",
         "rawType": "float64",
         "type": "float"
        },
        {
         "name": "NULG",
         "rawType": "float64",
         "type": "float"
        },
        {
         "name": "OEF",
         "rawType": "float64",
         "type": "float"
        },
        {
         "name": "ONEQ",
         "rawType": "float64",
         "type": "float"
        },
        {
         "name": "PBUS",
         "rawType": "float64",
         "type": "float"
        },
        {
         "name": "PHO",
         "rawType": "float64",
         "type": "float"
        },
        {
         "name": "PJUL",
         "rawType": "float64",
         "type": "float"
        },
        {
         "name": "POCT",
         "rawType": "float64",
         "type": "float"
        },
        {
         "name": "PPA",
         "rawType": "float64",
         "type": "float"
        },
        {
         "name": "PRN",
         "rawType": "float64",
         "type": "float"
        },
        {
         "name": "PSI",
         "rawType": "float64",
         "type": "float"
        },
        {
         "name": "PTF",
         "rawType": "float64",
         "type": "float"
        },
        {
         "name": "PWB",
         "rawType": "float64",
         "type": "float"
        },
        {
         "name": "QGRO",
         "rawType": "float64",
         "type": "float"
        },
        {
         "name": "QLD",
         "rawType": "float64",
         "type": "float"
        },
        {
         "name": "QMOM",
         "rawType": "float64",
         "type": "float"
        },
        {
         "name": "QQQ",
         "rawType": "float64",
         "type": "float"
        },
        {
         "name": "QTUM",
         "rawType": "float64",
         "type": "float"
        },
        {
         "name": "QUAL",
         "rawType": "float64",
         "type": "float"
        },
        {
         "name": "SCHG",
         "rawType": "float64",
         "type": "float"
        },
        {
         "name": "SCHX",
         "rawType": "float64",
         "type": "float"
        },
        {
         "name": "SMH",
         "rawType": "float64",
         "type": "float"
        },
        {
         "name": "SMIN",
         "rawType": "float64",
         "type": "float"
        },
        {
         "name": "SOXX",
         "rawType": "float64",
         "type": "float"
        },
        {
         "name": "SPHB",
         "rawType": "float64",
         "type": "float"
        },
        {
         "name": "SPHQ",
         "rawType": "float64",
         "type": "float"
        },
        {
         "name": "SPLG",
         "rawType": "float64",
         "type": "float"
        },
        {
         "name": "SPMO",
         "rawType": "float64",
         "type": "float"
        },
        {
         "name": "SPTM",
         "rawType": "float64",
         "type": "float"
        },
        {
         "name": "SPXV",
         "rawType": "float64",
         "type": "float"
        },
        {
         "name": "SPY",
         "rawType": "float64",
         "type": "float"
        },
        {
         "name": "SPYG",
         "rawType": "float64",
         "type": "float"
        },
        {
         "name": "SUSA",
         "rawType": "float64",
         "type": "float"
        },
        {
         "name": "TBLU",
         "rawType": "float64",
         "type": "float"
        },
        {
         "name": "TMFC",
         "rawType": "float64",
         "type": "float"
        },
        {
         "name": "USMC",
         "rawType": "float64",
         "type": "float"
        },
        {
         "name": "VCR",
         "rawType": "float64",
         "type": "float"
        },
        {
         "name": "VGT",
         "rawType": "float64",
         "type": "float"
        },
        {
         "name": "VONE",
         "rawType": "float64",
         "type": "float"
        },
        {
         "name": "VONG",
         "rawType": "float64",
         "type": "float"
        },
        {
         "name": "VOO",
         "rawType": "float64",
         "type": "float"
        },
        {
         "name": "VOOG",
         "rawType": "float64",
         "type": "float"
        },
        {
         "name": "VOT",
         "rawType": "float64",
         "type": "float"
        },
        {
         "name": "VUG",
         "rawType": "float64",
         "type": "float"
        },
        {
         "name": "VUSE",
         "rawType": "float64",
         "type": "float"
        },
        {
         "name": "VV",
         "rawType": "float64",
         "type": "float"
        },
        {
         "name": "XLG",
         "rawType": "float64",
         "type": "float"
        },
        {
         "name": "XLI",
         "rawType": "float64",
         "type": "float"
        },
        {
         "name": "XLK",
         "rawType": "float64",
         "type": "float"
        },
        {
         "name": "XLY",
         "rawType": "float64",
         "type": "float"
        },
        {
         "name": "XNTK",
         "rawType": "float64",
         "type": "float"
        }
       ],
       "ref": "63ba2126-3944-4a50-807f-8826cf106bd4",
       "rows": [
        [
         "2015-07-01 00:00:00",
         null,
         null,
         null,
         null,
         null,
         null,
         null,
         null,
         "18.89",
         null,
         "34.01",
         null,
         "50.14",
         "29.02",
         "23.92",
         "29.72",
         "30.88",
         null,
         "16.46",
         "17.09",
         "23.16",
         "26.53",
         "28.46",
         "37.38",
         "177.83",
         "26.5",
         "100.52",
         "93.02",
         "40.97",
         "45.86",
         "49.06",
         "14.97",
         "24.99",
         null,
         "60.66",
         "78.71",
         "65.89",
         null,
         "79.49",
         "18.34",
         null,
         "22.75",
         null,
         null,
         "32.27",
         "44.44",
         "8.06",
         "14.12",
         "30.37",
         null,
         "9.83",
         null,
         "103.77",
         null,
         "55.68",
         "6.41",
         "7.09",
         "23.32",
         "30.06",
         "26.28",
         "28.21",
         "20.1",
         "20.93",
         null,
         "22.24",
         null,
         "177.97",
         "22.7",
         "37.46",
         null,
         null,
         null,
         "113.86",
         "97.9",
         "82.8",
         "23.71",
         "162.46",
         "94.97",
         "100.33",
         "101.11",
         "23.3",
         "81.86",
         "12.63",
         "45.37",
         "37.85",
         "71.89",
         "38.31"
        ],
        [
         "2015-08-01 00:00:00",
         null,
         null,
         null,
         null,
         null,
         null,
         null,
         null,
         "16.89",
         null,
         "31.94",
         null,
         "47.27",
         "27.2",
         "22.68",
         "28.01",
         "29.65",
         null,
         "16.24",
         "16.16",
         "21.63",
         "24.86",
         "25.33",
         "35.04",
         "166.9",
         "24.87",
         "94.47",
         "87.34",
         "38.36",
         "43.17",
         "46.0",
         "14.05",
         "23.52",
         null,
         "56.83",
         "73.76",
         "61.94",
         null,
         "74.2",
         "17.09",
         null,
         "20.98",
         null,
         null,
         "30.99",
         "41.87",
         "7.7",
         "12.93",
         "28.54",
         null,
         "8.46",
         null,
         "96.69",
         null,
         "52.67",
         "6.02",
         "6.66",
         "22.16",
         "27.29",
         "24.93",
         "26.78",
         "19.07",
         "19.7",
         null,
         "20.93",
         null,
         "167.12",
         "21.32",
         "35.12",
         null,
         null,
         null,
         "106.6",
         "92.22",
         "77.75",
         "22.3",
         "152.49",
         "89.17",
         "94.47",
         "94.74",
         "22.28",
         "76.92",
         "11.78",
         "42.92",
         "35.76",
         "67.19",
         "36.52"
        ],
        [
         "2015-09-01 00:00:00",
         null,
         null,
         null,
         null,
         null,
         null,
         null,
         null,
         "16.29",
         null,
         "31.16",
         null,
         "45.48",
         "26.75",
         "21.91",
         "27.6",
         "28.51",
         null,
         "16.21",
         "15.94",
         "21.01",
         "23.72",
         "24.67",
         "34.04",
         "162.73",
         "24.3",
         "91.82",
         "85.07",
         "37.39",
         "41.48",
         "45.03",
         "13.86",
         "23.19",
         null,
         "55.42",
         "71.37",
         "60.77",
         null,
         "72.54",
         "16.48",
         null,
         "19.64",
         null,
         null,
         "29.96",
         "39.89",
         "7.54",
         "12.78",
         "28.07",
         null,
         "8.03",
         null,
         "94.56",
         null,
         "51.99",
         "5.81",
         "6.48",
         "22.31",
         "27.95",
         "24.59",
         "25.05",
         "18.84",
         "18.99",
         null,
         "20.19",
         "16.9",
         "162.86",
         "20.81",
         "34.38",
         null,
         null,
         null,
         "104.91",
         "90.99",
         "75.62",
         "21.69",
         "148.73",
         "87.11",
         "90.66",
         "92.03",
         "21.21",
         "74.82",
         "11.54",
         "41.97",
         "35.27",
         "66.8",
         "35.83"
        ],
        [
         "2015-10-01 00:00:00",
         null,
         null,
         null,
         null,
         null,
         null,
         null,
         null,
         "17.03",
         null,
         "33.89",
         null,
         "48.3",
         "28.86",
         "23.85",
         "30.56",
         "29.74",
         null,
         "16.17",
         "17.74",
         "23.1",
         "24.99",
         "25.04",
         "36.92",
         "176.53",
         "26.59",
         "99.26",
         "92.47",
         "40.72",
         "44.09",
         "49.4",
         "15.37",
         "25.61",
         null,
         "60.31",
         "77.74",
         "65.21",
         null,
         "79.43",
         "18.11",
         null,
         "21.81",
         null,
         null,
         "32.6",
         "43.43",
         "8.1",
         "13.68",
         "29.82",
         null,
         "9.94",
         null,
         "105.31",
         null,
         "56.48",
         "6.29",
         "7.01",
         "24.24",
         "28.55",
         "27.03",
         "27.65",
         "20.01",
         "20.78",
         "23.2",
         "21.94",
         "18.55",
         "176.71",
         "22.8",
         "37.21",
         null,
         null,
         null,
         "113.06",
         "100.51",
         "81.74",
         "23.57",
         "161.3",
         "95.32",
         "95.74",
         "100.29",
         "22.56",
         "81.02",
         "12.68",
         "45.66",
         "38.98",
         "72.84",
         "39.65"
        ],
        [
         "2015-11-01 00:00:00",
         null,
         null,
         null,
         null,
         null,
         null,
         null,
         null,
         "17.64",
         null,
         "33.95",
         null,
         "48.71",
         "28.69",
         "24.18",
         "30.88",
         "29.83",
         null,
         "16.28",
         "17.97",
         "23.19",
         "25.07",
         "25.05",
         "37.14",
         "177.22",
         "26.64",
         "99.67",
         "92.75",
         "40.97",
         "44.2",
         "49.58",
         "15.51",
         "25.86",
         null,
         "60.55",
         "78.59",
         "65.56",
         null,
         "79.7",
         "18.34",
         null,
         "21.17",
         null,
         null,
         "33.28",
         "44.45",
         "8.52",
         "13.83",
         "29.85",
         null,
         "10.04",
         null,
         "105.95",
         null,
         "56.73",
         "6.31",
         "7.04",
         "24.95",
         "28.44",
         "27.66",
         "27.77",
         "20.2",
         "20.79",
         "23.59",
         "22.03",
         "18.66",
         "177.36",
         "22.83",
         "37.32",
         null,
         null,
         null,
         "112.53",
         "101.7",
         "82.06",
         "23.64",
         "161.99",
         "95.45",
         "95.71",
         "100.44",
         "23.0",
         "81.3",
         "12.74",
         "46.05",
         "39.26",
         "72.66",
         "40.07"
        ]
       ],
       "shape": {
        "columns": 87,
        "rows": 5
       }
      },
      "text/html": [
       "<div>\n",
       "<style scoped>\n",
       "    .dataframe tbody tr th:only-of-type {\n",
       "        vertical-align: middle;\n",
       "    }\n",
       "\n",
       "    .dataframe tbody tr th {\n",
       "        vertical-align: top;\n",
       "    }\n",
       "\n",
       "    .dataframe thead th {\n",
       "        text-align: right;\n",
       "    }\n",
       "</style>\n",
       "<table border=\"1\" class=\"dataframe\">\n",
       "  <thead>\n",
       "    <tr style=\"text-align: right;\">\n",
       "      <th></th>\n",
       "      <th>ABFL</th>\n",
       "      <th>ADME</th>\n",
       "      <th>AIQ</th>\n",
       "      <th>BAPR</th>\n",
       "      <th>BBUS</th>\n",
       "      <th>BJAN</th>\n",
       "      <th>BJUL</th>\n",
       "      <th>BOCT</th>\n",
       "      <th>CIBR</th>\n",
       "      <th>CWS</th>\n",
       "      <th>...</th>\n",
       "      <th>VOOG</th>\n",
       "      <th>VOT</th>\n",
       "      <th>VUG</th>\n",
       "      <th>VUSE</th>\n",
       "      <th>VV</th>\n",
       "      <th>XLG</th>\n",
       "      <th>XLI</th>\n",
       "      <th>XLK</th>\n",
       "      <th>XLY</th>\n",
       "      <th>XNTK</th>\n",
       "    </tr>\n",
       "    <tr>\n",
       "      <th>Date</th>\n",
       "      <th></th>\n",
       "      <th></th>\n",
       "      <th></th>\n",
       "      <th></th>\n",
       "      <th></th>\n",
       "      <th></th>\n",
       "      <th></th>\n",
       "      <th></th>\n",
       "      <th></th>\n",
       "      <th></th>\n",
       "      <th></th>\n",
       "      <th></th>\n",
       "      <th></th>\n",
       "      <th></th>\n",
       "      <th></th>\n",
       "      <th></th>\n",
       "      <th></th>\n",
       "      <th></th>\n",
       "      <th></th>\n",
       "      <th></th>\n",
       "      <th></th>\n",
       "    </tr>\n",
       "  </thead>\n",
       "  <tbody>\n",
       "    <tr>\n",
       "      <th>2015-07-01</th>\n",
       "      <td>NaN</td>\n",
       "      <td>NaN</td>\n",
       "      <td>NaN</td>\n",
       "      <td>NaN</td>\n",
       "      <td>NaN</td>\n",
       "      <td>NaN</td>\n",
       "      <td>NaN</td>\n",
       "      <td>NaN</td>\n",
       "      <td>18.89</td>\n",
       "      <td>NaN</td>\n",
       "      <td>...</td>\n",
       "      <td>94.97</td>\n",
       "      <td>100.33</td>\n",
       "      <td>101.11</td>\n",
       "      <td>23.30</td>\n",
       "      <td>81.86</td>\n",
       "      <td>12.63</td>\n",
       "      <td>45.37</td>\n",
       "      <td>37.85</td>\n",
       "      <td>71.89</td>\n",
       "      <td>38.31</td>\n",
       "    </tr>\n",
       "    <tr>\n",
       "      <th>2015-08-01</th>\n",
       "      <td>NaN</td>\n",
       "      <td>NaN</td>\n",
       "      <td>NaN</td>\n",
       "      <td>NaN</td>\n",
       "      <td>NaN</td>\n",
       "      <td>NaN</td>\n",
       "      <td>NaN</td>\n",
       "      <td>NaN</td>\n",
       "      <td>16.89</td>\n",
       "      <td>NaN</td>\n",
       "      <td>...</td>\n",
       "      <td>89.17</td>\n",
       "      <td>94.47</td>\n",
       "      <td>94.74</td>\n",
       "      <td>22.28</td>\n",
       "      <td>76.92</td>\n",
       "      <td>11.78</td>\n",
       "      <td>42.92</td>\n",
       "      <td>35.76</td>\n",
       "      <td>67.19</td>\n",
       "      <td>36.52</td>\n",
       "    </tr>\n",
       "    <tr>\n",
       "      <th>2015-09-01</th>\n",
       "      <td>NaN</td>\n",
       "      <td>NaN</td>\n",
       "      <td>NaN</td>\n",
       "      <td>NaN</td>\n",
       "      <td>NaN</td>\n",
       "      <td>NaN</td>\n",
       "      <td>NaN</td>\n",
       "      <td>NaN</td>\n",
       "      <td>16.29</td>\n",
       "      <td>NaN</td>\n",
       "      <td>...</td>\n",
       "      <td>87.11</td>\n",
       "      <td>90.66</td>\n",
       "      <td>92.03</td>\n",
       "      <td>21.21</td>\n",
       "      <td>74.82</td>\n",
       "      <td>11.54</td>\n",
       "      <td>41.97</td>\n",
       "      <td>35.27</td>\n",
       "      <td>66.80</td>\n",
       "      <td>35.83</td>\n",
       "    </tr>\n",
       "    <tr>\n",
       "      <th>2015-10-01</th>\n",
       "      <td>NaN</td>\n",
       "      <td>NaN</td>\n",
       "      <td>NaN</td>\n",
       "      <td>NaN</td>\n",
       "      <td>NaN</td>\n",
       "      <td>NaN</td>\n",
       "      <td>NaN</td>\n",
       "      <td>NaN</td>\n",
       "      <td>17.03</td>\n",
       "      <td>NaN</td>\n",
       "      <td>...</td>\n",
       "      <td>95.32</td>\n",
       "      <td>95.74</td>\n",
       "      <td>100.29</td>\n",
       "      <td>22.56</td>\n",
       "      <td>81.02</td>\n",
       "      <td>12.68</td>\n",
       "      <td>45.66</td>\n",
       "      <td>38.98</td>\n",
       "      <td>72.84</td>\n",
       "      <td>39.65</td>\n",
       "    </tr>\n",
       "    <tr>\n",
       "      <th>2015-11-01</th>\n",
       "      <td>NaN</td>\n",
       "      <td>NaN</td>\n",
       "      <td>NaN</td>\n",
       "      <td>NaN</td>\n",
       "      <td>NaN</td>\n",
       "      <td>NaN</td>\n",
       "      <td>NaN</td>\n",
       "      <td>NaN</td>\n",
       "      <td>17.64</td>\n",
       "      <td>NaN</td>\n",
       "      <td>...</td>\n",
       "      <td>95.45</td>\n",
       "      <td>95.71</td>\n",
       "      <td>100.44</td>\n",
       "      <td>23.00</td>\n",
       "      <td>81.30</td>\n",
       "      <td>12.74</td>\n",
       "      <td>46.05</td>\n",
       "      <td>39.26</td>\n",
       "      <td>72.66</td>\n",
       "      <td>40.07</td>\n",
       "    </tr>\n",
       "  </tbody>\n",
       "</table>\n",
       "<p>5 rows × 87 columns</p>\n",
       "</div>"
      ],
      "text/plain": [
       "            ABFL  ADME  AIQ  BAPR  BBUS  BJAN  BJUL  BOCT   CIBR  CWS  ...  \\\n",
       "Date                                                                   ...   \n",
       "2015-07-01   NaN   NaN  NaN   NaN   NaN   NaN   NaN   NaN  18.89  NaN  ...   \n",
       "2015-08-01   NaN   NaN  NaN   NaN   NaN   NaN   NaN   NaN  16.89  NaN  ...   \n",
       "2015-09-01   NaN   NaN  NaN   NaN   NaN   NaN   NaN   NaN  16.29  NaN  ...   \n",
       "2015-10-01   NaN   NaN  NaN   NaN   NaN   NaN   NaN   NaN  17.03  NaN  ...   \n",
       "2015-11-01   NaN   NaN  NaN   NaN   NaN   NaN   NaN   NaN  17.64  NaN  ...   \n",
       "\n",
       "             VOOG     VOT     VUG   VUSE     VV    XLG    XLI    XLK    XLY  \\\n",
       "Date                                                                          \n",
       "2015-07-01  94.97  100.33  101.11  23.30  81.86  12.63  45.37  37.85  71.89   \n",
       "2015-08-01  89.17   94.47   94.74  22.28  76.92  11.78  42.92  35.76  67.19   \n",
       "2015-09-01  87.11   90.66   92.03  21.21  74.82  11.54  41.97  35.27  66.80   \n",
       "2015-10-01  95.32   95.74  100.29  22.56  81.02  12.68  45.66  38.98  72.84   \n",
       "2015-11-01  95.45   95.71  100.44  23.00  81.30  12.74  46.05  39.26  72.66   \n",
       "\n",
       "             XNTK  \n",
       "Date               \n",
       "2015-07-01  38.31  \n",
       "2015-08-01  36.52  \n",
       "2015-09-01  35.83  \n",
       "2015-10-01  39.65  \n",
       "2015-11-01  40.07  \n",
       "\n",
       "[5 rows x 87 columns]"
      ]
     },
     "execution_count": 10,
     "metadata": {},
     "output_type": "execute_result"
    }
   ],
   "source": [
    "# Load and filter historical benchmark price data\n",
    "benchmark_prices_daily_df = load_and_filter_data('data/daily_benchmark_quotes.csv', tickers, start_date, end_date)\n",
    "benchmark_prices_monthly_df = load_and_filter_data('data/monthly_benchmark_quotes.csv', tickers, start_date, end_date)\n",
    "\n",
    "# Display the first few rows\n",
    "benchmark_prices_monthly_df.head()"
   ]
  },
  {
   "cell_type": "markdown",
   "id": "0b6317cc",
   "metadata": {},
   "source": [
    "#### Portfolio Tickers"
   ]
  },
  {
   "cell_type": "code",
   "execution_count": 11,
   "id": "63739423",
   "metadata": {
    "execution": {
     "iopub.execute_input": "2025-06-02T13:28:31.198685Z",
     "iopub.status.busy": "2025-06-02T13:28:31.198402Z",
     "iopub.status.idle": "2025-06-02T13:28:31.232652Z",
     "shell.execute_reply": "2025-06-02T13:28:31.231755Z"
    }
   },
   "outputs": [
    {
     "name": "stdout",
     "output_type": "stream",
     "text": [
      "Found 2 of 2 tickers in data/monthly_stock_quotes.csv\n",
      "Missing tickers: []\n"
     ]
    },
    {
     "data": {
      "application/vnd.microsoft.datawrangler.viewer.v0+json": {
       "columns": [
        {
         "name": "Date",
         "rawType": "datetime64[ns]",
         "type": "datetime"
        },
        {
         "name": "GRMN",
         "rawType": "float64",
         "type": "float"
        },
        {
         "name": "MSFT",
         "rawType": "float64",
         "type": "float"
        }
       ],
       "ref": "2a25b908-af12-45f6-823c-29b527c0be63",
       "rows": [
        [
         "2015-07-01 00:00:00",
         "31.29",
         "40.49"
        ],
        [
         "2015-08-01 00:00:00",
         "28.08",
         "37.98"
        ],
        [
         "2015-09-01 00:00:00",
         "27.17",
         "38.63"
        ],
        [
         "2015-10-01 00:00:00",
         "26.86",
         "45.94"
        ],
        [
         "2015-11-01 00:00:00",
         "28.66",
         "47.76"
        ]
       ],
       "shape": {
        "columns": 2,
        "rows": 5
       }
      },
      "text/html": [
       "<div>\n",
       "<style scoped>\n",
       "    .dataframe tbody tr th:only-of-type {\n",
       "        vertical-align: middle;\n",
       "    }\n",
       "\n",
       "    .dataframe tbody tr th {\n",
       "        vertical-align: top;\n",
       "    }\n",
       "\n",
       "    .dataframe thead th {\n",
       "        text-align: right;\n",
       "    }\n",
       "</style>\n",
       "<table border=\"1\" class=\"dataframe\">\n",
       "  <thead>\n",
       "    <tr style=\"text-align: right;\">\n",
       "      <th></th>\n",
       "      <th>GRMN</th>\n",
       "      <th>MSFT</th>\n",
       "    </tr>\n",
       "    <tr>\n",
       "      <th>Date</th>\n",
       "      <th></th>\n",
       "      <th></th>\n",
       "    </tr>\n",
       "  </thead>\n",
       "  <tbody>\n",
       "    <tr>\n",
       "      <th>2015-07-01</th>\n",
       "      <td>31.29</td>\n",
       "      <td>40.49</td>\n",
       "    </tr>\n",
       "    <tr>\n",
       "      <th>2015-08-01</th>\n",
       "      <td>28.08</td>\n",
       "      <td>37.98</td>\n",
       "    </tr>\n",
       "    <tr>\n",
       "      <th>2015-09-01</th>\n",
       "      <td>27.17</td>\n",
       "      <td>38.63</td>\n",
       "    </tr>\n",
       "    <tr>\n",
       "      <th>2015-10-01</th>\n",
       "      <td>26.86</td>\n",
       "      <td>45.94</td>\n",
       "    </tr>\n",
       "    <tr>\n",
       "      <th>2015-11-01</th>\n",
       "      <td>28.66</td>\n",
       "      <td>47.76</td>\n",
       "    </tr>\n",
       "  </tbody>\n",
       "</table>\n",
       "</div>"
      ],
      "text/plain": [
       "             GRMN   MSFT\n",
       "Date                    \n",
       "2015-07-01  31.29  40.49\n",
       "2015-08-01  28.08  37.98\n",
       "2015-09-01  27.17  38.63\n",
       "2015-10-01  26.86  45.94\n",
       "2015-11-01  28.66  47.76"
      ]
     },
     "execution_count": 11,
     "metadata": {},
     "output_type": "execute_result"
    }
   ],
   "source": [
    "# Load and filter historical benchmark price data\n",
    "stock_prices_monthly_df = load_and_filter_data('data/monthly_stock_quotes.csv', portfolio_tickers, start_date, end_date)\n",
    "\n",
    "# Display the first few rows\n",
    "stock_prices_monthly_df.head()"
   ]
  },
  {
   "cell_type": "markdown",
   "id": "ff74a589",
   "metadata": {},
   "source": [
    "### Step 7: Prepare Data (Drop Invalid Tickers)"
   ]
  },
  {
   "cell_type": "markdown",
   "id": "bc19d94e",
   "metadata": {},
   "source": [
    "#### Daily Quotes"
   ]
  },
  {
   "cell_type": "code",
   "execution_count": 12,
   "id": "4fd1c0fd",
   "metadata": {
    "execution": {
     "iopub.execute_input": "2025-06-02T13:28:31.236531Z",
     "iopub.status.busy": "2025-06-02T13:28:31.236211Z",
     "iopub.status.idle": "2025-06-02T13:28:31.261664Z",
     "shell.execute_reply": "2025-06-02T13:28:31.260652Z"
    }
   },
   "outputs": [
    {
     "name": "stdout",
     "output_type": "stream",
     "text": [
      "Dropping 26 columns with missing values in first/last 50 records: ['ABFL', 'ADME', 'AIQ', 'BAPR', 'BBUS', 'BJAN', 'BJUL', 'BOCT', 'CIBR', 'CWS', 'ESPO', 'GVIP', 'HTUS', 'JMOM', 'NULG', 'PBUS', 'PJUL', 'POCT', 'QGRO', 'QMOM', 'QTUM', 'SPMO', 'SPXV', 'TBLU', 'TMFC', 'USMC']\n"
     ]
    },
    {
     "data": {
      "application/vnd.microsoft.datawrangler.viewer.v0+json": {
       "columns": [
        {
         "name": "Date",
         "rawType": "datetime64[ns]",
         "type": "datetime"
        },
        {
         "name": "DSI",
         "rawType": "float64",
         "type": "float"
        },
        {
         "name": "FAD",
         "rawType": "float64",
         "type": "float"
        },
        {
         "name": "FDIS",
         "rawType": "float64",
         "type": "float"
        },
        {
         "name": "FIDU",
         "rawType": "float64",
         "type": "float"
        },
        {
         "name": "FTEC",
         "rawType": "float64",
         "type": "float"
        },
        {
         "name": "GRID",
         "rawType": "float64",
         "type": "float"
        },
        {
         "name": "IGM",
         "rawType": "float64",
         "type": "float"
        },
        {
         "name": "ILCG",
         "rawType": "float64",
         "type": "float"
        },
        {
         "name": "IMCG",
         "rawType": "float64",
         "type": "float"
        },
        {
         "name": "INCO",
         "rawType": "float64",
         "type": "float"
        },
        {
         "name": "IUSG",
         "rawType": "float64",
         "type": "float"
        },
        {
         "name": "IVV",
         "rawType": "float64",
         "type": "float"
        },
        {
         "name": "IVW",
         "rawType": "float64",
         "type": "float"
        },
        {
         "name": "IWB",
         "rawType": "float64",
         "type": "float"
        },
        {
         "name": "IWF",
         "rawType": "float64",
         "type": "float"
        },
        {
         "name": "IWL",
         "rawType": "float64",
         "type": "float"
        },
        {
         "name": "IWP",
         "rawType": "float64",
         "type": "float"
        },
        {
         "name": "IWY",
         "rawType": "float64",
         "type": "float"
        },
        {
         "name": "IXN",
         "rawType": "float64",
         "type": "float"
        },
        {
         "name": "IYW",
         "rawType": "float64",
         "type": "float"
        },
        {
         "name": "MGC",
         "rawType": "float64",
         "type": "float"
        },
        {
         "name": "MMTM",
         "rawType": "float64",
         "type": "float"
        },
        {
         "name": "MTUM",
         "rawType": "float64",
         "type": "float"
        },
        {
         "name": "OEF",
         "rawType": "float64",
         "type": "float"
        },
        {
         "name": "ONEQ",
         "rawType": "float64",
         "type": "float"
        },
        {
         "name": "PHO",
         "rawType": "float64",
         "type": "float"
        },
        {
         "name": "PPA",
         "rawType": "float64",
         "type": "float"
        },
        {
         "name": "PRN",
         "rawType": "float64",
         "type": "float"
        },
        {
         "name": "PSI",
         "rawType": "float64",
         "type": "float"
        },
        {
         "name": "PTF",
         "rawType": "float64",
         "type": "float"
        },
        {
         "name": "PWB",
         "rawType": "float64",
         "type": "float"
        },
        {
         "name": "QLD",
         "rawType": "float64",
         "type": "float"
        },
        {
         "name": "QQQ",
         "rawType": "float64",
         "type": "float"
        },
        {
         "name": "QUAL",
         "rawType": "float64",
         "type": "float"
        },
        {
         "name": "SCHG",
         "rawType": "float64",
         "type": "float"
        },
        {
         "name": "SCHX",
         "rawType": "float64",
         "type": "float"
        },
        {
         "name": "SMH",
         "rawType": "float64",
         "type": "float"
        },
        {
         "name": "SMIN",
         "rawType": "float64",
         "type": "float"
        },
        {
         "name": "SOXX",
         "rawType": "float64",
         "type": "float"
        },
        {
         "name": "SPHB",
         "rawType": "float64",
         "type": "float"
        },
        {
         "name": "SPHQ",
         "rawType": "float64",
         "type": "float"
        },
        {
         "name": "SPLG",
         "rawType": "float64",
         "type": "float"
        },
        {
         "name": "SPTM",
         "rawType": "float64",
         "type": "float"
        },
        {
         "name": "SPY",
         "rawType": "float64",
         "type": "float"
        },
        {
         "name": "SPYG",
         "rawType": "float64",
         "type": "float"
        },
        {
         "name": "SUSA",
         "rawType": "float64",
         "type": "float"
        },
        {
         "name": "VCR",
         "rawType": "float64",
         "type": "float"
        },
        {
         "name": "VGT",
         "rawType": "float64",
         "type": "float"
        },
        {
         "name": "VONE",
         "rawType": "float64",
         "type": "float"
        },
        {
         "name": "VONG",
         "rawType": "float64",
         "type": "float"
        },
        {
         "name": "VOO",
         "rawType": "float64",
         "type": "float"
        },
        {
         "name": "VOOG",
         "rawType": "float64",
         "type": "float"
        },
        {
         "name": "VOT",
         "rawType": "float64",
         "type": "float"
        },
        {
         "name": "VUG",
         "rawType": "float64",
         "type": "float"
        },
        {
         "name": "VUSE",
         "rawType": "float64",
         "type": "float"
        },
        {
         "name": "VV",
         "rawType": "float64",
         "type": "float"
        },
        {
         "name": "XLG",
         "rawType": "float64",
         "type": "float"
        },
        {
         "name": "XLI",
         "rawType": "float64",
         "type": "float"
        },
        {
         "name": "XLK",
         "rawType": "float64",
         "type": "float"
        },
        {
         "name": "XLY",
         "rawType": "float64",
         "type": "float"
        },
        {
         "name": "XNTK",
         "rawType": "float64",
         "type": "float"
        }
       ],
       "ref": "7ecf03e9-e57d-4607-80fc-3e3d22120a48",
       "rows": [
        [
         "2015-06-08 00:00:00",
         "33.57",
         "48.74",
         "27.71",
         "24.47",
         "29.72",
         "33.2",
         "16.81",
         "22.24",
         "26.13",
         "25.51",
         "36.4",
         "175.29",
         "25.67",
         "99.26",
         "90.46",
         "40.3",
         "45.54",
         "47.29",
         "15.09",
         "25.06",
         "59.7",
         "76.4",
         "62.52",
         "77.75",
         "17.9",
         "24.28",
         "32.64",
         "45.3",
         "8.95",
         "14.18",
         "29.12",
         "9.19",
         "100.06",
         "54.38",
         "6.24",
         "7.0",
         "25.24",
         "27.08",
         "28.92",
         "30.06",
         "19.62",
         "20.69",
         "22.07",
         "175.41",
         "22.03",
         "37.34",
         "108.82",
         "97.86",
         "81.88",
         "23.06",
         "160.16",
         "92.05",
         "99.29",
         "98.52",
         "23.86",
         "80.77",
         "12.32",
         "46.17",
         "37.59",
         "67.87",
         "37.1"
        ],
        [
         "2015-06-09 00:00:00",
         "33.54",
         "48.58",
         "27.67",
         "24.45",
         "29.67",
         "33.2",
         "16.74",
         "22.21",
         "26.05",
         "25.17",
         "36.32",
         "175.23",
         "25.65",
         "99.29",
         "90.38",
         "40.21",
         "45.49",
         "47.21",
         "15.01",
         "25.0",
         "59.76",
         "76.15",
         "62.58",
         "77.82",
         "17.88",
         "24.34",
         "32.59",
         "45.19",
         "8.96",
         "14.17",
         "29.11",
         "9.16",
         "99.89",
         "54.37",
         "6.24",
         "7.0",
         "25.27",
         "27.23",
         "28.9",
         "30.05",
         "19.62",
         "20.69",
         "22.02",
         "175.38",
         "21.97",
         "37.32",
         "108.6",
         "97.69",
         "81.82",
         "23.03",
         "160.12",
         "91.97",
         "99.08",
         "98.37",
         "23.85",
         "80.76",
         "12.32",
         "46.16",
         "37.5",
         "67.8",
         "37.1"
        ],
        [
         "2015-06-10 00:00:00",
         "33.97",
         "49.17",
         "27.96",
         "24.7",
         "30.13",
         "33.13",
         "17.02",
         "22.48",
         "26.36",
         "25.96",
         "36.83",
         "177.31",
         "25.97",
         "100.44",
         "91.46",
         "40.72",
         "45.93",
         "47.83",
         "15.25",
         "25.39",
         "60.49",
         "76.36",
         "63.34",
         "78.79",
         "18.11",
         "24.6",
         "32.98",
         "45.75",
         "9.1",
         "14.39",
         "29.45",
         "9.4",
         "101.26",
         "55.11",
         "6.32",
         "7.08",
         "25.66",
         "27.54",
         "29.26",
         "30.48",
         "19.8",
         "20.91",
         "22.26",
         "177.49",
         "22.26",
         "37.78",
         "109.64",
         "99.17",
         "82.78",
         "23.31",
         "162.02",
         "93.08",
         "100.07",
         "99.53",
         "24.15",
         "81.71",
         "12.48",
         "46.62",
         "38.08",
         "68.5",
         "37.75"
        ],
        [
         "2015-06-11 00:00:00",
         "34.04",
         "49.26",
         "28.03",
         "24.78",
         "30.12",
         "32.85",
         "17.01",
         "22.52",
         "26.42",
         "25.28",
         "36.87",
         "177.91",
         "26.04",
         "100.76",
         "91.69",
         "40.83",
         "46.09",
         "47.94",
         "15.24",
         "25.37",
         "60.58",
         "76.36",
         "63.52",
         "79.02",
         "18.12",
         "24.63",
         "33.21",
         "46.05",
         "9.06",
         "14.37",
         "29.53",
         "9.43",
         "101.41",
         "55.33",
         "6.33",
         "7.1",
         "25.69",
         "26.98",
         "29.25",
         "30.43",
         "19.87",
         "20.99",
         "22.31",
         "178.06",
         "22.32",
         "37.85",
         "109.98",
         "99.19",
         "82.95",
         "23.36",
         "162.53",
         "93.26",
         "100.5",
         "99.75",
         "24.14",
         "81.9",
         "12.49",
         "46.88",
         "38.1",
         "68.73",
         "37.71"
        ],
        [
         "2015-06-12 00:00:00",
         "33.84",
         "49.19",
         "27.94",
         "24.65",
         "29.89",
         "33.14",
         "16.89",
         "22.34",
         "26.32",
         "25.31",
         "36.65",
         "176.56",
         "25.85",
         "100.05",
         "91.11",
         "40.49",
         "45.87",
         "47.58",
         "15.15",
         "25.15",
         "60.21",
         "76.36",
         "63.17",
         "78.39",
         "17.99",
         "24.48",
         "33.06",
         "45.86",
         "9.03",
         "14.36",
         "29.38",
         "9.28",
         "100.58",
         "54.89",
         "6.29",
         "7.05",
         "25.47",
         "26.71",
         "28.99",
         "30.24",
         "19.77",
         "20.81",
         "22.17",
         "176.7",
         "22.15",
         "37.64",
         "109.68",
         "98.48",
         "82.44",
         "23.22",
         "161.34",
         "92.66",
         "100.12",
         "99.12",
         "24.09",
         "81.36",
         "12.41",
         "46.61",
         "37.76",
         "68.42",
         "37.4"
        ]
       ],
       "shape": {
        "columns": 61,
        "rows": 5
       }
      },
      "text/html": [
       "<div>\n",
       "<style scoped>\n",
       "    .dataframe tbody tr th:only-of-type {\n",
       "        vertical-align: middle;\n",
       "    }\n",
       "\n",
       "    .dataframe tbody tr th {\n",
       "        vertical-align: top;\n",
       "    }\n",
       "\n",
       "    .dataframe thead th {\n",
       "        text-align: right;\n",
       "    }\n",
       "</style>\n",
       "<table border=\"1\" class=\"dataframe\">\n",
       "  <thead>\n",
       "    <tr style=\"text-align: right;\">\n",
       "      <th></th>\n",
       "      <th>DSI</th>\n",
       "      <th>FAD</th>\n",
       "      <th>FDIS</th>\n",
       "      <th>FIDU</th>\n",
       "      <th>FTEC</th>\n",
       "      <th>GRID</th>\n",
       "      <th>IGM</th>\n",
       "      <th>ILCG</th>\n",
       "      <th>IMCG</th>\n",
       "      <th>INCO</th>\n",
       "      <th>...</th>\n",
       "      <th>VOOG</th>\n",
       "      <th>VOT</th>\n",
       "      <th>VUG</th>\n",
       "      <th>VUSE</th>\n",
       "      <th>VV</th>\n",
       "      <th>XLG</th>\n",
       "      <th>XLI</th>\n",
       "      <th>XLK</th>\n",
       "      <th>XLY</th>\n",
       "      <th>XNTK</th>\n",
       "    </tr>\n",
       "    <tr>\n",
       "      <th>Date</th>\n",
       "      <th></th>\n",
       "      <th></th>\n",
       "      <th></th>\n",
       "      <th></th>\n",
       "      <th></th>\n",
       "      <th></th>\n",
       "      <th></th>\n",
       "      <th></th>\n",
       "      <th></th>\n",
       "      <th></th>\n",
       "      <th></th>\n",
       "      <th></th>\n",
       "      <th></th>\n",
       "      <th></th>\n",
       "      <th></th>\n",
       "      <th></th>\n",
       "      <th></th>\n",
       "      <th></th>\n",
       "      <th></th>\n",
       "      <th></th>\n",
       "      <th></th>\n",
       "    </tr>\n",
       "  </thead>\n",
       "  <tbody>\n",
       "    <tr>\n",
       "      <th>2015-06-08</th>\n",
       "      <td>33.57</td>\n",
       "      <td>48.74</td>\n",
       "      <td>27.71</td>\n",
       "      <td>24.47</td>\n",
       "      <td>29.72</td>\n",
       "      <td>33.20</td>\n",
       "      <td>16.81</td>\n",
       "      <td>22.24</td>\n",
       "      <td>26.13</td>\n",
       "      <td>25.51</td>\n",
       "      <td>...</td>\n",
       "      <td>92.05</td>\n",
       "      <td>99.29</td>\n",
       "      <td>98.52</td>\n",
       "      <td>23.86</td>\n",
       "      <td>80.77</td>\n",
       "      <td>12.32</td>\n",
       "      <td>46.17</td>\n",
       "      <td>37.59</td>\n",
       "      <td>67.87</td>\n",
       "      <td>37.10</td>\n",
       "    </tr>\n",
       "    <tr>\n",
       "      <th>2015-06-09</th>\n",
       "      <td>33.54</td>\n",
       "      <td>48.58</td>\n",
       "      <td>27.67</td>\n",
       "      <td>24.45</td>\n",
       "      <td>29.67</td>\n",
       "      <td>33.20</td>\n",
       "      <td>16.74</td>\n",
       "      <td>22.21</td>\n",
       "      <td>26.05</td>\n",
       "      <td>25.17</td>\n",
       "      <td>...</td>\n",
       "      <td>91.97</td>\n",
       "      <td>99.08</td>\n",
       "      <td>98.37</td>\n",
       "      <td>23.85</td>\n",
       "      <td>80.76</td>\n",
       "      <td>12.32</td>\n",
       "      <td>46.16</td>\n",
       "      <td>37.50</td>\n",
       "      <td>67.80</td>\n",
       "      <td>37.10</td>\n",
       "    </tr>\n",
       "    <tr>\n",
       "      <th>2015-06-10</th>\n",
       "      <td>33.97</td>\n",
       "      <td>49.17</td>\n",
       "      <td>27.96</td>\n",
       "      <td>24.70</td>\n",
       "      <td>30.13</td>\n",
       "      <td>33.13</td>\n",
       "      <td>17.02</td>\n",
       "      <td>22.48</td>\n",
       "      <td>26.36</td>\n",
       "      <td>25.96</td>\n",
       "      <td>...</td>\n",
       "      <td>93.08</td>\n",
       "      <td>100.07</td>\n",
       "      <td>99.53</td>\n",
       "      <td>24.15</td>\n",
       "      <td>81.71</td>\n",
       "      <td>12.48</td>\n",
       "      <td>46.62</td>\n",
       "      <td>38.08</td>\n",
       "      <td>68.50</td>\n",
       "      <td>37.75</td>\n",
       "    </tr>\n",
       "    <tr>\n",
       "      <th>2015-06-11</th>\n",
       "      <td>34.04</td>\n",
       "      <td>49.26</td>\n",
       "      <td>28.03</td>\n",
       "      <td>24.78</td>\n",
       "      <td>30.12</td>\n",
       "      <td>32.85</td>\n",
       "      <td>17.01</td>\n",
       "      <td>22.52</td>\n",
       "      <td>26.42</td>\n",
       "      <td>25.28</td>\n",
       "      <td>...</td>\n",
       "      <td>93.26</td>\n",
       "      <td>100.50</td>\n",
       "      <td>99.75</td>\n",
       "      <td>24.14</td>\n",
       "      <td>81.90</td>\n",
       "      <td>12.49</td>\n",
       "      <td>46.88</td>\n",
       "      <td>38.10</td>\n",
       "      <td>68.73</td>\n",
       "      <td>37.71</td>\n",
       "    </tr>\n",
       "    <tr>\n",
       "      <th>2015-06-12</th>\n",
       "      <td>33.84</td>\n",
       "      <td>49.19</td>\n",
       "      <td>27.94</td>\n",
       "      <td>24.65</td>\n",
       "      <td>29.89</td>\n",
       "      <td>33.14</td>\n",
       "      <td>16.89</td>\n",
       "      <td>22.34</td>\n",
       "      <td>26.32</td>\n",
       "      <td>25.31</td>\n",
       "      <td>...</td>\n",
       "      <td>92.66</td>\n",
       "      <td>100.12</td>\n",
       "      <td>99.12</td>\n",
       "      <td>24.09</td>\n",
       "      <td>81.36</td>\n",
       "      <td>12.41</td>\n",
       "      <td>46.61</td>\n",
       "      <td>37.76</td>\n",
       "      <td>68.42</td>\n",
       "      <td>37.40</td>\n",
       "    </tr>\n",
       "  </tbody>\n",
       "</table>\n",
       "<p>5 rows × 61 columns</p>\n",
       "</div>"
      ],
      "text/plain": [
       "              DSI    FAD   FDIS   FIDU   FTEC   GRID    IGM   ILCG   IMCG  \\\n",
       "Date                                                                        \n",
       "2015-06-08  33.57  48.74  27.71  24.47  29.72  33.20  16.81  22.24  26.13   \n",
       "2015-06-09  33.54  48.58  27.67  24.45  29.67  33.20  16.74  22.21  26.05   \n",
       "2015-06-10  33.97  49.17  27.96  24.70  30.13  33.13  17.02  22.48  26.36   \n",
       "2015-06-11  34.04  49.26  28.03  24.78  30.12  32.85  17.01  22.52  26.42   \n",
       "2015-06-12  33.84  49.19  27.94  24.65  29.89  33.14  16.89  22.34  26.32   \n",
       "\n",
       "             INCO  ...   VOOG     VOT    VUG   VUSE     VV    XLG    XLI  \\\n",
       "Date               ...                                                     \n",
       "2015-06-08  25.51  ...  92.05   99.29  98.52  23.86  80.77  12.32  46.17   \n",
       "2015-06-09  25.17  ...  91.97   99.08  98.37  23.85  80.76  12.32  46.16   \n",
       "2015-06-10  25.96  ...  93.08  100.07  99.53  24.15  81.71  12.48  46.62   \n",
       "2015-06-11  25.28  ...  93.26  100.50  99.75  24.14  81.90  12.49  46.88   \n",
       "2015-06-12  25.31  ...  92.66  100.12  99.12  24.09  81.36  12.41  46.61   \n",
       "\n",
       "              XLK    XLY   XNTK  \n",
       "Date                             \n",
       "2015-06-08  37.59  67.87  37.10  \n",
       "2015-06-09  37.50  67.80  37.10  \n",
       "2015-06-10  38.08  68.50  37.75  \n",
       "2015-06-11  38.10  68.73  37.71  \n",
       "2015-06-12  37.76  68.42  37.40  \n",
       "\n",
       "[5 rows x 61 columns]"
      ]
     },
     "execution_count": 12,
     "metadata": {},
     "output_type": "execute_result"
    }
   ],
   "source": [
    "# Identify columns with null values in first or last 50 rows\n",
    "first_50_nulls = benchmark_prices_daily_df.head(50).isnull().any()\n",
    "last_50_nulls = benchmark_prices_daily_df.tail(50).isnull().any()\n",
    "\n",
    "# Columns to drop are those with nulls in first 50 OR last 50 rows\n",
    "columns_to_drop = first_50_nulls | last_50_nulls\n",
    "bad_columns = columns_to_drop[columns_to_drop].index.tolist()\n",
    "\n",
    "print(f\"Dropping {len(bad_columns)} columns with missing values in first/last 50 records: {bad_columns}\")\n",
    "\n",
    "# Drop those columns\n",
    "benchmark_prices_daily_df = benchmark_prices_daily_df.loc[:, ~columns_to_drop]\n",
    "\n",
    "# Display the first few rows of the cleaned dataframe\n",
    "benchmark_prices_daily_df.head()"
   ]
  },
  {
   "cell_type": "markdown",
   "id": "66c53499",
   "metadata": {},
   "source": [
    "#### Monthly Quotes"
   ]
  },
  {
   "cell_type": "code",
   "execution_count": 13,
   "id": "f67e5873",
   "metadata": {
    "execution": {
     "iopub.execute_input": "2025-06-02T13:28:31.265319Z",
     "iopub.status.busy": "2025-06-02T13:28:31.264968Z",
     "iopub.status.idle": "2025-06-02T13:28:31.289915Z",
     "shell.execute_reply": "2025-06-02T13:28:31.289100Z"
    }
   },
   "outputs": [
    {
     "data": {
      "application/vnd.microsoft.datawrangler.viewer.v0+json": {
       "columns": [
        {
         "name": "Date",
         "rawType": "datetime64[ns]",
         "type": "datetime"
        },
        {
         "name": "DSI",
         "rawType": "float64",
         "type": "float"
        },
        {
         "name": "FAD",
         "rawType": "float64",
         "type": "float"
        },
        {
         "name": "FDIS",
         "rawType": "float64",
         "type": "float"
        },
        {
         "name": "FIDU",
         "rawType": "float64",
         "type": "float"
        },
        {
         "name": "FTEC",
         "rawType": "float64",
         "type": "float"
        },
        {
         "name": "GRID",
         "rawType": "float64",
         "type": "float"
        },
        {
         "name": "IGM",
         "rawType": "float64",
         "type": "float"
        },
        {
         "name": "ILCG",
         "rawType": "float64",
         "type": "float"
        },
        {
         "name": "IMCG",
         "rawType": "float64",
         "type": "float"
        },
        {
         "name": "INCO",
         "rawType": "float64",
         "type": "float"
        },
        {
         "name": "IUSG",
         "rawType": "float64",
         "type": "float"
        },
        {
         "name": "IVV",
         "rawType": "float64",
         "type": "float"
        },
        {
         "name": "IVW",
         "rawType": "float64",
         "type": "float"
        },
        {
         "name": "IWB",
         "rawType": "float64",
         "type": "float"
        },
        {
         "name": "IWF",
         "rawType": "float64",
         "type": "float"
        },
        {
         "name": "IWL",
         "rawType": "float64",
         "type": "float"
        },
        {
         "name": "IWP",
         "rawType": "float64",
         "type": "float"
        },
        {
         "name": "IWY",
         "rawType": "float64",
         "type": "float"
        },
        {
         "name": "IXN",
         "rawType": "float64",
         "type": "float"
        },
        {
         "name": "IYW",
         "rawType": "float64",
         "type": "float"
        },
        {
         "name": "MGC",
         "rawType": "float64",
         "type": "float"
        },
        {
         "name": "MMTM",
         "rawType": "float64",
         "type": "float"
        },
        {
         "name": "MTUM",
         "rawType": "float64",
         "type": "float"
        },
        {
         "name": "OEF",
         "rawType": "float64",
         "type": "float"
        },
        {
         "name": "ONEQ",
         "rawType": "float64",
         "type": "float"
        },
        {
         "name": "PHO",
         "rawType": "float64",
         "type": "float"
        },
        {
         "name": "PPA",
         "rawType": "float64",
         "type": "float"
        },
        {
         "name": "PRN",
         "rawType": "float64",
         "type": "float"
        },
        {
         "name": "PSI",
         "rawType": "float64",
         "type": "float"
        },
        {
         "name": "PTF",
         "rawType": "float64",
         "type": "float"
        },
        {
         "name": "PWB",
         "rawType": "float64",
         "type": "float"
        },
        {
         "name": "QLD",
         "rawType": "float64",
         "type": "float"
        },
        {
         "name": "QQQ",
         "rawType": "float64",
         "type": "float"
        },
        {
         "name": "QUAL",
         "rawType": "float64",
         "type": "float"
        },
        {
         "name": "SCHG",
         "rawType": "float64",
         "type": "float"
        },
        {
         "name": "SCHX",
         "rawType": "float64",
         "type": "float"
        },
        {
         "name": "SMH",
         "rawType": "float64",
         "type": "float"
        },
        {
         "name": "SMIN",
         "rawType": "float64",
         "type": "float"
        },
        {
         "name": "SOXX",
         "rawType": "float64",
         "type": "float"
        },
        {
         "name": "SPHB",
         "rawType": "float64",
         "type": "float"
        },
        {
         "name": "SPHQ",
         "rawType": "float64",
         "type": "float"
        },
        {
         "name": "SPLG",
         "rawType": "float64",
         "type": "float"
        },
        {
         "name": "SPTM",
         "rawType": "float64",
         "type": "float"
        },
        {
         "name": "SPY",
         "rawType": "float64",
         "type": "float"
        },
        {
         "name": "SPYG",
         "rawType": "float64",
         "type": "float"
        },
        {
         "name": "SUSA",
         "rawType": "float64",
         "type": "float"
        },
        {
         "name": "VCR",
         "rawType": "float64",
         "type": "float"
        },
        {
         "name": "VGT",
         "rawType": "float64",
         "type": "float"
        },
        {
         "name": "VONE",
         "rawType": "float64",
         "type": "float"
        },
        {
         "name": "VONG",
         "rawType": "float64",
         "type": "float"
        },
        {
         "name": "VOO",
         "rawType": "float64",
         "type": "float"
        },
        {
         "name": "VOOG",
         "rawType": "float64",
         "type": "float"
        },
        {
         "name": "VOT",
         "rawType": "float64",
         "type": "float"
        },
        {
         "name": "VUG",
         "rawType": "float64",
         "type": "float"
        },
        {
         "name": "VUSE",
         "rawType": "float64",
         "type": "float"
        },
        {
         "name": "VV",
         "rawType": "float64",
         "type": "float"
        },
        {
         "name": "XLG",
         "rawType": "float64",
         "type": "float"
        },
        {
         "name": "XLI",
         "rawType": "float64",
         "type": "float"
        },
        {
         "name": "XLK",
         "rawType": "float64",
         "type": "float"
        },
        {
         "name": "XLY",
         "rawType": "float64",
         "type": "float"
        },
        {
         "name": "XNTK",
         "rawType": "float64",
         "type": "float"
        }
       ],
       "ref": "7e82f929-e805-4892-a565-bcce412de978",
       "rows": [
        [
         "2015-06-01 00:00:00",
         "33.28",
         "49.02",
         "27.91",
         "24.02",
         "29.08",
         "32.15",
         "16.44",
         "22.21",
         "26.03",
         "26.97",
         "36.22",
         "174.01",
         "25.56",
         "98.59",
         "89.96",
         "39.98",
         "45.14",
         "47.06",
         "14.74",
         "24.47",
         "59.35",
         "76.85",
         "63.48",
         "77.28",
         "17.82",
         "23.82",
         "32.15",
         "44.41",
         "8.57",
         "14.07",
         "29.36",
         "9.03",
         "99.25",
         "54.13",
         "6.22",
         "6.95",
         "24.4",
         "28.11",
         "27.65",
         "29.42",
         "19.58",
         "20.53",
         "21.91",
         "174.04",
         "21.93",
         "37.0",
         "109.55",
         "95.73",
         "81.17",
         "22.92",
         "159.0",
         "91.66",
         "98.89",
         "97.91",
         "23.66",
         "80.17",
         "12.23",
         "45.23",
         "36.8",
         "68.54",
         "36.3"
        ],
        [
         "2015-07-01 00:00:00",
         "34.01",
         "50.14",
         "29.02",
         "23.92",
         "29.72",
         "30.88",
         "17.09",
         "23.16",
         "26.53",
         "28.46",
         "37.38",
         "177.83",
         "26.5",
         "100.52",
         "93.02",
         "40.97",
         "45.86",
         "49.06",
         "14.97",
         "24.99",
         "60.66",
         "78.71",
         "65.89",
         "79.49",
         "18.34",
         "22.75",
         "32.27",
         "44.44",
         "8.06",
         "14.12",
         "30.37",
         "9.83",
         "103.77",
         "55.68",
         "6.41",
         "7.09",
         "23.32",
         "30.06",
         "26.28",
         "28.21",
         "20.1",
         "20.93",
         "22.24",
         "177.97",
         "22.7",
         "37.46",
         "113.86",
         "97.9",
         "82.8",
         "23.71",
         "162.46",
         "94.97",
         "100.33",
         "101.11",
         "23.3",
         "81.86",
         "12.63",
         "45.37",
         "37.85",
         "71.89",
         "38.31"
        ],
        [
         "2015-08-01 00:00:00",
         "31.94",
         "47.27",
         "27.2",
         "22.68",
         "28.01",
         "29.65",
         "16.16",
         "21.63",
         "24.86",
         "25.33",
         "35.04",
         "166.9",
         "24.87",
         "94.47",
         "87.34",
         "38.36",
         "43.17",
         "46.0",
         "14.05",
         "23.52",
         "56.83",
         "73.76",
         "61.94",
         "74.2",
         "17.09",
         "20.98",
         "30.99",
         "41.87",
         "7.7",
         "12.93",
         "28.54",
         "8.46",
         "96.69",
         "52.67",
         "6.02",
         "6.66",
         "22.16",
         "27.29",
         "24.93",
         "26.78",
         "19.07",
         "19.7",
         "20.93",
         "167.12",
         "21.32",
         "35.12",
         "106.6",
         "92.22",
         "77.75",
         "22.3",
         "152.49",
         "89.17",
         "94.47",
         "94.74",
         "22.28",
         "76.92",
         "11.78",
         "42.92",
         "35.76",
         "67.19",
         "36.52"
        ],
        [
         "2015-09-01 00:00:00",
         "31.16",
         "45.48",
         "26.75",
         "21.91",
         "27.6",
         "28.51",
         "15.94",
         "21.01",
         "23.72",
         "24.67",
         "34.04",
         "162.73",
         "24.3",
         "91.82",
         "85.07",
         "37.39",
         "41.48",
         "45.03",
         "13.86",
         "23.19",
         "55.42",
         "71.37",
         "60.77",
         "72.54",
         "16.48",
         "19.64",
         "29.96",
         "39.89",
         "7.54",
         "12.78",
         "28.07",
         "8.03",
         "94.56",
         "51.99",
         "5.81",
         "6.48",
         "22.31",
         "27.95",
         "24.59",
         "25.05",
         "18.84",
         "18.99",
         "20.19",
         "162.86",
         "20.81",
         "34.38",
         "104.91",
         "90.99",
         "75.62",
         "21.69",
         "148.73",
         "87.11",
         "90.66",
         "92.03",
         "21.21",
         "74.82",
         "11.54",
         "41.97",
         "35.27",
         "66.8",
         "35.83"
        ],
        [
         "2015-10-01 00:00:00",
         "33.89",
         "48.3",
         "28.86",
         "23.85",
         "30.56",
         "29.74",
         "17.74",
         "23.1",
         "24.99",
         "25.04",
         "36.92",
         "176.53",
         "26.59",
         "99.26",
         "92.47",
         "40.72",
         "44.09",
         "49.4",
         "15.37",
         "25.61",
         "60.31",
         "77.74",
         "65.21",
         "79.43",
         "18.11",
         "21.81",
         "32.6",
         "43.43",
         "8.1",
         "13.68",
         "29.82",
         "9.94",
         "105.31",
         "56.48",
         "6.29",
         "7.01",
         "24.24",
         "28.55",
         "27.03",
         "27.65",
         "20.01",
         "20.78",
         "21.94",
         "176.71",
         "22.8",
         "37.21",
         "113.06",
         "100.51",
         "81.74",
         "23.57",
         "161.3",
         "95.32",
         "95.74",
         "100.29",
         "22.56",
         "81.02",
         "12.68",
         "45.66",
         "38.98",
         "72.84",
         "39.65"
        ]
       ],
       "shape": {
        "columns": 61,
        "rows": 5
       }
      },
      "text/html": [
       "<div>\n",
       "<style scoped>\n",
       "    .dataframe tbody tr th:only-of-type {\n",
       "        vertical-align: middle;\n",
       "    }\n",
       "\n",
       "    .dataframe tbody tr th {\n",
       "        vertical-align: top;\n",
       "    }\n",
       "\n",
       "    .dataframe thead th {\n",
       "        text-align: right;\n",
       "    }\n",
       "</style>\n",
       "<table border=\"1\" class=\"dataframe\">\n",
       "  <thead>\n",
       "    <tr style=\"text-align: right;\">\n",
       "      <th></th>\n",
       "      <th>DSI</th>\n",
       "      <th>FAD</th>\n",
       "      <th>FDIS</th>\n",
       "      <th>FIDU</th>\n",
       "      <th>FTEC</th>\n",
       "      <th>GRID</th>\n",
       "      <th>IGM</th>\n",
       "      <th>ILCG</th>\n",
       "      <th>IMCG</th>\n",
       "      <th>INCO</th>\n",
       "      <th>...</th>\n",
       "      <th>VOOG</th>\n",
       "      <th>VOT</th>\n",
       "      <th>VUG</th>\n",
       "      <th>VUSE</th>\n",
       "      <th>VV</th>\n",
       "      <th>XLG</th>\n",
       "      <th>XLI</th>\n",
       "      <th>XLK</th>\n",
       "      <th>XLY</th>\n",
       "      <th>XNTK</th>\n",
       "    </tr>\n",
       "    <tr>\n",
       "      <th>Date</th>\n",
       "      <th></th>\n",
       "      <th></th>\n",
       "      <th></th>\n",
       "      <th></th>\n",
       "      <th></th>\n",
       "      <th></th>\n",
       "      <th></th>\n",
       "      <th></th>\n",
       "      <th></th>\n",
       "      <th></th>\n",
       "      <th></th>\n",
       "      <th></th>\n",
       "      <th></th>\n",
       "      <th></th>\n",
       "      <th></th>\n",
       "      <th></th>\n",
       "      <th></th>\n",
       "      <th></th>\n",
       "      <th></th>\n",
       "      <th></th>\n",
       "      <th></th>\n",
       "    </tr>\n",
       "  </thead>\n",
       "  <tbody>\n",
       "    <tr>\n",
       "      <th>2015-06-01</th>\n",
       "      <td>33.28</td>\n",
       "      <td>49.02</td>\n",
       "      <td>27.91</td>\n",
       "      <td>24.02</td>\n",
       "      <td>29.08</td>\n",
       "      <td>32.15</td>\n",
       "      <td>16.44</td>\n",
       "      <td>22.21</td>\n",
       "      <td>26.03</td>\n",
       "      <td>26.97</td>\n",
       "      <td>...</td>\n",
       "      <td>91.66</td>\n",
       "      <td>98.89</td>\n",
       "      <td>97.91</td>\n",
       "      <td>23.66</td>\n",
       "      <td>80.17</td>\n",
       "      <td>12.23</td>\n",
       "      <td>45.23</td>\n",
       "      <td>36.80</td>\n",
       "      <td>68.54</td>\n",
       "      <td>36.30</td>\n",
       "    </tr>\n",
       "    <tr>\n",
       "      <th>2015-07-01</th>\n",
       "      <td>34.01</td>\n",
       "      <td>50.14</td>\n",
       "      <td>29.02</td>\n",
       "      <td>23.92</td>\n",
       "      <td>29.72</td>\n",
       "      <td>30.88</td>\n",
       "      <td>17.09</td>\n",
       "      <td>23.16</td>\n",
       "      <td>26.53</td>\n",
       "      <td>28.46</td>\n",
       "      <td>...</td>\n",
       "      <td>94.97</td>\n",
       "      <td>100.33</td>\n",
       "      <td>101.11</td>\n",
       "      <td>23.30</td>\n",
       "      <td>81.86</td>\n",
       "      <td>12.63</td>\n",
       "      <td>45.37</td>\n",
       "      <td>37.85</td>\n",
       "      <td>71.89</td>\n",
       "      <td>38.31</td>\n",
       "    </tr>\n",
       "    <tr>\n",
       "      <th>2015-08-01</th>\n",
       "      <td>31.94</td>\n",
       "      <td>47.27</td>\n",
       "      <td>27.20</td>\n",
       "      <td>22.68</td>\n",
       "      <td>28.01</td>\n",
       "      <td>29.65</td>\n",
       "      <td>16.16</td>\n",
       "      <td>21.63</td>\n",
       "      <td>24.86</td>\n",
       "      <td>25.33</td>\n",
       "      <td>...</td>\n",
       "      <td>89.17</td>\n",
       "      <td>94.47</td>\n",
       "      <td>94.74</td>\n",
       "      <td>22.28</td>\n",
       "      <td>76.92</td>\n",
       "      <td>11.78</td>\n",
       "      <td>42.92</td>\n",
       "      <td>35.76</td>\n",
       "      <td>67.19</td>\n",
       "      <td>36.52</td>\n",
       "    </tr>\n",
       "    <tr>\n",
       "      <th>2015-09-01</th>\n",
       "      <td>31.16</td>\n",
       "      <td>45.48</td>\n",
       "      <td>26.75</td>\n",
       "      <td>21.91</td>\n",
       "      <td>27.60</td>\n",
       "      <td>28.51</td>\n",
       "      <td>15.94</td>\n",
       "      <td>21.01</td>\n",
       "      <td>23.72</td>\n",
       "      <td>24.67</td>\n",
       "      <td>...</td>\n",
       "      <td>87.11</td>\n",
       "      <td>90.66</td>\n",
       "      <td>92.03</td>\n",
       "      <td>21.21</td>\n",
       "      <td>74.82</td>\n",
       "      <td>11.54</td>\n",
       "      <td>41.97</td>\n",
       "      <td>35.27</td>\n",
       "      <td>66.80</td>\n",
       "      <td>35.83</td>\n",
       "    </tr>\n",
       "    <tr>\n",
       "      <th>2015-10-01</th>\n",
       "      <td>33.89</td>\n",
       "      <td>48.30</td>\n",
       "      <td>28.86</td>\n",
       "      <td>23.85</td>\n",
       "      <td>30.56</td>\n",
       "      <td>29.74</td>\n",
       "      <td>17.74</td>\n",
       "      <td>23.10</td>\n",
       "      <td>24.99</td>\n",
       "      <td>25.04</td>\n",
       "      <td>...</td>\n",
       "      <td>95.32</td>\n",
       "      <td>95.74</td>\n",
       "      <td>100.29</td>\n",
       "      <td>22.56</td>\n",
       "      <td>81.02</td>\n",
       "      <td>12.68</td>\n",
       "      <td>45.66</td>\n",
       "      <td>38.98</td>\n",
       "      <td>72.84</td>\n",
       "      <td>39.65</td>\n",
       "    </tr>\n",
       "  </tbody>\n",
       "</table>\n",
       "<p>5 rows × 61 columns</p>\n",
       "</div>"
      ],
      "text/plain": [
       "              DSI    FAD   FDIS   FIDU   FTEC   GRID    IGM   ILCG   IMCG  \\\n",
       "Date                                                                        \n",
       "2015-06-01  33.28  49.02  27.91  24.02  29.08  32.15  16.44  22.21  26.03   \n",
       "2015-07-01  34.01  50.14  29.02  23.92  29.72  30.88  17.09  23.16  26.53   \n",
       "2015-08-01  31.94  47.27  27.20  22.68  28.01  29.65  16.16  21.63  24.86   \n",
       "2015-09-01  31.16  45.48  26.75  21.91  27.60  28.51  15.94  21.01  23.72   \n",
       "2015-10-01  33.89  48.30  28.86  23.85  30.56  29.74  17.74  23.10  24.99   \n",
       "\n",
       "             INCO  ...   VOOG     VOT     VUG   VUSE     VV    XLG    XLI  \\\n",
       "Date               ...                                                      \n",
       "2015-06-01  26.97  ...  91.66   98.89   97.91  23.66  80.17  12.23  45.23   \n",
       "2015-07-01  28.46  ...  94.97  100.33  101.11  23.30  81.86  12.63  45.37   \n",
       "2015-08-01  25.33  ...  89.17   94.47   94.74  22.28  76.92  11.78  42.92   \n",
       "2015-09-01  24.67  ...  87.11   90.66   92.03  21.21  74.82  11.54  41.97   \n",
       "2015-10-01  25.04  ...  95.32   95.74  100.29  22.56  81.02  12.68  45.66   \n",
       "\n",
       "              XLK    XLY   XNTK  \n",
       "Date                             \n",
       "2015-06-01  36.80  68.54  36.30  \n",
       "2015-07-01  37.85  71.89  38.31  \n",
       "2015-08-01  35.76  67.19  36.52  \n",
       "2015-09-01  35.27  66.80  35.83  \n",
       "2015-10-01  38.98  72.84  39.65  \n",
       "\n",
       "[5 rows x 61 columns]"
      ]
     },
     "metadata": {},
     "output_type": "display_data"
    }
   ],
   "source": [
    "benchmark_prices_monthly_df = (benchmark_prices_daily_df.set_index(pd.to_datetime(benchmark_prices_daily_df.pop('Date')))\n",
    "      if 'Date' in benchmark_prices_daily_df.columns else benchmark_prices_daily_df.copy())\n",
    "benchmark_prices_monthly_df.index = pd.to_datetime(benchmark_prices_monthly_df.index)              \n",
    "benchmark_prices_monthly_df = (benchmark_prices_monthly_df.resample('MS').last()\n",
    "   .reset_index()\n",
    "   .rename(columns={'index': 'Date'}))\n",
    "\n",
    "benchmark_prices_monthly_df.set_index('Date', inplace=True)\n",
    "display(benchmark_prices_monthly_df.head())"
   ]
  },
  {
   "cell_type": "markdown",
   "id": "49ab8af5",
   "metadata": {},
   "source": [
    "### Step 8: Calculate Returns (Lognormal)"
   ]
  },
  {
   "cell_type": "markdown",
   "id": "9ea4ce34",
   "metadata": {},
   "source": [
    "#### Benchmark"
   ]
  },
  {
   "cell_type": "code",
   "execution_count": 14,
   "id": "8374cc5a",
   "metadata": {
    "execution": {
     "iopub.execute_input": "2025-06-02T13:28:31.293059Z",
     "iopub.status.busy": "2025-06-02T13:28:31.292687Z",
     "iopub.status.idle": "2025-06-02T13:28:31.311861Z",
     "shell.execute_reply": "2025-06-02T13:28:31.310945Z"
    }
   },
   "outputs": [
    {
     "data": {
      "application/vnd.microsoft.datawrangler.viewer.v0+json": {
       "columns": [
        {
         "name": "Date",
         "rawType": "datetime64[ns]",
         "type": "datetime"
        },
        {
         "name": "DSI",
         "rawType": "float64",
         "type": "float"
        },
        {
         "name": "FAD",
         "rawType": "float64",
         "type": "float"
        },
        {
         "name": "FDIS",
         "rawType": "float64",
         "type": "float"
        },
        {
         "name": "FIDU",
         "rawType": "float64",
         "type": "float"
        },
        {
         "name": "FTEC",
         "rawType": "float64",
         "type": "float"
        },
        {
         "name": "GRID",
         "rawType": "float64",
         "type": "float"
        },
        {
         "name": "IGM",
         "rawType": "float64",
         "type": "float"
        },
        {
         "name": "ILCG",
         "rawType": "float64",
         "type": "float"
        },
        {
         "name": "IMCG",
         "rawType": "float64",
         "type": "float"
        },
        {
         "name": "INCO",
         "rawType": "float64",
         "type": "float"
        },
        {
         "name": "IUSG",
         "rawType": "float64",
         "type": "float"
        },
        {
         "name": "IVV",
         "rawType": "float64",
         "type": "float"
        },
        {
         "name": "IVW",
         "rawType": "float64",
         "type": "float"
        },
        {
         "name": "IWB",
         "rawType": "float64",
         "type": "float"
        },
        {
         "name": "IWF",
         "rawType": "float64",
         "type": "float"
        },
        {
         "name": "IWL",
         "rawType": "float64",
         "type": "float"
        },
        {
         "name": "IWP",
         "rawType": "float64",
         "type": "float"
        },
        {
         "name": "IWY",
         "rawType": "float64",
         "type": "float"
        },
        {
         "name": "IXN",
         "rawType": "float64",
         "type": "float"
        },
        {
         "name": "IYW",
         "rawType": "float64",
         "type": "float"
        },
        {
         "name": "MGC",
         "rawType": "float64",
         "type": "float"
        },
        {
         "name": "MMTM",
         "rawType": "float64",
         "type": "float"
        },
        {
         "name": "MTUM",
         "rawType": "float64",
         "type": "float"
        },
        {
         "name": "OEF",
         "rawType": "float64",
         "type": "float"
        },
        {
         "name": "ONEQ",
         "rawType": "float64",
         "type": "float"
        },
        {
         "name": "PHO",
         "rawType": "float64",
         "type": "float"
        },
        {
         "name": "PPA",
         "rawType": "float64",
         "type": "float"
        },
        {
         "name": "PRN",
         "rawType": "float64",
         "type": "float"
        },
        {
         "name": "PSI",
         "rawType": "float64",
         "type": "float"
        },
        {
         "name": "PTF",
         "rawType": "float64",
         "type": "float"
        },
        {
         "name": "PWB",
         "rawType": "float64",
         "type": "float"
        },
        {
         "name": "QLD",
         "rawType": "float64",
         "type": "float"
        },
        {
         "name": "QQQ",
         "rawType": "float64",
         "type": "float"
        },
        {
         "name": "QUAL",
         "rawType": "float64",
         "type": "float"
        },
        {
         "name": "SCHG",
         "rawType": "float64",
         "type": "float"
        },
        {
         "name": "SCHX",
         "rawType": "float64",
         "type": "float"
        },
        {
         "name": "SMH",
         "rawType": "float64",
         "type": "float"
        },
        {
         "name": "SMIN",
         "rawType": "float64",
         "type": "float"
        },
        {
         "name": "SOXX",
         "rawType": "float64",
         "type": "float"
        },
        {
         "name": "SPHB",
         "rawType": "float64",
         "type": "float"
        },
        {
         "name": "SPHQ",
         "rawType": "float64",
         "type": "float"
        },
        {
         "name": "SPLG",
         "rawType": "float64",
         "type": "float"
        },
        {
         "name": "SPTM",
         "rawType": "float64",
         "type": "float"
        },
        {
         "name": "SPY",
         "rawType": "float64",
         "type": "float"
        },
        {
         "name": "SPYG",
         "rawType": "float64",
         "type": "float"
        },
        {
         "name": "SUSA",
         "rawType": "float64",
         "type": "float"
        },
        {
         "name": "VCR",
         "rawType": "float64",
         "type": "float"
        },
        {
         "name": "VGT",
         "rawType": "float64",
         "type": "float"
        },
        {
         "name": "VONE",
         "rawType": "float64",
         "type": "float"
        },
        {
         "name": "VONG",
         "rawType": "float64",
         "type": "float"
        },
        {
         "name": "VOO",
         "rawType": "float64",
         "type": "float"
        },
        {
         "name": "VOOG",
         "rawType": "float64",
         "type": "float"
        },
        {
         "name": "VOT",
         "rawType": "float64",
         "type": "float"
        },
        {
         "name": "VUG",
         "rawType": "float64",
         "type": "float"
        },
        {
         "name": "VUSE",
         "rawType": "float64",
         "type": "float"
        },
        {
         "name": "VV",
         "rawType": "float64",
         "type": "float"
        },
        {
         "name": "XLG",
         "rawType": "float64",
         "type": "float"
        },
        {
         "name": "XLI",
         "rawType": "float64",
         "type": "float"
        },
        {
         "name": "XLK",
         "rawType": "float64",
         "type": "float"
        },
        {
         "name": "XLY",
         "rawType": "float64",
         "type": "float"
        },
        {
         "name": "XNTK",
         "rawType": "float64",
         "type": "float"
        }
       ],
       "ref": "5fbf9610-2c30-4ace-ad51-4ae9e56bb638",
       "rows": [
        [
         "2015-07-01 00:00:00",
         "0.021697983066096126",
         "0.02259071463018076",
         "0.039000199907811006",
         "-0.004171887569406381",
         "0.021769567184239814",
         "-0.04030372552705294",
         "0.03877610749946564",
         "0.04188401479845835",
         "0.019026449143174376",
         "0.053774455510067876",
         "0.03152434957214948",
         "0.021715268928082274",
         "0.03611610348284244",
         "0.019386876088441356",
         "0.033449396704835946",
         "0.024460762486525664",
         "0.015824506040368638",
         "0.04162065553112684",
         "0.015483311670346537",
         "0.021027867392280755",
         "0.021832381204757903",
         "0.02391474216975392",
         "0.03726178926752035",
         "0.028196037680758734",
         "0.028763044785655407",
         "-0.04596041853019462",
         "0.0037255553802421075",
         "0.0006752954674183224",
         "-0.06135417609115151",
         "0.003547360938798235",
         "0.033822075311342535",
         "0.08488656673018119",
         "0.04453499204988719",
         "0.02823245521727765",
         "0.03008936418149062",
         "0.019943680967335328",
         "-0.04527177081686444",
         "0.06706999940638798",
         "-0.0508175343519339",
         "-0.04199819015938662",
         "0.02621117796266592",
         "0.019296305427066073",
         "0.014949315775006307",
         "0.022329838909414968",
         "0.03450936205756012",
         "0.012355784371718104",
         "0.038588557481460346",
         "0.022414820578202925",
         "0.01988234061812963",
         "0.03388700823077524",
         "0.021527615402576417",
         "0.03547497317388326",
         "0.014456631655621983",
         "0.03216034373732774",
         "-0.015332497978585852",
         "0.020861091009396635",
         "0.03218298666331887",
         "0.003090510186120667",
         "0.028133134708572684",
         "0.04771965654931727",
         "0.05389321744175263"
        ],
        [
         "2015-08-01 00:00:00",
         "-0.06279545623223766",
         "-0.058943247925002336",
         "-0.06476827415409014",
         "-0.05323145022287974",
         "-0.05925863057754113",
         "-0.04064659971284099",
         "-0.05595444403455021",
         "-0.06834541273982711",
         "-0.06501608206708331",
         "-0.1165101286481226",
         "-0.06464553595922617",
         "-0.06343320708777994",
         "-0.06348247517686323",
         "-0.06207438889434838",
         "-0.06300597573853595",
         "-0.06582484154354223",
         "-0.06044746786237214",
         "-0.06440264234124823",
         "-0.06342580265178224",
         "-0.060624621816434854",
         "-0.06522014695140489",
         "-0.0649536329060202",
         "-0.06182051038067178",
         "-0.06886707741168639",
         "-0.07059096970081928",
         "-0.08099554242880827",
         "-0.04047343426421371",
         "-0.05957038474037725",
         "-0.04569322765889885",
         "-0.08804203928132992",
         "-0.062148667008967054",
         "-0.15008976054094322",
         "-0.07066692712173091",
         "-0.055574982530866235",
         "-0.0627720116118491",
         "-0.06256585599173826",
         "-0.051022499603208545",
         "-0.09667504960458131",
         "-0.052736296080943344",
         "-0.05202118475087847",
         "-0.052603395452702435",
         "-0.060564900713965544",
         "-0.060708932924473165",
         "-0.06290287951358384",
         "-0.06271932518971313",
         "-0.06450292824902662",
         "-0.06588611179119175",
         "-0.05976952275790527",
         "-0.06292951033187043",
         "-0.061310221611241014",
         "-0.06333279749588697",
         "-0.063016392108073",
         "-0.06018242915647838",
         "-0.06507273560770208",
         "-0.04476394551257153",
         "-0.06224455034367791",
         "-0.06967175813895925",
         "-0.05551317591337468",
         "-0.05680102957814446",
         "-0.0676127460637216",
         "-0.04785090298578983"
        ],
        [
         "2015-09-01 00:00:00",
         "-0.02472392178431891",
         "-0.038603175922809874",
         "-0.01668249995993602",
         "-0.034540325252176096",
         "-0.014745816548912875",
         "-0.039207222519153775",
         "-0.013707379730880351",
         "-0.02908272510805826",
         "-0.04694151195304042",
         "-0.026401533472318363",
         "-0.028953962363017345",
         "-0.025302444995266474",
         "-0.02318590746881049",
         "-0.028452184959967028",
         "-0.026334101069622053",
         "-0.025611961026215116",
         "-0.03993442620605968",
         "-0.021312462175614676",
         "-0.013615402017997734",
         "-0.014129971762985803",
         "-0.02512381587419767",
         "-0.032938966265362364",
         "-0.019069928397792795",
         "-0.022626016318578437",
         "-0.0363459726461738",
         "-0.06600130004183132",
         "-0.033801413150638025",
         "-0.048443914113736566",
         "-0.02099814683977347",
         "-0.011668743834377378",
         "-0.016605221674899147",
         "-0.05216464565946174",
         "-0.02227543083766806",
         "-0.01299464109967358",
         "-0.035506688456909755",
         "-0.027398974188114388",
         "0.00674614656535796",
         "0.023896864880861034",
         "-0.013732041307365314",
         "-0.06678151273215265",
         "-0.012134150464110696",
         "-0.03670611091974834",
         "-0.03599610413316214",
         "-0.025821181209325045",
         "-0.024211958892100798",
         "-0.02129576881221255",
         "-0.015980671988350015",
         "-0.013427416409960079",
         "-0.027777752596556706",
         "-0.02773535362729008",
         "-0.024966438522414376",
         "-0.023372972315987447",
         "-0.04116607826833976",
         "-0.029021686644840148",
         "-0.04921664648249216",
         "-0.02768069180057896",
         "-0.020583917143487115",
         "-0.02238284041699827",
         "-0.01379720605735264",
         "-0.0058213463894585754",
         "-0.01907452440990536"
        ],
        [
         "2015-10-01 00:00:00",
         "0.08398476461641242",
         "0.060158891776191756",
         "0.07592208000370931",
         "0.08484106372697509",
         "0.10187619157521534",
         "0.04223803810742838",
         "0.10699030351936438",
         "0.09483410267083875",
         "0.05215717071733632",
         "0.014886615690632281",
         "0.08121710592947806",
         "0.08139844792866871",
         "0.09005885490842555",
         "0.0779125313382189",
         "0.08340982060175431",
         "0.08531608325324501",
         "0.06102161600851986",
         "0.09262148988039648",
         "0.10341056378874729",
         "0.09926174894399357",
         "0.08455738802806298",
         "0.08549231244110092",
         "0.07051658525784683",
         "0.09073799679028445",
         "0.09431674741399626",
         "0.10480027728721772",
         "0.08444912972364318",
         "0.08502478062941515",
         "0.07164187965852839",
         "0.06805346324501578",
         "0.06047791896280125",
         "0.2133824927098124",
         "0.10767382773471783",
         "0.08283520078936205",
         "0.07938049984852938",
         "0.07861719068231522",
         "0.08296915275667252",
         "0.02123973650091119",
         "0.09460750406025499",
         "0.09875190043746987",
         "0.06024987944742519",
         "0.09007846084688703",
         "0.08312402252233798",
         "0.08161903478097901",
         "0.09132689555485217",
         "0.07910254240382793",
         "0.07481581150375066",
         "0.09950761466804915",
         "0.0778226796733444",
         "0.08312339210925666",
         "0.08113340352665674",
         "0.09006796439974062",
         "0.0545199384516598",
         "0.08595137824935148",
         "0.06170565805326695",
         "0.0796108088545444",
         "0.09420668792912641",
         "0.08426756375614995",
         "0.100015949831454",
         "0.08656217431680722",
         "0.10130541676399456"
        ],
        [
         "2015-11-01 00:00:00",
         "0.0017688683857451637",
         "0.008452787159924346",
         "-0.005907923352451383",
         "0.013741627852296387",
         "0.01041676085825558",
         "0.0030216574946481797",
         "0.012881723914034207",
         "0.0038885337396923746",
         "0.003196167323341156",
         "0.00039928129897607515",
         "0.0059411462899082",
         "0.003901065017964641",
         "0.0018786404172599306",
         "0.00412205882007012",
         "0.003023433897997351",
         "0.006120719316512413",
         "0.0024917897138062584",
         "0.0036371024131676695",
         "0.009067419637942966",
         "0.00971447313227755",
         "0.0039715425362058555",
         "0.010874539454006592",
         "0.005352922470518097",
         "0.0033934551511286583",
         "0.012620194932996782",
         "-0.02978349506676374",
         "0.02064432758034576",
         "0.023214515413183145",
         "0.050552279162831254",
         "0.010905233482262527",
         "0.0010055305020187962",
         "0.010010093595100425",
         "0.006058903321802294",
         "0.004416578153489211",
         "0.0031746058407726395",
         "0.0042704691234522855",
         "0.028869660996414026",
         "-0.0038603311669790493",
         "0.023039965948255955",
         "0.004330573350364429",
         "0.009450455811516933",
         "0.0004811161988401639",
         "0.004093705967167559",
         "0.0036715944880918497",
         "0.001314924581309022",
         "0.0029518336206120375",
         "-0.004698798485239133",
         "0.011770078017865733",
         "0.003907208877908784",
         "0.002965475589857726",
         "0.004268619800883272",
         "0.0013628979412153724",
         "-0.0003133977565478795",
         "0.0014945451892673382",
         "0.019315789299291702",
         "0.003449978779220406",
         "0.004720701134937394",
         "0.008505121599666425",
         "0.007157494768900306",
         "-0.0024742280663513886",
         "0.010536976567196184"
        ]
       ],
       "shape": {
        "columns": 61,
        "rows": 5
       }
      },
      "text/html": [
       "<div>\n",
       "<style scoped>\n",
       "    .dataframe tbody tr th:only-of-type {\n",
       "        vertical-align: middle;\n",
       "    }\n",
       "\n",
       "    .dataframe tbody tr th {\n",
       "        vertical-align: top;\n",
       "    }\n",
       "\n",
       "    .dataframe thead th {\n",
       "        text-align: right;\n",
       "    }\n",
       "</style>\n",
       "<table border=\"1\" class=\"dataframe\">\n",
       "  <thead>\n",
       "    <tr style=\"text-align: right;\">\n",
       "      <th></th>\n",
       "      <th>DSI</th>\n",
       "      <th>FAD</th>\n",
       "      <th>FDIS</th>\n",
       "      <th>FIDU</th>\n",
       "      <th>FTEC</th>\n",
       "      <th>GRID</th>\n",
       "      <th>IGM</th>\n",
       "      <th>ILCG</th>\n",
       "      <th>IMCG</th>\n",
       "      <th>INCO</th>\n",
       "      <th>...</th>\n",
       "      <th>VOOG</th>\n",
       "      <th>VOT</th>\n",
       "      <th>VUG</th>\n",
       "      <th>VUSE</th>\n",
       "      <th>VV</th>\n",
       "      <th>XLG</th>\n",
       "      <th>XLI</th>\n",
       "      <th>XLK</th>\n",
       "      <th>XLY</th>\n",
       "      <th>XNTK</th>\n",
       "    </tr>\n",
       "    <tr>\n",
       "      <th>Date</th>\n",
       "      <th></th>\n",
       "      <th></th>\n",
       "      <th></th>\n",
       "      <th></th>\n",
       "      <th></th>\n",
       "      <th></th>\n",
       "      <th></th>\n",
       "      <th></th>\n",
       "      <th></th>\n",
       "      <th></th>\n",
       "      <th></th>\n",
       "      <th></th>\n",
       "      <th></th>\n",
       "      <th></th>\n",
       "      <th></th>\n",
       "      <th></th>\n",
       "      <th></th>\n",
       "      <th></th>\n",
       "      <th></th>\n",
       "      <th></th>\n",
       "      <th></th>\n",
       "    </tr>\n",
       "  </thead>\n",
       "  <tbody>\n",
       "    <tr>\n",
       "      <th>2015-07-01</th>\n",
       "      <td>0.021698</td>\n",
       "      <td>0.022591</td>\n",
       "      <td>0.039000</td>\n",
       "      <td>-0.004172</td>\n",
       "      <td>0.021770</td>\n",
       "      <td>-0.040304</td>\n",
       "      <td>0.038776</td>\n",
       "      <td>0.041884</td>\n",
       "      <td>0.019026</td>\n",
       "      <td>0.053774</td>\n",
       "      <td>...</td>\n",
       "      <td>0.035475</td>\n",
       "      <td>0.014457</td>\n",
       "      <td>0.032160</td>\n",
       "      <td>-0.015332</td>\n",
       "      <td>0.020861</td>\n",
       "      <td>0.032183</td>\n",
       "      <td>0.003091</td>\n",
       "      <td>0.028133</td>\n",
       "      <td>0.047720</td>\n",
       "      <td>0.053893</td>\n",
       "    </tr>\n",
       "    <tr>\n",
       "      <th>2015-08-01</th>\n",
       "      <td>-0.062795</td>\n",
       "      <td>-0.058943</td>\n",
       "      <td>-0.064768</td>\n",
       "      <td>-0.053231</td>\n",
       "      <td>-0.059259</td>\n",
       "      <td>-0.040647</td>\n",
       "      <td>-0.055954</td>\n",
       "      <td>-0.068345</td>\n",
       "      <td>-0.065016</td>\n",
       "      <td>-0.116510</td>\n",
       "      <td>...</td>\n",
       "      <td>-0.063016</td>\n",
       "      <td>-0.060182</td>\n",
       "      <td>-0.065073</td>\n",
       "      <td>-0.044764</td>\n",
       "      <td>-0.062245</td>\n",
       "      <td>-0.069672</td>\n",
       "      <td>-0.055513</td>\n",
       "      <td>-0.056801</td>\n",
       "      <td>-0.067613</td>\n",
       "      <td>-0.047851</td>\n",
       "    </tr>\n",
       "    <tr>\n",
       "      <th>2015-09-01</th>\n",
       "      <td>-0.024724</td>\n",
       "      <td>-0.038603</td>\n",
       "      <td>-0.016682</td>\n",
       "      <td>-0.034540</td>\n",
       "      <td>-0.014746</td>\n",
       "      <td>-0.039207</td>\n",
       "      <td>-0.013707</td>\n",
       "      <td>-0.029083</td>\n",
       "      <td>-0.046942</td>\n",
       "      <td>-0.026402</td>\n",
       "      <td>...</td>\n",
       "      <td>-0.023373</td>\n",
       "      <td>-0.041166</td>\n",
       "      <td>-0.029022</td>\n",
       "      <td>-0.049217</td>\n",
       "      <td>-0.027681</td>\n",
       "      <td>-0.020584</td>\n",
       "      <td>-0.022383</td>\n",
       "      <td>-0.013797</td>\n",
       "      <td>-0.005821</td>\n",
       "      <td>-0.019075</td>\n",
       "    </tr>\n",
       "    <tr>\n",
       "      <th>2015-10-01</th>\n",
       "      <td>0.083985</td>\n",
       "      <td>0.060159</td>\n",
       "      <td>0.075922</td>\n",
       "      <td>0.084841</td>\n",
       "      <td>0.101876</td>\n",
       "      <td>0.042238</td>\n",
       "      <td>0.106990</td>\n",
       "      <td>0.094834</td>\n",
       "      <td>0.052157</td>\n",
       "      <td>0.014887</td>\n",
       "      <td>...</td>\n",
       "      <td>0.090068</td>\n",
       "      <td>0.054520</td>\n",
       "      <td>0.085951</td>\n",
       "      <td>0.061706</td>\n",
       "      <td>0.079611</td>\n",
       "      <td>0.094207</td>\n",
       "      <td>0.084268</td>\n",
       "      <td>0.100016</td>\n",
       "      <td>0.086562</td>\n",
       "      <td>0.101305</td>\n",
       "    </tr>\n",
       "    <tr>\n",
       "      <th>2015-11-01</th>\n",
       "      <td>0.001769</td>\n",
       "      <td>0.008453</td>\n",
       "      <td>-0.005908</td>\n",
       "      <td>0.013742</td>\n",
       "      <td>0.010417</td>\n",
       "      <td>0.003022</td>\n",
       "      <td>0.012882</td>\n",
       "      <td>0.003889</td>\n",
       "      <td>0.003196</td>\n",
       "      <td>0.000399</td>\n",
       "      <td>...</td>\n",
       "      <td>0.001363</td>\n",
       "      <td>-0.000313</td>\n",
       "      <td>0.001495</td>\n",
       "      <td>0.019316</td>\n",
       "      <td>0.003450</td>\n",
       "      <td>0.004721</td>\n",
       "      <td>0.008505</td>\n",
       "      <td>0.007157</td>\n",
       "      <td>-0.002474</td>\n",
       "      <td>0.010537</td>\n",
       "    </tr>\n",
       "  </tbody>\n",
       "</table>\n",
       "<p>5 rows × 61 columns</p>\n",
       "</div>"
      ],
      "text/plain": [
       "                 DSI       FAD      FDIS      FIDU      FTEC      GRID  \\\n",
       "Date                                                                     \n",
       "2015-07-01  0.021698  0.022591  0.039000 -0.004172  0.021770 -0.040304   \n",
       "2015-08-01 -0.062795 -0.058943 -0.064768 -0.053231 -0.059259 -0.040647   \n",
       "2015-09-01 -0.024724 -0.038603 -0.016682 -0.034540 -0.014746 -0.039207   \n",
       "2015-10-01  0.083985  0.060159  0.075922  0.084841  0.101876  0.042238   \n",
       "2015-11-01  0.001769  0.008453 -0.005908  0.013742  0.010417  0.003022   \n",
       "\n",
       "                 IGM      ILCG      IMCG      INCO  ...      VOOG       VOT  \\\n",
       "Date                                                ...                       \n",
       "2015-07-01  0.038776  0.041884  0.019026  0.053774  ...  0.035475  0.014457   \n",
       "2015-08-01 -0.055954 -0.068345 -0.065016 -0.116510  ... -0.063016 -0.060182   \n",
       "2015-09-01 -0.013707 -0.029083 -0.046942 -0.026402  ... -0.023373 -0.041166   \n",
       "2015-10-01  0.106990  0.094834  0.052157  0.014887  ...  0.090068  0.054520   \n",
       "2015-11-01  0.012882  0.003889  0.003196  0.000399  ...  0.001363 -0.000313   \n",
       "\n",
       "                 VUG      VUSE        VV       XLG       XLI       XLK  \\\n",
       "Date                                                                     \n",
       "2015-07-01  0.032160 -0.015332  0.020861  0.032183  0.003091  0.028133   \n",
       "2015-08-01 -0.065073 -0.044764 -0.062245 -0.069672 -0.055513 -0.056801   \n",
       "2015-09-01 -0.029022 -0.049217 -0.027681 -0.020584 -0.022383 -0.013797   \n",
       "2015-10-01  0.085951  0.061706  0.079611  0.094207  0.084268  0.100016   \n",
       "2015-11-01  0.001495  0.019316  0.003450  0.004721  0.008505  0.007157   \n",
       "\n",
       "                 XLY      XNTK  \n",
       "Date                            \n",
       "2015-07-01  0.047720  0.053893  \n",
       "2015-08-01 -0.067613 -0.047851  \n",
       "2015-09-01 -0.005821 -0.019075  \n",
       "2015-10-01  0.086562  0.101305  \n",
       "2015-11-01 -0.002474  0.010537  \n",
       "\n",
       "[5 rows x 61 columns]"
      ]
     },
     "execution_count": 14,
     "metadata": {},
     "output_type": "execute_result"
    }
   ],
   "source": [
    "benchmark_log_returns_df = np.log(benchmark_prices_monthly_df / benchmark_prices_monthly_df.shift(1))\n",
    "benchmark_log_returns_df = benchmark_log_returns_df.dropna().sort_index(axis=0, ascending=True).sort_index(axis=1, ascending=True)\n",
    "benchmark_log_returns_df.head()"
   ]
  },
  {
   "cell_type": "markdown",
   "id": "3798f32a",
   "metadata": {},
   "source": [
    "#### Stocks"
   ]
  },
  {
   "cell_type": "code",
   "execution_count": 15,
   "id": "16169afe",
   "metadata": {
    "execution": {
     "iopub.execute_input": "2025-06-02T13:28:31.314257Z",
     "iopub.status.busy": "2025-06-02T13:28:31.313851Z",
     "iopub.status.idle": "2025-06-02T13:28:31.329427Z",
     "shell.execute_reply": "2025-06-02T13:28:31.328391Z"
    }
   },
   "outputs": [
    {
     "data": {
      "application/vnd.microsoft.datawrangler.viewer.v0+json": {
       "columns": [
        {
         "name": "Date",
         "rawType": "datetime64[ns]",
         "type": "datetime"
        },
        {
         "name": "GRMN",
         "rawType": "float64",
         "type": "float"
        },
        {
         "name": "MSFT",
         "rawType": "float64",
         "type": "float"
        }
       ],
       "ref": "fbc88443-190a-4e4b-98a5-274708a02973",
       "rows": [
        [
         "2015-08-01 00:00:00",
         "-0.10824097852318039",
         "-0.06399532465993009"
        ],
        [
         "2015-09-01 00:00:00",
         "-0.03294415571935391",
         "0.01696947129405032"
        ],
        [
         "2015-10-01 00:00:00",
         "-0.011475232343164986",
         "0.1733070205827621"
        ],
        [
         "2015-11-01 00:00:00",
         "0.06486423130493427",
         "0.03885227182339446"
        ],
        [
         "2015-12-01 00:00:00",
         "-0.004546257174617135",
         "0.020516728359509608"
        ]
       ],
       "shape": {
        "columns": 2,
        "rows": 5
       }
      },
      "text/html": [
       "<div>\n",
       "<style scoped>\n",
       "    .dataframe tbody tr th:only-of-type {\n",
       "        vertical-align: middle;\n",
       "    }\n",
       "\n",
       "    .dataframe tbody tr th {\n",
       "        vertical-align: top;\n",
       "    }\n",
       "\n",
       "    .dataframe thead th {\n",
       "        text-align: right;\n",
       "    }\n",
       "</style>\n",
       "<table border=\"1\" class=\"dataframe\">\n",
       "  <thead>\n",
       "    <tr style=\"text-align: right;\">\n",
       "      <th></th>\n",
       "      <th>GRMN</th>\n",
       "      <th>MSFT</th>\n",
       "    </tr>\n",
       "    <tr>\n",
       "      <th>Date</th>\n",
       "      <th></th>\n",
       "      <th></th>\n",
       "    </tr>\n",
       "  </thead>\n",
       "  <tbody>\n",
       "    <tr>\n",
       "      <th>2015-08-01</th>\n",
       "      <td>-0.108241</td>\n",
       "      <td>-0.063995</td>\n",
       "    </tr>\n",
       "    <tr>\n",
       "      <th>2015-09-01</th>\n",
       "      <td>-0.032944</td>\n",
       "      <td>0.016969</td>\n",
       "    </tr>\n",
       "    <tr>\n",
       "      <th>2015-10-01</th>\n",
       "      <td>-0.011475</td>\n",
       "      <td>0.173307</td>\n",
       "    </tr>\n",
       "    <tr>\n",
       "      <th>2015-11-01</th>\n",
       "      <td>0.064864</td>\n",
       "      <td>0.038852</td>\n",
       "    </tr>\n",
       "    <tr>\n",
       "      <th>2015-12-01</th>\n",
       "      <td>-0.004546</td>\n",
       "      <td>0.020517</td>\n",
       "    </tr>\n",
       "  </tbody>\n",
       "</table>\n",
       "</div>"
      ],
      "text/plain": [
       "                GRMN      MSFT\n",
       "Date                          \n",
       "2015-08-01 -0.108241 -0.063995\n",
       "2015-09-01 -0.032944  0.016969\n",
       "2015-10-01 -0.011475  0.173307\n",
       "2015-11-01  0.064864  0.038852\n",
       "2015-12-01 -0.004546  0.020517"
      ]
     },
     "execution_count": 15,
     "metadata": {},
     "output_type": "execute_result"
    }
   ],
   "source": [
    "stock_log_returns_df = np.log(stock_prices_monthly_df / stock_prices_monthly_df.shift(1))\n",
    "stock_log_returns_df = stock_log_returns_df.dropna().sort_index(axis=0, ascending=True).sort_index(axis=1, ascending=True)\n",
    "stock_log_returns_df.head()"
   ]
  },
  {
   "cell_type": "markdown",
   "id": "4936e919",
   "metadata": {},
   "source": [
    "### Step 9: Calculate Excess Return (Expected Return - Risk-free Rate)"
   ]
  },
  {
   "cell_type": "markdown",
   "id": "8b0c3a9a",
   "metadata": {},
   "source": [
    "#### Benchmark"
   ]
  },
  {
   "cell_type": "code",
   "execution_count": 16,
   "id": "37b6707b",
   "metadata": {
    "execution": {
     "iopub.execute_input": "2025-06-02T13:28:31.332071Z",
     "iopub.status.busy": "2025-06-02T13:28:31.331679Z",
     "iopub.status.idle": "2025-06-02T13:28:31.346683Z",
     "shell.execute_reply": "2025-06-02T13:28:31.345862Z"
    }
   },
   "outputs": [
    {
     "data": {
      "application/vnd.microsoft.datawrangler.viewer.v0+json": {
       "columns": [
        {
         "name": "Date",
         "rawType": "datetime64[ns]",
         "type": "datetime"
        },
        {
         "name": "DSI",
         "rawType": "float64",
         "type": "float"
        },
        {
         "name": "FAD",
         "rawType": "float64",
         "type": "float"
        },
        {
         "name": "FDIS",
         "rawType": "float64",
         "type": "float"
        },
        {
         "name": "FIDU",
         "rawType": "float64",
         "type": "float"
        },
        {
         "name": "FTEC",
         "rawType": "float64",
         "type": "float"
        },
        {
         "name": "GRID",
         "rawType": "float64",
         "type": "float"
        },
        {
         "name": "IGM",
         "rawType": "float64",
         "type": "float"
        },
        {
         "name": "ILCG",
         "rawType": "float64",
         "type": "float"
        },
        {
         "name": "IMCG",
         "rawType": "float64",
         "type": "float"
        },
        {
         "name": "INCO",
         "rawType": "float64",
         "type": "float"
        },
        {
         "name": "IUSG",
         "rawType": "float64",
         "type": "float"
        },
        {
         "name": "IVV",
         "rawType": "float64",
         "type": "float"
        },
        {
         "name": "IVW",
         "rawType": "float64",
         "type": "float"
        },
        {
         "name": "IWB",
         "rawType": "float64",
         "type": "float"
        },
        {
         "name": "IWF",
         "rawType": "float64",
         "type": "float"
        },
        {
         "name": "IWL",
         "rawType": "float64",
         "type": "float"
        },
        {
         "name": "IWP",
         "rawType": "float64",
         "type": "float"
        },
        {
         "name": "IWY",
         "rawType": "float64",
         "type": "float"
        },
        {
         "name": "IXN",
         "rawType": "float64",
         "type": "float"
        },
        {
         "name": "IYW",
         "rawType": "float64",
         "type": "float"
        },
        {
         "name": "MGC",
         "rawType": "float64",
         "type": "float"
        },
        {
         "name": "MMTM",
         "rawType": "float64",
         "type": "float"
        },
        {
         "name": "MTUM",
         "rawType": "float64",
         "type": "float"
        },
        {
         "name": "OEF",
         "rawType": "float64",
         "type": "float"
        },
        {
         "name": "ONEQ",
         "rawType": "float64",
         "type": "float"
        },
        {
         "name": "PHO",
         "rawType": "float64",
         "type": "float"
        },
        {
         "name": "PPA",
         "rawType": "float64",
         "type": "float"
        },
        {
         "name": "PRN",
         "rawType": "float64",
         "type": "float"
        },
        {
         "name": "PSI",
         "rawType": "float64",
         "type": "float"
        },
        {
         "name": "PTF",
         "rawType": "float64",
         "type": "float"
        },
        {
         "name": "PWB",
         "rawType": "float64",
         "type": "float"
        },
        {
         "name": "QLD",
         "rawType": "float64",
         "type": "float"
        },
        {
         "name": "QQQ",
         "rawType": "float64",
         "type": "float"
        },
        {
         "name": "QUAL",
         "rawType": "float64",
         "type": "float"
        },
        {
         "name": "SCHG",
         "rawType": "float64",
         "type": "float"
        },
        {
         "name": "SCHX",
         "rawType": "float64",
         "type": "float"
        },
        {
         "name": "SMH",
         "rawType": "float64",
         "type": "float"
        },
        {
         "name": "SMIN",
         "rawType": "float64",
         "type": "float"
        },
        {
         "name": "SOXX",
         "rawType": "float64",
         "type": "float"
        },
        {
         "name": "SPHB",
         "rawType": "float64",
         "type": "float"
        },
        {
         "name": "SPHQ",
         "rawType": "float64",
         "type": "float"
        },
        {
         "name": "SPLG",
         "rawType": "float64",
         "type": "float"
        },
        {
         "name": "SPTM",
         "rawType": "float64",
         "type": "float"
        },
        {
         "name": "SPY",
         "rawType": "float64",
         "type": "float"
        },
        {
         "name": "SPYG",
         "rawType": "float64",
         "type": "float"
        },
        {
         "name": "SUSA",
         "rawType": "float64",
         "type": "float"
        },
        {
         "name": "VCR",
         "rawType": "float64",
         "type": "float"
        },
        {
         "name": "VGT",
         "rawType": "float64",
         "type": "float"
        },
        {
         "name": "VONE",
         "rawType": "float64",
         "type": "float"
        },
        {
         "name": "VONG",
         "rawType": "float64",
         "type": "float"
        },
        {
         "name": "VOO",
         "rawType": "float64",
         "type": "float"
        },
        {
         "name": "VOOG",
         "rawType": "float64",
         "type": "float"
        },
        {
         "name": "VOT",
         "rawType": "float64",
         "type": "float"
        },
        {
         "name": "VUG",
         "rawType": "float64",
         "type": "float"
        },
        {
         "name": "VUSE",
         "rawType": "float64",
         "type": "float"
        },
        {
         "name": "VV",
         "rawType": "float64",
         "type": "float"
        },
        {
         "name": "XLG",
         "rawType": "float64",
         "type": "float"
        },
        {
         "name": "XLI",
         "rawType": "float64",
         "type": "float"
        },
        {
         "name": "XLK",
         "rawType": "float64",
         "type": "float"
        },
        {
         "name": "XLY",
         "rawType": "float64",
         "type": "float"
        },
        {
         "name": "XNTK",
         "rawType": "float64",
         "type": "float"
        }
       ],
       "ref": "1a9d218d-e4e5-418b-988b-6ac2e3ec7ea3",
       "rows": [
        [
         "2015-07-01 00:00:00",
         "0.018164649732762793",
         "0.019057381296847427",
         "0.03546686657447767",
         "-0.007705220902739715",
         "0.01823623385090648",
         "-0.043837058860386274",
         "0.03524277416613231",
         "0.03835068146512502",
         "0.015493115809841043",
         "0.05024112217673454",
         "0.027991016238816148",
         "0.01818193559474894",
         "0.03258277014950911",
         "0.015853542755108023",
         "0.029916063371502613",
         "0.02092742915319233",
         "0.012291172707035305",
         "0.03808732219779351",
         "0.011949978337013204",
         "0.017494534058947422",
         "0.01829904787142457",
         "0.020381408836420586",
         "0.03372845593418702",
         "0.0246627043474254",
         "0.025229711452322074",
         "-0.04949375186352795",
         "0.0001922220469087743",
         "-0.0028580378659150106",
         "-0.06488750942448485",
         "1.4027605464901963e-05",
         "0.030288741978009202",
         "0.08135323339684786",
         "0.041001658716553854",
         "0.024699121883944318",
         "0.02655603084815729",
         "0.016410347634001995",
         "-0.04880510415019777",
         "0.06353666607305465",
         "-0.054350867685267236",
         "-0.04553152349271995",
         "0.02267784462933259",
         "0.01576297209373274",
         "0.011415982441672974",
         "0.018796505576081635",
         "0.030976028724226785",
         "0.008822451038384771",
         "0.035055224148127014",
         "0.018881487244869592",
         "0.016349007284796296",
         "0.03035367489744191",
         "0.017994282069243084",
         "0.03194163984054993",
         "0.01092329832228865",
         "0.02862701040399441",
         "-0.018865831311919184",
         "0.017327757676063302",
         "0.028649653329985536",
         "-0.0004428231472126663",
         "0.02459980137523935",
         "0.04418632321598394",
         "0.050359884108419295"
        ],
        [
         "2015-08-01 00:00:00",
         "-0.06632878956557099",
         "-0.06247658125833567",
         "-0.06830160748742348",
         "-0.056764783556213075",
         "-0.06279196391087447",
         "-0.044179933046174326",
         "-0.05948777736788354",
         "-0.07187874607316044",
         "-0.06854941540041665",
         "-0.12004346198145593",
         "-0.06817886929255951",
         "-0.06696654042111327",
         "-0.06701580851019656",
         "-0.06560772222768171",
         "-0.06653930907186928",
         "-0.06935817487687557",
         "-0.06398080119570547",
         "-0.06793597567458157",
         "-0.06695913598511558",
         "-0.06415795514976819",
         "-0.06875348028473822",
         "-0.06848696623935353",
         "-0.06535384371400511",
         "-0.07240041074501972",
         "-0.07412430303415261",
         "-0.0845288757621416",
         "-0.04400676759754704",
         "-0.06310371807371058",
         "-0.04922656099223218",
         "-0.09157537261466325",
         "-0.06568200034230039",
         "-0.15362309387427656",
         "-0.07420026045506424",
         "-0.05910831586419957",
         "-0.06630534494518243",
         "-0.0660991893250716",
         "-0.05455583293654188",
         "-0.10020838293791465",
         "-0.05626962941427668",
         "-0.0555545180842118",
         "-0.05613672878603577",
         "-0.06409823404729888",
         "-0.0642422662578065",
         "-0.06643621284691717",
         "-0.06625265852304646",
         "-0.06803626158235995",
         "-0.06941944512452508",
         "-0.0633028560912386",
         "-0.06646284366520376",
         "-0.06484355494457435",
         "-0.0668661308292203",
         "-0.06654972544140633",
         "-0.06371576248981171",
         "-0.06860606894103541",
         "-0.048297278845904866",
         "-0.06577788367701125",
         "-0.07320509147229258",
         "-0.05904650924670801",
         "-0.06033436291147779",
         "-0.07114607939705493",
         "-0.051384236319123165"
        ],
        [
         "2015-09-01 00:00:00",
         "-0.028257255117652244",
         "-0.042136509256143206",
         "-0.020215833293269352",
         "-0.03807365858550943",
         "-0.018279149882246208",
         "-0.04274055585248711",
         "-0.017240713064213684",
         "-0.03261605844139159",
         "-0.050474845286373755",
         "-0.029934866805651696",
         "-0.03248729569635068",
         "-0.028835778328599806",
         "-0.026719240802143822",
         "-0.03198551829330036",
         "-0.029867434402955386",
         "-0.02914529435954845",
         "-0.04346775953939301",
         "-0.02484579550894801",
         "-0.017148735351331067",
         "-0.017663305096319137",
         "-0.028657149207531003",
         "-0.0364722995986957",
         "-0.022603261731126128",
         "-0.02615934965191177",
         "-0.03987930597950713",
         "-0.06953463337516465",
         "-0.03733474648397136",
         "-0.0519772474470699",
         "-0.0245314801731068",
         "-0.015202077167710711",
         "-0.02013855500823248",
         "-0.05569797899279507",
         "-0.02580876417100139",
         "-0.016527974433006912",
         "-0.03904002179024309",
         "-0.03093230752144772",
         "0.0032128132320246266",
         "0.0203635315475277",
         "-0.017265374640698647",
         "-0.07031484606548598",
         "-0.01566748379744403",
         "-0.04023944425308167",
         "-0.039529437466495475",
         "-0.029354514542658378",
         "-0.02774529222543413",
         "-0.024829102145545883",
         "-0.019514005321683348",
         "-0.016960749743293414",
         "-0.03131108592989004",
         "-0.03126868696062341",
         "-0.02849977185574771",
         "-0.02690630564932078",
         "-0.044699411601673095",
         "-0.032555019978173484",
         "-0.05274997981582549",
         "-0.031214025133912294",
         "-0.024117250476820448",
         "-0.025916173750331603",
         "-0.017330539390685972",
         "-0.009354679722791909",
         "-0.02260785774323869"
        ],
        [
         "2015-10-01 00:00:00",
         "0.08045143128307909",
         "0.05662555844285842",
         "0.07238874667037598",
         "0.08130773039364175",
         "0.098342858241882",
         "0.038704704774095045",
         "0.10345697018603105",
         "0.09130076933750542",
         "0.048623837384002985",
         "0.011353282357298948",
         "0.07768377259614473",
         "0.07786511459533538",
         "0.08652552157509222",
         "0.07437919800488557",
         "0.07987648726842098",
         "0.08178274991991168",
         "0.057488282675186526",
         "0.08908815654706315",
         "0.09987723045541395",
         "0.09572841561066024",
         "0.08102405469472965",
         "0.08195897910776759",
         "0.0669832519245135",
         "0.08720466345695112",
         "0.09078341408066293",
         "0.10126694395388439",
         "0.08091579639030985",
         "0.08149144729608182",
         "0.06810854632519506",
         "0.06452012991168245",
         "0.056944585629467914",
         "0.20984915937647908",
         "0.1041404944013845",
         "0.07930186745602871",
         "0.07584716651519605",
         "0.07508385734898189",
         "0.07943581942333919",
         "0.017706403167577857",
         "0.09107417072692166",
         "0.09521856710413654",
         "0.05671654611409186",
         "0.0865451275135537",
         "0.07959068918900465",
         "0.07808570144764568",
         "0.08779356222151884",
         "0.0755692090704946",
         "0.07128247817041733",
         "0.09597428133471582",
         "0.07428934634001107",
         "0.07959005877592333",
         "0.0776000701933234",
         "0.08653463106640728",
         "0.050986605118326464",
         "0.08241804491601815",
         "0.05817232471993362",
         "0.07607747552121107",
         "0.09067335459579308",
         "0.08073423042281662",
         "0.09648261649812066",
         "0.08302884098347389",
         "0.09777208343066122"
        ],
        [
         "2015-11-01 00:00:00",
         "-0.0017644649475881695",
         "0.004919453826591013",
         "-0.009441256685784716",
         "0.010208294518963055",
         "0.006883427524922247",
         "-0.0005116758386851535",
         "0.009348390580700874",
         "0.00035520040635904143",
         "-0.0003371660099921771",
         "-0.003134052034357258",
         "0.002407812956574867",
         "0.00036773168463130786",
         "-0.0016546929160734026",
         "0.0005887254867367867",
         "-0.0005098994353359824",
         "0.0025873859831790796",
         "-0.0010415436195270748",
         "0.00010376907983433627",
         "0.005534086304609633",
         "0.006181139798944217",
         "0.00043820920287252233",
         "0.007341206120673259",
         "0.001819589137184764",
         "-0.00013987818220467492",
         "0.009086861599663449",
         "-0.03331682840009707",
         "0.01711099424701243",
         "0.019681182079849813",
         "0.04701894582949792",
         "0.007371900148929194",
         "-0.002527802831314537",
         "0.006476760261767092",
         "0.002525569988468961",
         "0.0008832448201558777",
         "-0.0003587274925606937",
         "0.0007371357901189523",
         "0.025336327663080693",
         "-0.007393664500312383",
         "0.019506632614922623",
         "0.000797240017031096",
         "0.005917122478183601",
         "-0.0030522171344931695",
         "0.0005603726338342259",
         "0.00013826115475851653",
         "-0.002218408752024311",
         "-0.0005814997127212957",
         "-0.008232131818572467",
         "0.0082367446845324",
         "0.0003738755445754512",
         "-0.0005678577434756072",
         "0.0007352864675499392",
         "-0.0021704353921179606",
         "-0.0038467310898812127",
         "-0.002038788144065995",
         "0.01578245596595837",
         "-8.335455411292731e-05",
         "0.0011873678016040604",
         "0.004971788266333092",
         "0.0036241614355669726",
         "-0.006007561399684722",
         "0.007003643233862851"
        ]
       ],
       "shape": {
        "columns": 61,
        "rows": 5
       }
      },
      "text/html": [
       "<div>\n",
       "<style scoped>\n",
       "    .dataframe tbody tr th:only-of-type {\n",
       "        vertical-align: middle;\n",
       "    }\n",
       "\n",
       "    .dataframe tbody tr th {\n",
       "        vertical-align: top;\n",
       "    }\n",
       "\n",
       "    .dataframe thead th {\n",
       "        text-align: right;\n",
       "    }\n",
       "</style>\n",
       "<table border=\"1\" class=\"dataframe\">\n",
       "  <thead>\n",
       "    <tr style=\"text-align: right;\">\n",
       "      <th></th>\n",
       "      <th>DSI</th>\n",
       "      <th>FAD</th>\n",
       "      <th>FDIS</th>\n",
       "      <th>FIDU</th>\n",
       "      <th>FTEC</th>\n",
       "      <th>GRID</th>\n",
       "      <th>IGM</th>\n",
       "      <th>ILCG</th>\n",
       "      <th>IMCG</th>\n",
       "      <th>INCO</th>\n",
       "      <th>...</th>\n",
       "      <th>VOOG</th>\n",
       "      <th>VOT</th>\n",
       "      <th>VUG</th>\n",
       "      <th>VUSE</th>\n",
       "      <th>VV</th>\n",
       "      <th>XLG</th>\n",
       "      <th>XLI</th>\n",
       "      <th>XLK</th>\n",
       "      <th>XLY</th>\n",
       "      <th>XNTK</th>\n",
       "    </tr>\n",
       "    <tr>\n",
       "      <th>Date</th>\n",
       "      <th></th>\n",
       "      <th></th>\n",
       "      <th></th>\n",
       "      <th></th>\n",
       "      <th></th>\n",
       "      <th></th>\n",
       "      <th></th>\n",
       "      <th></th>\n",
       "      <th></th>\n",
       "      <th></th>\n",
       "      <th></th>\n",
       "      <th></th>\n",
       "      <th></th>\n",
       "      <th></th>\n",
       "      <th></th>\n",
       "      <th></th>\n",
       "      <th></th>\n",
       "      <th></th>\n",
       "      <th></th>\n",
       "      <th></th>\n",
       "      <th></th>\n",
       "    </tr>\n",
       "  </thead>\n",
       "  <tbody>\n",
       "    <tr>\n",
       "      <th>2015-07-01</th>\n",
       "      <td>0.018165</td>\n",
       "      <td>0.019057</td>\n",
       "      <td>0.035467</td>\n",
       "      <td>-0.007705</td>\n",
       "      <td>0.018236</td>\n",
       "      <td>-0.043837</td>\n",
       "      <td>0.035243</td>\n",
       "      <td>0.038351</td>\n",
       "      <td>0.015493</td>\n",
       "      <td>0.050241</td>\n",
       "      <td>...</td>\n",
       "      <td>0.031942</td>\n",
       "      <td>0.010923</td>\n",
       "      <td>0.028627</td>\n",
       "      <td>-0.018866</td>\n",
       "      <td>0.017328</td>\n",
       "      <td>0.028650</td>\n",
       "      <td>-0.000443</td>\n",
       "      <td>0.024600</td>\n",
       "      <td>0.044186</td>\n",
       "      <td>0.050360</td>\n",
       "    </tr>\n",
       "    <tr>\n",
       "      <th>2015-08-01</th>\n",
       "      <td>-0.066329</td>\n",
       "      <td>-0.062477</td>\n",
       "      <td>-0.068302</td>\n",
       "      <td>-0.056765</td>\n",
       "      <td>-0.062792</td>\n",
       "      <td>-0.044180</td>\n",
       "      <td>-0.059488</td>\n",
       "      <td>-0.071879</td>\n",
       "      <td>-0.068549</td>\n",
       "      <td>-0.120043</td>\n",
       "      <td>...</td>\n",
       "      <td>-0.066550</td>\n",
       "      <td>-0.063716</td>\n",
       "      <td>-0.068606</td>\n",
       "      <td>-0.048297</td>\n",
       "      <td>-0.065778</td>\n",
       "      <td>-0.073205</td>\n",
       "      <td>-0.059047</td>\n",
       "      <td>-0.060334</td>\n",
       "      <td>-0.071146</td>\n",
       "      <td>-0.051384</td>\n",
       "    </tr>\n",
       "    <tr>\n",
       "      <th>2015-09-01</th>\n",
       "      <td>-0.028257</td>\n",
       "      <td>-0.042137</td>\n",
       "      <td>-0.020216</td>\n",
       "      <td>-0.038074</td>\n",
       "      <td>-0.018279</td>\n",
       "      <td>-0.042741</td>\n",
       "      <td>-0.017241</td>\n",
       "      <td>-0.032616</td>\n",
       "      <td>-0.050475</td>\n",
       "      <td>-0.029935</td>\n",
       "      <td>...</td>\n",
       "      <td>-0.026906</td>\n",
       "      <td>-0.044699</td>\n",
       "      <td>-0.032555</td>\n",
       "      <td>-0.052750</td>\n",
       "      <td>-0.031214</td>\n",
       "      <td>-0.024117</td>\n",
       "      <td>-0.025916</td>\n",
       "      <td>-0.017331</td>\n",
       "      <td>-0.009355</td>\n",
       "      <td>-0.022608</td>\n",
       "    </tr>\n",
       "    <tr>\n",
       "      <th>2015-10-01</th>\n",
       "      <td>0.080451</td>\n",
       "      <td>0.056626</td>\n",
       "      <td>0.072389</td>\n",
       "      <td>0.081308</td>\n",
       "      <td>0.098343</td>\n",
       "      <td>0.038705</td>\n",
       "      <td>0.103457</td>\n",
       "      <td>0.091301</td>\n",
       "      <td>0.048624</td>\n",
       "      <td>0.011353</td>\n",
       "      <td>...</td>\n",
       "      <td>0.086535</td>\n",
       "      <td>0.050987</td>\n",
       "      <td>0.082418</td>\n",
       "      <td>0.058172</td>\n",
       "      <td>0.076077</td>\n",
       "      <td>0.090673</td>\n",
       "      <td>0.080734</td>\n",
       "      <td>0.096483</td>\n",
       "      <td>0.083029</td>\n",
       "      <td>0.097772</td>\n",
       "    </tr>\n",
       "    <tr>\n",
       "      <th>2015-11-01</th>\n",
       "      <td>-0.001764</td>\n",
       "      <td>0.004919</td>\n",
       "      <td>-0.009441</td>\n",
       "      <td>0.010208</td>\n",
       "      <td>0.006883</td>\n",
       "      <td>-0.000512</td>\n",
       "      <td>0.009348</td>\n",
       "      <td>0.000355</td>\n",
       "      <td>-0.000337</td>\n",
       "      <td>-0.003134</td>\n",
       "      <td>...</td>\n",
       "      <td>-0.002170</td>\n",
       "      <td>-0.003847</td>\n",
       "      <td>-0.002039</td>\n",
       "      <td>0.015782</td>\n",
       "      <td>-0.000083</td>\n",
       "      <td>0.001187</td>\n",
       "      <td>0.004972</td>\n",
       "      <td>0.003624</td>\n",
       "      <td>-0.006008</td>\n",
       "      <td>0.007004</td>\n",
       "    </tr>\n",
       "  </tbody>\n",
       "</table>\n",
       "<p>5 rows × 61 columns</p>\n",
       "</div>"
      ],
      "text/plain": [
       "                 DSI       FAD      FDIS      FIDU      FTEC      GRID  \\\n",
       "Date                                                                     \n",
       "2015-07-01  0.018165  0.019057  0.035467 -0.007705  0.018236 -0.043837   \n",
       "2015-08-01 -0.066329 -0.062477 -0.068302 -0.056765 -0.062792 -0.044180   \n",
       "2015-09-01 -0.028257 -0.042137 -0.020216 -0.038074 -0.018279 -0.042741   \n",
       "2015-10-01  0.080451  0.056626  0.072389  0.081308  0.098343  0.038705   \n",
       "2015-11-01 -0.001764  0.004919 -0.009441  0.010208  0.006883 -0.000512   \n",
       "\n",
       "                 IGM      ILCG      IMCG      INCO  ...      VOOG       VOT  \\\n",
       "Date                                                ...                       \n",
       "2015-07-01  0.035243  0.038351  0.015493  0.050241  ...  0.031942  0.010923   \n",
       "2015-08-01 -0.059488 -0.071879 -0.068549 -0.120043  ... -0.066550 -0.063716   \n",
       "2015-09-01 -0.017241 -0.032616 -0.050475 -0.029935  ... -0.026906 -0.044699   \n",
       "2015-10-01  0.103457  0.091301  0.048624  0.011353  ...  0.086535  0.050987   \n",
       "2015-11-01  0.009348  0.000355 -0.000337 -0.003134  ... -0.002170 -0.003847   \n",
       "\n",
       "                 VUG      VUSE        VV       XLG       XLI       XLK  \\\n",
       "Date                                                                     \n",
       "2015-07-01  0.028627 -0.018866  0.017328  0.028650 -0.000443  0.024600   \n",
       "2015-08-01 -0.068606 -0.048297 -0.065778 -0.073205 -0.059047 -0.060334   \n",
       "2015-09-01 -0.032555 -0.052750 -0.031214 -0.024117 -0.025916 -0.017331   \n",
       "2015-10-01  0.082418  0.058172  0.076077  0.090673  0.080734  0.096483   \n",
       "2015-11-01 -0.002039  0.015782 -0.000083  0.001187  0.004972  0.003624   \n",
       "\n",
       "                 XLY      XNTK  \n",
       "Date                            \n",
       "2015-07-01  0.044186  0.050360  \n",
       "2015-08-01 -0.071146 -0.051384  \n",
       "2015-09-01 -0.009355 -0.022608  \n",
       "2015-10-01  0.083029  0.097772  \n",
       "2015-11-01 -0.006008  0.007004  \n",
       "\n",
       "[5 rows x 61 columns]"
      ]
     },
     "execution_count": 16,
     "metadata": {},
     "output_type": "execute_result"
    }
   ],
   "source": [
    "benchmark_excess_returns_df = benchmark_log_returns_df - risk_free_rate_monthly\n",
    "benchmark_excess_returns_df.head()"
   ]
  },
  {
   "cell_type": "markdown",
   "id": "b7d95382",
   "metadata": {},
   "source": [
    "#### Stocks"
   ]
  },
  {
   "cell_type": "code",
   "execution_count": 17,
   "id": "8ffb2f5a",
   "metadata": {
    "execution": {
     "iopub.execute_input": "2025-06-02T13:28:31.350103Z",
     "iopub.status.busy": "2025-06-02T13:28:31.349138Z",
     "iopub.status.idle": "2025-06-02T13:28:31.364165Z",
     "shell.execute_reply": "2025-06-02T13:28:31.363050Z"
    }
   },
   "outputs": [
    {
     "data": {
      "application/vnd.microsoft.datawrangler.viewer.v0+json": {
       "columns": [
        {
         "name": "Date",
         "rawType": "datetime64[ns]",
         "type": "datetime"
        },
        {
         "name": "GRMN",
         "rawType": "float64",
         "type": "float"
        },
        {
         "name": "MSFT",
         "rawType": "float64",
         "type": "float"
        }
       ],
       "ref": "07b7d8d1-eec8-4813-bf3d-047ee5982bb5",
       "rows": [
        [
         "2015-08-01 00:00:00",
         "-0.11177431185651372",
         "-0.06752865799326342"
        ],
        [
         "2015-09-01 00:00:00",
         "-0.036477489052687245",
         "0.013436137960716986"
        ],
        [
         "2015-10-01 00:00:00",
         "-0.015008565676498319",
         "0.16977368724942876"
        ],
        [
         "2015-11-01 00:00:00",
         "0.061330897971600934",
         "0.035318938490061125"
        ],
        [
         "2015-12-01 00:00:00",
         "-0.008079590507950467",
         "0.016983395026176275"
        ]
       ],
       "shape": {
        "columns": 2,
        "rows": 5
       }
      },
      "text/html": [
       "<div>\n",
       "<style scoped>\n",
       "    .dataframe tbody tr th:only-of-type {\n",
       "        vertical-align: middle;\n",
       "    }\n",
       "\n",
       "    .dataframe tbody tr th {\n",
       "        vertical-align: top;\n",
       "    }\n",
       "\n",
       "    .dataframe thead th {\n",
       "        text-align: right;\n",
       "    }\n",
       "</style>\n",
       "<table border=\"1\" class=\"dataframe\">\n",
       "  <thead>\n",
       "    <tr style=\"text-align: right;\">\n",
       "      <th></th>\n",
       "      <th>GRMN</th>\n",
       "      <th>MSFT</th>\n",
       "    </tr>\n",
       "    <tr>\n",
       "      <th>Date</th>\n",
       "      <th></th>\n",
       "      <th></th>\n",
       "    </tr>\n",
       "  </thead>\n",
       "  <tbody>\n",
       "    <tr>\n",
       "      <th>2015-08-01</th>\n",
       "      <td>-0.111774</td>\n",
       "      <td>-0.067529</td>\n",
       "    </tr>\n",
       "    <tr>\n",
       "      <th>2015-09-01</th>\n",
       "      <td>-0.036477</td>\n",
       "      <td>0.013436</td>\n",
       "    </tr>\n",
       "    <tr>\n",
       "      <th>2015-10-01</th>\n",
       "      <td>-0.015009</td>\n",
       "      <td>0.169774</td>\n",
       "    </tr>\n",
       "    <tr>\n",
       "      <th>2015-11-01</th>\n",
       "      <td>0.061331</td>\n",
       "      <td>0.035319</td>\n",
       "    </tr>\n",
       "    <tr>\n",
       "      <th>2015-12-01</th>\n",
       "      <td>-0.008080</td>\n",
       "      <td>0.016983</td>\n",
       "    </tr>\n",
       "  </tbody>\n",
       "</table>\n",
       "</div>"
      ],
      "text/plain": [
       "                GRMN      MSFT\n",
       "Date                          \n",
       "2015-08-01 -0.111774 -0.067529\n",
       "2015-09-01 -0.036477  0.013436\n",
       "2015-10-01 -0.015009  0.169774\n",
       "2015-11-01  0.061331  0.035319\n",
       "2015-12-01 -0.008080  0.016983"
      ]
     },
     "execution_count": 17,
     "metadata": {},
     "output_type": "execute_result"
    }
   ],
   "source": [
    "stock_excess_returns_df = stock_log_returns_df - risk_free_rate_monthly\n",
    "stock_excess_returns_df.head()"
   ]
  },
  {
   "cell_type": "markdown",
   "id": "b2439f61",
   "metadata": {},
   "source": [
    "### Step 10: Find the Best Benchmark (By Regression Coefficients)"
   ]
  },
  {
   "cell_type": "code",
   "execution_count": 18,
   "id": "f10cacac",
   "metadata": {
    "execution": {
     "iopub.execute_input": "2025-06-02T13:28:31.369701Z",
     "iopub.status.busy": "2025-06-02T13:28:31.368584Z",
     "iopub.status.idle": "2025-06-02T13:28:33.805998Z",
     "shell.execute_reply": "2025-06-02T13:28:33.797796Z"
    }
   },
   "outputs": [
    {
     "name": "stdout",
     "output_type": "stream",
     "text": [
      "Best benchmark: DSI\n"
     ]
    },
    {
     "data": {
      "application/vnd.microsoft.datawrangler.viewer.v0+json": {
       "columns": [
        {
         "name": "index",
         "rawType": "int64",
         "type": "integer"
        },
        {
         "name": "Equity",
         "rawType": "object",
         "type": "string"
        },
        {
         "name": "Benchmark",
         "rawType": "object",
         "type": "string"
        },
        {
         "name": "intercept (alpha)",
         "rawType": "float64",
         "type": "float"
        },
        {
         "name": "slope (beta)",
         "rawType": "float64",
         "type": "float"
        },
        {
         "name": "correlation",
         "rawType": "float64",
         "type": "float"
        },
        {
         "name": "r_squared",
         "rawType": "float64",
         "type": "float"
        },
        {
         "name": "p_value_slope",
         "rawType": "float64",
         "type": "float"
        },
        {
         "name": "p_value_intercept",
         "rawType": "float64",
         "type": "float"
        }
       ],
       "ref": "dbc698dc-a3ae-4376-b361-9e9581d5943a",
       "rows": [
        [
         "0",
         "GRMN",
         "DSI",
         "0.006167408250587157",
         "0.9418343123769398",
         "0.6165741361518481",
         "0.3801636653713977",
         "8.305726764115648e-14",
         "0.23686123579478868"
        ],
        [
         "1",
         "MSFT",
         "DSI",
         "0.010754407320066729",
         "0.9590178991485542",
         "0.7545207545499492",
         "0.5693015690466245",
         "3.851821629638692e-23",
         "0.0034110570321157557"
        ]
       ],
       "shape": {
        "columns": 8,
        "rows": 2
       }
      },
      "text/html": [
       "<div>\n",
       "<style scoped>\n",
       "    .dataframe tbody tr th:only-of-type {\n",
       "        vertical-align: middle;\n",
       "    }\n",
       "\n",
       "    .dataframe tbody tr th {\n",
       "        vertical-align: top;\n",
       "    }\n",
       "\n",
       "    .dataframe thead th {\n",
       "        text-align: right;\n",
       "    }\n",
       "</style>\n",
       "<table border=\"1\" class=\"dataframe\">\n",
       "  <thead>\n",
       "    <tr style=\"text-align: right;\">\n",
       "      <th></th>\n",
       "      <th>Equity</th>\n",
       "      <th>Benchmark</th>\n",
       "      <th>intercept (alpha)</th>\n",
       "      <th>slope (beta)</th>\n",
       "      <th>correlation</th>\n",
       "      <th>r_squared</th>\n",
       "      <th>p_value_slope</th>\n",
       "      <th>p_value_intercept</th>\n",
       "    </tr>\n",
       "  </thead>\n",
       "  <tbody>\n",
       "    <tr>\n",
       "      <th>0</th>\n",
       "      <td>GRMN</td>\n",
       "      <td>DSI</td>\n",
       "      <td>0.006167</td>\n",
       "      <td>0.941834</td>\n",
       "      <td>0.616574</td>\n",
       "      <td>0.380164</td>\n",
       "      <td>8.305727e-14</td>\n",
       "      <td>0.236861</td>\n",
       "    </tr>\n",
       "    <tr>\n",
       "      <th>1</th>\n",
       "      <td>MSFT</td>\n",
       "      <td>DSI</td>\n",
       "      <td>0.010754</td>\n",
       "      <td>0.959018</td>\n",
       "      <td>0.754521</td>\n",
       "      <td>0.569302</td>\n",
       "      <td>3.851822e-23</td>\n",
       "      <td>0.003411</td>\n",
       "    </tr>\n",
       "  </tbody>\n",
       "</table>\n",
       "</div>"
      ],
      "text/plain": [
       "  Equity Benchmark  intercept (alpha)  slope (beta)  correlation  r_squared  \\\n",
       "0   GRMN       DSI           0.006167      0.941834     0.616574   0.380164   \n",
       "1   MSFT       DSI           0.010754      0.959018     0.754521   0.569302   \n",
       "\n",
       "   p_value_slope  p_value_intercept  \n",
       "0   8.305727e-14           0.236861  \n",
       "1   3.851822e-23           0.003411  "
      ]
     },
     "metadata": {},
     "output_type": "display_data"
    }
   ],
   "source": [
    "# Call the function with your data\n",
    "best_benchmark, benchmark_stats_df, best_benchmarks_df = find_best_benchmark_and_run_regressions(\n",
    "    benchmark_excess_returns_df, \n",
    "    stock_excess_returns_df\n",
    ")\n",
    "\n",
    "# Display the results\n",
    "print(f\"Best benchmark: {best_benchmark}\")\n",
    "display(best_benchmarks_df)"
   ]
  },
  {
   "cell_type": "code",
   "execution_count": 19,
   "id": "a538dcf3",
   "metadata": {
    "execution": {
     "iopub.execute_input": "2025-06-02T13:28:33.811381Z",
     "iopub.status.busy": "2025-06-02T13:28:33.810059Z",
     "iopub.status.idle": "2025-06-02T13:28:33.826248Z",
     "shell.execute_reply": "2025-06-02T13:28:33.825115Z"
    }
   },
   "outputs": [
    {
     "data": {
      "application/vnd.microsoft.datawrangler.viewer.v0+json": {
       "columns": [
        {
         "name": "index",
         "rawType": "int64",
         "type": "integer"
        },
        {
         "name": "benchmark",
         "rawType": "object",
         "type": "string"
        },
        {
         "name": "avg_slope",
         "rawType": "float64",
         "type": "float"
        },
        {
         "name": "slope_std",
         "rawType": "float64",
         "type": "float"
        },
        {
         "name": "avg_p_value_intercept",
         "rawType": "float64",
         "type": "float"
        },
        {
         "name": "avg_p_value_slope",
         "rawType": "float64",
         "type": "float"
        },
        {
         "name": "avg_r_squared",
         "rawType": "float64",
         "type": "float"
        },
        {
         "name": "beta_quality",
         "rawType": "float64",
         "type": "float"
        },
        {
         "name": "score",
         "rawType": "float64",
         "type": "float"
        }
       ],
       "ref": "5b3d9689-9367-4d3b-a24a-996cb81e12d6",
       "rows": [
        [
         "0",
         "DSI",
         "0.950426105762747",
         "0.008591793385807178",
         "0.12013614641345222",
         "4.152863383983735e-14",
         "0.4747326172090111",
         "0.950426105762747",
         "0.8593007946504001"
        ],
        [
         "20",
         "MGC",
         "0.9843383011413425",
         "0.00786492575641079",
         "0.16009785212262592",
         "4.193812894987519e-14",
         "0.4734118418103098",
         "0.9843383011413425",
         "0.8579697478850006"
        ],
        [
         "15",
         "IWL",
         "0.9860263702229803",
         "0.010170798766054201",
         "0.16310871706085284",
         "4.2854429167927193e-14",
         "0.4757764936612797",
         "0.9860263702229803",
         "0.8577251503356457"
        ],
        [
         "23",
         "OEF",
         "0.9873666331225741",
         "0.02963277805081571",
         "0.16772102769255548",
         "1.153334297852262e-13",
         "0.4854981765720909",
         "0.9873666331225741",
         "0.8552727667538935"
        ],
        [
         "43",
         "SPY",
         "0.973156726685193",
         "0.01738255332398403",
         "0.13818139318107014",
         "1.524168433152443e-14",
         "0.45787718178214865",
         "0.973156726685193",
         "0.8551533905331192"
        ],
        [
         "11",
         "IVV",
         "0.9721566040434535",
         "0.016166570961598126",
         "0.1398005844290358",
         "1.6809842438159878e-14",
         "0.45799004752303757",
         "0.9721566040434535",
         "0.85488733923017"
        ],
        [
         "55",
         "VV",
         "0.9634258270686907",
         "0.014535712167132453",
         "0.13566611231832906",
         "1.517965766379082e-14",
         "0.4608580139840428",
         "0.9634258270686907",
         "0.8548580552584094"
        ],
        [
         "50",
         "VOO",
         "0.9725489927580728",
         "0.016142239487009935",
         "0.14039862917025264",
         "1.7181769249178756e-14",
         "0.45775831891788243",
         "0.9725489927580728",
         "0.8548045751038983"
        ],
        [
         "33",
         "QUAL",
         "0.9562619727777893",
         "0.028837320229247343",
         "0.12021503875785977",
         "3.4301863214977196e-15",
         "0.4625468080157155",
         "0.9562619727777893",
         "0.8541129408295374"
        ],
        [
         "35",
         "SCHX",
         "0.9623975729308398",
         "0.023355495093870415",
         "0.1334021418054457",
         "8.728939225515617e-15",
         "0.45782490687327293",
         "0.9623975729308398",
         "0.8527995745753936"
        ]
       ],
       "shape": {
        "columns": 8,
        "rows": 10
       }
      },
      "text/html": [
       "<div>\n",
       "<style scoped>\n",
       "    .dataframe tbody tr th:only-of-type {\n",
       "        vertical-align: middle;\n",
       "    }\n",
       "\n",
       "    .dataframe tbody tr th {\n",
       "        vertical-align: top;\n",
       "    }\n",
       "\n",
       "    .dataframe thead th {\n",
       "        text-align: right;\n",
       "    }\n",
       "</style>\n",
       "<table border=\"1\" class=\"dataframe\">\n",
       "  <thead>\n",
       "    <tr style=\"text-align: right;\">\n",
       "      <th></th>\n",
       "      <th>benchmark</th>\n",
       "      <th>avg_slope</th>\n",
       "      <th>slope_std</th>\n",
       "      <th>avg_p_value_intercept</th>\n",
       "      <th>avg_p_value_slope</th>\n",
       "      <th>avg_r_squared</th>\n",
       "      <th>beta_quality</th>\n",
       "      <th>score</th>\n",
       "    </tr>\n",
       "  </thead>\n",
       "  <tbody>\n",
       "    <tr>\n",
       "      <th>0</th>\n",
       "      <td>DSI</td>\n",
       "      <td>0.950426</td>\n",
       "      <td>0.008592</td>\n",
       "      <td>0.120136</td>\n",
       "      <td>4.152863e-14</td>\n",
       "      <td>0.474733</td>\n",
       "      <td>0.950426</td>\n",
       "      <td>0.859301</td>\n",
       "    </tr>\n",
       "    <tr>\n",
       "      <th>20</th>\n",
       "      <td>MGC</td>\n",
       "      <td>0.984338</td>\n",
       "      <td>0.007865</td>\n",
       "      <td>0.160098</td>\n",
       "      <td>4.193813e-14</td>\n",
       "      <td>0.473412</td>\n",
       "      <td>0.984338</td>\n",
       "      <td>0.857970</td>\n",
       "    </tr>\n",
       "    <tr>\n",
       "      <th>15</th>\n",
       "      <td>IWL</td>\n",
       "      <td>0.986026</td>\n",
       "      <td>0.010171</td>\n",
       "      <td>0.163109</td>\n",
       "      <td>4.285443e-14</td>\n",
       "      <td>0.475776</td>\n",
       "      <td>0.986026</td>\n",
       "      <td>0.857725</td>\n",
       "    </tr>\n",
       "    <tr>\n",
       "      <th>23</th>\n",
       "      <td>OEF</td>\n",
       "      <td>0.987367</td>\n",
       "      <td>0.029633</td>\n",
       "      <td>0.167721</td>\n",
       "      <td>1.153334e-13</td>\n",
       "      <td>0.485498</td>\n",
       "      <td>0.987367</td>\n",
       "      <td>0.855273</td>\n",
       "    </tr>\n",
       "    <tr>\n",
       "      <th>43</th>\n",
       "      <td>SPY</td>\n",
       "      <td>0.973157</td>\n",
       "      <td>0.017383</td>\n",
       "      <td>0.138181</td>\n",
       "      <td>1.524168e-14</td>\n",
       "      <td>0.457877</td>\n",
       "      <td>0.973157</td>\n",
       "      <td>0.855153</td>\n",
       "    </tr>\n",
       "    <tr>\n",
       "      <th>11</th>\n",
       "      <td>IVV</td>\n",
       "      <td>0.972157</td>\n",
       "      <td>0.016167</td>\n",
       "      <td>0.139801</td>\n",
       "      <td>1.680984e-14</td>\n",
       "      <td>0.457990</td>\n",
       "      <td>0.972157</td>\n",
       "      <td>0.854887</td>\n",
       "    </tr>\n",
       "    <tr>\n",
       "      <th>55</th>\n",
       "      <td>VV</td>\n",
       "      <td>0.963426</td>\n",
       "      <td>0.014536</td>\n",
       "      <td>0.135666</td>\n",
       "      <td>1.517966e-14</td>\n",
       "      <td>0.460858</td>\n",
       "      <td>0.963426</td>\n",
       "      <td>0.854858</td>\n",
       "    </tr>\n",
       "    <tr>\n",
       "      <th>50</th>\n",
       "      <td>VOO</td>\n",
       "      <td>0.972549</td>\n",
       "      <td>0.016142</td>\n",
       "      <td>0.140399</td>\n",
       "      <td>1.718177e-14</td>\n",
       "      <td>0.457758</td>\n",
       "      <td>0.972549</td>\n",
       "      <td>0.854805</td>\n",
       "    </tr>\n",
       "    <tr>\n",
       "      <th>33</th>\n",
       "      <td>QUAL</td>\n",
       "      <td>0.956262</td>\n",
       "      <td>0.028837</td>\n",
       "      <td>0.120215</td>\n",
       "      <td>3.430186e-15</td>\n",
       "      <td>0.462547</td>\n",
       "      <td>0.956262</td>\n",
       "      <td>0.854113</td>\n",
       "    </tr>\n",
       "    <tr>\n",
       "      <th>35</th>\n",
       "      <td>SCHX</td>\n",
       "      <td>0.962398</td>\n",
       "      <td>0.023355</td>\n",
       "      <td>0.133402</td>\n",
       "      <td>8.728939e-15</td>\n",
       "      <td>0.457825</td>\n",
       "      <td>0.962398</td>\n",
       "      <td>0.852800</td>\n",
       "    </tr>\n",
       "  </tbody>\n",
       "</table>\n",
       "</div>"
      ],
      "text/plain": [
       "   benchmark  avg_slope  slope_std  avg_p_value_intercept  avg_p_value_slope  \\\n",
       "0        DSI   0.950426   0.008592               0.120136       4.152863e-14   \n",
       "20       MGC   0.984338   0.007865               0.160098       4.193813e-14   \n",
       "15       IWL   0.986026   0.010171               0.163109       4.285443e-14   \n",
       "23       OEF   0.987367   0.029633               0.167721       1.153334e-13   \n",
       "43       SPY   0.973157   0.017383               0.138181       1.524168e-14   \n",
       "11       IVV   0.972157   0.016167               0.139801       1.680984e-14   \n",
       "55        VV   0.963426   0.014536               0.135666       1.517966e-14   \n",
       "50       VOO   0.972549   0.016142               0.140399       1.718177e-14   \n",
       "33      QUAL   0.956262   0.028837               0.120215       3.430186e-15   \n",
       "35      SCHX   0.962398   0.023355               0.133402       8.728939e-15   \n",
       "\n",
       "    avg_r_squared  beta_quality     score  \n",
       "0        0.474733      0.950426  0.859301  \n",
       "20       0.473412      0.984338  0.857970  \n",
       "15       0.475776      0.986026  0.857725  \n",
       "23       0.485498      0.987367  0.855273  \n",
       "43       0.457877      0.973157  0.855153  \n",
       "11       0.457990      0.972157  0.854887  \n",
       "55       0.460858      0.963426  0.854858  \n",
       "50       0.457758      0.972549  0.854805  \n",
       "33       0.462547      0.956262  0.854113  \n",
       "35       0.457825      0.962398  0.852800  "
      ]
     },
     "metadata": {},
     "output_type": "display_data"
    }
   ],
   "source": [
    "# Display the benchmark statistics\n",
    "display(benchmark_stats_df.sort_values(by=\"score\", ascending=False).head(10))"
   ]
  },
  {
   "cell_type": "markdown",
   "id": "9320378e",
   "metadata": {},
   "source": [
    "### Step 11: Plot Results"
   ]
  },
  {
   "cell_type": "code",
   "execution_count": 20,
   "id": "4c4eeadd",
   "metadata": {
    "execution": {
     "iopub.execute_input": "2025-06-02T13:28:33.845495Z",
     "iopub.status.busy": "2025-06-02T13:28:33.844774Z",
     "iopub.status.idle": "2025-06-02T13:28:34.034453Z",
     "shell.execute_reply": "2025-06-02T13:28:34.033001Z"
    }
   },
   "outputs": [
    {
     "name": "stdout",
     "output_type": "stream",
     "text": [
      "📈 BENCHMARK REGRESSION ANALYSIS: DSI\n",
      "======================================================================\n",
      "🔍 GRMN: β=0.9418, R²=0.3802, p=0.0000, Weight=50.0%\n",
      "🔍 MSFT: β=0.9590, R²=0.5693, p=0.0000, Weight=50.0%\n"
     ]
    },
    {
     "data": {
      "image/png": "[encoded data removed]",
      "text/plain": [
       "<Figure size 600x1000 with 2 Axes>"
      ]
     },
     "metadata": {},
     "output_type": "display_data"
    },
    {
     "name": "stdout",
     "output_type": "stream",
     "text": [
      "\n",
      "📊 BENCHMARK REGRESSION SUMMARY: DSI\n"
     ]
    },
    {
     "data": {
      "application/vnd.microsoft.datawrangler.viewer.v0+json": {
       "columns": [
        {
         "name": "index",
         "rawType": "int64",
         "type": "integer"
        },
        {
         "name": "Ticker",
         "rawType": "object",
         "type": "string"
        },
        {
         "name": "Beta",
         "rawType": "float64",
         "type": "float"
        },
        {
         "name": "Alpha",
         "rawType": "float64",
         "type": "float"
        },
        {
         "name": "R_Squared",
         "rawType": "float64",
         "type": "float"
        },
        {
         "name": "Correlation",
         "rawType": "float64",
         "type": "float"
        },
        {
         "name": "P_Value",
         "rawType": "float64",
         "type": "float"
        },
        {
         "name": "Portfolio_Weight",
         "rawType": "float64",
         "type": "float"
        },
        {
         "name": "N_Observations",
         "rawType": "int64",
         "type": "integer"
        },
        {
         "name": "Significance",
         "rawType": "object",
         "type": "string"
        }
       ],
       "ref": "2a09bfc6-f8dc-4855-b6c3-09dd0cf9f9b4",
       "rows": [
        [
         "0",
         "GRMN",
         "0.9418",
         "0.0062",
         "0.3802",
         "0.6166",
         "0.0",
         "0.5",
         "119",
         "***"
        ],
        [
         "1",
         "MSFT",
         "0.959",
         "0.0108",
         "0.5693",
         "0.7545",
         "0.0",
         "0.5",
         "119",
         "***"
        ]
       ],
       "shape": {
        "columns": 9,
        "rows": 2
       }
      },
      "text/html": [
       "<div>\n",
       "<style scoped>\n",
       "    .dataframe tbody tr th:only-of-type {\n",
       "        vertical-align: middle;\n",
       "    }\n",
       "\n",
       "    .dataframe tbody tr th {\n",
       "        vertical-align: top;\n",
       "    }\n",
       "\n",
       "    .dataframe thead th {\n",
       "        text-align: right;\n",
       "    }\n",
       "</style>\n",
       "<table border=\"1\" class=\"dataframe\">\n",
       "  <thead>\n",
       "    <tr style=\"text-align: right;\">\n",
       "      <th></th>\n",
       "      <th>Ticker</th>\n",
       "      <th>Beta</th>\n",
       "      <th>Alpha</th>\n",
       "      <th>R_Squared</th>\n",
       "      <th>Correlation</th>\n",
       "      <th>P_Value</th>\n",
       "      <th>Portfolio_Weight</th>\n",
       "      <th>N_Observations</th>\n",
       "      <th>Significance</th>\n",
       "    </tr>\n",
       "  </thead>\n",
       "  <tbody>\n",
       "    <tr>\n",
       "      <th>0</th>\n",
       "      <td>GRMN</td>\n",
       "      <td>0.9418</td>\n",
       "      <td>0.0062</td>\n",
       "      <td>0.3802</td>\n",
       "      <td>0.6166</td>\n",
       "      <td>0.0</td>\n",
       "      <td>0.5</td>\n",
       "      <td>119</td>\n",
       "      <td>***</td>\n",
       "    </tr>\n",
       "    <tr>\n",
       "      <th>1</th>\n",
       "      <td>MSFT</td>\n",
       "      <td>0.9590</td>\n",
       "      <td>0.0108</td>\n",
       "      <td>0.5693</td>\n",
       "      <td>0.7545</td>\n",
       "      <td>0.0</td>\n",
       "      <td>0.5</td>\n",
       "      <td>119</td>\n",
       "      <td>***</td>\n",
       "    </tr>\n",
       "  </tbody>\n",
       "</table>\n",
       "</div>"
      ],
      "text/plain": [
       "  Ticker    Beta   Alpha  R_Squared  Correlation  P_Value  Portfolio_Weight  \\\n",
       "0   GRMN  0.9418  0.0062     0.3802       0.6166      0.0               0.5   \n",
       "1   MSFT  0.9590  0.0108     0.5693       0.7545      0.0               0.5   \n",
       "\n",
       "   N_Observations Significance  \n",
       "0             119          ***  \n",
       "1             119          ***  "
      ]
     },
     "metadata": {},
     "output_type": "display_data"
    },
    {
     "name": "stdout",
     "output_type": "stream",
     "text": [
      "\n",
      "📈 PORTFOLIO STATISTICS: Weighted β=0.9504, Weighted R²=0.4747\n",
      "  • Significant relationships (p<0.05): 2/2\n",
      "Portfolio sectors: {'Technology'}\n",
      "Benchmark sectors: {'Consumer Defensive', 'Technology', 'Energy', 'Industrials', 'Financial Services', 'Consumer Cyclical', 'Communication Services', 'Utilities', 'Basic Materials', 'Realestate', 'Healthcare'}\n"
     ]
    },
    {
     "data": {
      "image/png": "[encoded data removed]",
      "text/plain": [
       "<Figure size 1600x1200 with 4 Axes>"
      ]
     },
     "metadata": {},
     "output_type": "display_data"
    }
   ],
   "source": [
    "from py.regression_benchmark import analyze_benchmark_regression, plot_benchmark_analysis\n",
    "\n",
    "# Execute analysis\n",
    "benchmark_regression_results = analyze_benchmark_regression(benchmark_excess_returns_df, stock_excess_returns_df, best_benchmark, portfolio_df)\n",
    "\n",
    "# Get the benchmark sector data\n",
    "best_benchmark_sectors = filtered_sectors_df[filtered_sectors_df[\"Symbol\"] == best_benchmarks_df['Benchmark'].unique()[0]]\n",
    "best_benchmark_sectors = best_benchmark_sectors[[\"Symbol\", \"Name_x\", \"Sectors\"]] \n",
    "best_benchmark_sectors = best_benchmark_sectors.rename(columns={\"Name_x\": \"Name\"})\n",
    "\n",
    "# Create the analysis with sector weights\n",
    "benchmark_regression_summary = plot_benchmark_analysis(\n",
    "    regression_results=benchmark_regression_results, \n",
    "    best_benchmark=best_benchmark, \n",
    "    cols=1, \n",
    "    benchmark_sectors_df=best_benchmark_sectors,\n",
    "    portfolio_df=portfolio_df \n",
    ")"
   ]
  },
  {
   "cell_type": "markdown",
   "id": "76b26b74",
   "metadata": {},
   "source": [
    "### Step 12: Export Data to Excel"
   ]
  },
  {
   "cell_type": "code",
   "execution_count": 21,
   "id": "abf0469a",
   "metadata": {
    "execution": {
     "iopub.execute_input": "2025-06-02T13:28:34.039007Z",
     "iopub.status.busy": "2025-06-02T13:28:34.038022Z",
     "iopub.status.idle": "2025-06-02T13:28:34.050755Z",
     "shell.execute_reply": "2025-06-02T13:28:34.049152Z"
    }
   },
   "outputs": [
    {
     "name": "stdout",
     "output_type": "stream",
     "text": [
      "DSI\n"
     ]
    },
    {
     "data": {
      "application/vnd.microsoft.datawrangler.viewer.v0+json": {
       "columns": [
        {
         "name": "Equity",
         "rawType": "object",
         "type": "string"
        },
        {
         "name": "Benchmark",
         "rawType": "object",
         "type": "string"
        },
        {
         "name": "intercept (alpha)",
         "rawType": "float64",
         "type": "float"
        },
        {
         "name": "slope (beta)",
         "rawType": "float64",
         "type": "float"
        },
        {
         "name": "correlation",
         "rawType": "float64",
         "type": "float"
        },
        {
         "name": "r_squared",
         "rawType": "float64",
         "type": "float"
        },
        {
         "name": "p_value_slope",
         "rawType": "float64",
         "type": "float"
        },
        {
         "name": "p_value_intercept",
         "rawType": "float64",
         "type": "float"
        }
       ],
       "ref": "2a49c38f-0475-428d-a58b-7e52c50a854e",
       "rows": [
        [
         "GRMN",
         "DSI",
         "0.006167408250587157",
         "0.9418343123769398",
         "0.6165741361518481",
         "0.3801636653713977",
         "8.305726764115648e-14",
         "0.23686123579478868"
        ],
        [
         "MSFT",
         "DSI",
         "0.010754407320066729",
         "0.9590178991485542",
         "0.7545207545499492",
         "0.5693015690466245",
         "3.851821629638692e-23",
         "0.0034110570321157557"
        ]
       ],
       "shape": {
        "columns": 7,
        "rows": 2
       }
      },
      "text/html": [
       "<div>\n",
       "<style scoped>\n",
       "    .dataframe tbody tr th:only-of-type {\n",
       "        vertical-align: middle;\n",
       "    }\n",
       "\n",
       "    .dataframe tbody tr th {\n",
       "        vertical-align: top;\n",
       "    }\n",
       "\n",
       "    .dataframe thead th {\n",
       "        text-align: right;\n",
       "    }\n",
       "</style>\n",
       "<table border=\"1\" class=\"dataframe\">\n",
       "  <thead>\n",
       "    <tr style=\"text-align: right;\">\n",
       "      <th></th>\n",
       "      <th>Benchmark</th>\n",
       "      <th>intercept (alpha)</th>\n",
       "      <th>slope (beta)</th>\n",
       "      <th>correlation</th>\n",
       "      <th>r_squared</th>\n",
       "      <th>p_value_slope</th>\n",
       "      <th>p_value_intercept</th>\n",
       "    </tr>\n",
       "    <tr>\n",
       "      <th>Equity</th>\n",
       "      <th></th>\n",
       "      <th></th>\n",
       "      <th></th>\n",
       "      <th></th>\n",
       "      <th></th>\n",
       "      <th></th>\n",
       "      <th></th>\n",
       "    </tr>\n",
       "  </thead>\n",
       "  <tbody>\n",
       "    <tr>\n",
       "      <th>GRMN</th>\n",
       "      <td>DSI</td>\n",
       "      <td>0.006167</td>\n",
       "      <td>0.941834</td>\n",
       "      <td>0.616574</td>\n",
       "      <td>0.380164</td>\n",
       "      <td>8.305727e-14</td>\n",
       "      <td>0.236861</td>\n",
       "    </tr>\n",
       "    <tr>\n",
       "      <th>MSFT</th>\n",
       "      <td>DSI</td>\n",
       "      <td>0.010754</td>\n",
       "      <td>0.959018</td>\n",
       "      <td>0.754521</td>\n",
       "      <td>0.569302</td>\n",
       "      <td>3.851822e-23</td>\n",
       "      <td>0.003411</td>\n",
       "    </tr>\n",
       "  </tbody>\n",
       "</table>\n",
       "</div>"
      ],
      "text/plain": [
       "       Benchmark  intercept (alpha)  slope (beta)  correlation  r_squared  \\\n",
       "Equity                                                                      \n",
       "GRMN         DSI           0.006167      0.941834     0.616574   0.380164   \n",
       "MSFT         DSI           0.010754      0.959018     0.754521   0.569302   \n",
       "\n",
       "        p_value_slope  p_value_intercept  \n",
       "Equity                                    \n",
       "GRMN     8.305727e-14           0.236861  \n",
       "MSFT     3.851822e-23           0.003411  "
      ]
     },
     "execution_count": 21,
     "metadata": {},
     "output_type": "execute_result"
    }
   ],
   "source": [
    "# Set Index\n",
    "first_column = best_benchmarks_df.columns[0] # Get the name of the first column\n",
    "best_benchmarks_df.set_index(first_column, drop=True, inplace=True)\n",
    "best_benchmark = best_benchmarks_df['Benchmark'].unique()[0]\n",
    "\n",
    "# Display the best benchmark DataFrame\n",
    "print(best_benchmark)\n",
    "best_benchmarks_df"
   ]
  },
  {
   "cell_type": "code",
   "execution_count": 22,
   "id": "5875bf44",
   "metadata": {
    "execution": {
     "iopub.execute_input": "2025-06-02T13:28:34.054929Z",
     "iopub.status.busy": "2025-06-02T13:28:34.053526Z",
     "iopub.status.idle": "2025-06-02T13:28:35.789149Z",
     "shell.execute_reply": "2025-06-02T13:28:35.787254Z"
    }
   },
   "outputs": [
    {
     "name": "stdout",
     "output_type": "stream",
     "text": [
      "Updated sheet 'benchmark_short_term'\n",
      "Successfully merged data into 'daily_quotes' sheet\n",
      "Successfully merged data into 'monthly_quotes' sheet\n",
      "Successfully exported all data to portfolios/portfolio-2025-06-04.xlsx\n"
     ]
    }
   ],
   "source": [
    "export_to_excel(output_file, {\n",
    "    'benchmark_short_term': best_benchmarks_df,\n",
    "    'daily_quotes': benchmark_prices_daily_df[[best_benchmark]],  \n",
    "    'monthly_quotes': benchmark_prices_monthly_df[[best_benchmark]]   \n",
    "})"
   ]
  }
 ],
 "metadata": {
  "kernelspec": {
   "display_name": ".venv",
   "language": "python",
   "name": "python3"
  },
  "language_info": {
   "codemirror_mode": {
    "name": "ipython",
    "version": 3
   },
   "file_extension": ".py",
   "mimetype": "text/x-python",
   "name": "python",
   "nbconvert_exporter": "python",
   "pygments_lexer": "ipython3",
   "version": "3.13.3"
  },
  "widgets": {
   "application/vnd.jupyter.widget-state+json": {
    "state": {
     "045ae3d33e4e4f28bf306e11146680bf": {
      "model_module": "@jupyter-widgets/base",
      "model_module_version": "2.0.0",
      "model_name": "LayoutModel",
      "state": {
       "_model_module": "@jupyter-widgets/base",
       "_model_module_version": "2.0.0",
       "_model_name": "LayoutModel",
       "_view_count": null,
       "_view_module": "@jupyter-widgets/base",
       "_view_module_version": "2.0.0",
       "_view_name": "LayoutView",
       "align_content": null,
       "align_items": null,
       "align_self": null,
       "border_bottom": null,
       "border_left": null,
       "border_right": null,
       "border_top": null,
       "bottom": null,
       "display": null,
       "flex": null,
       "flex_flow": null,
       "grid_area": null,
       "grid_auto_columns": null,
       "grid_auto_flow": null,
       "grid_auto_rows": null,
       "grid_column": null,
       "grid_gap": null,
       "grid_row": null,
       "grid_template_areas": null,
       "grid_template_columns": null,
       "grid_template_rows": null,
       "height": null,
       "justify_content": null,
       "justify_items": null,
       "left": null,
       "margin": null,
       "max_height": null,
       "max_width": null,
       "min_height": null,
       "min_width": null,
       "object_fit": null,
       "object_position": null,
       "order": null,
       "overflow": null,
       "padding": null,
       "right": null,
       "top": null,
       "visibility": null,
       "width": null
      }
     },
     "0e994225a7124f8dacbce576f288c778": {
      "model_module": "@jupyter-widgets/base",
      "model_module_version": "2.0.0",
      "model_name": "LayoutModel",
      "state": {
       "_model_module": "@jupyter-widgets/base",
       "_model_module_version": "2.0.0",
       "_model_name": "LayoutModel",
       "_view_count": null,
       "_view_module": "@jupyter-widgets/base",
       "_view_module_version": "2.0.0",
       "_view_name": "LayoutView",
       "align_content": null,
       "align_items": null,
       "align_self": null,
       "border_bottom": null,
       "border_left": null,
       "border_right": null,
       "border_top": null,
       "bottom": null,
       "display": null,
       "flex": null,
       "flex_flow": null,
       "grid_area": null,
       "grid_auto_columns": null,
       "grid_auto_flow": null,
       "grid_auto_rows": null,
       "grid_column": null,
       "grid_gap": null,
       "grid_row": null,
       "grid_template_areas": null,
       "grid_template_columns": null,
       "grid_template_rows": null,
       "height": null,
       "justify_content": null,
       "justify_items": null,
       "left": null,
       "margin": null,
       "max_height": null,
       "max_width": null,
       "min_height": null,
       "min_width": null,
       "object_fit": null,
       "object_position": null,
       "order": null,
       "overflow": null,
       "padding": null,
       "right": null,
       "top": null,
       "visibility": null,
       "width": null
      }
     },
     "294e0b5895ac4cb5a3e52c40b52715c0": {
      "model_module": "@jupyter-widgets/controls",
      "model_module_version": "2.0.0",
      "model_name": "HBoxModel",
      "state": {
       "_dom_classes": [],
       "_model_module": "@jupyter-widgets/controls",
       "_model_module_version": "2.0.0",
       "_model_name": "HBoxModel",
       "_view_count": null,
       "_view_module": "@jupyter-widgets/controls",
       "_view_module_version": "2.0.0",
       "_view_name": "HBoxView",
       "box_style": "",
       "children": [
        "IPY_MODEL_e2d34e0235144456b14f793c3fac79ca",
        "IPY_MODEL_779190ba5571443db3c0d62d2a37f2a1",
        "IPY_MODEL_dbc34e958a6e419c9a50589872524dc3"
       ],
       "layout": "IPY_MODEL_aaa07405a0404e80af127cfe3778ac1c",
       "tabbable": null,
       "tooltip": null
      }
     },
     "434e195470de46f3af439d9f686ec13c": {
      "model_module": "@jupyter-widgets/controls",
      "model_module_version": "2.0.0",
      "model_name": "HTMLStyleModel",
      "state": {
       "_model_module": "@jupyter-widgets/controls",
       "_model_module_version": "2.0.0",
       "_model_name": "HTMLStyleModel",
       "_view_count": null,
       "_view_module": "@jupyter-widgets/base",
       "_view_module_version": "2.0.0",
       "_view_name": "StyleView",
       "background": null,
       "description_width": "",
       "font_size": null,
       "text_color": null
      }
     },
     "6cedd3aff77641849dcbf7657691054e": {
      "model_module": "@jupyter-widgets/base",
      "model_module_version": "2.0.0",
      "model_name": "LayoutModel",
      "state": {
       "_model_module": "@jupyter-widgets/base",
       "_model_module_version": "2.0.0",
       "_model_name": "LayoutModel",
       "_view_count": null,
       "_view_module": "@jupyter-widgets/base",
       "_view_module_version": "2.0.0",
       "_view_name": "LayoutView",
       "align_content": null,
       "align_items": null,
       "align_self": null,
       "border_bottom": null,
       "border_left": null,
       "border_right": null,
       "border_top": null,
       "bottom": null,
       "display": null,
       "flex": null,
       "flex_flow": null,
       "grid_area": null,
       "grid_auto_columns": null,
       "grid_auto_flow": null,
       "grid_auto_rows": null,
       "grid_column": null,
       "grid_gap": null,
       "grid_row": null,
       "grid_template_areas": null,
       "grid_template_columns": null,
       "grid_template_rows": null,
       "height": null,
       "justify_content": null,
       "justify_items": null,
       "left": null,
       "margin": null,
       "max_height": null,
       "max_width": null,
       "min_height": null,
       "min_width": null,
       "object_fit": null,
       "object_position": null,
       "order": null,
       "overflow": null,
       "padding": null,
       "right": null,
       "top": null,
       "visibility": null,
       "width": null
      }
     },
     "779190ba5571443db3c0d62d2a37f2a1": {
      "model_module": "@jupyter-widgets/controls",
      "model_module_version": "2.0.0",
      "model_name": "FloatProgressModel",
      "state": {
       "_dom_classes": [],
       "_model_module": "@jupyter-widgets/controls",
       "_model_module_version": "2.0.0",
       "_model_name": "FloatProgressModel",
       "_view_count": null,
       "_view_module": "@jupyter-widgets/controls",
       "_view_module_version": "2.0.0",
       "_view_name": "ProgressView",
       "bar_style": "success",
       "description": "",
       "description_allow_html": false,
       "layout": "IPY_MODEL_0e994225a7124f8dacbce576f288c778",
       "max": 513,
       "min": 0,
       "orientation": "horizontal",
       "style": "IPY_MODEL_7e34651eb7364339b0dac58478f22353",
       "tabbable": null,
       "tooltip": null,
       "value": 513
      }
     },
     "7e34651eb7364339b0dac58478f22353": {
      "model_module": "@jupyter-widgets/controls",
      "model_module_version": "2.0.0",
      "model_name": "ProgressStyleModel",
      "state": {
       "_model_module": "@jupyter-widgets/controls",
       "_model_module_version": "2.0.0",
       "_model_name": "ProgressStyleModel",
       "_view_count": null,
       "_view_module": "@jupyter-widgets/base",
       "_view_module_version": "2.0.0",
       "_view_name": "StyleView",
       "bar_color": null,
       "description_width": ""
      }
     },
     "aaa07405a0404e80af127cfe3778ac1c": {
      "model_module": "@jupyter-widgets/base",
      "model_module_version": "2.0.0",
      "model_name": "LayoutModel",
      "state": {
       "_model_module": "@jupyter-widgets/base",
       "_model_module_version": "2.0.0",
       "_model_name": "LayoutModel",
       "_view_count": null,
       "_view_module": "@jupyter-widgets/base",
       "_view_module_version": "2.0.0",
       "_view_name": "LayoutView",
       "align_content": null,
       "align_items": null,
       "align_self": null,
       "border_bottom": null,
       "border_left": null,
       "border_right": null,
       "border_top": null,
       "bottom": null,
       "display": null,
       "flex": null,
       "flex_flow": null,
       "grid_area": null,
       "grid_auto_columns": null,
       "grid_auto_flow": null,
       "grid_auto_rows": null,
       "grid_column": null,
       "grid_gap": null,
       "grid_row": null,
       "grid_template_areas": null,
       "grid_template_columns": null,
       "grid_template_rows": null,
       "height": null,
       "justify_content": null,
       "justify_items": null,
       "left": null,
       "margin": null,
       "max_height": null,
       "max_width": null,
       "min_height": null,
       "min_width": null,
       "object_fit": null,
       "object_position": null,
       "order": null,
       "overflow": null,
       "padding": null,
       "right": null,
       "top": null,
       "visibility": null,
       "width": null
      }
     },
     "ae061c1387cd4fb6b8a1d923d00e3685": {
      "model_module": "@jupyter-widgets/controls",
      "model_module_version": "2.0.0",
      "model_name": "HTMLStyleModel",
      "state": {
       "_model_module": "@jupyter-widgets/controls",
       "_model_module_version": "2.0.0",
       "_model_name": "HTMLStyleModel",
       "_view_count": null,
       "_view_module": "@jupyter-widgets/base",
       "_view_module_version": "2.0.0",
       "_view_name": "StyleView",
       "background": null,
       "description_width": "",
       "font_size": null,
       "text_color": null
      }
     },
     "dbc34e958a6e419c9a50589872524dc3": {
      "model_module": "@jupyter-widgets/controls",
      "model_module_version": "2.0.0",
      "model_name": "HTMLModel",
      "state": {
       "_dom_classes": [],
       "_model_module": "@jupyter-widgets/controls",
       "_model_module_version": "2.0.0",
       "_model_name": "HTMLModel",
       "_view_count": null,
       "_view_module": "@jupyter-widgets/controls",
       "_view_module_version": "2.0.0",
       "_view_name": "HTMLView",
       "description": "",
       "description_allow_html": false,
       "layout": "IPY_MODEL_045ae3d33e4e4f28bf306e11146680bf",
       "placeholder": "​",
       "style": "IPY_MODEL_434e195470de46f3af439d9f686ec13c",
       "tabbable": null,
       "tooltip": null,
       "value": " 513/513 [00:13&lt;00:00, 21.56it/s]"
      }
     },
     "e2d34e0235144456b14f793c3fac79ca": {
      "model_module": "@jupyter-widgets/controls",
      "model_module_version": "2.0.0",
      "model_name": "HTMLModel",
      "state": {
       "_dom_classes": [],
       "_model_module": "@jupyter-widgets/controls",
       "_model_module_version": "2.0.0",
       "_model_name": "HTMLModel",
       "_view_count": null,
       "_view_module": "@jupyter-widgets/controls",
       "_view_module_version": "2.0.0",
       "_view_name": "HTMLView",
       "description": "",
       "description_allow_html": false,
       "layout": "IPY_MODEL_6cedd3aff77641849dcbf7657691054e",
       "placeholder": "​",
       "style": "IPY_MODEL_ae061c1387cd4fb6b8a1d923d00e3685",
       "tabbable": null,
       "tooltip": null,
       "value": "100%"
      }
     }
    },
    "version_major": 2,
    "version_minor": 0
   }
  }
 },
 "nbformat": 4,
 "nbformat_minor": 5
}
