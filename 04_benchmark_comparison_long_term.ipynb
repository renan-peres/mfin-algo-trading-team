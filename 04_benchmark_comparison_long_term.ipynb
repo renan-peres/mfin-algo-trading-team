{
 "cells": [
  {
   "cell_type": "markdown",
   "id": "87d75d93",
   "metadata": {},
   "source": [
    "# Portfolio Performance vs. Benchmark"
   ]
  },
  {
   "cell_type": "markdown",
   "id": "03c32a8d",
   "metadata": {},
   "source": [
    "### Step 1: Import Libraries"
   ]
  },
  {
   "cell_type": "code",
   "execution_count": 17,
   "id": "af63bf54",
   "metadata": {
    "execution": {
     "iopub.execute_input": "2025-05-29T14:22:10.787415Z",
     "iopub.status.busy": "2025-05-29T14:22:10.787235Z",
     "iopub.status.idle": "2025-05-29T14:22:11.725725Z",
     "shell.execute_reply": "2025-05-29T14:22:11.724449Z"
    }
   },
   "outputs": [],
   "source": [
    "# Data manipulation libraries\n",
    "import pandas as pd\n",
    "import numpy as np\n",
    "from scipy.optimize import minimize\n",
    "from datetime import datetime, timedelta\n",
    "from pandas.tseries.offsets import BDay\n",
    "\n",
    "# Visualization libraries\n",
    "import matplotlib.pyplot as plt\n",
    "import plotly\n",
    "import plotly.express as px\n",
    "import seaborn as sns\n",
    "import plotly.graph_objects as go\n",
    "import plotly.io as pio\n",
    "from IPython.display import Image, display\n",
    "\n",
    "# System libraries\n",
    "import os\n",
    "import sys\n",
    "import glob\n",
    "import logging\n",
    "import warnings\n",
    "\n",
    "warnings.filterwarnings(\"ignore\", category=UserWarning)  # Font warnings\n",
    "warnings.filterwarnings(\"ignore\", category=FutureWarning, message=\".*inplace.*\")  # Pandas warnings\n",
    "logging.getLogger('matplotlib.font_manager').disabled = True"
   ]
  },
  {
   "cell_type": "code",
   "execution_count": 18,
   "id": "99e4f182",
   "metadata": {
    "execution": {
     "iopub.execute_input": "2025-05-29T14:22:11.729669Z",
     "iopub.status.busy": "2025-05-29T14:22:11.729094Z",
     "iopub.status.idle": "2025-05-29T14:22:11.963641Z",
     "shell.execute_reply": "2025-05-29T14:22:11.962833Z"
    }
   },
   "outputs": [],
   "source": [
    "from py.quantstats_fix import *\n",
    "from py.utils import load_and_filter_data, export_to_excel\n",
    "qs.extend_pandas()"
   ]
  },
  {
   "cell_type": "markdown",
   "id": "32933b31",
   "metadata": {},
   "source": [
    "### Step 2: Define Parameters "
   ]
  },
  {
   "cell_type": "markdown",
   "id": "534662b1",
   "metadata": {},
   "source": [
    "#### Dates"
   ]
  },
  {
   "cell_type": "code",
   "execution_count": 19,
   "id": "6157c2ed",
   "metadata": {
    "execution": {
     "iopub.execute_input": "2025-05-29T14:22:11.966299Z",
     "iopub.status.busy": "2025-05-29T14:22:11.965721Z",
     "iopub.status.idle": "2025-05-29T14:22:11.971936Z",
     "shell.execute_reply": "2025-05-29T14:22:11.971209Z"
    }
   },
   "outputs": [
    {
     "name": "stdout",
     "output_type": "stream",
     "text": [
      "Date Range: 2015-06-07 to 2025-06-04\n",
      "Time span: 3650 days (10.00 years)\n"
     ]
    }
   ],
   "source": [
    "# Define the date range\n",
    "end_date = (datetime.today() - BDay(1)).to_pydatetime()  # Subtract 1 business day\n",
    "# end_date = pd.to_datetime('2025-04-26')  # Report date\n",
    "start_date = end_date - timedelta(days=10*365)\n",
    "\n",
    "# Convert datetime objects to Unix timestamps (seconds since Jan 1, 1970)\n",
    "start_timestamp = int(start_date.timestamp())\n",
    "end_timestamp = int(end_date.timestamp())\n",
    "\n",
    "# Print the date range\n",
    "days_difference = (end_date - start_date).days\n",
    "print(f\"Date Range: {start_date.strftime('%Y-%m-%d')} to {end_date.strftime('%Y-%m-%d')}\")\n",
    "print(f\"Time span: {days_difference} days ({days_difference/365:.2f} years)\")"
   ]
  },
  {
   "cell_type": "markdown",
   "id": "d116c468",
   "metadata": {},
   "source": [
    "#### Report File"
   ]
  },
  {
   "cell_type": "code",
   "execution_count": 20,
   "id": "fea8a2eb",
   "metadata": {},
   "outputs": [
    {
     "name": "stdout",
     "output_type": "stream",
     "text": [
      "Using most recent portfolio file: portfolios/portfolio-2025-06-04.xlsx\n"
     ]
    }
   ],
   "source": [
    "# Get the most recent portfolio file\n",
    "portfolio_files = glob.glob('portfolios/portfolio-*.xlsx')\n",
    "if portfolio_files:\n",
    "    # Sort files by modification time (most recent first)\n",
    "    output_file = max(portfolio_files, key=os.path.getmtime)\n",
    "    print(f\"Using most recent portfolio file: {output_file}\")\n",
    "else:\n",
    "    # Fallback to current date if no files found\n",
    "    output_file = f'portfolios/portfolio-{datetime.date(end_date)}.xlsx'\n",
    "    print(f\"No portfolio files found. Using: {output_file}\")"
   ]
  },
  {
   "cell_type": "markdown",
   "id": "716f13a4",
   "metadata": {},
   "source": [
    "#### Benchmark"
   ]
  },
  {
   "cell_type": "code",
   "execution_count": 21,
   "id": "76222543",
   "metadata": {
    "execution": {
     "iopub.execute_input": "2025-05-29T14:22:11.974897Z",
     "iopub.status.busy": "2025-05-29T14:22:11.974290Z",
     "iopub.status.idle": "2025-05-29T14:22:12.050624Z",
     "shell.execute_reply": "2025-05-29T14:22:12.049202Z"
    }
   },
   "outputs": [
    {
     "name": "stdout",
     "output_type": "stream",
     "text": [
      "PCEF\n"
     ]
    }
   ],
   "source": [
    "# benchmark = 'ADME'\n",
    "benchmark = pd.read_excel(output_file, sheet_name=\"benchmark_long_term\")['Benchmark'].values[0]\n",
    "print(benchmark)"
   ]
  },
  {
   "cell_type": "markdown",
   "id": "45c2abd8",
   "metadata": {},
   "source": [
    "#### Risk-free rate (T-bill, %)"
   ]
  },
  {
   "cell_type": "code",
   "execution_count": 22,
   "id": "5349aec6",
   "metadata": {
    "execution": {
     "iopub.execute_input": "2025-05-29T14:22:12.053427Z",
     "iopub.status.busy": "2025-05-29T14:22:12.053221Z",
     "iopub.status.idle": "2025-05-29T14:22:12.176538Z",
     "shell.execute_reply": "2025-05-29T14:22:12.174130Z"
    }
   },
   "outputs": [
    {
     "name": "stdout",
     "output_type": "stream",
     "text": [
      "Risk-Free Rate: 0.0424 -- 13 WEEK TREASURY BILL (^IRX)\n"
     ]
    }
   ],
   "source": [
    "# Load and process data\n",
    "risk_free_df = pd.read_excel(output_file, sheet_name=\"daily_quotes\", index_col=0)['^IRX']\n",
    "# risk_free_rate  = 0.0433                              # 3‑month T‑Bill\n",
    "risk_free_rate = risk_free_df.iloc[-1] / 100 \n",
    "\n",
    "# Display result\n",
    "print(\"Risk-Free Rate:\", risk_free_rate, \"-- 13 WEEK TREASURY BILL (^IRX)\")"
   ]
  },
  {
   "cell_type": "markdown",
   "id": "49293477",
   "metadata": {},
   "source": [
    "### Step 3: Read Portfolio Data (Excel)"
   ]
  },
  {
   "cell_type": "code",
   "execution_count": 23,
   "id": "c7f5a054",
   "metadata": {
    "execution": {
     "iopub.execute_input": "2025-05-29T14:22:12.179403Z",
     "iopub.status.busy": "2025-05-29T14:22:12.179103Z",
     "iopub.status.idle": "2025-05-29T14:22:12.218868Z",
     "shell.execute_reply": "2025-05-29T14:22:12.218104Z"
    }
   },
   "outputs": [
    {
     "name": "stdout",
     "output_type": "stream",
     "text": [
      "['MMC', 'AMAT', 'TMUS', 'MRK', 'APO', 'PG']\n"
     ]
    },
    {
     "data": {
      "application/vnd.microsoft.datawrangler.viewer.v0+json": {
       "columns": [
        {
         "name": "index",
         "rawType": "int64",
         "type": "integer"
        },
        {
         "name": "Ticker",
         "rawType": "object",
         "type": "string"
        },
        {
         "name": "Date",
         "rawType": "object",
         "type": "string"
        },
        {
         "name": "Name",
         "rawType": "object",
         "type": "string"
        },
        {
         "name": "Sector",
         "rawType": "object",
         "type": "string"
        },
        {
         "name": "Industry",
         "rawType": "object",
         "type": "string"
        },
        {
         "name": "Country",
         "rawType": "object",
         "type": "string"
        },
        {
         "name": "Website",
         "rawType": "object",
         "type": "string"
        },
        {
         "name": "Market Cap",
         "rawType": "int64",
         "type": "integer"
        },
        {
         "name": "Enterprise Value",
         "rawType": "int64",
         "type": "integer"
        },
        {
         "name": "Float Shares",
         "rawType": "int64",
         "type": "integer"
        },
        {
         "name": "Shares Outstanding",
         "rawType": "int64",
         "type": "integer"
        },
        {
         "name": "P/E (trailing)",
         "rawType": "float64",
         "type": "float"
        },
        {
         "name": "P/E (forward)",
         "rawType": "float64",
         "type": "float"
        },
        {
         "name": "P/S",
         "rawType": "float64",
         "type": "float"
        },
        {
         "name": "P/B",
         "rawType": "float64",
         "type": "float"
        },
        {
         "name": "EV/EBITDA",
         "rawType": "float64",
         "type": "float"
        },
        {
         "name": "EV/Revenue",
         "rawType": "float64",
         "type": "float"
        },
        {
         "name": "Gross Margin (%)",
         "rawType": "float64",
         "type": "float"
        },
        {
         "name": "EBITDA Margin (%)",
         "rawType": "float64",
         "type": "float"
        },
        {
         "name": "Operating Margin (%)",
         "rawType": "float64",
         "type": "float"
        },
        {
         "name": "Profit Margin (%)",
         "rawType": "float64",
         "type": "float"
        },
        {
         "name": "ROE",
         "rawType": "float64",
         "type": "float"
        },
        {
         "name": "ROA",
         "rawType": "float64",
         "type": "float"
        },
        {
         "name": "Revenue (TTM)",
         "rawType": "int64",
         "type": "integer"
        },
        {
         "name": "Revenue Growth (%)",
         "rawType": "float64",
         "type": "float"
        },
        {
         "name": "EPS (trailing)",
         "rawType": "float64",
         "type": "float"
        },
        {
         "name": "EPS (forward)",
         "rawType": "float64",
         "type": "float"
        },
        {
         "name": "Earnings Growth (%)",
         "rawType": "float64",
         "type": "float"
        },
        {
         "name": "Earnings Quarterly Growth (%)",
         "rawType": "float64",
         "type": "float"
        },
        {
         "name": "Total Cash",
         "rawType": "int64",
         "type": "integer"
        },
        {
         "name": "Total Debt",
         "rawType": "int64",
         "type": "integer"
        },
        {
         "name": "Debt to Equity",
         "rawType": "float64",
         "type": "float"
        },
        {
         "name": "Current Ratio",
         "rawType": "float64",
         "type": "float"
        },
        {
         "name": "Quick Ratio",
         "rawType": "float64",
         "type": "float"
        },
        {
         "name": "Book Value",
         "rawType": "float64",
         "type": "float"
        },
        {
         "name": "Free Cash Flow",
         "rawType": "float64",
         "type": "float"
        },
        {
         "name": "Operating Cash Flow",
         "rawType": "int64",
         "type": "integer"
        },
        {
         "name": "Dividend Yield (%)",
         "rawType": "float64",
         "type": "float"
        },
        {
         "name": "Dividend Rate (%)",
         "rawType": "float64",
         "type": "float"
        },
        {
         "name": "5Y Avg Dividend Yield (%)",
         "rawType": "float64",
         "type": "float"
        },
        {
         "name": "Payout Ratio (%)",
         "rawType": "float64",
         "type": "float"
        },
        {
         "name": "Price",
         "rawType": "float64",
         "type": "float"
        },
        {
         "name": "Target Price",
         "rawType": "float64",
         "type": "float"
        },
        {
         "name": "Target High",
         "rawType": "int64",
         "type": "integer"
        },
        {
         "name": "Target Low",
         "rawType": "float64",
         "type": "float"
        },
        {
         "name": "Analyst Rating",
         "rawType": "object",
         "type": "string"
        },
        {
         "name": "Analyst Rating Value",
         "rawType": "float64",
         "type": "float"
        },
        {
         "name": "Beta",
         "rawType": "float64",
         "type": "float"
        },
        {
         "name": "52W High",
         "rawType": "float64",
         "type": "float"
        },
        {
         "name": "52W Low",
         "rawType": "float64",
         "type": "float"
        },
        {
         "name": "50 Day Avg",
         "rawType": "float64",
         "type": "float"
        },
        {
         "name": "200 Day Avg",
         "rawType": "float64",
         "type": "float"
        },
        {
         "name": "Short Ratio",
         "rawType": "float64",
         "type": "float"
        },
        {
         "name": "Short % of Float",
         "rawType": "float64",
         "type": "float"
        },
        {
         "name": "Weight",
         "rawType": "float64",
         "type": "float"
        },
        {
         "name": "Expected Return",
         "rawType": "float64",
         "type": "float"
        },
        {
         "name": "Standard Deviation",
         "rawType": "float64",
         "type": "float"
        },
        {
         "name": "Sharpe Ratio",
         "rawType": "float64",
         "type": "float"
        }
       ],
       "ref": "614e0fd5-d965-4922-bac1-06071abd9e2b",
       "rows": [
        [
         "0",
         "MMC",
         "2025-06-02",
         "Marsh & McLennan Companies, Inc.",
         "Financial Services",
         "Insurance Brokers",
         "United States",
         "https://www.marshmclennan.com",
         "115130826752",
         "136148770816",
         "491821141",
         "492728000",
         "28.67",
         "24.78",
         "4.6",
         "8.18",
         "18.35",
         "5.44",
         "0.4432",
         "0.2962",
         "0.3044",
         "0.1613",
         "0.31",
         "0.08",
         "25045999616",
         "0.091",
         "8.15",
         "9.43",
         "-0.011",
         "-0.014",
         "1604000000",
         "22418999296",
         "157.13",
         "1.14",
         "0.5",
         "28.55",
         "4121999872.0",
         "4461000192",
         "0.014",
         "0.0326",
         "0.0138",
         "0.4871",
         "233.66",
         "233.22",
         "276",
         "189.21",
         "hold",
         "2.7",
         "0.83",
         "248.0",
         "205.17",
         "229.54",
         "225.3",
         "2.62",
         "0.01",
         "0.304185034385935",
         "0.143128110293758",
         "0.2128958110536134",
         "0.6722918106534007"
        ],
        [
         "1",
         "AMAT",
         "2025-06-02",
         "Applied Materials, Inc.",
         "Technology",
         "Semiconductor Equipment & Materials",
         "United States",
         "https://www.appliedmaterials.com",
         "125791559680",
         "125714595840",
         "799392549",
         "802497984",
         "19.09",
         "16.18",
         "4.48",
         "6.63",
         "14.38",
         "4.48",
         "0.4814",
         "0.3113",
         "0.3055",
         "0.2406",
         "0.36",
         "0.16",
         "28088999936",
         "0.068",
         "8.21",
         "9.69",
         "0.277",
         "0.241",
         "6746999808",
         "6670000128",
         "35.18",
         "2.46",
         "1.62",
         "23.63",
         "3740875008.0",
         "7456000000",
         "0.0117",
         "0.0184",
         "0.0087",
         "0.1946",
         "156.75",
         "198.04",
         "250",
         "152.0",
         "buy",
         "1.79",
         "1.66",
         "255.89",
         "123.74",
         "151.52",
         "173.39",
         "2.58",
         "0.02",
         "0.2262441160445363",
         "0.1823706331813564",
         "0.41231053996912",
         "0.4423137793057995"
        ],
        [
         "2",
         "TMUS",
         "2025-06-02",
         "T-Mobile US, Inc.",
         "Communication Services",
         "Telecom Services",
         "United States",
         "https://www.t-mobile.com",
         "275005997056",
         "384693796864",
         "452736028",
         "1135449984",
         "23.63",
         "22.7",
         "3.33",
         "4.51",
         "12.17",
         "4.65",
         "0.6385",
         "0.3822",
         "0.2298",
         "0.1441",
         "0.19",
         "0.06",
         "82691997696",
         "0.066",
         "10.25",
         "10.67",
         "0.29",
         "0.244",
         "12003000320",
         "121691996160",
         "199.15",
         "1.16",
         "0.9",
         "53.73",
         "9022624768.0",
         "24056000512",
         "0.0145",
         "0.0352",
         "0.0",
         "0.2988",
         "242.2",
         "269.22",
         "305",
         "202.99",
         "buy",
         "2.07",
         "0.63",
         "276.49",
         "171.18",
         "251.2",
         "232.97",
         "3.11",
         "0.03",
         "0.1953223567175497",
         "0.127136773740284",
         "0.2757763889339081",
         "0.4610139911968797"
        ],
        [
         "3",
         "MRK",
         "2025-06-02",
         "Merck & Co., Inc.",
         "Healthcare",
         "Drug Manufacturers - General",
         "United States",
         "https://www.merck.com",
         "192947535872",
         "218628636672",
         "2507088934",
         "2511030016",
         "11.17",
         "8.17",
         "3.02",
         "4.0",
         "7.59",
         "3.42",
         "0.7707",
         "0.4505",
         "0.4006",
         "0.2727",
         "0.39",
         "0.14",
         "63921999872",
         "-0.016",
         "6.88",
         "9.4",
         "0.075",
         "0.067",
         "9228000256",
         "34844000256",
         "71.99",
         "1.41",
         "0.83",
         "19.21",
         "17124249600.0",
         "20878000128",
         "0.0422",
         "0.0324",
         "0.0297",
         "0.4593",
         "76.84",
         "101.79",
         "138",
         "82.0",
         "buy",
         "1.96",
         "0.44",
         "134.63",
         "73.31",
         "81.27",
         "97.4",
         "2.49",
         "0.02",
         "0.1508982223923648",
         "0.09664928454637756",
         "0.2206818911105665",
         "0.4379574783413204"
        ],
        [
         "4",
         "APO",
         "2025-06-02",
         "Apollo Global Management, Inc.",
         "Financial Services",
         "Asset Management",
         "United States",
         "https://www.apollo.com/institutional/homepage",
         "74688552960",
         "94705582080",
         "446479870",
         "571494016",
         "22.85",
         "15.41",
         "3.06",
         "4.5",
         null,
         "3.88",
         "0.4424",
         "0.0",
         "0.2954",
         "0.1473",
         "0.19",
         "0.02",
         "24387000320",
         "-0.215",
         "5.72",
         "8.48",
         "-0.703",
         "-0.69",
         "25016999936",
         "29268000768",
         "90.49",
         "1.79",
         "1.68",
         "29.06",
         null,
         "4195000064",
         "0.0156",
         "0.0204",
         "0.0276",
         "0.3229",
         "130.69",
         "156.88",
         "179",
         "135.0",
         "buy",
         "1.68",
         "1.57",
         "189.49",
         "95.11",
         "133.28",
         "143.86",
         "7.75",
         "0.05",
         "0.06409846385733795",
         "0.1302023501765026",
         "0.3792060489130704",
         "0.3433551509784865"
        ],
        [
         "5",
         "PG",
         "2025-06-02",
         "The Procter & Gamble Company",
         "Consumer Defensive",
         "Household & Personal Products",
         "United States",
         "https://www.pginvestor.com",
         "398313881600",
         "424393244672",
         "2341001776",
         "2344539904",
         "26.97",
         "22.9",
         "4.75",
         "7.74",
         "17.55",
         "5.06",
         "0.5169",
         "0.2882",
         "0.233",
         "0.1846",
         "0.3",
         "0.11",
         "83926999040",
         "-0.021",
         "6.3",
         "7.42",
         "0.013",
         "0.004",
         "9116000256",
         "34140999680",
         "64.97",
         "0.71",
         "0.44",
         "21.96",
         "12618874880.0",
         "18585999360",
         "0.0249",
         "0.0423",
         "0.0239",
         "0.639",
         "169.89",
         "171.84",
         "186",
         "140.0",
         "buy",
         "1.96",
         "0.43",
         "180.43",
         "156.58",
         "164.46",
         "168.48",
         "2.31",
         "0.01",
         "0.05925180660227629",
         "0.09125960427917357",
         "0.1931339815336767",
         "0.4725196651282243"
        ]
       ],
       "shape": {
        "columns": 58,
        "rows": 6
       }
      },
      "text/html": [
       "<div>\n",
       "<style scoped>\n",
       "    .dataframe tbody tr th:only-of-type {\n",
       "        vertical-align: middle;\n",
       "    }\n",
       "\n",
       "    .dataframe tbody tr th {\n",
       "        vertical-align: top;\n",
       "    }\n",
       "\n",
       "    .dataframe thead th {\n",
       "        text-align: right;\n",
       "    }\n",
       "</style>\n",
       "<table border=\"1\" class=\"dataframe\">\n",
       "  <thead>\n",
       "    <tr style=\"text-align: right;\">\n",
       "      <th></th>\n",
       "      <th>Ticker</th>\n",
       "      <th>Date</th>\n",
       "      <th>Name</th>\n",
       "      <th>Sector</th>\n",
       "      <th>Industry</th>\n",
       "      <th>Country</th>\n",
       "      <th>Website</th>\n",
       "      <th>Market Cap</th>\n",
       "      <th>Enterprise Value</th>\n",
       "      <th>Float Shares</th>\n",
       "      <th>...</th>\n",
       "      <th>52W High</th>\n",
       "      <th>52W Low</th>\n",
       "      <th>50 Day Avg</th>\n",
       "      <th>200 Day Avg</th>\n",
       "      <th>Short Ratio</th>\n",
       "      <th>Short % of Float</th>\n",
       "      <th>Weight</th>\n",
       "      <th>Expected Return</th>\n",
       "      <th>Standard Deviation</th>\n",
       "      <th>Sharpe Ratio</th>\n",
       "    </tr>\n",
       "  </thead>\n",
       "  <tbody>\n",
       "    <tr>\n",
       "      <th>0</th>\n",
       "      <td>MMC</td>\n",
       "      <td>2025-06-02</td>\n",
       "      <td>Marsh &amp; McLennan Companies, Inc.</td>\n",
       "      <td>Financial Services</td>\n",
       "      <td>Insurance Brokers</td>\n",
       "      <td>United States</td>\n",
       "      <td>https://www.marshmclennan.com</td>\n",
       "      <td>115130826752</td>\n",
       "      <td>136148770816</td>\n",
       "      <td>491821141</td>\n",
       "      <td>...</td>\n",
       "      <td>248.00</td>\n",
       "      <td>205.17</td>\n",
       "      <td>229.54</td>\n",
       "      <td>225.30</td>\n",
       "      <td>2.62</td>\n",
       "      <td>0.01</td>\n",
       "      <td>0.304185</td>\n",
       "      <td>0.143128</td>\n",
       "      <td>0.212896</td>\n",
       "      <td>0.672292</td>\n",
       "    </tr>\n",
       "    <tr>\n",
       "      <th>1</th>\n",
       "      <td>AMAT</td>\n",
       "      <td>2025-06-02</td>\n",
       "      <td>Applied Materials, Inc.</td>\n",
       "      <td>Technology</td>\n",
       "      <td>Semiconductor Equipment &amp; Materials</td>\n",
       "      <td>United States</td>\n",
       "      <td>https://www.appliedmaterials.com</td>\n",
       "      <td>125791559680</td>\n",
       "      <td>125714595840</td>\n",
       "      <td>799392549</td>\n",
       "      <td>...</td>\n",
       "      <td>255.89</td>\n",
       "      <td>123.74</td>\n",
       "      <td>151.52</td>\n",
       "      <td>173.39</td>\n",
       "      <td>2.58</td>\n",
       "      <td>0.02</td>\n",
       "      <td>0.226244</td>\n",
       "      <td>0.182371</td>\n",
       "      <td>0.412311</td>\n",
       "      <td>0.442314</td>\n",
       "    </tr>\n",
       "    <tr>\n",
       "      <th>2</th>\n",
       "      <td>TMUS</td>\n",
       "      <td>2025-06-02</td>\n",
       "      <td>T-Mobile US, Inc.</td>\n",
       "      <td>Communication Services</td>\n",
       "      <td>Telecom Services</td>\n",
       "      <td>United States</td>\n",
       "      <td>https://www.t-mobile.com</td>\n",
       "      <td>275005997056</td>\n",
       "      <td>384693796864</td>\n",
       "      <td>452736028</td>\n",
       "      <td>...</td>\n",
       "      <td>276.49</td>\n",
       "      <td>171.18</td>\n",
       "      <td>251.20</td>\n",
       "      <td>232.97</td>\n",
       "      <td>3.11</td>\n",
       "      <td>0.03</td>\n",
       "      <td>0.195322</td>\n",
       "      <td>0.127137</td>\n",
       "      <td>0.275776</td>\n",
       "      <td>0.461014</td>\n",
       "    </tr>\n",
       "    <tr>\n",
       "      <th>3</th>\n",
       "      <td>MRK</td>\n",
       "      <td>2025-06-02</td>\n",
       "      <td>Merck &amp; Co., Inc.</td>\n",
       "      <td>Healthcare</td>\n",
       "      <td>Drug Manufacturers - General</td>\n",
       "      <td>United States</td>\n",
       "      <td>https://www.merck.com</td>\n",
       "      <td>192947535872</td>\n",
       "      <td>218628636672</td>\n",
       "      <td>2507088934</td>\n",
       "      <td>...</td>\n",
       "      <td>134.63</td>\n",
       "      <td>73.31</td>\n",
       "      <td>81.27</td>\n",
       "      <td>97.40</td>\n",
       "      <td>2.49</td>\n",
       "      <td>0.02</td>\n",
       "      <td>0.150898</td>\n",
       "      <td>0.096649</td>\n",
       "      <td>0.220682</td>\n",
       "      <td>0.437957</td>\n",
       "    </tr>\n",
       "    <tr>\n",
       "      <th>4</th>\n",
       "      <td>APO</td>\n",
       "      <td>2025-06-02</td>\n",
       "      <td>Apollo Global Management, Inc.</td>\n",
       "      <td>Financial Services</td>\n",
       "      <td>Asset Management</td>\n",
       "      <td>United States</td>\n",
       "      <td>https://www.apollo.com/institutional/homepage</td>\n",
       "      <td>74688552960</td>\n",
       "      <td>94705582080</td>\n",
       "      <td>446479870</td>\n",
       "      <td>...</td>\n",
       "      <td>189.49</td>\n",
       "      <td>95.11</td>\n",
       "      <td>133.28</td>\n",
       "      <td>143.86</td>\n",
       "      <td>7.75</td>\n",
       "      <td>0.05</td>\n",
       "      <td>0.064098</td>\n",
       "      <td>0.130202</td>\n",
       "      <td>0.379206</td>\n",
       "      <td>0.343355</td>\n",
       "    </tr>\n",
       "    <tr>\n",
       "      <th>5</th>\n",
       "      <td>PG</td>\n",
       "      <td>2025-06-02</td>\n",
       "      <td>The Procter &amp; Gamble Company</td>\n",
       "      <td>Consumer Defensive</td>\n",
       "      <td>Household &amp; Personal Products</td>\n",
       "      <td>United States</td>\n",
       "      <td>https://www.pginvestor.com</td>\n",
       "      <td>398313881600</td>\n",
       "      <td>424393244672</td>\n",
       "      <td>2341001776</td>\n",
       "      <td>...</td>\n",
       "      <td>180.43</td>\n",
       "      <td>156.58</td>\n",
       "      <td>164.46</td>\n",
       "      <td>168.48</td>\n",
       "      <td>2.31</td>\n",
       "      <td>0.01</td>\n",
       "      <td>0.059252</td>\n",
       "      <td>0.091260</td>\n",
       "      <td>0.193134</td>\n",
       "      <td>0.472520</td>\n",
       "    </tr>\n",
       "  </tbody>\n",
       "</table>\n",
       "<p>6 rows × 58 columns</p>\n",
       "</div>"
      ],
      "text/plain": [
       "  Ticker        Date                              Name  \\\n",
       "0    MMC  2025-06-02  Marsh & McLennan Companies, Inc.   \n",
       "1   AMAT  2025-06-02           Applied Materials, Inc.   \n",
       "2   TMUS  2025-06-02                 T-Mobile US, Inc.   \n",
       "3    MRK  2025-06-02                 Merck & Co., Inc.   \n",
       "4    APO  2025-06-02    Apollo Global Management, Inc.   \n",
       "5     PG  2025-06-02      The Procter & Gamble Company   \n",
       "\n",
       "                   Sector                             Industry        Country  \\\n",
       "0      Financial Services                    Insurance Brokers  United States   \n",
       "1              Technology  Semiconductor Equipment & Materials  United States   \n",
       "2  Communication Services                     Telecom Services  United States   \n",
       "3              Healthcare         Drug Manufacturers - General  United States   \n",
       "4      Financial Services                     Asset Management  United States   \n",
       "5      Consumer Defensive        Household & Personal Products  United States   \n",
       "\n",
       "                                         Website    Market Cap  \\\n",
       "0                  https://www.marshmclennan.com  115130826752   \n",
       "1               https://www.appliedmaterials.com  125791559680   \n",
       "2                       https://www.t-mobile.com  275005997056   \n",
       "3                          https://www.merck.com  192947535872   \n",
       "4  https://www.apollo.com/institutional/homepage   74688552960   \n",
       "5                     https://www.pginvestor.com  398313881600   \n",
       "\n",
       "   Enterprise Value  Float Shares  ...  52W High  52W Low  50 Day Avg  \\\n",
       "0      136148770816     491821141  ...    248.00   205.17      229.54   \n",
       "1      125714595840     799392549  ...    255.89   123.74      151.52   \n",
       "2      384693796864     452736028  ...    276.49   171.18      251.20   \n",
       "3      218628636672    2507088934  ...    134.63    73.31       81.27   \n",
       "4       94705582080     446479870  ...    189.49    95.11      133.28   \n",
       "5      424393244672    2341001776  ...    180.43   156.58      164.46   \n",
       "\n",
       "   200 Day Avg  Short Ratio  Short % of Float    Weight  Expected Return  \\\n",
       "0       225.30         2.62              0.01  0.304185         0.143128   \n",
       "1       173.39         2.58              0.02  0.226244         0.182371   \n",
       "2       232.97         3.11              0.03  0.195322         0.127137   \n",
       "3        97.40         2.49              0.02  0.150898         0.096649   \n",
       "4       143.86         7.75              0.05  0.064098         0.130202   \n",
       "5       168.48         2.31              0.01  0.059252         0.091260   \n",
       "\n",
       "   Standard Deviation  Sharpe Ratio  \n",
       "0            0.212896      0.672292  \n",
       "1            0.412311      0.442314  \n",
       "2            0.275776      0.461014  \n",
       "3            0.220682      0.437957  \n",
       "4            0.379206      0.343355  \n",
       "5            0.193134      0.472520  \n",
       "\n",
       "[6 rows x 58 columns]"
      ]
     },
     "metadata": {},
     "output_type": "display_data"
    }
   ],
   "source": [
    "portfolio_df = pd.read_excel(output_file, sheet_name=\"long_term\")\n",
    "\n",
    "# Convert percentage strings to float values\n",
    "portfolio_df['Weight'] = portfolio_df['Weight'].replace('%', '', regex=True).astype(float)\n",
    "portfolio_tickers = portfolio_df[\"Ticker\"].tolist()\n",
    "\n",
    "print(portfolio_tickers)\n",
    "display(portfolio_df)"
   ]
  },
  {
   "cell_type": "markdown",
   "id": "ff3d536d",
   "metadata": {},
   "source": [
    "### Step 4: Download Returns"
   ]
  },
  {
   "cell_type": "code",
   "execution_count": 24,
   "id": "240dc240",
   "metadata": {
    "execution": {
     "iopub.execute_input": "2025-05-29T14:22:12.221516Z",
     "iopub.status.busy": "2025-05-29T14:22:12.221316Z",
     "iopub.status.idle": "2025-05-29T14:22:12.626923Z",
     "shell.execute_reply": "2025-05-29T14:22:12.625973Z"
    }
   },
   "outputs": [
    {
     "name": "stdout",
     "output_type": "stream",
     "text": [
      "Found 6 of 6 tickers in data/daily_stock_quotes.csv\n",
      "Missing tickers: []\n",
      "Found 1 of 1 tickers in data/daily_benchmark_quotes.csv\n",
      "Missing tickers: []\n",
      "\n",
      "Sharpe Ratios for individual assets:\n",
      "AMAT: 0.5384\n",
      "APO: 0.5959\n",
      "MMC: 0.7688\n",
      "MRK: 0.2860\n",
      "PG: 0.5526\n",
      "TMUS: 0.6934\n"
     ]
    },
    {
     "data": {
      "application/vnd.microsoft.datawrangler.viewer.v0+json": {
       "columns": [
        {
         "name": "Date",
         "rawType": "datetime64[ns]",
         "type": "datetime"
        },
        {
         "name": "AMAT",
         "rawType": "float64",
         "type": "float"
        },
        {
         "name": "APO",
         "rawType": "float64",
         "type": "float"
        },
        {
         "name": "MMC",
         "rawType": "float64",
         "type": "float"
        },
        {
         "name": "MRK",
         "rawType": "float64",
         "type": "float"
        },
        {
         "name": "PG",
         "rawType": "float64",
         "type": "float"
        },
        {
         "name": "TMUS",
         "rawType": "float64",
         "type": "float"
        }
       ],
       "ref": "776f3d05-603b-4fc9-a13c-3fbfdc769eae",
       "rows": [
        [
         "2015-06-09 00:00:00",
         "0.001701162871272144",
         "-0.03493805136128046",
         "0.003888268482109368",
         "-0.00048367594655136006",
         "0.0153498839115993",
         "-0.01776895457533739"
        ],
        [
         "2015-06-10 00:00:00",
         "0.006775858787254222",
         "0.00221975673831281",
         "0.016006825400531183",
         "0.012977831748713815",
         "0.008002710265624043",
         "-0.003168737797965971"
        ],
        [
         "2015-06-11 00:00:00",
         "-0.013027655222523011",
         "0.0022148403295528213",
         "0.008008050803342751",
         "-0.004307257197580332",
         "-0.0016619581688140388",
         "-0.014116628085451043"
        ],
        [
         "2015-06-12 00:00:00",
         "-0.008013780723553656",
         "-0.005917177028088507",
         "-0.0037958291505675312",
         "-0.01790514807350351",
         "-0.006843054325872588",
         "0.022806610354882566"
        ],
        [
         "2015-06-15 00:00:00",
         "0.004587164006906141",
         "-0.0052064081905738606",
         "-0.005016565150795643",
         "-0.013023897078572842",
         "-0.00959199613456992",
         "-0.0010493180396177462"
        ]
       ],
       "shape": {
        "columns": 6,
        "rows": 5
       }
      },
      "text/html": [
       "<div>\n",
       "<style scoped>\n",
       "    .dataframe tbody tr th:only-of-type {\n",
       "        vertical-align: middle;\n",
       "    }\n",
       "\n",
       "    .dataframe tbody tr th {\n",
       "        vertical-align: top;\n",
       "    }\n",
       "\n",
       "    .dataframe thead th {\n",
       "        text-align: right;\n",
       "    }\n",
       "</style>\n",
       "<table border=\"1\" class=\"dataframe\">\n",
       "  <thead>\n",
       "    <tr style=\"text-align: right;\">\n",
       "      <th></th>\n",
       "      <th>AMAT</th>\n",
       "      <th>APO</th>\n",
       "      <th>MMC</th>\n",
       "      <th>MRK</th>\n",
       "      <th>PG</th>\n",
       "      <th>TMUS</th>\n",
       "    </tr>\n",
       "    <tr>\n",
       "      <th>Date</th>\n",
       "      <th></th>\n",
       "      <th></th>\n",
       "      <th></th>\n",
       "      <th></th>\n",
       "      <th></th>\n",
       "      <th></th>\n",
       "    </tr>\n",
       "  </thead>\n",
       "  <tbody>\n",
       "    <tr>\n",
       "      <th>2015-06-09</th>\n",
       "      <td>0.001701</td>\n",
       "      <td>-0.034938</td>\n",
       "      <td>0.003888</td>\n",
       "      <td>-0.000484</td>\n",
       "      <td>0.015350</td>\n",
       "      <td>-0.017769</td>\n",
       "    </tr>\n",
       "    <tr>\n",
       "      <th>2015-06-10</th>\n",
       "      <td>0.006776</td>\n",
       "      <td>0.002220</td>\n",
       "      <td>0.016007</td>\n",
       "      <td>0.012978</td>\n",
       "      <td>0.008003</td>\n",
       "      <td>-0.003169</td>\n",
       "    </tr>\n",
       "    <tr>\n",
       "      <th>2015-06-11</th>\n",
       "      <td>-0.013028</td>\n",
       "      <td>0.002215</td>\n",
       "      <td>0.008008</td>\n",
       "      <td>-0.004307</td>\n",
       "      <td>-0.001662</td>\n",
       "      <td>-0.014117</td>\n",
       "    </tr>\n",
       "    <tr>\n",
       "      <th>2015-06-12</th>\n",
       "      <td>-0.008014</td>\n",
       "      <td>-0.005917</td>\n",
       "      <td>-0.003796</td>\n",
       "      <td>-0.017905</td>\n",
       "      <td>-0.006843</td>\n",
       "      <td>0.022807</td>\n",
       "    </tr>\n",
       "    <tr>\n",
       "      <th>2015-06-15</th>\n",
       "      <td>0.004587</td>\n",
       "      <td>-0.005206</td>\n",
       "      <td>-0.005017</td>\n",
       "      <td>-0.013024</td>\n",
       "      <td>-0.009592</td>\n",
       "      <td>-0.001049</td>\n",
       "    </tr>\n",
       "  </tbody>\n",
       "</table>\n",
       "</div>"
      ],
      "text/plain": [
       "                AMAT       APO       MMC       MRK        PG      TMUS\n",
       "Date                                                                  \n",
       "2015-06-09  0.001701 -0.034938  0.003888 -0.000484  0.015350 -0.017769\n",
       "2015-06-10  0.006776  0.002220  0.016007  0.012978  0.008003 -0.003169\n",
       "2015-06-11 -0.013028  0.002215  0.008008 -0.004307 -0.001662 -0.014117\n",
       "2015-06-12 -0.008014 -0.005917 -0.003796 -0.017905 -0.006843  0.022807\n",
       "2015-06-15  0.004587 -0.005206 -0.005017 -0.013024 -0.009592 -0.001049"
      ]
     },
     "metadata": {},
     "output_type": "display_data"
    }
   ],
   "source": [
    "# stock_returns = qs.utils.download_returns(ticker=portfolio_tickers, period=\"5y\").dropna()\n",
    "stock_quotes = load_and_filter_data('data/daily_stock_quotes.csv', portfolio_tickers, start_date, end_date)\n",
    "stock_returns = np.log(stock_quotes / stock_quotes.shift(1)).dropna()\n",
    "\n",
    "benchmark_quotes = load_and_filter_data('data/daily_benchmark_quotes.csv', benchmark, start_date, end_date)\n",
    "benchmark_returns = np.log(benchmark_quotes / benchmark_quotes.shift(1)).dropna()\n",
    "\n",
    "# Display summary statistics for all assets\n",
    "print(\"\\nSharpe Ratios for individual assets:\")\n",
    "sharpes = {col: qs.stats.sharpe(stock_returns[col]) for col in stock_returns.columns}\n",
    "for ticker, sharpe in sharpes.items():\n",
    "    print(f\"{ticker}: {sharpe:.4f}\")\n",
    "\n",
    "display(stock_returns.head())"
   ]
  },
  {
   "cell_type": "markdown",
   "id": "a1a9838e",
   "metadata": {},
   "source": [
    "### Step 6: Split Data into Training and Testing Sets"
   ]
  },
  {
   "cell_type": "code",
   "execution_count": 25,
   "id": "fe18e166",
   "metadata": {},
   "outputs": [
    {
     "name": "stdout",
     "output_type": "stream",
     "text": [
      "Training: 2011 rows (80.0%) | Testing: 503 rows (20.0%)\n",
      "Training period: 2015-06-08 00:00:00 to 2023-06-01 00:00:00\n",
      "Testing period: 2023-06-02 00:00:00 to 2025-06-04 00:00:00\n"
     ]
    }
   ],
   "source": [
    "# Split data into 80% training and 20% testing based on date\n",
    "total_rows = len(stock_quotes)\n",
    "train_size = int(0.8 * total_rows)\n",
    "training_set = stock_quotes.iloc[:train_size]\n",
    "test_set = stock_quotes.iloc[train_size:]\n",
    "\n",
    "print(f\"Training: {len(training_set)} rows ({len(training_set)/total_rows:.1%}) | Testing: {len(test_set)} rows ({len(test_set)/total_rows:.1%})\")\n",
    "print(f\"Training period: {training_set.index[0]} to {training_set.index[-1]}\")\n",
    "print(f\"Testing period: {test_set.index[0]} to {test_set.index[-1]}\")"
   ]
  },
  {
   "cell_type": "markdown",
   "id": "a40a588f",
   "metadata": {},
   "source": [
    "### Step 5: Plot Return Comparisons"
   ]
  },
  {
   "cell_type": "code",
   "execution_count": 26,
   "id": "89fe8da8",
   "metadata": {
    "execution": {
     "iopub.execute_input": "2025-05-29T14:22:12.629019Z",
     "iopub.status.busy": "2025-05-29T14:22:12.628840Z",
     "iopub.status.idle": "2025-05-29T14:22:12.716325Z",
     "shell.execute_reply": "2025-05-29T14:22:12.714827Z"
    }
   },
   "outputs": [
    {
     "name": "stdout",
     "output_type": "stream",
     "text": [
      "\n",
      "Portfolio Weights:\n",
      "MMC: 30.42%\n",
      "AMAT: 22.62%\n",
      "TMUS: 19.53%\n",
      "MRK: 15.09%\n",
      "APO: 6.41%\n",
      "PG: 5.93%\n",
      "\n",
      "Portfolio Performance Summary:\n",
      "Sharpe Ratio (Weighted Portfolio): 0.8344\n",
      "Sharpe Ratio (Equal-Weight): 0.8324\n"
     ]
    }
   ],
   "source": [
    "# Calculate portfolio returns using weights from Excel file\n",
    "portfolio_weights = portfolio_df.set_index('Ticker')['Weight'].to_dict()\n",
    "weighted_returns = pd.DataFrame()\n",
    "\n",
    "print(\"\\nPortfolio Weights:\")\n",
    "for ticker in portfolio_tickers:\n",
    "    weight = portfolio_weights.get(ticker, 0)\n",
    "    print(f\"{ticker}: {weight:.2%}\")\n",
    "    if ticker in stock_returns.columns:\n",
    "        weighted_returns[ticker] = stock_returns[ticker] * weight\n",
    "\n",
    "# Sum across all weighted returns to get the portfolio return\n",
    "portfolio_return = weighted_returns.sum(axis=1)\n",
    "\n",
    "# Create equal-weight portfolio for comparison\n",
    "equal_weight = 1/len([t for t in portfolio_tickers if t in stock_returns.columns])\n",
    "equal_weighted_returns = pd.DataFrame()\n",
    "\n",
    "for ticker in portfolio_tickers:\n",
    "    if ticker in stock_returns.columns:\n",
    "        equal_weighted_returns[ticker] = stock_returns[ticker] * equal_weight\n",
    "        \n",
    "equal_weight_return = equal_weighted_returns.sum(axis=1)\n",
    "\n",
    "print(\"\\nPortfolio Performance Summary:\")\n",
    "print(f\"Sharpe Ratio (Weighted Portfolio): {qs.stats.sharpe(portfolio_return):.4f}\")\n",
    "print(f\"Sharpe Ratio (Equal-Weight): {qs.stats.sharpe(equal_weight_return):.4f}\")\n",
    "\n",
    "plt.figure(figsize=(12, 6))\n",
    "(1 + portfolio_return).cumprod().plot(label='Weighted Portfolio')\n",
    "(1 + equal_weight_return).cumprod().plot(label='Equal Weight')\n",
    "(1 + benchmark_returns).cumprod().plot(label=benchmark)\n",
    "plt.legend()\n",
    "plt.title('Performance Comparison')\n",
    "plt.ylabel('Cumulative Return')\n",
    "plt.grid(True)\n",
    "plt.show()"
   ]
  },
  {
   "cell_type": "markdown",
   "id": "4c39a1ee",
   "metadata": {},
   "source": [
    "### Step 6: Generate Reports"
   ]
  },
  {
   "cell_type": "code",
   "execution_count": 31,
   "id": "0a5a262e",
   "metadata": {},
   "outputs": [
    {
     "name": "stdout",
     "output_type": "stream",
     "text": [
      "Portfolio weights:\n",
      "MMC: 0.3042\n",
      "AMAT: 0.2262\n",
      "TMUS: 0.1953\n",
      "MRK: 0.1509\n",
      "APO: 0.0641\n",
      "PG: 0.0593\n",
      "\n",
      "Ticker color assignments:\n",
      "MMC: #1f77b4\n",
      "AMAT: #ff7f0e\n",
      "TMUS: #2ca02c\n",
      "MRK: #d62728\n",
      "APO: #9467bd\n",
      "PG: #8c564b\n"
     ]
    },
    {
     "name": "stderr",
     "output_type": "stream",
     "text": [
      "100%|██████████| 2/2 [00:00<00:00, 11.87it/s]\n"
     ]
    },
    {
     "name": "stdout",
     "output_type": "stream",
     "text": [
      "Stat                 Portfolio    PCEF\n",
      "-------------------  -----------  ----------\n",
      "Start                2023-06-01   2023-06-01\n",
      "End                  2025-06-04   2025-06-04\n",
      "Risk-free rate       4.24%        4.24%\n",
      "\n",
      "Total Return         25.72%       23.45%\n",
      "Daily Sharpe         0.57         0.63\n",
      "Daily Sortino        0.92         0.93\n",
      "CAGR                 12.06%       11.05%\n",
      "Max Drawdown         -13.94%      -15.29%\n",
      "Calmar Ratio         0.87         0.72\n",
      "\n",
      "MTD                  0.74%        0.52%\n",
      "3m                   -2.90%       0.10%\n",
      "6m                   -6.05%       -1.29%\n",
      "YTD                  1.28%        1.38%\n",
      "1Y                   1.05%        9.67%\n",
      "3Y (ann.)            12.06%       11.05%\n",
      "5Y (ann.)            -            -\n",
      "10Y (ann.)           -            -\n",
      "Since Incep. (ann.)  12.06%       11.05%\n",
      "\n",
      "Daily Sharpe         0.57         0.63\n",
      "Daily Sortino        0.92         0.93\n",
      "Daily Mean (ann.)    12.51%       11.16%\n",
      "Daily Vol (ann.)     14.59%       11.17%\n",
      "Daily Skew           0.12         -0.61\n",
      "Daily Kurt           12.51        26.80\n",
      "Best Day             7.27%        6.22%\n",
      "Worst Day            -6.47%       -6.43%\n",
      "\n",
      "Monthly Sharpe       0.62         0.62\n",
      "Monthly Sortino      1.18         1.22\n",
      "Monthly Mean (ann.)  11.75%       10.69%\n",
      "Monthly Vol (ann.)   12.20%       10.61%\n",
      "Monthly Skew         0.01         0.33\n",
      "Monthly Kurt         0.53         0.60\n",
      "Best Month           8.55%        9.02%\n",
      "Worst Month          -7.50%       -4.25%\n",
      "\n",
      "Yearly Sharpe        0.22         0.19\n",
      "Yearly Sortino       1.03         0.89\n",
      "Yearly Mean          6.39%        6.04%\n",
      "Yearly Vol           9.99%        9.29%\n",
      "Yearly Skew          -            -\n",
      "Yearly Kurt          -            -\n",
      "Best Year            17.90%       16.74%\n",
      "Worst Year           0.00%        0.00%\n",
      "\n",
      "Avg. Drawdown        -2.01%       -1.48%\n",
      "Avg. Drawdown Days   19.28        13.24\n",
      "Avg. Up Month        3.30%        3.08%\n",
      "Avg. Down Month      -1.97%       -1.90%\n",
      "Win Year %           100.00%      100.00%\n",
      "Win 12m %            85.71%       100.00%\n"
     ]
    },
    {
     "data": {
      "application/vnd.microsoft.datawrangler.viewer.v0+json": {
       "columns": [
        {
         "name": "('Date', 'Security')",
         "rawType": "object",
         "type": "unknown"
        },
        {
         "name": "price",
         "rawType": "float64",
         "type": "float"
        },
        {
         "name": "quantity",
         "rawType": "float64",
         "type": "float"
        }
       ],
       "ref": "82341eaa-f1c0-4eb3-a4f8-e12e37d1faba",
       "rows": [
        [
         "(Timestamp('2023-09-07 00:00:00'), 'AMAT')",
         "146.43",
         "1545.0"
        ],
        [
         "(Timestamp('2023-09-07 00:00:00'), 'APO')",
         "84.87",
         "755.0"
        ],
        [
         "(Timestamp('2023-09-07 00:00:00'), 'MMC')",
         "191.45",
         "1588.0"
        ],
        [
         "(Timestamp('2023-09-07 00:00:00'), 'MRK')",
         "102.72",
         "1469.0"
        ],
        [
         "(Timestamp('2023-09-07 00:00:00'), 'PG')",
         "147.1",
         "402.0"
        ],
        [
         "(Timestamp('2023-09-07 00:00:00'), 'TMUS')",
         "134.25",
         "1454.0"
        ],
        [
         "(Timestamp('2023-12-11 00:00:00'), 'AMAT')",
         "153.58",
         "-5.0"
        ],
        [
         "(Timestamp('2023-12-11 00:00:00'), 'APO')",
         "90.01",
         "-11.0"
        ],
        [
         "(Timestamp('2023-12-11 00:00:00'), 'MMC')",
         "195.06",
         "42.0"
        ],
        [
         "(Timestamp('2023-12-11 00:00:00'), 'MRK')",
         "100.0",
         "108.0"
        ],
        [
         "(Timestamp('2023-12-11 00:00:00'), 'PG')",
         "140.54",
         "38.0"
        ],
        [
         "(Timestamp('2023-12-11 00:00:00'), 'TMUS')",
         "156.02",
         "-145.0"
        ],
        [
         "(Timestamp('2024-03-18 00:00:00'), 'AMAT')",
         "199.05",
         "-196.0"
        ],
        [
         "(Timestamp('2024-03-18 00:00:00'), 'APO')",
         "108.38",
         "-45.0"
        ],
        [
         "(Timestamp('2024-03-18 00:00:00'), 'MMC')",
         "203.89",
         "134.0"
        ],
        [
         "(Timestamp('2024-03-18 00:00:00'), 'MRK')",
         "117.94",
         "-64.0"
        ],
        [
         "(Timestamp('2024-03-18 00:00:00'), 'PG')",
         "156.36",
         "8.0"
        ],
        [
         "(Timestamp('2024-03-18 00:00:00'), 'TMUS')",
         "158.91",
         "144.0"
        ],
        [
         "(Timestamp('2024-06-21 00:00:00'), 'AMAT')",
         "233.87",
         "-96.0"
        ],
        [
         "(Timestamp('2024-06-21 00:00:00'), 'APO')",
         "116.21",
         "13.0"
        ],
        [
         "(Timestamp('2024-06-21 00:00:00'), 'MMC')",
         "212.02",
         "88.0"
        ],
        [
         "(Timestamp('2024-06-21 00:00:00'), 'MRK')",
         "127.72",
         "12.0"
        ],
        [
         "(Timestamp('2024-06-21 00:00:00'), 'PG')",
         "164.25",
         "17.0"
        ],
        [
         "(Timestamp('2024-06-21 00:00:00'), 'TMUS')",
         "174.94",
         "-12.0"
        ],
        [
         "(Timestamp('2024-09-25 00:00:00'), 'AMAT')",
         "196.39",
         "234.0"
        ],
        [
         "(Timestamp('2024-09-25 00:00:00'), 'APO')",
         "123.39",
         "-44.0"
        ],
        [
         "(Timestamp('2024-09-25 00:00:00'), 'MMC')",
         "222.23",
         "-91.0"
        ],
        [
         "(Timestamp('2024-09-25 00:00:00'), 'MRK')",
         "112.84",
         "195.0"
        ],
        [
         "(Timestamp('2024-09-25 00:00:00'), 'PG')",
         "169.16",
         "-15.0"
        ],
        [
         "(Timestamp('2024-09-25 00:00:00'), 'TMUS')",
         "201.9",
         "-197.0"
        ],
        [
         "(Timestamp('2024-12-30 00:00:00'), 'AMAT')",
         "163.26",
         "237.0"
        ],
        [
         "(Timestamp('2024-12-30 00:00:00'), 'APO')",
         "165.45",
         "-188.0"
        ],
        [
         "(Timestamp('2024-12-30 00:00:00'), 'MMC')",
         "211.19",
         "25.0"
        ],
        [
         "(Timestamp('2024-12-30 00:00:00'), 'MRK')",
         "97.53",
         "199.0"
        ],
        [
         "(Timestamp('2024-12-30 00:00:00'), 'PG')",
         "165.05",
         "-5.0"
        ],
        [
         "(Timestamp('2024-12-30 00:00:00'), 'TMUS')",
         "219.92",
         "-143.0"
        ],
        [
         "(Timestamp('2025-04-07 00:00:00'), 'AMAT')",
         "132.85",
         "291.0"
        ],
        [
         "(Timestamp('2025-04-07 00:00:00'), 'APO')",
         "111.96",
         "195.0"
        ],
        [
         "(Timestamp('2025-04-07 00:00:00'), 'MMC')",
         "223.74",
         "-182.0"
        ],
        [
         "(Timestamp('2025-04-07 00:00:00'), 'MRK')",
         "81.18",
         "275.0"
        ],
        [
         "(Timestamp('2025-04-07 00:00:00'), 'PG')",
         "159.24",
         "-6.0"
        ],
        [
         "(Timestamp('2025-04-07 00:00:00'), 'TMUS')",
         "246.67",
         "-167.0"
        ]
       ],
       "shape": {
        "columns": 2,
        "rows": 42
       }
      },
      "text/html": [
       "<div>\n",
       "<style scoped>\n",
       "    .dataframe tbody tr th:only-of-type {\n",
       "        vertical-align: middle;\n",
       "    }\n",
       "\n",
       "    .dataframe tbody tr th {\n",
       "        vertical-align: top;\n",
       "    }\n",
       "\n",
       "    .dataframe thead th {\n",
       "        text-align: right;\n",
       "    }\n",
       "</style>\n",
       "<table border=\"1\" class=\"dataframe\">\n",
       "  <thead>\n",
       "    <tr style=\"text-align: right;\">\n",
       "      <th></th>\n",
       "      <th></th>\n",
       "      <th>price</th>\n",
       "      <th>quantity</th>\n",
       "    </tr>\n",
       "    <tr>\n",
       "      <th>Date</th>\n",
       "      <th>Security</th>\n",
       "      <th></th>\n",
       "      <th></th>\n",
       "    </tr>\n",
       "  </thead>\n",
       "  <tbody>\n",
       "    <tr>\n",
       "      <th rowspan=\"6\" valign=\"top\">2023-09-07</th>\n",
       "      <th>AMAT</th>\n",
       "      <td>146.43</td>\n",
       "      <td>1545.0</td>\n",
       "    </tr>\n",
       "    <tr>\n",
       "      <th>APO</th>\n",
       "      <td>84.87</td>\n",
       "      <td>755.0</td>\n",
       "    </tr>\n",
       "    <tr>\n",
       "      <th>MMC</th>\n",
       "      <td>191.45</td>\n",
       "      <td>1588.0</td>\n",
       "    </tr>\n",
       "    <tr>\n",
       "      <th>MRK</th>\n",
       "      <td>102.72</td>\n",
       "      <td>1469.0</td>\n",
       "    </tr>\n",
       "    <tr>\n",
       "      <th>PG</th>\n",
       "      <td>147.10</td>\n",
       "      <td>402.0</td>\n",
       "    </tr>\n",
       "    <tr>\n",
       "      <th>TMUS</th>\n",
       "      <td>134.25</td>\n",
       "      <td>1454.0</td>\n",
       "    </tr>\n",
       "    <tr>\n",
       "      <th rowspan=\"6\" valign=\"top\">2023-12-11</th>\n",
       "      <th>AMAT</th>\n",
       "      <td>153.58</td>\n",
       "      <td>-5.0</td>\n",
       "    </tr>\n",
       "    <tr>\n",
       "      <th>APO</th>\n",
       "      <td>90.01</td>\n",
       "      <td>-11.0</td>\n",
       "    </tr>\n",
       "    <tr>\n",
       "      <th>MMC</th>\n",
       "      <td>195.06</td>\n",
       "      <td>42.0</td>\n",
       "    </tr>\n",
       "    <tr>\n",
       "      <th>MRK</th>\n",
       "      <td>100.00</td>\n",
       "      <td>108.0</td>\n",
       "    </tr>\n",
       "    <tr>\n",
       "      <th>PG</th>\n",
       "      <td>140.54</td>\n",
       "      <td>38.0</td>\n",
       "    </tr>\n",
       "    <tr>\n",
       "      <th>TMUS</th>\n",
       "      <td>156.02</td>\n",
       "      <td>-145.0</td>\n",
       "    </tr>\n",
       "    <tr>\n",
       "      <th rowspan=\"6\" valign=\"top\">2024-03-18</th>\n",
       "      <th>AMAT</th>\n",
       "      <td>199.05</td>\n",
       "      <td>-196.0</td>\n",
       "    </tr>\n",
       "    <tr>\n",
       "      <th>APO</th>\n",
       "      <td>108.38</td>\n",
       "      <td>-45.0</td>\n",
       "    </tr>\n",
       "    <tr>\n",
       "      <th>MMC</th>\n",
       "      <td>203.89</td>\n",
       "      <td>134.0</td>\n",
       "    </tr>\n",
       "    <tr>\n",
       "      <th>MRK</th>\n",
       "      <td>117.94</td>\n",
       "      <td>-64.0</td>\n",
       "    </tr>\n",
       "    <tr>\n",
       "      <th>PG</th>\n",
       "      <td>156.36</td>\n",
       "      <td>8.0</td>\n",
       "    </tr>\n",
       "    <tr>\n",
       "      <th>TMUS</th>\n",
       "      <td>158.91</td>\n",
       "      <td>144.0</td>\n",
       "    </tr>\n",
       "    <tr>\n",
       "      <th rowspan=\"6\" valign=\"top\">2024-06-21</th>\n",
       "      <th>AMAT</th>\n",
       "      <td>233.87</td>\n",
       "      <td>-96.0</td>\n",
       "    </tr>\n",
       "    <tr>\n",
       "      <th>APO</th>\n",
       "      <td>116.21</td>\n",
       "      <td>13.0</td>\n",
       "    </tr>\n",
       "    <tr>\n",
       "      <th>MMC</th>\n",
       "      <td>212.02</td>\n",
       "      <td>88.0</td>\n",
       "    </tr>\n",
       "    <tr>\n",
       "      <th>MRK</th>\n",
       "      <td>127.72</td>\n",
       "      <td>12.0</td>\n",
       "    </tr>\n",
       "    <tr>\n",
       "      <th>PG</th>\n",
       "      <td>164.25</td>\n",
       "      <td>17.0</td>\n",
       "    </tr>\n",
       "    <tr>\n",
       "      <th>TMUS</th>\n",
       "      <td>174.94</td>\n",
       "      <td>-12.0</td>\n",
       "    </tr>\n",
       "    <tr>\n",
       "      <th rowspan=\"6\" valign=\"top\">2024-09-25</th>\n",
       "      <th>AMAT</th>\n",
       "      <td>196.39</td>\n",
       "      <td>234.0</td>\n",
       "    </tr>\n",
       "    <tr>\n",
       "      <th>APO</th>\n",
       "      <td>123.39</td>\n",
       "      <td>-44.0</td>\n",
       "    </tr>\n",
       "    <tr>\n",
       "      <th>MMC</th>\n",
       "      <td>222.23</td>\n",
       "      <td>-91.0</td>\n",
       "    </tr>\n",
       "    <tr>\n",
       "      <th>MRK</th>\n",
       "      <td>112.84</td>\n",
       "      <td>195.0</td>\n",
       "    </tr>\n",
       "    <tr>\n",
       "      <th>PG</th>\n",
       "      <td>169.16</td>\n",
       "      <td>-15.0</td>\n",
       "    </tr>\n",
       "    <tr>\n",
       "      <th>TMUS</th>\n",
       "      <td>201.90</td>\n",
       "      <td>-197.0</td>\n",
       "    </tr>\n",
       "    <tr>\n",
       "      <th rowspan=\"6\" valign=\"top\">2024-12-30</th>\n",
       "      <th>AMAT</th>\n",
       "      <td>163.26</td>\n",
       "      <td>237.0</td>\n",
       "    </tr>\n",
       "    <tr>\n",
       "      <th>APO</th>\n",
       "      <td>165.45</td>\n",
       "      <td>-188.0</td>\n",
       "    </tr>\n",
       "    <tr>\n",
       "      <th>MMC</th>\n",
       "      <td>211.19</td>\n",
       "      <td>25.0</td>\n",
       "    </tr>\n",
       "    <tr>\n",
       "      <th>MRK</th>\n",
       "      <td>97.53</td>\n",
       "      <td>199.0</td>\n",
       "    </tr>\n",
       "    <tr>\n",
       "      <th>PG</th>\n",
       "      <td>165.05</td>\n",
       "      <td>-5.0</td>\n",
       "    </tr>\n",
       "    <tr>\n",
       "      <th>TMUS</th>\n",
       "      <td>219.92</td>\n",
       "      <td>-143.0</td>\n",
       "    </tr>\n",
       "    <tr>\n",
       "      <th rowspan=\"6\" valign=\"top\">2025-04-07</th>\n",
       "      <th>AMAT</th>\n",
       "      <td>132.85</td>\n",
       "      <td>291.0</td>\n",
       "    </tr>\n",
       "    <tr>\n",
       "      <th>APO</th>\n",
       "      <td>111.96</td>\n",
       "      <td>195.0</td>\n",
       "    </tr>\n",
       "    <tr>\n",
       "      <th>MMC</th>\n",
       "      <td>223.74</td>\n",
       "      <td>-182.0</td>\n",
       "    </tr>\n",
       "    <tr>\n",
       "      <th>MRK</th>\n",
       "      <td>81.18</td>\n",
       "      <td>275.0</td>\n",
       "    </tr>\n",
       "    <tr>\n",
       "      <th>PG</th>\n",
       "      <td>159.24</td>\n",
       "      <td>-6.0</td>\n",
       "    </tr>\n",
       "    <tr>\n",
       "      <th>TMUS</th>\n",
       "      <td>246.67</td>\n",
       "      <td>-167.0</td>\n",
       "    </tr>\n",
       "  </tbody>\n",
       "</table>\n",
       "</div>"
      ],
      "text/plain": [
       "                      price  quantity\n",
       "Date       Security                  \n",
       "2023-09-07 AMAT      146.43    1545.0\n",
       "           APO        84.87     755.0\n",
       "           MMC       191.45    1588.0\n",
       "           MRK       102.72    1469.0\n",
       "           PG        147.10     402.0\n",
       "           TMUS      134.25    1454.0\n",
       "2023-12-11 AMAT      153.58      -5.0\n",
       "           APO        90.01     -11.0\n",
       "           MMC       195.06      42.0\n",
       "           MRK       100.00     108.0\n",
       "           PG        140.54      38.0\n",
       "           TMUS      156.02    -145.0\n",
       "2024-03-18 AMAT      199.05    -196.0\n",
       "           APO       108.38     -45.0\n",
       "           MMC       203.89     134.0\n",
       "           MRK       117.94     -64.0\n",
       "           PG        156.36       8.0\n",
       "           TMUS      158.91     144.0\n",
       "2024-06-21 AMAT      233.87     -96.0\n",
       "           APO       116.21      13.0\n",
       "           MMC       212.02      88.0\n",
       "           MRK       127.72      12.0\n",
       "           PG        164.25      17.0\n",
       "           TMUS      174.94     -12.0\n",
       "2024-09-25 AMAT      196.39     234.0\n",
       "           APO       123.39     -44.0\n",
       "           MMC       222.23     -91.0\n",
       "           MRK       112.84     195.0\n",
       "           PG        169.16     -15.0\n",
       "           TMUS      201.90    -197.0\n",
       "2024-12-30 AMAT      163.26     237.0\n",
       "           APO       165.45    -188.0\n",
       "           MMC       211.19      25.0\n",
       "           MRK        97.53     199.0\n",
       "           PG        165.05      -5.0\n",
       "           TMUS      219.92    -143.0\n",
       "2025-04-07 AMAT      132.85     291.0\n",
       "           APO       111.96     195.0\n",
       "           MMC       223.74    -182.0\n",
       "           MRK        81.18     275.0\n",
       "           PG        159.24      -6.0\n",
       "           TMUS      246.67    -167.0"
      ]
     },
     "metadata": {},
     "output_type": "display_data"
    },
    {
     "ename": "AttributeError",
     "evalue": "'NoneType' object has no attribute 'get_security_weights'",
     "output_type": "error",
     "traceback": [
      "\u001b[31m---------------------------------------------------------------------------\u001b[39m",
      "\u001b[31mAttributeError\u001b[39m                            Traceback (most recent call last)",
      "\u001b[36mCell\u001b[39m\u001b[36m \u001b[39m\u001b[32mIn[31]\u001b[39m\u001b[32m, line 68\u001b[39m\n\u001b[32m     66\u001b[39m \u001b[38;5;66;03m# Get the weight data from the result - access it through the strategy result\u001b[39;00m\n\u001b[32m     67\u001b[39m portfolio_result = result[\u001b[33m'\u001b[39m\u001b[33mPortfolio Strategy\u001b[39m\u001b[33m'\u001b[39m]\n\u001b[32m---> \u001b[39m\u001b[32m68\u001b[39m weight_data = \u001b[43mportfolio_result\u001b[49m\u001b[43m.\u001b[49m\u001b[43mget_security_weights\u001b[49m()\n\u001b[32m     70\u001b[39m \u001b[38;5;66;03m# Plot each asset with its assigned color\u001b[39;00m\n\u001b[32m     71\u001b[39m \u001b[38;5;28;01mfor\u001b[39;00m ticker \u001b[38;5;129;01min\u001b[39;00m weight_data.columns:\n",
      "\u001b[31mAttributeError\u001b[39m: 'NoneType' object has no attribute 'get_security_weights'"
     ]
    }
   ],
   "source": [
    "import bt\n",
    "import matplotlib.pyplot as plt\n",
    "\n",
    "# Create weights dictionary using portfolio_df instead of optimal_portfolio_df\n",
    "weights = {}\n",
    "for _, row in portfolio_df.iterrows():\n",
    "    ticker = row['Ticker']\n",
    "    weight = row['Weight'] \n",
    "    weights[ticker] = weight\n",
    "\n",
    "print(\"Portfolio weights:\")\n",
    "for ticker, weight in weights.items():\n",
    "    print(f\"{ticker}: {weight:.4f}\")\n",
    "\n",
    "# Pre-assign colors to tickers for consistency across all plots\n",
    "ticker_color_map = {}\n",
    "base_colors = ['#1f77b4', '#ff7f0e', '#2ca02c', '#d62728', '#9467bd', '#8c564b', \n",
    "               '#e377c2', '#7f7f7f', '#bcbd22', '#17becf', '#aec7e8', '#ffbb78']\n",
    "\n",
    "for i, ticker in enumerate(portfolio_tickers):\n",
    "    ticker_color_map[ticker] = base_colors[i % len(base_colors)]\n",
    "\n",
    "print(\"\\nTicker color assignments:\")\n",
    "for ticker, color in ticker_color_map.items():\n",
    "    print(f\"{ticker}: {color}\")\n",
    "\n",
    "# Create price data for bt (convert from quotes to prices)\n",
    "# Combine stock quotes and benchmark quotes\n",
    "all_quotes = test_set.copy()\n",
    "all_quotes[benchmark] = benchmark_quotes[benchmark]\n",
    "\n",
    "# Create bt strategies\n",
    "# Strategy 1 - Portfolio with quarterly rebalancing\n",
    "portfolio_strategy = bt.Strategy('Portfolio', \n",
    "                                [\n",
    "                                    bt.algos.RunEveryNPeriods(66, offset=66),  # Trading every 66 days (approx. quarterly)                 \n",
    "                                    bt.algos.SelectAll(),\n",
    "                                    bt.algos.WeighSpecified(**weights),       \n",
    "                                    bt.algos.Rebalance()\n",
    "                                ])\n",
    "\n",
    "# Strategy 2 - Benchmark (buy and hold)\n",
    "benchmark_strategy = bt.Strategy(f'{benchmark}',\n",
    "                                [\n",
    "                                    bt.algos.RunEveryNPeriods(66, offset=66),\n",
    "                                    bt.algos.SelectThese([benchmark]),\n",
    "                                    bt.algos.WeighEqually(),\n",
    "                                    bt.algos.Rebalance()\n",
    "                                ])\n",
    "\n",
    "# Create backtests\n",
    "portfolio_test = bt.Backtest(portfolio_strategy, all_quotes[portfolio_tickers])\n",
    "benchmark_test = bt.Backtest(benchmark_strategy, all_quotes[[benchmark]])\n",
    "\n",
    "# Run backtests\n",
    "result = bt.run(portfolio_test, benchmark_test)\n",
    "result.set_riskfree_rate(risk_free_rate)\n",
    "\n",
    "# Show performance metrics\n",
    "result.display()\n",
    "display(result.get_transactions())\n",
    "\n",
    "# Plot weights over time using pre-assigned colors\n",
    "fig, ax = plt.subplots(figsize=(10, 6))\n",
    "\n",
    "# Get the weight data from the result - access it through the strategy result\n",
    "portfolio_result = result['Portfolio Strategy']\n",
    "weight_data = portfolio_result.get_security_weights()\n",
    "\n",
    "# Plot each asset with its assigned color\n",
    "for ticker in weight_data.columns:\n",
    "    color = ticker_color_map.get(ticker, '#000000')  # Default to black if ticker not found\n",
    "    ax.plot(weight_data.index, weight_data[ticker], \n",
    "            label=ticker, color=color, alpha=0.8, linewidth=2)\n",
    "\n",
    "ax.set_title('Portfolio Weights Over Time', fontsize=14, fontweight='bold')\n",
    "ax.set_ylabel('Weight', fontsize=12)\n",
    "ax.legend(loc='upper left', fontsize=10)\n",
    "ax.grid(True, alpha=0.3)\n",
    "plt.tight_layout()\n",
    "plt.show()\n",
    "\n",
    "# Plot cumulative returns comparison\n",
    "result.plot(figsize=(12, 8),\n",
    "           ylabel='Cumulative Returns',\n",
    "           title='Portfolio vs Benchmark Performance',\n",
    "           legend=True,\n",
    "           grid=True)\n",
    "\n",
    "# Additional performance comparison\n",
    "print(\"\\nPerformance Summary:\")\n",
    "print(f\"Portfolio Total Return: {result['Portfolio Strategy'].stats.total_return:.2%}\")\n",
    "print(f\"Benchmark Total Return: {result['Benchmark Strategy'].stats.total_return:.2%}\")\n",
    "print(f\"Portfolio Sharpe Ratio: {result['Portfolio Strategy'].stats.sharpe:.4f}\")\n",
    "print(f\"Benchmark Sharpe Ratio: {result['Benchmark Strategy'].stats.sharpe:.4f}\")\n",
    "print(f\"Portfolio Max Drawdown: {result['Portfolio Strategy'].stats.max_drawdown:.2%}\")\n",
    "print(f\"Benchmark Max Drawdown: {result['Benchmark Strategy'].stats.max_drawdown:.2%}\")"
   ]
  },
  {
   "cell_type": "markdown",
   "id": "51e0abce",
   "metadata": {},
   "source": [
    "#### Portfolio (Weighted) vs Benchmark"
   ]
  },
  {
   "cell_type": "code",
   "execution_count": 30,
   "id": "7ff157dd",
   "metadata": {
    "execution": {
     "iopub.execute_input": "2025-05-29T14:22:12.721010Z",
     "iopub.status.busy": "2025-05-29T14:22:12.719522Z",
     "iopub.status.idle": "2025-05-29T14:22:19.507410Z",
     "shell.execute_reply": "2025-05-29T14:22:19.505840Z"
    }
   },
   "outputs": [
    {
     "name": "stdout",
     "output_type": "stream",
     "text": [
      "Original portfolio_return length: 2513\n",
      "Filtered portfolio_return length: 503\n",
      "Test period: 2023-06-02 00:00:00 to 2025-06-04 00:00:00\n"
     ]
    },
    {
     "name": "stderr",
     "output_type": "stream",
     "text": [
      "/home/renanmogo/mfin-algo-trading-team8/.venv/lib/python3.13/site-packages/numpy/core/fromnumeric.py:86: FutureWarning: The behavior of DataFrame.prod with axis=None is deprecated, in a future version this will reduce over both axes and return a scalar. To retain the old behavior, pass axis=0 (or do not pass axis)\n",
      "  return reduction(axis=axis, out=out, **passkwargs)\n",
      "/home/renanmogo/mfin-algo-trading-team8/.venv/lib/python3.13/site-packages/numpy/core/fromnumeric.py:86: FutureWarning: The behavior of DataFrame.prod with axis=None is deprecated, in a future version this will reduce over both axes and return a scalar. To retain the old behavior, pass axis=0 (or do not pass axis)\n",
      "  return reduction(axis=axis, out=out, **passkwargs)\n",
      "/home/renanmogo/mfin-algo-trading-team8/.venv/lib/python3.13/site-packages/numpy/core/fromnumeric.py:86: FutureWarning: The behavior of DataFrame.prod with axis=None is deprecated, in a future version this will reduce over both axes and return a scalar. To retain the old behavior, pass axis=0 (or do not pass axis)\n",
      "  return reduction(axis=axis, out=out, **passkwargs)\n",
      "/home/renanmogo/mfin-algo-trading-team8/.venv/lib/python3.13/site-packages/quantstats/stats.py:510: FutureWarning: 'M' is deprecated and will be removed in a future version, please use 'ME' instead.\n",
      "  returns = _utils._prepare_returns(returns, rf).resample(resolution).sum()\n",
      "/home/renanmogo/mfin-algo-trading-team8/.venv/lib/python3.13/site-packages/quantstats/_plotting/wrappers.py:555: FutureWarning: 'A' is deprecated and will be removed in a future version, please use 'YE' instead.\n",
      "  .resample(\"A\")\n",
      "/home/renanmogo/mfin-algo-trading-team8/.venv/lib/python3.13/site-packages/quantstats/_plotting/wrappers.py:557: FutureWarning: 'A' is deprecated and will be removed in a future version, please use 'YE' instead.\n",
      "  .resample(\"A\")\n",
      "/home/renanmogo/mfin-algo-trading-team8/.venv/lib/python3.13/site-packages/quantstats/_plotting/wrappers.py:565: FutureWarning: 'A' is deprecated and will be removed in a future version, please use 'YE' instead.\n",
      "  returns = returns.resample(\"A\").apply(_stats.comp)\n",
      "/home/renanmogo/mfin-algo-trading-team8/.venv/lib/python3.13/site-packages/quantstats/_plotting/wrappers.py:568: FutureWarning: 'A' is deprecated and will be removed in a future version, please use 'YE' instead.\n",
      "  returns = returns.resample(\"A\").last()\n",
      "/home/renanmogo/mfin-algo-trading-team8/.venv/lib/python3.13/site-packages/quantstats/_plotting/core.py:433: FutureWarning: 'M' is deprecated and will be removed in a future version, please use 'ME' instead.\n",
      "  .resample(resample)\n",
      "/home/renanmogo/mfin-algo-trading-team8/.venv/lib/python3.13/site-packages/quantstats/_plotting/core.py:435: FutureWarning: 'M' is deprecated and will be removed in a future version, please use 'ME' instead.\n",
      "  .resample(resample)\n",
      "/home/renanmogo/mfin-algo-trading-team8/.venv/lib/python3.13/site-packages/quantstats/_plotting/core.py:440: FutureWarning: 'M' is deprecated and will be removed in a future version, please use 'ME' instead.\n",
      "  returns.fillna(0).resample(resample).apply(apply_fnc).resample(resample).last()\n"
     ]
    },
    {
     "name": "stdout",
     "output_type": "stream",
     "text": [
      "Added download button and removed QuantStats attribution from portfolios/portfolio_vs_benchmark_long_term-2025-06-04.html\n"
     ]
    },
    {
     "name": "stderr",
     "output_type": "stream",
     "text": [
      "/home/renanmogo/mfin-algo-trading-team8/.venv/lib/python3.13/site-packages/quantstats/_plotting/core.py:1018: FutureWarning: 'M' is deprecated and will be removed in a future version, please use 'ME' instead.\n",
      "  port[\"Monthly\"] = port[\"Daily\"].resample(\"M\").apply(apply_fnc)\n",
      "/home/renanmogo/mfin-algo-trading-team8/.venv/lib/python3.13/site-packages/quantstats/_plotting/core.py:1021: FutureWarning: 'Q' is deprecated and will be removed in a future version, please use 'QE' instead.\n",
      "  port[\"Quarterly\"] = port[\"Daily\"].resample(\"Q\").apply(apply_fnc)\n",
      "/home/renanmogo/mfin-algo-trading-team8/.venv/lib/python3.13/site-packages/quantstats/_plotting/core.py:1024: FutureWarning: 'A' is deprecated and will be removed in a future version, please use 'YE' instead.\n",
      "  port[\"Yearly\"] = port[\"Daily\"].resample(\"A\").apply(apply_fnc)\n"
     ]
    },
    {
     "data": {
      "text/html": [
       "<h4>Performance Metrics</h4>"
      ],
      "text/plain": [
       "<IPython.core.display.HTML object>"
      ]
     },
     "metadata": {},
     "output_type": "display_data"
    },
    {
     "name": "stderr",
     "output_type": "stream",
     "text": [
      "/home/renanmogo/mfin-algo-trading-team8/.venv/lib/python3.13/site-packages/numpy/core/fromnumeric.py:86: FutureWarning: The behavior of DataFrame.prod with axis=None is deprecated, in a future version this will reduce over both axes and return a scalar. To retain the old behavior, pass axis=0 (or do not pass axis)\n",
      "  return reduction(axis=axis, out=out, **passkwargs)\n",
      "/home/renanmogo/mfin-algo-trading-team8/.venv/lib/python3.13/site-packages/numpy/core/fromnumeric.py:86: FutureWarning: The behavior of DataFrame.prod with axis=None is deprecated, in a future version this will reduce over both axes and return a scalar. To retain the old behavior, pass axis=0 (or do not pass axis)\n",
      "  return reduction(axis=axis, out=out, **passkwargs)\n",
      "/home/renanmogo/mfin-algo-trading-team8/.venv/lib/python3.13/site-packages/numpy/core/fromnumeric.py:86: FutureWarning: The behavior of DataFrame.prod with axis=None is deprecated, in a future version this will reduce over both axes and return a scalar. To retain the old behavior, pass axis=0 (or do not pass axis)\n",
      "  return reduction(axis=axis, out=out, **passkwargs)\n",
      "/home/renanmogo/mfin-algo-trading-team8/.venv/lib/python3.13/site-packages/quantstats/stats.py:510: FutureWarning: 'M' is deprecated and will be removed in a future version, please use 'ME' instead.\n",
      "  returns = _utils._prepare_returns(returns, rf).resample(resolution).sum()\n"
     ]
    },
    {
     "name": "stdout",
     "output_type": "stream",
     "text": [
      "                           PCEF        Strategy\n",
      "-------------------------  ----------  ----------\n",
      "Start Period               2023-06-02  2023-06-02\n",
      "End Period                 2025-06-04  2025-06-04\n",
      "Risk-Free Rate             4.24%       4.24%\n",
      "Time in Market             94.0%       100.0%\n",
      "\n",
      "Cumulative Return          25.2%       27.13%\n",
      "CAGR﹪                     0.03%       0.03%\n",
      "\n",
      "Sharpe                     0.67        0.59\n",
      "Prob. Sharpe Ratio         68.83%      60.5%\n",
      "Smart Sharpe               0.62        0.54\n",
      "Sortino                    0.92        0.84\n",
      "Smart Sortino              0.84        0.77\n",
      "Sortino/√2                 0.65        0.59\n",
      "Smart Sortino/√2           0.59        0.54\n",
      "Omega                      1.11        1.11\n",
      "\n",
      "Max Drawdown               -15.58%     -15.54%\n",
      "Longest DD Days            134         233\n",
      "Volatility (ann.)          11.53%      15.28%\n",
      "R^2                        0.42        0.42\n",
      "Information Ratio          0.01        0.01\n",
      "Calmar                     0.52        0.55\n",
      "Skew                       -0.86       -0.18\n",
      "Kurtosis                   24.08       9.78\n",
      "\n",
      "Expected Daily %           0.04%       0.05%\n",
      "Expected Monthly %         0.9%        0.96%\n",
      "Expected Yearly %          7.78%       8.33%\n",
      "Kelly Criterion            11.11%      6.79%\n",
      "Risk of Ruin               0.0%        0.0%\n",
      "Daily Value-at-Risk        -1.15%      -1.53%\n",
      "Expected Shortfall (cVaR)  -1.15%      -1.53%\n",
      "\n",
      "Max Consecutive Wins       12          8\n",
      "Max Consecutive Losses     8           6\n",
      "Gain/Pain Ratio            0.23        0.16\n",
      "Gain/Pain (1M)             1.0         1.09\n",
      "\n",
      "Payoff Ratio               0.86        0.96\n",
      "Profit Factor              1.23        1.16\n",
      "Common Sense Ratio         1.05        1.14\n",
      "CPC Index                  0.62        0.61\n",
      "Tail Ratio                 0.85        0.98\n",
      "Outlier Win Ratio          4.63        2.78\n",
      "Outlier Loss Ratio         3.89        3.02\n",
      "\n",
      "MTD                        0.52%       0.66%\n",
      "3M                         -1.29%      -6.0%\n",
      "6M                         -1.89%      -8.97%\n",
      "YTD                        0.64%       -1.35%\n",
      "1Y                         9.1%        -3.19%\n",
      "3Y (ann.)                  0.03%       0.03%\n",
      "5Y (ann.)                  0.03%       0.03%\n",
      "10Y (ann.)                 0.03%       0.03%\n",
      "All-time (ann.)            0.03%       0.03%\n",
      "\n",
      "Best Day                   6.04%       6.92%\n",
      "Worst Day                  -6.64%      -6.78%\n",
      "Best Month                 8.92%       8.08%\n",
      "Worst Month                -4.3%       -7.42%\n",
      "Best Year                  16.33%      14.55%\n",
      "Worst Year                 0.64%       -1.35%\n",
      "\n",
      "Avg. Drawdown              -1.63%      -1.88%\n",
      "Avg. Drawdown Days         15          18\n",
      "Recovery Factor            1.62        1.75\n",
      "Ulcer Index                0.04        0.04\n",
      "Serenity Index             0.63        0.59\n",
      "\n",
      "Avg. Up Month              3.06%       3.42%\n",
      "Avg. Down Month            -3.07%      -3.39%\n",
      "Win Days %                 58.97%      54.27%\n",
      "Win Month %                64.0%       64.0%\n",
      "Win Quarter %              66.67%      66.67%\n",
      "Win Year %                 100.0%      66.67%\n",
      "\n",
      "Beta                       -           0.86\n",
      "Alpha                      -           0.03\n",
      "Correlation                -           64.64%\n",
      "Treynor Ratio              -           26.71%\n"
     ]
    },
    {
     "data": {
      "text/plain": [
       "None"
      ]
     },
     "metadata": {},
     "output_type": "display_data"
    },
    {
     "data": {
      "text/html": [
       "<h4 style=\"margin-bottom:20px\">Worst 5 Drawdowns</h4>"
      ],
      "text/plain": [
       "<IPython.core.display.HTML object>"
      ]
     },
     "metadata": {},
     "output_type": "display_data"
    },
    {
     "data": {
      "application/vnd.microsoft.datawrangler.viewer.v0+json": {
       "columns": [
        {
         "name": "index",
         "rawType": "int64",
         "type": "integer"
        },
        {
         "name": "Start",
         "rawType": "object",
         "type": "string"
        },
        {
         "name": "Valley",
         "rawType": "object",
         "type": "string"
        },
        {
         "name": "End",
         "rawType": "object",
         "type": "string"
        },
        {
         "name": "Days",
         "rawType": "int64",
         "type": "integer"
        },
        {
         "name": "Max Drawdown",
         "rawType": "float64",
         "type": "float"
        },
        {
         "name": "99% Max Drawdown",
         "rawType": "float64",
         "type": "float"
        }
       ],
       "ref": "9ea682f9-4b37-497e-8df4-c155362bc661",
       "rows": [
        [
         "1",
         "2024-10-15",
         "2025-04-08",
         "2025-06-04",
         "233",
         "-15.538269839657936",
         "-14.122797728057856"
        ],
        [
         "2",
         "2024-07-17",
         "2024-08-05",
         "2024-10-11",
         "87",
         "-9.386721006073618",
         "-8.883065086128216"
        ],
        [
         "3",
         "2023-09-15",
         "2023-10-27",
         "2023-11-09",
         "56",
         "-6.390777605821151",
         "-5.735553111976177"
        ],
        [
         "4",
         "2023-12-14",
         "2023-12-20",
         "2024-01-10",
         "28",
         "-3.5578903394956285",
         "-2.5092267238713606"
        ],
        [
         "5",
         "2024-03-28",
         "2024-04-19",
         "2024-05-09",
         "43",
         "-3.5500465587566032",
         "-3.516058257143795"
        ]
       ],
       "shape": {
        "columns": 6,
        "rows": 5
       }
      },
      "text/html": [
       "<div>\n",
       "<style scoped>\n",
       "    .dataframe tbody tr th:only-of-type {\n",
       "        vertical-align: middle;\n",
       "    }\n",
       "\n",
       "    .dataframe tbody tr th {\n",
       "        vertical-align: top;\n",
       "    }\n",
       "\n",
       "    .dataframe thead th {\n",
       "        text-align: right;\n",
       "    }\n",
       "</style>\n",
       "<table border=\"1\" class=\"dataframe\">\n",
       "  <thead>\n",
       "    <tr style=\"text-align: right;\">\n",
       "      <th></th>\n",
       "      <th>Start</th>\n",
       "      <th>Valley</th>\n",
       "      <th>End</th>\n",
       "      <th>Days</th>\n",
       "      <th>Max Drawdown</th>\n",
       "      <th>99% Max Drawdown</th>\n",
       "    </tr>\n",
       "  </thead>\n",
       "  <tbody>\n",
       "    <tr>\n",
       "      <th>1</th>\n",
       "      <td>2024-10-15</td>\n",
       "      <td>2025-04-08</td>\n",
       "      <td>2025-06-04</td>\n",
       "      <td>233</td>\n",
       "      <td>-15.538270</td>\n",
       "      <td>-14.122798</td>\n",
       "    </tr>\n",
       "    <tr>\n",
       "      <th>2</th>\n",
       "      <td>2024-07-17</td>\n",
       "      <td>2024-08-05</td>\n",
       "      <td>2024-10-11</td>\n",
       "      <td>87</td>\n",
       "      <td>-9.386721</td>\n",
       "      <td>-8.883065</td>\n",
       "    </tr>\n",
       "    <tr>\n",
       "      <th>3</th>\n",
       "      <td>2023-09-15</td>\n",
       "      <td>2023-10-27</td>\n",
       "      <td>2023-11-09</td>\n",
       "      <td>56</td>\n",
       "      <td>-6.390778</td>\n",
       "      <td>-5.735553</td>\n",
       "    </tr>\n",
       "    <tr>\n",
       "      <th>4</th>\n",
       "      <td>2023-12-14</td>\n",
       "      <td>2023-12-20</td>\n",
       "      <td>2024-01-10</td>\n",
       "      <td>28</td>\n",
       "      <td>-3.557890</td>\n",
       "      <td>-2.509227</td>\n",
       "    </tr>\n",
       "    <tr>\n",
       "      <th>5</th>\n",
       "      <td>2024-03-28</td>\n",
       "      <td>2024-04-19</td>\n",
       "      <td>2024-05-09</td>\n",
       "      <td>43</td>\n",
       "      <td>-3.550047</td>\n",
       "      <td>-3.516058</td>\n",
       "    </tr>\n",
       "  </tbody>\n",
       "</table>\n",
       "</div>"
      ],
      "text/plain": [
       "        Start      Valley         End  Days  Max Drawdown  99% Max Drawdown\n",
       "1  2024-10-15  2025-04-08  2025-06-04   233    -15.538270        -14.122798\n",
       "2  2024-07-17  2024-08-05  2024-10-11    87     -9.386721         -8.883065\n",
       "3  2023-09-15  2023-10-27  2023-11-09    56     -6.390778         -5.735553\n",
       "4  2023-12-14  2023-12-20  2024-01-10    28     -3.557890         -2.509227\n",
       "5  2024-03-28  2024-04-19  2024-05-09    43     -3.550047         -3.516058"
      ]
     },
     "metadata": {},
     "output_type": "display_data"
    },
    {
     "data": {
      "text/html": [
       "<h4>Strategy Visualization</h4>"
      ],
      "text/plain": [
       "<IPython.core.display.HTML object>"
      ]
     },
     "metadata": {},
     "output_type": "display_data"
    },
    {
     "name": "stderr",
     "output_type": "stream",
     "text": [
      "/home/renanmogo/mfin-algo-trading-team8/.venv/lib/python3.13/site-packages/quantstats/_plotting/wrappers.py:555: FutureWarning: 'A' is deprecated and will be removed in a future version, please use 'YE' instead.\n",
      "  .resample(\"A\")\n",
      "/home/renanmogo/mfin-algo-trading-team8/.venv/lib/python3.13/site-packages/quantstats/_plotting/wrappers.py:557: FutureWarning: 'A' is deprecated and will be removed in a future version, please use 'YE' instead.\n",
      "  .resample(\"A\")\n",
      "/home/renanmogo/mfin-algo-trading-team8/.venv/lib/python3.13/site-packages/quantstats/_plotting/wrappers.py:565: FutureWarning: 'A' is deprecated and will be removed in a future version, please use 'YE' instead.\n",
      "  returns = returns.resample(\"A\").apply(_stats.comp)\n",
      "/home/renanmogo/mfin-algo-trading-team8/.venv/lib/python3.13/site-packages/quantstats/_plotting/wrappers.py:568: FutureWarning: 'A' is deprecated and will be removed in a future version, please use 'YE' instead.\n",
      "  returns = returns.resample(\"A\").last()\n",
      "/home/renanmogo/mfin-algo-trading-team8/.venv/lib/python3.13/site-packages/quantstats/_plotting/core.py:433: FutureWarning: 'M' is deprecated and will be removed in a future version, please use 'ME' instead.\n",
      "  .resample(resample)\n",
      "/home/renanmogo/mfin-algo-trading-team8/.venv/lib/python3.13/site-packages/quantstats/_plotting/core.py:435: FutureWarning: 'M' is deprecated and will be removed in a future version, please use 'ME' instead.\n",
      "  .resample(resample)\n",
      "/home/renanmogo/mfin-algo-trading-team8/.venv/lib/python3.13/site-packages/quantstats/_plotting/core.py:440: FutureWarning: 'M' is deprecated and will be removed in a future version, please use 'ME' instead.\n",
      "  returns.fillna(0).resample(resample).apply(apply_fnc).resample(resample).last()\n",
      "/home/renanmogo/mfin-algo-trading-team8/.venv/lib/python3.13/site-packages/quantstats/_plotting/core.py:1018: FutureWarning: 'M' is deprecated and will be removed in a future version, please use 'ME' instead.\n",
      "  port[\"Monthly\"] = port[\"Daily\"].resample(\"M\").apply(apply_fnc)\n",
      "/home/renanmogo/mfin-algo-trading-team8/.venv/lib/python3.13/site-packages/quantstats/_plotting/core.py:1021: FutureWarning: 'Q' is deprecated and will be removed in a future version, please use 'QE' instead.\n",
      "  port[\"Quarterly\"] = port[\"Daily\"].resample(\"Q\").apply(apply_fnc)\n",
      "/home/renanmogo/mfin-algo-trading-team8/.venv/lib/python3.13/site-packages/quantstats/_plotting/core.py:1024: FutureWarning: 'A' is deprecated and will be removed in a future version, please use 'YE' instead.\n",
      "  port[\"Yearly\"] = port[\"Daily\"].resample(\"A\").apply(apply_fnc)\n"
     ]
    }
   ],
   "source": [
    "# Filter portfolio_return and benchmark_returns to match test_set dates\n",
    "test_start_date = test_set.index[0]\n",
    "test_end_date = test_set.index[-1]\n",
    "\n",
    "# Filter portfolio_return to test period\n",
    "portfolio_return_test = portfolio_return.loc[test_start_date:test_end_date]\n",
    "portfolio_return_test.name = \"Weighted Portfolio\"\n",
    "\n",
    "# Filter benchmark_returns to test period\n",
    "benchmark_returns_test = benchmark_returns.loc[test_start_date:test_end_date]\n",
    "\n",
    "print(f\"Original portfolio_return length: {len(portfolio_return)}\")\n",
    "print(f\"Filtered portfolio_return length: {len(portfolio_return_test)}\")\n",
    "print(f\"Test period: {test_start_date} to {test_end_date}\")\n",
    "\n",
    "# Generate Report using filtered data\n",
    "qs.reports.html(\n",
    "    portfolio_return_test,\n",
    "    benchmark_returns_test,\n",
    "    rf=risk_free_rate,\n",
    "    figsize=(8, 5),\n",
    "    output=f'portfolios/portfolio_vs_benchmark_long_term-{datetime.date(end_date)}.html',\n",
    "    title=f'Portfolio vs {benchmark} (Benchmark) - Test Period',\n",
    "    benchmark_title=f'{benchmark}',\n",
    "    download_filename=f'portfolio_vs_{benchmark}.html'\n",
    ")\n",
    "\n",
    "qs.reports.full(\n",
    "    portfolio_return_test, \n",
    "    benchmark_returns_test,\n",
    "    rf=risk_free_rate, \n",
    "    figsize=(8, 5), \n",
    "    title=f'Portfolio vs {benchmark} - Test Period',\n",
    "    benchmark_title=f'{benchmark}')"
   ]
  },
  {
   "cell_type": "markdown",
   "id": "fc233166",
   "metadata": {},
   "source": [
    "#### Portfolio (Weighted) vs Portolio (Equally-Weighted)"
   ]
  },
  {
   "cell_type": "code",
   "execution_count": null,
   "id": "ba5f845c",
   "metadata": {
    "execution": {
     "iopub.execute_input": "2025-05-29T14:22:19.511793Z",
     "iopub.status.busy": "2025-05-29T14:22:19.511416Z",
     "iopub.status.idle": "2025-05-29T14:22:25.407510Z",
     "shell.execute_reply": "2025-05-29T14:22:25.406356Z"
    }
   },
   "outputs": [],
   "source": [
    "# # Ensure equal_weight_return and portfolio_return are properly aggregated if resampled\n",
    "# equal_weight_return = equal_weight_return.resample('D').sum() if equal_weight_return.index.freq is None else equal_weight_return\n",
    "# portfolio_return = portfolio_return.resample('D').sum() if portfolio_return.index.freq is None else portfolio_return\n",
    "\n",
    "# # Set the name for the equal weight portfolio\n",
    "# equal_weight_return.name = \"Equal Weight Portfolio\"\n",
    "\n",
    "# # Generate Report\n",
    "# qs.reports.html(\n",
    "#     portfolio_return,\n",
    "#     equal_weight_return,\n",
    "#     rf=risk_free_rate,\n",
    "#     figsize=(8, 5),\n",
    "#     output=f'portfolio_vs_equal_weight-{datetime.date(end_date)}.html',\n",
    "#     title='Portfolio (Weighted) vs Portolio (Equally-Weighted)',\n",
    "#     benchmark_title=\"Equal Weight Portfolio\",\n",
    "#     download_filename=\"portfolio_vs_equal_weight.html\" \n",
    "# )\n",
    "\n",
    "# qs.reports.full(\n",
    "#     portfolio_return, \n",
    "#     equal_weight_return,\n",
    "#     rf=risk_free_rate, \n",
    "#     figsize=(8, 5), \n",
    "#     title='Portfolio vs Equal Weight',\n",
    "#     benchmark_title=\"Equal Weight Portfolio\",\n",
    "#     ) "
   ]
  }
 ],
 "metadata": {
  "kernelspec": {
   "display_name": ".venv",
   "language": "python",
   "name": "python3"
  },
  "language_info": {
   "codemirror_mode": {
    "name": "ipython",
    "version": 3
   },
   "file_extension": ".py",
   "mimetype": "text/x-python",
   "name": "python",
   "nbconvert_exporter": "python",
   "pygments_lexer": "ipython3",
   "version": "3.13.3"
  }
 },
 "nbformat": 4,
 "nbformat_minor": 5
}
