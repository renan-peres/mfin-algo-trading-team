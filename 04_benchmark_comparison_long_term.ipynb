{
 "cells": [
  {
   "cell_type": "markdown",
   "id": "87d75d93",
   "metadata": {},
   "source": [
    "# Portfolio Performance vs. Benchmark"
   ]
  },
  {
   "cell_type": "markdown",
   "id": "03c32a8d",
   "metadata": {},
   "source": [
    "### Step 1: Import Libraries"
   ]
  },
  {
   "cell_type": "code",
   "execution_count": 1,
   "id": "af63bf54",
   "metadata": {
    "execution": {
     "iopub.execute_input": "2025-05-29T14:22:10.787415Z",
     "iopub.status.busy": "2025-05-29T14:22:10.787235Z",
     "iopub.status.idle": "2025-05-29T14:22:11.725725Z",
     "shell.execute_reply": "2025-05-29T14:22:11.724449Z"
    }
   },
   "outputs": [],
   "source": [
    "# Data manipulation libraries\n",
    "import pandas as pd\n",
    "import numpy as np\n",
    "from scipy.optimize import minimize\n",
    "from datetime import datetime, timedelta\n",
    "from pandas.tseries.offsets import BDay\n",
    "\n",
    "# Visualization libraries\n",
    "import matplotlib.pyplot as plt\n",
    "import plotly\n",
    "import plotly.express as px\n",
    "import seaborn as sns\n",
    "import plotly.graph_objects as go\n",
    "import plotly.io as pio\n",
    "from IPython.display import Image, display\n",
    "\n",
    "# System libraries\n",
    "import os\n",
    "import sys\n",
    "import glob\n",
    "import logging\n",
    "import warnings\n",
    "\n",
    "warnings.filterwarnings(\"ignore\", category=UserWarning)  # Font warnings\n",
    "warnings.filterwarnings(\"ignore\", category=FutureWarning, message=\".*inplace.*\")  # Pandas warnings\n",
    "logging.getLogger('matplotlib.font_manager').disabled = True"
   ]
  },
  {
   "cell_type": "code",
   "execution_count": 2,
   "id": "99e4f182",
   "metadata": {
    "execution": {
     "iopub.execute_input": "2025-05-29T14:22:11.729669Z",
     "iopub.status.busy": "2025-05-29T14:22:11.729094Z",
     "iopub.status.idle": "2025-05-29T14:22:11.963641Z",
     "shell.execute_reply": "2025-05-29T14:22:11.962833Z"
    }
   },
   "outputs": [
    {
     "name": "stdout",
     "output_type": "stream",
     "text": [
      "============================================================\n",
      "               QuantStats Compatibility Tool                \n",
      "============================================================\n",
      "\n",
      "Part 1: Directly patching QuantStats package files\n",
      "------------------------------------------------------------\n",
      "Found QuantStats utils file at: /home/renanmogo/mfin-algo-trading-team8/.venv/lib/python3.13/site-packages/quantstats/__init__.py\n",
      "Successfully fixed indentation in QuantStats __init__.py file\n",
      "✓ QuantStats utils file patched successfully\n",
      "\n",
      "Part 2: Fixing resampling issues\n",
      "------------------------------------------------------------\n",
      "Found 1 potential QuantStats installation(s)\n",
      "Checking /home/renanmogo/mfin-algo-trading-team8/.venv/lib/python3.13/site-packages/quantstats/_plotting/core.py\n",
      "✓ Found 'plot_timeseries' function in /home/renanmogo/mfin-algo-trading-team8/.venv/lib/python3.13/site-packages/quantstats/_plotting/core.py\n",
      "✓ No 'sum(axis=0)' calls found - may already be fixed\n",
      "Examining /home/renanmogo/mfin-algo-trading-team8/.venv/lib/python3.13/site-packages/quantstats/_plotting/core.py...\n",
      "✓ Found 'plot_timeseries' function in /home/renanmogo/mfin-algo-trading-team8/.venv/lib/python3.13/site-packages/quantstats/_plotting/core.py\n",
      "✓ No 'sum(axis=0)' calls found - may already be fixed\n",
      "No applicable fixes found for /home/renanmogo/mfin-algo-trading-team8/.venv/lib/python3.13/site-packages/quantstats/_plotting/core.py\n",
      "⚠️ Resampling fix not applied or not needed\n",
      "\n",
      "Part 3: Importing and patching QuantStats\n",
      "------------------------------------------------------------\n",
      "✓ Successfully imported quantstats\n",
      "Successfully patched QuantStats HTML report functionality\n",
      "✓ HTML report functionality enhanced with download button\n"
     ]
    }
   ],
   "source": [
    "from py.quantstats_fix import *\n",
    "from py.utils import load_and_filter_data, export_to_excel\n",
    "qs.extend_pandas()"
   ]
  },
  {
   "cell_type": "markdown",
   "id": "32933b31",
   "metadata": {},
   "source": [
    "### Step 2: Define Parameters "
   ]
  },
  {
   "cell_type": "markdown",
   "id": "534662b1",
   "metadata": {},
   "source": [
    "#### Dates"
   ]
  },
  {
   "cell_type": "code",
   "execution_count": 3,
   "id": "6157c2ed",
   "metadata": {
    "execution": {
     "iopub.execute_input": "2025-05-29T14:22:11.966299Z",
     "iopub.status.busy": "2025-05-29T14:22:11.965721Z",
     "iopub.status.idle": "2025-05-29T14:22:11.971936Z",
     "shell.execute_reply": "2025-05-29T14:22:11.971209Z"
    }
   },
   "outputs": [
    {
     "name": "stdout",
     "output_type": "stream",
     "text": [
      "Date Range: 2015-06-09 to 2025-06-06\n",
      "Time span: 3650 days (10.00 years)\n"
     ]
    }
   ],
   "source": [
    "# Define the date range\n",
    "end_date = (datetime.today() - BDay(1)).to_pydatetime()  # Subtract 1 business day\n",
    "# end_date = pd.to_datetime('2025-04-26')  # Report date\n",
    "start_date = end_date - timedelta(days=10*365)\n",
    "\n",
    "# Convert datetime objects to Unix timestamps (seconds since Jan 1, 1970)\n",
    "start_timestamp = int(start_date.timestamp())\n",
    "end_timestamp = int(end_date.timestamp())\n",
    "\n",
    "# Print the date range\n",
    "days_difference = (end_date - start_date).days\n",
    "print(f\"Date Range: {start_date.strftime('%Y-%m-%d')} to {end_date.strftime('%Y-%m-%d')}\")\n",
    "print(f\"Time span: {days_difference} days ({days_difference/365:.2f} years)\")"
   ]
  },
  {
   "cell_type": "markdown",
   "id": "d116c468",
   "metadata": {},
   "source": [
    "#### Report File"
   ]
  },
  {
   "cell_type": "code",
   "execution_count": 4,
   "id": "fea8a2eb",
   "metadata": {},
   "outputs": [
    {
     "name": "stdout",
     "output_type": "stream",
     "text": [
      "Using most recent portfolio file: portfolios/portfolio-2025-06-06.xlsx\n"
     ]
    }
   ],
   "source": [
    "# Get the most recent portfolio file\n",
    "portfolio_files = glob.glob('portfolios/portfolio-*.xlsx')\n",
    "if portfolio_files:\n",
    "    # Sort files by modification time (most recent first)\n",
    "    output_file = max(portfolio_files, key=os.path.getmtime)\n",
    "    print(f\"Using most recent portfolio file: {output_file}\")\n",
    "else:\n",
    "    # Fallback to current date if no files found\n",
    "    output_file = f'portfolios/portfolio-{datetime.date(end_date)}.xlsx'\n",
    "    print(f\"No portfolio files found. Using: {output_file}\")"
   ]
  },
  {
   "cell_type": "markdown",
   "id": "716f13a4",
   "metadata": {},
   "source": [
    "#### Benchmark"
   ]
  },
  {
   "cell_type": "code",
   "execution_count": 5,
   "id": "76222543",
   "metadata": {
    "execution": {
     "iopub.execute_input": "2025-05-29T14:22:11.974897Z",
     "iopub.status.busy": "2025-05-29T14:22:11.974290Z",
     "iopub.status.idle": "2025-05-29T14:22:12.050624Z",
     "shell.execute_reply": "2025-05-29T14:22:12.049202Z"
    }
   },
   "outputs": [
    {
     "name": "stdout",
     "output_type": "stream",
     "text": [
      "YYY\n"
     ]
    }
   ],
   "source": [
    "# benchmark = 'ADME'\n",
    "benchmark = pd.read_excel(output_file, sheet_name=\"benchmark_long_term\")['Benchmark'].values[0]\n",
    "print(benchmark)"
   ]
  },
  {
   "cell_type": "markdown",
   "id": "45c2abd8",
   "metadata": {},
   "source": [
    "#### Risk-free rate (T-bill, %)"
   ]
  },
  {
   "cell_type": "code",
   "execution_count": 6,
   "id": "5349aec6",
   "metadata": {
    "execution": {
     "iopub.execute_input": "2025-05-29T14:22:12.053427Z",
     "iopub.status.busy": "2025-05-29T14:22:12.053221Z",
     "iopub.status.idle": "2025-05-29T14:22:12.176538Z",
     "shell.execute_reply": "2025-05-29T14:22:12.174130Z"
    }
   },
   "outputs": [
    {
     "name": "stdout",
     "output_type": "stream",
     "text": [
      "Risk-Free Rate: 0.0424 -- 13 WEEK TREASURY BILL (^IRX)\n"
     ]
    }
   ],
   "source": [
    "# Load and process data\n",
    "risk_free_df = pd.read_excel(output_file, sheet_name=\"daily_quotes\", index_col=0)['^IRX']\n",
    "# risk_free_rate  = 0.0433                              # 3‑month T‑Bill\n",
    "risk_free_rate = risk_free_df.iloc[-1] / 100 \n",
    "\n",
    "# Display result\n",
    "print(\"Risk-Free Rate:\", risk_free_rate, \"-- 13 WEEK TREASURY BILL (^IRX)\")"
   ]
  },
  {
   "cell_type": "markdown",
   "id": "49293477",
   "metadata": {},
   "source": [
    "### Step 3: Read Portfolio Data (Excel)"
   ]
  },
  {
   "cell_type": "code",
   "execution_count": 7,
   "id": "c7f5a054",
   "metadata": {
    "execution": {
     "iopub.execute_input": "2025-05-29T14:22:12.179403Z",
     "iopub.status.busy": "2025-05-29T14:22:12.179103Z",
     "iopub.status.idle": "2025-05-29T14:22:12.218868Z",
     "shell.execute_reply": "2025-05-29T14:22:12.218104Z"
    }
   },
   "outputs": [
    {
     "name": "stdout",
     "output_type": "stream",
     "text": [
      "['MMC', 'AMAT', 'TMUS', 'MRK', 'APO']\n"
     ]
    },
    {
     "data": {
      "application/vnd.microsoft.datawrangler.viewer.v0+json": {
       "columns": [
        {
         "name": "index",
         "rawType": "int64",
         "type": "integer"
        },
        {
         "name": "Ticker",
         "rawType": "object",
         "type": "string"
        },
        {
         "name": "Date",
         "rawType": "object",
         "type": "string"
        },
        {
         "name": "Name",
         "rawType": "object",
         "type": "string"
        },
        {
         "name": "Sector",
         "rawType": "object",
         "type": "string"
        },
        {
         "name": "Industry",
         "rawType": "object",
         "type": "string"
        },
        {
         "name": "Country",
         "rawType": "object",
         "type": "string"
        },
        {
         "name": "Website",
         "rawType": "object",
         "type": "string"
        },
        {
         "name": "Market Cap",
         "rawType": "int64",
         "type": "integer"
        },
        {
         "name": "Enterprise Value",
         "rawType": "int64",
         "type": "integer"
        },
        {
         "name": "Float Shares",
         "rawType": "int64",
         "type": "integer"
        },
        {
         "name": "Shares Outstanding",
         "rawType": "int64",
         "type": "integer"
        },
        {
         "name": "P/E (trailing)",
         "rawType": "float64",
         "type": "float"
        },
        {
         "name": "P/E (forward)",
         "rawType": "float64",
         "type": "float"
        },
        {
         "name": "P/S",
         "rawType": "float64",
         "type": "float"
        },
        {
         "name": "P/B",
         "rawType": "float64",
         "type": "float"
        },
        {
         "name": "EV/EBITDA",
         "rawType": "float64",
         "type": "float"
        },
        {
         "name": "EV/Revenue",
         "rawType": "float64",
         "type": "float"
        },
        {
         "name": "Gross Margin (%)",
         "rawType": "float64",
         "type": "float"
        },
        {
         "name": "EBITDA Margin (%)",
         "rawType": "float64",
         "type": "float"
        },
        {
         "name": "Operating Margin (%)",
         "rawType": "float64",
         "type": "float"
        },
        {
         "name": "Profit Margin (%)",
         "rawType": "float64",
         "type": "float"
        },
        {
         "name": "ROE",
         "rawType": "float64",
         "type": "float"
        },
        {
         "name": "ROA",
         "rawType": "float64",
         "type": "float"
        },
        {
         "name": "Revenue (TTM)",
         "rawType": "int64",
         "type": "integer"
        },
        {
         "name": "Revenue Growth (%)",
         "rawType": "float64",
         "type": "float"
        },
        {
         "name": "EPS (trailing)",
         "rawType": "float64",
         "type": "float"
        },
        {
         "name": "EPS (forward)",
         "rawType": "float64",
         "type": "float"
        },
        {
         "name": "Earnings Growth (%)",
         "rawType": "float64",
         "type": "float"
        },
        {
         "name": "Earnings Quarterly Growth (%)",
         "rawType": "float64",
         "type": "float"
        },
        {
         "name": "Total Cash",
         "rawType": "int64",
         "type": "integer"
        },
        {
         "name": "Total Debt",
         "rawType": "int64",
         "type": "integer"
        },
        {
         "name": "Debt to Equity",
         "rawType": "float64",
         "type": "float"
        },
        {
         "name": "Current Ratio",
         "rawType": "float64",
         "type": "float"
        },
        {
         "name": "Quick Ratio",
         "rawType": "float64",
         "type": "float"
        },
        {
         "name": "Book Value",
         "rawType": "float64",
         "type": "float"
        },
        {
         "name": "Free Cash Flow",
         "rawType": "float64",
         "type": "float"
        },
        {
         "name": "Operating Cash Flow",
         "rawType": "int64",
         "type": "integer"
        },
        {
         "name": "Dividend Yield (%)",
         "rawType": "float64",
         "type": "float"
        },
        {
         "name": "Dividend Rate (%)",
         "rawType": "float64",
         "type": "float"
        },
        {
         "name": "5Y Avg Dividend Yield (%)",
         "rawType": "float64",
         "type": "float"
        },
        {
         "name": "Payout Ratio (%)",
         "rawType": "float64",
         "type": "float"
        },
        {
         "name": "Price",
         "rawType": "float64",
         "type": "float"
        },
        {
         "name": "Target Price",
         "rawType": "float64",
         "type": "float"
        },
        {
         "name": "Target High",
         "rawType": "int64",
         "type": "integer"
        },
        {
         "name": "Target Low",
         "rawType": "float64",
         "type": "float"
        },
        {
         "name": "Analyst Rating",
         "rawType": "object",
         "type": "string"
        },
        {
         "name": "Analyst Rating Value",
         "rawType": "float64",
         "type": "float"
        },
        {
         "name": "Beta",
         "rawType": "float64",
         "type": "float"
        },
        {
         "name": "52W High",
         "rawType": "float64",
         "type": "float"
        },
        {
         "name": "52W Low",
         "rawType": "float64",
         "type": "float"
        },
        {
         "name": "50 Day Avg",
         "rawType": "float64",
         "type": "float"
        },
        {
         "name": "200 Day Avg",
         "rawType": "float64",
         "type": "float"
        },
        {
         "name": "Short Ratio",
         "rawType": "float64",
         "type": "float"
        },
        {
         "name": "Short % of Float",
         "rawType": "float64",
         "type": "float"
        },
        {
         "name": "Strategy",
         "rawType": "object",
         "type": "string"
        },
        {
         "name": "Weight",
         "rawType": "float64",
         "type": "float"
        },
        {
         "name": "Expected Return",
         "rawType": "float64",
         "type": "float"
        },
        {
         "name": "Standard Deviation",
         "rawType": "float64",
         "type": "float"
        },
        {
         "name": "Sharpe Ratio",
         "rawType": "float64",
         "type": "float"
        }
       ],
       "ref": "3c172462-11ca-4e30-a741-5ec5eb975263",
       "rows": [
        [
         "0",
         "MMC",
         "2025-06-02",
         "Marsh & McLennan Companies, Inc.",
         "Financial Services",
         "Insurance Brokers",
         "United States",
         "https://www.marshmclennan.com",
         "115130826752",
         "136148770816",
         "491821141",
         "492728000",
         "28.67",
         "24.78",
         "4.6",
         "8.18",
         "18.35",
         "5.44",
         "0.4432",
         "0.2962",
         "0.3044",
         "0.1613",
         "0.31",
         "0.08",
         "25045999616",
         "0.091",
         "8.15",
         "9.43",
         "-0.011",
         "-0.014",
         "1604000000",
         "22418999296",
         "157.13",
         "1.14",
         "0.5",
         "28.55",
         "4121999872.0",
         "4461000192",
         "0.014",
         "0.0326",
         "0.0138",
         "0.4871",
         "233.66",
         "233.22",
         "276",
         "189.21",
         "hold",
         "2.7",
         "0.83",
         "248.0",
         "205.17",
         "229.54",
         "225.3",
         "2.62",
         "0.01",
         "Markowitz",
         "0.3180873008417999",
         "0.1404486710166235",
         "0.2129288822167514",
         "0.6596036646341547"
        ],
        [
         "1",
         "AMAT",
         "2025-06-02",
         "Applied Materials, Inc.",
         "Technology",
         "Semiconductor Equipment & Materials",
         "United States",
         "https://www.appliedmaterials.com",
         "125791559680",
         "125714595840",
         "799392549",
         "802497984",
         "19.09",
         "16.18",
         "4.48",
         "6.63",
         "14.38",
         "4.48",
         "0.4814",
         "0.3113",
         "0.3055",
         "0.2406",
         "0.36",
         "0.16",
         "28088999936",
         "0.068",
         "8.21",
         "9.69",
         "0.277",
         "0.241",
         "6746999808",
         "6670000128",
         "35.18",
         "2.46",
         "1.62",
         "23.63",
         "3740875008.0",
         "7456000000",
         "0.0117",
         "0.0184",
         "0.0087",
         "0.1946",
         "156.75",
         "198.04",
         "250",
         "152.0",
         "buy",
         "1.79",
         "1.66",
         "255.89",
         "123.74",
         "151.52",
         "173.39",
         "2.58",
         "0.02",
         "Markowitz",
         "0.2289105824374544",
         "0.181314130069788",
         "0.4125107802889521",
         "0.4395379193309388"
        ],
        [
         "2",
         "TMUS",
         "2025-06-02",
         "T-Mobile US, Inc.",
         "Communication Services",
         "Telecom Services",
         "United States",
         "https://www.t-mobile.com",
         "275005997056",
         "384693796864",
         "452736028",
         "1135449984",
         "23.63",
         "22.7",
         "3.33",
         "4.51",
         "12.17",
         "4.65",
         "0.6385",
         "0.3822",
         "0.2298",
         "0.1441",
         "0.19",
         "0.06",
         "82691997696",
         "0.066",
         "10.25",
         "10.67",
         "0.29",
         "0.244",
         "12003000320",
         "121691996160",
         "199.15",
         "1.16",
         "0.9",
         "53.73",
         "9022624768.0",
         "24056000512",
         "0.0145",
         "0.0352",
         "0.0",
         "0.2988",
         "242.2",
         "269.22",
         "305",
         "202.99",
         "buy",
         "2.07",
         "0.63",
         "276.49",
         "171.18",
         "251.2",
         "232.97",
         "3.11",
         "0.03",
         "Markowitz",
         "0.2236721160100146",
         "0.1302604720692437",
         "0.2758334271589185",
         "0.4722432426371426"
        ],
        [
         "3",
         "MRK",
         "2025-06-02",
         "Merck & Co., Inc.",
         "Healthcare",
         "Drug Manufacturers - General",
         "United States",
         "https://www.merck.com",
         "192947535872",
         "218628636672",
         "2507088934",
         "2511030016",
         "11.17",
         "8.17",
         "3.02",
         "4.0",
         "7.59",
         "3.42",
         "0.7707",
         "0.4505",
         "0.4006",
         "0.2727",
         "0.39",
         "0.14",
         "63921999872",
         "-0.016",
         "6.88",
         "9.4",
         "0.075",
         "0.067",
         "9228000256",
         "34844000256",
         "71.99",
         "1.41",
         "0.83",
         "19.21",
         "17124249600.0",
         "20878000128",
         "0.0422",
         "0.0324",
         "0.0297",
         "0.4593",
         "76.84",
         "101.79",
         "138",
         "82.0",
         "buy",
         "1.96",
         "0.44",
         "134.63",
         "73.31",
         "81.27",
         "97.4",
         "2.49",
         "0.02",
         "Markowitz",
         "0.1453300807748326",
         "0.09504320465261173",
         "0.2207470069293311",
         "0.4305526311531754"
        ],
        [
         "4",
         "APO",
         "2025-06-02",
         "Apollo Global Management, Inc.",
         "Financial Services",
         "Asset Management",
         "United States",
         "https://www.apollo.com/institutional/homepage",
         "74688552960",
         "94705582080",
         "446479870",
         "571494016",
         "22.85",
         "15.41",
         "3.06",
         "4.5",
         null,
         "3.88",
         "0.4424",
         "0.0",
         "0.2954",
         "0.1473",
         "0.19",
         "0.02",
         "24387000320",
         "-0.215",
         "5.72",
         "8.48",
         "-0.703",
         "-0.69",
         "25016999936",
         "29268000768",
         "90.49",
         "1.79",
         "1.68",
         "29.06",
         null,
         "4195000064",
         "0.0156",
         "0.0204",
         "0.0276",
         "0.3229",
         "130.69",
         "156.88",
         "179",
         "135.0",
         "buy",
         "1.68",
         "1.57",
         "189.49",
         "95.11",
         "133.28",
         "143.86",
         "7.75",
         "0.05",
         "Markowitz",
         "0.08399991993589846",
         "0.1350803189828564",
         "0.3791834341104514",
         "0.3562400327423302"
        ]
       ],
       "shape": {
        "columns": 59,
        "rows": 5
       }
      },
      "text/html": [
       "<div>\n",
       "<style scoped>\n",
       "    .dataframe tbody tr th:only-of-type {\n",
       "        vertical-align: middle;\n",
       "    }\n",
       "\n",
       "    .dataframe tbody tr th {\n",
       "        vertical-align: top;\n",
       "    }\n",
       "\n",
       "    .dataframe thead th {\n",
       "        text-align: right;\n",
       "    }\n",
       "</style>\n",
       "<table border=\"1\" class=\"dataframe\">\n",
       "  <thead>\n",
       "    <tr style=\"text-align: right;\">\n",
       "      <th></th>\n",
       "      <th>Ticker</th>\n",
       "      <th>Date</th>\n",
       "      <th>Name</th>\n",
       "      <th>Sector</th>\n",
       "      <th>Industry</th>\n",
       "      <th>Country</th>\n",
       "      <th>Website</th>\n",
       "      <th>Market Cap</th>\n",
       "      <th>Enterprise Value</th>\n",
       "      <th>Float Shares</th>\n",
       "      <th>...</th>\n",
       "      <th>52W Low</th>\n",
       "      <th>50 Day Avg</th>\n",
       "      <th>200 Day Avg</th>\n",
       "      <th>Short Ratio</th>\n",
       "      <th>Short % of Float</th>\n",
       "      <th>Strategy</th>\n",
       "      <th>Weight</th>\n",
       "      <th>Expected Return</th>\n",
       "      <th>Standard Deviation</th>\n",
       "      <th>Sharpe Ratio</th>\n",
       "    </tr>\n",
       "  </thead>\n",
       "  <tbody>\n",
       "    <tr>\n",
       "      <th>0</th>\n",
       "      <td>MMC</td>\n",
       "      <td>2025-06-02</td>\n",
       "      <td>Marsh &amp; McLennan Companies, Inc.</td>\n",
       "      <td>Financial Services</td>\n",
       "      <td>Insurance Brokers</td>\n",
       "      <td>United States</td>\n",
       "      <td>https://www.marshmclennan.com</td>\n",
       "      <td>115130826752</td>\n",
       "      <td>136148770816</td>\n",
       "      <td>491821141</td>\n",
       "      <td>...</td>\n",
       "      <td>205.17</td>\n",
       "      <td>229.54</td>\n",
       "      <td>225.30</td>\n",
       "      <td>2.62</td>\n",
       "      <td>0.01</td>\n",
       "      <td>Markowitz</td>\n",
       "      <td>0.318087</td>\n",
       "      <td>0.140449</td>\n",
       "      <td>0.212929</td>\n",
       "      <td>0.659604</td>\n",
       "    </tr>\n",
       "    <tr>\n",
       "      <th>1</th>\n",
       "      <td>AMAT</td>\n",
       "      <td>2025-06-02</td>\n",
       "      <td>Applied Materials, Inc.</td>\n",
       "      <td>Technology</td>\n",
       "      <td>Semiconductor Equipment &amp; Materials</td>\n",
       "      <td>United States</td>\n",
       "      <td>https://www.appliedmaterials.com</td>\n",
       "      <td>125791559680</td>\n",
       "      <td>125714595840</td>\n",
       "      <td>799392549</td>\n",
       "      <td>...</td>\n",
       "      <td>123.74</td>\n",
       "      <td>151.52</td>\n",
       "      <td>173.39</td>\n",
       "      <td>2.58</td>\n",
       "      <td>0.02</td>\n",
       "      <td>Markowitz</td>\n",
       "      <td>0.228911</td>\n",
       "      <td>0.181314</td>\n",
       "      <td>0.412511</td>\n",
       "      <td>0.439538</td>\n",
       "    </tr>\n",
       "    <tr>\n",
       "      <th>2</th>\n",
       "      <td>TMUS</td>\n",
       "      <td>2025-06-02</td>\n",
       "      <td>T-Mobile US, Inc.</td>\n",
       "      <td>Communication Services</td>\n",
       "      <td>Telecom Services</td>\n",
       "      <td>United States</td>\n",
       "      <td>https://www.t-mobile.com</td>\n",
       "      <td>275005997056</td>\n",
       "      <td>384693796864</td>\n",
       "      <td>452736028</td>\n",
       "      <td>...</td>\n",
       "      <td>171.18</td>\n",
       "      <td>251.20</td>\n",
       "      <td>232.97</td>\n",
       "      <td>3.11</td>\n",
       "      <td>0.03</td>\n",
       "      <td>Markowitz</td>\n",
       "      <td>0.223672</td>\n",
       "      <td>0.130260</td>\n",
       "      <td>0.275833</td>\n",
       "      <td>0.472243</td>\n",
       "    </tr>\n",
       "    <tr>\n",
       "      <th>3</th>\n",
       "      <td>MRK</td>\n",
       "      <td>2025-06-02</td>\n",
       "      <td>Merck &amp; Co., Inc.</td>\n",
       "      <td>Healthcare</td>\n",
       "      <td>Drug Manufacturers - General</td>\n",
       "      <td>United States</td>\n",
       "      <td>https://www.merck.com</td>\n",
       "      <td>192947535872</td>\n",
       "      <td>218628636672</td>\n",
       "      <td>2507088934</td>\n",
       "      <td>...</td>\n",
       "      <td>73.31</td>\n",
       "      <td>81.27</td>\n",
       "      <td>97.40</td>\n",
       "      <td>2.49</td>\n",
       "      <td>0.02</td>\n",
       "      <td>Markowitz</td>\n",
       "      <td>0.145330</td>\n",
       "      <td>0.095043</td>\n",
       "      <td>0.220747</td>\n",
       "      <td>0.430553</td>\n",
       "    </tr>\n",
       "    <tr>\n",
       "      <th>4</th>\n",
       "      <td>APO</td>\n",
       "      <td>2025-06-02</td>\n",
       "      <td>Apollo Global Management, Inc.</td>\n",
       "      <td>Financial Services</td>\n",
       "      <td>Asset Management</td>\n",
       "      <td>United States</td>\n",
       "      <td>https://www.apollo.com/institutional/homepage</td>\n",
       "      <td>74688552960</td>\n",
       "      <td>94705582080</td>\n",
       "      <td>446479870</td>\n",
       "      <td>...</td>\n",
       "      <td>95.11</td>\n",
       "      <td>133.28</td>\n",
       "      <td>143.86</td>\n",
       "      <td>7.75</td>\n",
       "      <td>0.05</td>\n",
       "      <td>Markowitz</td>\n",
       "      <td>0.084000</td>\n",
       "      <td>0.135080</td>\n",
       "      <td>0.379183</td>\n",
       "      <td>0.356240</td>\n",
       "    </tr>\n",
       "  </tbody>\n",
       "</table>\n",
       "<p>5 rows × 59 columns</p>\n",
       "</div>"
      ],
      "text/plain": [
       "  Ticker        Date                              Name  \\\n",
       "0    MMC  2025-06-02  Marsh & McLennan Companies, Inc.   \n",
       "1   AMAT  2025-06-02           Applied Materials, Inc.   \n",
       "2   TMUS  2025-06-02                 T-Mobile US, Inc.   \n",
       "3    MRK  2025-06-02                 Merck & Co., Inc.   \n",
       "4    APO  2025-06-02    Apollo Global Management, Inc.   \n",
       "\n",
       "                   Sector                             Industry        Country  \\\n",
       "0      Financial Services                    Insurance Brokers  United States   \n",
       "1              Technology  Semiconductor Equipment & Materials  United States   \n",
       "2  Communication Services                     Telecom Services  United States   \n",
       "3              Healthcare         Drug Manufacturers - General  United States   \n",
       "4      Financial Services                     Asset Management  United States   \n",
       "\n",
       "                                         Website    Market Cap  \\\n",
       "0                  https://www.marshmclennan.com  115130826752   \n",
       "1               https://www.appliedmaterials.com  125791559680   \n",
       "2                       https://www.t-mobile.com  275005997056   \n",
       "3                          https://www.merck.com  192947535872   \n",
       "4  https://www.apollo.com/institutional/homepage   74688552960   \n",
       "\n",
       "   Enterprise Value  Float Shares  ...  52W Low  50 Day Avg  200 Day Avg  \\\n",
       "0      136148770816     491821141  ...   205.17      229.54       225.30   \n",
       "1      125714595840     799392549  ...   123.74      151.52       173.39   \n",
       "2      384693796864     452736028  ...   171.18      251.20       232.97   \n",
       "3      218628636672    2507088934  ...    73.31       81.27        97.40   \n",
       "4       94705582080     446479870  ...    95.11      133.28       143.86   \n",
       "\n",
       "   Short Ratio  Short % of Float   Strategy    Weight  Expected Return  \\\n",
       "0         2.62              0.01  Markowitz  0.318087         0.140449   \n",
       "1         2.58              0.02  Markowitz  0.228911         0.181314   \n",
       "2         3.11              0.03  Markowitz  0.223672         0.130260   \n",
       "3         2.49              0.02  Markowitz  0.145330         0.095043   \n",
       "4         7.75              0.05  Markowitz  0.084000         0.135080   \n",
       "\n",
       "   Standard Deviation  Sharpe Ratio  \n",
       "0            0.212929      0.659604  \n",
       "1            0.412511      0.439538  \n",
       "2            0.275833      0.472243  \n",
       "3            0.220747      0.430553  \n",
       "4            0.379183      0.356240  \n",
       "\n",
       "[5 rows x 59 columns]"
      ]
     },
     "metadata": {},
     "output_type": "display_data"
    }
   ],
   "source": [
    "portfolio_df = pd.read_excel(output_file, sheet_name=\"long_term\")\n",
    "\n",
    "# Convert percentage strings to float values\n",
    "portfolio_df['Weight'] = portfolio_df['Weight'].replace('%', '', regex=True).astype(float)\n",
    "portfolio_tickers = portfolio_df[\"Ticker\"].tolist()\n",
    "\n",
    "print(portfolio_tickers)\n",
    "display(portfolio_df)"
   ]
  },
  {
   "cell_type": "markdown",
   "id": "ff3d536d",
   "metadata": {},
   "source": [
    "### Step 4: Download Returns"
   ]
  },
  {
   "cell_type": "code",
   "execution_count": 8,
   "id": "240dc240",
   "metadata": {
    "execution": {
     "iopub.execute_input": "2025-05-29T14:22:12.221516Z",
     "iopub.status.busy": "2025-05-29T14:22:12.221316Z",
     "iopub.status.idle": "2025-05-29T14:22:12.626923Z",
     "shell.execute_reply": "2025-05-29T14:22:12.625973Z"
    }
   },
   "outputs": [
    {
     "name": "stdout",
     "output_type": "stream",
     "text": [
      "Found 5 of 5 tickers in data/daily_stock_quotes.csv\n",
      "Missing tickers: []\n",
      "Found 1 of 1 tickers in data/daily_benchmark_quotes.csv\n",
      "Missing tickers: []\n",
      "\n",
      "Sharpe Ratios for individual assets:\n",
      "AMAT: 0.5366\n",
      "APO: 0.6052\n",
      "MMC: 0.7596\n",
      "MRK: 0.2805\n",
      "TMUS: 0.7018\n"
     ]
    },
    {
     "data": {
      "application/vnd.microsoft.datawrangler.viewer.v0+json": {
       "columns": [
        {
         "name": "Date",
         "rawType": "datetime64[ns]",
         "type": "datetime"
        },
        {
         "name": "AMAT",
         "rawType": "float64",
         "type": "float"
        },
        {
         "name": "APO",
         "rawType": "float64",
         "type": "float"
        },
        {
         "name": "MMC",
         "rawType": "float64",
         "type": "float"
        },
        {
         "name": "MRK",
         "rawType": "float64",
         "type": "float"
        },
        {
         "name": "TMUS",
         "rawType": "float64",
         "type": "float"
        }
       ],
       "ref": "d91211bd-5b41-43ff-9270-936a7ca9f856",
       "rows": [
        [
         "2015-06-11 00:00:00",
         "-0.013027655222523011",
         "0.0022148403295528213",
         "0.008008050803342751",
         "-0.004307257197580332",
         "-0.014116628085451043"
        ],
        [
         "2015-06-12 00:00:00",
         "-0.008013780723553656",
         "-0.005917177028088507",
         "-0.0037958291505675312",
         "-0.01790514807350351",
         "0.022806610354882566"
        ],
        [
         "2015-06-15 00:00:00",
         "0.004587164006906141",
         "-0.0052064081905738606",
         "-0.005016565150795643",
         "-0.013023897078572842",
         "-0.0010493180396177462"
        ],
        [
         "2015-06-16 00:00:00",
         "0.005135531971616433",
         "-0.0007459903367214449",
         "0.0034140007052544407",
         "0.010334737653332354",
         "-0.002891314933121042"
        ],
        [
         "2015-06-17 00:00:00",
         "-0.013753798471491245",
         "0.00149142458667012",
         "0.003202564786874634",
         "0.0034213132102343387",
         "0.023414180968121603"
        ]
       ],
       "shape": {
        "columns": 5,
        "rows": 5
       }
      },
      "text/html": [
       "<div>\n",
       "<style scoped>\n",
       "    .dataframe tbody tr th:only-of-type {\n",
       "        vertical-align: middle;\n",
       "    }\n",
       "\n",
       "    .dataframe tbody tr th {\n",
       "        vertical-align: top;\n",
       "    }\n",
       "\n",
       "    .dataframe thead th {\n",
       "        text-align: right;\n",
       "    }\n",
       "</style>\n",
       "<table border=\"1\" class=\"dataframe\">\n",
       "  <thead>\n",
       "    <tr style=\"text-align: right;\">\n",
       "      <th></th>\n",
       "      <th>AMAT</th>\n",
       "      <th>APO</th>\n",
       "      <th>MMC</th>\n",
       "      <th>MRK</th>\n",
       "      <th>TMUS</th>\n",
       "    </tr>\n",
       "    <tr>\n",
       "      <th>Date</th>\n",
       "      <th></th>\n",
       "      <th></th>\n",
       "      <th></th>\n",
       "      <th></th>\n",
       "      <th></th>\n",
       "    </tr>\n",
       "  </thead>\n",
       "  <tbody>\n",
       "    <tr>\n",
       "      <th>2015-06-11</th>\n",
       "      <td>-0.013028</td>\n",
       "      <td>0.002215</td>\n",
       "      <td>0.008008</td>\n",
       "      <td>-0.004307</td>\n",
       "      <td>-0.014117</td>\n",
       "    </tr>\n",
       "    <tr>\n",
       "      <th>2015-06-12</th>\n",
       "      <td>-0.008014</td>\n",
       "      <td>-0.005917</td>\n",
       "      <td>-0.003796</td>\n",
       "      <td>-0.017905</td>\n",
       "      <td>0.022807</td>\n",
       "    </tr>\n",
       "    <tr>\n",
       "      <th>2015-06-15</th>\n",
       "      <td>0.004587</td>\n",
       "      <td>-0.005206</td>\n",
       "      <td>-0.005017</td>\n",
       "      <td>-0.013024</td>\n",
       "      <td>-0.001049</td>\n",
       "    </tr>\n",
       "    <tr>\n",
       "      <th>2015-06-16</th>\n",
       "      <td>0.005136</td>\n",
       "      <td>-0.000746</td>\n",
       "      <td>0.003414</td>\n",
       "      <td>0.010335</td>\n",
       "      <td>-0.002891</td>\n",
       "    </tr>\n",
       "    <tr>\n",
       "      <th>2015-06-17</th>\n",
       "      <td>-0.013754</td>\n",
       "      <td>0.001491</td>\n",
       "      <td>0.003203</td>\n",
       "      <td>0.003421</td>\n",
       "      <td>0.023414</td>\n",
       "    </tr>\n",
       "  </tbody>\n",
       "</table>\n",
       "</div>"
      ],
      "text/plain": [
       "                AMAT       APO       MMC       MRK      TMUS\n",
       "Date                                                        \n",
       "2015-06-11 -0.013028  0.002215  0.008008 -0.004307 -0.014117\n",
       "2015-06-12 -0.008014 -0.005917 -0.003796 -0.017905  0.022807\n",
       "2015-06-15  0.004587 -0.005206 -0.005017 -0.013024 -0.001049\n",
       "2015-06-16  0.005136 -0.000746  0.003414  0.010335 -0.002891\n",
       "2015-06-17 -0.013754  0.001491  0.003203  0.003421  0.023414"
      ]
     },
     "metadata": {},
     "output_type": "display_data"
    }
   ],
   "source": [
    "# stock_returns = qs.utils.download_returns(ticker=portfolio_tickers, period=\"5y\").dropna()\n",
    "stock_quotes = load_and_filter_data('data/daily_stock_quotes.csv', portfolio_tickers, start_date, end_date)\n",
    "stock_returns = np.log(stock_quotes / stock_quotes.shift(1)).dropna()\n",
    "\n",
    "benchmark_quotes = load_and_filter_data('data/daily_benchmark_quotes.csv', benchmark, start_date, end_date)\n",
    "benchmark_returns = np.log(benchmark_quotes / benchmark_quotes.shift(1)).dropna()\n",
    "\n",
    "# Display summary statistics for all assets\n",
    "print(\"\\nSharpe Ratios for individual assets:\")\n",
    "sharpes = {col: qs.stats.sharpe(stock_returns[col]) for col in stock_returns.columns}\n",
    "for ticker, sharpe in sharpes.items():\n",
    "    print(f\"{ticker}: {sharpe:.4f}\")\n",
    "\n",
    "display(stock_returns.head())"
   ]
  },
  {
   "cell_type": "markdown",
   "id": "a1a9838e",
   "metadata": {},
   "source": [
    "### Step 6: Split Data into Training and Testing Sets"
   ]
  },
  {
   "cell_type": "code",
   "execution_count": 9,
   "id": "fe18e166",
   "metadata": {},
   "outputs": [
    {
     "name": "stdout",
     "output_type": "stream",
     "text": [
      "Training: 2009 rows (80.0%) | Testing: 503 rows (20.0%)\n",
      "Training period: 2015-06-10 00:00:00 to 2023-06-01 00:00:00\n",
      "Testing period: 2023-06-02 00:00:00 to 2025-06-04 00:00:00\n"
     ]
    }
   ],
   "source": [
    "# Split data into 80% training and 20% testing based on date\n",
    "total_rows = len(stock_quotes)\n",
    "train_size = int(0.8 * total_rows)\n",
    "training_set = stock_quotes.iloc[:train_size]\n",
    "test_set = stock_quotes.iloc[train_size:]\n",
    "\n",
    "print(f\"Training: {len(training_set)} rows ({len(training_set)/total_rows:.1%}) | Testing: {len(test_set)} rows ({len(test_set)/total_rows:.1%})\")\n",
    "print(f\"Training period: {training_set.index[0]} to {training_set.index[-1]}\")\n",
    "print(f\"Testing period: {test_set.index[0]} to {test_set.index[-1]}\")"
   ]
  },
  {
   "cell_type": "markdown",
   "id": "a40a588f",
   "metadata": {},
   "source": [
    "### Step 5: Plot Return Comparisons"
   ]
  },
  {
   "cell_type": "code",
   "execution_count": 10,
   "id": "89fe8da8",
   "metadata": {
    "execution": {
     "iopub.execute_input": "2025-05-29T14:22:12.629019Z",
     "iopub.status.busy": "2025-05-29T14:22:12.628840Z",
     "iopub.status.idle": "2025-05-29T14:22:12.716325Z",
     "shell.execute_reply": "2025-05-29T14:22:12.714827Z"
    }
   },
   "outputs": [
    {
     "name": "stdout",
     "output_type": "stream",
     "text": [
      "\n",
      "Portfolio Weights:\n",
      "MMC: 31.81%\n",
      "AMAT: 22.89%\n",
      "TMUS: 22.37%\n",
      "MRK: 14.53%\n",
      "APO: 8.40%\n",
      "\n",
      "Portfolio Performance Summary:\n",
      "Sharpe Ratio (Weighted Portfolio): 0.8348\n",
      "Sharpe Ratio (Equal-Weight): 0.8123\n"
     ]
    }
   ],
   "source": [
    "# Calculate portfolio returns using weights from Excel file\n",
    "portfolio_weights = portfolio_df.set_index('Ticker')['Weight'].to_dict()\n",
    "weighted_returns = pd.DataFrame()\n",
    "\n",
    "print(\"\\nPortfolio Weights:\")\n",
    "for ticker in portfolio_tickers:\n",
    "    weight = portfolio_weights.get(ticker, 0)\n",
    "    print(f\"{ticker}: {weight:.2%}\")\n",
    "    if ticker in stock_returns.columns:\n",
    "        weighted_returns[ticker] = stock_returns[ticker] * weight\n",
    "\n",
    "# Sum across all weighted returns to get the portfolio return\n",
    "portfolio_return = weighted_returns.sum(axis=1)\n",
    "\n",
    "# Create equal-weight portfolio for comparison\n",
    "equal_weight = 1/len([t for t in portfolio_tickers if t in stock_returns.columns])\n",
    "equal_weighted_returns = pd.DataFrame()\n",
    "\n",
    "for ticker in portfolio_tickers:\n",
    "    if ticker in stock_returns.columns:\n",
    "        equal_weighted_returns[ticker] = stock_returns[ticker] * equal_weight\n",
    "        \n",
    "equal_weight_return = equal_weighted_returns.sum(axis=1)\n",
    "\n",
    "print(\"\\nPortfolio Performance Summary:\")\n",
    "print(f\"Sharpe Ratio (Weighted Portfolio): {qs.stats.sharpe(portfolio_return):.4f}\")\n",
    "print(f\"Sharpe Ratio (Equal-Weight): {qs.stats.sharpe(equal_weight_return):.4f}\")\n",
    "\n",
    "plt.figure(figsize=(12, 6))\n",
    "(1 + portfolio_return).cumprod().plot(label='Weighted Portfolio')\n",
    "(1 + equal_weight_return).cumprod().plot(label='Equal Weight')\n",
    "(1 + benchmark_returns).cumprod().plot(label=benchmark)\n",
    "plt.legend()\n",
    "plt.title('Performance Comparison')\n",
    "plt.ylabel('Cumulative Return')\n",
    "plt.grid(True)\n",
    "plt.show()"
   ]
  },
  {
   "cell_type": "markdown",
   "id": "4c39a1ee",
   "metadata": {},
   "source": [
    "### Step 6: Generate Reports"
   ]
  },
  {
   "cell_type": "code",
   "execution_count": 11,
   "id": "0a5a262e",
   "metadata": {},
   "outputs": [
    {
     "name": "stdout",
     "output_type": "stream",
     "text": [
      "Portfolio weights:\n",
      "MMC: 0.3181\n",
      "AMAT: 0.2289\n",
      "TMUS: 0.2237\n",
      "MRK: 0.1453\n",
      "APO: 0.0840\n",
      "\n",
      "Ticker color assignments:\n",
      "MMC: #1f77b4\n",
      "AMAT: #ff7f0e\n",
      "TMUS: #2ca02c\n",
      "MRK: #d62728\n",
      "APO: #9467bd\n"
     ]
    },
    {
     "name": "stderr",
     "output_type": "stream",
     "text": [
      "100%|██████████| 2/2 [00:00<00:00, 16.77it/s]\n"
     ]
    },
    {
     "name": "stdout",
     "output_type": "stream",
     "text": [
      "Stat                 Portfolio    YYY\n",
      "-------------------  -----------  ----------\n",
      "Start                2023-06-01   2023-06-01\n",
      "End                  2025-06-04   2025-06-04\n",
      "Risk-free rate       4.24%        4.24%\n",
      "\n",
      "Total Return         29.04%       21.14%\n",
      "Daily Sharpe         0.64         0.56\n",
      "Daily Sortino        1.04         0.81\n",
      "CAGR                 13.53%       10.01%\n",
      "Max Drawdown         -13.94%      -14.44%\n",
      "Calmar Ratio         0.97         0.69\n",
      "\n",
      "MTD                  0.86%        0.70%\n",
      "3m                   -2.88%       0.35%\n",
      "6m                   -6.06%       -1.79%\n",
      "YTD                  1.51%        3.13%\n",
      "1Y                   2.86%        6.77%\n",
      "3Y (ann.)            13.53%       10.01%\n",
      "5Y (ann.)            -            -\n",
      "10Y (ann.)           -            -\n",
      "Since Incep. (ann.)  13.53%       10.01%\n",
      "\n",
      "Daily Sharpe         0.64         0.56\n",
      "Daily Sortino        1.04         0.81\n",
      "Daily Mean (ann.)    13.92%       10.20%\n",
      "Daily Vol (ann.)     15.18%       10.86%\n",
      "Daily Skew           0.17         -1.37\n",
      "Daily Kurt           12.51        22.51\n",
      "Best Day             7.63%        4.84%\n",
      "Worst Day            -6.67%       -6.40%\n",
      "\n",
      "Monthly Sharpe       0.74         0.57\n",
      "Monthly Sortino      1.47         1.11\n",
      "Monthly Mean (ann.)  13.59%       10.14%\n",
      "Monthly Vol (ann.)   12.80%       10.40%\n",
      "Monthly Skew         0.02         0.24\n",
      "Monthly Kurt         0.49         0.47\n",
      "Best Month           8.89%        8.53%\n",
      "Worst Month          -7.66%       -4.53%\n",
      "\n",
      "Yearly Sharpe        0.50         0.53\n",
      "Yearly Sortino       3.31         4.13\n",
      "Yearly Mean          10.64%       7.47%\n",
      "Yearly Vol           12.92%       6.14%\n",
      "Yearly Skew          -            -\n",
      "Yearly Kurt          -            -\n",
      "Best Year            19.77%       11.81%\n",
      "Worst Year           1.51%        3.13%\n",
      "\n",
      "Avg. Drawdown        -1.89%       -1.59%\n",
      "Avg. Drawdown Days   17.19        13.81\n",
      "Avg. Up Month        3.70%        2.86%\n",
      "Avg. Down Month      -1.90%       -1.97%\n",
      "Win Year %           100.00%      100.00%\n",
      "Win 12m %            92.86%       100.00%\n"
     ]
    },
    {
     "data": {
      "application/vnd.microsoft.datawrangler.viewer.v0+json": {
       "columns": [
        {
         "name": "('Date', 'Security')",
         "rawType": "object",
         "type": "unknown"
        },
        {
         "name": "price",
         "rawType": "float64",
         "type": "float"
        },
        {
         "name": "quantity",
         "rawType": "float64",
         "type": "float"
        }
       ],
       "ref": "3d1e3e56-78c5-4f51-8a95-5dad9fbe4d38",
       "rows": [
        [
         "(Timestamp('2023-09-07 00:00:00'), 'AMAT')",
         "146.43",
         "1563.0"
        ],
        [
         "(Timestamp('2023-09-07 00:00:00'), 'APO')",
         "84.87",
         "989.0"
        ],
        [
         "(Timestamp('2023-09-07 00:00:00'), 'MMC')",
         "191.45",
         "1661.0"
        ],
        [
         "(Timestamp('2023-09-07 00:00:00'), 'MRK')",
         "102.72",
         "1414.0"
        ],
        [
         "(Timestamp('2023-09-07 00:00:00'), 'TMUS')",
         "134.25",
         "1666.0"
        ],
        [
         "(Timestamp('2023-12-11 00:00:00'), 'AMAT')",
         "153.58",
         "8.0"
        ],
        [
         "(Timestamp('2023-12-11 00:00:00'), 'APO')",
         "90.01",
         "-5.0"
        ],
        [
         "(Timestamp('2023-12-11 00:00:00'), 'MMC')",
         "195.06",
         "58.0"
        ],
        [
         "(Timestamp('2023-12-11 00:00:00'), 'MRK')",
         "100.0",
         "118.0"
        ],
        [
         "(Timestamp('2023-12-11 00:00:00'), 'TMUS')",
         "156.02",
         "-155.0"
        ],
        [
         "(Timestamp('2024-03-18 00:00:00'), 'AMAT')",
         "199.05",
         "-202.0"
        ],
        [
         "(Timestamp('2024-03-18 00:00:00'), 'APO')",
         "108.38",
         "-61.0"
        ],
        [
         "(Timestamp('2024-03-18 00:00:00'), 'MMC')",
         "203.89",
         "139.0"
        ],
        [
         "(Timestamp('2024-03-18 00:00:00'), 'MRK')",
         "117.94",
         "-65.0"
        ],
        [
         "(Timestamp('2024-03-18 00:00:00'), 'TMUS')",
         "158.91",
         "165.0"
        ],
        [
         "(Timestamp('2024-06-21 00:00:00'), 'AMAT')",
         "233.87",
         "-95.0"
        ],
        [
         "(Timestamp('2024-06-21 00:00:00'), 'APO')",
         "116.21",
         "18.0"
        ],
        [
         "(Timestamp('2024-06-21 00:00:00'), 'MMC')",
         "212.02",
         "95.0"
        ],
        [
         "(Timestamp('2024-06-21 00:00:00'), 'MRK')",
         "127.72",
         "15.0"
        ],
        [
         "(Timestamp('2024-06-21 00:00:00'), 'TMUS')",
         "174.94",
         "-11.0"
        ],
        [
         "(Timestamp('2024-09-25 00:00:00'), 'AMAT')",
         "196.39",
         "246.0"
        ],
        [
         "(Timestamp('2024-09-25 00:00:00'), 'APO')",
         "123.39",
         "-54.0"
        ],
        [
         "(Timestamp('2024-09-25 00:00:00'), 'MMC')",
         "222.23",
         "-87.0"
        ],
        [
         "(Timestamp('2024-09-25 00:00:00'), 'MRK')",
         "112.84",
         "197.0"
        ],
        [
         "(Timestamp('2024-09-25 00:00:00'), 'TMUS')",
         "201.9",
         "-221.0"
        ],
        [
         "(Timestamp('2024-12-30 00:00:00'), 'AMAT')",
         "163.26",
         "261.0"
        ],
        [
         "(Timestamp('2024-12-30 00:00:00'), 'APO')",
         "165.45",
         "-242.0"
        ],
        [
         "(Timestamp('2024-12-30 00:00:00'), 'MMC')",
         "211.19",
         "48.0"
        ],
        [
         "(Timestamp('2024-12-30 00:00:00'), 'MRK')",
         "97.53",
         "214.0"
        ],
        [
         "(Timestamp('2024-12-30 00:00:00'), 'TMUS')",
         "219.92",
         "-152.0"
        ],
        [
         "(Timestamp('2025-04-07 00:00:00'), 'AMAT')",
         "132.85",
         "303.0"
        ],
        [
         "(Timestamp('2025-04-07 00:00:00'), 'APO')",
         "111.96",
         "262.0"
        ],
        [
         "(Timestamp('2025-04-07 00:00:00'), 'MMC')",
         "223.74",
         "-194.0"
        ],
        [
         "(Timestamp('2025-04-07 00:00:00'), 'MRK')",
         "81.18",
         "272.0"
        ],
        [
         "(Timestamp('2025-04-07 00:00:00'), 'TMUS')",
         "246.67",
         "-195.0"
        ]
       ],
       "shape": {
        "columns": 2,
        "rows": 35
       }
      },
      "text/html": [
       "<div>\n",
       "<style scoped>\n",
       "    .dataframe tbody tr th:only-of-type {\n",
       "        vertical-align: middle;\n",
       "    }\n",
       "\n",
       "    .dataframe tbody tr th {\n",
       "        vertical-align: top;\n",
       "    }\n",
       "\n",
       "    .dataframe thead th {\n",
       "        text-align: right;\n",
       "    }\n",
       "</style>\n",
       "<table border=\"1\" class=\"dataframe\">\n",
       "  <thead>\n",
       "    <tr style=\"text-align: right;\">\n",
       "      <th></th>\n",
       "      <th></th>\n",
       "      <th>price</th>\n",
       "      <th>quantity</th>\n",
       "    </tr>\n",
       "    <tr>\n",
       "      <th>Date</th>\n",
       "      <th>Security</th>\n",
       "      <th></th>\n",
       "      <th></th>\n",
       "    </tr>\n",
       "  </thead>\n",
       "  <tbody>\n",
       "    <tr>\n",
       "      <th rowspan=\"5\" valign=\"top\">2023-09-07</th>\n",
       "      <th>AMAT</th>\n",
       "      <td>146.43</td>\n",
       "      <td>1563.0</td>\n",
       "    </tr>\n",
       "    <tr>\n",
       "      <th>APO</th>\n",
       "      <td>84.87</td>\n",
       "      <td>989.0</td>\n",
       "    </tr>\n",
       "    <tr>\n",
       "      <th>MMC</th>\n",
       "      <td>191.45</td>\n",
       "      <td>1661.0</td>\n",
       "    </tr>\n",
       "    <tr>\n",
       "      <th>MRK</th>\n",
       "      <td>102.72</td>\n",
       "      <td>1414.0</td>\n",
       "    </tr>\n",
       "    <tr>\n",
       "      <th>TMUS</th>\n",
       "      <td>134.25</td>\n",
       "      <td>1666.0</td>\n",
       "    </tr>\n",
       "    <tr>\n",
       "      <th rowspan=\"5\" valign=\"top\">2023-12-11</th>\n",
       "      <th>AMAT</th>\n",
       "      <td>153.58</td>\n",
       "      <td>8.0</td>\n",
       "    </tr>\n",
       "    <tr>\n",
       "      <th>APO</th>\n",
       "      <td>90.01</td>\n",
       "      <td>-5.0</td>\n",
       "    </tr>\n",
       "    <tr>\n",
       "      <th>MMC</th>\n",
       "      <td>195.06</td>\n",
       "      <td>58.0</td>\n",
       "    </tr>\n",
       "    <tr>\n",
       "      <th>MRK</th>\n",
       "      <td>100.00</td>\n",
       "      <td>118.0</td>\n",
       "    </tr>\n",
       "    <tr>\n",
       "      <th>TMUS</th>\n",
       "      <td>156.02</td>\n",
       "      <td>-155.0</td>\n",
       "    </tr>\n",
       "    <tr>\n",
       "      <th rowspan=\"5\" valign=\"top\">2024-03-18</th>\n",
       "      <th>AMAT</th>\n",
       "      <td>199.05</td>\n",
       "      <td>-202.0</td>\n",
       "    </tr>\n",
       "    <tr>\n",
       "      <th>APO</th>\n",
       "      <td>108.38</td>\n",
       "      <td>-61.0</td>\n",
       "    </tr>\n",
       "    <tr>\n",
       "      <th>MMC</th>\n",
       "      <td>203.89</td>\n",
       "      <td>139.0</td>\n",
       "    </tr>\n",
       "    <tr>\n",
       "      <th>MRK</th>\n",
       "      <td>117.94</td>\n",
       "      <td>-65.0</td>\n",
       "    </tr>\n",
       "    <tr>\n",
       "      <th>TMUS</th>\n",
       "      <td>158.91</td>\n",
       "      <td>165.0</td>\n",
       "    </tr>\n",
       "    <tr>\n",
       "      <th rowspan=\"5\" valign=\"top\">2024-06-21</th>\n",
       "      <th>AMAT</th>\n",
       "      <td>233.87</td>\n",
       "      <td>-95.0</td>\n",
       "    </tr>\n",
       "    <tr>\n",
       "      <th>APO</th>\n",
       "      <td>116.21</td>\n",
       "      <td>18.0</td>\n",
       "    </tr>\n",
       "    <tr>\n",
       "      <th>MMC</th>\n",
       "      <td>212.02</td>\n",
       "      <td>95.0</td>\n",
       "    </tr>\n",
       "    <tr>\n",
       "      <th>MRK</th>\n",
       "      <td>127.72</td>\n",
       "      <td>15.0</td>\n",
       "    </tr>\n",
       "    <tr>\n",
       "      <th>TMUS</th>\n",
       "      <td>174.94</td>\n",
       "      <td>-11.0</td>\n",
       "    </tr>\n",
       "    <tr>\n",
       "      <th rowspan=\"5\" valign=\"top\">2024-09-25</th>\n",
       "      <th>AMAT</th>\n",
       "      <td>196.39</td>\n",
       "      <td>246.0</td>\n",
       "    </tr>\n",
       "    <tr>\n",
       "      <th>APO</th>\n",
       "      <td>123.39</td>\n",
       "      <td>-54.0</td>\n",
       "    </tr>\n",
       "    <tr>\n",
       "      <th>MMC</th>\n",
       "      <td>222.23</td>\n",
       "      <td>-87.0</td>\n",
       "    </tr>\n",
       "    <tr>\n",
       "      <th>MRK</th>\n",
       "      <td>112.84</td>\n",
       "      <td>197.0</td>\n",
       "    </tr>\n",
       "    <tr>\n",
       "      <th>TMUS</th>\n",
       "      <td>201.90</td>\n",
       "      <td>-221.0</td>\n",
       "    </tr>\n",
       "    <tr>\n",
       "      <th rowspan=\"5\" valign=\"top\">2024-12-30</th>\n",
       "      <th>AMAT</th>\n",
       "      <td>163.26</td>\n",
       "      <td>261.0</td>\n",
       "    </tr>\n",
       "    <tr>\n",
       "      <th>APO</th>\n",
       "      <td>165.45</td>\n",
       "      <td>-242.0</td>\n",
       "    </tr>\n",
       "    <tr>\n",
       "      <th>MMC</th>\n",
       "      <td>211.19</td>\n",
       "      <td>48.0</td>\n",
       "    </tr>\n",
       "    <tr>\n",
       "      <th>MRK</th>\n",
       "      <td>97.53</td>\n",
       "      <td>214.0</td>\n",
       "    </tr>\n",
       "    <tr>\n",
       "      <th>TMUS</th>\n",
       "      <td>219.92</td>\n",
       "      <td>-152.0</td>\n",
       "    </tr>\n",
       "    <tr>\n",
       "      <th rowspan=\"5\" valign=\"top\">2025-04-07</th>\n",
       "      <th>AMAT</th>\n",
       "      <td>132.85</td>\n",
       "      <td>303.0</td>\n",
       "    </tr>\n",
       "    <tr>\n",
       "      <th>APO</th>\n",
       "      <td>111.96</td>\n",
       "      <td>262.0</td>\n",
       "    </tr>\n",
       "    <tr>\n",
       "      <th>MMC</th>\n",
       "      <td>223.74</td>\n",
       "      <td>-194.0</td>\n",
       "    </tr>\n",
       "    <tr>\n",
       "      <th>MRK</th>\n",
       "      <td>81.18</td>\n",
       "      <td>272.0</td>\n",
       "    </tr>\n",
       "    <tr>\n",
       "      <th>TMUS</th>\n",
       "      <td>246.67</td>\n",
       "      <td>-195.0</td>\n",
       "    </tr>\n",
       "  </tbody>\n",
       "</table>\n",
       "</div>"
      ],
      "text/plain": [
       "                      price  quantity\n",
       "Date       Security                  \n",
       "2023-09-07 AMAT      146.43    1563.0\n",
       "           APO        84.87     989.0\n",
       "           MMC       191.45    1661.0\n",
       "           MRK       102.72    1414.0\n",
       "           TMUS      134.25    1666.0\n",
       "2023-12-11 AMAT      153.58       8.0\n",
       "           APO        90.01      -5.0\n",
       "           MMC       195.06      58.0\n",
       "           MRK       100.00     118.0\n",
       "           TMUS      156.02    -155.0\n",
       "2024-03-18 AMAT      199.05    -202.0\n",
       "           APO       108.38     -61.0\n",
       "           MMC       203.89     139.0\n",
       "           MRK       117.94     -65.0\n",
       "           TMUS      158.91     165.0\n",
       "2024-06-21 AMAT      233.87     -95.0\n",
       "           APO       116.21      18.0\n",
       "           MMC       212.02      95.0\n",
       "           MRK       127.72      15.0\n",
       "           TMUS      174.94     -11.0\n",
       "2024-09-25 AMAT      196.39     246.0\n",
       "           APO       123.39     -54.0\n",
       "           MMC       222.23     -87.0\n",
       "           MRK       112.84     197.0\n",
       "           TMUS      201.90    -221.0\n",
       "2024-12-30 AMAT      163.26     261.0\n",
       "           APO       165.45    -242.0\n",
       "           MMC       211.19      48.0\n",
       "           MRK        97.53     214.0\n",
       "           TMUS      219.92    -152.0\n",
       "2025-04-07 AMAT      132.85     303.0\n",
       "           APO       111.96     262.0\n",
       "           MMC       223.74    -194.0\n",
       "           MRK        81.18     272.0\n",
       "           TMUS      246.67    -195.0"
      ]
     },
     "metadata": {},
     "output_type": "display_data"
    },
    {
     "name": "stderr",
     "output_type": "stream",
     "text": [
      "No artists with labels found to put in legend.  Note that artists whose label start with an underscore are ignored when legend() is called with no argument.\n"
     ]
    },
    {
     "data": {
      "text/plain": [
       "<Axes: title={'center': 'Portfolio vs Benchmark Performance'}, ylabel='Cumulative Returns'>"
      ]
     },
     "execution_count": 11,
     "metadata": {},
     "output_type": "execute_result"
    }
   ],
   "source": [
    "import bt\n",
    "import matplotlib.pyplot as plt\n",
    "\n",
    "# Create weights dictionary using portfolio_df instead of optimal_portfolio_df\n",
    "weights = {}\n",
    "for _, row in portfolio_df.iterrows():\n",
    "    ticker = row['Ticker']\n",
    "    weight = row['Weight'] \n",
    "    weights[ticker] = weight\n",
    "\n",
    "print(\"Portfolio weights:\")\n",
    "for ticker, weight in weights.items():\n",
    "    print(f\"{ticker}: {weight:.4f}\")\n",
    "\n",
    "# Pre-assign colors to tickers for consistency across all plots\n",
    "ticker_color_map = {}\n",
    "base_colors = ['#1f77b4', '#ff7f0e', '#2ca02c', '#d62728', '#9467bd', '#8c564b', \n",
    "               '#e377c2', '#7f7f7f', '#bcbd22', '#17becf', '#aec7e8', '#ffbb78']\n",
    "\n",
    "for i, ticker in enumerate(portfolio_tickers):\n",
    "    ticker_color_map[ticker] = base_colors[i % len(base_colors)]\n",
    "\n",
    "print(\"\\nTicker color assignments:\")\n",
    "for ticker, color in ticker_color_map.items():\n",
    "    print(f\"{ticker}: {color}\")\n",
    "\n",
    "# Create price data for bt (convert from quotes to prices)\n",
    "# Combine stock quotes and benchmark quotes\n",
    "all_quotes = test_set.copy()\n",
    "all_quotes[benchmark] = benchmark_quotes[benchmark]\n",
    "\n",
    "# Create bt strategies\n",
    "# Strategy 1 - Portfolio with quarterly rebalancing\n",
    "portfolio_strategy = bt.Strategy('Portfolio', \n",
    "                                [\n",
    "                                    bt.algos.RunEveryNPeriods(66, offset=66),  # Trading every 66 days (approx. quarterly)                 \n",
    "                                    bt.algos.SelectAll(),\n",
    "                                    bt.algos.WeighSpecified(**weights),       \n",
    "                                    bt.algos.Rebalance()\n",
    "                                ])\n",
    "\n",
    "# Strategy 2 - Benchmark (buy and hold)\n",
    "benchmark_strategy = bt.Strategy(f'{benchmark}',\n",
    "                                [\n",
    "                                    bt.algos.RunEveryNPeriods(66, offset=66),\n",
    "                                    bt.algos.SelectThese([benchmark]),\n",
    "                                    bt.algos.WeighEqually(),\n",
    "                                    bt.algos.Rebalance()\n",
    "                                ])\n",
    "\n",
    "# Create backtests\n",
    "portfolio_test = bt.Backtest(portfolio_strategy, all_quotes[portfolio_tickers])\n",
    "benchmark_test = bt.Backtest(benchmark_strategy, all_quotes[[benchmark]])\n",
    "\n",
    "# Run backtests\n",
    "result = bt.run(portfolio_test, benchmark_test)\n",
    "result.set_riskfree_rate(risk_free_rate)\n",
    "\n",
    "# Show performance metrics\n",
    "result.display()\n",
    "display(result.get_transactions())\n",
    "\n",
    "# Plot weights over time using pre-assigned colors\n",
    "fig, ax = plt.subplots(figsize=(10, 6))\n",
    "\n",
    "# Get the weight data from the result - access it through the strategy result\n",
    "portfolio_result = result['Portfolio Strategy']\n",
    "\n",
    "ax.set_title('Portfolio Weights Over Time', fontsize=14, fontweight='bold')\n",
    "ax.set_ylabel('Weight', fontsize=12)\n",
    "ax.legend(loc='upper left', fontsize=10)\n",
    "ax.grid(True, alpha=0.3)\n",
    "plt.tight_layout()\n",
    "plt.show()\n",
    "\n",
    "# Plot cumulative returns comparison\n",
    "result.plot(figsize=(12, 8),\n",
    "           ylabel='Cumulative Returns',\n",
    "           title='Portfolio vs Benchmark Performance',\n",
    "           legend=True,\n",
    "           grid=True)"
   ]
  },
  {
   "cell_type": "markdown",
   "id": "51e0abce",
   "metadata": {},
   "source": [
    "#### Portfolio (Weighted) vs Benchmark"
   ]
  },
  {
   "cell_type": "code",
   "execution_count": 12,
   "id": "7ff157dd",
   "metadata": {
    "execution": {
     "iopub.execute_input": "2025-05-29T14:22:12.721010Z",
     "iopub.status.busy": "2025-05-29T14:22:12.719522Z",
     "iopub.status.idle": "2025-05-29T14:22:19.507410Z",
     "shell.execute_reply": "2025-05-29T14:22:19.505840Z"
    }
   },
   "outputs": [
    {
     "name": "stdout",
     "output_type": "stream",
     "text": [
      "Original portfolio_return length: 2511\n",
      "Filtered portfolio_return length: 503\n",
      "Test period: 2023-06-02 00:00:00 to 2025-06-04 00:00:00\n"
     ]
    },
    {
     "name": "stderr",
     "output_type": "stream",
     "text": [
      "/home/renanmogo/mfin-algo-trading-team8/.venv/lib/python3.13/site-packages/numpy/core/fromnumeric.py:86: FutureWarning: The behavior of DataFrame.prod with axis=None is deprecated, in a future version this will reduce over both axes and return a scalar. To retain the old behavior, pass axis=0 (or do not pass axis)\n",
      "  return reduction(axis=axis, out=out, **passkwargs)\n",
      "/home/renanmogo/mfin-algo-trading-team8/.venv/lib/python3.13/site-packages/numpy/core/fromnumeric.py:86: FutureWarning: The behavior of DataFrame.prod with axis=None is deprecated, in a future version this will reduce over both axes and return a scalar. To retain the old behavior, pass axis=0 (or do not pass axis)\n",
      "  return reduction(axis=axis, out=out, **passkwargs)\n",
      "/home/renanmogo/mfin-algo-trading-team8/.venv/lib/python3.13/site-packages/numpy/core/fromnumeric.py:86: FutureWarning: The behavior of DataFrame.prod with axis=None is deprecated, in a future version this will reduce over both axes and return a scalar. To retain the old behavior, pass axis=0 (or do not pass axis)\n",
      "  return reduction(axis=axis, out=out, **passkwargs)\n",
      "/home/renanmogo/mfin-algo-trading-team8/.venv/lib/python3.13/site-packages/quantstats/stats.py:510: FutureWarning: 'M' is deprecated and will be removed in a future version, please use 'ME' instead.\n",
      "  returns = _utils._prepare_returns(returns, rf).resample(resolution).sum()\n",
      "/home/renanmogo/mfin-algo-trading-team8/.venv/lib/python3.13/site-packages/quantstats/_plotting/wrappers.py:555: FutureWarning: 'A' is deprecated and will be removed in a future version, please use 'YE' instead.\n",
      "  .resample(\"A\")\n",
      "/home/renanmogo/mfin-algo-trading-team8/.venv/lib/python3.13/site-packages/quantstats/_plotting/wrappers.py:557: FutureWarning: 'A' is deprecated and will be removed in a future version, please use 'YE' instead.\n",
      "  .resample(\"A\")\n",
      "/home/renanmogo/mfin-algo-trading-team8/.venv/lib/python3.13/site-packages/quantstats/_plotting/wrappers.py:565: FutureWarning: 'A' is deprecated and will be removed in a future version, please use 'YE' instead.\n",
      "  returns = returns.resample(\"A\").apply(_stats.comp)\n",
      "/home/renanmogo/mfin-algo-trading-team8/.venv/lib/python3.13/site-packages/quantstats/_plotting/wrappers.py:568: FutureWarning: 'A' is deprecated and will be removed in a future version, please use 'YE' instead.\n",
      "  returns = returns.resample(\"A\").last()\n",
      "/home/renanmogo/mfin-algo-trading-team8/.venv/lib/python3.13/site-packages/quantstats/_plotting/core.py:433: FutureWarning: 'M' is deprecated and will be removed in a future version, please use 'ME' instead.\n",
      "  .resample(resample)\n",
      "/home/renanmogo/mfin-algo-trading-team8/.venv/lib/python3.13/site-packages/quantstats/_plotting/core.py:435: FutureWarning: 'M' is deprecated and will be removed in a future version, please use 'ME' instead.\n",
      "  .resample(resample)\n",
      "/home/renanmogo/mfin-algo-trading-team8/.venv/lib/python3.13/site-packages/quantstats/_plotting/core.py:440: FutureWarning: 'M' is deprecated and will be removed in a future version, please use 'ME' instead.\n",
      "  returns.fillna(0).resample(resample).apply(apply_fnc).resample(resample).last()\n",
      "/home/renanmogo/mfin-algo-trading-team8/.venv/lib/python3.13/site-packages/quantstats/_plotting/core.py:1018: FutureWarning: 'M' is deprecated and will be removed in a future version, please use 'ME' instead.\n",
      "  port[\"Monthly\"] = port[\"Daily\"].resample(\"M\").apply(apply_fnc)\n",
      "/home/renanmogo/mfin-algo-trading-team8/.venv/lib/python3.13/site-packages/quantstats/_plotting/core.py:1021: FutureWarning: 'Q' is deprecated and will be removed in a future version, please use 'QE' instead.\n",
      "  port[\"Quarterly\"] = port[\"Daily\"].resample(\"Q\").apply(apply_fnc)\n",
      "/home/renanmogo/mfin-algo-trading-team8/.venv/lib/python3.13/site-packages/quantstats/_plotting/core.py:1024: FutureWarning: 'A' is deprecated and will be removed in a future version, please use 'YE' instead.\n",
      "  port[\"Yearly\"] = port[\"Daily\"].resample(\"A\").apply(apply_fnc)\n"
     ]
    },
    {
     "name": "stdout",
     "output_type": "stream",
     "text": [
      "Added download button and removed QuantStats attribution from portfolios/portfolio_vs_benchmark_long_term-2025-06-06.html\n"
     ]
    },
    {
     "data": {
      "text/html": [
       "<h4>Performance Metrics</h4>"
      ],
      "text/plain": [
       "<IPython.core.display.HTML object>"
      ]
     },
     "metadata": {},
     "output_type": "display_data"
    },
    {
     "name": "stderr",
     "output_type": "stream",
     "text": [
      "/home/renanmogo/mfin-algo-trading-team8/.venv/lib/python3.13/site-packages/numpy/core/fromnumeric.py:86: FutureWarning: The behavior of DataFrame.prod with axis=None is deprecated, in a future version this will reduce over both axes and return a scalar. To retain the old behavior, pass axis=0 (or do not pass axis)\n",
      "  return reduction(axis=axis, out=out, **passkwargs)\n",
      "/home/renanmogo/mfin-algo-trading-team8/.venv/lib/python3.13/site-packages/numpy/core/fromnumeric.py:86: FutureWarning: The behavior of DataFrame.prod with axis=None is deprecated, in a future version this will reduce over both axes and return a scalar. To retain the old behavior, pass axis=0 (or do not pass axis)\n",
      "  return reduction(axis=axis, out=out, **passkwargs)\n",
      "/home/renanmogo/mfin-algo-trading-team8/.venv/lib/python3.13/site-packages/numpy/core/fromnumeric.py:86: FutureWarning: The behavior of DataFrame.prod with axis=None is deprecated, in a future version this will reduce over both axes and return a scalar. To retain the old behavior, pass axis=0 (or do not pass axis)\n",
      "  return reduction(axis=axis, out=out, **passkwargs)\n",
      "/home/renanmogo/mfin-algo-trading-team8/.venv/lib/python3.13/site-packages/quantstats/stats.py:510: FutureWarning: 'M' is deprecated and will be removed in a future version, please use 'ME' instead.\n",
      "  returns = _utils._prepare_returns(returns, rf).resample(resolution).sum()\n"
     ]
    },
    {
     "name": "stdout",
     "output_type": "stream",
     "text": [
      "                           YYY         Strategy\n",
      "-------------------------  ----------  ----------\n",
      "Start Period               2023-06-02  2023-06-02\n",
      "End Period                 2025-06-04  2025-06-04\n",
      "Risk-Free Rate             4.24%       4.24%\n",
      "Time in Market             90.0%       100.0%\n",
      "\n",
      "Cumulative Return          24.18%      30.11%\n",
      "CAGR﹪                     0.03%       0.04%\n",
      "\n",
      "Sharpe                     0.65        0.65\n",
      "Prob. Sharpe Ratio         68.08%      62.99%\n",
      "Smart Sharpe               0.6         0.6\n",
      "Sortino                    0.87        0.92\n",
      "Smart Sortino              0.81        0.85\n",
      "Sortino/√2                 0.62        0.65\n",
      "Smart Sortino/√2           0.57        0.6\n",
      "Omega                      1.12        1.12\n",
      "\n",
      "Max Drawdown               -14.74%     -15.66%\n",
      "Longest DD Days            122         184\n",
      "Volatility (ann.)          11.2%       15.88%\n",
      "R^2                        0.38        0.38\n",
      "Information Ratio          0.01        0.01\n",
      "Calmar                     0.52        0.6\n",
      "Skew                       -1.5        -0.17\n",
      "Kurtosis                   21.25       9.84\n",
      "\n",
      "Expected Daily %           0.04%       0.05%\n",
      "Expected Monthly %         0.87%       1.06%\n",
      "Expected Yearly %          7.49%       9.17%\n",
      "Kelly Criterion            10.29%      6.16%\n",
      "Risk of Ruin               0.0%        0.0%\n",
      "Daily Value-at-Risk        -1.12%      -1.59%\n",
      "Expected Shortfall (cVaR)  -1.12%      -1.59%\n",
      "\n",
      "Max Consecutive Wins       9           8\n",
      "Max Consecutive Losses     8           6\n",
      "Gain/Pain Ratio            0.23        0.17\n",
      "Gain/Pain (1M)             1.05        1.22\n",
      "\n",
      "Payoff Ratio               0.9         0.96\n",
      "Profit Factor              1.23        1.17\n",
      "Common Sense Ratio         1.16        1.16\n",
      "CPC Index                  0.63        0.61\n",
      "Tail Ratio                 0.95        0.99\n",
      "Outlier Win Ratio          4.81        2.68\n",
      "Outlier Loss Ratio         4.08        3.04\n",
      "\n",
      "MTD                        0.7%        0.78%\n",
      "3M                         -1.22%      -6.24%\n",
      "6M                         -2.23%      -9.23%\n",
      "YTD                        2.46%       -1.37%\n",
      "1Y                         5.94%       -1.96%\n",
      "3Y (ann.)                  0.03%       0.04%\n",
      "5Y (ann.)                  0.03%       0.04%\n",
      "10Y (ann.)                 0.03%       0.04%\n",
      "All-time (ann.)            0.03%       0.04%\n",
      "\n",
      "Best Day                   4.72%       7.25%\n",
      "Worst Day                  -6.62%      -7.02%\n",
      "Best Month                 8.43%       8.39%\n",
      "Worst Month                -4.58%      -7.59%\n",
      "Best Year                  11.44%      16.06%\n",
      "Worst Year                 2.46%       -1.37%\n",
      "\n",
      "Avg. Drawdown              -1.63%      -1.86%\n",
      "Avg. Drawdown Days         15          15\n",
      "Recovery Factor            1.64        1.92\n",
      "Ulcer Index                0.03        0.04\n",
      "Serenity Index             0.76        0.7\n",
      "\n",
      "Avg. Up Month              3.02%       3.55%\n",
      "Avg. Down Month            -2.97%      -3.36%\n",
      "Win Days %                 57.59%      54.08%\n",
      "Win Month %                64.0%       64.0%\n",
      "Win Quarter %              77.78%      66.67%\n",
      "Win Year %                 100.0%      66.67%\n",
      "\n",
      "Beta                       -           0.88\n",
      "Alpha                      -           0.04\n",
      "Correlation                -           62.05%\n",
      "Treynor Ratio              -           29.42%\n"
     ]
    },
    {
     "data": {
      "text/plain": [
       "None"
      ]
     },
     "metadata": {},
     "output_type": "display_data"
    },
    {
     "data": {
      "text/html": [
       "<h4 style=\"margin-bottom:20px\">Worst 5 Drawdowns</h4>"
      ],
      "text/plain": [
       "<IPython.core.display.HTML object>"
      ]
     },
     "metadata": {},
     "output_type": "display_data"
    },
    {
     "data": {
      "application/vnd.microsoft.datawrangler.viewer.v0+json": {
       "columns": [
        {
         "name": "index",
         "rawType": "int64",
         "type": "integer"
        },
        {
         "name": "Start",
         "rawType": "object",
         "type": "string"
        },
        {
         "name": "Valley",
         "rawType": "object",
         "type": "string"
        },
        {
         "name": "End",
         "rawType": "object",
         "type": "string"
        },
        {
         "name": "Days",
         "rawType": "int64",
         "type": "integer"
        },
        {
         "name": "Max Drawdown",
         "rawType": "float64",
         "type": "float"
        },
        {
         "name": "99% Max Drawdown",
         "rawType": "float64",
         "type": "float"
        }
       ],
       "ref": "d66c9834-fd3b-49e6-9c39-e43c8a4995ae",
       "rows": [
        [
         "1",
         "2024-12-03",
         "2025-04-08",
         "2025-06-04",
         "184",
         "-15.658336764923764",
         "-14.391187972742092"
        ],
        [
         "2",
         "2024-07-17",
         "2024-08-05",
         "2024-10-11",
         "87",
         "-9.844154225995505",
         "-9.279886819467508"
        ],
        [
         "3",
         "2023-09-15",
         "2023-10-27",
         "2023-11-09",
         "56",
         "-6.535265038351145",
         "-5.899937120610388"
        ],
        [
         "4",
         "2024-10-15",
         "2024-10-31",
         "2024-11-29",
         "46",
         "-5.160198661046711",
         "-5.000850889814446"
        ],
        [
         "5",
         "2023-12-14",
         "2023-12-20",
         "2024-01-11",
         "29",
         "-3.583005318647947",
         "-2.5269758836433787"
        ]
       ],
       "shape": {
        "columns": 6,
        "rows": 5
       }
      },
      "text/html": [
       "<div>\n",
       "<style scoped>\n",
       "    .dataframe tbody tr th:only-of-type {\n",
       "        vertical-align: middle;\n",
       "    }\n",
       "\n",
       "    .dataframe tbody tr th {\n",
       "        vertical-align: top;\n",
       "    }\n",
       "\n",
       "    .dataframe thead th {\n",
       "        text-align: right;\n",
       "    }\n",
       "</style>\n",
       "<table border=\"1\" class=\"dataframe\">\n",
       "  <thead>\n",
       "    <tr style=\"text-align: right;\">\n",
       "      <th></th>\n",
       "      <th>Start</th>\n",
       "      <th>Valley</th>\n",
       "      <th>End</th>\n",
       "      <th>Days</th>\n",
       "      <th>Max Drawdown</th>\n",
       "      <th>99% Max Drawdown</th>\n",
       "    </tr>\n",
       "  </thead>\n",
       "  <tbody>\n",
       "    <tr>\n",
       "      <th>1</th>\n",
       "      <td>2024-12-03</td>\n",
       "      <td>2025-04-08</td>\n",
       "      <td>2025-06-04</td>\n",
       "      <td>184</td>\n",
       "      <td>-15.658337</td>\n",
       "      <td>-14.391188</td>\n",
       "    </tr>\n",
       "    <tr>\n",
       "      <th>2</th>\n",
       "      <td>2024-07-17</td>\n",
       "      <td>2024-08-05</td>\n",
       "      <td>2024-10-11</td>\n",
       "      <td>87</td>\n",
       "      <td>-9.844154</td>\n",
       "      <td>-9.279887</td>\n",
       "    </tr>\n",
       "    <tr>\n",
       "      <th>3</th>\n",
       "      <td>2023-09-15</td>\n",
       "      <td>2023-10-27</td>\n",
       "      <td>2023-11-09</td>\n",
       "      <td>56</td>\n",
       "      <td>-6.535265</td>\n",
       "      <td>-5.899937</td>\n",
       "    </tr>\n",
       "    <tr>\n",
       "      <th>4</th>\n",
       "      <td>2024-10-15</td>\n",
       "      <td>2024-10-31</td>\n",
       "      <td>2024-11-29</td>\n",
       "      <td>46</td>\n",
       "      <td>-5.160199</td>\n",
       "      <td>-5.000851</td>\n",
       "    </tr>\n",
       "    <tr>\n",
       "      <th>5</th>\n",
       "      <td>2023-12-14</td>\n",
       "      <td>2023-12-20</td>\n",
       "      <td>2024-01-11</td>\n",
       "      <td>29</td>\n",
       "      <td>-3.583005</td>\n",
       "      <td>-2.526976</td>\n",
       "    </tr>\n",
       "  </tbody>\n",
       "</table>\n",
       "</div>"
      ],
      "text/plain": [
       "        Start      Valley         End  Days  Max Drawdown  99% Max Drawdown\n",
       "1  2024-12-03  2025-04-08  2025-06-04   184    -15.658337        -14.391188\n",
       "2  2024-07-17  2024-08-05  2024-10-11    87     -9.844154         -9.279887\n",
       "3  2023-09-15  2023-10-27  2023-11-09    56     -6.535265         -5.899937\n",
       "4  2024-10-15  2024-10-31  2024-11-29    46     -5.160199         -5.000851\n",
       "5  2023-12-14  2023-12-20  2024-01-11    29     -3.583005         -2.526976"
      ]
     },
     "metadata": {},
     "output_type": "display_data"
    },
    {
     "data": {
      "text/html": [
       "<h4>Strategy Visualization</h4>"
      ],
      "text/plain": [
       "<IPython.core.display.HTML object>"
      ]
     },
     "metadata": {},
     "output_type": "display_data"
    },
    {
     "name": "stderr",
     "output_type": "stream",
     "text": [
      "/home/renanmogo/mfin-algo-trading-team8/.venv/lib/python3.13/site-packages/quantstats/_plotting/wrappers.py:555: FutureWarning: 'A' is deprecated and will be removed in a future version, please use 'YE' instead.\n",
      "  .resample(\"A\")\n",
      "/home/renanmogo/mfin-algo-trading-team8/.venv/lib/python3.13/site-packages/quantstats/_plotting/wrappers.py:557: FutureWarning: 'A' is deprecated and will be removed in a future version, please use 'YE' instead.\n",
      "  .resample(\"A\")\n",
      "/home/renanmogo/mfin-algo-trading-team8/.venv/lib/python3.13/site-packages/quantstats/_plotting/wrappers.py:565: FutureWarning: 'A' is deprecated and will be removed in a future version, please use 'YE' instead.\n",
      "  returns = returns.resample(\"A\").apply(_stats.comp)\n",
      "/home/renanmogo/mfin-algo-trading-team8/.venv/lib/python3.13/site-packages/quantstats/_plotting/wrappers.py:568: FutureWarning: 'A' is deprecated and will be removed in a future version, please use 'YE' instead.\n",
      "  returns = returns.resample(\"A\").last()\n",
      "/home/renanmogo/mfin-algo-trading-team8/.venv/lib/python3.13/site-packages/quantstats/_plotting/core.py:433: FutureWarning: 'M' is deprecated and will be removed in a future version, please use 'ME' instead.\n",
      "  .resample(resample)\n",
      "/home/renanmogo/mfin-algo-trading-team8/.venv/lib/python3.13/site-packages/quantstats/_plotting/core.py:435: FutureWarning: 'M' is deprecated and will be removed in a future version, please use 'ME' instead.\n",
      "  .resample(resample)\n",
      "/home/renanmogo/mfin-algo-trading-team8/.venv/lib/python3.13/site-packages/quantstats/_plotting/core.py:440: FutureWarning: 'M' is deprecated and will be removed in a future version, please use 'ME' instead.\n",
      "  returns.fillna(0).resample(resample).apply(apply_fnc).resample(resample).last()\n",
      "/home/renanmogo/mfin-algo-trading-team8/.venv/lib/python3.13/site-packages/quantstats/_plotting/core.py:1018: FutureWarning: 'M' is deprecated and will be removed in a future version, please use 'ME' instead.\n",
      "  port[\"Monthly\"] = port[\"Daily\"].resample(\"M\").apply(apply_fnc)\n",
      "/home/renanmogo/mfin-algo-trading-team8/.venv/lib/python3.13/site-packages/quantstats/_plotting/core.py:1021: FutureWarning: 'Q' is deprecated and will be removed in a future version, please use 'QE' instead.\n",
      "  port[\"Quarterly\"] = port[\"Daily\"].resample(\"Q\").apply(apply_fnc)\n",
      "/home/renanmogo/mfin-algo-trading-team8/.venv/lib/python3.13/site-packages/quantstats/_plotting/core.py:1024: FutureWarning: 'A' is deprecated and will be removed in a future version, please use 'YE' instead.\n",
      "  port[\"Yearly\"] = port[\"Daily\"].resample(\"A\").apply(apply_fnc)\n"
     ]
    }
   ],
   "source": [
    "# Filter portfolio_return and benchmark_returns to match test_set dates\n",
    "test_start_date = test_set.index[0]\n",
    "test_end_date = test_set.index[-1]\n",
    "\n",
    "# Filter portfolio_return to test period\n",
    "portfolio_return_test = portfolio_return.loc[test_start_date:test_end_date]\n",
    "portfolio_return_test.name = \"Weighted Portfolio\"\n",
    "\n",
    "# Filter benchmark_returns to test period\n",
    "benchmark_returns_test = benchmark_returns.loc[test_start_date:test_end_date]\n",
    "\n",
    "print(f\"Original portfolio_return length: {len(portfolio_return)}\")\n",
    "print(f\"Filtered portfolio_return length: {len(portfolio_return_test)}\")\n",
    "print(f\"Test period: {test_start_date} to {test_end_date}\")\n",
    "\n",
    "# Generate Report using filtered data\n",
    "qs.reports.html(\n",
    "    portfolio_return_test,\n",
    "    benchmark_returns_test,\n",
    "    rf=risk_free_rate,\n",
    "    figsize=(8, 5),\n",
    "    output=f'portfolios/portfolio_vs_benchmark_long_term-{datetime.date(end_date)}.html',\n",
    "    title=f'Portfolio vs {benchmark} (Benchmark) - Test Period',\n",
    "    benchmark_title=f'{benchmark}',\n",
    "    download_filename=f'portfolio_vs_{benchmark}.html'\n",
    ")\n",
    "\n",
    "qs.reports.full(\n",
    "    portfolio_return_test, \n",
    "    benchmark_returns_test,\n",
    "    rf=risk_free_rate, \n",
    "    figsize=(8, 5), \n",
    "    title=f'Portfolio vs {benchmark} - Test Period',\n",
    "    benchmark_title=f'{benchmark}')"
   ]
  },
  {
   "cell_type": "markdown",
   "id": "fc233166",
   "metadata": {},
   "source": [
    "#### Portfolio (Weighted) vs Portolio (Equally-Weighted)"
   ]
  },
  {
   "cell_type": "code",
   "execution_count": 13,
   "id": "ba5f845c",
   "metadata": {
    "execution": {
     "iopub.execute_input": "2025-05-29T14:22:19.511793Z",
     "iopub.status.busy": "2025-05-29T14:22:19.511416Z",
     "iopub.status.idle": "2025-05-29T14:22:25.407510Z",
     "shell.execute_reply": "2025-05-29T14:22:25.406356Z"
    }
   },
   "outputs": [],
   "source": [
    "# # Ensure equal_weight_return and portfolio_return are properly aggregated if resampled\n",
    "# equal_weight_return = equal_weight_return.resample('D').sum() if equal_weight_return.index.freq is None else equal_weight_return\n",
    "# portfolio_return = portfolio_return.resample('D').sum() if portfolio_return.index.freq is None else portfolio_return\n",
    "\n",
    "# # Set the name for the equal weight portfolio\n",
    "# equal_weight_return.name = \"Equal Weight Portfolio\"\n",
    "\n",
    "# # Generate Report\n",
    "# qs.reports.html(\n",
    "#     portfolio_return,\n",
    "#     equal_weight_return,\n",
    "#     rf=risk_free_rate,\n",
    "#     figsize=(8, 5),\n",
    "#     output=f'portfolio_vs_equal_weight-{datetime.date(end_date)}.html',\n",
    "#     title='Portfolio (Weighted) vs Portolio (Equally-Weighted)',\n",
    "#     benchmark_title=\"Equal Weight Portfolio\",\n",
    "#     download_filename=\"portfolio_vs_equal_weight.html\" \n",
    "# )\n",
    "\n",
    "# qs.reports.full(\n",
    "#     portfolio_return, \n",
    "#     equal_weight_return,\n",
    "#     rf=risk_free_rate, \n",
    "#     figsize=(8, 5), \n",
    "#     title='Portfolio vs Equal Weight',\n",
    "#     benchmark_title=\"Equal Weight Portfolio\",\n",
    "#     ) "
   ]
  }
 ],
 "metadata": {
  "kernelspec": {
   "display_name": ".venv",
   "language": "python",
   "name": "python3"
  },
  "language_info": {
   "codemirror_mode": {
    "name": "ipython",
    "version": 3
   },
   "file_extension": ".py",
   "mimetype": "text/x-python",
   "name": "python",
   "nbconvert_exporter": "python",
   "pygments_lexer": "ipython3",
   "version": "3.13.3"
  }
 },
 "nbformat": 4,
 "nbformat_minor": 5
}
